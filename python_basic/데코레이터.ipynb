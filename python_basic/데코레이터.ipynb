{
 "cells": [
  {
   "cell_type": "markdown",
   "id": "aa15a3d4",
   "metadata": {},
   "source": [
    "# 데코레이터"
   ]
  },
  {
   "cell_type": "code",
   "execution_count": 2,
   "id": "4f37c8f4",
   "metadata": {},
   "outputs": [],
   "source": [
    "class Calc:\n",
    "    @staticmethod #데코레이터\n",
    "    \n",
    "    def add(a, b):\n",
    "        print(a + b)"
   ]
  },
  {
   "cell_type": "markdown",
   "id": "712f9b5e",
   "metadata": {},
   "source": [
    "## 데코레이터 만들기"
   ]
  },
  {
   "cell_type": "code",
   "execution_count": 3,
   "id": "180a21f7",
   "metadata": {},
   "outputs": [
    {
     "name": "stdout",
     "output_type": "stream",
     "text": [
      "hello 함수 시작\n",
      "hello\n",
      "hello 함수 끝\n",
      "world 함수 시작\n",
      "world\n",
      "world 함수 끝\n"
     ]
    }
   ],
   "source": [
    "def hello():\n",
    "    print('hello 함수 시작')\n",
    "    print('hello')\n",
    "    print('hello 함수 끝')\n",
    "    \n",
    "def world():\n",
    "    print('world 함수 시작')\n",
    "    print('world')\n",
    "    print('world 함수 끝')\n",
    "\n",
    "hello()\n",
    "world()"
   ]
  },
  {
   "cell_type": "code",
   "execution_count": 6,
   "id": "277555a1",
   "metadata": {},
   "outputs": [
    {
     "name": "stdout",
     "output_type": "stream",
     "text": [
      "hello 함수시작\n",
      "hello\n",
      "hello 함수끝\n",
      "world 함수시작\n",
      "world\n",
      "world 함수끝\n"
     ]
    }
   ],
   "source": [
    "def trace(func):\n",
    "    def wrapper():\n",
    "        print(func.__name__, '함수시작')\n",
    "        func()\n",
    "        print(func.__name__, '함수끝')\n",
    "        \n",
    "    return wrapper\n",
    "\n",
    "def hello():\n",
    "    print('hello')\n",
    "    \n",
    "def world():\n",
    "    print('world')\n",
    "    \n",
    "trace_hello = trace(hello)\n",
    "trace_hello()\n",
    "\n",
    "trace_world = trace(world)\n",
    "trace_world()"
   ]
  },
  {
   "cell_type": "markdown",
   "id": "966b31a5",
   "metadata": {},
   "source": [
    "### @으로 데코레이터 사용하기"
   ]
  },
  {
   "cell_type": "code",
   "execution_count": 7,
   "id": "ee6dd544",
   "metadata": {},
   "outputs": [
    {
     "name": "stdout",
     "output_type": "stream",
     "text": [
      "hello 함수시작\n",
      "hello\n",
      "hello 함수끝\n",
      "world 함수시작\n",
      "world\n",
      "world 함수끝\n"
     ]
    }
   ],
   "source": [
    "def trace(func):\n",
    "    def wrapper():\n",
    "        print(func.__name__, '함수시작')\n",
    "        func()\n",
    "        print(func.__name__, '함수끝')\n",
    "        \n",
    "    return wrapper\n",
    "\n",
    "\n",
    "@trace\n",
    "def hello():\n",
    "    print('hello')\n",
    "\n",
    "@trace\n",
    "def world():\n",
    "    print('world')\n",
    "    \n",
    "hello()\n",
    "world()"
   ]
  },
  {
   "cell_type": "code",
   "execution_count": 9,
   "id": "b9a9f093",
   "metadata": {},
   "outputs": [
    {
     "name": "stdout",
     "output_type": "stream",
     "text": [
      "d1\n",
      "d2\n",
      "hello\n"
     ]
    }
   ],
   "source": [
    "def d1(func):\n",
    "    def wrapper():\n",
    "        print('d1')\n",
    "        func()\n",
    "    return wrapper\n",
    "\n",
    "def d2(func):\n",
    "    def wrapper():\n",
    "        print('d2')\n",
    "        func()\n",
    "    return wrapper\n",
    "\n",
    "@d1\n",
    "@d2\n",
    "def hello():\n",
    "    print('hello')\n",
    "    \n",
    "hello()"
   ]
  },
  {
   "cell_type": "markdown",
   "id": "d46e5ad0",
   "metadata": {},
   "source": [
    "## 매개변수와 반환값을 처리하는 데코레이터 만들기"
   ]
  },
  {
   "cell_type": "code",
   "execution_count": 12,
   "id": "8c20b8db",
   "metadata": {},
   "outputs": [
    {
     "name": "stdout",
     "output_type": "stream",
     "text": [
      "add(a = 10, b = 20) -> 30\n",
      "30\n"
     ]
    }
   ],
   "source": [
    "def trace(func):\n",
    "    def wrapper(a, b):\n",
    "        r = func(a, b)\n",
    "        print('{}(a = {}, b = {}) -> {}'.format(func.__name__, a, b, r))\n",
    "        return r\n",
    "    return wrapper\n",
    "              \n",
    "@trace\n",
    "def add(a, b):\n",
    "    return a + b\n",
    "              \n",
    "print(add(10, 20))"
   ]
  },
  {
   "cell_type": "markdown",
   "id": "e1f9137f",
   "metadata": {},
   "source": [
    "### 가변 인수 함수 데코레이터"
   ]
  },
  {
   "cell_type": "code",
   "execution_count": 13,
   "id": "67907831",
   "metadata": {},
   "outputs": [
    {
     "name": "stdout",
     "output_type": "stream",
     "text": [
      "get_max(args = (10, 20), kwargs = {}) -> 20\n",
      "20\n",
      "get_min(args = (), kwargs = {'x': 10, 'y': 20, 'z': 30}) -> 10\n",
      "10\n"
     ]
    }
   ],
   "source": [
    "def trace(func):\n",
    "    def wrapper(*args, **kwargs):\n",
    "        r = func(*args, **kwargs)\n",
    "        print('{}(args = {}, kwargs = {}) -> {}'.format(func.__name__, args, kwargs, r))\n",
    "        return r\n",
    "    return wrapper\n",
    "\n",
    "@trace\n",
    "def get_max(*args):\n",
    "    return max(args)\n",
    "\n",
    "@trace\n",
    "def get_min(**kwargs):\n",
    "    return min(kwargs.values())\n",
    "\n",
    "print(get_max(10, 20))\n",
    "print(get_min(x = 10, y = 20, z = 30))"
   ]
  },
  {
   "cell_type": "markdown",
   "id": "cd155a86",
   "metadata": {},
   "source": [
    "## 매개변수가 있는 데코레이터 만들기"
   ]
  },
  {
   "cell_type": "code",
   "execution_count": 16,
   "id": "adb68599",
   "metadata": {},
   "outputs": [
    {
     "name": "stdout",
     "output_type": "stream",
     "text": [
      "add의 반환값은 3의 배수입니다.\n",
      "30\n",
      "add의 반환값은 3의 배수가 아닙니다.\n",
      "7\n"
     ]
    }
   ],
   "source": [
    "def is_multiple(x):\n",
    "    def real_decorator(func):\n",
    "        def wrapper(a, b):\n",
    "            r = func(a, b)\n",
    "            if r % x == 0:\n",
    "                print('{}의 반환값은 {}의 배수입니다.'.format(func.__name__, x))\n",
    "            else:\n",
    "                print('{}의 반환값은 {}의 배수가 아닙니다.'.format(func.__name__, x))\n",
    "            \n",
    "            return r\n",
    "        return wrapper\n",
    "    return real_decorator\n",
    "\n",
    "@is_multiple(3)\n",
    "def add(a, b):\n",
    "    return a + b\n",
    "\n",
    "print(add(10, 20))\n",
    "print(add(2, 5))"
   ]
  },
  {
   "cell_type": "markdown",
   "id": "d8bded21",
   "metadata": {},
   "source": [
    "## 클래스로 데코레이터 만들기"
   ]
  },
  {
   "cell_type": "code",
   "execution_count": 20,
   "id": "e217c399",
   "metadata": {},
   "outputs": [
    {
     "name": "stdout",
     "output_type": "stream",
     "text": [
      "hello 함수시작\n",
      "hello\n",
      "hello 함수끝\n"
     ]
    }
   ],
   "source": [
    "class Trace:\n",
    "    def __init__(self, func):\n",
    "        self.func = func\n",
    "        \n",
    "    def __call__(self):\n",
    "        print(self.func.__name__, '함수시작')\n",
    "        self.func()\n",
    "        print(self.func.__name__, '함수끝')\n",
    "        \n",
    "\n",
    "@Trace\n",
    "def hello():\n",
    "    print('hello')\n",
    "\n",
    "    \n",
    "hello()"
   ]
  },
  {
   "cell_type": "markdown",
   "id": "98e79c70",
   "metadata": {},
   "source": [
    "## 클래스로 매개변수와 반환값을 처리하는 데코레이터 만들기"
   ]
  },
  {
   "cell_type": "code",
   "execution_count": 22,
   "id": "2b66d1be",
   "metadata": {},
   "outputs": [
    {
     "name": "stdout",
     "output_type": "stream",
     "text": [
      "add(args = (10, 20), kwargs = {}) -> 30\n",
      "30\n",
      "add(args = (), kwargs = {'a': 10, 'b': 20}) -> 30\n",
      "30\n"
     ]
    }
   ],
   "source": [
    "class Trace:\n",
    "    def __init__(self, func):\n",
    "        self.func = func\n",
    "\n",
    "    def __call__(self, *args, **kwargs):\n",
    "        r = self.func(*args, **kwargs)\n",
    "        print('{}(args = {}, kwargs = {}) -> {}'.format(self.func.__name__, args, kwargs, r))\n",
    "        return r\n",
    "\n",
    "\n",
    "@Trace\n",
    "def add(a, b):\n",
    "    return a + b\n",
    "\n",
    "print(add(10, 20))\n",
    "print(add(a = 10, b = 20))"
   ]
  },
  {
   "cell_type": "markdown",
   "id": "4dc39d38",
   "metadata": {},
   "source": [
    "### 클래스로 매개변수가 있는 데코레이터 만들기"
   ]
  },
  {
   "cell_type": "code",
   "execution_count": 23,
   "id": "e2f751b6",
   "metadata": {},
   "outputs": [
    {
     "name": "stdout",
     "output_type": "stream",
     "text": [
      "add의 반환값은 3의 배수입니다.\n",
      "30\n",
      "add의 반환값은 3의 배수가 아닙니다.\n",
      "7\n"
     ]
    }
   ],
   "source": [
    "class IsMultiple:\n",
    "    def __init__(self, x):\n",
    "        self.x = x\n",
    "        \n",
    "    def __call__(self, func):\n",
    "        def wrapper(a, b):\n",
    "            r = func(a, b)\n",
    "            \n",
    "            if r % self.x == 0:\n",
    "                print('{}의 반환값은 {}의 배수입니다.'.format(func.__name__, self.x))\n",
    "            else:\n",
    "                print('{}의 반환값은 {}의 배수가 아닙니다.'.format(func.__name__, self.x))\n",
    "            \n",
    "            return r\n",
    "        return wrapper\n",
    "\n",
    "\n",
    "@IsMultiple(3)\n",
    "def add(a, b):\n",
    "    return a + b\n",
    "\n",
    "print(add(10, 20))\n",
    "print(add(2, 5))"
   ]
  },
  {
   "cell_type": "code",
   "execution_count": null,
   "id": "007bb9fd",
   "metadata": {},
   "outputs": [],
   "source": []
  },
  {
   "cell_type": "code",
   "execution_count": null,
   "id": "a6bbda7a",
   "metadata": {},
   "outputs": [],
   "source": []
  },
  {
   "cell_type": "code",
   "execution_count": null,
   "id": "a2050bfc",
   "metadata": {},
   "outputs": [],
   "source": []
  }
 ],
 "metadata": {
  "kernelspec": {
   "display_name": "Python 3 (ipykernel)",
   "language": "python",
   "name": "python3"
  },
  "language_info": {
   "codemirror_mode": {
    "name": "ipython",
    "version": 3
   },
   "file_extension": ".py",
   "mimetype": "text/x-python",
   "name": "python",
   "nbconvert_exporter": "python",
   "pygments_lexer": "ipython3",
   "version": "3.11.4"
  },
  "toc": {
   "base_numbering": 1,
   "nav_menu": {},
   "number_sections": true,
   "sideBar": true,
   "skip_h1_title": false,
   "title_cell": "Table of Contents",
   "title_sidebar": "Contents",
   "toc_cell": false,
   "toc_position": {},
   "toc_section_display": true,
   "toc_window_display": false
  }
 },
 "nbformat": 4,
 "nbformat_minor": 5
}
