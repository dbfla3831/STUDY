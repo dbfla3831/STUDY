{
 "cells": [
  {
   "cell_type": "code",
   "execution_count": 8,
   "id": "866b2b9d",
   "metadata": {},
   "outputs": [],
   "source": [
    "from IPython.core.interactiveshell import InteractiveShell\n",
    "InteractiveShell.ast_node_interactivity=\"all\""
   ]
  },
  {
   "cell_type": "markdown",
   "id": "2d4d5051",
   "metadata": {},
   "source": [
    "# 리스트 조작하기"
   ]
  },
  {
   "cell_type": "markdown",
   "id": "3dcd6a63",
   "metadata": {},
   "source": [
    "## 리스트 추가\n",
    "\n",
    "- append : 요소 하나 추가\n",
    "\n",
    "- extend : 리스트를 연결하여 확장\n",
    "\n",
    "- insert : 특정 인덱스에 요소 추가"
   ]
  },
  {
   "cell_type": "code",
   "execution_count": 2,
   "id": "28122dbb",
   "metadata": {},
   "outputs": [
    {
     "name": "stdout",
     "output_type": "stream",
     "text": [
      "[10, 20, 30]\n",
      "[10, 20, 30, 40]\n",
      "4\n"
     ]
    }
   ],
   "source": [
    "# 리스트에 값 하나 추가\n",
    "a = [10, 20, 30]\n",
    "a\n",
    "\n",
    "a.append(40) # 리스트에 40 추가\n",
    "a\n",
    "len(a)"
   ]
  },
  {
   "cell_type": "code",
   "execution_count": 4,
   "id": "5ef470a3",
   "metadata": {},
   "outputs": [
    {
     "name": "stdout",
     "output_type": "stream",
     "text": [
      "[10]\n"
     ]
    }
   ],
   "source": [
    "a = [] # 빈 리스트 만들기\n",
    "a.append(10) # 리스트에 10 추가\n",
    "a"
   ]
  },
  {
   "cell_type": "code",
   "execution_count": 5,
   "id": "b6974ba0",
   "metadata": {},
   "outputs": [
    {
     "data": {
      "text/plain": [
       "[0, 1, 2, 3, 4]"
      ]
     },
     "execution_count": 5,
     "metadata": {},
     "output_type": "execute_result"
    }
   ],
   "source": [
    "# for문 사용하여 빈 리스트에 값 추가하기\n",
    "\n",
    "a = []\n",
    "\n",
    "for i in range(5):\n",
    "    a.append(i)\n",
    "    \n",
    "a"
   ]
  },
  {
   "cell_type": "markdown",
   "id": "19565bb6",
   "metadata": {},
   "source": [
    "### 리스트 안에 리스트 추가"
   ]
  },
  {
   "cell_type": "code",
   "execution_count": 6,
   "id": "26b89474",
   "metadata": {},
   "outputs": [
    {
     "data": {
      "text/plain": [
       "[10, 20, 30, [100, 200], 'cat']"
      ]
     },
     "execution_count": 6,
     "metadata": {},
     "output_type": "execute_result"
    },
    {
     "data": {
      "text/plain": [
       "5"
      ]
     },
     "execution_count": 6,
     "metadata": {},
     "output_type": "execute_result"
    },
    {
     "data": {
      "text/plain": [
       "100"
      ]
     },
     "execution_count": 6,
     "metadata": {},
     "output_type": "execute_result"
    }
   ],
   "source": [
    "a= [ 10, 20, 30]\n",
    "a.append([100, 200])\n",
    "a.append('cat')\n",
    "a\n",
    "len(a)\n",
    "a[3][0]"
   ]
  },
  {
   "cell_type": "markdown",
   "id": "6d73c530",
   "metadata": {},
   "source": [
    "### 리스트 확장하기\n",
    "\n",
    "- extend 이용"
   ]
  },
  {
   "cell_type": "code",
   "execution_count": 9,
   "id": "6904d186",
   "metadata": {},
   "outputs": [
    {
     "data": {
      "text/plain": [
       "[10, 20, 30, 100, 200]"
      ]
     },
     "execution_count": 9,
     "metadata": {},
     "output_type": "execute_result"
    }
   ],
   "source": [
    "a = [10, 20, 30]\n",
    "a.extend([100, 200])\n",
    "\n",
    "a"
   ]
  },
  {
   "cell_type": "markdown",
   "id": "3007b919",
   "metadata": {},
   "source": [
    "### 리스트의 특정 인덱스에 요소 추가\n",
    "\n",
    "- append, extend는 리스트 끝에 요소 추가\n",
    "\n",
    "-insert(인덱스, 값)이용"
   ]
  },
  {
   "cell_type": "code",
   "execution_count": 10,
   "id": "fdf62710",
   "metadata": {},
   "outputs": [
    {
     "data": {
      "text/plain": [
       "[10, 20, 100, 30]"
      ]
     },
     "execution_count": 10,
     "metadata": {},
     "output_type": "execute_result"
    }
   ],
   "source": [
    "a = [10, 20, 30]\n",
    "a.insert(2, 100) # 리스트 a의 2번째 자리에 100을 넣어라\n",
    "\n",
    "a"
   ]
  },
  {
   "cell_type": "code",
   "execution_count": 11,
   "id": "6eb5f75b",
   "metadata": {},
   "outputs": [
    {
     "data": {
      "text/plain": [
       "[10, [100, 200], 20, 30]"
      ]
     },
     "execution_count": 11,
     "metadata": {},
     "output_type": "execute_result"
    }
   ],
   "source": [
    "a = [10, 20, 30]\n",
    "a.insert(1, [100, 200])\n",
    "\n",
    "a"
   ]
  },
  {
   "cell_type": "code",
   "execution_count": 12,
   "id": "c13c7baa",
   "metadata": {},
   "outputs": [
    {
     "data": {
      "text/plain": [
       "[10, 100, 200, 30]"
      ]
     },
     "execution_count": 12,
     "metadata": {},
     "output_type": "execute_result"
    }
   ],
   "source": [
    "a = [10, 20, 30]\n",
    "a[1:2] = [100, 200] # 20을 100과 200으로\n",
    "\n",
    "a"
   ]
  },
  {
   "cell_type": "code",
   "execution_count": 13,
   "id": "16b6e78a",
   "metadata": {},
   "outputs": [
    {
     "data": {
      "text/plain": [
       "[10, 100, 200, 20, 30]"
      ]
     },
     "execution_count": 13,
     "metadata": {},
     "output_type": "execute_result"
    }
   ],
   "source": [
    "a = [10, 20, 30]\n",
    "a[1:1] = [100, 200] # 1번 자리에 100, 200을 추가\n",
    "\n",
    "a"
   ]
  },
  {
   "cell_type": "markdown",
   "id": "25c8b09b",
   "metadata": {},
   "source": [
    "## 리스트 요소 삭제"
   ]
  },
  {
   "cell_type": "markdown",
   "id": "7711c84a",
   "metadata": {},
   "source": [
    "### 리스트에서 요소 삭제\n",
    "\n",
    "- pop : 마지막 요소 또는 특정 인덱스의 요소 삭제\n",
    "\n",
    "- remove :  특정 값을 찾아서 삭제"
   ]
  },
  {
   "cell_type": "markdown",
   "id": "6f281a11",
   "metadata": {},
   "source": [
    "### 리스트에서 특정 인덱스의 요소 삭제\n",
    "\n",
    "- pop(인덱스) : 해당 인덱스의 요소 삭제\n",
    "\n",
    "- del도 사용 가능"
   ]
  },
  {
   "cell_type": "code",
   "execution_count": 14,
   "id": "f683d8e1",
   "metadata": {},
   "outputs": [
    {
     "data": {
      "text/plain": [
       "30"
      ]
     },
     "execution_count": 14,
     "metadata": {},
     "output_type": "execute_result"
    },
    {
     "data": {
      "text/plain": [
       "[10, 20]"
      ]
     },
     "execution_count": 14,
     "metadata": {},
     "output_type": "execute_result"
    }
   ],
   "source": [
    "a = [10, 20, 30]\n",
    "a.pop()\n",
    "\n",
    "a"
   ]
  },
  {
   "cell_type": "code",
   "execution_count": 15,
   "id": "78a6ca8b",
   "metadata": {},
   "outputs": [
    {
     "data": {
      "text/plain": [
       "20"
      ]
     },
     "execution_count": 15,
     "metadata": {},
     "output_type": "execute_result"
    },
    {
     "data": {
      "text/plain": [
       "[10, 30]"
      ]
     },
     "execution_count": 15,
     "metadata": {},
     "output_type": "execute_result"
    }
   ],
   "source": [
    "a = [10, 20, 30]\n",
    "a.pop(1)\n",
    "\n",
    "a"
   ]
  },
  {
   "cell_type": "code",
   "execution_count": 16,
   "id": "dbf06e84",
   "metadata": {},
   "outputs": [
    {
     "data": {
      "text/plain": [
       "[10, 30]"
      ]
     },
     "execution_count": 16,
     "metadata": {},
     "output_type": "execute_result"
    }
   ],
   "source": [
    "a = [10, 20, 30]\n",
    "del a[1]\n",
    "\n",
    "a"
   ]
  },
  {
   "cell_type": "markdown",
   "id": "7905acb9",
   "metadata": {},
   "source": [
    "### 리스트에서 특정 값을 찾아서 삭제\n",
    "\n",
    "- remove(값)"
   ]
  },
  {
   "cell_type": "code",
   "execution_count": 17,
   "id": "91ca9a02",
   "metadata": {},
   "outputs": [
    {
     "data": {
      "text/plain": [
       "[10, 30]"
      ]
     },
     "execution_count": 17,
     "metadata": {},
     "output_type": "execute_result"
    }
   ],
   "source": [
    "a = [10, 20, 30]\n",
    "a.remove(20)\n",
    "\n",
    "a"
   ]
  },
  {
   "cell_type": "markdown",
   "id": "f39ecf8c",
   "metadata": {},
   "source": [
    "## 리스트에서 특정 인덱스 구하기\n",
    "\n",
    "- index(값)"
   ]
  },
  {
   "cell_type": "code",
   "execution_count": 18,
   "id": "dab7c9e8",
   "metadata": {},
   "outputs": [
    {
     "data": {
      "text/plain": [
       "0"
      ]
     },
     "execution_count": 18,
     "metadata": {},
     "output_type": "execute_result"
    }
   ],
   "source": [
    "a = [10, 20, 30, 15, 20, 40]\n",
    "a.index(10)"
   ]
  },
  {
   "cell_type": "markdown",
   "id": "b89126e0",
   "metadata": {},
   "source": [
    "## 특정 값의 개수 구하기\n",
    "\n",
    "- count(값)"
   ]
  },
  {
   "cell_type": "code",
   "execution_count": 19,
   "id": "0b90b4f6",
   "metadata": {},
   "outputs": [
    {
     "data": {
      "text/plain": [
       "2"
      ]
     },
     "execution_count": 19,
     "metadata": {},
     "output_type": "execute_result"
    }
   ],
   "source": [
    "a = [10, 20, 30, 15, 20, 40]\n",
    "a.count(20)"
   ]
  },
  {
   "cell_type": "markdown",
   "id": "1477a783",
   "metadata": {},
   "source": [
    "## 리스트의 순서 뒤집기\n",
    "\n",
    "- reverse()"
   ]
  },
  {
   "cell_type": "code",
   "execution_count": 20,
   "id": "dfbc4546",
   "metadata": {},
   "outputs": [
    {
     "data": {
      "text/plain": [
       "[40, 20, 15, 30, 20, 10]"
      ]
     },
     "execution_count": 20,
     "metadata": {},
     "output_type": "execute_result"
    }
   ],
   "source": [
    "a = [10, 20, 30, 15, 20, 40]\n",
    "a.reverse()\n",
    "\n",
    "a"
   ]
  },
  {
   "cell_type": "markdown",
   "id": "b7a05dd4",
   "metadata": {},
   "source": [
    "## 리스트의 요소를 정렬\n",
    "\n",
    "- sort(), sort(reverse = False) : 오름차순\n",
    "\n",
    "- sort(reverse = True) : 내림차순"
   ]
  },
  {
   "cell_type": "code",
   "execution_count": 21,
   "id": "5202df45",
   "metadata": {},
   "outputs": [
    {
     "data": {
      "text/plain": [
       "[10, 15, 20, 20, 30, 40]"
      ]
     },
     "execution_count": 21,
     "metadata": {},
     "output_type": "execute_result"
    }
   ],
   "source": [
    "a = [10, 20, 30, 15, 20, 40]\n",
    "a.sort() # a의 내용을 변경하여 정렬(메서드를 사용하여 변경)\n",
    "\n",
    "a"
   ]
  },
  {
   "cell_type": "code",
   "execution_count": 22,
   "id": "f17b8d4f",
   "metadata": {},
   "outputs": [
    {
     "data": {
      "text/plain": [
       "[10, 20, 30, 15, 20, 40]"
      ]
     },
     "execution_count": 22,
     "metadata": {},
     "output_type": "execute_result"
    }
   ],
   "source": [
    "b = [10, 20, 30, 15, 20, 40]\n",
    "\n",
    "b # 정렬된 새 리스트를 생성, 원본은 변경되지 않음"
   ]
  },
  {
   "cell_type": "markdown",
   "id": "a246f7c6",
   "metadata": {},
   "source": [
    "## 리스트의 모든 요소 삭제\n",
    "\n",
    "- clear()"
   ]
  },
  {
   "cell_type": "code",
   "execution_count": 23,
   "id": "b0c51ca2",
   "metadata": {},
   "outputs": [
    {
     "data": {
      "text/plain": [
       "[]"
      ]
     },
     "execution_count": 23,
     "metadata": {},
     "output_type": "execute_result"
    }
   ],
   "source": [
    "a = [10, 20, 30]\n",
    "a.clear()\n",
    "\n",
    "a"
   ]
  },
  {
   "cell_type": "markdown",
   "id": "71c9e091",
   "metadata": {},
   "source": [
    "## 리스트의 할당과 복사\n",
    "\n",
    "- b = a : 리스트 b의 값을 변경하면 리스트 a의 값도 변경\n",
    "\n",
    "- b = a.copy() : a, b는 서로 다른 리스트이다"
   ]
  },
  {
   "cell_type": "code",
   "execution_count": 24,
   "id": "f871d2c0",
   "metadata": {},
   "outputs": [
    {
     "data": {
      "text/plain": [
       "[10, 20, 99, 40]"
      ]
     },
     "execution_count": 24,
     "metadata": {},
     "output_type": "execute_result"
    },
    {
     "data": {
      "text/plain": [
       "[10, 20, 99, 40]"
      ]
     },
     "execution_count": 24,
     "metadata": {},
     "output_type": "execute_result"
    }
   ],
   "source": [
    "a = [10, 20, 30, 40]\n",
    "b = a\n",
    "b[2] = 99\n",
    "\n",
    "\n",
    "a\n",
    "b"
   ]
  },
  {
   "cell_type": "code",
   "execution_count": 25,
   "id": "62f414af",
   "metadata": {},
   "outputs": [
    {
     "data": {
      "text/plain": [
       "[10, 20, 30, 40]"
      ]
     },
     "execution_count": 25,
     "metadata": {},
     "output_type": "execute_result"
    },
    {
     "data": {
      "text/plain": [
       "[10, 20, 100, 40]"
      ]
     },
     "execution_count": 25,
     "metadata": {},
     "output_type": "execute_result"
    }
   ],
   "source": [
    "a = [10, 20, 30, 40]\n",
    "b = a.copy()\n",
    "b[2] = 100\n",
    "\n",
    "a\n",
    "b"
   ]
  },
  {
   "cell_type": "markdown",
   "id": "147ab36f",
   "metadata": {},
   "source": [
    "## 반복문으로 리스트의 요소를 모두 출력"
   ]
  },
  {
   "cell_type": "code",
   "execution_count": 27,
   "id": "ba0c3f75",
   "metadata": {},
   "outputs": [
    {
     "name": "stdout",
     "output_type": "stream",
     "text": [
      "38,21,53,62,19,"
     ]
    }
   ],
   "source": [
    "# for문\n",
    "\n",
    "a = [38, 21, 53, 62, 19]\n",
    "for i in a:\n",
    "    print(i, end = ',')"
   ]
  },
  {
   "cell_type": "markdown",
   "id": "d7a89fe4",
   "metadata": {},
   "source": [
    "### 인덱스와 요소를 함께 출력"
   ]
  },
  {
   "cell_type": "code",
   "execution_count": 28,
   "id": "41cc03db",
   "metadata": {},
   "outputs": [
    {
     "name": "stdout",
     "output_type": "stream",
     "text": [
      "0번째 38\n",
      "1번째 21\n",
      "2번째 53\n",
      "3번째 62\n",
      "4번째 19\n"
     ]
    }
   ],
   "source": [
    "a = [38, 21, 53, 62, 19]\n",
    "for ind, val in enumerate(a):\n",
    "    print(ind, \"번째 \", val, sep = \"\")\n"
   ]
  },
  {
   "cell_type": "code",
   "execution_count": 29,
   "id": "8df34178",
   "metadata": {},
   "outputs": [
    {
     "name": "stdout",
     "output_type": "stream",
     "text": [
      "38\n",
      "21\n",
      "53\n",
      "62\n",
      "19\n"
     ]
    }
   ],
   "source": [
    "# while문\n",
    "\n",
    "a = [38, 21, 53, 62, 19]\n",
    "i = 0\n",
    "while i < len(a):\n",
    "    print(a[i])\n",
    "    i += 1\n"
   ]
  },
  {
   "cell_type": "markdown",
   "id": "8f2fbbc2",
   "metadata": {},
   "source": [
    "## 리스트의 가장 작은 수, 가장 큰 수, 합계 구하기"
   ]
  },
  {
   "cell_type": "markdown",
   "id": "a5a8aea4",
   "metadata": {},
   "source": [
    "### 가장 작은 수"
   ]
  },
  {
   "cell_type": "code",
   "execution_count": 30,
   "id": "a343a35b",
   "metadata": {},
   "outputs": [
    {
     "name": "stdout",
     "output_type": "stream",
     "text": [
      "가장 작은 수 : 19\n"
     ]
    }
   ],
   "source": [
    "a = [38, 21, 53, 62, 19, 59]\n",
    "small_lst = a[0]\n",
    "for i in a:\n",
    "    if i < small_lst:\n",
    "        small_lst = i\n",
    "print(\"가장 작은 수 :\", small_lst)"
   ]
  },
  {
   "cell_type": "code",
   "execution_count": 31,
   "id": "bbd62c68",
   "metadata": {},
   "outputs": [
    {
     "name": "stdout",
     "output_type": "stream",
     "text": [
      "19\n"
     ]
    }
   ],
   "source": [
    "a = [38, 21, 53, 62, 19, 59]\n",
    "print(min(a))"
   ]
  },
  {
   "cell_type": "markdown",
   "id": "6229a78f",
   "metadata": {},
   "source": [
    "### 합계 구하기"
   ]
  },
  {
   "cell_type": "code",
   "execution_count": 32,
   "id": "ae2e883c",
   "metadata": {},
   "outputs": [
    {
     "data": {
      "text/plain": [
       "100"
      ]
     },
     "execution_count": 32,
     "metadata": {},
     "output_type": "execute_result"
    }
   ],
   "source": [
    "a = [10, 20, 30, 40]\n",
    "tot = 0\n",
    "for i in a:\n",
    "    tot += i\n",
    "\n",
    "tot"
   ]
  },
  {
   "cell_type": "markdown",
   "id": "136686a2",
   "metadata": {},
   "source": [
    "## 리스트 표현 식 사용\n",
    "\n",
    "- [식 for 변수 in 리스트]\n",
    "\n",
    "- list(식 for 변수 in 리스트)"
   ]
  },
  {
   "cell_type": "code",
   "execution_count": 33,
   "id": "4cbf5136",
   "metadata": {},
   "outputs": [
    {
     "data": {
      "text/plain": [
       "[0, 1, 2, 3, 4, 5, 6, 7, 8, 9]"
      ]
     },
     "execution_count": 33,
     "metadata": {},
     "output_type": "execute_result"
    }
   ],
   "source": [
    "a = [i for i in range(10)]\n",
    " \n",
    "a"
   ]
  },
  {
   "cell_type": "code",
   "execution_count": 34,
   "id": "0b0fd474",
   "metadata": {},
   "outputs": [
    {
     "data": {
      "text/plain": [
       "[0, 1, 2, 3, 4, 5, 6, 7, 8, 9]"
      ]
     },
     "execution_count": 34,
     "metadata": {},
     "output_type": "execute_result"
    }
   ],
   "source": [
    "b = list(i for i in range(10))\n",
    "\n",
    "b"
   ]
  },
  {
   "cell_type": "code",
   "execution_count": 35,
   "id": "8f5c72f8",
   "metadata": {},
   "outputs": [
    {
     "data": {
      "text/plain": [
       "[0, 2, 4, 6, 8, 10, 12, 14, 16, 18]"
      ]
     },
     "execution_count": 35,
     "metadata": {},
     "output_type": "execute_result"
    }
   ],
   "source": [
    "a = [i * 2 for i in range(10)]\n",
    "\n",
    "a"
   ]
  },
  {
   "cell_type": "markdown",
   "id": "9e40a6d3",
   "metadata": {},
   "source": [
    "### 리스트 표현식에서 if 조건문 사용\n",
    "\n",
    "- [식 for 변수 in 리스트 if 조건식]\n",
    "\n",
    "- list(식 if 변수 in 리스트 if 조건식)"
   ]
  },
  {
   "cell_type": "code",
   "execution_count": 36,
   "id": "3cf65afa",
   "metadata": {},
   "outputs": [
    {
     "data": {
      "text/plain": [
       "[0, 2, 4, 6, 8]"
      ]
     },
     "execution_count": 36,
     "metadata": {},
     "output_type": "execute_result"
    }
   ],
   "source": [
    "a = [i for i in range(10) if i % 2 == 0]\n",
    "\n",
    "a"
   ]
  },
  {
   "cell_type": "code",
   "execution_count": 37,
   "id": "98e73da9",
   "metadata": {},
   "outputs": [
    {
     "data": {
      "text/plain": [
       "[0, 2, 4, 6, 8]"
      ]
     },
     "execution_count": 37,
     "metadata": {},
     "output_type": "execute_result"
    }
   ],
   "source": [
    "lst = []\n",
    "for i in range(10):\n",
    "    if i % 2 == 0:\n",
    "        lst.append(i)\n",
    "\n",
    "lst"
   ]
  },
  {
   "cell_type": "code",
   "execution_count": 38,
   "id": "21430872",
   "metadata": {},
   "outputs": [
    {
     "data": {
      "text/plain": [
       "[0, 2, 4, 6, 8]"
      ]
     },
     "execution_count": 38,
     "metadata": {},
     "output_type": "execute_result"
    }
   ],
   "source": [
    "lst = []\n",
    "for i in range(0, 10, 2):\n",
    "    lst.append(i)\n",
    "\n",
    "lst"
   ]
  },
  {
   "cell_type": "markdown",
   "id": "2462dff5",
   "metadata": {},
   "source": [
    "### for반복문과 if 조건문을 여러 번 사용"
   ]
  },
  {
   "cell_type": "code",
   "execution_count": 39,
   "id": "aadcdd0b",
   "metadata": {
    "scrolled": true
   },
   "outputs": [
    {
     "data": {
      "text/plain": [
       "[2,\n",
       " 4,\n",
       " 6,\n",
       " 8,\n",
       " 10,\n",
       " 12,\n",
       " 14,\n",
       " 16,\n",
       " 18,\n",
       " 3,\n",
       " 6,\n",
       " 9,\n",
       " 12,\n",
       " 15,\n",
       " 18,\n",
       " 21,\n",
       " 24,\n",
       " 27,\n",
       " 4,\n",
       " 8,\n",
       " 12,\n",
       " 16,\n",
       " 20,\n",
       " 24,\n",
       " 28,\n",
       " 32,\n",
       " 36]"
      ]
     },
     "execution_count": 39,
     "metadata": {},
     "output_type": "execute_result"
    }
   ],
   "source": [
    "a = [i * j for i in range(2, 5) for j in range(1, 10)]\n",
    "\n",
    "a"
   ]
  },
  {
   "cell_type": "markdown",
   "id": "644abbe8",
   "metadata": {},
   "source": [
    "## 리스트에 map 사용하기\n",
    "\n",
    "- list(map(함수, 리스트)\n",
    "\n",
    "- tuple(map(함수, 튜플))"
   ]
  },
  {
   "cell_type": "code",
   "execution_count": 41,
   "id": "0d5c4bfc",
   "metadata": {},
   "outputs": [
    {
     "name": "stdout",
     "output_type": "stream",
     "text": [
      "1.2 => 1\n"
     ]
    }
   ],
   "source": [
    "a = [1.2, 3.5, 5.4, 4.5]\n",
    "print(a[0], \"=>\", int(a[0]))"
   ]
  },
  {
   "cell_type": "code",
   "execution_count": 42,
   "id": "e44673f0",
   "metadata": {},
   "outputs": [
    {
     "name": "stdout",
     "output_type": "stream",
     "text": [
      "1.2 => 1\n",
      "3.5 => 3\n",
      "5.4 => 5\n",
      "4.5 => 4\n"
     ]
    }
   ],
   "source": [
    "a = [1.2, 3.5, 5.4, 4.5]\n",
    "for i in range(len(a)):\n",
    "    print(a[i], \"=>\", int(a[i]))\n"
   ]
  },
  {
   "cell_type": "code",
   "execution_count": 43,
   "id": "f395690c",
   "metadata": {},
   "outputs": [
    {
     "data": {
      "text/plain": [
       "[1, 3, 5, 4]"
      ]
     },
     "execution_count": 43,
     "metadata": {},
     "output_type": "execute_result"
    }
   ],
   "source": [
    "a = [1.2, 3.5, 5.4, 4.5]\n",
    "a = list(map(int, a))\n",
    "\n",
    "a"
   ]
  },
  {
   "cell_type": "markdown",
   "id": "59f2f2d3",
   "metadata": {},
   "source": [
    "# 튜플 응용\n",
    "\n",
    "- 리스트처럼 추가, 변경, 삭제는 할 수 없다\n",
    "\n",
    "- 요소의 정보를 구하는 메서드만 사용\n",
    "\n",
    "- 인덱스 구하기, 특정 값의 개수 구하기, 요소 출력하기"
   ]
  },
  {
   "cell_type": "code",
   "execution_count": 44,
   "id": "94dd1101",
   "metadata": {},
   "outputs": [
    {
     "data": {
      "text/plain": [
       "2"
      ]
     },
     "execution_count": 44,
     "metadata": {},
     "output_type": "execute_result"
    }
   ],
   "source": [
    "# 특정 값의 인덱스 구하기\n",
    "a = (38, 21, 53, 62, 19, 59)\n",
    "a.index(53)"
   ]
  },
  {
   "cell_type": "code",
   "execution_count": 45,
   "id": "3c2d51c8",
   "metadata": {},
   "outputs": [
    {
     "data": {
      "text/plain": [
       "0"
      ]
     },
     "execution_count": 45,
     "metadata": {},
     "output_type": "execute_result"
    }
   ],
   "source": [
    "# 특정 값의 개수 구하기\n",
    "a = (38, 21, 53, 62, 19, 59)\n",
    "a.count(20)"
   ]
  },
  {
   "cell_type": "code",
   "execution_count": 46,
   "id": "1bf392bc",
   "metadata": {},
   "outputs": [
    {
     "name": "stdout",
     "output_type": "stream",
     "text": [
      "38 21 53 62 19 59 "
     ]
    }
   ],
   "source": [
    "# 요소 출력하기\n",
    "a = (38, 21, 53, 62, 19, 59)\n",
    "for i in a:\n",
    "    print(i, end = ' ')\n"
   ]
  },
  {
   "cell_type": "markdown",
   "id": "8ea0e3d5",
   "metadata": {},
   "source": [
    "## 튜플 표현식 사용"
   ]
  },
  {
   "cell_type": "code",
   "execution_count": 48,
   "id": "2b677d4f",
   "metadata": {},
   "outputs": [
    {
     "data": {
      "text/plain": [
       "(0, 2, 4, 6, 8)"
      ]
     },
     "execution_count": 48,
     "metadata": {},
     "output_type": "execute_result"
    }
   ],
   "source": [
    "a = tuple(i for i in range(10) if i % 2 == 0)\n",
    "\n",
    "a"
   ]
  },
  {
   "cell_type": "code",
   "execution_count": 49,
   "id": "b061ee95",
   "metadata": {},
   "outputs": [
    {
     "data": {
      "text/plain": [
       "(1, 3, 5, 4)"
      ]
     },
     "execution_count": 49,
     "metadata": {},
     "output_type": "execute_result"
    }
   ],
   "source": [
    "a = (1.2, 3.5, 5.4, 4.5)\n",
    "a = tuple(map(int, a))\n",
    "\n",
    "a"
   ]
  },
  {
   "cell_type": "code",
   "execution_count": 50,
   "id": "9a2e5cc6",
   "metadata": {},
   "outputs": [
    {
     "data": {
      "text/plain": [
       "5.4"
      ]
     },
     "execution_count": 50,
     "metadata": {},
     "output_type": "execute_result"
    },
    {
     "data": {
      "text/plain": [
       "1.2"
      ]
     },
     "execution_count": 50,
     "metadata": {},
     "output_type": "execute_result"
    }
   ],
   "source": [
    "a = (1.2, 3.5, 5.4, 4.5)\n",
    "\n",
    "max(a)\n",
    "min(a)"
   ]
  }
 ],
 "metadata": {
  "kernelspec": {
   "display_name": "Python 3 (ipykernel)",
   "language": "python",
   "name": "python3"
  },
  "language_info": {
   "codemirror_mode": {
    "name": "ipython",
    "version": 3
   },
   "file_extension": ".py",
   "mimetype": "text/x-python",
   "name": "python",
   "nbconvert_exporter": "python",
   "pygments_lexer": "ipython3",
   "version": "3.11.5"
  },
  "toc": {
   "base_numbering": 1,
   "nav_menu": {},
   "number_sections": true,
   "sideBar": true,
   "skip_h1_title": false,
   "title_cell": "Table of Contents",
   "title_sidebar": "Contents",
   "toc_cell": false,
   "toc_position": {
    "height": "calc(100% - 180px)",
    "left": "10px",
    "top": "150px",
    "width": "239.492px"
   },
   "toc_section_display": true,
   "toc_window_display": true
  }
 },
 "nbformat": 4,
 "nbformat_minor": 5
}
