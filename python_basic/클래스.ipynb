{
 "cells": [
  {
   "cell_type": "markdown",
   "id": "a0fabdf5",
   "metadata": {},
   "source": [
    "# 클래스"
   ]
  },
  {
   "cell_type": "markdown",
   "id": "f0442476",
   "metadata": {},
   "source": [
    "## 클래스와 매서드 만들기"
   ]
  },
  {
   "cell_type": "code",
   "execution_count": 12,
   "id": "e5d51d84",
   "metadata": {},
   "outputs": [
    {
     "name": "stdout",
     "output_type": "stream",
     "text": [
      "<class '__main__.Person'>\n"
     ]
    }
   ],
   "source": [
    "class Person: # class\n",
    "    def greeting(self): # 메서드(클래스 내 정의된 함수)\n",
    "        print('hello') # \n",
    "\n",
    "james = Person() # Person 클래스로 james 인스턴스 만들기\n",
    "print(type(james))"
   ]
  },
  {
   "cell_type": "markdown",
   "id": "01db7863",
   "metadata": {},
   "source": [
    "-> 인스턴스 = 클래스()"
   ]
  },
  {
   "cell_type": "markdown",
   "id": "8a43a52a",
   "metadata": {},
   "source": [
    "### 메서드 호출하기"
   ]
  },
  {
   "cell_type": "markdown",
   "id": "cadd9796",
   "metadata": {},
   "source": [
    "-> 인스턴스.메서드()"
   ]
  },
  {
   "cell_type": "code",
   "execution_count": 4,
   "id": "2f6acbb0",
   "metadata": {},
   "outputs": [
    {
     "name": "stdout",
     "output_type": "stream",
     "text": [
      "hello\n"
     ]
    }
   ],
   "source": [
    "james.greeting()"
   ]
  },
  {
   "cell_type": "markdown",
   "id": "ceea5f55",
   "metadata": {},
   "source": [
    "### 파이썬에서 흔히 볼 수 있는 클래스"
   ]
  },
  {
   "cell_type": "code",
   "execution_count": 11,
   "id": "7e9ff520",
   "metadata": {},
   "outputs": [
    {
     "name": "stdout",
     "output_type": "stream",
     "text": [
      "10\n",
      "<class 'int'>\n",
      "[0, 1, 2, 3, 4, 5, 6, 7, 8, 9]\n",
      "<class 'list'>\n",
      "{'x': 10, 'y': 20}\n",
      "<class 'dict'>\n"
     ]
    }
   ],
   "source": [
    "a = int(10)\n",
    "print(a)\n",
    "print(type(a))\n",
    "\n",
    "b = list(range(10))\n",
    "print(b)\n",
    "print(type(b))\n",
    "\n",
    "c = dict(x = 10, y = 20) # c = {'x' : 10, 'y' : 20}\n",
    "print(c)\n",
    "print(type(c))"
   ]
  },
  {
   "cell_type": "code",
   "execution_count": 8,
   "id": "01cc7212",
   "metadata": {},
   "outputs": [
    {
     "name": "stdout",
     "output_type": "stream",
     "text": [
      "[0, 1, 2, 3, 4, 5, 6, 7, 8, 9]\n",
      "[0, 1, 2, 3, 4, 5, 6, 7, 8, 9, 10]\n"
     ]
    }
   ],
   "source": [
    "b = list(range(10))\n",
    "print(b)\n",
    "b.append(10)\n",
    "print(b)"
   ]
  },
  {
   "cell_type": "markdown",
   "id": "d2000576",
   "metadata": {},
   "source": [
    "### 메서드 안에서 메서드 호출하기"
   ]
  },
  {
   "cell_type": "code",
   "execution_count": 14,
   "id": "df87e4a2",
   "metadata": {},
   "outputs": [
    {
     "name": "stdout",
     "output_type": "stream",
     "text": [
      "hello\n"
     ]
    }
   ],
   "source": [
    "class Person:\n",
    "    def greeting(self):\n",
    "        print('hello')\n",
    "        \n",
    "    def hello(self):\n",
    "        self.greeting()\n",
    "        \n",
    "james = Person()\n",
    "james.hello()"
   ]
  },
  {
   "cell_type": "code",
   "execution_count": null,
   "id": "df9f63c3",
   "metadata": {},
   "outputs": [],
   "source": []
  },
  {
   "cell_type": "code",
   "execution_count": 19,
   "id": "22cc70f1",
   "metadata": {},
   "outputs": [
    {
     "data": {
      "text/plain": [
       "True"
      ]
     },
     "execution_count": 19,
     "metadata": {},
     "output_type": "execute_result"
    }
   ],
   "source": [
    "class Person:\n",
    "    pass\n",
    "\n",
    "james = Person()\n",
    "isinstance(james, Person) # 현재 인스턴스가 특정 클래스의 인스턴스인지 확인"
   ]
  },
  {
   "cell_type": "code",
   "execution_count": 21,
   "id": "cf38c22b",
   "metadata": {},
   "outputs": [
    {
     "name": "stdout",
     "output_type": "stream",
     "text": [
      "120\n",
      "None\n",
      "None\n"
     ]
    }
   ],
   "source": [
    "def factorial(n):\n",
    "    if not isinstance(n, int) or n < 0: # 정수가 아니거나 0보다 작으면\n",
    "        return None\n",
    "    if n == 1:\n",
    "        return 1\n",
    "    return n * factorial(n - 1)\n",
    "\n",
    "print(factorial(5))\n",
    "print(factorial(-5))\n",
    "print(factorial(0.5))"
   ]
  },
  {
   "cell_type": "code",
   "execution_count": null,
   "id": "2f94c2e5",
   "metadata": {},
   "outputs": [],
   "source": []
  },
  {
   "cell_type": "markdown",
   "id": "5926a560",
   "metadata": {},
   "source": [
    "## 속성 사용하기"
   ]
  },
  {
   "cell_type": "code",
   "execution_count": 25,
   "id": "0c67762d",
   "metadata": {},
   "outputs": [
    {
     "name": "stdout",
     "output_type": "stream",
     "text": [
      "안녕하세요\n",
      "안녕히가세요\n"
     ]
    }
   ],
   "source": [
    "class Person():\n",
    "    \n",
    "    def __init__(self):\n",
    "        self.hello = '안녕하세요'\n",
    "        self.bye = '안녕히가세요'\n",
    "        \n",
    "    def greeting(self):\n",
    "        print(self.hello)\n",
    "        \n",
    "    def goodbye(self):\n",
    "        print(self.bye)\n",
    "        \n",
    "james = Person()\n",
    "james.greeting()\n",
    "james.goodbye()"
   ]
  },
  {
   "cell_type": "markdown",
   "id": "5bfee302",
   "metadata": {},
   "source": [
    "### 인스턴스를 만들 때 값 받기"
   ]
  },
  {
   "cell_type": "code",
   "execution_count": 30,
   "id": "8d4238f8",
   "metadata": {},
   "outputs": [
    {
     "name": "stdout",
     "output_type": "stream",
     "text": [
      "안녕하세요 저는 마리아입니다\n",
      "이름 :  마리아\n",
      "나이 :  24\n",
      "주소 :  수원시\n"
     ]
    }
   ],
   "source": [
    "class Person:\n",
    "    def __init__(self, name, age, address):\n",
    "        self.hello = '안녕하세요' \n",
    "        self.name = name\n",
    "        self.age = age\n",
    "        self.address = address\n",
    "        \n",
    "    def gretting(self):\n",
    "        print('{} 저는 {}입니다'.format(self.hello, self.name)) # 클래스 안에서 속성에 접근하기 위해서는 self.속성\n",
    "        \n",
    "maria = Person('마리아', 24, '수원시')\n",
    "maria.gretting()\n",
    "\n",
    "print('이름 : ', maria.name) # 클래서 밖에서 속성에 접근하기 위해서는 인스턴스.속성\n",
    "print('나이 : ', maria.age)\n",
    "print('주소 : ', maria.address)"
   ]
  },
  {
   "cell_type": "markdown",
   "id": "8751f5ea",
   "metadata": {},
   "source": [
    "### 클래스의 위치 인수, 키워드 인수"
   ]
  },
  {
   "cell_type": "code",
   "execution_count": 34,
   "id": "013cff36",
   "metadata": {},
   "outputs": [
    {
     "name": "stdout",
     "output_type": "stream",
     "text": [
      "name :  maria\n"
     ]
    }
   ],
   "source": [
    "class Person:\n",
    "    def __init__(self, *args):\n",
    "        self.name = args[0]\n",
    "        self.age = args[1]        \n",
    "        self.address = args[2]\n",
    "        \n",
    "maria = Person(*['maria', 24, '수원시'])        \n",
    "print('name : ',maria.name)"
   ]
  },
  {
   "cell_type": "code",
   "execution_count": 39,
   "id": "6c0f7dda",
   "metadata": {},
   "outputs": [
    {
     "name": "stdout",
     "output_type": "stream",
     "text": [
      "name :  maria\n",
      "name :  maria\n"
     ]
    }
   ],
   "source": [
    "class Person:\n",
    "    def __init__(self, **kwargs):\n",
    "        self.name = kwargs['name']\n",
    "        self.age = kwargs['age']        \n",
    "        self.address = kwargs['address']\n",
    "        \n",
    "maria = Person(**{'name':'maria', 'age' : 24, \"address\" : '수원시'})\n",
    "maria2 = Person(name = 'maria', age = 24, address = '수원시')        \n",
    "\n",
    "print('name : ',maria.name)\n",
    "print('name : ',maria2.name)"
   ]
  },
  {
   "cell_type": "markdown",
   "id": "8ca4f881",
   "metadata": {},
   "source": [
    "###  인스턴스를 생성한 뒤에 속성 추가하기, 특정 속성만 허용"
   ]
  },
  {
   "cell_type": "code",
   "execution_count": 41,
   "id": "f385cf2e",
   "metadata": {},
   "outputs": [
    {
     "name": "stdout",
     "output_type": "stream",
     "text": [
      "maria\n"
     ]
    },
    {
     "ename": "AttributeError",
     "evalue": "'Person' object has no attribute 'name'",
     "output_type": "error",
     "traceback": [
      "\u001b[1;31m---------------------------------------------------------------------------\u001b[0m",
      "\u001b[1;31mAttributeError\u001b[0m                            Traceback (most recent call last)",
      "Cell \u001b[1;32mIn[41], line 9\u001b[0m\n\u001b[0;32m      6\u001b[0m \u001b[38;5;28mprint\u001b[39m(maria\u001b[38;5;241m.\u001b[39mname)\n\u001b[0;32m      8\u001b[0m james \u001b[38;5;241m=\u001b[39m Person()\n\u001b[1;32m----> 9\u001b[0m \u001b[38;5;28mprint\u001b[39m(james\u001b[38;5;241m.\u001b[39mname)\n",
      "\u001b[1;31mAttributeError\u001b[0m: 'Person' object has no attribute 'name'"
     ]
    }
   ],
   "source": [
    "class Person:\n",
    "    pass\n",
    "\n",
    "maria = Person()\n",
    "maria.name = 'maria'\n",
    "print(maria.name)\n",
    "\n",
    "james = Person()\n",
    "print(james.name)"
   ]
  },
  {
   "cell_type": "code",
   "execution_count": 42,
   "id": "aea7a592",
   "metadata": {},
   "outputs": [
    {
     "ename": "AttributeError",
     "evalue": "'Person' object has no attribute 'hello'",
     "output_type": "error",
     "traceback": [
      "\u001b[1;31m---------------------------------------------------------------------------\u001b[0m",
      "\u001b[1;31mAttributeError\u001b[0m                            Traceback (most recent call last)",
      "Cell \u001b[1;32mIn[42], line 6\u001b[0m\n\u001b[0;32m      3\u001b[0m         \u001b[38;5;28mself\u001b[39m\u001b[38;5;241m.\u001b[39mhello \u001b[38;5;241m=\u001b[39m \u001b[38;5;124m\"\u001b[39m\u001b[38;5;124m안녕하세요\u001b[39m\u001b[38;5;124m\"\u001b[39m\n\u001b[0;32m      5\u001b[0m maria \u001b[38;5;241m=\u001b[39m Person()\n\u001b[1;32m----> 6\u001b[0m \u001b[38;5;28mprint\u001b[39m(maria\u001b[38;5;241m.\u001b[39mhello)\n",
      "\u001b[1;31mAttributeError\u001b[0m: 'Person' object has no attribute 'hello'"
     ]
    }
   ],
   "source": [
    "class Person:\n",
    "    def greeting(self):\n",
    "        self.hello = \"안녕하세요\"\n",
    "        \n",
    "maria = Person()\n",
    "print(maria.hello)"
   ]
  },
  {
   "cell_type": "code",
   "execution_count": 43,
   "id": "2b615ed3",
   "metadata": {},
   "outputs": [
    {
     "name": "stdout",
     "output_type": "stream",
     "text": [
      "안녕하세요\n"
     ]
    }
   ],
   "source": [
    "class Person:\n",
    "    def greeting(self):\n",
    "        self.hello = \"안녕하세요\"\n",
    "        \n",
    "maria = Person()\n",
    "maria.greeting()\n",
    "print(maria.hello)"
   ]
  },
  {
   "cell_type": "markdown",
   "id": "d57ddfcc",
   "metadata": {},
   "source": [
    "__slots__ = ['속성이름1', '속성이름2'] : 다른 속성을 제한"
   ]
  },
  {
   "cell_type": "code",
   "execution_count": 45,
   "id": "ed4b3c06",
   "metadata": {},
   "outputs": [
    {
     "ename": "AttributeError",
     "evalue": "'Person' object has no attribute 'address'",
     "output_type": "error",
     "traceback": [
      "\u001b[1;31m---------------------------------------------------------------------------\u001b[0m",
      "\u001b[1;31mAttributeError\u001b[0m                            Traceback (most recent call last)",
      "Cell \u001b[1;32mIn[45], line 7\u001b[0m\n\u001b[0;32m      5\u001b[0m maria\u001b[38;5;241m.\u001b[39mname \u001b[38;5;241m=\u001b[39m \u001b[38;5;124m'\u001b[39m\u001b[38;5;124mmaria\u001b[39m\u001b[38;5;124m'\u001b[39m\n\u001b[0;32m      6\u001b[0m maria\u001b[38;5;241m.\u001b[39mage \u001b[38;5;241m=\u001b[39m \u001b[38;5;241m20\u001b[39m\n\u001b[1;32m----> 7\u001b[0m maria\u001b[38;5;241m.\u001b[39maddress \u001b[38;5;241m=\u001b[39m \u001b[38;5;124m'\u001b[39m\u001b[38;5;124m수원시\u001b[39m\u001b[38;5;124m'\u001b[39m\n",
      "\u001b[1;31mAttributeError\u001b[0m: 'Person' object has no attribute 'address'"
     ]
    }
   ],
   "source": [
    "class Person:\n",
    "    __slots__ = ['name', 'age']\n",
    "    \n",
    "maria = Person()\n",
    "maria.name = 'maria'\n",
    "maria.age = 20\n",
    "maria.address = '수원시'"
   ]
  },
  {
   "cell_type": "markdown",
   "id": "90a9a74f",
   "metadata": {},
   "source": [
    "## 비공개 속성 사용하기"
   ]
  },
  {
   "cell_type": "code",
   "execution_count": 50,
   "id": "6429ae95",
   "metadata": {},
   "outputs": [
    {
     "name": "stdout",
     "output_type": "stream",
     "text": [
      "maria\n"
     ]
    },
    {
     "ename": "AttributeError",
     "evalue": "'Person' object has no attribute '__wallet'",
     "output_type": "error",
     "traceback": [
      "\u001b[1;31m---------------------------------------------------------------------------\u001b[0m",
      "\u001b[1;31mAttributeError\u001b[0m                            Traceback (most recent call last)",
      "Cell \u001b[1;32mIn[50], line 10\u001b[0m\n\u001b[0;32m      8\u001b[0m maria \u001b[38;5;241m=\u001b[39m Person(\u001b[38;5;124m'\u001b[39m\u001b[38;5;124mmaria\u001b[39m\u001b[38;5;124m'\u001b[39m, \u001b[38;5;241m24\u001b[39m, \u001b[38;5;124m'\u001b[39m\u001b[38;5;124m수원시\u001b[39m\u001b[38;5;124m'\u001b[39m, \u001b[38;5;241m10000\u001b[39m)\n\u001b[0;32m      9\u001b[0m \u001b[38;5;28mprint\u001b[39m(maria\u001b[38;5;241m.\u001b[39mname)\n\u001b[1;32m---> 10\u001b[0m \u001b[38;5;28mprint\u001b[39m(maria\u001b[38;5;241m.\u001b[39m__wallet)\n",
      "\u001b[1;31mAttributeError\u001b[0m: 'Person' object has no attribute '__wallet'"
     ]
    }
   ],
   "source": [
    "class Person:\n",
    "    def __init__(self, name, age, address, wallet):\n",
    "        self.name = name\n",
    "        self.age = age\n",
    "        self.address = address\n",
    "        self.__wallet = wallet\n",
    "        \n",
    "maria = Person('maria', 24, '수원시', 10000)\n",
    "print(maria.name)\n",
    "print(maria.__wallet) # 클래스 밖에서 비공개 속성에 접근하면 에러가 발생"
   ]
  },
  {
   "cell_type": "code",
   "execution_count": 58,
   "id": "5621089f",
   "metadata": {},
   "outputs": [
    {
     "name": "stdout",
     "output_type": "stream",
     "text": [
      "9000원 남았습니다.\n"
     ]
    }
   ],
   "source": [
    "class Person:\n",
    "    def __init__(self, name, age, address, wallet):\n",
    "        self.name = name\n",
    "        self.age = age\n",
    "        self.address = address\n",
    "        self.__wallet = wallet\n",
    "    \n",
    "    def pay(self, amount):\n",
    "        self.__wallet -= amount\n",
    "        print(\"{}원 남았습니다.\".format(self.__wallet))\n",
    "        \n",
    "maria = Person('maria', 24, '수원시', 10000)\n",
    "maria.pay(1000)"
   ]
  },
  {
   "cell_type": "code",
   "execution_count": 66,
   "id": "003899f8",
   "metadata": {},
   "outputs": [
    {
     "name": "stdout",
     "output_type": "stream",
     "text": [
      "7000원 남았습니다\n",
      "None\n",
      "돈이 모자릅니다\n",
      "None\n"
     ]
    }
   ],
   "source": [
    "class Person:\n",
    "    def __init__(self, name, age, address, wallet):\n",
    "        self.name = name\n",
    "        self.age = age\n",
    "        self.address = address\n",
    "        self.__wallet = wallet\n",
    "    \n",
    "    def pay(self, amount):\n",
    "        if amount > self.__wallet:\n",
    "            print('돈이 모자릅니다')\n",
    "            return\n",
    "        self.__wallet -= amount\n",
    "        print(\"{}원 남았습니다\".format(self.__wallet))\n",
    "        \n",
    "maria = Person('maria', 24, '수원시', 10000)\n",
    "\n",
    "print(maria.pay(3000))\n",
    "print(maria.pay(13000))"
   ]
  },
  {
   "cell_type": "code",
   "execution_count": 69,
   "id": "3fec021c",
   "metadata": {},
   "outputs": [
    {
     "name": "stdout",
     "output_type": "stream",
     "text": [
      "hello\n",
      "None\n"
     ]
    },
    {
     "ename": "AttributeError",
     "evalue": "'Person' object has no attribute '__greeting'",
     "output_type": "error",
     "traceback": [
      "\u001b[1;31m---------------------------------------------------------------------------\u001b[0m",
      "\u001b[1;31mAttributeError\u001b[0m                            Traceback (most recent call last)",
      "Cell \u001b[1;32mIn[69], line 12\u001b[0m\n\u001b[0;32m     10\u001b[0m james \u001b[38;5;241m=\u001b[39m Person()\n\u001b[0;32m     11\u001b[0m \u001b[38;5;28mprint\u001b[39m(james\u001b[38;5;241m.\u001b[39mhello())\n\u001b[1;32m---> 12\u001b[0m \u001b[38;5;28mprint\u001b[39m(james\u001b[38;5;241m.\u001b[39m__greeting())\n",
      "\u001b[1;31mAttributeError\u001b[0m: 'Person' object has no attribute '__greeting'"
     ]
    }
   ],
   "source": [
    "# 비공개 메서드\n",
    "\n",
    "class Person:\n",
    "    def __greeting(self):\n",
    "        print('hello')\n",
    "        \n",
    "    def hello(self):\n",
    "        self.__greeting()\n",
    "        \n",
    "james = Person()\n",
    "print(james.hello())\n",
    "print(james.__greeting())"
   ]
  },
  {
   "cell_type": "markdown",
   "id": "4d90904b",
   "metadata": {},
   "source": [
    "## 연습"
   ]
  },
  {
   "cell_type": "code",
   "execution_count": 71,
   "id": "3f2f9cc3",
   "metadata": {},
   "outputs": [
    {
     "name": "stdout",
     "output_type": "stream",
     "text": [
      "542.2 210.3 38\n",
      "베기\n"
     ]
    }
   ],
   "source": [
    "# 34. 5 연습 문제 : 게임 캐릭터 클래스 만들기\n",
    "# 다음 소스 코드에서 클래스를 작성하여 게임 캐릭터의 능력치와 '베기'가 출력되게 만드세요.\n",
    "\n",
    "class Knight:\n",
    "    \n",
    "    def __init__(self, health, mana, armor):\n",
    "        self.health = health\n",
    "        self.mana = mana\n",
    "        self.armor = armor\n",
    "        \n",
    "    def slash(self):\n",
    "        print('베기')\n",
    "\n",
    "\n",
    "x = Knight(health = 542.2, mana = 210.3, armor = 38)\n",
    "print(x.health, x.mana, x.armor)\n",
    "x.slash()"
   ]
  },
  {
   "cell_type": "code",
   "execution_count": 77,
   "id": "1d6292af",
   "metadata": {},
   "outputs": [
    {
     "name": "stdout",
     "output_type": "stream",
     "text": [
      "511.68 334.0 298\n",
      "티버: 피해량 593.7\n"
     ]
    }
   ],
   "source": [
    "# 34. 6 심사 문제 : 게임 캐릭터 클래스 만들기\n",
    "# 표준 입력으로 게임 캐릭터 능력치(체력, 마나, AP)가 입력됩니다. 다음 소스 코드에서 애니(annie)클래스를\n",
    "# 작성하여 티버(tibbers)스킬의 피해량이 출력되게 만드세요. 티버의 피해량은 AP * 0.65 + 400이며 AP는 마법 능력치를 뜻합니다.\n",
    "\n",
    "class Annie:\n",
    "    def __init__(self, health, mana, ability_power):\n",
    "        self.health = health\n",
    "        self.mana = mana\n",
    "        self.ability_power = ability_power\n",
    "        \n",
    "    def tibbers(self):\n",
    "        result = self.ability_power * 0.65 + 400\n",
    "        print(\"티버: 피해량 {}\".format(result))\n",
    "\n",
    "\n",
    "health, mana, ability_power = map(float, input().split())\n",
    "\n",
    "x = Annie(health = health, mana = mana, ability_power = ability_power)\n",
    "x.tibbers()"
   ]
  },
  {
   "cell_type": "code",
   "execution_count": 109,
   "id": "a7af9eab",
   "metadata": {},
   "outputs": [
    {
     "name": "stdout",
     "output_type": "stream",
     "text": [
      "12\n",
      "8\n",
      "20\n",
      "5.0\n"
     ]
    }
   ],
   "source": [
    "class Fourcal:\n",
    "    \n",
    "    def data(self, val1, val2):\n",
    "        '''생성자를 사용하지 않음'''\n",
    "        self.val1 = val1\n",
    "        self.val2 = val2\n",
    "    \n",
    "    def add(self):\n",
    "        result= self.val1 + self.val2\n",
    "        return result\n",
    "    \n",
    "    def sub(self):\n",
    "        result = self.val1 - self.val2\n",
    "        return result\n",
    "    \n",
    "    def mul(self):\n",
    "        result = self.val1 * self.val2\n",
    "        return result\n",
    "    \n",
    "    def div(self):\n",
    "        result = self.val1 / self.val2\n",
    "        return result\n",
    "\n",
    "# 클래스에 접근 -> data 메서드에 접근(값 정의) -> 계산 메서드에 접근\n",
    "# data 메서드와 계산 메서드 순서가 변경 시 오류 발생 -> 데이터 정의 전 계산 메서드를 불러오기 때문\n",
    "x = Fourcal()\n",
    "x.data(10, 2)\n",
    "print(x.add())\n",
    "print(x.sub())\n",
    "print(x.mul())\n",
    "print(x.div())"
   ]
  },
  {
   "cell_type": "code",
   "execution_count": 108,
   "id": "ee10120f",
   "metadata": {},
   "outputs": [
    {
     "name": "stdout",
     "output_type": "stream",
     "text": [
      "12\n",
      "8\n",
      "20\n",
      "5.0\n"
     ]
    }
   ],
   "source": [
    "class Fourcal:\n",
    "    \n",
    "    def __init__(self, val1, val2):\n",
    "        '''생성자를 사용함\n",
    "            생성자 : 객체가 생성되 때 자동으로 호출되는 메서드를 의미'''\n",
    "        self.val1 = val1\n",
    "        self.val2 = val2\n",
    "    \n",
    "    def add(self):\n",
    "        result= self.val1 + self.val2\n",
    "        return result\n",
    "    \n",
    "    def sub(self):\n",
    "        result = self.val1 - self.val2\n",
    "        return result\n",
    "    \n",
    "    def mul(self):\n",
    "        result = self.val1 * self.val2\n",
    "        return result\n",
    "    \n",
    "    def div(self):\n",
    "        result = self.val1 / self.val2\n",
    "        return result\n",
    "\n",
    "x = Fourcal(10, 2) # 생성자(__init__)를 사용하여 객체가 생성되는 시점에 자동으로 호출된다\n",
    "print(x.add())\n",
    "print(x.sub())\n",
    "print(x.mul())\n",
    "print(x.div())"
   ]
  },
  {
   "cell_type": "code",
   "execution_count": null,
   "id": "67a9a69a",
   "metadata": {},
   "outputs": [],
   "source": []
  },
  {
   "cell_type": "markdown",
   "id": "8ee067eb",
   "metadata": {},
   "source": [
    "# 클래스 속성과 정적, 클래스 메서드 사용하기"
   ]
  },
  {
   "cell_type": "markdown",
   "id": "34a78d46",
   "metadata": {},
   "source": [
    "## 클래스 속성과 인스턴스 속성 알아보기"
   ]
  },
  {
   "cell_type": "markdown",
   "id": "fbab611f",
   "metadata": {},
   "source": [
    "### 클래스 속성 사용하기"
   ]
  },
  {
   "cell_type": "code",
   "execution_count": 84,
   "id": "d2a52674",
   "metadata": {},
   "outputs": [
    {
     "name": "stdout",
     "output_type": "stream",
     "text": [
      "['책', '열쇠']\n",
      "['책', '열쇠']\n",
      "{}\n",
      "{'__module__': '__main__', 'bag': ['책', '열쇠'], 'put_bag': <function Person.put_bag at 0x0000025C2C033740>, '__dict__': <attribute '__dict__' of 'Person' objects>, '__weakref__': <attribute '__weakref__' of 'Person' objects>, '__doc__': None}\n"
     ]
    }
   ],
   "source": [
    "class Person:\n",
    "    bag = [] # 클래스 속성은 클래스에 속해 있으며 모든 인스턴스에서 공유\n",
    "    \n",
    "    def put_bag(self, stuff):\n",
    "        self.bag.append(stuff)\n",
    "#         Person.bag.append(stuff) # 클래스 속성에 접근할 때는 '클래스이름.속성'으로 쓰면 더 정확하다\n",
    "        \n",
    "james = Person()\n",
    "james.put_bag('책')\n",
    "\n",
    "maria = Person()\n",
    "maria.put_bag('열쇠')\n",
    "\n",
    "# print(Person.bag)\n",
    "print(james.bag)\n",
    "print(maria.bag)\n",
    "\n",
    "print(james.__dict__)\n",
    "print(Person.__dict__)"
   ]
  },
  {
   "cell_type": "markdown",
   "id": "cd61b392",
   "metadata": {},
   "source": [
    "### 인스턴스 속성 사용하기"
   ]
  },
  {
   "cell_type": "code",
   "execution_count": 85,
   "id": "122125a6",
   "metadata": {},
   "outputs": [
    {
     "name": "stdout",
     "output_type": "stream",
     "text": [
      "['책']\n",
      "['열쇠']\n"
     ]
    }
   ],
   "source": [
    "class Person:\n",
    "    \n",
    "    def __init__(self):\n",
    "        self.bag = []\n",
    "\n",
    "    def put_bag(self, stuff):\n",
    "        self.bag.append(stuff)\n",
    "\n",
    "james = Person()\n",
    "james.put_bag('책')\n",
    "\n",
    "maria = Person()\n",
    "maria.put_bag('열쇠')\n",
    "\n",
    "print(james.bag)\n",
    "print(maria.bag)\n"
   ]
  },
  {
   "cell_type": "markdown",
   "id": "729920ae",
   "metadata": {},
   "source": [
    "### 비공개 클래스 속성 사용하기"
   ]
  },
  {
   "cell_type": "code",
   "execution_count": 87,
   "id": "cf23ce48",
   "metadata": {},
   "outputs": [
    {
     "name": "stdout",
     "output_type": "stream",
     "text": [
      "10\n",
      "None\n"
     ]
    },
    {
     "ename": "AttributeError",
     "evalue": "type object 'Knight' has no attribute '__item_limit'",
     "output_type": "error",
     "traceback": [
      "\u001b[1;31m---------------------------------------------------------------------------\u001b[0m",
      "\u001b[1;31mAttributeError\u001b[0m                            Traceback (most recent call last)",
      "Cell \u001b[1;32mIn[87], line 10\u001b[0m\n\u001b[0;32m      7\u001b[0m x \u001b[38;5;241m=\u001b[39m Knight()\n\u001b[0;32m      8\u001b[0m \u001b[38;5;28mprint\u001b[39m(x\u001b[38;5;241m.\u001b[39mprint_item_limit())\n\u001b[1;32m---> 10\u001b[0m \u001b[38;5;28mprint\u001b[39m(Knight\u001b[38;5;241m.\u001b[39m__item_limit)\n",
      "\u001b[1;31mAttributeError\u001b[0m: type object 'Knight' has no attribute '__item_limit'"
     ]
    }
   ],
   "source": [
    "class Knight:\n",
    "    __item_limit = 10\n",
    "    \n",
    "    def print_item_limit(self):\n",
    "        print(Knight.__item_limit)\n",
    "        \n",
    "x = Knight()\n",
    "print(x.print_item_limit())\n",
    "\n",
    "print(Knight.__item_limit) # 비공개 클래스 속성이라 접근할 수 없다"
   ]
  },
  {
   "cell_type": "code",
   "execution_count": 88,
   "id": "8691c7e1",
   "metadata": {},
   "outputs": [
    {
     "name": "stdout",
     "output_type": "stream",
     "text": [
      "사람 클래스\n",
      "인사 메서드\n",
      "인사 메서드\n"
     ]
    }
   ],
   "source": [
    "# 독스트링 사용하기\n",
    "class Person:\n",
    "    '''사람 클래스'''\n",
    "    \n",
    "    def greeting(self):\n",
    "        '''인사 메서드'''\n",
    "        print('hello')\n",
    "        \n",
    "print(Person.__doc__)\n",
    "print(Person.greeting.__doc__)\n",
    "\n",
    "maria = Person()\n",
    "print(maria.greeting.__doc__)"
   ]
  },
  {
   "cell_type": "markdown",
   "id": "c04822db",
   "metadata": {},
   "source": [
    "## 정적 메서드 사용하기"
   ]
  },
  {
   "cell_type": "code",
   "execution_count": 91,
   "id": "9d0a5fe2",
   "metadata": {},
   "outputs": [
    {
     "name": "stdout",
     "output_type": "stream",
     "text": [
      "30\n",
      "200\n"
     ]
    }
   ],
   "source": [
    "class Calc:\n",
    "    @staticmethod\n",
    "    \n",
    "    def add(a, b):\n",
    "        print(a + b)\n",
    "    \n",
    "    @staticmethod\n",
    "    def mul(a, b):\n",
    "        print(a * b)\n",
    "\n",
    "Calc.add(10, 20)\n",
    "Calc.mul(10, 20)"
   ]
  },
  {
   "cell_type": "markdown",
   "id": "a225c5ce",
   "metadata": {},
   "source": [
    "## 클래스 메서드 사용하기"
   ]
  },
  {
   "cell_type": "code",
   "execution_count": 94,
   "id": "55cbecb0",
   "metadata": {},
   "outputs": [
    {
     "name": "stdout",
     "output_type": "stream",
     "text": [
      "2명 생성되었습니다.\n"
     ]
    }
   ],
   "source": [
    "class Person:\n",
    "    cnt = 0\n",
    "    \n",
    "    def __init__(self):\n",
    "        Person.cnt += 1 # 인스턴스가 만들어지면 1씩 증가\n",
    "        \n",
    "    @classmethod\n",
    "    def print_cnt(cls):\n",
    "        print(\"{}명 생성되었습니다.\".format(cls.cnt))\n",
    "        \n",
    "james = Person()\n",
    "maria = Person()\n",
    "\n",
    "Person.print_cnt()"
   ]
  },
  {
   "cell_type": "code",
   "execution_count": null,
   "id": "dbc49750",
   "metadata": {},
   "outputs": [],
   "source": []
  },
  {
   "cell_type": "markdown",
   "id": "d9c8f8b3",
   "metadata": {},
   "source": [
    "# 클래스 상속 사용하기"
   ]
  },
  {
   "cell_type": "markdown",
   "id": "9dbc4f4e",
   "metadata": {},
   "source": [
    "## 사람 클래스로 학생 클래스 만들기"
   ]
  },
  {
   "cell_type": "code",
   "execution_count": 11,
   "id": "ae845652",
   "metadata": {},
   "outputs": [
    {
     "name": "stdout",
     "output_type": "stream",
     "text": [
      "공부하기\n",
      "안녕하세요\n",
      "안녕하세요\n"
     ]
    },
    {
     "ename": "AttributeError",
     "evalue": "'Person' object has no attribute 'study'",
     "output_type": "error",
     "traceback": [
      "\u001b[1;31m---------------------------------------------------------------------------\u001b[0m",
      "\u001b[1;31mAttributeError\u001b[0m                            Traceback (most recent call last)",
      "Cell \u001b[1;32mIn[11], line 15\u001b[0m\n\u001b[0;32m     13\u001b[0m maria \u001b[38;5;241m=\u001b[39m Person()\n\u001b[0;32m     14\u001b[0m maria\u001b[38;5;241m.\u001b[39mgreeting()\n\u001b[1;32m---> 15\u001b[0m maria\u001b[38;5;241m.\u001b[39mstudy()\n",
      "\u001b[1;31mAttributeError\u001b[0m: 'Person' object has no attribute 'study'"
     ]
    }
   ],
   "source": [
    "class Person:\n",
    "    def greeting(self):\n",
    "        print('안녕하세요')\n",
    "    \n",
    "class Student(Person) : \n",
    "    def study(self):\n",
    "        print('공부하기')\n",
    "        \n",
    "james = Student()\n",
    "james.study()\n",
    "james.greeting()\n",
    "\n",
    "maria = Person()\n",
    "maria.greeting()\n",
    "maria.study()"
   ]
  },
  {
   "cell_type": "markdown",
   "id": "7cb6eac6",
   "metadata": {},
   "source": [
    "## 부모 클래스의 속성 사용하기"
   ]
  },
  {
   "cell_type": "code",
   "execution_count": 15,
   "id": "e9fe0c8e",
   "metadata": {},
   "outputs": [
    {
     "name": "stdout",
     "output_type": "stream",
     "text": [
      "Student __init__\n",
      "파이썬 코딩 도장\n"
     ]
    },
    {
     "ename": "AttributeError",
     "evalue": "'Student' object has no attribute 'hello'",
     "output_type": "error",
     "traceback": [
      "\u001b[1;31m---------------------------------------------------------------------------\u001b[0m",
      "\u001b[1;31mAttributeError\u001b[0m                            Traceback (most recent call last)",
      "Cell \u001b[1;32mIn[15], line 13\u001b[0m\n\u001b[0;32m     11\u001b[0m james \u001b[38;5;241m=\u001b[39m Student()\n\u001b[0;32m     12\u001b[0m \u001b[38;5;28mprint\u001b[39m(james\u001b[38;5;241m.\u001b[39mschool)\n\u001b[1;32m---> 13\u001b[0m \u001b[38;5;28mprint\u001b[39m(james\u001b[38;5;241m.\u001b[39mhello)\n",
      "\u001b[1;31mAttributeError\u001b[0m: 'Student' object has no attribute 'hello'"
     ]
    }
   ],
   "source": [
    "class Person:\n",
    "    def __init__(self):\n",
    "        print('Preson __init__')\n",
    "        self.hello = '안녕하세요'\n",
    "        \n",
    "class Student(Person):\n",
    "    def __init__(self):\n",
    "        print('Student __init__')\n",
    "        self.school = '파이썬 코딩 도장'\n",
    "        \n",
    "james = Student()\n",
    "print(james.school)\n",
    "print(james.hello) # student 객체는 hello의 속성을 갖고 있지 않음"
   ]
  },
  {
   "cell_type": "markdown",
   "id": "63bd1de4",
   "metadata": {},
   "source": [
    "### super()로 부모 클래스 초기화하기"
   ]
  },
  {
   "cell_type": "code",
   "execution_count": 17,
   "id": "5931c2d6",
   "metadata": {},
   "outputs": [
    {
     "name": "stdout",
     "output_type": "stream",
     "text": [
      "Preson __init__\n",
      "Student __init__\n",
      "파이썬 코딩 도장\n",
      "안녕하세요\n"
     ]
    }
   ],
   "source": [
    "class Person:\n",
    "    def __init__(self):\n",
    "        print('Preson __init__')\n",
    "        self.hello = '안녕하세요'\n",
    "        \n",
    "class Student(Person):\n",
    "    def __init__(self):\n",
    "        super().__init__() # 부모 클래스의 __init__ 메서드 호출\n",
    "        print('Student __init__')\n",
    "        self.school = '파이썬 코딩 도장'\n",
    "        \n",
    "james = Student()\n",
    "print(james.school)\n",
    "print(james.hello)"
   ]
  },
  {
   "cell_type": "markdown",
   "id": "638c2837",
   "metadata": {},
   "source": [
    "### 부모 클래스를 초기화하지 않아도 되는 경우"
   ]
  },
  {
   "cell_type": "code",
   "execution_count": 18,
   "id": "3f1988b0",
   "metadata": {},
   "outputs": [
    {
     "name": "stdout",
     "output_type": "stream",
     "text": [
      "Preson __init__\n",
      "안녕하세요\n"
     ]
    }
   ],
   "source": [
    "class Person:\n",
    "    def __init__(self):\n",
    "        print('Preson __init__')\n",
    "        self.hello = '안녕하세요'\n",
    "        \n",
    "class Student(Person):\n",
    "    pass\n",
    "        \n",
    "james = Student()\n",
    "print(james.hello)"
   ]
  },
  {
   "cell_type": "markdown",
   "id": "35104ef8",
   "metadata": {},
   "source": [
    "## 메서드 오버라이딩 사용"
   ]
  },
  {
   "cell_type": "code",
   "execution_count": 19,
   "id": "34fc8a85",
   "metadata": {},
   "outputs": [
    {
     "name": "stdout",
     "output_type": "stream",
     "text": [
      "안녕하세요. 저는 파이썬 코딩 도장 학생입니다.\n"
     ]
    }
   ],
   "source": [
    "class Person:\n",
    "    def greeting(self):\n",
    "        print('안녕하세요.')\n",
    "        \n",
    "class Student(Person):\n",
    "    def greeting(self):\n",
    "        print('안녕하세요. 저는 파이썬 코딩 도장 학생입니다.')\n",
    "        \n",
    "james = Student()\n",
    "james.greeting()"
   ]
  },
  {
   "cell_type": "code",
   "execution_count": 21,
   "id": "d0b1e8ce",
   "metadata": {},
   "outputs": [
    {
     "name": "stdout",
     "output_type": "stream",
     "text": [
      "안녕하세요.\n",
      "안녕하세요. 저는 파이썬 코딩 도장 학생입니다.\n"
     ]
    }
   ],
   "source": [
    "class Person:\n",
    "    def greeting(self):\n",
    "        print('안녕하세요.')\n",
    "        \n",
    "class Student(Person):\n",
    "    def greeting(self):\n",
    "        super().greeting()\n",
    "        print('안녕하세요. 저는 파이썬 코딩 도장 학생입니다.')\n",
    "        \n",
    "james = Student()\n",
    "james.greeting()"
   ]
  },
  {
   "cell_type": "markdown",
   "id": "d26b6e1b",
   "metadata": {},
   "source": [
    "## 다중 상속"
   ]
  },
  {
   "cell_type": "code",
   "execution_count": 23,
   "id": "3b29c047",
   "metadata": {},
   "outputs": [
    {
     "name": "stdout",
     "output_type": "stream",
     "text": [
      "안녕하세요.\n",
      "학점관리\n",
      "공부하기\n"
     ]
    }
   ],
   "source": [
    "class Person:\n",
    "    def greeting(self):\n",
    "        print('안녕하세요.')\n",
    "        \n",
    "class University:\n",
    "    def manage_credit(self):\n",
    "        print('학점관리')\n",
    "        \n",
    "class Undergraduate(Person, University):\n",
    "    def study(self):\n",
    "        print('공부하기')\n",
    "        \n",
    "james = Undergraduate()\n",
    "james.greeting()\n",
    "james.manage_credit()\n",
    "james.study()"
   ]
  },
  {
   "cell_type": "markdown",
   "id": "931a703c",
   "metadata": {},
   "source": [
    "### 다이아몬드 속성"
   ]
  },
  {
   "cell_type": "code",
   "execution_count": 31,
   "id": "0c4f2ba3",
   "metadata": {},
   "outputs": [
    {
     "name": "stdout",
     "output_type": "stream",
     "text": [
      "안녕하세요. B입니다\n"
     ]
    }
   ],
   "source": [
    "class A:\n",
    "    def greeting(self):\n",
    "        print('안녕하세요. A입니다')\n",
    "        \n",
    "class B(A):\n",
    "    def greeting(self):\n",
    "        print('안녕하세요. B입니다')\n",
    "        \n",
    "class C(A):\n",
    "    def greeting(self):\n",
    "        print('안녕하세요. C입니다')\n",
    "class D(B, C):\n",
    "    pass\n",
    "\n",
    "x = D()\n",
    "x.greeting()"
   ]
  },
  {
   "cell_type": "markdown",
   "id": "3939459d",
   "metadata": {},
   "source": [
    "### 메서드 탐색 순서 확인하기"
   ]
  },
  {
   "cell_type": "code",
   "execution_count": 32,
   "id": "f8282b65",
   "metadata": {},
   "outputs": [
    {
     "data": {
      "text/plain": [
       "[__main__.D, __main__.B, __main__.C, __main__.A, object]"
      ]
     },
     "execution_count": 32,
     "metadata": {},
     "output_type": "execute_result"
    }
   ],
   "source": [
    "D.mro()"
   ]
  },
  {
   "cell_type": "markdown",
   "id": "fdccb2cf",
   "metadata": {},
   "source": [
    "## 추상 클래스 사용"
   ]
  },
  {
   "cell_type": "code",
   "execution_count": 33,
   "id": "6204e47f",
   "metadata": {},
   "outputs": [
    {
     "ename": "TypeError",
     "evalue": "Can't instantiate abstract class Student with abstract method go_to_school",
     "output_type": "error",
     "traceback": [
      "\u001b[1;31m---------------------------------------------------------------------------\u001b[0m",
      "\u001b[1;31mTypeError\u001b[0m                                 Traceback (most recent call last)",
      "Cell \u001b[1;32mIn[33], line 16\u001b[0m\n\u001b[0;32m     13\u001b[0m     \u001b[38;5;28;01mdef\u001b[39;00m \u001b[38;5;21mstudy\u001b[39m(\u001b[38;5;28mself\u001b[39m):\n\u001b[0;32m     14\u001b[0m         \u001b[38;5;28mprint\u001b[39m(\u001b[38;5;124m'\u001b[39m\u001b[38;5;124m공부하기\u001b[39m\u001b[38;5;124m'\u001b[39m)\n\u001b[1;32m---> 16\u001b[0m james \u001b[38;5;241m=\u001b[39m Student()\n\u001b[0;32m     17\u001b[0m james\u001b[38;5;241m.\u001b[39mstudy()\n",
      "\u001b[1;31mTypeError\u001b[0m: Can't instantiate abstract class Student with abstract method go_to_school"
     ]
    }
   ],
   "source": [
    "from abc import *\n",
    "\n",
    "class StudentBase(metaclass = ABCMeta):\n",
    "    @abstractmethod\n",
    "    def study(self):\n",
    "        pass\n",
    "    \n",
    "    @abstractmethod\n",
    "    def go_to_school(self):\n",
    "        pass\n",
    "    \n",
    "class Student(StudentBase):\n",
    "    def study(self):\n",
    "        print('공부하기')\n",
    "        \n",
    "james = Student()\n",
    "james.study()"
   ]
  },
  {
   "cell_type": "code",
   "execution_count": 37,
   "id": "5bf5fc36",
   "metadata": {},
   "outputs": [
    {
     "name": "stdout",
     "output_type": "stream",
     "text": [
      "공부하기\n",
      "학교가기\n"
     ]
    }
   ],
   "source": [
    "from abc import *\n",
    "\n",
    "class StudentBase(metaclass = ABCMeta):\n",
    "    @abstractmethod\n",
    "    def study(self):\n",
    "        pass\n",
    "    \n",
    "    @abstractmethod\n",
    "    def go_to_school(self):\n",
    "        pass\n",
    "    \n",
    "class Student(StudentBase):\n",
    "    def study(self):\n",
    "        print('공부하기')\n",
    "        \n",
    "    def go_to_school(self):\n",
    "        print('학교가기')\n",
    "        \n",
    "james = Student()\n",
    "james.study()\n",
    "james.go_to_school()"
   ]
  },
  {
   "cell_type": "code",
   "execution_count": null,
   "id": "a5273d8a",
   "metadata": {},
   "outputs": [],
   "source": []
  },
  {
   "cell_type": "markdown",
   "id": "bda84d8b",
   "metadata": {},
   "source": [
    "## 연습"
   ]
  },
  {
   "cell_type": "code",
   "execution_count": 48,
   "id": "426f0b56",
   "metadata": {},
   "outputs": [
    {
     "name": "stdout",
     "output_type": "stream",
     "text": [
      "[100, 2, 3, 1, 2, 3, 1, 2, 3]\n"
     ]
    }
   ],
   "source": [
    "# 36. 8 연습 문제 : 리스트에 기능 추가하기\n",
    "# 다음 소스 코드에서 리스트에 replace 메서드를 추가한 AdvancedList 클래스를 작성하세요.\n",
    "# AdvancedList는 list를 상속받아서 만들고, replace 메서드는 리스트에서 특정 값으로 된 요소를 찾아서\n",
    "# 다른 값으로 바꾸도록 하세요.\n",
    "\n",
    "class AdvancedList(list):\n",
    "    def replace(self, old, new):\n",
    "        if old in self:\n",
    "            self[self.index(old)] = new\n",
    "\n",
    "x = AdvancedList([1, 2, 3, 1, 2, 3, 1, 2, 3])\n",
    "x.replace(1, 100)\n",
    "print(x)"
   ]
  },
  {
   "cell_type": "code",
   "execution_count": 46,
   "id": "53028595",
   "metadata": {},
   "outputs": [
    {
     "name": "stdout",
     "output_type": "stream",
     "text": [
      "먹다\n",
      "파닥거리다\n",
      "날다\n",
      "True\n",
      "True\n"
     ]
    }
   ],
   "source": [
    "# 36. 9 심사 문제 : 다중 상속 사용하기\n",
    "# 다음 소스 코드에서 동물 클래스 animal과 날개 클래스 wing을 상속받아 새 클래스 bird를 작성하여\n",
    "# '먹다', '파닥거리다','날다',true, true가 각 줄에 출력되게 만드세요.\n",
    "\n",
    "class Animal:\n",
    "    def eat(self):\n",
    "        print('먹다')\n",
    "\n",
    "class Wing:\n",
    "    def flap(self):\n",
    "        print('파닥거리다')\n",
    "        \n",
    "class Bird(Animal, Wing):\n",
    "    def fly(self):\n",
    "        print('날다')\n",
    "\n",
    "b = Bird()\n",
    "b.eat()\n",
    "b.flap()\n",
    "b.fly()\n",
    "print(issubclass(Bird, Animal))\n",
    "print(issubclass(Bird, Wing))\n"
   ]
  },
  {
   "cell_type": "code",
   "execution_count": null,
   "id": "46944f3b",
   "metadata": {},
   "outputs": [],
   "source": []
  },
  {
   "cell_type": "markdown",
   "id": "de62f20b",
   "metadata": {},
   "source": [
    "# 두 점 사이의 거리 구하기"
   ]
  },
  {
   "cell_type": "markdown",
   "id": "7bba454d",
   "metadata": {},
   "source": [
    "## 두 점 사이의 거리 구하기"
   ]
  },
  {
   "cell_type": "markdown",
   "id": "4df3c7fc",
   "metadata": {},
   "source": [
    "### 클래스로 점 구현하기"
   ]
  },
  {
   "cell_type": "code",
   "execution_count": 49,
   "id": "26c752a7",
   "metadata": {},
   "outputs": [
    {
     "name": "stdout",
     "output_type": "stream",
     "text": [
      "p1 : 30 20\n",
      "p2 : 60 50\n"
     ]
    }
   ],
   "source": [
    "class Point2D:\n",
    "    def __init__(self, x, y):\n",
    "        self.x = x\n",
    "        self.y = y\n",
    "        \n",
    "p1 = Point2D(x = 30, y = 20)\n",
    "p2 = Point2D(60, 50)\n",
    "\n",
    "print('p1 : {} {}'.format(p1.x, p1.y))\n",
    "print('p2 : {} {}'.format(p2.x, p2.y))"
   ]
  },
  {
   "cell_type": "code",
   "execution_count": 53,
   "id": "1aaed27f",
   "metadata": {},
   "outputs": [
    {
     "name": "stdout",
     "output_type": "stream",
     "text": [
      "p1 : 30 20\n",
      "p2 : 60 50\n",
      "두 점의 거리 : 42.42640687119285\n"
     ]
    }
   ],
   "source": [
    "import math\n",
    "\n",
    "class Point2D:\n",
    "    def __init__(self, x, y):\n",
    "        self.x = x\n",
    "        self.y = y\n",
    "        \n",
    "p1 = Point2D(x = 30, y = 20)\n",
    "p2 = Point2D(60, 50)\n",
    "\n",
    "a = p2.x - p1.x\n",
    "b = p2.y - p1.y\n",
    "\n",
    "c = math.sqrt((a ** 2) + (b ** 2))\n",
    "\n",
    "# c = math.sqrt(math.pow(a, 2) + math.pow(b, 2))# math.pow(값 지수)\n",
    "\n",
    "print('p1 : {} {}'.format(p1.x, p1.y))\n",
    "print('p2 : {} {}'.format(p2.x, p2.y))\n",
    "print('두 점의 거리 : {}'.format(c))"
   ]
  },
  {
   "cell_type": "code",
   "execution_count": 57,
   "id": "db9cf05d",
   "metadata": {},
   "outputs": [
    {
     "name": "stdout",
     "output_type": "stream",
     "text": [
      "200\n"
     ]
    }
   ],
   "source": [
    "# 37. 2 연습문제 : 사각형의 넓이 구하기\n",
    "# 다음 소스 코드를 완성하여 사각형의 넓이가 출력되게 만드세요.\n",
    "\n",
    "class Rectrangle:\n",
    "    def __init__(self, x1, y1, x2, y2):\n",
    "        self.x1 = x1\n",
    "        self.y1 = y1\n",
    "        self.x2 = x2\n",
    "        self.y2 = y2\n",
    "        \n",
    "rect = Rectrangle(20, 20, 40, 30)\n",
    "\n",
    "height = abs(rect.y2 - rect.y1)\n",
    "width = abs(rect.x2 - rect.x1)\n",
    "area = height * width\n",
    "\n",
    "print(area)"
   ]
  },
  {
   "cell_type": "code",
   "execution_count": 61,
   "id": "e9bc52e6",
   "metadata": {},
   "outputs": [
    {
     "name": "stdout",
     "output_type": "stream",
     "text": [
      "100 100 200 200 300 300 400 400\n",
      "424.26406871192853\n"
     ]
    }
   ],
   "source": [
    "# 37.3 심사문제 : 두 점 사이의 거리 구하기\n",
    "# 표준 입력으로 x, y 좌표 4개가 입력되어 point2d 클래스의 인스턴스 리스트에 저장됩니다.\n",
    "# 여기서 점 4개는 첫 번째 점부터 마지막 점까지 순서대로 이어져있습니다. 다음 소스 코드를 완성하여\n",
    "# 첫 번째 점부터 마지막 점까지 연결된 선의 길이가 출력되게 만드세요.\n",
    "\n",
    "import math\n",
    "\n",
    "class Point2D:\n",
    "    def __init__(self, x = 0, y = 0):\n",
    "        self.x = x\n",
    "        self.y = y\n",
    "        \n",
    "length = 0.0\n",
    "p = [Point2D(), Point2D(), Point2D(), Point2D()]\n",
    "p[0].x, p[0].y, p[1].x, p[1].y, p[2].x, p[2].y, p[3].x, p[3].y = map(int, input().split())\n",
    "\n",
    "a = p[3].x - p[0].x\n",
    "b = p[3].y - p[0].y\n",
    "\n",
    "c = math.sqrt((a ** 2) + (b ** 2))\n",
    "\n",
    "print(c)"
   ]
  },
  {
   "cell_type": "code",
   "execution_count": null,
   "id": "1eafdbad",
   "metadata": {},
   "outputs": [],
   "source": []
  },
  {
   "cell_type": "code",
   "execution_count": null,
   "id": "64f0efcd",
   "metadata": {},
   "outputs": [],
   "source": []
  },
  {
   "cell_type": "code",
   "execution_count": null,
   "id": "9084d81d",
   "metadata": {},
   "outputs": [],
   "source": []
  },
  {
   "cell_type": "code",
   "execution_count": null,
   "id": "95a0ec60",
   "metadata": {},
   "outputs": [],
   "source": []
  },
  {
   "cell_type": "code",
   "execution_count": null,
   "id": "a2ad8801",
   "metadata": {},
   "outputs": [],
   "source": []
  },
  {
   "cell_type": "code",
   "execution_count": null,
   "id": "acc7aaf1",
   "metadata": {},
   "outputs": [],
   "source": []
  },
  {
   "cell_type": "code",
   "execution_count": null,
   "id": "c10ab9b4",
   "metadata": {},
   "outputs": [],
   "source": []
  }
 ],
 "metadata": {
  "kernelspec": {
   "display_name": "Python 3 (ipykernel)",
   "language": "python",
   "name": "python3"
  },
  "language_info": {
   "codemirror_mode": {
    "name": "ipython",
    "version": 3
   },
   "file_extension": ".py",
   "mimetype": "text/x-python",
   "name": "python",
   "nbconvert_exporter": "python",
   "pygments_lexer": "ipython3",
   "version": "3.11.4"
  },
  "toc": {
   "base_numbering": 1,
   "nav_menu": {},
   "number_sections": true,
   "sideBar": true,
   "skip_h1_title": false,
   "title_cell": "Table of Contents",
   "title_sidebar": "Contents",
   "toc_cell": false,
   "toc_position": {
    "height": "calc(100% - 180px)",
    "left": "10px",
    "top": "150px",
    "width": "212.882px"
   },
   "toc_section_display": true,
   "toc_window_display": true
  }
 },
 "nbformat": 4,
 "nbformat_minor": 5
}
