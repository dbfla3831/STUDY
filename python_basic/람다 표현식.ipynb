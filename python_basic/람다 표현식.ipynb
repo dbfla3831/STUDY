{
 "cells": [
  {
   "cell_type": "markdown",
   "id": "eff7a7d2",
   "metadata": {},
   "source": [
    "# 람다 표현식"
   ]
  },
  {
   "cell_type": "markdown",
   "id": "01be2e64",
   "metadata": {},
   "source": [
    "## 람다 표현식으로 함수 만들기"
   ]
  },
  {
   "cell_type": "code",
   "execution_count": 18,
   "id": "8856185d",
   "metadata": {},
   "outputs": [
    {
     "data": {
      "text/plain": [
       "15"
      ]
     },
     "execution_count": 18,
     "metadata": {},
     "output_type": "execute_result"
    }
   ],
   "source": [
    "plus_ten = lambda x: x + 10\n",
    "plus_ten(5)"
   ]
  },
  {
   "cell_type": "markdown",
   "id": "4cba6cb5",
   "metadata": {},
   "source": [
    "### 람다 표현식 자체를 호출"
   ]
  },
  {
   "cell_type": "code",
   "execution_count": 19,
   "id": "977e4ca7",
   "metadata": {},
   "outputs": [
    {
     "data": {
      "text/plain": [
       "11"
      ]
     },
     "execution_count": 19,
     "metadata": {},
     "output_type": "execute_result"
    }
   ],
   "source": [
    "(lambda x: x + 10)(1)"
   ]
  },
  {
   "cell_type": "markdown",
   "id": "eabb2595",
   "metadata": {},
   "source": [
    "### 람다 표현식 안에서 변수를 만들 수 없다"
   ]
  },
  {
   "cell_type": "code",
   "execution_count": 20,
   "id": "896b6912",
   "metadata": {},
   "outputs": [
    {
     "ename": "SyntaxError",
     "evalue": "invalid syntax (203175227.py, line 1)",
     "output_type": "error",
     "traceback": [
      "\u001b[1;36m  Cell \u001b[1;32mIn[20], line 1\u001b[1;36m\u001b[0m\n\u001b[1;33m    (lambda x:y = 10; x + y)(1)\u001b[0m\n\u001b[1;37m                ^\u001b[0m\n\u001b[1;31mSyntaxError\u001b[0m\u001b[1;31m:\u001b[0m invalid syntax\n"
     ]
    }
   ],
   "source": [
    "(lambda x:y = 10; x + y)(1)"
   ]
  },
  {
   "cell_type": "code",
   "execution_count": 21,
   "id": "f49e5163",
   "metadata": {},
   "outputs": [
    {
     "data": {
      "text/plain": [
       "11"
      ]
     },
     "execution_count": 21,
     "metadata": {},
     "output_type": "execute_result"
    }
   ],
   "source": [
    "y = 10\n",
    "(lambda x : x + y)(1)"
   ]
  },
  {
   "cell_type": "code",
   "execution_count": 23,
   "id": "c624b631",
   "metadata": {},
   "outputs": [
    {
     "data": {
      "text/plain": [
       "11"
      ]
     },
     "execution_count": 23,
     "metadata": {},
     "output_type": "execute_result"
    }
   ],
   "source": [
    "(lambda x, y : x + y)(1,10)"
   ]
  },
  {
   "cell_type": "markdown",
   "id": "ebeb7abb",
   "metadata": {},
   "source": [
    "### 람다 표현식을 인수로 사용하기"
   ]
  },
  {
   "cell_type": "code",
   "execution_count": 24,
   "id": "b60e76f0",
   "metadata": {},
   "outputs": [
    {
     "data": {
      "text/plain": [
       "[11, 12, 13]"
      ]
     },
     "execution_count": 24,
     "metadata": {},
     "output_type": "execute_result"
    }
   ],
   "source": [
    "def plus_ten(x):\n",
    "    return x + 10\n",
    "\n",
    "list(map(plus_ten, [1, 2, 3]))"
   ]
  },
  {
   "cell_type": "code",
   "execution_count": 26,
   "id": "557e7a7e",
   "metadata": {},
   "outputs": [
    {
     "data": {
      "text/plain": [
       "[11, 12, 13]"
      ]
     },
     "execution_count": 26,
     "metadata": {},
     "output_type": "execute_result"
    }
   ],
   "source": [
    "list(map(lambda x : x + 10, [1, 2, 3]))"
   ]
  },
  {
   "cell_type": "code",
   "execution_count": 29,
   "id": "0126dbac",
   "metadata": {},
   "outputs": [
    {
     "data": {
      "text/plain": [
       "1"
      ]
     },
     "execution_count": 29,
     "metadata": {},
     "output_type": "execute_result"
    }
   ],
   "source": [
    "(lambda : 1)()\n"
   ]
  },
  {
   "cell_type": "code",
   "execution_count": 30,
   "id": "129db90a",
   "metadata": {},
   "outputs": [
    {
     "data": {
      "text/plain": [
       "10"
      ]
     },
     "execution_count": 30,
     "metadata": {},
     "output_type": "execute_result"
    }
   ],
   "source": [
    "x = 10\n",
    "(lambda : x)()"
   ]
  },
  {
   "cell_type": "markdown",
   "id": "44010fa4",
   "metadata": {},
   "source": [
    "## 람다 표현식과 map, filter, reduce 함수 사용"
   ]
  },
  {
   "cell_type": "markdown",
   "id": "29b112cf",
   "metadata": {},
   "source": [
    "### 람다 표현식에 조건부 표현식 사용"
   ]
  },
  {
   "cell_type": "markdown",
   "id": "c91c2d2a",
   "metadata": {},
   "source": [
    "lambda 매개변수 : 식1 if 조건식 else 식2"
   ]
  },
  {
   "cell_type": "code",
   "execution_count": 33,
   "id": "9d83dc33",
   "metadata": {},
   "outputs": [
    {
     "data": {
      "text/plain": [
       "[1, 2, '3', 4, 5, '6', 7, 8, '9', 10]"
      ]
     },
     "execution_count": 33,
     "metadata": {},
     "output_type": "execute_result"
    }
   ],
   "source": [
    "# 리스트에서 3의 배수를 문자열로 변환\n",
    "lst = list(range(1, 11))\n",
    "\n",
    "list(map(lambda x : str(x) if x % 3 == 0 else x, lst))"
   ]
  },
  {
   "cell_type": "code",
   "execution_count": 37,
   "id": "2c4db027",
   "metadata": {},
   "outputs": [
    {
     "name": "stdout",
     "output_type": "stream",
     "text": [
      "[1, 2, '3', 4, 5, '6', 7, 8, '9', 10]\n"
     ]
    }
   ],
   "source": [
    "# 위 lambda를 for, if문으로 변경\n",
    "\n",
    "lst = list(range(1, 11))\n",
    "\n",
    "for i in range(len(lst)):\n",
    "    if lst[i] % 3 == 0:\n",
    "        lst[i] = str(lst[i])\n",
    "    else:\n",
    "        continue\n",
    "        \n",
    "print(lst)\n",
    "\n",
    "\n",
    "# lst = list(range(1, 11))\n",
    "\n",
    "# for ind, val in enumerate(lst):\n",
    "#     if val % 3 == 0:\n",
    "#         lst[ind] = str(val)\n",
    "#     else:\n",
    "#         continue\n",
    "        \n",
    "# print(lst)"
   ]
  },
  {
   "cell_type": "code",
   "execution_count": 39,
   "id": "b4a2caf0",
   "metadata": {},
   "outputs": [
    {
     "data": {
      "text/plain": [
       "['1', 2.0, 13, 14, 15, 16, 17, 18, 19, 20]"
      ]
     },
     "execution_count": 39,
     "metadata": {},
     "output_type": "execute_result"
    }
   ],
   "source": [
    "# 1은 문자열, 2는 실수로 변환, 3이상은 10을 더하기\n",
    "\n",
    "lst = list(range(1, 11))\n",
    "\n",
    "list(map(lambda x : str(x) if x == 1 else float(x) if x == 2 else x + 10, lst))"
   ]
  },
  {
   "cell_type": "code",
   "execution_count": 42,
   "id": "a5e41701",
   "metadata": {},
   "outputs": [
    {
     "name": "stdout",
     "output_type": "stream",
     "text": [
      "['1', 2.0, 13, 14, 15, 16, 17, 18, 19, 20]\n"
     ]
    }
   ],
   "source": [
    "# 위 lambda 식을 for, if, elif, else로 변경\n",
    "\n",
    "lst = list(range(1, 11))\n",
    "\n",
    "for ind, val in enumerate(lst):\n",
    "    if val == 1:\n",
    "        lst[ind] = str(val)\n",
    "    elif val == 2:\n",
    "        lst[ind] = float(val)\n",
    "    elif val >= 3:\n",
    "        lst[ind] = val + 10\n",
    "\n",
    "print(lst)\n",
    "\n",
    "# def f(x):\n",
    "#     if x == 1:\n",
    "#         return str(x)\n",
    "#     elif x == 2:\n",
    "#         return float(x)\n",
    "#     else:\n",
    "#         return x + 10\n",
    "    \n",
    "# list(map(f, lst))"
   ]
  },
  {
   "cell_type": "markdown",
   "id": "4b4472e3",
   "metadata": {},
   "source": [
    "### map에 객체를 여러 개 넣기"
   ]
  },
  {
   "cell_type": "code",
   "execution_count": 44,
   "id": "e2041e70",
   "metadata": {},
   "outputs": [
    {
     "data": {
      "text/plain": [
       "[2, 6, 12, 20, 50]"
      ]
     },
     "execution_count": 44,
     "metadata": {},
     "output_type": "execute_result"
    }
   ],
   "source": [
    "lst1 = [1, 2, 3, 4, 5]\n",
    "lst2 = [2, 3, 4, 5, 10, 11]\n",
    "\n",
    "list(map(lambda x, y : x * y,lst1, lst2 ))"
   ]
  },
  {
   "cell_type": "markdown",
   "id": "76d76034",
   "metadata": {},
   "source": [
    "### filter 사용하기"
   ]
  },
  {
   "cell_type": "code",
   "execution_count": 47,
   "id": "d9bffb70",
   "metadata": {},
   "outputs": [
    {
     "data": {
      "text/plain": [
       "[8, 7, 9]"
      ]
     },
     "execution_count": 47,
     "metadata": {},
     "output_type": "execute_result"
    }
   ],
   "source": [
    "# 함수를 사용해서 5보다 크면서 10보다 작은 숫자 가져오기\n",
    "\n",
    "lst = [8, 3, 2, 10, 15, 7, 1, 9, 0, 11]\n",
    "def f(x):\n",
    "    return x > 5 and x < 10\n",
    "\n",
    "list(filter(f, lst))"
   ]
  },
  {
   "cell_type": "code",
   "execution_count": 48,
   "id": "ea7853f9",
   "metadata": {},
   "outputs": [
    {
     "data": {
      "text/plain": [
       "[8, 7, 9]"
      ]
     },
     "execution_count": 48,
     "metadata": {},
     "output_type": "execute_result"
    }
   ],
   "source": [
    "lst = [8, 3, 2, 10, 15, 7, 1, 9, 0, 11]\n",
    "\n",
    "list(filter(lambda x : x > 5 and x < 10, lst))"
   ]
  },
  {
   "cell_type": "code",
   "execution_count": 65,
   "id": "b3697b56",
   "metadata": {},
   "outputs": [
    {
     "data": {
      "text/plain": [
       "[8, 7, 9]"
      ]
     },
     "execution_count": 65,
     "metadata": {},
     "output_type": "execute_result"
    }
   ],
   "source": [
    "lst = [8, 3, 2, 10, 15, 7, 1, 9, 0, 11]\n",
    "\n",
    "[i for i in lst if i > 5 and i < 10]"
   ]
  },
  {
   "cell_type": "markdown",
   "id": "e1ccb0c7",
   "metadata": {},
   "source": [
    "### reduce 사용하기"
   ]
  },
  {
   "cell_type": "code",
   "execution_count": 60,
   "id": "49d1f92d",
   "metadata": {},
   "outputs": [
    {
     "data": {
      "text/plain": [
       "15"
      ]
     },
     "execution_count": 60,
     "metadata": {},
     "output_type": "execute_result"
    }
   ],
   "source": [
    "from functools import reduce\n",
    "\n",
    "def f(x, y):\n",
    "    return x + y\n",
    "\n",
    "lst = [1, 2, 3, 4, 5]\n",
    "reduce(f, lst)"
   ]
  },
  {
   "cell_type": "code",
   "execution_count": 63,
   "id": "71c1aa40",
   "metadata": {},
   "outputs": [
    {
     "data": {
      "text/plain": [
       "15"
      ]
     },
     "execution_count": 63,
     "metadata": {},
     "output_type": "execute_result"
    }
   ],
   "source": [
    "from functools import reduce\n",
    "\n",
    "lst = [1, 2, 3, 4, 5]\n",
    "\n",
    "reduce(lambda x, y: x + y, lst)"
   ]
  },
  {
   "cell_type": "code",
   "execution_count": 70,
   "id": "3309c828",
   "metadata": {},
   "outputs": [
    {
     "name": "stdout",
     "output_type": "stream",
     "text": [
      "28\n"
     ]
    }
   ],
   "source": [
    "lst = [1, 2, 3, 4, 5, 6, 7]\n",
    "x = 0\n",
    "\n",
    "for i in lst:\n",
    "    x += i\n",
    "    \n",
    "print(x)"
   ]
  },
  {
   "cell_type": "code",
   "execution_count": 68,
   "id": "fd9ed23b",
   "metadata": {},
   "outputs": [
    {
     "name": "stdout",
     "output_type": "stream",
     "text": [
      "21\n"
     ]
    }
   ],
   "source": [
    "lst = [1, 2, 3, 4, 5, 6]\n",
    "result = 0\n",
    "i = 0\n",
    "\n",
    "while i < len(lst):\n",
    "    result += lst[i]\n",
    "    i += 1\n",
    "    \n",
    "print(result)"
   ]
  },
  {
   "cell_type": "markdown",
   "id": "85ab1679",
   "metadata": {},
   "source": [
    "## 연습문제 : 이미지 파일만 가져오기\n",
    "다음 소스 코드를 완성하여 확장자가 .jpg, .png인 이미지 파일만 출력되게 만드세요.\n",
    "여기서 람다 표현식을 사용하야 하며, 출력 결과는 리스트 형태야 합니다.\n",
    "람다 표현식에서 확장자를 검사할 때는 문자열 메서드를 활용하세요."
   ]
  },
  {
   "cell_type": "code",
   "execution_count": 72,
   "id": "4b27ed52",
   "metadata": {},
   "outputs": [
    {
     "name": "stdout",
     "output_type": "stream",
     "text": [
      "['1.png', '10.jpg', '2.jpg', '3.png']\n"
     ]
    }
   ],
   "source": [
    "files = ['font', '1.png', '10.jpg', '11.gif', '2.jpg', '3.png', 'table.xslx', 'spec.docx']\n",
    "\n",
    "print(list(filter(lambda x : x.find('.jpg') != -1 or x.find('.png') != -1, files)))"
   ]
  },
  {
   "cell_type": "markdown",
   "id": "0bd7d0f1",
   "metadata": {},
   "source": [
    "## 심사문제 : 파일 이름을 한꺼번에 바꾸기\n",
    "표준 입력으로 숫자.확장자 형식으로 된 파일 이름 여러 개가 입력됩니다.\n",
    "다음 소스 코드를 완성하여 파일 이름이 숫자 3개이면서 앞에 0이 들어가는 형식으로 출력되게 만드세요.\n",
    "예를 들어 1.png는 001.png처럼 출력되어야 합니다. 그리고 람다 표현식을 사용해야 하며 출력 결과는\n",
    "리스트 형태야 합니다. 람다 표현식에서 파일명을 처리할 때는 문자열 포매팅과 문자열 메서드를 활용하세요. "
   ]
  },
  {
   "cell_type": "code",
   "execution_count": 90,
   "id": "e71ea916",
   "metadata": {},
   "outputs": [
    {
     "name": "stdout",
     "output_type": "stream",
     "text": [
      "1.png 99.docx 100.xlsx\n",
      "['001.png', '099.docx', '100.xlsx']\n"
     ]
    }
   ],
   "source": [
    "filst = input().split()\n",
    "\n",
    "print(list(map(lambda x : '{0:03d}'.format(int(x.split('.')[0])) + '.' +  x.split('.')[1], filst)))\n"
   ]
  }
 ],
 "metadata": {
  "kernelspec": {
   "display_name": "Python 3 (ipykernel)",
   "language": "python",
   "name": "python3"
  },
  "language_info": {
   "codemirror_mode": {
    "name": "ipython",
    "version": 3
   },
   "file_extension": ".py",
   "mimetype": "text/x-python",
   "name": "python",
   "nbconvert_exporter": "python",
   "pygments_lexer": "ipython3",
   "version": "3.11.5"
  },
  "toc": {
   "base_numbering": 1,
   "nav_menu": {},
   "number_sections": true,
   "sideBar": true,
   "skip_h1_title": false,
   "title_cell": "Table of Contents",
   "title_sidebar": "Contents",
   "toc_cell": false,
   "toc_position": {
    "height": "calc(100% - 180px)",
    "left": "10px",
    "top": "150px",
    "width": "376.758px"
   },
   "toc_section_display": true,
   "toc_window_display": true
  }
 },
 "nbformat": 4,
 "nbformat_minor": 5
}
