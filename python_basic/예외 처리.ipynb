{
 "cells": [
  {
   "cell_type": "markdown",
   "id": "98522197",
   "metadata": {},
   "source": [
    "# 예외 처리 사용"
   ]
  },
  {
   "cell_type": "markdown",
   "id": "079cb932",
   "metadata": {},
   "source": [
    "## try, except 사용하기"
   ]
  },
  {
   "cell_type": "code",
   "execution_count": null,
   "id": "1978c029",
   "metadata": {},
   "outputs": [],
   "source": [
    "try :\n",
    "    시행할 코드\n",
    "except : \n",
    "    예외가 발생했을 때 처리하는 코드"
   ]
  },
  {
   "cell_type": "code",
   "execution_count": 3,
   "id": "805dfeab",
   "metadata": {},
   "outputs": [
    {
     "name": "stdout",
     "output_type": "stream",
     "text": [
      "나눌 숫자를 입력하세요 : 0\n",
      "예외가 발생했습니다.\n"
     ]
    }
   ],
   "source": [
    "try : \n",
    "    x = int(input('나눌 숫자를 입력하세요 : '))\n",
    "    y = 10 / x\n",
    "    print(x)\n",
    "except : \n",
    "    print(\"예외가 발생했습니다.\")"
   ]
  },
  {
   "cell_type": "markdown",
   "id": "6795af3f",
   "metadata": {},
   "source": [
    "### 특정 예외만 처리"
   ]
  },
  {
   "cell_type": "code",
   "execution_count": 6,
   "id": "b795e2d9",
   "metadata": {},
   "outputs": [
    {
     "name": "stdout",
     "output_type": "stream",
     "text": [
      "인덱스와 나눌 숫자를 입력하세요 : 5 1\n",
      "잘못된 인덱스입니다.\n"
     ]
    }
   ],
   "source": [
    "y = [10, 20, 30]\n",
    "\n",
    "try :\n",
    "    index, x = map(int, input('인덱스와 나눌 숫자를 입력하세요 : ').split())\n",
    "    print(y[index] / x)\n",
    "    \n",
    "except ZeroDivisionError:\n",
    "    print('숫자를 0으로 나눌 수 없습니다')\n",
    "\n",
    "except IndexError:\n",
    "    print('잘못된 인덱스입니다.')"
   ]
  },
  {
   "cell_type": "markdown",
   "id": "9d6dfc95",
   "metadata": {},
   "source": [
    "### 예외의 에러 메시지 받아오기"
   ]
  },
  {
   "cell_type": "code",
   "execution_count": 7,
   "id": "18c3a92e",
   "metadata": {},
   "outputs": [
    {
     "name": "stdout",
     "output_type": "stream",
     "text": [
      "인덱스와 나눌 숫자를 입력하세요 : 2 0\n",
      "숫자를 0으로 나눌 수 없습니다 division by zero\n"
     ]
    }
   ],
   "source": [
    "y = [10, 20, 30]\n",
    "\n",
    "try :\n",
    "    index, x = map(int, input('인덱스와 나눌 숫자를 입력하세요 : ').split())\n",
    "    print(y[index] / x)\n",
    "    \n",
    "except ZeroDivisionError as e:\n",
    "    print('숫자를 0으로 나눌 수 없습니다', e)\n",
    "\n",
    "except IndexError as e:\n",
    "    print('잘못된 인덱스입니다.')"
   ]
  },
  {
   "cell_type": "markdown",
   "id": "b3128f9d",
   "metadata": {},
   "source": [
    "## else, finally 사용하기"
   ]
  },
  {
   "cell_type": "code",
   "execution_count": 10,
   "id": "ea7ecbc3",
   "metadata": {},
   "outputs": [
    {
     "name": "stdout",
     "output_type": "stream",
     "text": [
      "나눌 숫자를 입력하세요 : 0\n",
      "숫자를 0으로 나눌 수 없습니다\n"
     ]
    }
   ],
   "source": [
    "try :\n",
    "    x = int(input('나눌 숫자를 입력하세요 : '))\n",
    "    y = 10 / x\n",
    "    \n",
    "except ZeroDivisionError: \n",
    "    print('숫자를 0으로 나눌 수 없습니다')\n",
    "else : \n",
    "    print(y)"
   ]
  },
  {
   "cell_type": "markdown",
   "id": "140aa2b8",
   "metadata": {},
   "source": [
    "### 예외와는 상관없이 항상 코드 실행하기"
   ]
  },
  {
   "cell_type": "code",
   "execution_count": 11,
   "id": "4a071fe2",
   "metadata": {},
   "outputs": [
    {
     "name": "stdout",
     "output_type": "stream",
     "text": [
      "나눌 숫자를 입력하세요 : 0\n",
      "숫자를 0으로 나눌 수 없습니다\n",
      "코드 실행이 끝났습니다\n"
     ]
    }
   ],
   "source": [
    "try :\n",
    "    x = int(input('나눌 숫자를 입력하세요 : '))\n",
    "    y = 10 / x\n",
    "    \n",
    "except ZeroDivisionError: \n",
    "    print('숫자를 0으로 나눌 수 없습니다')\n",
    "else : \n",
    "    print(y)\n",
    "finally :\n",
    "    print('코드 실행이 끝났습니다')"
   ]
  },
  {
   "cell_type": "markdown",
   "id": "688d370b",
   "metadata": {},
   "source": [
    "## 예외 발생시키기"
   ]
  },
  {
   "cell_type": "code",
   "execution_count": 15,
   "id": "5aeab864",
   "metadata": {},
   "outputs": [
    {
     "name": "stdout",
     "output_type": "stream",
     "text": [
      "나눌 숫자를 입력하세요 : 2\n",
      "코드 실행이 끝났습니다\n"
     ]
    }
   ],
   "source": [
    "try :\n",
    "    x = int(input('나눌 숫자를 입력하세요 : '))\n",
    "    y = 10 / x\n",
    "    \n",
    "except ZeroDivisionError: \n",
    "    print('숫자를 0으로 나눌 수 없습니다')\n",
    "else : \n",
    "    print(y)\n",
    "finally :\n",
    "    print('코드 실행이 끝났습니다')"
   ]
  },
  {
   "cell_type": "markdown",
   "id": "80e8047b",
   "metadata": {},
   "source": [
    "## 예외 발생시키기"
   ]
  },
  {
   "cell_type": "code",
   "execution_count": 18,
   "id": "daf1630a",
   "metadata": {},
   "outputs": [
    {
     "name": "stdout",
     "output_type": "stream",
     "text": [
      "3의 배수를 입력하세요 : 2\n",
      "예외가 발생했습니다 3의 배수가 아닙니다\n"
     ]
    }
   ],
   "source": [
    "try:\n",
    "    x = int(input('3의 배수를 입력하세요 : '))\n",
    "    if x % 3 != 0:\n",
    "        raise Exception('3의 배수가 아닙니다')\n",
    "    print(x)\n",
    "\n",
    "except Exception as e:\n",
    "    print('예외가 발생했습니다', e)"
   ]
  },
  {
   "cell_type": "markdown",
   "id": "6700edb0",
   "metadata": {},
   "source": [
    "### raise의 처리 과정"
   ]
  },
  {
   "cell_type": "code",
   "execution_count": 19,
   "id": "fee76d83",
   "metadata": {},
   "outputs": [
    {
     "name": "stdout",
     "output_type": "stream",
     "text": [
      "3의 배수를 입력하세요 : 17\n",
      "예외가 발생했습니다 3의 배수가 아닙니다\n"
     ]
    }
   ],
   "source": [
    "def three_multiple():\n",
    "    x = int(input('3의 배수를 입력하세요 : '))\n",
    "    if x % 3 != 0:\n",
    "        raise Exception('3의 배수가 아닙니다')\n",
    "    print(x)\n",
    "    \n",
    "try:\n",
    "    three_multiple()\n",
    "\n",
    "except Exception as e:\n",
    "    print('예외가 발생했습니다', e)"
   ]
  },
  {
   "cell_type": "markdown",
   "id": "0de61850",
   "metadata": {},
   "source": [
    "### 현재 예외를 다시 발생시키기"
   ]
  },
  {
   "cell_type": "code",
   "execution_count": 22,
   "id": "cab94ed2",
   "metadata": {},
   "outputs": [
    {
     "name": "stdout",
     "output_type": "stream",
     "text": [
      "3의 배수를 입력하세요 : 17\n",
      "three_multiple 함수에서 예외가 발생했습니다 3의 배수가 아닙니다\n",
      "스크립트 파일에서 예외가 발생했습니다. 3의 배수가 아닙니다\n"
     ]
    }
   ],
   "source": [
    "def three_multiple():\n",
    "    try:\n",
    "        x = int(input('3의 배수를 입력하세요 : '))\n",
    "        if x % 3 != 0:\n",
    "            raise Exception('3의 배수가 아닙니다')\n",
    "        print(x)\n",
    "\n",
    "    except Exception as e:\n",
    "        print('three_multiple 함수에서 예외가 발생했습니다', e)\n",
    "        raise\n",
    "\n",
    "try:\n",
    "    three_multiple()\n",
    "\n",
    "except Exception as e:\n",
    "    print('스크립트 파일에서 예외가 발생했습니다.', e)        "
   ]
  },
  {
   "cell_type": "code",
   "execution_count": null,
   "id": "b6ed540e",
   "metadata": {},
   "outputs": [],
   "source": []
  },
  {
   "cell_type": "markdown",
   "id": "5363a95c",
   "metadata": {},
   "source": [
    "## 예외 만들기"
   ]
  },
  {
   "cell_type": "code",
   "execution_count": 25,
   "id": "3b3ec721",
   "metadata": {},
   "outputs": [
    {
     "name": "stdout",
     "output_type": "stream",
     "text": [
      "3의 배수를 입력하세요 : 6\n",
      "6\n"
     ]
    }
   ],
   "source": [
    "class NotThreeMultipleError(Exception):\n",
    "    def __init__(self):\n",
    "        super().__init__('3의 배수가 아닙니다')\n",
    "        \n",
    "def three_multiple():\n",
    "    try :\n",
    "        x = int(input('3의 배수를 입력하세요 : '))\n",
    "        if x % 3 != 0:\n",
    "            raise NotThreeMultipleError\n",
    "        print(x)\n",
    "    except Exception as e:\n",
    "        print('예외가 발생했습니다', e)\n",
    "\n",
    "three_multiple()"
   ]
  },
  {
   "cell_type": "code",
   "execution_count": 28,
   "id": "a9711636",
   "metadata": {},
   "outputs": [
    {
     "name": "stdout",
     "output_type": "stream",
     "text": [
      "2\n"
     ]
    }
   ],
   "source": [
    "str = 'hello'\n",
    "if str == str[::-1]:\n",
    "    print('1')\n",
    "else:\n",
    "    print('2')"
   ]
  },
  {
   "cell_type": "markdown",
   "id": "1682c3cd",
   "metadata": {},
   "source": [
    "## 연습"
   ]
  },
  {
   "cell_type": "code",
   "execution_count": 37,
   "id": "4175263e",
   "metadata": {},
   "outputs": [
    {
     "name": "stdout",
     "output_type": "stream",
     "text": [
      "level\n",
      "level\n"
     ]
    }
   ],
   "source": [
    "# 38.7 심화문제 : 회문이 아니면 예외 발생시키기\n",
    "# 표준 입력으로 문자열이 입력됩니다. 다음 소스 코드를 완성하여 입력된 문자열이 회문이면 문자열을 그래로\n",
    "# 출력하고, 회문이 아니면 '회문이 아닙니다.'를 출력하도록 만드세요. palindrome 함수와\n",
    "# NotPalindromeError예외를 적성\n",
    "\n",
    "class NotPalindromeError(Exception):\n",
    "    def __init__(self):\n",
    "        super().__init__('회문이 아닙니다.')\n",
    "        \n",
    "def palindrome(world):\n",
    "    if word != word[::-1]:\n",
    "        raise NotPalindromeError\n",
    "    print(word)\n",
    "        \n",
    "try :\n",
    "    word = input()\n",
    "    palindrome(word)\n",
    "    \n",
    "except NotPalindromeError as e:\n",
    "    print(e)"
   ]
  },
  {
   "cell_type": "code",
   "execution_count": null,
   "id": "72c64a6f",
   "metadata": {},
   "outputs": [],
   "source": []
  }
 ],
 "metadata": {
  "kernelspec": {
   "display_name": "Python 3 (ipykernel)",
   "language": "python",
   "name": "python3"
  },
  "language_info": {
   "codemirror_mode": {
    "name": "ipython",
    "version": 3
   },
   "file_extension": ".py",
   "mimetype": "text/x-python",
   "name": "python",
   "nbconvert_exporter": "python",
   "pygments_lexer": "ipython3",
   "version": "3.11.4"
  },
  "toc": {
   "base_numbering": 1,
   "nav_menu": {},
   "number_sections": true,
   "sideBar": true,
   "skip_h1_title": false,
   "title_cell": "Table of Contents",
   "title_sidebar": "Contents",
   "toc_cell": false,
   "toc_position": {},
   "toc_section_display": true,
   "toc_window_display": false
  }
 },
 "nbformat": 4,
 "nbformat_minor": 5
}
