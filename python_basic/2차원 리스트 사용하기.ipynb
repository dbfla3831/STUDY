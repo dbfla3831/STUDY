{
 "cells": [
  {
   "cell_type": "code",
   "execution_count": 1,
   "id": "ee3176f2",
   "metadata": {},
   "outputs": [],
   "source": [
    "from IPython.core.interactiveshell import InteractiveShell\n",
    "InteractiveShell.ast_node_interactivity=\"all\""
   ]
  },
  {
   "cell_type": "markdown",
   "id": "b7b025bc",
   "metadata": {},
   "source": [
    "# 2차원 리스트 만들고 요소에 접근하기\n",
    "\n",
    "- 만들기 : [[값, 값], [값, 값], ...]\n",
    "\n",
    "- 접근하기 : 리스트[세로 인덱스][가로 인덱스]"
   ]
  },
  {
   "cell_type": "code",
   "execution_count": 2,
   "id": "618869aa",
   "metadata": {},
   "outputs": [
    {
     "data": {
      "text/plain": [
       "[[10, 20], [30, 40], [50, 60]]"
      ]
     },
     "execution_count": 2,
     "metadata": {},
     "output_type": "execute_result"
    }
   ],
   "source": [
    "a = [[10, 20], [30, 40], [50, 60]]\n",
    "\n",
    "a"
   ]
  },
  {
   "cell_type": "code",
   "execution_count": 3,
   "id": "0cb44e10",
   "metadata": {},
   "outputs": [
    {
     "data": {
      "text/plain": [
       "10"
      ]
     },
     "execution_count": 3,
     "metadata": {},
     "output_type": "execute_result"
    },
    {
     "data": {
      "text/plain": [
       "50"
      ]
     },
     "execution_count": 3,
     "metadata": {},
     "output_type": "execute_result"
    }
   ],
   "source": [
    "a = [[10, 20], [30, 40], [50, 60]]\n",
    "\n",
    "a[0][0]\n",
    "a[2][0]"
   ]
  },
  {
   "cell_type": "markdown",
   "id": "67408945",
   "metadata": {},
   "source": [
    "# 반복문으로 2차원 리스트의 요소를 모두 출력"
   ]
  },
  {
   "cell_type": "markdown",
   "id": "c6319dda",
   "metadata": {},
   "source": [
    "## for 반복문을 한 번만 사용하기"
   ]
  },
  {
   "cell_type": "code",
   "execution_count": 4,
   "id": "c2d9566b",
   "metadata": {},
   "outputs": [
    {
     "name": "stdout",
     "output_type": "stream",
     "text": [
      "10 20\n",
      "30 40\n",
      "50 60\n"
     ]
    }
   ],
   "source": [
    "a = [[10, 20], [30, 40], [50, 60]]\n",
    "\n",
    "for i, k in a:\n",
    "    print(i, k)"
   ]
  },
  {
   "cell_type": "markdown",
   "id": "c1dea6dd",
   "metadata": {},
   "source": [
    "## for 반복문을 두 번 사용하기"
   ]
  },
  {
   "cell_type": "code",
   "execution_count": 5,
   "id": "73b739f4",
   "metadata": {},
   "outputs": [
    {
     "name": "stdout",
     "output_type": "stream",
     "text": [
      "10 20 \n",
      "30 40 \n",
      "50 60 \n"
     ]
    }
   ],
   "source": [
    "a = [[10, 20], [30, 40], [50, 60]]\n",
    "\n",
    "for i in a: # i는 [10, 20], [30, 40], [50, 60]\n",
    "    for j in i: # j는 i가 [10, 20]일 때 10과 20 ....\n",
    "        print(j, end = ' ')\n",
    "    print()\n"
   ]
  },
  {
   "cell_type": "markdown",
   "id": "2a8c104b",
   "metadata": {},
   "source": [
    "## for와 range 사용하기"
   ]
  },
  {
   "cell_type": "code",
   "execution_count": 6,
   "id": "a8a0d388",
   "metadata": {},
   "outputs": [
    {
     "name": "stdout",
     "output_type": "stream",
     "text": [
      "10 20 \n",
      "30 40 \n",
      "50 60 \n"
     ]
    }
   ],
   "source": [
    "a = [[10, 20], [30, 40], [50, 60]]\n",
    "\n",
    "for i in range(len(a)): # i는 0, 1, 2\n",
    "    for j in range(len(a[i])): # J는 0, 1\n",
    "        print(a[i][j], end = ' ')\n",
    "    print()"
   ]
  },
  {
   "cell_type": "markdown",
   "id": "741f29bc",
   "metadata": {},
   "source": [
    "## while 반복문 한 번 사용하기"
   ]
  },
  {
   "cell_type": "code",
   "execution_count": 7,
   "id": "38096b00",
   "metadata": {},
   "outputs": [
    {
     "name": "stdout",
     "output_type": "stream",
     "text": [
      "10 20\n",
      "30 40\n",
      "50 60\n"
     ]
    }
   ],
   "source": [
    "a = [[10, 20], [30, 40], [50, 60]]\n",
    "i = 0\n",
    "\n",
    "while i < len(a):\n",
    "    x, y = a[i]\n",
    "    print(x, y)\n",
    "    i += 1\n"
   ]
  },
  {
   "cell_type": "markdown",
   "id": "1d345d9a",
   "metadata": {},
   "source": [
    "## while 반복문 두 번 사용하기"
   ]
  },
  {
   "cell_type": "code",
   "execution_count": 8,
   "id": "03c3429a",
   "metadata": {},
   "outputs": [
    {
     "name": "stdout",
     "output_type": "stream",
     "text": [
      "10 20 \n",
      "30 40 \n",
      "50 60 \n"
     ]
    }
   ],
   "source": [
    "a = [[10, 20], [30, 40], [50, 60]]\n",
    "i = 0\n",
    "\n",
    "while i < len(a):\n",
    "    j = 0\n",
    "    while j < len(a[i]):\n",
    "        print(a[i][j], end = ' ')\n",
    "        j += 1\n",
    "    i += 1\n",
    "    print()"
   ]
  },
  {
   "cell_type": "markdown",
   "id": "58b29a16",
   "metadata": {},
   "source": [
    "# 반복문으로 리스트 만들기"
   ]
  },
  {
   "cell_type": "markdown",
   "id": "d0a81d29",
   "metadata": {},
   "source": [
    "# for문 한 번 사용하기"
   ]
  },
  {
   "cell_type": "code",
   "execution_count": 9,
   "id": "eefff5a6",
   "metadata": {},
   "outputs": [
    {
     "name": "stdout",
     "output_type": "stream",
     "text": [
      "[0, 0, 0, 0, 0, 0, 0, 0, 0, 0]\n"
     ]
    }
   ],
   "source": [
    "lst = []\n",
    "for i in range(10):\n",
    "    lst.append(0)\n",
    "print(lst)\n"
   ]
  },
  {
   "cell_type": "markdown",
   "id": "5158bb3c",
   "metadata": {},
   "source": [
    "## for문 두 번 사용하기"
   ]
  },
  {
   "cell_type": "code",
   "execution_count": 11,
   "id": "64b3bf89",
   "metadata": {},
   "outputs": [
    {
     "name": "stdout",
     "output_type": "stream",
     "text": [
      "[[0, 0, 0], [0, 0, 0], [0, 0, 0], [0, 0, 0]]\n"
     ]
    }
   ],
   "source": [
    "lst = []\n",
    "for i in range(4):\n",
    "    lst2 = []\n",
    "    for j in range(3):\n",
    "        lst2.append(0)\n",
    "    lst.append(lst2)\n",
    "print(lst)\n"
   ]
  },
  {
   "cell_type": "markdown",
   "id": "f3dd01d9",
   "metadata": {},
   "source": [
    "## 리스트 표현식 사용하기"
   ]
  },
  {
   "cell_type": "code",
   "execution_count": 12,
   "id": "dd83de9b",
   "metadata": {},
   "outputs": [
    {
     "data": {
      "text/plain": [
       "[[0, 0], [0, 0], [0, 0]]"
      ]
     },
     "execution_count": 12,
     "metadata": {},
     "output_type": "execute_result"
    }
   ],
   "source": [
    "lst = [[0 for j in range(2)] for i in range(3)]\n",
    "\n",
    "lst"
   ]
  },
  {
   "cell_type": "markdown",
   "id": "614d522c",
   "metadata": {},
   "source": [
    "## 리스트 표현식으로 2차원 리스트 만들기(for문 한 번만)\n"
   ]
  },
  {
   "cell_type": "code",
   "execution_count": 13,
   "id": "697dfe26",
   "metadata": {},
   "outputs": [
    {
     "data": {
      "text/plain": [
       "[[0, 0], [0, 0], [0, 0]]"
      ]
     },
     "execution_count": 13,
     "metadata": {},
     "output_type": "execute_result"
    }
   ],
   "source": [
    "lst = [[0] * 2 for i in range(3)]\n",
    "\n",
    "lst"
   ]
  }
 ],
 "metadata": {
  "kernelspec": {
   "display_name": "Python 3 (ipykernel)",
   "language": "python",
   "name": "python3"
  },
  "language_info": {
   "codemirror_mode": {
    "name": "ipython",
    "version": 3
   },
   "file_extension": ".py",
   "mimetype": "text/x-python",
   "name": "python",
   "nbconvert_exporter": "python",
   "pygments_lexer": "ipython3",
   "version": "3.11.5"
  },
  "toc": {
   "base_numbering": 1,
   "nav_menu": {},
   "number_sections": true,
   "sideBar": true,
   "skip_h1_title": false,
   "title_cell": "Table of Contents",
   "title_sidebar": "Contents",
   "toc_cell": false,
   "toc_position": {},
   "toc_section_display": true,
   "toc_window_display": true
  }
 },
 "nbformat": 4,
 "nbformat_minor": 5
}
