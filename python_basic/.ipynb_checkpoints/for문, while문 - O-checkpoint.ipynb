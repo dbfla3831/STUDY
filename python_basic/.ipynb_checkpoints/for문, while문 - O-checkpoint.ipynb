{
 "cells": [
  {
   "cell_type": "code",
   "execution_count": 1,
   "id": "7750d0f2",
   "metadata": {},
   "outputs": [],
   "source": [
    "from IPython.core.interactiveshell import InteractiveShell\n",
    "InteractiveShell.ast_node_interactivity=\"all\"\n",
    "\n",
    "import warnings\n",
    "warnings.filterwarnings('ignore')"
   ]
  },
  {
   "cell_type": "markdown",
   "id": "4f31f9ce",
   "metadata": {},
   "source": [
    "# for문"
   ]
  },
  {
   "cell_type": "markdown",
   "id": "f0cb0e68",
   "metadata": {},
   "source": [
    "## for문과 range 이용"
   ]
  },
  {
   "cell_type": "code",
   "execution_count": 6,
   "id": "26e15b54",
   "metadata": {},
   "outputs": [
    {
     "name": "stdout",
     "output_type": "stream",
     "text": [
      "Hello world!\n",
      "Hello world!\n",
      "Hello world!\n",
      "Hello world!\n",
      "Hello world!\n",
      "Hello world!\n",
      "Hello world!\n",
      "Hello world!\n",
      "Hello world!\n",
      "Hello world!\n"
     ]
    }
   ],
   "source": [
    "for i in range(10):\n",
    "    print(\"Hello world!\")"
   ]
  },
  {
   "cell_type": "code",
   "execution_count": 4,
   "id": "ce594853",
   "metadata": {},
   "outputs": [
    {
     "name": "stdout",
     "output_type": "stream",
     "text": [
      "hello, world0\n",
      "hello, world1\n",
      "hello, world2\n",
      "hello, world3\n",
      "hello, world4\n",
      "hello, world5\n",
      "hello, world6\n",
      "hello, world7\n",
      "hello, world8\n",
      "hello, world9\n"
     ]
    }
   ],
   "source": [
    "for i in range(10):\n",
    "    print(\"hello, world\", i, sep = \"\")"
   ]
  },
  {
   "cell_type": "markdown",
   "id": "44510685",
   "metadata": {},
   "source": [
    "## for문과 range 응용\n",
    "\n",
    "- for 변수 in range(start, end, step)"
   ]
  },
  {
   "cell_type": "code",
   "execution_count": 7,
   "id": "0233717c",
   "metadata": {},
   "outputs": [
    {
     "name": "stdout",
     "output_type": "stream",
     "text": [
      "0 번째 hello world!\n",
      "2 번째 hello world!\n",
      "4 번째 hello world!\n",
      "6 번째 hello world!\n",
      "8 번째 hello world!\n"
     ]
    }
   ],
   "source": [
    "for i in range(0, 10, 2):\n",
    "    print(i, \"번째\", \"hello world!\")"
   ]
  },
  {
   "cell_type": "code",
   "execution_count": 8,
   "id": "91d806cd",
   "metadata": {},
   "outputs": [
    {
     "name": "stdout",
     "output_type": "stream",
     "text": [
      "10 번째 hello world!\n",
      "8 번째 hello world!\n",
      "6 번째 hello world!\n",
      "4 번째 hello world!\n",
      "2 번째 hello world!\n"
     ]
    }
   ],
   "source": [
    "for i in range(10, 0, -2):\n",
    "    print(i,\"번째\", \"hello world!\")"
   ]
  },
  {
   "cell_type": "markdown",
   "id": "2b1df5bb",
   "metadata": {},
   "source": [
    "감소하는 방법 : reversed\n",
    "\n",
    "- 숫자의 순서를 뒤집음\n",
    "\n",
    "- for 변수 in reversed(range(start, end, step))"
   ]
  },
  {
   "cell_type": "code",
   "execution_count": 9,
   "id": "d0afaf38",
   "metadata": {},
   "outputs": [
    {
     "name": "stdout",
     "output_type": "stream",
     "text": [
      "8 번째 hello world\n",
      "6 번째 hello world\n",
      "4 번째 hello world\n",
      "2 번째 hello world\n",
      "0 번째 hello world\n"
     ]
    }
   ],
   "source": [
    "for i in reversed(range(0, 10, 2)):\n",
    "    print(i, \"번째\", \"hello world\")"
   ]
  },
  {
   "cell_type": "code",
   "execution_count": 10,
   "id": "338dc5c0",
   "metadata": {},
   "outputs": [
    {
     "name": "stdout",
     "output_type": "stream",
     "text": [
      "2 번째 hello world\n",
      "4 번째 hello world\n",
      "6 번째 hello world\n",
      "8 번째 hello world\n",
      "10 번째 hello world\n"
     ]
    }
   ],
   "source": [
    "for i in reversed(range(10, 0, -2)):\n",
    "    print(i, \"번째\", \"hello world\")"
   ]
  },
  {
   "cell_type": "markdown",
   "id": "51414f77",
   "metadata": {},
   "source": [
    "입력 받아 for문 수행"
   ]
  },
  {
   "cell_type": "code",
   "execution_count": 11,
   "id": "986d407f",
   "metadata": {},
   "outputs": [
    {
     "name": "stdout",
     "output_type": "stream",
     "text": [
      "반복할 횟수를 입력하세요 : 4\n",
      "0 번째 hello world!\n",
      "1 번째 hello world!\n",
      "2 번째 hello world!\n",
      "3 번째 hello world!\n"
     ]
    }
   ],
   "source": [
    "count = int(input(\"반복할 횟수를 입력하세요 : \"))\n",
    "\n",
    "for i in range(count):\n",
    "    print(i, \"번째\", \"hello world!\")"
   ]
  },
  {
   "cell_type": "markdown",
   "id": "3db7988c",
   "metadata": {},
   "source": [
    "## 시퀀스 객체로 반복하기"
   ]
  },
  {
   "cell_type": "markdown",
   "id": "1b90f6d4",
   "metadata": {},
   "source": [
    "리스트"
   ]
  },
  {
   "cell_type": "code",
   "execution_count": 12,
   "id": "5d096260",
   "metadata": {},
   "outputs": [
    {
     "name": "stdout",
     "output_type": "stream",
     "text": [
      "10\n",
      "20\n",
      "30\n",
      "40\n",
      "50\n"
     ]
    }
   ],
   "source": [
    "lst = [10, 20, 30, 40, 50]\n",
    "\n",
    "for i in lst:\n",
    "    print(i)"
   ]
  },
  {
   "cell_type": "markdown",
   "id": "5f1815ef",
   "metadata": {},
   "source": [
    "튜플"
   ]
  },
  {
   "cell_type": "code",
   "execution_count": 13,
   "id": "393d1980",
   "metadata": {},
   "outputs": [
    {
     "name": "stdout",
     "output_type": "stream",
     "text": [
      "10\n",
      "20\n",
      "30\n",
      "40\n",
      "50\n"
     ]
    }
   ],
   "source": [
    "tup = (10, 20, 30, 40, 50)\n",
    "\n",
    "for i in tup:\n",
    "    print(i)"
   ]
  },
  {
   "cell_type": "markdown",
   "id": "52b1b6dd",
   "metadata": {},
   "source": [
    "문자열"
   ]
  },
  {
   "cell_type": "code",
   "execution_count": 14,
   "id": "6964cf35",
   "metadata": {},
   "outputs": [
    {
     "name": "stdout",
     "output_type": "stream",
     "text": [
      "p y t h o n "
     ]
    }
   ],
   "source": [
    "for i in 'python':\n",
    "    print(i, end = ' ')"
   ]
  },
  {
   "cell_type": "markdown",
   "id": "3153a98f",
   "metadata": {},
   "source": [
    "문자열 reversed"
   ]
  },
  {
   "cell_type": "code",
   "execution_count": 15,
   "id": "82856db3",
   "metadata": {},
   "outputs": [
    {
     "name": "stdout",
     "output_type": "stream",
     "text": [
      "n o h t y p "
     ]
    }
   ],
   "source": [
    "for i in reversed('python'):\n",
    "    print(i, end = ' ')"
   ]
  },
  {
   "cell_type": "markdown",
   "id": "8bdd9378",
   "metadata": {},
   "source": [
    "## 연습"
   ]
  },
  {
   "cell_type": "markdown",
   "id": "d8131373",
   "metadata": {},
   "source": [
    "### 16.6 심사 문제 : 구구단 출력하기\n",
    "표준 입력으로 정수가 입력됩니다. 입력된 정수의 구구단을 출력하는 프로그램을\n",
    "만드세요(input에서 안내 문자열은 출력하지 않아야 합니다).\n",
    "출력 형식은 숫자 * 숫자 = 숫자처럼 만들고 숫자와 *, = 사이는 공백은 한 칸 띄웁니다."
   ]
  },
  {
   "cell_type": "code",
   "execution_count": 16,
   "id": "5977198f",
   "metadata": {},
   "outputs": [
    {
     "name": "stdout",
     "output_type": "stream",
     "text": [
      "4\n",
      "4 * 1 = 4\n",
      "4 * 2 = 8\n",
      "4 * 3 = 12\n",
      "4 * 4 = 16\n",
      "4 * 5 = 20\n",
      "4 * 6 = 24\n",
      "4 * 7 = 28\n",
      "4 * 8 = 32\n",
      "4 * 9 = 36\n"
     ]
    }
   ],
   "source": [
    "num = int(input())\n",
    "\n",
    "for i in range(1, 10):\n",
    "    print(num, \"*\", i, \"=\", num * i)"
   ]
  },
  {
   "cell_type": "markdown",
   "id": "4fb04027",
   "metadata": {},
   "source": [
    "### 로또 만들기"
   ]
  },
  {
   "cell_type": "code",
   "execution_count": 17,
   "id": "d0b631f8",
   "metadata": {},
   "outputs": [
    {
     "name": "stdout",
     "output_type": "stream",
     "text": [
      "9 39 41 42 38 20 \n",
      "24 11 31 9 32 8 \n",
      "10 35 27 1 2 21 \n",
      "37 20 3 8 10 13 \n",
      "36 44 35 18 43 23 \n"
     ]
    }
   ],
   "source": [
    "import random\n",
    "\n",
    "for i in range(5):\n",
    "    for i in range(6):\n",
    "        r = random.randint(1, 45)\n",
    "        print(r, end = ' ')\n",
    "    print()"
   ]
  },
  {
   "cell_type": "markdown",
   "id": "3fa70cff",
   "metadata": {},
   "source": [
    "# while문"
   ]
  },
  {
   "cell_type": "code",
   "execution_count": 18,
   "id": "fcf6334d",
   "metadata": {},
   "outputs": [
    {
     "name": "stdout",
     "output_type": "stream",
     "text": [
      "hello, world!\n",
      "hello, world!\n",
      "hello, world!\n",
      "hello, world!\n",
      "hello, world!\n"
     ]
    }
   ],
   "source": [
    "i = 0\n",
    "\n",
    "while i < 5:\n",
    "    print(\"hello, world!\")\n",
    "    i += 1"
   ]
  },
  {
   "cell_type": "code",
   "execution_count": null,
   "id": "2d6d22e5",
   "metadata": {},
   "outputs": [],
   "source": [
    "i = 0\n",
    "\n",
    "while True: # True는 계속 참이라 무한 반복\n",
    "    print(\"hello, world!\")\n",
    "    i += 1"
   ]
  },
  {
   "cell_type": "code",
   "execution_count": 19,
   "id": "749f67c8",
   "metadata": {},
   "outputs": [],
   "source": [
    "i = 0\n",
    "\n",
    "while False: # False는 계속 거짓이라 실행X\n",
    "    print(\"hello, world!\")\n",
    "    i += 1"
   ]
  },
  {
   "cell_type": "markdown",
   "id": "e5cd04d5",
   "metadata": {},
   "source": [
    "증가"
   ]
  },
  {
   "cell_type": "code",
   "execution_count": 20,
   "id": "c728a982",
   "metadata": {},
   "outputs": [
    {
     "name": "stdout",
     "output_type": "stream",
     "text": [
      "1 hello world\n",
      "2 hello world\n",
      "3 hello world\n",
      "4 hello world\n",
      "5 hello world\n"
     ]
    }
   ],
   "source": [
    "i = 1\n",
    "\n",
    "while i <= 5:\n",
    "    print(i, 'hello world')\n",
    "    i += 1"
   ]
  },
  {
   "cell_type": "markdown",
   "id": "8ba81398",
   "metadata": {},
   "source": [
    "감소"
   ]
  },
  {
   "cell_type": "code",
   "execution_count": 21,
   "id": "59841951",
   "metadata": {},
   "outputs": [
    {
     "name": "stdout",
     "output_type": "stream",
     "text": [
      "5 hello world\n",
      "4 hello world\n",
      "3 hello world\n",
      "2 hello world\n",
      "1 hello world\n"
     ]
    }
   ],
   "source": [
    "i = 5\n",
    "\n",
    "while i > 0 :\n",
    "    print(i, 'hello world')\n",
    "    i -= 1"
   ]
  },
  {
   "cell_type": "markdown",
   "id": "875dc9ad",
   "metadata": {},
   "source": [
    "입력받아 while문 수행"
   ]
  },
  {
   "cell_type": "code",
   "execution_count": 22,
   "id": "85deaf81",
   "metadata": {},
   "outputs": [
    {
     "name": "stdout",
     "output_type": "stream",
     "text": [
      "6\n",
      "0 hello world\n",
      "1 hello world\n",
      "2 hello world\n",
      "3 hello world\n",
      "4 hello world\n",
      "5 hello world\n",
      "6 hello world\n"
     ]
    }
   ],
   "source": [
    "count = int(input())\n",
    "\n",
    "i = 0\n",
    "\n",
    "while i <= count:\n",
    "    print(i, 'hello world')\n",
    "    i += 1"
   ]
  },
  {
   "cell_type": "markdown",
   "id": "3968b837",
   "metadata": {},
   "source": [
    "## 반복 횟수가 정해지지 않은 경우\n",
    "\n",
    "- 난수 사용\n",
    "\n",
    "- 난수 : 특정 주기로 반복되지 않으며 규칙 없이 무작위로 나열되는 숫자\n",
    "\n",
    "- random을 이용 -> import 모듈\n",
    "\n",
    "- 모듈 이름. 모듈 메소드"
   ]
  },
  {
   "cell_type": "code",
   "execution_count": 24,
   "id": "163d53e6",
   "metadata": {},
   "outputs": [
    {
     "name": "stdout",
     "output_type": "stream",
     "text": [
      "0.8337291756358066\n",
      "0.7119296115422973\n",
      "0.6603259689943262\n"
     ]
    }
   ],
   "source": [
    "import random\n",
    "\n",
    "print(random.random())\n",
    "print(random.random())\n",
    "print(random.random())"
   ]
  },
  {
   "cell_type": "markdown",
   "id": "d7e7a411",
   "metadata": {},
   "source": [
    "random.randint(a, b) : a와 b 사이의 난수 생성(1과 6도 나올 수 있다)"
   ]
  },
  {
   "cell_type": "code",
   "execution_count": 25,
   "id": "4901d1f1",
   "metadata": {},
   "outputs": [
    {
     "name": "stdout",
     "output_type": "stream",
     "text": [
      "6\n",
      "6\n",
      "3\n"
     ]
    }
   ],
   "source": [
    "print(random.randint(1, 6))\n",
    "print(random.randint(1, 6))\n",
    "print(random.randint(1, 6))"
   ]
  },
  {
   "cell_type": "markdown",
   "id": "3af5d184",
   "metadata": {},
   "source": [
    "3이 나올 때까지 주사위를 계속 던지는 것과 같다"
   ]
  },
  {
   "cell_type": "code",
   "execution_count": 27,
   "id": "79631f43",
   "metadata": {},
   "outputs": [
    {
     "name": "stdout",
     "output_type": "stream",
     "text": [
      "5\n",
      "4\n",
      "6\n",
      "4\n",
      "4\n",
      "2\n",
      "1\n",
      "3\n"
     ]
    }
   ],
   "source": [
    "i = 0\n",
    "\n",
    "while i != 3: # 3이 나오면 멈춰라\n",
    "    i = random.randint(1,6)\n",
    "    print(i)\n"
   ]
  },
  {
   "cell_type": "markdown",
   "id": "fca30a53",
   "metadata": {},
   "source": [
    "random.choice : 시퀀스 객체에서 요소를 무작위로 선택\n",
    "\n",
    "- 리스트, 튜플, range, 문자열로 가능"
   ]
  },
  {
   "cell_type": "code",
   "execution_count": 28,
   "id": "25f1a368",
   "metadata": {},
   "outputs": [
    {
     "name": "stdout",
     "output_type": "stream",
     "text": [
      "3\n",
      "3\n",
      "1\n"
     ]
    }
   ],
   "source": [
    "lst = [1, 2, 3, 4, 5]\n",
    "\n",
    "print(random.choice(lst))\n",
    "print(random.choice(lst))\n",
    "print(random.choice(lst))"
   ]
  },
  {
   "cell_type": "code",
   "execution_count": 29,
   "id": "6d3036e3",
   "metadata": {},
   "outputs": [
    {
     "name": "stdout",
     "output_type": "stream",
     "text": [
      "6\n",
      "9\n",
      "8\n"
     ]
    }
   ],
   "source": [
    "r = range(10)\n",
    "\n",
    "print(random.choice(r))\n",
    "print(random.choice(r))\n",
    "print(random.choice(r))"
   ]
  },
  {
   "cell_type": "code",
   "execution_count": 30,
   "id": "5051f673",
   "metadata": {},
   "outputs": [
    {
     "name": "stdout",
     "output_type": "stream",
     "text": [
      "n\n",
      "n\n",
      "n\n"
     ]
    }
   ],
   "source": [
    "s = 'python'\n",
    "\n",
    "print(random.choice(s))\n",
    "print(random.choice(s))\n",
    "print(random.choice(s))"
   ]
  }
 ],
 "metadata": {
  "kernelspec": {
   "display_name": "Python 3 (ipykernel)",
   "language": "python",
   "name": "python3"
  },
  "language_info": {
   "codemirror_mode": {
    "name": "ipython",
    "version": 3
   },
   "file_extension": ".py",
   "mimetype": "text/x-python",
   "name": "python",
   "nbconvert_exporter": "python",
   "pygments_lexer": "ipython3",
   "version": "3.11.5"
  },
  "toc": {
   "base_numbering": 1,
   "nav_menu": {},
   "number_sections": true,
   "sideBar": true,
   "skip_h1_title": false,
   "title_cell": "Table of Contents",
   "title_sidebar": "Contents",
   "toc_cell": false,
   "toc_position": {
    "height": "calc(100% - 180px)",
    "left": "10px",
    "top": "150px",
    "width": "183.242px"
   },
   "toc_section_display": true,
   "toc_window_display": false
  }
 },
 "nbformat": 4,
 "nbformat_minor": 5
}
