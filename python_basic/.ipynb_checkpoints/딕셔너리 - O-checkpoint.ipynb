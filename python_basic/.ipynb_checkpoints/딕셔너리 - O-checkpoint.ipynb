{
 "cells": [
  {
   "cell_type": "code",
   "execution_count": 1,
   "id": "5665c9d0",
   "metadata": {},
   "outputs": [],
   "source": [
    "from IPython.core.interactiveshell import InteractiveShell\n",
    "InteractiveShell.ast_node_interactivity=\"all\"\n",
    "\n",
    "import warnings\n",
    "warnings.filterwarnings('ignore')"
   ]
  },
  {
   "cell_type": "markdown",
   "id": "55d8bff6",
   "metadata": {},
   "source": [
    "# 딕셔너리 만들기\n",
    "\n",
    "- 딕셔너리 = {key1 : value1, key2 : value2, ..}"
   ]
  },
  {
   "cell_type": "code",
   "execution_count": 2,
   "id": "2a158cc3",
   "metadata": {},
   "outputs": [
    {
     "data": {
      "text/plain": [
       "{'health': 490, 'mana': 334, 'melee': 550, 'armor': 18.72}"
      ]
     },
     "execution_count": 2,
     "metadata": {},
     "output_type": "execute_result"
    }
   ],
   "source": [
    "lux = {'health' : 490, 'mana' : 334, 'melee' : 550, 'armor' : 18.72}\n",
    "\n",
    "lux"
   ]
  },
  {
   "cell_type": "markdown",
   "id": "07191ced",
   "metadata": {},
   "source": [
    "특정 key값에 해당하는 value 출력"
   ]
  },
  {
   "cell_type": "code",
   "execution_count": 3,
   "id": "7eb0ef65",
   "metadata": {},
   "outputs": [
    {
     "data": {
      "text/plain": [
       "490"
      ]
     },
     "execution_count": 3,
     "metadata": {},
     "output_type": "execute_result"
    }
   ],
   "source": [
    "lux['health']"
   ]
  },
  {
   "cell_type": "markdown",
   "id": "8f72db6d",
   "metadata": {},
   "source": [
    "key 이름이 중복이면 마지막에 나온 값만 사용"
   ]
  },
  {
   "cell_type": "code",
   "execution_count": 5,
   "id": "32c4d60f",
   "metadata": {},
   "outputs": [
    {
     "data": {
      "text/plain": [
       "{'health': 334, 'melee': 550, 'armor': 18.72}"
      ]
     },
     "execution_count": 5,
     "metadata": {},
     "output_type": "execute_result"
    }
   ],
   "source": [
    "lux = {'health' : 490, 'health' : 334, 'melee' : 550, 'armor' : 18.72}\n",
    "\n",
    "lux"
   ]
  },
  {
   "cell_type": "markdown",
   "id": "bc49c801",
   "metadata": {},
   "source": [
    "- value에는 리스트, 딕셔러니를 사용할 수 있다\n",
    "\n",
    "- key에는 문자열, 정수, 실수, bool을 사용(섞어서 사용 O)\n",
    "\n",
    "- key에는 리스트, 딕셔러니 사용 X"
   ]
  },
  {
   "cell_type": "code",
   "execution_count": 6,
   "id": "0b2a44dd",
   "metadata": {},
   "outputs": [
    {
     "data": {
      "text/plain": [
       "{100: 'hundred', False: 0, 3.5: [3.5, 3.5]}"
      ]
     },
     "execution_count": 6,
     "metadata": {},
     "output_type": "execute_result"
    }
   ],
   "source": [
    "x = {100 : 'hundred', False : 0, 3.5 : [3.5, 3.5]}\n",
    "\n",
    "x"
   ]
  },
  {
   "cell_type": "markdown",
   "id": "5281d85c",
   "metadata": {},
   "source": [
    "## 빈 딕셔너리 만들기\n",
    "\n",
    "- dic = {}\n",
    "\n",
    "- dic = dict()"
   ]
  },
  {
   "cell_type": "code",
   "execution_count": 7,
   "id": "867d64b7",
   "metadata": {},
   "outputs": [
    {
     "data": {
      "text/plain": [
       "{}"
      ]
     },
     "execution_count": 7,
     "metadata": {},
     "output_type": "execute_result"
    }
   ],
   "source": [
    "dic = {}\n",
    "\n",
    "dic"
   ]
  },
  {
   "cell_type": "code",
   "execution_count": 8,
   "id": "a2a33cbd",
   "metadata": {},
   "outputs": [
    {
     "data": {
      "text/plain": [
       "{}"
      ]
     },
     "execution_count": 8,
     "metadata": {},
     "output_type": "execute_result"
    }
   ],
   "source": [
    "dic = dict()\n",
    "\n",
    "dic"
   ]
  },
  {
   "cell_type": "markdown",
   "id": "1d16f90d",
   "metadata": {},
   "source": [
    "## dict를 이용해 딕셔너리 생성"
   ]
  },
  {
   "cell_type": "markdown",
   "id": "a6d664f4",
   "metadata": {},
   "source": [
    "- dic = dict(key1 = value1, key2 = value2, ..)\n",
    "\n",
    "=> key에 ' ', \" \"를 사용 X\n",
    "\n",
    "- dic = dict([(key1, value2), {key2, value2), ...])\n",
    "\n",
    "- dic = dict(zip([key1, key2], [value1, value2], ...))\n",
    "\n",
    "- dic = dict({key1 : value1, key2 : value2, ...})"
   ]
  },
  {
   "cell_type": "markdown",
   "id": "bf684470",
   "metadata": {},
   "source": [
    "key = value"
   ]
  },
  {
   "cell_type": "code",
   "execution_count": 9,
   "id": "68282392",
   "metadata": {},
   "outputs": [
    {
     "data": {
      "text/plain": [
       "{'health': 490, 'mana': 334, 'melee': 550, 'armor': 18.72}"
      ]
     },
     "execution_count": 9,
     "metadata": {},
     "output_type": "execute_result"
    }
   ],
   "source": [
    "lux = dict(health = 490, mana = 334, melee = 550, armor = 18.72)\n",
    "\n",
    "lux"
   ]
  },
  {
   "cell_type": "markdown",
   "id": "2443aff9",
   "metadata": {},
   "source": [
    "리스트 안에 (key, value)"
   ]
  },
  {
   "cell_type": "code",
   "execution_count": 10,
   "id": "9549264c",
   "metadata": {},
   "outputs": [
    {
     "data": {
      "text/plain": [
       "{'health': 490, 'mana': 334, 'melee': 550, 'armor': 18.72}"
      ]
     },
     "execution_count": 10,
     "metadata": {},
     "output_type": "execute_result"
    }
   ],
   "source": [
    "lux = dict([('health', 490), ('mana', 334), ('melee', 550), ('armor', 18.72)])\n",
    "\n",
    "lux"
   ]
  },
  {
   "cell_type": "markdown",
   "id": "192b9742",
   "metadata": {},
   "source": [
    "zip"
   ]
  },
  {
   "cell_type": "code",
   "execution_count": 11,
   "id": "88269488",
   "metadata": {},
   "outputs": [
    {
     "data": {
      "text/plain": [
       "{'health': 490, 'mana': 334, 'melee': 550, 'armor': 18.72}"
      ]
     },
     "execution_count": 11,
     "metadata": {},
     "output_type": "execute_result"
    }
   ],
   "source": [
    "lux = dict(zip(['health', 'mana', 'melee', 'armor'], [490, 334, 550, 18.72]))\n",
    "\n",
    "lux"
   ]
  },
  {
   "cell_type": "markdown",
   "id": "572f0718",
   "metadata": {},
   "source": [
    "dict 안에 {}를 이용"
   ]
  },
  {
   "cell_type": "code",
   "execution_count": 12,
   "id": "61e74386",
   "metadata": {},
   "outputs": [
    {
     "data": {
      "text/plain": [
       "{'health': 490, 'mana': 334, 'melee': 550, 'armor': 18.72}"
      ]
     },
     "execution_count": 12,
     "metadata": {},
     "output_type": "execute_result"
    }
   ],
   "source": [
    "lux = dict({'health' : 490, 'mana' : 334, 'melee' : 550, 'armor' : 18.72})\n",
    "\n",
    "lux"
   ]
  },
  {
   "cell_type": "markdown",
   "id": "ee31b075",
   "metadata": {},
   "source": [
    "## 딕셔너리 key에 접근하고 값 할당하기\n",
    "\n",
    "- dic[key]\n",
    "\n",
    "- dic[key] = value"
   ]
  },
  {
   "cell_type": "code",
   "execution_count": 13,
   "id": "d46a6705",
   "metadata": {},
   "outputs": [
    {
     "data": {
      "text/plain": [
       "{'health': 490, 'mana': 334, 'melee': 550, 'armor': 18.72}"
      ]
     },
     "execution_count": 13,
     "metadata": {},
     "output_type": "execute_result"
    }
   ],
   "source": [
    "lux = {'health' : 490, 'mana' : 334, 'melee' : 550, 'armor' : 18.72}\n",
    "\n",
    "lux"
   ]
  },
  {
   "cell_type": "code",
   "execution_count": 14,
   "id": "0b6ec3d0",
   "metadata": {},
   "outputs": [
    {
     "data": {
      "text/plain": [
       "490"
      ]
     },
     "execution_count": 14,
     "metadata": {},
     "output_type": "execute_result"
    },
    {
     "data": {
      "text/plain": [
       "18.72"
      ]
     },
     "execution_count": 14,
     "metadata": {},
     "output_type": "execute_result"
    }
   ],
   "source": [
    "lux['health']\n",
    "lux['armor']"
   ]
  },
  {
   "cell_type": "code",
   "execution_count": 15,
   "id": "aa802d6d",
   "metadata": {},
   "outputs": [
    {
     "data": {
      "text/plain": [
       "{'health': 490, 'mana': 334, 'melee': 550, 'armor': 18.72}"
      ]
     },
     "execution_count": 15,
     "metadata": {},
     "output_type": "execute_result"
    }
   ],
   "source": [
    "lux = {'health' : 490, 'mana' : 334, 'melee' : 550, 'armor' : 18.72} \n",
    "\n",
    "lux"
   ]
  },
  {
   "cell_type": "code",
   "execution_count": 16,
   "id": "11cdc769",
   "metadata": {},
   "outputs": [
    {
     "data": {
      "text/plain": [
       "{'health': 2037, 'mana': 1184, 'melee': 550, 'armor': 18.72}"
      ]
     },
     "execution_count": 16,
     "metadata": {},
     "output_type": "execute_result"
    }
   ],
   "source": [
    "lux['health'] = 2037\n",
    "lux['mana'] = 1184\n",
    "\n",
    "lux"
   ]
  },
  {
   "cell_type": "markdown",
   "id": "e802b5e6",
   "metadata": {},
   "source": [
    "## 딕셔너리에 key, value 추가"
   ]
  },
  {
   "cell_type": "code",
   "execution_count": 17,
   "id": "eba448ae",
   "metadata": {},
   "outputs": [
    {
     "data": {
      "text/plain": [
       "{'health': 490, 'mana': 334, 'melee': 550, 'armor': 18.72}"
      ]
     },
     "execution_count": 17,
     "metadata": {},
     "output_type": "execute_result"
    }
   ],
   "source": [
    "lux = {'health' : 490, 'mana' : 334, 'melee' : 550, 'armor' : 18.72}\n",
    "\n",
    "lux"
   ]
  },
  {
   "cell_type": "code",
   "execution_count": 19,
   "id": "27ca252d",
   "metadata": {},
   "outputs": [
    {
     "data": {
      "text/plain": [
       "{'health': 490, 'mana': 334, 'melee': 550, 'armor': 18.72, 'a': 1000}"
      ]
     },
     "execution_count": 19,
     "metadata": {},
     "output_type": "execute_result"
    }
   ],
   "source": [
    "lux['a'] = 1000\n",
    "\n",
    "lux"
   ]
  },
  {
   "cell_type": "code",
   "execution_count": 20,
   "id": "c9bbc994",
   "metadata": {},
   "outputs": [
    {
     "data": {
      "text/plain": [
       "{'health': 490, 'mana': 334, 'melee': 550, 'armor': 18.72}"
      ]
     },
     "execution_count": 20,
     "metadata": {},
     "output_type": "execute_result"
    },
    {
     "data": {
      "text/plain": [
       "{'health': 490, 'mana': 334, 'melee': 550, 'armor': 18.72, 'a': [10, 20, 30]}"
      ]
     },
     "execution_count": 20,
     "metadata": {},
     "output_type": "execute_result"
    }
   ],
   "source": [
    "lux = {'health' : 490, 'mana' : 334, 'melee' : 550, 'armor' : 18.72}\n",
    "\n",
    "lux\n",
    "\n",
    "lux['a'] = [10, 20, 30]\n",
    "lux"
   ]
  },
  {
   "cell_type": "markdown",
   "id": "d4799bfd",
   "metadata": {},
   "source": [
    "   ## 딕셔너리에 키가 있는지 확인\n",
    "   \n",
    "   - key in dict\n",
    "   \n",
    "   - key not in dict"
   ]
  },
  {
   "cell_type": "code",
   "execution_count": 21,
   "id": "5681db7c",
   "metadata": {},
   "outputs": [
    {
     "data": {
      "text/plain": [
       "True"
      ]
     },
     "execution_count": 21,
     "metadata": {},
     "output_type": "execute_result"
    },
    {
     "data": {
      "text/plain": [
       "False"
      ]
     },
     "execution_count": 21,
     "metadata": {},
     "output_type": "execute_result"
    }
   ],
   "source": [
    "lux = {'health' : 490, 'mana' : 334, 'melee' : 550, 'armor' : 18.72}\n",
    "\n",
    "'health' in lux\n",
    "'a' in lux"
   ]
  },
  {
   "cell_type": "markdown",
   "id": "77fc7d87",
   "metadata": {},
   "source": [
    "## 딕셔너리의 key 개수 구하기\n",
    "\n",
    "- len(dict)"
   ]
  },
  {
   "cell_type": "code",
   "execution_count": 22,
   "id": "c74a65b3",
   "metadata": {},
   "outputs": [
    {
     "data": {
      "text/plain": [
       "4"
      ]
     },
     "execution_count": 22,
     "metadata": {},
     "output_type": "execute_result"
    }
   ],
   "source": [
    "lux = {'health' : 490, 'mana' : 334, 'melee' : 550, 'armor' : 18.72}\n",
    "\n",
    "len(lux)"
   ]
  }
 ],
 "metadata": {
  "kernelspec": {
   "display_name": "Python 3 (ipykernel)",
   "language": "python",
   "name": "python3"
  },
  "language_info": {
   "codemirror_mode": {
    "name": "ipython",
    "version": 3
   },
   "file_extension": ".py",
   "mimetype": "text/x-python",
   "name": "python",
   "nbconvert_exporter": "python",
   "pygments_lexer": "ipython3",
   "version": "3.11.5"
  },
  "toc": {
   "base_numbering": 1,
   "nav_menu": {},
   "number_sections": true,
   "sideBar": true,
   "skip_h1_title": false,
   "title_cell": "Table of Contents",
   "title_sidebar": "Contents",
   "toc_cell": false,
   "toc_position": {
    "height": "calc(100% - 180px)",
    "left": "10px",
    "top": "150px",
    "width": "183.242px"
   },
   "toc_section_display": true,
   "toc_window_display": false
  }
 },
 "nbformat": 4,
 "nbformat_minor": 5
}
