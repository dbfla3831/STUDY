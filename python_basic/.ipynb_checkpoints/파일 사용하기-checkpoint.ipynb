{
 "cells": [
  {
   "cell_type": "code",
   "execution_count": 3,
   "id": "82324e63",
   "metadata": {},
   "outputs": [],
   "source": [
    "from IPython.core.interactiveshell import InteractiveShell\n",
    "InteractiveShell.ast_node_interactivity=\"all\""
   ]
  },
  {
   "cell_type": "markdown",
   "id": "abf7ff52",
   "metadata": {},
   "source": [
    "# 파일에 문자열 쓰기, 읽기"
   ]
  },
  {
   "cell_type": "markdown",
   "id": "03581f1d",
   "metadata": {},
   "source": [
    "## 파일에 문자열 쓰기\n",
    "\n",
    "- 파일객체 = open(파일이름, 파일모드)\n",
    "\n",
    "    w : 쓰기\n",
    "\n",
    "    r : 읽기\n",
    "\n",
    "- 파일객체.write(\"문지열\")\n",
    "\n",
    "- 파일객체.close()"
   ]
  },
  {
   "cell_type": "code",
   "execution_count": 1,
   "id": "4f7f5832",
   "metadata": {},
   "outputs": [],
   "source": [
    "file = open('hello.txt', 'w')\n",
    "file.write('hello, world!')\n",
    "file.close()"
   ]
  },
  {
   "cell_type": "markdown",
   "id": "922a82b8",
   "metadata": {},
   "source": [
    "## 파일에서 문자열 읽기\n",
    "\n",
    "- 변수 = 파일객체.read()"
   ]
  },
  {
   "cell_type": "code",
   "execution_count": 4,
   "id": "d48f3a93",
   "metadata": {},
   "outputs": [
    {
     "data": {
      "text/plain": [
       "'hello, world!'"
      ]
     },
     "execution_count": 4,
     "metadata": {},
     "output_type": "execute_result"
    }
   ],
   "source": [
    "file = open('hello.txt', 'r')\n",
    "s = file.read()\n",
    "\n",
    "s\n",
    "file.close()"
   ]
  },
  {
   "cell_type": "markdown",
   "id": "97f60baa",
   "metadata": {},
   "source": [
    "## 자동으로 파일 객체 닫기\n",
    "\n",
    "- with open(\"파일명\", \"코드\") as 파일객체"
   ]
  },
  {
   "cell_type": "code",
   "execution_count": 6,
   "id": "30560781",
   "metadata": {},
   "outputs": [
    {
     "data": {
      "text/plain": [
       "'hello, world!'"
      ]
     },
     "execution_count": 6,
     "metadata": {},
     "output_type": "execute_result"
    }
   ],
   "source": [
    "with open('hello.txt', 'r') as f:\n",
    "    s = f.read()\n",
    "    s"
   ]
  },
  {
   "cell_type": "markdown",
   "id": "60d5255c",
   "metadata": {},
   "source": [
    "# 문자열 여러 줄을 파일에 쓰기, 읽기"
   ]
  },
  {
   "cell_type": "markdown",
   "id": "ee8a4edd",
   "metadata": {},
   "source": [
    "## 반복문으로 문자열 여러 줄을 파일에 쓰기"
   ]
  },
  {
   "cell_type": "code",
   "execution_count": 7,
   "id": "cf4c2d1e",
   "metadata": {},
   "outputs": [
    {
     "data": {
      "text/plain": [
       "15"
      ]
     },
     "execution_count": 7,
     "metadata": {},
     "output_type": "execute_result"
    },
    {
     "data": {
      "text/plain": [
       "15"
      ]
     },
     "execution_count": 7,
     "metadata": {},
     "output_type": "execute_result"
    },
    {
     "data": {
      "text/plain": [
       "15"
      ]
     },
     "execution_count": 7,
     "metadata": {},
     "output_type": "execute_result"
    }
   ],
   "source": [
    "with open('hello.txt', 'w') as file:\n",
    "    for i in range(3):\n",
    "        file.write('hello, world!{}\\n'.format(i)) # \\n이 없으면 한 줄로"
   ]
  },
  {
   "cell_type": "markdown",
   "id": "1bcaf91b",
   "metadata": {},
   "source": [
    "## 리스트에 들어있는 문자열을 파일에 쓰기\n",
    "\n",
    "- 파일객체.writelines(문자열리스트)"
   ]
  },
  {
   "cell_type": "code",
   "execution_count": 8,
   "id": "39c1da3d",
   "metadata": {},
   "outputs": [],
   "source": [
    "lst = ['cat\\n', 'dog\\n', 'rabbit\\n']\n",
    "with open(\"hello.txt\", 'w') as file:\n",
    "    file.writelines(lst)"
   ]
  },
  {
   "cell_type": "markdown",
   "id": "56344adc",
   "metadata": {},
   "source": [
    "## 파일의 내용을 한 줄씩 리스트로 가져오기\n",
    "\n",
    "- 변수 = 파일객체.readlines()"
   ]
  },
  {
   "cell_type": "code",
   "execution_count": 9,
   "id": "0a6fa730",
   "metadata": {},
   "outputs": [
    {
     "name": "stdout",
     "output_type": "stream",
     "text": [
      "['cat\\n', 'dog\\n', 'rabbit\\n']\n"
     ]
    }
   ],
   "source": [
    "with open(\"hello.txt\", 'r') as file:\n",
    "    lst2 = file.readlines()\n",
    "    print(lst2)"
   ]
  },
  {
   "cell_type": "markdown",
   "id": "15a71180",
   "metadata": {},
   "source": [
    "## 파일의 내용을 한 줄씩 읽기\n",
    "\n",
    "- 변수 = 파일객체.readline()"
   ]
  },
  {
   "cell_type": "code",
   "execution_count": 10,
   "id": "5a05af75",
   "metadata": {},
   "outputs": [
    {
     "name": "stdout",
     "output_type": "stream",
     "text": [
      "cat\n",
      "dog\n",
      "rabbit\n",
      "\n"
     ]
    }
   ],
   "source": [
    "with open('hello.txt', 'r') as file:\n",
    "    line = None\n",
    "    while line != '':\n",
    "        line = file.readline()\n",
    "        print(line.strip('\\n')) # 이미 '\\n 이 있고 print로 인해 줄 바꿈이 2번 발생하므로 하나는 제거"
   ]
  },
  {
   "cell_type": "markdown",
   "id": "46ac3c03",
   "metadata": {},
   "source": [
    "## for반복문으로 파일의 내용을 줄 단위로 읽기"
   ]
  },
  {
   "cell_type": "code",
   "execution_count": 11,
   "id": "c463ea00",
   "metadata": {},
   "outputs": [
    {
     "name": "stdout",
     "output_type": "stream",
     "text": [
      "cat\n",
      "dog\n",
      "rabbit\n"
     ]
    }
   ],
   "source": [
    "with open('hello.txt', 'r') as file:\n",
    "    for line in file:\n",
    "        print(line.strip('\\n'))"
   ]
  },
  {
   "cell_type": "markdown",
   "id": "9c28699d",
   "metadata": {},
   "source": [
    "# 파이썬 객체를 파일에 저정하기, 가져오기\n",
    "\n",
    "- pickle 모듈 이용"
   ]
  },
  {
   "cell_type": "markdown",
   "id": "a37c37ef",
   "metadata": {},
   "source": [
    "## 파이썬 객체를 파일에 저장하기\n",
    "\n",
    "- wb : 바이너리 쓰기 모드\n",
    "\n",
    "- pickle.dump(변수명, 파일객체)"
   ]
  },
  {
   "cell_type": "code",
   "execution_count": 12,
   "id": "336b0d33",
   "metadata": {},
   "outputs": [],
   "source": [
    "import pickle\n",
    "\n",
    "name = \"james\"\n",
    "age = 17\n",
    "address = \"서울시 서초구 반포동\"\n",
    "scores = {'kor' : 90, 'eng' : 95, 'mat' : 85, 'sci' : 82}\n",
    "\n",
    "with open('james.p', 'wb') as file:\n",
    "    pickle.dump(name, file)\n",
    "    pickle.dump(age, file)\n",
    "    pickle.dump(address, file)\n",
    "    pickle.dump(scores, file)\n"
   ]
  },
  {
   "cell_type": "markdown",
   "id": "7e3fdf6e",
   "metadata": {},
   "source": [
    "## 파일에서 파이썬 객체 읽기\n",
    "\n",
    "- rb : 바이너리 읽기 모드\n",
    "\n",
    "- pickle.load(파일객체)"
   ]
  },
  {
   "cell_type": "code",
   "execution_count": 13,
   "id": "062e1849",
   "metadata": {},
   "outputs": [
    {
     "name": "stdout",
     "output_type": "stream",
     "text": [
      "james\n",
      "17\n",
      "서울시 서초구 반포동\n",
      "{'kor': 90, 'eng': 95, 'mat': 85, 'sci': 82}\n"
     ]
    }
   ],
   "source": [
    "import pickle\n",
    "with open('james.p', 'rb') as file:\n",
    "    name = pickle.load(file)\n",
    "    age = pickle.load(file)\n",
    "    address = pickle.load(file)\n",
    "    scores = pickle.load(file)\n",
    "    print(name)\n",
    "    print(age)\n",
    "    print(address)\n",
    "    print(scores)\n"
   ]
  },
  {
   "cell_type": "markdown",
   "id": "9563ef39",
   "metadata": {},
   "source": [
    "# 연습"
   ]
  },
  {
   "cell_type": "markdown",
   "id": "9352ba81",
   "metadata": {},
   "source": [
    "## 동물 이름 입력 받아 파일에 넣기"
   ]
  },
  {
   "cell_type": "code",
   "execution_count": 15,
   "id": "e27738ad",
   "metadata": {},
   "outputs": [
    {
     "name": "stdout",
     "output_type": "stream",
     "text": [
      "동물 이름 입력 : cat\n"
     ]
    },
    {
     "data": {
      "text/plain": [
       "4"
      ]
     },
     "execution_count": 15,
     "metadata": {},
     "output_type": "execute_result"
    },
    {
     "name": "stdout",
     "output_type": "stream",
     "text": [
      "동물 이름 입력 : dog\n"
     ]
    },
    {
     "data": {
      "text/plain": [
       "4"
      ]
     },
     "execution_count": 15,
     "metadata": {},
     "output_type": "execute_result"
    },
    {
     "name": "stdout",
     "output_type": "stream",
     "text": [
      "동물 이름 입력 : 0000\n"
     ]
    }
   ],
   "source": [
    "while True:\n",
    "    name = input(\"동물 이름 입력 : \")\n",
    "    if name != '0000':\n",
    "        with open('animals.txt', 'a') as file:\n",
    "            file.write(name + '\\n')\n",
    "    else:\n",
    "        break"
   ]
  },
  {
   "cell_type": "markdown",
   "id": "9f4a02b3",
   "metadata": {},
   "source": [
    "##  연습문제 : 파일에서 10자 이하인 단어 개수 세기 \n",
    "\n",
    "단어가 줄 단위로 저장된 words.txt 파일이 주어집니다. 다음 소스 코드를 완성하여 10자 이하인 단어의 개수가 출력되게 만드세요. "
   ]
  },
  {
   "cell_type": "code",
   "execution_count": 16,
   "id": "2e2b3e01",
   "metadata": {},
   "outputs": [
    {
     "data": {
      "text/plain": [
       "4"
      ]
     },
     "execution_count": 16,
     "metadata": {},
     "output_type": "execute_result"
    }
   ],
   "source": [
    "lst = ['anonymously\\n', 'compatibility\\n', 'dashboard\\n', 'experience\\n',\n",
    "       'photography\\n', 'spotlight\\n', 'warehouse\\n']\n",
    "with open('words.txt', 'w') as file:\n",
    "    file.writelines(lst)\n",
    "\n",
    "with open('words.txt', 'r') as file:\n",
    "    count = 0\n",
    "    words = file.readlines()\n",
    "    for word in words:\n",
    "        if len(word.strip('\\n')) <= 10:\n",
    "            count += 1\n",
    "            \n",
    "count"
   ]
  },
  {
   "cell_type": "markdown",
   "id": "ca846c31",
   "metadata": {},
   "source": [
    "## 심사문제 : 특정 문자가 들어있는 단어 찾기 \n",
    "\n",
    "문자열이 저장된 words.txt 파일이 주어집니다(문자열은 한 줄로 저장되어 있습니다). words.txt파일에서 문자 c가 포함된 단어를 각줄에  출력하는 프로그램을 만드세요. 단어를 출력할 때는 등장한 순서대로 출력해야 하며 ,와.은 출력하지 않아야 합니다. "
   ]
  },
  {
   "cell_type": "code",
   "execution_count": 17,
   "id": "cc7a5863",
   "metadata": {},
   "outputs": [
    {
     "data": {
      "text/plain": [
       "13"
      ]
     },
     "execution_count": 17,
     "metadata": {},
     "output_type": "execute_result"
    },
    {
     "data": {
      "text/plain": [
       "9"
      ]
     },
     "execution_count": 17,
     "metadata": {},
     "output_type": "execute_result"
    },
    {
     "data": {
      "text/plain": [
       "38"
      ]
     },
     "execution_count": 17,
     "metadata": {},
     "output_type": "execute_result"
    },
    {
     "data": {
      "text/plain": [
       "49"
      ]
     },
     "execution_count": 17,
     "metadata": {},
     "output_type": "execute_result"
    },
    {
     "data": {
      "text/plain": [
       "21"
      ]
     },
     "execution_count": 17,
     "metadata": {},
     "output_type": "execute_result"
    },
    {
     "data": {
      "text/plain": [
       "100"
      ]
     },
     "execution_count": 17,
     "metadata": {},
     "output_type": "execute_result"
    },
    {
     "data": {
      "text/plain": [
       "88"
      ]
     },
     "execution_count": 17,
     "metadata": {},
     "output_type": "execute_result"
    },
    {
     "name": "stdout",
     "output_type": "stream",
     "text": [
      "dictator\n",
      "subjects\n",
      "change\n",
      "costume\n",
      "elegance\n",
      "accepted\n"
     ]
    }
   ],
   "source": [
    "lst = ['Fortunately', 'however', 'for the reputation of Asteroid B-612',\n",
    "       'a Turkish dictator made a law that his subjects', 'under pain of death', \n",
    "       'should change to European costume. So in 1920 the astronomer gave his demonstration all over again',\n",
    "       'dressed with impressive style and elegance. And this time everybody accepted his report.']\n",
    "with open('words.txt', 'w') as file:\n",
    "    for i in range(len(lst)):\n",
    "        if i != len(lst)-1:\n",
    "            file.write(lst[i] + ', ')\n",
    "        else:\n",
    "            file.write(lst[i])\n",
    "\n",
    "with open('words.txt', 'r') as file:\n",
    "    words = file.readline()\n",
    "    for word in words.split():\n",
    "        if 'c' in word:\n",
    "            print(word.strip(',.'))\n"
   ]
  }
 ],
 "metadata": {
  "kernelspec": {
   "display_name": "Python 3 (ipykernel)",
   "language": "python",
   "name": "python3"
  },
  "language_info": {
   "codemirror_mode": {
    "name": "ipython",
    "version": 3
   },
   "file_extension": ".py",
   "mimetype": "text/x-python",
   "name": "python",
   "nbconvert_exporter": "python",
   "pygments_lexer": "ipython3",
   "version": "3.11.5"
  },
  "toc": {
   "base_numbering": 1,
   "nav_menu": {},
   "number_sections": true,
   "sideBar": true,
   "skip_h1_title": false,
   "title_cell": "Table of Contents",
   "title_sidebar": "Contents",
   "toc_cell": false,
   "toc_position": {},
   "toc_section_display": true,
   "toc_window_display": false
  }
 },
 "nbformat": 4,
 "nbformat_minor": 5
}
