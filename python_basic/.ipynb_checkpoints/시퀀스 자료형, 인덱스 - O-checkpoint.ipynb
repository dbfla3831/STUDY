{
 "cells": [
  {
   "cell_type": "code",
   "execution_count": 1,
   "id": "5bf8048d",
   "metadata": {},
   "outputs": [],
   "source": [
    "from IPython.core.interactiveshell import InteractiveShell\n",
    "InteractiveShell.ast_node_interactivity=\"all\"\n",
    "\n",
    "import warnings\n",
    "warnings.filterwarnings('ignore')"
   ]
  },
  {
   "cell_type": "markdown",
   "id": "41272bdd",
   "metadata": {},
   "source": [
    "# 시퀀스 자료형 확인하기"
   ]
  },
  {
   "cell_type": "markdown",
   "id": "28c0b9fa",
   "metadata": {},
   "source": [
    "## 시퀀스 자료형\n",
    "\n",
    "- list, tuple, range, str을 주로 사용"
   ]
  },
  {
   "cell_type": "markdown",
   "id": "ad3ba0e0",
   "metadata": {},
   "source": [
    "### 특정 값이 있는지\n",
    "\n",
    "- 값 in 시퀀스 객체\n",
    "\n",
    "- 값 not in 시퀀스 객체"
   ]
  },
  {
   "cell_type": "code",
   "execution_count": 3,
   "id": "5b59d220",
   "metadata": {},
   "outputs": [
    {
     "data": {
      "text/plain": [
       "True"
      ]
     },
     "execution_count": 3,
     "metadata": {},
     "output_type": "execute_result"
    },
    {
     "data": {
      "text/plain": [
       "False"
      ]
     },
     "execution_count": 3,
     "metadata": {},
     "output_type": "execute_result"
    }
   ],
   "source": [
    "a = [0, 10, 20, 30]\n",
    "\n",
    "10 in a\n",
    "40 in a"
   ]
  },
  {
   "cell_type": "code",
   "execution_count": 4,
   "id": "706d7484",
   "metadata": {},
   "outputs": [
    {
     "data": {
      "text/plain": [
       "False"
      ]
     },
     "execution_count": 4,
     "metadata": {},
     "output_type": "execute_result"
    },
    {
     "data": {
      "text/plain": [
       "True"
      ]
     },
     "execution_count": 4,
     "metadata": {},
     "output_type": "execute_result"
    }
   ],
   "source": [
    "a = [0, 10, 20, 30]\n",
    "\n",
    "10 not in a\n",
    "60 not in a"
   ]
  },
  {
   "cell_type": "markdown",
   "id": "4e0b8cec",
   "metadata": {},
   "source": [
    "리스트 외 튜플, range, 문자열에서도 사용"
   ]
  },
  {
   "cell_type": "code",
   "execution_count": 7,
   "id": "60ed1018",
   "metadata": {},
   "outputs": [
    {
     "data": {
      "text/plain": [
       "False"
      ]
     },
     "execution_count": 7,
     "metadata": {},
     "output_type": "execute_result"
    },
    {
     "data": {
      "text/plain": [
       "True"
      ]
     },
     "execution_count": 7,
     "metadata": {},
     "output_type": "execute_result"
    },
    {
     "data": {
      "text/plain": [
       "False"
      ]
     },
     "execution_count": 7,
     "metadata": {},
     "output_type": "execute_result"
    }
   ],
   "source": [
    "43 in (10, 20, 30)\n",
    "\n",
    "1 in range(3)\n",
    "\n",
    "'H' in 'hello'"
   ]
  },
  {
   "cell_type": "markdown",
   "id": "587269da",
   "metadata": {},
   "source": [
    "### 시퀀스 객체 연결\n",
    "\n",
    "- 시퀀스 객체 + 시퀀스 객체"
   ]
  },
  {
   "cell_type": "code",
   "execution_count": 8,
   "id": "86582544",
   "metadata": {},
   "outputs": [
    {
     "data": {
      "text/plain": [
       "[0, 10, 20, 30, 40, 50]"
      ]
     },
     "execution_count": 8,
     "metadata": {},
     "output_type": "execute_result"
    }
   ],
   "source": [
    "a = [0, 10, 20]\n",
    "b = [30, 40, 50]\n",
    "\n",
    "a + b "
   ]
  },
  {
   "cell_type": "code",
   "execution_count": 9,
   "id": "007a7fe9",
   "metadata": {},
   "outputs": [
    {
     "ename": "TypeError",
     "evalue": "unsupported operand type(s) for +: 'range' and 'range'",
     "output_type": "error",
     "traceback": [
      "\u001b[0;31m---------------------------------------------------------------------------\u001b[0m",
      "\u001b[0;31mTypeError\u001b[0m                                 Traceback (most recent call last)",
      "Cell \u001b[0;32mIn[9], line 1\u001b[0m\n\u001b[0;32m----> 1\u001b[0m \u001b[38;5;28mrange\u001b[39m(\u001b[38;5;241m10\u001b[39m) \u001b[38;5;241m+\u001b[39m \u001b[38;5;28mrange\u001b[39m(\u001b[38;5;241m10\u001b[39m, \u001b[38;5;241m20\u001b[39m)\n",
      "\u001b[0;31mTypeError\u001b[0m: unsupported operand type(s) for +: 'range' and 'range'"
     ]
    }
   ],
   "source": [
    "range(10) + range(10, 20) # range는 오류"
   ]
  },
  {
   "cell_type": "markdown",
   "id": "65abc6b2",
   "metadata": {},
   "source": [
    "=> range는 리스트나 튜플로 변경하여 사용"
   ]
  },
  {
   "cell_type": "code",
   "execution_count": 11,
   "id": "4e65785c",
   "metadata": {},
   "outputs": [
    {
     "data": {
      "text/plain": [
       "[0, 1, 2, 3, 4, 5, 6, 7, 8, 9, 10, 11, 12, 13, 14, 15, 16, 17, 18, 19]"
      ]
     },
     "execution_count": 11,
     "metadata": {},
     "output_type": "execute_result"
    },
    {
     "data": {
      "text/plain": [
       "(0, 1, 2, 3, 4, 5, 6, 7, 8, 9, 10, 11, 12, 13, 14, 15, 16, 17, 18, 19)"
      ]
     },
     "execution_count": 11,
     "metadata": {},
     "output_type": "execute_result"
    }
   ],
   "source": [
    "list(range(10)) + list(range(10, 20))\n",
    "\n",
    "tuple(range(10)) + tuple(range(10, 20))"
   ]
  },
  {
   "cell_type": "code",
   "execution_count": 12,
   "id": "73eaa0d7",
   "metadata": {},
   "outputs": [
    {
     "data": {
      "text/plain": [
       "'hellopython'"
      ]
     },
     "execution_count": 12,
     "metadata": {},
     "output_type": "execute_result"
    }
   ],
   "source": [
    "'hello' + 'python'"
   ]
  },
  {
   "cell_type": "markdown",
   "id": "9d333be6",
   "metadata": {},
   "source": [
    "### 시퀀스 객체 반복\n",
    "\n",
    "- 시퀀스 객체 * 상수\n",
    "\n",
    "- 정수 * 시퀀스 객체"
   ]
  },
  {
   "cell_type": "code",
   "execution_count": 13,
   "id": "6dcade93",
   "metadata": {},
   "outputs": [
    {
     "data": {
      "text/plain": [
       "[10, 20, 30, 10, 20, 30]"
      ]
     },
     "execution_count": 13,
     "metadata": {},
     "output_type": "execute_result"
    }
   ],
   "source": [
    "a = [10, 20, 30]\n",
    "\n",
    "a * 2"
   ]
  },
  {
   "cell_type": "code",
   "execution_count": 14,
   "id": "d0fdad86",
   "metadata": {},
   "outputs": [
    {
     "data": {
      "text/plain": [
       "[1, 2, 3, 4, 1, 2, 3, 4]"
      ]
     },
     "execution_count": 14,
     "metadata": {},
     "output_type": "execute_result"
    }
   ],
   "source": [
    "a = range(1, 5)\n",
    "\n",
    "list(a) * 2"
   ]
  },
  {
   "cell_type": "code",
   "execution_count": 15,
   "id": "501f8cb7",
   "metadata": {},
   "outputs": [
    {
     "data": {
      "text/plain": [
       "'hellohello'"
      ]
     },
     "execution_count": 15,
     "metadata": {},
     "output_type": "execute_result"
    }
   ],
   "source": [
    "2 * 'hello'"
   ]
  },
  {
   "cell_type": "markdown",
   "id": "b189e039",
   "metadata": {},
   "source": [
    "## 시퀀스 객체의 요소 개수 구하기\n",
    "\n",
    "- len(시퀀스 객체)\n"
   ]
  },
  {
   "cell_type": "markdown",
   "id": "f9743415",
   "metadata": {},
   "source": [
    "리스트와 튜플의 요소 개수 구하기"
   ]
  },
  {
   "cell_type": "code",
   "execution_count": 16,
   "id": "3691ac07",
   "metadata": {},
   "outputs": [
    {
     "data": {
      "text/plain": [
       "3"
      ]
     },
     "execution_count": 16,
     "metadata": {},
     "output_type": "execute_result"
    },
    {
     "data": {
      "text/plain": [
       "3"
      ]
     },
     "execution_count": 16,
     "metadata": {},
     "output_type": "execute_result"
    }
   ],
   "source": [
    "a = [10, 20, 30]\n",
    "\n",
    "len(a)\n",
    "\n",
    "b = (10, 20, 30)\n",
    "\n",
    "len(b)"
   ]
  },
  {
   "cell_type": "markdown",
   "id": "ba323f61",
   "metadata": {},
   "source": [
    "range의 숫자 생성 개수 구하기"
   ]
  },
  {
   "cell_type": "code",
   "execution_count": 17,
   "id": "264a8e80",
   "metadata": {},
   "outputs": [
    {
     "data": {
      "text/plain": [
       "10"
      ]
     },
     "execution_count": 17,
     "metadata": {},
     "output_type": "execute_result"
    }
   ],
   "source": [
    "len(range(0, 100, 10))"
   ]
  },
  {
   "cell_type": "markdown",
   "id": "15af6e34",
   "metadata": {},
   "source": [
    "문자열릐 길이 구하기 => 빈칸도 문자열 길이에 포함"
   ]
  },
  {
   "cell_type": "code",
   "execution_count": 18,
   "id": "7d00d9b3",
   "metadata": {},
   "outputs": [
    {
     "data": {
      "text/plain": [
       "12"
      ]
     },
     "execution_count": 18,
     "metadata": {},
     "output_type": "execute_result"
    }
   ],
   "source": [
    "s = 'hello python'\n",
    "\n",
    "len(s)"
   ]
  },
  {
   "cell_type": "markdown",
   "id": "2bb5167d",
   "metadata": {},
   "source": [
    "## 인덱스 사용\n",
    "\n",
    "- 시퀀스 객체[인덱스]\n",
    "\n",
    "- 시퀀스 객체의 인덱스는 항상 0부터 시작"
   ]
  },
  {
   "cell_type": "markdown",
   "id": "adbe3de8",
   "metadata": {},
   "source": [
    "리스트"
   ]
  },
  {
   "cell_type": "code",
   "execution_count": 20,
   "id": "6433176b",
   "metadata": {},
   "outputs": [
    {
     "data": {
      "text/plain": [
       "10"
      ]
     },
     "execution_count": 20,
     "metadata": {},
     "output_type": "execute_result"
    },
    {
     "data": {
      "text/plain": [
       "40"
      ]
     },
     "execution_count": 20,
     "metadata": {},
     "output_type": "execute_result"
    },
    {
     "data": {
      "text/plain": [
       "40"
      ]
     },
     "execution_count": 20,
     "metadata": {},
     "output_type": "execute_result"
    }
   ],
   "source": [
    "a = [10, 20, 30, 40]\n",
    "\n",
    "a[0]\n",
    "a[3]\n",
    "a[0] + a[2] # 10 + 30"
   ]
  },
  {
   "cell_type": "markdown",
   "id": "7c41f160",
   "metadata": {},
   "source": [
    "튜플"
   ]
  },
  {
   "cell_type": "code",
   "execution_count": 21,
   "id": "712394d4",
   "metadata": {},
   "outputs": [
    {
     "data": {
      "text/plain": [
       "10"
      ]
     },
     "execution_count": 21,
     "metadata": {},
     "output_type": "execute_result"
    },
    {
     "data": {
      "text/plain": [
       "40"
      ]
     },
     "execution_count": 21,
     "metadata": {},
     "output_type": "execute_result"
    },
    {
     "data": {
      "text/plain": [
       "40"
      ]
     },
     "execution_count": 21,
     "metadata": {},
     "output_type": "execute_result"
    }
   ],
   "source": [
    "a = (10, 20, 30, 40)\n",
    "\n",
    "a[0]\n",
    "a[3]\n",
    "a[0] + a[2] # 10 + 30"
   ]
  },
  {
   "cell_type": "markdown",
   "id": "6f8d5197",
   "metadata": {},
   "source": [
    "range"
   ]
  },
  {
   "cell_type": "code",
   "execution_count": 22,
   "id": "3edb98d8",
   "metadata": {},
   "outputs": [
    {
     "data": {
      "text/plain": [
       "range(0, 10, 2)"
      ]
     },
     "execution_count": 22,
     "metadata": {},
     "output_type": "execute_result"
    },
    {
     "data": {
      "text/plain": [
       "0"
      ]
     },
     "execution_count": 22,
     "metadata": {},
     "output_type": "execute_result"
    },
    {
     "data": {
      "text/plain": [
       "8"
      ]
     },
     "execution_count": 22,
     "metadata": {},
     "output_type": "execute_result"
    }
   ],
   "source": [
    "r = range(0, 10, 2)\n",
    "\n",
    "r\n",
    "r[0]\n",
    "r[4]"
   ]
  },
  {
   "cell_type": "markdown",
   "id": "0ca261b6",
   "metadata": {},
   "source": [
    "문자열"
   ]
  },
  {
   "cell_type": "code",
   "execution_count": 23,
   "id": "4a7ba20c",
   "metadata": {},
   "outputs": [
    {
     "data": {
      "text/plain": [
       "'h'"
      ]
     },
     "execution_count": 23,
     "metadata": {},
     "output_type": "execute_result"
    },
    {
     "data": {
      "text/plain": [
       "','"
      ]
     },
     "execution_count": 23,
     "metadata": {},
     "output_type": "execute_result"
    },
    {
     "data": {
      "text/plain": [
       "' '"
      ]
     },
     "execution_count": 23,
     "metadata": {},
     "output_type": "execute_result"
    }
   ],
   "source": [
    "s = 'hello, world'\n",
    "\n",
    "s[0]\n",
    "s[5]\n",
    "s[6] # 공백 출력"
   ]
  },
  {
   "cell_type": "markdown",
   "id": "9522f391",
   "metadata": {},
   "source": [
    "음수 인덱스 사용"
   ]
  },
  {
   "cell_type": "markdown",
   "id": "cdeb9f73",
   "metadata": {},
   "source": [
    "리스트"
   ]
  },
  {
   "cell_type": "code",
   "execution_count": 25,
   "id": "c9269167",
   "metadata": {},
   "outputs": [
    {
     "data": {
      "text/plain": [
       "30"
      ]
     },
     "execution_count": 25,
     "metadata": {},
     "output_type": "execute_result"
    },
    {
     "data": {
      "text/plain": [
       "20"
      ]
     },
     "execution_count": 25,
     "metadata": {},
     "output_type": "execute_result"
    }
   ],
   "source": [
    "a = [10, 20, 30]\n",
    "\n",
    "a[-1]\n",
    "a[-2]"
   ]
  },
  {
   "cell_type": "markdown",
   "id": "5a984089",
   "metadata": {},
   "source": [
    "튜플"
   ]
  },
  {
   "cell_type": "code",
   "execution_count": 26,
   "id": "ab9489e5",
   "metadata": {},
   "outputs": [
    {
     "data": {
      "text/plain": [
       "30"
      ]
     },
     "execution_count": 26,
     "metadata": {},
     "output_type": "execute_result"
    },
    {
     "data": {
      "text/plain": [
       "20"
      ]
     },
     "execution_count": 26,
     "metadata": {},
     "output_type": "execute_result"
    }
   ],
   "source": [
    "a = (10, 20, 30)\n",
    "\n",
    "a[-1]\n",
    "a[-2]"
   ]
  },
  {
   "cell_type": "markdown",
   "id": "0a1ab5e6",
   "metadata": {},
   "source": [
    "range"
   ]
  },
  {
   "cell_type": "code",
   "execution_count": 27,
   "id": "918daf87",
   "metadata": {},
   "outputs": [
    {
     "data": {
      "text/plain": [
       "range(0, 10, 2)"
      ]
     },
     "execution_count": 27,
     "metadata": {},
     "output_type": "execute_result"
    },
    {
     "data": {
      "text/plain": [
       "8"
      ]
     },
     "execution_count": 27,
     "metadata": {},
     "output_type": "execute_result"
    },
    {
     "data": {
      "text/plain": [
       "4"
      ]
     },
     "execution_count": 27,
     "metadata": {},
     "output_type": "execute_result"
    }
   ],
   "source": [
    "r = range(0, 10, 2)\n",
    "\n",
    "r\n",
    "r[-1]\n",
    "r[-3]"
   ]
  },
  {
   "cell_type": "markdown",
   "id": "0242d222",
   "metadata": {},
   "source": [
    "문자열"
   ]
  },
  {
   "cell_type": "code",
   "execution_count": 28,
   "id": "a8b6060e",
   "metadata": {},
   "outputs": [
    {
     "data": {
      "text/plain": [
       "'!'"
      ]
     },
     "execution_count": 28,
     "metadata": {},
     "output_type": "execute_result"
    },
    {
     "data": {
      "text/plain": [
       "'o'"
      ]
     },
     "execution_count": 28,
     "metadata": {},
     "output_type": "execute_result"
    }
   ],
   "source": [
    "s = 'hello world!'\n",
    "\n",
    "s[-1]\n",
    "s[-8]"
   ]
  },
  {
   "cell_type": "markdown",
   "id": "1a849210",
   "metadata": {},
   "source": [
    "### 요소에 값 할당\n",
    "\n",
    "- 시퀀스 객체[인덱스] = 값\n",
    "\n",
    "- 튜플, range, 문자열은 안에 지정된 값을 변경할 수 없다"
   ]
  },
  {
   "cell_type": "code",
   "execution_count": 29,
   "id": "b9862b83",
   "metadata": {},
   "outputs": [
    {
     "data": {
      "text/plain": [
       "[0, 0, 0, 0, 0]"
      ]
     },
     "execution_count": 29,
     "metadata": {},
     "output_type": "execute_result"
    }
   ],
   "source": [
    "a = [0, 0, 0, 0, 0]\n",
    "\n",
    "a"
   ]
  },
  {
   "cell_type": "code",
   "execution_count": 30,
   "id": "8e2cb2cc",
   "metadata": {},
   "outputs": [
    {
     "data": {
      "text/plain": [
       "[10, 0, 0, 0, 0]"
      ]
     },
     "execution_count": 30,
     "metadata": {},
     "output_type": "execute_result"
    }
   ],
   "source": [
    "a[0] = 10\n",
    "\n",
    "a"
   ]
  },
  {
   "cell_type": "code",
   "execution_count": 32,
   "id": "5425f8a8",
   "metadata": {},
   "outputs": [
    {
     "data": {
      "text/plain": [
       "[10, 20, 30, 0, 40]"
      ]
     },
     "execution_count": 32,
     "metadata": {},
     "output_type": "execute_result"
    }
   ],
   "source": [
    "a[1] = 20\n",
    "a[2] = 30\n",
    "a[4] = 40\n",
    "\n",
    "a"
   ]
  },
  {
   "cell_type": "markdown",
   "id": "a994b069",
   "metadata": {},
   "source": [
    "### del로 요소 삭제\n",
    "\n",
    "- del 시퀀스 객체[인덱스]\n",
    "\n",
    "- 튜플, range, 문자열은 안에 저장된 요소의 값을 삭제할 수 없다\n",
    "\n",
    "- del을 사용하면 시퀀스 자체가 변경"
   ]
  },
  {
   "cell_type": "code",
   "execution_count": 33,
   "id": "38cacae4",
   "metadata": {},
   "outputs": [
    {
     "data": {
      "text/plain": [
       "[10, 20, 30, 40, 50]"
      ]
     },
     "execution_count": 33,
     "metadata": {},
     "output_type": "execute_result"
    }
   ],
   "source": [
    "a = [10, 20, 30, 40, 50]\n",
    "\n",
    "a"
   ]
  },
  {
   "cell_type": "code",
   "execution_count": 34,
   "id": "7d61d923",
   "metadata": {},
   "outputs": [
    {
     "data": {
      "text/plain": [
       "[20, 30, 40, 50]"
      ]
     },
     "execution_count": 34,
     "metadata": {},
     "output_type": "execute_result"
    }
   ],
   "source": [
    "del a[0]\n",
    "\n",
    "a"
   ]
  },
  {
   "cell_type": "code",
   "execution_count": 35,
   "id": "a446997b",
   "metadata": {},
   "outputs": [
    {
     "data": {
      "text/plain": [
       "[20, 30, 40]"
      ]
     },
     "execution_count": 35,
     "metadata": {},
     "output_type": "execute_result"
    }
   ],
   "source": [
    "del a[-1]\n",
    "\n",
    "a"
   ]
  },
  {
   "cell_type": "markdown",
   "id": "a0a7b71a",
   "metadata": {},
   "source": [
    "## 슬라이스 사용하기\n",
    "\n",
    "- 시퀀스 객체[시작 인덱스 : 끝 인덱스 : step 인덱스]"
   ]
  },
  {
   "cell_type": "markdown",
   "id": "df08f5ed",
   "metadata": {},
   "source": [
    "리스트"
   ]
  },
  {
   "cell_type": "code",
   "execution_count": 37,
   "id": "80d37d57",
   "metadata": {},
   "outputs": [
    {
     "data": {
      "text/plain": [
       "[10, 20, 30, 40, 50]"
      ]
     },
     "execution_count": 37,
     "metadata": {},
     "output_type": "execute_result"
    },
    {
     "data": {
      "text/plain": [
       "[]"
      ]
     },
     "execution_count": 37,
     "metadata": {},
     "output_type": "execute_result"
    },
    {
     "data": {
      "text/plain": [
       "[10, 20, 30, 40, 50]"
      ]
     },
     "execution_count": 37,
     "metadata": {},
     "output_type": "execute_result"
    },
    {
     "data": {
      "text/plain": [
       "[40]"
      ]
     },
     "execution_count": 37,
     "metadata": {},
     "output_type": "execute_result"
    },
    {
     "data": {
      "text/plain": [
       "[50, 40, 30, 20]"
      ]
     },
     "execution_count": 37,
     "metadata": {},
     "output_type": "execute_result"
    }
   ],
   "source": [
    "a = [10, 20, 30, 40, 50]\n",
    "\n",
    "a\n",
    "a[1:1] # a의 1번째 인덱스부터 0번째 인덱스까지 => 없음\n",
    "a[0:10] # a의 0번째 인덱스부터 9번째 인덱스까지\n",
    "a[3:-1] # a의 3번째 인덱스부터 -1인덱스까지\n",
    "a[10:0:-1] # a를 반대로"
   ]
  },
  {
   "cell_type": "markdown",
   "id": "aab89a9c",
   "metadata": {},
   "source": [
    "튜플"
   ]
  },
  {
   "cell_type": "code",
   "execution_count": 41,
   "id": "71c2262d",
   "metadata": {},
   "outputs": [
    {
     "data": {
      "text/plain": [
       "(10, 20, 30, 40, 50)"
      ]
     },
     "execution_count": 41,
     "metadata": {},
     "output_type": "execute_result"
    },
    {
     "data": {
      "text/plain": [
       "()"
      ]
     },
     "execution_count": 41,
     "metadata": {},
     "output_type": "execute_result"
    },
    {
     "data": {
      "text/plain": [
       "(10, 20, 30, 40, 50)"
      ]
     },
     "execution_count": 41,
     "metadata": {},
     "output_type": "execute_result"
    },
    {
     "data": {
      "text/plain": [
       "(40,)"
      ]
     },
     "execution_count": 41,
     "metadata": {},
     "output_type": "execute_result"
    },
    {
     "data": {
      "text/plain": [
       "(50, 40, 30, 20)"
      ]
     },
     "execution_count": 41,
     "metadata": {},
     "output_type": "execute_result"
    }
   ],
   "source": [
    "a = tuple((10, 20, 30, 40, 50))\n",
    "\n",
    "a\n",
    "a[1:1] # a의 1번째 인덱스부터 0번째 인덱스까지 => 없음\n",
    "a[0:10] # a의 0번째 인덱스부터 9번째 인덱스까지\n",
    "a[3:-1] # a의 3번째 인덱스부터 -1인덱스까지\n",
    "a[10:0:-1] # a를 반대로"
   ]
  },
  {
   "cell_type": "markdown",
   "id": "8312c22d",
   "metadata": {},
   "source": [
    "문자열"
   ]
  },
  {
   "cell_type": "code",
   "execution_count": 42,
   "id": "a362e54a",
   "metadata": {},
   "outputs": [
    {
     "data": {
      "text/plain": [
       "'llo'"
      ]
     },
     "execution_count": 42,
     "metadata": {},
     "output_type": "execute_result"
    },
    {
     "data": {
      "text/plain": [
       "', python'"
      ]
     },
     "execution_count": 42,
     "metadata": {},
     "output_type": "execute_result"
    }
   ],
   "source": [
    "s = 'hello, python'\n",
    "\n",
    "s[2:5]\n",
    "s[5:]"
   ]
  },
  {
   "cell_type": "markdown",
   "id": "f31f7caa",
   "metadata": {},
   "source": [
    "### 요소에 값 할당\n",
    "\n",
    "- 시퀀스 객체[시작 인덱스 : 끝 인덱스] = 시퀀스 객체"
   ]
  },
  {
   "cell_type": "code",
   "execution_count": 43,
   "id": "e71ab586",
   "metadata": {},
   "outputs": [
    {
     "data": {
      "text/plain": [
       "[0, 10, 20, 30, 40, 50, 60, 70, 80, 90]"
      ]
     },
     "execution_count": 43,
     "metadata": {},
     "output_type": "execute_result"
    }
   ],
   "source": [
    "a = list(range(0, 100, 10))\n",
    "\n",
    "a"
   ]
  },
  {
   "cell_type": "code",
   "execution_count": 45,
   "id": "5170fc8b",
   "metadata": {},
   "outputs": [
    {
     "data": {
      "text/plain": [
       "[0, 10, 'a', 'b,', 'c', 50, 60, 70, 80, 90]"
      ]
     },
     "execution_count": 45,
     "metadata": {},
     "output_type": "execute_result"
    }
   ],
   "source": [
    "a[2:5] = ['a', 'b,', 'c']\n",
    "\n",
    "a"
   ]
  },
  {
   "cell_type": "markdown",
   "id": "6eaa21ff",
   "metadata": {},
   "source": [
    "할당할 요소 개수가 적으면 그 만큼 리스트의 요소 개수도 줄어듬"
   ]
  },
  {
   "cell_type": "code",
   "execution_count": 46,
   "id": "2c538483",
   "metadata": {},
   "outputs": [
    {
     "data": {
      "text/plain": [
       "[0, 10, 20, 30, 40, 50, 60, 70, 80, 90]"
      ]
     },
     "execution_count": 46,
     "metadata": {},
     "output_type": "execute_result"
    },
    {
     "data": {
      "text/plain": [
       "[0, 10, 'a', 50, 60, 70, 80, 90]"
      ]
     },
     "execution_count": 46,
     "metadata": {},
     "output_type": "execute_result"
    }
   ],
   "source": [
    "a = list(range(0, 100, 10))\n",
    "\n",
    "a\n",
    "\n",
    "a[2:5] = ['a']\n",
    "\n",
    "a"
   ]
  },
  {
   "cell_type": "markdown",
   "id": "7f9ecff7",
   "metadata": {},
   "source": [
    "할당할 요소 개수가 많으면 그 만큼 리스트의 요소 개수도 늘어남"
   ]
  },
  {
   "cell_type": "code",
   "execution_count": 47,
   "id": "b5739a4c",
   "metadata": {},
   "outputs": [
    {
     "data": {
      "text/plain": [
       "[0, 10, 20, 30, 40, 50, 60, 70, 80, 90]"
      ]
     },
     "execution_count": 47,
     "metadata": {},
     "output_type": "execute_result"
    },
    {
     "data": {
      "text/plain": [
       "[0, 10, 'a', 'b', 'c', 'd', 'e', 'f', 50, 60, 70, 80, 90]"
      ]
     },
     "execution_count": 47,
     "metadata": {},
     "output_type": "execute_result"
    }
   ],
   "source": [
    "a = list(range(0, 100, 10))\n",
    "\n",
    "a\n",
    "\n",
    "a[2:5] = ['a' ,'b', 'c', 'd', 'e', 'f']\n",
    "\n",
    "a"
   ]
  },
  {
   "cell_type": "markdown",
   "id": "a1b2d3c9",
   "metadata": {},
   "source": [
    "step 인덱스를 지정했을 때는 슬라이스 범위의 요소 개수와 할당할 요소 개수가 같아야 한다 "
   ]
  },
  {
   "cell_type": "code",
   "execution_count": 48,
   "id": "15039dc4",
   "metadata": {},
   "outputs": [
    {
     "data": {
      "text/plain": [
       "[0, 10, 20, 30, 40, 50, 60, 70, 80, 90]"
      ]
     },
     "execution_count": 48,
     "metadata": {},
     "output_type": "execute_result"
    },
    {
     "data": {
      "text/plain": [
       "[0, 10, 'a', 30, 'b', 50, 'c', 70, 80, 90]"
      ]
     },
     "execution_count": 48,
     "metadata": {},
     "output_type": "execute_result"
    }
   ],
   "source": [
    "a = list(range(0, 100, 10))\n",
    "\n",
    "a\n",
    "\n",
    "a[2:8:2] = ['a' ,'b', 'c']\n",
    "\n",
    "a"
   ]
  },
  {
   "cell_type": "markdown",
   "id": "89c5b959",
   "metadata": {},
   "source": [
    "### del로 슬라이스 삭제하기\n",
    "\n",
    "- 튜플, range, 문자열은 사용 못 한다\n",
    "\n",
    "- del을 사용할 경우 시퀀스 자체가 변경"
   ]
  },
  {
   "cell_type": "code",
   "execution_count": 49,
   "id": "1e66dad2",
   "metadata": {},
   "outputs": [
    {
     "data": {
      "text/plain": [
       "[0, 10, 20, 30, 40, 50, 60, 70, 80, 90]"
      ]
     },
     "execution_count": 49,
     "metadata": {},
     "output_type": "execute_result"
    }
   ],
   "source": [
    "a = list(range(0, 100, 10))\n",
    "\n",
    "a"
   ]
  },
  {
   "cell_type": "code",
   "execution_count": 50,
   "id": "93a48bb1",
   "metadata": {},
   "outputs": [
    {
     "data": {
      "text/plain": [
       "[0, 10, 40, 50, 60, 70, 80, 90]"
      ]
     },
     "execution_count": 50,
     "metadata": {},
     "output_type": "execute_result"
    }
   ],
   "source": [
    "del a[2:4]\n",
    "\n",
    "a"
   ]
  },
  {
   "cell_type": "markdown",
   "id": "58be2c0c",
   "metadata": {},
   "source": [
    "### 인덱스 생략하기\n",
    "\n",
    "- 시퀀스 객체[:끝 인덱스] : 처음부터 끝 인덱스 -1까지\n",
    "\n",
    "- 시퀀스 객체[시작 인덱스 :] : 시작 인덱스부터 끝까지\n",
    "\n",
    "- 시퀀스 객체[:] : 처음부터 끝까지\n",
    "\n",
    "- 시퀀스 객체[:끝인덱스:step인덱스] : 처음부터 끝 인덱스 - 1까지 step 폭 만큼\n",
    "\n",
    "- 시퀀스 객체[시작 인덱스 ::증가폭] : 처음부터 끝까지 step 폭 만큼\n",
    "\n",
    "- 시퀀스 객체[::step 인덱스] : 처음부터 끝까지 step 폭 만큼 "
   ]
  },
  {
   "cell_type": "code",
   "execution_count": 51,
   "id": "43f69882",
   "metadata": {},
   "outputs": [
    {
     "data": {
      "text/plain": [
       "[0, 10, 20, 30, 40]"
      ]
     },
     "execution_count": 51,
     "metadata": {},
     "output_type": "execute_result"
    },
    {
     "data": {
      "text/plain": [
       "[20, 30, 40, 50, 60, 70, 80, 90]"
      ]
     },
     "execution_count": 51,
     "metadata": {},
     "output_type": "execute_result"
    },
    {
     "data": {
      "text/plain": [
       "[0, 10, 20, 30, 40, 50, 60, 70, 80, 90]"
      ]
     },
     "execution_count": 51,
     "metadata": {},
     "output_type": "execute_result"
    },
    {
     "data": {
      "text/plain": [
       "[0, 20, 40, 60]"
      ]
     },
     "execution_count": 51,
     "metadata": {},
     "output_type": "execute_result"
    },
    {
     "data": {
      "text/plain": [
       "[20, 40, 60, 80]"
      ]
     },
     "execution_count": 51,
     "metadata": {},
     "output_type": "execute_result"
    },
    {
     "data": {
      "text/plain": [
       "[0, 20, 40, 60, 80]"
      ]
     },
     "execution_count": 51,
     "metadata": {},
     "output_type": "execute_result"
    }
   ],
   "source": [
    "a= list(range(0, 100, 10))\n",
    "\n",
    "a[:5] # 처음부터 5-1번째까지\n",
    "a[2:] # 두 번째부터 끝까지\n",
    "a[:] # 리스트 전체\n",
    "a[:8:2] # 처음부터 8-1번째까지 2칸씩\n",
    "a[2::2] # 두 번째부터 끝까지 2칸씩\n",
    "a[::2] # 처음부터 끝까지 2칸씩"
   ]
  },
  {
   "cell_type": "markdown",
   "id": "b8227964",
   "metadata": {},
   "source": [
    "step 인덱스를 음수로"
   ]
  },
  {
   "cell_type": "code",
   "execution_count": 53,
   "id": "141d179a",
   "metadata": {
    "scrolled": true
   },
   "outputs": [
    {
     "data": {
      "text/plain": [
       "[50, 40, 30, 20]"
      ]
     },
     "execution_count": 53,
     "metadata": {},
     "output_type": "execute_result"
    },
    {
     "data": {
      "text/plain": [
       "[90, 70, 50]"
      ]
     },
     "execution_count": 53,
     "metadata": {},
     "output_type": "execute_result"
    },
    {
     "data": {
      "text/plain": [
       "[90, 80, 70, 60, 50, 40, 30, 20, 10, 0]"
      ]
     },
     "execution_count": 53,
     "metadata": {},
     "output_type": "execute_result"
    }
   ],
   "source": [
    "a = list(range(0, 100, 10))\n",
    "\n",
    "a[5:1:-1] # 다섯 번째부터 두 번째까지 -1씩(뒤집어서)\n",
    "a[-1:-6:-2]\n",
    "a[::-1] # 처음부터 끝까지 뒤집어서"
   ]
  }
 ],
 "metadata": {
  "kernelspec": {
   "display_name": "Python 3 (ipykernel)",
   "language": "python",
   "name": "python3"
  },
  "language_info": {
   "codemirror_mode": {
    "name": "ipython",
    "version": 3
   },
   "file_extension": ".py",
   "mimetype": "text/x-python",
   "name": "python",
   "nbconvert_exporter": "python",
   "pygments_lexer": "ipython3",
   "version": "3.11.5"
  },
  "toc": {
   "base_numbering": 1,
   "nav_menu": {},
   "number_sections": true,
   "sideBar": true,
   "skip_h1_title": false,
   "title_cell": "Table of Contents",
   "title_sidebar": "Contents",
   "toc_cell": false,
   "toc_position": {
    "height": "calc(100% - 180px)",
    "left": "10px",
    "top": "150px",
    "width": "183.242px"
   },
   "toc_section_display": true,
   "toc_window_display": false
  }
 },
 "nbformat": 4,
 "nbformat_minor": 5
}
