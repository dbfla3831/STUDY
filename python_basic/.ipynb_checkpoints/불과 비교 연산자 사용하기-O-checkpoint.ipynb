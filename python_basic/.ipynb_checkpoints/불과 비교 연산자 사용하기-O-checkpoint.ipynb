{
 "cells": [
  {
   "cell_type": "code",
   "execution_count": 5,
   "id": "2e595831",
   "metadata": {},
   "outputs": [],
   "source": [
    "from IPython.core.interactiveshell import InteractiveShell\n",
    "InteractiveShell.ast_node_interactivity=\"all\"\n",
    "\n",
    "import warnings\n",
    "warnings.filterwarnings('ignore')"
   ]
  },
  {
   "cell_type": "markdown",
   "id": "bfc3c69c",
   "metadata": {},
   "source": [
    "# Bool\n",
    "\n",
    "- True : 1, 값이 있다(공백 포함)\n",
    "\n",
    "- False : 0, 값이 없다"
   ]
  },
  {
   "cell_type": "code",
   "execution_count": 13,
   "id": "f1056453",
   "metadata": {},
   "outputs": [
    {
     "data": {
      "text/plain": [
       "True"
      ]
     },
     "execution_count": 13,
     "metadata": {},
     "output_type": "execute_result"
    },
    {
     "data": {
      "text/plain": [
       "True"
      ]
     },
     "execution_count": 13,
     "metadata": {},
     "output_type": "execute_result"
    },
    {
     "data": {
      "text/plain": [
       "True"
      ]
     },
     "execution_count": 13,
     "metadata": {},
     "output_type": "execute_result"
    }
   ],
   "source": [
    "bool(1)\n",
    "bool(' ')\n",
    "bool('python')"
   ]
  },
  {
   "cell_type": "code",
   "execution_count": 12,
   "id": "bba8d96e",
   "metadata": {},
   "outputs": [
    {
     "data": {
      "text/plain": [
       "False"
      ]
     },
     "execution_count": 12,
     "metadata": {},
     "output_type": "execute_result"
    },
    {
     "data": {
      "text/plain": [
       "False"
      ]
     },
     "execution_count": 12,
     "metadata": {},
     "output_type": "execute_result"
    }
   ],
   "source": [
    "bool(0)\n",
    "bool('')"
   ]
  },
  {
   "cell_type": "markdown",
   "id": "6cf38327",
   "metadata": {},
   "source": [
    "# 비교 연산자"
   ]
  },
  {
   "cell_type": "markdown",
   "id": "cd153885",
   "metadata": {},
   "source": [
    "<, >,  ==, <= >=, !="
   ]
  },
  {
   "cell_type": "markdown",
   "id": "c595b0a6",
   "metadata": {},
   "source": [
    "## 숫자 비교"
   ]
  },
  {
   "cell_type": "code",
   "execution_count": 14,
   "id": "ee6e95b6",
   "metadata": {},
   "outputs": [
    {
     "data": {
      "text/plain": [
       "True"
      ]
     },
     "execution_count": 14,
     "metadata": {},
     "output_type": "execute_result"
    },
    {
     "data": {
      "text/plain": [
       "False"
      ]
     },
     "execution_count": 14,
     "metadata": {},
     "output_type": "execute_result"
    },
    {
     "data": {
      "text/plain": [
       "True"
      ]
     },
     "execution_count": 14,
     "metadata": {},
     "output_type": "execute_result"
    },
    {
     "data": {
      "text/plain": [
       "True"
      ]
     },
     "execution_count": 14,
     "metadata": {},
     "output_type": "execute_result"
    }
   ],
   "source": [
    "3 > 1\n",
    "3 <= 1\n",
    "10 == 10\n",
    "5 != 4"
   ]
  },
  {
   "cell_type": "markdown",
   "id": "e6f50565",
   "metadata": {},
   "source": [
    "## 문자열 비교"
   ]
  },
  {
   "cell_type": "code",
   "execution_count": 15,
   "id": "ecd14f3e",
   "metadata": {},
   "outputs": [
    {
     "data": {
      "text/plain": [
       "False"
      ]
     },
     "execution_count": 15,
     "metadata": {},
     "output_type": "execute_result"
    },
    {
     "data": {
      "text/plain": [
       "True"
      ]
     },
     "execution_count": 15,
     "metadata": {},
     "output_type": "execute_result"
    }
   ],
   "source": [
    "'cat' == 'dog'\n",
    "'cat' != 'dog'"
   ]
  },
  {
   "cell_type": "markdown",
   "id": "d99918a3",
   "metadata": {},
   "source": [
    "# 논리 연산자"
   ]
  },
  {
   "cell_type": "markdown",
   "id": "2a0461ea",
   "metadata": {},
   "source": [
    "and, or, not"
   ]
  },
  {
   "cell_type": "markdown",
   "id": "0b746b9c",
   "metadata": {},
   "source": [
    "## and\n",
    "\n",
    "- 모두 True일 때만 True 출력\n",
    "\n",
    "- and는 &를 이용"
   ]
  },
  {
   "cell_type": "code",
   "execution_count": 16,
   "id": "ad075c00",
   "metadata": {},
   "outputs": [
    {
     "data": {
      "text/plain": [
       "True"
      ]
     },
     "execution_count": 16,
     "metadata": {},
     "output_type": "execute_result"
    },
    {
     "data": {
      "text/plain": [
       "False"
      ]
     },
     "execution_count": 16,
     "metadata": {},
     "output_type": "execute_result"
    },
    {
     "data": {
      "text/plain": [
       "False"
      ]
     },
     "execution_count": 16,
     "metadata": {},
     "output_type": "execute_result"
    },
    {
     "data": {
      "text/plain": [
       "False"
      ]
     },
     "execution_count": 16,
     "metadata": {},
     "output_type": "execute_result"
    }
   ],
   "source": [
    "True and True\n",
    "True and False\n",
    "False and True\n",
    "False and False"
   ]
  },
  {
   "cell_type": "markdown",
   "id": "0328222a",
   "metadata": {},
   "source": [
    "## or\n",
    "\n",
    "- 하나라도 True이면 True 출력\n",
    "\n",
    "- or은 |를 이용"
   ]
  },
  {
   "cell_type": "code",
   "execution_count": 17,
   "id": "5b1bd27e",
   "metadata": {},
   "outputs": [
    {
     "data": {
      "text/plain": [
       "True"
      ]
     },
     "execution_count": 17,
     "metadata": {},
     "output_type": "execute_result"
    },
    {
     "data": {
      "text/plain": [
       "True"
      ]
     },
     "execution_count": 17,
     "metadata": {},
     "output_type": "execute_result"
    },
    {
     "data": {
      "text/plain": [
       "True"
      ]
     },
     "execution_count": 17,
     "metadata": {},
     "output_type": "execute_result"
    },
    {
     "data": {
      "text/plain": [
       "False"
      ]
     },
     "execution_count": 17,
     "metadata": {},
     "output_type": "execute_result"
    }
   ],
   "source": [
    "True or True\n",
    "True or False\n",
    "False or True\n",
    "False or False"
   ]
  },
  {
   "cell_type": "markdown",
   "id": "7d6b8b1b",
   "metadata": {},
   "source": [
    "## not\n",
    "\n",
    "- 논리 값을 뒤집기\n",
    "\n",
    "- not True : False\n",
    "\n",
    "- not False : True"
   ]
  },
  {
   "cell_type": "code",
   "execution_count": 18,
   "id": "cf660211",
   "metadata": {},
   "outputs": [
    {
     "data": {
      "text/plain": [
       "False"
      ]
     },
     "execution_count": 18,
     "metadata": {},
     "output_type": "execute_result"
    },
    {
     "data": {
      "text/plain": [
       "True"
      ]
     },
     "execution_count": 18,
     "metadata": {},
     "output_type": "execute_result"
    },
    {
     "data": {
      "text/plain": [
       "True"
      ]
     },
     "execution_count": 18,
     "metadata": {},
     "output_type": "execute_result"
    }
   ],
   "source": [
    "not True\n",
    "not False\n",
    "not True and False or not False # False and False or True => False or True => True"
   ]
  },
  {
   "cell_type": "markdown",
   "id": "110fc97a",
   "metadata": {},
   "source": [
    "# 논리 연산자와 비교 연산자\n",
    "\n",
    "- 비교 연산자를 먼저 판단 후 논리 연산자를 판단"
   ]
  },
  {
   "cell_type": "code",
   "execution_count": 6,
   "id": "5ce427c8",
   "metadata": {},
   "outputs": [
    {
     "data": {
      "text/plain": [
       "True"
      ]
     },
     "execution_count": 6,
     "metadata": {},
     "output_type": "execute_result"
    },
    {
     "data": {
      "text/plain": [
       "True"
      ]
     },
     "execution_count": 6,
     "metadata": {},
     "output_type": "execute_result"
    },
    {
     "data": {
      "text/plain": [
       "False"
      ]
     },
     "execution_count": 6,
     "metadata": {},
     "output_type": "execute_result"
    },
    {
     "data": {
      "text/plain": [
       "True"
      ]
     },
     "execution_count": 6,
     "metadata": {},
     "output_type": "execute_result"
    }
   ],
   "source": [
    "10 == 10 and 10 != 5 # True and False\n",
    "10 > 5 or 10 < 3 # True or Fale\n",
    "not 10 > 5 # not True\n",
    "not 1 is 1.0 # not False"
   ]
  },
  {
   "cell_type": "code",
   "execution_count": null,
   "id": "36958192",
   "metadata": {},
   "outputs": [],
   "source": []
  },
  {
   "cell_type": "code",
   "execution_count": null,
   "id": "3a325c87",
   "metadata": {},
   "outputs": [],
   "source": []
  },
  {
   "cell_type": "code",
   "execution_count": null,
   "id": "bb128051",
   "metadata": {},
   "outputs": [],
   "source": []
  }
 ],
 "metadata": {
  "kernelspec": {
   "display_name": "Python 3 (ipykernel)",
   "language": "python",
   "name": "python3"
  },
  "language_info": {
   "codemirror_mode": {
    "name": "ipython",
    "version": 3
   },
   "file_extension": ".py",
   "mimetype": "text/x-python",
   "name": "python",
   "nbconvert_exporter": "python",
   "pygments_lexer": "ipython3",
   "version": "3.11.5"
  },
  "toc": {
   "base_numbering": 1,
   "nav_menu": {},
   "number_sections": true,
   "sideBar": true,
   "skip_h1_title": false,
   "title_cell": "Table of Contents",
   "title_sidebar": "Contents",
   "toc_cell": false,
   "toc_position": {},
   "toc_section_display": true,
   "toc_window_display": false
  }
 },
 "nbformat": 4,
 "nbformat_minor": 5
}
