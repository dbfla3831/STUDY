{
 "cells": [
  {
   "cell_type": "code",
   "execution_count": 7,
   "id": "c87c647c",
   "metadata": {},
   "outputs": [],
   "source": [
    "from IPython.core.interactiveshell import InteractiveShell\n",
    "InteractiveShell.ast_node_interactivity=\"all\""
   ]
  },
  {
   "cell_type": "markdown",
   "id": "f0172134",
   "metadata": {},
   "source": [
    "# set만들기\n",
    "\n",
    "- set = {값1, 값2, 값3}\n",
    "\n",
    "- 순서X, 중복X"
   ]
  },
  {
   "cell_type": "code",
   "execution_count": 2,
   "id": "5b945ada",
   "metadata": {},
   "outputs": [
    {
     "data": {
      "text/plain": [
       "{'cherry', 'grape', 'orange', 'pineapple', 'strawberry'}"
      ]
     },
     "execution_count": 2,
     "metadata": {},
     "output_type": "execute_result"
    }
   ],
   "source": [
    "set1 = {'strawberry', 'grape', 'orange', 'pineapple', 'cherry'}\n",
    "\n",
    "set1"
   ]
  },
  {
   "cell_type": "code",
   "execution_count": 8,
   "id": "9756ad9b",
   "metadata": {},
   "outputs": [
    {
     "data": {
      "text/plain": [
       "{'cherry', 'orange'}"
      ]
     },
     "execution_count": 8,
     "metadata": {},
     "output_type": "execute_result"
    },
    {
     "ename": "TypeError",
     "evalue": "'set' object is not subscriptable",
     "output_type": "error",
     "traceback": [
      "\u001b[0;31m---------------------------------------------------------------------------\u001b[0m",
      "\u001b[0;31mTypeError\u001b[0m                                 Traceback (most recent call last)",
      "Cell \u001b[0;32mIn[8], line 5\u001b[0m\n\u001b[1;32m      1\u001b[0m set1 \u001b[38;5;241m=\u001b[39m {\u001b[38;5;124m'\u001b[39m\u001b[38;5;124morange\u001b[39m\u001b[38;5;124m'\u001b[39m, \u001b[38;5;124m'\u001b[39m\u001b[38;5;124morange\u001b[39m\u001b[38;5;124m'\u001b[39m, \u001b[38;5;124m'\u001b[39m\u001b[38;5;124mcherry\u001b[39m\u001b[38;5;124m'\u001b[39m}\n\u001b[1;32m      4\u001b[0m set1\n\u001b[0;32m----> 5\u001b[0m set1[\u001b[38;5;124m'\u001b[39m\u001b[38;5;124mcherry\u001b[39m\u001b[38;5;124m'\u001b[39m]\n",
      "\u001b[0;31mTypeError\u001b[0m: 'set' object is not subscriptable"
     ]
    }
   ],
   "source": [
    "set1 = {'orange', 'orange', 'cherry'}\n",
    "\n",
    "\n",
    "set1\n",
    "set1['cherry'] # 특정 요소를 출력X"
   ]
  },
  {
   "cell_type": "markdown",
   "id": "b7748965",
   "metadata": {},
   "source": [
    "## set에서 특정 값이 있는지 확인하기\n",
    "\n",
    "- 값 in set\n",
    "\n",
    "- 값 not in set"
   ]
  },
  {
   "cell_type": "code",
   "execution_count": 11,
   "id": "0148a0af",
   "metadata": {},
   "outputs": [
    {
     "data": {
      "text/plain": [
       "True"
      ]
     },
     "execution_count": 11,
     "metadata": {},
     "output_type": "execute_result"
    },
    {
     "data": {
      "text/plain": [
       "False"
      ]
     },
     "execution_count": 11,
     "metadata": {},
     "output_type": "execute_result"
    },
    {
     "data": {
      "text/plain": [
       "True"
      ]
     },
     "execution_count": 11,
     "metadata": {},
     "output_type": "execute_result"
    },
    {
     "data": {
      "text/plain": [
       "False"
      ]
     },
     "execution_count": 11,
     "metadata": {},
     "output_type": "execute_result"
    }
   ],
   "source": [
    "set1 = {'strawberry', 'grape', 'orange', 'pineapple', 'cherry'}\n",
    "\n",
    "'orange' in set1\n",
    "'peach' in set1\n",
    "'peach' not in set1\n",
    "'orange' not in set1"
   ]
  },
  {
   "cell_type": "markdown",
   "id": "bb15fc01",
   "metadata": {},
   "source": [
    "## set을 사용하여 set 만들기\n",
    "\n",
    "- set(반복가능한객체)\n",
    "\n",
    "- type(객체)"
   ]
  },
  {
   "cell_type": "code",
   "execution_count": 12,
   "id": "99ebe81f",
   "metadata": {},
   "outputs": [
    {
     "data": {
      "text/plain": [
       "{'a', 'e', 'l', 'p'}"
      ]
     },
     "execution_count": 12,
     "metadata": {},
     "output_type": "execute_result"
    }
   ],
   "source": [
    "set1 = set('apple')\n",
    "\n",
    "set1"
   ]
  },
  {
   "cell_type": "code",
   "execution_count": 15,
   "id": "2cb1fd29",
   "metadata": {},
   "outputs": [
    {
     "data": {
      "text/plain": [
       "{0, 1, 2, 3, 4}"
      ]
     },
     "execution_count": 15,
     "metadata": {},
     "output_type": "execute_result"
    }
   ],
   "source": [
    "set1 = set(range(5))\n",
    "\n",
    "set1"
   ]
  },
  {
   "cell_type": "code",
   "execution_count": 16,
   "id": "b9796745",
   "metadata": {},
   "outputs": [
    {
     "data": {
      "text/plain": [
       "set()"
      ]
     },
     "execution_count": 16,
     "metadata": {},
     "output_type": "execute_result"
    }
   ],
   "source": [
    "set1 = set()\n",
    "\n",
    "set1"
   ]
  },
  {
   "cell_type": "code",
   "execution_count": 17,
   "id": "1a69681a",
   "metadata": {},
   "outputs": [
    {
     "data": {
      "text/plain": [
       "set"
      ]
     },
     "execution_count": 17,
     "metadata": {},
     "output_type": "execute_result"
    }
   ],
   "source": [
    "set1 = set()\n",
    "\n",
    "type(set1)"
   ]
  },
  {
   "cell_type": "markdown",
   "id": "e1b7fe6d",
   "metadata": {},
   "source": [
    "# 집합 연산 사용\n",
    "\n",
    "- set1 | set2 (set.union(set1, set2)) : 합집합, or 연산자"
   ]
  },
  {
   "cell_type": "code",
   "execution_count": 18,
   "id": "be0ee477",
   "metadata": {},
   "outputs": [
    {
     "data": {
      "text/plain": [
       "{1, 2, 3, 4, 5, 6}"
      ]
     },
     "execution_count": 18,
     "metadata": {},
     "output_type": "execute_result"
    },
    {
     "data": {
      "text/plain": [
       "{1, 2, 3, 4, 5, 6}"
      ]
     },
     "execution_count": 18,
     "metadata": {},
     "output_type": "execute_result"
    }
   ],
   "source": [
    "set1 = {1, 2, 3, 4}\n",
    "set2 = {3, 4, 5, 6}\n",
    "\n",
    "set1 | set2\n",
    "set.union(set1, set2)"
   ]
  },
  {
   "cell_type": "markdown",
   "id": "343112f5",
   "metadata": {},
   "source": [
    "- set1 & set2 (set.intersection(set1, set2)) : 교집합, and 연산자"
   ]
  },
  {
   "cell_type": "code",
   "execution_count": 19,
   "id": "7b0a4135",
   "metadata": {},
   "outputs": [
    {
     "data": {
      "text/plain": [
       "{3, 4}"
      ]
     },
     "execution_count": 19,
     "metadata": {},
     "output_type": "execute_result"
    },
    {
     "data": {
      "text/plain": [
       "{3, 4}"
      ]
     },
     "execution_count": 19,
     "metadata": {},
     "output_type": "execute_result"
    }
   ],
   "source": [
    "set1 = {1, 2, 3, 4}\n",
    "set2 = {3, 4, 5, 6}\n",
    "\n",
    "set1 & set2\n",
    "set.intersection(set1, set2)"
   ]
  },
  {
   "cell_type": "markdown",
   "id": "c81d8dfb",
   "metadata": {},
   "source": [
    "- set1 - set2 (set.difference(set1, set2)) : 차집합, -(뺄셈)연산자"
   ]
  },
  {
   "cell_type": "code",
   "execution_count": 20,
   "id": "71ec0a87",
   "metadata": {},
   "outputs": [
    {
     "data": {
      "text/plain": [
       "{1, 2}"
      ]
     },
     "execution_count": 20,
     "metadata": {},
     "output_type": "execute_result"
    },
    {
     "data": {
      "text/plain": [
       "{1, 2}"
      ]
     },
     "execution_count": 20,
     "metadata": {},
     "output_type": "execute_result"
    }
   ],
   "source": [
    "set1 = {1, 2, 3, 4}\n",
    "set2 = {3, 4, 5, 6}\n",
    "\n",
    "set1 - set2\n",
    "set.difference(set1, set2)"
   ]
  },
  {
   "cell_type": "markdown",
   "id": "7ce55855",
   "metadata": {},
   "source": [
    "- set1 ^ set2 (set.symmetric_difference(set1, set2)) : 대칭차집합 : xor 연산자"
   ]
  },
  {
   "cell_type": "code",
   "execution_count": 21,
   "id": "e4120a27",
   "metadata": {},
   "outputs": [
    {
     "data": {
      "text/plain": [
       "{1, 2, 5, 6}"
      ]
     },
     "execution_count": 21,
     "metadata": {},
     "output_type": "execute_result"
    },
    {
     "data": {
      "text/plain": [
       "{1, 2, 5, 6}"
      ]
     },
     "execution_count": 21,
     "metadata": {},
     "output_type": "execute_result"
    }
   ],
   "source": [
    "set1 = {1, 2, 3, 4}\n",
    "set2 = {3, 4, 5, 6}\n",
    "\n",
    "set1 ^ set2\n",
    "set.symmetric_difference(set1, set2)"
   ]
  },
  {
   "cell_type": "markdown",
   "id": "bc795ff0",
   "metadata": {},
   "source": [
    "## 집합 연산 후 할당 연산자 사용\n",
    "\n",
    "- set1 |= set2 (set1.update(set2)) : update 메서드"
   ]
  },
  {
   "cell_type": "code",
   "execution_count": 25,
   "id": "c1669519",
   "metadata": {},
   "outputs": [
    {
     "data": {
      "text/plain": [
       "{1, 2, 3, 4, 5}"
      ]
     },
     "execution_count": 25,
     "metadata": {},
     "output_type": "execute_result"
    },
    {
     "data": {
      "text/plain": [
       "{1, 2, 3, 4, 5}"
      ]
     },
     "execution_count": 25,
     "metadata": {},
     "output_type": "execute_result"
    }
   ],
   "source": [
    "set1 = {1, 2, 3, 4}\n",
    "set1 |= {5}\n",
    "\n",
    "set1\n",
    "\n",
    "set1 = {1, 2, 3, 4}\n",
    "set1.update({5})\n",
    "\n",
    "set1"
   ]
  },
  {
   "cell_type": "markdown",
   "id": "7b91dde1",
   "metadata": {},
   "source": [
    "- set1 &= set2 (set1.intersection_update(set2)) : intersection_update 메서드"
   ]
  },
  {
   "cell_type": "code",
   "execution_count": 26,
   "id": "ffa696b3",
   "metadata": {},
   "outputs": [
    {
     "data": {
      "text/plain": [
       "{1, 2, 3, 4}"
      ]
     },
     "execution_count": 26,
     "metadata": {},
     "output_type": "execute_result"
    },
    {
     "data": {
      "text/plain": [
       "{1, 2, 3, 4}"
      ]
     },
     "execution_count": 26,
     "metadata": {},
     "output_type": "execute_result"
    }
   ],
   "source": [
    "set1 = {1, 2, 3, 4}\n",
    "set1 &= {0, 1, 2, 3, 4}\n",
    "set1\n",
    "\n",
    "set1 = {1, 2, 3, 4}\n",
    "set1.intersection_update({0, 1, 2, 3, 4})\n",
    "set1"
   ]
  },
  {
   "cell_type": "markdown",
   "id": "b65efa12",
   "metadata": {},
   "source": [
    "- set1 -= set2 (set1.difference_update(set2)) : difference_update 메서드"
   ]
  },
  {
   "cell_type": "code",
   "execution_count": 27,
   "id": "9767c8c8",
   "metadata": {},
   "outputs": [
    {
     "data": {
      "text/plain": [
       "{1, 2, 5, 6}"
      ]
     },
     "execution_count": 27,
     "metadata": {},
     "output_type": "execute_result"
    },
    {
     "data": {
      "text/plain": [
       "{1, 2, 5, 6}"
      ]
     },
     "execution_count": 27,
     "metadata": {},
     "output_type": "execute_result"
    }
   ],
   "source": [
    "set1 = {1, 2, 3, 4, 5, 6}\n",
    "set1 -= {3, 4}\n",
    "set1\n",
    "\n",
    "set1 = {1, 2, 3, 4, 5, 6}\n",
    "set1.difference_update({3, 4})\n",
    "set1"
   ]
  },
  {
   "cell_type": "markdown",
   "id": "77f09af2",
   "metadata": {},
   "source": [
    "- set1 ^= set2 (set1.symmetric_difference_update(set2)) : symmetric_difference_update 메서드"
   ]
  },
  {
   "cell_type": "code",
   "execution_count": 28,
   "id": "e748b7ed",
   "metadata": {},
   "outputs": [
    {
     "data": {
      "text/plain": [
       "{1, 2, 5, 6}"
      ]
     },
     "execution_count": 28,
     "metadata": {},
     "output_type": "execute_result"
    },
    {
     "data": {
      "text/plain": [
       "{1, 2, 5, 6}"
      ]
     },
     "execution_count": 28,
     "metadata": {},
     "output_type": "execute_result"
    }
   ],
   "source": [
    "set1 = {1, 2, 3, 4, 5, 6}\n",
    "set1 ^= {3, 4}\n",
    "set1\n",
    "\n",
    "set1 = {1, 2, 3, 4, 5, 6}\n",
    "set1.symmetric_difference_update({3, 4})\n",
    "set1"
   ]
  },
  {
   "cell_type": "markdown",
   "id": "8d51e3a6",
   "metadata": {},
   "source": [
    "## 부분집합과 상위집합 확인하기\n",
    "\n",
    "-현재세트 <= 다른세트 : 부분집합\n",
    "\n",
    "- 현재세트.issubset(다른세트)"
   ]
  },
  {
   "cell_type": "code",
   "execution_count": 29,
   "id": "d53cd0a0",
   "metadata": {},
   "outputs": [
    {
     "data": {
      "text/plain": [
       "True"
      ]
     },
     "execution_count": 29,
     "metadata": {},
     "output_type": "execute_result"
    },
    {
     "data": {
      "text/plain": [
       "True"
      ]
     },
     "execution_count": 29,
     "metadata": {},
     "output_type": "execute_result"
    }
   ],
   "source": [
    "set1 = {1, 2, 3, 4}\n",
    "\n",
    "set1 <= {1, 2, 3, 4}\n",
    "set1.issubset({1, 2, 3, 4})"
   ]
  },
  {
   "cell_type": "markdown",
   "id": "16a4594c",
   "metadata": {},
   "source": [
    "- 현재세트 < 다른세트 : 진부분집합"
   ]
  },
  {
   "cell_type": "code",
   "execution_count": 30,
   "id": "2446a4f1",
   "metadata": {},
   "outputs": [
    {
     "data": {
      "text/plain": [
       "True"
      ]
     },
     "execution_count": 30,
     "metadata": {},
     "output_type": "execute_result"
    }
   ],
   "source": [
    "set1 = {1, 2, 3, 4}\n",
    "\n",
    "set1 < {1, 2, 3, 4,5}"
   ]
  },
  {
   "cell_type": "markdown",
   "id": "ebd1edee",
   "metadata": {},
   "source": [
    "- 현재세트 >= 다른세트 : 상위집합\n",
    "\n",
    "- 현재세트.issuperset(다른세트)"
   ]
  },
  {
   "cell_type": "code",
   "execution_count": 31,
   "id": "56247fb5",
   "metadata": {},
   "outputs": [
    {
     "data": {
      "text/plain": [
       "True"
      ]
     },
     "execution_count": 31,
     "metadata": {},
     "output_type": "execute_result"
    },
    {
     "data": {
      "text/plain": [
       "True"
      ]
     },
     "execution_count": 31,
     "metadata": {},
     "output_type": "execute_result"
    }
   ],
   "source": [
    "set1 = {1, 2, 3, 4}\n",
    "\n",
    "set1 >= {1, 2, 3, 4} # set1이 {1, 2, 3, 4}의 상위집합이니??\n",
    "set1.issuperset({1, 2, 3, 4})"
   ]
  },
  {
   "cell_type": "markdown",
   "id": "2fe0afbb",
   "metadata": {},
   "source": [
    "- 현재세트 > 다른세트 : 진상위집합"
   ]
  },
  {
   "cell_type": "code",
   "execution_count": 32,
   "id": "c2c3bab5",
   "metadata": {},
   "outputs": [
    {
     "data": {
      "text/plain": [
       "True"
      ]
     },
     "execution_count": 32,
     "metadata": {},
     "output_type": "execute_result"
    }
   ],
   "source": [
    "set1 = {1, 2, 3, 4}\n",
    "\n",
    "set1 > {1, 2, 3}"
   ]
  },
  {
   "cell_type": "markdown",
   "id": "359d595c",
   "metadata": {},
   "source": [
    "## set가 같은지 다른지 확인\n",
    "\n",
    "- set1 == set2"
   ]
  },
  {
   "cell_type": "code",
   "execution_count": 33,
   "id": "7033288a",
   "metadata": {},
   "outputs": [
    {
     "data": {
      "text/plain": [
       "False"
      ]
     },
     "execution_count": 33,
     "metadata": {},
     "output_type": "execute_result"
    },
    {
     "data": {
      "text/plain": [
       "True"
      ]
     },
     "execution_count": 33,
     "metadata": {},
     "output_type": "execute_result"
    },
    {
     "data": {
      "text/plain": [
       "False"
      ]
     },
     "execution_count": 33,
     "metadata": {},
     "output_type": "execute_result"
    }
   ],
   "source": [
    "set1 = {1, 2, 3, 4}\n",
    "\n",
    "set1 == {1, 2, 3}\n",
    "set1 == {4, 3, 2, 1}\n",
    "set1 != {4, 3, 2, 1}"
   ]
  },
  {
   "cell_type": "markdown",
   "id": "0a0bf3c8",
   "metadata": {},
   "source": [
    "## set가 겹치지 않는지 확인\n",
    "\n",
    "- 겹치는 요소가 X -> True"
   ]
  },
  {
   "cell_type": "code",
   "execution_count": 34,
   "id": "6f5a5e0e",
   "metadata": {},
   "outputs": [
    {
     "data": {
      "text/plain": [
       "True"
      ]
     },
     "execution_count": 34,
     "metadata": {},
     "output_type": "execute_result"
    },
    {
     "data": {
      "text/plain": [
       "False"
      ]
     },
     "execution_count": 34,
     "metadata": {},
     "output_type": "execute_result"
    }
   ],
   "source": [
    "set1 = {1, 2, 3, 4}\n",
    "\n",
    "set1.isdisjoint({5, 6, 7, 8})\n",
    "set1.isdisjoint({3, 4, 5, 6})"
   ]
  },
  {
   "cell_type": "markdown",
   "id": "71d58bc7",
   "metadata": {},
   "source": [
    "# set조작하기"
   ]
  },
  {
   "cell_type": "markdown",
   "id": "f4efba66",
   "metadata": {},
   "source": [
    "## set에 요소를 추가\n",
    "\n",
    "- add(요소)"
   ]
  },
  {
   "cell_type": "code",
   "execution_count": 35,
   "id": "bbeb07b1",
   "metadata": {},
   "outputs": [
    {
     "data": {
      "text/plain": [
       "{1, 2, 3, 4, 5}"
      ]
     },
     "execution_count": 35,
     "metadata": {},
     "output_type": "execute_result"
    }
   ],
   "source": [
    "set1 = {1, 2, 3, 4}\n",
    "set1.add(5)\n",
    "\n",
    "set1"
   ]
  },
  {
   "cell_type": "markdown",
   "id": "65dd6f2c",
   "metadata": {},
   "source": [
    "##  set에서 특정 요소를 삭제\n",
    "\n",
    "- emove(요소)\n",
    "\n",
    "- discard(요소)"
   ]
  },
  {
   "cell_type": "code",
   "execution_count": 36,
   "id": "663caf32",
   "metadata": {},
   "outputs": [
    {
     "data": {
      "text/plain": [
       "{1, 2, 4}"
      ]
     },
     "execution_count": 36,
     "metadata": {},
     "output_type": "execute_result"
    }
   ],
   "source": [
    "set1 = {1, 2, 3, 4}\n",
    "set1.remove(3)\n",
    "\n",
    "set1"
   ]
  },
  {
   "cell_type": "code",
   "execution_count": 37,
   "id": "1d13c401",
   "metadata": {},
   "outputs": [
    {
     "data": {
      "text/plain": [
       "{1, 2, 4}"
      ]
     },
     "execution_count": 37,
     "metadata": {},
     "output_type": "execute_result"
    }
   ],
   "source": [
    "set1 = {1, 2, 3, 4}\n",
    "set1.discard(3)\n",
    "\n",
    "set1"
   ]
  },
  {
   "cell_type": "markdown",
   "id": "f16f4f08",
   "metadata": {},
   "source": [
    "## set에서 임의의 요소를 삭제\n",
    "\n",
    "- pop(요소)"
   ]
  },
  {
   "cell_type": "code",
   "execution_count": 38,
   "id": "ccca0c61",
   "metadata": {},
   "outputs": [
    {
     "data": {
      "text/plain": [
       "1"
      ]
     },
     "execution_count": 38,
     "metadata": {},
     "output_type": "execute_result"
    },
    {
     "data": {
      "text/plain": [
       "{2, 3, 4}"
      ]
     },
     "execution_count": 38,
     "metadata": {},
     "output_type": "execute_result"
    }
   ],
   "source": [
    "set1 = {1, 2, 3, 4}\n",
    "set1.pop()\n",
    "\n",
    "set1"
   ]
  },
  {
   "cell_type": "markdown",
   "id": "73bf54fa",
   "metadata": {},
   "source": [
    "##  set의 모든 요소를 삭제\n",
    "\n",
    "- clear()"
   ]
  },
  {
   "cell_type": "code",
   "execution_count": 42,
   "id": "979215df",
   "metadata": {},
   "outputs": [
    {
     "data": {
      "text/plain": [
       "set()"
      ]
     },
     "execution_count": 42,
     "metadata": {},
     "output_type": "execute_result"
    }
   ],
   "source": [
    "set1 = {1, 2, 3, 4}\n",
    "set1.clear()\n",
    "\n",
    "set1"
   ]
  },
  {
   "cell_type": "markdown",
   "id": "7df48775",
   "metadata": {},
   "source": [
    "## set의 요소 개수 구하기\n",
    "\n",
    "- len(set)"
   ]
  },
  {
   "cell_type": "code",
   "execution_count": 43,
   "id": "93fe1f75",
   "metadata": {},
   "outputs": [
    {
     "data": {
      "text/plain": [
       "4"
      ]
     },
     "execution_count": 43,
     "metadata": {},
     "output_type": "execute_result"
    }
   ],
   "source": [
    "set1 = {1, 2, 3, 4}\n",
    "\n",
    "len(set1)"
   ]
  },
  {
   "cell_type": "markdown",
   "id": "50e0826c",
   "metadata": {},
   "source": []
  },
  {
   "cell_type": "markdown",
   "id": "530727bb",
   "metadata": {},
   "source": [
    "# set의 할당과 복사"
   ]
  },
  {
   "cell_type": "code",
   "execution_count": 45,
   "id": "6479c986",
   "metadata": {},
   "outputs": [
    {
     "data": {
      "text/plain": [
       "True"
      ]
     },
     "execution_count": 45,
     "metadata": {},
     "output_type": "execute_result"
    }
   ],
   "source": [
    "set1 = {1, 2, 3, 4}\n",
    "set2 = set1\n",
    "\n",
    "set1 is set2"
   ]
  },
  {
   "cell_type": "code",
   "execution_count": 46,
   "id": "1a42eb88",
   "metadata": {},
   "outputs": [
    {
     "data": {
      "text/plain": [
       "{1, 2, 3, 4}"
      ]
     },
     "execution_count": 46,
     "metadata": {},
     "output_type": "execute_result"
    },
    {
     "data": {
      "text/plain": [
       "{1, 2, 3, 4, 5}"
      ]
     },
     "execution_count": 46,
     "metadata": {},
     "output_type": "execute_result"
    },
    {
     "data": {
      "text/plain": [
       "{1, 2, 3, 4, 5}"
      ]
     },
     "execution_count": 46,
     "metadata": {},
     "output_type": "execute_result"
    }
   ],
   "source": [
    "set2\n",
    "\n",
    "set2.add(5)\n",
    "set1\n",
    "set2"
   ]
  },
  {
   "cell_type": "code",
   "execution_count": 47,
   "id": "fda4bdb0",
   "metadata": {},
   "outputs": [
    {
     "data": {
      "text/plain": [
       "False"
      ]
     },
     "execution_count": 47,
     "metadata": {},
     "output_type": "execute_result"
    }
   ],
   "source": [
    "set1 = {1, 2, 3, 4}\n",
    "set2 = set1.copy()\n",
    "\n",
    "set1 is set2"
   ]
  },
  {
   "cell_type": "code",
   "execution_count": 48,
   "id": "188d2038",
   "metadata": {},
   "outputs": [
    {
     "data": {
      "text/plain": [
       "{1, 2, 3, 4}"
      ]
     },
     "execution_count": 48,
     "metadata": {},
     "output_type": "execute_result"
    },
    {
     "data": {
      "text/plain": [
       "{1, 2, 3, 4, 5}"
      ]
     },
     "execution_count": 48,
     "metadata": {},
     "output_type": "execute_result"
    }
   ],
   "source": [
    "set1 = {1, 2, 3, 4}\n",
    "set2 = set1.copy()\n",
    "set2.add(5)\n",
    "\n",
    "set1\n",
    "set2"
   ]
  },
  {
   "cell_type": "markdown",
   "id": "f8bbf7c0",
   "metadata": {},
   "source": [
    "# 반복문으로 set의 요소를 모두 출력"
   ]
  },
  {
   "cell_type": "code",
   "execution_count": 49,
   "id": "352aa2f2",
   "metadata": {},
   "outputs": [
    {
     "name": "stdout",
     "output_type": "stream",
     "text": [
      "1 2 3 4 "
     ]
    }
   ],
   "source": [
    "set1 = {1, 2, 3, 4}\n",
    "for i in set1:\n",
    "    print(i, end = ' ')"
   ]
  },
  {
   "cell_type": "markdown",
   "id": "0d8601d4",
   "metadata": {},
   "source": [
    "## set 표현식 사용하기\n",
    "\n",
    "- {식 for 변수 in 반복가능한객체}\n",
    "\n",
    "- set(식 for 변수 in 반복가능한객체)"
   ]
  },
  {
   "cell_type": "code",
   "execution_count": 50,
   "id": "3b8687e3",
   "metadata": {},
   "outputs": [
    {
     "data": {
      "text/plain": [
       "{1, 2, 3, 4}"
      ]
     },
     "execution_count": 50,
     "metadata": {},
     "output_type": "execute_result"
    }
   ],
   "source": [
    "set1 = {i for i in {1, 2, 3, 4}}\n",
    "\n",
    "set1"
   ]
  },
  {
   "cell_type": "code",
   "execution_count": 53,
   "id": "cecd9bd8",
   "metadata": {},
   "outputs": [
    {
     "data": {
      "text/plain": [
       "{2, 4, 6, 8}"
      ]
     },
     "execution_count": 53,
     "metadata": {},
     "output_type": "execute_result"
    }
   ],
   "source": [
    "set1 = set(i * 2 for i in {1, 2, 3, 4})\n",
    "\n",
    "set1"
   ]
  },
  {
   "cell_type": "markdown",
   "id": "856f7f72",
   "metadata": {},
   "source": [
    "## set 표현식에 if 조건문 사용하기\n",
    "\n",
    "- {식 for 변수 in set if 조건식}\n",
    "\n",
    "- set(식 for 변수 in set if 조건식)"
   ]
  },
  {
   "cell_type": "code",
   "execution_count": 54,
   "id": "fbb4d69c",
   "metadata": {},
   "outputs": [
    {
     "data": {
      "text/plain": [
       "{0, 4, 8, 12, 16}"
      ]
     },
     "execution_count": 54,
     "metadata": {},
     "output_type": "execute_result"
    }
   ],
   "source": [
    "set1 = {i * 2 for i in range(10) if i % 2 == 0}\n",
    "\n",
    "set1"
   ]
  }
 ],
 "metadata": {
  "kernelspec": {
   "display_name": "Python 3 (ipykernel)",
   "language": "python",
   "name": "python3"
  },
  "language_info": {
   "codemirror_mode": {
    "name": "ipython",
    "version": 3
   },
   "file_extension": ".py",
   "mimetype": "text/x-python",
   "name": "python",
   "nbconvert_exporter": "python",
   "pygments_lexer": "ipython3",
   "version": "3.11.5"
  },
  "toc": {
   "base_numbering": 1,
   "nav_menu": {},
   "number_sections": true,
   "sideBar": true,
   "skip_h1_title": false,
   "title_cell": "Table of Contents",
   "title_sidebar": "Contents",
   "toc_cell": false,
   "toc_position": {},
   "toc_section_display": true,
   "toc_window_display": false
  }
 },
 "nbformat": 4,
 "nbformat_minor": 5
}
