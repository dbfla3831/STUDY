{
 "cells": [
  {
   "cell_type": "code",
   "execution_count": 41,
   "id": "aca9dd9f",
   "metadata": {},
   "outputs": [],
   "source": [
    "from IPython.core.interactiveshell import InteractiveShell\n",
    "InteractiveShell.ast_node_interactivity=\"all\""
   ]
  },
  {
   "cell_type": "markdown",
   "id": "c66bffa2",
   "metadata": {},
   "source": [
    "# 딕셔너리 조작하기"
   ]
  },
  {
   "cell_type": "markdown",
   "id": "e62ce85e",
   "metadata": {},
   "source": [
    "## 딕셔너리에 키 - 값 추가하기\n",
    "\n",
    "- setdefault() : 키 -값 쌍 추가\n",
    "\n",
    "- update() : 키의 값 수정, 키가 없으면 키 - 값 쌍 추가"
   ]
  },
  {
   "cell_type": "code",
   "execution_count": 3,
   "id": "027238a3",
   "metadata": {},
   "outputs": [
    {
     "data": {
      "text/plain": [
       "{'a': 10, 'b': 20, 'c': 30, 'd': 40, 'e': None}"
      ]
     },
     "execution_count": 3,
     "metadata": {},
     "output_type": "execute_result"
    }
   ],
   "source": [
    "dic = {'a':10, 'b':20, 'c':30, 'd':40}\n",
    "dic.setdefault('e')\n",
    "\n",
    "dic"
   ]
  },
  {
   "cell_type": "code",
   "execution_count": 4,
   "id": "d5288fbd",
   "metadata": {},
   "outputs": [
    {
     "data": {
      "text/plain": [
       "{'a': 10, 'b': 20, 'c': 30, 'd': 40, 'e': None, 'f': 100}"
      ]
     },
     "execution_count": 4,
     "metadata": {},
     "output_type": "execute_result"
    }
   ],
   "source": [
    "dic.setdefault('f', 100)\n",
    "\n",
    "dic"
   ]
  },
  {
   "cell_type": "code",
   "execution_count": 5,
   "id": "65ce2cf6",
   "metadata": {},
   "outputs": [
    {
     "data": {
      "text/plain": [
       "{'a': 90, 'b': 20, 'c': 30, 'd': 40, 'e': 50}"
      ]
     },
     "execution_count": 5,
     "metadata": {},
     "output_type": "execute_result"
    }
   ],
   "source": [
    "dic = {'a':10, 'b':20, 'c':30, 'd':40}\n",
    "dic.update(a = 90)\n",
    "dic.update(e = 50)\n",
    "\n",
    "dic"
   ]
  },
  {
   "cell_type": "code",
   "execution_count": 6,
   "id": "f2fdf4a2",
   "metadata": {},
   "outputs": [
    {
     "data": {
      "text/plain": [
       "{'a': 100, 'b': 20, 'c': 30, 'd': 40, 'e': 50, 'f': 900}"
      ]
     },
     "execution_count": 6,
     "metadata": {},
     "output_type": "execute_result"
    }
   ],
   "source": [
    "dic.update(a = 100, f = 900)\n",
    "\n",
    "dic"
   ]
  },
  {
   "cell_type": "markdown",
   "id": "62b1ee19",
   "metadata": {},
   "source": [
    "- update(키 = 값)은 키가 문자열인 경우만 사용할 수 있다"
   ]
  },
  {
   "cell_type": "code",
   "execution_count": 7,
   "id": "868367b1",
   "metadata": {},
   "outputs": [
    {
     "data": {
      "text/plain": [
       "{1: 'ONE', 2: 'twe', 3: 'THREE'}"
      ]
     },
     "execution_count": 7,
     "metadata": {},
     "output_type": "execute_result"
    }
   ],
   "source": [
    "dic = {1 : 'one', 2 : 'twe'}\n",
    "dic.update({1 : \"ONE\", 3 : \"THREE\"})\n",
    "\n",
    "dic"
   ]
  },
  {
   "cell_type": "code",
   "execution_count": 9,
   "id": "91fa4b81",
   "metadata": {},
   "outputs": [
    {
     "data": {
      "text/plain": [
       "{1: 'ONE', 2: 'TWE', 3: 'THREE', 4: 'FOUR'}"
      ]
     },
     "execution_count": 9,
     "metadata": {},
     "output_type": "execute_result"
    }
   ],
   "source": [
    "dic.update([[2, \"TWE\"], [4 , \"FOUR\"]])\n",
    "\n",
    "dic"
   ]
  },
  {
   "cell_type": "code",
   "execution_count": 10,
   "id": "7cde92b8",
   "metadata": {},
   "outputs": [
    {
     "data": {
      "text/plain": [
       "{1: 'one', 2: 'twe', 3: 'THREE', 4: 'FOUR'}"
      ]
     },
     "execution_count": 10,
     "metadata": {},
     "output_type": "execute_result"
    }
   ],
   "source": [
    "dic.update(zip([1, 2], ['one', 'twe']))\n",
    "\n",
    "dic"
   ]
  },
  {
   "cell_type": "markdown",
   "id": "f2b7d02c",
   "metadata": {},
   "source": [
    "## 딕셔너리에서 키 - 값 쌍 삭제\n",
    "\n",
    "- pop(키)"
   ]
  },
  {
   "cell_type": "code",
   "execution_count": 13,
   "id": "cfafc440",
   "metadata": {},
   "outputs": [
    {
     "name": "stdout",
     "output_type": "stream",
     "text": [
      "{'a': 10, 'b': 20, 'c': 30, 'd': 40}\n"
     ]
    },
    {
     "data": {
      "text/plain": [
       "{'b': 20, 'c': 30, 'd': 40}"
      ]
     },
     "execution_count": 13,
     "metadata": {},
     "output_type": "execute_result"
    }
   ],
   "source": [
    "dic = {'a':10, 'b':20, 'c':30, 'd':40}\n",
    "print(dic)\n",
    "\n",
    "dic.pop('a')\n",
    "dic"
   ]
  },
  {
   "cell_type": "code",
   "execution_count": 15,
   "id": "5f73e512",
   "metadata": {},
   "outputs": [
    {
     "name": "stdout",
     "output_type": "stream",
     "text": [
      "{'a': 10, 'b': 20, 'c': 30, 'd': 40}\n"
     ]
    },
    {
     "data": {
      "text/plain": [
       "{'b': 20, 'c': 30, 'd': 40}"
      ]
     },
     "execution_count": 15,
     "metadata": {},
     "output_type": "execute_result"
    }
   ],
   "source": [
    "dic = {'a':10, 'b':20, 'c':30, 'd':40}\n",
    "print(dic)\n",
    "\n",
    "del dic['a']\n",
    "dic"
   ]
  },
  {
   "cell_type": "markdown",
   "id": "ff42d2ba",
   "metadata": {},
   "source": [
    "## 딕셔너리에서 임의의 키 - 값 쌍 삭제하기\n",
    "\n",
    "- popitem() : 임의의 키 - 값 쌍을 삭제한 뒤 삭제한 키 - 값 쌍을 튜플로 반환"
   ]
  },
  {
   "cell_type": "code",
   "execution_count": 19,
   "id": "f6f348e9",
   "metadata": {},
   "outputs": [
    {
     "name": "stdout",
     "output_type": "stream",
     "text": [
      "('d', 40)\n",
      "{'a': 10, 'b': 20, 'c': 30}\n"
     ]
    }
   ],
   "source": [
    "dic = {'a':10, 'b':20, 'c':30, 'd':40}\n",
    "\n",
    "print(dic.popitem())\n",
    "print(dic)"
   ]
  },
  {
   "cell_type": "markdown",
   "id": "36d77d96",
   "metadata": {},
   "source": [
    "## 딕셔너리의 모든 키 - 값 쌍을 삭제\n",
    "\n",
    "- clear()"
   ]
  },
  {
   "cell_type": "code",
   "execution_count": 20,
   "id": "4c7a0aa3",
   "metadata": {},
   "outputs": [
    {
     "data": {
      "text/plain": [
       "{}"
      ]
     },
     "execution_count": 20,
     "metadata": {},
     "output_type": "execute_result"
    }
   ],
   "source": [
    "dic = {'a':10, 'b':20, 'c':30, 'd':40}\n",
    "dic.clear()\n",
    "\n",
    "dic"
   ]
  },
  {
   "cell_type": "markdown",
   "id": "7800dcbb",
   "metadata": {},
   "source": [
    "## 딕셔너리에서 키의 값을 가져오기\n",
    "\n",
    "- get(키)"
   ]
  },
  {
   "cell_type": "code",
   "execution_count": 21,
   "id": "02c1c582",
   "metadata": {},
   "outputs": [
    {
     "name": "stdout",
     "output_type": "stream",
     "text": [
      "10\n"
     ]
    }
   ],
   "source": [
    "dic = {'a':10, 'b':20, 'c':30, 'd':40}\n",
    "\n",
    "print(dic.get('a'))"
   ]
  },
  {
   "cell_type": "markdown",
   "id": "d21d4d27",
   "metadata": {},
   "source": [
    "## 딕셔너리에서 키 - 값 쌍을 모두 가져오기\n",
    "\n",
    "- items : 키 - 값 쌍을 모두 가져옴\n",
    "\n",
    "- keys : 키를 모두 가져옴\n",
    "\n",
    "- values : 값을 모두 가져옴"
   ]
  },
  {
   "cell_type": "code",
   "execution_count": 22,
   "id": "ef4fd714",
   "metadata": {},
   "outputs": [
    {
     "name": "stdout",
     "output_type": "stream",
     "text": [
      "dict_items([('a', 10), ('b', 20), ('c', 30), ('d', 40)])\n",
      "dict_keys(['a', 'b', 'c', 'd'])\n",
      "dict_values([10, 20, 30, 40])\n"
     ]
    }
   ],
   "source": [
    "dic = {'a':10, 'b':20, 'c':30, 'd':40}\n",
    "\n",
    "print(dic.items())\n",
    "\n",
    "print(dic.keys())\n",
    "\n",
    "\n",
    "print(dic.values())"
   ]
  },
  {
   "cell_type": "markdown",
   "id": "3cae67f2",
   "metadata": {},
   "source": [
    "## 리스트와 튜플로 딕셔너리 만들기\n",
    "\n",
    "- dict.fromkeys(키리스트)"
   ]
  },
  {
   "cell_type": "code",
   "execution_count": 23,
   "id": "40c2289f",
   "metadata": {},
   "outputs": [
    {
     "data": {
      "text/plain": [
       "{'a': None, 'b': None, 'c': None, 'd': None}"
      ]
     },
     "execution_count": 23,
     "metadata": {},
     "output_type": "execute_result"
    }
   ],
   "source": [
    "keys = ['a', 'b', 'c', 'd']\n",
    "dic = dict.fromkeys(keys)\n",
    "\n",
    "dic"
   ]
  },
  {
   "cell_type": "code",
   "execution_count": 24,
   "id": "fc076d72",
   "metadata": {},
   "outputs": [
    {
     "data": {
      "text/plain": [
       "{'a': 100, 'b': 100, 'c': 100, 'd': 100}"
      ]
     },
     "execution_count": 24,
     "metadata": {},
     "output_type": "execute_result"
    }
   ],
   "source": [
    "dic2 = dict.fromkeys(keys, 100)\n",
    "\n",
    "dic2"
   ]
  },
  {
   "cell_type": "markdown",
   "id": "6b85f8b8",
   "metadata": {},
   "source": [
    "# 반복문으로 딕셔너리의 키 - 값 쌍을 모두 출력"
   ]
  },
  {
   "cell_type": "code",
   "execution_count": 25,
   "id": "b972d065",
   "metadata": {},
   "outputs": [
    {
     "name": "stdout",
     "output_type": "stream",
     "text": [
      "a b c d "
     ]
    }
   ],
   "source": [
    "dic = {'a':10, 'b':20, 'c':30, 'd':40}\n",
    "for i in dic: # dic의 key만 출력\n",
    "    print(i, end = ' ')"
   ]
  },
  {
   "cell_type": "code",
   "execution_count": 26,
   "id": "a2b745a3",
   "metadata": {},
   "outputs": [
    {
     "name": "stdout",
     "output_type": "stream",
     "text": [
      "('a', 10) ('b', 20) ('c', 30) ('d', 40) "
     ]
    }
   ],
   "source": [
    "dic = {'a':10, 'b':20, 'c':30, 'd':40}\n",
    "for i in dic.items():\n",
    "    print(i, end = ' ')"
   ]
  },
  {
   "cell_type": "code",
   "execution_count": 27,
   "id": "f8508004",
   "metadata": {},
   "outputs": [
    {
     "name": "stdout",
     "output_type": "stream",
     "text": [
      "a 10\n",
      "b 20\n",
      "c 30\n",
      "d 40\n"
     ]
    }
   ],
   "source": [
    "dic = {'a':10, 'b':20, 'c':30, 'd':40}\n",
    "for key, val in dic.items():\n",
    "    print(key, val)"
   ]
  },
  {
   "cell_type": "markdown",
   "id": "188848f8",
   "metadata": {},
   "source": [
    "## 딕셔너리의 키만 출력"
   ]
  },
  {
   "cell_type": "code",
   "execution_count": 28,
   "id": "feeeaf32",
   "metadata": {},
   "outputs": [
    {
     "name": "stdout",
     "output_type": "stream",
     "text": [
      "a b c d "
     ]
    }
   ],
   "source": [
    "dic = {'a':10, 'b':20, 'c':30, 'd':40}\n",
    "for key in dic.keys():\n",
    "    print(key, end = ' ')"
   ]
  },
  {
   "cell_type": "markdown",
   "id": "34a00928",
   "metadata": {},
   "source": [
    "## 딕셔너리의 값만 출력"
   ]
  },
  {
   "cell_type": "code",
   "execution_count": 29,
   "id": "22c3a98b",
   "metadata": {},
   "outputs": [
    {
     "name": "stdout",
     "output_type": "stream",
     "text": [
      "10 20 30 40 "
     ]
    }
   ],
   "source": [
    "dic = {'a':10, 'b':20, 'c':30, 'd':40}\n",
    "for val in dic.values():\n",
    "    print(val, end = ' ')\n"
   ]
  },
  {
   "cell_type": "markdown",
   "id": "dcada4d6",
   "metadata": {},
   "source": [
    "# 딕셔너리 표현식 사용하기\n",
    "\n",
    "- {키 : 값 for 키, 값 in 딕셔너리}\n",
    "\n",
    "- dict({키 : 값 for 키, 값 in 딕셔너리})"
   ]
  },
  {
   "cell_type": "code",
   "execution_count": 31,
   "id": "50975e03",
   "metadata": {},
   "outputs": [
    {
     "data": {
      "text/plain": [
       "{'a': None, 'b': None, 'c': None, 'd': None}"
      ]
     },
     "execution_count": 31,
     "metadata": {},
     "output_type": "execute_result"
    }
   ],
   "source": [
    "keys = ['a', 'b', 'c', 'd']\n",
    "dic = {key : val for key, val in dict.fromkeys(keys).items()}\n",
    "\n",
    "dic"
   ]
  },
  {
   "cell_type": "code",
   "execution_count": 32,
   "id": "312cb0e7",
   "metadata": {},
   "outputs": [
    {
     "data": {
      "text/plain": [
       "{'a': 0, 'b': 0, 'c': 0, 'd': 0}"
      ]
     },
     "execution_count": 32,
     "metadata": {},
     "output_type": "execute_result"
    }
   ],
   "source": [
    "keys = ['a', 'b', 'c', 'd']\n",
    "dic = {key : 0 for key in dict.fromkeys(keys).keys()}\n",
    "\n",
    "dic"
   ]
  },
  {
   "cell_type": "markdown",
   "id": "b4526ea9",
   "metadata": {},
   "source": [
    "## 딕셔너리 표현식에서 if 조건문 사용하기\n",
    "\n",
    "- {키 : 값 for 키, 값 in 딕셔너리 if 조건식}\n",
    "\n",
    "- dict({키 : 값 for 키, 값 in 딕셔너리 if 조건식})"
   ]
  },
  {
   "cell_type": "code",
   "execution_count": 33,
   "id": "1c90c09a",
   "metadata": {},
   "outputs": [
    {
     "data": {
      "text/plain": [
       "{'a': 10, 'c': 30, 'd': 40}"
      ]
     },
     "execution_count": 33,
     "metadata": {},
     "output_type": "execute_result"
    }
   ],
   "source": [
    "dic = {'a':10, 'b':20, 'c':30, 'd':40}\n",
    "dic = {key : val for key, val in dic.items() if val != 20}\n",
    "\n",
    "dic"
   ]
  },
  {
   "cell_type": "markdown",
   "id": "0f5d0d10",
   "metadata": {},
   "source": [
    "# 딕셔너리 안에서 딕셔너리 사용하기\n",
    "\n",
    "- 딕셔너리 = {키1 : {키A : 값A}, 키2 : {키B :  값B}} \n"
   ]
  },
  {
   "cell_type": "code",
   "execution_count": 34,
   "id": "8c44c9d5",
   "metadata": {},
   "outputs": [
    {
     "data": {
      "text/plain": [
       "6051.8"
      ]
     },
     "execution_count": 34,
     "metadata": {},
     "output_type": "execute_result"
    }
   ],
   "source": [
    "terrestrial_planet = {\n",
    "    'Mercury' : {\n",
    "        'mean_radius' : 2439.7,\n",
    "        'mass' : 3.3022E+23,\n",
    "        'orbital_period' : 87.969\n",
    "    },\n",
    "    'Venus' : {\n",
    "        'mean_radius' : 6051.8,\n",
    "        'mass' : 4.8676E+24,\n",
    "        'orbital_period' : 224.70069\n",
    "    },\n",
    "    'Earth' : {\n",
    "        'mean_radius' : 6371.0,\n",
    "        'mass' : 5.97219E+24,\n",
    "        'orbital_period' : 365.25641\n",
    "    },\n",
    "    'Mars' : {\n",
    "        'mean_radius' : 3389.5,\n",
    "        'mass' : 6.4185E+23,\n",
    "        'orbital_period' : 686.9600\n",
    "    }\n",
    "}\n",
    "\n",
    "terrestrial_planet[\"Venus\"]['mean_radius']"
   ]
  },
  {
   "cell_type": "markdown",
   "id": "86a8659b",
   "metadata": {},
   "source": [
    "# 딕셔너리의 할당과 복사"
   ]
  },
  {
   "cell_type": "code",
   "execution_count": 35,
   "id": "7d364670",
   "metadata": {},
   "outputs": [
    {
     "name": "stdout",
     "output_type": "stream",
     "text": [
      "True\n"
     ]
    }
   ],
   "source": [
    "x = {'a' : 0, 'b' : 0, 'c' : 0, 'd' : 0}\n",
    "y = x\n",
    "\n",
    "print( x is y)"
   ]
  },
  {
   "cell_type": "code",
   "execution_count": 36,
   "id": "9dbc850d",
   "metadata": {},
   "outputs": [
    {
     "name": "stdout",
     "output_type": "stream",
     "text": [
      "{'a': 90, 'b': 0, 'c': 0, 'd': 0}\n",
      "{'a': 90, 'b': 0, 'c': 0, 'd': 0}\n"
     ]
    }
   ],
   "source": [
    "y['a'] = 90\n",
    "\n",
    "print(x)\n",
    "print(y)"
   ]
  },
  {
   "cell_type": "code",
   "execution_count": 37,
   "id": "f26606eb",
   "metadata": {},
   "outputs": [
    {
     "name": "stdout",
     "output_type": "stream",
     "text": [
      "False\n"
     ]
    }
   ],
   "source": [
    "x = {'a' : 0, 'b' : 0, 'c' : 0, 'd' : 0}\n",
    "y = x.copy()\n",
    "\n",
    "print(x is y)"
   ]
  },
  {
   "cell_type": "code",
   "execution_count": 38,
   "id": "25b29a8c",
   "metadata": {},
   "outputs": [
    {
     "name": "stdout",
     "output_type": "stream",
     "text": [
      "{'a': 0, 'b': 0, 'c': 0, 'd': 0}\n",
      "{'a': 90, 'b': 0, 'c': 0, 'd': 0}\n"
     ]
    }
   ],
   "source": [
    "y['a'] = 90\n",
    "\n",
    "print(x)\n",
    "print(y)"
   ]
  },
  {
   "cell_type": "markdown",
   "id": "bd46f331",
   "metadata": {},
   "source": [
    "## 중첩 딕셔너리의 할당과 복사 알아보기\n",
    "\n",
    "- deepcopy() : 중첩 딕셔너리를 완전히 복사하기 위해"
   ]
  },
  {
   "cell_type": "code",
   "execution_count": 39,
   "id": "3ceb4ca8",
   "metadata": {},
   "outputs": [
    {
     "name": "stdout",
     "output_type": "stream",
     "text": [
      "{'a': {'python': '2.7.15'}, 'b': {'python': '3.6'}}\n",
      "{'a': {'python': '2.7.15'}, 'b': {'python': '3.6'}}\n"
     ]
    }
   ],
   "source": [
    "x = {'a' : {'python' : '2.7'}, 'b' : {'python' : '3.6'}}\n",
    "y = x.copy()\n",
    "\n",
    "y['a']['python'] = '2.7.15'\n",
    "\n",
    "print(x)\n",
    "print(y)"
   ]
  },
  {
   "cell_type": "code",
   "execution_count": 40,
   "id": "e5645e0e",
   "metadata": {},
   "outputs": [
    {
     "name": "stdout",
     "output_type": "stream",
     "text": [
      "{'a': {'python': '2.7'}, 'b': {'python': '3.6'}}\n",
      "{'a': {'python': '2.7.15'}, 'b': {'python': '3.6'}}\n"
     ]
    }
   ],
   "source": [
    "x = {'a' : {'python' : '2.7'}, 'b' : {'python' : '3.6'}}\n",
    "import copy\n",
    "y = copy.deepcopy(x)\n",
    "\n",
    "y['a']['python'] = '2.7.15'\n",
    "\n",
    "print(x)\n",
    "print(y)"
   ]
  }
 ],
 "metadata": {
  "kernelspec": {
   "display_name": "Python 3 (ipykernel)",
   "language": "python",
   "name": "python3"
  },
  "language_info": {
   "codemirror_mode": {
    "name": "ipython",
    "version": 3
   },
   "file_extension": ".py",
   "mimetype": "text/x-python",
   "name": "python",
   "nbconvert_exporter": "python",
   "pygments_lexer": "ipython3",
   "version": "3.11.5"
  },
  "toc": {
   "base_numbering": 1,
   "nav_menu": {},
   "number_sections": true,
   "sideBar": true,
   "skip_h1_title": false,
   "title_cell": "Table of Contents",
   "title_sidebar": "Contents",
   "toc_cell": false,
   "toc_position": {
    "height": "calc(100% - 180px)",
    "left": "10px",
    "top": "150px",
    "width": "165px"
   },
   "toc_section_display": true,
   "toc_window_display": true
  }
 },
 "nbformat": 4,
 "nbformat_minor": 5
}
