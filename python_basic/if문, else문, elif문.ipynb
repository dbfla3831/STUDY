{
 "cells": [
  {
   "cell_type": "code",
   "execution_count": 1,
   "id": "41d74706",
   "metadata": {},
   "outputs": [],
   "source": [
    "from IPython.core.interactiveshell import InteractiveShell\n",
    "InteractiveShell.ast_node_interactivity=\"all\"\n",
    "\n",
    "import warnings\n",
    "warnings.filterwarnings('ignore')"
   ]
  },
  {
   "cell_type": "markdown",
   "id": "abbd62e3",
   "metadata": {},
   "source": [
    "# if문"
   ]
  },
  {
   "cell_type": "code",
   "execution_count": 2,
   "id": "7b57f050",
   "metadata": {},
   "outputs": [
    {
     "name": "stdout",
     "output_type": "stream",
     "text": [
      "10입니다\n"
     ]
    }
   ],
   "source": [
    "x = 10\n",
    "\n",
    "if x == 10:\n",
    "    print('10입니다')"
   ]
  },
  {
   "cell_type": "markdown",
   "id": "ee00f5e3",
   "metadata": {},
   "source": [
    "## if 조건문과 들여쓰기"
   ]
  },
  {
   "cell_type": "code",
   "execution_count": 3,
   "id": "71912332",
   "metadata": {},
   "outputs": [
    {
     "name": "stdout",
     "output_type": "stream",
     "text": [
      "x에 들어가있는 숫자는 \n",
      "10입니다\n"
     ]
    }
   ],
   "source": [
    "x = 10\n",
    "\n",
    "if x == 10:\n",
    "    print('x에 들어가있는 숫자는 ') # if문의 조건식을 만족할 때 출력\n",
    "    \n",
    "print('10입니다') # if문 상관없이 출력하는 문장"
   ]
  },
  {
   "cell_type": "markdown",
   "id": "5bb33dae",
   "metadata": {},
   "source": [
    "## 중첩 if조건문 사용"
   ]
  },
  {
   "cell_type": "code",
   "execution_count": 15,
   "id": "7bb971ef",
   "metadata": {},
   "outputs": [
    {
     "name": "stdout",
     "output_type": "stream",
     "text": [
      "x는 10입니다\n",
      "x는 15입니다\n"
     ]
    }
   ],
   "source": [
    "x = 15\n",
    "\n",
    "if x >= 10:\n",
    "    print(\"x는 10입니다\")\n",
    "    \n",
    "    if x >= 15:\n",
    "        print(\"x는 15입니다\")\n",
    "        \n",
    "    if x == 20:\n",
    "        print(\"x는 20입니다\")"
   ]
  },
  {
   "cell_type": "markdown",
   "id": "bd06504f",
   "metadata": {},
   "source": [
    "x값을 입력받아 if문 수행"
   ]
  },
  {
   "cell_type": "code",
   "execution_count": 16,
   "id": "e8f21527",
   "metadata": {},
   "outputs": [
    {
     "name": "stdout",
     "output_type": "stream",
     "text": [
      "29\n"
     ]
    }
   ],
   "source": [
    "x = int(input())\n",
    "\n",
    "if x == 10:\n",
    "    print(\"10입니다\")\n",
    "\n",
    "if x == 20:\n",
    "    print(\"20입니다\")"
   ]
  },
  {
   "cell_type": "markdown",
   "id": "073c11b3",
   "metadata": {},
   "source": [
    "# else문"
   ]
  },
  {
   "cell_type": "markdown",
   "id": "fdc67583",
   "metadata": {},
   "source": [
    "## else 사용하기"
   ]
  },
  {
   "cell_type": "code",
   "execution_count": 17,
   "id": "f4a816d3",
   "metadata": {},
   "outputs": [
    {
     "name": "stdout",
     "output_type": "stream",
     "text": [
      "10입니다\n"
     ]
    }
   ],
   "source": [
    "# x = 5\n",
    "x = 10\n",
    "\n",
    "if x == 10:\n",
    "    print(\"10입니다\") # if문의 조건식을 만족할 때 출력\n",
    "else:\n",
    "    print(\"10이 아닙니다\")"
   ]
  },
  {
   "cell_type": "code",
   "execution_count": 4,
   "id": "019bac01",
   "metadata": {},
   "outputs": [
    {
     "name": "stdout",
     "output_type": "stream",
     "text": [
      "0\n"
     ]
    }
   ],
   "source": [
    "x = 5\n",
    "\n",
    "if x == 10:\n",
    "    y = x # x가 10일 경우 y에 x값을 대입\n",
    "else:\n",
    "    y = 0\n",
    "\n",
    "print(y)"
   ]
  },
  {
   "cell_type": "markdown",
   "id": "e105a1f9",
   "metadata": {},
   "source": [
    "** 변수 = 값 if 조건문 else값"
   ]
  },
  {
   "cell_type": "code",
   "execution_count": 19,
   "id": "74d4c784",
   "metadata": {},
   "outputs": [
    {
     "name": "stdout",
     "output_type": "stream",
     "text": [
      "0\n"
     ]
    }
   ],
   "source": [
    "y = 5\n",
    "y = x if x == 10 else 0\n",
    "print(y)"
   ]
  },
  {
   "cell_type": "markdown",
   "id": "0b8c3ce5",
   "metadata": {},
   "source": [
    "## else와 들여쓰기"
   ]
  },
  {
   "cell_type": "code",
   "execution_count": 20,
   "id": "b464f5ef",
   "metadata": {},
   "outputs": [
    {
     "ename": "IndentationError",
     "evalue": "expected an indented block after 'else' statement on line 5 (3415217315.py, line 6)",
     "output_type": "error",
     "traceback": [
      "\u001b[1;36m  Cell \u001b[1;32mIn[20], line 6\u001b[1;36m\u001b[0m\n\u001b[1;33m    print(\"x에 들어있는 숫자는\")  #들여쓰기가 틀림\u001b[0m\n\u001b[1;37m    ^\u001b[0m\n\u001b[1;31mIndentationError\u001b[0m\u001b[1;31m:\u001b[0m expected an indented block after 'else' statement on line 5\n"
     ]
    }
   ],
   "source": [
    "x = 5\n",
    "\n",
    "if x == 10:\n",
    "    print(\"10입니다\")\n",
    "else:\n",
    "print(\"x에 들어있는 숫자는\")  #들여쓰기가 틀림\n",
    "    print(\"10이 아닙니다\")"
   ]
  },
  {
   "cell_type": "code",
   "execution_count": 21,
   "id": "8e41720c",
   "metadata": {},
   "outputs": [
    {
     "name": "stdout",
     "output_type": "stream",
     "text": [
      "x에 들어있는 숫자는\n",
      "10이 아닙니다\n"
     ]
    }
   ],
   "source": [
    "x = 5\n",
    "\n",
    "if x == 10:\n",
    "    print(\"x는 10입니다\")\n",
    "    \n",
    "else:\n",
    "    print(\"x에 들어있는 숫자는\")\n",
    "    print(\"10이 아닙니다\")"
   ]
  },
  {
   "cell_type": "code",
   "execution_count": 22,
   "id": "cb4708b6",
   "metadata": {},
   "outputs": [
    {
     "name": "stdout",
     "output_type": "stream",
     "text": [
      "x는 10입니다\n",
      "10이 아닙니다\n"
     ]
    }
   ],
   "source": [
    "x = 10\n",
    "\n",
    "if x == 10:\n",
    "    print(\"x는 10입니다\")\n",
    "    \n",
    "else:\n",
    "    print(\"x에 들어있는 숫자는\")\n",
    "print(\"10이 아닙니다\") # 원래 출력되는 문장"
   ]
  },
  {
   "cell_type": "markdown",
   "id": "de673062",
   "metadata": {},
   "source": [
    "# if 조건문의 동작 방식 알아보기"
   ]
  },
  {
   "cell_type": "code",
   "execution_count": 5,
   "id": "20d9bf8d",
   "metadata": {},
   "outputs": [
    {
     "name": "stdout",
     "output_type": "stream",
     "text": [
      "참\n",
      "거짓\n",
      "거짓\n"
     ]
    }
   ],
   "source": [
    "if True: # True는 참\n",
    "    print(\"참\")\n",
    "else:\n",
    "    print(\"거짓\")\n",
    "    \n",
    "if False: # False는 거짓\n",
    "    print(\"참\")\n",
    "else:\n",
    "    print(\"거짓\")\n",
    "    \n",
    "if None: # None은 거짓\n",
    "    print(\"참\")\n",
    "else:\n",
    "    print(\"거짓\")"
   ]
  },
  {
   "cell_type": "markdown",
   "id": "791a7093",
   "metadata": {},
   "source": [
    "## if 조건문에 숫자 지정하기"
   ]
  },
  {
   "cell_type": "code",
   "execution_count": 24,
   "id": "c17bacb5",
   "metadata": {},
   "outputs": [
    {
     "name": "stdout",
     "output_type": "stream",
     "text": [
      "거짓\n",
      "참\n",
      "참\n",
      "참\n",
      "참\n"
     ]
    }
   ],
   "source": [
    "if 0: # 0은 거짓\n",
    "    print(\"참\")\n",
    "else:\n",
    "    print(\"거짓\")\n",
    "    \n",
    "if 1: # 1은 참\n",
    "    print(\"참\")\n",
    "else:\n",
    "    print('거짓')\n",
    "\n",
    "if 0x1F: # 16진수를 참\n",
    "    print('참')\n",
    "else:\n",
    "    print('거짓')\n",
    "    \n",
    "if 0b1000: # 2진수는 참\n",
    "    print('참')\n",
    "else:\n",
    "    print('거짓')\n",
    "    \n",
    "if 13.5: # 실수는 참\n",
    "    print('참') \n",
    "else:\n",
    "    print('거짓')"
   ]
  },
  {
   "cell_type": "markdown",
   "id": "a83a4209",
   "metadata": {},
   "source": [
    "## if 조건문에 문자열 지정하기"
   ]
  },
  {
   "cell_type": "code",
   "execution_count": 6,
   "id": "5a887216",
   "metadata": {},
   "outputs": [
    {
     "name": "stdout",
     "output_type": "stream",
     "text": [
      "참\n",
      "거짓\n"
     ]
    }
   ],
   "source": [
    "if 'Hello': # 문자열은 참\n",
    "    print('참')\n",
    "else:\n",
    "    print('거짓')\n",
    "    \n",
    "if '': # 빈문자열은 거짓\n",
    "    print('참') \n",
    "else:\n",
    "    print('거짓')"
   ]
  },
  {
   "cell_type": "markdown",
   "id": "eeb94686",
   "metadata": {},
   "source": [
    "# 조건식을 여러 개 지정하기"
   ]
  },
  {
   "cell_type": "code",
   "execution_count": 2,
   "id": "ca552b4b",
   "metadata": {},
   "outputs": [
    {
     "name": "stdout",
     "output_type": "stream",
     "text": [
      "참\n"
     ]
    }
   ],
   "source": [
    "x = 10\n",
    "y = 20\n",
    "\n",
    "if (x == 10) and (y == 20): # x가 10이고 y가 20이면 \n",
    "    print('참')\n",
    "else:\n",
    "    print('거짓')"
   ]
  },
  {
   "cell_type": "markdown",
   "id": "9bf13dea",
   "metadata": {},
   "source": [
    "# elif문"
   ]
  },
  {
   "cell_type": "code",
   "execution_count": 8,
   "id": "6fd886b2",
   "metadata": {},
   "outputs": [
    {
     "name": "stdout",
     "output_type": "stream",
     "text": [
      "20입니다\n"
     ]
    }
   ],
   "source": [
    "x = 20\n",
    "\n",
    "if x == 10:\n",
    "    print(\"10입니다\")\n",
    "elif x == 20:\n",
    "    print(\"20입니다\")"
   ]
  },
  {
   "cell_type": "code",
   "execution_count": 10,
   "id": "22c413a5",
   "metadata": {},
   "outputs": [
    {
     "name": "stdout",
     "output_type": "stream",
     "text": [
      "10도 20도 아닙니다.\n"
     ]
    }
   ],
   "source": [
    "x = 30\n",
    "\n",
    "if x == 10:\n",
    "    print('10입니다.')\n",
    "elif x == 20:\n",
    "    print('20입니다.')\n",
    "else:\n",
    "    print('10도 20도 아닙니다.')"
   ]
  },
  {
   "cell_type": "markdown",
   "id": "1b9bf098",
   "metadata": {},
   "source": [
    "# 연습 문제"
   ]
  },
  {
   "cell_type": "markdown",
   "id": "deeb2b31",
   "metadata": {},
   "source": [
    "## 14.6 연습문제 : 합격 여부 판단하기\n",
    "\n",
    "A 기업의 입사 시험은 필기시험 점수가 80점 이상이면서 코딩 시험을 통과해야 합격이라고 정했습니다(코딩 시험 통과 여부는\n",
    "True, False로 구분). 다음 소스 코드를 완성하여 '합격', '불합격'이 출력되게 만드세요."
   ]
  },
  {
   "cell_type": "code",
   "execution_count": 3,
   "id": "29dc7cb1",
   "metadata": {},
   "outputs": [
    {
     "name": "stdout",
     "output_type": "stream",
     "text": [
      "불합격\n"
     ]
    }
   ],
   "source": [
    "written_test = 75\n",
    "coding_test = True\n",
    "\n",
    "if (written_test >= 80) and (coding_test) == True:\n",
    "    print(\"합격\")\n",
    "else:\n",
    "    print(\"불합격\")"
   ]
  },
  {
   "cell_type": "markdown",
   "id": "e02f40e5",
   "metadata": {},
   "source": [
    "## 14.7 심사문제 : 합격 여부 판단하기\n",
    "표준 입력으로 국어, 영어, 수학, 과학 점수가 입력됩니다. 여기서 네 과목의 평균 점수가 80점 이상일 때 합격이라고 정했습니다.\n",
    "표준 점수에 따라 \"합격\", \"불합격\"을 출력하는 프로그램을 만드세요(input에서 안내 문자열은 출력하지 않아야 합니다)\n",
    "단, 점수는 0점부터 100점까지만 입력받을 수 있으며 범위를 벗어났다면 '잘못된 점수'를 출력하고 합격, 불합격 여부는출력하지 않아야 합니다"
   ]
  },
  {
   "cell_type": "code",
   "execution_count": 5,
   "id": "ed4332cf",
   "metadata": {
    "scrolled": true
   },
   "outputs": [
    {
     "name": "stdout",
     "output_type": "stream",
     "text": [
      "89 72 93 82\n",
      "합격\n"
     ]
    }
   ],
   "source": [
    "k, e, m, s = map(int, input().split())\n",
    "\n",
    "# if  (0 <= k <= 100) and  (0 <= e <= 100) and  (0 <= m <= 100) and  (0 <= s <= 100):\n",
    "# if  k in range(0, 101) and e in range(0, 101) and m in range(0, 101)and s in range(0, 101):\n",
    "if (0 <= k) and (k <= 100) and (0 <= e) and (e <= 100) and (0 <= m) and (m <= 100) and (0 <= s) and (s <=100):\n",
    "    if (k + e + m + s)/4 >=80:\n",
    "        print(\"합격\")\n",
    "    else:\n",
    "        print(\"불합격\")\n",
    "else:\n",
    "    print(\"잘못된 점수\")"
   ]
  },
  {
   "cell_type": "markdown",
   "id": "d1043f3c",
   "metadata": {},
   "source": [
    "## 자판기\n",
    "1: 콜라, 2 : 사이다, 3 : 환타"
   ]
  },
  {
   "cell_type": "code",
   "execution_count": 11,
   "id": "a141b580",
   "metadata": {},
   "outputs": [
    {
     "name": "stdout",
     "output_type": "stream",
     "text": [
      "1 ~ 3 사이 숫자를 입력하세요 : 2\n",
      "사이다\n"
     ]
    }
   ],
   "source": [
    "button = int(input(\"1 ~ 3 사이 숫자를 입력하세요 : \"))\n",
    "\n",
    "if button == 1:\n",
    "    print(\"콜라\")\n",
    "elif button == 2:\n",
    "    print(\"사이다\")\n",
    "elif button == 3:\n",
    "    print(\"환타\")\n",
    "else:\n",
    "    print(\"제공하지 않는 메뉴\")"
   ]
  },
  {
   "cell_type": "markdown",
   "id": "bd6d115e",
   "metadata": {},
   "source": [
    "## 심사문제"
   ]
  },
  {
   "cell_type": "code",
   "execution_count": 12,
   "id": "568562ae",
   "metadata": {},
   "outputs": [
    {
     "name": "stdout",
     "output_type": "stream",
     "text": [
      "24\n",
      "7750\n"
     ]
    }
   ],
   "source": [
    "age = int(input())\n",
    "balance = 9000\n",
    "\n",
    "if 7 <= age <=12:\n",
    "    balance -= 650\n",
    "    #print('잔액 : ', balance -= 650, \"원\")\n",
    "elif 13 <= age <=18:\n",
    "    balance -= 1050\n",
    "elif age >= 19:\n",
    "    balance -= 1250\n",
    "\n",
    "print(balance)"
   ]
  }
 ],
 "metadata": {
  "celltoolbar": "Raw Cell Format",
  "kernelspec": {
   "display_name": "Python 3 (ipykernel)",
   "language": "python",
   "name": "python3"
  },
  "language_info": {
   "codemirror_mode": {
    "name": "ipython",
    "version": 3
   },
   "file_extension": ".py",
   "mimetype": "text/x-python",
   "name": "python",
   "nbconvert_exporter": "python",
   "pygments_lexer": "ipython3",
   "version": "3.11.5"
  },
  "toc": {
   "base_numbering": 1,
   "nav_menu": {},
   "number_sections": true,
   "sideBar": true,
   "skip_h1_title": false,
   "title_cell": "Table of Contents",
   "title_sidebar": "Contents",
   "toc_cell": false,
   "toc_position": {
    "height": "calc(100% - 180px)",
    "left": "10px",
    "top": "150px",
    "width": "198.857px"
   },
   "toc_section_display": true,
   "toc_window_display": true
  }
 },
 "nbformat": 4,
 "nbformat_minor": 5
}
