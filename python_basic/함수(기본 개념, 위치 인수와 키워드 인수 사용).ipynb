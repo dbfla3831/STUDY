{
 "cells": [
  {
   "cell_type": "markdown",
   "id": "8172b535",
   "metadata": {},
   "source": [
    "# 함수"
   ]
  },
  {
   "cell_type": "markdown",
   "id": "6b245de5",
   "metadata": {},
   "source": [
    "## 출력 함수 만들기"
   ]
  },
  {
   "cell_type": "markdown",
   "id": "a29b489e",
   "metadata": {},
   "source": [
    "### 함수 만들고 호출"
   ]
  },
  {
   "cell_type": "code",
   "execution_count": 1,
   "id": "febeb38f",
   "metadata": {},
   "outputs": [
    {
     "name": "stdout",
     "output_type": "stream",
     "text": [
      "Hello, world!\n"
     ]
    }
   ],
   "source": [
    "def hello():\n",
    "    print(\"Hello, world!\")\n",
    "\n",
    "hello()"
   ]
  },
  {
   "cell_type": "code",
   "execution_count": 4,
   "id": "c87615b7",
   "metadata": {},
   "outputs": [
    {
     "ename": "NameError",
     "evalue": "name 'bye' is not defined",
     "output_type": "error",
     "traceback": [
      "\u001b[1;31m---------------------------------------------------------------------------\u001b[0m",
      "\u001b[1;31mNameError\u001b[0m                                 Traceback (most recent call last)",
      "Cell \u001b[1;32mIn[4], line 1\u001b[0m\n\u001b[1;32m----> 1\u001b[0m bye()\n\u001b[0;32m      3\u001b[0m \u001b[38;5;28;01mdef\u001b[39;00m \u001b[38;5;21mbye\u001b[39m():\n\u001b[0;32m      4\u001b[0m     \u001b[38;5;28mprint\u001b[39m(\u001b[38;5;124m\"\u001b[39m\u001b[38;5;124mbye\u001b[39m\u001b[38;5;124m\"\u001b[39m)\n",
      "\u001b[1;31mNameError\u001b[0m: name 'bye' is not defined"
     ]
    }
   ],
   "source": [
    "bye()\n",
    "\n",
    "def bye():\n",
    "    print(\"bye\")"
   ]
  },
  {
   "cell_type": "markdown",
   "id": "45804b7a",
   "metadata": {},
   "source": [
    "-> 함수를 만들기 전에 함수를 먼저 호출하면 에러가 발생한다."
   ]
  },
  {
   "cell_type": "markdown",
   "id": "2f2d1ef5",
   "metadata": {},
   "source": [
    "## 덧셈 함수 만들기"
   ]
  },
  {
   "cell_type": "code",
   "execution_count": 12,
   "id": "fb56f407",
   "metadata": {},
   "outputs": [
    {
     "name": "stdout",
     "output_type": "stream",
     "text": [
      "12\n",
      "30\n",
      "숫자 a와 b를 더한다\n"
     ]
    }
   ],
   "source": [
    "def add(a, b):\n",
    "    \"\"\"숫자 a와 b를 더한다\"\"\"\n",
    "    print(a + b)\n",
    "    \n",
    "add(2, 10)\n",
    "add(10, 20)\n",
    "\n",
    "print(add.__doc__) # 독스트링을 출력"
   ]
  },
  {
   "cell_type": "markdown",
   "id": "9fd7ddaa",
   "metadata": {},
   "source": [
    "## 함수의 결과를 반환하기"
   ]
  },
  {
   "cell_type": "code",
   "execution_count": 13,
   "id": "871f9d67",
   "metadata": {},
   "outputs": [
    {
     "name": "stdout",
     "output_type": "stream",
     "text": [
      "30\n"
     ]
    }
   ],
   "source": [
    "def add(a, b):\n",
    "    return a + b\n",
    "\n",
    "result = add(10, 20)\n",
    "print(result)"
   ]
  },
  {
   "cell_type": "code",
   "execution_count": 14,
   "id": "747015a0",
   "metadata": {},
   "outputs": [
    {
     "name": "stdout",
     "output_type": "stream",
     "text": [
      "1\n"
     ]
    }
   ],
   "source": [
    "def one():\n",
    "    return 1\n",
    "\n",
    "x = one()\n",
    "print(x)"
   ]
  },
  {
   "cell_type": "code",
   "execution_count": 19,
   "id": "73621053",
   "metadata": {},
   "outputs": [
    {
     "name": "stdout",
     "output_type": "stream",
     "text": [
      "5입니다\n"
     ]
    }
   ],
   "source": [
    "def not_ten(a):\n",
    "    if a == 10:\n",
    "#         return # None을 반환 즉 넘어간다?\n",
    "        return None\n",
    "    print(a,\"입니다\", sep = '')\n",
    "    \n",
    "not_ten(5)\n",
    "not_ten(10)"
   ]
  },
  {
   "cell_type": "markdown",
   "id": "3f3b11c0",
   "metadata": {},
   "source": [
    "## 함수에서 값을 여러 개 반환"
   ]
  },
  {
   "cell_type": "code",
   "execution_count": 20,
   "id": "6f0175eb",
   "metadata": {},
   "outputs": [
    {
     "name": "stdout",
     "output_type": "stream",
     "text": [
      "30 10\n"
     ]
    }
   ],
   "source": [
    "def add_sub(a, b):\n",
    "    return a + b, a - b\n",
    "\n",
    "x, y = add_sub(20, 10)\n",
    "print(x, y)"
   ]
  },
  {
   "cell_type": "code",
   "execution_count": 22,
   "id": "c4fcf4f0",
   "metadata": {},
   "outputs": [
    {
     "name": "stdout",
     "output_type": "stream",
     "text": [
      "1 2\n"
     ]
    }
   ],
   "source": [
    "def one_two():\n",
    "    return [1, 2]\n",
    "\n",
    "x, y = one_two()\n",
    "print(x, y)"
   ]
  },
  {
   "cell_type": "markdown",
   "id": "d5fb0bf6",
   "metadata": {},
   "source": [
    "## 함수의 호출 과정 알아보기"
   ]
  },
  {
   "cell_type": "code",
   "execution_count": 24,
   "id": "2bbf0e50",
   "metadata": {},
   "outputs": [
    {
     "name": "stdout",
     "output_type": "stream",
     "text": [
      "30\n",
      "200\n"
     ]
    }
   ],
   "source": [
    "def mul(a, b):\n",
    "    c = a * b\n",
    "    return c\n",
    "\n",
    "def add(a, b):\n",
    "    c = a + b\n",
    "    print(c)\n",
    "    d = mul(a, b)\n",
    "    print(d)\n",
    "    \n",
    "x = 10\n",
    "y = 20\n",
    "add(x, y)"
   ]
  },
  {
   "cell_type": "markdown",
   "id": "e3bdc1ef",
   "metadata": {},
   "source": [
    "## 연습문제 : 몫과 나머지를 구하는 함수 만들기\n",
    "다음 소스 코드를 완성하여 x를 y로 나누었을 때의 몫과 나머지가 출력되게 만드세요."
   ]
  },
  {
   "cell_type": "code",
   "execution_count": 26,
   "id": "cf61767e",
   "metadata": {},
   "outputs": [
    {
     "name": "stdout",
     "output_type": "stream",
     "text": [
      "몫 : 3, 나머지 : 1\n"
     ]
    }
   ],
   "source": [
    "x = 10\n",
    "y = 3\n",
    "\n",
    "def get_quotient_remainder(a, b):\n",
    "    return divmod(a, b)\n",
    "\n",
    "quotient, remainder = get_quotient_remainder(x, y)\n",
    "print(\"몫 : {}, 나머지 : {}\".format(quotient, remainder))"
   ]
  },
  {
   "cell_type": "markdown",
   "id": "459d4175",
   "metadata": {},
   "source": [
    "## 심사문제 : 사칙 연산 함수 만들기\n",
    "표준 입력으로 숫자 두 개가 입력됩니다. 다음 소스 코드를 완성하여 두 숫자의 덧셈, 뺄셈,나눗셈의\n",
    "결과가 출력되게 만드세요. 이때 나눗셈의 결과는 실수여야 합니다.\n"
   ]
  },
  {
   "cell_type": "code",
   "execution_count": 34,
   "id": "47ed229c",
   "metadata": {},
   "outputs": [
    {
     "name": "stdout",
     "output_type": "stream",
     "text": [
      "10 20\n",
      "덧셈 : 30, 뺄셈 : -10, 곱셈 : 200, 나눗셈 : 0.5\n"
     ]
    }
   ],
   "source": [
    "x, y = map(int, input().split())\n",
    "\n",
    "def calc(a, b):\n",
    "    return a + b, a - b, a * b, a / b\n",
    "\n",
    "a, s, m, d = calc(x, y)\n",
    "print(\"덧셈 : {}, 뺄셈 : {}, 곱셈 : {}, 나눗셈 : {}\". format(a, s, m, d))"
   ]
  },
  {
   "cell_type": "markdown",
   "id": "cd5a1675",
   "metadata": {},
   "source": [
    "## 연습"
   ]
  },
  {
   "cell_type": "code",
   "execution_count": 61,
   "id": "6d0f38cb",
   "metadata": {},
   "outputs": [
    {
     "name": "stdout",
     "output_type": "stream",
     "text": [
      "덧셈 : 1, 뺄셈 : 2, 곱셈 : 3, 나눗셈 : 4 : 1\n",
      "첫 번째 값을 입력 : 10\n",
      "두 번째 값을 입력 : 20\n",
      "----------------------------------------------------\n",
      "입력 값 : 10, 20\n",
      "결과 값 : 10 + 20 = 30\n",
      "----------------------------------------------------\n"
     ]
    }
   ],
   "source": [
    "operator = int(input(\"덧셈 : 1, 뺄셈 : 2, 곱셈 : 3, 나눗셈 : 4 : \"))\n",
    "\n",
    "x = int(input(\"첫 번째 값을 입력 : \"))\n",
    "y = int(input(\"두 번째 값을 입력 : \"))\n",
    "print('----------------------------------------------------')\n",
    "\n",
    "lst_operator = [\"+\", \"-\", \"*\", \"/\"]\n",
    "\n",
    "def calc(a, b, o):\n",
    "    if o == 1:\n",
    "        add = a + b\n",
    "        return add\n",
    "    \n",
    "    elif o == 2:\n",
    "        sub = a - b\n",
    "        return sub\n",
    "    \n",
    "    elif o == 3:\n",
    "        mul = a * b\n",
    "        return mul\n",
    "    \n",
    "    elif o == 4:\n",
    "        div = a / b\n",
    "        return div\n",
    "    \n",
    "result = calc(x, y, operator)\n",
    "print('입력 값 : {}, {}'.format(x, y))\n",
    "print('결과 값 :', x, lst_operator[operator - 1], y, \"=\", result)\n",
    "print('----------------------------------------------------')"
   ]
  },
  {
   "cell_type": "markdown",
   "id": "995798b3",
   "metadata": {},
   "source": [
    "-> return을 한 번에 하면 X\n",
    "    -> if, elif 조건문이 있기 때문에 마지막 한 번에 return 하면 해당 조건식 결과를 return 할 수 없다"
   ]
  },
  {
   "cell_type": "code",
   "execution_count": null,
   "id": "15b6baca",
   "metadata": {},
   "outputs": [],
   "source": []
  },
  {
   "cell_type": "markdown",
   "id": "0321533d",
   "metadata": {},
   "source": [
    "# 함수에서 위치 인수와 키워드 인수 사용하기"
   ]
  },
  {
   "cell_type": "markdown",
   "id": "31f20178",
   "metadata": {},
   "source": [
    "## 위치 인수와 리스트 언패킹 사용하기"
   ]
  },
  {
   "cell_type": "markdown",
   "id": "f901ba6e",
   "metadata": {},
   "source": [
    "### 위치 인수를 사용하는 함수를 만들고 호출하기"
   ]
  },
  {
   "cell_type": "code",
   "execution_count": 65,
   "id": "0acd0904",
   "metadata": {},
   "outputs": [
    {
     "name": "stdout",
     "output_type": "stream",
     "text": [
      "10\n",
      "20\n",
      "30\n"
     ]
    }
   ],
   "source": [
    "def print_numbers(a, b, c):\n",
    "    print(a)\n",
    "    print(b)\n",
    "    print(c)\n",
    "    \n",
    "print_numbers(10, 20, 30)"
   ]
  },
  {
   "cell_type": "markdown",
   "id": "fc1528e5",
   "metadata": {},
   "source": [
    "### 언패킹 사용하기"
   ]
  },
  {
   "cell_type": "code",
   "execution_count": 68,
   "id": "05a7973a",
   "metadata": {},
   "outputs": [
    {
     "name": "stdout",
     "output_type": "stream",
     "text": [
      "10\n",
      "20\n",
      "30\n",
      "[10, 20, 30]\n"
     ]
    }
   ],
   "source": [
    "x = [10, 20, 30]\n",
    "print_numbers(*x)"
   ]
  },
  {
   "cell_type": "code",
   "execution_count": 67,
   "id": "b4e0e0f5",
   "metadata": {},
   "outputs": [
    {
     "name": "stdout",
     "output_type": "stream",
     "text": [
      "10\n",
      "20\n",
      "30\n",
      "10\n",
      "20\n",
      "30\n"
     ]
    }
   ],
   "source": [
    "print_numbers(*[10, 20, 30])\n",
    "print_numbers(*(10, 20, 30))"
   ]
  },
  {
   "cell_type": "markdown",
   "id": "d7b32346",
   "metadata": {},
   "source": [
    "### 가변 인수 함수 만들기"
   ]
  },
  {
   "cell_type": "code",
   "execution_count": 72,
   "id": "bbf86251",
   "metadata": {},
   "outputs": [
    {
     "name": "stdout",
     "output_type": "stream",
     "text": [
      "10\n",
      "\n",
      "10\n",
      "20\n",
      "30\n",
      "40\n"
     ]
    }
   ],
   "source": [
    "def print_numbers(*args):\n",
    "    for arg in args:\n",
    "        print(arg)\n",
    "        \n",
    "print_numbers(10)\n",
    "print('')\n",
    "print_numbers(10, 20, 30, 40)"
   ]
  },
  {
   "cell_type": "code",
   "execution_count": 75,
   "id": "1ce15b19",
   "metadata": {},
   "outputs": [
    {
     "name": "stdout",
     "output_type": "stream",
     "text": [
      "10\n",
      "\n",
      "10\n",
      "20\n",
      "30\n",
      "40\n"
     ]
    }
   ],
   "source": [
    "x = [10]\n",
    "print_numbers(*x)\n",
    "\n",
    "print('')\n",
    "\n",
    "y = [10, 20, 30, 40]\n",
    "print_numbers(*y)"
   ]
  },
  {
   "cell_type": "code",
   "execution_count": 82,
   "id": "f35ce155",
   "metadata": {},
   "outputs": [
    {
     "name": "stdout",
     "output_type": "stream",
     "text": [
      "1\n",
      "\n",
      "\n",
      "1\n",
      "10 20\n",
      "\n",
      "10\n",
      "20 30\n",
      "\n"
     ]
    }
   ],
   "source": [
    "def print_numbers(a, *args):\n",
    "    print(a)\n",
    "    print(*args)\n",
    "    print()\n",
    "    \n",
    "print_numbers(1)\n",
    "print_numbers(1, 10, 20)\n",
    "print_numbers(*[10, 20, 30])"
   ]
  },
  {
   "cell_type": "markdown",
   "id": "6b15aec8",
   "metadata": {},
   "source": [
    "## 키워드 인수 사용하기"
   ]
  },
  {
   "cell_type": "code",
   "execution_count": 87,
   "id": "5475fb6b",
   "metadata": {},
   "outputs": [
    {
     "name": "stdout",
     "output_type": "stream",
     "text": [
      "\n",
      "이름 :  홍길동\n",
      "나이 :  24\n",
      "주소 :  서울시 용산구 이촌동\n",
      "\n",
      "이름 :  홍길동\n",
      "나이 :  24\n",
      "주소 :  서울시 용산구 이촌동\n",
      "\n",
      "이름 :  홍길동\n",
      "나이 :  24\n",
      "주소 :  서울시 용산구 이촌동\n"
     ]
    }
   ],
   "source": [
    "def personal_info(name, age, address):\n",
    "    print()\n",
    "    print('이름 : ', name)\n",
    "    print('나이 : ', age)\n",
    "    print('주소 : ', address)\n",
    "    \n",
    "personal_info('홍길동', 24, '서울시 용산구 이촌동')\n",
    "\n",
    "personal_info(name = '홍길동', age = 24, address = '서울시 용산구 이촌동')\n",
    "\n",
    "personal_info(age = 24, name = '홍길동', address = '서울시 용산구 이촌동')"
   ]
  },
  {
   "cell_type": "markdown",
   "id": "8b459833",
   "metadata": {},
   "source": [
    "## 키워드 인수와 딕셔너리 언패킹 사용하기"
   ]
  },
  {
   "cell_type": "code",
   "execution_count": 96,
   "id": "01a6d751",
   "metadata": {},
   "outputs": [
    {
     "name": "stdout",
     "output_type": "stream",
     "text": [
      "이름 :  홍길동\n",
      "나이 :  24\n",
      "주소 :  서울시 용산구 이촌동\n"
     ]
    }
   ],
   "source": [
    "def personal_info(name, age, address):\n",
    "    print('이름 : ', name)\n",
    "    print('나이 : ', age)    \n",
    "    print('주소 : ', address)    \n",
    "    \n",
    "x = {'name' : '홍길동', 'age' : 24, 'address' : '서울시 용산구 이촌동'}\n",
    "personal_info(**x)"
   ]
  },
  {
   "cell_type": "code",
   "execution_count": 99,
   "id": "a3725335",
   "metadata": {},
   "outputs": [
    {
     "ename": "TypeError",
     "evalue": "personal_info() got an unexpected keyword argument 'old'",
     "output_type": "error",
     "traceback": [
      "\u001b[1;31m---------------------------------------------------------------------------\u001b[0m",
      "\u001b[1;31mTypeError\u001b[0m                                 Traceback (most recent call last)",
      "Cell \u001b[1;32mIn[99], line 2\u001b[0m\n\u001b[0;32m      1\u001b[0m x \u001b[38;5;241m=\u001b[39m {\u001b[38;5;124m'\u001b[39m\u001b[38;5;124mname\u001b[39m\u001b[38;5;124m'\u001b[39m : \u001b[38;5;124m'\u001b[39m\u001b[38;5;124m홍길동\u001b[39m\u001b[38;5;124m'\u001b[39m, \u001b[38;5;124m'\u001b[39m\u001b[38;5;124mold\u001b[39m\u001b[38;5;124m'\u001b[39m : \u001b[38;5;241m24\u001b[39m, \u001b[38;5;124m'\u001b[39m\u001b[38;5;124maddress\u001b[39m\u001b[38;5;124m'\u001b[39m : \u001b[38;5;124m'\u001b[39m\u001b[38;5;124m서울시 용산구 이촌동\u001b[39m\u001b[38;5;124m'\u001b[39m}\n\u001b[1;32m----> 2\u001b[0m personal_info(\u001b[38;5;241m*\u001b[39m\u001b[38;5;241m*\u001b[39mx)\n",
      "\u001b[1;31mTypeError\u001b[0m: personal_info() got an unexpected keyword argument 'old'"
     ]
    }
   ],
   "source": [
    "x = {'name' : '홍길동', 'old' : 24, 'address' : '서울시 용산구 이촌동'}\n",
    "personal_info(**x)"
   ]
  },
  {
   "cell_type": "markdown",
   "id": "397f0929",
   "metadata": {},
   "source": [
    "-> key와 함수의 매개변수가 같아야 한다(갯수도)"
   ]
  },
  {
   "cell_type": "code",
   "execution_count": 100,
   "id": "076cf80c",
   "metadata": {},
   "outputs": [
    {
     "name": "stdout",
     "output_type": "stream",
     "text": [
      "이름 :  name\n",
      "나이 :  old\n",
      "주소 :  address\n"
     ]
    }
   ],
   "source": [
    "x = {'name' : '홍길동', 'old' : 24, 'address' : '서울시 용산구 이촌동'}\n",
    "personal_info(*x)\n",
    "# *를 한 번만 사용하면 key값이 나오고 **을 사용하면 value값이 나온다"
   ]
  },
  {
   "cell_type": "code",
   "execution_count": 104,
   "id": "cd82f047",
   "metadata": {},
   "outputs": [
    {
     "name": "stdout",
     "output_type": "stream",
     "text": [
      "\n",
      "name:홍길동\n",
      "\n",
      "name:홍길동\n",
      "age:30\n",
      "address:서울시 용산구 이촌동\n"
     ]
    }
   ],
   "source": [
    "def personal_info(**kwargs):\n",
    "    print()\n",
    "    for kw, arg in kwargs.items():\n",
    "        print(kw, ':', arg, sep = '')\n",
    "        \n",
    "personal_info(name = '홍길동')\n",
    "personal_info(name = '홍길동', age = 30, address = '서울시 용산구 이촌동')"
   ]
  },
  {
   "cell_type": "code",
   "execution_count": 106,
   "id": "3e308e66",
   "metadata": {},
   "outputs": [
    {
     "name": "stdout",
     "output_type": "stream",
     "text": [
      "\n",
      "name:홍길동\n",
      "\n",
      "name:홍길동\n",
      "old:24\n",
      "address:서울시 용산구 이촌동\n"
     ]
    }
   ],
   "source": [
    "x = {'name' : '홍길동'}\n",
    "personal_info(**x)\n",
    "\n",
    "y = {'name' : '홍길동', 'old' : 24, 'address' : '서울시 용산구 이촌동'}\n",
    "personal_info(**y)"
   ]
  },
  {
   "cell_type": "code",
   "execution_count": 109,
   "id": "a1b2542b",
   "metadata": {},
   "outputs": [
    {
     "name": "stdout",
     "output_type": "stream",
     "text": [
      "\n",
      "이름 홍길동\n",
      "\n",
      "이름 홍길동\n",
      "나이 30\n",
      "주소 서울시 용산구 이촌동\n"
     ]
    }
   ],
   "source": [
    "def personal_info(**kwargs):\n",
    "    print()\n",
    "    if 'name' in kwargs:\n",
    "        print('이름', kwargs['name'])\n",
    "    if 'age' in kwargs:\n",
    "        print('나이', kwargs['age'])\n",
    "    if 'address' in kwargs:\n",
    "        print('주소', kwargs['address'])\n",
    "        \n",
    "personal_info(name = '홍길동')\n",
    "personal_info(name = '홍길동', age = 30, address = '서울시 용산구 이촌동')"
   ]
  },
  {
   "cell_type": "code",
   "execution_count": 113,
   "id": "36b4a6d3",
   "metadata": {},
   "outputs": [
    {
     "name": "stdout",
     "output_type": "stream",
     "text": [
      "1:2:3"
     ]
    }
   ],
   "source": [
    "def custom_print(*args, **kwargs):\n",
    "    print(*args, **kwargs)\n",
    "    \n",
    "custom_print(1, 2, 3, sep = \":\", end = '')"
   ]
  },
  {
   "cell_type": "markdown",
   "id": "00f25181",
   "metadata": {},
   "source": [
    "## 매개변수에 초깃값 지정하기"
   ]
  },
  {
   "cell_type": "code",
   "execution_count": 117,
   "id": "e8dc6666",
   "metadata": {},
   "outputs": [
    {
     "name": "stdout",
     "output_type": "stream",
     "text": [
      "이름 :  홍길동\n",
      "나이 :  30\n",
      "주소 :  비공개\n",
      "\n",
      "이름 :  홍길동\n",
      "나이 :  30\n",
      "주소 :  서울시 용산구 이촌동\n",
      "\n"
     ]
    }
   ],
   "source": [
    "def personal_info(name, age, address = '비공개'):\n",
    "    print('이름 : ', name)\n",
    "    print('나이 : ', age)    \n",
    "    print('주소 : ', address)\n",
    "    print()\n",
    "    \n",
    "personal_info('홍길동', 30)\n",
    "personal_info('홍길동', 30, '서울시 용산구 이촌동')"
   ]
  },
  {
   "cell_type": "code",
   "execution_count": 121,
   "id": "8637bb1a",
   "metadata": {},
   "outputs": [
    {
     "name": "stdout",
     "output_type": "stream",
     "text": [
      "이름 :  비공개\n",
      "나이 :  0\n",
      "주소 :  비공개\n"
     ]
    }
   ],
   "source": [
    "def personal_info(name = '비공개', age = 0, address = '비공개'):\n",
    "    print('이름 : ', name)\n",
    "    print('나이 : ', age)    \n",
    "    print('주소 : ', address)\n",
    "personal_info()"
   ]
  },
  {
   "cell_type": "markdown",
   "id": "095b7d70",
   "metadata": {},
   "source": [
    "## 연습문제 : 가장 높은 점수를 구하는 함수 만들기\n",
    "다음 소스 코드를 완성하여 가장 높은 점수가 출력되게 만드세요."
   ]
  },
  {
   "cell_type": "code",
   "execution_count": 123,
   "id": "23fac720",
   "metadata": {},
   "outputs": [
    {
     "name": "stdout",
     "output_type": "stream",
     "text": [
      "높은 점수 :  100\n",
      "\n",
      "높은 점수 :  91\n"
     ]
    }
   ],
   "source": [
    "korean, english, mathematics, science = 100, 86, 81, 91\n",
    "\n",
    "def get_max_score(*args):\n",
    "    return max(args)\n",
    "\n",
    "max_score = get_max_score(korean, english, mathematics, science)\n",
    "print('높은 점수 : ', max_score)\n",
    "print()\n",
    "max_score = get_max_score(english, science)\n",
    "print('높은 점수 : ', max_score)"
   ]
  },
  {
   "cell_type": "markdown",
   "id": "0d12e2f0",
   "metadata": {},
   "source": [
    "## 심사문제 : 가장 낮은 점수, 높은 점수와 평균 점수를 구하는 함수 만들기\n",
    "표준 입력으로 국어, 영어, 수학, 과학 점수가 입력됩니다. 다음 소스 코드를 완성하여 가장 높은 점수,\n",
    "가장 낮은 점수, 평균 점수가 출력되게 만드세요. 평균 점수는 실수로 출력되어야 합니다."
   ]
  },
  {
   "cell_type": "code",
   "execution_count": 149,
   "id": "e168efcf",
   "metadata": {
    "scrolled": true
   },
   "outputs": [
    {
     "name": "stdout",
     "output_type": "stream",
     "text": [
      "89 92 73 83\n",
      "\n",
      "낮은 점수 : 73.00, 높은 점수 : 92.00, 평균 점수 : 84.25\n",
      "\n",
      "낮은 점수 : 83.00, 높은 점수 : 92.00, 평균 점수 : 87.50\n"
     ]
    }
   ],
   "source": [
    "korean, english, mathematics, science = map(int, input().split())\n",
    "\n",
    "def get_min_max_score(*args):\n",
    "    print()\n",
    "    min_sco = min(args)\n",
    "    max_sco = max(args)\n",
    "    return min_sco, max_sco\n",
    "\n",
    "def get_average(**kwargs):\n",
    "#     val = kwargs.values()\n",
    "#     avg = sum(val) / len(val)\n",
    "    \n",
    "    add = 0\n",
    "    cnt = 0\n",
    "    \n",
    "    for kw, arg in kwargs.items():\n",
    "        add += arg\n",
    "        cnt += 1\n",
    "    avg = add / cnt\n",
    "    \n",
    "    return avg\n",
    "\n",
    "min_score, max_score = get_min_max_score(korean, english, mathematics, science)\n",
    "averge_score = get_average(korean = korean, english = english, mathematics = mathematics, science = science)\n",
    "print('낮은 점수 : {:.2f}, 높은 점수 : {:.2f}, 평균 점수 : {:.2f}'.format(min_score, max_score, averge_score))\n",
    "\n",
    "min_score, max_score = get_min_max_score(english, science)\n",
    "averge_score = get_average(english = english, science = science)\n",
    "print('낮은 점수 : {:.2f}, 높은 점수 : {:.2f}, 평균 점수 : {:.2f}'.format(min_score, max_score, averge_score))"
   ]
  }
 ],
 "metadata": {
  "kernelspec": {
   "display_name": "Python 3 (ipykernel)",
   "language": "python",
   "name": "python3"
  },
  "language_info": {
   "codemirror_mode": {
    "name": "ipython",
    "version": 3
   },
   "file_extension": ".py",
   "mimetype": "text/x-python",
   "name": "python",
   "nbconvert_exporter": "python",
   "pygments_lexer": "ipython3",
   "version": "3.11.5"
  },
  "toc": {
   "base_numbering": 1,
   "nav_menu": {},
   "number_sections": true,
   "sideBar": true,
   "skip_h1_title": false,
   "title_cell": "Table of Contents",
   "title_sidebar": "Contents",
   "toc_cell": false,
   "toc_position": {
    "height": "calc(100% - 180px)",
    "left": "10px",
    "top": "150px",
    "width": "376.758px"
   },
   "toc_section_display": true,
   "toc_window_display": true
  }
 },
 "nbformat": 4,
 "nbformat_minor": 5
}
