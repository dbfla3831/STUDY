{
 "cells": [
  {
   "cell_type": "markdown",
   "id": "fac37155",
   "metadata": {},
   "source": [
    "# 정규표현식"
   ]
  },
  {
   "cell_type": "markdown",
   "id": "92d7e332",
   "metadata": {},
   "source": [
    "## 문자열 판단하기"
   ]
  },
  {
   "cell_type": "code",
   "execution_count": 5,
   "id": "c313984b",
   "metadata": {},
   "outputs": [],
   "source": [
    "import re"
   ]
  },
  {
   "cell_type": "code",
   "execution_count": 4,
   "id": "ec589939",
   "metadata": {},
   "outputs": [
    {
     "name": "stdout",
     "output_type": "stream",
     "text": [
      "<re.Match object; span=(0, 5), match='Hello'>\n",
      "None\n"
     ]
    }
   ],
   "source": [
    "print(re.match('Hello', 'Hello, world!')) # 문자열이 있으면 정규표현식 매치 객체가 반환\n",
    "print(re.match('Python', 'Hello, world!')) # 문자열이 없으므로 아무것도 반환되지 않음"
   ]
  },
  {
   "cell_type": "markdown",
   "id": "7f924c74",
   "metadata": {},
   "source": [
    "### 문자열이 맨 앞에 오는지 맨 뒤에 오는지 판단하기"
   ]
  },
  {
   "cell_type": "code",
   "execution_count": 12,
   "id": "1e8c09e5",
   "metadata": {},
   "outputs": [
    {
     "name": "stdout",
     "output_type": "stream",
     "text": [
      "<re.Match object; span=(7, 12), match='world'>\n",
      "<re.Match object; span=(0, 5), match='Hello'>\n",
      "<re.Match object; span=(7, 12), match='world'>\n"
     ]
    }
   ],
   "source": [
    "print(re.search('world', 'hello, world universe local'))\n",
    "print(re.search('^Hello', 'Hello, world'))\n",
    "print(re.search('world$', 'Hello, world'))"
   ]
  },
  {
   "cell_type": "markdown",
   "id": "1e134e89",
   "metadata": {},
   "source": [
    "### 지정된 문자열이 하나라도 포함되는지 판단하기"
   ]
  },
  {
   "cell_type": "code",
   "execution_count": 15,
   "id": "73fd9660",
   "metadata": {},
   "outputs": [
    {
     "name": "stdout",
     "output_type": "stream",
     "text": [
      "<re.Match object; span=(0, 5), match='hello'>\n"
     ]
    }
   ],
   "source": [
    "print(re.match('hello|world', 'hello'))"
   ]
  },
  {
   "cell_type": "markdown",
   "id": "1902d365",
   "metadata": {},
   "source": [
    "## 범위 판단하기"
   ]
  },
  {
   "cell_type": "code",
   "execution_count": 21,
   "id": "ad426633",
   "metadata": {},
   "outputs": [
    {
     "name": "stdout",
     "output_type": "stream",
     "text": [
      "<re.Match object; span=(0, 4), match='1234'>\n",
      "<re.Match object; span=(0, 1), match='1'>\n",
      "None\n",
      "None\n"
     ]
    }
   ],
   "source": [
    "print(re.match('[0-9]*', '1234'))\n",
    "print(re.match('[0-9]+', '1a3aa'))\n",
    "print(re.match('[0-9]+', 'ddd1'))\n",
    "print(re.match('[0-9]+', 'abcd'))"
   ]
  },
  {
   "cell_type": "code",
   "execution_count": 23,
   "id": "d9e154c5",
   "metadata": {},
   "outputs": [
    {
     "name": "stdout",
     "output_type": "stream",
     "text": [
      "<re.Match object; span=(0, 1), match='b'>\n",
      "None\n",
      "<re.Match object; span=(0, 3), match='aab'>\n",
      "<re.Match object; span=(0, 3), match='aab'>\n",
      "None\n"
     ]
    }
   ],
   "source": [
    "print(re.match('a*b', 'b')) # b에는 a가 0개 이상이므로 패턴에 매칭\n",
    "print(re.match('a+b', 'b')) # b에는 a가 1개 이상 없으므로 패던에 매칭X\n",
    "print(re.match('a*b', 'aab'))\n",
    "print(re.match('a+b', 'aab'))\n",
    "print(re.match('a+b', 'baa'))"
   ]
  },
  {
   "cell_type": "markdown",
   "id": "d0ddbe89",
   "metadata": {},
   "source": [
    "### 문자가 한 개만 있는지 판단"
   ]
  },
  {
   "cell_type": "code",
   "execution_count": 32,
   "id": "598936f6",
   "metadata": {},
   "outputs": [
    {
     "name": "stdout",
     "output_type": "stream",
     "text": [
      "<re.Match object; span=(0, 3), match='abd'>\n",
      "<re.Match object; span=(0, 3), match='ab3'>\n",
      "<re.Match object; span=(0, 4), match='abxd'>\n",
      "None\n",
      "None\n"
     ]
    }
   ],
   "source": [
    "print(re.match('abc?d', 'abd'))\n",
    "print(re.match('ab[0-9]c?', 'ab3d'))\n",
    "print(re.match('ab.d', 'abxd'))\n",
    "print(re.match('ab.d', 'abxad'))\n",
    "print(re.match('ab..d', 'abxd'))"
   ]
  },
  {
   "cell_type": "markdown",
   "id": "31bace98",
   "metadata": {},
   "source": [
    "### 문자 개수 판단하기"
   ]
  },
  {
   "cell_type": "code",
   "execution_count": 45,
   "id": "9e45dbfc",
   "metadata": {},
   "outputs": [
    {
     "name": "stdout",
     "output_type": "stream",
     "text": [
      "<re.Match object; span=(0, 3), match='hhh'>\n",
      "<re.Match object; span=(0, 4), match='hhhh'>\n",
      "None\n",
      "<re.Match object; span=(0, 15), match='hellohellohello'>\n",
      "<re.Match object; span=(0, 18), match='hello hello hello '>\n",
      "None\n"
     ]
    }
   ],
   "source": [
    "print(re.match('h{3}', 'hhhello'))  # h가 3개 있는지\n",
    "print(re.match('hh{3}', 'hhhhello'))\n",
    "print(re.match('h{3}', 'hhello'))\n",
    "print(re.match('(hello){3}', 'hellohellohelloworld')) # hello가 3개 있는지\n",
    "print(re.match('(hello ){3}', 'hello hello hello world'))\n",
    "print(re.match('(hello ){3}', 'hello hello helloworld'))"
   ]
  },
  {
   "cell_type": "code",
   "execution_count": 47,
   "id": "11d83823",
   "metadata": {},
   "outputs": [
    {
     "name": "stdout",
     "output_type": "stream",
     "text": [
      "<re.Match object; span=(0, 13), match='010-1000-0494'>\n",
      "None\n"
     ]
    }
   ],
   "source": [
    "print(re.match('[0-9]{3}-[0-9]{4}-[0-9]{4}', '010-1000-0494'))\n",
    "print(re.match('[0-9]{3}-[0-9]{4}-[0-9]{4}', '02-100-0494'))"
   ]
  },
  {
   "cell_type": "code",
   "execution_count": 48,
   "id": "6d25f79d",
   "metadata": {
    "scrolled": true
   },
   "outputs": [
    {
     "name": "stdout",
     "output_type": "stream",
     "text": [
      "<re.Match object; span=(0, 11), match='02-100-0494'>\n"
     ]
    }
   ],
   "source": [
    "print(re.match('[0-9]{2,3}-[0-9]{3,4}-[0-9]{4}', '02-100-0494'))"
   ]
  },
  {
   "cell_type": "code",
   "execution_count": 51,
   "id": "3f9e2229",
   "metadata": {},
   "outputs": [
    {
     "name": "stdout",
     "output_type": "stream",
     "text": [
      "<re.Match object; span=(0, 13), match='02**100**0494'>\n"
     ]
    }
   ],
   "source": [
    "print(re.match('[0-9]{2,3}..[0-9]{3,4}..[0-9]{4}', '02**100**0494'))"
   ]
  },
  {
   "cell_type": "markdown",
   "id": "48c18368",
   "metadata": {},
   "source": [
    "### 숫자와 영문 문자를 조합해서 판단하기"
   ]
  },
  {
   "cell_type": "code",
   "execution_count": 58,
   "id": "aed934e2",
   "metadata": {},
   "outputs": [
    {
     "name": "stdout",
     "output_type": "stream",
     "text": [
      "<re.Match object; span=(0, 5), match='dd8SS'>\n",
      "None\n",
      "<re.Match object; span=(0, 3), match='홍길동'>\n",
      "<re.Match object; span=(0, 3), match='홍길동'>\n"
     ]
    }
   ],
   "source": [
    "print(re.match('[a-zA-Z0-9]+', 'dd8SS'))\n",
    "print(re.match('[a-z0-9]+', 'SS'))\n",
    "print(re.match('[가-힣]+', '홍길동'))\n",
    "print(re.match('[가-힣]+', '홍길동33'))"
   ]
  },
  {
   "cell_type": "markdown",
   "id": "b478fd08",
   "metadata": {},
   "source": [
    "### 특정 문자 범위에 포함되지 않는지 판단하기"
   ]
  },
  {
   "cell_type": "code",
   "execution_count": 62,
   "id": "1a327eda",
   "metadata": {},
   "outputs": [
    {
     "name": "stdout",
     "output_type": "stream",
     "text": [
      "None\n",
      "<re.Match object; span=(0, 5), match='hello'>\n"
     ]
    }
   ],
   "source": [
    "print(re.match('[^A-Z]+', 'Hello'))\n",
    "print(re.match('[^A-Z]+', 'hello'))"
   ]
  },
  {
   "cell_type": "code",
   "execution_count": 66,
   "id": "716d1d04",
   "metadata": {},
   "outputs": [
    {
     "name": "stdout",
     "output_type": "stream",
     "text": [
      "<re.Match object; span=(0, 1), match='H'>\n"
     ]
    }
   ],
   "source": [
    "print(re.search('^[A-Z]+', 'Hello'))"
   ]
  },
  {
   "cell_type": "code",
   "execution_count": 65,
   "id": "8d62a942",
   "metadata": {},
   "outputs": [
    {
     "name": "stdout",
     "output_type": "stream",
     "text": [
      "<re.Match object; span=(5, 9), match='1234'>\n"
     ]
    }
   ],
   "source": [
    "print(re.search('[0-9]+$', 'Hello1234')) # 숫자로 끝나는지"
   ]
  },
  {
   "cell_type": "markdown",
   "id": "655ba950",
   "metadata": {},
   "source": [
    "### 특수 문자 판단하기"
   ]
  },
  {
   "cell_type": "code",
   "execution_count": 68,
   "id": "bafae602",
   "metadata": {},
   "outputs": [
    {
     "name": "stdout",
     "output_type": "stream",
     "text": [
      "<re.Match object; span=(0, 0), match=''>\n",
      "<re.Match object; span=(0, 5), match='$(dod'>\n"
     ]
    }
   ],
   "source": [
    "print(re.search('\\**', '1**2'))\n",
    "print(re.search('[$()a-zA-Z0-9]+', '$(dodㅇk4)'))"
   ]
  },
  {
   "cell_type": "code",
   "execution_count": 69,
   "id": "10cbf633",
   "metadata": {},
   "outputs": [
    {
     "name": "stdout",
     "output_type": "stream",
     "text": [
      "<re.Match object; span=(0, 4), match='1234'>\n",
      "<re.Match object; span=(0, 5), match='Hello'>\n",
      "<re.Match object; span=(0, 10), match='Hello_1234'>\n",
      "<re.Match object; span=(0, 3), match='(:)'>\n"
     ]
    }
   ],
   "source": [
    "print(re.match('\\d+', '1234'))\n",
    "print(re.match('\\D+', 'Hello'))\n",
    "print(re.match('\\w+', 'Hello_1234'))\n",
    "print(re.match('\\W+', '(:)'))"
   ]
  },
  {
   "cell_type": "markdown",
   "id": "b7ae3c91",
   "metadata": {},
   "source": [
    "### 공백 처리하기"
   ]
  },
  {
   "cell_type": "code",
   "execution_count": 71,
   "id": "20688a60",
   "metadata": {},
   "outputs": [
    {
     "name": "stdout",
     "output_type": "stream",
     "text": [
      "<re.Match object; span=(0, 10), match='Hello 1234'>\n",
      "<re.Match object; span=(0, 10), match='Hello 1234'>\n"
     ]
    }
   ],
   "source": [
    "print(re.match('[a-zA-z0-9 ]+', 'Hello 1234'))\n",
    "print(re.match('[a-zA-z0-9\\s]+', 'Hello 1234'))"
   ]
  },
  {
   "cell_type": "code",
   "execution_count": 73,
   "id": "2cde590b",
   "metadata": {},
   "outputs": [
    {
     "name": "stdout",
     "output_type": "stream",
     "text": [
      "<re.Match object; span=(0, 4), match='1234'>\n",
      "None\n"
     ]
    }
   ],
   "source": [
    "p = re.compile('[0-9]+')\n",
    "print(p.match('1234'))\n",
    "print(p.search('hello'))"
   ]
  },
  {
   "cell_type": "markdown",
   "id": "c8650f1f",
   "metadata": {},
   "source": [
    "## 그룹 사용하기"
   ]
  },
  {
   "cell_type": "code",
   "execution_count": 74,
   "id": "e03a6822",
   "metadata": {},
   "outputs": [
    {
     "name": "stdout",
     "output_type": "stream",
     "text": [
      "10\n",
      "295\n",
      "10 295\n",
      "10 295\n"
     ]
    }
   ],
   "source": [
    "m = re.match('([0-9]+) ([0-9]+)', '10 295')\n",
    "print(m.group(1)) # 첫 번째 그룹에 매칭된 문자열 반환\n",
    "print(m.group(2))\n",
    "print(m.group()) # 매칭된 문자열 한꺼번에 반환\n",
    "print(m.group(0)) # 매칭된 문자열 한꺼번에 반환"
   ]
  },
  {
   "cell_type": "code",
   "execution_count": 75,
   "id": "8e98dba8",
   "metadata": {},
   "outputs": [
    {
     "data": {
      "text/plain": [
       "('10', '295')"
      ]
     },
     "execution_count": 75,
     "metadata": {},
     "output_type": "execute_result"
    }
   ],
   "source": [
    "m.groups()"
   ]
  },
  {
   "cell_type": "code",
   "execution_count": 77,
   "id": "90aba245",
   "metadata": {
    "scrolled": true
   },
   "outputs": [
    {
     "name": "stdout",
     "output_type": "stream",
     "text": [
      "print\n",
      "1234\n"
     ]
    }
   ],
   "source": [
    "m = re.match('(?P<func>[a-zA-z_][a-zA-Z0-9_]+)\\((?P<arg>\\w+)\\)', 'print(1234)')\n",
    "\n",
    "print(m.group('func'))\n",
    "print(m.group('arg'))"
   ]
  },
  {
   "cell_type": "markdown",
   "id": "7bab2b13",
   "metadata": {},
   "source": [
    "### 패턴에 매칭되는 모든 문자열 가져오기"
   ]
  },
  {
   "cell_type": "code",
   "execution_count": 79,
   "id": "bd851884",
   "metadata": {},
   "outputs": [
    {
     "data": {
      "text/plain": [
       "['1', '2', 'izz', '4', 'uzz', 'izz', '7', '8']"
      ]
     },
     "execution_count": 79,
     "metadata": {},
     "output_type": "execute_result"
    }
   ],
   "source": [
    "re.findall('[0-9a-z]+', '1 2 Fizz 4 Buzz Fizz 7 8')"
   ]
  },
  {
   "cell_type": "markdown",
   "id": "79f0e683",
   "metadata": {},
   "source": [
    "## 문자열 바꾸기"
   ]
  },
  {
   "cell_type": "code",
   "execution_count": 81,
   "id": "baf43edd",
   "metadata": {},
   "outputs": [
    {
     "name": "stdout",
     "output_type": "stream",
     "text": [
      "fruit box fruit tree\n",
      "n n Fizz n Buzz Fizz n n\n"
     ]
    }
   ],
   "source": [
    "print(re.sub('apple|orange', 'fruit', 'apple box orange tree'))\n",
    "print(re.sub('[0-9]+', 'n', '1 2 Fizz 4 Buzz Fizz 7 8'))"
   ]
  },
  {
   "cell_type": "code",
   "execution_count": 82,
   "id": "de896946",
   "metadata": {},
   "outputs": [
    {
     "data": {
      "text/plain": [
       "'10 20 Fizz 40 Buzz Fizz 70 80'"
      ]
     },
     "execution_count": 82,
     "metadata": {},
     "output_type": "execute_result"
    }
   ],
   "source": [
    "def multiple10(m):\n",
    "    n = int(m.group())\n",
    "    return str(n * 10)\n",
    "\n",
    "re.sub('[0-9]+', multiple10, '1 2 Fizz 4 Buzz Fizz 7 8')"
   ]
  },
  {
   "cell_type": "code",
   "execution_count": 83,
   "id": "d199d0b6",
   "metadata": {},
   "outputs": [
    {
     "data": {
      "text/plain": [
       "'10 20 Fizz 40 Bizz Fizz 70 80'"
      ]
     },
     "execution_count": 83,
     "metadata": {},
     "output_type": "execute_result"
    }
   ],
   "source": [
    "re.sub('[0-9]+', lambda m:str(int(m.group()) * 10), '1 2 Fizz 4 Bizz Fizz 7 8')"
   ]
  },
  {
   "cell_type": "code",
   "execution_count": null,
   "id": "5679bad9",
   "metadata": {},
   "outputs": [],
   "source": []
  },
  {
   "cell_type": "code",
   "execution_count": null,
   "id": "40e58892",
   "metadata": {},
   "outputs": [],
   "source": []
  },
  {
   "cell_type": "code",
   "execution_count": null,
   "id": "f4f2616c",
   "metadata": {},
   "outputs": [],
   "source": []
  }
 ],
 "metadata": {
  "kernelspec": {
   "display_name": "Python 3 (ipykernel)",
   "language": "python",
   "name": "python3"
  },
  "language_info": {
   "codemirror_mode": {
    "name": "ipython",
    "version": 3
   },
   "file_extension": ".py",
   "mimetype": "text/x-python",
   "name": "python",
   "nbconvert_exporter": "python",
   "pygments_lexer": "ipython3",
   "version": "3.11.4"
  },
  "toc": {
   "base_numbering": 1,
   "nav_menu": {},
   "number_sections": true,
   "sideBar": true,
   "skip_h1_title": false,
   "title_cell": "Table of Contents",
   "title_sidebar": "Contents",
   "toc_cell": false,
   "toc_position": {
    "height": "calc(100% - 180px)",
    "left": "10px",
    "top": "150px",
    "width": "212.882px"
   },
   "toc_section_display": true,
   "toc_window_display": false
  }
 },
 "nbformat": 4,
 "nbformat_minor": 5
}
