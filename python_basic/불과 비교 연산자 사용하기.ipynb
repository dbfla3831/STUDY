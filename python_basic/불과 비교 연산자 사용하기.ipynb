{
 "cells": [
  {
   "cell_type": "code",
   "execution_count": 5,
   "id": "d9d577c3",
   "metadata": {},
   "outputs": [],
   "source": [
    "from IPython.core.interactiveshell import InteractiveShell\n",
    "InteractiveShell.ast_node_interactivity=\"all\"\n",
    "\n",
    "import warnings\n",
    "warnings.filterwarnings('ignore')"
   ]
  },
  {
   "cell_type": "markdown",
   "id": "dd8e2d5f",
   "metadata": {},
   "source": [
    "# Bool\n",
    "\n",
    "- True : 1, 값이 있다(공백 포함)\n",
    "\n",
    "- False : 0, 값이 없다"
   ]
  },
  {
   "cell_type": "code",
   "execution_count": 13,
   "id": "2085fda9",
   "metadata": {},
   "outputs": [
    {
     "data": {
      "text/plain": [
       "True"
      ]
     },
     "execution_count": 13,
     "metadata": {},
     "output_type": "execute_result"
    },
    {
     "data": {
      "text/plain": [
       "True"
      ]
     },
     "execution_count": 13,
     "metadata": {},
     "output_type": "execute_result"
    },
    {
     "data": {
      "text/plain": [
       "True"
      ]
     },
     "execution_count": 13,
     "metadata": {},
     "output_type": "execute_result"
    }
   ],
   "source": [
    "bool(1)\n",
    "bool(' ')\n",
    "bool('python')"
   ]
  },
  {
   "cell_type": "code",
   "execution_count": 12,
   "id": "2a20332e",
   "metadata": {},
   "outputs": [
    {
     "data": {
      "text/plain": [
       "False"
      ]
     },
     "execution_count": 12,
     "metadata": {},
     "output_type": "execute_result"
    },
    {
     "data": {
      "text/plain": [
       "False"
      ]
     },
     "execution_count": 12,
     "metadata": {},
     "output_type": "execute_result"
    }
   ],
   "source": [
    "bool(0)\n",
    "bool('')"
   ]
  },
  {
   "cell_type": "markdown",
   "id": "0f13f4b3",
   "metadata": {},
   "source": [
    "# 비교 연산자"
   ]
  },
  {
   "cell_type": "markdown",
   "id": "94762db9",
   "metadata": {},
   "source": [
    "<, >,  ==, <= >=, !="
   ]
  },
  {
   "cell_type": "markdown",
   "id": "55036e27",
   "metadata": {},
   "source": [
    "## 숫자 비교"
   ]
  },
  {
   "cell_type": "code",
   "execution_count": 14,
   "id": "6a41eea4",
   "metadata": {},
   "outputs": [
    {
     "data": {
      "text/plain": [
       "True"
      ]
     },
     "execution_count": 14,
     "metadata": {},
     "output_type": "execute_result"
    },
    {
     "data": {
      "text/plain": [
       "False"
      ]
     },
     "execution_count": 14,
     "metadata": {},
     "output_type": "execute_result"
    },
    {
     "data": {
      "text/plain": [
       "True"
      ]
     },
     "execution_count": 14,
     "metadata": {},
     "output_type": "execute_result"
    },
    {
     "data": {
      "text/plain": [
       "True"
      ]
     },
     "execution_count": 14,
     "metadata": {},
     "output_type": "execute_result"
    }
   ],
   "source": [
    "3 > 1\n",
    "3 <= 1\n",
    "10 == 10\n",
    "5 != 4"
   ]
  },
  {
   "cell_type": "markdown",
   "id": "dafe2950",
   "metadata": {},
   "source": [
    "## 문자열 비교"
   ]
  },
  {
   "cell_type": "code",
   "execution_count": 15,
   "id": "6aedfe73",
   "metadata": {},
   "outputs": [
    {
     "data": {
      "text/plain": [
       "False"
      ]
     },
     "execution_count": 15,
     "metadata": {},
     "output_type": "execute_result"
    },
    {
     "data": {
      "text/plain": [
       "True"
      ]
     },
     "execution_count": 15,
     "metadata": {},
     "output_type": "execute_result"
    }
   ],
   "source": [
    "'cat' == 'dog'\n",
    "'cat' != 'dog'"
   ]
  },
  {
   "cell_type": "markdown",
   "id": "1ac0f1b5",
   "metadata": {},
   "source": [
    "# 논리 연산자"
   ]
  },
  {
   "cell_type": "markdown",
   "id": "ebca4c7f",
   "metadata": {},
   "source": [
    "and, or, not"
   ]
  },
  {
   "cell_type": "markdown",
   "id": "b93af508",
   "metadata": {},
   "source": [
    "## and\n",
    "\n",
    "- 모두 True일 때만 True 출력\n",
    "\n",
    "- and는 &를 이용"
   ]
  },
  {
   "cell_type": "code",
   "execution_count": 16,
   "id": "08629804",
   "metadata": {},
   "outputs": [
    {
     "data": {
      "text/plain": [
       "True"
      ]
     },
     "execution_count": 16,
     "metadata": {},
     "output_type": "execute_result"
    },
    {
     "data": {
      "text/plain": [
       "False"
      ]
     },
     "execution_count": 16,
     "metadata": {},
     "output_type": "execute_result"
    },
    {
     "data": {
      "text/plain": [
       "False"
      ]
     },
     "execution_count": 16,
     "metadata": {},
     "output_type": "execute_result"
    },
    {
     "data": {
      "text/plain": [
       "False"
      ]
     },
     "execution_count": 16,
     "metadata": {},
     "output_type": "execute_result"
    }
   ],
   "source": [
    "True and True\n",
    "True and False\n",
    "False and True\n",
    "False and False"
   ]
  },
  {
   "cell_type": "markdown",
   "id": "08de1856",
   "metadata": {},
   "source": [
    "## or\n",
    "\n",
    "- 하나라도 True이면 True 출력\n",
    "\n",
    "- or은 |를 이용"
   ]
  },
  {
   "cell_type": "code",
   "execution_count": 17,
   "id": "e89b7f64",
   "metadata": {},
   "outputs": [
    {
     "data": {
      "text/plain": [
       "True"
      ]
     },
     "execution_count": 17,
     "metadata": {},
     "output_type": "execute_result"
    },
    {
     "data": {
      "text/plain": [
       "True"
      ]
     },
     "execution_count": 17,
     "metadata": {},
     "output_type": "execute_result"
    },
    {
     "data": {
      "text/plain": [
       "True"
      ]
     },
     "execution_count": 17,
     "metadata": {},
     "output_type": "execute_result"
    },
    {
     "data": {
      "text/plain": [
       "False"
      ]
     },
     "execution_count": 17,
     "metadata": {},
     "output_type": "execute_result"
    }
   ],
   "source": [
    "True or True\n",
    "True or False\n",
    "False or True\n",
    "False or False"
   ]
  },
  {
   "cell_type": "markdown",
   "id": "96fc7a13",
   "metadata": {},
   "source": [
    "## not\n",
    "\n",
    "- 논리 값을 뒤집기\n",
    "\n",
    "- not True : False\n",
    "\n",
    "- not False : True"
   ]
  },
  {
   "cell_type": "code",
   "execution_count": 18,
   "id": "13bac72d",
   "metadata": {},
   "outputs": [
    {
     "data": {
      "text/plain": [
       "False"
      ]
     },
     "execution_count": 18,
     "metadata": {},
     "output_type": "execute_result"
    },
    {
     "data": {
      "text/plain": [
       "True"
      ]
     },
     "execution_count": 18,
     "metadata": {},
     "output_type": "execute_result"
    },
    {
     "data": {
      "text/plain": [
       "True"
      ]
     },
     "execution_count": 18,
     "metadata": {},
     "output_type": "execute_result"
    }
   ],
   "source": [
    "not True\n",
    "not False\n",
    "not True and False or not False # False and False or True => False or True => True"
   ]
  },
  {
   "cell_type": "markdown",
   "id": "dd8895d1",
   "metadata": {},
   "source": [
    "# 논리 연산자와 비교 연산자\n",
    "\n",
    "- 비교 연산자를 먼저 판단 후 논리 연산자를 판단"
   ]
  },
  {
   "cell_type": "code",
   "execution_count": 6,
   "id": "bfc16bc4",
   "metadata": {},
   "outputs": [
    {
     "data": {
      "text/plain": [
       "True"
      ]
     },
     "execution_count": 6,
     "metadata": {},
     "output_type": "execute_result"
    },
    {
     "data": {
      "text/plain": [
       "True"
      ]
     },
     "execution_count": 6,
     "metadata": {},
     "output_type": "execute_result"
    },
    {
     "data": {
      "text/plain": [
       "False"
      ]
     },
     "execution_count": 6,
     "metadata": {},
     "output_type": "execute_result"
    },
    {
     "data": {
      "text/plain": [
       "True"
      ]
     },
     "execution_count": 6,
     "metadata": {},
     "output_type": "execute_result"
    }
   ],
   "source": [
    "10 == 10 and 10 != 5 # True and False\n",
    "10 > 5 or 10 < 3 # True or Fale\n",
    "not 10 > 5 # not True\n",
    "not 1 is 1.0 # not False"
   ]
  }
 ],
 "metadata": {
  "kernelspec": {
   "display_name": "Python 3 (ipykernel)",
   "language": "python",
   "name": "python3"
  },
  "language_info": {
   "codemirror_mode": {
    "name": "ipython",
    "version": 3
   },
   "file_extension": ".py",
   "mimetype": "text/x-python",
   "name": "python",
   "nbconvert_exporter": "python",
   "pygments_lexer": "ipython3",
   "version": "3.11.5"
  },
  "toc": {
   "base_numbering": 1,
   "nav_menu": {},
   "number_sections": true,
   "sideBar": true,
   "skip_h1_title": false,
   "title_cell": "Table of Contents",
   "title_sidebar": "Contents",
   "toc_cell": false,
   "toc_position": {},
   "toc_section_display": true,
   "toc_window_display": false
  }
 },
 "nbformat": 4,
 "nbformat_minor": 5
}
