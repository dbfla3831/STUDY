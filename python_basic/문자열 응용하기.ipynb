{
 "cells": [
  {
   "cell_type": "code",
   "execution_count": 28,
   "id": "f556dfb1",
   "metadata": {},
   "outputs": [],
   "source": [
    "from IPython.core.interactiveshell import InteractiveShell\n",
    "InteractiveShell.ast_node_interactivity=\"all\""
   ]
  },
  {
   "cell_type": "markdown",
   "id": "1d12d276",
   "metadata": {},
   "source": [
    "# 문자열 조작하기"
   ]
  },
  {
   "cell_type": "markdown",
   "id": "2a746707",
   "metadata": {},
   "source": [
    "## 문자열 바꾸기\n",
    "\n",
    "- replace('바꿀 문자열', '새 문자열')"
   ]
  },
  {
   "cell_type": "code",
   "execution_count": 2,
   "id": "a11f8228",
   "metadata": {},
   "outputs": [
    {
     "data": {
      "text/plain": [
       "'hello, python'"
      ]
     },
     "execution_count": 2,
     "metadata": {},
     "output_type": "execute_result"
    }
   ],
   "source": [
    "s = 'hello, world'\n",
    "s = s.replace('world', 'python')\n",
    "\n",
    "s"
   ]
  },
  {
   "cell_type": "markdown",
   "id": "5052e1ad",
   "metadata": {},
   "source": [
    "## 문자 바꾸기\n",
    "\n",
    "- str.maketrans('바꿀 문자', '새 문자')"
   ]
  },
  {
   "cell_type": "code",
   "execution_count": 3,
   "id": "5340bea2",
   "metadata": {},
   "outputs": [
    {
     "name": "stdout",
     "output_type": "stream",
     "text": [
      "1ppl2\n"
     ]
    }
   ],
   "source": [
    "# a는 1 e는 2 i는 3 o는 4 u는 5로 변경\n",
    "table = str.maketrans(\"aeiou\", \"12345\")\n",
    "\n",
    "print('apple'.translate(table))"
   ]
  },
  {
   "cell_type": "markdown",
   "id": "2d0addc8",
   "metadata": {},
   "source": [
    "## 문자열 분리하기\n",
    "\n",
    "- split('기준 문자열')"
   ]
  },
  {
   "cell_type": "code",
   "execution_count": 4,
   "id": "f630531a",
   "metadata": {},
   "outputs": [
    {
     "data": {
      "text/plain": [
       "['apple', 'pear', 'grape', 'pineapple', 'orange']"
      ]
     },
     "execution_count": 4,
     "metadata": {},
     "output_type": "execute_result"
    }
   ],
   "source": [
    "\"apple pear grape pineapple orange\".split()"
   ]
  },
  {
   "cell_type": "code",
   "execution_count": 6,
   "id": "4b34ec72",
   "metadata": {},
   "outputs": [
    {
     "data": {
      "text/plain": [
       "['apple', 'pear', 'grape', 'pineapple', 'orange']"
      ]
     },
     "execution_count": 6,
     "metadata": {},
     "output_type": "execute_result"
    }
   ],
   "source": [
    "\"apple, pear, grape, pineapple, orange\".split(\", \")"
   ]
  },
  {
   "cell_type": "markdown",
   "id": "a62cf21a",
   "metadata": {},
   "source": [
    "## 구분자 문자열과 문자열 리스트 연결\n",
    "\n",
    "- join(리스트)"
   ]
  },
  {
   "cell_type": "code",
   "execution_count": 8,
   "id": "07955d8e",
   "metadata": {},
   "outputs": [
    {
     "data": {
      "text/plain": [
       "'apple pear grape pineapple orange'"
      ]
     },
     "execution_count": 8,
     "metadata": {},
     "output_type": "execute_result"
    }
   ],
   "source": [
    "' '.join(['apple', 'pear', 'grape', 'pineapple', 'orange'])"
   ]
  },
  {
   "cell_type": "code",
   "execution_count": 9,
   "id": "eb2d0b50",
   "metadata": {},
   "outputs": [
    {
     "data": {
      "text/plain": [
       "'apple-pear-grape-pineapple-orange'"
      ]
     },
     "execution_count": 9,
     "metadata": {},
     "output_type": "execute_result"
    }
   ],
   "source": [
    "'-'.join(['apple', 'pear', 'grape', 'pineapple', 'orange'])"
   ]
  },
  {
   "cell_type": "markdown",
   "id": "cce30316",
   "metadata": {},
   "source": [
    "## 소문자를 대문자로 변경\n",
    "\n",
    "- upper()"
   ]
  },
  {
   "cell_type": "code",
   "execution_count": 10,
   "id": "150098f8",
   "metadata": {},
   "outputs": [
    {
     "data": {
      "text/plain": [
       "'PTHON'"
      ]
     },
     "execution_count": 10,
     "metadata": {},
     "output_type": "execute_result"
    }
   ],
   "source": [
    "'pthon'.upper()"
   ]
  },
  {
   "cell_type": "code",
   "execution_count": 11,
   "id": "3d5ff047",
   "metadata": {},
   "outputs": [
    {
     "data": {
      "text/plain": [
       "'HELLO'"
      ]
     },
     "execution_count": 11,
     "metadata": {},
     "output_type": "execute_result"
    }
   ],
   "source": [
    "'Hello'.upper()"
   ]
  },
  {
   "cell_type": "markdown",
   "id": "1cdf8edc",
   "metadata": {},
   "source": [
    "## 대문자를 소문자로 변경\n",
    "\n",
    "- lower()"
   ]
  },
  {
   "cell_type": "code",
   "execution_count": 12,
   "id": "86438624",
   "metadata": {},
   "outputs": [
    {
     "data": {
      "text/plain": [
       "'python'"
      ]
     },
     "execution_count": 12,
     "metadata": {},
     "output_type": "execute_result"
    }
   ],
   "source": [
    "'PYTHON'.lower()"
   ]
  },
  {
   "cell_type": "code",
   "execution_count": 13,
   "id": "d2ffbf8b",
   "metadata": {},
   "outputs": [
    {
     "data": {
      "text/plain": [
       "'hello'"
      ]
     },
     "execution_count": 13,
     "metadata": {},
     "output_type": "execute_result"
    }
   ],
   "source": [
    "'hELLO'.lower()"
   ]
  },
  {
   "cell_type": "markdown",
   "id": "cbbc8f12",
   "metadata": {},
   "source": [
    "## 왼쪽 공백 삭제\n",
    "\n",
    "- lstrip()"
   ]
  },
  {
   "cell_type": "code",
   "execution_count": 14,
   "id": "62905b58",
   "metadata": {},
   "outputs": [
    {
     "data": {
      "text/plain": [
       "'python     '"
      ]
     },
     "execution_count": 14,
     "metadata": {},
     "output_type": "execute_result"
    }
   ],
   "source": [
    "\"    python     \".lstrip()"
   ]
  },
  {
   "cell_type": "markdown",
   "id": "7e82c0fb",
   "metadata": {},
   "source": [
    "## 오른쪽 공백 삭제\n",
    "\n",
    "- rstrip()"
   ]
  },
  {
   "cell_type": "code",
   "execution_count": 15,
   "id": "ab2bb9aa",
   "metadata": {},
   "outputs": [
    {
     "data": {
      "text/plain": [
       "'    python'"
      ]
     },
     "execution_count": 15,
     "metadata": {},
     "output_type": "execute_result"
    }
   ],
   "source": [
    "\"    python     \".rstrip()"
   ]
  },
  {
   "cell_type": "markdown",
   "id": "abcfcabc",
   "metadata": {},
   "source": [
    "## 양쪽 공백 삭제\n",
    "\n",
    "- strip()"
   ]
  },
  {
   "cell_type": "code",
   "execution_count": 16,
   "id": "ca8d95b0",
   "metadata": {},
   "outputs": [
    {
     "data": {
      "text/plain": [
       "'python'"
      ]
     },
     "execution_count": 16,
     "metadata": {},
     "output_type": "execute_result"
    }
   ],
   "source": [
    "\"    python     \".strip()"
   ]
  },
  {
   "cell_type": "markdown",
   "id": "8e393f0a",
   "metadata": {},
   "source": [
    "## 왼쪽의 특정 문자 삭제\n",
    "\n",
    "- lstrip('삭제할 문자들')"
   ]
  },
  {
   "cell_type": "code",
   "execution_count": 17,
   "id": "b5d40bcd",
   "metadata": {},
   "outputs": [
    {
     "data": {
      "text/plain": [
       "' python.'"
      ]
     },
     "execution_count": 17,
     "metadata": {},
     "output_type": "execute_result"
    }
   ],
   "source": [
    "\", python.\".lstrip(',.')"
   ]
  },
  {
   "cell_type": "code",
   "execution_count": 18,
   "id": "1dab7cb9",
   "metadata": {},
   "outputs": [
    {
     "data": {
      "text/plain": [
       "'python.'"
      ]
     },
     "execution_count": 18,
     "metadata": {},
     "output_type": "execute_result"
    }
   ],
   "source": [
    "\", python.\".lstrip(',. ')"
   ]
  },
  {
   "cell_type": "markdown",
   "id": "1b6f8850",
   "metadata": {},
   "source": [
    "## 오른쪽의 특정 문자 삭제\n",
    "\n",
    "- rstrip('삭제할 문자들')"
   ]
  },
  {
   "cell_type": "code",
   "execution_count": 19,
   "id": "36e75185",
   "metadata": {},
   "outputs": [
    {
     "data": {
      "text/plain": [
       "', python'"
      ]
     },
     "execution_count": 19,
     "metadata": {},
     "output_type": "execute_result"
    }
   ],
   "source": [
    "\", python.\".rstrip(',.')"
   ]
  },
  {
   "cell_type": "markdown",
   "id": "fe4afe8f",
   "metadata": {},
   "source": [
    "## 양쪽의 특정 문자 삭제하기\n",
    "\n",
    "- strip('삭제할 문자들')"
   ]
  },
  {
   "cell_type": "code",
   "execution_count": 20,
   "id": "7986eaf5",
   "metadata": {},
   "outputs": [
    {
     "data": {
      "text/plain": [
       "' python'"
      ]
     },
     "execution_count": 20,
     "metadata": {},
     "output_type": "execute_result"
    }
   ],
   "source": [
    "\", python.\".strip(',.')"
   ]
  },
  {
   "cell_type": "markdown",
   "id": "db41307d",
   "metadata": {},
   "source": [
    "## 문자열 왼쪽 정렬하기\n",
    "\n",
    "- ljust(길이) : 문자열을 지정된 길이로 만든 뒤 왼쪽으로 정렬 후 남는 공간을 공백으로"
   ]
  },
  {
   "cell_type": "code",
   "execution_count": 21,
   "id": "6ffbb202",
   "metadata": {},
   "outputs": [
    {
     "data": {
      "text/plain": [
       "'python    '"
      ]
     },
     "execution_count": 21,
     "metadata": {},
     "output_type": "execute_result"
    }
   ],
   "source": [
    "'python'.ljust(10)"
   ]
  },
  {
   "cell_type": "markdown",
   "id": "12ec1888",
   "metadata": {},
   "source": [
    "## 문자열을 오른쪽 정렬\n",
    "\n",
    "- rjust(길이)"
   ]
  },
  {
   "cell_type": "code",
   "execution_count": 23,
   "id": "2ba89efd",
   "metadata": {},
   "outputs": [
    {
     "data": {
      "text/plain": [
       "'    python'"
      ]
     },
     "execution_count": 23,
     "metadata": {},
     "output_type": "execute_result"
    }
   ],
   "source": [
    "'python'.rjust(10)"
   ]
  },
  {
   "cell_type": "markdown",
   "id": "a296566c",
   "metadata": {},
   "source": [
    "## 문자열을 가운데 정렬\n",
    "\n",
    "- centet(길이)"
   ]
  },
  {
   "cell_type": "code",
   "execution_count": 24,
   "id": "a4b91094",
   "metadata": {},
   "outputs": [
    {
     "data": {
      "text/plain": [
       "'  python  '"
      ]
     },
     "execution_count": 24,
     "metadata": {},
     "output_type": "execute_result"
    }
   ],
   "source": [
    "'python'.center(10)"
   ]
  },
  {
   "cell_type": "markdown",
   "id": "d1d59a3d",
   "metadata": {},
   "source": [
    "## 문자열 왼쪽에 0채우기\n",
    "\n",
    "- zfill(길이)"
   ]
  },
  {
   "cell_type": "code",
   "execution_count": 25,
   "id": "ee7b6148",
   "metadata": {},
   "outputs": [
    {
     "data": {
      "text/plain": [
       "'003.5'"
      ]
     },
     "execution_count": 25,
     "metadata": {},
     "output_type": "execute_result"
    }
   ],
   "source": [
    "'3.5'.zfill(5)"
   ]
  },
  {
   "cell_type": "code",
   "execution_count": 26,
   "id": "66f970aa",
   "metadata": {},
   "outputs": [
    {
     "data": {
      "text/plain": [
       "'00hello'"
      ]
     },
     "execution_count": 26,
     "metadata": {},
     "output_type": "execute_result"
    }
   ],
   "source": [
    "'hello'.zfill(7)"
   ]
  },
  {
   "cell_type": "markdown",
   "id": "deb62d79",
   "metadata": {},
   "source": [
    "## 문자열 위치 찾기\n",
    "\n",
    "- find('찾을 문자열')\n",
    "\n",
    "- 문자열이 없으면 -1"
   ]
  },
  {
   "cell_type": "code",
   "execution_count": 27,
   "id": "35bafb42",
   "metadata": {},
   "outputs": [
    {
     "data": {
      "text/plain": [
       "-1"
      ]
     },
     "execution_count": 27,
     "metadata": {},
     "output_type": "execute_result"
    }
   ],
   "source": [
    "\"apple pineapple\".find('xy')"
   ]
  },
  {
   "cell_type": "code",
   "execution_count": 29,
   "id": "b626f338",
   "metadata": {},
   "outputs": [
    {
     "data": {
      "text/plain": [
       "2"
      ]
     },
     "execution_count": 29,
     "metadata": {},
     "output_type": "execute_result"
    }
   ],
   "source": [
    "\"apple pineapple\".find('pl')"
   ]
  },
  {
   "cell_type": "markdown",
   "id": "b2f4da00",
   "metadata": {},
   "source": [
    "## 오른쪽부터 문자열 위치 찾기\n",
    "\n",
    "- rfind('찾을 문자열')"
   ]
  },
  {
   "cell_type": "code",
   "execution_count": 30,
   "id": "e42bd81d",
   "metadata": {},
   "outputs": [
    {
     "data": {
      "text/plain": [
       "-1"
      ]
     },
     "execution_count": 30,
     "metadata": {},
     "output_type": "execute_result"
    }
   ],
   "source": [
    "\"apple pineapple\".rfind('xy')"
   ]
  },
  {
   "cell_type": "code",
   "execution_count": 33,
   "id": "26458c66",
   "metadata": {},
   "outputs": [
    {
     "data": {
      "text/plain": [
       "6"
      ]
     },
     "execution_count": 33,
     "metadata": {},
     "output_type": "execute_result"
    }
   ],
   "source": [
    "\"apple pineapple\".rfind('pi')"
   ]
  },
  {
   "cell_type": "markdown",
   "id": "1a0dae58",
   "metadata": {},
   "source": [
    "## 문자열 위치 찾기\n",
    "\n",
    "- index('찾을 문자열')"
   ]
  },
  {
   "cell_type": "code",
   "execution_count": 34,
   "id": "b98e19b7",
   "metadata": {},
   "outputs": [
    {
     "data": {
      "text/plain": [
       "6"
      ]
     },
     "execution_count": 34,
     "metadata": {},
     "output_type": "execute_result"
    }
   ],
   "source": [
    "\"apple pineapple\".index('pi')"
   ]
  },
  {
   "cell_type": "markdown",
   "id": "4a2d7c73",
   "metadata": {},
   "source": [
    "## 오른쪽에서부터 문자열 위치 찾기\n",
    "\n",
    "- rindex('찾을 문자열')"
   ]
  },
  {
   "cell_type": "code",
   "execution_count": 35,
   "id": "8cd206d9",
   "metadata": {},
   "outputs": [
    {
     "data": {
      "text/plain": [
       "12"
      ]
     },
     "execution_count": 35,
     "metadata": {},
     "output_type": "execute_result"
    }
   ],
   "source": [
    "\"apple pineapple\".rindex('pl')"
   ]
  },
  {
   "cell_type": "markdown",
   "id": "4960dc72",
   "metadata": {},
   "source": [
    "## 문자열 개수 세기\n",
    "\n",
    "- count('문자열')"
   ]
  },
  {
   "cell_type": "code",
   "execution_count": 36,
   "id": "f32b18bb",
   "metadata": {},
   "outputs": [
    {
     "data": {
      "text/plain": [
       "2"
      ]
     },
     "execution_count": 36,
     "metadata": {},
     "output_type": "execute_result"
    }
   ],
   "source": [
    "\"apple pineapple\".count('pl')"
   ]
  },
  {
   "cell_type": "markdown",
   "id": "6db2a65e",
   "metadata": {},
   "source": [
    "# 문자열 서식 지정자와 포매팅 사용하기"
   ]
  },
  {
   "cell_type": "markdown",
   "id": "ef9ec75f",
   "metadata": {},
   "source": [
    "## 서식 지정자로 문자열 넣기\n",
    "\n",
    "- \"%s\" % \"문자열\""
   ]
  },
  {
   "cell_type": "code",
   "execution_count": 2,
   "id": "d6223063",
   "metadata": {},
   "outputs": [
    {
     "data": {
      "text/plain": [
       "'I am %s.\" % \"james'"
      ]
     },
     "execution_count": 2,
     "metadata": {},
     "output_type": "execute_result"
    }
   ],
   "source": [
    "'I am %s.\" % \"james'"
   ]
  },
  {
   "cell_type": "code",
   "execution_count": 3,
   "id": "9b08ea4f",
   "metadata": {},
   "outputs": [
    {
     "data": {
      "text/plain": [
       "'I am maria.'"
      ]
     },
     "execution_count": 3,
     "metadata": {},
     "output_type": "execute_result"
    }
   ],
   "source": [
    "name =\"maria\"\n",
    "\n",
    "\"I am %s.\" % name"
   ]
  },
  {
   "cell_type": "markdown",
   "id": "8213c5e5",
   "metadata": {},
   "source": [
    "## 서식 지정자로 숫자 넣기\n",
    "\n",
    "- \"%d\" % 숫자"
   ]
  },
  {
   "cell_type": "code",
   "execution_count": 5,
   "id": "e49bf85a",
   "metadata": {},
   "outputs": [
    {
     "data": {
      "text/plain": [
       "'I am 24 years old.'"
      ]
     },
     "execution_count": 5,
     "metadata": {},
     "output_type": "execute_result"
    }
   ],
   "source": [
    "\"I am %d years old.\" % 24"
   ]
  },
  {
   "cell_type": "markdown",
   "id": "9bcfcbcc",
   "metadata": {},
   "source": [
    "## 서식 지정자로 소수점 표현하기\n",
    "\n",
    "- \"%f\" % 숫자\n",
    "\n",
    "- \"%.자릿수f\" % 숫자"
   ]
  },
  {
   "cell_type": "code",
   "execution_count": 6,
   "id": "55e9a773",
   "metadata": {},
   "outputs": [
    {
     "data": {
      "text/plain": [
       "'5.300000'"
      ]
     },
     "execution_count": 6,
     "metadata": {},
     "output_type": "execute_result"
    }
   ],
   "source": [
    "\"%f\" % 5.3"
   ]
  },
  {
   "cell_type": "code",
   "execution_count": 7,
   "id": "d1fbf4c8",
   "metadata": {},
   "outputs": [
    {
     "data": {
      "text/plain": [
       "'5.300'"
      ]
     },
     "execution_count": 7,
     "metadata": {},
     "output_type": "execute_result"
    }
   ],
   "source": [
    "\"%.3f\" % 5.3"
   ]
  },
  {
   "cell_type": "markdown",
   "id": "5becb5be",
   "metadata": {},
   "source": [
    "## 서식 지정자로 문자열 정렬하기\n",
    "\n",
    "- \"%길이s\" % 문자열 : 오른쪽 정렬 후 남은 공간은 공백으로\n",
    "\n",
    "- \"%-길이s\" % 문자열 : 왼쪽으로 정렬 후 남은 공간은 공백으로\n",
    "\n",
    "- \"%길이.자릿수f\" % 숫자 : .(점) 앞에 정렬할 길이를 지정하고, 점 뒤에 소수점 이하 자릿수를 지정"
   ]
  },
  {
   "cell_type": "code",
   "execution_count": 8,
   "id": "dcdcb4c1",
   "metadata": {},
   "outputs": [
    {
     "data": {
      "text/plain": [
       "'    python'"
      ]
     },
     "execution_count": 8,
     "metadata": {},
     "output_type": "execute_result"
    }
   ],
   "source": [
    "\"%10s\" % \"python\""
   ]
  },
  {
   "cell_type": "code",
   "execution_count": 9,
   "id": "7cb5e3fd",
   "metadata": {},
   "outputs": [
    {
     "data": {
      "text/plain": [
       "'   4.500'"
      ]
     },
     "execution_count": 9,
     "metadata": {},
     "output_type": "execute_result"
    }
   ],
   "source": [
    "\"%8.3f\" % 4.5"
   ]
  },
  {
   "cell_type": "code",
   "execution_count": 10,
   "id": "1b8f8c6e",
   "metadata": {},
   "outputs": [
    {
     "data": {
      "text/plain": [
       "' 400.500'"
      ]
     },
     "execution_count": 10,
     "metadata": {},
     "output_type": "execute_result"
    }
   ],
   "source": [
    "\"%8.3f\" % 400.5"
   ]
  },
  {
   "cell_type": "markdown",
   "id": "4f66876a",
   "metadata": {},
   "source": [
    "## 서식 지정자로 문자열 안에 값 여러 개 넣기\n",
    "\n",
    "- \"%d %s\" % (숫자, \"문자열\")"
   ]
  },
  {
   "cell_type": "code",
   "execution_count": 11,
   "id": "6b064046",
   "metadata": {},
   "outputs": [
    {
     "data": {
      "text/plain": [
       "'Today is 3 April.'"
      ]
     },
     "execution_count": 11,
     "metadata": {},
     "output_type": "execute_result"
    }
   ],
   "source": [
    "\"Today is %d %s.\" % (3, \"April\")"
   ]
  },
  {
   "cell_type": "code",
   "execution_count": 12,
   "id": "1ad1186d",
   "metadata": {},
   "outputs": [
    {
     "data": {
      "text/plain": [
       "'Today is 3April.'"
      ]
     },
     "execution_count": 12,
     "metadata": {},
     "output_type": "execute_result"
    }
   ],
   "source": [
    "\"Today is %d%s.\" % (3, \"April\")"
   ]
  },
  {
   "cell_type": "markdown",
   "id": "fcb13f61",
   "metadata": {},
   "source": [
    "## format메서드 사용하기\n",
    "\n",
    "- \"{인덱스}\".format(값)"
   ]
  },
  {
   "cell_type": "code",
   "execution_count": 13,
   "id": "1bc7e0c0",
   "metadata": {},
   "outputs": [
    {
     "data": {
      "text/plain": [
       "'hello, world'"
      ]
     },
     "execution_count": 13,
     "metadata": {},
     "output_type": "execute_result"
    }
   ],
   "source": [
    "\"hello, {0}\".format(\"world\")"
   ]
  },
  {
   "cell_type": "code",
   "execution_count": 15,
   "id": "63896f02",
   "metadata": {},
   "outputs": [
    {
     "data": {
      "text/plain": [
       "'hello, 100'"
      ]
     },
     "execution_count": 15,
     "metadata": {},
     "output_type": "execute_result"
    }
   ],
   "source": [
    "\"hello, {0}\".format(100)"
   ]
  },
  {
   "cell_type": "markdown",
   "id": "99db4478",
   "metadata": {},
   "source": [
    "## format메서드로 값을 여러 개 넣기"
   ]
  },
  {
   "cell_type": "code",
   "execution_count": 16,
   "id": "84ce9e79",
   "metadata": {},
   "outputs": [
    {
     "data": {
      "text/plain": [
       "'hello, python Script 3.6'"
      ]
     },
     "execution_count": 16,
     "metadata": {},
     "output_type": "execute_result"
    }
   ],
   "source": [
    "\"hello, {0} {1} {2}\".format(\"python\", 'Script', 3.6)"
   ]
  },
  {
   "cell_type": "markdown",
   "id": "e97021bc",
   "metadata": {},
   "source": [
    "## format메서드로 같은 값을 여러 개 넣기"
   ]
  },
  {
   "cell_type": "code",
   "execution_count": 17,
   "id": "2c67ddd0",
   "metadata": {},
   "outputs": [
    {
     "data": {
      "text/plain": [
       "'python Script Script python'"
      ]
     },
     "execution_count": 17,
     "metadata": {},
     "output_type": "execute_result"
    }
   ],
   "source": [
    "\"{0} {1} {1} {0}\".format(\"python\", 'Script')"
   ]
  },
  {
   "cell_type": "markdown",
   "id": "923f2a3e",
   "metadata": {},
   "source": [
    "## format메서드에서 인덱스 생략하기"
   ]
  },
  {
   "cell_type": "code",
   "execution_count": 18,
   "id": "f48705c1",
   "metadata": {},
   "outputs": [
    {
     "data": {
      "text/plain": [
       "'hello, python script 3.6'"
      ]
     },
     "execution_count": 18,
     "metadata": {},
     "output_type": "execute_result"
    }
   ],
   "source": [
    "\"hello, {} {} {}\".format(\"python\", \"script\", 3.6)"
   ]
  },
  {
   "cell_type": "markdown",
   "id": "06e1cde5",
   "metadata": {},
   "source": [
    "## format메서드에서 인덱스 대신 이름 지정하기"
   ]
  },
  {
   "cell_type": "code",
   "execution_count": 19,
   "id": "69911591",
   "metadata": {},
   "outputs": [
    {
     "data": {
      "text/plain": [
       "'hello, python 3.6'"
      ]
     },
     "execution_count": 19,
     "metadata": {},
     "output_type": "execute_result"
    }
   ],
   "source": [
    "\"hello, {language} {version}\".format(language = \"python\", version = 3.6)"
   ]
  },
  {
   "cell_type": "markdown",
   "id": "bce33ae7",
   "metadata": {},
   "source": [
    "## 문자열 포멧팅에 변수를 그대로 사용"
   ]
  },
  {
   "cell_type": "code",
   "execution_count": 20,
   "id": "0470a4af",
   "metadata": {},
   "outputs": [
    {
     "data": {
      "text/plain": [
       "'hello, python 3.6'"
      ]
     },
     "execution_count": 20,
     "metadata": {},
     "output_type": "execute_result"
    }
   ],
   "source": [
    "lang = \"python\"\n",
    "ver = 3.6\n",
    "\n",
    "f\"hello, {lang} {ver}\""
   ]
  },
  {
   "cell_type": "markdown",
   "id": "286d0234",
   "metadata": {},
   "source": [
    "## format메서드로 문자열 정렬\n",
    "\n",
    "- \"{인덱스 : < 길이}\".format(값)"
   ]
  },
  {
   "cell_type": "code",
   "execution_count": 21,
   "id": "68e6e2fe",
   "metadata": {},
   "outputs": [
    {
     "data": {
      "text/plain": [
       "'python    '"
      ]
     },
     "execution_count": 21,
     "metadata": {},
     "output_type": "execute_result"
    }
   ],
   "source": [
    "\"{0:<10}\".format(\"python\") # 왼쪽 정렬"
   ]
  },
  {
   "cell_type": "markdown",
   "id": "55cfa1f1",
   "metadata": {},
   "source": [
    "## 숫자 개수 맞추기\n",
    "\n",
    "- \"%0개수d\" % 숫자\n",
    "\n",
    "- \"{인덱스 : 0개수d}\".format(숫자)"
   ]
  },
  {
   "cell_type": "code",
   "execution_count": 22,
   "id": "bc184ffb",
   "metadata": {},
   "outputs": [
    {
     "data": {
      "text/plain": [
       "'005'"
      ]
     },
     "execution_count": 22,
     "metadata": {},
     "output_type": "execute_result"
    }
   ],
   "source": [
    "\"%03d\" % 5"
   ]
  },
  {
   "cell_type": "code",
   "execution_count": 23,
   "id": "72a9755b",
   "metadata": {},
   "outputs": [
    {
     "data": {
      "text/plain": [
       "'005'"
      ]
     },
     "execution_count": 23,
     "metadata": {},
     "output_type": "execute_result"
    }
   ],
   "source": [
    "\"{0:03d}\".format(5)"
   ]
  },
  {
   "cell_type": "markdown",
   "id": "4d0b6653",
   "metadata": {},
   "source": [
    "- \"%0개수.자릿수f\" % 숫자\n",
    "\n",
    "- \"{인덱스 : 0개수.자릿수f}\".format(숫자)"
   ]
  },
  {
   "cell_type": "code",
   "execution_count": 24,
   "id": "b64ce2c7",
   "metadata": {},
   "outputs": [
    {
     "data": {
      "text/plain": [
       "'4.500'"
      ]
     },
     "execution_count": 24,
     "metadata": {},
     "output_type": "execute_result"
    }
   ],
   "source": [
    "\"%03.3f\" % 4.5"
   ]
  },
  {
   "cell_type": "code",
   "execution_count": 25,
   "id": "ef7c5ea9",
   "metadata": {},
   "outputs": [
    {
     "data": {
      "text/plain": [
       "'4.500'"
      ]
     },
     "execution_count": 25,
     "metadata": {},
     "output_type": "execute_result"
    }
   ],
   "source": [
    "\"{0:03.3f}\".format(4.5)"
   ]
  },
  {
   "cell_type": "markdown",
   "id": "5f4af4b8",
   "metadata": {},
   "source": [
    "## 채우기와 정렬을 조합해서 사용하기\n",
    "\n",
    "- \"{인덱스 : [[채우기]정렬][길이][.자릿수][자료형]}\""
   ]
  },
  {
   "cell_type": "code",
   "execution_count": 32,
   "id": "2afe833e",
   "metadata": {},
   "outputs": [
    {
     "name": "stdout",
     "output_type": "stream",
     "text": [
      "1500000000\n",
      "0000000015\n"
     ]
    }
   ],
   "source": [
    "print(\"{0:0<10}\".format(15)) # 길이 10, 왼쪽으로 정렬하고 남는 공간은 0으로\n",
    "print(\"{0:0>10}\".format(15)) # 길이 10, 오른쪽으로 정렬하고 남는 공간은 0으로"
   ]
  },
  {
   "cell_type": "code",
   "execution_count": 33,
   "id": "5801c1fa",
   "metadata": {},
   "outputs": [
    {
     "data": {
      "text/plain": [
       "'0000015.00'"
      ]
     },
     "execution_count": 33,
     "metadata": {},
     "output_type": "execute_result"
    }
   ],
   "source": [
    "\"{0:0>10.2f}\".format(15) # 길이 10, 오른쪽으로 정렬하고 소수점 자릿수는 2자리"
   ]
  },
  {
   "cell_type": "code",
   "execution_count": 34,
   "id": "efb40c81",
   "metadata": {},
   "outputs": [
    {
     "name": "stdout",
     "output_type": "stream",
     "text": [
      "        15\n",
      "xxxxxxxx15\n"
     ]
    }
   ],
   "source": [
    "print(\"{0: >10}\".format(15)) # 남는 공간을 공백으로 채움\n",
    "print(\"{0:x>10}\".format(15)) # 남는 공간을 x로 채움"
   ]
  }
 ],
 "metadata": {
  "kernelspec": {
   "display_name": "Python 3 (ipykernel)",
   "language": "python",
   "name": "python3"
  },
  "language_info": {
   "codemirror_mode": {
    "name": "ipython",
    "version": 3
   },
   "file_extension": ".py",
   "mimetype": "text/x-python",
   "name": "python",
   "nbconvert_exporter": "python",
   "pygments_lexer": "ipython3",
   "version": "3.11.5"
  },
  "toc": {
   "base_numbering": 1,
   "nav_menu": {},
   "number_sections": true,
   "sideBar": true,
   "skip_h1_title": false,
   "title_cell": "Table of Contents",
   "title_sidebar": "Contents",
   "toc_cell": false,
   "toc_position": {
    "height": "calc(100% - 180px)",
    "left": "10px",
    "top": "150px",
    "width": "165px"
   },
   "toc_section_display": true,
   "toc_window_display": false
  }
 },
 "nbformat": 4,
 "nbformat_minor": 5
}
