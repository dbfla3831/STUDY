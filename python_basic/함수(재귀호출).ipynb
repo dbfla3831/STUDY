{
 "cells": [
  {
   "cell_type": "markdown",
   "id": "f5eebfc5",
   "metadata": {},
   "source": [
    "# 함수에서 재귀호출 사용하기"
   ]
  },
  {
   "cell_type": "markdown",
   "id": "5bd24853",
   "metadata": {},
   "source": [
    "## 재귀호출 사용하기"
   ]
  },
  {
   "cell_type": "markdown",
   "id": "cf4c924e",
   "metadata": {},
   "source": [
    "### 재귀호출에 종료 조건 만들기"
   ]
  },
  {
   "cell_type": "code",
   "execution_count": 4,
   "id": "dc3ae29e",
   "metadata": {},
   "outputs": [
    {
     "name": "stdout",
     "output_type": "stream",
     "text": [
      "hello, world 5\n",
      "hello, world 4\n",
      "hello, world 3\n",
      "hello, world 2\n",
      "hello, world 1\n"
     ]
    }
   ],
   "source": [
    "def hello(cnt):\n",
    "    if cnt == 0:\n",
    "        return\n",
    "    \n",
    "    print('hello, world', cnt)\n",
    "    \n",
    "    cnt -= 1\n",
    "    hello(cnt)\n",
    "    \n",
    "hello(5)"
   ]
  },
  {
   "cell_type": "markdown",
   "id": "10fca66a",
   "metadata": {},
   "source": [
    "### 재귀호출로 팩토리얼 구하기"
   ]
  },
  {
   "cell_type": "code",
   "execution_count": 7,
   "id": "fbd2b5be",
   "metadata": {},
   "outputs": [
    {
     "data": {
      "text/plain": [
       "120"
      ]
     },
     "execution_count": 7,
     "metadata": {},
     "output_type": "execute_result"
    }
   ],
   "source": [
    "def factorial(n):\n",
    "    if n == 1:\n",
    "        return 1\n",
    "    return n * factorial(n - 1)\n",
    "\n",
    "factorial(5)"
   ]
  },
  {
   "cell_type": "code",
   "execution_count": 10,
   "id": "e1dc8de6",
   "metadata": {},
   "outputs": [
    {
     "name": "stdout",
     "output_type": "stream",
     "text": [
      "hello world\n",
      "hello world\n"
     ]
    }
   ],
   "source": [
    "def hello():\n",
    "    print('hello world')\n",
    "    \n",
    "x = hello\n",
    "x()\n",
    "\n",
    "y = [hello, hello]\n",
    "y[0]()"
   ]
  },
  {
   "cell_type": "code",
   "execution_count": 11,
   "id": "53ad0d87",
   "metadata": {},
   "outputs": [
    {
     "data": {
      "text/plain": [
       "3"
      ]
     },
     "execution_count": 11,
     "metadata": {},
     "output_type": "execute_result"
    }
   ],
   "source": [
    "def add(a, b):\n",
    "    return a + b\n",
    "add(1, 2)"
   ]
  },
  {
   "cell_type": "code",
   "execution_count": 14,
   "id": "603c7d6f",
   "metadata": {},
   "outputs": [
    {
     "name": "stdout",
     "output_type": "stream",
     "text": [
      "[1, 2, 3, 4]\n"
     ]
    }
   ],
   "source": [
    "num_lst = [1, 2, 3]\n",
    "\n",
    "def append_number(n):\n",
    "    num_lst.append(n)\n",
    "    \n",
    "append_number(4)\n",
    "print(num_lst)"
   ]
  }
 ],
 "metadata": {
  "kernelspec": {
   "display_name": "Python 3 (ipykernel)",
   "language": "python",
   "name": "python3"
  },
  "language_info": {
   "codemirror_mode": {
    "name": "ipython",
    "version": 3
   },
   "file_extension": ".py",
   "mimetype": "text/x-python",
   "name": "python",
   "nbconvert_exporter": "python",
   "pygments_lexer": "ipython3",
   "version": "3.11.5"
  },
  "toc": {
   "base_numbering": 1,
   "nav_menu": {},
   "number_sections": true,
   "sideBar": true,
   "skip_h1_title": false,
   "title_cell": "Table of Contents",
   "title_sidebar": "Contents",
   "toc_cell": false,
   "toc_position": {
    "height": "calc(100% - 180px)",
    "left": "10px",
    "top": "150px",
    "width": "376.758px"
   },
   "toc_section_display": true,
   "toc_window_display": true
  }
 },
 "nbformat": 4,
 "nbformat_minor": 5
}
