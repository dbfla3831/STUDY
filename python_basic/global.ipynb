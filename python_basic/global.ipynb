{
 "cells": [
  {
   "cell_type": "markdown",
   "id": "4aacdd45",
   "metadata": {},
   "source": [
    "# global 사용하기"
   ]
  },
  {
   "cell_type": "markdown",
   "id": "e3ba2962",
   "metadata": {},
   "source": [
    "## 변수의 사용 범위 알아보기"
   ]
  },
  {
   "cell_type": "code",
   "execution_count": 95,
   "id": "55e0852b",
   "metadata": {},
   "outputs": [
    {
     "name": "stdout",
     "output_type": "stream",
     "text": [
      "10\n",
      "10\n"
     ]
    }
   ],
   "source": [
    "x = 10 # 전역 변수\n",
    "\n",
    "def foo():\n",
    "    print(x) # 전역 변수 출력\n",
    "    \n",
    "foo()\n",
    "print(x) # 전역 변수 출력"
   ]
  },
  {
   "cell_type": "code",
   "execution_count": 1,
   "id": "2a86fa68",
   "metadata": {},
   "outputs": [
    {
     "name": "stdout",
     "output_type": "stream",
     "text": [
      "10\n"
     ]
    },
    {
     "ename": "NameError",
     "evalue": "name 'x' is not defined",
     "output_type": "error",
     "traceback": [
      "\u001b[1;31m---------------------------------------------------------------------------\u001b[0m",
      "\u001b[1;31mNameError\u001b[0m                                 Traceback (most recent call last)",
      "Cell \u001b[1;32mIn[1], line 6\u001b[0m\n\u001b[0;32m      3\u001b[0m     \u001b[38;5;28mprint\u001b[39m(x) \u001b[38;5;66;03m# foo의 지역 변수 출력\u001b[39;00m\n\u001b[0;32m      5\u001b[0m foo()\n\u001b[1;32m----> 6\u001b[0m \u001b[38;5;28mprint\u001b[39m(x)\n",
      "\u001b[1;31mNameError\u001b[0m: name 'x' is not defined"
     ]
    }
   ],
   "source": [
    "def foo():\n",
    "    x = 10 # foo의 지역 변수\n",
    "    print(x) # foo의 지역 변수 출력\n",
    "    \n",
    "foo()\n",
    "print(x) # 에러 : foo의 지역 변수는 출력할 수 없음"
   ]
  },
  {
   "cell_type": "markdown",
   "id": "a334b8dd",
   "metadata": {},
   "source": [
    "### 함수 안에서 전역 변수 변경"
   ]
  },
  {
   "cell_type": "code",
   "execution_count": 2,
   "id": "260a8f75",
   "metadata": {},
   "outputs": [
    {
     "name": "stdout",
     "output_type": "stream",
     "text": [
      "20\n",
      "10\n"
     ]
    }
   ],
   "source": [
    "x = 10 # 전역 변수\n",
    "def foo():\n",
    "    x = 20 # foo의 지역 변수\n",
    "    print(x) # foo의 지역 변수 출력\n",
    "    \n",
    "foo()\n",
    "print(x) # 전역 변수 출력"
   ]
  },
  {
   "cell_type": "code",
   "execution_count": 1,
   "id": "4c9f454a",
   "metadata": {},
   "outputs": [
    {
     "name": "stdout",
     "output_type": "stream",
     "text": [
      "20\n",
      "20\n"
     ]
    }
   ],
   "source": [
    "x = 10 # 전역 변수\n",
    "def foo():\n",
    "    global x # 진역 변수 x를 사용하겠다고 설정\n",
    "    x = 20 # x는 전역 변수\n",
    "    print(x) # 전역 변수 출력\n",
    "    \n",
    "foo()\n",
    "print(x) # 전역 변수 출력"
   ]
  },
  {
   "cell_type": "markdown",
   "id": "e6550640",
   "metadata": {},
   "source": [
    "## 함수 안에서 함수 만들기"
   ]
  },
  {
   "cell_type": "code",
   "execution_count": 2,
   "id": "6406b960",
   "metadata": {},
   "outputs": [
    {
     "name": "stdout",
     "output_type": "stream",
     "text": [
      "hello, world\n"
     ]
    }
   ],
   "source": [
    "def print_hello():\n",
    "    hello = 'hello, world'\n",
    "    \n",
    "    def print_message():\n",
    "        print(hello)\n",
    "        \n",
    "    print_message() # 실행X\n",
    "    \n",
    "print_hello()"
   ]
  },
  {
   "cell_type": "markdown",
   "id": "1c8dfa9c",
   "metadata": {},
   "source": [
    "### 지역 변수 변경"
   ]
  },
  {
   "cell_type": "code",
   "execution_count": 5,
   "id": "d637e37a",
   "metadata": {},
   "outputs": [
    {
     "name": "stdout",
     "output_type": "stream",
     "text": [
      "10\n"
     ]
    }
   ],
   "source": [
    "def A():\n",
    "    x = 10\n",
    "    \n",
    "    def B():\n",
    "        x = 20\n",
    "        \n",
    "    B()\n",
    "    print(x)\n",
    "    \n",
    "A()"
   ]
  },
  {
   "cell_type": "code",
   "execution_count": 6,
   "id": "8f922748",
   "metadata": {},
   "outputs": [
    {
     "name": "stdout",
     "output_type": "stream",
     "text": [
      "20\n"
     ]
    }
   ],
   "source": [
    "def A():\n",
    "    x = 10\n",
    "    \n",
    "    def B():\n",
    "        nonlocal x\n",
    "        x = 20\n",
    "        \n",
    "    B()\n",
    "    print(x)\n",
    "    \n",
    "A()"
   ]
  },
  {
   "cell_type": "markdown",
   "id": "3529e45e",
   "metadata": {},
   "source": [
    "### nonlocal이 변수를 찾는 순서"
   ]
  },
  {
   "cell_type": "code",
   "execution_count": 7,
   "id": "e58dbedb",
   "metadata": {},
   "outputs": [
    {
     "name": "stdout",
     "output_type": "stream",
     "text": [
      "50\n",
      "400\n"
     ]
    }
   ],
   "source": [
    "def A():\n",
    "    x = 10\n",
    "    y = 100\n",
    "    \n",
    "    def B():\n",
    "        x = 20\n",
    "        \n",
    "        def C():\n",
    "            \n",
    "            nonlocal x\n",
    "            nonlocal y\n",
    "            x = x + 30\n",
    "            y = y + 300\n",
    "            print(x)\n",
    "            print(y)\n",
    "        C()\n",
    "    B()\n",
    "A()"
   ]
  },
  {
   "cell_type": "markdown",
   "id": "e720635d",
   "metadata": {},
   "source": [
    "### global로 전역 변수 사용하기"
   ]
  },
  {
   "cell_type": "code",
   "execution_count": 8,
   "id": "d1c8217c",
   "metadata": {},
   "outputs": [
    {
     "name": "stdout",
     "output_type": "stream",
     "text": [
      "31\n"
     ]
    }
   ],
   "source": [
    "x = 1\n",
    "\n",
    "def A():\n",
    "    x = 10\n",
    "    \n",
    "    def B():\n",
    "        x = 20\n",
    "        \n",
    "        def C():\n",
    "            global x \n",
    "            x = x + 30\n",
    "            print(x)\n",
    "        C()\n",
    "    B()\n",
    "A()"
   ]
  },
  {
   "cell_type": "markdown",
   "id": "a3466b9c",
   "metadata": {},
   "source": [
    "## global 사용하기"
   ]
  },
  {
   "cell_type": "code",
   "execution_count": 21,
   "id": "dbcec0b5",
   "metadata": {},
   "outputs": [
    {
     "name": "stdout",
     "output_type": "stream",
     "text": [
      "8 11 14 17 20\n"
     ]
    }
   ],
   "source": [
    "def calc():\n",
    "    a = 3\n",
    "    b = 5\n",
    "    def mul_add(x):\n",
    "        return a * x + b\n",
    "    return mul_add\n",
    "\n",
    "c = calc()\n",
    "print(c(1), c(2), c(3), c(4), c(5))"
   ]
  },
  {
   "cell_type": "markdown",
   "id": "f51eed34",
   "metadata": {},
   "source": [
    "### lambda로 global 만들기"
   ]
  },
  {
   "cell_type": "code",
   "execution_count": 14,
   "id": "b53f04ff",
   "metadata": {},
   "outputs": [
    {
     "name": "stdout",
     "output_type": "stream",
     "text": [
      "8 11 14 17 20\n"
     ]
    }
   ],
   "source": [
    "def calc():\n",
    "    a = 3\n",
    "    b = 5\n",
    "    return lambda x : a * x + b\n",
    "\n",
    "c = calc()\n",
    "print(c(1), c(2), c(3), c(4), c(5))"
   ]
  },
  {
   "cell_type": "markdown",
   "id": "f09812a5",
   "metadata": {},
   "source": [
    "### global의 지역 변수 변경하기"
   ]
  },
  {
   "cell_type": "code",
   "execution_count": 15,
   "id": "2f00d0dc",
   "metadata": {},
   "outputs": [
    {
     "name": "stdout",
     "output_type": "stream",
     "text": [
      "8\n",
      "19\n",
      "33\n"
     ]
    }
   ],
   "source": [
    "def calc():\n",
    "    a = 3\n",
    "    b = 5\n",
    "    total = 0\n",
    "    def mul_add(x):\n",
    "        nonlocal total\n",
    "        total = total + a * x + b\n",
    "        print(total)\n",
    "    return mul_add\n",
    "\n",
    "c = calc()\n",
    "\n",
    "c(1)\n",
    "c(2)\n",
    "c(3)"
   ]
  }
 ],
 "metadata": {
  "kernelspec": {
   "display_name": "Python 3 (ipykernel)",
   "language": "python",
   "name": "python3"
  },
  "language_info": {
   "codemirror_mode": {
    "name": "ipython",
    "version": 3
   },
   "file_extension": ".py",
   "mimetype": "text/x-python",
   "name": "python",
   "nbconvert_exporter": "python",
   "pygments_lexer": "ipython3",
   "version": "3.11.5"
  },
  "toc": {
   "base_numbering": 1,
   "nav_menu": {},
   "number_sections": true,
   "sideBar": true,
   "skip_h1_title": false,
   "title_cell": "Table of Contents",
   "title_sidebar": "Contents",
   "toc_cell": false,
   "toc_position": {
    "height": "calc(100% - 180px)",
    "left": "10px",
    "top": "150px",
    "width": "376.758px"
   },
   "toc_section_display": true,
   "toc_window_display": true
  }
 },
 "nbformat": 4,
 "nbformat_minor": 5
}
