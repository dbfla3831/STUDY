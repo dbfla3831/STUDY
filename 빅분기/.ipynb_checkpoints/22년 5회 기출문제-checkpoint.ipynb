{
 "cells": [
  {
   "cell_type": "code",
   "execution_count": null,
   "metadata": {
    "colab": {
     "base_uri": "https://localhost:8080/"
    },
    "executionInfo": {
     "elapsed": 1622,
     "status": "ok",
     "timestamp": 1700457105390,
     "user": {
      "displayName": "김유림",
      "userId": "09242611142827377637"
     },
     "user_tz": -540
    },
    "id": "9E8X_SGJaYkM",
    "outputId": "8a0d3fd4-5241-4659-ee17-5bd510bc73fd"
   },
   "outputs": [
    {
     "name": "stdout",
     "output_type": "stream",
     "text": [
      "Cloning into 'yemoonsaBigdata'...\n",
      "remote: Enumerating objects: 637, done.\u001b[K\n",
      "remote: Counting objects: 100% (274/274), done.\u001b[K\n",
      "remote: Compressing objects: 100% (165/165), done.\u001b[K\n",
      "remote: Total 637 (delta 136), reused 184 (delta 109), pack-reused 363\u001b[K\n",
      "Receiving objects: 100% (637/637), 10.76 MiB | 19.47 MiB/s, done.\n",
      "Resolving deltas: 100% (321/321), done.\n"
     ]
    }
   ],
   "source": [
    "!git clone https://github.com/AnalyticsKnight/yemoonsaBigdata/"
   ]
  },
  {
   "cell_type": "markdown",
   "metadata": {
    "id": "bEul-_2zagxN"
   },
   "source": [
    "# 작업형 제 1유형"
   ]
  },
  {
   "cell_type": "markdown",
   "metadata": {
    "id": "9r10m_mxakp-"
   },
   "source": [
    "## 주어진 trash bag 데이터 세트는 지역별 종량제 봉투 가격을 나타낸다. 가격 컬럼은 각 행의 조건을 만족하는 해당 용량의 종량제 봉투가 존재하면 가격을 값으로, 존재하지 않으면 0을 값으로 갖는다. 이때 용도가 '음식물쓰래기'이고 사용 대상이 '가정용'인 2l 봉투 가격의 평균을 소수점을 버린 후 정수로 출력하시오"
   ]
  },
  {
   "cell_type": "code",
   "execution_count": null,
   "metadata": {},
   "outputs": [],
   "source": [
    "import pandas as pd"
   ]
  },
  {
   "cell_type": "code",
   "execution_count": null,
   "metadata": {
    "id": "JVNMFhWHcoLC"
   },
   "outputs": [],
   "source": [
    "df = pd.read_csv('yemoonsaBigdata/datasets/Part3/501_trash_bag.csv', encoding = 'euc-kr')\n",
    "df.head(3)"
   ]
  },
  {
   "cell_type": "code",
   "execution_count": null,
   "metadata": {
    "id": "Gm8J8mOYdKcl"
   },
   "outputs": [],
   "source": [
    "print(df.columns)"
   ]
  },
  {
   "cell_type": "code",
   "execution_count": null,
   "metadata": {
    "id": "ES7Zl-Cuagk8"
   },
   "outputs": [],
   "source": [
    "res_df = df[(df['용도'] == '음식물쓰레기') & (df['사용대상'] == '가정용')]\n",
    "res_df = res_df[res_df['2L가격']!=0]\n",
    "res = res_df['2L가격'].mean()\n",
    "print(int(res))"
   ]
  },
  {
   "cell_type": "markdown",
   "metadata": {
    "id": "yxVzYmU5a8at"
   },
   "source": [
    "## BMI 지수는 몸무게를 키(m)의 제곱으로 나누어 구하며, BMI 값에 따른 비만도 분류는 다음과 같다\n",
    "\n",
    "18.5 미만 : 저체중\n",
    "\n",
    "18.5 이상 23미만 : 정상\n",
    "\n",
    "23 이상 25 미만 : 과체중\n",
    "\n",
    "25 이상 30미만 : 경도비만\n",
    "\n",
    "30 이상 : 중등도비만\n",
    "\n",
    "이때 주어진 bmi 데이터 세트에서 비만도가 정상에 속하는 인원 수와 과체중에 속하는 인원 수의 차이를 정수로 출력하시오"
   ]
  },
  {
   "cell_type": "code",
   "execution_count": null,
   "metadata": {
    "id": "syyTXjIUdnOi"
   },
   "outputs": [],
   "source": [
    "import pandas as pd\n",
    "df = pd.read_csv('yemoonsaBigdata/datasets/Part3/502_bmi.csv')\n",
    "df.head(2)"
   ]
  },
  {
   "cell_type": "code",
   "execution_count": null,
   "metadata": {
    "id": "L4lvVGZUdvtZ"
   },
   "outputs": [],
   "source": [
    "def label(x):\n",
    "    if x < 18.5:\n",
    "        return '저체중'\n",
    "    elif 18.5 <= x < 23:\n",
    "        return '정상'\n",
    "    elif 23 <= x < 25:\n",
    "        return '과체중'\n",
    "    elif 25 <= x < 30:\n",
    "        return '경도비만'\n",
    "    elif 30 <= x:\n",
    "        return '중등도비만'"
   ]
  },
  {
   "cell_type": "code",
   "execution_count": null,
   "metadata": {
    "id": "Ox_Zva3iagiF"
   },
   "outputs": [],
   "source": [
    "df['bmi'] = df['Weight'] / ((df['Height']/100) ** 2)\n",
    "df['class'] = df['bmi'].apply(label)\n",
    "res_gb = df['class'].value_counts()\n",
    "res = res_gb['정상'] - res_gb['과체중']\n",
    "print(res)"
   ]
  },
  {
   "cell_type": "markdown",
   "metadata": {
    "id": "fhDL-xAdbdXP"
   },
   "source": [
    "## 주어진 students 데이터 세트는 각 학교의 학년 별 총 전입학생, 총 전출학생, 전체 학생 수를 나타낸다. 순 전입학생 수는 총 전입 학생 수에서 총 전출학생 수를 빼서 구할 수 있다. 순 전입학생이 가장 많은 학교의 전체 학생 수를 구하시오."
   ]
  },
  {
   "cell_type": "code",
   "execution_count": null,
   "metadata": {
    "id": "PqZp70Wegene"
   },
   "outputs": [],
   "source": [
    "import pandas as pd\n",
    "df = pd.read_csv('yemoonsaBigdata/datasets/Part3/503_students.csv', encoding = 'euc-kr')\n",
    "print(df.head(2))"
   ]
  },
  {
   "cell_type": "code",
   "execution_count": null,
   "metadata": {
    "id": "Dp8k-I5Zgtfz"
   },
   "outputs": [],
   "source": [
    "df['순 전입 학생 수'] = df['총 전입학생'] - df['총 전출학생']\n",
    "res_gb = df.groupby('학교')['순 전입 학생 수'].sum().sort_values(ascending = False)\n",
    "res = df[df['학교'] == res_gb.index[0]]['전체 학생 수'].sum()\n",
    "print(res)"
   ]
  },
  {
   "cell_type": "markdown",
   "metadata": {
    "id": "qRH21bkIbyQC"
   },
   "source": [
    "# 작업형 제 2유형"
   ]
  },
  {
   "cell_type": "markdown",
   "metadata": {
    "id": "NpdiSIGhb3BQ"
   },
   "source": [
    "## 다음은 Used car 데이터 세트이다. 주어진 훈련 데이터 세트를 활용하여 중고차의 판매 가격을 예측하고 해당 예측 결과를 csv 파일로 제출하시오. 예측한 예측값의 rmse 평가 지표 값을 이용\n",
    "\n",
    "id : 중고차 ID 번호\n",
    "\n",
    "model : 차량 모델명\n",
    "\n",
    "year : 차량 등록 연도\n",
    "\n",
    "transmission : 변속기 종류\n",
    "\n",
    "mileage : 주행거리\n",
    "\n",
    "fuelType : 엔진 연료 종류\n",
    "\n",
    "tax : 도로세\n",
    "\n",
    "mpg : 갤런당 마일, 연비\n",
    "\n",
    "engineSize : 엔진 크기\n",
    "\n",
    "price : 가격(파운드)"
   ]
  },
  {
   "cell_type": "code",
   "execution_count": 103,
   "metadata": {
    "executionInfo": {
     "elapsed": 4,
     "status": "ok",
     "timestamp": 1700467073419,
     "user": {
      "displayName": "김유림",
      "userId": "09242611142827377637"
     },
     "user_tz": -540
    },
    "id": "oXlf9Dc1agc3"
   },
   "outputs": [],
   "source": [
    "import pandas as pd\n",
    "\n",
    "X_test = pd.read_csv('yemoonsaBigdata/datasets/Part3/504_x_test.csv')\n",
    "X_train = pd.read_csv('yemoonsaBigdata/datasets/Part3/504_x_train.csv')\n",
    "y_train = pd.read_csv('yemoonsaBigdata/datasets/Part3/504_y_train.csv')"
   ]
  },
  {
   "cell_type": "code",
   "execution_count": 104,
   "metadata": {
    "executionInfo": {
     "elapsed": 1,
     "status": "ok",
     "timestamp": 1700467074281,
     "user": {
      "displayName": "김유림",
      "userId": "09242611142827377637"
     },
     "user_tz": -540
    },
    "id": "ilz7ezmRjxQ0"
   },
   "outputs": [],
   "source": [
    "# drop(id), null(X), 이상치(X), 명목형\n",
    "#drop\n",
    "X_test = X_test.drop('id', axis = 1)\n",
    "X_train = X_train.drop('id', axis = 1)\n",
    "y_train = y_train.drop('id', axis = 1)"
   ]
  },
  {
   "cell_type": "code",
   "execution_count": 105,
   "metadata": {
    "executionInfo": {
     "elapsed": 2,
     "status": "ok",
     "timestamp": 1700467075513,
     "user": {
      "displayName": "김유림",
      "userId": "09242611142827377637"
     },
     "user_tz": -540
    },
    "id": "piPcBswilU0a"
   },
   "outputs": [],
   "source": [
    "col_num = ['year', 'mileage', 'tax', 'mpg', 'engineSize']\n",
    "col_cat = ['model', 'transmission', 'fuelType']\n",
    "col_y = ['price']"
   ]
  },
  {
   "cell_type": "code",
   "execution_count": 94,
   "metadata": {
    "executionInfo": {
     "elapsed": 2,
     "status": "ok",
     "timestamp": 1700467026891,
     "user": {
      "displayName": "김유림",
      "userId": "09242611142827377637"
     },
     "user_tz": -540
    },
    "id": "nln5c15vjxOP"
   },
   "outputs": [],
   "source": [
    "train = pd.concat([X_train, X_test], axis = 0)"
   ]
  },
  {
   "cell_type": "code",
   "execution_count": 66,
   "metadata": {
    "colab": {
     "base_uri": "https://localhost:8080/",
     "height": 423
    },
    "executionInfo": {
     "elapsed": 6,
     "status": "ok",
     "timestamp": 1700466729779,
     "user": {
      "displayName": "김유림",
      "userId": "09242611142827377637"
     },
     "user_tz": -540
    },
    "id": "aVVnPvZ7Jgr9",
    "outputId": "6215da02-ce88-4f03-94ed-7b48e7cb35ae"
   },
   "outputs": [
    {
     "data": {
      "text/html": [
       "\n",
       "  <div id=\"df-2771ac9c-d59d-42fb-9ba1-3401dd0edf8a\" class=\"colab-df-container\">\n",
       "    <div>\n",
       "<style scoped>\n",
       "    .dataframe tbody tr th:only-of-type {\n",
       "        vertical-align: middle;\n",
       "    }\n",
       "\n",
       "    .dataframe tbody tr th {\n",
       "        vertical-align: top;\n",
       "    }\n",
       "\n",
       "    .dataframe thead th {\n",
       "        text-align: right;\n",
       "    }\n",
       "</style>\n",
       "<table border=\"1\" class=\"dataframe\">\n",
       "  <thead>\n",
       "    <tr style=\"text-align: right;\">\n",
       "      <th></th>\n",
       "      <th>model</th>\n",
       "      <th>year</th>\n",
       "      <th>transmission</th>\n",
       "      <th>mileage</th>\n",
       "      <th>fuelType</th>\n",
       "      <th>tax</th>\n",
       "      <th>mpg</th>\n",
       "      <th>engineSize</th>\n",
       "    </tr>\n",
       "  </thead>\n",
       "  <tbody>\n",
       "    <tr>\n",
       "      <th>0</th>\n",
       "      <td>A1</td>\n",
       "      <td>2019</td>\n",
       "      <td>Automatic</td>\n",
       "      <td>3500</td>\n",
       "      <td>Petrol</td>\n",
       "      <td>145</td>\n",
       "      <td>40.9</td>\n",
       "      <td>2.0</td>\n",
       "    </tr>\n",
       "    <tr>\n",
       "      <th>1</th>\n",
       "      <td>RS4</td>\n",
       "      <td>2020</td>\n",
       "      <td>Semi-Auto</td>\n",
       "      <td>2500</td>\n",
       "      <td>Petrol</td>\n",
       "      <td>145</td>\n",
       "      <td>28.8</td>\n",
       "      <td>2.9</td>\n",
       "    </tr>\n",
       "    <tr>\n",
       "      <th>2</th>\n",
       "      <td>A8</td>\n",
       "      <td>2019</td>\n",
       "      <td>Semi-Auto</td>\n",
       "      <td>500</td>\n",
       "      <td>Diesel</td>\n",
       "      <td>145</td>\n",
       "      <td>40.4</td>\n",
       "      <td>3.0</td>\n",
       "    </tr>\n",
       "    <tr>\n",
       "      <th>3</th>\n",
       "      <td>Q5</td>\n",
       "      <td>2019</td>\n",
       "      <td>Semi-Auto</td>\n",
       "      <td>5089</td>\n",
       "      <td>Diesel</td>\n",
       "      <td>150</td>\n",
       "      <td>38.2</td>\n",
       "      <td>2.0</td>\n",
       "    </tr>\n",
       "    <tr>\n",
       "      <th>4</th>\n",
       "      <td>A5</td>\n",
       "      <td>2020</td>\n",
       "      <td>Semi-Auto</td>\n",
       "      <td>4951</td>\n",
       "      <td>Diesel</td>\n",
       "      <td>145</td>\n",
       "      <td>51.4</td>\n",
       "      <td>2.0</td>\n",
       "    </tr>\n",
       "    <tr>\n",
       "      <th>...</th>\n",
       "      <td>...</td>\n",
       "      <td>...</td>\n",
       "      <td>...</td>\n",
       "      <td>...</td>\n",
       "      <td>...</td>\n",
       "      <td>...</td>\n",
       "      <td>...</td>\n",
       "      <td>...</td>\n",
       "    </tr>\n",
       "    <tr>\n",
       "      <th>3195</th>\n",
       "      <td>A1</td>\n",
       "      <td>2018</td>\n",
       "      <td>Manual</td>\n",
       "      <td>15000</td>\n",
       "      <td>Petrol</td>\n",
       "      <td>150</td>\n",
       "      <td>54.3</td>\n",
       "      <td>1.4</td>\n",
       "    </tr>\n",
       "    <tr>\n",
       "      <th>3196</th>\n",
       "      <td>A1</td>\n",
       "      <td>2016</td>\n",
       "      <td>Manual</td>\n",
       "      <td>29793</td>\n",
       "      <td>Diesel</td>\n",
       "      <td>0</td>\n",
       "      <td>80.7</td>\n",
       "      <td>1.6</td>\n",
       "    </tr>\n",
       "    <tr>\n",
       "      <th>3197</th>\n",
       "      <td>A6</td>\n",
       "      <td>2017</td>\n",
       "      <td>Manual</td>\n",
       "      <td>27554</td>\n",
       "      <td>Diesel</td>\n",
       "      <td>145</td>\n",
       "      <td>61.4</td>\n",
       "      <td>2.0</td>\n",
       "    </tr>\n",
       "    <tr>\n",
       "      <th>3198</th>\n",
       "      <td>A3</td>\n",
       "      <td>2019</td>\n",
       "      <td>Semi-Auto</td>\n",
       "      <td>5711</td>\n",
       "      <td>Petrol</td>\n",
       "      <td>145</td>\n",
       "      <td>41.5</td>\n",
       "      <td>1.5</td>\n",
       "    </tr>\n",
       "    <tr>\n",
       "      <th>3199</th>\n",
       "      <td>A3</td>\n",
       "      <td>2017</td>\n",
       "      <td>Manual</td>\n",
       "      <td>9676</td>\n",
       "      <td>Petrol</td>\n",
       "      <td>145</td>\n",
       "      <td>53.3</td>\n",
       "      <td>1.5</td>\n",
       "    </tr>\n",
       "  </tbody>\n",
       "</table>\n",
       "<p>10668 rows × 8 columns</p>\n",
       "</div>\n",
       "    <div class=\"colab-df-buttons\">\n",
       "\n",
       "  <div class=\"colab-df-container\">\n",
       "    <button class=\"colab-df-convert\" onclick=\"convertToInteractive('df-2771ac9c-d59d-42fb-9ba1-3401dd0edf8a')\"\n",
       "            title=\"Convert this dataframe to an interactive table.\"\n",
       "            style=\"display:none;\">\n",
       "\n",
       "  <svg xmlns=\"http://www.w3.org/2000/svg\" height=\"24px\" viewBox=\"0 -960 960 960\">\n",
       "    <path d=\"M120-120v-720h720v720H120Zm60-500h600v-160H180v160Zm220 220h160v-160H400v160Zm0 220h160v-160H400v160ZM180-400h160v-160H180v160Zm440 0h160v-160H620v160ZM180-180h160v-160H180v160Zm440 0h160v-160H620v160Z\"/>\n",
       "  </svg>\n",
       "    </button>\n",
       "\n",
       "  <style>\n",
       "    .colab-df-container {\n",
       "      display:flex;\n",
       "      gap: 12px;\n",
       "    }\n",
       "\n",
       "    .colab-df-convert {\n",
       "      background-color: #E8F0FE;\n",
       "      border: none;\n",
       "      border-radius: 50%;\n",
       "      cursor: pointer;\n",
       "      display: none;\n",
       "      fill: #1967D2;\n",
       "      height: 32px;\n",
       "      padding: 0 0 0 0;\n",
       "      width: 32px;\n",
       "    }\n",
       "\n",
       "    .colab-df-convert:hover {\n",
       "      background-color: #E2EBFA;\n",
       "      box-shadow: 0px 1px 2px rgba(60, 64, 67, 0.3), 0px 1px 3px 1px rgba(60, 64, 67, 0.15);\n",
       "      fill: #174EA6;\n",
       "    }\n",
       "\n",
       "    .colab-df-buttons div {\n",
       "      margin-bottom: 4px;\n",
       "    }\n",
       "\n",
       "    [theme=dark] .colab-df-convert {\n",
       "      background-color: #3B4455;\n",
       "      fill: #D2E3FC;\n",
       "    }\n",
       "\n",
       "    [theme=dark] .colab-df-convert:hover {\n",
       "      background-color: #434B5C;\n",
       "      box-shadow: 0px 1px 3px 1px rgba(0, 0, 0, 0.15);\n",
       "      filter: drop-shadow(0px 1px 2px rgba(0, 0, 0, 0.3));\n",
       "      fill: #FFFFFF;\n",
       "    }\n",
       "  </style>\n",
       "\n",
       "    <script>\n",
       "      const buttonEl =\n",
       "        document.querySelector('#df-2771ac9c-d59d-42fb-9ba1-3401dd0edf8a button.colab-df-convert');\n",
       "      buttonEl.style.display =\n",
       "        google.colab.kernel.accessAllowed ? 'block' : 'none';\n",
       "\n",
       "      async function convertToInteractive(key) {\n",
       "        const element = document.querySelector('#df-2771ac9c-d59d-42fb-9ba1-3401dd0edf8a');\n",
       "        const dataTable =\n",
       "          await google.colab.kernel.invokeFunction('convertToInteractive',\n",
       "                                                    [key], {});\n",
       "        if (!dataTable) return;\n",
       "\n",
       "        const docLinkHtml = 'Like what you see? Visit the ' +\n",
       "          '<a target=\"_blank\" href=https://colab.research.google.com/notebooks/data_table.ipynb>data table notebook</a>'\n",
       "          + ' to learn more about interactive tables.';\n",
       "        element.innerHTML = '';\n",
       "        dataTable['output_type'] = 'display_data';\n",
       "        await google.colab.output.renderOutput(dataTable, element);\n",
       "        const docLink = document.createElement('div');\n",
       "        docLink.innerHTML = docLinkHtml;\n",
       "        element.appendChild(docLink);\n",
       "      }\n",
       "    </script>\n",
       "  </div>\n",
       "\n",
       "\n",
       "<div id=\"df-84728094-f782-49c8-af49-3854e284c03b\">\n",
       "  <button class=\"colab-df-quickchart\" onclick=\"quickchart('df-84728094-f782-49c8-af49-3854e284c03b')\"\n",
       "            title=\"Suggest charts\"\n",
       "            style=\"display:none;\">\n",
       "\n",
       "<svg xmlns=\"http://www.w3.org/2000/svg\" height=\"24px\"viewBox=\"0 0 24 24\"\n",
       "     width=\"24px\">\n",
       "    <g>\n",
       "        <path d=\"M19 3H5c-1.1 0-2 .9-2 2v14c0 1.1.9 2 2 2h14c1.1 0 2-.9 2-2V5c0-1.1-.9-2-2-2zM9 17H7v-7h2v7zm4 0h-2V7h2v10zm4 0h-2v-4h2v4z\"/>\n",
       "    </g>\n",
       "</svg>\n",
       "  </button>\n",
       "\n",
       "<style>\n",
       "  .colab-df-quickchart {\n",
       "      --bg-color: #E8F0FE;\n",
       "      --fill-color: #1967D2;\n",
       "      --hover-bg-color: #E2EBFA;\n",
       "      --hover-fill-color: #174EA6;\n",
       "      --disabled-fill-color: #AAA;\n",
       "      --disabled-bg-color: #DDD;\n",
       "  }\n",
       "\n",
       "  [theme=dark] .colab-df-quickchart {\n",
       "      --bg-color: #3B4455;\n",
       "      --fill-color: #D2E3FC;\n",
       "      --hover-bg-color: #434B5C;\n",
       "      --hover-fill-color: #FFFFFF;\n",
       "      --disabled-bg-color: #3B4455;\n",
       "      --disabled-fill-color: #666;\n",
       "  }\n",
       "\n",
       "  .colab-df-quickchart {\n",
       "    background-color: var(--bg-color);\n",
       "    border: none;\n",
       "    border-radius: 50%;\n",
       "    cursor: pointer;\n",
       "    display: none;\n",
       "    fill: var(--fill-color);\n",
       "    height: 32px;\n",
       "    padding: 0;\n",
       "    width: 32px;\n",
       "  }\n",
       "\n",
       "  .colab-df-quickchart:hover {\n",
       "    background-color: var(--hover-bg-color);\n",
       "    box-shadow: 0 1px 2px rgba(60, 64, 67, 0.3), 0 1px 3px 1px rgba(60, 64, 67, 0.15);\n",
       "    fill: var(--button-hover-fill-color);\n",
       "  }\n",
       "\n",
       "  .colab-df-quickchart-complete:disabled,\n",
       "  .colab-df-quickchart-complete:disabled:hover {\n",
       "    background-color: var(--disabled-bg-color);\n",
       "    fill: var(--disabled-fill-color);\n",
       "    box-shadow: none;\n",
       "  }\n",
       "\n",
       "  .colab-df-spinner {\n",
       "    border: 2px solid var(--fill-color);\n",
       "    border-color: transparent;\n",
       "    border-bottom-color: var(--fill-color);\n",
       "    animation:\n",
       "      spin 1s steps(1) infinite;\n",
       "  }\n",
       "\n",
       "  @keyframes spin {\n",
       "    0% {\n",
       "      border-color: transparent;\n",
       "      border-bottom-color: var(--fill-color);\n",
       "      border-left-color: var(--fill-color);\n",
       "    }\n",
       "    20% {\n",
       "      border-color: transparent;\n",
       "      border-left-color: var(--fill-color);\n",
       "      border-top-color: var(--fill-color);\n",
       "    }\n",
       "    30% {\n",
       "      border-color: transparent;\n",
       "      border-left-color: var(--fill-color);\n",
       "      border-top-color: var(--fill-color);\n",
       "      border-right-color: var(--fill-color);\n",
       "    }\n",
       "    40% {\n",
       "      border-color: transparent;\n",
       "      border-right-color: var(--fill-color);\n",
       "      border-top-color: var(--fill-color);\n",
       "    }\n",
       "    60% {\n",
       "      border-color: transparent;\n",
       "      border-right-color: var(--fill-color);\n",
       "    }\n",
       "    80% {\n",
       "      border-color: transparent;\n",
       "      border-right-color: var(--fill-color);\n",
       "      border-bottom-color: var(--fill-color);\n",
       "    }\n",
       "    90% {\n",
       "      border-color: transparent;\n",
       "      border-bottom-color: var(--fill-color);\n",
       "    }\n",
       "  }\n",
       "</style>\n",
       "\n",
       "  <script>\n",
       "    async function quickchart(key) {\n",
       "      const quickchartButtonEl =\n",
       "        document.querySelector('#' + key + ' button');\n",
       "      quickchartButtonEl.disabled = true;  // To prevent multiple clicks.\n",
       "      quickchartButtonEl.classList.add('colab-df-spinner');\n",
       "      try {\n",
       "        const charts = await google.colab.kernel.invokeFunction(\n",
       "            'suggestCharts', [key], {});\n",
       "      } catch (error) {\n",
       "        console.error('Error during call to suggestCharts:', error);\n",
       "      }\n",
       "      quickchartButtonEl.classList.remove('colab-df-spinner');\n",
       "      quickchartButtonEl.classList.add('colab-df-quickchart-complete');\n",
       "    }\n",
       "    (() => {\n",
       "      let quickchartButtonEl =\n",
       "        document.querySelector('#df-84728094-f782-49c8-af49-3854e284c03b button');\n",
       "      quickchartButtonEl.style.display =\n",
       "        google.colab.kernel.accessAllowed ? 'block' : 'none';\n",
       "    })();\n",
       "  </script>\n",
       "</div>\n",
       "    </div>\n",
       "  </div>\n"
      ],
      "text/plain": [
       "     model  year transmission  mileage fuelType  tax   mpg  engineSize\n",
       "0       A1  2019    Automatic     3500   Petrol  145  40.9         2.0\n",
       "1      RS4  2020    Semi-Auto     2500   Petrol  145  28.8         2.9\n",
       "2       A8  2019    Semi-Auto      500   Diesel  145  40.4         3.0\n",
       "3       Q5  2019    Semi-Auto     5089   Diesel  150  38.2         2.0\n",
       "4       A5  2020    Semi-Auto     4951   Diesel  145  51.4         2.0\n",
       "...    ...   ...          ...      ...      ...  ...   ...         ...\n",
       "3195    A1  2018       Manual    15000   Petrol  150  54.3         1.4\n",
       "3196    A1  2016       Manual    29793   Diesel    0  80.7         1.6\n",
       "3197    A6  2017       Manual    27554   Diesel  145  61.4         2.0\n",
       "3198    A3  2019    Semi-Auto     5711   Petrol  145  41.5         1.5\n",
       "3199    A3  2017       Manual     9676   Petrol  145  53.3         1.5\n",
       "\n",
       "[10668 rows x 8 columns]"
      ]
     },
     "execution_count": 66,
     "metadata": {},
     "output_type": "execute_result"
    }
   ],
   "source": [
    "train"
   ]
  },
  {
   "cell_type": "code",
   "execution_count": 85,
   "metadata": {
    "colab": {
     "base_uri": "https://localhost:8080/"
    },
    "executionInfo": {
     "elapsed": 3,
     "status": "ok",
     "timestamp": 1700466945022,
     "user": {
      "displayName": "김유림",
      "userId": "09242611142827377637"
     },
     "user_tz": -540
    },
    "id": "eBgzBvClujy-",
    "outputId": "fcf2d810-3aa1-4c49-8a94-2a1da05d4d77"
   },
   "outputs": [
    {
     "data": {
      "text/plain": [
       "model           26\n",
       "transmission     3\n",
       "fuelType         3\n",
       "dtype: int64"
      ]
     },
     "execution_count": 85,
     "metadata": {},
     "output_type": "execute_result"
    }
   ],
   "source": [
    "train[col_cat].nunique()"
   ]
  },
  {
   "cell_type": "code",
   "execution_count": null,
   "metadata": {
    "id": "WdeUlPQMvDpO"
   },
   "outputs": [],
   "source": []
  },
  {
   "cell_type": "code",
   "execution_count": 95,
   "metadata": {
    "executionInfo": {
     "elapsed": 2,
     "status": "ok",
     "timestamp": 1700467028654,
     "user": {
      "displayName": "김유림",
      "userId": "09242611142827377637"
     },
     "user_tz": -540
    },
    "id": "DpWhpsC3lsD5"
   },
   "outputs": [],
   "source": [
    "# 명목형\n",
    "from sklearn.preprocessing import OneHotEncoder\n",
    "\n",
    "col_ohe = ['transmission', 'fuelType']\n",
    "\n",
    "ohe = OneHotEncoder()\n",
    "ohe.fit(train[col_ohe])\n",
    "\n",
    "X_train_ohe = ohe.transform(X_train[col_ohe])\n",
    "X_test_ohe = ohe.transform(X_test[col_ohe])\n",
    "\n",
    "X_train_fin = pd.DataFrame(X_train_ohe.todense(), columns = ohe.get_feature_names_out())\n",
    "X_test_fin = pd.DataFrame(X_test_ohe.todense(), columns = ohe.get_feature_names_out())"
   ]
  },
  {
   "cell_type": "code",
   "execution_count": 96,
   "metadata": {
    "executionInfo": {
     "elapsed": 1,
     "status": "ok",
     "timestamp": 1700467029744,
     "user": {
      "displayName": "김유림",
      "userId": "09242611142827377637"
     },
     "user_tz": -540
    },
    "id": "ZFZtWLh0agaA"
   },
   "outputs": [],
   "source": [
    "X_train_res = pd.concat([X_train[col_num], X_train_fin], axis = 1)\n",
    "X_test_res = pd.concat([X_test[col_num], X_test_fin], axis = 1)\n"
   ]
  },
  {
   "cell_type": "code",
   "execution_count": 97,
   "metadata": {
    "executionInfo": {
     "elapsed": 6,
     "status": "ok",
     "timestamp": 1700467030032,
     "user": {
      "displayName": "김유림",
      "userId": "09242611142827377637"
     },
     "user_tz": -540
    },
    "id": "kF2T_NGWagXr"
   },
   "outputs": [],
   "source": [
    "from sklearn.model_selection import train_test_split\n",
    "\n",
    "X_tr, X_val, y_tr, y_val = train_test_split(X_train_res, y_train, test_size = 0.3)"
   ]
  },
  {
   "cell_type": "code",
   "execution_count": 98,
   "metadata": {
    "executionInfo": {
     "elapsed": 2,
     "status": "ok",
     "timestamp": 1700467030334,
     "user": {
      "displayName": "김유림",
      "userId": "09242611142827377637"
     },
     "user_tz": -540
    },
    "id": "ff4qivZioKSZ"
   },
   "outputs": [],
   "source": [
    "from sklearn.preprocessing import MinMaxScaler\n",
    "\n",
    "scaler = MinMaxScaler()\n",
    "scaler.fit(X_tr[col_num])\n",
    "\n",
    "X_tr[col_num] = scaler.transform(X_tr[col_num])\n",
    "X_val[col_num] = scaler.transform(X_val[col_num])\n",
    "X_test_res[col_num] = scaler.transform(X_test_res[col_num])"
   ]
  },
  {
   "cell_type": "code",
   "execution_count": 99,
   "metadata": {
    "colab": {
     "base_uri": "https://localhost:8080/"
    },
    "executionInfo": {
     "elapsed": 1963,
     "status": "ok",
     "timestamp": 1700467036196,
     "user": {
      "displayName": "김유림",
      "userId": "09242611142827377637"
     },
     "user_tz": -540
    },
    "id": "fZCrNCUfoKPS",
    "outputId": "6db316a7-1858-4e31-d2e9-7adeba89bcce"
   },
   "outputs": [
    {
     "name": "stderr",
     "output_type": "stream",
     "text": [
      "<ipython-input-99-df8bf4c4e061>:4: DataConversionWarning: A column-vector y was passed when a 1d array was expected. Please change the shape of y to (n_samples,), for example using ravel().\n",
      "  model.fit(X_tr, y_tr)\n"
     ]
    }
   ],
   "source": [
    "from sklearn.ensemble import RandomForestRegressor\n",
    "\n",
    "model = RandomForestRegressor()\n",
    "model.fit(X_tr, y_tr)\n",
    "\n",
    "y_val_pred = model.predict(X_val)"
   ]
  },
  {
   "cell_type": "code",
   "execution_count": 100,
   "metadata": {
    "colab": {
     "base_uri": "https://localhost:8080/"
    },
    "executionInfo": {
     "elapsed": 413,
     "status": "ok",
     "timestamp": 1700467040589,
     "user": {
      "displayName": "김유림",
      "userId": "09242611142827377637"
     },
     "user_tz": -540
    },
    "id": "I55mIrShJq76",
    "outputId": "35f3d56f-6ba8-458a-bbfe-8ac5ec3d3c38"
   },
   "outputs": [
    {
     "data": {
      "text/plain": [
       "0.9400656956293642"
      ]
     },
     "execution_count": 100,
     "metadata": {},
     "output_type": "execute_result"
    }
   ],
   "source": [
    "from sklearn.metrics import r2_score\n",
    "y_val_pred = model.predict(X_val)\n",
    "r2_score(y_val, y_val_pred)"
   ]
  },
  {
   "cell_type": "code",
   "execution_count": 101,
   "metadata": {
    "colab": {
     "base_uri": "https://localhost:8080/"
    },
    "executionInfo": {
     "elapsed": 4,
     "status": "ok",
     "timestamp": 1700467043082,
     "user": {
      "displayName": "김유림",
      "userId": "09242611142827377637"
     },
     "user_tz": -540
    },
    "id": "rKsDfJLBoKEW",
    "outputId": "d1eb6e1c-9d34-42ba-d054-0b5f9d3c20e3"
   },
   "outputs": [
    {
     "name": "stdout",
     "output_type": "stream",
     "text": [
      "2700.316581643152\n"
     ]
    }
   ],
   "source": [
    "# 평가\n",
    "from sklearn.metrics import mean_squared_error\n",
    "\n",
    "rmse = mean_squared_error(y_val, y_val_pred, squared = False)\n",
    "print(rmse)"
   ]
  },
  {
   "cell_type": "code",
   "execution_count": 102,
   "metadata": {
    "executionInfo": {
     "elapsed": 297,
     "status": "ok",
     "timestamp": 1700467047449,
     "user": {
      "displayName": "김유림",
      "userId": "09242611142827377637"
     },
     "user_tz": -540
    },
    "id": "kSMtlVyvp_rr"
   },
   "outputs": [],
   "source": [
    "y_pred = model.predict(X_test_res)\n",
    "pd.DataFrame({'index' : X_test.index, 'y_pred' : y_pred}).to_csv('00300.csv', index = False)"
   ]
  },
  {
   "cell_type": "code",
   "execution_count": null,
   "metadata": {
    "id": "rXsv0SvSKVa4"
   },
   "outputs": [],
   "source": []
  },
  {
   "cell_type": "code",
   "execution_count": null,
   "metadata": {
    "id": "LpYA3K8YbaxS"
   },
   "outputs": [],
   "source": []
  },
  {
   "cell_type": "code",
   "execution_count": null,
   "metadata": {
    "id": "vyIdfeMUagUz"
   },
   "outputs": [],
   "source": []
  }
 ],
 "metadata": {
  "colab": {
   "authorship_tag": "ABX9TyNqBnl7nUdvICYmLTTp0oA0",
   "provenance": []
  },
  "kernelspec": {
   "display_name": "Python 3 (ipykernel)",
   "language": "python",
   "name": "python3"
  },
  "language_info": {
   "codemirror_mode": {
    "name": "ipython",
    "version": 3
   },
   "file_extension": ".py",
   "mimetype": "text/x-python",
   "name": "python",
   "nbconvert_exporter": "python",
   "pygments_lexer": "ipython3",
   "version": "3.11.5"
  },
  "toc": {
   "base_numbering": 1,
   "nav_menu": {},
   "number_sections": true,
   "sideBar": true,
   "skip_h1_title": false,
   "title_cell": "Table of Contents",
   "title_sidebar": "Contents",
   "toc_cell": false,
   "toc_position": {
    "height": "calc(100% - 180px)",
    "left": "10px",
    "top": "150px",
    "width": "382.715px"
   },
   "toc_section_display": true,
   "toc_window_display": true
  }
 },
 "nbformat": 4,
 "nbformat_minor": 1
}
