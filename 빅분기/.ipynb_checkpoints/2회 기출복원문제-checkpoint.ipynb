{
 "cells": [
  {
   "cell_type": "code",
   "execution_count": 1,
   "metadata": {
    "colab": {
     "base_uri": "https://localhost:8080/"
    },
    "executionInfo": {
     "elapsed": 1955,
     "status": "ok",
     "timestamp": 1700980353589,
     "user": {
      "displayName": "김유림",
      "userId": "09242611142827377637"
     },
     "user_tz": -540
    },
    "id": "vn-Rpv9zDcgf",
    "outputId": "02d10665-9247-4b44-f282-290d78511889"
   },
   "outputs": [
    {
     "name": "stderr",
     "output_type": "stream",
     "text": [
      "Cloning into 'yemoonsaBigdata'...\n"
     ]
    }
   ],
   "source": [
    "!git clone https://github.com/AnalyticsKnight/yemoonsaBigdata/"
   ]
  },
  {
   "cell_type": "markdown",
   "metadata": {
    "id": "cL9HKpSFEULT"
   },
   "source": [
    "# 작업형 제 1유형"
   ]
  },
  {
   "cell_type": "markdown",
   "metadata": {
    "id": "2aJ9U05lEYM6"
   },
   "source": [
    "## 다음은 Boston Housing 데이터 세트이다. 범죄율 컬럼인 Crim 항목의 상위에서 10번째 값(즉, 범죄율을 큰 순서로 내림차순 정렬했을 때 10번째에 위치한 값)으로 상위 10개의ㅣ 값을 변환한 수 age가 80 이상인 데이터를 추출하여 crim의 평균값을 계산하시오."
   ]
  },
  {
   "cell_type": "code",
   "execution_count": 3,
   "metadata": {
    "colab": {
     "base_uri": "https://localhost:8080/"
    },
    "executionInfo": {
     "elapsed": 5,
     "status": "ok",
     "timestamp": 1700981813015,
     "user": {
      "displayName": "김유림",
      "userId": "09242611142827377637"
     },
     "user_tz": -540
    },
    "id": "j8fY6TaSDsbg",
    "outputId": "beeae54e-a5e4-4ec1-d00b-56b54c248f46"
   },
   "outputs": [
    {
     "name": "stdout",
     "output_type": "stream",
     "text": [
      "5.759386625\n"
     ]
    }
   ],
   "source": [
    "import pandas as pd\n",
    "df = pd.read_csv('yemoonsaBigdata/datasets/Part3/201_boston.csv')\n",
    "res_df = df.sort_values('CRIM', ascending = False).reset_index(drop = True)\n",
    "value = res_df.iloc[9,0]\n",
    "res_df.iloc[:10, 0] = value\n",
    "res = res_df[res_df['AGE'] >= 80]['CRIM'].mean()\n",
    "print(res)"
   ]
  },
  {
   "cell_type": "markdown",
   "metadata": {
    "id": "04q9JNVYEvWI"
   },
   "source": [
    "## 다음은 California housing데이터 세트이다. 주어진 데이터의 첫 번째 행부터 순서대로 80%까지의 데이터를 훈련 데이터로 추출 후, 전체 방 개수 컬럼을 의미하는 total bedrooms변수의 결측치를 total_bedrooms 변수의 중앙값으로 대체한 데이터 세트를 구성한다. 결측치 대체 전의 total_bedrooms 변수 표준편차 값과 결측치 대체 후의 total_bedrooms 뱐수 표준편차 값의 차이에 대한 절댓값을 계산하시오"
   ]
  },
  {
   "cell_type": "code",
   "execution_count": 25,
   "metadata": {
    "colab": {
     "base_uri": "https://localhost:8080/"
    },
    "executionInfo": {
     "elapsed": 7,
     "status": "ok",
     "timestamp": 1700981144830,
     "user": {
      "displayName": "김유림",
      "userId": "09242611142827377637"
     },
     "user_tz": -540
    },
    "id": "rZyqyvEBDsY6",
    "outputId": "1267be64-d200-420b-ef05-f64851f3b07a"
   },
   "outputs": [
    {
     "name": "stdout",
     "output_type": "stream",
     "text": [
      "1.9749908183319462\n"
     ]
    }
   ],
   "source": [
    "import pandas as pd\n",
    "df = pd.read_csv('yemoonsaBigdata/datasets/Part3/202_housing.csv')\n",
    "# 전체 80%\n",
    "ind = int(len(df) * (80 / 100))\n",
    "train_df = df.loc[:ind, 'total_bedrooms']\n",
    "b_std = train_df.std()\n",
    "train_df = train_df.fillna(train_df.median())\n",
    "a_std = train_df.std()\n",
    "res = abs(b_std - a_std)\n",
    "print(res)"
   ]
  },
  {
   "cell_type": "markdown",
   "metadata": {
    "id": "UAbl9VmMFP9a"
   },
   "source": [
    "## 2번 문항에서 활용한 데이터 세트를 다시 이용. 인구 컬럼인 population 항목의 이상값의 합계를 계산(평균에서 1.5 * 표준편차를 초과하거나 미만인 값의 범위)"
   ]
  },
  {
   "cell_type": "code",
   "execution_count": 31,
   "metadata": {
    "colab": {
     "base_uri": "https://localhost:8080/"
    },
    "executionInfo": {
     "elapsed": 6,
     "status": "ok",
     "timestamp": 1700981422241,
     "user": {
      "displayName": "김유림",
      "userId": "09242611142827377637"
     },
     "user_tz": -540
    },
    "id": "4p95bMpCDsWk",
    "outputId": "dcd2da06-b899-4468-f24c-0335f619ef92"
   },
   "outputs": [
    {
     "name": "stdout",
     "output_type": "stream",
     "text": [
      "5607295.0\n"
     ]
    }
   ],
   "source": [
    "import pandas as pd\n",
    "df = pd.read_csv('yemoonsaBigdata/datasets/Part3/202_housing.csv')\n",
    "\n",
    "res_df = df[(df['population'] > df['population'].mean() + 1.5 * df['population'].std()) | (df['population'] < df['population'].mean() - 1.5 * df['population'].std())]\n",
    "res = res_df['population'].sum()\n",
    "print(res)"
   ]
  },
  {
   "cell_type": "markdown",
   "metadata": {
    "id": "2dZf3DXtFlEB"
   },
   "source": [
    "# 작업형 제 2유형\n",
    "\n",
    "다음은 E-commerce shipping 데이터 세트이다. 주어진 훈련 데이터 세트를 활용하여 고객이 주문한 물품의 정시 도착 여부를 예측하고 해당 예측 결과를 csv 파일로 제출(roc-auc로(확률))"
   ]
  },
  {
   "cell_type": "code",
   "execution_count": 101,
   "metadata": {
    "executionInfo": {
     "elapsed": 3,
     "status": "ok",
     "timestamp": 1700984408590,
     "user": {
      "displayName": "김유림",
      "userId": "09242611142827377637"
     },
     "user_tz": -540
    },
    "id": "EE9TJXwCDsT-"
   },
   "outputs": [],
   "source": [
    "import pandas as pd\n",
    "x_test = pd.read_csv('yemoonsaBigdata/datasets/Part3/204_x_test.csv')\n",
    "x_train = pd.read_csv('yemoonsaBigdata/datasets/Part3/204_x_train.csv')\n",
    "y_train = pd.read_csv('yemoonsaBigdata/datasets/Part3/204_y_train.csv')\n"
   ]
  },
  {
   "cell_type": "code",
   "execution_count": 58,
   "metadata": {
    "colab": {
     "base_uri": "https://localhost:8080/"
    },
    "executionInfo": {
     "elapsed": 3,
     "status": "ok",
     "timestamp": 1700982628898,
     "user": {
      "displayName": "김유림",
      "userId": "09242611142827377637"
     },
     "user_tz": -540
    },
    "id": "iucErZXpduxF",
    "outputId": "6c7664dc-b27b-45ef-9e77-9c24e62ded75"
   },
   "outputs": [
    {
     "data": {
      "text/plain": [
       "Gender                2\n",
       "Mode_of_Shipment      3\n",
       "Product_importance    3\n",
       "Warehouse_block       5\n",
       "dtype: int64"
      ]
     },
     "execution_count": 58,
     "metadata": {},
     "output_type": "execute_result"
    }
   ],
   "source": [
    "x_train[col_cat].nunique()"
   ]
  },
  {
   "cell_type": "markdown",
   "metadata": {},
   "source": [
    "## 방법 1. ohehotencoder"
   ]
  },
  {
   "cell_type": "code",
   "execution_count": 102,
   "metadata": {
    "colab": {
     "base_uri": "https://localhost:8080/"
    },
    "executionInfo": {
     "elapsed": 1295,
     "status": "ok",
     "timestamp": 1700984411874,
     "user": {
      "displayName": "김유림",
      "userId": "09242611142827377637"
     },
     "user_tz": -540
    },
    "id": "SJi-NMeMaxNt",
    "outputId": "325e5f67-e0fb-499c-c659-1e3a1ea0089f"
   },
   "outputs": [
    {
     "name": "stdout",
     "output_type": "stream",
     "text": [
      "train as :  0.872916215631089\n",
      "val as :  0.6797979797979798\n",
      "train roc :  0.9710300738465901\n",
      "val roc :  0.7595341992884072\n"
     ]
    }
   ],
   "source": [
    "# 결측치, 이상값 X\n",
    "# 명목형\n",
    "col_drop = ['ID']\n",
    "col_num = ['Customer_care_calls', 'Customer_rating', 'Cost_of_the_Product', 'Prior_purchases', 'Discount_offered', 'Weight_in_gms']\n",
    "col_cat = ['Gender', 'Mode_of_Shipment', 'Product_importance', 'Warehouse_block']\n",
    "\n",
    "x_train = x_train.drop(col_drop, axis = 1)\n",
    "x_test = x_test.drop(col_drop, axis = 1)\n",
    "y_train = y_train.drop(col_drop, axis = 1)\n",
    "\n",
    "x = pd.concat([x_train, x_test])\n",
    "\n",
    "from sklearn.preprocessing import OneHotEncoder\n",
    "ohe = OneHotEncoder(handle_unknown = 'ignore')\n",
    "ohe.fit(x[col_cat])\n",
    "\n",
    "x_train_res = ohe.transform(x_train[col_cat])\n",
    "x_test_res = ohe.transform(x_test[col_cat])\n",
    "\n",
    "x_train_ohe = pd.DataFrame(x_train_res.todense(), columns = ohe.get_feature_names_out())\n",
    "x_test_ohe = pd.DataFrame(x_test_res.todense(), columns = ohe.get_feature_names_out())\n",
    "\n",
    "x_train_fin = pd.concat([x_train_ohe, x_train[col_num]], axis = 1)\n",
    "x_test_fin = pd.concat([x_test_ohe, x_test[col_num]], axis = 1)\n",
    "\n",
    "# split\n",
    "from sklearn.model_selection import train_test_split\n",
    "x_tr, x_val, y_tr, y_val = train_test_split(x_train_fin, y_train.values.ravel(), test_size = 0.3, stratify = y_train.values.ravel())\n",
    "\n",
    "# scaler\n",
    "from sklearn.preprocessing import MinMaxScaler\n",
    "scaler = MinMaxScaler()\n",
    "scaler.fit(x_tr[col_num])\n",
    "\n",
    "x_tr[col_num] = scaler.transform(x_tr[col_num])\n",
    "x_val[col_num] = scaler.transform(x_val[col_num])\n",
    "x_test_fin[col_num] = scaler.transform(x_test_fin[col_num])\n",
    "\n",
    "# model\n",
    "from sklearn.ensemble import RandomForestClassifier\n",
    "model = RandomForestClassifier(n_estimators=100, random_state=42, max_depth = 10, min_samples_split = 5, min_samples_leaf  = 2, max_features = 'sqrt')\n",
    "model.fit(x_tr, y_tr)\n",
    "\n",
    "from sklearn.metrics import accuracy_score\n",
    "y_pred_train = model.predict(x_tr)\n",
    "print('train as : ', accuracy_score(y_pred_train, y_tr))\n",
    "\n",
    "y_pred_val = model.predict(x_val)\n",
    "print('val as : ', accuracy_score(y_pred_val, y_val))\n",
    "\n",
    "from sklearn.metrics import roc_auc_score\n",
    "y_pred_train_proba = model.predict_proba(x_tr)[:, 1]\n",
    "print('train roc : ', roc_auc_score(y_tr, y_pred_train_proba))\n",
    "\n",
    "y_pred_val_proba = model.predict_proba(x_val)[:, 1]\n",
    "print('val roc : ', roc_auc_score(y_val, y_pred_val_proba))\n",
    "\n",
    "y_pred = model.predict_proba(x_test_fin)[:, 1]\n",
    "pd.DataFrame({'index' : x_test.index, 'y_pred' : y_pred}).to_csv('00300.csv', index = False)"
   ]
  },
  {
   "cell_type": "markdown",
   "metadata": {
    "id": "DaJ6X2-Hg2tg"
   },
   "source": [
    "## 방법 2. labelencoder"
   ]
  },
  {
   "cell_type": "code",
   "execution_count": 94,
   "metadata": {
    "colab": {
     "base_uri": "https://localhost:8080/"
    },
    "executionInfo": {
     "elapsed": 1655,
     "status": "ok",
     "timestamp": 1700984017435,
     "user": {
      "displayName": "김유림",
      "userId": "09242611142827377637"
     },
     "user_tz": -540
    },
    "id": "O9eL4Wcagxmy",
    "outputId": "c7d2384f-1f6d-4b69-fdd3-3f2019e3418b"
   },
   "outputs": [
    {
     "name": "stdout",
     "output_type": "stream",
     "text": [
      "train as :  1.0\n",
      "val as :  0.6727272727272727\n",
      "train roc :  1.0\n",
      "val roc :  0.747793235203067\n"
     ]
    }
   ],
   "source": [
    "import pandas as pd\n",
    "x_test = pd.read_csv('yemoonsaBigdata/datasets/Part3/204_x_test.csv')\n",
    "x_train = pd.read_csv('yemoonsaBigdata/datasets/Part3/204_x_train.csv')\n",
    "y_train = pd.read_csv('yemoonsaBigdata/datasets/Part3/204_y_train.csv')\n",
    "\n",
    "# 결측치, 이상값 X\n",
    "col_drop = ['ID']\n",
    "col_num = ['Customer_care_calls', 'Customer_rating', 'Cost_of_the_Product', 'Prior_purchases', 'Discount_offered', 'Weight_in_gms']\n",
    "col_cat = ['Gender', 'Mode_of_Shipment', 'Product_importance', 'Warehouse_block']\n",
    "\n",
    "x_train = x_train.drop(col_drop, axis = 1)\n",
    "x_test = x_test.drop(col_drop, axis = 1)\n",
    "y_train = y_train.drop(col_drop, axis = 1)\n",
    "\n",
    "\n",
    "# split\n",
    "from sklearn.model_selection import train_test_split\n",
    "x_tr, x_val, y_tr, y_val = train_test_split(x_train, y_train.values.ravel(), test_size = 0.3, stratify = y_train.values.ravel())\n",
    "\n",
    "# scaler\n",
    "from sklearn.preprocessing import MinMaxScaler\n",
    "scaler = MinMaxScaler()\n",
    "scaler.fit(x_tr[col_num])\n",
    "\n",
    "x_tr[col_num] = scaler.transform(x_tr[col_num])\n",
    "x_val[col_num] = scaler.transform(x_val[col_num])\n",
    "x_test[col_num] = scaler.transform(x_test[col_num])\n",
    "\n",
    "# 명목형\n",
    "from sklearn.preprocessing import LabelEncoder\n",
    "x = pd.concat([x_train[col_cat], x_test[col_cat]])\n",
    "\n",
    "for col in col_cat:\n",
    "    le = LabelEncoder()\n",
    "    le.fit(x[col])\n",
    "    x_tr[col] = le.transform(x_tr[col])\n",
    "    x_val[col] = le.transform(x_val[col])\n",
    "    x_test[col] = le.transform(x_test[col])\n",
    "\n",
    "# model\n",
    "from sklearn.ensemble import RandomForestClassifier\n",
    "model = RandomForestClassifier()\n",
    "model.fit(x_tr, y_tr)\n",
    "\n",
    "from sklearn.metrics import accuracy_score\n",
    "y_pred_train = model.predict(x_tr)\n",
    "print('train as : ', accuracy_score(y_pred_train, y_tr))\n",
    "\n",
    "y_pred_val = model.predict(x_val)\n",
    "print('val as : ', accuracy_score(y_pred_val, y_val))\n",
    "\n",
    "from sklearn.metrics import roc_auc_score\n",
    "y_pred_train_proba = model.predict_proba(x_tr)[:, 1]\n",
    "print('train roc : ', roc_auc_score(y_tr, y_pred_train_proba))\n",
    "\n",
    "y_pred_val_proba = model.predict_proba(x_val)[:, 1]\n",
    "print('val roc : ', roc_auc_score(y_val, y_pred_val_proba))\n",
    "\n",
    "y_pred = model.predict_proba(x_test)[:, 1]\n",
    "pd.DataFrame({'index' : x_test.index, 'y_pred' : y_pred}).to_csv('00300.csv', index = False)"
   ]
  }
 ],
 "metadata": {
  "colab": {
   "authorship_tag": "ABX9TyNQqP2QrloipLBjfMV3IcwY",
   "provenance": []
  },
  "kernelspec": {
   "display_name": "Python 3 (ipykernel)",
   "language": "python",
   "name": "python3"
  },
  "language_info": {
   "codemirror_mode": {
    "name": "ipython",
    "version": 3
   },
   "file_extension": ".py",
   "mimetype": "text/x-python",
   "name": "python",
   "nbconvert_exporter": "python",
   "pygments_lexer": "ipython3",
   "version": "3.11.5"
  },
  "toc": {
   "base_numbering": 1,
   "nav_menu": {},
   "number_sections": true,
   "sideBar": true,
   "skip_h1_title": false,
   "title_cell": "Table of Contents",
   "title_sidebar": "Contents",
   "toc_cell": false,
   "toc_position": {
    "height": "calc(100% - 180px)",
    "left": "10px",
    "top": "150px",
    "width": "382.734px"
   },
   "toc_section_display": true,
   "toc_window_display": true
  }
 },
 "nbformat": 4,
 "nbformat_minor": 1
}
