{
 "cells": [
  {
   "cell_type": "code",
   "execution_count": null,
   "metadata": {
    "id": "Y2sgwePo6ErW"
   },
   "outputs": [],
   "source": [
    "!git clone https://github.com/AnalyticsKnight/yemoonsaBigdata/"
   ]
  },
  {
   "cell_type": "markdown",
   "metadata": {
    "id": "eBROWETT6tRn"
   },
   "source": [
    "# 단일 표본 T - 검정 실습 - Trees"
   ]
  },
  {
   "cell_type": "markdown",
   "metadata": {
    "id": "Vqat3itu60Kn"
   },
   "source": [
    "##  표본의 평균이 모평균과 일치하는지 단일 표본 t검정을 통해 답하고자 한다. 가설은 아래와 같다\n",
    "\n",
    "H0 : -X = 75\n",
    "\n",
    "H1 : -X != 75\n",
    "\n",
    "1. 표본 평균 -X를 구하시오.(반올림하여 소숫점 둘째 자리까지 계산)\n",
    "\n",
    "2. 위의 가설을 검정하기 위한 검정통계량을 구하시오.(반올림하여 소숫점 둘째 자리까지 계산)\n",
    "\n",
    "3. 위의 통계량에 대한 p-값을 구하고(반올림하여 소숫점 넷째 자리까지 계산), 유의수준 0.05에서 가설검정의 결과를 채택/기각 중 하나로 선택하시오"
   ]
  },
  {
   "cell_type": "code",
   "execution_count": 6,
   "metadata": {
    "id": "sdbF5AuA6s18"
   },
   "outputs": [],
   "source": [
    "import pandas as pd\n",
    "X_test = pd.read_csv('yemoonsaBigdata/datasets/supplement/trees.csv')"
   ]
  },
  {
   "cell_type": "code",
   "execution_count": null,
   "metadata": {
    "id": "BY2LtXQF7y8Y"
   },
   "outputs": [],
   "source": [
    "X_test.head()"
   ]
  },
  {
   "cell_type": "code",
   "execution_count": null,
   "metadata": {
    "id": "Sf1V53m56szE"
   },
   "outputs": [],
   "source": [
    "# 1번 문제\n",
    "res = round(X_test['Height'].mean(), 2)\n",
    "print(res)"
   ]
  },
  {
   "cell_type": "code",
   "execution_count": null,
   "metadata": {
    "id": "EYCyIzo76swN"
   },
   "outputs": [],
   "source": [
    "# 2번 문제\n",
    "from scipy.stats import stats\n",
    "t_value, p_value = stats.ttest_1samp(X_test['Height'], 75)\n",
    "print(round(t_value, 2))"
   ]
  },
  {
   "cell_type": "code",
   "execution_count": null,
   "metadata": {
    "id": "CBwHYuBY6srA"
   },
   "outputs": [],
   "source": [
    "t_value, p_value = stats.ttest_1samp(X_test['Height'], 75)\n",
    "print(round(p_value,4))\n",
    "if round(p_value, 4) < 0.05:\n",
    "    print('기각')\n",
    "else:\n",
    "    print('채택')"
   ]
  },
  {
   "cell_type": "markdown",
   "metadata": {
    "id": "JQHLNEki-a6r"
   },
   "source": [
    "# 독립표본 T - 검정 실습 - Toothgrowth"
   ]
  },
  {
   "cell_type": "markdown",
   "metadata": {
    "id": "BdEzJa81-hkx"
   },
   "source": [
    "## 오렍지 주스를 투여받은 기니피그의 치아 길이 평균이 아스코르브산을 투여받은 기니피그의 피아 길이 평균와 일치하는지 독립표본 t-검정을 통해 답하고자 한다. 가설을 아래와 같다\n",
    "\n",
    "H0 : -Xoj = -Xvc\n",
    "\n",
    "H1 : -Xoj != -Xvc\n",
    "\n",
    "1. 평균표본 -Xoj, -Xvc를 구하시오(반올림하여 소숫점 둘째 자리까지 계산)\n",
    "\n",
    "2. 위의 가설을 검정하기 위한 검정 통계량을 구하시오(반올림하여 소숫점 둘째 자리까지 계산)\n",
    "\n",
    "3. 위의 통계량에 대한 P-값을 구하고(반올림하여 소숫점 넷째 자리까지 계산), 유의수준 0.05에서 가설검정의 결과를 채택.기각 중 하나로 선택"
   ]
  },
  {
   "cell_type": "code",
   "execution_count": 5,
   "metadata": {
    "id": "UKtFY0sW-hb8"
   },
   "outputs": [
    {
     "data": {
      "text/html": [
       "<div>\n",
       "<style scoped>\n",
       "    .dataframe tbody tr th:only-of-type {\n",
       "        vertical-align: middle;\n",
       "    }\n",
       "\n",
       "    .dataframe tbody tr th {\n",
       "        vertical-align: top;\n",
       "    }\n",
       "\n",
       "    .dataframe thead th {\n",
       "        text-align: right;\n",
       "    }\n",
       "</style>\n",
       "<table border=\"1\" class=\"dataframe\">\n",
       "  <thead>\n",
       "    <tr style=\"text-align: right;\">\n",
       "      <th></th>\n",
       "      <th>len</th>\n",
       "      <th>supp</th>\n",
       "      <th>dose</th>\n",
       "    </tr>\n",
       "  </thead>\n",
       "  <tbody>\n",
       "    <tr>\n",
       "      <th>0</th>\n",
       "      <td>4.2</td>\n",
       "      <td>VC</td>\n",
       "      <td>0.5</td>\n",
       "    </tr>\n",
       "    <tr>\n",
       "      <th>1</th>\n",
       "      <td>11.5</td>\n",
       "      <td>VC</td>\n",
       "      <td>0.5</td>\n",
       "    </tr>\n",
       "    <tr>\n",
       "      <th>2</th>\n",
       "      <td>7.3</td>\n",
       "      <td>VC</td>\n",
       "      <td>0.5</td>\n",
       "    </tr>\n",
       "    <tr>\n",
       "      <th>3</th>\n",
       "      <td>5.8</td>\n",
       "      <td>VC</td>\n",
       "      <td>0.5</td>\n",
       "    </tr>\n",
       "    <tr>\n",
       "      <th>4</th>\n",
       "      <td>6.4</td>\n",
       "      <td>VC</td>\n",
       "      <td>0.5</td>\n",
       "    </tr>\n",
       "  </tbody>\n",
       "</table>\n",
       "</div>"
      ],
      "text/plain": [
       "    len supp  dose\n",
       "0   4.2   VC   0.5\n",
       "1  11.5   VC   0.5\n",
       "2   7.3   VC   0.5\n",
       "3   5.8   VC   0.5\n",
       "4   6.4   VC   0.5"
      ]
     },
     "execution_count": 5,
     "metadata": {},
     "output_type": "execute_result"
    }
   ],
   "source": [
    "import pandas as pd\n",
    "X_test = pd.read_csv('yemoonsaBigdata/datasets/supplement/toothgrowth.csv')\n",
    "X_test.head()"
   ]
  },
  {
   "cell_type": "code",
   "execution_count": null,
   "metadata": {
    "id": "2EE1v_Wx-hY7"
   },
   "outputs": [],
   "source": [
    "# 1번\n",
    "df_oj = X_test[X_test['supp'] == 'OJ']\n",
    "df_vc = X_test[X_test['supp'] == 'VC']\n",
    "\n",
    "oj = round(df_oj['len'].mean(), 2)\n",
    "vc = round(df_vc['len'].mean(), 2)\n",
    "\n",
    "print(oj, vc)"
   ]
  },
  {
   "cell_type": "code",
   "execution_count": null,
   "metadata": {
    "id": "zNpLy76P-hWr"
   },
   "outputs": [],
   "source": [
    "# 2번\n",
    "from scipy.stats import stats\n",
    "t_value, p_value = stats.ttest_ind(df_vc['len'], df_oj['len'], equal_var = True)\n",
    "print(round(t_value, 2))"
   ]
  },
  {
   "cell_type": "code",
   "execution_count": null,
   "metadata": {
    "id": "HbARPZnvBFnp"
   },
   "outputs": [],
   "source": [
    "# 3번\n",
    "t_value, p_value = stats.ttest_ind(df_vc['len'], df_oj['len'], equal_var = True)\n",
    "print(round(p_value, 4))\n",
    "\n",
    "if round(p_value, 4) < 0.05:\n",
    "    print('기각')\n",
    "else:\n",
    "    print('채택')"
   ]
  },
  {
   "cell_type": "markdown",
   "metadata": {
    "id": "GJMt2tEEBVZA"
   },
   "source": [
    "# 쌍체표본 T - 검정 실습 - Imsectsprays"
   ]
  },
  {
   "cell_type": "markdown",
   "metadata": {
    "id": "EhK-hIXBBxQB"
   },
   "source": [
    "## 문제 : 해당 스프레이가 구제 효과가 있는지(즉, 스프레이를 뿌린 뒤 곤충의 수가 감소했는지) 쌍체 표본 t-검정을 통해 답하고자 한다. 가설을 다음과 같다\n",
    "\n",
    "-ud : (살충제를 뿌린 후의 곤충 수 - 살충제를 뿌리기 전의 곤충 수)의 평균\n",
    "\n",
    "H0 : -ud >= 0\n",
    "\n",
    "H1 : -ud < 0\n",
    "\n",
    "1. -ud의 표본 평균을 구하시오(반올림하여 소숫점 둘재 자리까지 계산)\n",
    "\n",
    "2. 위의 가설을 검정하기 위한 검정통계량을 구하시오(반올림하여 소숫점 둘째 자리까지 계산)\n",
    "\n",
    "3. 위의 통계량에 대한 p-값 구하고(반올림하여 소숫점 넷째 자리까지 계산), 유의수준을 0.05에서 가설 검정의 결과를 채택/기각 중 하나로 선택하시오"
   ]
  },
  {
   "cell_type": "code",
   "execution_count": 4,
   "metadata": {
    "id": "frZcCwFUBFk7"
   },
   "outputs": [
    {
     "data": {
      "text/html": [
       "<div>\n",
       "<style scoped>\n",
       "    .dataframe tbody tr th:only-of-type {\n",
       "        vertical-align: middle;\n",
       "    }\n",
       "\n",
       "    .dataframe tbody tr th {\n",
       "        vertical-align: top;\n",
       "    }\n",
       "\n",
       "    .dataframe thead th {\n",
       "        text-align: right;\n",
       "    }\n",
       "</style>\n",
       "<table border=\"1\" class=\"dataframe\">\n",
       "  <thead>\n",
       "    <tr style=\"text-align: right;\">\n",
       "      <th></th>\n",
       "      <th>before_spr</th>\n",
       "      <th>after_spr</th>\n",
       "    </tr>\n",
       "  </thead>\n",
       "  <tbody>\n",
       "    <tr>\n",
       "      <th>0</th>\n",
       "      <td>10</td>\n",
       "      <td>0</td>\n",
       "    </tr>\n",
       "    <tr>\n",
       "      <th>1</th>\n",
       "      <td>7</td>\n",
       "      <td>1</td>\n",
       "    </tr>\n",
       "    <tr>\n",
       "      <th>2</th>\n",
       "      <td>20</td>\n",
       "      <td>7</td>\n",
       "    </tr>\n",
       "    <tr>\n",
       "      <th>3</th>\n",
       "      <td>14</td>\n",
       "      <td>2</td>\n",
       "    </tr>\n",
       "    <tr>\n",
       "      <th>4</th>\n",
       "      <td>14</td>\n",
       "      <td>3</td>\n",
       "    </tr>\n",
       "  </tbody>\n",
       "</table>\n",
       "</div>"
      ],
      "text/plain": [
       "   before_spr  after_spr\n",
       "0          10          0\n",
       "1           7          1\n",
       "2          20          7\n",
       "3          14          2\n",
       "4          14          3"
      ]
     },
     "execution_count": 4,
     "metadata": {},
     "output_type": "execute_result"
    }
   ],
   "source": [
    "import pandas as pd\n",
    "X_test = pd.read_csv('yemoonsaBigdata/datasets/supplement/insectsprays.csv')\n",
    "X_test.head()"
   ]
  },
  {
   "cell_type": "code",
   "execution_count": null,
   "metadata": {
    "id": "4X0DJdRSBFhn"
   },
   "outputs": [],
   "source": [
    "# 1번\n",
    "res = round((X_test['after_spr'] - X_test['before_spr']).mean(), 2)\n",
    "print(res)"
   ]
  },
  {
   "cell_type": "code",
   "execution_count": null,
   "metadata": {
    "id": "KqueMTfO6sly"
   },
   "outputs": [],
   "source": [
    "# 2번\n",
    "from scipy.stats import stats\n",
    "\n",
    "t_value, p_value = stats.ttest_rel(X_test['before_spr'], X_test['after_spr'], alternative = 'greater')\n",
    "print(round(t_value, 2))"
   ]
  },
  {
   "cell_type": "code",
   "execution_count": null,
   "metadata": {
    "id": "pEVwgQQADtFI"
   },
   "outputs": [],
   "source": [
    "# 3번\n",
    "t_value, p_value = stats.ttest_rel(X_test['before_spr'], X_test['after_spr'], alternative = 'greater')\n",
    "print(round(p_value, 4))\n",
    "\n",
    "if round(p_value, 4) < 0.05:\n",
    "    print('기각')\n",
    "else:\n",
    "    print('채택')"
   ]
  },
  {
   "cell_type": "markdown",
   "metadata": {
    "id": "hb01x2MuEJuA"
   },
   "source": [
    "# 일원분산분석(One-way ANOVA)실습 - iris"
   ]
  },
  {
   "cell_type": "markdown",
   "metadata": {
    "id": "hPx_c4m1ERU8"
   },
   "source": [
    "## 붓꽃의 종에 따라 꽃받침의 너비 차이 나는지 일원분산분석을 통해 답하고자 한다. 가설을 아래와 같다\n",
    "\n",
    "H0 : -X1 = -X2 = -X3\n",
    "\n",
    "H1: ~H0\n",
    "\n",
    "1. versicolor 종의 평군 꽃받침 너비를 구하시오(반올림하여 소숫점 둘째 자리까지 계산)\n",
    "\n",
    "2. 위의 가설을 검정하기 위한 검정통계량을 구하시오(반올림하여 소숫점 둘째 자리까지 계산)\n",
    "\n",
    "3. 위의 통계랭에 대한 p-값을 구하고(반올림하여 소숫점 넷째자리까지 계산), 유의수준 0.05에서 가설검정의 결과를 채택.기각 중 하나로 선택"
   ]
  },
  {
   "cell_type": "code",
   "execution_count": 3,
   "metadata": {
    "id": "VCPmvYo8DtDW"
   },
   "outputs": [
    {
     "data": {
      "text/html": [
       "<div>\n",
       "<style scoped>\n",
       "    .dataframe tbody tr th:only-of-type {\n",
       "        vertical-align: middle;\n",
       "    }\n",
       "\n",
       "    .dataframe tbody tr th {\n",
       "        vertical-align: top;\n",
       "    }\n",
       "\n",
       "    .dataframe thead th {\n",
       "        text-align: right;\n",
       "    }\n",
       "</style>\n",
       "<table border=\"1\" class=\"dataframe\">\n",
       "  <thead>\n",
       "    <tr style=\"text-align: right;\">\n",
       "      <th></th>\n",
       "      <th>sepal_length</th>\n",
       "      <th>sepal_width</th>\n",
       "      <th>petal_length</th>\n",
       "      <th>petal_width</th>\n",
       "      <th>species</th>\n",
       "    </tr>\n",
       "  </thead>\n",
       "  <tbody>\n",
       "    <tr>\n",
       "      <th>0</th>\n",
       "      <td>5.1</td>\n",
       "      <td>3.5</td>\n",
       "      <td>1.4</td>\n",
       "      <td>0.2</td>\n",
       "      <td>setosa</td>\n",
       "    </tr>\n",
       "    <tr>\n",
       "      <th>1</th>\n",
       "      <td>4.9</td>\n",
       "      <td>3.0</td>\n",
       "      <td>1.4</td>\n",
       "      <td>0.2</td>\n",
       "      <td>setosa</td>\n",
       "    </tr>\n",
       "    <tr>\n",
       "      <th>2</th>\n",
       "      <td>4.7</td>\n",
       "      <td>3.2</td>\n",
       "      <td>1.3</td>\n",
       "      <td>0.2</td>\n",
       "      <td>setosa</td>\n",
       "    </tr>\n",
       "    <tr>\n",
       "      <th>3</th>\n",
       "      <td>4.6</td>\n",
       "      <td>3.1</td>\n",
       "      <td>1.5</td>\n",
       "      <td>0.2</td>\n",
       "      <td>setosa</td>\n",
       "    </tr>\n",
       "    <tr>\n",
       "      <th>4</th>\n",
       "      <td>5.0</td>\n",
       "      <td>3.6</td>\n",
       "      <td>1.4</td>\n",
       "      <td>0.2</td>\n",
       "      <td>setosa</td>\n",
       "    </tr>\n",
       "  </tbody>\n",
       "</table>\n",
       "</div>"
      ],
      "text/plain": [
       "   sepal_length  sepal_width  petal_length  petal_width species\n",
       "0           5.1          3.5           1.4          0.2  setosa\n",
       "1           4.9          3.0           1.4          0.2  setosa\n",
       "2           4.7          3.2           1.3          0.2  setosa\n",
       "3           4.6          3.1           1.5          0.2  setosa\n",
       "4           5.0          3.6           1.4          0.2  setosa"
      ]
     },
     "execution_count": 3,
     "metadata": {},
     "output_type": "execute_result"
    }
   ],
   "source": [
    "import pandas as pd\n",
    "t_test = pd.read_csv('yemoonsaBigdata/datasets/supplement/iris.csv')\n",
    "t_test.head()"
   ]
  },
  {
   "cell_type": "code",
   "execution_count": null,
   "metadata": {
    "id": "m9hnJNoFDtA9"
   },
   "outputs": [],
   "source": [
    "# 1번\n",
    "res = t_test[t_test['species'] == 'versicolor']['sepal_width'].mean()\n",
    "print(round(res, 2))"
   ]
  },
  {
   "cell_type": "code",
   "execution_count": null,
   "metadata": {
    "id": "uivjGVH_FN9c"
   },
   "outputs": [],
   "source": [
    "# 2번\n",
    "from scipy.stats import stats\n",
    "X1 = t_test[t_test['species'] == 'setosa']['sepal_width']\n",
    "X2 = t_test[t_test['species'] == 'versicolor']['sepal_width']\n",
    "X3 = t_test[t_test['species'] == 'virginica']['sepal_width']\n",
    "\n",
    "t_value, p_value = stats.f_oneway(X1, X2, X3)\n",
    "print(round(t_value, 2))"
   ]
  },
  {
   "cell_type": "code",
   "execution_count": null,
   "metadata": {
    "id": "BIVxi0YuDs-r"
   },
   "outputs": [],
   "source": [
    "# 3번\n",
    "t_value, p_value = stats.f_oneway(X1, X2, X3)\n",
    "print(round(p_value, 4))\n",
    "\n",
    "if round(p_value, 4) < 0.05:\n",
    "    print('기각')\n",
    "else:\n",
    "    print('채택')"
   ]
  },
  {
   "cell_type": "markdown",
   "metadata": {
    "id": "Ax7Co8QlG5QI"
   },
   "source": [
    "# 카이제곱검정(적합도)"
   ]
  },
  {
   "cell_type": "markdown",
   "metadata": {
    "id": "layV-irYG70n"
   },
   "source": [
    "##  삼성 : 60%, 애플 30%, 기타 10%라 하자 이를 이용하여 A회사의 직원들이 사용하는 스마트폰 제조사 분포가 국내 스마트폰 제조사 점유율 분포와 동일한지 카이제곱검정을 통해 답하고자 한다. 가설은 다음과 같다\n",
    "\n",
    "H0 : A회사 직원들이 사용하는 스마트폰 제조사 분포는 국내 스마트폰 제조사 점유율 분포를 따른다\n",
    "\n",
    "H1 : A회사 직원들이 사용하는 스마트폰 제조사 분포는 국내 스마트폰 제조사 점유율 분포를 따르지 않는다\n",
    "\n",
    "1. 삼성 제조사 스마트폰을 작원 수에서 애플 제조사 스마트폰 사용 직원 수를 뺀 값을 정수로 출력\n",
    "\n",
    "2. 문제에서 제시된 국내 스마트폰 제조사 점유율을 이용하여 기대 빈도를 계산하고, 위의 가설을 검정하기 위한 검정통계량을 구하시오(반올림하요 소숫점 둘째 자리까지 계산)\n",
    "\n",
    "3. 위의 통곌량에 대한 p-값을 구하고(반올림하여 소숫점 넷째 자리까지 계산), 유의수준 0.05에서 가설검정의 결과를 채택/기각 중 하나로 선택"
   ]
  },
  {
   "cell_type": "code",
   "execution_count": 2,
   "metadata": {
    "id": "0-7ov09DDs8S"
   },
   "outputs": [
    {
     "data": {
      "text/html": [
       "<div>\n",
       "<style scoped>\n",
       "    .dataframe tbody tr th:only-of-type {\n",
       "        vertical-align: middle;\n",
       "    }\n",
       "\n",
       "    .dataframe tbody tr th {\n",
       "        vertical-align: top;\n",
       "    }\n",
       "\n",
       "    .dataframe thead th {\n",
       "        text-align: right;\n",
       "    }\n",
       "</style>\n",
       "<table border=\"1\" class=\"dataframe\">\n",
       "  <thead>\n",
       "    <tr style=\"text-align: right;\">\n",
       "      <th></th>\n",
       "      <th>id</th>\n",
       "      <th>제조사</th>\n",
       "    </tr>\n",
       "  </thead>\n",
       "  <tbody>\n",
       "    <tr>\n",
       "      <th>0</th>\n",
       "      <td>1</td>\n",
       "      <td>삼성</td>\n",
       "    </tr>\n",
       "    <tr>\n",
       "      <th>1</th>\n",
       "      <td>2</td>\n",
       "      <td>애플</td>\n",
       "    </tr>\n",
       "    <tr>\n",
       "      <th>2</th>\n",
       "      <td>3</td>\n",
       "      <td>삼성</td>\n",
       "    </tr>\n",
       "    <tr>\n",
       "      <th>3</th>\n",
       "      <td>4</td>\n",
       "      <td>애플</td>\n",
       "    </tr>\n",
       "    <tr>\n",
       "      <th>4</th>\n",
       "      <td>5</td>\n",
       "      <td>애플</td>\n",
       "    </tr>\n",
       "  </tbody>\n",
       "</table>\n",
       "</div>"
      ],
      "text/plain": [
       "   id 제조사\n",
       "0   1  삼성\n",
       "1   2  애플\n",
       "2   3  삼성\n",
       "3   4  애플\n",
       "4   5  애플"
      ]
     },
     "execution_count": 2,
     "metadata": {},
     "output_type": "execute_result"
    }
   ],
   "source": [
    "import pandas as pd\n",
    "x_test = pd.read_csv('yemoonsaBigdata/datasets/supplement/cellphone.csv')\n",
    "x_test.head()"
   ]
  },
  {
   "cell_type": "code",
   "execution_count": null,
   "metadata": {
    "id": "uDBbRGZ1Ds6B"
   },
   "outputs": [],
   "source": [
    "# 1\n",
    "res = len(x_test[x_test['제조사'] == '삼성']) - len(x_test[x_test['제조사'] == '애플'])\n",
    "print(int(res))"
   ]
  },
  {
   "cell_type": "code",
   "execution_count": null,
   "metadata": {
    "id": "F4N-Sw1UDs3w"
   },
   "outputs": [],
   "source": [
    "# 2\n",
    "# 기대빈도\n",
    "total = len(x_test)\n",
    "expected = [int(total * 0.1), #기타\n",
    "            int(total * 0.6), # 삼성\n",
    "            int(total * 0.3)] # 애플\n",
    "print(expected)\n",
    "\n",
    "# 검정통계량\n",
    "from scipy.stats import stats\n",
    "count_df = x_test.groupby('제조사').count()\n",
    "observed = count_df['id'].values\n",
    "t_value, p_value = stats.chisquare(observed, f_exp = expected)\n",
    "print(round(t_value, 2))"
   ]
  },
  {
   "cell_type": "code",
   "execution_count": null,
   "metadata": {
    "id": "xklyB6scDs1g"
   },
   "outputs": [],
   "source": [
    "# 3번\n",
    "t_value, p_value = stats.chisquare(observed, f_exp = expected)\n",
    "print(round(p_value, 4))\n",
    "\n",
    "if round(p_value, 4) < 0.05:\n",
    "    print('기각')\n",
    "else:\n",
    "    print('채택')"
   ]
  },
  {
   "cell_type": "markdown",
   "metadata": {
    "id": "iy-ZwokYJhDe"
   },
   "source": [
    "# 카이제곱검정(독립성 검정)"
   ]
  },
  {
   "cell_type": "markdown",
   "metadata": {
    "id": "SCizg1e0Jk-T"
   },
   "source": [
    "##  단과대학별로 수강 과목 차에 차이가 있는지 카이제곱검정을 통해 답하고자 한다. 가설은 아래와 같다\n",
    "\n",
    "H0 : 단과대학과 수강 과목 수는 관련이 없다\n",
    "\n",
    "H1 : 단과대학과 수강 과목 수는 관련이 있다\n",
    "\n",
    "1. 주어진 데이터로 단과대학과 수강 과목 수로 분할표를 만들었을 때, 수강 과목 수가 '6개 이상'인 학생 수가 가장 많은 단과대학을 출력\n",
    "\n",
    "2. 위의 가설을 검정하기 위한 검정통계량을 구하시오(반올림하여 소숫점 둘째 자리까지 계산)\n",
    "\n",
    "3. 위의 통계량에 대한 p-값을 구하고(반올림하여 소숫점 넷째 자리까지 계산), 유의수준 0.05에서 가설 검정의 결과를 채택/기각 중 하나로 선택"
   ]
  },
  {
   "cell_type": "code",
   "execution_count": 1,
   "metadata": {
    "id": "cs8wnHrQJaV4"
   },
   "outputs": [
    {
     "data": {
      "text/html": [
       "<div>\n",
       "<style scoped>\n",
       "    .dataframe tbody tr th:only-of-type {\n",
       "        vertical-align: middle;\n",
       "    }\n",
       "\n",
       "    .dataframe tbody tr th {\n",
       "        vertical-align: top;\n",
       "    }\n",
       "\n",
       "    .dataframe thead th {\n",
       "        text-align: right;\n",
       "    }\n",
       "</style>\n",
       "<table border=\"1\" class=\"dataframe\">\n",
       "  <thead>\n",
       "    <tr style=\"text-align: right;\">\n",
       "      <th></th>\n",
       "      <th>ID</th>\n",
       "      <th>단과대학</th>\n",
       "      <th>수강 과목 수</th>\n",
       "    </tr>\n",
       "  </thead>\n",
       "  <tbody>\n",
       "    <tr>\n",
       "      <th>0</th>\n",
       "      <td>1</td>\n",
       "      <td>경영대학</td>\n",
       "      <td>4개 이하</td>\n",
       "    </tr>\n",
       "    <tr>\n",
       "      <th>1</th>\n",
       "      <td>2</td>\n",
       "      <td>경영대학</td>\n",
       "      <td>4개 이하</td>\n",
       "    </tr>\n",
       "    <tr>\n",
       "      <th>2</th>\n",
       "      <td>3</td>\n",
       "      <td>경영대학</td>\n",
       "      <td>4개 이하</td>\n",
       "    </tr>\n",
       "    <tr>\n",
       "      <th>3</th>\n",
       "      <td>4</td>\n",
       "      <td>경영대학</td>\n",
       "      <td>4개 이하</td>\n",
       "    </tr>\n",
       "    <tr>\n",
       "      <th>4</th>\n",
       "      <td>5</td>\n",
       "      <td>경영대학</td>\n",
       "      <td>4개 이하</td>\n",
       "    </tr>\n",
       "  </tbody>\n",
       "</table>\n",
       "</div>"
      ],
      "text/plain": [
       "   ID  단과대학 수강 과목 수\n",
       "0   1  경영대학   4개 이하\n",
       "1   2  경영대학   4개 이하\n",
       "2   3  경영대학   4개 이하\n",
       "3   4  경영대학   4개 이하\n",
       "4   5  경영대학   4개 이하"
      ]
     },
     "execution_count": 1,
     "metadata": {},
     "output_type": "execute_result"
    }
   ],
   "source": [
    "import pandas as pd\n",
    "t_test = pd.read_csv('yemoonsaBigdata/datasets/supplement/student.csv')\n",
    "t_test.head()"
   ]
  },
  {
   "cell_type": "code",
   "execution_count": null,
   "metadata": {
    "id": "QXpzFNSfJaTJ"
   },
   "outputs": [],
   "source": [
    "# 1\n",
    "table = pd.crosstab(t_test['단과대학'], t_test['수강 과목 수'])\n",
    "res = table[table['6개 이상'] == table['6개 이상'].max()].index[0]\n",
    "print(res)"
   ]
  },
  {
   "cell_type": "code",
   "execution_count": null,
   "metadata": {
    "id": "sGy0uFjEJaQV"
   },
   "outputs": [],
   "source": [
    "# 2\n",
    "from scipy.stats import stats\n",
    "\n",
    "X1 = table.loc['경영대학', :]\n",
    "X2 = table.loc['자연대학', :]\n",
    "X3 = table.loc['공과대학', :]\n",
    "\n",
    "t_value, p_value = stats.chi2_contingency([X1, X2, X3])\n",
    "print(round(t_value, 2))"
   ]
  },
  {
   "cell_type": "code",
   "execution_count": null,
   "metadata": {
    "id": "j3OIRBKgMR14"
   },
   "outputs": [],
   "source": [
    "# 3번\n",
    "t_value, p_value = stats.chi2_contingency([X1, X2, X3])\n",
    "print(round(p_value, 4))\n",
    "\n",
    "if round(p_value, 4) < 0.05:\n",
    "    print('기각')\n",
    "else:\n",
    "    print('채택')"
   ]
  },
  {
   "cell_type": "code",
   "execution_count": null,
   "metadata": {
    "id": "KXS9A95-DszI"
   },
   "outputs": [],
   "source": []
  }
 ],
 "metadata": {
  "colab": {
   "authorship_tag": "ABX9TyNkoPD2L3tyFjAoO3G9C8zW",
   "private_outputs": true,
   "provenance": []
  },
  "kernelspec": {
   "display_name": "Python 3 (ipykernel)",
   "language": "python",
   "name": "python3"
  },
  "language_info": {
   "codemirror_mode": {
    "name": "ipython",
    "version": 3
   },
   "file_extension": ".py",
   "mimetype": "text/x-python",
   "name": "python",
   "nbconvert_exporter": "python",
   "pygments_lexer": "ipython3",
   "version": "3.11.5"
  },
  "toc": {
   "base_numbering": 1,
   "nav_menu": {},
   "number_sections": true,
   "sideBar": true,
   "skip_h1_title": false,
   "title_cell": "Table of Contents",
   "title_sidebar": "Contents",
   "toc_cell": false,
   "toc_position": {
    "height": "calc(100% - 180px)",
    "left": "10px",
    "top": "150px",
    "width": "382.734px"
   },
   "toc_section_display": true,
   "toc_window_display": true
  }
 },
 "nbformat": 4,
 "nbformat_minor": 1
}
