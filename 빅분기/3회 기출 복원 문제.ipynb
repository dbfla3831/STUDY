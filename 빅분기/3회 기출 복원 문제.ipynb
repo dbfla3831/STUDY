{
 "cells": [
  {
   "cell_type": "code",
   "execution_count": 2,
   "metadata": {
    "colab": {
     "base_uri": "https://localhost:8080/"
    },
    "executionInfo": {
     "elapsed": 3662,
     "status": "ok",
     "timestamp": 1700983942447,
     "user": {
      "displayName": "김유림",
      "userId": "09242611142827377637"
     },
     "user_tz": -540
    },
    "id": "NAGtI-rKxWuS",
    "outputId": "3e39177e-5b29-4abb-db4e-fc94d481e917"
   },
   "outputs": [
    {
     "name": "stdout",
     "output_type": "stream",
     "text": [
      "Cloning into 'yemoonsaBigdata'...\n",
      "remote: Enumerating objects: 637, done.\u001b[K\n",
      "remote: Counting objects: 100% (274/274), done.\u001b[K\n",
      "remote: Compressing objects: 100% (165/165), done.\u001b[K\n",
      "remote: Total 637 (delta 136), reused 184 (delta 109), pack-reused 363\u001b[K\n",
      "Receiving objects: 100% (637/637), 10.76 MiB | 6.28 MiB/s, done.\n",
      "Resolving deltas: 100% (321/321), done.\n"
     ]
    }
   ],
   "source": [
    "!git clone https://github.com/AnalyticsKnight/yemoonsaBigdata/"
   ]
  },
  {
   "cell_type": "markdown",
   "metadata": {
    "id": "KJYnFxXTxysp"
   },
   "source": [
    "# 작업형 제 1유형"
   ]
  },
  {
   "cell_type": "markdown",
   "metadata": {
    "id": "1FJDGUPBx2S2"
   },
   "source": [
    "## 다음은 California Housing 데이터 세트이다. 데이터 중 결측치가 있는 경우 해당 데이터의 행을 모두 제거하고, 첫 번째 행부터 순서대로 70%까지의 데이터를 훈련 데이터로 추출한 데이터 세트를 구성한다. 변수 중 housing_median_age의 Q1 값을 정수로 계산하시오"
   ]
  },
  {
   "cell_type": "code",
   "execution_count": 1,
   "metadata": {
    "colab": {
     "base_uri": "https://localhost:8080/"
    },
    "executionInfo": {
     "elapsed": 402,
     "status": "ok",
     "timestamp": 1700974975015,
     "user": {
      "displayName": "김유림",
      "userId": "09242611142827377637"
     },
     "user_tz": -540
    },
    "id": "nw3TuLPvxWrb",
    "outputId": "e7c2e8cd-1156-43b2-8c1b-217e46e9e946"
   },
   "outputs": [
    {
     "name": "stdout",
     "output_type": "stream",
     "text": [
      "19\n"
     ]
    }
   ],
   "source": [
    "import pandas as pd\n",
    "df = pd.read_csv('yemoonsaBigdata/datasets/Part3/301_housing.csv')\n",
    "\n",
    "# 결측치 제거\n",
    "df = df.dropna()\n",
    "df = df.reset_index()\n",
    "# 70%까지\n",
    "ind = int(len(df)*(70 / 100))\n",
    "train = df.iloc[:ind]\n",
    "res = int(train['housing_median_age'].quantile(0.25))\n",
    "print(res)"
   ]
  },
  {
   "cell_type": "markdown",
   "metadata": {
    "id": "wYGKseLPzTB6"
   },
   "source": [
    "## 다음은 국가별 인도별 인구 10만 명당 결핵 유병률 데이터 세트이다. 2000년도의 국가별 결행 유병률 데이터 세트에서 2000년도의 평균값보다 더 큰 유병률 값을 가진 국가의 수를 계산하시오"
   ]
  },
  {
   "cell_type": "code",
   "execution_count": null,
   "metadata": {
    "colab": {
     "base_uri": "https://localhost:8080/"
    },
    "executionInfo": {
     "elapsed": 5,
     "status": "ok",
     "timestamp": 1700972141563,
     "user": {
      "displayName": "김유림",
      "userId": "09242611142827377637"
     },
     "user_tz": -540
    },
    "id": "UeftGwCbzNJh",
    "outputId": "f3923bf1-9a20-4d9b-b46d-5b22bcb0c9c9"
   },
   "outputs": [
    {
     "name": "stdout",
     "output_type": "stream",
     "text": [
      "76\n"
     ]
    }
   ],
   "source": [
    "import pandas as pd\n",
    "df = pd.read_csv('yemoonsaBigdata/datasets/Part3/302_worlddata.csv')\n",
    "res_df = df[df['year'] == 2000].T.drop('year')\n",
    "res = len(res_df[res_df > res_df.mean()].dropna())\n",
    "print(res)"
   ]
  },
  {
   "cell_type": "markdown",
   "metadata": {
    "id": "nudXkpih1y_p"
   },
   "source": [
    "## 다음은 Titanic 데이터 세트이다. 주어진 데이터 세트의 컬럼 중 빈 값 또는 결측치를 확인하여 결측치의 비율이 가장 높은 변수명을 출력하시오."
   ]
  },
  {
   "cell_type": "code",
   "execution_count": null,
   "metadata": {
    "colab": {
     "base_uri": "https://localhost:8080/"
    },
    "executionInfo": {
     "elapsed": 5,
     "status": "ok",
     "timestamp": 1700972391058,
     "user": {
      "displayName": "김유림",
      "userId": "09242611142827377637"
     },
     "user_tz": -540
    },
    "id": "JHIERR3z1y1j",
    "outputId": "b648c77c-a524-48b9-c8e0-3ea914525890"
   },
   "outputs": [
    {
     "name": "stdout",
     "output_type": "stream",
     "text": [
      "Age\n"
     ]
    }
   ],
   "source": [
    "import pandas as pd\n",
    "df = pd.read_csv('yemoonsaBigdata/datasets/Part3/303_titanic.csv')\n",
    "res = df.isnull().sum().sort_values(ascending = False).index[0]\n",
    "print(res)"
   ]
  },
  {
   "cell_type": "markdown",
   "metadata": {
    "id": "U-k9UtnU2wDF"
   },
   "source": [
    "# 작업형 제 2유형\n",
    "다음은 travel Insurance 데이터 세트이다. 주어진 훈련 데이터 세트를 이용하여 고객별 여행보험 가입 여부 예측 모형을 만들고, 가장 높은 Accuracy 값을 가지는 최종 모델을 도출하시오. 해당 모델을 활용하여 보험 가입 여부 예측 값을 계산하고 결괏값은 csv 파일로 제출(roc_auc_score)"
   ]
  },
  {
   "cell_type": "markdown",
   "metadata": {},
   "source": [
    "## 방법 1. onehotencoder"
   ]
  },
  {
   "cell_type": "code",
   "execution_count": null,
   "metadata": {
    "id": "bo2TGGCR2ugY"
   },
   "outputs": [],
   "source": [
    "import pandas as pd\n",
    "x_test = pd.read_csv('yemoonsaBigdata/datasets/Part3/304_x_test.csv')\n",
    "x_train = pd.read_csv('yemoonsaBigdata/datasets/Part3/304_x_train.csv')\n",
    "y_train = pd.read_csv('yemoonsaBigdata/datasets/Part3/304_y_train.csv')"
   ]
  },
  {
   "cell_type": "code",
   "execution_count": null,
   "metadata": {
    "id": "cnDwg8-z5639"
   },
   "outputs": [],
   "source": [
    "# 결측치 X, 이상치 skip\n",
    "# 명목형\n",
    "from sklearn.preprocessing import OneHotEncoder\n",
    "\n",
    "col_drop = ['ID']\n",
    "col_num = ['Age', 'AnnualIncome', 'FamilyMembers', 'ChronicDiseases']\n",
    "col_cat = ['Employment Type', 'GraduateOrNot', 'FrequentFlyer', 'EverTravelledAbroad']\n",
    "\n",
    "x_train = x_train.drop(col_drop, axis = 1)\n",
    "x_test = x_test.drop(col_drop, axis = 1)\n",
    "y_train = y_train.drop(col_drop, axis = 1)\n",
    "\n",
    "x = pd.concat([x_train, x_test])\n",
    "ohe = OneHotEncoder(handle_unknown = 'ignore')\n",
    "ohe.fit(x[col_cat])\n",
    "\n",
    "x_train_res = ohe.transform(x_train[col_cat])\n",
    "x_test_res = ohe.transform(x_test[col_cat])\n",
    "\n",
    "x_train_ohe = pd.DataFrame(x_train_res.todense(), columns = ohe.get_feature_names_out())\n",
    "x_test_ohe = pd.DataFrame(x_test_res.todense(), columns = ohe.get_feature_names_out())\n",
    "\n",
    "x_train_fin = pd.concat([x_train_ohe, x_train[col_num]], axis = 1)\n",
    "x_test_fin = pd.concat([x_test_ohe, x_test[col_num]], axis = 1)"
   ]
  },
  {
   "cell_type": "code",
   "execution_count": null,
   "metadata": {
    "colab": {
     "base_uri": "https://localhost:8080/"
    },
    "executionInfo": {
     "elapsed": 9,
     "status": "ok",
     "timestamp": 1700975699422,
     "user": {
      "displayName": "김유림",
      "userId": "09242611142827377637"
     },
     "user_tz": -540
    },
    "id": "RyGhMNZE7ZSI",
    "outputId": "f8158b7e-b729-4d72-cba4-5fbc5f538dbc"
   },
   "outputs": [
    {
     "name": "stdout",
     "output_type": "stream",
     "text": [
      "0.7829977628635347\n",
      "0.7842430149447693\n",
      "0.9883040935672514\n"
     ]
    }
   ],
   "source": [
    "# split, scaler, model\n",
    "from sklearn.model_selection import train_test_split\n",
    "x_tr, x_val, y_tr, y_val = train_test_split(x_train_fin, y_train.values.ravel(), test_size = 0.3, stratify = y_train.values.ravel())\n",
    "\n",
    "from sklearn.preprocessing import MinMaxScaler\n",
    "\n",
    "scaler = MinMaxScaler()\n",
    "scaler.fit(x_tr[col_num])\n",
    "\n",
    "x_tr[col_num] = scaler.transform(x_tr[col_num])\n",
    "x_val[col_num] = scaler.transform(x_val[col_num])\n",
    "x_test_fin[col_num] = scaler.transform(x_test_fin[col_num])\n",
    "\n",
    "from sklearn.ensemble import RandomForestClassifier\n",
    "model = RandomForestClassifier(random_state = 123, n_estimators = 25)\n",
    "model.fit(x_tr, y_tr)\n",
    "\n",
    "from sklearn.metrics import accuracy_score\n",
    "y_pred = model.predict(x_val)\n",
    "print(accuracy_score(y_pred, y_val))\n",
    "\n",
    "# y_tr_pred = model.predict(x_tr)\n",
    "# print(accuracy_score(y_tr, y_tr_pred))\n",
    "\n",
    "from sklearn.metrics import roc_auc_score\n",
    "y_pred = model.predict_proba(x_val)[:, 1]\n",
    "print(roc_auc_score(y_val, y_pred))\n",
    "\n",
    "y_pred_train = model.predict_proba(x_tr)[:, 1]\n",
    "print(roc_auc_score(y_tr, y_pred_train))"
   ]
  },
  {
   "cell_type": "code",
   "execution_count": null,
   "metadata": {
    "id": "cf0r4Y4txWd5"
   },
   "outputs": [],
   "source": [
    "y_pred = model.predict_proba(x_test_fin)[:, 1]\n",
    "result = pd.DataFrame({'index' : x_test_fin.index, 'y_pred' : y_pred})\n",
    "result.to_csv('00300.csv', index = False)"
   ]
  },
  {
   "cell_type": "code",
   "execution_count": null,
   "metadata": {
    "colab": {
     "base_uri": "https://localhost:8080/",
     "height": 423
    },
    "executionInfo": {
     "elapsed": 7,
     "status": "ok",
     "timestamp": 1700974917105,
     "user": {
      "displayName": "김유림",
      "userId": "09242611142827377637"
     },
     "user_tz": -540
    },
    "id": "yzlydxRkxWYK",
    "outputId": "c95ac343-1cc1-425c-f007-e0d20884c084"
   },
   "outputs": [
    {
     "data": {
      "text/html": [
       "\n",
       "  <div id=\"df-d79dd350-3fba-4779-981a-ac2d40a6567f\" class=\"colab-df-container\">\n",
       "    <div>\n",
       "<style scoped>\n",
       "    .dataframe tbody tr th:only-of-type {\n",
       "        vertical-align: middle;\n",
       "    }\n",
       "\n",
       "    .dataframe tbody tr th {\n",
       "        vertical-align: top;\n",
       "    }\n",
       "\n",
       "    .dataframe thead th {\n",
       "        text-align: right;\n",
       "    }\n",
       "</style>\n",
       "<table border=\"1\" class=\"dataframe\">\n",
       "  <thead>\n",
       "    <tr style=\"text-align: right;\">\n",
       "      <th></th>\n",
       "      <th>index</th>\n",
       "      <th>y_pred</th>\n",
       "    </tr>\n",
       "  </thead>\n",
       "  <tbody>\n",
       "    <tr>\n",
       "      <th>0</th>\n",
       "      <td>0</td>\n",
       "      <td>0.230</td>\n",
       "    </tr>\n",
       "    <tr>\n",
       "      <th>1</th>\n",
       "      <td>1</td>\n",
       "      <td>0.280</td>\n",
       "    </tr>\n",
       "    <tr>\n",
       "      <th>2</th>\n",
       "      <td>2</td>\n",
       "      <td>0.230</td>\n",
       "    </tr>\n",
       "    <tr>\n",
       "      <th>3</th>\n",
       "      <td>3</td>\n",
       "      <td>0.230</td>\n",
       "    </tr>\n",
       "    <tr>\n",
       "      <th>4</th>\n",
       "      <td>4</td>\n",
       "      <td>0.515</td>\n",
       "    </tr>\n",
       "    <tr>\n",
       "      <th>...</th>\n",
       "      <td>...</td>\n",
       "      <td>...</td>\n",
       "    </tr>\n",
       "    <tr>\n",
       "      <th>492</th>\n",
       "      <td>492</td>\n",
       "      <td>0.310</td>\n",
       "    </tr>\n",
       "    <tr>\n",
       "      <th>493</th>\n",
       "      <td>493</td>\n",
       "      <td>0.230</td>\n",
       "    </tr>\n",
       "    <tr>\n",
       "      <th>494</th>\n",
       "      <td>494</td>\n",
       "      <td>0.320</td>\n",
       "    </tr>\n",
       "    <tr>\n",
       "      <th>495</th>\n",
       "      <td>495</td>\n",
       "      <td>0.120</td>\n",
       "    </tr>\n",
       "    <tr>\n",
       "      <th>496</th>\n",
       "      <td>496</td>\n",
       "      <td>0.320</td>\n",
       "    </tr>\n",
       "  </tbody>\n",
       "</table>\n",
       "<p>497 rows × 2 columns</p>\n",
       "</div>\n",
       "    <div class=\"colab-df-buttons\">\n",
       "\n",
       "  <div class=\"colab-df-container\">\n",
       "    <button class=\"colab-df-convert\" onclick=\"convertToInteractive('df-d79dd350-3fba-4779-981a-ac2d40a6567f')\"\n",
       "            title=\"Convert this dataframe to an interactive table.\"\n",
       "            style=\"display:none;\">\n",
       "\n",
       "  <svg xmlns=\"http://www.w3.org/2000/svg\" height=\"24px\" viewBox=\"0 -960 960 960\">\n",
       "    <path d=\"M120-120v-720h720v720H120Zm60-500h600v-160H180v160Zm220 220h160v-160H400v160Zm0 220h160v-160H400v160ZM180-400h160v-160H180v160Zm440 0h160v-160H620v160ZM180-180h160v-160H180v160Zm440 0h160v-160H620v160Z\"/>\n",
       "  </svg>\n",
       "    </button>\n",
       "\n",
       "  <style>\n",
       "    .colab-df-container {\n",
       "      display:flex;\n",
       "      gap: 12px;\n",
       "    }\n",
       "\n",
       "    .colab-df-convert {\n",
       "      background-color: #E8F0FE;\n",
       "      border: none;\n",
       "      border-radius: 50%;\n",
       "      cursor: pointer;\n",
       "      display: none;\n",
       "      fill: #1967D2;\n",
       "      height: 32px;\n",
       "      padding: 0 0 0 0;\n",
       "      width: 32px;\n",
       "    }\n",
       "\n",
       "    .colab-df-convert:hover {\n",
       "      background-color: #E2EBFA;\n",
       "      box-shadow: 0px 1px 2px rgba(60, 64, 67, 0.3), 0px 1px 3px 1px rgba(60, 64, 67, 0.15);\n",
       "      fill: #174EA6;\n",
       "    }\n",
       "\n",
       "    .colab-df-buttons div {\n",
       "      margin-bottom: 4px;\n",
       "    }\n",
       "\n",
       "    [theme=dark] .colab-df-convert {\n",
       "      background-color: #3B4455;\n",
       "      fill: #D2E3FC;\n",
       "    }\n",
       "\n",
       "    [theme=dark] .colab-df-convert:hover {\n",
       "      background-color: #434B5C;\n",
       "      box-shadow: 0px 1px 3px 1px rgba(0, 0, 0, 0.15);\n",
       "      filter: drop-shadow(0px 1px 2px rgba(0, 0, 0, 0.3));\n",
       "      fill: #FFFFFF;\n",
       "    }\n",
       "  </style>\n",
       "\n",
       "    <script>\n",
       "      const buttonEl =\n",
       "        document.querySelector('#df-d79dd350-3fba-4779-981a-ac2d40a6567f button.colab-df-convert');\n",
       "      buttonEl.style.display =\n",
       "        google.colab.kernel.accessAllowed ? 'block' : 'none';\n",
       "\n",
       "      async function convertToInteractive(key) {\n",
       "        const element = document.querySelector('#df-d79dd350-3fba-4779-981a-ac2d40a6567f');\n",
       "        const dataTable =\n",
       "          await google.colab.kernel.invokeFunction('convertToInteractive',\n",
       "                                                    [key], {});\n",
       "        if (!dataTable) return;\n",
       "\n",
       "        const docLinkHtml = 'Like what you see? Visit the ' +\n",
       "          '<a target=\"_blank\" href=https://colab.research.google.com/notebooks/data_table.ipynb>data table notebook</a>'\n",
       "          + ' to learn more about interactive tables.';\n",
       "        element.innerHTML = '';\n",
       "        dataTable['output_type'] = 'display_data';\n",
       "        await google.colab.output.renderOutput(dataTable, element);\n",
       "        const docLink = document.createElement('div');\n",
       "        docLink.innerHTML = docLinkHtml;\n",
       "        element.appendChild(docLink);\n",
       "      }\n",
       "    </script>\n",
       "  </div>\n",
       "\n",
       "\n",
       "<div id=\"df-1bc87ca0-56fe-4b52-9236-d9607ef3bb43\">\n",
       "  <button class=\"colab-df-quickchart\" onclick=\"quickchart('df-1bc87ca0-56fe-4b52-9236-d9607ef3bb43')\"\n",
       "            title=\"Suggest charts\"\n",
       "            style=\"display:none;\">\n",
       "\n",
       "<svg xmlns=\"http://www.w3.org/2000/svg\" height=\"24px\"viewBox=\"0 0 24 24\"\n",
       "     width=\"24px\">\n",
       "    <g>\n",
       "        <path d=\"M19 3H5c-1.1 0-2 .9-2 2v14c0 1.1.9 2 2 2h14c1.1 0 2-.9 2-2V5c0-1.1-.9-2-2-2zM9 17H7v-7h2v7zm4 0h-2V7h2v10zm4 0h-2v-4h2v4z\"/>\n",
       "    </g>\n",
       "</svg>\n",
       "  </button>\n",
       "\n",
       "<style>\n",
       "  .colab-df-quickchart {\n",
       "      --bg-color: #E8F0FE;\n",
       "      --fill-color: #1967D2;\n",
       "      --hover-bg-color: #E2EBFA;\n",
       "      --hover-fill-color: #174EA6;\n",
       "      --disabled-fill-color: #AAA;\n",
       "      --disabled-bg-color: #DDD;\n",
       "  }\n",
       "\n",
       "  [theme=dark] .colab-df-quickchart {\n",
       "      --bg-color: #3B4455;\n",
       "      --fill-color: #D2E3FC;\n",
       "      --hover-bg-color: #434B5C;\n",
       "      --hover-fill-color: #FFFFFF;\n",
       "      --disabled-bg-color: #3B4455;\n",
       "      --disabled-fill-color: #666;\n",
       "  }\n",
       "\n",
       "  .colab-df-quickchart {\n",
       "    background-color: var(--bg-color);\n",
       "    border: none;\n",
       "    border-radius: 50%;\n",
       "    cursor: pointer;\n",
       "    display: none;\n",
       "    fill: var(--fill-color);\n",
       "    height: 32px;\n",
       "    padding: 0;\n",
       "    width: 32px;\n",
       "  }\n",
       "\n",
       "  .colab-df-quickchart:hover {\n",
       "    background-color: var(--hover-bg-color);\n",
       "    box-shadow: 0 1px 2px rgba(60, 64, 67, 0.3), 0 1px 3px 1px rgba(60, 64, 67, 0.15);\n",
       "    fill: var(--button-hover-fill-color);\n",
       "  }\n",
       "\n",
       "  .colab-df-quickchart-complete:disabled,\n",
       "  .colab-df-quickchart-complete:disabled:hover {\n",
       "    background-color: var(--disabled-bg-color);\n",
       "    fill: var(--disabled-fill-color);\n",
       "    box-shadow: none;\n",
       "  }\n",
       "\n",
       "  .colab-df-spinner {\n",
       "    border: 2px solid var(--fill-color);\n",
       "    border-color: transparent;\n",
       "    border-bottom-color: var(--fill-color);\n",
       "    animation:\n",
       "      spin 1s steps(1) infinite;\n",
       "  }\n",
       "\n",
       "  @keyframes spin {\n",
       "    0% {\n",
       "      border-color: transparent;\n",
       "      border-bottom-color: var(--fill-color);\n",
       "      border-left-color: var(--fill-color);\n",
       "    }\n",
       "    20% {\n",
       "      border-color: transparent;\n",
       "      border-left-color: var(--fill-color);\n",
       "      border-top-color: var(--fill-color);\n",
       "    }\n",
       "    30% {\n",
       "      border-color: transparent;\n",
       "      border-left-color: var(--fill-color);\n",
       "      border-top-color: var(--fill-color);\n",
       "      border-right-color: var(--fill-color);\n",
       "    }\n",
       "    40% {\n",
       "      border-color: transparent;\n",
       "      border-right-color: var(--fill-color);\n",
       "      border-top-color: var(--fill-color);\n",
       "    }\n",
       "    60% {\n",
       "      border-color: transparent;\n",
       "      border-right-color: var(--fill-color);\n",
       "    }\n",
       "    80% {\n",
       "      border-color: transparent;\n",
       "      border-right-color: var(--fill-color);\n",
       "      border-bottom-color: var(--fill-color);\n",
       "    }\n",
       "    90% {\n",
       "      border-color: transparent;\n",
       "      border-bottom-color: var(--fill-color);\n",
       "    }\n",
       "  }\n",
       "</style>\n",
       "\n",
       "  <script>\n",
       "    async function quickchart(key) {\n",
       "      const quickchartButtonEl =\n",
       "        document.querySelector('#' + key + ' button');\n",
       "      quickchartButtonEl.disabled = true;  // To prevent multiple clicks.\n",
       "      quickchartButtonEl.classList.add('colab-df-spinner');\n",
       "      try {\n",
       "        const charts = await google.colab.kernel.invokeFunction(\n",
       "            'suggestCharts', [key], {});\n",
       "      } catch (error) {\n",
       "        console.error('Error during call to suggestCharts:', error);\n",
       "      }\n",
       "      quickchartButtonEl.classList.remove('colab-df-spinner');\n",
       "      quickchartButtonEl.classList.add('colab-df-quickchart-complete');\n",
       "    }\n",
       "    (() => {\n",
       "      let quickchartButtonEl =\n",
       "        document.querySelector('#df-1bc87ca0-56fe-4b52-9236-d9607ef3bb43 button');\n",
       "      quickchartButtonEl.style.display =\n",
       "        google.colab.kernel.accessAllowed ? 'block' : 'none';\n",
       "    })();\n",
       "  </script>\n",
       "</div>\n",
       "    </div>\n",
       "  </div>\n"
      ],
      "text/plain": [
       "     index  y_pred\n",
       "0        0   0.230\n",
       "1        1   0.280\n",
       "2        2   0.230\n",
       "3        3   0.230\n",
       "4        4   0.515\n",
       "..     ...     ...\n",
       "492    492   0.310\n",
       "493    493   0.230\n",
       "494    494   0.320\n",
       "495    495   0.120\n",
       "496    496   0.320\n",
       "\n",
       "[497 rows x 2 columns]"
      ]
     },
     "execution_count": 113,
     "metadata": {},
     "output_type": "execute_result"
    }
   ],
   "source": [
    "result"
   ]
  },
  {
   "cell_type": "markdown",
   "metadata": {
    "id": "fYpoVzNoxWTi"
   },
   "source": [
    "## 방법  2. labelencoder "
   ]
  },
  {
   "cell_type": "code",
   "execution_count": 3,
   "metadata": {
    "colab": {
     "base_uri": "https://localhost:8080/"
    },
    "executionInfo": {
     "elapsed": 2772,
     "status": "ok",
     "timestamp": 1700983945216,
     "user": {
      "displayName": "김유림",
      "userId": "09242611142827377637"
     },
     "user_tz": -540
    },
    "id": "BDa9Jmj3xSZv",
    "outputId": "14272b78-996e-4a7e-e135-948779f8a073"
   },
   "outputs": [
    {
     "name": "stdout",
     "output_type": "stream",
     "text": [
      "0.7762863534675615\n",
      "0.7854559237600174\n",
      "0.9889028125870231\n"
     ]
    }
   ],
   "source": [
    "import pandas as pd\n",
    "x_test = pd.read_csv('yemoonsaBigdata/datasets/Part3/304_x_test.csv')\n",
    "x_train = pd.read_csv('yemoonsaBigdata/datasets/Part3/304_x_train.csv')\n",
    "y_train = pd.read_csv('yemoonsaBigdata/datasets/Part3/304_y_train.csv')\n",
    "\n",
    "# 결측치 X, 이상치 skip\n",
    "col_drop = ['ID']\n",
    "col_num = ['Age', 'AnnualIncome', 'FamilyMembers', 'ChronicDiseases']\n",
    "col_cat = ['Employment Type', 'GraduateOrNot', 'FrequentFlyer', 'EverTravelledAbroad']\n",
    "\n",
    "x_train = x_train.drop(col_drop, axis = 1)\n",
    "x_test = x_test.drop(col_drop, axis = 1)\n",
    "y_train = y_train.drop(col_drop, axis = 1)\n",
    "\n",
    "# split, scaler, model\n",
    "from sklearn.model_selection import train_test_split\n",
    "x_tr, x_val, y_tr, y_val = train_test_split(x_train, y_train.values.ravel(), test_size = 0.3, stratify = y_train.values.ravel())\n",
    "\n",
    "from sklearn.preprocessing import MinMaxScaler\n",
    "\n",
    "scaler = MinMaxScaler()\n",
    "scaler.fit(x_tr[col_num])\n",
    "\n",
    "x_tr[col_num] = scaler.transform(x_tr[col_num])\n",
    "x_val[col_num] = scaler.transform(x_val[col_num])\n",
    "x_test[col_num] = scaler.transform(x_test[col_num])\n",
    "\n",
    "from sklearn.preprocessing import LabelEncoder\n",
    "x = pd.concat([x_train[col_cat], x_test[col_cat]])\n",
    "\n",
    "for col in col_cat:\n",
    "    le = LabelEncoder()\n",
    "    le.fit(x[col])\n",
    "    x_tr[col] = le.transform(x_tr[col])\n",
    "    x_val[col] = le.transform(x_val[col])\n",
    "    x_test[col] = le.transform(x_test[col])\n",
    "\n",
    "from sklearn.ensemble import RandomForestClassifier\n",
    "model = RandomForestClassifier(random_state = 123, n_estimators = 25)\n",
    "model.fit(x_tr, y_tr)\n",
    "\n",
    "from sklearn.metrics import accuracy_score\n",
    "y_pred = model.predict(x_val)\n",
    "print(accuracy_score(y_pred, y_val))\n",
    "\n",
    "# y_tr_pred = model.predict(x_tr)\n",
    "# print(accuracy_score(y_tr, y_tr_pred))\n",
    "\n",
    "from sklearn.metrics import roc_auc_score\n",
    "y_pred = model.predict_proba(x_val)[:, 1]\n",
    "print(roc_auc_score(y_val, y_pred))\n",
    "\n",
    "y_pred_train = model.predict_proba(x_tr)[:, 1]\n",
    "print(roc_auc_score(y_tr, y_pred_train))"
   ]
  },
  {
   "cell_type": "code",
   "execution_count": null,
   "metadata": {
    "id": "IX9hgDgUBIY5"
   },
   "outputs": [],
   "source": [
    "y_pred = model.predict_proba(x_test)[:, 1]\n",
    "result = pd.DataFrame({'index' : x_test.index, 'y_pred' : y_pred})\n",
    "result.to_csv('00300.csv', index = False)"
   ]
  }
 ],
 "metadata": {
  "colab": {
   "authorship_tag": "ABX9TyOVT7M/SxTPaWSJA+u/zMge",
   "provenance": []
  },
  "kernelspec": {
   "display_name": "Python 3 (ipykernel)",
   "language": "python",
   "name": "python3"
  },
  "language_info": {
   "codemirror_mode": {
    "name": "ipython",
    "version": 3
   },
   "file_extension": ".py",
   "mimetype": "text/x-python",
   "name": "python",
   "nbconvert_exporter": "python",
   "pygments_lexer": "ipython3",
   "version": "3.11.5"
  },
  "toc": {
   "base_numbering": 1,
   "nav_menu": {},
   "number_sections": true,
   "sideBar": true,
   "skip_h1_title": false,
   "title_cell": "Table of Contents",
   "title_sidebar": "Contents",
   "toc_cell": false,
   "toc_position": {
    "height": "calc(100% - 180px)",
    "left": "10px",
    "top": "150px",
    "width": "382.734px"
   },
   "toc_section_display": true,
   "toc_window_display": true
  }
 },
 "nbformat": 4,
 "nbformat_minor": 1
}
