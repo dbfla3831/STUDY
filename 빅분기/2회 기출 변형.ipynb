{
 "cells": [
  {
   "cell_type": "markdown",
   "metadata": {
    "id": "x2JG_ZccPVYi"
   },
   "source": [
    "# 작업 1유형"
   ]
  },
  {
   "cell_type": "markdown",
   "metadata": {
    "id": "rW2Clcp9PRGI"
   },
   "source": [
    "## 주어진 Dataset에서 CRIM값이 가장 큰 10개의 지역을 구하고 10개의 지역의 CRIM값을 그 중 가장 작은 값으로 대체하라. 그리고 AGE 컬럼 값이 80이상인 대체 된 CRIM 평균값을 구하라"
   ]
  },
  {
   "cell_type": "code",
   "execution_count": 6,
   "metadata": {
    "colab": {
     "base_uri": "https://localhost:8080/"
    },
    "executionInfo": {
     "elapsed": 4,
     "status": "ok",
     "timestamp": 1701439182120,
     "user": {
      "displayName": "김유림",
      "userId": "09242611142827377637"
     },
     "user_tz": -540
    },
    "id": "l5bFDWbePNEZ",
    "outputId": "7baa267e-fc75-435c-d2a3-6709b52f5d6f"
   },
   "outputs": [
    {
     "name": "stdout",
     "output_type": "stream",
     "text": [
      "5.759386625\n"
     ]
    }
   ],
   "source": [
    "import pandas as pd\n",
    "df = pd.read_csv('https://raw.githubusercontent.com/Datamanim/datarepo/main/krdatacertificate/e2_p1_1.csv')\n",
    "\n",
    "res_df = df.sort_values('CRIM', ascending = False).reset_index(drop = True)\n",
    "res_df.iloc[:10, 0] = res_df.iloc[:10, 0].min()\n",
    "res = res_df[res_df['AGE'] >= 80]['CRIM'].mean()\n",
    "print(res)"
   ]
  },
  {
   "cell_type": "markdown",
   "metadata": {
    "id": "OFfoKec3U3yD"
   },
   "source": [
    "## 1.1에서 사용한 데이터에서 RM 중앙값으로 해당 컬럼의 결측치를 대체하라 그리고 해당 컬럼의 결측치 대치 전후의 표준편차 차이의 절댓값을 소숫점 이하 3째자리 까지 구하라"
   ]
  },
  {
   "cell_type": "code",
   "execution_count": 14,
   "metadata": {
    "colab": {
     "base_uri": "https://localhost:8080/"
    },
    "executionInfo": {
     "elapsed": 6,
     "status": "ok",
     "timestamp": 1701439441232,
     "user": {
      "displayName": "김유림",
      "userId": "09242611142827377637"
     },
     "user_tz": -540
    },
    "id": "bzwh9y9xPM_5",
    "outputId": "c0299466-de37-458e-99e4-c5878d463033"
   },
   "outputs": [
    {
     "name": "stdout",
     "output_type": "stream",
     "text": [
      "0.027\n"
     ]
    }
   ],
   "source": [
    "import pandas as pd\n",
    "df = pd.read_csv('https://raw.githubusercontent.com/Datamanim/datarepo/main/krdatacertificate/e2_p1_1.csv')\n",
    "df.head()\n",
    "\n",
    "s1 = df['RM'].std()\n",
    "s2 = df['RM'].fillna(df['RM'].median()).std()\n",
    "\n",
    "res = round(abs(s1 - s2), 3)\n",
    "print(res)"
   ]
  },
  {
   "cell_type": "markdown",
   "metadata": {
    "id": "rY9F8DJuVhc0"
   },
   "source": [
    "## 주어진 Dataset의 DIS 평균으로 부터 1.5 * 표준편차를 벗어나는 영역을 이상치라고 판단하고 DIS 컬럼의 이상치들의 합을 구하여라."
   ]
  },
  {
   "cell_type": "code",
   "execution_count": 27,
   "metadata": {
    "colab": {
     "base_uri": "https://localhost:8080/"
    },
    "executionInfo": {
     "elapsed": 6,
     "status": "ok",
     "timestamp": 1701439692965,
     "user": {
      "displayName": "김유림",
      "userId": "09242611142827377637"
     },
     "user_tz": -540
    },
    "id": "OTDFZTZePM9Z",
    "outputId": "39eb2707-3286-4a4c-b511-48c0275b2882"
   },
   "outputs": [
    {
     "name": "stdout",
     "output_type": "stream",
     "text": [
      "404.4101\n"
     ]
    }
   ],
   "source": [
    "import pandas as pd\n",
    "df = pd.read_csv('https://raw.githubusercontent.com/Datamanim/datarepo/main/krdatacertificate/e2_p1_1.csv')\n",
    "\n",
    "o_l = df['DIS'].mean() - 1.5 * df['DIS'].std()\n",
    "o_p = df['DIS'].mean() + 1.5 * df['DIS'].std()\n",
    "\n",
    "res = df[(df['DIS'] > o_p) | (df['DIS'] < o_l)]['DIS'].sum()\n",
    "print(res)"
   ]
  },
  {
   "cell_type": "markdown",
   "metadata": {
    "id": "zUMCq8w-XSOS"
   },
   "source": [
    "# 작업 2유형"
   ]
  },
  {
   "cell_type": "markdown",
   "metadata": {
    "id": "dw1T5LUuXYHy"
   },
   "source": [
    "x_train 데이터로 학습한 모델을 x_test에 적용하여 예측한 결과를 제출하라. 평가 지표는 f1_score이다. -> 분류"
   ]
  },
  {
   "cell_type": "markdown",
   "metadata": {},
   "source": [
    "## 방법 1. dummies"
   ]
  },
  {
   "cell_type": "code",
   "execution_count": null,
   "metadata": {
    "colab": {
     "base_uri": "https://localhost:8080/"
    },
    "executionInfo": {
     "elapsed": 3168,
     "status": "ok",
     "timestamp": 1701055659488,
     "user": {
      "displayName": "김유림",
      "userId": "09242611142827377637"
     },
     "user_tz": -540
    },
    "id": "xviqMwpKXRbT",
    "outputId": "f14fd52b-f345-4fa0-8b76-6006bed33e82"
   },
   "outputs": [
    {
     "name": "stdout",
     "output_type": "stream",
     "text": [
      "as tr :  1.0\n",
      "as val :  0.6595959595959596\n",
      "f1 tr :  1.0\n",
      "f1 val :  0.6913919413919413\n"
     ]
    }
   ],
   "source": [
    "import pandas as pd\n",
    "#데이터 로드\n",
    "x_train = pd.read_csv(\"https://raw.githubusercontent.com/Datamanim/datarepo/main/shipping/X_train.csv\")\n",
    "y_train = pd.read_csv(\"https://raw.githubusercontent.com/Datamanim/datarepo/main/shipping/y_train.csv\")\n",
    "x_test= pd.read_csv(\"https://raw.githubusercontent.com/Datamanim/datarepo/main/shipping/X_test.csv\")\n",
    "\n",
    "col_drop = ['ID']\n",
    "col_num = ['Customer_rating', 'Cost_of_the_Product', 'Prior_purchases', 'Discount_offered', 'Weight_in_gms']\n",
    "col_cat = ['Customer_care_calls','Gender','Mode_of_Shipment','Product_importance','Warehouse_block']\n",
    "test_id = x_test['ID']\n",
    "\n",
    "x_train = x_train.drop(col_drop, axis = 1)\n",
    "x_test = x_test.drop(col_drop, axis = 1)\n",
    "y_train = y_train.drop(col_drop, axis = 1)\n",
    "\n",
    "# dummies\n",
    "x_train_dum = pd.get_dummies(x_train)\n",
    "x_test_dum = pd.get_dummies(x_test)\n",
    "x_test_dum = x_test_dum[x_train_dum.columns]\n",
    "\n",
    "# split\n",
    "from sklearn.model_selection import train_test_split\n",
    "x_tr, x_val, y_tr, y_val = train_test_split(x_train_dum, y_train.values.ravel(), test_size = 0.3, stratify = y_train.values.ravel())\n",
    "\n",
    "# scaler\n",
    "from sklearn.preprocessing import MinMaxScaler\n",
    "scaler = MinMaxScaler()\n",
    "scaler.fit(x_tr[col_num])\n",
    "\n",
    "x_tr[col_num] = scaler.transform(x_tr[col_num])\n",
    "x_val[col_num] = scaler.transform(x_val[col_num])\n",
    "x_test_dum[col_num] = scaler.transform(x_test_dum[col_num])\n",
    "\n",
    "# model\n",
    "from sklearn.ensemble import RandomForestClassifier\n",
    "model = RandomForestClassifier()\n",
    "model.fit(x_tr, y_tr)\n",
    "\n",
    "from sklearn.metrics import accuracy_score\n",
    "y_pred_tr = model.predict(x_tr)\n",
    "print('as tr : ', accuracy_score(y_pred_tr, y_tr))\n",
    "\n",
    "y_pred_val = model.predict(x_val)\n",
    "print('as val : ', accuracy_score(y_pred_val, y_val))\n",
    "\n",
    "from sklearn.metrics import f1_score\n",
    "y_pred_tr = model.predict(x_tr)\n",
    "print('f1 tr : ', f1_score(y_tr, y_pred_tr))\n",
    "\n",
    "y_pred_val = model.predict(x_val)\n",
    "print('f1 val : ', f1_score(y_val, y_pred_val))\n",
    "\n",
    "y_pred = model.predict(x_test_dum)\n",
    "result = pd.DataFrame({'ID' : test_id, 'Reached.on.Time_Y.N' : y_pred})\n",
    "result.to_csv('00300.csv', index = False)"
   ]
  },
  {
   "cell_type": "markdown",
   "metadata": {},
   "source": [
    "## 방법 2. OneHotEncoder, RandomForestClassifier"
   ]
  },
  {
   "cell_type": "code",
   "execution_count": null,
   "metadata": {
    "colab": {
     "base_uri": "https://localhost:8080/"
    },
    "executionInfo": {
     "elapsed": 2815,
     "status": "ok",
     "timestamp": 1701056199282,
     "user": {
      "displayName": "김유림",
      "userId": "09242611142827377637"
     },
     "user_tz": -540
    },
    "id": "cmq-c8kQzLIJ",
    "outputId": "0d11ded5-5255-40ee-847d-095908abdbb5"
   },
   "outputs": [
    {
     "name": "stdout",
     "output_type": "stream",
     "text": [
      "as tr :  1.0\n",
      "as val :  0.658080808080808\n",
      "f1 tr :  1.0\n",
      "f1 val :  0.6926917839310032\n"
     ]
    }
   ],
   "source": [
    "import pandas as pd\n",
    "#데이터 로드\n",
    "x_train = pd.read_csv(\"https://raw.githubusercontent.com/Datamanim/datarepo/main/shipping/X_train.csv\")\n",
    "y_train = pd.read_csv(\"https://raw.githubusercontent.com/Datamanim/datarepo/main/shipping/y_train.csv\")\n",
    "x_test= pd.read_csv(\"https://raw.githubusercontent.com/Datamanim/datarepo/main/shipping/X_test.csv\")\n",
    "\n",
    "col_drop = ['ID']\n",
    "col_num = ['Customer_rating', 'Cost_of_the_Product', 'Prior_purchases', 'Discount_offered', 'Weight_in_gms']\n",
    "col_cat = ['Customer_care_calls','Gender','Mode_of_Shipment','Product_importance','Warehouse_block']\n",
    "test_id = x_test['ID']\n",
    "\n",
    "x_train = x_train.drop(col_drop, axis = 1)\n",
    "x_test = x_test.drop(col_drop, axis = 1)\n",
    "y_train = y_train.drop(col_drop, axis = 1)\n",
    "\n",
    "# ohe\n",
    "x = pd.concat([x_train, x_test])\n",
    "from sklearn.preprocessing import OneHotEncoder\n",
    "ohe = OneHotEncoder(handle_unknown = 'ignore')\n",
    "ohe.fit(x[col_cat])\n",
    "\n",
    "x_train_res = ohe.transform(x_train[col_cat])\n",
    "x_test_res = ohe.transform(x_test[col_cat])\n",
    "\n",
    "x_train_ohe = pd.DataFrame(x_train_res.todense(), columns = ohe.get_feature_names_out())\n",
    "x_test_ohe = pd.DataFrame(x_test_res.todense(), columns = ohe.get_feature_names_out())\n",
    "\n",
    "x_train_fin = pd.concat([x_train_ohe, x_train[col_num]], axis = 1)\n",
    "x_test_fin = pd.concat([x_test_ohe, x_test[col_num]], axis = 1)\n",
    "\n",
    "# split\n",
    "from sklearn.model_selection import train_test_split\n",
    "x_tr, x_val, y_tr, y_val = train_test_split(x_train_fin, y_train.values.ravel(), test_size = 0.3, stratify = y_train.values.ravel())\n",
    "\n",
    "# scaler\n",
    "from sklearn.preprocessing import MinMaxScaler\n",
    "scaler = MinMaxScaler()\n",
    "scaler.fit(x_tr[col_num])\n",
    "\n",
    "x_tr[col_num] = scaler.transform(x_tr[col_num])\n",
    "x_val[col_num] = scaler.transform(x_val[col_num])\n",
    "x_test_fin[col_num] = scaler.transform(x_test_fin[col_num])\n",
    "\n",
    "# model\n",
    "from sklearn.ensemble import RandomForestClassifier\n",
    "model = RandomForestClassifier(n_estimators = 100, random_state  = 1234, max_depth = 50)\n",
    "model.fit(x_tr, y_tr)\n",
    "\n",
    "from sklearn.metrics import accuracy_score\n",
    "y_pred_tr = model.predict(x_tr)\n",
    "print('as tr : ', accuracy_score(y_pred_tr, y_tr))\n",
    "\n",
    "y_pred_val = model.predict(x_val)\n",
    "print('as val : ', accuracy_score(y_pred_val, y_val))\n",
    "\n",
    "from sklearn.metrics import f1_score\n",
    "y_pred_tr = model.predict(x_tr)\n",
    "print('f1 tr : ', f1_score(y_tr, y_pred_tr))\n",
    "\n",
    "y_pred_val = model.predict(x_val)\n",
    "print('f1 val : ', f1_score(y_val, y_pred_val))\n",
    "\n",
    "y_pred = model.predict(x_test_fin)\n",
    "result = pd.DataFrame({'ID' : test_id, 'Reached.on.Time_Y.N' : y_pred})\n",
    "result.to_csv('00300.csv', index = False)"
   ]
  },
  {
   "cell_type": "markdown",
   "metadata": {},
   "source": [
    "## 방법 2. OneHotEncoder, XGBClassifier"
   ]
  },
  {
   "cell_type": "code",
   "execution_count": null,
   "metadata": {
    "colab": {
     "base_uri": "https://localhost:8080/"
    },
    "executionInfo": {
     "elapsed": 2421,
     "status": "ok",
     "timestamp": 1701056569719,
     "user": {
      "displayName": "김유림",
      "userId": "09242611142827377637"
     },
     "user_tz": -540
    },
    "id": "jR-icVWp2dKp",
    "outputId": "3c1f803a-1c6f-409c-d4c6-ecceea35086a"
   },
   "outputs": [
    {
     "name": "stdout",
     "output_type": "stream",
     "text": [
      "as tr :  0.9699003897791252\n",
      "as val :  0.6555555555555556\n",
      "f1 tr :  0.9744156083195288\n",
      "f1 val :  0.6982300884955752\n"
     ]
    }
   ],
   "source": [
    "import pandas as pd\n",
    "#데이터 로드\n",
    "x_train = pd.read_csv(\"https://raw.githubusercontent.com/Datamanim/datarepo/main/shipping/X_train.csv\")\n",
    "y_train = pd.read_csv(\"https://raw.githubusercontent.com/Datamanim/datarepo/main/shipping/y_train.csv\")\n",
    "x_test= pd.read_csv(\"https://raw.githubusercontent.com/Datamanim/datarepo/main/shipping/X_test.csv\")\n",
    "\n",
    "col_drop = ['ID']\n",
    "col_num = ['Customer_rating', 'Cost_of_the_Product', 'Prior_purchases', 'Discount_offered', 'Weight_in_gms']\n",
    "col_cat = ['Customer_care_calls','Gender','Mode_of_Shipment','Product_importance','Warehouse_block']\n",
    "test_id = x_test['ID']\n",
    "\n",
    "x_train = x_train.drop(col_drop, axis = 1)\n",
    "x_test = x_test.drop(col_drop, axis = 1)\n",
    "y_train = y_train.drop(col_drop, axis = 1)\n",
    "\n",
    "# ohe\n",
    "x = pd.concat([x_train, x_test])\n",
    "from sklearn.preprocessing import OneHotEncoder\n",
    "ohe = OneHotEncoder(handle_unknown = 'ignore')\n",
    "ohe.fit(x[col_cat])\n",
    "\n",
    "x_train_res = ohe.transform(x_train[col_cat])\n",
    "x_test_res = ohe.transform(x_test[col_cat])\n",
    "\n",
    "x_train_ohe = pd.DataFrame(x_train_res.todense(), columns = ohe.get_feature_names_out())\n",
    "x_test_ohe = pd.DataFrame(x_test_res.todense(), columns = ohe.get_feature_names_out())\n",
    "\n",
    "x_train_fin = pd.concat([x_train_ohe, x_train[col_num]], axis = 1)\n",
    "x_test_fin = pd.concat([x_test_ohe, x_test[col_num]], axis = 1)\n",
    "\n",
    "# split\n",
    "from sklearn.model_selection import train_test_split\n",
    "x_tr, x_val, y_tr, y_val = train_test_split(x_train_fin, y_train.values.ravel(), test_size = 0.3, stratify = y_train.values.ravel())\n",
    "\n",
    "# scaler\n",
    "from sklearn.preprocessing import MinMaxScaler\n",
    "scaler = MinMaxScaler()\n",
    "scaler.fit(x_tr[col_num])\n",
    "\n",
    "x_tr[col_num] = scaler.transform(x_tr[col_num])\n",
    "x_val[col_num] = scaler.transform(x_val[col_num])\n",
    "x_test_fin[col_num] = scaler.transform(x_test_fin[col_num])\n",
    "\n",
    "# model\n",
    "from xgboost import XGBClassifier\n",
    "\n",
    "model = XGBClassifier(random_state=123)\n",
    "model.fit(x_tr, y_tr)\n",
    "\n",
    "from sklearn.metrics import accuracy_score\n",
    "y_pred_tr = model.predict(x_tr)\n",
    "print('as tr : ', accuracy_score(y_pred_tr, y_tr))\n",
    "\n",
    "y_pred_val = model.predict(x_val)\n",
    "print('as val : ', accuracy_score(y_pred_val, y_val))\n",
    "\n",
    "from sklearn.metrics import f1_score\n",
    "y_pred_tr = model.predict(x_tr)\n",
    "print('f1 tr : ', f1_score(y_tr, y_pred_tr))\n",
    "\n",
    "y_pred_val = model.predict(x_val)\n",
    "print('f1 val : ', f1_score(y_val, y_pred_val))\n",
    "\n",
    "y_pred = model.predict(x_test_fin)\n",
    "result = pd.DataFrame({'ID' : test_id, 'Reached.on.Time_Y.N' : y_pred})\n",
    "result.to_csv('00300.csv', index = False)"
   ]
  },
  {
   "cell_type": "markdown",
   "metadata": {
    "id": "edsllh072dYx"
   },
   "source": [
    "# 작업 3유형"
   ]
  },
  {
   "cell_type": "markdown",
   "metadata": {},
   "source": [
    "##"
   ]
  },
  {
   "cell_type": "code",
   "execution_count": 36,
   "metadata": {
    "colab": {
     "base_uri": "https://localhost:8080/",
     "height": 206
    },
    "executionInfo": {
     "elapsed": 374,
     "status": "ok",
     "timestamp": 1701439849883,
     "user": {
      "displayName": "김유림",
      "userId": "09242611142827377637"
     },
     "user_tz": -540
    },
    "id": "tunE6o5T2dPh",
    "outputId": "5770437e-8118-4664-be47-bd7c9d683c9b"
   },
   "outputs": [
    {
     "data": {
      "text/html": [
       "\n",
       "  <div id=\"df-e36de935-1f39-4faa-8ec2-16bcf440a19a\" class=\"colab-df-container\">\n",
       "    <div>\n",
       "<style scoped>\n",
       "    .dataframe tbody tr th:only-of-type {\n",
       "        vertical-align: middle;\n",
       "    }\n",
       "\n",
       "    .dataframe tbody tr th {\n",
       "        vertical-align: top;\n",
       "    }\n",
       "\n",
       "    .dataframe thead th {\n",
       "        text-align: right;\n",
       "    }\n",
       "</style>\n",
       "<table border=\"1\" class=\"dataframe\">\n",
       "  <thead>\n",
       "    <tr style=\"text-align: right;\">\n",
       "      <th></th>\n",
       "      <th>fish</th>\n",
       "      <th>height</th>\n",
       "    </tr>\n",
       "  </thead>\n",
       "  <tbody>\n",
       "    <tr>\n",
       "      <th>0</th>\n",
       "      <td>fish_1</td>\n",
       "      <td>33.74cm</td>\n",
       "    </tr>\n",
       "    <tr>\n",
       "      <th>1</th>\n",
       "      <td>fish_2</td>\n",
       "      <td>31.64cm</td>\n",
       "    </tr>\n",
       "    <tr>\n",
       "      <th>2</th>\n",
       "      <td>fish_3</td>\n",
       "      <td>27.49cm</td>\n",
       "    </tr>\n",
       "    <tr>\n",
       "      <th>3</th>\n",
       "      <td>fish_4</td>\n",
       "      <td>31.43cm</td>\n",
       "    </tr>\n",
       "    <tr>\n",
       "      <th>4</th>\n",
       "      <td>fish_5</td>\n",
       "      <td>27.56cm</td>\n",
       "    </tr>\n",
       "  </tbody>\n",
       "</table>\n",
       "</div>\n",
       "    <div class=\"colab-df-buttons\">\n",
       "\n",
       "  <div class=\"colab-df-container\">\n",
       "    <button class=\"colab-df-convert\" onclick=\"convertToInteractive('df-e36de935-1f39-4faa-8ec2-16bcf440a19a')\"\n",
       "            title=\"Convert this dataframe to an interactive table.\"\n",
       "            style=\"display:none;\">\n",
       "\n",
       "  <svg xmlns=\"http://www.w3.org/2000/svg\" height=\"24px\" viewBox=\"0 -960 960 960\">\n",
       "    <path d=\"M120-120v-720h720v720H120Zm60-500h600v-160H180v160Zm220 220h160v-160H400v160Zm0 220h160v-160H400v160ZM180-400h160v-160H180v160Zm440 0h160v-160H620v160ZM180-180h160v-160H180v160Zm440 0h160v-160H620v160Z\"/>\n",
       "  </svg>\n",
       "    </button>\n",
       "\n",
       "  <style>\n",
       "    .colab-df-container {\n",
       "      display:flex;\n",
       "      gap: 12px;\n",
       "    }\n",
       "\n",
       "    .colab-df-convert {\n",
       "      background-color: #E8F0FE;\n",
       "      border: none;\n",
       "      border-radius: 50%;\n",
       "      cursor: pointer;\n",
       "      display: none;\n",
       "      fill: #1967D2;\n",
       "      height: 32px;\n",
       "      padding: 0 0 0 0;\n",
       "      width: 32px;\n",
       "    }\n",
       "\n",
       "    .colab-df-convert:hover {\n",
       "      background-color: #E2EBFA;\n",
       "      box-shadow: 0px 1px 2px rgba(60, 64, 67, 0.3), 0px 1px 3px 1px rgba(60, 64, 67, 0.15);\n",
       "      fill: #174EA6;\n",
       "    }\n",
       "\n",
       "    .colab-df-buttons div {\n",
       "      margin-bottom: 4px;\n",
       "    }\n",
       "\n",
       "    [theme=dark] .colab-df-convert {\n",
       "      background-color: #3B4455;\n",
       "      fill: #D2E3FC;\n",
       "    }\n",
       "\n",
       "    [theme=dark] .colab-df-convert:hover {\n",
       "      background-color: #434B5C;\n",
       "      box-shadow: 0px 1px 3px 1px rgba(0, 0, 0, 0.15);\n",
       "      filter: drop-shadow(0px 1px 2px rgba(0, 0, 0, 0.3));\n",
       "      fill: #FFFFFF;\n",
       "    }\n",
       "  </style>\n",
       "\n",
       "    <script>\n",
       "      const buttonEl =\n",
       "        document.querySelector('#df-e36de935-1f39-4faa-8ec2-16bcf440a19a button.colab-df-convert');\n",
       "      buttonEl.style.display =\n",
       "        google.colab.kernel.accessAllowed ? 'block' : 'none';\n",
       "\n",
       "      async function convertToInteractive(key) {\n",
       "        const element = document.querySelector('#df-e36de935-1f39-4faa-8ec2-16bcf440a19a');\n",
       "        const dataTable =\n",
       "          await google.colab.kernel.invokeFunction('convertToInteractive',\n",
       "                                                    [key], {});\n",
       "        if (!dataTable) return;\n",
       "\n",
       "        const docLinkHtml = 'Like what you see? Visit the ' +\n",
       "          '<a target=\"_blank\" href=https://colab.research.google.com/notebooks/data_table.ipynb>data table notebook</a>'\n",
       "          + ' to learn more about interactive tables.';\n",
       "        element.innerHTML = '';\n",
       "        dataTable['output_type'] = 'display_data';\n",
       "        await google.colab.output.renderOutput(dataTable, element);\n",
       "        const docLink = document.createElement('div');\n",
       "        docLink.innerHTML = docLinkHtml;\n",
       "        element.appendChild(docLink);\n",
       "      }\n",
       "    </script>\n",
       "  </div>\n",
       "\n",
       "\n",
       "<div id=\"df-7cf95902-9e69-4f9f-89ec-64bab436f97d\">\n",
       "  <button class=\"colab-df-quickchart\" onclick=\"quickchart('df-7cf95902-9e69-4f9f-89ec-64bab436f97d')\"\n",
       "            title=\"Suggest charts\"\n",
       "            style=\"display:none;\">\n",
       "\n",
       "<svg xmlns=\"http://www.w3.org/2000/svg\" height=\"24px\"viewBox=\"0 0 24 24\"\n",
       "     width=\"24px\">\n",
       "    <g>\n",
       "        <path d=\"M19 3H5c-1.1 0-2 .9-2 2v14c0 1.1.9 2 2 2h14c1.1 0 2-.9 2-2V5c0-1.1-.9-2-2-2zM9 17H7v-7h2v7zm4 0h-2V7h2v10zm4 0h-2v-4h2v4z\"/>\n",
       "    </g>\n",
       "</svg>\n",
       "  </button>\n",
       "\n",
       "<style>\n",
       "  .colab-df-quickchart {\n",
       "      --bg-color: #E8F0FE;\n",
       "      --fill-color: #1967D2;\n",
       "      --hover-bg-color: #E2EBFA;\n",
       "      --hover-fill-color: #174EA6;\n",
       "      --disabled-fill-color: #AAA;\n",
       "      --disabled-bg-color: #DDD;\n",
       "  }\n",
       "\n",
       "  [theme=dark] .colab-df-quickchart {\n",
       "      --bg-color: #3B4455;\n",
       "      --fill-color: #D2E3FC;\n",
       "      --hover-bg-color: #434B5C;\n",
       "      --hover-fill-color: #FFFFFF;\n",
       "      --disabled-bg-color: #3B4455;\n",
       "      --disabled-fill-color: #666;\n",
       "  }\n",
       "\n",
       "  .colab-df-quickchart {\n",
       "    background-color: var(--bg-color);\n",
       "    border: none;\n",
       "    border-radius: 50%;\n",
       "    cursor: pointer;\n",
       "    display: none;\n",
       "    fill: var(--fill-color);\n",
       "    height: 32px;\n",
       "    padding: 0;\n",
       "    width: 32px;\n",
       "  }\n",
       "\n",
       "  .colab-df-quickchart:hover {\n",
       "    background-color: var(--hover-bg-color);\n",
       "    box-shadow: 0 1px 2px rgba(60, 64, 67, 0.3), 0 1px 3px 1px rgba(60, 64, 67, 0.15);\n",
       "    fill: var(--button-hover-fill-color);\n",
       "  }\n",
       "\n",
       "  .colab-df-quickchart-complete:disabled,\n",
       "  .colab-df-quickchart-complete:disabled:hover {\n",
       "    background-color: var(--disabled-bg-color);\n",
       "    fill: var(--disabled-fill-color);\n",
       "    box-shadow: none;\n",
       "  }\n",
       "\n",
       "  .colab-df-spinner {\n",
       "    border: 2px solid var(--fill-color);\n",
       "    border-color: transparent;\n",
       "    border-bottom-color: var(--fill-color);\n",
       "    animation:\n",
       "      spin 1s steps(1) infinite;\n",
       "  }\n",
       "\n",
       "  @keyframes spin {\n",
       "    0% {\n",
       "      border-color: transparent;\n",
       "      border-bottom-color: var(--fill-color);\n",
       "      border-left-color: var(--fill-color);\n",
       "    }\n",
       "    20% {\n",
       "      border-color: transparent;\n",
       "      border-left-color: var(--fill-color);\n",
       "      border-top-color: var(--fill-color);\n",
       "    }\n",
       "    30% {\n",
       "      border-color: transparent;\n",
       "      border-left-color: var(--fill-color);\n",
       "      border-top-color: var(--fill-color);\n",
       "      border-right-color: var(--fill-color);\n",
       "    }\n",
       "    40% {\n",
       "      border-color: transparent;\n",
       "      border-right-color: var(--fill-color);\n",
       "      border-top-color: var(--fill-color);\n",
       "    }\n",
       "    60% {\n",
       "      border-color: transparent;\n",
       "      border-right-color: var(--fill-color);\n",
       "    }\n",
       "    80% {\n",
       "      border-color: transparent;\n",
       "      border-right-color: var(--fill-color);\n",
       "      border-bottom-color: var(--fill-color);\n",
       "    }\n",
       "    90% {\n",
       "      border-color: transparent;\n",
       "      border-bottom-color: var(--fill-color);\n",
       "    }\n",
       "  }\n",
       "</style>\n",
       "\n",
       "  <script>\n",
       "    async function quickchart(key) {\n",
       "      const quickchartButtonEl =\n",
       "        document.querySelector('#' + key + ' button');\n",
       "      quickchartButtonEl.disabled = true;  // To prevent multiple clicks.\n",
       "      quickchartButtonEl.classList.add('colab-df-spinner');\n",
       "      try {\n",
       "        const charts = await google.colab.kernel.invokeFunction(\n",
       "            'suggestCharts', [key], {});\n",
       "      } catch (error) {\n",
       "        console.error('Error during call to suggestCharts:', error);\n",
       "      }\n",
       "      quickchartButtonEl.classList.remove('colab-df-spinner');\n",
       "      quickchartButtonEl.classList.add('colab-df-quickchart-complete');\n",
       "    }\n",
       "    (() => {\n",
       "      let quickchartButtonEl =\n",
       "        document.querySelector('#df-7cf95902-9e69-4f9f-89ec-64bab436f97d button');\n",
       "      quickchartButtonEl.style.display =\n",
       "        google.colab.kernel.accessAllowed ? 'block' : 'none';\n",
       "    })();\n",
       "  </script>\n",
       "</div>\n",
       "    </div>\n",
       "  </div>\n"
      ],
      "text/plain": [
       "     fish   height\n",
       "0  fish_1  33.74cm\n",
       "1  fish_2  31.64cm\n",
       "2  fish_3  27.49cm\n",
       "3  fish_4  31.43cm\n",
       "4  fish_5  27.56cm"
      ]
     },
     "execution_count": 36,
     "metadata": {},
     "output_type": "execute_result"
    }
   ],
   "source": [
    "import pandas as pd\n",
    "df = pd.read_csv('https://raw.githubusercontent.com/Datamanim/datarepo/main/krdatacertificate/e2_p3_1.csv')\n",
    "df.head(5)"
   ]
  },
  {
   "cell_type": "markdown",
   "metadata": {
    "id": "RzWvYEW-2itZ"
   },
   "source": [
    "### 122마리의 height 평균값을 m(미터) 단위로 소숫점 이하 5자리까지 실수 값만 출력하라"
   ]
  },
  {
   "cell_type": "code",
   "execution_count": 37,
   "metadata": {
    "colab": {
     "base_uri": "https://localhost:8080/"
    },
    "executionInfo": {
     "elapsed": 2,
     "status": "ok",
     "timestamp": 1701439850193,
     "user": {
      "displayName": "김유림",
      "userId": "09242611142827377637"
     },
     "user_tz": -540
    },
    "id": "SMVRTj7mtYB8",
    "outputId": "eac84b94-0ef6-4866-c2c6-9fe64532758c"
   },
   "outputs": [
    {
     "name": "stdout",
     "output_type": "stream",
     "text": [
      "0.29951\n"
     ]
    }
   ],
   "source": [
    "df['height'] = df['height'].str.replace('cm', '').astype('float')\n",
    "res = round((df['height'] / 100).mean(), 5)\n",
    "print(res)"
   ]
  },
  {
   "cell_type": "markdown",
   "metadata": {
    "id": "mQsfSNz34FAC"
   },
   "source": [
    "### 모집단의 평균 길이가 30cm 인지 확인하려 일표본 t 검정을 시행하여 확인하려한다. 검정통계량을 소숫점 이하 3째자리까지 구하여라"
   ]
  },
  {
   "cell_type": "code",
   "execution_count": 40,
   "metadata": {
    "colab": {
     "base_uri": "https://localhost:8080/"
    },
    "executionInfo": {
     "elapsed": 324,
     "status": "ok",
     "timestamp": 1701439912008,
     "user": {
      "displayName": "김유림",
      "userId": "09242611142827377637"
     },
     "user_tz": -540
    },
    "id": "O9JhIhq6t-yy",
    "outputId": "fa40c236-3efc-49aa-a808-0eae0594bc43"
   },
   "outputs": [
    {
     "name": "stdout",
     "output_type": "stream",
     "text": [
      "-0.217\n"
     ]
    }
   ],
   "source": [
    "from scipy.stats import ttest_1samp\n",
    "\n",
    "t, p = ttest_1samp(df['height'], 30)\n",
    "res = round(t, 3)\n",
    "print(res)"
   ]
  },
  {
   "cell_type": "markdown",
   "metadata": {
    "id": "U_H4Xb8w4HpK"
   },
   "source": [
    "### 위의 통계량에 대한 p-값을 구하고 (반올림하여 소숫점 이하 3째자리), 유의수준 0.05하에서 귀무가설과 대립가설중 유의한 가설을 하나를 선택하시오(귀무/대립)"
   ]
  },
  {
   "cell_type": "code",
   "execution_count": 41,
   "metadata": {
    "colab": {
     "base_uri": "https://localhost:8080/"
    },
    "executionInfo": {
     "elapsed": 304,
     "status": "ok",
     "timestamp": 1701439939926,
     "user": {
      "displayName": "김유림",
      "userId": "09242611142827377637"
     },
     "user_tz": -540
    },
    "id": "kR0m_eDguNUo",
    "outputId": "e1d0da64-db71-4175-ad9a-f21a8c0658a7"
   },
   "outputs": [
    {
     "name": "stdout",
     "output_type": "stream",
     "text": [
      "0.829\n",
      "귀무\n"
     ]
    }
   ],
   "source": [
    "from scipy.stats import ttest_1samp\n",
    "\n",
    "t, p = ttest_1samp(df['height'], 30)\n",
    "res = round(p, 3)\n",
    "print(res)\n",
    "\n",
    "if res < 0.05:\n",
    "    print('대립')\n",
    "else:\n",
    "    print('귀무')"
   ]
  },
  {
   "cell_type": "markdown",
   "metadata": {
    "id": "_5J0QcLV4LiR"
   },
   "source": [
    "조사결과 70%의 성인 남성이 3년 동안에 적어도 1번 치과를 찾는다고 할때, 21명의 성인 남성이 임의로 추출되었다고 하자."
   ]
  },
  {
   "cell_type": "markdown",
   "metadata": {},
   "source": [
    "##"
   ]
  },
  {
   "cell_type": "markdown",
   "metadata": {
    "id": "sHNylYhr4M-R"
   },
   "source": [
    "### 21명 중 16명 미만이 치과를 찾았을 확률(반올림하여 소숫점 이하 3자리)"
   ]
  },
  {
   "cell_type": "code",
   "execution_count": null,
   "metadata": {
    "colab": {
     "base_uri": "https://localhost:8080/"
    },
    "executionInfo": {
     "elapsed": 7,
     "status": "ok",
     "timestamp": 1701062068170,
     "user": {
      "displayName": "김유림",
      "userId": "09242611142827377637"
     },
     "user_tz": -540
    },
    "id": "-762QTbc3KlR",
    "outputId": "16552a38-2aaa-41b9-d761-86218ca49da3"
   },
   "outputs": [
    {
     "name": "stdout",
     "output_type": "stream",
     "text": [
      "0.637\n"
     ]
    }
   ],
   "source": [
    "from scipy.stats import binom\n",
    "\n",
    "n = 21\n",
    "p = 0.7\n",
    "k = 16\n",
    "\n",
    "# P(X < k) 계산\n",
    "prob = binom.cdf(k-1, n, p)\n",
    "print(round(prob, 3))"
   ]
  },
  {
   "cell_type": "markdown",
   "metadata": {
    "id": "xlCAXJP04Q_I"
   },
   "source": [
    "### 적어도 19명이 치과를 찾았을 확률(반올림하여 소숫점 이하 3자리)"
   ]
  },
  {
   "cell_type": "code",
   "execution_count": null,
   "metadata": {
    "colab": {
     "base_uri": "https://localhost:8080/"
    },
    "executionInfo": {
     "elapsed": 347,
     "status": "ok",
     "timestamp": 1701062066938,
     "user": {
      "displayName": "김유림",
      "userId": "09242611142827377637"
     },
     "user_tz": -540
    },
    "id": "f3kF3m2F3KjJ",
    "outputId": "62db878b-071d-4793-93ba-30cbd8a6d38a"
   },
   "outputs": [
    {
     "name": "stdout",
     "output_type": "stream",
     "text": [
      "0.027\n"
     ]
    }
   ],
   "source": [
    "from scipy.stats import binom\n",
    "\n",
    "n = 21\n",
    "p = 0.7\n",
    "k = 19\n",
    "\n",
    "# P(X >= k) 계산\n",
    "prob = 1 - binom.cdf(k-1, n, p)\n",
    "print(round(prob, 3))"
   ]
  },
  {
   "cell_type": "code",
   "execution_count": null,
   "metadata": {
    "id": "yq-8ggmMPJIR"
   },
   "outputs": [],
   "source": []
  }
 ],
 "metadata": {
  "colab": {
   "authorship_tag": "ABX9TyMFK46U+8CRCdl9QHMS7euu",
   "provenance": []
  },
  "kernelspec": {
   "display_name": "Python 3 (ipykernel)",
   "language": "python",
   "name": "python3"
  },
  "language_info": {
   "codemirror_mode": {
    "name": "ipython",
    "version": 3
   },
   "file_extension": ".py",
   "mimetype": "text/x-python",
   "name": "python",
   "nbconvert_exporter": "python",
   "pygments_lexer": "ipython3",
   "version": "3.11.5"
  },
  "toc": {
   "base_numbering": 1,
   "nav_menu": {},
   "number_sections": true,
   "sideBar": true,
   "skip_h1_title": false,
   "title_cell": "Table of Contents",
   "title_sidebar": "Contents",
   "toc_cell": false,
   "toc_position": {
    "height": "calc(100% - 180px)",
    "left": "10px",
    "top": "150px",
    "width": "382.734px"
   },
   "toc_section_display": true,
   "toc_window_display": true
  }
 },
 "nbformat": 4,
 "nbformat_minor": 1
}
