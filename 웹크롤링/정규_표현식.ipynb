{
 "cells": [
  {
   "cell_type": "markdown",
   "id": "4438a914",
   "metadata": {},
   "source": [
    "# 정규 표현식"
   ]
  },
  {
   "cell_type": "markdown",
   "id": "e3fc194b",
   "metadata": {},
   "source": [
    ". :문자하나              ex>app.e -> apple\n",
    "\n",
    "^ :문자열의 시작\n",
    "\n",
    "$ :문자열의 끝\n",
    "\n",
    "? :문자하나(없어도 된다.) ex> app?e ->apple, appe \n",
    "\n",
    "| :or(다자택일)          ex> a|bpple -> apple, bpple\n",
    "\n",
    "반복기호: * 0번이상, + 1번이상, {n~m} n~m번 반복 ex>a*pple -> apple,aaaaapple,abpple(X),pple\n",
    "\n",
    "문자클래스[]: []사이의 문자들과 매치 ex>[abc]pple ->apple,bpple,cpple,abpple(X)\n",
    "\n",
    "그룹 ():()사이의 문자와 모두매치   ex> (abc)pple -> abcpple\n",
    "\n",
    "문자클래스 특수용도\n",
    "\n",
    "[0-9] 모든숫자를 의미\n",
    "\n",
    "[a-z] a~z까지를 의미\n",
    "\n",
    "[A-Z] A~Z까지를 의미\n",
    "\n",
    "[a-zA-Z] 모든 알파벳\n",
    "\n",
    "[ㄱ-ㅎㅏ-ㅣ가-힣]  ex>ㅋㅋㅋ,ㅠㅠㅠ,한글매칭\n",
    "\n",
    "\\d : 모든숫자\n",
    "\n",
    "\\D : (반대) 숫자가 아닌거 -> [^0-9]\n",
    "\n",
    "\\w : 모든문자(문자+숫자)\n",
    "\n",
    "\\W : (반대) 문자가 아닌거-> [^a-zA-Z0-9]\n",
    "\n",
    "\\s : 공백(모든공백) \\t(탭) \\n(줄바꿈) \\r(캐리지리턴) \n",
    "\n",
    "\\S : 공백이 아닌거\n",
    "\n",
    "\\b : 단어의 경계, 공백, 탭, 컴마, 대시등\n",
    "\n",
    "\\B : 단어의 경계가 아닌것\n",
    "\n",
    "- re 모듈에서 제공하는 메소드들\n",
    "\n",
    "mathch() : 문자열의 처음부터 정규식과 매칭되는지 조사\n",
    "\n",
    "search() : 문자열의 전체를 검색해서 정규식과 매칭되는지 조사\n",
    "\n",
    "findall() : 정규식과 매치되는 모든 문자열을 리스트로 돌려준다.\n",
    "\n",
    "split(): 정규식과 매치되는 문자열을 기준으로 파싱하여 리스트로 돌려준다."
   ]
  },
  {
   "cell_type": "code",
   "execution_count": 7,
   "id": "affbbc37",
   "metadata": {
    "ExecuteTime": {
     "end_time": "2024-02-16T08:16:13.952977Z",
     "start_time": "2024-02-16T08:16:13.949565Z"
    }
   },
   "outputs": [
    {
     "name": "stdout",
     "output_type": "stream",
     "text": [
      "None\n",
      "<re.Match object; span=(6, 12), match='abthon'>\n",
      "abthon\n"
     ]
    }
   ],
   "source": [
    "import re\n",
    "\n",
    "str = 'ython abthon aa'\n",
    "\n",
    "# ^ : 문자열의 시작\n",
    "# . : 글자 하나를 의미\n",
    "\n",
    "m = re.match('..thon', str) # 문자 찾기\n",
    "print(m)\n",
    "\n",
    "m = re.search('..thon', str) # 문자열 전체를 검색(첫 단어만 검색하려면 ^을 사용)\n",
    "print(m)\n",
    "print(m.group())"
   ]
  },
  {
   "cell_type": "code",
   "execution_count": 10,
   "id": "278bfb01",
   "metadata": {
    "ExecuteTime": {
     "end_time": "2024-02-16T08:18:04.300517Z",
     "start_time": "2024-02-16T08:18:04.295700Z"
    }
   },
   "outputs": [
    {
     "name": "stdout",
     "output_type": "stream",
     "text": [
      "입력받은 문자열 :  good care caae\n",
      "일치하는 문자열 :  care\n",
      "일치하는 문자열의 시작 인덱스 :  5\n",
      "일치하는 문자열의 끝 인덱스 :  9\n",
      "일치하는문자열의 시작과 끝 인덱스 :  (5, 9)\n"
     ]
    }
   ],
   "source": [
    "m = re.search('ca.e', 'good care caae')\n",
    "print('입력받은 문자열 : ', m.string)\n",
    "print('일치하는 문자열 : ', m.group())\n",
    "print('일치하는 문자열의 시작 인덱스 : ', m.start())\n",
    "print('일치하는 문자열의 끝 인덱스 : ', m.end())\n",
    "print('일치하는문자열의 시작과 끝 인덱스 : ', m.span())"
   ]
  },
  {
   "cell_type": "code",
   "execution_count": 11,
   "id": "0872536a",
   "metadata": {
    "ExecuteTime": {
     "end_time": "2024-02-16T08:20:52.366733Z",
     "start_time": "2024-02-16T08:20:52.363609Z"
    }
   },
   "outputs": [
    {
     "name": "stdout",
     "output_type": "stream",
     "text": [
      "['berry', 'berry', ' berry', 'berry']\n"
     ]
    }
   ],
   "source": [
    "# \\s : 공백\n",
    "# * : 0번 이상\n",
    "\n",
    "mlist=re.findall('[\\s]*berry','berry apple, strawberry kiwi ,straw berry banana, rasberry')\n",
    "print(mlist)"
   ]
  },
  {
   "cell_type": "code",
   "execution_count": 12,
   "id": "e5fedbb6",
   "metadata": {
    "ExecuteTime": {
     "end_time": "2024-02-16T08:21:53.271545Z",
     "start_time": "2024-02-16T08:21:53.267560Z"
    }
   },
   "outputs": [
    {
     "name": "stdout",
     "output_type": "stream",
     "text": [
      "2021-03-09\n",
      "2021-03-09\n",
      "03\n",
      "09\n"
     ]
    }
   ],
   "source": [
    "# 그룹 캡쳐\n",
    "\n",
    "# \\d : 모든 숫자\n",
    "\n",
    "m = re.search('\\d{4}-(\\d\\d)-(\\d\\d)','2021-03-09')\n",
    "print(m.group())\n",
    "print(m.group(0)) # 괄호 전체\n",
    "print(m.group(1)) # 1번째 괄호\n",
    "print(m.group(2)) # 2번째 괄호"
   ]
  },
  {
   "cell_type": "code",
   "execution_count": 14,
   "id": "8bbf2151",
   "metadata": {
    "ExecuteTime": {
     "end_time": "2024-02-16T08:25:31.777787Z",
     "start_time": "2024-02-16T08:25:31.773824Z"
    }
   },
   "outputs": [
    {
     "name": "stdout",
     "output_type": "stream",
     "text": [
      "ababab, 123123 is repetitive.\n",
      "ababab\n",
      "123123\n"
     ]
    }
   ],
   "source": [
    "# ? : 문자하나 ex) app?e => apple, appe\n",
    "# + : 1번 이상\n",
    "\n",
    "m = re.search(r'((?:ab)+), ((?:123)+) is repetitive\\.', \\\n",
    "     'Hmm... ababab, 123123 is repetitive.')\n",
    "print(m.group(0)) # 전체\n",
    "print(m.group(1)) # ababab\n",
    "print(m.group(2)) # 123123\n"
   ]
  },
  {
   "cell_type": "code",
   "execution_count": null,
   "id": "8226f5c2",
   "metadata": {},
   "outputs": [],
   "source": []
  }
 ],
 "metadata": {
  "kernelspec": {
   "display_name": "Python 3 (ipykernel)",
   "language": "python",
   "name": "python3"
  },
  "language_info": {
   "codemirror_mode": {
    "name": "ipython",
    "version": 3
   },
   "file_extension": ".py",
   "mimetype": "text/x-python",
   "name": "python",
   "nbconvert_exporter": "python",
   "pygments_lexer": "ipython3",
   "version": "3.11.5"
  },
  "toc": {
   "base_numbering": 1,
   "nav_menu": {},
   "number_sections": true,
   "sideBar": true,
   "skip_h1_title": false,
   "title_cell": "Table of Contents",
   "title_sidebar": "Contents",
   "toc_cell": false,
   "toc_position": {
    "height": "calc(100% - 180px)",
    "left": "10px",
    "top": "150px",
    "width": "193.333px"
   },
   "toc_section_display": true,
   "toc_window_display": true
  }
 },
 "nbformat": 4,
 "nbformat_minor": 5
}
