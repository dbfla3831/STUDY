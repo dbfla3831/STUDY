{
 "cells": [
  {
   "cell_type": "markdown",
   "id": "048b75bb",
   "metadata": {},
   "source": [
    "# 베이지안 최적화 기반의 HyperOpt를 이용한 하이퍼 파라미터 튜닝"
   ]
  },
  {
   "cell_type": "markdown",
   "id": "99e99ba7",
   "metadata": {},
   "source": [
    "## HyperOpt 사용하기"
   ]
  },
  {
   "cell_type": "code",
   "execution_count": 21,
   "id": "e29544f5",
   "metadata": {},
   "outputs": [],
   "source": [
    "# !pip install hyperopt"
   ]
  },
  {
   "cell_type": "code",
   "execution_count": 1,
   "id": "6f39117e",
   "metadata": {},
   "outputs": [],
   "source": [
    "# 입력 변수명과 입력값의 검색 공간을 설정\n",
    "\n",
    "from hyperopt import hp\n",
    "\n",
    "# -10 ~ 10까지 1간격을 가지는 입력 변수 x와 -15 ~ 15까지 1간격으로 입력 변수 y 설정\n",
    "search_space = {'x' : hp.quniform('x', -10, 10, 1), 'y' : hp.quniform('y', -15, 15, 1)}"
   ]
  },
  {
   "cell_type": "code",
   "execution_count": 2,
   "id": "bcb4df92",
   "metadata": {},
   "outputs": [],
   "source": [
    "# 목적 함수 생성\n",
    "# 변숫값과 검색 공간을 가지는 딕셔너리를 인자로 받고, 특정 값을 반환하는 구조\n",
    "\n",
    "from hyperopt import STATUS_OK\n",
    "\n",
    "# 목적 함수를 생성. 변숫값과 변수 검색 공간을 가지는 딕셔너리를 인자로 받고, 특정 값을 반환\n",
    "def objective_func(search_space):\n",
    "    x = search_space['x']\n",
    "    y = search_space['y']\n",
    "    retval = x ** 2 - 20 * y\n",
    "    \n",
    "    return retval"
   ]
  },
  {
   "cell_type": "code",
   "execution_count": 4,
   "id": "424ccf95",
   "metadata": {},
   "outputs": [
    {
     "name": "stdout",
     "output_type": "stream",
     "text": [
      "100%|█████████████████████████████████████████████████████████████| 5/5 [00:00<00:00, 997.93trial/s, best loss: -224.0]\n",
      "best :  {'x': -4.0, 'y': 12.0}\n"
     ]
    }
   ],
   "source": [
    "# 입력값의 검색 공간과 목적 함수를 설정했으면 목적 함수의 반환값이 최소화 될 수 있는 최적의 입력값을 베이지안 최적화 기법에 기반하여 찾기\n",
    "\n",
    "import numpy as np\n",
    "from hyperopt import fmin, tpe, Trials\n",
    "# 입력 결괏값을 지정한 Trials 객체값 생성\n",
    "trial_val = Trials()\n",
    "\n",
    "# 목적 함수의 최솟값을 반환하는 최적 입력 변숫값을 5번의 입력값 시도(max_evals = 5)로 찾기\n",
    "best_01 = fmin(fn = objective_func, space = search_space, algo = tpe.suggest, max_evals = 5, trials = trial_val, rstate = np.random.default_rng(seed = 0))\n",
    "print('best : ', best_01)"
   ]
  },
  {
   "cell_type": "markdown",
   "id": "22940327",
   "metadata": {},
   "source": [
    "=> x는 0에 가까울수록 y는 15에 가까울수록 반환값이 최소로 근사될 수 있다"
   ]
  },
  {
   "cell_type": "code",
   "execution_count": 5,
   "id": "f031afcf",
   "metadata": {},
   "outputs": [
    {
     "name": "stdout",
     "output_type": "stream",
     "text": [
      "100%|██████████████████████████████████████████████████████████| 20/20 [00:00<00:00, 1056.01trial/s, best loss: -296.0]\n",
      "best :  {'x': 2.0, 'y': 15.0}\n"
     ]
    }
   ],
   "source": [
    "trial_val = Trials()\n",
    "\n",
    "# max_evals를 20회로 늘려서\n",
    "best_02 = fmin(fn = objective_func, space = search_space, algo = tpe.suggest, max_evals = 20, trials = trial_val, rstate = np.random.default_rng(seed = 0))\n",
    "print('best : ', best_02)"
   ]
  },
  {
   "cell_type": "markdown",
   "id": "2631e895",
   "metadata": {},
   "source": [
    "=> x는 2로 y는 15로 목적 함수의 최적 최솟값을 근사할 수 있다"
   ]
  },
  {
   "cell_type": "code",
   "execution_count": 6,
   "id": "13ad47d1",
   "metadata": {},
   "outputs": [
    {
     "name": "stdout",
     "output_type": "stream",
     "text": [
      "[{'loss': -64.0, 'status': 'ok'}, {'loss': -184.0, 'status': 'ok'}, {'loss': 56.0, 'status': 'ok'}, {'loss': -224.0, 'status': 'ok'}, {'loss': 61.0, 'status': 'ok'}, {'loss': -296.0, 'status': 'ok'}, {'loss': -40.0, 'status': 'ok'}, {'loss': 281.0, 'status': 'ok'}, {'loss': 64.0, 'status': 'ok'}, {'loss': 100.0, 'status': 'ok'}, {'loss': 60.0, 'status': 'ok'}, {'loss': -39.0, 'status': 'ok'}, {'loss': 1.0, 'status': 'ok'}, {'loss': -164.0, 'status': 'ok'}, {'loss': 21.0, 'status': 'ok'}, {'loss': -56.0, 'status': 'ok'}, {'loss': 284.0, 'status': 'ok'}, {'loss': 176.0, 'status': 'ok'}, {'loss': -171.0, 'status': 'ok'}, {'loss': 0.0, 'status': 'ok'}]\n"
     ]
    }
   ],
   "source": [
    "# fmin()에 인자로 들어가는 Trials 객체의 result 속성에 파이썬 리스트로 목적 함수 반환값들이 저장\n",
    "# 리스트 내부의 개별 원소는 {'loss' : 함수 반환값, 'status' : 반환 상태값}와 같은 딕셔너리\n",
    "print(trial_val.results)"
   ]
  },
  {
   "cell_type": "code",
   "execution_count": 7,
   "id": "61d55ca3",
   "metadata": {},
   "outputs": [
    {
     "name": "stdout",
     "output_type": "stream",
     "text": [
      "{'x': [-6.0, -4.0, 4.0, -4.0, 9.0, 2.0, 10.0, -9.0, -8.0, -0.0, -0.0, 1.0, 9.0, 6.0, 9.0, 2.0, -2.0, -4.0, 7.0, -0.0], 'y': [5.0, 10.0, -2.0, 12.0, 1.0, 15.0, 7.0, -10.0, 0.0, -5.0, -3.0, 2.0, 4.0, 10.0, 3.0, 3.0, -14.0, -8.0, 11.0, -0.0]}\n"
     ]
    }
   ],
   "source": [
    "# Trials 객체의 vals 속성에 {'입력변수명' : 개별 수행 시마다 입력된 값 리스트}형태로 저장\n",
    "print(trial_val.vals)"
   ]
  },
  {
   "cell_type": "code",
   "execution_count": 8,
   "id": "cd5739bf",
   "metadata": {
    "scrolled": true
   },
   "outputs": [
    {
     "data": {
      "text/html": [
       "<div>\n",
       "<style scoped>\n",
       "    .dataframe tbody tr th:only-of-type {\n",
       "        vertical-align: middle;\n",
       "    }\n",
       "\n",
       "    .dataframe tbody tr th {\n",
       "        vertical-align: top;\n",
       "    }\n",
       "\n",
       "    .dataframe thead th {\n",
       "        text-align: right;\n",
       "    }\n",
       "</style>\n",
       "<table border=\"1\" class=\"dataframe\">\n",
       "  <thead>\n",
       "    <tr style=\"text-align: right;\">\n",
       "      <th></th>\n",
       "      <th>x</th>\n",
       "      <th>y</th>\n",
       "      <th>losses</th>\n",
       "    </tr>\n",
       "  </thead>\n",
       "  <tbody>\n",
       "    <tr>\n",
       "      <th>0</th>\n",
       "      <td>-6.0</td>\n",
       "      <td>5.0</td>\n",
       "      <td>-64.0</td>\n",
       "    </tr>\n",
       "    <tr>\n",
       "      <th>1</th>\n",
       "      <td>-4.0</td>\n",
       "      <td>10.0</td>\n",
       "      <td>-184.0</td>\n",
       "    </tr>\n",
       "    <tr>\n",
       "      <th>2</th>\n",
       "      <td>4.0</td>\n",
       "      <td>-2.0</td>\n",
       "      <td>56.0</td>\n",
       "    </tr>\n",
       "    <tr>\n",
       "      <th>3</th>\n",
       "      <td>-4.0</td>\n",
       "      <td>12.0</td>\n",
       "      <td>-224.0</td>\n",
       "    </tr>\n",
       "    <tr>\n",
       "      <th>4</th>\n",
       "      <td>9.0</td>\n",
       "      <td>1.0</td>\n",
       "      <td>61.0</td>\n",
       "    </tr>\n",
       "    <tr>\n",
       "      <th>5</th>\n",
       "      <td>2.0</td>\n",
       "      <td>15.0</td>\n",
       "      <td>-296.0</td>\n",
       "    </tr>\n",
       "    <tr>\n",
       "      <th>6</th>\n",
       "      <td>10.0</td>\n",
       "      <td>7.0</td>\n",
       "      <td>-40.0</td>\n",
       "    </tr>\n",
       "    <tr>\n",
       "      <th>7</th>\n",
       "      <td>-9.0</td>\n",
       "      <td>-10.0</td>\n",
       "      <td>281.0</td>\n",
       "    </tr>\n",
       "    <tr>\n",
       "      <th>8</th>\n",
       "      <td>-8.0</td>\n",
       "      <td>0.0</td>\n",
       "      <td>64.0</td>\n",
       "    </tr>\n",
       "    <tr>\n",
       "      <th>9</th>\n",
       "      <td>-0.0</td>\n",
       "      <td>-5.0</td>\n",
       "      <td>100.0</td>\n",
       "    </tr>\n",
       "    <tr>\n",
       "      <th>10</th>\n",
       "      <td>-0.0</td>\n",
       "      <td>-3.0</td>\n",
       "      <td>60.0</td>\n",
       "    </tr>\n",
       "    <tr>\n",
       "      <th>11</th>\n",
       "      <td>1.0</td>\n",
       "      <td>2.0</td>\n",
       "      <td>-39.0</td>\n",
       "    </tr>\n",
       "    <tr>\n",
       "      <th>12</th>\n",
       "      <td>9.0</td>\n",
       "      <td>4.0</td>\n",
       "      <td>1.0</td>\n",
       "    </tr>\n",
       "    <tr>\n",
       "      <th>13</th>\n",
       "      <td>6.0</td>\n",
       "      <td>10.0</td>\n",
       "      <td>-164.0</td>\n",
       "    </tr>\n",
       "    <tr>\n",
       "      <th>14</th>\n",
       "      <td>9.0</td>\n",
       "      <td>3.0</td>\n",
       "      <td>21.0</td>\n",
       "    </tr>\n",
       "    <tr>\n",
       "      <th>15</th>\n",
       "      <td>2.0</td>\n",
       "      <td>3.0</td>\n",
       "      <td>-56.0</td>\n",
       "    </tr>\n",
       "    <tr>\n",
       "      <th>16</th>\n",
       "      <td>-2.0</td>\n",
       "      <td>-14.0</td>\n",
       "      <td>284.0</td>\n",
       "    </tr>\n",
       "    <tr>\n",
       "      <th>17</th>\n",
       "      <td>-4.0</td>\n",
       "      <td>-8.0</td>\n",
       "      <td>176.0</td>\n",
       "    </tr>\n",
       "    <tr>\n",
       "      <th>18</th>\n",
       "      <td>7.0</td>\n",
       "      <td>11.0</td>\n",
       "      <td>-171.0</td>\n",
       "    </tr>\n",
       "    <tr>\n",
       "      <th>19</th>\n",
       "      <td>-0.0</td>\n",
       "      <td>-0.0</td>\n",
       "      <td>0.0</td>\n",
       "    </tr>\n",
       "  </tbody>\n",
       "</table>\n",
       "</div>"
      ],
      "text/plain": [
       "       x     y  losses\n",
       "0   -6.0   5.0   -64.0\n",
       "1   -4.0  10.0  -184.0\n",
       "2    4.0  -2.0    56.0\n",
       "3   -4.0  12.0  -224.0\n",
       "4    9.0   1.0    61.0\n",
       "5    2.0  15.0  -296.0\n",
       "6   10.0   7.0   -40.0\n",
       "7   -9.0 -10.0   281.0\n",
       "8   -8.0   0.0    64.0\n",
       "9   -0.0  -5.0   100.0\n",
       "10  -0.0  -3.0    60.0\n",
       "11   1.0   2.0   -39.0\n",
       "12   9.0   4.0     1.0\n",
       "13   6.0  10.0  -164.0\n",
       "14   9.0   3.0    21.0\n",
       "15   2.0   3.0   -56.0\n",
       "16  -2.0 -14.0   284.0\n",
       "17  -4.0  -8.0   176.0\n",
       "18   7.0  11.0  -171.0\n",
       "19  -0.0  -0.0     0.0"
      ]
     },
     "execution_count": 8,
     "metadata": {},
     "output_type": "execute_result"
    }
   ],
   "source": [
    "# results와 vals 속성값들을 dataframe로 확인\n",
    "\n",
    "import pandas as pd\n",
    "\n",
    "# results에서 loss 키값에 해당하는 밸류들을 추출하여 list 생성\n",
    "losses = [loss_dict['loss'] for loss_dict in trial_val.results]\n",
    "\n",
    "# dataframe로 생성\n",
    "result_df = pd.DataFrame({'x' : trial_val.vals['x'], 'y' : trial_val.vals['y'], 'losses' : losses})\n",
    "result_df"
   ]
  },
  {
   "cell_type": "markdown",
   "id": "b8e914a3",
   "metadata": {},
   "source": [
    "## HyperOpt를 이용한 XGBoost 하이퍼 파라미터 최적화"
   ]
  },
  {
   "cell_type": "markdown",
   "id": "de72b7ba",
   "metadata": {},
   "source": [
    "위스콘신 유방암 데이터 세트를 다시 로딩하여 학습, 검증, 테스트 데이터로 분리"
   ]
  },
  {
   "cell_type": "code",
   "execution_count": 10,
   "id": "1e989813",
   "metadata": {},
   "outputs": [
    {
     "data": {
      "text/plain": [
       "dict_keys(['data', 'target', 'frame', 'target_names', 'DESCR', 'feature_names', 'filename', 'data_module'])"
      ]
     },
     "execution_count": 10,
     "metadata": {},
     "output_type": "execute_result"
    }
   ],
   "source": [
    "import pandas as pd\n",
    "import numpy as np\n",
    "from sklearn.datasets import load_breast_cancer\n",
    "from sklearn.model_selection import train_test_split\n",
    "import warnings\n",
    "warnings.filterwarnings('ignore')\n",
    "\n",
    "dataset = load_breast_cancer() # 데이터 불러오기\n",
    "dataset.keys()\n",
    "\n",
    "df = pd.DataFrame(data = dataset.data, columns = dataset.feature_names) # dataframe로 변경\n",
    "df['target'] = dataset.target # 타겟 값 추가\n",
    "\n",
    "X_features = df.iloc[:, :-1]\n",
    "y_label = df.iloc[:, -1]\n",
    "\n",
    "# 전체 데이터 중 80%는 학습용 데이터, 20%는 테스트용 데이터 추출\n",
    "X_train, X_test, y_train, y_test = train_test_split(X_features, y_label, test_size = 0.2, random_state = 156)\n",
    "\n",
    "# 앞에서 추출한 학습 데이터를 다시 학습과 검증 데이터로 분리\n",
    "X_tr, X_val, y_tr, y_val = train_test_split(X_train, y_train, test_size = 0.1, random_state = 156)"
   ]
  },
  {
   "cell_type": "code",
   "execution_count": 12,
   "id": "7c6b9fec",
   "metadata": {},
   "outputs": [],
   "source": [
    "# 하이퍼 파라미터 검색 공간을 설정\n",
    "\n",
    "from hyperopt import hp\n",
    "\n",
    "# max_depth는 5에서 20까지 1간격으로, min_child_weight는 1에서 2까지 1 간격으로\n",
    "# colsample_bytree는 0.5에서 1사이, learning_rate는 0.01에서 0.2 사이 정규 분포된 값으로 검색\n",
    "\n",
    "xgb_search_space = {'max_depth' : hp.quniform('max_depth', 5, 20, 1),\n",
    "                    'min_child_weight' : hp.quniform('min_child_weight', 1, 2, 1),\n",
    "                    'colsample_bytree' : hp.uniform('colsample_bytree', 0.5, 1),\n",
    "                    'learning_rate' : hp.uniform('learning_rate', 0.01, 0.2)}"
   ]
  },
  {
   "cell_type": "code",
   "execution_count": 16,
   "id": "fc671e5e",
   "metadata": {},
   "outputs": [],
   "source": [
    "# 다음으로는 목적 함수 설정\n",
    "# 검색 공간에서 목적 함수로 입력되는 모든 인자들은 실수형 값\n",
    "# HyperOpt의 목적 함수는 최솟값을 반환할 수 있도록 최적화해야 하기 때문에 정확도와 같이 값이 클수록 좋은 성능 지표일 경우 -1을 곱한뒤 반환\n",
    "\n",
    "from sklearn.model_selection import cross_val_score\n",
    "from xgboost import XGBClassifier\n",
    "from hyperopt import STATUS_OK\n",
    "\n",
    "# fmin()에서 입력된 search_space값으로 입력된 모든 값은 실수형\n",
    "# XGBClassifier의 정수형 하이퍼 파라미터는 정수형 변환을 해줘야 한다\n",
    "# 정확도는 높을수록 더 좋은 수치이다. -1 * 정확도를 곱해서 큰 정확도 값일수록 최소가 되도록 변환\n",
    "\n",
    "def objective_func(search_space):\n",
    "    # 수행 시간 절약을 위해 nestimators는 100으로 축소\n",
    "    xgb = XGBClassifier(n_estimators = 100, max_depth = int(search_space['max_depth']),\n",
    "                        min_child_weight = int(search_space['min_child_weight']),\n",
    "                        colsample_bytree = search_space['colsample_bytree'],\n",
    "                        learning_rate = search_space['learning_rate'],\n",
    "                        eval_metric = 'logloss')\n",
    "    accuracy = cross_val_score(xgb, X_train, y_train, scoring = 'accuracy', cv = 3)\n",
    "    \n",
    "    # accuracy는 cv = 3개수만큼 roc_auc 결과를 리스트로 가짐. 이를 평균해서 반환하되 -1을 곱함\n",
    "    return {'loss' : -1 * np.mean(accuracy), 'status' : STATUS_OK}"
   ]
  },
  {
   "cell_type": "code",
   "execution_count": 17,
   "id": "4f306113",
   "metadata": {
    "scrolled": false
   },
   "outputs": [
    {
     "name": "stdout",
     "output_type": "stream",
     "text": [
      "100%|███████████████████████████████████████████████| 50/50 [00:06<00:00,  7.23trial/s, best loss: -0.9670616939700244]\n",
      "best :  {'colsample_bytree': 0.5424149213362504, 'learning_rate': 0.12601372924444681, 'max_depth': 17.0, 'min_child_weight': 2.0}\n"
     ]
    }
   ],
   "source": [
    "# fmin()을 이요해 최적 하이퍼 파라미터 도출\n",
    "\n",
    "from hyperopt import fmin, tpe, Trials\n",
    "\n",
    "trial_val = Trials()\n",
    "best = fmin(fn = objective_func,\n",
    "            space = xgb_search_space,\n",
    "            algo = tpe.suggest,\n",
    "            max_evals = 50, # 최대 반복 횟수 지정\n",
    "            trials = trial_val,\n",
    "            rstate = np.random.default_rng(seed = 9))\n",
    "print('best : ', best)"
   ]
  },
  {
   "cell_type": "code",
   "execution_count": 19,
   "id": "b7caedd9",
   "metadata": {},
   "outputs": [
    {
     "name": "stdout",
     "output_type": "stream",
     "text": [
      "colsample_bytree0.54241, learning_rate : 0.12601, max_depth : 17, min_child_weight : 2\n"
     ]
    }
   ],
   "source": [
    "# fmin()으로 추출된 최적 하이퍼 파라미터를 직접 XGBClassifier에 인자로 입력하기 전 정수형 하이퍼 파라미터는 정수형으로 형 변환을, 실수형 하이퍼 파라미터는 소수점 5자리까지만 변환 후 확인\n",
    "\n",
    "print('colsample_bytree{}, learning_rate : {}, max_depth : {}, min_child_weight : {}'.format(\n",
    "    round(best['colsample_bytree'], 5), round(best['learning_rate'],n 5),\n",
    "    int(best['max_depth']), int(best['min_child_weight'])))"
   ]
  },
  {
   "cell_type": "code",
   "execution_count": 22,
   "id": "5f934ac7",
   "metadata": {},
   "outputs": [],
   "source": [
    "from sklearn.metrics import confusion_matrix\n",
    "from sklearn.metrics import accuracy_score, precision_score, recall_score, f1_score, roc_auc_score\n",
    "\n",
    "def get_clf_eval(y_test, pred = None, pred_proba = None):\n",
    "    confusion = confusion_matrix(y_test, pred)\n",
    "    accuracy = accuracy_score(y_test, pred)\n",
    "    precision = precision_score(y_test, pred)\n",
    "    recall = recall_score(y_test , pred)\n",
    "    f1 = f1_score(y_test, pred)\n",
    "    \n",
    "    # ROC-AUC 추가\n",
    "    roc_auc = roc_auc_score(y_test, pred_proba)\n",
    "    \n",
    "    print('오차행렬')\n",
    "    print(confusion)\n",
    "    \n",
    "    # ROC-AUC 출력\n",
    "    print('정확도 : {0:.4f}, 정밀도 : {1:.4f}, 재현율 : {2:.4f}, F1 : {3:.4f}, AUC : {4:.4f}'.format(accuracy, precision, recall, f1, roc_auc))"
   ]
  },
  {
   "cell_type": "code",
   "execution_count": 24,
   "id": "fdf470df",
   "metadata": {},
   "outputs": [
    {
     "name": "stdout",
     "output_type": "stream",
     "text": [
      "[14:58:58] WARNING: C:/buildkite-agent/builds/buildkite-windows-cpu-autoscaling-group-i-08de971ced8a8cdc6-1/xgboost/xgboost-ci-windows/src/learner.cc:767: \n",
      "Parameters: { \"leaning_rate\" } are not used.\n",
      "\n",
      "[0]\tvalidation_0-logloss:0.46780\tvalidation_1-logloss:0.53951\n",
      "[1]\tvalidation_0-logloss:0.33860\tvalidation_1-logloss:0.45055\n",
      "[2]\tvalidation_0-logloss:0.25480\tvalidation_1-logloss:0.38982\n",
      "[3]\tvalidation_0-logloss:0.19908\tvalidation_1-logloss:0.36525\n",
      "[4]\tvalidation_0-logloss:0.15836\tvalidation_1-logloss:0.34947\n",
      "[5]\tvalidation_0-logloss:0.12936\tvalidation_1-logloss:0.33216\n",
      "[6]\tvalidation_0-logloss:0.10800\tvalidation_1-logloss:0.32261\n",
      "[7]\tvalidation_0-logloss:0.09188\tvalidation_1-logloss:0.31803\n",
      "[8]\tvalidation_0-logloss:0.07968\tvalidation_1-logloss:0.31458\n",
      "[9]\tvalidation_0-logloss:0.06982\tvalidation_1-logloss:0.29838\n",
      "[10]\tvalidation_0-logloss:0.06111\tvalidation_1-logloss:0.29127\n",
      "[11]\tvalidation_0-logloss:0.05569\tvalidation_1-logloss:0.29192\n",
      "[12]\tvalidation_0-logloss:0.04953\tvalidation_1-logloss:0.29192\n",
      "[13]\tvalidation_0-logloss:0.04482\tvalidation_1-logloss:0.28254\n",
      "[14]\tvalidation_0-logloss:0.04086\tvalidation_1-logloss:0.28237\n",
      "[15]\tvalidation_0-logloss:0.03751\tvalidation_1-logloss:0.28031\n",
      "[16]\tvalidation_0-logloss:0.03485\tvalidation_1-logloss:0.26671\n",
      "[17]\tvalidation_0-logloss:0.03265\tvalidation_1-logloss:0.26695\n",
      "[18]\tvalidation_0-logloss:0.03086\tvalidation_1-logloss:0.26435\n",
      "[19]\tvalidation_0-logloss:0.02923\tvalidation_1-logloss:0.26792\n",
      "[20]\tvalidation_0-logloss:0.02784\tvalidation_1-logloss:0.26543\n",
      "[21]\tvalidation_0-logloss:0.02651\tvalidation_1-logloss:0.26652\n",
      "[22]\tvalidation_0-logloss:0.02606\tvalidation_1-logloss:0.26353\n",
      "[23]\tvalidation_0-logloss:0.02520\tvalidation_1-logloss:0.26226\n",
      "[24]\tvalidation_0-logloss:0.02427\tvalidation_1-logloss:0.25847\n",
      "[25]\tvalidation_0-logloss:0.02377\tvalidation_1-logloss:0.26393\n",
      "[26]\tvalidation_0-logloss:0.02296\tvalidation_1-logloss:0.26746\n",
      "[27]\tvalidation_0-logloss:0.02264\tvalidation_1-logloss:0.26769\n",
      "[28]\tvalidation_0-logloss:0.02236\tvalidation_1-logloss:0.27243\n",
      "[29]\tvalidation_0-logloss:0.02116\tvalidation_1-logloss:0.26105\n",
      "[30]\tvalidation_0-logloss:0.02091\tvalidation_1-logloss:0.26321\n",
      "[31]\tvalidation_0-logloss:0.02065\tvalidation_1-logloss:0.25900\n",
      "[32]\tvalidation_0-logloss:0.02042\tvalidation_1-logloss:0.25218\n",
      "[33]\tvalidation_0-logloss:0.02014\tvalidation_1-logloss:0.25071\n",
      "[34]\tvalidation_0-logloss:0.01987\tvalidation_1-logloss:0.25543\n",
      "[35]\tvalidation_0-logloss:0.01962\tvalidation_1-logloss:0.25458\n",
      "[36]\tvalidation_0-logloss:0.01940\tvalidation_1-logloss:0.25232\n",
      "[37]\tvalidation_0-logloss:0.01917\tvalidation_1-logloss:0.25137\n",
      "[38]\tvalidation_0-logloss:0.01891\tvalidation_1-logloss:0.25232\n",
      "[39]\tvalidation_0-logloss:0.01872\tvalidation_1-logloss:0.25478\n",
      "[40]\tvalidation_0-logloss:0.01852\tvalidation_1-logloss:0.24843\n",
      "[41]\tvalidation_0-logloss:0.01835\tvalidation_1-logloss:0.25245\n",
      "[42]\tvalidation_0-logloss:0.01819\tvalidation_1-logloss:0.24804\n",
      "[43]\tvalidation_0-logloss:0.01800\tvalidation_1-logloss:0.24821\n",
      "[44]\tvalidation_0-logloss:0.01782\tvalidation_1-logloss:0.24606\n",
      "[45]\tvalidation_0-logloss:0.01764\tvalidation_1-logloss:0.24532\n",
      "[46]\tvalidation_0-logloss:0.01749\tvalidation_1-logloss:0.24621\n",
      "[47]\tvalidation_0-logloss:0.01736\tvalidation_1-logloss:0.24575\n",
      "[48]\tvalidation_0-logloss:0.01722\tvalidation_1-logloss:0.24590\n",
      "[49]\tvalidation_0-logloss:0.01708\tvalidation_1-logloss:0.24403\n",
      "[50]\tvalidation_0-logloss:0.01695\tvalidation_1-logloss:0.24420\n",
      "[51]\tvalidation_0-logloss:0.01679\tvalidation_1-logloss:0.24644\n",
      "[52]\tvalidation_0-logloss:0.01668\tvalidation_1-logloss:0.24758\n",
      "[53]\tvalidation_0-logloss:0.01652\tvalidation_1-logloss:0.24236\n",
      "[54]\tvalidation_0-logloss:0.01640\tvalidation_1-logloss:0.23969\n",
      "[55]\tvalidation_0-logloss:0.01630\tvalidation_1-logloss:0.23905\n",
      "[56]\tvalidation_0-logloss:0.01619\tvalidation_1-logloss:0.23847\n",
      "[57]\tvalidation_0-logloss:0.01607\tvalidation_1-logloss:0.23958\n",
      "[58]\tvalidation_0-logloss:0.01594\tvalidation_1-logloss:0.24174\n",
      "[59]\tvalidation_0-logloss:0.01584\tvalidation_1-logloss:0.24002\n",
      "[60]\tvalidation_0-logloss:0.01573\tvalidation_1-logloss:0.23589\n",
      "[61]\tvalidation_0-logloss:0.01561\tvalidation_1-logloss:0.23594\n",
      "[62]\tvalidation_0-logloss:0.01552\tvalidation_1-logloss:0.23950\n",
      "[63]\tvalidation_0-logloss:0.01542\tvalidation_1-logloss:0.23957\n",
      "[64]\tvalidation_0-logloss:0.01532\tvalidation_1-logloss:0.23573\n",
      "[65]\tvalidation_0-logloss:0.01524\tvalidation_1-logloss:0.23897\n",
      "[66]\tvalidation_0-logloss:0.01515\tvalidation_1-logloss:0.23894\n",
      "[67]\tvalidation_0-logloss:0.01507\tvalidation_1-logloss:0.23711\n",
      "[68]\tvalidation_0-logloss:0.01496\tvalidation_1-logloss:0.23724\n",
      "[69]\tvalidation_0-logloss:0.01488\tvalidation_1-logloss:0.23623\n",
      "[70]\tvalidation_0-logloss:0.01482\tvalidation_1-logloss:0.23321\n",
      "[71]\tvalidation_0-logloss:0.01473\tvalidation_1-logloss:0.23709\n",
      "[72]\tvalidation_0-logloss:0.01465\tvalidation_1-logloss:0.23816\n",
      "[73]\tvalidation_0-logloss:0.01458\tvalidation_1-logloss:0.23679\n",
      "[74]\tvalidation_0-logloss:0.01452\tvalidation_1-logloss:0.23688\n",
      "[75]\tvalidation_0-logloss:0.01444\tvalidation_1-logloss:0.23684\n",
      "[76]\tvalidation_0-logloss:0.01437\tvalidation_1-logloss:0.23980\n",
      "[77]\tvalidation_0-logloss:0.01432\tvalidation_1-logloss:0.23685\n",
      "[78]\tvalidation_0-logloss:0.01424\tvalidation_1-logloss:0.23752\n",
      "[79]\tvalidation_0-logloss:0.01418\tvalidation_1-logloss:0.23639\n",
      "[80]\tvalidation_0-logloss:0.01412\tvalidation_1-logloss:0.23636\n",
      "[81]\tvalidation_0-logloss:0.01406\tvalidation_1-logloss:0.23700\n",
      "[82]\tvalidation_0-logloss:0.01401\tvalidation_1-logloss:0.23555\n",
      "[83]\tvalidation_0-logloss:0.01396\tvalidation_1-logloss:0.23566\n",
      "[84]\tvalidation_0-logloss:0.01391\tvalidation_1-logloss:0.23430\n",
      "[85]\tvalidation_0-logloss:0.01385\tvalidation_1-logloss:0.23662\n",
      "[86]\tvalidation_0-logloss:0.01379\tvalidation_1-logloss:0.23934\n",
      "[87]\tvalidation_0-logloss:0.01375\tvalidation_1-logloss:0.23858\n",
      "[88]\tvalidation_0-logloss:0.01370\tvalidation_1-logloss:0.23759\n",
      "[89]\tvalidation_0-logloss:0.01364\tvalidation_1-logloss:0.23757\n",
      "[90]\tvalidation_0-logloss:0.01358\tvalidation_1-logloss:0.23869\n",
      "[91]\tvalidation_0-logloss:0.01353\tvalidation_1-logloss:0.23930\n",
      "[92]\tvalidation_0-logloss:0.01349\tvalidation_1-logloss:0.23792\n",
      "[93]\tvalidation_0-logloss:0.01344\tvalidation_1-logloss:0.23789\n",
      "[94]\tvalidation_0-logloss:0.01339\tvalidation_1-logloss:0.23693\n",
      "[95]\tvalidation_0-logloss:0.01335\tvalidation_1-logloss:0.23936\n",
      "[96]\tvalidation_0-logloss:0.01331\tvalidation_1-logloss:0.23997\n",
      "[97]\tvalidation_0-logloss:0.01326\tvalidation_1-logloss:0.23996\n",
      "[98]\tvalidation_0-logloss:0.01322\tvalidation_1-logloss:0.23865\n",
      "[99]\tvalidation_0-logloss:0.01318\tvalidation_1-logloss:0.23809\n",
      "[100]\tvalidation_0-logloss:0.01314\tvalidation_1-logloss:0.23908\n",
      "[101]\tvalidation_0-logloss:0.01311\tvalidation_1-logloss:0.23965\n",
      "[102]\tvalidation_0-logloss:0.01307\tvalidation_1-logloss:0.23735\n",
      "[103]\tvalidation_0-logloss:0.01303\tvalidation_1-logloss:0.23652\n",
      "[104]\tvalidation_0-logloss:0.01300\tvalidation_1-logloss:0.23871\n",
      "[105]\tvalidation_0-logloss:0.01297\tvalidation_1-logloss:0.23818\n",
      "[106]\tvalidation_0-logloss:0.01294\tvalidation_1-logloss:0.23810\n",
      "[107]\tvalidation_0-logloss:0.01291\tvalidation_1-logloss:0.23868\n",
      "[108]\tvalidation_0-logloss:0.01288\tvalidation_1-logloss:0.23957\n",
      "[109]\tvalidation_0-logloss:0.01286\tvalidation_1-logloss:0.23903\n",
      "[110]\tvalidation_0-logloss:0.01283\tvalidation_1-logloss:0.23806\n",
      "[111]\tvalidation_0-logloss:0.01281\tvalidation_1-logloss:0.23858\n",
      "[112]\tvalidation_0-logloss:0.01279\tvalidation_1-logloss:0.23779\n",
      "[113]\tvalidation_0-logloss:0.01276\tvalidation_1-logloss:0.23971\n",
      "[114]\tvalidation_0-logloss:0.01274\tvalidation_1-logloss:0.23891\n",
      "[115]\tvalidation_0-logloss:0.01272\tvalidation_1-logloss:0.23843\n",
      "[116]\tvalidation_0-logloss:0.01270\tvalidation_1-logloss:0.23919\n",
      "[117]\tvalidation_0-logloss:0.01268\tvalidation_1-logloss:0.23903\n",
      "[118]\tvalidation_0-logloss:0.01266\tvalidation_1-logloss:0.23950\n",
      "[119]\tvalidation_0-logloss:0.01264\tvalidation_1-logloss:0.23906\n",
      "[120]\tvalidation_0-logloss:0.01262\tvalidation_1-logloss:0.23827\n"
     ]
    },
    {
     "data": {
      "text/html": [
       "<style>#sk-container-id-4 {color: black;}#sk-container-id-4 pre{padding: 0;}#sk-container-id-4 div.sk-toggleable {background-color: white;}#sk-container-id-4 label.sk-toggleable__label {cursor: pointer;display: block;width: 100%;margin-bottom: 0;padding: 0.3em;box-sizing: border-box;text-align: center;}#sk-container-id-4 label.sk-toggleable__label-arrow:before {content: \"▸\";float: left;margin-right: 0.25em;color: #696969;}#sk-container-id-4 label.sk-toggleable__label-arrow:hover:before {color: black;}#sk-container-id-4 div.sk-estimator:hover label.sk-toggleable__label-arrow:before {color: black;}#sk-container-id-4 div.sk-toggleable__content {max-height: 0;max-width: 0;overflow: hidden;text-align: left;background-color: #f0f8ff;}#sk-container-id-4 div.sk-toggleable__content pre {margin: 0.2em;color: black;border-radius: 0.25em;background-color: #f0f8ff;}#sk-container-id-4 input.sk-toggleable__control:checked~div.sk-toggleable__content {max-height: 200px;max-width: 100%;overflow: auto;}#sk-container-id-4 input.sk-toggleable__control:checked~label.sk-toggleable__label-arrow:before {content: \"▾\";}#sk-container-id-4 div.sk-estimator input.sk-toggleable__control:checked~label.sk-toggleable__label {background-color: #d4ebff;}#sk-container-id-4 div.sk-label input.sk-toggleable__control:checked~label.sk-toggleable__label {background-color: #d4ebff;}#sk-container-id-4 input.sk-hidden--visually {border: 0;clip: rect(1px 1px 1px 1px);clip: rect(1px, 1px, 1px, 1px);height: 1px;margin: -1px;overflow: hidden;padding: 0;position: absolute;width: 1px;}#sk-container-id-4 div.sk-estimator {font-family: monospace;background-color: #f0f8ff;border: 1px dotted black;border-radius: 0.25em;box-sizing: border-box;margin-bottom: 0.5em;}#sk-container-id-4 div.sk-estimator:hover {background-color: #d4ebff;}#sk-container-id-4 div.sk-parallel-item::after {content: \"\";width: 100%;border-bottom: 1px solid gray;flex-grow: 1;}#sk-container-id-4 div.sk-label:hover label.sk-toggleable__label {background-color: #d4ebff;}#sk-container-id-4 div.sk-serial::before {content: \"\";position: absolute;border-left: 1px solid gray;box-sizing: border-box;top: 0;bottom: 0;left: 50%;z-index: 0;}#sk-container-id-4 div.sk-serial {display: flex;flex-direction: column;align-items: center;background-color: white;padding-right: 0.2em;padding-left: 0.2em;position: relative;}#sk-container-id-4 div.sk-item {position: relative;z-index: 1;}#sk-container-id-4 div.sk-parallel {display: flex;align-items: stretch;justify-content: center;background-color: white;position: relative;}#sk-container-id-4 div.sk-item::before, #sk-container-id-4 div.sk-parallel-item::before {content: \"\";position: absolute;border-left: 1px solid gray;box-sizing: border-box;top: 0;bottom: 0;left: 50%;z-index: -1;}#sk-container-id-4 div.sk-parallel-item {display: flex;flex-direction: column;z-index: 1;position: relative;background-color: white;}#sk-container-id-4 div.sk-parallel-item:first-child::after {align-self: flex-end;width: 50%;}#sk-container-id-4 div.sk-parallel-item:last-child::after {align-self: flex-start;width: 50%;}#sk-container-id-4 div.sk-parallel-item:only-child::after {width: 0;}#sk-container-id-4 div.sk-dashed-wrapped {border: 1px dashed gray;margin: 0 0.4em 0.5em 0.4em;box-sizing: border-box;padding-bottom: 0.4em;background-color: white;}#sk-container-id-4 div.sk-label label {font-family: monospace;font-weight: bold;display: inline-block;line-height: 1.2em;}#sk-container-id-4 div.sk-label-container {text-align: center;}#sk-container-id-4 div.sk-container {/* jupyter's `normalize.less` sets `[hidden] { display: none; }` but bootstrap.min.css set `[hidden] { display: none !important; }` so we also need the `!important` here to be able to override the default hidden behavior on the sphinx rendered scikit-learn.org. See: https://github.com/scikit-learn/scikit-learn/issues/21755 */display: inline-block !important;position: relative;}#sk-container-id-4 div.sk-text-repr-fallback {display: none;}</style><div id=\"sk-container-id-4\" class=\"sk-top-container\"><div class=\"sk-text-repr-fallback\"><pre>XGBClassifier(base_score=None, booster=None, callbacks=None,\n",
       "              colsample_bylevel=None, colsample_bynode=None,\n",
       "              colsample_bytree=0.54241, early_stopping_rounds=None,\n",
       "              enable_categorical=False, eval_metric=None, feature_types=None,\n",
       "              gamma=None, gpu_id=None, grow_policy=None, importance_type=None,\n",
       "              interaction_constraints=None, leaning_rate=0.12601,\n",
       "              learning_rate=None, max_bin=None, max_cat_threshold=None,\n",
       "              max_cat_to_onehot=None, max_delta_step=None, max_depth=17,\n",
       "              max_leaves=None, min_child_weight=2, missing=nan,\n",
       "              monotone_constraints=None, n_estimators=400, n_jobs=None,\n",
       "              num_parallel_tree=None, predictor=None, ...)</pre><b>In a Jupyter environment, please rerun this cell to show the HTML representation or trust the notebook. <br />On GitHub, the HTML representation is unable to render, please try loading this page with nbviewer.org.</b></div><div class=\"sk-container\" hidden><div class=\"sk-item\"><div class=\"sk-estimator sk-toggleable\"><input class=\"sk-toggleable__control sk-hidden--visually\" id=\"sk-estimator-id-4\" type=\"checkbox\" checked><label for=\"sk-estimator-id-4\" class=\"sk-toggleable__label sk-toggleable__label-arrow\">XGBClassifier</label><div class=\"sk-toggleable__content\"><pre>XGBClassifier(base_score=None, booster=None, callbacks=None,\n",
       "              colsample_bylevel=None, colsample_bynode=None,\n",
       "              colsample_bytree=0.54241, early_stopping_rounds=None,\n",
       "              enable_categorical=False, eval_metric=None, feature_types=None,\n",
       "              gamma=None, gpu_id=None, grow_policy=None, importance_type=None,\n",
       "              interaction_constraints=None, leaning_rate=0.12601,\n",
       "              learning_rate=None, max_bin=None, max_cat_threshold=None,\n",
       "              max_cat_to_onehot=None, max_delta_step=None, max_depth=17,\n",
       "              max_leaves=None, min_child_weight=2, missing=nan,\n",
       "              monotone_constraints=None, n_estimators=400, n_jobs=None,\n",
       "              num_parallel_tree=None, predictor=None, ...)</pre></div></div></div></div></div>"
      ],
      "text/plain": [
       "XGBClassifier(base_score=None, booster=None, callbacks=None,\n",
       "              colsample_bylevel=None, colsample_bynode=None,\n",
       "              colsample_bytree=0.54241, early_stopping_rounds=None,\n",
       "              enable_categorical=False, eval_metric=None, feature_types=None,\n",
       "              gamma=None, gpu_id=None, grow_policy=None, importance_type=None,\n",
       "              interaction_constraints=None, leaning_rate=0.12601,\n",
       "              learning_rate=None, max_bin=None, max_cat_threshold=None,\n",
       "              max_cat_to_onehot=None, max_delta_step=None, max_depth=17,\n",
       "              max_leaves=None, min_child_weight=2, missing=nan,\n",
       "              monotone_constraints=None, n_estimators=400, n_jobs=None,\n",
       "              num_parallel_tree=None, predictor=None, ...)"
      ]
     },
     "execution_count": 24,
     "metadata": {},
     "output_type": "execute_result"
    }
   ],
   "source": [
    "# 도출된 최적 하이퍼 파라미터들을 이용해 XGBClassifier를 재학습 후 성능 평가 결과 확인\n",
    "\n",
    "xgb_wrapper = XGBClassifier(n_estimators = 400,\n",
    "                            leaning_rate = round(best['learning_rate'], 5),\n",
    "                            max_depth = int(best['max_depth']),\n",
    "                            min_child_weight = int(best['min_child_weight']),\n",
    "                            colsample_bytree = round(best['colsample_bytree'], 5))\n",
    "                            \n",
    "evals = [(X_tr, y_tr), (X_val, y_val)]\n",
    "xgb_wrapper.fit(X_tr, y_tr, early_stopping_rounds = 50, eval_metric = 'logloss',\n",
    "                eval_set = evals, verbose = True)\n",
    "                            \n",
    "pred = xgb_wrapper.predict(X_test)\n",
    "pred_proba = xgb_wrapper.predict_proba(X_test)[:, 1]"
   ]
  },
  {
   "cell_type": "code",
   "execution_count": 25,
   "id": "5101588d",
   "metadata": {},
   "outputs": [
    {
     "name": "stdout",
     "output_type": "stream",
     "text": [
      "오차행렬\n",
      "[[33  4]\n",
      " [ 3 74]]\n",
      "정확도 : 0.9386, 정밀도 : 0.9487, 재현율 : 0.9610, F1 : 0.9548, AUC : 0.9933\n"
     ]
    }
   ],
   "source": [
    "get_clf_eval(y_test, pred, pred_proba)"
   ]
  }
 ],
 "metadata": {
  "kernelspec": {
   "display_name": "Python 3 (ipykernel)",
   "language": "python",
   "name": "python3"
  },
  "language_info": {
   "codemirror_mode": {
    "name": "ipython",
    "version": 3
   },
   "file_extension": ".py",
   "mimetype": "text/x-python",
   "name": "python",
   "nbconvert_exporter": "python",
   "pygments_lexer": "ipython3",
   "version": "3.11.5"
  },
  "toc": {
   "base_numbering": 1,
   "nav_menu": {},
   "number_sections": true,
   "sideBar": true,
   "skip_h1_title": false,
   "title_cell": "Table of Contents",
   "title_sidebar": "Contents",
   "toc_cell": false,
   "toc_position": {
    "height": "calc(100% - 180px)",
    "left": "10px",
    "top": "150px",
    "width": "285.33px"
   },
   "toc_section_display": true,
   "toc_window_display": true
  }
 },
 "nbformat": 4,
 "nbformat_minor": 5
}
