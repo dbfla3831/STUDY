{
 "cells": [
  {
   "cell_type": "markdown",
   "id": "bb710faf",
   "metadata": {},
   "source": [
    "# 분류 실습 - 캐글 신용카드 사기 검출"
   ]
  },
  {
   "cell_type": "markdown",
   "id": "b1f93de7",
   "metadata": {},
   "source": [
    "kaggle의 신용카드 데이터 세트를 이용해 신용카드 사기 검출 분류 실습"
   ]
  },
  {
   "cell_type": "markdown",
   "id": "6a08305e",
   "metadata": {},
   "source": [
    "# 데이터 일차 가공 및 모델 학습/예측/평가"
   ]
  },
  {
   "cell_type": "markdown",
   "id": "679f8be3",
   "metadata": {},
   "source": [
    "## 라이브러리 불러오기"
   ]
  },
  {
   "cell_type": "code",
   "execution_count": 1,
   "id": "9afd21c8",
   "metadata": {},
   "outputs": [],
   "source": [
    "# !pip install imbalanced-learn\n",
    "\n",
    "import pandas as pd\n",
    "import numpy as np\n",
    "import matplotlib.pyplot as plt\n",
    "import seaborn as sns\n",
    "import warnings\n",
    "warnings.filterwarnings('ignore')\n",
    "plt.rcParams['font.family'] ='Malgun Gothic'\n",
    "#plt.rcParams['font.family'] = 'AppleGothic' # 맥\n",
    "plt.rcParams['axes.unicode_minus'] =False\n",
    "\n",
    "from sklearn.model_selection import train_test_split\n",
    "from sklearn.linear_model import LogisticRegression\n",
    "from sklearn.metrics import confusion_matrix, accuracy_score, precision_score, recall_score, f1_score, roc_auc_score\n",
    "from lightgbm import LGBMClassifier\n",
    "from sklearn.preprocessing import StandardScaler\n",
    "from imblearn.over_sampling import SMOTE\n",
    "from sklearn.metrics import precision_recall_curve\n",
    "import matplotlib.ticker as ticker"
   ]
  },
  {
   "cell_type": "markdown",
   "id": "6d5bc810",
   "metadata": {},
   "source": [
    "## 데이터 불러오기"
   ]
  },
  {
   "cell_type": "code",
   "execution_count": 2,
   "id": "184e854b",
   "metadata": {},
   "outputs": [
    {
     "data": {
      "text/html": [
       "<div>\n",
       "<style scoped>\n",
       "    .dataframe tbody tr th:only-of-type {\n",
       "        vertical-align: middle;\n",
       "    }\n",
       "\n",
       "    .dataframe tbody tr th {\n",
       "        vertical-align: top;\n",
       "    }\n",
       "\n",
       "    .dataframe thead th {\n",
       "        text-align: right;\n",
       "    }\n",
       "</style>\n",
       "<table border=\"1\" class=\"dataframe\">\n",
       "  <thead>\n",
       "    <tr style=\"text-align: right;\">\n",
       "      <th></th>\n",
       "      <th>Time</th>\n",
       "      <th>V1</th>\n",
       "      <th>V2</th>\n",
       "      <th>V3</th>\n",
       "      <th>V4</th>\n",
       "      <th>V5</th>\n",
       "      <th>V6</th>\n",
       "      <th>V7</th>\n",
       "      <th>V8</th>\n",
       "      <th>V9</th>\n",
       "      <th>...</th>\n",
       "      <th>V21</th>\n",
       "      <th>V22</th>\n",
       "      <th>V23</th>\n",
       "      <th>V24</th>\n",
       "      <th>V25</th>\n",
       "      <th>V26</th>\n",
       "      <th>V27</th>\n",
       "      <th>V28</th>\n",
       "      <th>Amount</th>\n",
       "      <th>Class</th>\n",
       "    </tr>\n",
       "  </thead>\n",
       "  <tbody>\n",
       "    <tr>\n",
       "      <th>0</th>\n",
       "      <td>0.0</td>\n",
       "      <td>-1.359807</td>\n",
       "      <td>-0.072781</td>\n",
       "      <td>2.536347</td>\n",
       "      <td>1.378155</td>\n",
       "      <td>-0.338321</td>\n",
       "      <td>0.462388</td>\n",
       "      <td>0.239599</td>\n",
       "      <td>0.098698</td>\n",
       "      <td>0.363787</td>\n",
       "      <td>...</td>\n",
       "      <td>-0.018307</td>\n",
       "      <td>0.277838</td>\n",
       "      <td>-0.110474</td>\n",
       "      <td>0.066928</td>\n",
       "      <td>0.128539</td>\n",
       "      <td>-0.189115</td>\n",
       "      <td>0.133558</td>\n",
       "      <td>-0.021053</td>\n",
       "      <td>149.62</td>\n",
       "      <td>0</td>\n",
       "    </tr>\n",
       "    <tr>\n",
       "      <th>1</th>\n",
       "      <td>0.0</td>\n",
       "      <td>1.191857</td>\n",
       "      <td>0.266151</td>\n",
       "      <td>0.166480</td>\n",
       "      <td>0.448154</td>\n",
       "      <td>0.060018</td>\n",
       "      <td>-0.082361</td>\n",
       "      <td>-0.078803</td>\n",
       "      <td>0.085102</td>\n",
       "      <td>-0.255425</td>\n",
       "      <td>...</td>\n",
       "      <td>-0.225775</td>\n",
       "      <td>-0.638672</td>\n",
       "      <td>0.101288</td>\n",
       "      <td>-0.339846</td>\n",
       "      <td>0.167170</td>\n",
       "      <td>0.125895</td>\n",
       "      <td>-0.008983</td>\n",
       "      <td>0.014724</td>\n",
       "      <td>2.69</td>\n",
       "      <td>0</td>\n",
       "    </tr>\n",
       "    <tr>\n",
       "      <th>2</th>\n",
       "      <td>1.0</td>\n",
       "      <td>-1.358354</td>\n",
       "      <td>-1.340163</td>\n",
       "      <td>1.773209</td>\n",
       "      <td>0.379780</td>\n",
       "      <td>-0.503198</td>\n",
       "      <td>1.800499</td>\n",
       "      <td>0.791461</td>\n",
       "      <td>0.247676</td>\n",
       "      <td>-1.514654</td>\n",
       "      <td>...</td>\n",
       "      <td>0.247998</td>\n",
       "      <td>0.771679</td>\n",
       "      <td>0.909412</td>\n",
       "      <td>-0.689281</td>\n",
       "      <td>-0.327642</td>\n",
       "      <td>-0.139097</td>\n",
       "      <td>-0.055353</td>\n",
       "      <td>-0.059752</td>\n",
       "      <td>378.66</td>\n",
       "      <td>0</td>\n",
       "    </tr>\n",
       "    <tr>\n",
       "      <th>3</th>\n",
       "      <td>1.0</td>\n",
       "      <td>-0.966272</td>\n",
       "      <td>-0.185226</td>\n",
       "      <td>1.792993</td>\n",
       "      <td>-0.863291</td>\n",
       "      <td>-0.010309</td>\n",
       "      <td>1.247203</td>\n",
       "      <td>0.237609</td>\n",
       "      <td>0.377436</td>\n",
       "      <td>-1.387024</td>\n",
       "      <td>...</td>\n",
       "      <td>-0.108300</td>\n",
       "      <td>0.005274</td>\n",
       "      <td>-0.190321</td>\n",
       "      <td>-1.175575</td>\n",
       "      <td>0.647376</td>\n",
       "      <td>-0.221929</td>\n",
       "      <td>0.062723</td>\n",
       "      <td>0.061458</td>\n",
       "      <td>123.50</td>\n",
       "      <td>0</td>\n",
       "    </tr>\n",
       "    <tr>\n",
       "      <th>4</th>\n",
       "      <td>2.0</td>\n",
       "      <td>-1.158233</td>\n",
       "      <td>0.877737</td>\n",
       "      <td>1.548718</td>\n",
       "      <td>0.403034</td>\n",
       "      <td>-0.407193</td>\n",
       "      <td>0.095921</td>\n",
       "      <td>0.592941</td>\n",
       "      <td>-0.270533</td>\n",
       "      <td>0.817739</td>\n",
       "      <td>...</td>\n",
       "      <td>-0.009431</td>\n",
       "      <td>0.798278</td>\n",
       "      <td>-0.137458</td>\n",
       "      <td>0.141267</td>\n",
       "      <td>-0.206010</td>\n",
       "      <td>0.502292</td>\n",
       "      <td>0.219422</td>\n",
       "      <td>0.215153</td>\n",
       "      <td>69.99</td>\n",
       "      <td>0</td>\n",
       "    </tr>\n",
       "  </tbody>\n",
       "</table>\n",
       "<p>5 rows × 31 columns</p>\n",
       "</div>"
      ],
      "text/plain": [
       "   Time        V1        V2        V3        V4        V5        V6        V7  \\\n",
       "0   0.0 -1.359807 -0.072781  2.536347  1.378155 -0.338321  0.462388  0.239599   \n",
       "1   0.0  1.191857  0.266151  0.166480  0.448154  0.060018 -0.082361 -0.078803   \n",
       "2   1.0 -1.358354 -1.340163  1.773209  0.379780 -0.503198  1.800499  0.791461   \n",
       "3   1.0 -0.966272 -0.185226  1.792993 -0.863291 -0.010309  1.247203  0.237609   \n",
       "4   2.0 -1.158233  0.877737  1.548718  0.403034 -0.407193  0.095921  0.592941   \n",
       "\n",
       "         V8        V9  ...       V21       V22       V23       V24       V25  \\\n",
       "0  0.098698  0.363787  ... -0.018307  0.277838 -0.110474  0.066928  0.128539   \n",
       "1  0.085102 -0.255425  ... -0.225775 -0.638672  0.101288 -0.339846  0.167170   \n",
       "2  0.247676 -1.514654  ...  0.247998  0.771679  0.909412 -0.689281 -0.327642   \n",
       "3  0.377436 -1.387024  ... -0.108300  0.005274 -0.190321 -1.175575  0.647376   \n",
       "4 -0.270533  0.817739  ... -0.009431  0.798278 -0.137458  0.141267 -0.206010   \n",
       "\n",
       "        V26       V27       V28  Amount  Class  \n",
       "0 -0.189115  0.133558 -0.021053  149.62      0  \n",
       "1  0.125895 -0.008983  0.014724    2.69      0  \n",
       "2 -0.139097 -0.055353 -0.059752  378.66      0  \n",
       "3 -0.221929  0.062723  0.061458  123.50      0  \n",
       "4  0.502292  0.219422  0.215153   69.99      0  \n",
       "\n",
       "[5 rows x 31 columns]"
      ]
     },
     "execution_count": 2,
     "metadata": {},
     "output_type": "execute_result"
    }
   ],
   "source": [
    "df = pd.read_csv('./data/creditcard.csv')\n",
    "\n",
    "df.head()"
   ]
  },
  {
   "cell_type": "markdown",
   "id": "02e50987",
   "metadata": {},
   "source": [
    "## 데이터 확인"
   ]
  },
  {
   "cell_type": "code",
   "execution_count": 3,
   "id": "4927ca4c",
   "metadata": {},
   "outputs": [
    {
     "data": {
      "text/plain": [
       "Class\n",
       "0    284315\n",
       "1       492\n",
       "Name: count, dtype: int64"
      ]
     },
     "execution_count": 3,
     "metadata": {},
     "output_type": "execute_result"
    }
   ],
   "source": [
    "df['Class'].value_counts()"
   ]
  },
  {
   "cell_type": "markdown",
   "id": "32bbbb21",
   "metadata": {},
   "source": [
    "=> 레이블인 'Class' 속성은 매우 불균형한 분포를 갖고 있다\n",
    "\n",
    "일반적으로 사기 검출이나 이상 검출과 같은 데이터 세트는 이처럼 레이블 값이 극도로 불균형한 분포를 갖기 쉽다\n",
    "\n",
    "    -> 사기와 같은 이상 현상은 전체 데이터에서 차지하는 비중이 매주 적을 수밖에 없기 때문이다"
   ]
  },
  {
   "cell_type": "markdown",
   "id": "4a07d457",
   "metadata": {},
   "source": [
    "### 언더 샘플링과 오버 샘플링"
   ]
  },
  {
   "cell_type": "markdown",
   "id": "912cf1ac",
   "metadata": {},
   "source": [
    "- 언더 샘플링\n",
    "\n",
    "    - 많은 데이터 세트를 적은 데이터 세트 수준으로 감소시키는 방식\n",
    "    \n",
    "    <br>\n",
    "- 오버 샘플링\n",
    "\n",
    "    - 이상 데이터와 같이 적은 데이터 세트를 증식하여 학습을 위한 충분한 데이터를 확보\n",
    "    \n",
    "    - 동일한 데이터를 단순히 증식하면 과적합이 발생하므로 약간 변경하여 증식한다\n",
    "    \n",
    "    - SMOTE 방식은 이용 -> 적은 데이터 세트에 있는 개별 데이터들의 K 최근접 이웃을 찾아 이 데이터와 K개 이웃들의 차이를 일정값으로 만들어 기존 데이텅와 약간 차이가 나는 새로운 데이터를 생성"
   ]
  },
  {
   "cell_type": "code",
   "execution_count": 4,
   "id": "230ef0a0",
   "metadata": {},
   "outputs": [
    {
     "data": {
      "text/html": [
       "<div>\n",
       "<style scoped>\n",
       "    .dataframe tbody tr th:only-of-type {\n",
       "        vertical-align: middle;\n",
       "    }\n",
       "\n",
       "    .dataframe tbody tr th {\n",
       "        vertical-align: top;\n",
       "    }\n",
       "\n",
       "    .dataframe thead th {\n",
       "        text-align: right;\n",
       "    }\n",
       "</style>\n",
       "<table border=\"1\" class=\"dataframe\">\n",
       "  <thead>\n",
       "    <tr style=\"text-align: right;\">\n",
       "      <th></th>\n",
       "      <th>Time</th>\n",
       "      <th>V1</th>\n",
       "      <th>V2</th>\n",
       "      <th>V3</th>\n",
       "      <th>V4</th>\n",
       "      <th>V5</th>\n",
       "      <th>V6</th>\n",
       "      <th>V7</th>\n",
       "      <th>V8</th>\n",
       "      <th>V9</th>\n",
       "      <th>...</th>\n",
       "      <th>V21</th>\n",
       "      <th>V22</th>\n",
       "      <th>V23</th>\n",
       "      <th>V24</th>\n",
       "      <th>V25</th>\n",
       "      <th>V26</th>\n",
       "      <th>V27</th>\n",
       "      <th>V28</th>\n",
       "      <th>Amount</th>\n",
       "      <th>Class</th>\n",
       "    </tr>\n",
       "  </thead>\n",
       "  <tbody>\n",
       "    <tr>\n",
       "      <th>0</th>\n",
       "      <td>0.0</td>\n",
       "      <td>-1.359807</td>\n",
       "      <td>-0.072781</td>\n",
       "      <td>2.536347</td>\n",
       "      <td>1.378155</td>\n",
       "      <td>-0.338321</td>\n",
       "      <td>0.462388</td>\n",
       "      <td>0.239599</td>\n",
       "      <td>0.098698</td>\n",
       "      <td>0.363787</td>\n",
       "      <td>...</td>\n",
       "      <td>-0.018307</td>\n",
       "      <td>0.277838</td>\n",
       "      <td>-0.110474</td>\n",
       "      <td>0.066928</td>\n",
       "      <td>0.128539</td>\n",
       "      <td>-0.189115</td>\n",
       "      <td>0.133558</td>\n",
       "      <td>-0.021053</td>\n",
       "      <td>149.62</td>\n",
       "      <td>0</td>\n",
       "    </tr>\n",
       "    <tr>\n",
       "      <th>1</th>\n",
       "      <td>0.0</td>\n",
       "      <td>1.191857</td>\n",
       "      <td>0.266151</td>\n",
       "      <td>0.166480</td>\n",
       "      <td>0.448154</td>\n",
       "      <td>0.060018</td>\n",
       "      <td>-0.082361</td>\n",
       "      <td>-0.078803</td>\n",
       "      <td>0.085102</td>\n",
       "      <td>-0.255425</td>\n",
       "      <td>...</td>\n",
       "      <td>-0.225775</td>\n",
       "      <td>-0.638672</td>\n",
       "      <td>0.101288</td>\n",
       "      <td>-0.339846</td>\n",
       "      <td>0.167170</td>\n",
       "      <td>0.125895</td>\n",
       "      <td>-0.008983</td>\n",
       "      <td>0.014724</td>\n",
       "      <td>2.69</td>\n",
       "      <td>0</td>\n",
       "    </tr>\n",
       "    <tr>\n",
       "      <th>2</th>\n",
       "      <td>1.0</td>\n",
       "      <td>-1.358354</td>\n",
       "      <td>-1.340163</td>\n",
       "      <td>1.773209</td>\n",
       "      <td>0.379780</td>\n",
       "      <td>-0.503198</td>\n",
       "      <td>1.800499</td>\n",
       "      <td>0.791461</td>\n",
       "      <td>0.247676</td>\n",
       "      <td>-1.514654</td>\n",
       "      <td>...</td>\n",
       "      <td>0.247998</td>\n",
       "      <td>0.771679</td>\n",
       "      <td>0.909412</td>\n",
       "      <td>-0.689281</td>\n",
       "      <td>-0.327642</td>\n",
       "      <td>-0.139097</td>\n",
       "      <td>-0.055353</td>\n",
       "      <td>-0.059752</td>\n",
       "      <td>378.66</td>\n",
       "      <td>0</td>\n",
       "    </tr>\n",
       "    <tr>\n",
       "      <th>3</th>\n",
       "      <td>1.0</td>\n",
       "      <td>-0.966272</td>\n",
       "      <td>-0.185226</td>\n",
       "      <td>1.792993</td>\n",
       "      <td>-0.863291</td>\n",
       "      <td>-0.010309</td>\n",
       "      <td>1.247203</td>\n",
       "      <td>0.237609</td>\n",
       "      <td>0.377436</td>\n",
       "      <td>-1.387024</td>\n",
       "      <td>...</td>\n",
       "      <td>-0.108300</td>\n",
       "      <td>0.005274</td>\n",
       "      <td>-0.190321</td>\n",
       "      <td>-1.175575</td>\n",
       "      <td>0.647376</td>\n",
       "      <td>-0.221929</td>\n",
       "      <td>0.062723</td>\n",
       "      <td>0.061458</td>\n",
       "      <td>123.50</td>\n",
       "      <td>0</td>\n",
       "    </tr>\n",
       "    <tr>\n",
       "      <th>4</th>\n",
       "      <td>2.0</td>\n",
       "      <td>-1.158233</td>\n",
       "      <td>0.877737</td>\n",
       "      <td>1.548718</td>\n",
       "      <td>0.403034</td>\n",
       "      <td>-0.407193</td>\n",
       "      <td>0.095921</td>\n",
       "      <td>0.592941</td>\n",
       "      <td>-0.270533</td>\n",
       "      <td>0.817739</td>\n",
       "      <td>...</td>\n",
       "      <td>-0.009431</td>\n",
       "      <td>0.798278</td>\n",
       "      <td>-0.137458</td>\n",
       "      <td>0.141267</td>\n",
       "      <td>-0.206010</td>\n",
       "      <td>0.502292</td>\n",
       "      <td>0.219422</td>\n",
       "      <td>0.215153</td>\n",
       "      <td>69.99</td>\n",
       "      <td>0</td>\n",
       "    </tr>\n",
       "  </tbody>\n",
       "</table>\n",
       "<p>5 rows × 31 columns</p>\n",
       "</div>"
      ],
      "text/plain": [
       "   Time        V1        V2        V3        V4        V5        V6        V7  \\\n",
       "0   0.0 -1.359807 -0.072781  2.536347  1.378155 -0.338321  0.462388  0.239599   \n",
       "1   0.0  1.191857  0.266151  0.166480  0.448154  0.060018 -0.082361 -0.078803   \n",
       "2   1.0 -1.358354 -1.340163  1.773209  0.379780 -0.503198  1.800499  0.791461   \n",
       "3   1.0 -0.966272 -0.185226  1.792993 -0.863291 -0.010309  1.247203  0.237609   \n",
       "4   2.0 -1.158233  0.877737  1.548718  0.403034 -0.407193  0.095921  0.592941   \n",
       "\n",
       "         V8        V9  ...       V21       V22       V23       V24       V25  \\\n",
       "0  0.098698  0.363787  ... -0.018307  0.277838 -0.110474  0.066928  0.128539   \n",
       "1  0.085102 -0.255425  ... -0.225775 -0.638672  0.101288 -0.339846  0.167170   \n",
       "2  0.247676 -1.514654  ...  0.247998  0.771679  0.909412 -0.689281 -0.327642   \n",
       "3  0.377436 -1.387024  ... -0.108300  0.005274 -0.190321 -1.175575  0.647376   \n",
       "4 -0.270533  0.817739  ... -0.009431  0.798278 -0.137458  0.141267 -0.206010   \n",
       "\n",
       "        V26       V27       V28  Amount  Class  \n",
       "0 -0.189115  0.133558 -0.021053  149.62      0  \n",
       "1  0.125895 -0.008983  0.014724    2.69      0  \n",
       "2 -0.139097 -0.055353 -0.059752  378.66      0  \n",
       "3 -0.221929  0.062723  0.061458  123.50      0  \n",
       "4  0.502292  0.219422  0.215153   69.99      0  \n",
       "\n",
       "[5 rows x 31 columns]"
      ]
     },
     "execution_count": 4,
     "metadata": {},
     "output_type": "execute_result"
    }
   ],
   "source": [
    "df.head()"
   ]
  },
  {
   "cell_type": "markdown",
   "id": "cc324506",
   "metadata": {},
   "source": [
    "=> V로 시작하는 feature의 의미를 알 수 없다.\n",
    "\n",
    "=> 'Time' feature경우 데이터 생성 관련한 작업용 속성으로서 큰 의미가 없으므로 제거\n",
    "\n",
    "=> 'Amount' feature는 신용카드 트랜잭션 금액을 의미"
   ]
  },
  {
   "cell_type": "markdown",
   "id": "8f3ba218",
   "metadata": {},
   "source": [
    "## 데이터 가공"
   ]
  },
  {
   "cell_type": "markdown",
   "id": "6a78654b",
   "metadata": {},
   "source": [
    "필요없는 col을 제거하는 get_preprocessed_df 함수 생성"
   ]
  },
  {
   "cell_type": "code",
   "execution_count": 5,
   "id": "18d30e81",
   "metadata": {},
   "outputs": [],
   "source": [
    "# 인자로 입력받은 DataFrame을 복사한 뒤 'Time' col만 삭제후 복사된 DataFrame로 반환\n",
    "\n",
    "def get_preprocessed_df(df = None):\n",
    "    df_copy = df.copy() # df 복사\n",
    "    df_copy.drop('Time', axis = 1, inplace = True) # 'Time' col 제거\n",
    "    return df_copy"
   ]
  },
  {
   "cell_type": "markdown",
   "id": "0f0ee4ae",
   "metadata": {},
   "source": [
    "학습/테스트 데이터 세트를 return하는 get_train_test_dataset() 함수 생성\n",
    "\n",
    "- 학습 feature/레이블 데이터 세트, 테스트 feature/레이블 데이터 세트를 반환"
   ]
  },
  {
   "cell_type": "code",
   "execution_count": 6,
   "id": "fe074d38",
   "metadata": {},
   "outputs": [],
   "source": [
    "# 사전 데이터 가공 후 학습과 데이터 세트를 반환하는 함수\n",
    "\n",
    "def get_train_test_dataset(df = None):\n",
    "    # 인자로 입력된 DataFrame의 사전 데이터 가공이 완료된 복사 DataFrame를 반환\n",
    "    df_copy = get_preprocessed_df(df)\n",
    "    \n",
    "    # feature, 레이블 나누기\n",
    "    # DataFrame의 맨 마지막 컬럼이 레이블, 나머지가 feature\n",
    "    X_features = df_copy.iloc[:, :-1]\n",
    "    y_target = df_copy.iloc[:, -1]\n",
    "    \n",
    "    # 학습과 테스트 데이터 분할\n",
    "    # stratify = y_target으로 stratified 기반으로 분할\n",
    "    X_train, X_test, y_train, y_test = train_test_split(X_features, y_target, test_size = 0.3, random_state = 0, stratify = y_target)\n",
    "    \n",
    "    return X_train, X_test, y_train, y_test"
   ]
  },
  {
   "cell_type": "code",
   "execution_count": 7,
   "id": "222ed803",
   "metadata": {},
   "outputs": [
    {
     "name": "stdout",
     "output_type": "stream",
     "text": [
      "학습 데이터 feature shape :  (199364, 29)\n",
      "학습 데이터 레이블 shape :  (199364,)\n",
      "테스트 데이터 feature shape :  (85443, 29)\n",
      "테스트 데이터 레이블 shape :  (85443,)\n"
     ]
    }
   ],
   "source": [
    "X_train, X_test, y_train, y_test = get_train_test_dataset(df)\n",
    "\n",
    "print('학습 데이터 feature shape : ',  X_train.shape)\n",
    "print('학습 데이터 레이블 shape : ',  y_train.shape)\n",
    "\n",
    "print('테스트 데이터 feature shape : ',  X_test.shape)\n",
    "print('테스트 데이터 레이블 shape : ',  y_test.shape)"
   ]
  },
  {
   "cell_type": "code",
   "execution_count": 8,
   "id": "b39c1955",
   "metadata": {},
   "outputs": [
    {
     "name": "stdout",
     "output_type": "stream",
     "text": [
      "학습 데이터 레이블 값 비율\n",
      "Class\n",
      "0    99.827451\n",
      "1     0.172549\n",
      "Name: count, dtype: float64\n",
      "\n",
      "테스트 데이터 레이블 값 비율\n",
      "Class\n",
      "0    99.826785\n",
      "1     0.173215\n",
      "Name: count, dtype: float64\n"
     ]
    }
   ],
   "source": [
    "# 학습 데이터 세트와 테스트 데이터 세트의 레이블 값 비율을 백분율로 환산\n",
    "\n",
    "print('학습 데이터 레이블 값 비율')\n",
    "print(y_train.value_counts() / y_train.shape[0] * 100)\n",
    "\n",
    "print('\\n테스트 데이터 레이블 값 비율')\n",
    "print(y_test.value_counts() / y_test.shape[0] * 100)"
   ]
  },
  {
   "cell_type": "markdown",
   "id": "3af2e83e",
   "metadata": {},
   "source": [
    "## 모델 학습/예측/평가"
   ]
  },
  {
   "cell_type": "markdown",
   "id": "029eb50c",
   "metadata": {},
   "source": [
    "로지스틱 회귀와 LightGBM 기반의 모델이 데이터 가공을 수행하면서 예측 성능이 어떻게 변하는지 살펴보기"
   ]
  },
  {
   "cell_type": "markdown",
   "id": "5ad3fcb7",
   "metadata": {},
   "source": [
    "### 로지스틱"
   ]
  },
  {
   "cell_type": "code",
   "execution_count": 9,
   "id": "eedce868",
   "metadata": {},
   "outputs": [],
   "source": [
    "def get_clf_eval(y_test, pred = None, pred_proba = None):\n",
    "    confusion = confusion_matrix(y_test, pred) # 혼동행렬\n",
    "    accuracy = accuracy_score(y_test, pred) # 정확도\n",
    "    precision = precision_score(y_test, pred) # 정밀도\n",
    "    recall = recall_score(y_test , pred) # 재현율\n",
    "    f1 = f1_score(y_test, pred) # f1 score\n",
    "    roc_auc = roc_auc_score(y_test, pred_proba) # roc_auc\n",
    "    \n",
    "    score_df = pd.DataFrame([[accuracy, precision, recall, f1, roc_auc]], columns = ['정확도', '정밀도', '재현율', 'F1', 'roc-auc'])\n",
    "    \n",
    "    print('오차행렬')\n",
    "    print(confusion)\n",
    "    print('정확도 : {0:.4f}, 정밀도 : {1:.4f}, 재현율 : {2:.4f}, F1 : {3:.4f}, AUC : {4:.4f}'.format(accuracy, precision, recall, f1, roc_auc))\n",
    "    return score_df"
   ]
  },
  {
   "cell_type": "code",
   "execution_count": 10,
   "id": "b8f208fe",
   "metadata": {},
   "outputs": [
    {
     "data": {
      "text/html": [
       "<style>#sk-container-id-1 {color: black;}#sk-container-id-1 pre{padding: 0;}#sk-container-id-1 div.sk-toggleable {background-color: white;}#sk-container-id-1 label.sk-toggleable__label {cursor: pointer;display: block;width: 100%;margin-bottom: 0;padding: 0.3em;box-sizing: border-box;text-align: center;}#sk-container-id-1 label.sk-toggleable__label-arrow:before {content: \"▸\";float: left;margin-right: 0.25em;color: #696969;}#sk-container-id-1 label.sk-toggleable__label-arrow:hover:before {color: black;}#sk-container-id-1 div.sk-estimator:hover label.sk-toggleable__label-arrow:before {color: black;}#sk-container-id-1 div.sk-toggleable__content {max-height: 0;max-width: 0;overflow: hidden;text-align: left;background-color: #f0f8ff;}#sk-container-id-1 div.sk-toggleable__content pre {margin: 0.2em;color: black;border-radius: 0.25em;background-color: #f0f8ff;}#sk-container-id-1 input.sk-toggleable__control:checked~div.sk-toggleable__content {max-height: 200px;max-width: 100%;overflow: auto;}#sk-container-id-1 input.sk-toggleable__control:checked~label.sk-toggleable__label-arrow:before {content: \"▾\";}#sk-container-id-1 div.sk-estimator input.sk-toggleable__control:checked~label.sk-toggleable__label {background-color: #d4ebff;}#sk-container-id-1 div.sk-label input.sk-toggleable__control:checked~label.sk-toggleable__label {background-color: #d4ebff;}#sk-container-id-1 input.sk-hidden--visually {border: 0;clip: rect(1px 1px 1px 1px);clip: rect(1px, 1px, 1px, 1px);height: 1px;margin: -1px;overflow: hidden;padding: 0;position: absolute;width: 1px;}#sk-container-id-1 div.sk-estimator {font-family: monospace;background-color: #f0f8ff;border: 1px dotted black;border-radius: 0.25em;box-sizing: border-box;margin-bottom: 0.5em;}#sk-container-id-1 div.sk-estimator:hover {background-color: #d4ebff;}#sk-container-id-1 div.sk-parallel-item::after {content: \"\";width: 100%;border-bottom: 1px solid gray;flex-grow: 1;}#sk-container-id-1 div.sk-label:hover label.sk-toggleable__label {background-color: #d4ebff;}#sk-container-id-1 div.sk-serial::before {content: \"\";position: absolute;border-left: 1px solid gray;box-sizing: border-box;top: 0;bottom: 0;left: 50%;z-index: 0;}#sk-container-id-1 div.sk-serial {display: flex;flex-direction: column;align-items: center;background-color: white;padding-right: 0.2em;padding-left: 0.2em;position: relative;}#sk-container-id-1 div.sk-item {position: relative;z-index: 1;}#sk-container-id-1 div.sk-parallel {display: flex;align-items: stretch;justify-content: center;background-color: white;position: relative;}#sk-container-id-1 div.sk-item::before, #sk-container-id-1 div.sk-parallel-item::before {content: \"\";position: absolute;border-left: 1px solid gray;box-sizing: border-box;top: 0;bottom: 0;left: 50%;z-index: -1;}#sk-container-id-1 div.sk-parallel-item {display: flex;flex-direction: column;z-index: 1;position: relative;background-color: white;}#sk-container-id-1 div.sk-parallel-item:first-child::after {align-self: flex-end;width: 50%;}#sk-container-id-1 div.sk-parallel-item:last-child::after {align-self: flex-start;width: 50%;}#sk-container-id-1 div.sk-parallel-item:only-child::after {width: 0;}#sk-container-id-1 div.sk-dashed-wrapped {border: 1px dashed gray;margin: 0 0.4em 0.5em 0.4em;box-sizing: border-box;padding-bottom: 0.4em;background-color: white;}#sk-container-id-1 div.sk-label label {font-family: monospace;font-weight: bold;display: inline-block;line-height: 1.2em;}#sk-container-id-1 div.sk-label-container {text-align: center;}#sk-container-id-1 div.sk-container {/* jupyter's `normalize.less` sets `[hidden] { display: none; }` but bootstrap.min.css set `[hidden] { display: none !important; }` so we also need the `!important` here to be able to override the default hidden behavior on the sphinx rendered scikit-learn.org. See: https://github.com/scikit-learn/scikit-learn/issues/21755 */display: inline-block !important;position: relative;}#sk-container-id-1 div.sk-text-repr-fallback {display: none;}</style><div id=\"sk-container-id-1\" class=\"sk-top-container\"><div class=\"sk-text-repr-fallback\"><pre>LogisticRegression(max_iter=1000)</pre><b>In a Jupyter environment, please rerun this cell to show the HTML representation or trust the notebook. <br />On GitHub, the HTML representation is unable to render, please try loading this page with nbviewer.org.</b></div><div class=\"sk-container\" hidden><div class=\"sk-item\"><div class=\"sk-estimator sk-toggleable\"><input class=\"sk-toggleable__control sk-hidden--visually\" id=\"sk-estimator-id-1\" type=\"checkbox\" checked><label for=\"sk-estimator-id-1\" class=\"sk-toggleable__label sk-toggleable__label-arrow\">LogisticRegression</label><div class=\"sk-toggleable__content\"><pre>LogisticRegression(max_iter=1000)</pre></div></div></div></div></div>"
      ],
      "text/plain": [
       "LogisticRegression(max_iter=1000)"
      ]
     },
     "execution_count": 10,
     "metadata": {},
     "output_type": "execute_result"
    },
    {
     "name": "stdout",
     "output_type": "stream",
     "text": [
      "오차행렬\n",
      "[[85281    14]\n",
      " [   58    90]]\n",
      "정확도 : 0.9992, 정밀도 : 0.8654, 재현율 : 0.6081, F1 : 0.7143, AUC : 0.9702\n"
     ]
    }
   ],
   "source": [
    "lr = LogisticRegression(max_iter = 1000) # 모델 생성, max_iter : 계산에 사용할 작업 수\n",
    "lr.fit(X_train, y_train) # 학습\n",
    "lr_pred = lr.predict(X_test) # 예측\n",
    "lr_pred_proba = lr.predict_proba(X_test)[:, 1] # 확률 예측\n",
    "\n",
    "# 평가 \n",
    "lr_before_score = get_clf_eval(y_test, lr_pred, lr_pred_proba)"
   ]
  },
  {
   "cell_type": "markdown",
   "id": "a9b127b3",
   "metadata": {},
   "source": [
    "###  LightGBM"
   ]
  },
  {
   "cell_type": "markdown",
   "id": "96a21575",
   "metadata": {},
   "source": [
    "get_model_train_eval() 함수를 생성\n",
    "\n",
    "인자로 사이킷런의 Estimator 객체와 학습/테스트 데이터 세트"
   ]
  },
  {
   "cell_type": "code",
   "execution_count": 11,
   "id": "e28546e8",
   "metadata": {},
   "outputs": [],
   "source": [
    "# 인자로 사이킷런의 Estimator 객체와 학습/테스트 데이터 세트를 입력받아서 합습/예측/평가 수행\n",
    "\n",
    "def get_model_train_eval(model, ftr_train = None, ftr_test = None, tgt_train = None, tgt_test = None): # 학습 feature/레이블, 테스트 feature/레이블\n",
    "    model.fit(ftr_train, tgt_train) # 학습\n",
    "    pred = model.predict(ftr_test) # 예측\n",
    "    pred_proba = model.predict_proba(ftr_test)[:, 1] # 확률 예측\n",
    "    score_df = get_clf_eval(tgt_test, pred, pred_proba) # 평가\n",
    "    \n",
    "    return score_df"
   ]
  },
  {
   "cell_type": "markdown",
   "id": "071a5c3f",
   "metadata": {},
   "source": [
    "- 불균형한 레이블 값 분포도를 갖고 있으므로 LGBMClassifier 객체 생성 시 boost_from_average = False로 파라미터 설정\n",
    "\n",
    "- 레이블 값이 극도로 불균형한 분포인 데이터의 경우 boost_from_average = True(기본 값) 값은 재현율과 roc_auc_score를 매우 저하시킨다"
   ]
  },
  {
   "cell_type": "code",
   "execution_count": 12,
   "id": "ac6b126a",
   "metadata": {},
   "outputs": [
    {
     "name": "stdout",
     "output_type": "stream",
     "text": [
      "오차행렬\n",
      "[[85223    72]\n",
      " [   64    84]]\n",
      "정확도 : 0.9984, 정밀도 : 0.5385, 재현율 : 0.5676, F1 : 0.5526, AUC : 0.7866\n"
     ]
    },
    {
     "data": {
      "text/html": [
       "<div>\n",
       "<style scoped>\n",
       "    .dataframe tbody tr th:only-of-type {\n",
       "        vertical-align: middle;\n",
       "    }\n",
       "\n",
       "    .dataframe tbody tr th {\n",
       "        vertical-align: top;\n",
       "    }\n",
       "\n",
       "    .dataframe thead th {\n",
       "        text-align: right;\n",
       "    }\n",
       "</style>\n",
       "<table border=\"1\" class=\"dataframe\">\n",
       "  <thead>\n",
       "    <tr style=\"text-align: right;\">\n",
       "      <th></th>\n",
       "      <th>정확도</th>\n",
       "      <th>정밀도</th>\n",
       "      <th>재현율</th>\n",
       "      <th>F1</th>\n",
       "      <th>roc-auc</th>\n",
       "    </tr>\n",
       "  </thead>\n",
       "  <tbody>\n",
       "    <tr>\n",
       "      <th>0</th>\n",
       "      <td>0.998408</td>\n",
       "      <td>0.538462</td>\n",
       "      <td>0.567568</td>\n",
       "      <td>0.552632</td>\n",
       "      <td>0.786617</td>\n",
       "    </tr>\n",
       "  </tbody>\n",
       "</table>\n",
       "</div>"
      ],
      "text/plain": [
       "        정확도       정밀도       재현율        F1   roc-auc\n",
       "0  0.998408  0.538462  0.567568  0.552632  0.786617"
      ]
     },
     "execution_count": 12,
     "metadata": {},
     "output_type": "execute_result"
    }
   ],
   "source": [
    "lgbm_before = LGBMClassifier(n_estimators = 1000, num_leaves = 64, n_jobs = -1) # boost_from_average = True로 설정\n",
    "get_model_train_eval(lgbm_before, X_train, X_test, y_train, y_test)"
   ]
  },
  {
   "cell_type": "code",
   "execution_count": 13,
   "id": "c9c0f432",
   "metadata": {},
   "outputs": [
    {
     "name": "stdout",
     "output_type": "stream",
     "text": [
      "오차행렬\n",
      "[[85290     5]\n",
      " [   36   112]]\n",
      "정확도 : 0.9995, 정밀도 : 0.9573, 재현율 : 0.7568, F1 : 0.8453, AUC : 0.9790\n"
     ]
    }
   ],
   "source": [
    "lgbm = LGBMClassifier(n_estimators = 1000, num_leaves = 64, n_jobs = -1, boost_from_average = False) # boost_from_average = False로 설정\n",
    "lgbm_before_score = get_model_train_eval(lgbm, X_train, X_test, y_train, y_test)"
   ]
  },
  {
   "cell_type": "markdown",
   "id": "aa712b54",
   "metadata": {},
   "source": [
    "=> boost_from_average를 False로 설정했을 경우 roc-auc가 0.7626 -> 0.8783으로 높게 나왔다\n",
    "\n",
    "=> lightGBM이 로지스틱(0.8040)보다 높게 나왔다"
   ]
  },
  {
   "cell_type": "markdown",
   "id": "fc05f546",
   "metadata": {},
   "source": [
    "# 데이터 분포도 변환 후 모델 학습/예측평가"
   ]
  },
  {
   "cell_type": "markdown",
   "id": "03617e83",
   "metadata": {},
   "source": [
    "왜곡된 분포도를 가지는 데이터를 제가공한 뒤에 모델을 다시 테스트"
   ]
  },
  {
   "cell_type": "markdown",
   "id": "d12ccea9",
   "metadata": {},
   "source": [
    "## 중요 feature 값의 분포도 확인"
   ]
  },
  {
   "cell_type": "markdown",
   "id": "1593b57d",
   "metadata": {},
   "source": [
    "'Amount' feature는 신용 카드 사용 금액으로 정상/사기 트랜잭션을 결정하는 매우 중요한 속성일 가능성이 높다\n",
    "\n",
    "'Amount' feature의 분포도 확인"
   ]
  },
  {
   "cell_type": "code",
   "execution_count": 14,
   "id": "be66658d",
   "metadata": {},
   "outputs": [
    {
     "data": {
      "image/png": "[encoded data removed]",
      "text/plain": [
       "<Figure size 1000x500 with 1 Axes>"
      ]
     },
     "metadata": {},
     "output_type": "display_data"
    }
   ],
   "source": [
    "plt.figure(figsize = (10, 5));\n",
    "plt.xticks(range(0, 30000, 1000), rotation = 60);\n",
    "sns.histplot(df['Amount'], bins = 100, kde = True);"
   ]
  },
  {
   "cell_type": "markdown",
   "id": "326cddc1",
   "metadata": {},
   "source": [
    "=> 카드 사용 금액이 1000불 이하인 데이터가 대부분\n",
    "\n",
    "=> 26000불까지는 드물지만 많은 금액을 사용한 경우가 발생하면서 고리가 긴 형태의 분포 곡선을 띈다\n",
    "\n",
    "=> 'Amount'를 표준 정규 분포 형태로 변환한 뒤 로지스틱 회귀의 예측 성능을 측정"
   ]
  },
  {
   "cell_type": "markdown",
   "id": "1aad7bad",
   "metadata": {},
   "source": [
    "## StandardScaler"
   ]
  },
  {
   "cell_type": "markdown",
   "id": "8bf1b8e0",
   "metadata": {},
   "source": [
    "### 데이터 가공"
   ]
  },
  {
   "cell_type": "code",
   "execution_count": 15,
   "id": "5d9b7393",
   "metadata": {},
   "outputs": [],
   "source": [
    "# 앞서 만든 get_preprocessed_df()함수 이용\n",
    "# StandardScaler 클래스 이용해 정규 분포 형태로 'Amount' feature 변환하는 로직으로 수정\n",
    "# StandardScaler : 변수 각각의 평균을 0, 분산을 1로 만든다\n",
    "\n",
    "def get_preprocessed_df(df = None):\n",
    "    df_copy = df.copy()\n",
    "    \n",
    "    # scaler 생성\n",
    "    scaler = StandardScaler()\n",
    "    # fit : 데이터 변환을 위한 기존 정보 설정, transform : fit()을 통해 설정된 정보를 이용해 실제로 데이터를 변환\n",
    "    amount_n = scaler.fit_transform(df_copy[['Amount']]) # 변경하고자 하는 데이터는 2차원 배열\n",
    "    \n",
    "    # 변환된 Amount를 Amount_Scaled로 feature명을 변경 후 DataFrame 맨 앞 컬럼으로 입력\n",
    "    df_copy.insert(0, 'Amount_Scaled', amount_n)\n",
    "    \n",
    "    # 기존의 'Time', 'Amount' feature 삭제\n",
    "    df_copy.drop(['Time', 'Amount'], axis = 1, inplace = True)\n",
    "    \n",
    "    return df_copy"
   ]
  },
  {
   "cell_type": "markdown",
   "id": "99aa3f8f",
   "metadata": {},
   "source": [
    "get_train_test_dataset()을 호출해 학습/테스트 데이터 세트를 생성"
   ]
  },
  {
   "cell_type": "code",
   "execution_count": 16,
   "id": "da281efc",
   "metadata": {},
   "outputs": [
    {
     "name": "stdout",
     "output_type": "stream",
     "text": [
      "학습 데이터 feature shape :  (199364, 29)\n",
      "학습 데이터 레이블 shape :  (199364,)\n",
      "테스트 데이터 feature shape :  (85443, 29)\n",
      "테스트 데이터 레이블 shape :  (85443,)\n"
     ]
    }
   ],
   "source": [
    "# Amount를 정규 분포 형태로 변경\n",
    "\n",
    "X_train, X_test, y_train, y_test = get_train_test_dataset(df)\n",
    "\n",
    "print('학습 데이터 feature shape : ',  X_train.shape)\n",
    "print('학습 데이터 레이블 shape : ',  y_train.shape)\n",
    "\n",
    "print('테스트 데이터 feature shape : ',  X_test.shape)\n",
    "print('테스트 데이터 레이블 shape : ',  y_test.shape)"
   ]
  },
  {
   "cell_type": "markdown",
   "id": "aa7ca3f6",
   "metadata": {},
   "source": [
    "### 모델 학습/예측/평가"
   ]
  },
  {
   "cell_type": "markdown",
   "id": "3c6f27e0",
   "metadata": {},
   "source": [
    "get_model_train_eval()을 이용해 로지스틱 회귀와 LightGBM 모델을 각각 학습/예측/평가"
   ]
  },
  {
   "cell_type": "code",
   "execution_count": 17,
   "id": "9ad72131",
   "metadata": {
    "scrolled": true
   },
   "outputs": [
    {
     "name": "stdout",
     "output_type": "stream",
     "text": [
      "## 로지스틱 회귀 예측 성능 ##\n",
      "오차행렬\n",
      "[[85281    14]\n",
      " [   58    90]]\n",
      "정확도 : 0.9992, 정밀도 : 0.8654, 재현율 : 0.6081, F1 : 0.7143, AUC : 0.9702\n",
      "\n",
      "## LightGBM ##\n",
      "오차행렬\n",
      "[[85290     5]\n",
      " [   37   111]]\n",
      "정확도 : 0.9995, 정밀도 : 0.9569, 재현율 : 0.7500, F1 : 0.8409, AUC : 0.9779\n"
     ]
    }
   ],
   "source": [
    "# 로지스틱\n",
    "print('## 로지스틱 회귀 예측 성능 ##')\n",
    "lr = LogisticRegression(max_iter = 1000)\n",
    "lr_standard_score = get_model_train_eval(lr, X_train, X_test, y_train, y_test)\n",
    "\n",
    "# LightGBM\n",
    "print('\\n## LightGBM ##')\n",
    "lgbm = LGBMClassifier(n_estimators = 1000, num_leaves = 64, n_jobs = -1, boost_from_average = False)\n",
    "lgbm_standard_score = get_model_train_eval(lgbm, X_train, X_test, y_train, y_test)"
   ]
  },
  {
   "cell_type": "markdown",
   "id": "f44606e3",
   "metadata": {},
   "source": [
    "## 로그 변환"
   ]
  },
  {
   "cell_type": "markdown",
   "id": "0a532f2d",
   "metadata": {},
   "source": [
    "로그 변환은 데이터 분포도가 심하게 왜곡되어 있을 경우 적용하는 중요 기법"
   ]
  },
  {
   "cell_type": "markdown",
   "id": "a7c41ccd",
   "metadata": {},
   "source": [
    "### 데이터 가공"
   ]
  },
  {
   "cell_type": "code",
   "execution_count": 18,
   "id": "93ef5cbb",
   "metadata": {},
   "outputs": [],
   "source": [
    "def get_preprocessed_df(df = None):\n",
    "    df_copy = df.copy()\n",
    "    \n",
    "    # 넘파이의 log1p()를 이용해 Amount를 로그 변환\n",
    "    amount_n = np.log1p(df_copy['Amount'])\n",
    "    df_copy.insert(0, 'Amount_Scaled', amount_n) # 로그 변환 데이터 추가\n",
    "    df_copy.drop(['Time', 'Amount'], axis = 1, inplace = True) # 필요없는 col 제거\n",
    "    \n",
    "    return df_copy"
   ]
  },
  {
   "cell_type": "code",
   "execution_count": 19,
   "id": "3b60eb2b",
   "metadata": {},
   "outputs": [],
   "source": [
    "X_train, X_test, y_train, y_test = get_train_test_dataset(df)"
   ]
  },
  {
   "cell_type": "markdown",
   "id": "8f330193",
   "metadata": {},
   "source": [
    "### 모델 학습/예측/평가"
   ]
  },
  {
   "cell_type": "code",
   "execution_count": 20,
   "id": "6e789ec8",
   "metadata": {},
   "outputs": [
    {
     "name": "stdout",
     "output_type": "stream",
     "text": [
      "## 로지스틱 회귀 예측 성능 ##\n",
      "오차행렬\n",
      "[[85283    12]\n",
      " [   59    89]]\n",
      "정확도 : 0.9992, 정밀도 : 0.8812, 재현율 : 0.6014, F1 : 0.7149, AUC : 0.9727\n",
      "\n",
      "## LightGBM ##\n",
      "오차행렬\n",
      "[[85290     5]\n",
      " [   35   113]]\n",
      "정확도 : 0.9995, 정밀도 : 0.9576, 재현율 : 0.7635, F1 : 0.8496, AUC : 0.9796\n"
     ]
    }
   ],
   "source": [
    "# 로지스틱\n",
    "print('## 로지스틱 회귀 예측 성능 ##')\n",
    "lr = LogisticRegression(max_iter = 1000)\n",
    "lr_log_score = get_model_train_eval(lr, X_train, X_test, y_train, y_test)\n",
    "\n",
    "# LightGBM\n",
    "print('\\n## LightGBM ##')\n",
    "lgbm = LGBMClassifier(n_estimators = 1000, num_leaves = 64, n_jobs = -1, boost_from_average = False)\n",
    "lgbm_log_score = get_model_train_eval(lgbm, X_train, X_test, y_train, y_test)"
   ]
  },
  {
   "cell_type": "markdown",
   "id": "4a8b8ca0",
   "metadata": {},
   "source": [
    "=> 로지스틱 회귀인 경우 원본 데이터 대비 정밀도는 향상, 재현율은 저하\n",
    "\n",
    "=> LightGBM인 경우 원본 데이터 대비 정밀도와 재현율이 향상"
   ]
  },
  {
   "cell_type": "markdown",
   "id": "7078453f",
   "metadata": {},
   "source": [
    "## 이상치 제거"
   ]
  },
  {
   "cell_type": "markdown",
   "id": "a94dbd5d",
   "metadata": {},
   "source": [
    "DataFrame의 corr()를 이용해 각 피처별로 상관도를 구한 뒤 시본의 heatmap을 통해 시각화"
   ]
  },
  {
   "cell_type": "code",
   "execution_count": 21,
   "id": "d4f8330e",
   "metadata": {},
   "outputs": [
    {
     "data": {
      "image/png": "[encoded data removed]",
      "text/plain": [
       "<Figure size 900x900 with 2 Axes>"
      ]
     },
     "metadata": {},
     "output_type": "display_data"
    }
   ],
   "source": [
    "plt.figure(figsize = (9, 9));\n",
    "corr = df.corr()\n",
    "sns.heatmap(corr, cmap = 'RdBu');"
   ]
  },
  {
   "cell_type": "markdown",
   "id": "91434def",
   "metadata": {},
   "source": [
    "### 데이터 가공"
   ]
  },
  {
   "cell_type": "markdown",
   "id": "d521c1f1",
   "metadata": {},
   "source": [
    "=> 양의 상관관계가 높을수록 색깔이 진한 파랑, 음의 상관관계가 높을수록 색깔이 진한 빨강\n",
    "\n",
    "=> 'Class' feature와 음의 상관관계가 가장 높은 feature는 'V14', 'V17'이다\n",
    "\n",
    "=> 'V14'에 대해서만 이상치를 찾아 제거"
   ]
  },
  {
   "cell_type": "code",
   "execution_count": 22,
   "id": "ec34d52c",
   "metadata": {},
   "outputs": [],
   "source": [
    "def get_outlier(df = None, column = None, weight = 1.5):\n",
    "    \n",
    "    # fraud에 해당하는 column 데이터만 추출, 1/4 분위와 3/4 분위 지점을 구함\n",
    "    fraud = df[df['Class'] == 1][column]\n",
    "    Q1 = fraud.quantile(0.25) # 1/4지점\n",
    "    Q3 = fraud.quantile(0.75) # 3/4 지점\n",
    "    \n",
    "    # IQR 구하고 최댓값, 최솟값 지점 구하기\n",
    "    IQR = Q3 - Q1\n",
    "    IQR_weight = IQR * weight\n",
    "    lowest_val = Q1 - IQR_weight\n",
    "    highest_val = Q3 + IQR_weight\n",
    "    \n",
    "    # 최댓값돠 크거나, 최솟값보다 작은 값을 이상치로 판단\n",
    "    outlier_index = fraud[(fraud < lowest_val) | (fraud > highest_val)].index\n",
    "    return outlier_index"
   ]
  },
  {
   "cell_type": "code",
   "execution_count": 23,
   "id": "5b90da73",
   "metadata": {},
   "outputs": [
    {
     "name": "stdout",
     "output_type": "stream",
     "text": [
      "이상치 데이터 인덱스 :  Index([8296, 8615, 9035, 9252], dtype='int64')\n"
     ]
    }
   ],
   "source": [
    "# get_outlier()함수를 이용해 'V14' col에서 이상치 데이터 찾기\n",
    "\n",
    "outlier_index = get_outlier(df = df, column = 'V14', weight = 1.5)\n",
    "print('이상치 데이터 인덱스 : ', outlier_index)"
   ]
  },
  {
   "cell_type": "code",
   "execution_count": 24,
   "id": "ee42d24d",
   "metadata": {},
   "outputs": [],
   "source": [
    "# get_preprocessed_df()를 로그 변환 후 'V14' feature의 이상치 데이터를 삭제하는 로직으로 변경\n",
    "\n",
    "def get_preprocessed_df(df = None):\n",
    "    df_copy = df.copy()\n",
    "    amount_n = np.log1p(df_copy['Amount'])\n",
    "    df_copy.insert(0, 'Amount_Scaled', amount_n)\n",
    "    df_copy.drop(['Time', 'Amount'], axis = 1, inplace = True)\n",
    "    \n",
    "    # 이상치 데이터 삭제하는 로직 추가\n",
    "    outlier_index = get_outlier(df = df_copy, column = 'V14', weight = 1.5)\n",
    "    df_copy.drop(outlier_index, axis = 0, inplace = True)\n",
    "    return df_copy"
   ]
  },
  {
   "cell_type": "code",
   "execution_count": 25,
   "id": "56d02dec",
   "metadata": {},
   "outputs": [],
   "source": [
    "X_train, X_test, y_train, y_test = get_train_test_dataset(df)"
   ]
  },
  {
   "cell_type": "markdown",
   "id": "445f143c",
   "metadata": {},
   "source": [
    "### 모델 학습/예측/평가"
   ]
  },
  {
   "cell_type": "code",
   "execution_count": 26,
   "id": "3d604610",
   "metadata": {},
   "outputs": [
    {
     "name": "stdout",
     "output_type": "stream",
     "text": [
      "## 로지스틱 회귀 예측 성능 ##\n",
      "오차행렬\n",
      "[[85281    14]\n",
      " [   48    98]]\n",
      "정확도 : 0.9993, 정밀도 : 0.8750, 재현율 : 0.6712, F1 : 0.7597, AUC : 0.9743\n",
      "\n",
      "## LightGBM ##\n",
      "오차행렬\n",
      "[[85290     5]\n",
      " [   25   121]]\n",
      "정확도 : 0.9996, 정밀도 : 0.9603, 재현율 : 0.8288, F1 : 0.8897, AUC : 0.9780\n"
     ]
    }
   ],
   "source": [
    "# 로지스틱\n",
    "print('## 로지스틱 회귀 예측 성능 ##')\n",
    "lr = LogisticRegression(max_iter = 1000)\n",
    "lr_outlier_score = get_model_train_eval(lr, X_train, X_test, y_train, y_test)\n",
    "\n",
    "# LightGBM\n",
    "print('\\n## LightGBM ##')\n",
    "lgbm = LGBMClassifier(n_estimators = 1000, num_leaves = 64, n_jobs = -1, boost_from_average = False)\n",
    "lgbm_outlier_score = get_model_train_eval(lgbm, X_train, X_test, y_train, y_test)"
   ]
  },
  {
   "cell_type": "markdown",
   "id": "94dfebc7",
   "metadata": {},
   "source": [
    "=> 이상치 데이터를 제거한 뒤, 로지스틱 회귀와 LightGBM 모두 예측이 크게 향상\n",
    "\n",
    "=> 로지스틱의 경우 재현율이 60.14%에서 67.12%로 증가\n",
    "\n",
    "=> LightGBM의 경우 재현율이 76.35%에서 82.88%로 증가"
   ]
  },
  {
   "cell_type": "markdown",
   "id": "ab339e76",
   "metadata": {},
   "source": [
    "## SMOTE"
   ]
  },
  {
   "cell_type": "markdown",
   "id": "cbe08d0b",
   "metadata": {},
   "source": [
    "### 데이터 가공"
   ]
  },
  {
   "cell_type": "code",
   "execution_count": 27,
   "id": "6375e5c2",
   "metadata": {},
   "outputs": [
    {
     "name": "stdout",
     "output_type": "stream",
     "text": [
      "SMOTE 적용 전 학습용 피처/레이블 데이터 세트 :  (199362, 29) (199362,)\n",
      "SMOTE 적용 후 학습용 피처/레이블 데이터 세트 :  (398040, 29) (398040,)\n",
      "SMOTE 적용 후 레이블 값 분포 : \n",
      " Class\n",
      "0    199020\n",
      "1    199020\n",
      "Name: count, dtype: int64\n"
     ]
    }
   ],
   "source": [
    "smote = SMOTE(random_state = 0)\n",
    "\n",
    "X_train_over, y_train_over = smote.fit_resample(X_train, y_train)\n",
    "print('SMOTE 적용 전 학습용 피처/레이블 데이터 세트 : ', X_train.shape, y_train.shape)\n",
    "print('SMOTE 적용 후 학습용 피처/레이블 데이터 세트 : ', X_train_over.shape, y_train_over.shape)\n",
    "print('SMOTE 적용 후 레이블 값 분포 : \\n', pd.Series(y_train_over).value_counts())"
   ]
  },
  {
   "cell_type": "markdown",
   "id": "c98161cb",
   "metadata": {},
   "source": [
    "### 모델 학습/예측/평가"
   ]
  },
  {
   "cell_type": "markdown",
   "id": "1b64b20a",
   "metadata": {},
   "source": [
    "생성된 학습 데이터 세트를 기반으로 먼저 로지스틱 회귀 모델을 학습 한 뒤 성능 평가"
   ]
  },
  {
   "cell_type": "code",
   "execution_count": 28,
   "id": "efc2186e",
   "metadata": {},
   "outputs": [
    {
     "name": "stdout",
     "output_type": "stream",
     "text": [
      "오차행렬\n",
      "[[82937  2358]\n",
      " [   11   135]]\n",
      "정확도 : 0.9723, 정밀도 : 0.0542, 재현율 : 0.9247, F1 : 0.1023, AUC : 0.9737\n"
     ]
    }
   ],
   "source": [
    "lr = LogisticRegression(max_iter = 1000)\n",
    "\n",
    "# ftr_train과 tgt_train 인자값이 SMOTE 증식된 X_train_over, y_train_over로 변경\n",
    "lr_smote_score = get_model_train_eval(lr, X_train_over, X_test, y_train_over, y_test)"
   ]
  },
  {
   "cell_type": "markdown",
   "id": "ddd8e779",
   "metadata": {},
   "source": [
    "=> 이상치만 제거한 경우인 정밀도 87.50%에서 정밀도가 5.42%로 급격하게 저하\n",
    "\n",
    "=> 로지스틱 회귀 몯레에 어떤 문제가 발생하는지 시각적으로 확인"
   ]
  },
  {
   "cell_type": "code",
   "execution_count": 29,
   "id": "3ed47138",
   "metadata": {},
   "outputs": [
    {
     "data": {
      "image/png": "[encoded data removed]",
      "text/plain": [
       "<Figure size 800x600 with 1 Axes>"
      ]
     },
     "metadata": {},
     "output_type": "display_data"
    }
   ],
   "source": [
    "def precision_recall_curve_plot(y_test, pred_proba_c1):\n",
    "    # threshold ndarray와 이 threshold에 다른 정밀도, 재현율 ndarray 추출\n",
    "    precision, recalls, thresholds = precision_recall_curve(y_test, pred_proba_c1)\n",
    "    \n",
    "    # x축을 threshold값으로 y축은 정밀도, 재현율 값으로 각각 plot 수행, 정밀도는 점선으로 표시\n",
    "    plt.figure(figsize = (8, 6))\n",
    "    threshold_boundary = thresholds.shape[0]\n",
    "    plt.plot(thresholds, precision[0:threshold_boundary], linestyle = '--', label = 'precision')\n",
    "    plt.plot(thresholds, recalls[0:threshold_boundary], label = 'recall')  \n",
    "    \n",
    "    # threhold 값 x축의 scale을 0.1 단위로 변경\n",
    "    start, end = plt.xlim()\n",
    "    plt.xticks(np.round(np.arange(start, end, 0.1), 2))\n",
    "    \n",
    "    # x축, y축 label과 legend, 그리고 grid 설정\n",
    "    plt.xlabel('Threshold value')\n",
    "    plt.ylabel('Precision and Recall value')\n",
    "    plt.legend()\n",
    "    plt.grid()\n",
    "    \n",
    "precision_recall_curve_plot(y_test, lr.predict_proba(X_test)[:, 1])"
   ]
  },
  {
   "cell_type": "markdown",
   "id": "545a8fe3",
   "metadata": {},
   "source": [
    "=> 임계값이 0.99이하에서는 재현율이 매우 좋고 정밀도가 극단적으로 낮다가 0.99 이상에서는 반대로 재현율이 대폭 떨어지고 정밀도가 높아진다\n",
    "\n",
    "<br>"
   ]
  },
  {
   "cell_type": "markdown",
   "id": "78e0834f",
   "metadata": {},
   "source": [
    "LightGBM 모델을 SMOTE로 오버 샘플링된 데이터 세트로 학습/예측/평가 수행"
   ]
  },
  {
   "cell_type": "code",
   "execution_count": 30,
   "id": "807d1705",
   "metadata": {},
   "outputs": [
    {
     "name": "stdout",
     "output_type": "stream",
     "text": [
      "오차행렬\n",
      "[[85283    12]\n",
      " [   22   124]]\n",
      "정확도 : 0.9996, 정밀도 : 0.9118, 재현율 : 0.8493, F1 : 0.8794, AUC : 0.9814\n"
     ]
    }
   ],
   "source": [
    "lgbm = LGBMClassifier(n_estimators = 1000, num_leaves = 64, n_jobs = -1, boost_from_average = False)\n",
    "lgbm_smote_score = get_model_train_eval(lgbm, X_train_over, X_test, y_train_over, y_test)"
   ]
  },
  {
   "cell_type": "markdown",
   "id": "a09290a7",
   "metadata": {},
   "source": [
    "=> LightGBM 모델에서 재현율이 이상치만 제거한 경우인 82.88%보다 높은 84.93%가 나왔다\n",
    "\n",
    "=> 정밀도는 이상치만 제거한 경우인 96.03%보다 낮은 91.18%가 나왔다\n",
    "\n",
    "=> SMOTE를 적용하면 재현율은 높아지나, 정밀도는 낮아지는 것이 일반적이다\n",
    "\n",
    "<br>"
   ]
  },
  {
   "cell_type": "markdown",
   "id": "56f43849",
   "metadata": {},
   "source": [
    "모델 별 평가지표 비교"
   ]
  },
  {
   "cell_type": "code",
   "execution_count": 31,
   "id": "d5fd68da",
   "metadata": {},
   "outputs": [
    {
     "data": {
      "text/html": [
       "<div>\n",
       "<style scoped>\n",
       "    .dataframe tbody tr th:only-of-type {\n",
       "        vertical-align: middle;\n",
       "    }\n",
       "\n",
       "    .dataframe tbody tr th {\n",
       "        vertical-align: top;\n",
       "    }\n",
       "\n",
       "    .dataframe thead th {\n",
       "        text-align: right;\n",
       "    }\n",
       "</style>\n",
       "<table border=\"1\" class=\"dataframe\">\n",
       "  <thead>\n",
       "    <tr style=\"text-align: right;\">\n",
       "      <th></th>\n",
       "      <th>정밀도</th>\n",
       "      <th>재현율</th>\n",
       "      <th>roc-auc</th>\n",
       "    </tr>\n",
       "  </thead>\n",
       "  <tbody>\n",
       "    <tr>\n",
       "      <th>lr_before_score</th>\n",
       "      <td>0.865385</td>\n",
       "      <td>0.608108</td>\n",
       "      <td>0.970223</td>\n",
       "    </tr>\n",
       "    <tr>\n",
       "      <th>lr_standard_score</th>\n",
       "      <td>0.865385</td>\n",
       "      <td>0.608108</td>\n",
       "      <td>0.970227</td>\n",
       "    </tr>\n",
       "    <tr>\n",
       "      <th>lr_log_score</th>\n",
       "      <td>0.881188</td>\n",
       "      <td>0.601351</td>\n",
       "      <td>0.972683</td>\n",
       "    </tr>\n",
       "    <tr>\n",
       "      <th>lr_outlier_score</th>\n",
       "      <td>0.875000</td>\n",
       "      <td>0.671233</td>\n",
       "      <td>0.974272</td>\n",
       "    </tr>\n",
       "    <tr>\n",
       "      <th>lr_smote_score</th>\n",
       "      <td>0.054152</td>\n",
       "      <td>0.924658</td>\n",
       "      <td>0.973654</td>\n",
       "    </tr>\n",
       "    <tr>\n",
       "      <th>lgbm_before_score</th>\n",
       "      <td>0.957265</td>\n",
       "      <td>0.756757</td>\n",
       "      <td>0.979034</td>\n",
       "    </tr>\n",
       "    <tr>\n",
       "      <th>lgbm_standard_score</th>\n",
       "      <td>0.956897</td>\n",
       "      <td>0.750000</td>\n",
       "      <td>0.977872</td>\n",
       "    </tr>\n",
       "    <tr>\n",
       "      <th>lgbm_log_score</th>\n",
       "      <td>0.957627</td>\n",
       "      <td>0.763514</td>\n",
       "      <td>0.979624</td>\n",
       "    </tr>\n",
       "    <tr>\n",
       "      <th>lgbm_outlier_score</th>\n",
       "      <td>0.960317</td>\n",
       "      <td>0.828767</td>\n",
       "      <td>0.978002</td>\n",
       "    </tr>\n",
       "    <tr>\n",
       "      <th>lgbm_smote_score</th>\n",
       "      <td>0.911765</td>\n",
       "      <td>0.849315</td>\n",
       "      <td>0.981354</td>\n",
       "    </tr>\n",
       "  </tbody>\n",
       "</table>\n",
       "</div>"
      ],
      "text/plain": [
       "                          정밀도       재현율   roc-auc\n",
       "lr_before_score      0.865385  0.608108  0.970223\n",
       "lr_standard_score    0.865385  0.608108  0.970227\n",
       "lr_log_score         0.881188  0.601351  0.972683\n",
       "lr_outlier_score     0.875000  0.671233  0.974272\n",
       "lr_smote_score       0.054152  0.924658  0.973654\n",
       "lgbm_before_score    0.957265  0.756757  0.979034\n",
       "lgbm_standard_score  0.956897  0.750000  0.977872\n",
       "lgbm_log_score       0.957627  0.763514  0.979624\n",
       "lgbm_outlier_score   0.960317  0.828767  0.978002\n",
       "lgbm_smote_score     0.911765  0.849315  0.981354"
      ]
     },
     "execution_count": 31,
     "metadata": {},
     "output_type": "execute_result"
    }
   ],
   "source": [
    "lr_score = pd.concat([lr_before_score, lr_standard_score, lr_log_score, lr_outlier_score, lr_smote_score])\n",
    "lr_score.index = [['lr_before_score', 'lr_standard_score', 'lr_log_score', 'lr_outlier_score', 'lr_smote_score']]\n",
    "\n",
    "lgbm_score = pd.concat([lgbm_before_score, lgbm_standard_score, lgbm_log_score, lgbm_outlier_score, lgbm_smote_score])\n",
    "lgbm_score.index = [['lgbm_before_score', 'lgbm_standard_score', 'lgbm_log_score', 'lgbm_outlier_score', 'lgbm_smote_score']]\n",
    "\n",
    "tot_score = pd.concat([lr_score, lgbm_score])\n",
    "tot_score.drop(['정확도', 'F1'], axis = 1, inplace = True)\n",
    "\n",
    "tot_score"
   ]
  },
  {
   "cell_type": "code",
   "execution_count": 32,
   "id": "3330c231",
   "metadata": {},
   "outputs": [
    {
     "data": {
      "text/plain": [
       "<Figure size 2000x2000 with 0 Axes>"
      ]
     },
     "metadata": {},
     "output_type": "display_data"
    },
    {
     "data": {
      "image/png": "[encoded data removed]",
      "text/plain": [
       "<Figure size 640x480 with 1 Axes>"
      ]
     },
     "metadata": {},
     "output_type": "display_data"
    }
   ],
   "source": [
    "plt.figure(figsize = (20, 20));\n",
    "tot_score.plot(kind = 'bar');\n",
    "plt.legend(loc = 'lower right');\n",
    "plt.ylabel('평가 지표');\n",
    "plt.xlabel('모델');\n",
    "plt.title('모델에 따른 평가 지표');\n",
    "plt.xticks(rotation=45);"
   ]
  },
  {
   "cell_type": "code",
   "execution_count": null,
   "id": "37235c76",
   "metadata": {},
   "outputs": [],
   "source": []
  }
 ],
 "metadata": {
  "kernelspec": {
   "display_name": "Python 3 (ipykernel)",
   "language": "python",
   "name": "python3"
  },
  "language_info": {
   "codemirror_mode": {
    "name": "ipython",
    "version": 3
   },
   "file_extension": ".py",
   "mimetype": "text/x-python",
   "name": "python",
   "nbconvert_exporter": "python",
   "pygments_lexer": "ipython3",
   "version": "3.11.5"
  },
  "toc": {
   "base_numbering": 1,
   "nav_menu": {},
   "number_sections": true,
   "sideBar": true,
   "skip_h1_title": false,
   "title_cell": "Table of Contents",
   "title_sidebar": "Contents",
   "toc_cell": false,
   "toc_position": {
    "height": "calc(100% - 180px)",
    "left": "10px",
    "top": "150px",
    "width": "295.608px"
   },
   "toc_section_display": true,
   "toc_window_display": true
  }
 },
 "nbformat": 4,
 "nbformat_minor": 5
}
