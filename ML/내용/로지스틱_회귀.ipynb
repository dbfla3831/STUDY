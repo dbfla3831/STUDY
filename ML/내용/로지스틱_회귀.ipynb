{
 "cells": [
  {
   "cell_type": "markdown",
   "id": "b919b0cf",
   "metadata": {},
   "source": [
    "# 로지스틱 회귀"
   ]
  },
  {
   "cell_type": "markdown",
   "id": "4f4c5bcf",
   "metadata": {},
   "source": [
    "회귀 문제를 약간 비틀어 분류 문제에 적용\n",
    "\n",
    "가령 종양의 크기에 따라 악성 종양인지(1), 아닌지(0)를 회귀를 이용해 1, 0의 값으로 예측하기\n",
    "\n",
    "로지스틱 회귀 : 선형 회귀 방식을 기반으로 하되 시그모이드 함수를 이용해 분류를 수행하는 회귀"
   ]
  },
  {
   "cell_type": "markdown",
   "id": "a3aab41f",
   "metadata": {},
   "source": [
    "위스콘시 유방암 데이터 세트 기반에서 로지스틱 회귀로 암 여부를 판단"
   ]
  },
  {
   "cell_type": "code",
   "execution_count": 24,
   "id": "7284f1a0",
   "metadata": {
    "ExecuteTime": {
     "end_time": "2024-01-30T03:03:47.742252Z",
     "start_time": "2024-01-30T03:03:47.651501Z"
    }
   },
   "outputs": [],
   "source": [
    "import pandas as pd\n",
    "import matplotlib.pyplot as plt\n",
    "\n",
    "from sklearn.datasets import load_breast_cancer\n",
    "from sklearn.linear_model import LogisticRegression\n",
    "\n",
    "import warnings\n",
    "warnings.filterwarnings('ignore')\n",
    "    \n",
    "\n",
    "cancer = load_breast_cancer()"
   ]
  },
  {
   "cell_type": "code",
   "execution_count": 25,
   "id": "cd7e1a17",
   "metadata": {
    "ExecuteTime": {
     "end_time": "2024-01-30T03:03:47.748687Z",
     "start_time": "2024-01-30T03:03:47.743252Z"
    }
   },
   "outputs": [],
   "source": [
    "# 선형 회귀 계열의 로지스틱 회귀는 데이터의 정규 분포도에 따라 예측 성능 영향을 받을 수 있으므로 데이터에 먼저 정규 분포 형태의 표준 스케일링을 적용 후 분리\n",
    "\n",
    "from sklearn.preprocessing import StandardScaler\n",
    "from sklearn.model_selection import train_test_split\n",
    "\n",
    "# StandardScaler()로 평균이 0, 분산이 1로 데이터 분포도 변환\n",
    "scaler = StandardScaler()\n",
    "data_scaled = scaler.fit_transform(cancer.data)\n",
    "\n",
    "X_train, X_test, y_train, y_test = train_test_split(data_scaled, cancer.target, test_size = 0.3, random_state = 0)"
   ]
  },
  {
   "cell_type": "code",
   "execution_count": 26,
   "id": "695f5beb",
   "metadata": {
    "ExecuteTime": {
     "end_time": "2024-01-30T03:03:47.765780Z",
     "start_time": "2024-01-30T03:03:47.749688Z"
    }
   },
   "outputs": [
    {
     "name": "stdout",
     "output_type": "stream",
     "text": [
      "accuracy : 0.977, roc_auc : 0.972\n"
     ]
    }
   ],
   "source": [
    "from sklearn.metrics import accuracy_score, roc_auc_score\n",
    "\n",
    "# 로지스틱 회귀를 이용해 학습 및 예측 수행\n",
    "# solver 인자갑을 생성자로 입력하지 않으면 solver = 'lbfgs'\n",
    "lr = LogisticRegression() # 모델 생성\n",
    "lr.fit(X_train, y_train) # 학습 \n",
    "lr_preds = lr.predict(X_test) # 예측\n",
    "\n",
    "# accuracy, roc_auc측정\n",
    "print('accuracy : {:.3f}, roc_auc : {:.3f}'.format(accuracy_score(y_test, lr_preds), roc_auc_score(y_test, lr_preds)))"
   ]
  },
  {
   "cell_type": "code",
   "execution_count": 27,
   "id": "47aece5d",
   "metadata": {
    "ExecuteTime": {
     "end_time": "2024-01-30T03:03:47.945504Z",
     "start_time": "2024-01-30T03:03:47.767778Z"
    }
   },
   "outputs": [
    {
     "name": "stdout",
     "output_type": "stream",
     "text": [
      "solver : lbfgs, accuracy : 0.977, roc_auc : 0.972\n",
      "solver : liblinear, accuracy : 0.982, roc_auc : 0.979\n",
      "solver : newton-cg, accuracy : 0.977, roc_auc : 0.972\n",
      "solver : sag, accuracy : 0.982, roc_auc : 0.979\n",
      "solver : saga, accuracy : 0.982, roc_auc : 0.979\n"
     ]
    }
   ],
   "source": [
    "# 서로 다른 solver값으로 학습, 성능 평가\n",
    "\n",
    "solvers = ['lbfgs', 'liblinear', 'newton-cg', 'sag', 'saga']\n",
    "\n",
    "# 여러 개의 solver값별로 LogisticRegression 학습 후 성능 평가\n",
    "for solver in solvers:\n",
    "    lr = LogisticRegression(solver = solver, max_iter = 600)\n",
    "    lr.fit(X_train, y_train)\n",
    "    lr_preds = lr.predict(X_test)\n",
    "    \n",
    "    # accuracy, roc_auc 측정\n",
    "    print('solver : {}, accuracy : {:.3f}, roc_auc : {:.3f}'.format(solver, accuracy_score(y_test, lr_preds), roc_auc_score(y_test, lr_preds)))"
   ]
  },
  {
   "cell_type": "code",
   "execution_count": 28,
   "id": "aed31fe1",
   "metadata": {
    "ExecuteTime": {
     "end_time": "2024-01-30T03:03:48.122737Z",
     "start_time": "2024-01-30T03:03:47.946503Z"
    }
   },
   "outputs": [
    {
     "name": "stdout",
     "output_type": "stream",
     "text": [
      "최적 하이퍼 파라미터 : {'C': 1, 'penalty': 'l2', 'solver': 'liblinear'}, 최적 평균 정확도 : 0.985\n"
     ]
    }
   ],
   "source": [
    "from sklearn.model_selection import GridSearchCV\n",
    "\n",
    "params = {'solver' : ['liblinear', 'lbfgs'],\n",
    "         'penalty' : ['l2', 'l1'],\n",
    "         'C' : [0.01, 0.1, 1, 5, 10]}\n",
    "\n",
    "lr = LogisticRegression()\n",
    "\n",
    "grid = GridSearchCV(lr, param_grid = params, scoring = 'accuracy', cv = 3)\n",
    "grid.fit(X_train, y_train)\n",
    "print('최적 하이퍼 파라미터 : {}, 최적 평균 정확도 : {:.3f}'.format(grid.best_params_, grid.best_score_))"
   ]
  },
  {
   "cell_type": "markdown",
   "id": "8464cdc8",
   "metadata": {},
   "source": [
    "로지스틱 회귀는 가볍고 바르지만, 이진 분류 예측 성능도 뛰어난다\n",
    "\n",
    "로지스틱 회귀를 이진 분류의 기본 모델로 사용하는 경우가 많다\n",
    "\n",
    "희소한 데이터 세트 분류에도 뛰어난 성능을 보여 텍스트 분류에서도 자주 사용"
   ]
  }
 ],
 "metadata": {
  "kernelspec": {
   "display_name": "Python 3 (ipykernel)",
   "language": "python",
   "name": "python3"
  },
  "language_info": {
   "codemirror_mode": {
    "name": "ipython",
    "version": 3
   },
   "file_extension": ".py",
   "mimetype": "text/x-python",
   "name": "python",
   "nbconvert_exporter": "python",
   "pygments_lexer": "ipython3",
   "version": "3.11.5"
  },
  "toc": {
   "base_numbering": 1,
   "nav_menu": {},
   "number_sections": true,
   "sideBar": true,
   "skip_h1_title": false,
   "title_cell": "Table of Contents",
   "title_sidebar": "Contents",
   "toc_cell": false,
   "toc_position": {
    "height": "calc(100% - 180px)",
    "left": "10px",
    "top": "150px",
    "width": "266.285px"
   },
   "toc_section_display": true,
   "toc_window_display": true
  }
 },
 "nbformat": 4,
 "nbformat_minor": 5
}
