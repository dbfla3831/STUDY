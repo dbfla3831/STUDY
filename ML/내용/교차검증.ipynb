{
 "cells": [
  {
   "cell_type": "markdown",
   "id": "a5e74f88",
   "metadata": {},
   "source": [
    "교차 검증 : 본고사가 테스트 데이터 세트에 대해 평가하는 거라면 모의고사는 교차 검증에서 많은 학습과 검증 세트에서 알고리즘 학습과 평가를 수행하는 것\n",
    "\n",
    "별도의 여러 세트로 구성된 학습 데이터 세트와 검증 데이터 세트에서 학습과 평가를 수행\n"
   ]
  },
  {
   "cell_type": "markdown",
   "id": "e37e771a",
   "metadata": {},
   "source": [
    "# KFold"
   ]
  },
  {
   "cell_type": "markdown",
   "id": "0aff5d3b",
   "metadata": {},
   "source": [
    "<br>\n",
    "k폴드 교차 검증\n",
    "\n",
    "- k개의 데이터 폴드 세트를 만들어 k번만큼 각 폴드 세트에 학습과 검증 평가를 반복적으로 수행\n",
    "\n",
    "- k개의 폴드된 데이터 세트를 학습과 검증을 위한 데이터 세트로 변경하면서 k번 평가를 수행한 뒤 이 k개의 평가를 평균한 결과를 갖고 예측 성능을 평가"
   ]
  },
  {
   "cell_type": "markdown",
   "id": "7da9e67f",
   "metadata": {},
   "source": [
    "<br>\n",
    "KFold클래스를 이용해 붓꽃 데이터 세트를 교차 검증하고 예측 정확도 확인\n",
    "\n",
    "붓꽃 데이터 세트와 DecisionTreeClassifier를 다시 생성 후 5개의 폴드 세트로 분리하는 KFold 객체를 생성"
   ]
  },
  {
   "cell_type": "code",
   "execution_count": 1,
   "id": "1a569e52",
   "metadata": {
    "ExecuteTime": {
     "end_time": "2024-02-22T08:18:40.587666Z",
     "start_time": "2024-02-22T08:18:38.817888Z"
    }
   },
   "outputs": [
    {
     "name": "stdout",
     "output_type": "stream",
     "text": [
      "dict_keys(['data', 'target', 'frame', 'target_names', 'DESCR', 'feature_names', 'filename', 'data_module'])\n",
      "\n",
      "붓꽃 데이터 세트 크기 :  150\n"
     ]
    }
   ],
   "source": [
    "from sklearn.datasets import load_iris\n",
    "from sklearn.tree import DecisionTreeClassifier\n",
    "from sklearn.metrics import accuracy_score\n",
    "from sklearn.model_selection import KFold\n",
    "import numpy as np\n",
    "\n",
    "# 데이터 불러오기\n",
    "iris = load_iris()\n",
    "print(iris.keys())\n",
    "features = iris.data\n",
    "target = iris.target\n",
    "print('\\n붓꽃 데이터 세트 크기 : ', features.shape[0])\n",
    "\n",
    "# 모델 객체 생성\n",
    "dt = DecisionTreeClassifier(random_state = 156)"
   ]
  },
  {
   "cell_type": "code",
   "execution_count": 2,
   "id": "075c37ca",
   "metadata": {
    "ExecuteTime": {
     "end_time": "2024-02-22T08:18:40.591823Z",
     "start_time": "2024-02-22T08:18:40.588665Z"
    }
   },
   "outputs": [],
   "source": [
    "# 5개의 폴드 세트로 분리하는 KFold 객체와 폴드 세트별 정확도를 담을 리스트 객체 생성\n",
    "kfold = KFold(n_splits = 5)\n",
    "cv_accuracy = []"
   ]
  },
  {
   "cell_type": "markdown",
   "id": "a7c5e4ed",
   "metadata": {},
   "source": [
    "생성된 KFold 객체의 split()을 호출해 전체 붓꽃 데이터를 5개의 폴드 데이터 세트로 분리\n",
    "\n",
    "KFold 객체는 split()을 호출하면 학습용/검증용 데이터로 분할할 수 있는 인덱스를 반환\n",
    "\n",
    "다음은 5개의 폴드 세트를 생성하는 KFold객체의 split()을 호출해 교차 검증 수행 시마다 학습과 검증을 반복해 예측 정확도를 측정"
   ]
  },
  {
   "cell_type": "code",
   "execution_count": 3,
   "id": "4ab010f0",
   "metadata": {
    "ExecuteTime": {
     "end_time": "2024-02-22T08:18:40.610523Z",
     "start_time": "2024-02-22T08:18:40.592825Z"
    }
   },
   "outputs": [
    {
     "name": "stdout",
     "output_type": "stream",
     "text": [
      "\n",
      "1교차 검증 정확도 : 1.0, 학습 데이터 크기 : 120, 검증 데이터 크기 : 30\n",
      "\n",
      "2교차 검증 정확도 : 0.9667, 학습 데이터 크기 : 120, 검증 데이터 크기 : 30\n",
      "\n",
      "3교차 검증 정확도 : 0.8667, 학습 데이터 크기 : 120, 검증 데이터 크기 : 30\n",
      "\n",
      "4교차 검증 정확도 : 0.9333, 학습 데이터 크기 : 120, 검증 데이터 크기 : 30\n",
      "\n",
      "5교차 검증 정확도 : 0.7333, 학습 데이터 크기 : 120, 검증 데이터 크기 : 30\n",
      "\n",
      "평균 검증 정확도 : 0.9\n"
     ]
    }
   ],
   "source": [
    "n_iter = 0\n",
    "\n",
    "# KFold 객체의 split()를 호출하면 폴드별 학습용, 검증용 테스트의 로우 인덱슬을 array로 반환\n",
    "# 150개 데이터 중 학습용 데이터는 120개 검증 테스트 데이터는 30개\n",
    "for train_index, test_index in kfold.split(features):\n",
    "    # kfold.split()으로 반환된 인덱스를 이용해 학습용, 검증용 테스트 데이터 추출\n",
    "    X_train, X_test = features[train_index], features[test_index]\n",
    "    y_train, y_test = target[train_index], target[test_index]\n",
    "    \n",
    "    # 학습 및 예측\n",
    "    dt.fit(X_train, y_train)\n",
    "    pred = dt.predict(X_test)\n",
    "    n_iter += 1\n",
    "    \n",
    "    # 반복 시마다 정확도 측정\n",
    "    accuracy = np.round(accuracy_score(y_test, pred), 4)\n",
    "    train_size = X_train.shape[0]\n",
    "    test_size = X_test.shape[0]\n",
    "    print('\\n{}교차 검증 정확도 : {}, 학습 데이터 크기 : {}, 검증 데이터 크기 : {}'.format(n_iter, accuracy, train_size, test_size))\n",
    "    cv_accuracy.append(accuracy)\n",
    "    \n",
    "# 개별 iteration별 정확도를 합하여 평균 정확도 계산\n",
    "print('\\n평균 검증 정확도 : {}'.format(np.mean(cv_accuracy)))"
   ]
  },
  {
   "cell_type": "markdown",
   "id": "8493ae72",
   "metadata": {},
   "source": [
    "# Stratified K 폴드"
   ]
  },
  {
   "cell_type": "markdown",
   "id": "4695022e",
   "metadata": {},
   "source": [
    "불균형한 분포도를 가진 레이블 데이터 집합을 위한 k폴드 방식\n",
    "\n",
    "불균형한 분포도 - 특정 레이블 값이 특이하게 많거나 매우 적어서 값의 분포가 한쪽으로 치우치는 것을 의미한다"
   ]
  },
  {
   "cell_type": "markdown",
   "id": "cbd3d25d",
   "metadata": {},
   "source": [
    "<br>\n",
    "\n",
    "원본 데이터의 레이블 분포를 먼저 고려한 뒤 이 분포와 동일하게 학습과 검증 데이터 세트를 분배"
   ]
  },
  {
   "cell_type": "code",
   "execution_count": 4,
   "id": "5dedb20b",
   "metadata": {
    "ExecuteTime": {
     "end_time": "2024-02-22T08:18:40.983125Z",
     "start_time": "2024-02-22T08:18:40.612520Z"
    }
   },
   "outputs": [
    {
     "data": {
      "text/plain": [
       "label\n",
       "0    50\n",
       "1    50\n",
       "2    50\n",
       "Name: count, dtype: int64"
      ]
     },
     "execution_count": 4,
     "metadata": {},
     "output_type": "execute_result"
    }
   ],
   "source": [
    "from sklearn.datasets import load_iris\n",
    "import pandas as pd\n",
    "\n",
    "iris = load_iris()\n",
    "iris_df = pd.DataFrame(data = iris.data, columns = iris.feature_names)\n",
    "iris_df['label'] = iris.target\n",
    "\n",
    "iris_df['label'].value_counts()"
   ]
  },
  {
   "cell_type": "markdown",
   "id": "6f63f839",
   "metadata": {},
   "source": [
    "3개의 폴드 세트를 KFold로 생성하고, 각 교차 검증 시마다 생성되는 학습/검증 레이블 데이터 값의 분포도 확인"
   ]
  },
  {
   "cell_type": "code",
   "execution_count": 5,
   "id": "52ea91b3",
   "metadata": {
    "ExecuteTime": {
     "end_time": "2024-02-22T08:18:40.994326Z",
     "start_time": "2024-02-22T08:18:40.984126Z"
    }
   },
   "outputs": [
    {
     "data": {
      "text/html": [
       "<div>\n",
       "<style scoped>\n",
       "    .dataframe tbody tr th:only-of-type {\n",
       "        vertical-align: middle;\n",
       "    }\n",
       "\n",
       "    .dataframe tbody tr th {\n",
       "        vertical-align: top;\n",
       "    }\n",
       "\n",
       "    .dataframe thead th {\n",
       "        text-align: right;\n",
       "    }\n",
       "</style>\n",
       "<table border=\"1\" class=\"dataframe\">\n",
       "  <thead>\n",
       "    <tr style=\"text-align: right;\">\n",
       "      <th></th>\n",
       "      <th>sepal length (cm)</th>\n",
       "      <th>sepal width (cm)</th>\n",
       "      <th>petal length (cm)</th>\n",
       "      <th>petal width (cm)</th>\n",
       "      <th>label</th>\n",
       "    </tr>\n",
       "  </thead>\n",
       "  <tbody>\n",
       "    <tr>\n",
       "      <th>0</th>\n",
       "      <td>5.1</td>\n",
       "      <td>3.5</td>\n",
       "      <td>1.4</td>\n",
       "      <td>0.2</td>\n",
       "      <td>0</td>\n",
       "    </tr>\n",
       "    <tr>\n",
       "      <th>1</th>\n",
       "      <td>4.9</td>\n",
       "      <td>3.0</td>\n",
       "      <td>1.4</td>\n",
       "      <td>0.2</td>\n",
       "      <td>0</td>\n",
       "    </tr>\n",
       "  </tbody>\n",
       "</table>\n",
       "</div>"
      ],
      "text/plain": [
       "   sepal length (cm)  sepal width (cm)  petal length (cm)  petal width (cm)  \\\n",
       "0                5.1               3.5                1.4               0.2   \n",
       "1                4.9               3.0                1.4               0.2   \n",
       "\n",
       "   label  \n",
       "0      0  \n",
       "1      0  "
      ]
     },
     "execution_count": 5,
     "metadata": {},
     "output_type": "execute_result"
    }
   ],
   "source": [
    "iris_df.head(2)"
   ]
  },
  {
   "cell_type": "code",
   "execution_count": 6,
   "id": "ec5f5740",
   "metadata": {
    "ExecuteTime": {
     "end_time": "2024-02-22T08:18:41.002311Z",
     "start_time": "2024-02-22T08:18:40.995328Z"
    }
   },
   "outputs": [
    {
     "name": "stdout",
     "output_type": "stream",
     "text": [
      "\n",
      "교차검증 : 1\n",
      "학습 레이블 데이터 분포 : \n",
      " label\n",
      "1    50\n",
      "2    50\n",
      "Name: count, dtype: int64\n",
      "ln\\검증 레이블 데이터 분포 : \n",
      " label\n",
      "0    50\n",
      "Name: count, dtype: int64\n",
      "\n",
      "교차검증 : 2\n",
      "학습 레이블 데이터 분포 : \n",
      " label\n",
      "0    50\n",
      "2    50\n",
      "Name: count, dtype: int64\n",
      "ln\\검증 레이블 데이터 분포 : \n",
      " label\n",
      "1    50\n",
      "Name: count, dtype: int64\n",
      "\n",
      "교차검증 : 3\n",
      "학습 레이블 데이터 분포 : \n",
      " label\n",
      "0    50\n",
      "1    50\n",
      "Name: count, dtype: int64\n",
      "ln\\검증 레이블 데이터 분포 : \n",
      " label\n",
      "2    50\n",
      "Name: count, dtype: int64\n"
     ]
    }
   ],
   "source": [
    "from sklearn.model_selection import KFold\n",
    "\n",
    "kfold = KFold(n_splits = 3)\n",
    "n_iter = 0\n",
    "\n",
    "for train_index, test_index in kfold.split(iris_df):\n",
    "    n_iter += 1\n",
    "    label_train = iris_df['label'].iloc[train_index]\n",
    "    label_test = iris_df['label'].iloc[test_index]\n",
    "    print('\\n교차검증 : {}'.format(n_iter))\n",
    "    print('학습 레이블 데이터 분포 : \\n', label_train.value_counts())\n",
    "    print('ln\\\\검증 레이블 데이터 분포 : \\n', label_test.value_counts())    "
   ]
  },
  {
   "cell_type": "markdown",
   "id": "5ee8e139",
   "metadata": {},
   "source": [
    "=> 교차 검증 시마다 3개의 폴드 세트로 만들어지는 학습 레이블과 검증 레이블이 완전히 다른 값으로 추출"
   ]
  },
  {
   "cell_type": "code",
   "execution_count": 7,
   "id": "3be11d1c",
   "metadata": {
    "ExecuteTime": {
     "end_time": "2024-02-22T08:18:41.011442Z",
     "start_time": "2024-02-22T08:18:41.003313Z"
    }
   },
   "outputs": [
    {
     "name": "stdout",
     "output_type": "stream",
     "text": [
      "\n",
      "교차검증 : 1\n",
      "학습 레이블 데이터 분포 : \n",
      " label\n",
      "2    34\n",
      "0    33\n",
      "1    33\n",
      "Name: count, dtype: int64\n",
      "ln\\검증 레이블 데이터 분포 : \n",
      " label\n",
      "0    17\n",
      "1    17\n",
      "2    16\n",
      "Name: count, dtype: int64\n",
      "\n",
      "교차검증 : 2\n",
      "학습 레이블 데이터 분포 : \n",
      " label\n",
      "1    34\n",
      "0    33\n",
      "2    33\n",
      "Name: count, dtype: int64\n",
      "ln\\검증 레이블 데이터 분포 : \n",
      " label\n",
      "0    17\n",
      "2    17\n",
      "1    16\n",
      "Name: count, dtype: int64\n",
      "\n",
      "교차검증 : 3\n",
      "학습 레이블 데이터 분포 : \n",
      " label\n",
      "0    34\n",
      "1    33\n",
      "2    33\n",
      "Name: count, dtype: int64\n",
      "ln\\검증 레이블 데이터 분포 : \n",
      " label\n",
      "1    17\n",
      "2    17\n",
      "0    16\n",
      "Name: count, dtype: int64\n"
     ]
    }
   ],
   "source": [
    "from sklearn.model_selection import StratifiedKFold\n",
    "\n",
    "skf = StratifiedKFold(n_splits = 3)\n",
    "n_iter = 0\n",
    "\n",
    "for train_index, test_index in skf.split(iris_df, iris_df['label']):\n",
    "    n_iter += 1\n",
    "    label_train = iris_df['label'].iloc[train_index]\n",
    "    label_test = iris_df['label'].iloc[test_index]\n",
    "    print('\\n교차검증 : {}'.format(n_iter))\n",
    "    print('학습 레이블 데이터 분포 : \\n', label_train.value_counts())\n",
    "    print('ln\\\\검증 레이블 데이터 분포 : \\n', label_test.value_counts())   "
   ]
  },
  {
   "cell_type": "markdown",
   "id": "ad870daf",
   "metadata": {},
   "source": [
    "StratifiedFKold를 이용해 붓꽃 데이터를 교차 검증"
   ]
  },
  {
   "cell_type": "code",
   "execution_count": 8,
   "id": "744e8643",
   "metadata": {
    "ExecuteTime": {
     "end_time": "2024-02-22T08:18:41.024371Z",
     "start_time": "2024-02-22T08:18:41.012445Z"
    }
   },
   "outputs": [
    {
     "name": "stdout",
     "output_type": "stream",
     "text": [
      "\n",
      "# 1교차 검증 정확도 : 0.98, 학습 데이터 크기 : 100, 검증 데이터 크기 : 50\n",
      "\n",
      "# 2교차 검증 정확도 : 0.94, 학습 데이터 크기 : 100, 검증 데이터 크기 : 50\n",
      "\n",
      "# 3교차 검증 정확도 : 0.98, 학습 데이터 크기 : 100, 검증 데이터 크기 : 50\n",
      "\n",
      "## 교차 검증별 정확도 :  [0.98 0.94 0.98]\n",
      "## 평균 검증 정확도 :  0.9667\n"
     ]
    }
   ],
   "source": [
    "from sklearn.tree import DecisionTreeClassifier\n",
    "\n",
    "dt = DecisionTreeClassifier(random_state = 156)\n",
    "\n",
    "skf = StratifiedKFold(n_splits = 3)\n",
    "n_iter = 0\n",
    "cv_accuracy = []\n",
    "\n",
    "features = np.array(iris_df.iloc[:, 0:4])\n",
    "target = np.array(iris_df['label'])\n",
    "\n",
    "for train_index, test_index in skf.split(features, target):\n",
    "    # split()으로 반환된 인덱스를 이용해 학습용, 검증용 테스트 데이터 추출\n",
    "    X_train, X_test = features[train_index], features[test_index]\n",
    "    y_train, y_test = target[train_index], target[test_index]\n",
    "    \n",
    "    # 학습 및 예측\n",
    "    dt.fit(X_train, y_train)\n",
    "    pred = dt.predict(X_test)\n",
    "    \n",
    "    # 반복 시마다 정확도 측정\n",
    "    n_iter += 1\n",
    "    accuracy = np.round(accuracy_score(y_test, pred), 4)\n",
    "    train_size = X_train.shape[0]\n",
    "    test_size = X_test.shape[0]\n",
    "    print('\\n# {}교차 검증 정확도 : {}, 학습 데이터 크기 : {}, 검증 데이터 크기 : {}'.format(n_iter, accuracy, train_size, test_size))\n",
    "    cv_accuracy.append(accuracy)\n",
    "    \n",
    "# 교차 검증별 정확도 및 평균 정확도 계산\n",
    "print('\\n## 교차 검증별 정확도 : ', np.round(cv_accuracy, 4))\n",
    "print('## 평균 검증 정확도 : ', np.round(np.mean(cv_accuracy), 4))"
   ]
  },
  {
   "cell_type": "markdown",
   "id": "bf8d5737",
   "metadata": {},
   "source": [
    "=> 일반적으로 분류에서의 교차 검증은 K폴드가 아닌 Stratified K폴드로 분할돼야 한다\n",
    "\n",
    "회귀에서는 Stratified K 폴드가 지원되지 않는다 -> 회귀의 결정값은 이산값 형태의 레이블이 아니라 연속된 숫자값이기 때문이다"
   ]
  },
  {
   "cell_type": "markdown",
   "id": "215fc58a",
   "metadata": {},
   "source": [
    "# 사이킷런"
   ]
  },
  {
   "cell_type": "markdown",
   "id": "06aa2035",
   "metadata": {},
   "source": [
    "교차 검증을 보다 간편하게 - cross_val_score()"
   ]
  },
  {
   "cell_type": "code",
   "execution_count": 11,
   "id": "007485e5",
   "metadata": {
    "ExecuteTime": {
     "end_time": "2024-02-22T08:20:08.215398Z",
     "start_time": "2024-02-22T08:20:08.201673Z"
    }
   },
   "outputs": [
    {
     "name": "stdout",
     "output_type": "stream",
     "text": [
      "교차 검증별 정확도 :  [0.98 0.94 0.98]\n",
      "평균 검증 정확도 :  0.9667\n"
     ]
    }
   ],
   "source": [
    "from sklearn.tree import DecisionTreeClassifier\n",
    "from sklearn.model_selection import cross_val_score, cross_validate\n",
    "from sklearn.datasets import load_iris\n",
    "\n",
    "iris_data = load_iris()\n",
    "dt = DecisionTreeClassifier(random_state = 156)\n",
    "\n",
    "data = iris_data.data\n",
    "label = iris_data.target\n",
    "\n",
    "# 성능 지표는 정확도, 교차 검증 세트는 3개\n",
    "scores = cross_val_score(dt, data, label, scoring = 'accuracy', cv = 3)\n",
    "print('교차 검증별 정확도 : ', np.round(scores, 4))\n",
    "print('평균 검증 정확도 : ', np.round(np.mean(scores), 4))"
   ]
  }
 ],
 "metadata": {
  "kernelspec": {
   "display_name": "Python 3 (ipykernel)",
   "language": "python",
   "name": "python3"
  },
  "language_info": {
   "codemirror_mode": {
    "name": "ipython",
    "version": 3
   },
   "file_extension": ".py",
   "mimetype": "text/x-python",
   "name": "python",
   "nbconvert_exporter": "python",
   "pygments_lexer": "ipython3",
   "version": "3.11.5"
  },
  "toc": {
   "base_numbering": 1,
   "nav_menu": {},
   "number_sections": true,
   "sideBar": true,
   "skip_h1_title": false,
   "title_cell": "Table of Contents",
   "title_sidebar": "Contents",
   "toc_cell": false,
   "toc_position": {
    "height": "calc(100% - 180px)",
    "left": "10px",
    "top": "150px",
    "width": "216.962px"
   },
   "toc_section_display": true,
   "toc_window_display": true
  }
 },
 "nbformat": 4,
 "nbformat_minor": 5
}
