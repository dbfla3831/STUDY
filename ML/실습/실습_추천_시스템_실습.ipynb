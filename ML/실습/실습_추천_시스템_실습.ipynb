{
 "cells": [
  {
   "cell_type": "markdown",
   "id": "1ad14142",
   "metadata": {},
   "source": [
    "# SGD를 이용해 행렬 분해를 수행하는 예제를 파이썬으로 구현"
   ]
  },
  {
   "cell_type": "code",
   "execution_count": 18,
   "id": "0a3f27c1",
   "metadata": {
    "ExecuteTime": {
     "end_time": "2024-02-27T02:20:55.282221Z",
     "start_time": "2024-02-27T02:20:55.276226Z"
    }
   },
   "outputs": [
    {
     "name": "stdout",
     "output_type": "stream",
     "text": [
      "사용자-아이템\n",
      " [[ 4. nan nan  2. nan]\n",
      " [nan  5. nan  3.  1.]\n",
      " [nan nan  3.  4.  4.]\n",
      " [ 5.  2.  1.  2. nan]]\n",
      "\n",
      "num_users = 4, num_items = 5, k = 3\n",
      "\n",
      "사용자-잠재요인\n",
      " [[ 0.54144845 -0.2039188  -0.17605725]\n",
      " [-0.35765621  0.28846921 -0.76717957]\n",
      " [ 0.58160392 -0.25373563  0.10634637]\n",
      " [-0.08312346  0.48736931 -0.68671357]]\n",
      "\n",
      "잠재요인-아이템\n",
      " [[-0.1074724  -0.12801812  0.37792315]\n",
      " [-0.36663042 -0.05747607 -0.29261947]\n",
      " [ 0.01407125  0.19427174 -0.36687306]\n",
      " [ 0.38157457  0.30053024  0.16749811]\n",
      " [ 0.30028532 -0.22790929 -0.04096341]]\n",
      "\n",
      "행렬곱을 위해 Q를 전치함\n",
      " [[-0.1074724  -0.36663042  0.01407125  0.38157457  0.30028532]\n",
      " [-0.12801812 -0.05747607  0.19427174  0.30053024 -0.22790929]\n",
      " [ 0.37792315 -0.29261947 -0.36687306  0.16749811 -0.04096341]]\n"
     ]
    }
   ],
   "source": [
    "import numpy as np\n",
    "\n",
    "# 원본 행렬 R생성, 분해 행렬 P와 Q초기화, 잠재 요인 차원 K는 3으로 설정\n",
    "R = np.array([[4, np.NaN, np.NaN, 2, np.NaN],\n",
    "              [np.NaN, 5, np.NaN, 3, 1],\n",
    "              [np.NaN, np.NaN, 3, 4, 4],\n",
    "              [5, 2, 1, 2, np.NaN]])\n",
    "num_users, num_items = R.shape\n",
    "k = 3\n",
    "\n",
    "print('사용자-아이템\\n', R)\n",
    "print('\\nnum_users = {}, num_items = {}, k = {}'.format(num_users, num_items, k))\n",
    "\n",
    "# P와 Q행렬의 크기를 지정하고 정뷰 분포를 가진 임의의 값으로 입력\n",
    "np.random.seed(1)\n",
    "P = np.random.normal(scale = 1./k, size = (num_users, k))\n",
    "Q = np.random.normal(scale = 1./k, size = (num_items, k))\n",
    "\n",
    "print('\\n사용자-잠재요인\\n', P)\n",
    "print('\\n잠재요인-아이템\\n', Q)\n",
    "print('\\n행렬곱을 위해 Q를 전치함\\n', Q.T)"
   ]
  },
  {
   "cell_type": "code",
   "execution_count": 6,
   "id": "40511e20",
   "metadata": {
    "ExecuteTime": {
     "end_time": "2024-02-27T01:39:54.243750Z",
     "start_time": "2024-02-27T01:39:54.238681Z"
    }
   },
   "outputs": [],
   "source": [
    "from sklearn.metrics import mean_squared_error\n",
    "\n",
    "def get_rmse(R, P, Q, non_zeros):\n",
    "    error = 0\n",
    "    \n",
    "    # 두 개의 분해된 행렬 P와, Q, T의 내적으로 예측 R 행렬 생성\n",
    "    full_pred_matrix = np.dot(P, Q.T)\n",
    "    \n",
    "    # 실제 R행렬에서 널이 아닌 값의 위치 인덱스 추출해 실제 R 행렬과 예측 행렬의 RMSE 추출\n",
    "    x_non_zero_ind = [non_zero[0] for non_zero in non_zeros]\n",
    "    y_non_zero_ind = [non_zero[1] for non_zero in non_zeros]     \n",
    "    R_non_zeros = R[x_non_zero_ind, y_non_zero_ind]\n",
    "    full_pred_matrix_non_zeros = full_pred_matrix[x_non_zero_ind, y_non_zero_ind]\n",
    "    mse = mean_squared_error(R_non_zeros, full_pred_matrix_non_zeros)\n",
    "    rmse = np.sqrt(mse)\n",
    "    \n",
    "    return rmse"
   ]
  },
  {
   "cell_type": "code",
   "execution_count": 11,
   "id": "e1c3f5ae",
   "metadata": {
    "ExecuteTime": {
     "end_time": "2024-02-27T01:54:08.543099Z",
     "start_time": "2024-02-27T01:54:08.088477Z"
    }
   },
   "outputs": [
    {
     "name": "stdout",
     "output_type": "stream",
     "text": [
      "### iteration step :  0 rmse :  1.2586324357232976\n",
      "### iteration step :  50 rmse :  1.2548760897863982\n",
      "### iteration step :  100 rmse :  1.2511823749911724\n",
      "### iteration step :  150 rmse :  1.2475555881812777\n",
      "### iteration step :  200 rmse :  1.2440005872317994\n",
      "### iteration step :  250 rmse :  1.2405224011038414\n",
      "### iteration step :  300 rmse :  1.2371259349564172\n",
      "### iteration step :  350 rmse :  1.2338157547317115\n",
      "### iteration step :  400 rmse :  1.230595937394563\n",
      "### iteration step :  450 rmse :  1.2274699746387123\n",
      "### iteration step :  500 rmse :  1.2244407194758475\n",
      "### iteration step :  550 rmse :  1.2215104259286989\n",
      "### iteration step :  600 rmse :  1.2189201699307273\n",
      "### iteration step :  650 rmse :  6.037097462814543\n",
      "### iteration step :  700 rmse :  1.2183753045216366\n",
      "### iteration step :  750 rmse :  1.2160842876973332\n",
      "### iteration step :  800 rmse :  1.2140317032868786\n",
      "### iteration step :  850 rmse :  1.212152313554194\n",
      "### iteration step :  900 rmse :  1.210420987283429\n",
      "### iteration step :  950 rmse :  1.2088167497268014\n"
     ]
    }
   ],
   "source": [
    "# R > 0인 행 위치, 열 위치, 값을 non_zeros 리스트에 저장\n",
    "non_zeros = [(i, j, R[i, j]) for i in range(num_users) for j in range(num_items) if R[i, j] > 0]\n",
    "\n",
    "steps = 1000\n",
    "learning_rate = 0.01\n",
    "r_lambda = 0.01\n",
    "\n",
    "# SGD 기법으로 P와 q 매트릭스를 계속 업데이터\n",
    "for step in range(steps):\n",
    "    for i, j, r in non_zeros:\n",
    "        # 실제 값과 예측 값의 차이인 오류 값 구함\n",
    "        eij = r - np.dot(P[i, :], Q[j, :].T)\n",
    "        # Regularization을 반영한 SGD 업데이트 공식 적용\n",
    "        P[i, :] = P[i, :] + learning_rate * (eij * Q[j, :] - r_lambda * P[i, :])\n",
    "        Q[j, :] = Q[i, :] + learning_rate * (eij * P[i, :] - r_lambda * Q[j, :])\n",
    "        \n",
    "    rmse = get_rmse(R, P, Q, non_zeros)\n",
    "    if (step % 50) == 0:\n",
    "        print('### iteration step : ', step, 'rmse : ', rmse)"
   ]
  },
  {
   "cell_type": "code",
   "execution_count": 12,
   "id": "c405174b",
   "metadata": {
    "ExecuteTime": {
     "end_time": "2024-02-27T01:54:11.115545Z",
     "start_time": "2024-02-27T01:54:11.112155Z"
    }
   },
   "outputs": [
    {
     "name": "stdout",
     "output_type": "stream",
     "text": [
      "예측 행렬 :\n",
      " [[2.78523689 1.48854503 1.411302   2.01101028 1.95305283]\n",
      " [2.87772222 2.34294956 2.31113444 2.55838252 2.53577798]\n",
      " [4.22621382 3.06141907 2.99207382 3.53070168 3.47991831]\n",
      " [2.66615514 1.41367759 1.33906779 1.91832847 1.86232501]]\n"
     ]
    }
   ],
   "source": [
    "pred_matrix = np.dot(P, Q.T)\n",
    "print('예측 행렬 :\\n', pred_matrix)"
   ]
  },
  {
   "cell_type": "markdown",
   "id": "03f1ec0f",
   "metadata": {},
   "source": [
    "# 콘텐츠 기반 필터링 실습 - TMDB 5000 영화 데이터 세트"
   ]
  },
  {
   "cell_type": "markdown",
   "id": "67e51c46",
   "metadata": {},
   "source": [
    "## 장르 속성을 이용한 영화 콘텐츠 기반 필터링"
   ]
  },
  {
   "cell_type": "markdown",
   "id": "f2b2de37",
   "metadata": {},
   "source": [
    "콘텐츠 기반 필터링은 사용자가 특정 영화를 감상하고 그 영화를 좋아했다면 그 영화와 비슷한 특성/속성, 구성 요소 등을 가진 다른 영화를 추천하는 것이다"
   ]
  },
  {
   "cell_type": "markdown",
   "id": "53790a98",
   "metadata": {},
   "source": [
    "## 데이터 로딩 및 가공"
   ]
  },
  {
   "cell_type": "code",
   "execution_count": 19,
   "id": "b880d03f",
   "metadata": {
    "ExecuteTime": {
     "end_time": "2024-02-27T02:34:59.563865Z",
     "start_time": "2024-02-27T02:34:59.125492Z"
    }
   },
   "outputs": [
    {
     "name": "stdout",
     "output_type": "stream",
     "text": [
      "(4803, 20)\n"
     ]
    },
    {
     "data": {
      "text/html": [
       "<div>\n",
       "<style scoped>\n",
       "    .dataframe tbody tr th:only-of-type {\n",
       "        vertical-align: middle;\n",
       "    }\n",
       "\n",
       "    .dataframe tbody tr th {\n",
       "        vertical-align: top;\n",
       "    }\n",
       "\n",
       "    .dataframe thead th {\n",
       "        text-align: right;\n",
       "    }\n",
       "</style>\n",
       "<table border=\"1\" class=\"dataframe\">\n",
       "  <thead>\n",
       "    <tr style=\"text-align: right;\">\n",
       "      <th></th>\n",
       "      <th>budget</th>\n",
       "      <th>genres</th>\n",
       "      <th>homepage</th>\n",
       "      <th>id</th>\n",
       "      <th>keywords</th>\n",
       "      <th>original_language</th>\n",
       "      <th>original_title</th>\n",
       "      <th>overview</th>\n",
       "      <th>popularity</th>\n",
       "      <th>production_companies</th>\n",
       "      <th>production_countries</th>\n",
       "      <th>release_date</th>\n",
       "      <th>revenue</th>\n",
       "      <th>runtime</th>\n",
       "      <th>spoken_languages</th>\n",
       "      <th>status</th>\n",
       "      <th>tagline</th>\n",
       "      <th>title</th>\n",
       "      <th>vote_average</th>\n",
       "      <th>vote_count</th>\n",
       "    </tr>\n",
       "  </thead>\n",
       "  <tbody>\n",
       "    <tr>\n",
       "      <th>0</th>\n",
       "      <td>237000000</td>\n",
       "      <td>[{\"id\": 28, \"name\": \"Action\"}, {\"id\": 12, \"nam...</td>\n",
       "      <td>http://www.avatarmovie.com/</td>\n",
       "      <td>19995</td>\n",
       "      <td>[{\"id\": 1463, \"name\": \"culture clash\"}, {\"id\":...</td>\n",
       "      <td>en</td>\n",
       "      <td>Avatar</td>\n",
       "      <td>In the 22nd century, a paraplegic Marine is di...</td>\n",
       "      <td>150.437577</td>\n",
       "      <td>[{\"name\": \"Ingenious Film Partners\", \"id\": 289...</td>\n",
       "      <td>[{\"iso_3166_1\": \"US\", \"name\": \"United States o...</td>\n",
       "      <td>2009-12-10</td>\n",
       "      <td>2787965087</td>\n",
       "      <td>162.0</td>\n",
       "      <td>[{\"iso_639_1\": \"en\", \"name\": \"English\"}, {\"iso...</td>\n",
       "      <td>Released</td>\n",
       "      <td>Enter the World of Pandora.</td>\n",
       "      <td>Avatar</td>\n",
       "      <td>7.2</td>\n",
       "      <td>11800</td>\n",
       "    </tr>\n",
       "  </tbody>\n",
       "</table>\n",
       "</div>"
      ],
      "text/plain": [
       "      budget                                             genres  \\\n",
       "0  237000000  [{\"id\": 28, \"name\": \"Action\"}, {\"id\": 12, \"nam...   \n",
       "\n",
       "                      homepage     id  \\\n",
       "0  http://www.avatarmovie.com/  19995   \n",
       "\n",
       "                                            keywords original_language  \\\n",
       "0  [{\"id\": 1463, \"name\": \"culture clash\"}, {\"id\":...                en   \n",
       "\n",
       "  original_title                                           overview  \\\n",
       "0         Avatar  In the 22nd century, a paraplegic Marine is di...   \n",
       "\n",
       "   popularity                               production_companies  \\\n",
       "0  150.437577  [{\"name\": \"Ingenious Film Partners\", \"id\": 289...   \n",
       "\n",
       "                                production_countries release_date     revenue  \\\n",
       "0  [{\"iso_3166_1\": \"US\", \"name\": \"United States o...   2009-12-10  2787965087   \n",
       "\n",
       "   runtime                                   spoken_languages    status  \\\n",
       "0    162.0  [{\"iso_639_1\": \"en\", \"name\": \"English\"}, {\"iso...  Released   \n",
       "\n",
       "                       tagline   title  vote_average  vote_count  \n",
       "0  Enter the World of Pandora.  Avatar           7.2       11800  "
      ]
     },
     "execution_count": 19,
     "metadata": {},
     "output_type": "execute_result"
    }
   ],
   "source": [
    "import pandas as pd\n",
    "import numpy as np\n",
    "import warnings\n",
    "warnings.filterwarnings('ignore')\n",
    "\n",
    "movies = pd.read_csv('./data/tmdb_5000_movie_dataset/tmdb_5000_movies.csv')\n",
    "print(movies.shape)\n",
    "movies.head(1)"
   ]
  },
  {
   "cell_type": "markdown",
   "id": "020989f4",
   "metadata": {},
   "source": [
    "id, title, genres, vote_average, vote_count, popularity, keywords, overview만 가져오기"
   ]
  },
  {
   "cell_type": "code",
   "execution_count": 21,
   "id": "1334f7ab",
   "metadata": {
    "ExecuteTime": {
     "end_time": "2024-02-27T02:37:18.217713Z",
     "start_time": "2024-02-27T02:37:18.208228Z"
    }
   },
   "outputs": [
    {
     "data": {
      "text/html": [
       "<div>\n",
       "<style scoped>\n",
       "    .dataframe tbody tr th:only-of-type {\n",
       "        vertical-align: middle;\n",
       "    }\n",
       "\n",
       "    .dataframe tbody tr th {\n",
       "        vertical-align: top;\n",
       "    }\n",
       "\n",
       "    .dataframe thead th {\n",
       "        text-align: right;\n",
       "    }\n",
       "</style>\n",
       "<table border=\"1\" class=\"dataframe\">\n",
       "  <thead>\n",
       "    <tr style=\"text-align: right;\">\n",
       "      <th></th>\n",
       "      <th>genres</th>\n",
       "      <th>keywords</th>\n",
       "    </tr>\n",
       "  </thead>\n",
       "  <tbody>\n",
       "    <tr>\n",
       "      <th>0</th>\n",
       "      <td>[{\"id\": 28, \"name\": \"Action\"}, {\"id\": 12, \"name\": \"Adventure\"}, {\"id\": 14, \"name\": \"Fantasy\"}, {...</td>\n",
       "      <td>[{\"id\": 1463, \"name\": \"culture clash\"}, {\"id\": 2964, \"name\": \"future\"}, {\"id\": 3386, \"name\": \"sp...</td>\n",
       "    </tr>\n",
       "  </tbody>\n",
       "</table>\n",
       "</div>"
      ],
      "text/plain": [
       "                                                                                                genres  \\\n",
       "0  [{\"id\": 28, \"name\": \"Action\"}, {\"id\": 12, \"name\": \"Adventure\"}, {\"id\": 14, \"name\": \"Fantasy\"}, {...   \n",
       "\n",
       "                                                                                              keywords  \n",
       "0  [{\"id\": 1463, \"name\": \"culture clash\"}, {\"id\": 2964, \"name\": \"future\"}, {\"id\": 3386, \"name\": \"sp...  "
      ]
     },
     "execution_count": 21,
     "metadata": {},
     "output_type": "execute_result"
    }
   ],
   "source": [
    "movies_df = movies[['id', 'title', 'genres', 'vote_average', 'vote_count', 'popularity', \n",
    "                   'keywords', 'overview']]\n",
    "\n",
    "pd.set_option('max_colwidth', 100)\n",
    "movies_df[['genres', 'keywords']][:1]"
   ]
  },
  {
   "cell_type": "markdown",
   "id": "db7970fd",
   "metadata": {},
   "source": [
    "genres컬럼의 문자열을 분해해서 개별 장르를 파이썬 리스트 객체로 추출"
   ]
  },
  {
   "cell_type": "code",
   "execution_count": 22,
   "id": "bcc63883",
   "metadata": {
    "ExecuteTime": {
     "end_time": "2024-02-27T02:38:50.899392Z",
     "start_time": "2024-02-27T02:38:50.106550Z"
    }
   },
   "outputs": [],
   "source": [
    "from ast import literal_eval\n",
    "\n",
    "movies_df['genres'] = movies_df['genres'].apply(literal_eval)\n",
    "movies_df['keywords'] = movies_df['keywords'].apply(literal_eval)"
   ]
  },
  {
   "cell_type": "markdown",
   "id": "11abc842",
   "metadata": {},
   "source": [
    "장르명만 리스트 객체로 추출"
   ]
  },
  {
   "cell_type": "code",
   "execution_count": 24,
   "id": "06c6f809",
   "metadata": {
    "ExecuteTime": {
     "end_time": "2024-02-27T02:40:52.310398Z",
     "start_time": "2024-02-27T02:40:52.283117Z"
    }
   },
   "outputs": [
    {
     "data": {
      "text/html": [
       "<div>\n",
       "<style scoped>\n",
       "    .dataframe tbody tr th:only-of-type {\n",
       "        vertical-align: middle;\n",
       "    }\n",
       "\n",
       "    .dataframe tbody tr th {\n",
       "        vertical-align: top;\n",
       "    }\n",
       "\n",
       "    .dataframe thead th {\n",
       "        text-align: right;\n",
       "    }\n",
       "</style>\n",
       "<table border=\"1\" class=\"dataframe\">\n",
       "  <thead>\n",
       "    <tr style=\"text-align: right;\">\n",
       "      <th></th>\n",
       "      <th>genres</th>\n",
       "      <th>keywords</th>\n",
       "    </tr>\n",
       "  </thead>\n",
       "  <tbody>\n",
       "    <tr>\n",
       "      <th>0</th>\n",
       "      <td>[Action, Adventure, Fantasy, Science Fiction]</td>\n",
       "      <td>[culture clash, future, space war, space colony, society, space travel, futuristic, romance, spa...</td>\n",
       "    </tr>\n",
       "  </tbody>\n",
       "</table>\n",
       "</div>"
      ],
      "text/plain": [
       "                                          genres  \\\n",
       "0  [Action, Adventure, Fantasy, Science Fiction]   \n",
       "\n",
       "                                                                                              keywords  \n",
       "0  [culture clash, future, space war, space colony, society, space travel, futuristic, romance, spa...  "
      ]
     },
     "execution_count": 24,
     "metadata": {},
     "output_type": "execute_result"
    }
   ],
   "source": [
    "movies_df['genres'] = movies_df['genres'].apply(lambda x : [y['name'] for y in x])\n",
    "movies_df['keywords'] = movies_df['keywords'].apply(lambda x : [y['name'] for y in x])\n",
    "movies_df[['genres', 'keywords']][:1]"
   ]
  },
  {
   "cell_type": "markdown",
   "id": "693efd19",
   "metadata": {},
   "source": [
    "## 장르 콘텐츠 유사도 측정"
   ]
  },
  {
   "cell_type": "markdown",
   "id": "40333efc",
   "metadata": {},
   "source": [
    "genres 컬럼을 문자열로 변환한 뒤 사이킷런의 CountVectorizer를 이용해 피처 벡터 형태 행렬로 만들기"
   ]
  },
  {
   "cell_type": "code",
   "execution_count": 28,
   "id": "58858573",
   "metadata": {
    "ExecuteTime": {
     "end_time": "2024-02-27T03:25:33.728728Z",
     "start_time": "2024-02-27T03:25:33.692421Z"
    }
   },
   "outputs": [
    {
     "name": "stdout",
     "output_type": "stream",
     "text": [
      "(4803, 276)\n"
     ]
    }
   ],
   "source": [
    "from sklearn.feature_extraction.text import CountVectorizer\n",
    "\n",
    "# CountVectorizer를 적용하기 위해 공백 문자로 word 단위가 구분되는 문자열로 반환\n",
    "movies_df['genres_literal'] = movies_df['genres'].apply(lambda x : (' '.join(x)))\n",
    "count_vect = CountVectorizer(min_df = 0.0, ngram_range = (1, 2))\n",
    "genre_mat = count_vect.fit_transform(movies_df['genres_literal'])\n",
    "print(genre_mat.shape)"
   ]
  },
  {
   "cell_type": "markdown",
   "id": "7ad912d8",
   "metadata": {},
   "source": [
    "피처 벡터화된 행렬에 cosine_similairities()를 적용한 후 반환된 코사인 유사도 행렬의 크기 및 앞 2개 데이터만 추출"
   ]
  },
  {
   "cell_type": "code",
   "execution_count": 29,
   "id": "51089aa4",
   "metadata": {
    "ExecuteTime": {
     "end_time": "2024-02-27T03:27:19.377465Z",
     "start_time": "2024-02-27T03:27:19.210544Z"
    }
   },
   "outputs": [
    {
     "name": "stdout",
     "output_type": "stream",
     "text": [
      "(4803, 4803)\n",
      "[[1.         0.59628479 0.4472136  ... 0.         0.         0.        ]\n",
      " [0.59628479 1.         0.4        ... 0.         0.         0.        ]]\n"
     ]
    }
   ],
   "source": [
    "from sklearn.metrics.pairwise import cosine_similarity\n",
    "\n",
    "genre_sim = cosine_similarity(genre_mat, genre_mat)\n",
    "print(genre_sim.shape)\n",
    "print(genre_sim[:2])"
   ]
  },
  {
   "cell_type": "code",
   "execution_count": 30,
   "id": "d7a2d737",
   "metadata": {
    "ExecuteTime": {
     "end_time": "2024-02-27T03:28:00.471450Z",
     "start_time": "2024-02-27T03:27:59.995099Z"
    }
   },
   "outputs": [
    {
     "name": "stdout",
     "output_type": "stream",
     "text": [
      "[[   0 3494  813 ... 3038 3037 2401]]\n"
     ]
    }
   ],
   "source": [
    "genre_sim_sorted_ind = genre_sim.argsort()[:, ::-1]\n",
    "print(genre_sim_sorted_ind[:1])"
   ]
  },
  {
   "cell_type": "markdown",
   "id": "530b38d6",
   "metadata": {},
   "source": [
    "## 장르 콘텐츠 필터링을 이용한 영화 추천"
   ]
  },
  {
   "cell_type": "code",
   "execution_count": 31,
   "id": "8c34152f",
   "metadata": {
    "ExecuteTime": {
     "end_time": "2024-02-27T03:44:22.000987Z",
     "start_time": "2024-02-27T03:44:21.996896Z"
    }
   },
   "outputs": [],
   "source": [
    "def find_sim_movie(df, sorted_ind, title_name, top_n = 10):\n",
    "    # 인자로 입력된 movies_df DataFrame에서 'title'컬럼이 입력된 title_name 값이 DataFrame 추출\n",
    "    title_movie = df[df['title'] == title_name]\n",
    "    \n",
    "    # title_name을 가진 DataFrame의 index 객체를 ndarray로 반환하고 \n",
    "    # sorted_ind 인자로 입력된 genre_sim_sorted_ind 객체에서 유사도 순으로 top_n개의 index 추출\n",
    "    title_index = title_movie.index.values\n",
    "    similar_indexes = sorted_ind[title_index, :(top_n)]\n",
    "    \n",
    "    # 추출된 top_n index 출력, top_n index는 2차원 데이터\n",
    "    # dataframe에서 index로 사용하기 위해서는 1차원 array로 변경\n",
    "    print(similar_indexes)\n",
    "    similar_indexes = similar_indexes.reshape(-1)\n",
    "    \n",
    "    return df.iloc[similar_indexes]"
   ]
  },
  {
   "cell_type": "code",
   "execution_count": 32,
   "id": "1604082c",
   "metadata": {
    "ExecuteTime": {
     "end_time": "2024-02-27T03:45:05.990350Z",
     "start_time": "2024-02-27T03:45:05.981076Z"
    }
   },
   "outputs": [
    {
     "name": "stdout",
     "output_type": "stream",
     "text": [
      "[[2731 1243 3636 1946 2640 4065 1847 4217  883 3866]]\n"
     ]
    },
    {
     "data": {
      "text/html": [
       "<div>\n",
       "<style scoped>\n",
       "    .dataframe tbody tr th:only-of-type {\n",
       "        vertical-align: middle;\n",
       "    }\n",
       "\n",
       "    .dataframe tbody tr th {\n",
       "        vertical-align: top;\n",
       "    }\n",
       "\n",
       "    .dataframe thead th {\n",
       "        text-align: right;\n",
       "    }\n",
       "</style>\n",
       "<table border=\"1\" class=\"dataframe\">\n",
       "  <thead>\n",
       "    <tr style=\"text-align: right;\">\n",
       "      <th></th>\n",
       "      <th>title</th>\n",
       "      <th>vote_average</th>\n",
       "    </tr>\n",
       "  </thead>\n",
       "  <tbody>\n",
       "    <tr>\n",
       "      <th>2731</th>\n",
       "      <td>The Godfather: Part II</td>\n",
       "      <td>8.3</td>\n",
       "    </tr>\n",
       "    <tr>\n",
       "      <th>1243</th>\n",
       "      <td>Mean Streets</td>\n",
       "      <td>7.2</td>\n",
       "    </tr>\n",
       "    <tr>\n",
       "      <th>3636</th>\n",
       "      <td>Light Sleeper</td>\n",
       "      <td>5.7</td>\n",
       "    </tr>\n",
       "    <tr>\n",
       "      <th>1946</th>\n",
       "      <td>The Bad Lieutenant: Port of Call - New Orleans</td>\n",
       "      <td>6.0</td>\n",
       "    </tr>\n",
       "    <tr>\n",
       "      <th>2640</th>\n",
       "      <td>Things to Do in Denver When You're Dead</td>\n",
       "      <td>6.7</td>\n",
       "    </tr>\n",
       "    <tr>\n",
       "      <th>4065</th>\n",
       "      <td>Mi America</td>\n",
       "      <td>0.0</td>\n",
       "    </tr>\n",
       "    <tr>\n",
       "      <th>1847</th>\n",
       "      <td>GoodFellas</td>\n",
       "      <td>8.2</td>\n",
       "    </tr>\n",
       "    <tr>\n",
       "      <th>4217</th>\n",
       "      <td>Kids</td>\n",
       "      <td>6.8</td>\n",
       "    </tr>\n",
       "    <tr>\n",
       "      <th>883</th>\n",
       "      <td>Catch Me If You Can</td>\n",
       "      <td>7.7</td>\n",
       "    </tr>\n",
       "    <tr>\n",
       "      <th>3866</th>\n",
       "      <td>City of God</td>\n",
       "      <td>8.1</td>\n",
       "    </tr>\n",
       "  </tbody>\n",
       "</table>\n",
       "</div>"
      ],
      "text/plain": [
       "                                               title  vote_average\n",
       "2731                          The Godfather: Part II           8.3\n",
       "1243                                    Mean Streets           7.2\n",
       "3636                                   Light Sleeper           5.7\n",
       "1946  The Bad Lieutenant: Port of Call - New Orleans           6.0\n",
       "2640         Things to Do in Denver When You're Dead           6.7\n",
       "4065                                      Mi America           0.0\n",
       "1847                                      GoodFellas           8.2\n",
       "4217                                            Kids           6.8\n",
       "883                              Catch Me If You Can           7.7\n",
       "3866                                     City of God           8.1"
      ]
     },
     "execution_count": 32,
     "metadata": {},
     "output_type": "execute_result"
    }
   ],
   "source": [
    "similar_movies = find_sim_movie(movies_df, genre_sim_sorted_ind, 'The Godfather', 10)\n",
    "similar_movies[['title', 'vote_average']]"
   ]
  },
  {
   "cell_type": "code",
   "execution_count": 33,
   "id": "7f942bc4",
   "metadata": {
    "ExecuteTime": {
     "end_time": "2024-02-27T03:46:30.736606Z",
     "start_time": "2024-02-27T03:46:30.726993Z"
    }
   },
   "outputs": [
    {
     "data": {
      "text/html": [
       "<div>\n",
       "<style scoped>\n",
       "    .dataframe tbody tr th:only-of-type {\n",
       "        vertical-align: middle;\n",
       "    }\n",
       "\n",
       "    .dataframe tbody tr th {\n",
       "        vertical-align: top;\n",
       "    }\n",
       "\n",
       "    .dataframe thead th {\n",
       "        text-align: right;\n",
       "    }\n",
       "</style>\n",
       "<table border=\"1\" class=\"dataframe\">\n",
       "  <thead>\n",
       "    <tr style=\"text-align: right;\">\n",
       "      <th></th>\n",
       "      <th>title</th>\n",
       "      <th>vote_average</th>\n",
       "      <th>vote_count</th>\n",
       "    </tr>\n",
       "  </thead>\n",
       "  <tbody>\n",
       "    <tr>\n",
       "      <th>3519</th>\n",
       "      <td>Stiff Upper Lips</td>\n",
       "      <td>10.0</td>\n",
       "      <td>1</td>\n",
       "    </tr>\n",
       "    <tr>\n",
       "      <th>4247</th>\n",
       "      <td>Me You and Five Bucks</td>\n",
       "      <td>10.0</td>\n",
       "      <td>2</td>\n",
       "    </tr>\n",
       "    <tr>\n",
       "      <th>4045</th>\n",
       "      <td>Dancer, Texas Pop. 81</td>\n",
       "      <td>10.0</td>\n",
       "      <td>1</td>\n",
       "    </tr>\n",
       "    <tr>\n",
       "      <th>4662</th>\n",
       "      <td>Little Big Top</td>\n",
       "      <td>10.0</td>\n",
       "      <td>1</td>\n",
       "    </tr>\n",
       "    <tr>\n",
       "      <th>3992</th>\n",
       "      <td>Sardaarji</td>\n",
       "      <td>9.5</td>\n",
       "      <td>2</td>\n",
       "    </tr>\n",
       "    <tr>\n",
       "      <th>2386</th>\n",
       "      <td>One Man's Hero</td>\n",
       "      <td>9.3</td>\n",
       "      <td>2</td>\n",
       "    </tr>\n",
       "    <tr>\n",
       "      <th>2970</th>\n",
       "      <td>There Goes My Baby</td>\n",
       "      <td>8.5</td>\n",
       "      <td>2</td>\n",
       "    </tr>\n",
       "    <tr>\n",
       "      <th>1881</th>\n",
       "      <td>The Shawshank Redemption</td>\n",
       "      <td>8.5</td>\n",
       "      <td>8205</td>\n",
       "    </tr>\n",
       "    <tr>\n",
       "      <th>2796</th>\n",
       "      <td>The Prisoner of Zenda</td>\n",
       "      <td>8.4</td>\n",
       "      <td>11</td>\n",
       "    </tr>\n",
       "    <tr>\n",
       "      <th>3337</th>\n",
       "      <td>The Godfather</td>\n",
       "      <td>8.4</td>\n",
       "      <td>5893</td>\n",
       "    </tr>\n",
       "  </tbody>\n",
       "</table>\n",
       "</div>"
      ],
      "text/plain": [
       "                         title  vote_average  vote_count\n",
       "3519          Stiff Upper Lips          10.0           1\n",
       "4247     Me You and Five Bucks          10.0           2\n",
       "4045     Dancer, Texas Pop. 81          10.0           1\n",
       "4662            Little Big Top          10.0           1\n",
       "3992                 Sardaarji           9.5           2\n",
       "2386            One Man's Hero           9.3           2\n",
       "2970        There Goes My Baby           8.5           2\n",
       "1881  The Shawshank Redemption           8.5        8205\n",
       "2796     The Prisoner of Zenda           8.4          11\n",
       "3337             The Godfather           8.4        5893"
      ]
     },
     "execution_count": 33,
     "metadata": {},
     "output_type": "execute_result"
    }
   ],
   "source": [
    "movies_df[['title', 'vote_average', 'vote_count']].sort_values('vote_average', ascending = False)[:10]"
   ]
  },
  {
   "cell_type": "code",
   "execution_count": 34,
   "id": "292df3b4",
   "metadata": {
    "ExecuteTime": {
     "end_time": "2024-02-27T03:47:36.360849Z",
     "start_time": "2024-02-27T03:47:36.355354Z"
    }
   },
   "outputs": [
    {
     "name": "stdout",
     "output_type": "stream",
     "text": [
      "C :  6.092 m :  370.2\n"
     ]
    }
   ],
   "source": [
    "C = movies_df['vote_average'].mean()\n",
    "m = movies_df['vote_count'].quantile(0.6)\n",
    "print('C : ', round(C, 3), 'm : ', round(m, 3))"
   ]
  },
  {
   "cell_type": "code",
   "execution_count": 36,
   "id": "48c4b7b1",
   "metadata": {
    "ExecuteTime": {
     "end_time": "2024-02-27T04:50:23.112265Z",
     "start_time": "2024-02-27T04:50:23.072689Z"
    }
   },
   "outputs": [],
   "source": [
    "percentile = 0.6\n",
    "m = movies_df['vote_count'].quantile(percentile)\n",
    "C = movies_df['vote_average'].mean()\n",
    "\n",
    "def weighted_vote_average(record):\n",
    "    v = record['vote_count']\n",
    "    R = record['vote_average']\n",
    "    \n",
    "    return ((v / (v + m)) * R) + ((m / (m + v)) * C)\n",
    "\n",
    "movies_df['weighted_vote'] = movies.apply(weighted_vote_average, axis = 1)"
   ]
  },
  {
   "cell_type": "code",
   "execution_count": 37,
   "id": "677547d4",
   "metadata": {
    "ExecuteTime": {
     "end_time": "2024-02-27T04:52:49.534047Z",
     "start_time": "2024-02-27T04:52:49.524523Z"
    }
   },
   "outputs": [
    {
     "data": {
      "text/html": [
       "<div>\n",
       "<style scoped>\n",
       "    .dataframe tbody tr th:only-of-type {\n",
       "        vertical-align: middle;\n",
       "    }\n",
       "\n",
       "    .dataframe tbody tr th {\n",
       "        vertical-align: top;\n",
       "    }\n",
       "\n",
       "    .dataframe thead th {\n",
       "        text-align: right;\n",
       "    }\n",
       "</style>\n",
       "<table border=\"1\" class=\"dataframe\">\n",
       "  <thead>\n",
       "    <tr style=\"text-align: right;\">\n",
       "      <th></th>\n",
       "      <th>title</th>\n",
       "      <th>vote_average</th>\n",
       "      <th>weighted_vote</th>\n",
       "      <th>vote_count</th>\n",
       "    </tr>\n",
       "  </thead>\n",
       "  <tbody>\n",
       "    <tr>\n",
       "      <th>1881</th>\n",
       "      <td>The Shawshank Redemption</td>\n",
       "      <td>8.5</td>\n",
       "      <td>8.396052</td>\n",
       "      <td>8205</td>\n",
       "    </tr>\n",
       "    <tr>\n",
       "      <th>3337</th>\n",
       "      <td>The Godfather</td>\n",
       "      <td>8.4</td>\n",
       "      <td>8.263591</td>\n",
       "      <td>5893</td>\n",
       "    </tr>\n",
       "    <tr>\n",
       "      <th>662</th>\n",
       "      <td>Fight Club</td>\n",
       "      <td>8.3</td>\n",
       "      <td>8.216455</td>\n",
       "      <td>9413</td>\n",
       "    </tr>\n",
       "    <tr>\n",
       "      <th>3232</th>\n",
       "      <td>Pulp Fiction</td>\n",
       "      <td>8.3</td>\n",
       "      <td>8.207102</td>\n",
       "      <td>8428</td>\n",
       "    </tr>\n",
       "    <tr>\n",
       "      <th>65</th>\n",
       "      <td>The Dark Knight</td>\n",
       "      <td>8.2</td>\n",
       "      <td>8.136930</td>\n",
       "      <td>12002</td>\n",
       "    </tr>\n",
       "    <tr>\n",
       "      <th>1818</th>\n",
       "      <td>Schindler's List</td>\n",
       "      <td>8.3</td>\n",
       "      <td>8.126069</td>\n",
       "      <td>4329</td>\n",
       "    </tr>\n",
       "    <tr>\n",
       "      <th>3865</th>\n",
       "      <td>Whiplash</td>\n",
       "      <td>8.3</td>\n",
       "      <td>8.123248</td>\n",
       "      <td>4254</td>\n",
       "    </tr>\n",
       "    <tr>\n",
       "      <th>809</th>\n",
       "      <td>Forrest Gump</td>\n",
       "      <td>8.2</td>\n",
       "      <td>8.105954</td>\n",
       "      <td>7927</td>\n",
       "    </tr>\n",
       "    <tr>\n",
       "      <th>2294</th>\n",
       "      <td>Spirited Away</td>\n",
       "      <td>8.3</td>\n",
       "      <td>8.105867</td>\n",
       "      <td>3840</td>\n",
       "    </tr>\n",
       "    <tr>\n",
       "      <th>2731</th>\n",
       "      <td>The Godfather: Part II</td>\n",
       "      <td>8.3</td>\n",
       "      <td>8.079586</td>\n",
       "      <td>3338</td>\n",
       "    </tr>\n",
       "  </tbody>\n",
       "</table>\n",
       "</div>"
      ],
      "text/plain": [
       "                         title  vote_average  weighted_vote  vote_count\n",
       "1881  The Shawshank Redemption           8.5       8.396052        8205\n",
       "3337             The Godfather           8.4       8.263591        5893\n",
       "662                 Fight Club           8.3       8.216455        9413\n",
       "3232              Pulp Fiction           8.3       8.207102        8428\n",
       "65             The Dark Knight           8.2       8.136930       12002\n",
       "1818          Schindler's List           8.3       8.126069        4329\n",
       "3865                  Whiplash           8.3       8.123248        4254\n",
       "809               Forrest Gump           8.2       8.105954        7927\n",
       "2294             Spirited Away           8.3       8.105867        3840\n",
       "2731    The Godfather: Part II           8.3       8.079586        3338"
      ]
     },
     "execution_count": 37,
     "metadata": {},
     "output_type": "execute_result"
    }
   ],
   "source": [
    "movies_df[['title', 'vote_average', 'weighted_vote', 'vote_count']].sort_values('weighted_vote', ascending = False)[:10]"
   ]
  },
  {
   "cell_type": "code",
   "execution_count": 39,
   "id": "cba7db8f",
   "metadata": {
    "ExecuteTime": {
     "end_time": "2024-02-27T05:05:23.473992Z",
     "start_time": "2024-02-27T05:05:23.462840Z"
    }
   },
   "outputs": [
    {
     "data": {
      "text/html": [
       "<div>\n",
       "<style scoped>\n",
       "    .dataframe tbody tr th:only-of-type {\n",
       "        vertical-align: middle;\n",
       "    }\n",
       "\n",
       "    .dataframe tbody tr th {\n",
       "        vertical-align: top;\n",
       "    }\n",
       "\n",
       "    .dataframe thead th {\n",
       "        text-align: right;\n",
       "    }\n",
       "</style>\n",
       "<table border=\"1\" class=\"dataframe\">\n",
       "  <thead>\n",
       "    <tr style=\"text-align: right;\">\n",
       "      <th></th>\n",
       "      <th>title</th>\n",
       "      <th>vote_average</th>\n",
       "      <th>weighted_vote</th>\n",
       "    </tr>\n",
       "  </thead>\n",
       "  <tbody>\n",
       "    <tr>\n",
       "      <th>2731</th>\n",
       "      <td>The Godfather: Part II</td>\n",
       "      <td>8.3</td>\n",
       "      <td>8.079586</td>\n",
       "    </tr>\n",
       "    <tr>\n",
       "      <th>1847</th>\n",
       "      <td>GoodFellas</td>\n",
       "      <td>8.2</td>\n",
       "      <td>7.976937</td>\n",
       "    </tr>\n",
       "    <tr>\n",
       "      <th>3866</th>\n",
       "      <td>City of God</td>\n",
       "      <td>8.1</td>\n",
       "      <td>7.759693</td>\n",
       "    </tr>\n",
       "    <tr>\n",
       "      <th>1663</th>\n",
       "      <td>Once Upon a Time in America</td>\n",
       "      <td>8.2</td>\n",
       "      <td>7.657811</td>\n",
       "    </tr>\n",
       "    <tr>\n",
       "      <th>883</th>\n",
       "      <td>Catch Me If You Can</td>\n",
       "      <td>7.7</td>\n",
       "      <td>7.557097</td>\n",
       "    </tr>\n",
       "    <tr>\n",
       "      <th>281</th>\n",
       "      <td>American Gangster</td>\n",
       "      <td>7.4</td>\n",
       "      <td>7.141396</td>\n",
       "    </tr>\n",
       "    <tr>\n",
       "      <th>4041</th>\n",
       "      <td>This Is England</td>\n",
       "      <td>7.4</td>\n",
       "      <td>6.739664</td>\n",
       "    </tr>\n",
       "    <tr>\n",
       "      <th>1149</th>\n",
       "      <td>American Hustle</td>\n",
       "      <td>6.8</td>\n",
       "      <td>6.717525</td>\n",
       "    </tr>\n",
       "    <tr>\n",
       "      <th>1243</th>\n",
       "      <td>Mean Streets</td>\n",
       "      <td>7.2</td>\n",
       "      <td>6.626569</td>\n",
       "    </tr>\n",
       "    <tr>\n",
       "      <th>2839</th>\n",
       "      <td>Rounders</td>\n",
       "      <td>6.9</td>\n",
       "      <td>6.530427</td>\n",
       "    </tr>\n",
       "  </tbody>\n",
       "</table>\n",
       "</div>"
      ],
      "text/plain": [
       "                            title  vote_average  weighted_vote\n",
       "2731       The Godfather: Part II           8.3       8.079586\n",
       "1847                   GoodFellas           8.2       7.976937\n",
       "3866                  City of God           8.1       7.759693\n",
       "1663  Once Upon a Time in America           8.2       7.657811\n",
       "883           Catch Me If You Can           7.7       7.557097\n",
       "281             American Gangster           7.4       7.141396\n",
       "4041              This Is England           7.4       6.739664\n",
       "1149              American Hustle           6.8       6.717525\n",
       "1243                 Mean Streets           7.2       6.626569\n",
       "2839                     Rounders           6.9       6.530427"
      ]
     },
     "execution_count": 39,
     "metadata": {},
     "output_type": "execute_result"
    }
   ],
   "source": [
    "def find_sim_movie(df, sorted_ind, title_name, top_n = 10):\n",
    "    title_movie = df[df['title'] == title_name]\n",
    "    title_index = title_movie.index.values\n",
    "    \n",
    "    # top_n의ㅜ 2배에 해당하는 장르 유서성이 높은 인덱스 추출\n",
    "    similar_indexes = sorted_ind[title_index, :(top_n * 2)]\n",
    "    similar_indexes = similar_indexes.reshape(-1)\n",
    "    \n",
    "    # 기준 영화 인덱스는 제외\n",
    "    similar_indexes = similar_indexes[similar_indexes != title_index]\n",
    "    \n",
    "    # top_n의 2배에 해당하는 후보군에서 weighted_vote가 높은 순으로 top_n만큼 추출\n",
    "    return df.iloc[similar_indexes].sort_values('weighted_vote', ascending = False)[:top_n]\n",
    "\n",
    "similar_movies = find_sim_movie(movies_df, genre_sim_sorted_ind, 'The Godfather', 10)\n",
    "similar_movies[['title', 'vote_average', 'weighted_vote']]"
   ]
  },
  {
   "cell_type": "markdown",
   "id": "b26ca25d",
   "metadata": {},
   "source": [
    "# 아이템 기반 최근접 이웃 협업 필터링 학습"
   ]
  },
  {
   "cell_type": "markdown",
   "id": "ceb30899",
   "metadata": {},
   "source": [
    "최근접 이웃 협업 필터링은 사용자 기반과 아이템 기반으로 분류한다\n",
    "\n",
    "이 중 일반적으로 추천 정확도가 더 뛰어난 아이템 기반의 협업 필터링을 구현하자"
   ]
  },
  {
   "cell_type": "markdown",
   "id": "3d0251ac",
   "metadata": {},
   "source": [
    "## 데이터 가공 및 변환"
   ]
  },
  {
   "cell_type": "code",
   "execution_count": 1,
   "id": "4d3e6225",
   "metadata": {
    "ExecuteTime": {
     "end_time": "2024-02-28T00:27:07.121774Z",
     "start_time": "2024-02-28T00:27:06.624647Z"
    }
   },
   "outputs": [
    {
     "name": "stdout",
     "output_type": "stream",
     "text": [
      "(9742, 3)\n",
      "(100836, 4)\n"
     ]
    },
    {
     "data": {
      "text/html": [
       "<div>\n",
       "<style scoped>\n",
       "    .dataframe tbody tr th:only-of-type {\n",
       "        vertical-align: middle;\n",
       "    }\n",
       "\n",
       "    .dataframe tbody tr th {\n",
       "        vertical-align: top;\n",
       "    }\n",
       "\n",
       "    .dataframe thead th {\n",
       "        text-align: right;\n",
       "    }\n",
       "</style>\n",
       "<table border=\"1\" class=\"dataframe\">\n",
       "  <thead>\n",
       "    <tr style=\"text-align: right;\">\n",
       "      <th></th>\n",
       "      <th>movieId</th>\n",
       "      <th>title</th>\n",
       "      <th>genres</th>\n",
       "    </tr>\n",
       "  </thead>\n",
       "  <tbody>\n",
       "    <tr>\n",
       "      <th>0</th>\n",
       "      <td>1</td>\n",
       "      <td>Toy Story (1995)</td>\n",
       "      <td>Adventure|Animation|Children|Comedy|Fantasy</td>\n",
       "    </tr>\n",
       "  </tbody>\n",
       "</table>\n",
       "</div>"
      ],
      "text/plain": [
       "   movieId             title                                       genres\n",
       "0        1  Toy Story (1995)  Adventure|Animation|Children|Comedy|Fantasy"
      ]
     },
     "metadata": {},
     "output_type": "display_data"
    },
    {
     "data": {
      "text/html": [
       "<div>\n",
       "<style scoped>\n",
       "    .dataframe tbody tr th:only-of-type {\n",
       "        vertical-align: middle;\n",
       "    }\n",
       "\n",
       "    .dataframe tbody tr th {\n",
       "        vertical-align: top;\n",
       "    }\n",
       "\n",
       "    .dataframe thead th {\n",
       "        text-align: right;\n",
       "    }\n",
       "</style>\n",
       "<table border=\"1\" class=\"dataframe\">\n",
       "  <thead>\n",
       "    <tr style=\"text-align: right;\">\n",
       "      <th></th>\n",
       "      <th>userId</th>\n",
       "      <th>movieId</th>\n",
       "      <th>rating</th>\n",
       "      <th>timestamp</th>\n",
       "    </tr>\n",
       "  </thead>\n",
       "  <tbody>\n",
       "    <tr>\n",
       "      <th>0</th>\n",
       "      <td>1</td>\n",
       "      <td>1</td>\n",
       "      <td>4.0</td>\n",
       "      <td>964982703</td>\n",
       "    </tr>\n",
       "  </tbody>\n",
       "</table>\n",
       "</div>"
      ],
      "text/plain": [
       "   userId  movieId  rating  timestamp\n",
       "0       1        1     4.0  964982703"
      ]
     },
     "metadata": {},
     "output_type": "display_data"
    }
   ],
   "source": [
    "import pandas as pd\n",
    "import numpy as np\n",
    "\n",
    "movies = pd.read_csv('./data/ml_latest_small/movies.csv')\n",
    "ratings = pd.read_csv('./data/ml_latest_small/ratings.csv')\n",
    "\n",
    "print(movies.shape)\n",
    "print(ratings.shape)\n",
    "\n",
    "display(movies.head(1))\n",
    "display(ratings.head(1))"
   ]
  },
  {
   "cell_type": "markdown",
   "id": "6652d806",
   "metadata": {},
   "source": [
    "ratings.csv의 DataFrame인 ratings를 이용해 아이템 기반의 최근접 이웃 협업 필터링을 구현해 보자"
   ]
  },
  {
   "cell_type": "code",
   "execution_count": 3,
   "id": "27d1e00b",
   "metadata": {
    "ExecuteTime": {
     "end_time": "2024-02-28T00:28:29.389730Z",
     "start_time": "2024-02-28T00:28:29.122412Z"
    }
   },
   "outputs": [
    {
     "data": {
      "text/html": [
       "<div>\n",
       "<style scoped>\n",
       "    .dataframe tbody tr th:only-of-type {\n",
       "        vertical-align: middle;\n",
       "    }\n",
       "\n",
       "    .dataframe tbody tr th {\n",
       "        vertical-align: top;\n",
       "    }\n",
       "\n",
       "    .dataframe thead th {\n",
       "        text-align: right;\n",
       "    }\n",
       "</style>\n",
       "<table border=\"1\" class=\"dataframe\">\n",
       "  <thead>\n",
       "    <tr style=\"text-align: right;\">\n",
       "      <th>movieId</th>\n",
       "      <th>1</th>\n",
       "      <th>2</th>\n",
       "      <th>3</th>\n",
       "      <th>4</th>\n",
       "      <th>5</th>\n",
       "      <th>6</th>\n",
       "      <th>7</th>\n",
       "      <th>8</th>\n",
       "      <th>9</th>\n",
       "      <th>10</th>\n",
       "      <th>...</th>\n",
       "      <th>193565</th>\n",
       "      <th>193567</th>\n",
       "      <th>193571</th>\n",
       "      <th>193573</th>\n",
       "      <th>193579</th>\n",
       "      <th>193581</th>\n",
       "      <th>193583</th>\n",
       "      <th>193585</th>\n",
       "      <th>193587</th>\n",
       "      <th>193609</th>\n",
       "    </tr>\n",
       "    <tr>\n",
       "      <th>userId</th>\n",
       "      <th></th>\n",
       "      <th></th>\n",
       "      <th></th>\n",
       "      <th></th>\n",
       "      <th></th>\n",
       "      <th></th>\n",
       "      <th></th>\n",
       "      <th></th>\n",
       "      <th></th>\n",
       "      <th></th>\n",
       "      <th></th>\n",
       "      <th></th>\n",
       "      <th></th>\n",
       "      <th></th>\n",
       "      <th></th>\n",
       "      <th></th>\n",
       "      <th></th>\n",
       "      <th></th>\n",
       "      <th></th>\n",
       "      <th></th>\n",
       "      <th></th>\n",
       "    </tr>\n",
       "  </thead>\n",
       "  <tbody>\n",
       "    <tr>\n",
       "      <th>1</th>\n",
       "      <td>4.0</td>\n",
       "      <td>NaN</td>\n",
       "      <td>4.0</td>\n",
       "      <td>NaN</td>\n",
       "      <td>NaN</td>\n",
       "      <td>4.0</td>\n",
       "      <td>NaN</td>\n",
       "      <td>NaN</td>\n",
       "      <td>NaN</td>\n",
       "      <td>NaN</td>\n",
       "      <td>...</td>\n",
       "      <td>NaN</td>\n",
       "      <td>NaN</td>\n",
       "      <td>NaN</td>\n",
       "      <td>NaN</td>\n",
       "      <td>NaN</td>\n",
       "      <td>NaN</td>\n",
       "      <td>NaN</td>\n",
       "      <td>NaN</td>\n",
       "      <td>NaN</td>\n",
       "      <td>NaN</td>\n",
       "    </tr>\n",
       "    <tr>\n",
       "      <th>2</th>\n",
       "      <td>NaN</td>\n",
       "      <td>NaN</td>\n",
       "      <td>NaN</td>\n",
       "      <td>NaN</td>\n",
       "      <td>NaN</td>\n",
       "      <td>NaN</td>\n",
       "      <td>NaN</td>\n",
       "      <td>NaN</td>\n",
       "      <td>NaN</td>\n",
       "      <td>NaN</td>\n",
       "      <td>...</td>\n",
       "      <td>NaN</td>\n",
       "      <td>NaN</td>\n",
       "      <td>NaN</td>\n",
       "      <td>NaN</td>\n",
       "      <td>NaN</td>\n",
       "      <td>NaN</td>\n",
       "      <td>NaN</td>\n",
       "      <td>NaN</td>\n",
       "      <td>NaN</td>\n",
       "      <td>NaN</td>\n",
       "    </tr>\n",
       "    <tr>\n",
       "      <th>3</th>\n",
       "      <td>NaN</td>\n",
       "      <td>NaN</td>\n",
       "      <td>NaN</td>\n",
       "      <td>NaN</td>\n",
       "      <td>NaN</td>\n",
       "      <td>NaN</td>\n",
       "      <td>NaN</td>\n",
       "      <td>NaN</td>\n",
       "      <td>NaN</td>\n",
       "      <td>NaN</td>\n",
       "      <td>...</td>\n",
       "      <td>NaN</td>\n",
       "      <td>NaN</td>\n",
       "      <td>NaN</td>\n",
       "      <td>NaN</td>\n",
       "      <td>NaN</td>\n",
       "      <td>NaN</td>\n",
       "      <td>NaN</td>\n",
       "      <td>NaN</td>\n",
       "      <td>NaN</td>\n",
       "      <td>NaN</td>\n",
       "    </tr>\n",
       "  </tbody>\n",
       "</table>\n",
       "<p>3 rows × 9724 columns</p>\n",
       "</div>"
      ],
      "text/plain": [
       "movieId  1       2       3       4       5       6       7       8       \\\n",
       "userId                                                                    \n",
       "1           4.0     NaN     4.0     NaN     NaN     4.0     NaN     NaN   \n",
       "2           NaN     NaN     NaN     NaN     NaN     NaN     NaN     NaN   \n",
       "3           NaN     NaN     NaN     NaN     NaN     NaN     NaN     NaN   \n",
       "\n",
       "movieId  9       10      ...  193565  193567  193571  193573  193579  193581  \\\n",
       "userId                   ...                                                   \n",
       "1           NaN     NaN  ...     NaN     NaN     NaN     NaN     NaN     NaN   \n",
       "2           NaN     NaN  ...     NaN     NaN     NaN     NaN     NaN     NaN   \n",
       "3           NaN     NaN  ...     NaN     NaN     NaN     NaN     NaN     NaN   \n",
       "\n",
       "movieId  193583  193585  193587  193609  \n",
       "userId                                   \n",
       "1           NaN     NaN     NaN     NaN  \n",
       "2           NaN     NaN     NaN     NaN  \n",
       "3           NaN     NaN     NaN     NaN  \n",
       "\n",
       "[3 rows x 9724 columns]"
      ]
     },
     "execution_count": 3,
     "metadata": {},
     "output_type": "execute_result"
    }
   ],
   "source": [
    "ratings = ratings[['userId', 'movieId', 'rating']]\n",
    "ratings_matrix = ratings.pivot_table('rating', columns = 'movieId', index = 'userId')\n",
    "\n",
    "ratings_matrix.head(3)"
   ]
  },
  {
   "cell_type": "markdown",
   "id": "59a9c44d",
   "metadata": {},
   "source": [
    "=> NaN값이 많은 이유는 사용자가 평점을 매기지 않은 영화가 컬럼으로 변환되면서 NaN으로 값이 할당됐기 때문이다"
   ]
  },
  {
   "cell_type": "markdown",
   "id": "61a455a1",
   "metadata": {},
   "source": [
    "<br>\n",
    "\n",
    "가독성을 높이기 위해 컬럼명을 movied가 아닌 영화명 title로 변경 -> ratings와 movies를 조인해 title를 가져온다\n",
    "\n",
    "NaN값은 0으로 변환"
   ]
  },
  {
   "cell_type": "code",
   "execution_count": 7,
   "id": "9ea2953d",
   "metadata": {
    "ExecuteTime": {
     "end_time": "2024-02-28T00:31:23.040299Z",
     "start_time": "2024-02-28T00:31:22.865791Z"
    }
   },
   "outputs": [
    {
     "data": {
      "text/html": [
       "<div>\n",
       "<style scoped>\n",
       "    .dataframe tbody tr th:only-of-type {\n",
       "        vertical-align: middle;\n",
       "    }\n",
       "\n",
       "    .dataframe tbody tr th {\n",
       "        vertical-align: top;\n",
       "    }\n",
       "\n",
       "    .dataframe thead th {\n",
       "        text-align: right;\n",
       "    }\n",
       "</style>\n",
       "<table border=\"1\" class=\"dataframe\">\n",
       "  <thead>\n",
       "    <tr style=\"text-align: right;\">\n",
       "      <th>title</th>\n",
       "      <th>'71 (2014)</th>\n",
       "      <th>'Hellboy': The Seeds of Creation (2004)</th>\n",
       "      <th>'Round Midnight (1986)</th>\n",
       "      <th>'Salem's Lot (2004)</th>\n",
       "      <th>'Til There Was You (1997)</th>\n",
       "      <th>'Tis the Season for Love (2015)</th>\n",
       "      <th>'burbs, The (1989)</th>\n",
       "      <th>'night Mother (1986)</th>\n",
       "      <th>(500) Days of Summer (2009)</th>\n",
       "      <th>*batteries not included (1987)</th>\n",
       "      <th>...</th>\n",
       "      <th>Zulu (2013)</th>\n",
       "      <th>[REC] (2007)</th>\n",
       "      <th>[REC]² (2009)</th>\n",
       "      <th>[REC]³ 3 Génesis (2012)</th>\n",
       "      <th>anohana: The Flower We Saw That Day - The Movie (2013)</th>\n",
       "      <th>eXistenZ (1999)</th>\n",
       "      <th>xXx (2002)</th>\n",
       "      <th>xXx: State of the Union (2005)</th>\n",
       "      <th>¡Three Amigos! (1986)</th>\n",
       "      <th>À nous la liberté (Freedom for Us) (1931)</th>\n",
       "    </tr>\n",
       "    <tr>\n",
       "      <th>userId</th>\n",
       "      <th></th>\n",
       "      <th></th>\n",
       "      <th></th>\n",
       "      <th></th>\n",
       "      <th></th>\n",
       "      <th></th>\n",
       "      <th></th>\n",
       "      <th></th>\n",
       "      <th></th>\n",
       "      <th></th>\n",
       "      <th></th>\n",
       "      <th></th>\n",
       "      <th></th>\n",
       "      <th></th>\n",
       "      <th></th>\n",
       "      <th></th>\n",
       "      <th></th>\n",
       "      <th></th>\n",
       "      <th></th>\n",
       "      <th></th>\n",
       "      <th></th>\n",
       "    </tr>\n",
       "  </thead>\n",
       "  <tbody>\n",
       "    <tr>\n",
       "      <th>1</th>\n",
       "      <td>0.0</td>\n",
       "      <td>0.0</td>\n",
       "      <td>0.0</td>\n",
       "      <td>0.0</td>\n",
       "      <td>0.0</td>\n",
       "      <td>0.0</td>\n",
       "      <td>0.0</td>\n",
       "      <td>0.0</td>\n",
       "      <td>0.0</td>\n",
       "      <td>0.0</td>\n",
       "      <td>...</td>\n",
       "      <td>0.0</td>\n",
       "      <td>0.0</td>\n",
       "      <td>0.0</td>\n",
       "      <td>0.0</td>\n",
       "      <td>0.0</td>\n",
       "      <td>0.0</td>\n",
       "      <td>0.0</td>\n",
       "      <td>0.0</td>\n",
       "      <td>4.0</td>\n",
       "      <td>0.0</td>\n",
       "    </tr>\n",
       "    <tr>\n",
       "      <th>2</th>\n",
       "      <td>0.0</td>\n",
       "      <td>0.0</td>\n",
       "      <td>0.0</td>\n",
       "      <td>0.0</td>\n",
       "      <td>0.0</td>\n",
       "      <td>0.0</td>\n",
       "      <td>0.0</td>\n",
       "      <td>0.0</td>\n",
       "      <td>0.0</td>\n",
       "      <td>0.0</td>\n",
       "      <td>...</td>\n",
       "      <td>0.0</td>\n",
       "      <td>0.0</td>\n",
       "      <td>0.0</td>\n",
       "      <td>0.0</td>\n",
       "      <td>0.0</td>\n",
       "      <td>0.0</td>\n",
       "      <td>0.0</td>\n",
       "      <td>0.0</td>\n",
       "      <td>0.0</td>\n",
       "      <td>0.0</td>\n",
       "    </tr>\n",
       "    <tr>\n",
       "      <th>3</th>\n",
       "      <td>0.0</td>\n",
       "      <td>0.0</td>\n",
       "      <td>0.0</td>\n",
       "      <td>0.0</td>\n",
       "      <td>0.0</td>\n",
       "      <td>0.0</td>\n",
       "      <td>0.0</td>\n",
       "      <td>0.0</td>\n",
       "      <td>0.0</td>\n",
       "      <td>0.0</td>\n",
       "      <td>...</td>\n",
       "      <td>0.0</td>\n",
       "      <td>0.0</td>\n",
       "      <td>0.0</td>\n",
       "      <td>0.0</td>\n",
       "      <td>0.0</td>\n",
       "      <td>0.0</td>\n",
       "      <td>0.0</td>\n",
       "      <td>0.0</td>\n",
       "      <td>0.0</td>\n",
       "      <td>0.0</td>\n",
       "    </tr>\n",
       "  </tbody>\n",
       "</table>\n",
       "<p>3 rows × 9719 columns</p>\n",
       "</div>"
      ],
      "text/plain": [
       "title   '71 (2014)  'Hellboy': The Seeds of Creation (2004)  \\\n",
       "userId                                                        \n",
       "1              0.0                                      0.0   \n",
       "2              0.0                                      0.0   \n",
       "3              0.0                                      0.0   \n",
       "\n",
       "title   'Round Midnight (1986)  'Salem's Lot (2004)  \\\n",
       "userId                                                \n",
       "1                          0.0                  0.0   \n",
       "2                          0.0                  0.0   \n",
       "3                          0.0                  0.0   \n",
       "\n",
       "title   'Til There Was You (1997)  'Tis the Season for Love (2015)  \\\n",
       "userId                                                               \n",
       "1                             0.0                              0.0   \n",
       "2                             0.0                              0.0   \n",
       "3                             0.0                              0.0   \n",
       "\n",
       "title   'burbs, The (1989)  'night Mother (1986)  (500) Days of Summer (2009)  \\\n",
       "userId                                                                          \n",
       "1                      0.0                   0.0                          0.0   \n",
       "2                      0.0                   0.0                          0.0   \n",
       "3                      0.0                   0.0                          0.0   \n",
       "\n",
       "title   *batteries not included (1987)  ...  Zulu (2013)  [REC] (2007)  \\\n",
       "userId                                  ...                              \n",
       "1                                  0.0  ...          0.0           0.0   \n",
       "2                                  0.0  ...          0.0           0.0   \n",
       "3                                  0.0  ...          0.0           0.0   \n",
       "\n",
       "title   [REC]² (2009)  [REC]³ 3 Génesis (2012)  \\\n",
       "userId                                           \n",
       "1                 0.0                      0.0   \n",
       "2                 0.0                      0.0   \n",
       "3                 0.0                      0.0   \n",
       "\n",
       "title   anohana: The Flower We Saw That Day - The Movie (2013)  \\\n",
       "userId                                                           \n",
       "1                                                     0.0        \n",
       "2                                                     0.0        \n",
       "3                                                     0.0        \n",
       "\n",
       "title   eXistenZ (1999)  xXx (2002)  xXx: State of the Union (2005)  \\\n",
       "userId                                                                \n",
       "1                   0.0         0.0                             0.0   \n",
       "2                   0.0         0.0                             0.0   \n",
       "3                   0.0         0.0                             0.0   \n",
       "\n",
       "title   ¡Three Amigos! (1986)  À nous la liberté (Freedom for Us) (1931)  \n",
       "userId                                                                    \n",
       "1                         4.0                                        0.0  \n",
       "2                         0.0                                        0.0  \n",
       "3                         0.0                                        0.0  \n",
       "\n",
       "[3 rows x 9719 columns]"
      ]
     },
     "execution_count": 7,
     "metadata": {},
     "output_type": "execute_result"
    }
   ],
   "source": [
    "# title 컬럼을 얻기 위해 movies와 조인\n",
    "rating_movies = pd.merge(movies, ratings, on = 'movieId')\n",
    "\n",
    "# columns = 'title'로 title 컬럼으로 피벗 수행\n",
    "ratings_matrix = rating_movies.pivot_table('rating', index = 'userId', columns = 'title')\n",
    "\n",
    "\n",
    "# NaN값을 모두 0으로 변환\n",
    "ratings_matrix = ratings_matrix.fillna(0)\n",
    "\n",
    "ratings_matrix.head(3)"
   ]
  },
  {
   "cell_type": "markdown",
   "id": "299d1246",
   "metadata": {},
   "source": [
    "## 영화 간 유사도 산출"
   ]
  },
  {
   "cell_type": "markdown",
   "id": "1ad917a8",
   "metadata": {},
   "source": [
    "변환된 사용자-영화 평점 행렬 데이터(ratings_matrix)세트를 이용해 영화 간의 유사도를 측정\n",
    "\n",
    "영화 간의 유사도는 코사인 유사도를 기반으로 하고 사이킷런의 cosine_similarity()을 이용해 측정\n",
    "\n",
    "cosine_similarity()함수는 행을 기준으로 서로 다른 행을 비교해 유사도를 산출한다 -> 지금은 영화간 유사도가 아닌 사용자 간의 유사도를 알 수 있는 DataFrame 형태이다\n",
    "\n",
    "=> DataFrame의 행과 열의 위치를 변경하자"
   ]
  },
  {
   "cell_type": "code",
   "execution_count": 10,
   "id": "7e2bde26",
   "metadata": {
    "ExecuteTime": {
     "end_time": "2024-02-28T00:44:26.768525Z",
     "start_time": "2024-02-28T00:44:26.750028Z"
    }
   },
   "outputs": [
    {
     "data": {
      "text/html": [
       "<div>\n",
       "<style scoped>\n",
       "    .dataframe tbody tr th:only-of-type {\n",
       "        vertical-align: middle;\n",
       "    }\n",
       "\n",
       "    .dataframe tbody tr th {\n",
       "        vertical-align: top;\n",
       "    }\n",
       "\n",
       "    .dataframe thead th {\n",
       "        text-align: right;\n",
       "    }\n",
       "</style>\n",
       "<table border=\"1\" class=\"dataframe\">\n",
       "  <thead>\n",
       "    <tr style=\"text-align: right;\">\n",
       "      <th>userId</th>\n",
       "      <th>1</th>\n",
       "      <th>2</th>\n",
       "      <th>3</th>\n",
       "      <th>4</th>\n",
       "      <th>5</th>\n",
       "      <th>6</th>\n",
       "      <th>7</th>\n",
       "      <th>8</th>\n",
       "      <th>9</th>\n",
       "      <th>10</th>\n",
       "      <th>...</th>\n",
       "      <th>601</th>\n",
       "      <th>602</th>\n",
       "      <th>603</th>\n",
       "      <th>604</th>\n",
       "      <th>605</th>\n",
       "      <th>606</th>\n",
       "      <th>607</th>\n",
       "      <th>608</th>\n",
       "      <th>609</th>\n",
       "      <th>610</th>\n",
       "    </tr>\n",
       "    <tr>\n",
       "      <th>title</th>\n",
       "      <th></th>\n",
       "      <th></th>\n",
       "      <th></th>\n",
       "      <th></th>\n",
       "      <th></th>\n",
       "      <th></th>\n",
       "      <th></th>\n",
       "      <th></th>\n",
       "      <th></th>\n",
       "      <th></th>\n",
       "      <th></th>\n",
       "      <th></th>\n",
       "      <th></th>\n",
       "      <th></th>\n",
       "      <th></th>\n",
       "      <th></th>\n",
       "      <th></th>\n",
       "      <th></th>\n",
       "      <th></th>\n",
       "      <th></th>\n",
       "      <th></th>\n",
       "    </tr>\n",
       "  </thead>\n",
       "  <tbody>\n",
       "    <tr>\n",
       "      <th>'71 (2014)</th>\n",
       "      <td>0.0</td>\n",
       "      <td>0.0</td>\n",
       "      <td>0.0</td>\n",
       "      <td>0.0</td>\n",
       "      <td>0.0</td>\n",
       "      <td>0.0</td>\n",
       "      <td>0.0</td>\n",
       "      <td>0.0</td>\n",
       "      <td>0.0</td>\n",
       "      <td>0.0</td>\n",
       "      <td>...</td>\n",
       "      <td>0.0</td>\n",
       "      <td>0.0</td>\n",
       "      <td>0.0</td>\n",
       "      <td>0.0</td>\n",
       "      <td>0.0</td>\n",
       "      <td>0.0</td>\n",
       "      <td>0.0</td>\n",
       "      <td>0.0</td>\n",
       "      <td>0.0</td>\n",
       "      <td>4.0</td>\n",
       "    </tr>\n",
       "    <tr>\n",
       "      <th>'Hellboy': The Seeds of Creation (2004)</th>\n",
       "      <td>0.0</td>\n",
       "      <td>0.0</td>\n",
       "      <td>0.0</td>\n",
       "      <td>0.0</td>\n",
       "      <td>0.0</td>\n",
       "      <td>0.0</td>\n",
       "      <td>0.0</td>\n",
       "      <td>0.0</td>\n",
       "      <td>0.0</td>\n",
       "      <td>0.0</td>\n",
       "      <td>...</td>\n",
       "      <td>0.0</td>\n",
       "      <td>0.0</td>\n",
       "      <td>0.0</td>\n",
       "      <td>0.0</td>\n",
       "      <td>0.0</td>\n",
       "      <td>0.0</td>\n",
       "      <td>0.0</td>\n",
       "      <td>0.0</td>\n",
       "      <td>0.0</td>\n",
       "      <td>0.0</td>\n",
       "    </tr>\n",
       "    <tr>\n",
       "      <th>'Round Midnight (1986)</th>\n",
       "      <td>0.0</td>\n",
       "      <td>0.0</td>\n",
       "      <td>0.0</td>\n",
       "      <td>0.0</td>\n",
       "      <td>0.0</td>\n",
       "      <td>0.0</td>\n",
       "      <td>0.0</td>\n",
       "      <td>0.0</td>\n",
       "      <td>0.0</td>\n",
       "      <td>0.0</td>\n",
       "      <td>...</td>\n",
       "      <td>0.0</td>\n",
       "      <td>0.0</td>\n",
       "      <td>0.0</td>\n",
       "      <td>0.0</td>\n",
       "      <td>0.0</td>\n",
       "      <td>0.0</td>\n",
       "      <td>0.0</td>\n",
       "      <td>0.0</td>\n",
       "      <td>0.0</td>\n",
       "      <td>0.0</td>\n",
       "    </tr>\n",
       "  </tbody>\n",
       "</table>\n",
       "<p>3 rows × 610 columns</p>\n",
       "</div>"
      ],
      "text/plain": [
       "userId                                   1    2    3    4    5    6    7    \\\n",
       "title                                                                        \n",
       "'71 (2014)                               0.0  0.0  0.0  0.0  0.0  0.0  0.0   \n",
       "'Hellboy': The Seeds of Creation (2004)  0.0  0.0  0.0  0.0  0.0  0.0  0.0   \n",
       "'Round Midnight (1986)                   0.0  0.0  0.0  0.0  0.0  0.0  0.0   \n",
       "\n",
       "userId                                   8    9    10   ...  601  602  603  \\\n",
       "title                                                   ...                  \n",
       "'71 (2014)                               0.0  0.0  0.0  ...  0.0  0.0  0.0   \n",
       "'Hellboy': The Seeds of Creation (2004)  0.0  0.0  0.0  ...  0.0  0.0  0.0   \n",
       "'Round Midnight (1986)                   0.0  0.0  0.0  ...  0.0  0.0  0.0   \n",
       "\n",
       "userId                                   604  605  606  607  608  609  610  \n",
       "title                                                                       \n",
       "'71 (2014)                               0.0  0.0  0.0  0.0  0.0  0.0  4.0  \n",
       "'Hellboy': The Seeds of Creation (2004)  0.0  0.0  0.0  0.0  0.0  0.0  0.0  \n",
       "'Round Midnight (1986)                   0.0  0.0  0.0  0.0  0.0  0.0  0.0  \n",
       "\n",
       "[3 rows x 610 columns]"
      ]
     },
     "execution_count": 10,
     "metadata": {},
     "output_type": "execute_result"
    }
   ],
   "source": [
    "ratings_matrix_T = ratings_matrix.transpose()\n",
    "\n",
    "ratings_matrix_T.head(3)"
   ]
  },
  {
   "cell_type": "markdown",
   "id": "5534d2cc",
   "metadata": {},
   "source": [
    "ratings_matrix를 전치 행렬 형식으로 변경한 데이터 세트를 기반으로 영화의 코사인 유사도를 구하자\n",
    "\n",
    "더 직관적인 영화의 유사도 값을 표현하기 위해 cosine_similarity()로 반환된 넘파이 행렬에 영화명을 매핑해 DataFrame로 변환"
   ]
  },
  {
   "cell_type": "code",
   "execution_count": 11,
   "id": "7a90fa70",
   "metadata": {
    "ExecuteTime": {
     "end_time": "2024-02-28T00:46:50.319480Z",
     "start_time": "2024-02-28T00:46:49.672924Z"
    }
   },
   "outputs": [
    {
     "name": "stdout",
     "output_type": "stream",
     "text": [
      "(9719, 9719)\n"
     ]
    },
    {
     "data": {
      "text/html": [
       "<div>\n",
       "<style scoped>\n",
       "    .dataframe tbody tr th:only-of-type {\n",
       "        vertical-align: middle;\n",
       "    }\n",
       "\n",
       "    .dataframe tbody tr th {\n",
       "        vertical-align: top;\n",
       "    }\n",
       "\n",
       "    .dataframe thead th {\n",
       "        text-align: right;\n",
       "    }\n",
       "</style>\n",
       "<table border=\"1\" class=\"dataframe\">\n",
       "  <thead>\n",
       "    <tr style=\"text-align: right;\">\n",
       "      <th>title</th>\n",
       "      <th>'71 (2014)</th>\n",
       "      <th>'Hellboy': The Seeds of Creation (2004)</th>\n",
       "      <th>'Round Midnight (1986)</th>\n",
       "      <th>'Salem's Lot (2004)</th>\n",
       "      <th>'Til There Was You (1997)</th>\n",
       "      <th>'Tis the Season for Love (2015)</th>\n",
       "      <th>'burbs, The (1989)</th>\n",
       "      <th>'night Mother (1986)</th>\n",
       "      <th>(500) Days of Summer (2009)</th>\n",
       "      <th>*batteries not included (1987)</th>\n",
       "      <th>...</th>\n",
       "      <th>Zulu (2013)</th>\n",
       "      <th>[REC] (2007)</th>\n",
       "      <th>[REC]² (2009)</th>\n",
       "      <th>[REC]³ 3 Génesis (2012)</th>\n",
       "      <th>anohana: The Flower We Saw That Day - The Movie (2013)</th>\n",
       "      <th>eXistenZ (1999)</th>\n",
       "      <th>xXx (2002)</th>\n",
       "      <th>xXx: State of the Union (2005)</th>\n",
       "      <th>¡Three Amigos! (1986)</th>\n",
       "      <th>À nous la liberté (Freedom for Us) (1931)</th>\n",
       "    </tr>\n",
       "    <tr>\n",
       "      <th>title</th>\n",
       "      <th></th>\n",
       "      <th></th>\n",
       "      <th></th>\n",
       "      <th></th>\n",
       "      <th></th>\n",
       "      <th></th>\n",
       "      <th></th>\n",
       "      <th></th>\n",
       "      <th></th>\n",
       "      <th></th>\n",
       "      <th></th>\n",
       "      <th></th>\n",
       "      <th></th>\n",
       "      <th></th>\n",
       "      <th></th>\n",
       "      <th></th>\n",
       "      <th></th>\n",
       "      <th></th>\n",
       "      <th></th>\n",
       "      <th></th>\n",
       "      <th></th>\n",
       "    </tr>\n",
       "  </thead>\n",
       "  <tbody>\n",
       "    <tr>\n",
       "      <th>'71 (2014)</th>\n",
       "      <td>1.0</td>\n",
       "      <td>0.0</td>\n",
       "      <td>0.000000</td>\n",
       "      <td>0.0</td>\n",
       "      <td>0.0</td>\n",
       "      <td>0.0</td>\n",
       "      <td>0.0</td>\n",
       "      <td>0.0</td>\n",
       "      <td>0.141653</td>\n",
       "      <td>0.0</td>\n",
       "      <td>...</td>\n",
       "      <td>0.0</td>\n",
       "      <td>0.342055</td>\n",
       "      <td>0.543305</td>\n",
       "      <td>0.707107</td>\n",
       "      <td>0.0</td>\n",
       "      <td>0.0</td>\n",
       "      <td>0.139431</td>\n",
       "      <td>0.327327</td>\n",
       "      <td>0.0</td>\n",
       "      <td>0.0</td>\n",
       "    </tr>\n",
       "    <tr>\n",
       "      <th>'Hellboy': The Seeds of Creation (2004)</th>\n",
       "      <td>0.0</td>\n",
       "      <td>1.0</td>\n",
       "      <td>0.707107</td>\n",
       "      <td>0.0</td>\n",
       "      <td>0.0</td>\n",
       "      <td>0.0</td>\n",
       "      <td>0.0</td>\n",
       "      <td>0.0</td>\n",
       "      <td>0.000000</td>\n",
       "      <td>0.0</td>\n",
       "      <td>...</td>\n",
       "      <td>0.0</td>\n",
       "      <td>0.000000</td>\n",
       "      <td>0.000000</td>\n",
       "      <td>0.000000</td>\n",
       "      <td>0.0</td>\n",
       "      <td>0.0</td>\n",
       "      <td>0.000000</td>\n",
       "      <td>0.000000</td>\n",
       "      <td>0.0</td>\n",
       "      <td>0.0</td>\n",
       "    </tr>\n",
       "  </tbody>\n",
       "</table>\n",
       "<p>2 rows × 9719 columns</p>\n",
       "</div>"
      ],
      "text/plain": [
       "title                                    '71 (2014)  \\\n",
       "title                                                 \n",
       "'71 (2014)                                      1.0   \n",
       "'Hellboy': The Seeds of Creation (2004)         0.0   \n",
       "\n",
       "title                                    'Hellboy': The Seeds of Creation (2004)  \\\n",
       "title                                                                              \n",
       "'71 (2014)                                                                   0.0   \n",
       "'Hellboy': The Seeds of Creation (2004)                                      1.0   \n",
       "\n",
       "title                                    'Round Midnight (1986)  \\\n",
       "title                                                             \n",
       "'71 (2014)                                             0.000000   \n",
       "'Hellboy': The Seeds of Creation (2004)                0.707107   \n",
       "\n",
       "title                                    'Salem's Lot (2004)  \\\n",
       "title                                                          \n",
       "'71 (2014)                                               0.0   \n",
       "'Hellboy': The Seeds of Creation (2004)                  0.0   \n",
       "\n",
       "title                                    'Til There Was You (1997)  \\\n",
       "title                                                                \n",
       "'71 (2014)                                                     0.0   \n",
       "'Hellboy': The Seeds of Creation (2004)                        0.0   \n",
       "\n",
       "title                                    'Tis the Season for Love (2015)  \\\n",
       "title                                                                      \n",
       "'71 (2014)                                                           0.0   \n",
       "'Hellboy': The Seeds of Creation (2004)                              0.0   \n",
       "\n",
       "title                                    'burbs, The (1989)  \\\n",
       "title                                                         \n",
       "'71 (2014)                                              0.0   \n",
       "'Hellboy': The Seeds of Creation (2004)                 0.0   \n",
       "\n",
       "title                                    'night Mother (1986)  \\\n",
       "title                                                           \n",
       "'71 (2014)                                                0.0   \n",
       "'Hellboy': The Seeds of Creation (2004)                   0.0   \n",
       "\n",
       "title                                    (500) Days of Summer (2009)  \\\n",
       "title                                                                  \n",
       "'71 (2014)                                                  0.141653   \n",
       "'Hellboy': The Seeds of Creation (2004)                     0.000000   \n",
       "\n",
       "title                                    *batteries not included (1987)  ...  \\\n",
       "title                                                                    ...   \n",
       "'71 (2014)                                                          0.0  ...   \n",
       "'Hellboy': The Seeds of Creation (2004)                             0.0  ...   \n",
       "\n",
       "title                                    Zulu (2013)  [REC] (2007)  \\\n",
       "title                                                                \n",
       "'71 (2014)                                       0.0      0.342055   \n",
       "'Hellboy': The Seeds of Creation (2004)          0.0      0.000000   \n",
       "\n",
       "title                                    [REC]² (2009)  \\\n",
       "title                                                    \n",
       "'71 (2014)                                    0.543305   \n",
       "'Hellboy': The Seeds of Creation (2004)       0.000000   \n",
       "\n",
       "title                                    [REC]³ 3 Génesis (2012)  \\\n",
       "title                                                              \n",
       "'71 (2014)                                              0.707107   \n",
       "'Hellboy': The Seeds of Creation (2004)                 0.000000   \n",
       "\n",
       "title                                    anohana: The Flower We Saw That Day - The Movie (2013)  \\\n",
       "title                                                                                             \n",
       "'71 (2014)                                                                             0.0        \n",
       "'Hellboy': The Seeds of Creation (2004)                                                0.0        \n",
       "\n",
       "title                                    eXistenZ (1999)  xXx (2002)  \\\n",
       "title                                                                  \n",
       "'71 (2014)                                           0.0    0.139431   \n",
       "'Hellboy': The Seeds of Creation (2004)              0.0    0.000000   \n",
       "\n",
       "title                                    xXx: State of the Union (2005)  \\\n",
       "title                                                                     \n",
       "'71 (2014)                                                     0.327327   \n",
       "'Hellboy': The Seeds of Creation (2004)                        0.000000   \n",
       "\n",
       "title                                    ¡Three Amigos! (1986)  \\\n",
       "title                                                            \n",
       "'71 (2014)                                                 0.0   \n",
       "'Hellboy': The Seeds of Creation (2004)                    0.0   \n",
       "\n",
       "title                                    À nous la liberté (Freedom for Us) (1931)  \n",
       "title                                                                               \n",
       "'71 (2014)                                                                     0.0  \n",
       "'Hellboy': The Seeds of Creation (2004)                                        0.0  \n",
       "\n",
       "[2 rows x 9719 columns]"
      ]
     },
     "metadata": {},
     "output_type": "display_data"
    }
   ],
   "source": [
    "from sklearn.metrics.pairwise import cosine_similarity\n",
    "\n",
    "item_sim = cosine_similarity(ratings_matrix_T, ratings_matrix_T)\n",
    "\n",
    "# cosine_similarity()로 반환된 넘파이 행렬에 영화명을 매핑해 DataFrame로 변환\n",
    "item_sim_df = pd.DataFrame(item_sim, index = ratings_matrix.columns, columns = ratings_matrix.columns)\n",
    "\n",
    "print(item_sim_df.shape)\n",
    "display(item_sim_df.head(2))"
   ]
  },
  {
   "cell_type": "markdown",
   "id": "ac18882a",
   "metadata": {},
   "source": [
    "영화의 유사도 DataFrame(item_sim_df)를 이용해 영화 '대부'와 유사도가 높은 상위 6개 영화를 추출"
   ]
  },
  {
   "cell_type": "code",
   "execution_count": 14,
   "id": "006cb2d5",
   "metadata": {
    "ExecuteTime": {
     "end_time": "2024-02-28T00:48:03.958280Z",
     "start_time": "2024-02-28T00:48:03.950962Z"
    }
   },
   "outputs": [
    {
     "data": {
      "text/plain": [
       "title\n",
       "Godfather, The (1972)                        1.000000\n",
       "Godfather: Part II, The (1974)               0.821773\n",
       "Goodfellas (1990)                            0.664841\n",
       "One Flew Over the Cuckoo's Nest (1975)       0.620536\n",
       "Star Wars: Episode IV - A New Hope (1977)    0.595317\n",
       "Fargo (1996)                                 0.588614\n",
       "Name: Godfather, The (1972), dtype: float64"
      ]
     },
     "execution_count": 14,
     "metadata": {},
     "output_type": "execute_result"
    }
   ],
   "source": [
    "item_sim_df['Godfather, The (1972)'].sort_values(ascending = False)[:6]"
   ]
  },
  {
   "cell_type": "markdown",
   "id": "6955a9f7",
   "metadata": {},
   "source": [
    "다른 영화 '인셉션'과 유사도가 높은 영화를 추출"
   ]
  },
  {
   "cell_type": "code",
   "execution_count": 16,
   "id": "db3d3b6d",
   "metadata": {
    "ExecuteTime": {
     "end_time": "2024-02-28T00:48:50.088479Z",
     "start_time": "2024-02-28T00:48:50.082438Z"
    }
   },
   "outputs": [
    {
     "data": {
      "text/plain": [
       "title\n",
       "Dark Knight, The (2008)          0.727263\n",
       "Inglourious Basterds (2009)      0.646103\n",
       "Shutter Island (2010)            0.617736\n",
       "Dark Knight Rises, The (2012)    0.617504\n",
       "Fight Club (1999)                0.615417\n",
       "Name: Inception (2010), dtype: float64"
      ]
     },
     "execution_count": 16,
     "metadata": {},
     "output_type": "execute_result"
    }
   ],
   "source": [
    "item_sim_df['Inception (2010)'].sort_values(ascending = False)[1:6] # 자기 자신 빼고"
   ]
  },
  {
   "cell_type": "markdown",
   "id": "7632a2e0",
   "metadata": {},
   "source": [
    "이번에는 이 아이템 기반 유사도 데이터(item_sim_df)를 이용해 개인에게 특화된 영화 추천 알고리즘 만들기"
   ]
  },
  {
   "cell_type": "markdown",
   "id": "2dbbf952",
   "metadata": {},
   "source": [
    "## 아이템 기반 최근접 이웃 협업 필터링으로 개인화된 영화 추천"
   ]
  },
  {
   "cell_type": "markdown",
   "id": "8f64489a",
   "metadata": {},
   "source": [
    "개인화된 영화 추천의 가장 큰 특징은 개인이 아직 관람하지 않은 영화를 추천한다는 것이다\n",
    "\n",
    "아직 관람하지 않은 영화에 대해서 아이템 유사도와 기존에 관람한 영화의 평점 데이터를 기반으로 해 새롭게 모든 영화의 예측 평점을 계산한 후 높은 예측 평점을 가진 영화를 추천하는 방식이다"
   ]
  },
  {
   "cell_type": "markdown",
   "id": "adbeeb04",
   "metadata": {},
   "source": [
    "영화 간의 유사도를 가지는 DataFrame인 item_sim_df와 사용지-영화 평점 DataFrmae인 ratings_matrix변수를 계속 활용해 사용자별로 최적화된 평점 스코어를 예측하는 함수 생성"
   ]
  },
  {
   "cell_type": "code",
   "execution_count": 17,
   "id": "324762b0",
   "metadata": {
    "ExecuteTime": {
     "end_time": "2024-02-28T01:18:48.968653Z",
     "start_time": "2024-02-28T01:18:48.965390Z"
    }
   },
   "outputs": [],
   "source": [
    "def predict_rating(ratings_arr, item_sim_arr):\n",
    "    ratings_pred = ratings_arr.dot(item_sim_arr) / np.array([np.abs(item_sim_arr).sum(axis = 1)])\n",
    "    return ratings_pred"
   ]
  },
  {
   "cell_type": "markdown",
   "id": "94861d7e",
   "metadata": {},
   "source": [
    "predict_rating() 함수를 이용해 개인화된 예측 평점 구하기"
   ]
  },
  {
   "cell_type": "code",
   "execution_count": 19,
   "id": "6b43ed61",
   "metadata": {
    "ExecuteTime": {
     "end_time": "2024-02-28T01:20:13.679131Z",
     "start_time": "2024-02-28T01:20:12.870819Z"
    }
   },
   "outputs": [
    {
     "data": {
      "text/html": [
       "<div>\n",
       "<style scoped>\n",
       "    .dataframe tbody tr th:only-of-type {\n",
       "        vertical-align: middle;\n",
       "    }\n",
       "\n",
       "    .dataframe tbody tr th {\n",
       "        vertical-align: top;\n",
       "    }\n",
       "\n",
       "    .dataframe thead th {\n",
       "        text-align: right;\n",
       "    }\n",
       "</style>\n",
       "<table border=\"1\" class=\"dataframe\">\n",
       "  <thead>\n",
       "    <tr style=\"text-align: right;\">\n",
       "      <th>title</th>\n",
       "      <th>'71 (2014)</th>\n",
       "      <th>'Hellboy': The Seeds of Creation (2004)</th>\n",
       "      <th>'Round Midnight (1986)</th>\n",
       "      <th>'Salem's Lot (2004)</th>\n",
       "      <th>'Til There Was You (1997)</th>\n",
       "      <th>'Tis the Season for Love (2015)</th>\n",
       "      <th>'burbs, The (1989)</th>\n",
       "      <th>'night Mother (1986)</th>\n",
       "      <th>(500) Days of Summer (2009)</th>\n",
       "      <th>*batteries not included (1987)</th>\n",
       "      <th>...</th>\n",
       "      <th>Zulu (2013)</th>\n",
       "      <th>[REC] (2007)</th>\n",
       "      <th>[REC]² (2009)</th>\n",
       "      <th>[REC]³ 3 Génesis (2012)</th>\n",
       "      <th>anohana: The Flower We Saw That Day - The Movie (2013)</th>\n",
       "      <th>eXistenZ (1999)</th>\n",
       "      <th>xXx (2002)</th>\n",
       "      <th>xXx: State of the Union (2005)</th>\n",
       "      <th>¡Three Amigos! (1986)</th>\n",
       "      <th>À nous la liberté (Freedom for Us) (1931)</th>\n",
       "    </tr>\n",
       "    <tr>\n",
       "      <th>userId</th>\n",
       "      <th></th>\n",
       "      <th></th>\n",
       "      <th></th>\n",
       "      <th></th>\n",
       "      <th></th>\n",
       "      <th></th>\n",
       "      <th></th>\n",
       "      <th></th>\n",
       "      <th></th>\n",
       "      <th></th>\n",
       "      <th></th>\n",
       "      <th></th>\n",
       "      <th></th>\n",
       "      <th></th>\n",
       "      <th></th>\n",
       "      <th></th>\n",
       "      <th></th>\n",
       "      <th></th>\n",
       "      <th></th>\n",
       "      <th></th>\n",
       "      <th></th>\n",
       "    </tr>\n",
       "  </thead>\n",
       "  <tbody>\n",
       "    <tr>\n",
       "      <th>1</th>\n",
       "      <td>0.070345</td>\n",
       "      <td>0.577855</td>\n",
       "      <td>0.321696</td>\n",
       "      <td>0.227055</td>\n",
       "      <td>0.206958</td>\n",
       "      <td>0.194615</td>\n",
       "      <td>0.249883</td>\n",
       "      <td>0.102542</td>\n",
       "      <td>0.157084</td>\n",
       "      <td>0.178197</td>\n",
       "      <td>...</td>\n",
       "      <td>0.113608</td>\n",
       "      <td>0.181738</td>\n",
       "      <td>0.133962</td>\n",
       "      <td>0.128574</td>\n",
       "      <td>0.006179</td>\n",
       "      <td>0.212070</td>\n",
       "      <td>0.192921</td>\n",
       "      <td>0.136024</td>\n",
       "      <td>0.292955</td>\n",
       "      <td>0.720347</td>\n",
       "    </tr>\n",
       "    <tr>\n",
       "      <th>2</th>\n",
       "      <td>0.018260</td>\n",
       "      <td>0.042744</td>\n",
       "      <td>0.018861</td>\n",
       "      <td>0.000000</td>\n",
       "      <td>0.000000</td>\n",
       "      <td>0.035995</td>\n",
       "      <td>0.013413</td>\n",
       "      <td>0.002314</td>\n",
       "      <td>0.032213</td>\n",
       "      <td>0.014863</td>\n",
       "      <td>...</td>\n",
       "      <td>0.015640</td>\n",
       "      <td>0.020855</td>\n",
       "      <td>0.020119</td>\n",
       "      <td>0.015745</td>\n",
       "      <td>0.049983</td>\n",
       "      <td>0.014876</td>\n",
       "      <td>0.021616</td>\n",
       "      <td>0.024528</td>\n",
       "      <td>0.017563</td>\n",
       "      <td>0.000000</td>\n",
       "    </tr>\n",
       "    <tr>\n",
       "      <th>3</th>\n",
       "      <td>0.011884</td>\n",
       "      <td>0.030279</td>\n",
       "      <td>0.064437</td>\n",
       "      <td>0.003762</td>\n",
       "      <td>0.003749</td>\n",
       "      <td>0.002722</td>\n",
       "      <td>0.014625</td>\n",
       "      <td>0.002085</td>\n",
       "      <td>0.005666</td>\n",
       "      <td>0.006272</td>\n",
       "      <td>...</td>\n",
       "      <td>0.006923</td>\n",
       "      <td>0.011665</td>\n",
       "      <td>0.011800</td>\n",
       "      <td>0.012225</td>\n",
       "      <td>0.000000</td>\n",
       "      <td>0.008194</td>\n",
       "      <td>0.007017</td>\n",
       "      <td>0.009229</td>\n",
       "      <td>0.010420</td>\n",
       "      <td>0.084501</td>\n",
       "    </tr>\n",
       "    <tr>\n",
       "      <th>4</th>\n",
       "      <td>0.049145</td>\n",
       "      <td>0.277628</td>\n",
       "      <td>0.160448</td>\n",
       "      <td>0.206892</td>\n",
       "      <td>0.309632</td>\n",
       "      <td>0.042337</td>\n",
       "      <td>0.130048</td>\n",
       "      <td>0.116442</td>\n",
       "      <td>0.099785</td>\n",
       "      <td>0.097432</td>\n",
       "      <td>...</td>\n",
       "      <td>0.051269</td>\n",
       "      <td>0.076051</td>\n",
       "      <td>0.055563</td>\n",
       "      <td>0.054137</td>\n",
       "      <td>0.008343</td>\n",
       "      <td>0.159242</td>\n",
       "      <td>0.100941</td>\n",
       "      <td>0.062253</td>\n",
       "      <td>0.146054</td>\n",
       "      <td>0.231187</td>\n",
       "    </tr>\n",
       "    <tr>\n",
       "      <th>5</th>\n",
       "      <td>0.007278</td>\n",
       "      <td>0.066951</td>\n",
       "      <td>0.041879</td>\n",
       "      <td>0.013880</td>\n",
       "      <td>0.024842</td>\n",
       "      <td>0.018240</td>\n",
       "      <td>0.026405</td>\n",
       "      <td>0.018673</td>\n",
       "      <td>0.021591</td>\n",
       "      <td>0.018841</td>\n",
       "      <td>...</td>\n",
       "      <td>0.009689</td>\n",
       "      <td>0.022246</td>\n",
       "      <td>0.013360</td>\n",
       "      <td>0.012378</td>\n",
       "      <td>0.000000</td>\n",
       "      <td>0.025839</td>\n",
       "      <td>0.023712</td>\n",
       "      <td>0.018012</td>\n",
       "      <td>0.028133</td>\n",
       "      <td>0.052315</td>\n",
       "    </tr>\n",
       "  </tbody>\n",
       "</table>\n",
       "<p>5 rows × 9719 columns</p>\n",
       "</div>"
      ],
      "text/plain": [
       "title   '71 (2014)  'Hellboy': The Seeds of Creation (2004)  \\\n",
       "userId                                                        \n",
       "1         0.070345                                 0.577855   \n",
       "2         0.018260                                 0.042744   \n",
       "3         0.011884                                 0.030279   \n",
       "4         0.049145                                 0.277628   \n",
       "5         0.007278                                 0.066951   \n",
       "\n",
       "title   'Round Midnight (1986)  'Salem's Lot (2004)  \\\n",
       "userId                                                \n",
       "1                     0.321696             0.227055   \n",
       "2                     0.018861             0.000000   \n",
       "3                     0.064437             0.003762   \n",
       "4                     0.160448             0.206892   \n",
       "5                     0.041879             0.013880   \n",
       "\n",
       "title   'Til There Was You (1997)  'Tis the Season for Love (2015)  \\\n",
       "userId                                                               \n",
       "1                        0.206958                         0.194615   \n",
       "2                        0.000000                         0.035995   \n",
       "3                        0.003749                         0.002722   \n",
       "4                        0.309632                         0.042337   \n",
       "5                        0.024842                         0.018240   \n",
       "\n",
       "title   'burbs, The (1989)  'night Mother (1986)  (500) Days of Summer (2009)  \\\n",
       "userId                                                                          \n",
       "1                 0.249883              0.102542                     0.157084   \n",
       "2                 0.013413              0.002314                     0.032213   \n",
       "3                 0.014625              0.002085                     0.005666   \n",
       "4                 0.130048              0.116442                     0.099785   \n",
       "5                 0.026405              0.018673                     0.021591   \n",
       "\n",
       "title   *batteries not included (1987)  ...  Zulu (2013)  [REC] (2007)  \\\n",
       "userId                                  ...                              \n",
       "1                             0.178197  ...     0.113608      0.181738   \n",
       "2                             0.014863  ...     0.015640      0.020855   \n",
       "3                             0.006272  ...     0.006923      0.011665   \n",
       "4                             0.097432  ...     0.051269      0.076051   \n",
       "5                             0.018841  ...     0.009689      0.022246   \n",
       "\n",
       "title   [REC]² (2009)  [REC]³ 3 Génesis (2012)  \\\n",
       "userId                                           \n",
       "1            0.133962                 0.128574   \n",
       "2            0.020119                 0.015745   \n",
       "3            0.011800                 0.012225   \n",
       "4            0.055563                 0.054137   \n",
       "5            0.013360                 0.012378   \n",
       "\n",
       "title   anohana: The Flower We Saw That Day - The Movie (2013)  \\\n",
       "userId                                                           \n",
       "1                                                0.006179        \n",
       "2                                                0.049983        \n",
       "3                                                0.000000        \n",
       "4                                                0.008343        \n",
       "5                                                0.000000        \n",
       "\n",
       "title   eXistenZ (1999)  xXx (2002)  xXx: State of the Union (2005)  \\\n",
       "userId                                                                \n",
       "1              0.212070    0.192921                        0.136024   \n",
       "2              0.014876    0.021616                        0.024528   \n",
       "3              0.008194    0.007017                        0.009229   \n",
       "4              0.159242    0.100941                        0.062253   \n",
       "5              0.025839    0.023712                        0.018012   \n",
       "\n",
       "title   ¡Three Amigos! (1986)  À nous la liberté (Freedom for Us) (1931)  \n",
       "userId                                                                    \n",
       "1                    0.292955                                   0.720347  \n",
       "2                    0.017563                                   0.000000  \n",
       "3                    0.010420                                   0.084501  \n",
       "4                    0.146054                                   0.231187  \n",
       "5                    0.028133                                   0.052315  \n",
       "\n",
       "[5 rows x 9719 columns]"
      ]
     },
     "execution_count": 19,
     "metadata": {},
     "output_type": "execute_result"
    }
   ],
   "source": [
    "ratings_pred = predict_rating(ratings_matrix.values, item_sim_df.values)\n",
    "ratings_pred_matrix = pd.DataFrame(data = ratings_pred, index = ratings_matrix.index, columns = ratings_matrix.columns)\n",
    "\n",
    "ratings_pred_matrix.head()"
   ]
  },
  {
   "cell_type": "markdown",
   "id": "6d33d9eb",
   "metadata": {},
   "source": [
    "=> 예측 평점이 사용자별 영화의 실제 평점과 영화의 코사인 유사도를 내적한 값이기 때문에 기존에 영화를 관람하지 않아 0에 해당했던 실제 영화 평점이 예측에서는 값이 부여되는 경우가 많아 발생\n",
    "\n",
    "=> 예측 평점이 실제 평점에 비해 작을 수 있다 -> 내적 결과를 코사인 유사도 벡터 합으로 나누었기 때문이다\n",
    "\n",
    "<br>\n",
    "이 예측 결과가 원래의 실제 평점과 얼마나 차이가 나는지 확인\n",
    "\n",
    "앞에서 개인화된 예측 점수는 평점을 주지 않은 영화에 대해서도 아이템 유사도에 기반해 평점을 예측했다\n",
    "\n",
    "=> 실제와 예측 평점의 차이는 기존에 평점이 부여된 데이터에 대해서만 오차 정도를 측정한다\n",
    "\n",
    "=> 예측 평가 지표인 MSE를 계산하는 get_mse()함수를 만들고 결과 확인"
   ]
  },
  {
   "cell_type": "code",
   "execution_count": 20,
   "id": "13768a75",
   "metadata": {
    "ExecuteTime": {
     "end_time": "2024-02-28T01:22:45.099030Z",
     "start_time": "2024-02-28T01:22:44.960337Z"
    }
   },
   "outputs": [
    {
     "name": "stdout",
     "output_type": "stream",
     "text": [
      "아이템 기반 모든 최근접 이웃 MSE :  9.895354759094706\n"
     ]
    }
   ],
   "source": [
    "from sklearn.metrics import mean_squared_error\n",
    "\n",
    "# 사용자가 평점을 부여한 영화에 대해서만 예측 성능 평가 mse를 구함\n",
    "def get_mse(pred, actual):\n",
    "    # 평점이 있는 실제 영화만 추출\n",
    "    pred = pred[actual.nonzero()].flatten()\n",
    "    actual = actual[actual.nonzero()].flatten()\n",
    "    return mean_squared_error(pred, actual)\n",
    "\n",
    "print('아이템 기반 모든 최근접 이웃 MSE : ', get_mse(ratings_pred, ratings_matrix.values))"
   ]
  },
  {
   "cell_type": "markdown",
   "id": "49bf4a92",
   "metadata": {},
   "source": [
    "=> 많은 영화의 유사도 벡터를 이용하다 보니 상대적으로 평점 예측이 떨어졌다\n",
    "\n",
    "특정 영화와 가장 비슷한 유사도를 가지는 영화에 대해서만 유사도 벡터를 적용하는 함수로 변경한다\n",
    "\n",
    "개별 예측값을 구하기 위해 행, 열 별로 for루프를 반복 수행하면서 TOP_N 유사도 벡터를 계산"
   ]
  },
  {
   "cell_type": "code",
   "execution_count": 21,
   "id": "29492196",
   "metadata": {
    "ExecuteTime": {
     "end_time": "2024-02-28T01:30:47.467719Z",
     "start_time": "2024-02-28T01:30:47.463356Z"
    }
   },
   "outputs": [],
   "source": [
    "def predict_rating_topsim(ratings_arr, item_sim_arr, n = 20):\n",
    "    # 사용자-아이템 평점 행렬 크기만큼 0으로 채운 예측 행렬 초기화\n",
    "    pred = np.zeros(ratings_arr.shape)\n",
    "    \n",
    "    # 사용자-아이템 평점 행렬의 열 크기만큼 루프 수행\n",
    "    for col in range(ratings_arr.shape[1]):\n",
    "        # 유사도 행렬에서 유사도가 큰 순으로 n개의 데이터 행렬의 인덱스 반환\n",
    "        top_n_itmes = [np.argsort(item_sim_arr[:, col])[:-n-1:-1]]\n",
    "        # 개인화된 예측 평점을 계산\n",
    "        for row in range(ratings_arr.shape[0]):\n",
    "            pred[row, col] = item_sim_arr[col, :][top_n_itmes].dot(ratings_arr[row, :][top_n_itmes].T)\n",
    "            pred[row, col] /= np.sum(np.abs(item_sim_arr[col, :][top_n_itmes]))\n",
    "            \n",
    "    return pred"
   ]
  },
  {
   "cell_type": "markdown",
   "id": "2a186546",
   "metadata": {},
   "source": [
    "predict_rating_topsim()함수를 이용해 예측 평점을 계산하고 실제 평점과의 MSE 구하기"
   ]
  },
  {
   "cell_type": "code",
   "execution_count": 22,
   "id": "fabcb8f2",
   "metadata": {
    "ExecuteTime": {
     "end_time": "2024-02-28T01:34:05.841048Z",
     "start_time": "2024-02-28T01:32:52.521499Z"
    }
   },
   "outputs": [
    {
     "name": "stdout",
     "output_type": "stream",
     "text": [
      "아이템 기반 최근접 Top-20 이웃 MSE :  3.695009387428144\n"
     ]
    }
   ],
   "source": [
    "ratings_pred = predict_rating_topsim(ratings_matrix.values, item_sim_df.values, n = 20)\\\n",
    "\n",
    "print('아이템 기반 최근접 Top-20 이웃 MSE : ', get_mse(ratings_pred, ratings_matrix.values))\n",
    "\n",
    "# 계산된 예측 평점 데이터는 DataFrame으로 재생성\n",
    "ratings_pred_matrix = pd.DataFrame(ratings_pred, index = ratings_matrix.index, columns = ratings_matrix.columns)"
   ]
  },
  {
   "cell_type": "markdown",
   "id": "048f8653",
   "metadata": {},
   "source": [
    "특정 사용자 userId = 9인 사용자에 대해 영화 추천\n",
    "\n",
    "사용자 9가 어떤 영화를 좋아하는지 확인 -> 사용자가 평점을 준 영화를 평점이 높은 순으로 나열"
   ]
  },
  {
   "cell_type": "code",
   "execution_count": 23,
   "id": "610dbd30",
   "metadata": {
    "ExecuteTime": {
     "end_time": "2024-02-28T01:34:05.848974Z",
     "start_time": "2024-02-28T01:34:05.842047Z"
    }
   },
   "outputs": [
    {
     "data": {
      "text/plain": [
       "title\n",
       "Adaptation (2002)                                                                 5.0\n",
       "Citizen Kane (1941)                                                               5.0\n",
       "Raiders of the Lost Ark (Indiana Jones and the Raiders of the Lost Ark) (1981)    5.0\n",
       "Producers, The (1968)                                                             5.0\n",
       "Lord of the Rings: The Two Towers, The (2002)                                     5.0\n",
       "Lord of the Rings: The Fellowship of the Ring, The (2001)                         5.0\n",
       "Back to the Future (1985)                                                         5.0\n",
       "Austin Powers in Goldmember (2002)                                                5.0\n",
       "Minority Report (2002)                                                            4.0\n",
       "Witness (1985)                                                                    4.0\n",
       "Name: 9, dtype: float64"
      ]
     },
     "execution_count": 23,
     "metadata": {},
     "output_type": "execute_result"
    }
   ],
   "source": [
    "user_rating_id = ratings_matrix.loc[9, :]\n",
    "user_rating_id[user_rating_id > 0].sort_values(ascending = False)[:10]"
   ]
  },
  {
   "cell_type": "markdown",
   "id": "f569fee5",
   "metadata": {},
   "source": [
    "=> '반지의 제왕', '오스틴 파워' 등 대작 영화나 어드벤처 영화, 코미디 영화 등 전반적으로 흥행성이 좋은 영화에 높은 평점을 주고 있다\n",
    "\n",
    "<br>"
   ]
  },
  {
   "cell_type": "markdown",
   "id": "17112e1f",
   "metadata": {},
   "source": [
    "이 사용자에게 아이템 기반 협업 필터링을 통해 영화 추천\n",
    "\n",
    "사용자가 이미 평점을 준 영화를 제외하고 추천할 수 있도록 평점을 주지 않은 영화를 리스트 객체로 반환하는 함수 생성"
   ]
  },
  {
   "cell_type": "code",
   "execution_count": 27,
   "id": "e72f5131",
   "metadata": {
    "ExecuteTime": {
     "end_time": "2024-02-28T01:43:20.146145Z",
     "start_time": "2024-02-28T01:43:20.142360Z"
    }
   },
   "outputs": [],
   "source": [
    "def get_unseen_movies(ratings_matrix, userId):\n",
    "    # userId로 입력받은 사용자의 모든 영화 정보를 추출해 Series로 반환\n",
    "    # 반환된 user_rating은 영화명을 인덱스로 가지는 Series 객체임\n",
    "    user_rating = ratings_matrix.loc[userId, :]\n",
    "    \n",
    "    # user_rating이 0보다 크면 기존에 관람한 영화이다\n",
    "    # 대상 인덱스를 추출해 list 객체로 만듬\n",
    "    already_seen = user_rating[user_rating > 0].index.tolist()\n",
    "    \n",
    "    # 모든 영화명을 list 객체로 만듦\n",
    "    movies_list = ratings_matrix.columns.tolist()\n",
    "    \n",
    "    # list comprehension으로 already_seen에 해당하는 영화는 movies_list에서 제외함\n",
    "    unseen_list = [movie for movie in movies_list if movie not in already_seen]\n",
    "    \n",
    "    return unseen_list"
   ]
  },
  {
   "cell_type": "markdown",
   "id": "1bfa488f",
   "metadata": {},
   "source": [
    "사용자가 영화의 평점을 주지 않은 추천 대상 영화 정보와 predict_rating_tiosim()에서 추출한 사용자별 아이템 유사도에 기반한 예측 평점 데이터 세트를 이용해 최종적으로 사용자에게 영화를 추천하는 함수인 recomm_movie_by_userid()를 만들기"
   ]
  },
  {
   "cell_type": "code",
   "execution_count": 28,
   "id": "ebee7940",
   "metadata": {
    "ExecuteTime": {
     "end_time": "2024-02-28T01:43:22.684034Z",
     "start_time": "2024-02-28T01:43:22.660715Z"
    }
   },
   "outputs": [
    {
     "data": {
      "text/html": [
       "<div>\n",
       "<style scoped>\n",
       "    .dataframe tbody tr th:only-of-type {\n",
       "        vertical-align: middle;\n",
       "    }\n",
       "\n",
       "    .dataframe tbody tr th {\n",
       "        vertical-align: top;\n",
       "    }\n",
       "\n",
       "    .dataframe thead th {\n",
       "        text-align: right;\n",
       "    }\n",
       "</style>\n",
       "<table border=\"1\" class=\"dataframe\">\n",
       "  <thead>\n",
       "    <tr style=\"text-align: right;\">\n",
       "      <th></th>\n",
       "      <th>pred_score</th>\n",
       "    </tr>\n",
       "    <tr>\n",
       "      <th>title</th>\n",
       "      <th></th>\n",
       "    </tr>\n",
       "  </thead>\n",
       "  <tbody>\n",
       "    <tr>\n",
       "      <th>Shrek (2001)</th>\n",
       "      <td>0.866202</td>\n",
       "    </tr>\n",
       "    <tr>\n",
       "      <th>Spider-Man (2002)</th>\n",
       "      <td>0.857854</td>\n",
       "    </tr>\n",
       "    <tr>\n",
       "      <th>Last Samurai, The (2003)</th>\n",
       "      <td>0.817473</td>\n",
       "    </tr>\n",
       "    <tr>\n",
       "      <th>Indiana Jones and the Temple of Doom (1984)</th>\n",
       "      <td>0.816626</td>\n",
       "    </tr>\n",
       "    <tr>\n",
       "      <th>Matrix Reloaded, The (2003)</th>\n",
       "      <td>0.800990</td>\n",
       "    </tr>\n",
       "    <tr>\n",
       "      <th>Harry Potter and the Sorcerer's Stone (a.k.a. Harry Potter and the Philosopher's Stone) (2001)</th>\n",
       "      <td>0.765159</td>\n",
       "    </tr>\n",
       "    <tr>\n",
       "      <th>Gladiator (2000)</th>\n",
       "      <td>0.740956</td>\n",
       "    </tr>\n",
       "    <tr>\n",
       "      <th>Matrix, The (1999)</th>\n",
       "      <td>0.732693</td>\n",
       "    </tr>\n",
       "    <tr>\n",
       "      <th>Pirates of the Caribbean: The Curse of the Black Pearl (2003)</th>\n",
       "      <td>0.689591</td>\n",
       "    </tr>\n",
       "    <tr>\n",
       "      <th>Lord of the Rings: The Return of the King, The (2003)</th>\n",
       "      <td>0.676711</td>\n",
       "    </tr>\n",
       "  </tbody>\n",
       "</table>\n",
       "</div>"
      ],
      "text/plain": [
       "                                                    pred_score\n",
       "title                                                         \n",
       "Shrek (2001)                                          0.866202\n",
       "Spider-Man (2002)                                     0.857854\n",
       "Last Samurai, The (2003)                              0.817473\n",
       "Indiana Jones and the Temple of Doom (1984)           0.816626\n",
       "Matrix Reloaded, The (2003)                           0.800990\n",
       "Harry Potter and the Sorcerer's Stone (a.k.a. H...    0.765159\n",
       "Gladiator (2000)                                      0.740956\n",
       "Matrix, The (1999)                                    0.732693\n",
       "Pirates of the Caribbean: The Curse of the Blac...    0.689591\n",
       "Lord of the Rings: The Return of the King, The ...    0.676711"
      ]
     },
     "execution_count": 28,
     "metadata": {},
     "output_type": "execute_result"
    }
   ],
   "source": [
    "def recomm_movie_by_userid(pred_df, userId, unseen_list, top_n = 10):\n",
    "    # 예측 평점 DataFrame에서 사용자id 인덱스와 unseen_list로 들어온 영화명 컬럼을 추출해 가장 예측 평점이 높은 순으로 정렬\n",
    "    recomm_movies = pred_df.loc[userId, unseen_list].sort_values(ascending = False)[:top_n]\n",
    "    return recomm_movies\n",
    "\n",
    "# 사용자가 관람하지 않ㅇ른 영화명 추출\n",
    "unseen_list = get_unseen_movies(ratings_matrix, 9)\n",
    "\n",
    "# 아이템 기반의 최근접 이웃 협업 필터링으로 영화 추천\n",
    "recomm_movies = recomm_movie_by_userid(ratings_pred_matrix, 9, unseen_list, top_n = 10)\n",
    "\n",
    "# 평점 데이터를 DataFrame로 생성\n",
    "recomm_movies = pd.DataFrame(recomm_movies.values, index = recomm_movies.index, columns = ['pred_score'])\n",
    "\n",
    "recomm_movies"
   ]
  },
  {
   "cell_type": "markdown",
   "id": "fa346e80",
   "metadata": {},
   "source": [
    "=> '슈렉', '스파이더 맨', '인디아나 존스-2편', '매트릭스'등 다양하지만 높은 흥행성을 가진 작품을 추천"
   ]
  },
  {
   "cell_type": "markdown",
   "id": "c9170063",
   "metadata": {},
   "source": [
    "# 행렬 분해를 이용한 잠재 요인 협업 필터링 실습"
   ]
  },
  {
   "cell_type": "markdown",
   "id": "3e70d815",
   "metadata": {},
   "source": [
    "SGD 기반의 행렬 분해를 구현하고 이를 기반으로 사용자에게 영화를 추천"
   ]
  },
  {
   "cell_type": "code",
   "execution_count": 39,
   "id": "1ef2968b",
   "metadata": {
    "ExecuteTime": {
     "end_time": "2024-02-28T02:36:41.820713Z",
     "start_time": "2024-02-28T02:36:41.816646Z"
    }
   },
   "outputs": [],
   "source": [
    "from sklearn.metrics import mean_squared_error\n",
    "\n",
    "def get_rmse(R, P, Q, non_zeros):\n",
    "    error = 0\n",
    "    \n",
    "    # 두 개의 분해된 행렬 P와, Q, T의 내적으로 예측 R 행렬 생성\n",
    "    full_pred_matrix = np.dot(P, Q.T)\n",
    "    \n",
    "    # 실제 R행렬에서 널이 아닌 값의 위치 인덱스 추출해 실제 R 행렬과 예측 행렬의 RMSE 추출\n",
    "    x_non_zero_ind = [non_zero[0] for non_zero in non_zeros]\n",
    "    y_non_zero_ind = [non_zero[1] for non_zero in non_zeros]     \n",
    "    R_non_zeros = R[x_non_zero_ind, y_non_zero_ind]\n",
    "    full_pred_matrix_non_zeros = full_pred_matrix[x_non_zero_ind, y_non_zero_ind]\n",
    "    mse = mean_squared_error(R_non_zeros, full_pred_matrix_non_zeros)\n",
    "    rmse = np.sqrt(mse)\n",
    "    \n",
    "    return rmse"
   ]
  },
  {
   "cell_type": "code",
   "execution_count": 40,
   "id": "ef6436d2",
   "metadata": {
    "ExecuteTime": {
     "end_time": "2024-02-28T02:36:42.803962Z",
     "start_time": "2024-02-28T02:36:42.797268Z"
    }
   },
   "outputs": [],
   "source": [
    "def matrix_factorization(R, K, steps = 200, learning_rate = 0.01, r_lambda = 0.01):\n",
    "    num_users, num_items = R.shape\n",
    "    # P와 Q 매트릭스의 크기를 지정하고 정규 분포를 가진 랜덤한 값으로 입력\n",
    "    np.random.seed(1)\n",
    "    P = np.random.normal(scale = 1./K, size = (num_users, K))\n",
    "    Q = np.random.normal(scale = 1./K, size = (num_items, K))\n",
    "    \n",
    "    # R >0 인 행 위치, 열 위치, 값을 non_zeros 리스트 객체에 저장\n",
    "    non_zeros = [(i, j, R[i, j]) for i in range(num_users) for j in range(num_items) if R[i, j] > 0]\n",
    "    \n",
    "    # SGD 기법으로 P와 Q 매트릭스를 계속 업데이트\n",
    "    for step in range(steps):\n",
    "        for i, j, r in non_zeros:\n",
    "            # 실제값과 예측 값의 차이인 오류 값 구함\n",
    "            eij = r - np.dot(P[i, :], Q[j, :].T)\n",
    "            # regularization을 반영한 SGD 업데이트 공식 적용\n",
    "            P[i, :] = P[i, :] + learning_rate * (eij * Q[j, :] - r_lambda * P[i, :])\n",
    "            Q[j, :] = Q[j, :] + learning_rate * (eij * P[i, :] - r_lambda * Q[j, :])\n",
    "            \n",
    "        rmse = get_rmse(R, P, Q, non_zeros)\n",
    "        if (step % 10) == 0:\n",
    "            print('## iteration step : ', step, 'rmse : ', rmse)\n",
    "    \n",
    "    return P, Q"
   ]
  },
  {
   "cell_type": "markdown",
   "id": "6e0a1619",
   "metadata": {},
   "source": [
    "영화 평점 행렬 데이터를 새롭게 DataFrame으로 로딩한 뒤에 다시 사용자-아이템 평점 행렬로 만들기"
   ]
  },
  {
   "cell_type": "code",
   "execution_count": 41,
   "id": "1955ad44",
   "metadata": {
    "ExecuteTime": {
     "end_time": "2024-02-28T02:36:44.118596Z",
     "start_time": "2024-02-28T02:36:43.831858Z"
    }
   },
   "outputs": [],
   "source": [
    "import pandas as pd\n",
    "import numpy as np\n",
    "\n",
    "movies = pd.read_csv('./data/ml_latest_small/movies.csv')\n",
    "ratings = pd.read_csv('./data/ml_latest_small/ratings.csv')\n",
    "\n",
    "ratings = ratings[['userId', 'movieId', 'rating']]\n",
    "ratings_matrix = ratings.pivot_table('rating', index = 'userId', columns = 'movieId')\n",
    "\n",
    "# title 컬럼을 얻기 위해 movies와 조인 수행\n",
    "rating_movies = pd.merge(ratings, movies, on = 'movieId')\n",
    "\n",
    "# columns = 'title'로 title 컬럼으로 pivot 수행\n",
    "ratings_matrix = rating_movies.pivot_table('rating', index = 'userId', columns = 'title')"
   ]
  },
  {
   "cell_type": "markdown",
   "id": "a4206454",
   "metadata": {},
   "source": [
    "만들어진 사용자-아이템 평점 행렬을 matrix_factorization()함수를 이용해 행렬 분해"
   ]
  },
  {
   "cell_type": "code",
   "execution_count": 42,
   "id": "9c4db4af",
   "metadata": {
    "ExecuteTime": {
     "end_time": "2024-02-28T02:41:02.983870Z",
     "start_time": "2024-02-28T02:36:45.076418Z"
    }
   },
   "outputs": [
    {
     "name": "stdout",
     "output_type": "stream",
     "text": [
      "## iteration step :  0 rmse :  2.9023619751336867\n",
      "## iteration step :  10 rmse :  0.7335768591017927\n",
      "## iteration step :  20 rmse :  0.5115539026853442\n",
      "## iteration step :  30 rmse :  0.37261628282537446\n",
      "## iteration step :  40 rmse :  0.2960818299181014\n",
      "## iteration step :  50 rmse :  0.2520353192341642\n",
      "## iteration step :  60 rmse :  0.22487503275269854\n",
      "## iteration step :  70 rmse :  0.20685455302331537\n",
      "## iteration step :  80 rmse :  0.19413418783028685\n",
      "## iteration step :  90 rmse :  0.18470082002720403\n",
      "## iteration step :  100 rmse :  0.17742927527209104\n",
      "## iteration step :  110 rmse :  0.17165226964707486\n",
      "## iteration step :  120 rmse :  0.1669518194687172\n",
      "## iteration step :  130 rmse :  0.16305292191997542\n",
      "## iteration step :  140 rmse :  0.15976691929679643\n",
      "## iteration step :  150 rmse :  0.1569598699945732\n",
      "## iteration step :  160 rmse :  0.15453398186715428\n",
      "## iteration step :  170 rmse :  0.15241618551077643\n",
      "## iteration step :  180 rmse :  0.15055080739628307\n",
      "## iteration step :  190 rmse :  0.1488947091323209\n"
     ]
    }
   ],
   "source": [
    "P, Q = matrix_factorization(ratings_matrix.values, K = 50, steps = 200, learning_rate = 0.01, r_lambda = 0.01)\n",
    "\n",
    "pred_matrix = np.dot(P, Q.T)"
   ]
  },
  {
   "cell_type": "markdown",
   "id": "1a9083a5",
   "metadata": {},
   "source": [
    "예측 사용자-아이템 평점 행렬을 영화 타이틀을 컬러명으로 가지는 DataFrame으로 변경"
   ]
  },
  {
   "cell_type": "code",
   "execution_count": 47,
   "id": "1385b718",
   "metadata": {
    "ExecuteTime": {
     "end_time": "2024-02-28T02:44:00.681170Z",
     "start_time": "2024-02-28T02:44:00.665800Z"
    }
   },
   "outputs": [
    {
     "data": {
      "text/html": [
       "<div>\n",
       "<style scoped>\n",
       "    .dataframe tbody tr th:only-of-type {\n",
       "        vertical-align: middle;\n",
       "    }\n",
       "\n",
       "    .dataframe tbody tr th {\n",
       "        vertical-align: top;\n",
       "    }\n",
       "\n",
       "    .dataframe thead th {\n",
       "        text-align: right;\n",
       "    }\n",
       "</style>\n",
       "<table border=\"1\" class=\"dataframe\">\n",
       "  <thead>\n",
       "    <tr style=\"text-align: right;\">\n",
       "      <th>title</th>\n",
       "      <th>'71 (2014)</th>\n",
       "      <th>'Hellboy': The Seeds of Creation (2004)</th>\n",
       "      <th>'Round Midnight (1986)</th>\n",
       "      <th>'Salem's Lot (2004)</th>\n",
       "      <th>'Til There Was You (1997)</th>\n",
       "      <th>'Tis the Season for Love (2015)</th>\n",
       "      <th>'burbs, The (1989)</th>\n",
       "      <th>'night Mother (1986)</th>\n",
       "      <th>(500) Days of Summer (2009)</th>\n",
       "      <th>*batteries not included (1987)</th>\n",
       "      <th>...</th>\n",
       "      <th>Zulu (2013)</th>\n",
       "      <th>[REC] (2007)</th>\n",
       "      <th>[REC]² (2009)</th>\n",
       "      <th>[REC]³ 3 Génesis (2012)</th>\n",
       "      <th>anohana: The Flower We Saw That Day - The Movie (2013)</th>\n",
       "      <th>eXistenZ (1999)</th>\n",
       "      <th>xXx (2002)</th>\n",
       "      <th>xXx: State of the Union (2005)</th>\n",
       "      <th>¡Three Amigos! (1986)</th>\n",
       "      <th>À nous la liberté (Freedom for Us) (1931)</th>\n",
       "    </tr>\n",
       "    <tr>\n",
       "      <th>userId</th>\n",
       "      <th></th>\n",
       "      <th></th>\n",
       "      <th></th>\n",
       "      <th></th>\n",
       "      <th></th>\n",
       "      <th></th>\n",
       "      <th></th>\n",
       "      <th></th>\n",
       "      <th></th>\n",
       "      <th></th>\n",
       "      <th></th>\n",
       "      <th></th>\n",
       "      <th></th>\n",
       "      <th></th>\n",
       "      <th></th>\n",
       "      <th></th>\n",
       "      <th></th>\n",
       "      <th></th>\n",
       "      <th></th>\n",
       "      <th></th>\n",
       "      <th></th>\n",
       "    </tr>\n",
       "  </thead>\n",
       "  <tbody>\n",
       "    <tr>\n",
       "      <th>1</th>\n",
       "      <td>3.055084</td>\n",
       "      <td>4.092018</td>\n",
       "      <td>3.564130</td>\n",
       "      <td>4.502167</td>\n",
       "      <td>3.981215</td>\n",
       "      <td>1.271694</td>\n",
       "      <td>3.603274</td>\n",
       "      <td>2.333266</td>\n",
       "      <td>5.091749</td>\n",
       "      <td>3.972454</td>\n",
       "      <td>...</td>\n",
       "      <td>1.402608</td>\n",
       "      <td>4.208382</td>\n",
       "      <td>3.705957</td>\n",
       "      <td>2.720514</td>\n",
       "      <td>2.787331</td>\n",
       "      <td>3.475076</td>\n",
       "      <td>3.253458</td>\n",
       "      <td>2.161087</td>\n",
       "      <td>4.010495</td>\n",
       "      <td>0.859474</td>\n",
       "    </tr>\n",
       "    <tr>\n",
       "      <th>2</th>\n",
       "      <td>3.170119</td>\n",
       "      <td>3.657992</td>\n",
       "      <td>3.308707</td>\n",
       "      <td>4.166521</td>\n",
       "      <td>4.311890</td>\n",
       "      <td>1.275469</td>\n",
       "      <td>4.237972</td>\n",
       "      <td>1.900366</td>\n",
       "      <td>3.392859</td>\n",
       "      <td>3.647421</td>\n",
       "      <td>...</td>\n",
       "      <td>0.973811</td>\n",
       "      <td>3.528264</td>\n",
       "      <td>3.361532</td>\n",
       "      <td>2.672535</td>\n",
       "      <td>2.404456</td>\n",
       "      <td>4.232789</td>\n",
       "      <td>2.911602</td>\n",
       "      <td>1.634576</td>\n",
       "      <td>4.135735</td>\n",
       "      <td>0.725684</td>\n",
       "    </tr>\n",
       "    <tr>\n",
       "      <th>3</th>\n",
       "      <td>2.307073</td>\n",
       "      <td>1.658853</td>\n",
       "      <td>1.443538</td>\n",
       "      <td>2.208859</td>\n",
       "      <td>2.229486</td>\n",
       "      <td>0.780760</td>\n",
       "      <td>1.997043</td>\n",
       "      <td>0.924908</td>\n",
       "      <td>2.970700</td>\n",
       "      <td>2.551446</td>\n",
       "      <td>...</td>\n",
       "      <td>0.520354</td>\n",
       "      <td>1.709494</td>\n",
       "      <td>2.281596</td>\n",
       "      <td>1.782833</td>\n",
       "      <td>1.635173</td>\n",
       "      <td>1.323276</td>\n",
       "      <td>2.887580</td>\n",
       "      <td>1.042618</td>\n",
       "      <td>2.293890</td>\n",
       "      <td>0.396941</td>\n",
       "    </tr>\n",
       "  </tbody>\n",
       "</table>\n",
       "<p>3 rows × 9719 columns</p>\n",
       "</div>"
      ],
      "text/plain": [
       "title   '71 (2014)  'Hellboy': The Seeds of Creation (2004)  \\\n",
       "userId                                                        \n",
       "1         3.055084                                 4.092018   \n",
       "2         3.170119                                 3.657992   \n",
       "3         2.307073                                 1.658853   \n",
       "\n",
       "title   'Round Midnight (1986)  'Salem's Lot (2004)  \\\n",
       "userId                                                \n",
       "1                     3.564130             4.502167   \n",
       "2                     3.308707             4.166521   \n",
       "3                     1.443538             2.208859   \n",
       "\n",
       "title   'Til There Was You (1997)  'Tis the Season for Love (2015)  \\\n",
       "userId                                                               \n",
       "1                        3.981215                         1.271694   \n",
       "2                        4.311890                         1.275469   \n",
       "3                        2.229486                         0.780760   \n",
       "\n",
       "title   'burbs, The (1989)  'night Mother (1986)  (500) Days of Summer (2009)  \\\n",
       "userId                                                                          \n",
       "1                 3.603274              2.333266                     5.091749   \n",
       "2                 4.237972              1.900366                     3.392859   \n",
       "3                 1.997043              0.924908                     2.970700   \n",
       "\n",
       "title   *batteries not included (1987)  ...  Zulu (2013)  [REC] (2007)  \\\n",
       "userId                                  ...                              \n",
       "1                             3.972454  ...     1.402608      4.208382   \n",
       "2                             3.647421  ...     0.973811      3.528264   \n",
       "3                             2.551446  ...     0.520354      1.709494   \n",
       "\n",
       "title   [REC]² (2009)  [REC]³ 3 Génesis (2012)  \\\n",
       "userId                                           \n",
       "1            3.705957                 2.720514   \n",
       "2            3.361532                 2.672535   \n",
       "3            2.281596                 1.782833   \n",
       "\n",
       "title   anohana: The Flower We Saw That Day - The Movie (2013)  \\\n",
       "userId                                                           \n",
       "1                                                2.787331        \n",
       "2                                                2.404456        \n",
       "3                                                1.635173        \n",
       "\n",
       "title   eXistenZ (1999)  xXx (2002)  xXx: State of the Union (2005)  \\\n",
       "userId                                                                \n",
       "1              3.475076    3.253458                        2.161087   \n",
       "2              4.232789    2.911602                        1.634576   \n",
       "3              1.323276    2.887580                        1.042618   \n",
       "\n",
       "title   ¡Three Amigos! (1986)  À nous la liberté (Freedom for Us) (1931)  \n",
       "userId                                                                    \n",
       "1                    4.010495                                   0.859474  \n",
       "2                    4.135735                                   0.725684  \n",
       "3                    2.293890                                   0.396941  \n",
       "\n",
       "[3 rows x 9719 columns]"
      ]
     },
     "execution_count": 47,
     "metadata": {},
     "output_type": "execute_result"
    }
   ],
   "source": [
    "ratings_pred_matrix = pd.DataFrame(pred_matrix, index = ratings_matrix.index, columns = ratings_matrix.columns)\n",
    "\n",
    "ratings_pred_matrix.head(3)"
   ]
  },
  {
   "cell_type": "markdown",
   "id": "a0b7cefb",
   "metadata": {},
   "source": [
    "예측 사용자-아이템 평점 행렬 정보를 이용해 개인화된 영화 추천을 하자\n",
    "\n",
    "사용자 아이디 9번에 대한 영화 추천을 이번에는 잠재 요인 협업 필터링으로 추천"
   ]
  },
  {
   "cell_type": "code",
   "execution_count": 48,
   "id": "826e124c",
   "metadata": {
    "ExecuteTime": {
     "end_time": "2024-02-28T02:44:05.033096Z",
     "start_time": "2024-02-28T02:44:05.012203Z"
    }
   },
   "outputs": [
    {
     "data": {
      "text/html": [
       "<div>\n",
       "<style scoped>\n",
       "    .dataframe tbody tr th:only-of-type {\n",
       "        vertical-align: middle;\n",
       "    }\n",
       "\n",
       "    .dataframe tbody tr th {\n",
       "        vertical-align: top;\n",
       "    }\n",
       "\n",
       "    .dataframe thead th {\n",
       "        text-align: right;\n",
       "    }\n",
       "</style>\n",
       "<table border=\"1\" class=\"dataframe\">\n",
       "  <thead>\n",
       "    <tr style=\"text-align: right;\">\n",
       "      <th></th>\n",
       "      <th>pred_score</th>\n",
       "    </tr>\n",
       "    <tr>\n",
       "      <th>title</th>\n",
       "      <th></th>\n",
       "    </tr>\n",
       "  </thead>\n",
       "  <tbody>\n",
       "    <tr>\n",
       "      <th>Rear Window (1954)</th>\n",
       "      <td>5.704612</td>\n",
       "    </tr>\n",
       "    <tr>\n",
       "      <th>South Park: Bigger, Longer and Uncut (1999)</th>\n",
       "      <td>5.451100</td>\n",
       "    </tr>\n",
       "    <tr>\n",
       "      <th>Rounders (1998)</th>\n",
       "      <td>5.298393</td>\n",
       "    </tr>\n",
       "    <tr>\n",
       "      <th>Blade Runner (1982)</th>\n",
       "      <td>5.244951</td>\n",
       "    </tr>\n",
       "    <tr>\n",
       "      <th>Roger &amp; Me (1989)</th>\n",
       "      <td>5.191962</td>\n",
       "    </tr>\n",
       "    <tr>\n",
       "      <th>Gattaca (1997)</th>\n",
       "      <td>5.183179</td>\n",
       "    </tr>\n",
       "    <tr>\n",
       "      <th>Ben-Hur (1959)</th>\n",
       "      <td>5.130463</td>\n",
       "    </tr>\n",
       "    <tr>\n",
       "      <th>Rosencrantz and Guildenstern Are Dead (1990)</th>\n",
       "      <td>5.087375</td>\n",
       "    </tr>\n",
       "    <tr>\n",
       "      <th>Big Lebowski, The (1998)</th>\n",
       "      <td>5.038690</td>\n",
       "    </tr>\n",
       "    <tr>\n",
       "      <th>Star Wars: Episode V - The Empire Strikes Back (1980)</th>\n",
       "      <td>4.989601</td>\n",
       "    </tr>\n",
       "  </tbody>\n",
       "</table>\n",
       "</div>"
      ],
      "text/plain": [
       "                                                    pred_score\n",
       "title                                                         \n",
       "Rear Window (1954)                                    5.704612\n",
       "South Park: Bigger, Longer and Uncut (1999)           5.451100\n",
       "Rounders (1998)                                       5.298393\n",
       "Blade Runner (1982)                                   5.244951\n",
       "Roger & Me (1989)                                     5.191962\n",
       "Gattaca (1997)                                        5.183179\n",
       "Ben-Hur (1959)                                        5.130463\n",
       "Rosencrantz and Guildenstern Are Dead (1990)          5.087375\n",
       "Big Lebowski, The (1998)                              5.038690\n",
       "Star Wars: Episode V - The Empire Strikes Back ...    4.989601"
      ]
     },
     "execution_count": 48,
     "metadata": {},
     "output_type": "execute_result"
    }
   ],
   "source": [
    "# 시용자가 관람하지 않은 영화명 추출\n",
    "unseen_list = get_unseen_movies(ratings_matrix, 9)\n",
    "\n",
    "# 잠재 요인 협업 필터링으로 영화 추천\n",
    "recomm_movies = recomm_movie_by_userid(ratings_pred_matrix, 9, unseen_list, top_n = 10)\n",
    "\n",
    "# 평점 데이터를 DataFrame으로 생성\n",
    "recomm_movies = pd.DataFrame(recomm_movies.values, index = recomm_movies.index, columns = ['pred_score'])\n",
    "\n",
    "recomm_movies"
   ]
  },
  {
   "cell_type": "markdown",
   "id": "5d1aad6f",
   "metadata": {},
   "source": [
    "=> 앞 아이템 기반 협업 필터링 결과와는 추천된 영화가 많이 다르다"
   ]
  }
 ],
 "metadata": {
  "kernelspec": {
   "display_name": "Python 3 (ipykernel)",
   "language": "python",
   "name": "python3"
  },
  "language_info": {
   "codemirror_mode": {
    "name": "ipython",
    "version": 3
   },
   "file_extension": ".py",
   "mimetype": "text/x-python",
   "name": "python",
   "nbconvert_exporter": "python",
   "pygments_lexer": "ipython3",
   "version": "3.11.5"
  },
  "toc": {
   "base_numbering": 1,
   "nav_menu": {},
   "number_sections": true,
   "sideBar": true,
   "skip_h1_title": false,
   "title_cell": "Table of Contents",
   "title_sidebar": "Contents",
   "toc_cell": false,
   "toc_position": {
    "height": "calc(100% - 180px)",
    "left": "10px",
    "top": "150px",
    "width": "165px"
   },
   "toc_section_display": true,
   "toc_window_display": true
  }
 },
 "nbformat": 4,
 "nbformat_minor": 5
}
