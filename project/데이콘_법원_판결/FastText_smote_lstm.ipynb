{
 "cells": [
  {
   "cell_type": "markdown",
   "id": "ca94ce9d",
   "metadata": {},
   "source": [
    "# 라이브러리 불러오기"
   ]
  },
  {
   "cell_type": "code",
   "execution_count": 1,
   "id": "f77213fd",
   "metadata": {
    "ExecuteTime": {
     "end_time": "2024-03-18T02:21:54.029915Z",
     "start_time": "2024-03-18T02:21:54.027764Z"
    }
   },
   "outputs": [],
   "source": [
    "# ! pip install -U imbalanced-learn scikit-learn\n",
    "# !pip install gensim\n",
    "# ! pip install optuna"
   ]
  },
  {
   "cell_type": "code",
   "execution_count": 42,
   "id": "814f548f",
   "metadata": {
    "ExecuteTime": {
     "end_time": "2024-03-18T02:54:43.280825Z",
     "start_time": "2024-03-18T02:54:43.275266Z"
    }
   },
   "outputs": [],
   "source": [
    "import numpy as np\n",
    "import pandas as pd\n",
    "import re\n",
    "import nltk\n",
    "# nltk.download('stopwords')\n",
    "# nltk.download('wordnet')\n",
    "import matplotlib.pyplot as plt\n",
    "\n",
    "from gensim.models import FastText\n",
    "from keras.preprocessing.text import Tokenizer\n",
    "from nltk.tokenize import TreebankWordTokenizer # 표준 토큰화\n",
    "from nltk.corpus import stopwords # 불용어 제거\n",
    "from nltk.stem import WordNetLemmatizer # 기본 형태로 변환\n",
    "from imblearn.over_sampling import SMOTE # 비대칭이라 사용\n",
    "\n",
    "from sklearn.model_selection import train_test_split\n",
    "import tensorflow as tf\n",
    "from tensorflow.keras.models import Sequential\n",
    "from tensorflow.keras.layers import LSTM, Dropout, Dense, Embedding\n",
    "from tensorflow.keras.initializers import Constant\n",
    "import optuna\n",
    "from tensorflow.keras.layers import LSTM\n",
    "from tensorflow.keras.optimizers import Adam, RMSprop\n",
    "from tensorflow.keras.callbacks import EarlyStopping\n",
    "from sklearn.metrics import roc_curve, auc\n",
    "from sklearn.metrics import accuracy_score\n",
    "\n",
    "import warnings\n",
    "warnings.filterwarnings('ignore')"
   ]
  },
  {
   "cell_type": "markdown",
   "id": "35f21329",
   "metadata": {},
   "source": [
    "# 데이터 불러오기"
   ]
  },
  {
   "cell_type": "code",
   "execution_count": 3,
   "id": "9eb5a900",
   "metadata": {
    "ExecuteTime": {
     "end_time": "2024-03-18T02:22:00.595902Z",
     "start_time": "2024-03-18T02:22:00.544966Z"
    }
   },
   "outputs": [],
   "source": [
    "train_df = pd.read_csv('./data/train.csv')\n",
    "test_df = pd.read_csv('./data/test.csv')\n",
    "submission_df = pd.read_csv('./data/sample_submission.csv')"
   ]
  },
  {
   "cell_type": "code",
   "execution_count": 4,
   "id": "933ebd82",
   "metadata": {
    "ExecuteTime": {
     "end_time": "2024-03-18T02:22:00.611215Z",
     "start_time": "2024-03-18T02:22:00.597412Z"
    }
   },
   "outputs": [
    {
     "data": {
      "text/html": [
       "<div>\n",
       "<style scoped>\n",
       "    .dataframe tbody tr th:only-of-type {\n",
       "        vertical-align: middle;\n",
       "    }\n",
       "\n",
       "    .dataframe tbody tr th {\n",
       "        vertical-align: top;\n",
       "    }\n",
       "\n",
       "    .dataframe thead th {\n",
       "        text-align: right;\n",
       "    }\n",
       "</style>\n",
       "<table border=\"1\" class=\"dataframe\">\n",
       "  <thead>\n",
       "    <tr style=\"text-align: right;\">\n",
       "      <th></th>\n",
       "      <th>ID</th>\n",
       "      <th>first_party</th>\n",
       "      <th>second_party</th>\n",
       "      <th>facts</th>\n",
       "      <th>first_party_winner</th>\n",
       "    </tr>\n",
       "  </thead>\n",
       "  <tbody>\n",
       "    <tr>\n",
       "      <th>0</th>\n",
       "      <td>TRAIN_0000</td>\n",
       "      <td>Phil A. St. Amant</td>\n",
       "      <td>Herman A. Thompson</td>\n",
       "      <td>On June 27, 1962, Phil St. Amant, a candidate ...</td>\n",
       "      <td>1</td>\n",
       "    </tr>\n",
       "    <tr>\n",
       "      <th>1</th>\n",
       "      <td>TRAIN_0001</td>\n",
       "      <td>Stephen Duncan</td>\n",
       "      <td>Lawrence Owens</td>\n",
       "      <td>Ramon Nelson was riding his bike when he suffe...</td>\n",
       "      <td>0</td>\n",
       "    </tr>\n",
       "    <tr>\n",
       "      <th>2</th>\n",
       "      <td>TRAIN_0002</td>\n",
       "      <td>Billy Joe Magwood</td>\n",
       "      <td>Tony Patterson, Warden, et al.</td>\n",
       "      <td>An Alabama state court convicted Billy Joe Mag...</td>\n",
       "      <td>1</td>\n",
       "    </tr>\n",
       "    <tr>\n",
       "      <th>3</th>\n",
       "      <td>TRAIN_0003</td>\n",
       "      <td>Linkletter</td>\n",
       "      <td>Walker</td>\n",
       "      <td>Victor Linkletter was convicted in state court...</td>\n",
       "      <td>0</td>\n",
       "    </tr>\n",
       "    <tr>\n",
       "      <th>4</th>\n",
       "      <td>TRAIN_0004</td>\n",
       "      <td>William Earl Fikes</td>\n",
       "      <td>Alabama</td>\n",
       "      <td>On April 24, 1953 in Selma, Alabama, an intrud...</td>\n",
       "      <td>1</td>\n",
       "    </tr>\n",
       "  </tbody>\n",
       "</table>\n",
       "</div>"
      ],
      "text/plain": [
       "           ID         first_party                    second_party  \\\n",
       "0  TRAIN_0000   Phil A. St. Amant              Herman A. Thompson   \n",
       "1  TRAIN_0001      Stephen Duncan                  Lawrence Owens   \n",
       "2  TRAIN_0002   Billy Joe Magwood  Tony Patterson, Warden, et al.   \n",
       "3  TRAIN_0003          Linkletter                          Walker   \n",
       "4  TRAIN_0004  William Earl Fikes                         Alabama   \n",
       "\n",
       "                                               facts  first_party_winner  \n",
       "0  On June 27, 1962, Phil St. Amant, a candidate ...                   1  \n",
       "1  Ramon Nelson was riding his bike when he suffe...                   0  \n",
       "2  An Alabama state court convicted Billy Joe Mag...                   1  \n",
       "3  Victor Linkletter was convicted in state court...                   0  \n",
       "4  On April 24, 1953 in Selma, Alabama, an intrud...                   1  "
      ]
     },
     "metadata": {},
     "output_type": "display_data"
    },
    {
     "data": {
      "text/html": [
       "<div>\n",
       "<style scoped>\n",
       "    .dataframe tbody tr th:only-of-type {\n",
       "        vertical-align: middle;\n",
       "    }\n",
       "\n",
       "    .dataframe tbody tr th {\n",
       "        vertical-align: top;\n",
       "    }\n",
       "\n",
       "    .dataframe thead th {\n",
       "        text-align: right;\n",
       "    }\n",
       "</style>\n",
       "<table border=\"1\" class=\"dataframe\">\n",
       "  <thead>\n",
       "    <tr style=\"text-align: right;\">\n",
       "      <th></th>\n",
       "      <th>ID</th>\n",
       "      <th>first_party</th>\n",
       "      <th>second_party</th>\n",
       "      <th>facts</th>\n",
       "    </tr>\n",
       "  </thead>\n",
       "  <tbody>\n",
       "    <tr>\n",
       "      <th>0</th>\n",
       "      <td>TEST_0000</td>\n",
       "      <td>Salerno</td>\n",
       "      <td>United States</td>\n",
       "      <td>The 1984 Bail Reform Act allowed the federal c...</td>\n",
       "    </tr>\n",
       "    <tr>\n",
       "      <th>1</th>\n",
       "      <td>TEST_0001</td>\n",
       "      <td>Milberg Weiss Bershad Hynes and Lerach</td>\n",
       "      <td>Lexecon, Inc.</td>\n",
       "      <td>Lexecon Inc. was a defendant in a class action...</td>\n",
       "    </tr>\n",
       "    <tr>\n",
       "      <th>2</th>\n",
       "      <td>TEST_0002</td>\n",
       "      <td>No. 07-582\\t Title: \\t Federal Communications ...</td>\n",
       "      <td>Fox Television Stations, Inc., et al.</td>\n",
       "      <td>In 2002 and 2003, Fox Television Stations broa...</td>\n",
       "    </tr>\n",
       "    <tr>\n",
       "      <th>3</th>\n",
       "      <td>TEST_0003</td>\n",
       "      <td>Harold Kaufman</td>\n",
       "      <td>United States</td>\n",
       "      <td>During his trial for armed robbery of a federa...</td>\n",
       "    </tr>\n",
       "    <tr>\n",
       "      <th>4</th>\n",
       "      <td>TEST_0004</td>\n",
       "      <td>Berger</td>\n",
       "      <td>Hanlon</td>\n",
       "      <td>In 1993, a magistrate judge issued a warrant a...</td>\n",
       "    </tr>\n",
       "  </tbody>\n",
       "</table>\n",
       "</div>"
      ],
      "text/plain": [
       "          ID                                        first_party  \\\n",
       "0  TEST_0000                                            Salerno   \n",
       "1  TEST_0001             Milberg Weiss Bershad Hynes and Lerach   \n",
       "2  TEST_0002  No. 07-582\\t Title: \\t Federal Communications ...   \n",
       "3  TEST_0003                                    Harold Kaufman    \n",
       "4  TEST_0004                                             Berger   \n",
       "\n",
       "                            second_party  \\\n",
       "0                          United States   \n",
       "1                          Lexecon, Inc.   \n",
       "2  Fox Television Stations, Inc., et al.   \n",
       "3                          United States   \n",
       "4                                 Hanlon   \n",
       "\n",
       "                                               facts  \n",
       "0  The 1984 Bail Reform Act allowed the federal c...  \n",
       "1  Lexecon Inc. was a defendant in a class action...  \n",
       "2  In 2002 and 2003, Fox Television Stations broa...  \n",
       "3  During his trial for armed robbery of a federa...  \n",
       "4  In 1993, a magistrate judge issued a warrant a...  "
      ]
     },
     "metadata": {},
     "output_type": "display_data"
    }
   ],
   "source": [
    "display(train_df.head())\n",
    "display(test_df.head())"
   ]
  },
  {
   "cell_type": "code",
   "execution_count": 5,
   "id": "2ce88281",
   "metadata": {
    "ExecuteTime": {
     "end_time": "2024-03-18T02:22:00.617205Z",
     "start_time": "2024-03-18T02:22:00.612218Z"
    }
   },
   "outputs": [
    {
     "data": {
      "text/plain": [
       "first_party_winner\n",
       "0     829\n",
       "1    1649\n",
       "dtype: int64"
      ]
     },
     "execution_count": 5,
     "metadata": {},
     "output_type": "execute_result"
    }
   ],
   "source": [
    "train_df.groupby('first_party_winner').size()"
   ]
  },
  {
   "cell_type": "markdown",
   "id": "4ce13b7f",
   "metadata": {},
   "source": [
    "# 데이터 전처리"
   ]
  },
  {
   "cell_type": "markdown",
   "id": "621cab20",
   "metadata": {},
   "source": [
    "## 단어 처리"
   ]
  },
  {
   "cell_type": "code",
   "execution_count": 6,
   "id": "a24a9219",
   "metadata": {
    "ExecuteTime": {
     "end_time": "2024-03-18T02:22:00.623244Z",
     "start_time": "2024-03-18T02:22:00.618713Z"
    }
   },
   "outputs": [],
   "source": [
    "# 문자 처리\n",
    "cat_cols = ['first_party', 'second_party', 'facts']\n",
    "\n",
    "# \\b : 단어 경계, W* : 길이가 0이상이고 단어가 아닌 문자, w{1} : 길이가 1인 단어\n",
    "short_word = re.compile(r'\\W*\\b\\w{1}\\b') # 길이가 1인 단어 찾기\n",
    "tokenizer = TreebankWordTokenizer() # 단어 단위로 토큰화\n",
    "stopword = stopwords.words('english') # 불용어 리스트 가져오기\n",
    "lemmatizer = WordNetLemmatizer() # 단어의 기본 형태 가져오기"
   ]
  },
  {
   "cell_type": "code",
   "execution_count": 7,
   "id": "229dfb19",
   "metadata": {
    "ExecuteTime": {
     "end_time": "2024-03-18T02:22:00.628174Z",
     "start_time": "2024-03-18T02:22:00.624248Z"
    }
   },
   "outputs": [],
   "source": [
    "def prepro1(df):\n",
    "        df = df.strip() # 공백 제거\n",
    "        df = df.lower() # 소문자로 변경\n",
    "        df = df.replace(',', '')\n",
    "        df = df.replace('.', '')\n",
    "        \n",
    "\n",
    "        content = short_word.sub('', df) # 한 글자 단어 제거\n",
    "        com = re.compile(r\"[^\\uAC00-\\uD7A30-9a-zA-Z\\s]\") # 한글, 영어, 숫자 및 공백 문자를 제외한 모든 문자를 매칭\n",
    "        content = com.sub('', content)\n",
    "        tokens = tokenizer.tokenize(content) # 단어 토큰화\n",
    "        token_lst = []\n",
    "\n",
    "        for token in tokens:\n",
    "            if token not in stopword: #불용어 제거\n",
    "                token_lst.append(lemmatizer.lemmatize(token, 'n')) # 단어의 기본 형태 가져오기\n",
    "        return token_lst"
   ]
  },
  {
   "cell_type": "code",
   "execution_count": 8,
   "id": "c9711d45",
   "metadata": {
    "ExecuteTime": {
     "end_time": "2024-03-18T02:22:06.108809Z",
     "start_time": "2024-03-18T02:22:00.629345Z"
    }
   },
   "outputs": [],
   "source": [
    "train_df['first_party'] = train_df['first_party'].apply(prepro1)\n",
    "train_df['second_party'] = train_df['second_party'].apply(prepro1)\n",
    "train_df['facts'] = train_df['facts'].apply(prepro1)\n",
    "\n",
    "test_df['first_party'] = test_df['first_party'].apply(prepro1)\n",
    "test_df['second_party'] = test_df['second_party'].apply(prepro1)\n",
    "test_df['facts'] = test_df['facts'].apply(prepro1)"
   ]
  },
  {
   "cell_type": "code",
   "execution_count": 9,
   "id": "2b862288",
   "metadata": {
    "ExecuteTime": {
     "end_time": "2024-03-18T02:22:06.114584Z",
     "start_time": "2024-03-18T02:22:06.111807Z"
    }
   },
   "outputs": [],
   "source": [
    "all_text = train_df['first_party'].tolist() + train_df['second_party'].tolist() + train_df['facts'].tolist()"
   ]
  },
  {
   "cell_type": "code",
   "execution_count": 10,
   "id": "794fa586",
   "metadata": {
    "ExecuteTime": {
     "end_time": "2024-03-18T02:22:06.162074Z",
     "start_time": "2024-03-18T02:22:06.115588Z"
    }
   },
   "outputs": [],
   "source": [
    "train_word_counts = train_df['facts'].apply(lambda x : len(str(x).split()))"
   ]
  },
  {
   "cell_type": "code",
   "execution_count": 11,
   "id": "b0f6b214",
   "metadata": {
    "ExecuteTime": {
     "end_time": "2024-03-18T02:22:06.339858Z",
     "start_time": "2024-03-18T02:22:06.163076Z"
    }
   },
   "outputs": [
    {
     "data": {
      "image/png": "[encoded data removed]",
      "text/plain": [
       "<Figure size 1000x600 with 1 Axes>"
      ]
     },
     "metadata": {},
     "output_type": "display_data"
    }
   ],
   "source": [
    "plt.figure(figsize=(10, 6))\n",
    "plt.hist(train_word_counts, bins=20, edgecolor='black')\n",
    "plt.xlabel('Word Count')\n",
    "plt.ylabel('Frequency')\n",
    "plt.title('Distribution of Word Count')\n",
    "plt.show()"
   ]
  },
  {
   "cell_type": "markdown",
   "id": "e2bd40f3",
   "metadata": {},
   "source": [
    "## fasttext"
   ]
  },
  {
   "cell_type": "markdown",
   "id": "dce4831b",
   "metadata": {},
   "source": [
    "'FastText'를 사용해 사전 훈련된 단어 임베딩을 가져오고, 이를 사용해 keras의 임베딩 레이어를 초기화한다\n",
    "\n",
    "=> FastText 모델에서 얻은 단어 임베딩을 임베딩 행렬로 저장하고 있습니다. 이러한 저장된 임베딩 행렬은 후에 모델을 구축할 때 사용"
   ]
  },
  {
   "cell_type": "code",
   "execution_count": 12,
   "id": "a48c48f1",
   "metadata": {
    "ExecuteTime": {
     "end_time": "2024-03-18T02:22:13.422935Z",
     "start_time": "2024-03-18T02:22:06.340863Z"
    }
   },
   "outputs": [],
   "source": [
    "model = FastText(all_text, vector_size = 100, window = 5, min_count = 1, workers = 4, sg = 1)\n",
    "\n",
    "# tokenizer를 사용해 단어 인덱스를 생성\n",
    "tokenizer = Tokenizer()\n",
    "tokenizer.fit_on_texts(all_text)\n",
    "word_index = tokenizer.word_index"
   ]
  },
  {
   "cell_type": "code",
   "execution_count": 13,
   "id": "69853a6d",
   "metadata": {
    "ExecuteTime": {
     "end_time": "2024-03-18T02:22:13.427964Z",
     "start_time": "2024-03-18T02:22:13.423934Z"
    }
   },
   "outputs": [],
   "source": [
    "embedding_dim = 100"
   ]
  },
  {
   "cell_type": "code",
   "execution_count": 14,
   "id": "244a886a",
   "metadata": {
    "ExecuteTime": {
     "end_time": "2024-03-18T02:22:13.471117Z",
     "start_time": "2024-03-18T02:22:13.429453Z"
    }
   },
   "outputs": [],
   "source": [
    "# embedding matrix\n",
    "\n",
    "embedding_matrix = np.zeros((len(word_index) + 1, embedding_dim)) # 단어 수 X 임베딩 차원\n",
    "\n",
    "for word, i in word_index.items():\n",
    "    if word in model.wv:\n",
    "        embedding_vec = model.wv[word]\n",
    "        embedding_matrix[i] = embedding_vec"
   ]
  },
  {
   "cell_type": "code",
   "execution_count": 15,
   "id": "12050b35",
   "metadata": {
    "ExecuteTime": {
     "end_time": "2024-03-18T02:22:13.645967Z",
     "start_time": "2024-03-18T02:22:13.472118Z"
    }
   },
   "outputs": [
    {
     "name": "stdout",
     "output_type": "stream",
     "text": [
      "WARNING:tensorflow:From C:\\Users\\mit005\\anaconda3\\Lib\\site-packages\\keras\\src\\backend.py:873: The name tf.get_default_graph is deprecated. Please use tf.compat.v1.get_default_graph instead.\n",
      "\n"
     ]
    }
   ],
   "source": [
    "# embeddings_initializer : 임베딩 레이어의 가중치를 초기화\n",
    "# trainable = Fasle : 사전 훈련된 임베딩을 고정\n",
    "embedding_layer = Embedding(len(word_index) + 1, embedding_dim, embeddings_initializer = Constant(embedding_matrix), trainable = False)"
   ]
  },
  {
   "cell_type": "code",
   "execution_count": 16,
   "id": "6d5e04db",
   "metadata": {
    "ExecuteTime": {
     "end_time": "2024-03-18T02:22:13.651072Z",
     "start_time": "2024-03-18T02:22:13.645967Z"
    }
   },
   "outputs": [],
   "source": [
    "def get_vec(model, texts):\n",
    "    vects = []\n",
    "    \n",
    "    for text in texts:\n",
    "        text_vects = []\n",
    "        for word in text:\n",
    "            if word in model.wv.key_to_index:\n",
    "                text_vects.append(model.wv.get_vector(word))\n",
    "        if len(text_vects) > 0:\n",
    "            text_vects = np.mean(text_vects, axis = 0)\n",
    "            vects.append(text_vects)\n",
    "        else:\n",
    "            vects.append(np.zeros(model.vector_size))\n",
    "    \n",
    "    return np.array(vects)"
   ]
  },
  {
   "cell_type": "code",
   "execution_count": 17,
   "id": "5f7a9b14",
   "metadata": {
    "ExecuteTime": {
     "end_time": "2024-03-18T02:22:14.175511Z",
     "start_time": "2024-03-18T02:22:13.652098Z"
    }
   },
   "outputs": [],
   "source": [
    "X_train_first = get_vec(model, train_df['first_party'])\n",
    "X_train_second = get_vec(model, train_df['second_party'])\n",
    "X_train_facts = get_vec(model, train_df['facts'])\n",
    "\n",
    "X_train = np.concatenate([X_train_first, X_train_second, X_train_facts], axis = 1)\n",
    "y_train = train_df['first_party_winner']"
   ]
  },
  {
   "cell_type": "code",
   "execution_count": 18,
   "id": "8f11ad7c",
   "metadata": {
    "ExecuteTime": {
     "end_time": "2024-03-18T02:22:14.427892Z",
     "start_time": "2024-03-18T02:22:14.176514Z"
    }
   },
   "outputs": [],
   "source": [
    "X_test_first = get_vec(model, test_df['first_party'])\n",
    "X_test_second = get_vec(model, test_df['second_party'])\n",
    "X_test_facts = get_vec(model, test_df['facts'])\n",
    "\n",
    "X_test = np.concatenate([X_test_first, X_test_second, X_test_facts], axis = 1)"
   ]
  },
  {
   "cell_type": "markdown",
   "id": "b2b51c7b",
   "metadata": {},
   "source": [
    "## 불균형 데이터 처리"
   ]
  },
  {
   "cell_type": "code",
   "execution_count": 19,
   "id": "51bb91ec",
   "metadata": {
    "ExecuteTime": {
     "end_time": "2024-03-18T02:22:14.623632Z",
     "start_time": "2024-03-18T02:22:14.429129Z"
    }
   },
   "outputs": [
    {
     "name": "stdout",
     "output_type": "stream",
     "text": [
      "train shape : (3298, 300), (3298,)\n"
     ]
    }
   ],
   "source": [
    "X_smote, y_smote = smote = SMOTE(k_neighbors=5).fit_resample(X_train, y_train)\n",
    "print('train shape : {}, {}'.format(X_smote.shape, y_smote.shape))"
   ]
  },
  {
   "cell_type": "code",
   "execution_count": 20,
   "id": "82c0e7a5",
   "metadata": {
    "ExecuteTime": {
     "end_time": "2024-03-18T02:22:14.628858Z",
     "start_time": "2024-03-18T02:22:14.624636Z"
    }
   },
   "outputs": [
    {
     "data": {
      "text/plain": [
       "first_party_winner\n",
       "1    1649\n",
       "0    1649\n",
       "Name: count, dtype: int64"
      ]
     },
     "execution_count": 20,
     "metadata": {},
     "output_type": "execute_result"
    }
   ],
   "source": [
    "y_smote.value_counts()"
   ]
  },
  {
   "cell_type": "markdown",
   "id": "3ec92e12",
   "metadata": {},
   "source": [
    "## train데이터 셋으로 train, val 데이터 셋으로 분리"
   ]
  },
  {
   "cell_type": "code",
   "execution_count": 23,
   "id": "bb7cb7cb",
   "metadata": {
    "ExecuteTime": {
     "end_time": "2024-03-18T02:22:57.150514Z",
     "start_time": "2024-03-18T02:22:57.141327Z"
    }
   },
   "outputs": [
    {
     "name": "stdout",
     "output_type": "stream",
     "text": [
      "Train shape : (2638, 300), (2638,)\n",
      "first_party_winner\n",
      "1    1328\n",
      "0    1310\n",
      "Name: count, dtype: int64\n",
      "\n",
      "Validation shape : (660, 300), (660,)\n",
      "first_party_winner\n",
      "0    339\n",
      "1    321\n",
      "Name: count, dtype: int64\n"
     ]
    }
   ],
   "source": [
    "X_train, X_val, y_train, y_val = train_test_split(X_smote, y_smote, random_state = 123, test_size = 0.2)\n",
    "\n",
    "print('Train shape : {}, {}'.format(X_train.shape, y_train.shape))\n",
    "print(y_train.value_counts())\n",
    "\n",
    "print()\n",
    "\n",
    "print('Validation shape : {}, {}'.format(X_val.shape, y_val.shape))\n",
    "print(y_val.value_counts())"
   ]
  },
  {
   "cell_type": "markdown",
   "id": "df20ff3a",
   "metadata": {},
   "source": [
    "LSTM 모델은 일반적으로 시퀀스 데이터를 처리하기 위해 사용\n",
    "\n",
    "첫 번째 축은 시간(또는 순서)을 나타내며, 두 번째 축은 각 시간 단계에서의 특성"
   ]
  },
  {
   "cell_type": "code",
   "execution_count": 24,
   "id": "89e41a8a",
   "metadata": {
    "ExecuteTime": {
     "end_time": "2024-03-18T02:23:02.354255Z",
     "start_time": "2024-03-18T02:23:02.350812Z"
    }
   },
   "outputs": [],
   "source": [
    "# 차원 변경\n",
    "\n",
    "X_train = X_train.reshape((X_train.shape[0], 1, X_train.shape[1]))\n",
    "X_test = X_test.reshape((X_test.shape[0], 1, X_test.shape[1]))\n",
    "X_val = X_val.reshape((X_val.shape[0], 1, X_val.shape[1]))"
   ]
  },
  {
   "cell_type": "code",
   "execution_count": 25,
   "id": "50f6b8a8",
   "metadata": {
    "ExecuteTime": {
     "end_time": "2024-03-18T02:23:02.360262Z",
     "start_time": "2024-03-18T02:23:02.356257Z"
    }
   },
   "outputs": [
    {
     "data": {
      "text/plain": [
       "array([[[ 0.31194837,  0.27364239,  0.01110053, ..., -0.19925521,\n",
       "          0.25968043, -0.122569  ]],\n",
       "\n",
       "       [[ 0.23376292,  0.2848382 ,  0.01916013, ..., -0.20334661,\n",
       "          0.15123178, -0.1463282 ]],\n",
       "\n",
       "       [[ 0.11905758,  0.273076  , -0.01880432, ..., -0.21249157,\n",
       "          0.20033471, -0.13789837]],\n",
       "\n",
       "       ...,\n",
       "\n",
       "       [[ 0.01327598,  0.41555178, -0.03674068, ..., -0.1776814 ,\n",
       "          0.1682438 , -0.17887962]],\n",
       "\n",
       "       [[ 0.11745941,  0.28852636, -0.00296483, ..., -0.22657515,\n",
       "          0.23252626, -0.03372931]],\n",
       "\n",
       "       [[ 0.08467024,  0.42117086,  0.02608128, ..., -0.1753509 ,\n",
       "          0.21896413, -0.12593327]]])"
      ]
     },
     "execution_count": 25,
     "metadata": {},
     "output_type": "execute_result"
    }
   ],
   "source": [
    "X_train"
   ]
  },
  {
   "cell_type": "markdown",
   "id": "4ee94189",
   "metadata": {},
   "source": [
    "# 모델링"
   ]
  },
  {
   "cell_type": "code",
   "execution_count": 31,
   "id": "b3a69075",
   "metadata": {
    "ExecuteTime": {
     "end_time": "2024-03-18T02:28:08.997118Z",
     "start_time": "2024-03-18T02:28:08.990654Z"
    }
   },
   "outputs": [],
   "source": [
    "# Optuna를 사용하여 하이퍼파라미터 튜닝을 수행하기 위한 것\n",
    "\n",
    "def objective(trial):\n",
    "    units = trial.suggest_int('units', 32, 64, 128)\n",
    "    learning_rate = trial.suggest_loguniform('learning_rate', 1e-5, 1e-1)\n",
    "    dropout_rate = trial.suggest_uniform('dropout_rate', 0.0, 0.5)\n",
    "    batch_size = trial.suggest_categorical('batch_size', [16, 32, 64])\n",
    "    optimizer = Adam(learning_rate = learning_rate)\n",
    "    \n",
    "    model = Sequential()\n",
    "    model.add(LSTM(units, return_sequences = True, input_shape = (1, X_train.shape[2])))\n",
    "    model.add(Dropout(dropout_rate))\n",
    "    model.add(LSTM(units))\n",
    "    model.add(Dropout(dropout_rate))\n",
    "    model.add(Dense(1, activation = 'sigmoid'))\n",
    "    \n",
    "    model.compile(optimizer = optimizer, loss = 'binary_crossentropy', metrics = ['accuracy'])\n",
    "    \n",
    "    callbacks = [EarlyStopping(monitor = 'val_loss', mode = 'min', patience = 50, verbose = 1)]\n",
    "    model.fit(X_train, y_train, epochs = 100, batch_size = batch_size, validation_data = (X_val, y_val), verbose = 0, callbacks = callbacks)\n",
    "    accuracy = model.evaluate(X_val, y_val, verbose = 0)[1]\n",
    "    \n",
    "    return accuracy"
   ]
  },
  {
   "cell_type": "code",
   "execution_count": 32,
   "id": "d0f521d1",
   "metadata": {
    "ExecuteTime": {
     "end_time": "2024-03-18T02:49:35.729529Z",
     "start_time": "2024-03-18T02:28:10.642384Z"
    },
    "scrolled": true
   },
   "outputs": [
    {
     "name": "stderr",
     "output_type": "stream",
     "text": [
      "[I 2024-03-18 11:28:10,644] A new study created in memory with name: no-name-0d58b2a3-23dc-4780-abc5-9a62b6dcb7a6\n",
      "[I 2024-03-18 11:28:54,500] Trial 0 finished with value: 0.5833333134651184 and parameters: {'units': 32, 'learning_rate': 4.600128515123686e-05, 'dropout_rate': 0.040045945358384794, 'batch_size': 16}. Best is trial 0 with value: 0.5833333134651184.\n",
      "[I 2024-03-18 11:29:10,569] Trial 1 finished with value: 0.6257575750350952 and parameters: {'units': 32, 'learning_rate': 0.00041162167490068247, 'dropout_rate': 0.14996944879651364, 'batch_size': 64}. Best is trial 1 with value: 0.6257575750350952.\n",
      "[I 2024-03-18 11:29:35,041] Trial 2 finished with value: 0.6378787755966187 and parameters: {'units': 32, 'learning_rate': 0.002032216360680544, 'dropout_rate': 0.42937422792627433, 'batch_size': 32}. Best is trial 2 with value: 0.6378787755966187.\n",
      "[I 2024-03-18 11:30:16,967] Trial 3 finished with value: 0.6227272748947144 and parameters: {'units': 32, 'learning_rate': 0.00022783939519925345, 'dropout_rate': 0.326013211010013, 'batch_size': 16}. Best is trial 2 with value: 0.6378787755966187.\n",
      "[I 2024-03-18 11:30:33,306] Trial 4 finished with value: 0.6469696760177612 and parameters: {'units': 32, 'learning_rate': 0.006807134883056365, 'dropout_rate': 0.19177992666115357, 'batch_size': 64}. Best is trial 4 with value: 0.6469696760177612.\n",
      "[I 2024-03-18 11:31:17,683] Trial 5 finished with value: 0.6833333373069763 and parameters: {'units': 32, 'learning_rate': 0.0015963602271938254, 'dropout_rate': 0.28919930389648, 'batch_size': 16}. Best is trial 5 with value: 0.6833333373069763.\n",
      "[I 2024-03-18 11:32:01,544] Trial 6 finished with value: 0.571212112903595 and parameters: {'units': 32, 'learning_rate': 2.4210165451952035e-05, 'dropout_rate': 0.03149092397655856, 'batch_size': 16}. Best is trial 5 with value: 0.6833333373069763.\n"
     ]
    },
    {
     "name": "stdout",
     "output_type": "stream",
     "text": [
      "Epoch 52: early stopping\n"
     ]
    },
    {
     "name": "stderr",
     "output_type": "stream",
     "text": [
      "[I 2024-03-18 11:32:26,215] Trial 7 finished with value: 0.48636364936828613 and parameters: {'units': 32, 'learning_rate': 0.018611318286525562, 'dropout_rate': 0.1362405604693666, 'batch_size': 16}. Best is trial 5 with value: 0.6833333373069763.\n",
      "[I 2024-03-18 11:33:10,013] Trial 8 finished with value: 0.6742424368858337 and parameters: {'units': 32, 'learning_rate': 0.001111448418071236, 'dropout_rate': 0.260967936954699, 'batch_size': 16}. Best is trial 5 with value: 0.6833333373069763.\n",
      "[I 2024-03-18 11:33:36,204] Trial 9 finished with value: 0.5757575631141663 and parameters: {'units': 32, 'learning_rate': 5.08728587226915e-05, 'dropout_rate': 0.25732979139770185, 'batch_size': 32}. Best is trial 5 with value: 0.6833333373069763.\n",
      "[I 2024-03-18 11:34:03,623] Trial 10 finished with value: 0.5136363506317139 and parameters: {'units': 32, 'learning_rate': 0.07768987594279271, 'dropout_rate': 0.48634273125324423, 'batch_size': 32}. Best is trial 5 with value: 0.6833333373069763.\n",
      "[I 2024-03-18 11:34:48,922] Trial 11 finished with value: 0.6590909361839294 and parameters: {'units': 32, 'learning_rate': 0.0022741852965378734, 'dropout_rate': 0.3291763439276775, 'batch_size': 16}. Best is trial 5 with value: 0.6833333373069763.\n",
      "[I 2024-03-18 11:35:45,728] Trial 12 finished with value: 0.6378787755966187 and parameters: {'units': 32, 'learning_rate': 0.0005546318715433483, 'dropout_rate': 0.3063756501705669, 'batch_size': 16}. Best is trial 5 with value: 0.6833333373069763.\n",
      "[I 2024-03-18 11:36:31,427] Trial 13 finished with value: 0.5545454621315002 and parameters: {'units': 32, 'learning_rate': 0.007744991892156374, 'dropout_rate': 0.39042679002338676, 'batch_size': 16}. Best is trial 5 with value: 0.6833333373069763.\n",
      "[I 2024-03-18 11:37:15,876] Trial 14 finished with value: 0.6212121248245239 and parameters: {'units': 32, 'learning_rate': 0.00017421885277429827, 'dropout_rate': 0.2069103249693135, 'batch_size': 16}. Best is trial 5 with value: 0.6833333373069763.\n",
      "[I 2024-03-18 11:37:33,440] Trial 15 finished with value: 0.678787887096405 and parameters: {'units': 32, 'learning_rate': 0.001475060106947774, 'dropout_rate': 0.23353565579847324, 'batch_size': 64}. Best is trial 5 with value: 0.6833333373069763.\n",
      "[I 2024-03-18 11:37:51,121] Trial 16 finished with value: 0.6606060862541199 and parameters: {'units': 32, 'learning_rate': 0.0076048649590776925, 'dropout_rate': 0.10836776208563104, 'batch_size': 64}. Best is trial 5 with value: 0.6833333373069763.\n",
      "[I 2024-03-18 11:38:08,964] Trial 17 finished with value: 0.5136363506317139 and parameters: {'units': 32, 'learning_rate': 0.03585153556843045, 'dropout_rate': 0.3632919230530241, 'batch_size': 64}. Best is trial 5 with value: 0.6833333373069763.\n",
      "[I 2024-03-18 11:38:26,291] Trial 18 finished with value: 0.6878787875175476 and parameters: {'units': 32, 'learning_rate': 0.002540600796738386, 'dropout_rate': 0.2063387748183269, 'batch_size': 64}. Best is trial 18 with value: 0.6878787875175476.\n",
      "[I 2024-03-18 11:38:44,809] Trial 19 finished with value: 0.6924242377281189 and parameters: {'units': 32, 'learning_rate': 0.003555405542643335, 'dropout_rate': 0.09308934561660917, 'batch_size': 64}. Best is trial 19 with value: 0.6924242377281189.\n",
      "[I 2024-03-18 11:39:02,422] Trial 20 finished with value: 0.6863636374473572 and parameters: {'units': 32, 'learning_rate': 0.005787012866787649, 'dropout_rate': 0.0818281796730817, 'batch_size': 64}. Best is trial 19 with value: 0.6924242377281189.\n",
      "[I 2024-03-18 11:39:19,926] Trial 21 finished with value: 0.6424242258071899 and parameters: {'units': 32, 'learning_rate': 0.0044623398669038465, 'dropout_rate': 0.07956743748972155, 'batch_size': 64}. Best is trial 19 with value: 0.6924242377281189.\n",
      "[I 2024-03-18 11:39:37,333] Trial 22 finished with value: 0.5909090638160706 and parameters: {'units': 32, 'learning_rate': 0.01347326470122603, 'dropout_rate': 0.07642941039634912, 'batch_size': 64}. Best is trial 19 with value: 0.6924242377281189.\n",
      "[I 2024-03-18 11:39:54,717] Trial 23 finished with value: 0.6515151262283325 and parameters: {'units': 32, 'learning_rate': 0.004197324162217998, 'dropout_rate': 0.001822589022996049, 'batch_size': 64}. Best is trial 19 with value: 0.6924242377281189.\n",
      "[I 2024-03-18 11:40:12,410] Trial 24 finished with value: 0.5939394235610962 and parameters: {'units': 32, 'learning_rate': 0.022165698801223377, 'dropout_rate': 0.1623690848952417, 'batch_size': 64}. Best is trial 19 with value: 0.6924242377281189.\n",
      "[I 2024-03-18 11:40:30,828] Trial 25 finished with value: 0.6712121367454529 and parameters: {'units': 32, 'learning_rate': 0.003662357328872632, 'dropout_rate': 0.09954701977602716, 'batch_size': 64}. Best is trial 19 with value: 0.6924242377281189.\n",
      "[I 2024-03-18 11:40:49,075] Trial 26 finished with value: 0.6181818246841431 and parameters: {'units': 32, 'learning_rate': 0.0006523175016782242, 'dropout_rate': 0.18041717178708408, 'batch_size': 64}. Best is trial 19 with value: 0.6924242377281189.\n"
     ]
    },
    {
     "name": "stdout",
     "output_type": "stream",
     "text": [
      "Epoch 54: early stopping\n"
     ]
    },
    {
     "name": "stderr",
     "output_type": "stream",
     "text": [
      "[I 2024-03-18 11:41:00,610] Trial 27 finished with value: 0.5136363506317139 and parameters: {'units': 32, 'learning_rate': 0.03887198090089157, 'dropout_rate': 0.121955336640932, 'batch_size': 64}. Best is trial 19 with value: 0.6924242377281189.\n",
      "[I 2024-03-18 11:41:19,092] Trial 28 finished with value: 0.6227272748947144 and parameters: {'units': 32, 'learning_rate': 0.010672143385442633, 'dropout_rate': 0.05127035119531521, 'batch_size': 64}. Best is trial 19 with value: 0.6924242377281189.\n",
      "[I 2024-03-18 11:41:45,462] Trial 29 finished with value: 0.592424213886261 and parameters: {'units': 32, 'learning_rate': 0.00010479022329154741, 'dropout_rate': 0.0017455221774873991, 'batch_size': 32}. Best is trial 19 with value: 0.6924242377281189.\n",
      "[I 2024-03-18 11:42:03,438] Trial 30 finished with value: 0.6727272868156433 and parameters: {'units': 32, 'learning_rate': 0.003187927721221415, 'dropout_rate': 0.057720262382513474, 'batch_size': 64}. Best is trial 19 with value: 0.6924242377281189.\n",
      "[I 2024-03-18 11:42:20,828] Trial 31 finished with value: 0.668181836605072 and parameters: {'units': 32, 'learning_rate': 0.0011607595520598721, 'dropout_rate': 0.28666489637562814, 'batch_size': 64}. Best is trial 19 with value: 0.6924242377281189.\n",
      "[I 2024-03-18 11:42:38,206] Trial 32 finished with value: 0.6166666746139526 and parameters: {'units': 32, 'learning_rate': 0.000811347406078713, 'dropout_rate': 0.2092038431500647, 'batch_size': 64}. Best is trial 19 with value: 0.6924242377281189.\n",
      "[I 2024-03-18 11:43:04,594] Trial 33 finished with value: 0.6287878751754761 and parameters: {'units': 32, 'learning_rate': 0.00036813437886449414, 'dropout_rate': 0.15979540224101757, 'batch_size': 32}. Best is trial 19 with value: 0.6924242377281189.\n",
      "[I 2024-03-18 11:43:21,900] Trial 34 finished with value: 0.6666666865348816 and parameters: {'units': 32, 'learning_rate': 0.0023867931721592048, 'dropout_rate': 0.23089656156322952, 'batch_size': 64}. Best is trial 19 with value: 0.6924242377281189.\n",
      "[I 2024-03-18 11:44:03,445] Trial 35 finished with value: 0.6560605764389038 and parameters: {'units': 32, 'learning_rate': 0.0016301929294815466, 'dropout_rate': 0.28068766986083693, 'batch_size': 16}. Best is trial 19 with value: 0.6924242377281189.\n",
      "[I 2024-03-18 11:44:19,365] Trial 36 finished with value: 0.6075757741928101 and parameters: {'units': 32, 'learning_rate': 0.0003566104788899645, 'dropout_rate': 0.3355055635351927, 'batch_size': 64}. Best is trial 19 with value: 0.6924242377281189.\n",
      "[I 2024-03-18 11:44:58,770] Trial 37 finished with value: 0.5909090638160706 and parameters: {'units': 32, 'learning_rate': 0.005480608704722912, 'dropout_rate': 0.14364385764275586, 'batch_size': 16}. Best is trial 19 with value: 0.6924242377281189.\n"
     ]
    },
    {
     "name": "stdout",
     "output_type": "stream",
     "text": [
      "Epoch 95: early stopping\n"
     ]
    },
    {
     "name": "stderr",
     "output_type": "stream",
     "text": [
      "[I 2024-03-18 11:45:21,610] Trial 38 finished with value: 0.6863636374473572 and parameters: {'units': 32, 'learning_rate': 0.0020963202520388182, 'dropout_rate': 0.03506186745989193, 'batch_size': 32}. Best is trial 19 with value: 0.6924242377281189.\n"
     ]
    },
    {
     "name": "stdout",
     "output_type": "stream",
     "text": [
      "Epoch 92: early stopping\n"
     ]
    },
    {
     "name": "stderr",
     "output_type": "stream",
     "text": [
      "[I 2024-03-18 11:45:44,141] Trial 39 finished with value: 0.678787887096405 and parameters: {'units': 32, 'learning_rate': 0.0025609002471384465, 'dropout_rate': 0.025878192488303628, 'batch_size': 32}. Best is trial 19 with value: 0.6924242377281189.\n"
     ]
    },
    {
     "name": "stdout",
     "output_type": "stream",
     "text": [
      "Epoch 99: early stopping\n"
     ]
    },
    {
     "name": "stderr",
     "output_type": "stream",
     "text": [
      "[I 2024-03-18 11:46:09,009] Trial 40 finished with value: 0.592424213886261 and parameters: {'units': 32, 'learning_rate': 0.010090980543854109, 'dropout_rate': 0.08444474245931308, 'batch_size': 32}. Best is trial 19 with value: 0.6924242377281189.\n",
      "[I 2024-03-18 11:46:32,876] Trial 41 finished with value: 0.6848484873771667 and parameters: {'units': 32, 'learning_rate': 0.0016029300756219957, 'dropout_rate': 0.033944850896314716, 'batch_size': 32}. Best is trial 19 with value: 0.6924242377281189.\n",
      "[I 2024-03-18 11:46:56,853] Trial 42 finished with value: 0.710606038570404 and parameters: {'units': 32, 'learning_rate': 0.0011297879237680635, 'dropout_rate': 0.0300079121821481, 'batch_size': 32}. Best is trial 42 with value: 0.710606038570404.\n",
      "[I 2024-03-18 11:47:20,642] Trial 43 finished with value: 0.6833333373069763 and parameters: {'units': 32, 'learning_rate': 0.00094572909977453, 'dropout_rate': 0.11922203080682127, 'batch_size': 32}. Best is trial 42 with value: 0.710606038570404.\n",
      "[I 2024-03-18 11:47:44,570] Trial 44 finished with value: 0.653030276298523 and parameters: {'units': 32, 'learning_rate': 0.005943225109504229, 'dropout_rate': 0.07162051351130355, 'batch_size': 32}. Best is trial 42 with value: 0.710606038570404.\n"
     ]
    },
    {
     "name": "stdout",
     "output_type": "stream",
     "text": [
      "Epoch 100: early stopping\n"
     ]
    },
    {
     "name": "stderr",
     "output_type": "stream",
     "text": [
      "[I 2024-03-18 11:48:08,378] Trial 45 finished with value: 0.6818181872367859 and parameters: {'units': 32, 'learning_rate': 0.0027666081933013847, 'dropout_rate': 0.031046582130790614, 'batch_size': 32}. Best is trial 42 with value: 0.710606038570404.\n",
      "[I 2024-03-18 11:48:32,224] Trial 46 finished with value: 0.5469697117805481 and parameters: {'units': 32, 'learning_rate': 1.7000822430498724e-05, 'dropout_rate': 0.09563540046571706, 'batch_size': 32}. Best is trial 42 with value: 0.710606038570404.\n",
      "[I 2024-03-18 11:48:56,166] Trial 47 finished with value: 0.6469696760177612 and parameters: {'units': 32, 'learning_rate': 0.0004832454852382858, 'dropout_rate': 0.05145803752230753, 'batch_size': 32}. Best is trial 42 with value: 0.710606038570404.\n",
      "[I 2024-03-18 11:49:19,822] Trial 48 finished with value: 0.6409090757369995 and parameters: {'units': 32, 'learning_rate': 0.00024350369225757264, 'dropout_rate': 0.016212398407026304, 'batch_size': 32}. Best is trial 42 with value: 0.710606038570404.\n",
      "[I 2024-03-18 11:49:35,726] Trial 49 finished with value: 0.5984848737716675 and parameters: {'units': 32, 'learning_rate': 0.016370987287989587, 'dropout_rate': 0.12639415758580985, 'batch_size': 64}. Best is trial 42 with value: 0.710606038570404.\n"
     ]
    },
    {
     "name": "stdout",
     "output_type": "stream",
     "text": [
      "Best Parameters :  {'units': 32, 'learning_rate': 0.0011297879237680635, 'dropout_rate': 0.0300079121821481, 'batch_size': 32}\n",
      "Best Value :  0.710606038570404\n"
     ]
    }
   ],
   "source": [
    "# objective 함수는 Optuna의 suggest_ 메서드를 사용하여 하이퍼파라미터 공간에서 샘플링하는 함수\n",
    "study = optuna.create_study(direction = 'maximize')\n",
    "# study 객체를 생성한 후 optimize 메서드를 사용하여 주어진 목적 함수(objective)를 최대화하는 방향으로 하이퍼파라미터를 조정\n",
    "study.optimize(objective, n_trials = 50)\n",
    "\n",
    "# Print the best hyperparameters and objective value\n",
    "best_params = study.best_params\n",
    "best_value = study.best_value\n",
    "print(\"Best Parameters : \", best_params)\n",
    "print(\"Best Value : \", best_value)"
   ]
  },
  {
   "cell_type": "code",
   "execution_count": 33,
   "id": "3dfafe9b",
   "metadata": {
    "ExecuteTime": {
     "end_time": "2024-03-18T02:50:40.185876Z",
     "start_time": "2024-03-18T02:50:12.942653Z"
    }
   },
   "outputs": [
    {
     "name": "stdout",
     "output_type": "stream",
     "text": [
      "WARNING:tensorflow:From C:\\Users\\mit005\\anaconda3\\Lib\\site-packages\\keras\\src\\optimizers\\__init__.py:309: The name tf.train.Optimizer is deprecated. Please use tf.compat.v1.train.Optimizer instead.\n",
      "\n",
      "Epoch 1/100\n",
      "83/83 [==============================] - 4s 11ms/step - loss: 0.6928 - accuracy: 0.5121 - val_loss: 0.6931 - val_accuracy: 0.4864\n",
      "Epoch 2/100\n",
      "83/83 [==============================] - 0s 3ms/step - loss: 0.6882 - accuracy: 0.5322 - val_loss: 0.6834 - val_accuracy: 0.5409\n",
      "Epoch 3/100\n",
      "83/83 [==============================] - 0s 3ms/step - loss: 0.6835 - accuracy: 0.5625 - val_loss: 0.6859 - val_accuracy: 0.5333\n",
      "Epoch 4/100\n",
      "83/83 [==============================] - 0s 3ms/step - loss: 0.6844 - accuracy: 0.5428 - val_loss: 0.6789 - val_accuracy: 0.5409\n",
      "Epoch 5/100\n",
      "83/83 [==============================] - 0s 3ms/step - loss: 0.6831 - accuracy: 0.5379 - val_loss: 0.6777 - val_accuracy: 0.5561\n",
      "Epoch 6/100\n",
      "83/83 [==============================] - 0s 3ms/step - loss: 0.6785 - accuracy: 0.5667 - val_loss: 0.6745 - val_accuracy: 0.5621\n",
      "Epoch 7/100\n",
      "83/83 [==============================] - 0s 3ms/step - loss: 0.6763 - accuracy: 0.5705 - val_loss: 0.6719 - val_accuracy: 0.5697\n",
      "Epoch 8/100\n",
      "83/83 [==============================] - 0s 3ms/step - loss: 0.6745 - accuracy: 0.5758 - val_loss: 0.6710 - val_accuracy: 0.5712\n",
      "Epoch 9/100\n",
      "83/83 [==============================] - 0s 3ms/step - loss: 0.6745 - accuracy: 0.5667 - val_loss: 0.6716 - val_accuracy: 0.5682\n",
      "Epoch 10/100\n",
      "83/83 [==============================] - 0s 3ms/step - loss: 0.6719 - accuracy: 0.5720 - val_loss: 0.6677 - val_accuracy: 0.6030\n",
      "Epoch 11/100\n",
      "83/83 [==============================] - 0s 3ms/step - loss: 0.6704 - accuracy: 0.5845 - val_loss: 0.6688 - val_accuracy: 0.5970\n",
      "Epoch 12/100\n",
      "83/83 [==============================] - 0s 3ms/step - loss: 0.6720 - accuracy: 0.5724 - val_loss: 0.6706 - val_accuracy: 0.5636\n",
      "Epoch 13/100\n",
      "83/83 [==============================] - 0s 3ms/step - loss: 0.6685 - accuracy: 0.5747 - val_loss: 0.6636 - val_accuracy: 0.5970\n",
      "Epoch 14/100\n",
      "83/83 [==============================] - 0s 3ms/step - loss: 0.6663 - accuracy: 0.5785 - val_loss: 0.6755 - val_accuracy: 0.5485\n",
      "Epoch 15/100\n",
      "83/83 [==============================] - 0s 3ms/step - loss: 0.6682 - accuracy: 0.5713 - val_loss: 0.6629 - val_accuracy: 0.5939\n",
      "Epoch 16/100\n",
      "83/83 [==============================] - 0s 3ms/step - loss: 0.6656 - accuracy: 0.5705 - val_loss: 0.6669 - val_accuracy: 0.5742\n",
      "Epoch 17/100\n",
      "83/83 [==============================] - 0s 3ms/step - loss: 0.6634 - accuracy: 0.5853 - val_loss: 0.6670 - val_accuracy: 0.6030\n",
      "Epoch 18/100\n",
      "83/83 [==============================] - 0s 3ms/step - loss: 0.6637 - accuracy: 0.5819 - val_loss: 0.6585 - val_accuracy: 0.5939\n",
      "Epoch 19/100\n",
      "83/83 [==============================] - 0s 3ms/step - loss: 0.6589 - accuracy: 0.5826 - val_loss: 0.6575 - val_accuracy: 0.6061\n",
      "Epoch 20/100\n",
      "83/83 [==============================] - 0s 3ms/step - loss: 0.6576 - accuracy: 0.5925 - val_loss: 0.6872 - val_accuracy: 0.5258\n",
      "Epoch 21/100\n",
      "83/83 [==============================] - 0s 3ms/step - loss: 0.6572 - accuracy: 0.5929 - val_loss: 0.6655 - val_accuracy: 0.6000\n",
      "Epoch 22/100\n",
      "83/83 [==============================] - 0s 3ms/step - loss: 0.6584 - accuracy: 0.5940 - val_loss: 0.6608 - val_accuracy: 0.5803\n",
      "Epoch 23/100\n",
      "83/83 [==============================] - 0s 3ms/step - loss: 0.6528 - accuracy: 0.5944 - val_loss: 0.6585 - val_accuracy: 0.6061\n",
      "Epoch 24/100\n",
      "83/83 [==============================] - 0s 3ms/step - loss: 0.6528 - accuracy: 0.5978 - val_loss: 0.6557 - val_accuracy: 0.6076\n",
      "Epoch 25/100\n",
      "83/83 [==============================] - 0s 3ms/step - loss: 0.6490 - accuracy: 0.6111 - val_loss: 0.6529 - val_accuracy: 0.6242\n",
      "Epoch 26/100\n",
      "83/83 [==============================] - 0s 3ms/step - loss: 0.6462 - accuracy: 0.6096 - val_loss: 0.6550 - val_accuracy: 0.6045\n",
      "Epoch 27/100\n",
      "83/83 [==============================] - 0s 3ms/step - loss: 0.6444 - accuracy: 0.6107 - val_loss: 0.6513 - val_accuracy: 0.6030\n",
      "Epoch 28/100\n",
      "83/83 [==============================] - 0s 3ms/step - loss: 0.6415 - accuracy: 0.6111 - val_loss: 0.6508 - val_accuracy: 0.5955\n",
      "Epoch 29/100\n",
      "83/83 [==============================] - 0s 3ms/step - loss: 0.6395 - accuracy: 0.6183 - val_loss: 0.6516 - val_accuracy: 0.6106\n",
      "Epoch 30/100\n",
      "83/83 [==============================] - 0s 3ms/step - loss: 0.6358 - accuracy: 0.6228 - val_loss: 0.6986 - val_accuracy: 0.5409\n",
      "Epoch 31/100\n",
      "83/83 [==============================] - 0s 3ms/step - loss: 0.6397 - accuracy: 0.6232 - val_loss: 0.6518 - val_accuracy: 0.6167\n",
      "Epoch 32/100\n",
      "83/83 [==============================] - 0s 3ms/step - loss: 0.6335 - accuracy: 0.6281 - val_loss: 0.6457 - val_accuracy: 0.6212\n",
      "Epoch 33/100\n",
      "83/83 [==============================] - 0s 3ms/step - loss: 0.6353 - accuracy: 0.6255 - val_loss: 0.6492 - val_accuracy: 0.6212\n",
      "Epoch 34/100\n",
      "83/83 [==============================] - 0s 3ms/step - loss: 0.6265 - accuracy: 0.6372 - val_loss: 0.6503 - val_accuracy: 0.6242\n",
      "Epoch 35/100\n",
      "83/83 [==============================] - 0s 3ms/step - loss: 0.6212 - accuracy: 0.6444 - val_loss: 0.6435 - val_accuracy: 0.6121\n",
      "Epoch 36/100\n",
      "83/83 [==============================] - 0s 3ms/step - loss: 0.6263 - accuracy: 0.6350 - val_loss: 0.6466 - val_accuracy: 0.6121\n",
      "Epoch 37/100\n",
      "83/83 [==============================] - 0s 3ms/step - loss: 0.6174 - accuracy: 0.6513 - val_loss: 0.6666 - val_accuracy: 0.5758\n",
      "Epoch 38/100\n",
      "83/83 [==============================] - 0s 3ms/step - loss: 0.6200 - accuracy: 0.6494 - val_loss: 0.6414 - val_accuracy: 0.6288\n",
      "Epoch 39/100\n",
      "83/83 [==============================] - 0s 3ms/step - loss: 0.6116 - accuracy: 0.6581 - val_loss: 0.6499 - val_accuracy: 0.6379\n",
      "Epoch 40/100\n",
      "83/83 [==============================] - 0s 3ms/step - loss: 0.6109 - accuracy: 0.6494 - val_loss: 0.6415 - val_accuracy: 0.6439\n",
      "Epoch 41/100\n",
      "83/83 [==============================] - 0s 3ms/step - loss: 0.6062 - accuracy: 0.6497 - val_loss: 0.6569 - val_accuracy: 0.5939\n",
      "Epoch 42/100\n",
      "83/83 [==============================] - 0s 3ms/step - loss: 0.6021 - accuracy: 0.6585 - val_loss: 0.6524 - val_accuracy: 0.6106\n",
      "Epoch 43/100\n",
      "83/83 [==============================] - 0s 3ms/step - loss: 0.6017 - accuracy: 0.6550 - val_loss: 0.6391 - val_accuracy: 0.6212\n",
      "Epoch 44/100\n",
      "83/83 [==============================] - 0s 3ms/step - loss: 0.6018 - accuracy: 0.6615 - val_loss: 0.6373 - val_accuracy: 0.6500\n",
      "Epoch 45/100\n",
      "83/83 [==============================] - 0s 3ms/step - loss: 0.5893 - accuracy: 0.6725 - val_loss: 0.6478 - val_accuracy: 0.6273\n",
      "Epoch 46/100\n",
      "83/83 [==============================] - 0s 3ms/step - loss: 0.5865 - accuracy: 0.6804 - val_loss: 0.6456 - val_accuracy: 0.6545\n",
      "Epoch 47/100\n",
      "83/83 [==============================] - 0s 3ms/step - loss: 0.5814 - accuracy: 0.6778 - val_loss: 0.6470 - val_accuracy: 0.6182\n",
      "Epoch 48/100\n",
      "83/83 [==============================] - 0s 3ms/step - loss: 0.5817 - accuracy: 0.6759 - val_loss: 0.6408 - val_accuracy: 0.6500\n",
      "Epoch 49/100\n",
      "83/83 [==============================] - 0s 3ms/step - loss: 0.5789 - accuracy: 0.6823 - val_loss: 0.6752 - val_accuracy: 0.6121\n",
      "Epoch 50/100\n",
      "83/83 [==============================] - 0s 3ms/step - loss: 0.5808 - accuracy: 0.6744 - val_loss: 0.6559 - val_accuracy: 0.6439\n",
      "Epoch 51/100\n",
      "83/83 [==============================] - 0s 3ms/step - loss: 0.5685 - accuracy: 0.6945 - val_loss: 0.6388 - val_accuracy: 0.6394\n",
      "Epoch 52/100\n",
      "83/83 [==============================] - 0s 3ms/step - loss: 0.5656 - accuracy: 0.6911 - val_loss: 0.6525 - val_accuracy: 0.6409\n",
      "Epoch 53/100\n",
      "83/83 [==============================] - 0s 3ms/step - loss: 0.5604 - accuracy: 0.6990 - val_loss: 0.6648 - val_accuracy: 0.6485\n",
      "Epoch 54/100\n",
      "83/83 [==============================] - 0s 3ms/step - loss: 0.5543 - accuracy: 0.7062 - val_loss: 0.6355 - val_accuracy: 0.6485\n",
      "Epoch 55/100\n",
      "83/83 [==============================] - 0s 3ms/step - loss: 0.5708 - accuracy: 0.6967 - val_loss: 0.6349 - val_accuracy: 0.6667\n",
      "Epoch 56/100\n",
      "83/83 [==============================] - 0s 3ms/step - loss: 0.5557 - accuracy: 0.7081 - val_loss: 0.6402 - val_accuracy: 0.6591\n",
      "Epoch 57/100\n",
      "83/83 [==============================] - 0s 3ms/step - loss: 0.5474 - accuracy: 0.7051 - val_loss: 0.6344 - val_accuracy: 0.6576\n",
      "Epoch 58/100\n",
      "83/83 [==============================] - 0s 3ms/step - loss: 0.5552 - accuracy: 0.7191 - val_loss: 0.6297 - val_accuracy: 0.6636\n",
      "Epoch 59/100\n",
      "83/83 [==============================] - 0s 3ms/step - loss: 0.5585 - accuracy: 0.7013 - val_loss: 0.6678 - val_accuracy: 0.6045\n",
      "Epoch 60/100\n",
      "83/83 [==============================] - 0s 3ms/step - loss: 0.5453 - accuracy: 0.7081 - val_loss: 0.6406 - val_accuracy: 0.6667\n",
      "Epoch 61/100\n",
      "83/83 [==============================] - 0s 3ms/step - loss: 0.5431 - accuracy: 0.7146 - val_loss: 0.6301 - val_accuracy: 0.6667\n",
      "Epoch 62/100\n",
      "83/83 [==============================] - 0s 3ms/step - loss: 0.5363 - accuracy: 0.7210 - val_loss: 0.6517 - val_accuracy: 0.6758\n",
      "Epoch 63/100\n",
      "83/83 [==============================] - 0s 3ms/step - loss: 0.5284 - accuracy: 0.7218 - val_loss: 0.6644 - val_accuracy: 0.6773\n",
      "Epoch 64/100\n",
      "83/83 [==============================] - 0s 3ms/step - loss: 0.5303 - accuracy: 0.7206 - val_loss: 0.6439 - val_accuracy: 0.6682\n",
      "Epoch 65/100\n",
      "83/83 [==============================] - 0s 3ms/step - loss: 0.5250 - accuracy: 0.7274 - val_loss: 0.6421 - val_accuracy: 0.6742\n",
      "Epoch 66/100\n",
      "83/83 [==============================] - 0s 3ms/step - loss: 0.5217 - accuracy: 0.7293 - val_loss: 0.6689 - val_accuracy: 0.6652\n",
      "Epoch 67/100\n",
      "83/83 [==============================] - 0s 3ms/step - loss: 0.5280 - accuracy: 0.7290 - val_loss: 0.6289 - val_accuracy: 0.6939\n",
      "Epoch 68/100\n",
      "83/83 [==============================] - 0s 3ms/step - loss: 0.5179 - accuracy: 0.7369 - val_loss: 0.6499 - val_accuracy: 0.6621\n",
      "Epoch 69/100\n",
      "83/83 [==============================] - 0s 3ms/step - loss: 0.5188 - accuracy: 0.7335 - val_loss: 0.6337 - val_accuracy: 0.6909\n",
      "Epoch 70/100\n",
      "83/83 [==============================] - 0s 3ms/step - loss: 0.5104 - accuracy: 0.7365 - val_loss: 0.6504 - val_accuracy: 0.6894\n",
      "Epoch 71/100\n",
      "83/83 [==============================] - 0s 3ms/step - loss: 0.5017 - accuracy: 0.7513 - val_loss: 0.6588 - val_accuracy: 0.6879\n",
      "Epoch 72/100\n",
      "83/83 [==============================] - 0s 3ms/step - loss: 0.5121 - accuracy: 0.7388 - val_loss: 0.6461 - val_accuracy: 0.6833\n",
      "Epoch 73/100\n",
      "83/83 [==============================] - 0s 3ms/step - loss: 0.5001 - accuracy: 0.7483 - val_loss: 0.6435 - val_accuracy: 0.6970\n",
      "Epoch 74/100\n",
      "83/83 [==============================] - 0s 3ms/step - loss: 0.4935 - accuracy: 0.7536 - val_loss: 0.6488 - val_accuracy: 0.6924\n",
      "Epoch 75/100\n",
      "83/83 [==============================] - 0s 3ms/step - loss: 0.4933 - accuracy: 0.7483 - val_loss: 0.6854 - val_accuracy: 0.6212\n",
      "Epoch 76/100\n",
      "83/83 [==============================] - 0s 3ms/step - loss: 0.4918 - accuracy: 0.7559 - val_loss: 0.6650 - val_accuracy: 0.6985\n",
      "Epoch 77/100\n",
      "83/83 [==============================] - 0s 3ms/step - loss: 0.5073 - accuracy: 0.7506 - val_loss: 0.6303 - val_accuracy: 0.7000\n",
      "Epoch 78/100\n",
      "83/83 [==============================] - 0s 3ms/step - loss: 0.4779 - accuracy: 0.7688 - val_loss: 0.6599 - val_accuracy: 0.6712\n",
      "Epoch 79/100\n",
      "83/83 [==============================] - 0s 3ms/step - loss: 0.4781 - accuracy: 0.7616 - val_loss: 0.7206 - val_accuracy: 0.6530\n",
      "Epoch 80/100\n",
      "83/83 [==============================] - 0s 3ms/step - loss: 0.4864 - accuracy: 0.7589 - val_loss: 0.6961 - val_accuracy: 0.6500\n",
      "Epoch 81/100\n",
      "83/83 [==============================] - 0s 3ms/step - loss: 0.4845 - accuracy: 0.7540 - val_loss: 0.6641 - val_accuracy: 0.6879\n",
      "Epoch 82/100\n",
      "83/83 [==============================] - 0s 3ms/step - loss: 0.4760 - accuracy: 0.7635 - val_loss: 0.6413 - val_accuracy: 0.6894\n",
      "Epoch 83/100\n",
      "83/83 [==============================] - 0s 3ms/step - loss: 0.4799 - accuracy: 0.7616 - val_loss: 0.6917 - val_accuracy: 0.6636\n",
      "Epoch 84/100\n",
      "83/83 [==============================] - 0s 3ms/step - loss: 0.4713 - accuracy: 0.7631 - val_loss: 0.6546 - val_accuracy: 0.7045\n",
      "Epoch 85/100\n",
      "83/83 [==============================] - 0s 3ms/step - loss: 0.4657 - accuracy: 0.7676 - val_loss: 0.6622 - val_accuracy: 0.6848\n",
      "Epoch 86/100\n",
      "83/83 [==============================] - 0s 3ms/step - loss: 0.4628 - accuracy: 0.7794 - val_loss: 0.6480 - val_accuracy: 0.6985\n",
      "Epoch 87/100\n",
      "83/83 [==============================] - 0s 3ms/step - loss: 0.4555 - accuracy: 0.7767 - val_loss: 0.6720 - val_accuracy: 0.6697\n",
      "Epoch 88/100\n",
      "83/83 [==============================] - 0s 3ms/step - loss: 0.4542 - accuracy: 0.7794 - val_loss: 0.6678 - val_accuracy: 0.6742\n",
      "Epoch 89/100\n",
      "83/83 [==============================] - 0s 3ms/step - loss: 0.4570 - accuracy: 0.7763 - val_loss: 0.6381 - val_accuracy: 0.6955\n",
      "Epoch 90/100\n",
      "83/83 [==============================] - 0s 3ms/step - loss: 0.4524 - accuracy: 0.7809 - val_loss: 0.6755 - val_accuracy: 0.6985\n",
      "Epoch 91/100\n",
      "83/83 [==============================] - 0s 3ms/step - loss: 0.4507 - accuracy: 0.7877 - val_loss: 0.6689 - val_accuracy: 0.7030\n",
      "Epoch 92/100\n",
      "83/83 [==============================] - 0s 3ms/step - loss: 0.4387 - accuracy: 0.7828 - val_loss: 0.6684 - val_accuracy: 0.6955\n",
      "Epoch 93/100\n",
      "83/83 [==============================] - 0s 3ms/step - loss: 0.4423 - accuracy: 0.7900 - val_loss: 0.6472 - val_accuracy: 0.7030\n",
      "Epoch 94/100\n",
      "83/83 [==============================] - 0s 3ms/step - loss: 0.4372 - accuracy: 0.7911 - val_loss: 0.6495 - val_accuracy: 0.6970\n",
      "Epoch 95/100\n",
      "83/83 [==============================] - 0s 3ms/step - loss: 0.4435 - accuracy: 0.7858 - val_loss: 0.6808 - val_accuracy: 0.6833\n",
      "Epoch 96/100\n",
      "83/83 [==============================] - 0s 3ms/step - loss: 0.4370 - accuracy: 0.7934 - val_loss: 0.6856 - val_accuracy: 0.6970\n",
      "Epoch 97/100\n",
      "83/83 [==============================] - 0s 3ms/step - loss: 0.4478 - accuracy: 0.7851 - val_loss: 0.6502 - val_accuracy: 0.7030\n",
      "Epoch 98/100\n",
      "83/83 [==============================] - 0s 3ms/step - loss: 0.4264 - accuracy: 0.7926 - val_loss: 0.6704 - val_accuracy: 0.7167\n",
      "Epoch 99/100\n",
      "83/83 [==============================] - 0s 3ms/step - loss: 0.4195 - accuracy: 0.7968 - val_loss: 0.6620 - val_accuracy: 0.7000\n",
      "Epoch 100/100\n",
      "83/83 [==============================] - 0s 3ms/step - loss: 0.4158 - accuracy: 0.8063 - val_loss: 0.6693 - val_accuracy: 0.7106\n",
      "39/39 [==============================] - 1s 1ms/step\n",
      "21/21 [==============================] - 0s 1ms/step\n",
      "Best Thresholds : 0.46456146240234375\n"
     ]
    }
   ],
   "source": [
    "model = Sequential()\n",
    "model.add(LSTM(best_params['units'], return_sequences = True, input_shape = (1, X_train.shape[2])))\n",
    "model.add(Dropout(best_params['dropout_rate']))\n",
    "model.add(LSTM(best_params['units']))\n",
    "model.add(Dropout(best_params['dropout_rate']))\n",
    "model.add(Dense(1, activation = 'sigmoid'))\n",
    "\n",
    "model.compile(optimizer = 'adam', loss = 'binary_crossentropy', metrics = ['accuracy'])\n",
    "callbacks = [EarlyStopping(monitor = 'val_loss', mode = 'min', patience = 50, verbose = 1)]\n",
    "\n",
    "model.fit(X_train, y_train, epochs = 100, batch_size = best_params['batch_size'], validation_data = (X_val, y_val), callbacks = callbacks)\n",
    "\n",
    "vector_size = X_train.shape[2]\n",
    "X_test = X_test.reshape((X_test.shape[0], 1, vector_size))\n",
    "\n",
    "pred = model.predict(X_test)\n",
    "\n",
    "\n",
    "\n",
    "fpr, tpr, thresholds = roc_curve(y_val, model.predict(X_val).ravel())\n",
    "gmeans = np.sqrt(tpr * (1 - fpr))\n",
    "ix = np.argmax(gmeans)\n",
    "print('Best Thresholds : {}'.format(thresholds[ix]))"
   ]
  },
  {
   "cell_type": "code",
   "execution_count": 34,
   "id": "57d8ff61",
   "metadata": {
    "ExecuteTime": {
     "end_time": "2024-03-18T02:50:40.422583Z",
     "start_time": "2024-03-18T02:50:40.186885Z"
    }
   },
   "outputs": [
    {
     "name": "stdout",
     "output_type": "stream",
     "text": [
      "21/21 [==============================] - 0s 1ms/step\n"
     ]
    },
    {
     "data": {
      "text/plain": [
       "<matplotlib.legend.Legend at 0x28211d0c610>"
      ]
     },
     "execution_count": 34,
     "metadata": {},
     "output_type": "execute_result"
    },
    {
     "data": {
      "image/png": "[encoded data removed]",
      "text/plain": [
       "<Figure size 640x480 with 1 Axes>"
      ]
     },
     "metadata": {},
     "output_type": "display_data"
    }
   ],
   "source": [
    "fpr, tpr, _ = roc_curve(y_val, model.predict(X_val).ravel())\n",
    "roc_auc = auc(fpr, tpr)\n",
    "\n",
    "plt.figure()\n",
    "lw = 2\n",
    "plt.plot(fpr, tpr, color = 'darkorange',\n",
    "         lw = lw, label = 'ROC curve (area = %0.2f)' % roc_auc)\n",
    "plt.plot([0, 1], [0, 1], color = 'navy', lw = lw, linestyle = '--')\n",
    "plt.xlim([0.0, 1.0])\n",
    "plt.ylim([0.0, 1.05])\n",
    "plt.xlabel('False Positive Rate')\n",
    "plt.ylabel('True Positive Rate')\n",
    "plt.title('Receiver Operating Characteristic')\n",
    "plt.legend(loc=\"lower right\")\n"
   ]
  },
  {
   "cell_type": "code",
   "execution_count": 40,
   "id": "d15a7736",
   "metadata": {
    "ExecuteTime": {
     "end_time": "2024-03-18T02:54:05.432194Z",
     "start_time": "2024-03-18T02:54:05.175463Z"
    }
   },
   "outputs": [
    {
     "name": "stdout",
     "output_type": "stream",
     "text": [
      "83/83 [==============================] - 0s 1ms/step\n",
      "21/21 [==============================] - 0s 1ms/step\n"
     ]
    }
   ],
   "source": [
    "y_train_pred = model.predict(X_train)\n",
    "y_val_pred = model.predict(X_val)"
   ]
  },
  {
   "cell_type": "code",
   "execution_count": 44,
   "id": "451f7180",
   "metadata": {
    "ExecuteTime": {
     "end_time": "2024-03-18T02:55:28.245563Z",
     "start_time": "2024-03-18T02:55:28.242291Z"
    }
   },
   "outputs": [],
   "source": [
    "y_train_pred = (y_train_pred > 0.5).astype(int)\n",
    "y_val_pred = (y_val_pred > 0.5).astype(int)"
   ]
  },
  {
   "cell_type": "code",
   "execution_count": 46,
   "id": "3054d158",
   "metadata": {
    "ExecuteTime": {
     "end_time": "2024-03-18T02:55:37.227718Z",
     "start_time": "2024-03-18T02:55:37.222451Z"
    },
    "scrolled": true
   },
   "outputs": [
    {
     "name": "stdout",
     "output_type": "stream",
     "text": [
      "train accuracy :  0.8225928733889311\n",
      "validation accuracy :  0.7106060606060606\n"
     ]
    }
   ],
   "source": [
    "print('train accuracy : ', accuracy_score(y_train, y_train_pred))\n",
    "print('validation accuracy : ', accuracy_score(y_val, y_val_pred))"
   ]
  },
  {
   "cell_type": "markdown",
   "id": "8d70e0ff",
   "metadata": {},
   "source": [
    "# 제출"
   ]
  },
  {
   "cell_type": "code",
   "execution_count": 47,
   "id": "ff1ba43b",
   "metadata": {
    "ExecuteTime": {
     "end_time": "2024-03-18T02:56:44.668919Z",
     "start_time": "2024-03-18T02:56:44.657911Z"
    }
   },
   "outputs": [],
   "source": [
    "y_pred = (pred > thresholds[ix]).astype(int).flatten()\n",
    "submission_df['first_party_winner'] = y_pred\n",
    "submission_df.to_csv('fasttext_smote_lstm.csv', index = False)"
   ]
  },
  {
   "cell_type": "code",
   "execution_count": null,
   "id": "1d8e716e",
   "metadata": {},
   "outputs": [],
   "source": []
  }
 ],
 "metadata": {
  "kernelspec": {
   "display_name": "Python 3 (ipykernel)",
   "language": "python",
   "name": "python3"
  },
  "language_info": {
   "codemirror_mode": {
    "name": "ipython",
    "version": 3
   },
   "file_extension": ".py",
   "mimetype": "text/x-python",
   "name": "python",
   "nbconvert_exporter": "python",
   "pygments_lexer": "ipython3",
   "version": "3.11.5"
  },
  "toc": {
   "base_numbering": 1,
   "nav_menu": {},
   "number_sections": true,
   "sideBar": true,
   "skip_h1_title": false,
   "title_cell": "Table of Contents",
   "title_sidebar": "Contents",
   "toc_cell": false,
   "toc_position": {
    "height": "calc(100% - 180px)",
    "left": "10px",
    "top": "150px",
    "width": "165px"
   },
   "toc_section_display": true,
   "toc_window_display": false
  }
 },
 "nbformat": 4,
 "nbformat_minor": 5
}
