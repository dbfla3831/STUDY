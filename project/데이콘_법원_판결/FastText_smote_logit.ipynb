{
 "cells": [
  {
   "cell_type": "markdown",
   "id": "ca94ce9d",
   "metadata": {},
   "source": [
    "# 라이브러리 불러오기"
   ]
  },
  {
   "cell_type": "code",
   "execution_count": 1,
   "id": "f77213fd",
   "metadata": {
    "ExecuteTime": {
     "end_time": "2024-03-18T05:19:55.159601Z",
     "start_time": "2024-03-18T05:19:55.156100Z"
    }
   },
   "outputs": [],
   "source": [
    "# ! pip install -U imbalanced-learn scikit-learn\n",
    "# !pip install gensim\n",
    "# ! pip install optuna"
   ]
  },
  {
   "cell_type": "code",
   "execution_count": 2,
   "id": "814f548f",
   "metadata": {
    "ExecuteTime": {
     "end_time": "2024-03-18T05:20:01.435313Z",
     "start_time": "2024-03-18T05:19:55.160612Z"
    }
   },
   "outputs": [
    {
     "name": "stdout",
     "output_type": "stream",
     "text": [
      "WARNING:tensorflow:From C:\\Users\\mit005\\anaconda3\\Lib\\site-packages\\keras\\src\\losses.py:2976: The name tf.losses.sparse_softmax_cross_entropy is deprecated. Please use tf.compat.v1.losses.sparse_softmax_cross_entropy instead.\n",
      "\n"
     ]
    }
   ],
   "source": [
    "import numpy as np\n",
    "import pandas as pd\n",
    "import re\n",
    "import nltk\n",
    "# nltk.download('stopwords')\n",
    "# nltk.download('wordnet')\n",
    "import matplotlib.pyplot as plt\n",
    "\n",
    "from gensim.models import FastText\n",
    "from keras.preprocessing.text import Tokenizer\n",
    "from nltk.tokenize import TreebankWordTokenizer # 표준 토큰화\n",
    "from nltk.corpus import stopwords # 불용어 제거\n",
    "from nltk.stem import WordNetLemmatizer # 기본 형태로 변환\n",
    "from imblearn.over_sampling import SMOTE # 비대칭이라 사용\n",
    "\n",
    "from sklearn.model_selection import train_test_split\n",
    "from sklearn.linear_model import LogisticRegression\n",
    "import optuna\n",
    "from tensorflow.keras.models import Sequential\n",
    "from tensorflow.keras.layers import LSTM, Dropout, Dense, Embedding\n",
    "from tensorflow.keras.initializers import Constant\n",
    "from sklearn.metrics import roc_curve, auc\n",
    "from sklearn.metrics import accuracy_score\n",
    "\n",
    "import warnings\n",
    "warnings.filterwarnings('ignore')"
   ]
  },
  {
   "cell_type": "markdown",
   "id": "35f21329",
   "metadata": {},
   "source": [
    "# 데이터 불러오기"
   ]
  },
  {
   "cell_type": "code",
   "execution_count": 3,
   "id": "9eb5a900",
   "metadata": {
    "ExecuteTime": {
     "end_time": "2024-03-18T05:20:01.484895Z",
     "start_time": "2024-03-18T05:20:01.437313Z"
    }
   },
   "outputs": [],
   "source": [
    "train_df = pd.read_csv('./data/train.csv')\n",
    "test_df = pd.read_csv('./data/test.csv')\n",
    "submission_df = pd.read_csv('./data/sample_submission.csv')"
   ]
  },
  {
   "cell_type": "code",
   "execution_count": 4,
   "id": "933ebd82",
   "metadata": {
    "ExecuteTime": {
     "end_time": "2024-03-18T05:20:01.500042Z",
     "start_time": "2024-03-18T05:20:01.485926Z"
    }
   },
   "outputs": [
    {
     "data": {
      "text/html": [
       "<div>\n",
       "<style scoped>\n",
       "    .dataframe tbody tr th:only-of-type {\n",
       "        vertical-align: middle;\n",
       "    }\n",
       "\n",
       "    .dataframe tbody tr th {\n",
       "        vertical-align: top;\n",
       "    }\n",
       "\n",
       "    .dataframe thead th {\n",
       "        text-align: right;\n",
       "    }\n",
       "</style>\n",
       "<table border=\"1\" class=\"dataframe\">\n",
       "  <thead>\n",
       "    <tr style=\"text-align: right;\">\n",
       "      <th></th>\n",
       "      <th>ID</th>\n",
       "      <th>first_party</th>\n",
       "      <th>second_party</th>\n",
       "      <th>facts</th>\n",
       "      <th>first_party_winner</th>\n",
       "    </tr>\n",
       "  </thead>\n",
       "  <tbody>\n",
       "    <tr>\n",
       "      <th>0</th>\n",
       "      <td>TRAIN_0000</td>\n",
       "      <td>Phil A. St. Amant</td>\n",
       "      <td>Herman A. Thompson</td>\n",
       "      <td>On June 27, 1962, Phil St. Amant, a candidate ...</td>\n",
       "      <td>1</td>\n",
       "    </tr>\n",
       "    <tr>\n",
       "      <th>1</th>\n",
       "      <td>TRAIN_0001</td>\n",
       "      <td>Stephen Duncan</td>\n",
       "      <td>Lawrence Owens</td>\n",
       "      <td>Ramon Nelson was riding his bike when he suffe...</td>\n",
       "      <td>0</td>\n",
       "    </tr>\n",
       "    <tr>\n",
       "      <th>2</th>\n",
       "      <td>TRAIN_0002</td>\n",
       "      <td>Billy Joe Magwood</td>\n",
       "      <td>Tony Patterson, Warden, et al.</td>\n",
       "      <td>An Alabama state court convicted Billy Joe Mag...</td>\n",
       "      <td>1</td>\n",
       "    </tr>\n",
       "    <tr>\n",
       "      <th>3</th>\n",
       "      <td>TRAIN_0003</td>\n",
       "      <td>Linkletter</td>\n",
       "      <td>Walker</td>\n",
       "      <td>Victor Linkletter was convicted in state court...</td>\n",
       "      <td>0</td>\n",
       "    </tr>\n",
       "    <tr>\n",
       "      <th>4</th>\n",
       "      <td>TRAIN_0004</td>\n",
       "      <td>William Earl Fikes</td>\n",
       "      <td>Alabama</td>\n",
       "      <td>On April 24, 1953 in Selma, Alabama, an intrud...</td>\n",
       "      <td>1</td>\n",
       "    </tr>\n",
       "  </tbody>\n",
       "</table>\n",
       "</div>"
      ],
      "text/plain": [
       "           ID         first_party                    second_party  \\\n",
       "0  TRAIN_0000   Phil A. St. Amant              Herman A. Thompson   \n",
       "1  TRAIN_0001      Stephen Duncan                  Lawrence Owens   \n",
       "2  TRAIN_0002   Billy Joe Magwood  Tony Patterson, Warden, et al.   \n",
       "3  TRAIN_0003          Linkletter                          Walker   \n",
       "4  TRAIN_0004  William Earl Fikes                         Alabama   \n",
       "\n",
       "                                               facts  first_party_winner  \n",
       "0  On June 27, 1962, Phil St. Amant, a candidate ...                   1  \n",
       "1  Ramon Nelson was riding his bike when he suffe...                   0  \n",
       "2  An Alabama state court convicted Billy Joe Mag...                   1  \n",
       "3  Victor Linkletter was convicted in state court...                   0  \n",
       "4  On April 24, 1953 in Selma, Alabama, an intrud...                   1  "
      ]
     },
     "metadata": {},
     "output_type": "display_data"
    },
    {
     "data": {
      "text/html": [
       "<div>\n",
       "<style scoped>\n",
       "    .dataframe tbody tr th:only-of-type {\n",
       "        vertical-align: middle;\n",
       "    }\n",
       "\n",
       "    .dataframe tbody tr th {\n",
       "        vertical-align: top;\n",
       "    }\n",
       "\n",
       "    .dataframe thead th {\n",
       "        text-align: right;\n",
       "    }\n",
       "</style>\n",
       "<table border=\"1\" class=\"dataframe\">\n",
       "  <thead>\n",
       "    <tr style=\"text-align: right;\">\n",
       "      <th></th>\n",
       "      <th>ID</th>\n",
       "      <th>first_party</th>\n",
       "      <th>second_party</th>\n",
       "      <th>facts</th>\n",
       "    </tr>\n",
       "  </thead>\n",
       "  <tbody>\n",
       "    <tr>\n",
       "      <th>0</th>\n",
       "      <td>TEST_0000</td>\n",
       "      <td>Salerno</td>\n",
       "      <td>United States</td>\n",
       "      <td>The 1984 Bail Reform Act allowed the federal c...</td>\n",
       "    </tr>\n",
       "    <tr>\n",
       "      <th>1</th>\n",
       "      <td>TEST_0001</td>\n",
       "      <td>Milberg Weiss Bershad Hynes and Lerach</td>\n",
       "      <td>Lexecon, Inc.</td>\n",
       "      <td>Lexecon Inc. was a defendant in a class action...</td>\n",
       "    </tr>\n",
       "    <tr>\n",
       "      <th>2</th>\n",
       "      <td>TEST_0002</td>\n",
       "      <td>No. 07-582\\t Title: \\t Federal Communications ...</td>\n",
       "      <td>Fox Television Stations, Inc., et al.</td>\n",
       "      <td>In 2002 and 2003, Fox Television Stations broa...</td>\n",
       "    </tr>\n",
       "    <tr>\n",
       "      <th>3</th>\n",
       "      <td>TEST_0003</td>\n",
       "      <td>Harold Kaufman</td>\n",
       "      <td>United States</td>\n",
       "      <td>During his trial for armed robbery of a federa...</td>\n",
       "    </tr>\n",
       "    <tr>\n",
       "      <th>4</th>\n",
       "      <td>TEST_0004</td>\n",
       "      <td>Berger</td>\n",
       "      <td>Hanlon</td>\n",
       "      <td>In 1993, a magistrate judge issued a warrant a...</td>\n",
       "    </tr>\n",
       "  </tbody>\n",
       "</table>\n",
       "</div>"
      ],
      "text/plain": [
       "          ID                                        first_party  \\\n",
       "0  TEST_0000                                            Salerno   \n",
       "1  TEST_0001             Milberg Weiss Bershad Hynes and Lerach   \n",
       "2  TEST_0002  No. 07-582\\t Title: \\t Federal Communications ...   \n",
       "3  TEST_0003                                    Harold Kaufman    \n",
       "4  TEST_0004                                             Berger   \n",
       "\n",
       "                            second_party  \\\n",
       "0                          United States   \n",
       "1                          Lexecon, Inc.   \n",
       "2  Fox Television Stations, Inc., et al.   \n",
       "3                          United States   \n",
       "4                                 Hanlon   \n",
       "\n",
       "                                               facts  \n",
       "0  The 1984 Bail Reform Act allowed the federal c...  \n",
       "1  Lexecon Inc. was a defendant in a class action...  \n",
       "2  In 2002 and 2003, Fox Television Stations broa...  \n",
       "3  During his trial for armed robbery of a federa...  \n",
       "4  In 1993, a magistrate judge issued a warrant a...  "
      ]
     },
     "metadata": {},
     "output_type": "display_data"
    }
   ],
   "source": [
    "display(train_df.head())\n",
    "display(test_df.head())"
   ]
  },
  {
   "cell_type": "code",
   "execution_count": 5,
   "id": "2ce88281",
   "metadata": {
    "ExecuteTime": {
     "end_time": "2024-03-18T05:20:01.505747Z",
     "start_time": "2024-03-18T05:20:01.501048Z"
    }
   },
   "outputs": [
    {
     "data": {
      "text/plain": [
       "first_party_winner\n",
       "0     829\n",
       "1    1649\n",
       "dtype: int64"
      ]
     },
     "execution_count": 5,
     "metadata": {},
     "output_type": "execute_result"
    }
   ],
   "source": [
    "train_df.groupby('first_party_winner').size()"
   ]
  },
  {
   "cell_type": "markdown",
   "id": "4ce13b7f",
   "metadata": {},
   "source": [
    "# 데이터 전처리"
   ]
  },
  {
   "cell_type": "markdown",
   "id": "621cab20",
   "metadata": {},
   "source": [
    "## 단어 처리"
   ]
  },
  {
   "cell_type": "code",
   "execution_count": 6,
   "id": "a24a9219",
   "metadata": {
    "ExecuteTime": {
     "end_time": "2024-03-18T05:20:01.510956Z",
     "start_time": "2024-03-18T05:20:01.506750Z"
    }
   },
   "outputs": [],
   "source": [
    "# 문자 처리\n",
    "cat_cols = ['first_party', 'second_party', 'facts']\n",
    "\n",
    "# \\b : 단어 경계, W* : 길이가 0이상이고 단어가 아닌 문자, w{1} : 길이가 1인 단어\n",
    "short_word = re.compile(r'\\W*\\b\\w{1}\\b') # 길이가 1인 단어 찾기\n",
    "tokenizer = TreebankWordTokenizer() # 단어 단위로 토큰화\n",
    "stopword = stopwords.words('english') # 불용어 리스트 가져오기\n",
    "lemmatizer = WordNetLemmatizer() # 단어의 기본 형태 가져오기"
   ]
  },
  {
   "cell_type": "code",
   "execution_count": 7,
   "id": "229dfb19",
   "metadata": {
    "ExecuteTime": {
     "end_time": "2024-03-18T05:20:01.517172Z",
     "start_time": "2024-03-18T05:20:01.511961Z"
    }
   },
   "outputs": [],
   "source": [
    "def prepro1(df):\n",
    "        df = df.strip() # 공백 제거\n",
    "        df = df.lower() # 소문자로 변경\n",
    "        df = df.replace(',', '')\n",
    "        df = df.replace('.', '')\n",
    "        \n",
    "\n",
    "        content = short_word.sub('', df) # 한 글자 단어 제거\n",
    "        com = re.compile(r\"[^\\uAC00-\\uD7A30-9a-zA-Z\\s]\") # 한글, 영어, 숫자 및 공백 문자를 제외한 모든 문자를 매칭\n",
    "        content = com.sub('', content)\n",
    "        tokens = tokenizer.tokenize(content) # 단어 토큰화\n",
    "        token_lst = []\n",
    "\n",
    "        for token in tokens:\n",
    "            if token not in stopword: #불용어 제거\n",
    "                token_lst.append(lemmatizer.lemmatize(token, 'n')) # 단어의 기본 형태 가져오기\n",
    "        return token_lst"
   ]
  },
  {
   "cell_type": "code",
   "execution_count": 8,
   "id": "c9711d45",
   "metadata": {
    "ExecuteTime": {
     "end_time": "2024-03-18T05:20:06.833019Z",
     "start_time": "2024-03-18T05:20:01.518177Z"
    }
   },
   "outputs": [],
   "source": [
    "train_df['first_party'] = train_df['first_party'].apply(prepro1)\n",
    "train_df['second_party'] = train_df['second_party'].apply(prepro1)\n",
    "train_df['facts'] = train_df['facts'].apply(prepro1)\n",
    "\n",
    "test_df['first_party'] = test_df['first_party'].apply(prepro1)\n",
    "test_df['second_party'] = test_df['second_party'].apply(prepro1)\n",
    "test_df['facts'] = test_df['facts'].apply(prepro1)"
   ]
  },
  {
   "cell_type": "code",
   "execution_count": 9,
   "id": "2b862288",
   "metadata": {
    "ExecuteTime": {
     "end_time": "2024-03-18T05:20:06.839800Z",
     "start_time": "2024-03-18T05:20:06.835811Z"
    }
   },
   "outputs": [],
   "source": [
    "all_text = train_df['first_party'].tolist() + train_df['second_party'].tolist() + train_df['facts'].tolist()"
   ]
  },
  {
   "cell_type": "code",
   "execution_count": 10,
   "id": "794fa586",
   "metadata": {
    "ExecuteTime": {
     "end_time": "2024-03-18T05:20:06.886693Z",
     "start_time": "2024-03-18T05:20:06.841839Z"
    }
   },
   "outputs": [],
   "source": [
    "train_word_counts = train_df['facts'].apply(lambda x : len(str(x).split()))"
   ]
  },
  {
   "cell_type": "code",
   "execution_count": 11,
   "id": "b0f6b214",
   "metadata": {
    "ExecuteTime": {
     "end_time": "2024-03-18T05:20:07.060241Z",
     "start_time": "2024-03-18T05:20:06.887995Z"
    }
   },
   "outputs": [
    {
     "data": {
      "image/png": "[encoded data removed]",
      "text/plain": [
       "<Figure size 1000x600 with 1 Axes>"
      ]
     },
     "metadata": {},
     "output_type": "display_data"
    }
   ],
   "source": [
    "plt.figure(figsize=(10, 6))\n",
    "plt.hist(train_word_counts, bins=20, edgecolor='black')\n",
    "plt.xlabel('Word Count')\n",
    "plt.ylabel('Frequency')\n",
    "plt.title('Distribution of Word Count')\n",
    "plt.show()"
   ]
  },
  {
   "cell_type": "markdown",
   "id": "e2bd40f3",
   "metadata": {},
   "source": [
    "## fasttext"
   ]
  },
  {
   "cell_type": "markdown",
   "id": "dce4831b",
   "metadata": {},
   "source": [
    "'FastText'를 사용해 사전 훈련된 단어 임베딩을 가져오고, 이를 사용해 keras의 임베딩 레이어를 초기화한다\n",
    "\n",
    "=> FastText 모델에서 얻은 단어 임베딩을 임베딩 행렬로 저장하고 있습니다. 이러한 저장된 임베딩 행렬은 후에 모델을 구축할 때 사용"
   ]
  },
  {
   "cell_type": "code",
   "execution_count": 12,
   "id": "a48c48f1",
   "metadata": {
    "ExecuteTime": {
     "end_time": "2024-03-18T05:20:13.954049Z",
     "start_time": "2024-03-18T05:20:07.061691Z"
    }
   },
   "outputs": [],
   "source": [
    "model = FastText(all_text, vector_size = 100, window = 5, min_count = 1, workers = 4, sg = 1)\n",
    "\n",
    "# tokenizer를 사용해 단어 인덱스를 생성\n",
    "tokenizer = Tokenizer()\n",
    "tokenizer.fit_on_texts(all_text)\n",
    "word_index = tokenizer.word_index"
   ]
  },
  {
   "cell_type": "code",
   "execution_count": 13,
   "id": "69853a6d",
   "metadata": {
    "ExecuteTime": {
     "end_time": "2024-03-18T05:20:13.957661Z",
     "start_time": "2024-03-18T05:20:13.955329Z"
    }
   },
   "outputs": [],
   "source": [
    "embedding_dim = 100"
   ]
  },
  {
   "cell_type": "code",
   "execution_count": 14,
   "id": "244a886a",
   "metadata": {
    "ExecuteTime": {
     "end_time": "2024-03-18T05:20:13.999992Z",
     "start_time": "2024-03-18T05:20:13.958666Z"
    }
   },
   "outputs": [],
   "source": [
    "# embedding matrix\n",
    "\n",
    "embedding_matrix = np.zeros((len(word_index) + 1, embedding_dim)) # 단어 수 X 임베딩 차원\n",
    "\n",
    "for word, i in word_index.items():\n",
    "    if word in model.wv:\n",
    "        embedding_vec = model.wv[word]\n",
    "        embedding_matrix[i] = embedding_vec"
   ]
  },
  {
   "cell_type": "code",
   "execution_count": 15,
   "id": "12050b35",
   "metadata": {
    "ExecuteTime": {
     "end_time": "2024-03-18T05:20:14.167149Z",
     "start_time": "2024-03-18T05:20:14.000496Z"
    }
   },
   "outputs": [
    {
     "name": "stdout",
     "output_type": "stream",
     "text": [
      "WARNING:tensorflow:From C:\\Users\\mit005\\anaconda3\\Lib\\site-packages\\keras\\src\\backend.py:873: The name tf.get_default_graph is deprecated. Please use tf.compat.v1.get_default_graph instead.\n",
      "\n"
     ]
    }
   ],
   "source": [
    "# embeddings_initializer : 임베딩 레이어의 가중치를 초기화\n",
    "# trainable = Fasle : 사전 훈련된 임베딩을 고정\n",
    "embedding_layer = Embedding(len(word_index) + 1, embedding_dim, embeddings_initializer = Constant(embedding_matrix), trainable = False)"
   ]
  },
  {
   "cell_type": "code",
   "execution_count": 16,
   "id": "6d5e04db",
   "metadata": {
    "ExecuteTime": {
     "end_time": "2024-03-18T05:20:14.171702Z",
     "start_time": "2024-03-18T05:20:14.168178Z"
    }
   },
   "outputs": [],
   "source": [
    "def get_vec(model, texts):\n",
    "    vects = []\n",
    "    \n",
    "    for text in texts:\n",
    "        text_vects = []\n",
    "        for word in text:\n",
    "            if word in model.wv.key_to_index:\n",
    "                text_vects.append(model.wv.get_vector(word))\n",
    "        if len(text_vects) > 0:\n",
    "            text_vects = np.mean(text_vects, axis = 0)\n",
    "            vects.append(text_vects)\n",
    "        else:\n",
    "            vects.append(np.zeros(model.vector_size))\n",
    "    \n",
    "    return np.array(vects)"
   ]
  },
  {
   "cell_type": "code",
   "execution_count": 17,
   "id": "5f7a9b14",
   "metadata": {
    "ExecuteTime": {
     "end_time": "2024-03-18T05:20:14.696459Z",
     "start_time": "2024-03-18T05:20:14.172706Z"
    }
   },
   "outputs": [],
   "source": [
    "X_train_first = get_vec(model, train_df['first_party'])\n",
    "X_train_second = get_vec(model, train_df['second_party'])\n",
    "X_train_facts = get_vec(model, train_df['facts'])\n",
    "\n",
    "X_train = np.concatenate([X_train_first, X_train_second, X_train_facts], axis = 1)\n",
    "y_train = train_df['first_party_winner']"
   ]
  },
  {
   "cell_type": "code",
   "execution_count": 18,
   "id": "8f11ad7c",
   "metadata": {
    "ExecuteTime": {
     "end_time": "2024-03-18T05:20:14.956087Z",
     "start_time": "2024-03-18T05:20:14.697076Z"
    }
   },
   "outputs": [],
   "source": [
    "X_test_first = get_vec(model, test_df['first_party'])\n",
    "X_test_second = get_vec(model, test_df['second_party'])\n",
    "X_test_facts = get_vec(model, test_df['facts'])\n",
    "\n",
    "X_test = np.concatenate([X_test_first, X_test_second, X_test_facts], axis = 1)"
   ]
  },
  {
   "cell_type": "markdown",
   "id": "b2b51c7b",
   "metadata": {},
   "source": [
    "## 불균형 데이터 처리"
   ]
  },
  {
   "cell_type": "code",
   "execution_count": 19,
   "id": "51bb91ec",
   "metadata": {
    "ExecuteTime": {
     "end_time": "2024-03-18T05:20:15.167103Z",
     "start_time": "2024-03-18T05:20:14.957381Z"
    }
   },
   "outputs": [
    {
     "name": "stdout",
     "output_type": "stream",
     "text": [
      "train shape : (3298, 300), (3298,)\n"
     ]
    }
   ],
   "source": [
    "X_smote, y_smote = SMOTE(k_neighbors=5).fit_resample(X_train, y_train)\n",
    "print('train shape : {}, {}'.format(X_smote.shape, y_smote.shape))"
   ]
  },
  {
   "cell_type": "code",
   "execution_count": 20,
   "id": "82c0e7a5",
   "metadata": {
    "ExecuteTime": {
     "end_time": "2024-03-18T05:20:15.172383Z",
     "start_time": "2024-03-18T05:20:15.168105Z"
    }
   },
   "outputs": [
    {
     "data": {
      "text/plain": [
       "first_party_winner\n",
       "1    1649\n",
       "0    1649\n",
       "Name: count, dtype: int64"
      ]
     },
     "execution_count": 20,
     "metadata": {},
     "output_type": "execute_result"
    }
   ],
   "source": [
    "y_smote.value_counts()"
   ]
  },
  {
   "cell_type": "markdown",
   "id": "3ec92e12",
   "metadata": {},
   "source": [
    "## train데이터 셋으로 train, val 데이터 셋으로 분리"
   ]
  },
  {
   "cell_type": "code",
   "execution_count": 21,
   "id": "bb7cb7cb",
   "metadata": {
    "ExecuteTime": {
     "end_time": "2024-03-18T05:20:15.182427Z",
     "start_time": "2024-03-18T05:20:15.173386Z"
    }
   },
   "outputs": [
    {
     "name": "stdout",
     "output_type": "stream",
     "text": [
      "Train shape : (2638, 300), (2638,)\n",
      "first_party_winner\n",
      "1    1328\n",
      "0    1310\n",
      "Name: count, dtype: int64\n",
      "\n",
      "Validation shape : (660, 300), (660,)\n",
      "first_party_winner\n",
      "0    339\n",
      "1    321\n",
      "Name: count, dtype: int64\n"
     ]
    }
   ],
   "source": [
    "X_train, X_val, y_train, y_val = train_test_split(X_smote, y_smote, random_state = 123, test_size = 0.2)\n",
    "\n",
    "print('Train shape : {}, {}'.format(X_train.shape, y_train.shape))\n",
    "print(y_train.value_counts())\n",
    "\n",
    "print()\n",
    "\n",
    "print('Validation shape : {}, {}'.format(X_val.shape, y_val.shape))\n",
    "print(y_val.value_counts())"
   ]
  },
  {
   "cell_type": "code",
   "execution_count": 22,
   "id": "89e41a8a",
   "metadata": {
    "ExecuteTime": {
     "end_time": "2024-03-18T05:20:15.187069Z",
     "start_time": "2024-03-18T05:20:15.183432Z"
    }
   },
   "outputs": [],
   "source": [
    "# 차원 변경\n",
    "\n",
    "X_train = X_train.reshape(X_train.shape[0], -1)\n",
    "X_test = X_test.reshape(X_test.shape[0], -1)\n",
    "X_val = X_val.reshape(X_val.shape[0], -1)"
   ]
  },
  {
   "cell_type": "code",
   "execution_count": 23,
   "id": "50f6b8a8",
   "metadata": {
    "ExecuteTime": {
     "end_time": "2024-03-18T05:20:15.192361Z",
     "start_time": "2024-03-18T05:20:15.188097Z"
    }
   },
   "outputs": [
    {
     "data": {
      "text/plain": [
       "array([[ 0.15461463,  0.50219664, -0.05179121, ..., -0.10044539,\n",
       "         0.21156137, -0.12030811],\n",
       "       [ 0.16206184,  0.27329791,  0.04709373, ..., -0.17021237,\n",
       "         0.1606504 , -0.14930479],\n",
       "       [ 0.22221737,  0.29524997, -0.06287609, ..., -0.18781312,\n",
       "         0.2027446 , -0.12025161],\n",
       "       ...,\n",
       "       [ 0.07523935,  0.36453649, -0.10817528, ..., -0.13457872,\n",
       "         0.17272072, -0.15830959],\n",
       "       [ 0.09720055,  0.26590884,  0.00346637, ..., -0.19288647,\n",
       "         0.28080854,  0.0270282 ],\n",
       "       [ 0.17792638,  0.41726467, -0.01526904, ..., -0.1426084 ,\n",
       "         0.23860209, -0.0562922 ]])"
      ]
     },
     "execution_count": 23,
     "metadata": {},
     "output_type": "execute_result"
    }
   ],
   "source": [
    "X_train"
   ]
  },
  {
   "cell_type": "markdown",
   "id": "4ee94189",
   "metadata": {},
   "source": [
    "# 모델링"
   ]
  },
  {
   "cell_type": "code",
   "execution_count": 24,
   "id": "b3a69075",
   "metadata": {
    "ExecuteTime": {
     "end_time": "2024-03-18T05:20:15.197645Z",
     "start_time": "2024-03-18T05:20:15.193366Z"
    }
   },
   "outputs": [],
   "source": [
    "# Optuna를 사용하여 하이퍼파라미터 튜닝을 수행하기 위한 것\n",
    "\n",
    "def objective(trial):\n",
    "    C = trial.suggest_loguniform('C', 0.001, 100)\n",
    "    solver = trial.suggest_categorical('solver', ['newton-cg', 'lbfgs', 'liblinear', 'sag', 'saga'])\n",
    "    max_iter = trial.suggest_int('max_iter', 100, 1000)\n",
    "    class_weight = trial.suggest_categorical('class_weight', [None, 'balanced'])\n",
    "    \n",
    "    logistic_model = LogisticRegression(C = C, solver = solver, max_iter = max_iter, class_weight = class_weight)\n",
    "    logistic_model.fit(X_train, y_train)\n",
    "    accuracy = logistic_model.score(X_val, y_val)\n",
    "    \n",
    "    return accuracy"
   ]
  },
  {
   "cell_type": "code",
   "execution_count": 25,
   "id": "d0f521d1",
   "metadata": {
    "ExecuteTime": {
     "end_time": "2024-03-18T05:20:41.361744Z",
     "start_time": "2024-03-18T05:20:15.198649Z"
    },
    "scrolled": true
   },
   "outputs": [
    {
     "name": "stderr",
     "output_type": "stream",
     "text": [
      "[I 2024-03-18 14:20:15,201] A new study created in memory with name: no-name-16cd79d1-2830-49a6-b3f1-e06f748a1e79\n",
      "[I 2024-03-18 14:20:15,237] Trial 0 finished with value: 0.6075757575757575 and parameters: {'C': 6.137584537394515, 'solver': 'lbfgs', 'max_iter': 290, 'class_weight': 'balanced'}. Best is trial 0 with value: 0.6075757575757575.\n",
      "[I 2024-03-18 14:20:15,354] Trial 1 finished with value: 0.5984848484848485 and parameters: {'C': 34.77073931483529, 'solver': 'lbfgs', 'max_iter': 500, 'class_weight': None}. Best is trial 0 with value: 0.6075757575757575.\n",
      "[I 2024-03-18 14:20:17,068] Trial 2 finished with value: 0.5787878787878787 and parameters: {'C': 0.44022159368646274, 'solver': 'saga', 'max_iter': 586, 'class_weight': None}. Best is trial 0 with value: 0.6075757575757575.\n",
      "[I 2024-03-18 14:20:17,088] Trial 3 finished with value: 0.5651515151515152 and parameters: {'C': 0.0890645651594613, 'solver': 'lbfgs', 'max_iter': 748, 'class_weight': None}. Best is trial 0 with value: 0.6075757575757575.\n",
      "[I 2024-03-18 14:20:17,101] Trial 4 finished with value: 0.55 and parameters: {'C': 0.011183406429189123, 'solver': 'lbfgs', 'max_iter': 577, 'class_weight': 'balanced'}. Best is trial 0 with value: 0.6075757575757575.\n",
      "[I 2024-03-18 14:20:17,874] Trial 5 finished with value: 0.5651515151515152 and parameters: {'C': 0.07387223402052188, 'solver': 'saga', 'max_iter': 168, 'class_weight': 'balanced'}. Best is trial 0 with value: 0.6075757575757575.\n",
      "[I 2024-03-18 14:20:17,927] Trial 6 finished with value: 0.5969696969696969 and parameters: {'C': 1.7834922414351726, 'solver': 'lbfgs', 'max_iter': 652, 'class_weight': 'balanced'}. Best is trial 0 with value: 0.6075757575757575.\n",
      "[I 2024-03-18 14:20:17,953] Trial 7 finished with value: 0.5545454545454546 and parameters: {'C': 0.011556934926177419, 'solver': 'newton-cg', 'max_iter': 811, 'class_weight': None}. Best is trial 0 with value: 0.6075757575757575.\n",
      "[I 2024-03-18 14:20:17,987] Trial 8 finished with value: 0.5787878787878787 and parameters: {'C': 0.5729388187443795, 'solver': 'newton-cg', 'max_iter': 832, 'class_weight': None}. Best is trial 0 with value: 0.6075757575757575.\n",
      "[I 2024-03-18 14:20:18,042] Trial 9 finished with value: 0.6075757575757575 and parameters: {'C': 4.773392082625625, 'solver': 'lbfgs', 'max_iter': 632, 'class_weight': None}. Best is trial 0 with value: 0.6075757575757575.\n",
      "[I 2024-03-18 14:20:19,605] Trial 10 finished with value: 0.5984848484848485 and parameters: {'C': 24.501903437036976, 'solver': 'sag', 'max_iter': 266, 'class_weight': 'balanced'}. Best is trial 0 with value: 0.6075757575757575.\n",
      "[I 2024-03-18 14:20:19,874] Trial 11 finished with value: 0.5984848484848485 and parameters: {'C': 4.856646592144472, 'solver': 'liblinear', 'max_iter': 389, 'class_weight': 'balanced'}. Best is trial 0 with value: 0.6075757575757575.\n",
      "[I 2024-03-18 14:20:19,923] Trial 12 finished with value: 0.6106060606060606 and parameters: {'C': 6.772434114109104, 'solver': 'lbfgs', 'max_iter': 994, 'class_weight': 'balanced'}. Best is trial 12 with value: 0.6106060606060606.\n",
      "[I 2024-03-18 14:20:25,346] Trial 13 finished with value: 0.6045454545454545 and parameters: {'C': 83.69140529709753, 'solver': 'sag', 'max_iter': 934, 'class_weight': 'balanced'}. Best is trial 12 with value: 0.6106060606060606.\n",
      "[I 2024-03-18 14:20:25,654] Trial 14 finished with value: 0.6090909090909091 and parameters: {'C': 8.779192622940258, 'solver': 'liblinear', 'max_iter': 389, 'class_weight': 'balanced'}. Best is trial 12 with value: 0.6106060606060606.\n",
      "[I 2024-03-18 14:20:26,051] Trial 15 finished with value: 0.6045454545454545 and parameters: {'C': 13.195904412799278, 'solver': 'liblinear', 'max_iter': 974, 'class_weight': 'balanced'}. Best is trial 12 with value: 0.6106060606060606.\n",
      "[I 2024-03-18 14:20:26,099] Trial 16 finished with value: 0.5348484848484848 and parameters: {'C': 0.0017648699418271827, 'solver': 'liblinear', 'max_iter': 433, 'class_weight': 'balanced'}. Best is trial 12 with value: 0.6106060606060606.\n",
      "[I 2024-03-18 14:20:26,326] Trial 17 finished with value: 0.5878787878787879 and parameters: {'C': 2.0033309855528443, 'solver': 'liblinear', 'max_iter': 125, 'class_weight': 'balanced'}. Best is trial 12 with value: 0.6106060606060606.\n",
      "[I 2024-03-18 14:20:26,507] Trial 18 finished with value: 0.5878787878787879 and parameters: {'C': 1.068237146835672, 'solver': 'liblinear', 'max_iter': 354, 'class_weight': 'balanced'}. Best is trial 12 with value: 0.6106060606060606.\n",
      "[I 2024-03-18 14:20:27,920] Trial 19 finished with value: 0.6015151515151516 and parameters: {'C': 74.53575728752023, 'solver': 'sag', 'max_iter': 242, 'class_weight': 'balanced'}. Best is trial 12 with value: 0.6106060606060606.\n",
      "[I 2024-03-18 14:20:28,990] Trial 20 finished with value: 0.5712121212121212 and parameters: {'C': 0.13511830817822182, 'solver': 'saga', 'max_iter': 482, 'class_weight': 'balanced'}. Best is trial 12 with value: 0.6106060606060606.\n",
      "[I 2024-03-18 14:20:29,044] Trial 21 finished with value: 0.603030303030303 and parameters: {'C': 7.9156231179309575, 'solver': 'lbfgs', 'max_iter': 308, 'class_weight': 'balanced'}. Best is trial 12 with value: 0.6106060606060606.\n",
      "[I 2024-03-18 14:20:29,117] Trial 22 finished with value: 0.6060606060606061 and parameters: {'C': 17.464892576261953, 'solver': 'lbfgs', 'max_iter': 186, 'class_weight': 'balanced'}. Best is trial 12 with value: 0.6106060606060606.\n",
      "[I 2024-03-18 14:20:29,162] Trial 23 finished with value: 0.5969696969696969 and parameters: {'C': 2.728845625748545, 'solver': 'lbfgs', 'max_iter': 347, 'class_weight': 'balanced'}. Best is trial 12 with value: 0.6106060606060606.\n",
      "[I 2024-03-18 14:20:29,219] Trial 24 finished with value: 0.6015151515151516 and parameters: {'C': 8.731526042386047, 'solver': 'newton-cg', 'max_iter': 441, 'class_weight': 'balanced'}. Best is trial 12 with value: 0.6106060606060606.\n",
      "[I 2024-03-18 14:20:29,703] Trial 25 finished with value: 0.6045454545454545 and parameters: {'C': 35.28673451289055, 'solver': 'liblinear', 'max_iter': 267, 'class_weight': 'balanced'}. Best is trial 12 with value: 0.6106060606060606.\n",
      "[I 2024-03-18 14:20:29,758] Trial 26 finished with value: 0.6090909090909091 and parameters: {'C': 4.512585701774338, 'solver': 'lbfgs', 'max_iter': 523, 'class_weight': 'balanced'}. Best is trial 12 with value: 0.6106060606060606.\n",
      "[I 2024-03-18 14:20:29,814] Trial 27 finished with value: 0.5833333333333334 and parameters: {'C': 0.8773547701411605, 'solver': 'lbfgs', 'max_iter': 679, 'class_weight': 'balanced'}. Best is trial 12 with value: 0.6106060606060606.\n",
      "[I 2024-03-18 14:20:29,925] Trial 28 finished with value: 0.5696969696969697 and parameters: {'C': 0.220923326257031, 'solver': 'liblinear', 'max_iter': 726, 'class_weight': 'balanced'}. Best is trial 12 with value: 0.6106060606060606.\n",
      "[I 2024-03-18 14:20:29,985] Trial 29 finished with value: 0.6015151515151516 and parameters: {'C': 2.9910020945698665, 'solver': 'lbfgs', 'max_iter': 526, 'class_weight': 'balanced'}. Best is trial 12 with value: 0.6106060606060606.\n",
      "[I 2024-03-18 14:20:32,756] Trial 30 finished with value: 0.6060606060606061 and parameters: {'C': 11.974640923146925, 'solver': 'sag', 'max_iter': 903, 'class_weight': 'balanced'}. Best is trial 12 with value: 0.6106060606060606.\n",
      "[I 2024-03-18 14:20:32,878] Trial 31 finished with value: 0.5954545454545455 and parameters: {'C': 43.8860490565582, 'solver': 'lbfgs', 'max_iter': 483, 'class_weight': 'balanced'}. Best is trial 12 with value: 0.6106060606060606.\n",
      "[I 2024-03-18 14:20:32,939] Trial 32 finished with value: 0.6045454545454545 and parameters: {'C': 5.937045720680098, 'solver': 'lbfgs', 'max_iter': 405, 'class_weight': None}. Best is trial 12 with value: 0.6106060606060606.\n",
      "[I 2024-03-18 14:20:32,991] Trial 33 finished with value: 0.5909090909090909 and parameters: {'C': 1.188172511581023, 'solver': 'lbfgs', 'max_iter': 550, 'class_weight': 'balanced'}. Best is trial 12 with value: 0.6106060606060606.\n",
      "[I 2024-03-18 14:20:37,117] Trial 34 finished with value: 0.6 and parameters: {'C': 34.92642081722176, 'solver': 'saga', 'max_iter': 606, 'class_weight': None}. Best is trial 12 with value: 0.6106060606060606.\n",
      "[I 2024-03-18 14:20:37,158] Trial 35 finished with value: 0.603030303030303 and parameters: {'C': 3.593987821154702, 'solver': 'lbfgs', 'max_iter': 324, 'class_weight': 'balanced'}. Best is trial 12 with value: 0.6106060606060606.\n"
     ]
    },
    {
     "name": "stderr",
     "output_type": "stream",
     "text": [
      "[I 2024-03-18 14:20:37,239] Trial 36 finished with value: 0.5954545454545455 and parameters: {'C': 13.987321364896872, 'solver': 'lbfgs', 'max_iter': 204, 'class_weight': 'balanced'}. Best is trial 12 with value: 0.6106060606060606.\n",
      "[I 2024-03-18 14:20:38,971] Trial 37 finished with value: 0.5757575757575758 and parameters: {'C': 0.38613700670340173, 'solver': 'saga', 'max_iter': 494, 'class_weight': None}. Best is trial 12 with value: 0.6106060606060606.\n",
      "[I 2024-03-18 14:20:38,995] Trial 38 finished with value: 0.5545454545454546 and parameters: {'C': 0.029415210858586113, 'solver': 'lbfgs', 'max_iter': 570, 'class_weight': 'balanced'}. Best is trial 12 with value: 0.6106060606060606.\n",
      "[I 2024-03-18 14:20:39,041] Trial 39 finished with value: 0.593939393939394 and parameters: {'C': 1.941287503070607, 'solver': 'newton-cg', 'max_iter': 118, 'class_weight': 'balanced'}. Best is trial 12 with value: 0.6106060606060606.\n",
      "[I 2024-03-18 14:20:39,133] Trial 40 finished with value: 0.5969696969696969 and parameters: {'C': 21.796538343905823, 'solver': 'lbfgs', 'max_iter': 810, 'class_weight': None}. Best is trial 12 with value: 0.6106060606060606.\n",
      "[I 2024-03-18 14:20:39,203] Trial 41 finished with value: 0.6060606060606061 and parameters: {'C': 5.697629287824951, 'solver': 'lbfgs', 'max_iter': 758, 'class_weight': None}. Best is trial 12 with value: 0.6106060606060606.\n",
      "[I 2024-03-18 14:20:39,263] Trial 42 finished with value: 0.6075757575757575 and parameters: {'C': 3.9040751063904824, 'solver': 'lbfgs', 'max_iter': 634, 'class_weight': None}. Best is trial 12 with value: 0.6106060606060606.\n",
      "[I 2024-03-18 14:20:39,334] Trial 43 finished with value: 0.6060606060606061 and parameters: {'C': 9.470556394093581, 'solver': 'lbfgs', 'max_iter': 857, 'class_weight': None}. Best is trial 12 with value: 0.6106060606060606.\n",
      "[I 2024-03-18 14:20:39,389] Trial 44 finished with value: 0.5909090909090909 and parameters: {'C': 1.5001894090154604, 'solver': 'lbfgs', 'max_iter': 394, 'class_weight': None}. Best is trial 12 with value: 0.6106060606060606.\n",
      "[I 2024-03-18 14:20:39,527] Trial 45 finished with value: 0.5878787878787879 and parameters: {'C': 0.6402728302261045, 'solver': 'liblinear', 'max_iter': 699, 'class_weight': None}. Best is trial 12 with value: 0.6106060606060606.\n",
      "[I 2024-03-18 14:20:39,598] Trial 46 finished with value: 0.6015151515151516 and parameters: {'C': 49.69912936613282, 'solver': 'newton-cg', 'max_iter': 436, 'class_weight': 'balanced'}. Best is trial 12 with value: 0.6106060606060606.\n",
      "[I 2024-03-18 14:20:39,692] Trial 47 finished with value: 0.6060606060606061 and parameters: {'C': 19.605929089531163, 'solver': 'lbfgs', 'max_iter': 980, 'class_weight': 'balanced'}. Best is trial 12 with value: 0.6106060606060606.\n",
      "[I 2024-03-18 14:20:41,310] Trial 48 finished with value: 0.603030303030303 and parameters: {'C': 5.788639268683071, 'solver': 'sag', 'max_iter': 303, 'class_weight': None}. Best is trial 12 with value: 0.6106060606060606.\n",
      "[I 2024-03-18 14:20:41,358] Trial 49 finished with value: 0.5378787878787878 and parameters: {'C': 0.002844612597032761, 'solver': 'liblinear', 'max_iter': 244, 'class_weight': 'balanced'}. Best is trial 12 with value: 0.6106060606060606.\n"
     ]
    },
    {
     "name": "stdout",
     "output_type": "stream",
     "text": [
      "Best Parameters :  {'C': 6.772434114109104, 'solver': 'lbfgs', 'max_iter': 994, 'class_weight': 'balanced'}\n",
      "Best Value :  0.6106060606060606\n"
     ]
    }
   ],
   "source": [
    "# objective 함수는 Optuna의 suggest_ 메서드를 사용하여 하이퍼파라미터 공간에서 샘플링하는 함수\n",
    "study = optuna.create_study(direction = 'maximize')\n",
    "# study 객체를 생성한 후 optimize 메서드를 사용하여 주어진 목적 함수(objective)를 최대화하는 방향으로 하이퍼파라미터를 조정\n",
    "study.optimize(objective, n_trials = 50)\n",
    "\n",
    "# Print the best hyperparameters and objective value\n",
    "best_params = study.best_params\n",
    "best_value = study.best_value\n",
    "print(\"Best Parameters : \", best_params)\n",
    "print(\"Best Value : \", best_value)"
   ]
  },
  {
   "cell_type": "code",
   "execution_count": 26,
   "id": "3dfafe9b",
   "metadata": {
    "ExecuteTime": {
     "end_time": "2024-03-18T05:20:41.448557Z",
     "start_time": "2024-03-18T05:20:41.363254Z"
    }
   },
   "outputs": [
    {
     "name": "stdout",
     "output_type": "stream",
     "text": [
      "Accuracy: 0.6106060606060606\n",
      "Best Thresholds : 1.0\n"
     ]
    }
   ],
   "source": [
    "model = LogisticRegression(C = best_params['C'], solver = best_params['solver'], max_iter = best_params['max_iter'], class_weight = best_params['class_weight'], penalty='l2')\n",
    "model.fit(X_train, y_train)\n",
    "pred = model.predict(X_test)\n",
    "\n",
    "accuracy = model.score(X_val, y_val)\n",
    "print(\"Accuracy:\", accuracy)\n",
    "\n",
    "\n",
    "fpr, tpr, thresholds = roc_curve(y_val, model.predict(X_val).ravel())\n",
    "gmeans = np.sqrt(tpr * (1 - fpr))\n",
    "ix = np.argmax(gmeans)\n",
    "print('Best Thresholds : {}'.format(thresholds[ix]))"
   ]
  },
  {
   "cell_type": "code",
   "execution_count": 27,
   "id": "57d8ff61",
   "metadata": {
    "ExecuteTime": {
     "end_time": "2024-03-18T05:20:41.611309Z",
     "start_time": "2024-03-18T05:20:41.453052Z"
    }
   },
   "outputs": [
    {
     "data": {
      "text/plain": [
       "<matplotlib.legend.Legend at 0x1de6cdbe550>"
      ]
     },
     "execution_count": 27,
     "metadata": {},
     "output_type": "execute_result"
    },
    {
     "data": {
      "image/png": "[encoded data removed]",
      "text/plain": [
       "<Figure size 640x480 with 1 Axes>"
      ]
     },
     "metadata": {},
     "output_type": "display_data"
    }
   ],
   "source": [
    "fpr, tpr, _ = roc_curve(y_val, model.predict(X_val).ravel())\n",
    "roc_auc = auc(fpr, tpr)\n",
    "\n",
    "plt.figure()\n",
    "lw = 2\n",
    "plt.plot(fpr, tpr, color = 'darkorange',\n",
    "         lw = lw, label = 'ROC curve (area = %0.2f)' % roc_auc)\n",
    "plt.plot([0, 1], [0, 1], color = 'navy', lw = lw, linestyle = '--')\n",
    "plt.xlim([0.0, 1.0])\n",
    "plt.ylim([0.0, 1.05])\n",
    "plt.xlabel('False Positive Rate')\n",
    "plt.ylabel('True Positive Rate')\n",
    "plt.title('Receiver Operating Characteristic')\n",
    "plt.legend(loc=\"lower right\")\n"
   ]
  },
  {
   "cell_type": "code",
   "execution_count": 28,
   "id": "d15a7736",
   "metadata": {
    "ExecuteTime": {
     "end_time": "2024-03-18T05:20:41.616930Z",
     "start_time": "2024-03-18T05:20:41.612310Z"
    }
   },
   "outputs": [],
   "source": [
    "y_train_pred = model.predict(X_train)\n",
    "y_val_pred = model.predict(X_val)"
   ]
  },
  {
   "cell_type": "code",
   "execution_count": 29,
   "id": "451f7180",
   "metadata": {
    "ExecuteTime": {
     "end_time": "2024-03-18T05:20:41.620299Z",
     "start_time": "2024-03-18T05:20:41.617935Z"
    }
   },
   "outputs": [],
   "source": [
    "# y_train_pred = (y_train_pred > 0.5).astype(int)\n",
    "# y_val_pred = (y_val_pred > 0.5).astype(int)"
   ]
  },
  {
   "cell_type": "code",
   "execution_count": 30,
   "id": "3054d158",
   "metadata": {
    "ExecuteTime": {
     "end_time": "2024-03-18T05:20:41.626286Z",
     "start_time": "2024-03-18T05:20:41.621728Z"
    },
    "scrolled": true
   },
   "outputs": [
    {
     "name": "stdout",
     "output_type": "stream",
     "text": [
      "train accuracy :  0.6391205458680819\n",
      "validation accuracy :  0.6106060606060606\n"
     ]
    }
   ],
   "source": [
    "print('train accuracy : ', accuracy_score(y_train, y_train_pred))\n",
    "print('validation accuracy : ', accuracy_score(y_val, y_val_pred))"
   ]
  },
  {
   "cell_type": "markdown",
   "id": "8d70e0ff",
   "metadata": {},
   "source": [
    "# 제출"
   ]
  },
  {
   "cell_type": "code",
   "execution_count": 31,
   "id": "ff1ba43b",
   "metadata": {
    "ExecuteTime": {
     "end_time": "2024-03-18T05:20:41.629949Z",
     "start_time": "2024-03-18T05:20:41.627291Z"
    }
   },
   "outputs": [],
   "source": [
    "# y_pred = (pred > thresholds[ix]).astype(int).flatten()\n",
    "# submission_df['first_party_winner'] = y_pred\n",
    "# submission_df.to_csv('fasttext_smote_logit.csv', index = False)"
   ]
  },
  {
   "cell_type": "code",
   "execution_count": null,
   "id": "1d8e716e",
   "metadata": {},
   "outputs": [],
   "source": []
  }
 ],
 "metadata": {
  "kernelspec": {
   "display_name": "Python 3 (ipykernel)",
   "language": "python",
   "name": "python3"
  },
  "language_info": {
   "codemirror_mode": {
    "name": "ipython",
    "version": 3
   },
   "file_extension": ".py",
   "mimetype": "text/x-python",
   "name": "python",
   "nbconvert_exporter": "python",
   "pygments_lexer": "ipython3",
   "version": "3.11.5"
  },
  "toc": {
   "base_numbering": 1,
   "nav_menu": {},
   "number_sections": true,
   "sideBar": true,
   "skip_h1_title": false,
   "title_cell": "Table of Contents",
   "title_sidebar": "Contents",
   "toc_cell": false,
   "toc_position": {
    "height": "calc(100% - 180px)",
    "left": "10px",
    "top": "150px",
    "width": "165px"
   },
   "toc_section_display": true,
   "toc_window_display": false
  }
 },
 "nbformat": 4,
 "nbformat_minor": 5
}
