{
 "cells": [
  {
   "cell_type": "markdown",
   "id": "ca94ce9d",
   "metadata": {},
   "source": [
    "# 라이브러리 불러오기"
   ]
  },
  {
   "cell_type": "code",
   "execution_count": 1,
   "id": "f77213fd",
   "metadata": {
    "ExecuteTime": {
     "end_time": "2024-03-18T02:28:18.565590Z",
     "start_time": "2024-03-18T02:28:18.562804Z"
    }
   },
   "outputs": [],
   "source": [
    "# ! pip install -U imbalanced-learn scikit-learn\n",
    "# !pip install gensim\n",
    "# ! pip install optuna"
   ]
  },
  {
   "cell_type": "code",
   "execution_count": 39,
   "id": "814f548f",
   "metadata": {
    "ExecuteTime": {
     "end_time": "2024-03-18T02:56:28.956826Z",
     "start_time": "2024-03-18T02:56:28.951757Z"
    }
   },
   "outputs": [],
   "source": [
    "import numpy as np\n",
    "import pandas as pd\n",
    "import re\n",
    "import nltk\n",
    "# nltk.download('stopwords')\n",
    "# nltk.download('wordnet')\n",
    "import matplotlib.pyplot as plt\n",
    "\n",
    "from gensim.models import FastText\n",
    "from keras.preprocessing.text import Tokenizer\n",
    "from nltk.tokenize import TreebankWordTokenizer # 표준 토큰화\n",
    "from nltk.corpus import stopwords # 불용어 제거\n",
    "from nltk.stem import WordNetLemmatizer # 기본 형태로 변환\n",
    "from imblearn.under_sampling import NeighbourhoodCleaningRule # 비대칭이라 사용\n",
    "\n",
    "from sklearn.model_selection import train_test_split\n",
    "import tensorflow as tf\n",
    "from tensorflow.keras.models import Sequential\n",
    "from tensorflow.keras.layers import LSTM, Dropout, Dense, Embedding\n",
    "from tensorflow.keras.initializers import Constant\n",
    "import optuna\n",
    "from tensorflow.keras.layers import LSTM\n",
    "from tensorflow.keras.optimizers import Adam, RMSprop\n",
    "from tensorflow.keras.callbacks import EarlyStopping\n",
    "from sklearn.metrics import roc_curve, auc\n",
    "from sklearn.metrics import accuracy_score\n",
    "\n",
    "import warnings\n",
    "warnings.filterwarnings('ignore')"
   ]
  },
  {
   "cell_type": "markdown",
   "id": "35f21329",
   "metadata": {},
   "source": [
    "# 데이터 불러오기"
   ]
  },
  {
   "cell_type": "code",
   "execution_count": 3,
   "id": "9eb5a900",
   "metadata": {
    "ExecuteTime": {
     "end_time": "2024-03-18T02:28:26.231283Z",
     "start_time": "2024-03-18T02:28:26.178908Z"
    }
   },
   "outputs": [],
   "source": [
    "train_df = pd.read_csv('./data/train.csv')\n",
    "test_df = pd.read_csv('./data/test.csv')\n",
    "submission_df = pd.read_csv('./data/sample_submission.csv')"
   ]
  },
  {
   "cell_type": "code",
   "execution_count": 4,
   "id": "933ebd82",
   "metadata": {
    "ExecuteTime": {
     "end_time": "2024-03-18T02:28:26.248400Z",
     "start_time": "2024-03-18T02:28:26.232323Z"
    }
   },
   "outputs": [
    {
     "data": {
      "text/html": [
       "<div>\n",
       "<style scoped>\n",
       "    .dataframe tbody tr th:only-of-type {\n",
       "        vertical-align: middle;\n",
       "    }\n",
       "\n",
       "    .dataframe tbody tr th {\n",
       "        vertical-align: top;\n",
       "    }\n",
       "\n",
       "    .dataframe thead th {\n",
       "        text-align: right;\n",
       "    }\n",
       "</style>\n",
       "<table border=\"1\" class=\"dataframe\">\n",
       "  <thead>\n",
       "    <tr style=\"text-align: right;\">\n",
       "      <th></th>\n",
       "      <th>ID</th>\n",
       "      <th>first_party</th>\n",
       "      <th>second_party</th>\n",
       "      <th>facts</th>\n",
       "      <th>first_party_winner</th>\n",
       "    </tr>\n",
       "  </thead>\n",
       "  <tbody>\n",
       "    <tr>\n",
       "      <th>0</th>\n",
       "      <td>TRAIN_0000</td>\n",
       "      <td>Phil A. St. Amant</td>\n",
       "      <td>Herman A. Thompson</td>\n",
       "      <td>On June 27, 1962, Phil St. Amant, a candidate ...</td>\n",
       "      <td>1</td>\n",
       "    </tr>\n",
       "    <tr>\n",
       "      <th>1</th>\n",
       "      <td>TRAIN_0001</td>\n",
       "      <td>Stephen Duncan</td>\n",
       "      <td>Lawrence Owens</td>\n",
       "      <td>Ramon Nelson was riding his bike when he suffe...</td>\n",
       "      <td>0</td>\n",
       "    </tr>\n",
       "    <tr>\n",
       "      <th>2</th>\n",
       "      <td>TRAIN_0002</td>\n",
       "      <td>Billy Joe Magwood</td>\n",
       "      <td>Tony Patterson, Warden, et al.</td>\n",
       "      <td>An Alabama state court convicted Billy Joe Mag...</td>\n",
       "      <td>1</td>\n",
       "    </tr>\n",
       "    <tr>\n",
       "      <th>3</th>\n",
       "      <td>TRAIN_0003</td>\n",
       "      <td>Linkletter</td>\n",
       "      <td>Walker</td>\n",
       "      <td>Victor Linkletter was convicted in state court...</td>\n",
       "      <td>0</td>\n",
       "    </tr>\n",
       "    <tr>\n",
       "      <th>4</th>\n",
       "      <td>TRAIN_0004</td>\n",
       "      <td>William Earl Fikes</td>\n",
       "      <td>Alabama</td>\n",
       "      <td>On April 24, 1953 in Selma, Alabama, an intrud...</td>\n",
       "      <td>1</td>\n",
       "    </tr>\n",
       "  </tbody>\n",
       "</table>\n",
       "</div>"
      ],
      "text/plain": [
       "           ID         first_party                    second_party  \\\n",
       "0  TRAIN_0000   Phil A. St. Amant              Herman A. Thompson   \n",
       "1  TRAIN_0001      Stephen Duncan                  Lawrence Owens   \n",
       "2  TRAIN_0002   Billy Joe Magwood  Tony Patterson, Warden, et al.   \n",
       "3  TRAIN_0003          Linkletter                          Walker   \n",
       "4  TRAIN_0004  William Earl Fikes                         Alabama   \n",
       "\n",
       "                                               facts  first_party_winner  \n",
       "0  On June 27, 1962, Phil St. Amant, a candidate ...                   1  \n",
       "1  Ramon Nelson was riding his bike when he suffe...                   0  \n",
       "2  An Alabama state court convicted Billy Joe Mag...                   1  \n",
       "3  Victor Linkletter was convicted in state court...                   0  \n",
       "4  On April 24, 1953 in Selma, Alabama, an intrud...                   1  "
      ]
     },
     "metadata": {},
     "output_type": "display_data"
    },
    {
     "data": {
      "text/html": [
       "<div>\n",
       "<style scoped>\n",
       "    .dataframe tbody tr th:only-of-type {\n",
       "        vertical-align: middle;\n",
       "    }\n",
       "\n",
       "    .dataframe tbody tr th {\n",
       "        vertical-align: top;\n",
       "    }\n",
       "\n",
       "    .dataframe thead th {\n",
       "        text-align: right;\n",
       "    }\n",
       "</style>\n",
       "<table border=\"1\" class=\"dataframe\">\n",
       "  <thead>\n",
       "    <tr style=\"text-align: right;\">\n",
       "      <th></th>\n",
       "      <th>ID</th>\n",
       "      <th>first_party</th>\n",
       "      <th>second_party</th>\n",
       "      <th>facts</th>\n",
       "    </tr>\n",
       "  </thead>\n",
       "  <tbody>\n",
       "    <tr>\n",
       "      <th>0</th>\n",
       "      <td>TEST_0000</td>\n",
       "      <td>Salerno</td>\n",
       "      <td>United States</td>\n",
       "      <td>The 1984 Bail Reform Act allowed the federal c...</td>\n",
       "    </tr>\n",
       "    <tr>\n",
       "      <th>1</th>\n",
       "      <td>TEST_0001</td>\n",
       "      <td>Milberg Weiss Bershad Hynes and Lerach</td>\n",
       "      <td>Lexecon, Inc.</td>\n",
       "      <td>Lexecon Inc. was a defendant in a class action...</td>\n",
       "    </tr>\n",
       "    <tr>\n",
       "      <th>2</th>\n",
       "      <td>TEST_0002</td>\n",
       "      <td>No. 07-582\\t Title: \\t Federal Communications ...</td>\n",
       "      <td>Fox Television Stations, Inc., et al.</td>\n",
       "      <td>In 2002 and 2003, Fox Television Stations broa...</td>\n",
       "    </tr>\n",
       "    <tr>\n",
       "      <th>3</th>\n",
       "      <td>TEST_0003</td>\n",
       "      <td>Harold Kaufman</td>\n",
       "      <td>United States</td>\n",
       "      <td>During his trial for armed robbery of a federa...</td>\n",
       "    </tr>\n",
       "    <tr>\n",
       "      <th>4</th>\n",
       "      <td>TEST_0004</td>\n",
       "      <td>Berger</td>\n",
       "      <td>Hanlon</td>\n",
       "      <td>In 1993, a magistrate judge issued a warrant a...</td>\n",
       "    </tr>\n",
       "  </tbody>\n",
       "</table>\n",
       "</div>"
      ],
      "text/plain": [
       "          ID                                        first_party  \\\n",
       "0  TEST_0000                                            Salerno   \n",
       "1  TEST_0001             Milberg Weiss Bershad Hynes and Lerach   \n",
       "2  TEST_0002  No. 07-582\\t Title: \\t Federal Communications ...   \n",
       "3  TEST_0003                                    Harold Kaufman    \n",
       "4  TEST_0004                                             Berger   \n",
       "\n",
       "                            second_party  \\\n",
       "0                          United States   \n",
       "1                          Lexecon, Inc.   \n",
       "2  Fox Television Stations, Inc., et al.   \n",
       "3                          United States   \n",
       "4                                 Hanlon   \n",
       "\n",
       "                                               facts  \n",
       "0  The 1984 Bail Reform Act allowed the federal c...  \n",
       "1  Lexecon Inc. was a defendant in a class action...  \n",
       "2  In 2002 and 2003, Fox Television Stations broa...  \n",
       "3  During his trial for armed robbery of a federa...  \n",
       "4  In 1993, a magistrate judge issued a warrant a...  "
      ]
     },
     "metadata": {},
     "output_type": "display_data"
    }
   ],
   "source": [
    "display(train_df.head())\n",
    "display(test_df.head())"
   ]
  },
  {
   "cell_type": "code",
   "execution_count": 5,
   "id": "2ce88281",
   "metadata": {
    "ExecuteTime": {
     "end_time": "2024-03-18T02:28:26.255622Z",
     "start_time": "2024-03-18T02:28:26.249409Z"
    }
   },
   "outputs": [
    {
     "data": {
      "text/plain": [
       "first_party_winner\n",
       "0     829\n",
       "1    1649\n",
       "dtype: int64"
      ]
     },
     "execution_count": 5,
     "metadata": {},
     "output_type": "execute_result"
    }
   ],
   "source": [
    "train_df.groupby('first_party_winner').size()"
   ]
  },
  {
   "cell_type": "markdown",
   "id": "4ce13b7f",
   "metadata": {},
   "source": [
    "# 데이터 전처리"
   ]
  },
  {
   "cell_type": "markdown",
   "id": "621cab20",
   "metadata": {},
   "source": [
    "## 단어 처리"
   ]
  },
  {
   "cell_type": "code",
   "execution_count": 6,
   "id": "4f3f72b3",
   "metadata": {
    "ExecuteTime": {
     "end_time": "2024-03-18T02:28:26.261433Z",
     "start_time": "2024-03-18T02:28:26.257134Z"
    }
   },
   "outputs": [],
   "source": [
    "# 문자 처리\n",
    "cat_cols = ['first_party', 'second_party', 'facts']\n",
    "\n",
    "# \\b : 단어 경계, W* : 길이가 0이상이고 단어가 아닌 문자, w{1} : 길이가 1인 단어\n",
    "short_word = re.compile(r'\\W*\\b\\w{1}\\b') # 길이가 1인 단어 찾기\n",
    "tokenizer = TreebankWordTokenizer() # 단어 단위로 토큰화\n",
    "stopword = stopwords.words('english') # 불용어 리스트 가져오기\n",
    "lemmatizer = WordNetLemmatizer() # 단어의 기본 형태 가져오기"
   ]
  },
  {
   "cell_type": "code",
   "execution_count": 7,
   "id": "229dfb19",
   "metadata": {
    "ExecuteTime": {
     "end_time": "2024-03-18T02:28:26.269138Z",
     "start_time": "2024-03-18T02:28:26.262439Z"
    }
   },
   "outputs": [],
   "source": [
    "def prepro1(df):\n",
    "        df = df.strip() # 공백 제거\n",
    "        df = df.lower() # 소문자로 변경\n",
    "        df = df.replace(',', '')\n",
    "        df = df.replace('.', '')\n",
    "        \n",
    "\n",
    "        content = short_word.sub('', df) # 한 글자 단어 제거\n",
    "        com = re.compile(r\"[^\\uAC00-\\uD7A30-9a-zA-Z\\s]\") # 한글, 영어, 숫자 및 공백 문자를 제외한 모든 문자를 매칭\n",
    "        content = com.sub('', content)\n",
    "        tokens = tokenizer.tokenize(content) # 단어 토큰화\n",
    "        token_lst = []\n",
    "\n",
    "        for token in tokens:\n",
    "            if token not in stopword: #불용어 제거\n",
    "                token_lst.append(lemmatizer.lemmatize(token, 'n')) # 단어의 기본 형태 가져오기\n",
    "        return token_lst"
   ]
  },
  {
   "cell_type": "code",
   "execution_count": 8,
   "id": "c9711d45",
   "metadata": {
    "ExecuteTime": {
     "end_time": "2024-03-18T02:28:31.912899Z",
     "start_time": "2024-03-18T02:28:26.270142Z"
    }
   },
   "outputs": [],
   "source": [
    "train_df['first_party'] = train_df['first_party'].apply(prepro1)\n",
    "train_df['second_party'] = train_df['second_party'].apply(prepro1)\n",
    "train_df['facts'] = train_df['facts'].apply(prepro1)\n",
    "\n",
    "test_df['first_party'] = test_df['first_party'].apply(prepro1)\n",
    "test_df['second_party'] = test_df['second_party'].apply(prepro1)\n",
    "test_df['facts'] = test_df['facts'].apply(prepro1)"
   ]
  },
  {
   "cell_type": "code",
   "execution_count": 9,
   "id": "35d2f1d5",
   "metadata": {
    "ExecuteTime": {
     "end_time": "2024-03-18T02:28:31.919085Z",
     "start_time": "2024-03-18T02:28:31.915411Z"
    }
   },
   "outputs": [],
   "source": [
    "all_text = train_df['first_party'].tolist() + train_df['second_party'].tolist() + train_df['facts'].tolist()"
   ]
  },
  {
   "cell_type": "code",
   "execution_count": 10,
   "id": "f2100f06",
   "metadata": {
    "ExecuteTime": {
     "end_time": "2024-03-18T02:28:31.968549Z",
     "start_time": "2024-03-18T02:28:31.920090Z"
    }
   },
   "outputs": [],
   "source": [
    "train_word_counts = train_df['facts'].apply(lambda x : len(str(x).split()))"
   ]
  },
  {
   "cell_type": "code",
   "execution_count": 11,
   "id": "d8070a84",
   "metadata": {
    "ExecuteTime": {
     "end_time": "2024-03-18T02:28:32.155481Z",
     "start_time": "2024-03-18T02:28:31.969552Z"
    }
   },
   "outputs": [
    {
     "data": {
      "image/png": "[encoded data removed]",
      "text/plain": [
       "<Figure size 1000x600 with 1 Axes>"
      ]
     },
     "metadata": {},
     "output_type": "display_data"
    }
   ],
   "source": [
    "plt.figure(figsize=(10, 6))\n",
    "plt.hist(train_word_counts, bins=20, edgecolor='black')\n",
    "plt.xlabel('Word Count')\n",
    "plt.ylabel('Frequency')\n",
    "plt.title('Distribution of Word Count')\n",
    "plt.show()"
   ]
  },
  {
   "cell_type": "markdown",
   "id": "4020be25",
   "metadata": {},
   "source": [
    "## fasttext"
   ]
  },
  {
   "cell_type": "markdown",
   "id": "e9644dc4",
   "metadata": {},
   "source": [
    "'FastText'를 사용해 사전 훈련된 단어 임베딩을 가져오고, 이를 사용해 keras의 임베딩 레이어를 초기화한다\n",
    "\n",
    "=> FastText 모델에서 얻은 단어 임베딩을 임베딩 행렬로 저장하고 있습니다. 이러한 저장된 임베딩 행렬은 후에 모델을 구축할 때 사용"
   ]
  },
  {
   "cell_type": "code",
   "execution_count": 12,
   "id": "1c1b7172",
   "metadata": {
    "ExecuteTime": {
     "end_time": "2024-03-18T02:28:39.907964Z",
     "start_time": "2024-03-18T02:28:32.157061Z"
    }
   },
   "outputs": [],
   "source": [
    "model = FastText(all_text, vector_size = 100, window = 5, min_count = 1, workers = 4, sg = 1)\n",
    "\n",
    "# tokenizer를 사용해 단어 인덱스를 생성\n",
    "tokenizer = Tokenizer()\n",
    "tokenizer.fit_on_texts(all_text)\n",
    "word_index = tokenizer.word_index"
   ]
  },
  {
   "cell_type": "code",
   "execution_count": 13,
   "id": "e66225ea",
   "metadata": {
    "ExecuteTime": {
     "end_time": "2024-03-18T02:28:39.912025Z",
     "start_time": "2024-03-18T02:28:39.909070Z"
    }
   },
   "outputs": [],
   "source": [
    "embedding_dim = 100"
   ]
  },
  {
   "cell_type": "code",
   "execution_count": 14,
   "id": "d92fb048",
   "metadata": {
    "ExecuteTime": {
     "end_time": "2024-03-18T02:28:39.957767Z",
     "start_time": "2024-03-18T02:28:39.913030Z"
    }
   },
   "outputs": [],
   "source": [
    "# embedding matrix\n",
    "\n",
    "embedding_matrix = np.zeros((len(word_index) + 1, embedding_dim)) # 단어 수 X 임베딩 차원\n",
    "\n",
    "for word, i in word_index.items():\n",
    "    if word in model.wv:\n",
    "        embedding_vec = model.wv[word]\n",
    "        embedding_matrix[i] = embedding_vec"
   ]
  },
  {
   "cell_type": "code",
   "execution_count": 15,
   "id": "7564ceab",
   "metadata": {
    "ExecuteTime": {
     "end_time": "2024-03-18T02:28:40.154099Z",
     "start_time": "2024-03-18T02:28:39.958923Z"
    }
   },
   "outputs": [
    {
     "name": "stdout",
     "output_type": "stream",
     "text": [
      "WARNING:tensorflow:From C:\\Users\\mit005\\anaconda3\\Lib\\site-packages\\keras\\src\\backend.py:873: The name tf.get_default_graph is deprecated. Please use tf.compat.v1.get_default_graph instead.\n",
      "\n"
     ]
    }
   ],
   "source": [
    "# embeddings_initializer : 임베딩 레이어의 가중치를 초기화\n",
    "# trainable = Fasle : 사전 훈련된 임베딩을 고정\n",
    "embedding_layer = Embedding(len(word_index) + 1, embedding_dim, embeddings_initializer = Constant(embedding_matrix), trainable = False)"
   ]
  },
  {
   "cell_type": "code",
   "execution_count": 16,
   "id": "dd47010e",
   "metadata": {
    "ExecuteTime": {
     "end_time": "2024-03-18T02:28:40.158866Z",
     "start_time": "2024-03-18T02:28:40.155104Z"
    }
   },
   "outputs": [],
   "source": [
    "def get_vec(model, texts):\n",
    "    vects = []\n",
    "    \n",
    "    for text in texts:\n",
    "        text_vects = []\n",
    "        for word in text:\n",
    "            if word in model.wv.key_to_index:\n",
    "                text_vects.append(model.wv.get_vector(word))\n",
    "        if len(text_vects) > 0:\n",
    "            text_vects = np.mean(text_vects, axis = 0)\n",
    "            vects.append(text_vects)\n",
    "        else:\n",
    "            vects.append(np.zeros(model.vector_size))\n",
    "    \n",
    "    return np.array(vects)"
   ]
  },
  {
   "cell_type": "code",
   "execution_count": 17,
   "id": "5585b860",
   "metadata": {
    "ExecuteTime": {
     "end_time": "2024-03-18T02:28:40.717820Z",
     "start_time": "2024-03-18T02:28:40.159870Z"
    }
   },
   "outputs": [],
   "source": [
    "X_train_first = get_vec(model, train_df['first_party'])\n",
    "X_train_second = get_vec(model, train_df['second_party'])\n",
    "X_train_facts = get_vec(model, train_df['facts'])\n",
    "\n",
    "X_train = np.concatenate([X_train_first, X_train_second, X_train_facts], axis = 1)\n",
    "y_train = train_df['first_party_winner']"
   ]
  },
  {
   "cell_type": "code",
   "execution_count": 18,
   "id": "7deb073f",
   "metadata": {
    "ExecuteTime": {
     "end_time": "2024-03-18T02:28:40.982393Z",
     "start_time": "2024-03-18T02:28:40.719037Z"
    }
   },
   "outputs": [],
   "source": [
    "X_test_first = get_vec(model, test_df['first_party'])\n",
    "X_test_second = get_vec(model, test_df['second_party'])\n",
    "X_test_facts = get_vec(model, test_df['facts'])\n",
    "\n",
    "X_test = np.concatenate([X_test_first, X_test_second, X_test_facts], axis = 1)"
   ]
  },
  {
   "cell_type": "markdown",
   "id": "7270385b",
   "metadata": {},
   "source": [
    "## 불균형 데이터 처리"
   ]
  },
  {
   "cell_type": "markdown",
   "id": "ebabd5fc",
   "metadata": {},
   "source": [
    "NeighbourhoodCleaningRule\n",
    "\n",
    "불균형한 데이터셋에서 소수 클래스의 근접한 이웃을 고려하여 데이터를 정제하는 언더 샘플링 기법 중 하나\n",
    "소수 클래스의 샘플을 중심으로 주변 이웃들을 찾는다\n",
    "\n",
    "이웃들 중에서 다수 클래스에 속한 샘플들을 제거한다\n",
    "\n",
    "이렇게 제거된 샘플들을 제외하고 남은 샘플들을 반환한다"
   ]
  },
  {
   "cell_type": "code",
   "execution_count": 19,
   "id": "363debcf",
   "metadata": {
    "ExecuteTime": {
     "end_time": "2024-03-18T02:28:41.407519Z",
     "start_time": "2024-03-18T02:28:40.983396Z"
    }
   },
   "outputs": [
    {
     "name": "stdout",
     "output_type": "stream",
     "text": [
      "train shape : (1415, 300), (1415,)\n"
     ]
    }
   ],
   "source": [
    "X_ncr, y_ncr = NeighbourhoodCleaningRule(kind_sel = \"all\",  n_neighbors = 5).fit_resample(X_train, y_train)\n",
    "print('train shape : {}, {}'.format(X_ncr.shape, y_ncr.shape))"
   ]
  },
  {
   "cell_type": "code",
   "execution_count": 21,
   "id": "2b2b06f7",
   "metadata": {
    "ExecuteTime": {
     "end_time": "2024-03-18T02:29:31.371875Z",
     "start_time": "2024-03-18T02:29:31.367207Z"
    }
   },
   "outputs": [
    {
     "data": {
      "text/plain": [
       "first_party_winner\n",
       "0    829\n",
       "1    586\n",
       "Name: count, dtype: int64"
      ]
     },
     "execution_count": 21,
     "metadata": {},
     "output_type": "execute_result"
    }
   ],
   "source": [
    "y_ncr.value_counts()"
   ]
  },
  {
   "cell_type": "markdown",
   "id": "3ec92e12",
   "metadata": {},
   "source": [
    "## train데이터 셋으로 train, val 데이터 셋으로 분리"
   ]
  },
  {
   "cell_type": "code",
   "execution_count": 25,
   "id": "bb7cb7cb",
   "metadata": {
    "ExecuteTime": {
     "end_time": "2024-03-18T02:30:26.651708Z",
     "start_time": "2024-03-18T02:30:26.642440Z"
    }
   },
   "outputs": [
    {
     "name": "stdout",
     "output_type": "stream",
     "text": [
      "Train shape : (1132, 300), (1132,)\n",
      "first_party_winner\n",
      "0    663\n",
      "1    469\n",
      "Name: count, dtype: int64\n",
      "\n",
      "Validation shape : (283, 300), (283,)\n",
      "first_party_winner\n",
      "0    166\n",
      "1    117\n",
      "Name: count, dtype: int64\n"
     ]
    }
   ],
   "source": [
    "X_train, X_val, y_train, y_val = train_test_split(X_ncr, y_ncr, random_state = 123, test_size = 0.2, stratify = y_ncr)\n",
    "\n",
    "print('Train shape : {}, {}'.format(X_train.shape, y_train.shape))\n",
    "print(y_train.value_counts())\n",
    "\n",
    "print()\n",
    "\n",
    "print('Validation shape : {}, {}'.format(X_val.shape, y_val.shape))\n",
    "print(y_val.value_counts())"
   ]
  },
  {
   "cell_type": "markdown",
   "id": "37fae3ea",
   "metadata": {},
   "source": [
    "LSTM 모델은 일반적으로 시퀀스 데이터를 처리하기 위해 사용\n",
    "\n",
    "첫 번째 축은 시간(또는 순서)을 나타내며, 두 번째 축은 각 시간 단계에서의 특성"
   ]
  },
  {
   "cell_type": "code",
   "execution_count": 26,
   "id": "35a2633e",
   "metadata": {
    "ExecuteTime": {
     "end_time": "2024-03-18T02:30:28.983826Z",
     "start_time": "2024-03-18T02:30:28.980338Z"
    }
   },
   "outputs": [],
   "source": [
    "# 차원 변경\n",
    "\n",
    "X_train = X_train.reshape((X_train.shape[0], 1, X_train.shape[1]))\n",
    "X_test = X_test.reshape((X_test.shape[0], 1, X_test.shape[1]))\n",
    "X_val = X_val.reshape((X_val.shape[0], 1, X_val.shape[1]))"
   ]
  },
  {
   "cell_type": "code",
   "execution_count": 28,
   "id": "3926cce8",
   "metadata": {
    "ExecuteTime": {
     "end_time": "2024-03-18T02:30:35.831479Z",
     "start_time": "2024-03-18T02:30:35.826063Z"
    }
   },
   "outputs": [
    {
     "data": {
      "text/plain": [
       "array([[[ 0.17922319,  0.35275242, -0.00834119, ..., -0.27046925,\n",
       "          0.28986067, -0.10465495]],\n",
       "\n",
       "       [[ 0.2026282 ,  0.29483688, -0.00883478, ..., -0.20597169,\n",
       "          0.16679136, -0.15688816]],\n",
       "\n",
       "       [[ 0.14547916,  0.66807914, -0.03205763, ..., -0.15347184,\n",
       "          0.15521765, -0.17586561]],\n",
       "\n",
       "       ...,\n",
       "\n",
       "       [[ 0.1254219 ,  0.38590807, -0.09176274, ..., -0.11243932,\n",
       "          0.18681923, -0.16650443]],\n",
       "\n",
       "       [[ 0.30307248,  0.30587134, -0.03059093, ..., -0.17328475,\n",
       "          0.21388261, -0.18499412]],\n",
       "\n",
       "       [[ 0.1627057 ,  0.60382318,  0.03230398, ..., -0.25519973,\n",
       "          0.29735088, -0.04850616]]])"
      ]
     },
     "execution_count": 28,
     "metadata": {},
     "output_type": "execute_result"
    }
   ],
   "source": [
    "X_train"
   ]
  },
  {
   "cell_type": "markdown",
   "id": "4ee94189",
   "metadata": {},
   "source": [
    "# 모델링"
   ]
  },
  {
   "cell_type": "code",
   "execution_count": 29,
   "id": "9a8be761",
   "metadata": {
    "ExecuteTime": {
     "end_time": "2024-03-18T02:30:35.846258Z",
     "start_time": "2024-03-18T02:30:35.833484Z"
    }
   },
   "outputs": [],
   "source": [
    "# Optuna를 사용하여 하이퍼파라미터 튜닝을 수행하기 위한 것\n",
    "\n",
    "def objective(trial):\n",
    "    units = trial.suggest_int('units', 32, 64, 128)\n",
    "    learning_rate = trial.suggest_loguniform('learning_rate', 1e-5, 1e-1)\n",
    "    dropout_rate = trial.suggest_uniform('dropout_rate', 0.0, 0.5)\n",
    "    batch_size = trial.suggest_categorical('batch_size', [16, 32, 64])\n",
    "    optimizer = Adam(learning_rate = learning_rate)\n",
    "    \n",
    "    model = Sequential()\n",
    "    model.add(LSTM(units, return_sequences = True, input_shape = (1, X_train.shape[2])))\n",
    "    model.add(Dropout(dropout_rate))\n",
    "    model.add(LSTM(units))\n",
    "    model.add(Dropout(dropout_rate))\n",
    "    model.add(Dense(1, activation = 'sigmoid'))\n",
    "    \n",
    "    model.compile(optimizer = optimizer, loss = 'binary_crossentropy', metrics = ['accuracy'])\n",
    "    \n",
    "    callbacks = [EarlyStopping(monitor = 'val_loss', mode = 'min', patience = 50, verbose = 1)]\n",
    "    model.fit(X_train, y_train, epochs = 100, batch_size = batch_size, validation_data = (X_val, y_val), verbose = 0, callbacks = callbacks)\n",
    "    accuracy = model.evaluate(X_val, y_val, verbose = 0)[1]\n",
    "    \n",
    "    return accuracy"
   ]
  },
  {
   "cell_type": "code",
   "execution_count": 30,
   "id": "d22ca239",
   "metadata": {
    "ExecuteTime": {
     "end_time": "2024-03-18T02:43:16.603078Z",
     "start_time": "2024-03-18T02:30:35.848764Z"
    },
    "scrolled": true
   },
   "outputs": [
    {
     "name": "stderr",
     "output_type": "stream",
     "text": [
      "[I 2024-03-18 11:30:35,851] A new study created in memory with name: no-name-f77bdb17-eaf3-4f5d-b0c9-a2beea3303ec\n"
     ]
    },
    {
     "name": "stdout",
     "output_type": "stream",
     "text": [
      "WARNING:tensorflow:From C:\\Users\\mit005\\anaconda3\\Lib\\site-packages\\keras\\src\\utils\\tf_utils.py:492: The name tf.ragged.RaggedTensorValue is deprecated. Please use tf.compat.v1.ragged.RaggedTensorValue instead.\n",
      "\n",
      "WARNING:tensorflow:From C:\\Users\\mit005\\anaconda3\\Lib\\site-packages\\keras\\src\\engine\\base_layer_utils.py:384: The name tf.executing_eagerly_outside_functions is deprecated. Please use tf.compat.v1.executing_eagerly_outside_functions instead.\n",
      "\n",
      "Epoch 88: early stopping\n"
     ]
    },
    {
     "name": "stderr",
     "output_type": "stream",
     "text": [
      "[I 2024-03-18 11:30:57,410] Trial 0 finished with value: 0.6607773900032043 and parameters: {'units': 32, 'learning_rate': 0.001994945147226654, 'dropout_rate': 0.4347155132787126, 'batch_size': 16}. Best is trial 0 with value: 0.6607773900032043.\n",
      "[I 2024-03-18 11:31:20,309] Trial 1 finished with value: 0.5865724086761475 and parameters: {'units': 32, 'learning_rate': 0.04516910998932426, 'dropout_rate': 0.2644945025720517, 'batch_size': 16}. Best is trial 0 with value: 0.6607773900032043.\n"
     ]
    },
    {
     "name": "stdout",
     "output_type": "stream",
     "text": [
      "Epoch 59: early stopping\n"
     ]
    },
    {
     "name": "stderr",
     "output_type": "stream",
     "text": [
      "[I 2024-03-18 11:31:35,510] Trial 2 finished with value: 0.5865724086761475 and parameters: {'units': 32, 'learning_rate': 0.07371196125187815, 'dropout_rate': 0.4379082552373829, 'batch_size': 16}. Best is trial 0 with value: 0.6607773900032043.\n"
     ]
    },
    {
     "name": "stdout",
     "output_type": "stream",
     "text": [
      "Epoch 80: early stopping\n"
     ]
    },
    {
     "name": "stderr",
     "output_type": "stream",
     "text": [
      "[I 2024-03-18 11:31:54,791] Trial 3 finished with value: 0.6254416704177856 and parameters: {'units': 32, 'learning_rate': 0.0005962607395902457, 'dropout_rate': 0.2846182135528775, 'batch_size': 16}. Best is trial 0 with value: 0.6607773900032043.\n",
      "[I 2024-03-18 11:32:05,991] Trial 4 finished with value: 0.6325088143348694 and parameters: {'units': 32, 'learning_rate': 0.0010321762345920354, 'dropout_rate': 0.4357186528928512, 'batch_size': 64}. Best is trial 0 with value: 0.6607773900032043.\n"
     ]
    },
    {
     "name": "stdout",
     "output_type": "stream",
     "text": [
      "Epoch 82: early stopping\n"
     ]
    },
    {
     "name": "stderr",
     "output_type": "stream",
     "text": [
      "[I 2024-03-18 11:32:19,705] Trial 5 finished with value: 0.6254416704177856 and parameters: {'units': 32, 'learning_rate': 0.006331126615983055, 'dropout_rate': 0.399260067435765, 'batch_size': 32}. Best is trial 0 with value: 0.6607773900032043.\n",
      "[I 2024-03-18 11:32:34,755] Trial 6 finished with value: 0.6219081282615662 and parameters: {'units': 32, 'learning_rate': 0.00015417438350135326, 'dropout_rate': 0.21836506219186985, 'batch_size': 32}. Best is trial 0 with value: 0.6607773900032043.\n",
      "[I 2024-03-18 11:32:49,893] Trial 7 finished with value: 0.5865724086761475 and parameters: {'units': 32, 'learning_rate': 0.05465531661417403, 'dropout_rate': 0.09825889256577797, 'batch_size': 32}. Best is trial 0 with value: 0.6607773900032043.\n"
     ]
    },
    {
     "name": "stdout",
     "output_type": "stream",
     "text": [
      "Epoch 52: early stopping\n"
     ]
    },
    {
     "name": "stderr",
     "output_type": "stream",
     "text": [
      "[I 2024-03-18 11:32:59,875] Trial 8 finished with value: 0.5865724086761475 and parameters: {'units': 32, 'learning_rate': 0.08615021886790489, 'dropout_rate': 0.20903931104921464, 'batch_size': 32}. Best is trial 0 with value: 0.6607773900032043.\n",
      "[I 2024-03-18 11:33:11,136] Trial 9 finished with value: 0.6537102460861206 and parameters: {'units': 32, 'learning_rate': 0.003848467772916731, 'dropout_rate': 0.41114243300583037, 'batch_size': 64}. Best is trial 0 with value: 0.6607773900032043.\n",
      "[I 2024-03-18 11:33:34,657] Trial 10 finished with value: 0.5936395525932312 and parameters: {'units': 32, 'learning_rate': 1.090715764139948e-05, 'dropout_rate': 0.005195698704347995, 'batch_size': 16}. Best is trial 0 with value: 0.6607773900032043.\n"
     ]
    },
    {
     "name": "stdout",
     "output_type": "stream",
     "text": [
      "Epoch 94: early stopping\n"
     ]
    },
    {
     "name": "stderr",
     "output_type": "stream",
     "text": [
      "[I 2024-03-18 11:33:45,518] Trial 11 finished with value: 0.6431095600128174 and parameters: {'units': 32, 'learning_rate': 0.004898326032121862, 'dropout_rate': 0.3542689524698854, 'batch_size': 64}. Best is trial 0 with value: 0.6607773900032043.\n",
      "[I 2024-03-18 11:33:56,838] Trial 12 finished with value: 0.6466431021690369 and parameters: {'units': 32, 'learning_rate': 0.005123827344544717, 'dropout_rate': 0.47971972999058254, 'batch_size': 64}. Best is trial 0 with value: 0.6607773900032043.\n",
      "[I 2024-03-18 11:34:08,101] Trial 13 finished with value: 0.6289752721786499 and parameters: {'units': 32, 'learning_rate': 0.0008415595090809496, 'dropout_rate': 0.3438950718699404, 'batch_size': 64}. Best is trial 0 with value: 0.6607773900032043.\n"
     ]
    },
    {
     "name": "stdout",
     "output_type": "stream",
     "text": [
      "Epoch 55: early stopping\n"
     ]
    },
    {
     "name": "stderr",
     "output_type": "stream",
     "text": [
      "[I 2024-03-18 11:34:22,682] Trial 14 finished with value: 0.5865724086761475 and parameters: {'units': 32, 'learning_rate': 0.012305688301460744, 'dropout_rate': 0.4938533015368168, 'batch_size': 16}. Best is trial 0 with value: 0.6607773900032043.\n",
      "[I 2024-03-18 11:34:34,257] Trial 15 finished with value: 0.6042402982711792 and parameters: {'units': 32, 'learning_rate': 0.00022295370005825937, 'dropout_rate': 0.3476500337962673, 'batch_size': 64}. Best is trial 0 with value: 0.6607773900032043.\n"
     ]
    },
    {
     "name": "stdout",
     "output_type": "stream",
     "text": [
      "Epoch 80: early stopping\n"
     ]
    },
    {
     "name": "stderr",
     "output_type": "stream",
     "text": [
      "[I 2024-03-18 11:34:55,369] Trial 16 finished with value: 0.6784452199935913 and parameters: {'units': 32, 'learning_rate': 0.002108477978608793, 'dropout_rate': 0.16493985479715922, 'batch_size': 16}. Best is trial 16 with value: 0.6784452199935913.\n",
      "[I 2024-03-18 11:35:24,989] Trial 17 finished with value: 0.5936395525932312 and parameters: {'units': 32, 'learning_rate': 4.402383095974126e-05, 'dropout_rate': 0.14393186825015786, 'batch_size': 16}. Best is trial 16 with value: 0.6784452199935913.\n"
     ]
    },
    {
     "name": "stdout",
     "output_type": "stream",
     "text": [
      "Epoch 71: early stopping\n"
     ]
    },
    {
     "name": "stderr",
     "output_type": "stream",
     "text": [
      "[I 2024-03-18 11:35:46,832] Trial 18 finished with value: 0.6466431021690369 and parameters: {'units': 32, 'learning_rate': 0.0016462373771960023, 'dropout_rate': 0.11903986169480518, 'batch_size': 16}. Best is trial 16 with value: 0.6784452199935913.\n"
     ]
    },
    {
     "name": "stdout",
     "output_type": "stream",
     "text": [
      "Epoch 87: early stopping\n"
     ]
    },
    {
     "name": "stderr",
     "output_type": "stream",
     "text": [
      "[I 2024-03-18 11:36:08,133] Trial 19 finished with value: 0.6254416704177856 and parameters: {'units': 32, 'learning_rate': 0.0002576014004354475, 'dropout_rate': 0.044134632175572425, 'batch_size': 16}. Best is trial 16 with value: 0.6784452199935913.\n"
     ]
    },
    {
     "name": "stdout",
     "output_type": "stream",
     "text": [
      "Epoch 60: early stopping\n"
     ]
    },
    {
     "name": "stderr",
     "output_type": "stream",
     "text": [
      "[I 2024-03-18 11:36:23,904] Trial 20 finished with value: 0.5865724086761475 and parameters: {'units': 32, 'learning_rate': 0.02106482801021979, 'dropout_rate': 0.1767778790514675, 'batch_size': 16}. Best is trial 16 with value: 0.6784452199935913.\n"
     ]
    },
    {
     "name": "stdout",
     "output_type": "stream",
     "text": [
      "Epoch 98: early stopping\n"
     ]
    },
    {
     "name": "stderr",
     "output_type": "stream",
     "text": [
      "[I 2024-03-18 11:36:35,061] Trial 21 finished with value: 0.6537102460861206 and parameters: {'units': 32, 'learning_rate': 0.0022516053244330037, 'dropout_rate': 0.40835947952225504, 'batch_size': 64}. Best is trial 16 with value: 0.6784452199935913.\n"
     ]
    },
    {
     "name": "stdout",
     "output_type": "stream",
     "text": [
      "Epoch 78: early stopping\n"
     ]
    },
    {
     "name": "stderr",
     "output_type": "stream",
     "text": [
      "[I 2024-03-18 11:36:54,041] Trial 22 finished with value: 0.6501767039299011 and parameters: {'units': 32, 'learning_rate': 0.0027195417261343603, 'dropout_rate': 0.3260950144077912, 'batch_size': 16}. Best is trial 16 with value: 0.6784452199935913.\n",
      "[I 2024-03-18 11:37:06,237] Trial 23 finished with value: 0.6183745861053467 and parameters: {'units': 32, 'learning_rate': 0.01148421422520176, 'dropout_rate': 0.295705639512808, 'batch_size': 64}. Best is trial 16 with value: 0.6784452199935913.\n",
      "[I 2024-03-18 11:37:29,325] Trial 24 finished with value: 0.6254416704177856 and parameters: {'units': 32, 'learning_rate': 0.0006633320929721833, 'dropout_rate': 0.3879076202599142, 'batch_size': 16}. Best is trial 16 with value: 0.6784452199935913.\n"
     ]
    },
    {
     "name": "stdout",
     "output_type": "stream",
     "text": [
      "Epoch 79: early stopping\n"
     ]
    },
    {
     "name": "stderr",
     "output_type": "stream",
     "text": [
      "[I 2024-03-18 11:37:39,395] Trial 25 finished with value: 0.6643109321594238 and parameters: {'units': 32, 'learning_rate': 0.0028742913828141143, 'dropout_rate': 0.22823054144730515, 'batch_size': 64}. Best is trial 16 with value: 0.6784452199935913.\n"
     ]
    },
    {
     "name": "stdout",
     "output_type": "stream",
     "text": [
      "Epoch 87: early stopping\n"
     ]
    },
    {
     "name": "stderr",
     "output_type": "stream",
     "text": [
      "[I 2024-03-18 11:38:00,339] Trial 26 finished with value: 0.6148409843444824 and parameters: {'units': 32, 'learning_rate': 0.0003891408839922602, 'dropout_rate': 0.23191832978246962, 'batch_size': 16}. Best is trial 16 with value: 0.6784452199935913.\n"
     ]
    },
    {
     "name": "stdout",
     "output_type": "stream",
     "text": [
      "Epoch 82: early stopping\n"
     ]
    },
    {
     "name": "stderr",
     "output_type": "stream",
     "text": [
      "[I 2024-03-18 11:38:19,988] Trial 27 finished with value: 0.6289752721786499 and parameters: {'units': 32, 'learning_rate': 0.0015516172561769036, 'dropout_rate': 0.18563315802424527, 'batch_size': 16}. Best is trial 16 with value: 0.6784452199935913.\n",
      "[I 2024-03-18 11:38:35,033] Trial 28 finished with value: 0.6395759582519531 and parameters: {'units': 32, 'learning_rate': 0.012066712921621935, 'dropout_rate': 0.14691249414715712, 'batch_size': 32}. Best is trial 16 with value: 0.6784452199935913.\n",
      "[I 2024-03-18 11:38:46,352] Trial 29 finished with value: 0.6113074421882629 and parameters: {'units': 32, 'learning_rate': 9.102742184312588e-05, 'dropout_rate': 0.25808821769320095, 'batch_size': 64}. Best is trial 16 with value: 0.6784452199935913.\n"
     ]
    },
    {
     "name": "stdout",
     "output_type": "stream",
     "text": [
      "Epoch 79: early stopping\n"
     ]
    },
    {
     "name": "stderr",
     "output_type": "stream",
     "text": [
      "[I 2024-03-18 11:39:05,096] Trial 30 finished with value: 0.5971731543540955 and parameters: {'units': 32, 'learning_rate': 0.01692908794974532, 'dropout_rate': 0.08946575891426062, 'batch_size': 16}. Best is trial 16 with value: 0.6784452199935913.\n"
     ]
    },
    {
     "name": "stdout",
     "output_type": "stream",
     "text": [
      "Epoch 100: early stopping\n"
     ]
    },
    {
     "name": "stderr",
     "output_type": "stream",
     "text": [
      "[I 2024-03-18 11:39:17,281] Trial 31 finished with value: 0.6572437882423401 and parameters: {'units': 32, 'learning_rate': 0.00322745452067475, 'dropout_rate': 0.458433381732513, 'batch_size': 64}. Best is trial 16 with value: 0.6784452199935913.\n"
     ]
    },
    {
     "name": "stdout",
     "output_type": "stream",
     "text": [
      "Epoch 98: early stopping\n"
     ]
    },
    {
     "name": "stderr",
     "output_type": "stream",
     "text": [
      "[I 2024-03-18 11:39:28,380] Trial 32 finished with value: 0.6325088143348694 and parameters: {'units': 32, 'learning_rate': 0.0013374217968285123, 'dropout_rate': 0.4529431117128592, 'batch_size': 64}. Best is trial 16 with value: 0.6784452199935913.\n"
     ]
    },
    {
     "name": "stdout",
     "output_type": "stream",
     "text": [
      "Epoch 61: early stopping\n"
     ]
    },
    {
     "name": "stderr",
     "output_type": "stream",
     "text": [
      "[I 2024-03-18 11:39:37,006] Trial 33 finished with value: 0.5865724086761475 and parameters: {'units': 32, 'learning_rate': 0.03040965980816765, 'dropout_rate': 0.2793247540782834, 'batch_size': 64}. Best is trial 16 with value: 0.6784452199935913.\n",
      "[I 2024-03-18 11:39:48,341] Trial 34 finished with value: 0.6395759582519531 and parameters: {'units': 32, 'learning_rate': 0.0028310966431793925, 'dropout_rate': 0.45463719027010735, 'batch_size': 64}. Best is trial 16 with value: 0.6784452199935913.\n"
     ]
    },
    {
     "name": "stdout",
     "output_type": "stream",
     "text": [
      "Epoch 84: early stopping\n"
     ]
    },
    {
     "name": "stderr",
     "output_type": "stream",
     "text": [
      "[I 2024-03-18 11:39:58,451] Trial 35 finished with value: 0.6289752721786499 and parameters: {'units': 32, 'learning_rate': 0.007474064757395894, 'dropout_rate': 0.300253347353541, 'batch_size': 64}. Best is trial 16 with value: 0.6784452199935913.\n",
      "[I 2024-03-18 11:40:21,932] Trial 36 finished with value: 0.6537102460861206 and parameters: {'units': 32, 'learning_rate': 0.00048045080519399817, 'dropout_rate': 0.25073488074509215, 'batch_size': 16}. Best is trial 16 with value: 0.6784452199935913.\n"
     ]
    },
    {
     "name": "stdout",
     "output_type": "stream",
     "text": [
      "Epoch 71: early stopping\n"
     ]
    },
    {
     "name": "stderr",
     "output_type": "stream",
     "text": [
      "[I 2024-03-18 11:40:35,339] Trial 37 finished with value: 0.6042402982711792 and parameters: {'units': 32, 'learning_rate': 0.0010132143649413787, 'dropout_rate': 0.19751372339556716, 'batch_size': 32}. Best is trial 16 with value: 0.6784452199935913.\n"
     ]
    },
    {
     "name": "stdout",
     "output_type": "stream",
     "text": [
      "Epoch 85: early stopping\n"
     ]
    },
    {
     "name": "stderr",
     "output_type": "stream",
     "text": [
      "[I 2024-03-18 11:40:45,980] Trial 38 finished with value: 0.6431095600128174 and parameters: {'units': 32, 'learning_rate': 0.006773728420425243, 'dropout_rate': 0.15480038944622562, 'batch_size': 64}. Best is trial 16 with value: 0.6784452199935913.\n",
      "[I 2024-03-18 11:41:08,887] Trial 39 finished with value: 0.6219081282615662 and parameters: {'units': 32, 'learning_rate': 0.0033931202581559882, 'dropout_rate': 0.3700503923665357, 'batch_size': 16}. Best is trial 16 with value: 0.6784452199935913.\n",
      "[I 2024-03-18 11:41:23,840] Trial 40 finished with value: 0.6431095600128174 and parameters: {'units': 32, 'learning_rate': 0.0019705461211442913, 'dropout_rate': 0.4290810127162522, 'batch_size': 32}. Best is trial 16 with value: 0.6784452199935913.\n",
      "[I 2024-03-18 11:41:36,115] Trial 41 finished with value: 0.6289752721786499 and parameters: {'units': 32, 'learning_rate': 0.0040986515946987165, 'dropout_rate': 0.41823600225575314, 'batch_size': 64}. Best is trial 16 with value: 0.6784452199935913.\n"
     ]
    },
    {
     "name": "stdout",
     "output_type": "stream",
     "text": [
      "Epoch 97: early stopping\n"
     ]
    },
    {
     "name": "stderr",
     "output_type": "stream",
     "text": [
      "[I 2024-03-18 11:41:47,244] Trial 42 finished with value: 0.5971731543540955 and parameters: {'units': 32, 'learning_rate': 0.008581439560501607, 'dropout_rate': 0.45548739220436574, 'batch_size': 64}. Best is trial 16 with value: 0.6784452199935913.\n",
      "[I 2024-03-18 11:41:59,017] Trial 43 finished with value: 0.6042402982711792 and parameters: {'units': 32, 'learning_rate': 0.004016923673243832, 'dropout_rate': 0.4709536703675309, 'batch_size': 64}. Best is trial 16 with value: 0.6784452199935913.\n",
      "[I 2024-03-18 11:42:10,286] Trial 44 finished with value: 0.6254416704177856 and parameters: {'units': 32, 'learning_rate': 0.001033139969867564, 'dropout_rate': 0.4897657183937966, 'batch_size': 64}. Best is trial 16 with value: 0.6784452199935913.\n"
     ]
    },
    {
     "name": "stdout",
     "output_type": "stream",
     "text": [
      "Epoch 79: early stopping\n"
     ]
    },
    {
     "name": "stderr",
     "output_type": "stream",
     "text": [
      "[I 2024-03-18 11:42:20,176] Trial 45 finished with value: 0.6254416704177856 and parameters: {'units': 32, 'learning_rate': 0.0022771996276766044, 'dropout_rate': 0.22430462550674882, 'batch_size': 64}. Best is trial 16 with value: 0.6784452199935913.\n",
      "[I 2024-03-18 11:42:31,555] Trial 46 finished with value: 0.6289752721786499 and parameters: {'units': 32, 'learning_rate': 0.0007201761756224515, 'dropout_rate': 0.383370271828751, 'batch_size': 64}. Best is trial 16 with value: 0.6784452199935913.\n"
     ]
    },
    {
     "name": "stdout",
     "output_type": "stream",
     "text": [
      "Epoch 90: early stopping\n"
     ]
    },
    {
     "name": "stderr",
     "output_type": "stream",
     "text": [
      "[I 2024-03-18 11:42:52,498] Trial 47 finished with value: 0.6466431021690369 and parameters: {'units': 32, 'learning_rate': 0.0057934048147068795, 'dropout_rate': 0.3130730474728355, 'batch_size': 16}. Best is trial 16 with value: 0.6784452199935913.\n"
     ]
    },
    {
     "name": "stdout",
     "output_type": "stream",
     "text": [
      "Epoch 77: early stopping\n"
     ]
    },
    {
     "name": "stderr",
     "output_type": "stream",
     "text": [
      "[I 2024-03-18 11:43:05,311] Trial 48 finished with value: 0.6254416704177856 and parameters: {'units': 32, 'learning_rate': 0.0013788024386063938, 'dropout_rate': 0.442011331191742, 'batch_size': 32}. Best is trial 16 with value: 0.6784452199935913.\n",
      "[I 2024-03-18 11:43:16,600] Trial 49 finished with value: 0.6643109321594238 and parameters: {'units': 32, 'learning_rate': 0.004632477040658721, 'dropout_rate': 0.39716284970679266, 'batch_size': 64}. Best is trial 16 with value: 0.6784452199935913.\n"
     ]
    },
    {
     "name": "stdout",
     "output_type": "stream",
     "text": [
      "Best Parameters :  {'units': 32, 'learning_rate': 0.002108477978608793, 'dropout_rate': 0.16493985479715922, 'batch_size': 16}\n",
      "Best Value :  0.6784452199935913\n"
     ]
    }
   ],
   "source": [
    "# objective 함수는 Optuna의 suggest_ 메서드를 사용하여 하이퍼파라미터 공간에서 샘플링하는 함수\n",
    "study = optuna.create_study(direction = 'maximize')\n",
    "# study 객체를 생성한 후 optimize 메서드를 사용하여 주어진 목적 함수(objective)를 최대화하는 방향으로 하이퍼파라미터를 조정\n",
    "study.optimize(objective, n_trials = 50)\n",
    "\n",
    "# Print the best hyperparameters and objective value\n",
    "best_params = study.best_params\n",
    "best_value = study.best_value\n",
    "print(\"Best Parameters : \", best_params)\n",
    "print(\"Best Value : \", best_value)"
   ]
  },
  {
   "cell_type": "code",
   "execution_count": 34,
   "id": "84c9b7ad",
   "metadata": {
    "ExecuteTime": {
     "end_time": "2024-03-18T02:56:08.654564Z",
     "start_time": "2024-03-18T02:55:49.706342Z"
    }
   },
   "outputs": [
    {
     "name": "stdout",
     "output_type": "stream",
     "text": [
      "Epoch 1/100\n",
      "71/71 [==============================] - 4s 13ms/step - loss: 0.6823 - accuracy: 0.5822 - val_loss: 0.6757 - val_accuracy: 0.5866\n",
      "Epoch 2/100\n",
      "71/71 [==============================] - 0s 3ms/step - loss: 0.6719 - accuracy: 0.5857 - val_loss: 0.6651 - val_accuracy: 0.6007\n",
      "Epoch 3/100\n",
      "71/71 [==============================] - 0s 3ms/step - loss: 0.6614 - accuracy: 0.6131 - val_loss: 0.6684 - val_accuracy: 0.6007\n",
      "Epoch 4/100\n",
      "71/71 [==============================] - 0s 3ms/step - loss: 0.6483 - accuracy: 0.6254 - val_loss: 0.6685 - val_accuracy: 0.5972\n",
      "Epoch 5/100\n",
      "71/71 [==============================] - 0s 3ms/step - loss: 0.6495 - accuracy: 0.6263 - val_loss: 0.6521 - val_accuracy: 0.5936\n",
      "Epoch 6/100\n",
      "71/71 [==============================] - 0s 3ms/step - loss: 0.6466 - accuracy: 0.6237 - val_loss: 0.6610 - val_accuracy: 0.6042\n",
      "Epoch 7/100\n",
      "71/71 [==============================] - 0s 3ms/step - loss: 0.6398 - accuracy: 0.6352 - val_loss: 0.6497 - val_accuracy: 0.5936\n",
      "Epoch 8/100\n",
      "71/71 [==============================] - 0s 3ms/step - loss: 0.6364 - accuracy: 0.6316 - val_loss: 0.6479 - val_accuracy: 0.6078\n",
      "Epoch 9/100\n",
      "71/71 [==============================] - 0s 3ms/step - loss: 0.6339 - accuracy: 0.6369 - val_loss: 0.6461 - val_accuracy: 0.6042\n",
      "Epoch 10/100\n",
      "71/71 [==============================] - 0s 3ms/step - loss: 0.6241 - accuracy: 0.6537 - val_loss: 0.6447 - val_accuracy: 0.6078\n",
      "Epoch 11/100\n",
      "71/71 [==============================] - 0s 3ms/step - loss: 0.6272 - accuracy: 0.6555 - val_loss: 0.6446 - val_accuracy: 0.6219\n",
      "Epoch 12/100\n",
      "71/71 [==============================] - 0s 3ms/step - loss: 0.6234 - accuracy: 0.6546 - val_loss: 0.6685 - val_accuracy: 0.5830\n",
      "Epoch 13/100\n",
      "71/71 [==============================] - 0s 3ms/step - loss: 0.6254 - accuracy: 0.6511 - val_loss: 0.6416 - val_accuracy: 0.6042\n",
      "Epoch 14/100\n",
      "71/71 [==============================] - 0s 3ms/step - loss: 0.6207 - accuracy: 0.6572 - val_loss: 0.6646 - val_accuracy: 0.6254\n",
      "Epoch 15/100\n",
      "71/71 [==============================] - 0s 3ms/step - loss: 0.6245 - accuracy: 0.6705 - val_loss: 0.6488 - val_accuracy: 0.6254\n",
      "Epoch 16/100\n",
      "71/71 [==============================] - 0s 3ms/step - loss: 0.6204 - accuracy: 0.6705 - val_loss: 0.6466 - val_accuracy: 0.6219\n",
      "Epoch 17/100\n",
      "71/71 [==============================] - 0s 3ms/step - loss: 0.6129 - accuracy: 0.6625 - val_loss: 0.6436 - val_accuracy: 0.6007\n",
      "Epoch 18/100\n",
      "71/71 [==============================] - 0s 3ms/step - loss: 0.6182 - accuracy: 0.6643 - val_loss: 0.6440 - val_accuracy: 0.6007\n",
      "Epoch 19/100\n",
      "71/71 [==============================] - 0s 3ms/step - loss: 0.6071 - accuracy: 0.6740 - val_loss: 0.6463 - val_accuracy: 0.6007\n",
      "Epoch 20/100\n",
      "71/71 [==============================] - 0s 3ms/step - loss: 0.6075 - accuracy: 0.6670 - val_loss: 0.6456 - val_accuracy: 0.5972\n",
      "Epoch 21/100\n",
      "71/71 [==============================] - 0s 3ms/step - loss: 0.5969 - accuracy: 0.6784 - val_loss: 0.6437 - val_accuracy: 0.6007\n",
      "Epoch 22/100\n",
      "71/71 [==============================] - 0s 3ms/step - loss: 0.6001 - accuracy: 0.6740 - val_loss: 0.6398 - val_accuracy: 0.6148\n",
      "Epoch 23/100\n",
      "71/71 [==============================] - 0s 3ms/step - loss: 0.5986 - accuracy: 0.6926 - val_loss: 0.6526 - val_accuracy: 0.6148\n",
      "Epoch 24/100\n",
      "71/71 [==============================] - 0s 3ms/step - loss: 0.6086 - accuracy: 0.6740 - val_loss: 0.6412 - val_accuracy: 0.6219\n",
      "Epoch 25/100\n",
      "71/71 [==============================] - 0s 3ms/step - loss: 0.5976 - accuracy: 0.6793 - val_loss: 0.6484 - val_accuracy: 0.5972\n",
      "Epoch 26/100\n",
      "71/71 [==============================] - 0s 3ms/step - loss: 0.6057 - accuracy: 0.6705 - val_loss: 0.6411 - val_accuracy: 0.6007\n",
      "Epoch 27/100\n",
      "71/71 [==============================] - 0s 3ms/step - loss: 0.5938 - accuracy: 0.6873 - val_loss: 0.6490 - val_accuracy: 0.5972\n",
      "Epoch 28/100\n",
      "71/71 [==============================] - 0s 3ms/step - loss: 0.5942 - accuracy: 0.6961 - val_loss: 0.6463 - val_accuracy: 0.5972\n",
      "Epoch 29/100\n",
      "71/71 [==============================] - 0s 3ms/step - loss: 0.5844 - accuracy: 0.6935 - val_loss: 0.6541 - val_accuracy: 0.6007\n",
      "Epoch 30/100\n",
      "71/71 [==============================] - 0s 3ms/step - loss: 0.5847 - accuracy: 0.6899 - val_loss: 0.6577 - val_accuracy: 0.6042\n",
      "Epoch 31/100\n",
      "71/71 [==============================] - 0s 3ms/step - loss: 0.5887 - accuracy: 0.6873 - val_loss: 0.6408 - val_accuracy: 0.6466\n",
      "Epoch 32/100\n",
      "71/71 [==============================] - 0s 3ms/step - loss: 0.5802 - accuracy: 0.6952 - val_loss: 0.6576 - val_accuracy: 0.6042\n",
      "Epoch 33/100\n",
      "71/71 [==============================] - 0s 3ms/step - loss: 0.5811 - accuracy: 0.7005 - val_loss: 0.6637 - val_accuracy: 0.6078\n",
      "Epoch 34/100\n",
      "71/71 [==============================] - 0s 3ms/step - loss: 0.5776 - accuracy: 0.6952 - val_loss: 0.6636 - val_accuracy: 0.6360\n",
      "Epoch 35/100\n",
      "71/71 [==============================] - 0s 3ms/step - loss: 0.5713 - accuracy: 0.7085 - val_loss: 0.6570 - val_accuracy: 0.6148\n",
      "Epoch 36/100\n",
      "71/71 [==============================] - 0s 3ms/step - loss: 0.5623 - accuracy: 0.6979 - val_loss: 0.6636 - val_accuracy: 0.6184\n",
      "Epoch 37/100\n",
      "71/71 [==============================] - 0s 3ms/step - loss: 0.5642 - accuracy: 0.7067 - val_loss: 0.6577 - val_accuracy: 0.6219\n",
      "Epoch 38/100\n",
      "71/71 [==============================] - 0s 3ms/step - loss: 0.5617 - accuracy: 0.7173 - val_loss: 0.6590 - val_accuracy: 0.6219\n",
      "Epoch 39/100\n",
      "71/71 [==============================] - 0s 3ms/step - loss: 0.5582 - accuracy: 0.7032 - val_loss: 0.6549 - val_accuracy: 0.6184\n",
      "Epoch 40/100\n",
      "71/71 [==============================] - 0s 3ms/step - loss: 0.5536 - accuracy: 0.7191 - val_loss: 0.6751 - val_accuracy: 0.6643\n",
      "Epoch 41/100\n",
      "71/71 [==============================] - 0s 3ms/step - loss: 0.5497 - accuracy: 0.7244 - val_loss: 0.6488 - val_accuracy: 0.6396\n",
      "Epoch 42/100\n",
      "71/71 [==============================] - 0s 3ms/step - loss: 0.5451 - accuracy: 0.7394 - val_loss: 0.6611 - val_accuracy: 0.6360\n",
      "Epoch 43/100\n",
      "71/71 [==============================] - 0s 3ms/step - loss: 0.5483 - accuracy: 0.7147 - val_loss: 0.6637 - val_accuracy: 0.6360\n",
      "Epoch 44/100\n",
      "71/71 [==============================] - 0s 3ms/step - loss: 0.5369 - accuracy: 0.7270 - val_loss: 0.6952 - val_accuracy: 0.6290\n",
      "Epoch 45/100\n",
      "71/71 [==============================] - 0s 3ms/step - loss: 0.5453 - accuracy: 0.7129 - val_loss: 0.6641 - val_accuracy: 0.6325\n",
      "Epoch 46/100\n",
      "71/71 [==============================] - 0s 3ms/step - loss: 0.5372 - accuracy: 0.7253 - val_loss: 0.6843 - val_accuracy: 0.5936\n",
      "Epoch 47/100\n",
      "71/71 [==============================] - 0s 3ms/step - loss: 0.5343 - accuracy: 0.7323 - val_loss: 0.6687 - val_accuracy: 0.6184\n",
      "Epoch 48/100\n",
      "71/71 [==============================] - 0s 3ms/step - loss: 0.5269 - accuracy: 0.7447 - val_loss: 0.6662 - val_accuracy: 0.6254\n",
      "Epoch 49/100\n",
      "71/71 [==============================] - 0s 3ms/step - loss: 0.5402 - accuracy: 0.7200 - val_loss: 0.6642 - val_accuracy: 0.6042\n",
      "Epoch 50/100\n",
      "71/71 [==============================] - 0s 3ms/step - loss: 0.5222 - accuracy: 0.7208 - val_loss: 0.7753 - val_accuracy: 0.6431\n",
      "Epoch 51/100\n",
      "71/71 [==============================] - 0s 3ms/step - loss: 0.5208 - accuracy: 0.7367 - val_loss: 0.7234 - val_accuracy: 0.5760\n",
      "Epoch 52/100\n",
      "71/71 [==============================] - 0s 3ms/step - loss: 0.5135 - accuracy: 0.7571 - val_loss: 0.7149 - val_accuracy: 0.6572\n",
      "Epoch 53/100\n",
      "71/71 [==============================] - 0s 3ms/step - loss: 0.5176 - accuracy: 0.7544 - val_loss: 0.6701 - val_accuracy: 0.6396\n",
      "Epoch 54/100\n",
      "71/71 [==============================] - 0s 3ms/step - loss: 0.5074 - accuracy: 0.7359 - val_loss: 0.6885 - val_accuracy: 0.6537\n",
      "Epoch 55/100\n",
      "71/71 [==============================] - 0s 3ms/step - loss: 0.5007 - accuracy: 0.7500 - val_loss: 0.6666 - val_accuracy: 0.6078\n",
      "Epoch 56/100\n",
      "71/71 [==============================] - 0s 3ms/step - loss: 0.4980 - accuracy: 0.7447 - val_loss: 0.7235 - val_accuracy: 0.6502\n",
      "Epoch 57/100\n",
      "71/71 [==============================] - 0s 3ms/step - loss: 0.5111 - accuracy: 0.7482 - val_loss: 0.6903 - val_accuracy: 0.6148\n",
      "Epoch 58/100\n",
      "71/71 [==============================] - 0s 3ms/step - loss: 0.4929 - accuracy: 0.7518 - val_loss: 0.6762 - val_accuracy: 0.6466\n"
     ]
    },
    {
     "name": "stdout",
     "output_type": "stream",
     "text": [
      "Epoch 59/100\n",
      "71/71 [==============================] - 0s 3ms/step - loss: 0.4785 - accuracy: 0.7527 - val_loss: 0.7423 - val_accuracy: 0.6360\n",
      "Epoch 60/100\n",
      "71/71 [==============================] - 0s 3ms/step - loss: 0.4850 - accuracy: 0.7641 - val_loss: 0.7124 - val_accuracy: 0.6078\n",
      "Epoch 61/100\n",
      "71/71 [==============================] - 0s 3ms/step - loss: 0.4853 - accuracy: 0.7633 - val_loss: 0.6912 - val_accuracy: 0.6431\n",
      "Epoch 62/100\n",
      "71/71 [==============================] - 0s 3ms/step - loss: 0.4892 - accuracy: 0.7659 - val_loss: 0.6900 - val_accuracy: 0.6502\n",
      "Epoch 63/100\n",
      "71/71 [==============================] - 0s 3ms/step - loss: 0.4679 - accuracy: 0.7827 - val_loss: 0.7601 - val_accuracy: 0.6254\n",
      "Epoch 64/100\n",
      "71/71 [==============================] - 0s 3ms/step - loss: 0.4749 - accuracy: 0.7730 - val_loss: 0.7386 - val_accuracy: 0.6290\n",
      "Epoch 65/100\n",
      "71/71 [==============================] - 0s 3ms/step - loss: 0.4765 - accuracy: 0.7615 - val_loss: 0.6842 - val_accuracy: 0.6466\n",
      "Epoch 66/100\n",
      "71/71 [==============================] - 0s 3ms/step - loss: 0.4555 - accuracy: 0.7800 - val_loss: 0.7108 - val_accuracy: 0.6678\n",
      "Epoch 67/100\n",
      "71/71 [==============================] - 0s 3ms/step - loss: 0.4735 - accuracy: 0.7615 - val_loss: 0.7287 - val_accuracy: 0.6502\n",
      "Epoch 68/100\n",
      "71/71 [==============================] - 0s 3ms/step - loss: 0.4511 - accuracy: 0.7906 - val_loss: 0.7799 - val_accuracy: 0.6254\n",
      "Epoch 69/100\n",
      "71/71 [==============================] - 0s 3ms/step - loss: 0.4656 - accuracy: 0.7712 - val_loss: 0.7347 - val_accuracy: 0.6360\n",
      "Epoch 70/100\n",
      "71/71 [==============================] - 0s 3ms/step - loss: 0.4539 - accuracy: 0.7951 - val_loss: 0.7044 - val_accuracy: 0.6396\n",
      "Epoch 71/100\n",
      "71/71 [==============================] - 0s 3ms/step - loss: 0.4599 - accuracy: 0.7792 - val_loss: 0.6979 - val_accuracy: 0.6290\n",
      "Epoch 72/100\n",
      "71/71 [==============================] - 0s 3ms/step - loss: 0.4351 - accuracy: 0.7889 - val_loss: 0.7070 - val_accuracy: 0.6537\n",
      "Epoch 72: early stopping\n",
      "39/39 [==============================] - 1s 1ms/step\n",
      "9/9 [==============================] - 0s 1ms/step\n",
      "Best Thresholds : 0.4579426944255829\n"
     ]
    }
   ],
   "source": [
    "model = Sequential()\n",
    "model.add(LSTM(best_params['units'], return_sequences = True, input_shape = (1, X_train.shape[2])))\n",
    "model.add(Dropout(best_params['dropout_rate']))\n",
    "model.add(LSTM(best_params['units']))\n",
    "model.add(Dropout(best_params['dropout_rate']))\n",
    "model.add(Dense(1, activation = 'sigmoid'))\n",
    "\n",
    "model.compile(optimizer = 'adam', loss = 'binary_crossentropy', metrics = ['accuracy'])\n",
    "callbacks = [EarlyStopping(monitor = 'val_loss', mode = 'min', patience = 50, verbose = 1)]\n",
    "\n",
    "model.fit(X_train, y_train, epochs = 100, batch_size = best_params['batch_size'], validation_data = (X_val, y_val), callbacks = callbacks)\n",
    "\n",
    "vector_size = X_train.shape[2]\n",
    "X_test = X_test.reshape((X_test.shape[0], 1, vector_size))\n",
    "\n",
    "pred = model.predict(X_test)\n",
    "\n",
    "\n",
    "fpr, tpr, thresholds = roc_curve(y_val, model.predict(X_val).ravel())\n",
    "gmeans = np.sqrt(tpr * (1 - fpr))\n",
    "ix = np.argmax(gmeans)\n",
    "print('Best Thresholds : {}'.format(thresholds[ix]))"
   ]
  },
  {
   "cell_type": "code",
   "execution_count": 35,
   "id": "3d33448d",
   "metadata": {
    "ExecuteTime": {
     "end_time": "2024-03-18T02:56:08.869490Z",
     "start_time": "2024-03-18T02:56:08.655567Z"
    }
   },
   "outputs": [
    {
     "name": "stdout",
     "output_type": "stream",
     "text": [
      "9/9 [==============================] - 0s 1ms/step\n"
     ]
    },
    {
     "data": {
      "text/plain": [
       "<matplotlib.legend.Legend at 0x1ecd81b4690>"
      ]
     },
     "execution_count": 35,
     "metadata": {},
     "output_type": "execute_result"
    },
    {
     "data": {
      "image/png": "[encoded data removed]",
      "text/plain": [
       "<Figure size 640x480 with 1 Axes>"
      ]
     },
     "metadata": {},
     "output_type": "display_data"
    }
   ],
   "source": [
    "fpr, tpr, _ = roc_curve(y_val, model.predict(X_val).ravel())\n",
    "roc_auc = auc(fpr, tpr)\n",
    "\n",
    "plt.figure()\n",
    "lw = 2\n",
    "plt.plot(fpr, tpr, color = 'darkorange',\n",
    "         lw = lw, label = 'ROC curve (area = %0.2f)' % roc_auc)\n",
    "plt.plot([0, 1], [0, 1], color = 'navy', lw = lw, linestyle = '--')\n",
    "plt.xlim([0.0, 1.0])\n",
    "plt.ylim([0.0, 1.05])\n",
    "plt.xlabel('False Positive Rate')\n",
    "plt.ylabel('True Positive Rate')\n",
    "plt.title('Receiver Operating Characteristic')\n",
    "plt.legend(loc=\"lower right\")\n"
   ]
  },
  {
   "cell_type": "code",
   "execution_count": 36,
   "id": "c1e9e6c0",
   "metadata": {
    "ExecuteTime": {
     "end_time": "2024-03-18T02:56:19.161686Z",
     "start_time": "2024-03-18T02:56:18.980556Z"
    }
   },
   "outputs": [
    {
     "name": "stdout",
     "output_type": "stream",
     "text": [
      "36/36 [==============================] - 0s 1ms/step\n",
      "9/9 [==============================] - 0s 1ms/step\n"
     ]
    }
   ],
   "source": [
    "y_train_pred = model.predict(X_train)\n",
    "y_val_pred = model.predict(X_val)"
   ]
  },
  {
   "cell_type": "code",
   "execution_count": 37,
   "id": "354cc7cd",
   "metadata": {
    "ExecuteTime": {
     "end_time": "2024-03-18T02:56:20.220544Z",
     "start_time": "2024-03-18T02:56:20.216908Z"
    }
   },
   "outputs": [],
   "source": [
    "y_train_pred = (y_train_pred > 0.5).astype(int)\n",
    "y_val_pred = (y_val_pred > 0.5).astype(int)"
   ]
  },
  {
   "cell_type": "code",
   "execution_count": 40,
   "id": "3a28390d",
   "metadata": {
    "ExecuteTime": {
     "end_time": "2024-03-18T02:56:32.361061Z",
     "start_time": "2024-03-18T02:56:32.356279Z"
    }
   },
   "outputs": [
    {
     "name": "stdout",
     "output_type": "stream",
     "text": [
      "train accuracy :  0.8136042402826855\n",
      "validation accuracy :  0.6537102473498233\n"
     ]
    }
   ],
   "source": [
    "print('train accuracy : ', accuracy_score(y_train, y_train_pred))\n",
    "print('validation accuracy : ', accuracy_score(y_val, y_val_pred))"
   ]
  },
  {
   "cell_type": "markdown",
   "id": "8d70e0ff",
   "metadata": {},
   "source": [
    "# 제출"
   ]
  },
  {
   "cell_type": "code",
   "execution_count": null,
   "id": "ff1ba43b",
   "metadata": {
    "ExecuteTime": {
     "end_time": "2024-03-18T02:28:41.777170Z",
     "start_time": "2024-03-18T02:28:41.777170Z"
    }
   },
   "outputs": [],
   "source": [
    "y_pred = (pred > thresholds[ix]).astype(int).flatten()\n",
    "submission_df['first_party_winner'] = y_pred\n",
    "submission_df.to_csv('fasttext_lstm.csv', index = False)"
   ]
  },
  {
   "cell_type": "code",
   "execution_count": null,
   "id": "1d8e716e",
   "metadata": {},
   "outputs": [],
   "source": []
  }
 ],
 "metadata": {
  "kernelspec": {
   "display_name": "Python 3 (ipykernel)",
   "language": "python",
   "name": "python3"
  },
  "language_info": {
   "codemirror_mode": {
    "name": "ipython",
    "version": 3
   },
   "file_extension": ".py",
   "mimetype": "text/x-python",
   "name": "python",
   "nbconvert_exporter": "python",
   "pygments_lexer": "ipython3",
   "version": "3.11.5"
  },
  "toc": {
   "base_numbering": 1,
   "nav_menu": {},
   "number_sections": true,
   "sideBar": true,
   "skip_h1_title": false,
   "title_cell": "Table of Contents",
   "title_sidebar": "Contents",
   "toc_cell": false,
   "toc_position": {
    "height": "calc(100% - 180px)",
    "left": "10px",
    "top": "150px",
    "width": "165px"
   },
   "toc_section_display": true,
   "toc_window_display": false
  }
 },
 "nbformat": 4,
 "nbformat_minor": 5
}
