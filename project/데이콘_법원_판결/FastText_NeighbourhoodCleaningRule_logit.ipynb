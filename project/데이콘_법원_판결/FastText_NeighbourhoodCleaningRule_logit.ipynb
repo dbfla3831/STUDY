{
 "cells": [
  {
   "cell_type": "markdown",
   "id": "ca94ce9d",
   "metadata": {},
   "source": [
    "# 라이브러리 불러오기"
   ]
  },
  {
   "cell_type": "code",
   "execution_count": 1,
   "id": "f77213fd",
   "metadata": {
    "ExecuteTime": {
     "end_time": "2024-03-18T05:38:47.189485Z",
     "start_time": "2024-03-18T05:38:47.186630Z"
    }
   },
   "outputs": [],
   "source": [
    "# ! pip install -U imbalanced-learn scikit-learn\n",
    "# !pip install gensim\n",
    "# ! pip install optuna"
   ]
  },
  {
   "cell_type": "code",
   "execution_count": 2,
   "id": "814f548f",
   "metadata": {
    "ExecuteTime": {
     "end_time": "2024-03-18T05:38:53.692731Z",
     "start_time": "2024-03-18T05:38:47.191489Z"
    }
   },
   "outputs": [
    {
     "name": "stdout",
     "output_type": "stream",
     "text": [
      "WARNING:tensorflow:From C:\\Users\\mit005\\anaconda3\\Lib\\site-packages\\keras\\src\\losses.py:2976: The name tf.losses.sparse_softmax_cross_entropy is deprecated. Please use tf.compat.v1.losses.sparse_softmax_cross_entropy instead.\n",
      "\n"
     ]
    }
   ],
   "source": [
    "import numpy as np\n",
    "import pandas as pd\n",
    "import re\n",
    "import nltk\n",
    "# nltk.download('stopwords')\n",
    "# nltk.download('wordnet')\n",
    "import matplotlib.pyplot as plt\n",
    "\n",
    "from gensim.models import FastText\n",
    "from keras.preprocessing.text import Tokenizer\n",
    "from nltk.tokenize import TreebankWordTokenizer # 표준 토큰화\n",
    "from nltk.corpus import stopwords # 불용어 제거\n",
    "from nltk.stem import WordNetLemmatizer # 기본 형태로 변환\n",
    "from imblearn.under_sampling import NeighbourhoodCleaningRule\n",
    "\n",
    "from sklearn.model_selection import train_test_split\n",
    "from tensorflow.keras.layers import Embedding \n",
    "from sklearn.linear_model import LogisticRegression\n",
    "import optuna\n",
    "from tensorflow.keras.initializers import Constant\n",
    "from sklearn.metrics import classification_report\n",
    "from sklearn.metrics import accuracy_score\n",
    "from sklearn.model_selection import GridSearchCV\n",
    "\n",
    "import warnings\n",
    "warnings.filterwarnings('ignore')"
   ]
  },
  {
   "cell_type": "markdown",
   "id": "35f21329",
   "metadata": {},
   "source": [
    "# 데이터 불러오기"
   ]
  },
  {
   "cell_type": "code",
   "execution_count": 3,
   "id": "9eb5a900",
   "metadata": {
    "ExecuteTime": {
     "end_time": "2024-03-18T05:38:53.742452Z",
     "start_time": "2024-03-18T05:38:53.694730Z"
    }
   },
   "outputs": [],
   "source": [
    "train_df = pd.read_csv('./data/train.csv')\n",
    "test_df = pd.read_csv('./data/test.csv')\n",
    "submission_df = pd.read_csv('./data/sample_submission.csv')"
   ]
  },
  {
   "cell_type": "code",
   "execution_count": 4,
   "id": "933ebd82",
   "metadata": {
    "ExecuteTime": {
     "end_time": "2024-03-18T05:38:53.757030Z",
     "start_time": "2024-03-18T05:38:53.743453Z"
    }
   },
   "outputs": [
    {
     "data": {
      "text/html": [
       "<div>\n",
       "<style scoped>\n",
       "    .dataframe tbody tr th:only-of-type {\n",
       "        vertical-align: middle;\n",
       "    }\n",
       "\n",
       "    .dataframe tbody tr th {\n",
       "        vertical-align: top;\n",
       "    }\n",
       "\n",
       "    .dataframe thead th {\n",
       "        text-align: right;\n",
       "    }\n",
       "</style>\n",
       "<table border=\"1\" class=\"dataframe\">\n",
       "  <thead>\n",
       "    <tr style=\"text-align: right;\">\n",
       "      <th></th>\n",
       "      <th>ID</th>\n",
       "      <th>first_party</th>\n",
       "      <th>second_party</th>\n",
       "      <th>facts</th>\n",
       "      <th>first_party_winner</th>\n",
       "    </tr>\n",
       "  </thead>\n",
       "  <tbody>\n",
       "    <tr>\n",
       "      <th>0</th>\n",
       "      <td>TRAIN_0000</td>\n",
       "      <td>Phil A. St. Amant</td>\n",
       "      <td>Herman A. Thompson</td>\n",
       "      <td>On June 27, 1962, Phil St. Amant, a candidate ...</td>\n",
       "      <td>1</td>\n",
       "    </tr>\n",
       "    <tr>\n",
       "      <th>1</th>\n",
       "      <td>TRAIN_0001</td>\n",
       "      <td>Stephen Duncan</td>\n",
       "      <td>Lawrence Owens</td>\n",
       "      <td>Ramon Nelson was riding his bike when he suffe...</td>\n",
       "      <td>0</td>\n",
       "    </tr>\n",
       "    <tr>\n",
       "      <th>2</th>\n",
       "      <td>TRAIN_0002</td>\n",
       "      <td>Billy Joe Magwood</td>\n",
       "      <td>Tony Patterson, Warden, et al.</td>\n",
       "      <td>An Alabama state court convicted Billy Joe Mag...</td>\n",
       "      <td>1</td>\n",
       "    </tr>\n",
       "    <tr>\n",
       "      <th>3</th>\n",
       "      <td>TRAIN_0003</td>\n",
       "      <td>Linkletter</td>\n",
       "      <td>Walker</td>\n",
       "      <td>Victor Linkletter was convicted in state court...</td>\n",
       "      <td>0</td>\n",
       "    </tr>\n",
       "    <tr>\n",
       "      <th>4</th>\n",
       "      <td>TRAIN_0004</td>\n",
       "      <td>William Earl Fikes</td>\n",
       "      <td>Alabama</td>\n",
       "      <td>On April 24, 1953 in Selma, Alabama, an intrud...</td>\n",
       "      <td>1</td>\n",
       "    </tr>\n",
       "  </tbody>\n",
       "</table>\n",
       "</div>"
      ],
      "text/plain": [
       "           ID         first_party                    second_party  \\\n",
       "0  TRAIN_0000   Phil A. St. Amant              Herman A. Thompson   \n",
       "1  TRAIN_0001      Stephen Duncan                  Lawrence Owens   \n",
       "2  TRAIN_0002   Billy Joe Magwood  Tony Patterson, Warden, et al.   \n",
       "3  TRAIN_0003          Linkletter                          Walker   \n",
       "4  TRAIN_0004  William Earl Fikes                         Alabama   \n",
       "\n",
       "                                               facts  first_party_winner  \n",
       "0  On June 27, 1962, Phil St. Amant, a candidate ...                   1  \n",
       "1  Ramon Nelson was riding his bike when he suffe...                   0  \n",
       "2  An Alabama state court convicted Billy Joe Mag...                   1  \n",
       "3  Victor Linkletter was convicted in state court...                   0  \n",
       "4  On April 24, 1953 in Selma, Alabama, an intrud...                   1  "
      ]
     },
     "metadata": {},
     "output_type": "display_data"
    },
    {
     "data": {
      "text/html": [
       "<div>\n",
       "<style scoped>\n",
       "    .dataframe tbody tr th:only-of-type {\n",
       "        vertical-align: middle;\n",
       "    }\n",
       "\n",
       "    .dataframe tbody tr th {\n",
       "        vertical-align: top;\n",
       "    }\n",
       "\n",
       "    .dataframe thead th {\n",
       "        text-align: right;\n",
       "    }\n",
       "</style>\n",
       "<table border=\"1\" class=\"dataframe\">\n",
       "  <thead>\n",
       "    <tr style=\"text-align: right;\">\n",
       "      <th></th>\n",
       "      <th>ID</th>\n",
       "      <th>first_party</th>\n",
       "      <th>second_party</th>\n",
       "      <th>facts</th>\n",
       "    </tr>\n",
       "  </thead>\n",
       "  <tbody>\n",
       "    <tr>\n",
       "      <th>0</th>\n",
       "      <td>TEST_0000</td>\n",
       "      <td>Salerno</td>\n",
       "      <td>United States</td>\n",
       "      <td>The 1984 Bail Reform Act allowed the federal c...</td>\n",
       "    </tr>\n",
       "    <tr>\n",
       "      <th>1</th>\n",
       "      <td>TEST_0001</td>\n",
       "      <td>Milberg Weiss Bershad Hynes and Lerach</td>\n",
       "      <td>Lexecon, Inc.</td>\n",
       "      <td>Lexecon Inc. was a defendant in a class action...</td>\n",
       "    </tr>\n",
       "    <tr>\n",
       "      <th>2</th>\n",
       "      <td>TEST_0002</td>\n",
       "      <td>No. 07-582\\t Title: \\t Federal Communications ...</td>\n",
       "      <td>Fox Television Stations, Inc., et al.</td>\n",
       "      <td>In 2002 and 2003, Fox Television Stations broa...</td>\n",
       "    </tr>\n",
       "    <tr>\n",
       "      <th>3</th>\n",
       "      <td>TEST_0003</td>\n",
       "      <td>Harold Kaufman</td>\n",
       "      <td>United States</td>\n",
       "      <td>During his trial for armed robbery of a federa...</td>\n",
       "    </tr>\n",
       "    <tr>\n",
       "      <th>4</th>\n",
       "      <td>TEST_0004</td>\n",
       "      <td>Berger</td>\n",
       "      <td>Hanlon</td>\n",
       "      <td>In 1993, a magistrate judge issued a warrant a...</td>\n",
       "    </tr>\n",
       "  </tbody>\n",
       "</table>\n",
       "</div>"
      ],
      "text/plain": [
       "          ID                                        first_party  \\\n",
       "0  TEST_0000                                            Salerno   \n",
       "1  TEST_0001             Milberg Weiss Bershad Hynes and Lerach   \n",
       "2  TEST_0002  No. 07-582\\t Title: \\t Federal Communications ...   \n",
       "3  TEST_0003                                    Harold Kaufman    \n",
       "4  TEST_0004                                             Berger   \n",
       "\n",
       "                            second_party  \\\n",
       "0                          United States   \n",
       "1                          Lexecon, Inc.   \n",
       "2  Fox Television Stations, Inc., et al.   \n",
       "3                          United States   \n",
       "4                                 Hanlon   \n",
       "\n",
       "                                               facts  \n",
       "0  The 1984 Bail Reform Act allowed the federal c...  \n",
       "1  Lexecon Inc. was a defendant in a class action...  \n",
       "2  In 2002 and 2003, Fox Television Stations broa...  \n",
       "3  During his trial for armed robbery of a federa...  \n",
       "4  In 1993, a magistrate judge issued a warrant a...  "
      ]
     },
     "metadata": {},
     "output_type": "display_data"
    }
   ],
   "source": [
    "display(train_df.head())\n",
    "display(test_df.head())"
   ]
  },
  {
   "cell_type": "code",
   "execution_count": 5,
   "id": "2ce88281",
   "metadata": {
    "ExecuteTime": {
     "end_time": "2024-03-18T05:38:53.762822Z",
     "start_time": "2024-03-18T05:38:53.758540Z"
    }
   },
   "outputs": [
    {
     "data": {
      "text/plain": [
       "first_party_winner\n",
       "0     829\n",
       "1    1649\n",
       "dtype: int64"
      ]
     },
     "execution_count": 5,
     "metadata": {},
     "output_type": "execute_result"
    }
   ],
   "source": [
    "train_df.groupby('first_party_winner').size()"
   ]
  },
  {
   "cell_type": "markdown",
   "id": "4ce13b7f",
   "metadata": {},
   "source": [
    "# 데이터 전처리"
   ]
  },
  {
   "cell_type": "markdown",
   "id": "621cab20",
   "metadata": {},
   "source": [
    "## 단어 처리"
   ]
  },
  {
   "cell_type": "code",
   "execution_count": 6,
   "id": "a24a9219",
   "metadata": {
    "ExecuteTime": {
     "end_time": "2024-03-18T05:38:53.768321Z",
     "start_time": "2024-03-18T05:38:53.763827Z"
    }
   },
   "outputs": [],
   "source": [
    "# 문자 처리\n",
    "cat_cols = ['first_party', 'second_party', 'facts']\n",
    "\n",
    "# \\b : 단어 경계, W* : 길이가 0이상이고 단어가 아닌 문자, w{1} : 길이가 1인 단어\n",
    "short_word = re.compile(r'\\W*\\b\\w{1}\\b') # 길이가 1인 단어 찾기\n",
    "tokenizer = TreebankWordTokenizer() # 단어 단위로 토큰화\n",
    "stopword = stopwords.words('english') # 불용어 리스트 가져오기\n",
    "lemmatizer = WordNetLemmatizer() # 단어의 기본 형태 가져오기"
   ]
  },
  {
   "cell_type": "code",
   "execution_count": 7,
   "id": "229dfb19",
   "metadata": {
    "ExecuteTime": {
     "end_time": "2024-03-18T05:38:53.773160Z",
     "start_time": "2024-03-18T05:38:53.768829Z"
    }
   },
   "outputs": [],
   "source": [
    "def prepro1(df):\n",
    "        df = df.strip() # 공백 제거\n",
    "        df = df.lower() # 소문자로 변경\n",
    "        df = df.replace(',', '')\n",
    "        df = df.replace('.', '')\n",
    "        \n",
    "\n",
    "        content = short_word.sub('', df) # 한 글자 단어 제거\n",
    "        com = re.compile(r\"[^\\uAC00-\\uD7A30-9a-zA-Z\\s]\") # 한글, 영어, 숫자 및 공백 문자를 제외한 모든 문자를 매칭\n",
    "        content = com.sub('', content)\n",
    "        tokens = tokenizer.tokenize(content) # 단어 토큰화\n",
    "        token_lst = []\n",
    "\n",
    "        for token in tokens:\n",
    "            if token not in stopword: #불용어 제거\n",
    "                token_lst.append(lemmatizer.lemmatize(token, 'n')) # 단어의 기본 형태 가져오기\n",
    "        return token_lst"
   ]
  },
  {
   "cell_type": "code",
   "execution_count": 8,
   "id": "c9711d45",
   "metadata": {
    "ExecuteTime": {
     "end_time": "2024-03-18T05:38:59.157243Z",
     "start_time": "2024-03-18T05:38:53.774165Z"
    }
   },
   "outputs": [],
   "source": [
    "train_df['first_party'] = train_df['first_party'].apply(prepro1)\n",
    "train_df['second_party'] = train_df['second_party'].apply(prepro1)\n",
    "train_df['facts'] = train_df['facts'].apply(prepro1)\n",
    "\n",
    "test_df['first_party'] = test_df['first_party'].apply(prepro1)\n",
    "test_df['second_party'] = test_df['second_party'].apply(prepro1)\n",
    "test_df['facts'] = test_df['facts'].apply(prepro1)"
   ]
  },
  {
   "cell_type": "code",
   "execution_count": 9,
   "id": "2b862288",
   "metadata": {
    "ExecuteTime": {
     "end_time": "2024-03-18T05:38:59.164413Z",
     "start_time": "2024-03-18T05:38:59.160111Z"
    }
   },
   "outputs": [],
   "source": [
    "all_text = train_df['first_party'].tolist() + train_df['second_party'].tolist() + train_df['facts'].tolist()"
   ]
  },
  {
   "cell_type": "code",
   "execution_count": 10,
   "id": "794fa586",
   "metadata": {
    "ExecuteTime": {
     "end_time": "2024-03-18T05:38:59.209604Z",
     "start_time": "2024-03-18T05:38:59.165416Z"
    }
   },
   "outputs": [],
   "source": [
    "train_word_counts = train_df['facts'].apply(lambda x : len(str(x).split()))"
   ]
  },
  {
   "cell_type": "code",
   "execution_count": 11,
   "id": "b0f6b214",
   "metadata": {
    "ExecuteTime": {
     "end_time": "2024-03-18T05:38:59.385816Z",
     "start_time": "2024-03-18T05:38:59.210607Z"
    }
   },
   "outputs": [
    {
     "data": {
      "image/png": "[encoded data removed]",
      "text/plain": [
       "<Figure size 1000x600 with 1 Axes>"
      ]
     },
     "metadata": {},
     "output_type": "display_data"
    }
   ],
   "source": [
    "plt.figure(figsize=(10, 6))\n",
    "plt.hist(train_word_counts, bins=20, edgecolor='black')\n",
    "plt.xlabel('Word Count')\n",
    "plt.ylabel('Frequency')\n",
    "plt.title('Distribution of Word Count')\n",
    "plt.show()"
   ]
  },
  {
   "cell_type": "markdown",
   "id": "e2bd40f3",
   "metadata": {},
   "source": [
    "## fasttext"
   ]
  },
  {
   "cell_type": "markdown",
   "id": "dce4831b",
   "metadata": {},
   "source": [
    "'FastText'를 사용해 사전 훈련된 단어 임베딩을 가져오고, 이를 사용해 keras의 임베딩 레이어를 초기화한다\n",
    "\n",
    "=> FastText 모델에서 얻은 단어 임베딩을 임베딩 행렬로 저장하고 있습니다. 이러한 저장된 임베딩 행렬은 후에 모델을 구축할 때 사용"
   ]
  },
  {
   "cell_type": "code",
   "execution_count": 12,
   "id": "a48c48f1",
   "metadata": {
    "ExecuteTime": {
     "end_time": "2024-03-18T05:39:06.190534Z",
     "start_time": "2024-03-18T05:38:59.386821Z"
    }
   },
   "outputs": [],
   "source": [
    "model = FastText(all_text, vector_size = 100, window = 5, min_count = 1, workers = 4, sg = 1)\n",
    "\n",
    "# tokenizer를 사용해 단어 인덱스를 생성\n",
    "tokenizer = Tokenizer()\n",
    "tokenizer.fit_on_texts(all_text)\n",
    "word_index = tokenizer.word_index"
   ]
  },
  {
   "cell_type": "code",
   "execution_count": 13,
   "id": "69853a6d",
   "metadata": {
    "ExecuteTime": {
     "end_time": "2024-03-18T05:39:06.194322Z",
     "start_time": "2024-03-18T05:39:06.191539Z"
    }
   },
   "outputs": [],
   "source": [
    "embedding_dim = 100"
   ]
  },
  {
   "cell_type": "code",
   "execution_count": 14,
   "id": "244a886a",
   "metadata": {
    "ExecuteTime": {
     "end_time": "2024-03-18T05:39:06.236840Z",
     "start_time": "2024-03-18T05:39:06.195325Z"
    }
   },
   "outputs": [],
   "source": [
    "# embedding matrix\n",
    "\n",
    "embedding_matrix = np.zeros((len(word_index) + 1, embedding_dim)) # 단어 수 X 임베딩 차원\n",
    "\n",
    "for word, i in word_index.items():\n",
    "    if word in model.wv:\n",
    "        embedding_vec = model.wv[word]\n",
    "        embedding_matrix[i] = embedding_vec"
   ]
  },
  {
   "cell_type": "code",
   "execution_count": 15,
   "id": "12050b35",
   "metadata": {
    "ExecuteTime": {
     "end_time": "2024-03-18T05:39:06.409501Z",
     "start_time": "2024-03-18T05:39:06.238109Z"
    }
   },
   "outputs": [
    {
     "name": "stdout",
     "output_type": "stream",
     "text": [
      "WARNING:tensorflow:From C:\\Users\\mit005\\anaconda3\\Lib\\site-packages\\keras\\src\\backend.py:873: The name tf.get_default_graph is deprecated. Please use tf.compat.v1.get_default_graph instead.\n",
      "\n"
     ]
    }
   ],
   "source": [
    "# embeddings_initializer : 임베딩 레이어의 가중치를 초기화\n",
    "# trainable = Fasle : 사전 훈련된 임베딩을 고정\n",
    "embedding_layer = Embedding(len(word_index) + 1, embedding_dim, embeddings_initializer = Constant(embedding_matrix), trainable = False)"
   ]
  },
  {
   "cell_type": "code",
   "execution_count": 16,
   "id": "6d5e04db",
   "metadata": {
    "ExecuteTime": {
     "end_time": "2024-03-18T05:39:06.414018Z",
     "start_time": "2024-03-18T05:39:06.410502Z"
    }
   },
   "outputs": [],
   "source": [
    "def get_vec(model, texts):\n",
    "    vects = []\n",
    "    \n",
    "    for text in texts:\n",
    "        text_vects = []\n",
    "        for word in text:\n",
    "            if word in model.wv.key_to_index:\n",
    "                text_vects.append(model.wv.get_vector(word))\n",
    "        if len(text_vects) > 0:\n",
    "            text_vects = np.mean(text_vects, axis = 0)\n",
    "            vects.append(text_vects)\n",
    "        else:\n",
    "            vects.append(np.zeros(model.vector_size))\n",
    "    \n",
    "    return np.array(vects)"
   ]
  },
  {
   "cell_type": "code",
   "execution_count": 17,
   "id": "5f7a9b14",
   "metadata": {
    "ExecuteTime": {
     "end_time": "2024-03-18T05:39:06.948795Z",
     "start_time": "2024-03-18T05:39:06.415021Z"
    }
   },
   "outputs": [],
   "source": [
    "X_train_first = get_vec(model, train_df['first_party'])\n",
    "X_train_second = get_vec(model, train_df['second_party'])\n",
    "X_train_facts = get_vec(model, train_df['facts'])\n",
    "\n",
    "X_train = np.concatenate([X_train_first, X_train_second, X_train_facts], axis = 1)\n",
    "y_train = train_df['first_party_winner']"
   ]
  },
  {
   "cell_type": "code",
   "execution_count": 18,
   "id": "8f11ad7c",
   "metadata": {
    "ExecuteTime": {
     "end_time": "2024-03-18T05:39:07.204100Z",
     "start_time": "2024-03-18T05:39:06.949259Z"
    }
   },
   "outputs": [],
   "source": [
    "X_test_first = get_vec(model, test_df['first_party'])\n",
    "X_test_second = get_vec(model, test_df['second_party'])\n",
    "X_test_facts = get_vec(model, test_df['facts'])\n",
    "\n",
    "X_test = np.concatenate([X_test_first, X_test_second, X_test_facts], axis = 1)"
   ]
  },
  {
   "cell_type": "markdown",
   "id": "b2b51c7b",
   "metadata": {},
   "source": [
    "## 불균형 데이터 처리"
   ]
  },
  {
   "cell_type": "code",
   "execution_count": 19,
   "id": "c1d30cc8",
   "metadata": {
    "ExecuteTime": {
     "end_time": "2024-03-18T05:39:07.400127Z",
     "start_time": "2024-03-18T05:39:07.205103Z"
    }
   },
   "outputs": [
    {
     "data": {
      "text/plain": [
       "first_party_winner\n",
       "1    1649\n",
       "0    1649\n",
       "Name: count, dtype: int64"
      ]
     },
     "execution_count": 19,
     "metadata": {},
     "output_type": "execute_result"
    }
   ],
   "source": [
    "from imblearn.over_sampling import SMOTE\n",
    "X_smote, y_somte = SMOTE(sampling_strategy = 'auto', k_neighbors = 15, random_state = 123).fit_resample(X_train, y_train)\n",
    "y_somte.value_counts()"
   ]
  },
  {
   "cell_type": "code",
   "execution_count": 20,
   "id": "51bb91ec",
   "metadata": {
    "ExecuteTime": {
     "end_time": "2024-03-18T05:39:07.403968Z",
     "start_time": "2024-03-18T05:39:07.401131Z"
    }
   },
   "outputs": [],
   "source": [
    "# X_ncr, y_ncr = NeighbourhoodCleaningRule(kind_sel = \"all\", n_neighbors = 5).fit_resample(X_train, y_train)\n",
    "# print('train shape : {}, {}'.format(X_ncr.shape, y_ncr.shape))"
   ]
  },
  {
   "cell_type": "code",
   "execution_count": 21,
   "id": "82c0e7a5",
   "metadata": {
    "ExecuteTime": {
     "end_time": "2024-03-18T05:39:07.408477Z",
     "start_time": "2024-03-18T05:39:07.404972Z"
    }
   },
   "outputs": [],
   "source": [
    "# y_ncr.value_counts()"
   ]
  },
  {
   "cell_type": "markdown",
   "id": "3ec92e12",
   "metadata": {},
   "source": [
    "## train데이터 셋으로 train, val 데이터 셋으로 분리"
   ]
  },
  {
   "cell_type": "code",
   "execution_count": 22,
   "id": "bb7cb7cb",
   "metadata": {
    "ExecuteTime": {
     "end_time": "2024-03-18T05:39:07.421374Z",
     "start_time": "2024-03-18T05:39:07.409503Z"
    }
   },
   "outputs": [
    {
     "name": "stdout",
     "output_type": "stream",
     "text": [
      "Train shape : (2638, 300), (2638,)\n",
      "first_party_winner\n",
      "1    1328\n",
      "0    1310\n",
      "Name: count, dtype: int64\n",
      "\n",
      "Validation shape : (660, 300), (660,)\n",
      "first_party_winner\n",
      "0    339\n",
      "1    321\n",
      "Name: count, dtype: int64\n"
     ]
    }
   ],
   "source": [
    "X_train, X_val, y_train, y_val = train_test_split(X_smote, y_somte, random_state = 123, test_size = 0.2)\n",
    "\n",
    "\n",
    "# X_train, X_val, y_train, y_val = train_test_split(X_ncr, y_ncr, random_state = 123, test_size = 0.2)\n",
    "\n",
    "print('Train shape : {}, {}'.format(X_train.shape, y_train.shape))\n",
    "print(y_train.value_counts())\n",
    "\n",
    "print()\n",
    "\n",
    "print('Validation shape : {}, {}'.format(X_val.shape, y_val.shape))\n",
    "print(y_val.value_counts())"
   ]
  },
  {
   "cell_type": "code",
   "execution_count": 40,
   "id": "138975b3",
   "metadata": {
    "ExecuteTime": {
     "end_time": "2024-03-18T05:56:42.722361Z",
     "start_time": "2024-03-18T05:56:42.665805Z"
    }
   },
   "outputs": [
    {
     "name": "stdout",
     "output_type": "stream",
     "text": [
      "              precision    recall  f1-score   support\n",
      "\n",
      "           0       0.62      0.55      0.58       339\n",
      "           1       0.58      0.64      0.61       321\n",
      "\n",
      "    accuracy                           0.60       660\n",
      "   macro avg       0.60      0.60      0.60       660\n",
      "weighted avg       0.60      0.60      0.60       660\n",
      "\n"
     ]
    }
   ],
   "source": [
    "model = LogisticRegression(max_iter = 500, random_state = 42)\n",
    "model.fit(X_train, y_train)\n",
    "pred = model.predict(X_val)\n",
    "\n",
    "print(classification_report(y_val, pred))"
   ]
  },
  {
   "cell_type": "code",
   "execution_count": 41,
   "id": "a09bcb13",
   "metadata": {
    "ExecuteTime": {
     "end_time": "2024-03-18T05:56:45.341779Z",
     "start_time": "2024-03-18T05:56:45.336104Z"
    }
   },
   "outputs": [],
   "source": [
    "y_train_pred = model.predict(X_train)\n",
    "y_val_pred = model.predict(X_val)"
   ]
  },
  {
   "cell_type": "code",
   "execution_count": 42,
   "id": "3054d158",
   "metadata": {
    "ExecuteTime": {
     "end_time": "2024-03-18T05:56:46.584343Z",
     "start_time": "2024-03-18T05:56:46.579372Z"
    },
    "scrolled": true
   },
   "outputs": [
    {
     "name": "stdout",
     "output_type": "stream",
     "text": [
      "train accuracy :  0.6167551175132676\n",
      "validation accuracy :  0.5969696969696969\n"
     ]
    }
   ],
   "source": [
    "print('train accuracy : ', accuracy_score(y_train, y_train_pred))\n",
    "print('validation accuracy : ', accuracy_score(y_val, y_val_pred))"
   ]
  },
  {
   "cell_type": "markdown",
   "id": "b8bb1813",
   "metadata": {},
   "source": [
    "# 그리드서치"
   ]
  },
  {
   "cell_type": "code",
   "execution_count": 26,
   "id": "3787897e",
   "metadata": {
    "ExecuteTime": {
     "end_time": "2024-03-18T05:49:32.720898Z",
     "start_time": "2024-03-18T05:39:07.534451Z"
    }
   },
   "outputs": [
    {
     "name": "stdout",
     "output_type": "stream",
     "text": [
      "Best parameters found:  {'C': 10, 'max_iter': 200, 'penalty': 'l2', 'solver': 'sag'}\n",
      "Best accuracy found:  0.5924932436317636\n"
     ]
    }
   ],
   "source": [
    "# 하이퍼파라미터 그리드 설정\n",
    "param_grid = {\n",
    "    'penalty': ['l1', 'l2'],\n",
    "    'C': [0.001, 0.01, 0.1, 1, 10],\n",
    "    'solver': ['liblinear', 'newton-cg', 'lbfgs', 'sag', 'saga'],\n",
    "    'max_iter': [100, 200, 300, 400, 500]\n",
    "}\n",
    "\n",
    "# 그리드 서치 모델 생성\n",
    "grid_search = GridSearchCV(LogisticRegression(random_state = 123), param_grid, cv = 5, scoring = 'accuracy')\n",
    "\n",
    "# 그리드 서치 수행\n",
    "grid_search.fit(X_train, y_train)\n",
    "best_params = grid_search.best_params_\n",
    "# 최적의 하이퍼파라미터와 결과 출력\n",
    "print(\"Best parameters found: \", grid_search.best_params_)\n",
    "print(\"Best accuracy found: \", grid_search.best_score_)"
   ]
  },
  {
   "cell_type": "code",
   "execution_count": 27,
   "id": "79fbc0f1",
   "metadata": {
    "ExecuteTime": {
     "end_time": "2024-03-18T05:49:33.885033Z",
     "start_time": "2024-03-18T05:49:32.723931Z"
    }
   },
   "outputs": [
    {
     "name": "stdout",
     "output_type": "stream",
     "text": [
      "              precision    recall  f1-score   support\n",
      "\n",
      "           0       0.63      0.62      0.63       339\n",
      "           1       0.61      0.62      0.61       321\n",
      "\n",
      "    accuracy                           0.62       660\n",
      "   macro avg       0.62      0.62      0.62       660\n",
      "weighted avg       0.62      0.62      0.62       660\n",
      "\n"
     ]
    }
   ],
   "source": [
    "best_model = LogisticRegression(**best_params)\n",
    "best_model.fit(X_train, y_train)\n",
    "gri_pred = best_model.predict(X_val)\n",
    "print(classification_report(y_val, gri_pred))"
   ]
  },
  {
   "cell_type": "code",
   "execution_count": 28,
   "id": "7eab1915",
   "metadata": {
    "ExecuteTime": {
     "end_time": "2024-03-18T05:49:33.891252Z",
     "start_time": "2024-03-18T05:49:33.886038Z"
    }
   },
   "outputs": [],
   "source": [
    "y_train_pred = best_model.predict(X_train)\n",
    "y_val_pred = best_model.predict(X_val)"
   ]
  },
  {
   "cell_type": "code",
   "execution_count": 29,
   "id": "ec3d74d3",
   "metadata": {
    "ExecuteTime": {
     "end_time": "2024-03-18T05:49:33.897753Z",
     "start_time": "2024-03-18T05:49:33.892254Z"
    }
   },
   "outputs": [
    {
     "name": "stdout",
     "output_type": "stream",
     "text": [
      "train accuracy :  0.6376042456406369\n",
      "validation accuracy :  0.6196969696969697\n"
     ]
    }
   ],
   "source": [
    "print('train accuracy : ', accuracy_score(y_train, y_train_pred))\n",
    "print('validation accuracy : ', accuracy_score(y_val, y_val_pred))"
   ]
  },
  {
   "cell_type": "markdown",
   "id": "8d70e0ff",
   "metadata": {},
   "source": [
    "# 제출"
   ]
  },
  {
   "cell_type": "code",
   "execution_count": 30,
   "id": "ff1ba43b",
   "metadata": {
    "ExecuteTime": {
     "end_time": "2024-03-18T05:49:33.901435Z",
     "start_time": "2024-03-18T05:49:33.899118Z"
    }
   },
   "outputs": [],
   "source": [
    "# y_pred = model.predict(X_test)\n",
    "# submission_df['first_party_winner'] = y_pred\n",
    "# submission_df.to_csv('fasttext_NeighbourhoodCleaningRule_logit.csv', index = False)"
   ]
  },
  {
   "cell_type": "code",
   "execution_count": 33,
   "id": "1d8e716e",
   "metadata": {
    "ExecuteTime": {
     "end_time": "2024-03-18T05:53:06.374581Z",
     "start_time": "2024-03-18T05:53:06.365307Z"
    }
   },
   "outputs": [],
   "source": [
    "y_pred = best_model.predict(X_test)\n",
    "submission_df['first_party_winner'] = y_pred\n",
    "submission_df.to_csv('fasttext_NeighbourhoodCleaningRule_logit_grid.csv', index = False)"
   ]
  },
  {
   "cell_type": "code",
   "execution_count": 39,
   "id": "261ea7ab",
   "metadata": {
    "ExecuteTime": {
     "end_time": "2024-03-18T05:55:02.122125Z",
     "start_time": "2024-03-18T05:55:02.117549Z"
    }
   },
   "outputs": [
    {
     "name": "stdout",
     "output_type": "stream",
     "text": [
      "1    753\n",
      "0    487\n",
      "Name: count, dtype: int64\n"
     ]
    }
   ],
   "source": [
    "# NumPy 배열을 판다스 Series로 변환\n",
    "y_pred_series = pd.Series(y_pred)\n",
    "\n",
    "# 클래스별 샘플 수 확인\n",
    "print(y_pred_series.value_counts())"
   ]
  }
 ],
 "metadata": {
  "kernelspec": {
   "display_name": "Python 3 (ipykernel)",
   "language": "python",
   "name": "python3"
  },
  "language_info": {
   "codemirror_mode": {
    "name": "ipython",
    "version": 3
   },
   "file_extension": ".py",
   "mimetype": "text/x-python",
   "name": "python",
   "nbconvert_exporter": "python",
   "pygments_lexer": "ipython3",
   "version": "3.11.5"
  },
  "toc": {
   "base_numbering": 1,
   "nav_menu": {},
   "number_sections": true,
   "sideBar": true,
   "skip_h1_title": false,
   "title_cell": "Table of Contents",
   "title_sidebar": "Contents",
   "toc_cell": false,
   "toc_position": {
    "height": "calc(100% - 180px)",
    "left": "10px",
    "top": "150px",
    "width": "165px"
   },
   "toc_section_display": true,
   "toc_window_display": false
  }
 },
 "nbformat": 4,
 "nbformat_minor": 5
}
