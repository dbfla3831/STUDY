{
 "cells": [
  {
   "cell_type": "markdown",
   "id": "18173367",
   "metadata": {},
   "source": [
    "# 분석 요약"
   ]
  },
  {
   "cell_type": "markdown",
   "id": "42074b1d",
   "metadata": {},
   "source": [
    "분석 목적\n",
    "\n",
    "- 미국 ford사에서 제공한 오픈데이터셋을 이용해 개발한 AI모델로 시스템/설비 예지 보전을 위해, 자동차 시스템 시계열 데이터셋에서 대해 분류 알고리즘을 적용해 불량 제춤을 분류한다\n",
    "\n",
    "- 제조업에서 분석 수요가 가장 높은 시계열 데이터를 사용해 계측 Sensor값의 주기적인 특성 및 계측 Sensor간의 관계 학습을 통한 분류 및 예측 문제를 해결\n",
    "\n",
    "** 설비 예지 보전 : 시스템 또는 설비의 잠재적인 고장이나 문제를 미리 예측하여 미연에 방지하거나 최소화하기 위한 절차\n",
    "\n",
    "<br>\n",
    "\n",
    "분석 적용\n",
    "\n",
    "- 로지스틱, XGBoost, CNN(합성곱신경망), RNN(순환신경망)이용"
   ]
  },
  {
   "cell_type": "markdown",
   "id": "6f203943",
   "metadata": {},
   "source": [
    "# 분석 개요"
   ]
  },
  {
   "cell_type": "markdown",
   "id": "efe35d80",
   "metadata": {},
   "source": [
    "공정 개요\n",
    "\n",
    "- 자동차 시스템이며, 자동차 하위 시스템인 엔진의 상태(정상/비정상)와 관련이 있는 주변의 500개 센서들로 요소(소음, 압력, 온도 등)를 측정\n",
    "\n",
    "분석 목표\n",
    "\n",
    "- 제조업 현장에서 흔히 접할 수 있는 데이터 셋, 즉 설비 내 여러 개의 계측 센서가 시간 순서대로 측정한 값으로 이뤄진 시계열 데이터에 대해 설비의 상태(정상/비정상)를 판단하는 분류 문제\n",
    "\n",
    "** 계측 센서 : 물리적인 양이나 조건을 측정하고 감지하는 센서\n",
    "\n",
    "<br>\n",
    "\n",
    "데이터 구조\n",
    "\n",
    "- 각 행은 특정 시간대(tn)에서 500개의 자동차 시스템 내 센서로 측정한 계측 값들로 구성\n",
    "\n",
    "- 각 컬럼은 특정 센서(1 ~ 500개)의 계측 값들의 시계열로 구성\n",
    "\n",
    "- 독립 변수 : 센서1 ~ 센서500\n",
    "\n",
    "- 종속 변수 : 정상/비정상 class\n",
    "\n",
    "- 학습용 데이터 : 3601개, 테스트용 데이터 : 1320개 => 4921개\n",
    "\n",
    "<br>\n",
    "\n",
    "본 데이터셋의 경우 주요 변수에 대한 사전 정보가 제공되어 있지 않다 -> 필요한 경우 분석 담당자가 여러 가지 방법을 통해 직접 탐색해야 한다\n",
    "\n",
    "단, 현업에서 실제 주요 변수에 대한 사전지식이 없는 경우가 일반적이기에 사전지식없이 모델이 스스로 데이터에 내재된 주요 특징을 추출하고 예측하는 방법론을 제시하고자 한다\n",
    "\n",
    "<br>\n",
    "\n",
    "분석 모델\n",
    "\n",
    "- 지도 학습\n",
    "    - 지도 학습 기반으로 한 분류 알고리즘을 이용\n",
    "    \n",
    "    - 입력에 대해 정상 : 1일 확률, 비정상 : -1일 확률을 계산해 확률이 높은 값으로 예측\n",
    "    \n",
    "    - 공정 내 설비가 정상으로 예측된 확률값이 0.5보다 크면 정상으로 분류, 0.5보다 작을 경우 비정상으로 분류\n",
    "    \n",
    "    - 로지스틱 회귀, XGBoost, RNN, CNN\n",
    "    \n",
    "    ** 지도학습 : 훈련 데이터로부터 하나의 함수를 유추해내기 위한 기계 학습의 한 방법이다\n",
    "    "
   ]
  },
  {
   "cell_type": "markdown",
   "id": "37835bbd",
   "metadata": {},
   "source": [
    "<br>\n",
    "\n",
    "- 로지스틱 회귀\n",
    "    \n",
    "    - 데이터가 어떤 카테고리에 속할지를 0과 1 사이의 연속적인 확률로 예측하는 회귀 알고리즘\n",
    "    \n",
    "- XGBoost\n",
    "\n",
    "    - 앙상블 방법을 기반\n",
    "    \n",
    "    - 앙상블 : 여러 가지의 모델로부터 나온 결과를 조합해 더 나은 결과를 얻는 방법이다\n",
    "    \n",
    "- RNN(순환 신경망)\n",
    "\n",
    "    - 인공 신경망의 한 종류로, 유닛간의 연결이 순환적 구조를 갖는 특성\n",
    "    \n",
    "    - 이전 시간 단계의 출력이 현재 시간 단계의 입력으로 사용되는 것이므로 순차적인 데이터를 처리하거나 시계열 데이터를 모델링하는데 유용하다(각 시간 단계에서의 입력은 이전 시간 단계의 출력을 의미한다)\n",
    "    \n",
    "- CNN(합성곱 신경망)\n",
    "\n",
    "    - 대표적으로 시각적인 데이터를 분석하는 데 사용되는 다층의 순반향 신경망의 한 종류이다\n",
    "    \n",
    "    - 사용하는 데이터는 이미지가 아니지만 시간적인 특성과 공간적인 특성을 스스로 추출하고 이를 기반으로 예측을 수행하는 것이 목표이기 때문에, 합성곱 신경망이 적합하다고 판단하여 사용"
   ]
  },
  {
   "cell_type": "code",
   "execution_count": null,
   "id": "3829ab22",
   "metadata": {},
   "outputs": [],
   "source": []
  },
  {
   "cell_type": "code",
   "execution_count": null,
   "id": "d6bfe3c2",
   "metadata": {},
   "outputs": [],
   "source": []
  },
  {
   "cell_type": "code",
   "execution_count": null,
   "id": "209e61fc",
   "metadata": {},
   "outputs": [],
   "source": []
  },
  {
   "cell_type": "code",
   "execution_count": null,
   "id": "91b445c2",
   "metadata": {},
   "outputs": [],
   "source": []
  },
  {
   "cell_type": "code",
   "execution_count": null,
   "id": "6932cf8f",
   "metadata": {},
   "outputs": [],
   "source": []
  },
  {
   "cell_type": "code",
   "execution_count": null,
   "id": "939f1937",
   "metadata": {},
   "outputs": [],
   "source": []
  },
  {
   "cell_type": "code",
   "execution_count": null,
   "id": "52b178f8",
   "metadata": {},
   "outputs": [],
   "source": []
  },
  {
   "cell_type": "code",
   "execution_count": null,
   "id": "8b965e66",
   "metadata": {},
   "outputs": [],
   "source": []
  },
  {
   "cell_type": "code",
   "execution_count": null,
   "id": "b7cded27",
   "metadata": {},
   "outputs": [],
   "source": []
  },
  {
   "cell_type": "code",
   "execution_count": null,
   "id": "469fec2d",
   "metadata": {},
   "outputs": [],
   "source": []
  },
  {
   "cell_type": "code",
   "execution_count": null,
   "id": "557ef630",
   "metadata": {},
   "outputs": [],
   "source": []
  },
  {
   "cell_type": "code",
   "execution_count": null,
   "id": "b3f0add1",
   "metadata": {},
   "outputs": [],
   "source": []
  },
  {
   "cell_type": "code",
   "execution_count": null,
   "id": "54347b78",
   "metadata": {},
   "outputs": [],
   "source": []
  },
  {
   "cell_type": "code",
   "execution_count": null,
   "id": "d10fe1dd",
   "metadata": {},
   "outputs": [],
   "source": []
  },
  {
   "cell_type": "code",
   "execution_count": null,
   "id": "055bf17e",
   "metadata": {},
   "outputs": [],
   "source": []
  },
  {
   "cell_type": "code",
   "execution_count": null,
   "id": "28742385",
   "metadata": {},
   "outputs": [],
   "source": []
  },
  {
   "cell_type": "code",
   "execution_count": null,
   "id": "6edf7595",
   "metadata": {},
   "outputs": [],
   "source": []
  },
  {
   "cell_type": "code",
   "execution_count": null,
   "id": "075555c0",
   "metadata": {},
   "outputs": [],
   "source": []
  },
  {
   "cell_type": "code",
   "execution_count": null,
   "id": "feb8452d",
   "metadata": {},
   "outputs": [],
   "source": []
  },
  {
   "cell_type": "code",
   "execution_count": null,
   "id": "5a1800c1",
   "metadata": {},
   "outputs": [],
   "source": []
  },
  {
   "cell_type": "code",
   "execution_count": null,
   "id": "04ad995b",
   "metadata": {},
   "outputs": [],
   "source": []
  },
  {
   "cell_type": "code",
   "execution_count": null,
   "id": "d8a9aa51",
   "metadata": {},
   "outputs": [],
   "source": []
  }
 ],
 "metadata": {
  "kernelspec": {
   "display_name": "Python 3 (ipykernel)",
   "language": "python",
   "name": "python3"
  },
  "language_info": {
   "codemirror_mode": {
    "name": "ipython",
    "version": 3
   },
   "file_extension": ".py",
   "mimetype": "text/x-python",
   "name": "python",
   "nbconvert_exporter": "python",
   "pygments_lexer": "ipython3",
   "version": "3.11.5"
  },
  "toc": {
   "base_numbering": 1,
   "nav_menu": {},
   "number_sections": true,
   "sideBar": true,
   "skip_h1_title": false,
   "title_cell": "Table of Contents",
   "title_sidebar": "Contents",
   "toc_cell": false,
   "toc_position": {
    "height": "calc(100% - 180px)",
    "left": "10px",
    "top": "150px",
    "width": "212.882px"
   },
   "toc_section_display": true,
   "toc_window_display": true
  }
 },
 "nbformat": 4,
 "nbformat_minor": 5
}
