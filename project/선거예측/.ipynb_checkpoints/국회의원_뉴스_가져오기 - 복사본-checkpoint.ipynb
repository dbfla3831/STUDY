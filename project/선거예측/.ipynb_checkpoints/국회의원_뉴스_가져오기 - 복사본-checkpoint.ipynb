{
 "cells": [
  {
   "cell_type": "markdown",
   "id": "8ce4254e",
   "metadata": {},
   "source": [
    "<br>\n",
    "\n",
    "동적으로 변경"
   ]
  },
  {
   "cell_type": "code",
   "execution_count": 1,
   "id": "097fc273",
   "metadata": {
    "ExecuteTime": {
     "end_time": "2024-03-07T01:23:59.680831Z",
     "start_time": "2024-03-07T01:23:59.116112Z"
    }
   },
   "outputs": [],
   "source": [
    "import requests # url을 가져오기 위해\n",
    "import urllib.parse\n",
    "import json # 입력 받을 때 json으로 받기 위해\n",
    "\n",
    "import urllib.request \n",
    "from bs4 import BeautifulSoup # 특정 웹 페이지의 HTML을 스크랩하여 데이터를 수집할 때 사용\n",
    "import pandas as pd\n",
    "import numpy as np\n",
    "\n",
    "from IPython.core.interactiveshell import InteractiveShell\n",
    "InteractiveShell.ast_node_interactivity = 'all'"
   ]
  },
  {
   "cell_type": "code",
   "execution_count": 8,
   "id": "09700b8d",
   "metadata": {
    "ExecuteTime": {
     "end_time": "2024-03-07T00:01:11.810958Z",
     "start_time": "2024-03-07T00:01:11.808796Z"
    }
   },
   "outputs": [],
   "source": [
    "! pip install selenium\n",
    "! pip install lxml\n",
    "! pip install html5lib"
   ]
  },
  {
   "cell_type": "code",
   "execution_count": null,
   "id": "00c1d555",
   "metadata": {},
   "outputs": [],
   "source": [
    "# start_date = datetime.date(2020, 3, 1)\n",
    "# end_date = datetime.date(2020, 4, 14)"
   ]
  },
  {
   "cell_type": "code",
   "execution_count": 2,
   "id": "b63f264d",
   "metadata": {
    "ExecuteTime": {
     "end_time": "2024-03-07T01:24:01.224119Z",
     "start_time": "2024-03-07T01:24:01.221155Z"
    }
   },
   "outputs": [],
   "source": [
    "# 날짜 가져오기\n",
    "# 시작 날짜와 끝 날짜 설정\n",
    "import datetime\n",
    "start_date = datetime.date(2020, 1, 1)\n",
    "end_date = datetime.date(2020, 2, 29)"
   ]
  },
  {
   "cell_type": "code",
   "execution_count": 4,
   "id": "3241d506",
   "metadata": {
    "ExecuteTime": {
     "end_time": "2024-03-07T01:19:29.950924Z",
     "start_time": "2024-03-07T01:17:30.819445Z"
    },
    "scrolled": false
   },
   "outputs": [
    {
     "name": "stdout",
     "output_type": "stream",
     "text": [
      "Message: element not interactable\n",
      "  (Session info: chrome=122.0.6261.111)\n",
      "Stacktrace:\n",
      "\tGetHandleVerifier [0x00007FF70EB2AD22+56930]\n",
      "\t(No symbol) [0x00007FF70EA9F622]\n",
      "\t(No symbol) [0x00007FF70E95419D]\n",
      "\t(No symbol) [0x00007FF70E99ACA2]\n",
      "\t(No symbol) [0x00007FF70E98F798]\n",
      "\t(No symbol) [0x00007FF70E9BBC9A]\n",
      "\t(No symbol) [0x00007FF70E98F09A]\n",
      "\t(No symbol) [0x00007FF70E9BBEB0]\n",
      "\t(No symbol) [0x00007FF70E9D81E2]\n",
      "\t(No symbol) [0x00007FF70E9BBA43]\n",
      "\t(No symbol) [0x00007FF70E98D438]\n",
      "\t(No symbol) [0x00007FF70E98E4D1]\n",
      "\tGetHandleVerifier [0x00007FF70EEA6AAD+3709933]\n",
      "\tGetHandleVerifier [0x00007FF70EEFFFED+4075821]\n",
      "\tGetHandleVerifier [0x00007FF70EEF817F+4043455]\n",
      "\tGetHandleVerifier [0x00007FF70EBC9756+706710]\n",
      "\t(No symbol) [0x00007FF70EAAB8FF]\n",
      "\t(No symbol) [0x00007FF70EAA6AE4]\n",
      "\t(No symbol) [0x00007FF70EAA6C3C]\n",
      "\t(No symbol) [0x00007FF70EA968F4]\n",
      "\tBaseThreadInitThunk [0x00007FF9558F257D+29]\n",
      "\tRtlUserThreadStart [0x00007FF95676AA58+40]\n",
      "\n"
     ]
    },
    {
     "name": "stderr",
     "output_type": "stream",
     "text": [
      "0it [01:38, ?it/s]\n"
     ]
    },
    {
     "ename": "WebDriverException",
     "evalue": "Message: unknown error: net::ERR_CONNECTION_RESET\n  (Session info: chrome=122.0.6261.111)\nStacktrace:\n\tGetHandleVerifier [0x00007FF70EB2AD22+56930]\n\t(No symbol) [0x00007FF70EA9F622]\n\t(No symbol) [0x00007FF70E9542E5]\n\t(No symbol) [0x00007FF70E95011A]\n\t(No symbol) [0x00007FF70E9429F4]\n\t(No symbol) [0x00007FF70E943D29]\n\t(No symbol) [0x00007FF70E942CF3]\n\t(No symbol) [0x00007FF70E941EF4]\n\t(No symbol) [0x00007FF70E941E11]\n\t(No symbol) [0x00007FF70E940625]\n\t(No symbol) [0x00007FF70E940EDC]\n\t(No symbol) [0x00007FF70E9569FD]\n\t(No symbol) [0x00007FF70E9D8B47]\n\t(No symbol) [0x00007FF70E9BBC9A]\n\t(No symbol) [0x00007FF70E9D81E2]\n\t(No symbol) [0x00007FF70E9BBA43]\n\t(No symbol) [0x00007FF70E98D438]\n\t(No symbol) [0x00007FF70E98E4D1]\n\tGetHandleVerifier [0x00007FF70EEA6AAD+3709933]\n\tGetHandleVerifier [0x00007FF70EEFFFED+4075821]\n\tGetHandleVerifier [0x00007FF70EEF817F+4043455]\n\tGetHandleVerifier [0x00007FF70EBC9756+706710]\n\t(No symbol) [0x00007FF70EAAB8FF]\n\t(No symbol) [0x00007FF70EAA6AE4]\n\t(No symbol) [0x00007FF70EAA6C3C]\n\t(No symbol) [0x00007FF70EA968F4]\n\tBaseThreadInitThunk [0x00007FF9558F257D+29]\n\tRtlUserThreadStart [0x00007FF95676AA58+40]\n",
     "output_type": "error",
     "traceback": [
      "\u001b[1;31m---------------------------------------------------------------------------\u001b[0m",
      "\u001b[1;31mWebDriverException\u001b[0m                        Traceback (most recent call last)",
      "Cell \u001b[1;32mIn[4], line 51\u001b[0m\n\u001b[0;32m     49\u001b[0m \u001b[38;5;28;01mfor\u001b[39;00m title, link \u001b[38;5;129;01min\u001b[39;00m tqdm(\u001b[38;5;28mzip\u001b[39m(titles, links)):\n\u001b[0;32m     50\u001b[0m     article_link \u001b[38;5;241m=\u001b[39m link[\u001b[38;5;124m'\u001b[39m\u001b[38;5;124mhref\u001b[39m\u001b[38;5;124m'\u001b[39m] \u001b[38;5;66;03m# 링크 가져오기\u001b[39;00m\n\u001b[1;32m---> 51\u001b[0m     driver\u001b[38;5;241m.\u001b[39mget(article_link) \u001b[38;5;66;03m# 링크로 이동\u001b[39;00m\n\u001b[0;32m     53\u001b[0m     \u001b[38;5;66;03m# 페이지 소스 가져오기\u001b[39;00m\n\u001b[0;32m     54\u001b[0m     article_page_source \u001b[38;5;241m=\u001b[39m driver\u001b[38;5;241m.\u001b[39mpage_source\n",
      "File \u001b[1;32m~\\anaconda3\\Lib\\site-packages\\selenium\\webdriver\\remote\\webdriver.py:356\u001b[0m, in \u001b[0;36mWebDriver.get\u001b[1;34m(self, url)\u001b[0m\n\u001b[0;32m    354\u001b[0m \u001b[38;5;28;01mdef\u001b[39;00m \u001b[38;5;21mget\u001b[39m(\u001b[38;5;28mself\u001b[39m, url: \u001b[38;5;28mstr\u001b[39m) \u001b[38;5;241m-\u001b[39m\u001b[38;5;241m>\u001b[39m \u001b[38;5;28;01mNone\u001b[39;00m:\n\u001b[0;32m    355\u001b[0m \u001b[38;5;250m    \u001b[39m\u001b[38;5;124;03m\"\"\"Loads a web page in the current browser session.\"\"\"\u001b[39;00m\n\u001b[1;32m--> 356\u001b[0m     \u001b[38;5;28mself\u001b[39m\u001b[38;5;241m.\u001b[39mexecute(Command\u001b[38;5;241m.\u001b[39mGET, {\u001b[38;5;124m\"\u001b[39m\u001b[38;5;124murl\u001b[39m\u001b[38;5;124m\"\u001b[39m: url})\n",
      "File \u001b[1;32m~\\anaconda3\\Lib\\site-packages\\selenium\\webdriver\\remote\\webdriver.py:347\u001b[0m, in \u001b[0;36mWebDriver.execute\u001b[1;34m(self, driver_command, params)\u001b[0m\n\u001b[0;32m    345\u001b[0m response \u001b[38;5;241m=\u001b[39m \u001b[38;5;28mself\u001b[39m\u001b[38;5;241m.\u001b[39mcommand_executor\u001b[38;5;241m.\u001b[39mexecute(driver_command, params)\n\u001b[0;32m    346\u001b[0m \u001b[38;5;28;01mif\u001b[39;00m response:\n\u001b[1;32m--> 347\u001b[0m     \u001b[38;5;28mself\u001b[39m\u001b[38;5;241m.\u001b[39merror_handler\u001b[38;5;241m.\u001b[39mcheck_response(response)\n\u001b[0;32m    348\u001b[0m     response[\u001b[38;5;124m\"\u001b[39m\u001b[38;5;124mvalue\u001b[39m\u001b[38;5;124m\"\u001b[39m] \u001b[38;5;241m=\u001b[39m \u001b[38;5;28mself\u001b[39m\u001b[38;5;241m.\u001b[39m_unwrap_value(response\u001b[38;5;241m.\u001b[39mget(\u001b[38;5;124m\"\u001b[39m\u001b[38;5;124mvalue\u001b[39m\u001b[38;5;124m\"\u001b[39m, \u001b[38;5;28;01mNone\u001b[39;00m))\n\u001b[0;32m    349\u001b[0m     \u001b[38;5;28;01mreturn\u001b[39;00m response\n",
      "File \u001b[1;32m~\\anaconda3\\Lib\\site-packages\\selenium\\webdriver\\remote\\errorhandler.py:229\u001b[0m, in \u001b[0;36mErrorHandler.check_response\u001b[1;34m(self, response)\u001b[0m\n\u001b[0;32m    227\u001b[0m         alert_text \u001b[38;5;241m=\u001b[39m value[\u001b[38;5;124m\"\u001b[39m\u001b[38;5;124malert\u001b[39m\u001b[38;5;124m\"\u001b[39m]\u001b[38;5;241m.\u001b[39mget(\u001b[38;5;124m\"\u001b[39m\u001b[38;5;124mtext\u001b[39m\u001b[38;5;124m\"\u001b[39m)\n\u001b[0;32m    228\u001b[0m     \u001b[38;5;28;01mraise\u001b[39;00m exception_class(message, screen, stacktrace, alert_text)  \u001b[38;5;66;03m# type: ignore[call-arg]  # mypy is not smart enough here\u001b[39;00m\n\u001b[1;32m--> 229\u001b[0m \u001b[38;5;28;01mraise\u001b[39;00m exception_class(message, screen, stacktrace)\n",
      "\u001b[1;31mWebDriverException\u001b[0m: Message: unknown error: net::ERR_CONNECTION_RESET\n  (Session info: chrome=122.0.6261.111)\nStacktrace:\n\tGetHandleVerifier [0x00007FF70EB2AD22+56930]\n\t(No symbol) [0x00007FF70EA9F622]\n\t(No symbol) [0x00007FF70E9542E5]\n\t(No symbol) [0x00007FF70E95011A]\n\t(No symbol) [0x00007FF70E9429F4]\n\t(No symbol) [0x00007FF70E943D29]\n\t(No symbol) [0x00007FF70E942CF3]\n\t(No symbol) [0x00007FF70E941EF4]\n\t(No symbol) [0x00007FF70E941E11]\n\t(No symbol) [0x00007FF70E940625]\n\t(No symbol) [0x00007FF70E940EDC]\n\t(No symbol) [0x00007FF70E9569FD]\n\t(No symbol) [0x00007FF70E9D8B47]\n\t(No symbol) [0x00007FF70E9BBC9A]\n\t(No symbol) [0x00007FF70E9D81E2]\n\t(No symbol) [0x00007FF70E9BBA43]\n\t(No symbol) [0x00007FF70E98D438]\n\t(No symbol) [0x00007FF70E98E4D1]\n\tGetHandleVerifier [0x00007FF70EEA6AAD+3709933]\n\tGetHandleVerifier [0x00007FF70EEFFFED+4075821]\n\tGetHandleVerifier [0x00007FF70EEF817F+4043455]\n\tGetHandleVerifier [0x00007FF70EBC9756+706710]\n\t(No symbol) [0x00007FF70EAAB8FF]\n\t(No symbol) [0x00007FF70EAA6AE4]\n\t(No symbol) [0x00007FF70EAA6C3C]\n\t(No symbol) [0x00007FF70EA968F4]\n\tBaseThreadInitThunk [0x00007FF9558F257D+29]\n\tRtlUserThreadStart [0x00007FF95676AA58+40]\n"
     ]
    }
   ],
   "source": [
    "from selenium import webdriver\n",
    "from selenium.webdriver.common.by import By\n",
    "from selenium.webdriver.support.ui import WebDriverWait\n",
    "from selenium.webdriver.support import expected_conditions as EC\n",
    "from bs4 import BeautifulSoup\n",
    "import time\n",
    "from tqdm import tqdm\n",
    "\n",
    "# 웹 드라이버 시작\n",
    "driver = webdriver.Chrome()\n",
    "df_2020 = pd.DataFrame()\n",
    "\n",
    "# 네이버 뉴스 페이지로 이동\n",
    "current_date = start_date\n",
    "while current_date <= end_date:\n",
    "    formatted_date = current_date.strftime(\"%Y%m%d\")\n",
    "\n",
    "    driver.get('https://news.naver.com/breakingnews/section/100/265?date={}'.format(formatted_date))\n",
    "\n",
    "    # '기사 더보기'없을 때까지\n",
    "    try:\n",
    "        while True:\n",
    "            elem1 = driver.find_element(By.CLASS_NAME, \"section_more_inner._CONTENT_LIST_LOAD_MORE_BUTTON\")\n",
    "            elem1.click()\n",
    "            time.sleep(1)  # 대기\n",
    "    except Exception as e:\n",
    "        print(e)\n",
    "\n",
    "\n",
    "\n",
    "    # 페이지 소스 가져오기\n",
    "    page_source = driver.page_source\n",
    "\n",
    "    # BeautifulSoup을 사용하여 페이지 소스를 파싱\n",
    "    soup = BeautifulSoup(page_source, 'html.parser')\n",
    "\n",
    "    # 제목 가져오기\n",
    "    titles = soup.select('div.section_latest > div > div.section_latest_article._CONTENT_LIST._PERSIST_META > \\\n",
    "                              div > ul > li > div > div > div.sa_text > a > strong.sa_text_strong')\n",
    "\n",
    "    # 링크 가져오기\n",
    "    links = soup.select('div.section_latest > div > div.section_latest_article._CONTENT_LIST._PERSIST_META > \\\n",
    "                              div > ul > li > div > div > div.sa_text > a')\n",
    "\n",
    "    title_lst = []\n",
    "    content_lst = []\n",
    "\n",
    "    # 링크로 이동해서 내용 가져오기\n",
    "    for title, link in tqdm(zip(titles, links)):\n",
    "        article_link = link['href'] # 링크 가져오기\n",
    "        driver.get(article_link) # 링크로 이동\n",
    "\n",
    "        # 페이지 소스 가져오기\n",
    "        article_page_source = driver.page_source\n",
    "        article_soup = BeautifulSoup(article_page_source, 'lxml')\n",
    "\n",
    "        # 내용 가져오기\n",
    "        content = article_soup.select_one('div.ct_wrap > div.ct_scroll_wrapper > div#newsct > div#ct > div#contents > \\\n",
    "                            div#newsct_article > article#dic_area')\n",
    "\n",
    "        if content:\n",
    "            content_lst.append(content.text.strip())\n",
    "        else:\n",
    "            content_lst.append('No content available') # 내용이 없는 경우 예외 처리\n",
    "\n",
    "        title_lst.append(title.string)\n",
    "\n",
    "\n",
    "    # 데이터 저장\n",
    "    df = pd.DataFrame({'title' : title_lst, 'content' : content_lst})\n",
    "    df_2020 = pd.concat([df_2020,df], ignore_index=True)\n",
    "    \n",
    "    current_date += datetime.timedelta(days=1)\n",
    "\n",
    "# 웹 드라이버 종료\n",
    "driver.quit()\n",
    "\n",
    "df_2020.to_csv('2020_news.csv', index = False)"
   ]
  },
  {
   "cell_type": "code",
   "execution_count": 11,
   "id": "8e690bcb",
   "metadata": {
    "ExecuteTime": {
     "end_time": "2024-03-07T00:25:09.634353Z",
     "start_time": "2024-03-07T00:25:09.571921Z"
    }
   },
   "outputs": [
    {
     "data": {
      "text/html": [
       "<div>\n",
       "<style scoped>\n",
       "    .dataframe tbody tr th:only-of-type {\n",
       "        vertical-align: middle;\n",
       "    }\n",
       "\n",
       "    .dataframe tbody tr th {\n",
       "        vertical-align: top;\n",
       "    }\n",
       "\n",
       "    .dataframe thead th {\n",
       "        text-align: right;\n",
       "    }\n",
       "</style>\n",
       "<table border=\"1\" class=\"dataframe\">\n",
       "  <thead>\n",
       "    <tr style=\"text-align: right;\">\n",
       "      <th></th>\n",
       "      <th>title</th>\n",
       "      <th>content</th>\n",
       "    </tr>\n",
       "  </thead>\n",
       "  <tbody>\n",
       "    <tr>\n",
       "      <th>0</th>\n",
       "      <td>유시민 \"검찰도 사법도 썩었지\" vs 진중권 \"유시민 망상, 대중은 현실로 믿어\"</td>\n",
       "      <td>JTBC 신년토론서 격돌조국 전 장관 사태와 '유시민의 알릴레오' 두고 논쟁\\n\\n...</td>\n",
       "    </tr>\n",
       "    <tr>\n",
       "      <th>1</th>\n",
       "      <td>특정 정당 맹목적 지지 없어…진보진영 유리 장담 못해 [신년 기획 - 21대 총선 분석]</td>\n",
       "      <td>ㆍ사상 첫 18세 투표 영향은신규 유입 유권자 약 53만명여야, 청소년 전략 마련 ...</td>\n",
       "    </tr>\n",
       "    <tr>\n",
       "      <th>2</th>\n",
       "      <td>한국당 \"울산시장 선거 정황 의심\"…추미애 고발</td>\n",
       "      <td>[머니투데이 한고은 기자] \\n\\n\\n\\n(서울=뉴스1) 임세영 기자 = 곽상도 자...</td>\n",
       "    </tr>\n",
       "    <tr>\n",
       "      <th>3</th>\n",
       "      <td>한국당, 추미애 檢 고발..\"선거법 위반\"</td>\n",
       "      <td>곽상도 친문농단특위 위원장, 1일 고발\"지방선거 전 송철호에 靑행정관 소개\"\"공무상...</td>\n",
       "    </tr>\n",
       "    <tr>\n",
       "      <th>4</th>\n",
       "      <td>文의장 \"검찰·선거개혁 단초 열어 보람…소명 다할 것\"</td>\n",
       "      <td>\"공수처는 金·盧·文 세 대통령의 숙원이자 꿈\"  한국당 '아빠 찬스, 아들 공천'...</td>\n",
       "    </tr>\n",
       "    <tr>\n",
       "      <th>...</th>\n",
       "      <td>...</td>\n",
       "      <td>...</td>\n",
       "    </tr>\n",
       "    <tr>\n",
       "      <th>1718</th>\n",
       "      <td>유승민 \"지금 한국당으론 못이겨… 2월초까지 중도보수 힘 합쳐야\"</td>\n",
       "      <td>黃의 '아무개' 표현에 劉측 격노 \"수도권에서 과반 의석 목표\" \"2년전 결혼 잘못...</td>\n",
       "    </tr>\n",
       "    <tr>\n",
       "      <th>1719</th>\n",
       "      <td>불출마? 종로출마? 입장 안밝힌 黃</td>\n",
       "      <td>공천관리위원장 후보엔 \"목사도 있고, 내 친구 K도 있고\"자유한국당 황교안 대표는 ...</td>\n",
       "    </tr>\n",
       "    <tr>\n",
       "      <th>1720</th>\n",
       "      <td>黃 \"통합은 正義, 유 아무개하고만은 아니다\"</td>\n",
       "      <td>황교안, 새보수당과 통합 여부에 \"자유 우파가 폭넓게 함께 해야\" '야권 헤쳐모인 ...</td>\n",
       "    </tr>\n",
       "    <tr>\n",
       "      <th>1721</th>\n",
       "      <td>“정부여당에 국정안정 힘실어줘야” 56%… 민주-한국당 지지율, 10%P 이상 차이</td>\n",
       "      <td>‘총선의 해’ 언론들 새해 여론조사“현역의원에 투표 않겠다” 43%… 차기주자 이낙...</td>\n",
       "    </tr>\n",
       "    <tr>\n",
       "      <th>1722</th>\n",
       "      <td>이해찬 “총선 승리해야 재집권 토대 마련” 황교안 “통추위 조속 출범… 총선서 과반”</td>\n",
       "      <td>여야 신년하례식 갖고 승리 다짐文대통령, 2일 추미애 법무 임명여야 정치권은 1일 ...</td>\n",
       "    </tr>\n",
       "  </tbody>\n",
       "</table>\n",
       "<p>1723 rows × 2 columns</p>\n",
       "</div>"
      ],
      "text/plain": [
       "                                                  title  \\\n",
       "0         유시민 \"검찰도 사법도 썩었지\" vs 진중권 \"유시민 망상, 대중은 현실로 믿어\"   \n",
       "1     특정 정당 맹목적 지지 없어…진보진영 유리 장담 못해 [신년 기획 - 21대 총선 분석]   \n",
       "2                            한국당 \"울산시장 선거 정황 의심\"…추미애 고발   \n",
       "3                               한국당, 추미애 檢 고발..\"선거법 위반\"   \n",
       "4                        文의장 \"검찰·선거개혁 단초 열어 보람…소명 다할 것\"   \n",
       "...                                                 ...   \n",
       "1718               유승민 \"지금 한국당으론 못이겨… 2월초까지 중도보수 힘 합쳐야\"   \n",
       "1719                                불출마? 종로출마? 입장 안밝힌 黃   \n",
       "1720                          黃 \"통합은 正義, 유 아무개하고만은 아니다\"   \n",
       "1721     “정부여당에 국정안정 힘실어줘야” 56%… 민주-한국당 지지율, 10%P 이상 차이   \n",
       "1722    이해찬 “총선 승리해야 재집권 토대 마련” 황교안 “통추위 조속 출범… 총선서 과반”   \n",
       "\n",
       "                                                content  \n",
       "0     JTBC 신년토론서 격돌조국 전 장관 사태와 '유시민의 알릴레오' 두고 논쟁\\n\\n...  \n",
       "1     ㆍ사상 첫 18세 투표 영향은신규 유입 유권자 약 53만명여야, 청소년 전략 마련 ...  \n",
       "2     [머니투데이 한고은 기자] \\n\\n\\n\\n(서울=뉴스1) 임세영 기자 = 곽상도 자...  \n",
       "3     곽상도 친문농단특위 위원장, 1일 고발\"지방선거 전 송철호에 靑행정관 소개\"\"공무상...  \n",
       "4     \"공수처는 金·盧·文 세 대통령의 숙원이자 꿈\"  한국당 '아빠 찬스, 아들 공천'...  \n",
       "...                                                 ...  \n",
       "1718  黃의 '아무개' 표현에 劉측 격노 \"수도권에서 과반 의석 목표\" \"2년전 결혼 잘못...  \n",
       "1719  공천관리위원장 후보엔 \"목사도 있고, 내 친구 K도 있고\"자유한국당 황교안 대표는 ...  \n",
       "1720  황교안, 새보수당과 통합 여부에 \"자유 우파가 폭넓게 함께 해야\" '야권 헤쳐모인 ...  \n",
       "1721  ‘총선의 해’ 언론들 새해 여론조사“현역의원에 투표 않겠다” 43%… 차기주자 이낙...  \n",
       "1722  여야 신년하례식 갖고 승리 다짐文대통령, 2일 추미애 법무 임명여야 정치권은 1일 ...  \n",
       "\n",
       "[1723 rows x 2 columns]"
      ]
     },
     "execution_count": 11,
     "metadata": {},
     "output_type": "execute_result"
    }
   ],
   "source": [
    "df_2020 = pd.read_csv('./2020_news.csv')\n",
    "\n",
    "df_2020"
   ]
  },
  {
   "cell_type": "code",
   "execution_count": null,
   "id": "02dc9ed9",
   "metadata": {},
   "outputs": [],
   "source": []
  },
  {
   "cell_type": "code",
   "execution_count": null,
   "id": "cad8b057",
   "metadata": {},
   "outputs": [],
   "source": []
  },
  {
   "cell_type": "code",
   "execution_count": null,
   "id": "8a9f05ce",
   "metadata": {},
   "outputs": [],
   "source": []
  },
  {
   "cell_type": "code",
   "execution_count": null,
   "id": "fb406074",
   "metadata": {},
   "outputs": [],
   "source": []
  },
  {
   "cell_type": "code",
   "execution_count": null,
   "id": "b264429f",
   "metadata": {},
   "outputs": [],
   "source": []
  }
 ],
 "metadata": {
  "kernelspec": {
   "display_name": "Python 3 (ipykernel)",
   "language": "python",
   "name": "python3"
  },
  "language_info": {
   "codemirror_mode": {
    "name": "ipython",
    "version": 3
   },
   "file_extension": ".py",
   "mimetype": "text/x-python",
   "name": "python",
   "nbconvert_exporter": "python",
   "pygments_lexer": "ipython3",
   "version": "3.11.5"
  },
  "toc": {
   "base_numbering": 1,
   "nav_menu": {},
   "number_sections": true,
   "sideBar": true,
   "skip_h1_title": false,
   "title_cell": "Table of Contents",
   "title_sidebar": "Contents",
   "toc_cell": false,
   "toc_position": {
    "height": "calc(100% - 180px)",
    "left": "10px",
    "top": "150px",
    "width": "165px"
   },
   "toc_section_display": true,
   "toc_window_display": true
  }
 },
 "nbformat": 4,
 "nbformat_minor": 5
}
