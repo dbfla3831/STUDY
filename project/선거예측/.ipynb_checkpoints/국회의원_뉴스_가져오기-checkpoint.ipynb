{
 "cells": [
  {
   "cell_type": "markdown",
   "id": "fb5c81ea",
   "metadata": {},
   "source": [
    "# 네이버 뉴스 가져오기"
   ]
  },
  {
   "cell_type": "markdown",
   "id": "76911d9e",
   "metadata": {},
   "source": [
    "<br>\n",
    "\n",
    "2020년1월1일 ~ 2020년 4월 14일 데이터 가져오기"
   ]
  },
  {
   "cell_type": "markdown",
   "id": "732dc83a",
   "metadata": {},
   "source": [
    "'기사 더보기' 누르기 전 -> 기사가 몇개 없음\n",
    "\n",
    "=> 동적으로 변경"
   ]
  },
  {
   "cell_type": "markdown",
   "id": "8ce4254e",
   "metadata": {},
   "source": [
    "<br>\n",
    "\n",
    "동적으로 변경"
   ]
  },
  {
   "cell_type": "code",
   "execution_count": 1,
   "id": "097fc273",
   "metadata": {
    "ExecuteTime": {
     "end_time": "2024-03-07T02:14:11.877606Z",
     "start_time": "2024-03-07T02:14:11.297457Z"
    }
   },
   "outputs": [],
   "source": [
    "import urllib.request \n",
    "from bs4 import BeautifulSoup # 특정 웹 페이지의 HTML을 스크랩하여 데이터를 수집할 때 사용\n",
    "import pandas as pd\n",
    "import numpy as np\n",
    "\n",
    "from selenium import webdriver\n",
    "from selenium.webdriver.common.by import By\n",
    "from selenium.webdriver.support.ui import WebDriverWait\n",
    "from selenium.webdriver.support import expected_conditions as EC\n",
    "from bs4 import BeautifulSoup\n",
    "import time\n",
    "from tqdm import tqdm\n",
    "\n",
    "from IPython.core.interactiveshell import InteractiveShell\n",
    "InteractiveShell.ast_node_interactivity = 'all'"
   ]
  },
  {
   "cell_type": "code",
   "execution_count": 12,
   "id": "09700b8d",
   "metadata": {
    "ExecuteTime": {
     "end_time": "2024-03-07T01:45:03.853522Z",
     "start_time": "2024-03-07T01:45:03.850589Z"
    }
   },
   "outputs": [],
   "source": [
    "# ! pip install lxml\n",
    "# ! pip install html5lib"
   ]
  },
  {
   "cell_type": "code",
   "execution_count": 5,
   "id": "b63f264d",
   "metadata": {
    "ExecuteTime": {
     "end_time": "2024-03-07T06:39:43.347466Z",
     "start_time": "2024-03-07T06:39:43.344372Z"
    }
   },
   "outputs": [],
   "source": [
    "# 날짜 가져오기\n",
    "# 시작 날짜와 끝 날짜 설정\n",
    "# import datetime\n",
    "# start_date = datetime.date(2020, 1, 1)\n",
    "# end_date = datetime.date(2020, 4, 14)"
   ]
  },
  {
   "cell_type": "code",
   "execution_count": 6,
   "id": "3241d506",
   "metadata": {
    "ExecuteTime": {
     "end_time": "2024-03-07T19:39:05.809183Z",
     "start_time": "2024-03-07T06:39:59.115525Z"
    },
    "scrolled": true
   },
   "outputs": [
    {
     "name": "stdout",
     "output_type": "stream",
     "text": [
      "Message: element not interactable\n",
      "  (Session info: chrome=122.0.6261.112)\n",
      "Stacktrace:\n",
      "\tGetHandleVerifier [0x00007FF6C77EAD22+56930]\n",
      "\t(No symbol) [0x00007FF6C775F622]\n",
      "\t(No symbol) [0x00007FF6C761419D]\n",
      "\t(No symbol) [0x00007FF6C765ACA2]\n",
      "\t(No symbol) [0x00007FF6C764F798]\n",
      "\t(No symbol) [0x00007FF6C767BC9A]\n",
      "\t(No symbol) [0x00007FF6C764F09A]\n",
      "\t(No symbol) [0x00007FF6C767BEB0]\n",
      "\t(No symbol) [0x00007FF6C76981E2]\n",
      "\t(No symbol) [0x00007FF6C767BA43]\n",
      "\t(No symbol) [0x00007FF6C764D438]\n",
      "\t(No symbol) [0x00007FF6C764E4D1]\n",
      "\tGetHandleVerifier [0x00007FF6C7B66AAD+3709933]\n",
      "\tGetHandleVerifier [0x00007FF6C7BBFFED+4075821]\n",
      "\tGetHandleVerifier [0x00007FF6C7BB817F+4043455]\n",
      "\tGetHandleVerifier [0x00007FF6C7889756+706710]\n",
      "\t(No symbol) [0x00007FF6C776B8FF]\n",
      "\t(No symbol) [0x00007FF6C7766AE4]\n",
      "\t(No symbol) [0x00007FF6C7766C3C]\n",
      "\t(No symbol) [0x00007FF6C77568F4]\n",
      "\tBaseThreadInitThunk [0x00007FFC4A7B257D+29]\n",
      "\tRtlUserThreadStart [0x00007FFC4B6EAA58+40]\n",
      "\n"
     ]
    },
    {
     "name": "stderr",
     "output_type": "stream",
     "text": [
      "107it [01:05,  1.62it/s]\n"
     ]
    },
    {
     "name": "stdout",
     "output_type": "stream",
     "text": [
      "Message: element not interactable\n",
      "  (Session info: chrome=122.0.6261.112)\n",
      "Stacktrace:\n",
      "\tGetHandleVerifier [0x00007FF6C77EAD22+56930]\n",
      "\t(No symbol) [0x00007FF6C775F622]\n",
      "\t(No symbol) [0x00007FF6C761419D]\n",
      "\t(No symbol) [0x00007FF6C765ACA2]\n",
      "\t(No symbol) [0x00007FF6C764F798]\n",
      "\t(No symbol) [0x00007FF6C767BC9A]\n",
      "\t(No symbol) [0x00007FF6C764F09A]\n",
      "\t(No symbol) [0x00007FF6C767BEB0]\n",
      "\t(No symbol) [0x00007FF6C76981E2]\n",
      "\t(No symbol) [0x00007FF6C767BA43]\n",
      "\t(No symbol) [0x00007FF6C764D438]\n",
      "\t(No symbol) [0x00007FF6C764E4D1]\n",
      "\tGetHandleVerifier [0x00007FF6C7B66AAD+3709933]\n",
      "\tGetHandleVerifier [0x00007FF6C7BBFFED+4075821]\n",
      "\tGetHandleVerifier [0x00007FF6C7BB817F+4043455]\n",
      "\tGetHandleVerifier [0x00007FF6C7889756+706710]\n",
      "\t(No symbol) [0x00007FF6C776B8FF]\n",
      "\t(No symbol) [0x00007FF6C7766AE4]\n",
      "\t(No symbol) [0x00007FF6C7766C3C]\n",
      "\t(No symbol) [0x00007FF6C77568F4]\n",
      "\tBaseThreadInitThunk [0x00007FFC4A7B257D+29]\n",
      "\tRtlUserThreadStart [0x00007FFC4B6EAA58+40]\n",
      "\n"
     ]
    },
    {
     "name": "stderr",
     "output_type": "stream",
     "text": [
      "475it [05:04,  1.56it/s]\n"
     ]
    },
    {
     "name": "stdout",
     "output_type": "stream",
     "text": [
      "Message: element not interactable\n",
      "  (Session info: chrome=122.0.6261.112)\n",
      "Stacktrace:\n",
      "\tGetHandleVerifier [0x00007FF6C77EAD22+56930]\n",
      "\t(No symbol) [0x00007FF6C775F622]\n",
      "\t(No symbol) [0x00007FF6C761419D]\n",
      "\t(No symbol) [0x00007FF6C765ACA2]\n",
      "\t(No symbol) [0x00007FF6C764F798]\n",
      "\t(No symbol) [0x00007FF6C767BC9A]\n",
      "\t(No symbol) [0x00007FF6C764F09A]\n",
      "\t(No symbol) [0x00007FF6C767BEB0]\n",
      "\t(No symbol) [0x00007FF6C76981E2]\n",
      "\t(No symbol) [0x00007FF6C767BA43]\n",
      "\t(No symbol) [0x00007FF6C764D438]\n",
      "\t(No symbol) [0x00007FF6C764E4D1]\n",
      "\tGetHandleVerifier [0x00007FF6C7B66AAD+3709933]\n",
      "\tGetHandleVerifier [0x00007FF6C7BBFFED+4075821]\n",
      "\tGetHandleVerifier [0x00007FF6C7BB817F+4043455]\n",
      "\tGetHandleVerifier [0x00007FF6C7889756+706710]\n",
      "\t(No symbol) [0x00007FF6C776B8FF]\n",
      "\t(No symbol) [0x00007FF6C7766AE4]\n",
      "\t(No symbol) [0x00007FF6C7766C3C]\n",
      "\t(No symbol) [0x00007FF6C77568F4]\n",
      "\tBaseThreadInitThunk [0x00007FFC4A7B257D+29]\n",
      "\tRtlUserThreadStart [0x00007FFC4B6EAA58+40]\n",
      "\n"
     ]
    },
    {
     "name": "stderr",
     "output_type": "stream",
     "text": [
      "876it [08:09,  1.79it/s]\n"
     ]
    },
    {
     "name": "stdout",
     "output_type": "stream",
     "text": [
      "Message: element not interactable\n",
      "  (Session info: chrome=122.0.6261.112)\n",
      "Stacktrace:\n",
      "\tGetHandleVerifier [0x00007FF6C77EAD22+56930]\n",
      "\t(No symbol) [0x00007FF6C775F622]\n",
      "\t(No symbol) [0x00007FF6C761419D]\n",
      "\t(No symbol) [0x00007FF6C765ACA2]\n",
      "\t(No symbol) [0x00007FF6C764F798]\n",
      "\t(No symbol) [0x00007FF6C767BC9A]\n",
      "\t(No symbol) [0x00007FF6C764F09A]\n",
      "\t(No symbol) [0x00007FF6C767BEB0]\n",
      "\t(No symbol) [0x00007FF6C76981E2]\n",
      "\t(No symbol) [0x00007FF6C767BA43]\n",
      "\t(No symbol) [0x00007FF6C764D438]\n",
      "\t(No symbol) [0x00007FF6C764E4D1]\n",
      "\tGetHandleVerifier [0x00007FF6C7B66AAD+3709933]\n",
      "\tGetHandleVerifier [0x00007FF6C7BBFFED+4075821]\n",
      "\tGetHandleVerifier [0x00007FF6C7BB817F+4043455]\n",
      "\tGetHandleVerifier [0x00007FF6C7889756+706710]\n",
      "\t(No symbol) [0x00007FF6C776B8FF]\n",
      "\t(No symbol) [0x00007FF6C7766AE4]\n",
      "\t(No symbol) [0x00007FF6C7766C3C]\n",
      "\t(No symbol) [0x00007FF6C77568F4]\n",
      "\tBaseThreadInitThunk [0x00007FFC4A7B257D+29]\n",
      "\tRtlUserThreadStart [0x00007FFC4B6EAA58+40]\n",
      "\n"
     ]
    },
    {
     "name": "stderr",
     "output_type": "stream",
     "text": [
      "1067it [09:48,  1.81it/s]\n"
     ]
    },
    {
     "name": "stdout",
     "output_type": "stream",
     "text": [
      "Message: element not interactable\n",
      "  (Session info: chrome=122.0.6261.112)\n",
      "Stacktrace:\n",
      "\tGetHandleVerifier [0x00007FF6C77EAD22+56930]\n",
      "\t(No symbol) [0x00007FF6C775F622]\n",
      "\t(No symbol) [0x00007FF6C761419D]\n",
      "\t(No symbol) [0x00007FF6C765ACA2]\n",
      "\t(No symbol) [0x00007FF6C764F798]\n",
      "\t(No symbol) [0x00007FF6C767BC9A]\n",
      "\t(No symbol) [0x00007FF6C764F09A]\n",
      "\t(No symbol) [0x00007FF6C767BEB0]\n",
      "\t(No symbol) [0x00007FF6C76981E2]\n",
      "\t(No symbol) [0x00007FF6C767BA43]\n",
      "\t(No symbol) [0x00007FF6C764D438]\n",
      "\t(No symbol) [0x00007FF6C764E4D1]\n",
      "\tGetHandleVerifier [0x00007FF6C7B66AAD+3709933]\n",
      "\tGetHandleVerifier [0x00007FF6C7BBFFED+4075821]\n",
      "\tGetHandleVerifier [0x00007FF6C7BB817F+4043455]\n",
      "\tGetHandleVerifier [0x00007FF6C7889756+706710]\n",
      "\t(No symbol) [0x00007FF6C776B8FF]\n",
      "\t(No symbol) [0x00007FF6C7766AE4]\n",
      "\t(No symbol) [0x00007FF6C7766C3C]\n",
      "\t(No symbol) [0x00007FF6C77568F4]\n",
      "\tBaseThreadInitThunk [0x00007FFC4A7B257D+29]\n",
      "\tRtlUserThreadStart [0x00007FFC4B6EAA58+40]\n",
      "\n"
     ]
    },
    {
     "name": "stderr",
     "output_type": "stream",
     "text": [
      "1086it [09:55,  1.83it/s]\n"
     ]
    },
    {
     "name": "stdout",
     "output_type": "stream",
     "text": [
      "Message: element not interactable\n",
      "  (Session info: chrome=122.0.6261.112)\n",
      "Stacktrace:\n",
      "\tGetHandleVerifier [0x00007FF6C77EAD22+56930]\n",
      "\t(No symbol) [0x00007FF6C775F622]\n",
      "\t(No symbol) [0x00007FF6C761419D]\n",
      "\t(No symbol) [0x00007FF6C765ACA2]\n",
      "\t(No symbol) [0x00007FF6C764F798]\n",
      "\t(No symbol) [0x00007FF6C767BC9A]\n",
      "\t(No symbol) [0x00007FF6C764F09A]\n",
      "\t(No symbol) [0x00007FF6C767BEB0]\n",
      "\t(No symbol) [0x00007FF6C76981E2]\n",
      "\t(No symbol) [0x00007FF6C767BA43]\n",
      "\t(No symbol) [0x00007FF6C764D438]\n",
      "\t(No symbol) [0x00007FF6C764E4D1]\n",
      "\tGetHandleVerifier [0x00007FF6C7B66AAD+3709933]\n",
      "\tGetHandleVerifier [0x00007FF6C7BBFFED+4075821]\n",
      "\tGetHandleVerifier [0x00007FF6C7BB817F+4043455]\n",
      "\tGetHandleVerifier [0x00007FF6C7889756+706710]\n",
      "\t(No symbol) [0x00007FF6C776B8FF]\n",
      "\t(No symbol) [0x00007FF6C7766AE4]\n",
      "\t(No symbol) [0x00007FF6C7766C3C]\n",
      "\t(No symbol) [0x00007FF6C77568F4]\n",
      "\tBaseThreadInitThunk [0x00007FFC4A7B257D+29]\n",
      "\tRtlUserThreadStart [0x00007FFC4B6EAA58+40]\n",
      "\n"
     ]
    },
    {
     "name": "stderr",
     "output_type": "stream",
     "text": [
      "1117it [10:21,  1.80it/s]\n"
     ]
    },
    {
     "name": "stdout",
     "output_type": "stream",
     "text": [
      "Message: element not interactable\n",
      "  (Session info: chrome=122.0.6261.112)\n",
      "Stacktrace:\n",
      "\tGetHandleVerifier [0x00007FF6C77EAD22+56930]\n",
      "\t(No symbol) [0x00007FF6C775F622]\n",
      "\t(No symbol) [0x00007FF6C761419D]\n",
      "\t(No symbol) [0x00007FF6C765ACA2]\n",
      "\t(No symbol) [0x00007FF6C764F798]\n",
      "\t(No symbol) [0x00007FF6C767BC9A]\n",
      "\t(No symbol) [0x00007FF6C764F09A]\n",
      "\t(No symbol) [0x00007FF6C767BEB0]\n",
      "\t(No symbol) [0x00007FF6C76981E2]\n",
      "\t(No symbol) [0x00007FF6C767BA43]\n",
      "\t(No symbol) [0x00007FF6C764D438]\n",
      "\t(No symbol) [0x00007FF6C764E4D1]\n",
      "\tGetHandleVerifier [0x00007FF6C7B66AAD+3709933]\n",
      "\tGetHandleVerifier [0x00007FF6C7BBFFED+4075821]\n",
      "\tGetHandleVerifier [0x00007FF6C7BB817F+4043455]\n",
      "\tGetHandleVerifier [0x00007FF6C7889756+706710]\n",
      "\t(No symbol) [0x00007FF6C776B8FF]\n",
      "\t(No symbol) [0x00007FF6C7766AE4]\n",
      "\t(No symbol) [0x00007FF6C7766C3C]\n",
      "\t(No symbol) [0x00007FF6C77568F4]\n",
      "\tBaseThreadInitThunk [0x00007FFC4A7B257D+29]\n",
      "\tRtlUserThreadStart [0x00007FFC4B6EAA58+40]\n",
      "\n"
     ]
    },
    {
     "name": "stderr",
     "output_type": "stream",
     "text": [
      "745it [06:40,  1.86it/s]\n"
     ]
    },
    {
     "name": "stdout",
     "output_type": "stream",
     "text": [
      "Message: element not interactable\n",
      "  (Session info: chrome=122.0.6261.112)\n",
      "Stacktrace:\n",
      "\tGetHandleVerifier [0x00007FF6C77EAD22+56930]\n",
      "\t(No symbol) [0x00007FF6C775F622]\n",
      "\t(No symbol) [0x00007FF6C761419D]\n",
      "\t(No symbol) [0x00007FF6C765ACA2]\n",
      "\t(No symbol) [0x00007FF6C764F798]\n",
      "\t(No symbol) [0x00007FF6C767BC9A]\n",
      "\t(No symbol) [0x00007FF6C764F09A]\n",
      "\t(No symbol) [0x00007FF6C767BEB0]\n",
      "\t(No symbol) [0x00007FF6C76981E2]\n",
      "\t(No symbol) [0x00007FF6C767BA43]\n",
      "\t(No symbol) [0x00007FF6C764D438]\n",
      "\t(No symbol) [0x00007FF6C764E4D1]\n",
      "\tGetHandleVerifier [0x00007FF6C7B66AAD+3709933]\n",
      "\tGetHandleVerifier [0x00007FF6C7BBFFED+4075821]\n",
      "\tGetHandleVerifier [0x00007FF6C7BB817F+4043455]\n",
      "\tGetHandleVerifier [0x00007FF6C7889756+706710]\n",
      "\t(No symbol) [0x00007FF6C776B8FF]\n",
      "\t(No symbol) [0x00007FF6C7766AE4]\n",
      "\t(No symbol) [0x00007FF6C7766C3C]\n",
      "\t(No symbol) [0x00007FF6C77568F4]\n",
      "\tBaseThreadInitThunk [0x00007FFC4A7B257D+29]\n",
      "\tRtlUserThreadStart [0x00007FFC4B6EAA58+40]\n",
      "\n"
     ]
    },
    {
     "name": "stderr",
     "output_type": "stream",
     "text": [
      "105it [00:54,  1.93it/s]\n"
     ]
    },
    {
     "name": "stdout",
     "output_type": "stream",
     "text": [
      "Message: element not interactable\n",
      "  (Session info: chrome=122.0.6261.112)\n",
      "Stacktrace:\n",
      "\tGetHandleVerifier [0x00007FF6C77EAD22+56930]\n",
      "\t(No symbol) [0x00007FF6C775F622]\n",
      "\t(No symbol) [0x00007FF6C761419D]\n",
      "\t(No symbol) [0x00007FF6C765ACA2]\n",
      "\t(No symbol) [0x00007FF6C764F798]\n",
      "\t(No symbol) [0x00007FF6C767BC9A]\n",
      "\t(No symbol) [0x00007FF6C764F09A]\n",
      "\t(No symbol) [0x00007FF6C767BEB0]\n",
      "\t(No symbol) [0x00007FF6C76981E2]\n",
      "\t(No symbol) [0x00007FF6C767BA43]\n",
      "\t(No symbol) [0x00007FF6C764D438]\n",
      "\t(No symbol) [0x00007FF6C764E4D1]\n",
      "\tGetHandleVerifier [0x00007FF6C7B66AAD+3709933]\n",
      "\tGetHandleVerifier [0x00007FF6C7BBFFED+4075821]\n",
      "\tGetHandleVerifier [0x00007FF6C7BB817F+4043455]\n",
      "\tGetHandleVerifier [0x00007FF6C7889756+706710]\n",
      "\t(No symbol) [0x00007FF6C776B8FF]\n",
      "\t(No symbol) [0x00007FF6C7766AE4]\n",
      "\t(No symbol) [0x00007FF6C7766C3C]\n",
      "\t(No symbol) [0x00007FF6C77568F4]\n",
      "\tBaseThreadInitThunk [0x00007FFC4A7B257D+29]\n",
      "\tRtlUserThreadStart [0x00007FFC4B6EAA58+40]\n",
      "\n"
     ]
    },
    {
     "name": "stderr",
     "output_type": "stream",
     "text": [
      "756it [07:09,  1.76it/s]\n"
     ]
    },
    {
     "name": "stdout",
     "output_type": "stream",
     "text": [
      "Message: element not interactable\n",
      "  (Session info: chrome=122.0.6261.112)\n",
      "Stacktrace:\n",
      "\tGetHandleVerifier [0x00007FF6C77EAD22+56930]\n",
      "\t(No symbol) [0x00007FF6C775F622]\n",
      "\t(No symbol) [0x00007FF6C761419D]\n",
      "\t(No symbol) [0x00007FF6C765ACA2]\n",
      "\t(No symbol) [0x00007FF6C764F798]\n",
      "\t(No symbol) [0x00007FF6C767BC9A]\n",
      "\t(No symbol) [0x00007FF6C764F09A]\n",
      "\t(No symbol) [0x00007FF6C767BEB0]\n",
      "\t(No symbol) [0x00007FF6C76981E2]\n",
      "\t(No symbol) [0x00007FF6C767BA43]\n",
      "\t(No symbol) [0x00007FF6C764D438]\n",
      "\t(No symbol) [0x00007FF6C764E4D1]\n",
      "\tGetHandleVerifier [0x00007FF6C7B66AAD+3709933]\n",
      "\tGetHandleVerifier [0x00007FF6C7BBFFED+4075821]\n",
      "\tGetHandleVerifier [0x00007FF6C7BB817F+4043455]\n",
      "\tGetHandleVerifier [0x00007FF6C7889756+706710]\n",
      "\t(No symbol) [0x00007FF6C776B8FF]\n",
      "\t(No symbol) [0x00007FF6C7766AE4]\n",
      "\t(No symbol) [0x00007FF6C7766C3C]\n",
      "\t(No symbol) [0x00007FF6C77568F4]\n",
      "\tBaseThreadInitThunk [0x00007FFC4A7B257D+29]\n",
      "\tRtlUserThreadStart [0x00007FFC4B6EAA58+40]\n",
      "\n"
     ]
    },
    {
     "name": "stderr",
     "output_type": "stream",
     "text": [
      "1050it [09:58,  1.75it/s]\n"
     ]
    },
    {
     "name": "stdout",
     "output_type": "stream",
     "text": [
      "Message: element not interactable\n",
      "  (Session info: chrome=122.0.6261.112)\n",
      "Stacktrace:\n",
      "\tGetHandleVerifier [0x00007FF6C77EAD22+56930]\n",
      "\t(No symbol) [0x00007FF6C775F622]\n",
      "\t(No symbol) [0x00007FF6C761419D]\n",
      "\t(No symbol) [0x00007FF6C765ACA2]\n",
      "\t(No symbol) [0x00007FF6C764F798]\n",
      "\t(No symbol) [0x00007FF6C767BC9A]\n",
      "\t(No symbol) [0x00007FF6C764F09A]\n",
      "\t(No symbol) [0x00007FF6C767BEB0]\n",
      "\t(No symbol) [0x00007FF6C76981E2]\n",
      "\t(No symbol) [0x00007FF6C767BA43]\n",
      "\t(No symbol) [0x00007FF6C764D438]\n",
      "\t(No symbol) [0x00007FF6C764E4D1]\n",
      "\tGetHandleVerifier [0x00007FF6C7B66AAD+3709933]\n",
      "\tGetHandleVerifier [0x00007FF6C7BBFFED+4075821]\n",
      "\tGetHandleVerifier [0x00007FF6C7BB817F+4043455]\n",
      "\tGetHandleVerifier [0x00007FF6C7889756+706710]\n",
      "\t(No symbol) [0x00007FF6C776B8FF]\n",
      "\t(No symbol) [0x00007FF6C7766AE4]\n",
      "\t(No symbol) [0x00007FF6C7766C3C]\n",
      "\t(No symbol) [0x00007FF6C77568F4]\n",
      "\tBaseThreadInitThunk [0x00007FFC4A7B257D+29]\n",
      "\tRtlUserThreadStart [0x00007FFC4B6EAA58+40]\n",
      "\n"
     ]
    },
    {
     "name": "stderr",
     "output_type": "stream",
     "text": [
      "1118it [10:35,  1.76it/s]\n"
     ]
    },
    {
     "name": "stdout",
     "output_type": "stream",
     "text": [
      "Message: element not interactable\n",
      "  (Session info: chrome=122.0.6261.112)\n",
      "Stacktrace:\n",
      "\tGetHandleVerifier [0x00007FF6C77EAD22+56930]\n",
      "\t(No symbol) [0x00007FF6C775F622]\n",
      "\t(No symbol) [0x00007FF6C761419D]\n",
      "\t(No symbol) [0x00007FF6C765ACA2]\n",
      "\t(No symbol) [0x00007FF6C764F798]\n",
      "\t(No symbol) [0x00007FF6C767BC9A]\n",
      "\t(No symbol) [0x00007FF6C764F09A]\n",
      "\t(No symbol) [0x00007FF6C767BEB0]\n",
      "\t(No symbol) [0x00007FF6C76981E2]\n",
      "\t(No symbol) [0x00007FF6C767BA43]\n",
      "\t(No symbol) [0x00007FF6C764D438]\n",
      "\t(No symbol) [0x00007FF6C764E4D1]\n",
      "\tGetHandleVerifier [0x00007FF6C7B66AAD+3709933]\n",
      "\tGetHandleVerifier [0x00007FF6C7BBFFED+4075821]\n",
      "\tGetHandleVerifier [0x00007FF6C7BB817F+4043455]\n",
      "\tGetHandleVerifier [0x00007FF6C7889756+706710]\n",
      "\t(No symbol) [0x00007FF6C776B8FF]\n",
      "\t(No symbol) [0x00007FF6C7766AE4]\n",
      "\t(No symbol) [0x00007FF6C7766C3C]\n",
      "\t(No symbol) [0x00007FF6C77568F4]\n",
      "\tBaseThreadInitThunk [0x00007FFC4A7B257D+29]\n",
      "\tRtlUserThreadStart [0x00007FFC4B6EAA58+40]\n",
      "\n"
     ]
    },
    {
     "name": "stderr",
     "output_type": "stream",
     "text": [
      "945it [08:58,  1.75it/s]\n"
     ]
    },
    {
     "name": "stdout",
     "output_type": "stream",
     "text": [
      "Message: element not interactable\n",
      "  (Session info: chrome=122.0.6261.112)\n",
      "Stacktrace:\n",
      "\tGetHandleVerifier [0x00007FF6C77EAD22+56930]\n",
      "\t(No symbol) [0x00007FF6C775F622]\n",
      "\t(No symbol) [0x00007FF6C761419D]\n",
      "\t(No symbol) [0x00007FF6C765ACA2]\n",
      "\t(No symbol) [0x00007FF6C764F798]\n",
      "\t(No symbol) [0x00007FF6C767BC9A]\n",
      "\t(No symbol) [0x00007FF6C764F09A]\n",
      "\t(No symbol) [0x00007FF6C767BEB0]\n",
      "\t(No symbol) [0x00007FF6C76981E2]\n",
      "\t(No symbol) [0x00007FF6C767BA43]\n",
      "\t(No symbol) [0x00007FF6C764D438]\n",
      "\t(No symbol) [0x00007FF6C764E4D1]\n",
      "\tGetHandleVerifier [0x00007FF6C7B66AAD+3709933]\n",
      "\tGetHandleVerifier [0x00007FF6C7BBFFED+4075821]\n",
      "\tGetHandleVerifier [0x00007FF6C7BB817F+4043455]\n",
      "\tGetHandleVerifier [0x00007FF6C7889756+706710]\n",
      "\t(No symbol) [0x00007FF6C776B8FF]\n",
      "\t(No symbol) [0x00007FF6C7766AE4]\n",
      "\t(No symbol) [0x00007FF6C7766C3C]\n",
      "\t(No symbol) [0x00007FF6C77568F4]\n",
      "\tBaseThreadInitThunk [0x00007FFC4A7B257D+29]\n",
      "\tRtlUserThreadStart [0x00007FFC4B6EAA58+40]\n",
      "\n"
     ]
    },
    {
     "name": "stderr",
     "output_type": "stream",
     "text": [
      "1302it [12:28,  1.74it/s]\n"
     ]
    },
    {
     "name": "stdout",
     "output_type": "stream",
     "text": [
      "Message: element not interactable\n",
      "  (Session info: chrome=122.0.6261.112)\n",
      "Stacktrace:\n",
      "\tGetHandleVerifier [0x00007FF6C77EAD22+56930]\n",
      "\t(No symbol) [0x00007FF6C775F622]\n",
      "\t(No symbol) [0x00007FF6C761419D]\n",
      "\t(No symbol) [0x00007FF6C765ACA2]\n",
      "\t(No symbol) [0x00007FF6C764F798]\n",
      "\t(No symbol) [0x00007FF6C767BC9A]\n",
      "\t(No symbol) [0x00007FF6C764F09A]\n",
      "\t(No symbol) [0x00007FF6C767BEB0]\n",
      "\t(No symbol) [0x00007FF6C76981E2]\n",
      "\t(No symbol) [0x00007FF6C767BA43]\n",
      "\t(No symbol) [0x00007FF6C764D438]\n",
      "\t(No symbol) [0x00007FF6C764E4D1]\n",
      "\tGetHandleVerifier [0x00007FF6C7B66AAD+3709933]\n",
      "\tGetHandleVerifier [0x00007FF6C7BBFFED+4075821]\n",
      "\tGetHandleVerifier [0x00007FF6C7BB817F+4043455]\n",
      "\tGetHandleVerifier [0x00007FF6C7889756+706710]\n",
      "\t(No symbol) [0x00007FF6C776B8FF]\n",
      "\t(No symbol) [0x00007FF6C7766AE4]\n",
      "\t(No symbol) [0x00007FF6C7766C3C]\n",
      "\t(No symbol) [0x00007FF6C77568F4]\n",
      "\tBaseThreadInitThunk [0x00007FFC4A7B257D+29]\n",
      "\tRtlUserThreadStart [0x00007FFC4B6EAA58+40]\n",
      "\n"
     ]
    },
    {
     "name": "stderr",
     "output_type": "stream",
     "text": [
      "726it [07:09,  1.69it/s]\n"
     ]
    },
    {
     "name": "stdout",
     "output_type": "stream",
     "text": [
      "Message: element not interactable\n",
      "  (Session info: chrome=122.0.6261.112)\n",
      "Stacktrace:\n",
      "\tGetHandleVerifier [0x00007FF6C77EAD22+56930]\n",
      "\t(No symbol) [0x00007FF6C775F622]\n",
      "\t(No symbol) [0x00007FF6C761419D]\n",
      "\t(No symbol) [0x00007FF6C765ACA2]\n",
      "\t(No symbol) [0x00007FF6C764F798]\n",
      "\t(No symbol) [0x00007FF6C767BC9A]\n",
      "\t(No symbol) [0x00007FF6C764F09A]\n",
      "\t(No symbol) [0x00007FF6C767BEB0]\n",
      "\t(No symbol) [0x00007FF6C76981E2]\n",
      "\t(No symbol) [0x00007FF6C767BA43]\n",
      "\t(No symbol) [0x00007FF6C764D438]\n",
      "\t(No symbol) [0x00007FF6C764E4D1]\n",
      "\tGetHandleVerifier [0x00007FF6C7B66AAD+3709933]\n",
      "\tGetHandleVerifier [0x00007FF6C7BBFFED+4075821]\n",
      "\tGetHandleVerifier [0x00007FF6C7BB817F+4043455]\n",
      "\tGetHandleVerifier [0x00007FF6C7889756+706710]\n",
      "\t(No symbol) [0x00007FF6C776B8FF]\n",
      "\t(No symbol) [0x00007FF6C7766AE4]\n",
      "\t(No symbol) [0x00007FF6C7766C3C]\n",
      "\t(No symbol) [0x00007FF6C77568F4]\n",
      "\tBaseThreadInitThunk [0x00007FFC4A7B257D+29]\n",
      "\tRtlUserThreadStart [0x00007FFC4B6EAA58+40]\n",
      "\n"
     ]
    },
    {
     "name": "stderr",
     "output_type": "stream",
     "text": [
      "214it [02:03,  1.74it/s]\n"
     ]
    },
    {
     "name": "stdout",
     "output_type": "stream",
     "text": [
      "Message: element not interactable\n",
      "  (Session info: chrome=122.0.6261.112)\n",
      "Stacktrace:\n",
      "\tGetHandleVerifier [0x00007FF6C77EAD22+56930]\n",
      "\t(No symbol) [0x00007FF6C775F622]\n",
      "\t(No symbol) [0x00007FF6C761419D]\n",
      "\t(No symbol) [0x00007FF6C765ACA2]\n",
      "\t(No symbol) [0x00007FF6C764F798]\n",
      "\t(No symbol) [0x00007FF6C767BC9A]\n",
      "\t(No symbol) [0x00007FF6C764F09A]\n",
      "\t(No symbol) [0x00007FF6C767BEB0]\n",
      "\t(No symbol) [0x00007FF6C76981E2]\n",
      "\t(No symbol) [0x00007FF6C767BA43]\n",
      "\t(No symbol) [0x00007FF6C764D438]\n",
      "\t(No symbol) [0x00007FF6C764E4D1]\n",
      "\tGetHandleVerifier [0x00007FF6C7B66AAD+3709933]\n",
      "\tGetHandleVerifier [0x00007FF6C7BBFFED+4075821]\n",
      "\tGetHandleVerifier [0x00007FF6C7BB817F+4043455]\n",
      "\tGetHandleVerifier [0x00007FF6C7889756+706710]\n",
      "\t(No symbol) [0x00007FF6C776B8FF]\n",
      "\t(No symbol) [0x00007FF6C7766AE4]\n",
      "\t(No symbol) [0x00007FF6C7766C3C]\n",
      "\t(No symbol) [0x00007FF6C77568F4]\n",
      "\tBaseThreadInitThunk [0x00007FFC4A7B257D+29]\n",
      "\tRtlUserThreadStart [0x00007FFC4B6EAA58+40]\n",
      "\n"
     ]
    },
    {
     "name": "stderr",
     "output_type": "stream",
     "text": [
      "504it [04:42,  1.78it/s]\n"
     ]
    },
    {
     "name": "stdout",
     "output_type": "stream",
     "text": [
      "Message: element not interactable\n",
      "  (Session info: chrome=122.0.6261.112)\n",
      "Stacktrace:\n",
      "\tGetHandleVerifier [0x00007FF6C77EAD22+56930]\n",
      "\t(No symbol) [0x00007FF6C775F622]\n",
      "\t(No symbol) [0x00007FF6C761419D]\n",
      "\t(No symbol) [0x00007FF6C765ACA2]\n",
      "\t(No symbol) [0x00007FF6C764F798]\n",
      "\t(No symbol) [0x00007FF6C767BC9A]\n",
      "\t(No symbol) [0x00007FF6C764F09A]\n",
      "\t(No symbol) [0x00007FF6C767BEB0]\n",
      "\t(No symbol) [0x00007FF6C76981E2]\n",
      "\t(No symbol) [0x00007FF6C767BA43]\n",
      "\t(No symbol) [0x00007FF6C764D438]\n",
      "\t(No symbol) [0x00007FF6C764E4D1]\n",
      "\tGetHandleVerifier [0x00007FF6C7B66AAD+3709933]\n",
      "\tGetHandleVerifier [0x00007FF6C7BBFFED+4075821]\n",
      "\tGetHandleVerifier [0x00007FF6C7BB817F+4043455]\n",
      "\tGetHandleVerifier [0x00007FF6C7889756+706710]\n",
      "\t(No symbol) [0x00007FF6C776B8FF]\n",
      "\t(No symbol) [0x00007FF6C7766AE4]\n",
      "\t(No symbol) [0x00007FF6C7766C3C]\n",
      "\t(No symbol) [0x00007FF6C77568F4]\n",
      "\tBaseThreadInitThunk [0x00007FFC4A7B257D+29]\n",
      "\tRtlUserThreadStart [0x00007FFC4B6EAA58+40]\n",
      "\n"
     ]
    },
    {
     "name": "stderr",
     "output_type": "stream",
     "text": [
      "1325it [12:23,  1.78it/s]\n"
     ]
    },
    {
     "name": "stdout",
     "output_type": "stream",
     "text": [
      "Message: element not interactable\n",
      "  (Session info: chrome=122.0.6261.112)\n",
      "Stacktrace:\n",
      "\tGetHandleVerifier [0x00007FF6C77EAD22+56930]\n",
      "\t(No symbol) [0x00007FF6C775F622]\n",
      "\t(No symbol) [0x00007FF6C761419D]\n",
      "\t(No symbol) [0x00007FF6C765ACA2]\n",
      "\t(No symbol) [0x00007FF6C764F798]\n",
      "\t(No symbol) [0x00007FF6C767BC9A]\n",
      "\t(No symbol) [0x00007FF6C764F09A]\n",
      "\t(No symbol) [0x00007FF6C767BEB0]\n",
      "\t(No symbol) [0x00007FF6C76981E2]\n",
      "\t(No symbol) [0x00007FF6C767BA43]\n",
      "\t(No symbol) [0x00007FF6C764D438]\n",
      "\t(No symbol) [0x00007FF6C764E4D1]\n",
      "\tGetHandleVerifier [0x00007FF6C7B66AAD+3709933]\n",
      "\tGetHandleVerifier [0x00007FF6C7BBFFED+4075821]\n",
      "\tGetHandleVerifier [0x00007FF6C7BB817F+4043455]\n",
      "\tGetHandleVerifier [0x00007FF6C7889756+706710]\n",
      "\t(No symbol) [0x00007FF6C776B8FF]\n",
      "\t(No symbol) [0x00007FF6C7766AE4]\n",
      "\t(No symbol) [0x00007FF6C7766C3C]\n",
      "\t(No symbol) [0x00007FF6C77568F4]\n",
      "\tBaseThreadInitThunk [0x00007FFC4A7B257D+29]\n",
      "\tRtlUserThreadStart [0x00007FFC4B6EAA58+40]\n",
      "\n"
     ]
    },
    {
     "name": "stderr",
     "output_type": "stream",
     "text": [
      "1373it [13:01,  1.76it/s]\n"
     ]
    },
    {
     "name": "stdout",
     "output_type": "stream",
     "text": [
      "Message: element not interactable\n",
      "  (Session info: chrome=122.0.6261.112)\n",
      "Stacktrace:\n",
      "\tGetHandleVerifier [0x00007FF6C77EAD22+56930]\n",
      "\t(No symbol) [0x00007FF6C775F622]\n",
      "\t(No symbol) [0x00007FF6C761419D]\n",
      "\t(No symbol) [0x00007FF6C765ACA2]\n",
      "\t(No symbol) [0x00007FF6C764F798]\n",
      "\t(No symbol) [0x00007FF6C767BC9A]\n",
      "\t(No symbol) [0x00007FF6C764F09A]\n",
      "\t(No symbol) [0x00007FF6C767BEB0]\n",
      "\t(No symbol) [0x00007FF6C76981E2]\n",
      "\t(No symbol) [0x00007FF6C767BA43]\n",
      "\t(No symbol) [0x00007FF6C764D438]\n",
      "\t(No symbol) [0x00007FF6C764E4D1]\n",
      "\tGetHandleVerifier [0x00007FF6C7B66AAD+3709933]\n",
      "\tGetHandleVerifier [0x00007FF6C7BBFFED+4075821]\n",
      "\tGetHandleVerifier [0x00007FF6C7BB817F+4043455]\n",
      "\tGetHandleVerifier [0x00007FF6C7889756+706710]\n",
      "\t(No symbol) [0x00007FF6C776B8FF]\n",
      "\t(No symbol) [0x00007FF6C7766AE4]\n",
      "\t(No symbol) [0x00007FF6C7766C3C]\n",
      "\t(No symbol) [0x00007FF6C77568F4]\n",
      "\tBaseThreadInitThunk [0x00007FFC4A7B257D+29]\n",
      "\tRtlUserThreadStart [0x00007FFC4B6EAA58+40]\n",
      "\n"
     ]
    },
    {
     "name": "stderr",
     "output_type": "stream",
     "text": [
      "1314it [12:20,  1.77it/s]\n"
     ]
    },
    {
     "name": "stdout",
     "output_type": "stream",
     "text": [
      "Message: element not interactable\n",
      "  (Session info: chrome=122.0.6261.112)\n",
      "Stacktrace:\n",
      "\tGetHandleVerifier [0x00007FF6C77EAD22+56930]\n",
      "\t(No symbol) [0x00007FF6C775F622]\n",
      "\t(No symbol) [0x00007FF6C761419D]\n",
      "\t(No symbol) [0x00007FF6C765ACA2]\n",
      "\t(No symbol) [0x00007FF6C764F798]\n",
      "\t(No symbol) [0x00007FF6C767BC9A]\n",
      "\t(No symbol) [0x00007FF6C764F09A]\n",
      "\t(No symbol) [0x00007FF6C767BEB0]\n",
      "\t(No symbol) [0x00007FF6C76981E2]\n",
      "\t(No symbol) [0x00007FF6C767BA43]\n",
      "\t(No symbol) [0x00007FF6C764D438]\n",
      "\t(No symbol) [0x00007FF6C764E4D1]\n",
      "\tGetHandleVerifier [0x00007FF6C7B66AAD+3709933]\n",
      "\tGetHandleVerifier [0x00007FF6C7BBFFED+4075821]\n",
      "\tGetHandleVerifier [0x00007FF6C7BB817F+4043455]\n",
      "\tGetHandleVerifier [0x00007FF6C7889756+706710]\n",
      "\t(No symbol) [0x00007FF6C776B8FF]\n",
      "\t(No symbol) [0x00007FF6C7766AE4]\n",
      "\t(No symbol) [0x00007FF6C7766C3C]\n",
      "\t(No symbol) [0x00007FF6C77568F4]\n",
      "\tBaseThreadInitThunk [0x00007FFC4A7B257D+29]\n",
      "\tRtlUserThreadStart [0x00007FFC4B6EAA58+40]\n",
      "\n"
     ]
    },
    {
     "name": "stderr",
     "output_type": "stream",
     "text": [
      "1434it [13:25,  1.78it/s]\n"
     ]
    },
    {
     "name": "stdout",
     "output_type": "stream",
     "text": [
      "Message: element not interactable\n",
      "  (Session info: chrome=122.0.6261.112)\n",
      "Stacktrace:\n",
      "\tGetHandleVerifier [0x00007FF6C77EAD22+56930]\n",
      "\t(No symbol) [0x00007FF6C775F622]\n",
      "\t(No symbol) [0x00007FF6C761419D]\n",
      "\t(No symbol) [0x00007FF6C765ACA2]\n",
      "\t(No symbol) [0x00007FF6C764F798]\n",
      "\t(No symbol) [0x00007FF6C767BC9A]\n",
      "\t(No symbol) [0x00007FF6C764F09A]\n",
      "\t(No symbol) [0x00007FF6C767BEB0]\n",
      "\t(No symbol) [0x00007FF6C76981E2]\n",
      "\t(No symbol) [0x00007FF6C767BA43]\n",
      "\t(No symbol) [0x00007FF6C764D438]\n",
      "\t(No symbol) [0x00007FF6C764E4D1]\n",
      "\tGetHandleVerifier [0x00007FF6C7B66AAD+3709933]\n",
      "\tGetHandleVerifier [0x00007FF6C7BBFFED+4075821]\n",
      "\tGetHandleVerifier [0x00007FF6C7BB817F+4043455]\n",
      "\tGetHandleVerifier [0x00007FF6C7889756+706710]\n",
      "\t(No symbol) [0x00007FF6C776B8FF]\n",
      "\t(No symbol) [0x00007FF6C7766AE4]\n",
      "\t(No symbol) [0x00007FF6C7766C3C]\n",
      "\t(No symbol) [0x00007FF6C77568F4]\n",
      "\tBaseThreadInitThunk [0x00007FFC4A7B257D+29]\n",
      "\tRtlUserThreadStart [0x00007FFC4B6EAA58+40]\n",
      "\n"
     ]
    },
    {
     "name": "stderr",
     "output_type": "stream",
     "text": [
      "808it [07:34,  1.78it/s]\n"
     ]
    },
    {
     "name": "stdout",
     "output_type": "stream",
     "text": [
      "Message: element not interactable\n",
      "  (Session info: chrome=122.0.6261.112)\n",
      "Stacktrace:\n",
      "\tGetHandleVerifier [0x00007FF6C77EAD22+56930]\n",
      "\t(No symbol) [0x00007FF6C775F622]\n",
      "\t(No symbol) [0x00007FF6C761419D]\n",
      "\t(No symbol) [0x00007FF6C765ACA2]\n",
      "\t(No symbol) [0x00007FF6C764F798]\n",
      "\t(No symbol) [0x00007FF6C767BC9A]\n",
      "\t(No symbol) [0x00007FF6C764F09A]\n",
      "\t(No symbol) [0x00007FF6C767BEB0]\n",
      "\t(No symbol) [0x00007FF6C76981E2]\n",
      "\t(No symbol) [0x00007FF6C767BA43]\n",
      "\t(No symbol) [0x00007FF6C764D438]\n",
      "\t(No symbol) [0x00007FF6C764E4D1]\n",
      "\tGetHandleVerifier [0x00007FF6C7B66AAD+3709933]\n",
      "\tGetHandleVerifier [0x00007FF6C7BBFFED+4075821]\n",
      "\tGetHandleVerifier [0x00007FF6C7BB817F+4043455]\n",
      "\tGetHandleVerifier [0x00007FF6C7889756+706710]\n",
      "\t(No symbol) [0x00007FF6C776B8FF]\n",
      "\t(No symbol) [0x00007FF6C7766AE4]\n",
      "\t(No symbol) [0x00007FF6C7766C3C]\n",
      "\t(No symbol) [0x00007FF6C77568F4]\n",
      "\tBaseThreadInitThunk [0x00007FFC4A7B257D+29]\n",
      "\tRtlUserThreadStart [0x00007FFC4B6EAA58+40]\n",
      "\n"
     ]
    },
    {
     "name": "stderr",
     "output_type": "stream",
     "text": [
      "167it [01:30,  1.84it/s]\n"
     ]
    },
    {
     "name": "stdout",
     "output_type": "stream",
     "text": [
      "Message: element not interactable\n",
      "  (Session info: chrome=122.0.6261.112)\n",
      "Stacktrace:\n",
      "\tGetHandleVerifier [0x00007FF6C77EAD22+56930]\n",
      "\t(No symbol) [0x00007FF6C775F622]\n",
      "\t(No symbol) [0x00007FF6C761419D]\n",
      "\t(No symbol) [0x00007FF6C765ACA2]\n",
      "\t(No symbol) [0x00007FF6C764F798]\n",
      "\t(No symbol) [0x00007FF6C767BC9A]\n",
      "\t(No symbol) [0x00007FF6C764F09A]\n",
      "\t(No symbol) [0x00007FF6C767BEB0]\n",
      "\t(No symbol) [0x00007FF6C76981E2]\n",
      "\t(No symbol) [0x00007FF6C767BA43]\n",
      "\t(No symbol) [0x00007FF6C764D438]\n",
      "\t(No symbol) [0x00007FF6C764E4D1]\n",
      "\tGetHandleVerifier [0x00007FF6C7B66AAD+3709933]\n",
      "\tGetHandleVerifier [0x00007FF6C7BBFFED+4075821]\n",
      "\tGetHandleVerifier [0x00007FF6C7BB817F+4043455]\n",
      "\tGetHandleVerifier [0x00007FF6C7889756+706710]\n",
      "\t(No symbol) [0x00007FF6C776B8FF]\n",
      "\t(No symbol) [0x00007FF6C7766AE4]\n",
      "\t(No symbol) [0x00007FF6C7766C3C]\n",
      "\t(No symbol) [0x00007FF6C77568F4]\n",
      "\tBaseThreadInitThunk [0x00007FFC4A7B257D+29]\n",
      "\tRtlUserThreadStart [0x00007FFC4B6EAA58+40]\n",
      "\n"
     ]
    },
    {
     "name": "stderr",
     "output_type": "stream",
     "text": [
      "426it [04:08,  1.71it/s]\n"
     ]
    },
    {
     "name": "stdout",
     "output_type": "stream",
     "text": [
      "Message: element not interactable\n",
      "  (Session info: chrome=122.0.6261.112)\n",
      "Stacktrace:\n",
      "\tGetHandleVerifier [0x00007FF6C77EAD22+56930]\n",
      "\t(No symbol) [0x00007FF6C775F622]\n",
      "\t(No symbol) [0x00007FF6C761419D]\n",
      "\t(No symbol) [0x00007FF6C765ACA2]\n",
      "\t(No symbol) [0x00007FF6C764F798]\n",
      "\t(No symbol) [0x00007FF6C767BC9A]\n",
      "\t(No symbol) [0x00007FF6C764F09A]\n",
      "\t(No symbol) [0x00007FF6C767BEB0]\n",
      "\t(No symbol) [0x00007FF6C76981E2]\n",
      "\t(No symbol) [0x00007FF6C767BA43]\n",
      "\t(No symbol) [0x00007FF6C764D438]\n",
      "\t(No symbol) [0x00007FF6C764E4D1]\n",
      "\tGetHandleVerifier [0x00007FF6C7B66AAD+3709933]\n",
      "\tGetHandleVerifier [0x00007FF6C7BBFFED+4075821]\n",
      "\tGetHandleVerifier [0x00007FF6C7BB817F+4043455]\n",
      "\tGetHandleVerifier [0x00007FF6C7889756+706710]\n",
      "\t(No symbol) [0x00007FF6C776B8FF]\n",
      "\t(No symbol) [0x00007FF6C7766AE4]\n",
      "\t(No symbol) [0x00007FF6C7766C3C]\n",
      "\t(No symbol) [0x00007FF6C77568F4]\n",
      "\tBaseThreadInitThunk [0x00007FFC4A7B257D+29]\n",
      "\tRtlUserThreadStart [0x00007FFC4B6EAA58+40]\n",
      "\n"
     ]
    },
    {
     "name": "stderr",
     "output_type": "stream",
     "text": [
      "1351it [13:12,  1.70it/s]\n"
     ]
    },
    {
     "name": "stdout",
     "output_type": "stream",
     "text": [
      "Message: element not interactable\n",
      "  (Session info: chrome=122.0.6261.112)\n",
      "Stacktrace:\n",
      "\tGetHandleVerifier [0x00007FF6C77EAD22+56930]\n",
      "\t(No symbol) [0x00007FF6C775F622]\n",
      "\t(No symbol) [0x00007FF6C761419D]\n",
      "\t(No symbol) [0x00007FF6C765ACA2]\n",
      "\t(No symbol) [0x00007FF6C764F798]\n",
      "\t(No symbol) [0x00007FF6C767BC9A]\n",
      "\t(No symbol) [0x00007FF6C764F09A]\n",
      "\t(No symbol) [0x00007FF6C767BEB0]\n",
      "\t(No symbol) [0x00007FF6C76981E2]\n",
      "\t(No symbol) [0x00007FF6C767BA43]\n",
      "\t(No symbol) [0x00007FF6C764D438]\n",
      "\t(No symbol) [0x00007FF6C764E4D1]\n",
      "\tGetHandleVerifier [0x00007FF6C7B66AAD+3709933]\n",
      "\tGetHandleVerifier [0x00007FF6C7BBFFED+4075821]\n",
      "\tGetHandleVerifier [0x00007FF6C7BB817F+4043455]\n",
      "\tGetHandleVerifier [0x00007FF6C7889756+706710]\n",
      "\t(No symbol) [0x00007FF6C776B8FF]\n",
      "\t(No symbol) [0x00007FF6C7766AE4]\n",
      "\t(No symbol) [0x00007FF6C7766C3C]\n",
      "\t(No symbol) [0x00007FF6C77568F4]\n",
      "\tBaseThreadInitThunk [0x00007FFC4A7B257D+29]\n",
      "\tRtlUserThreadStart [0x00007FFC4B6EAA58+40]\n",
      "\n"
     ]
    },
    {
     "name": "stderr",
     "output_type": "stream",
     "text": [
      "778it [07:21,  1.76it/s]\n"
     ]
    },
    {
     "name": "stdout",
     "output_type": "stream",
     "text": [
      "Message: element not interactable\n",
      "  (Session info: chrome=122.0.6261.112)\n",
      "Stacktrace:\n",
      "\tGetHandleVerifier [0x00007FF6C77EAD22+56930]\n",
      "\t(No symbol) [0x00007FF6C775F622]\n",
      "\t(No symbol) [0x00007FF6C761419D]\n",
      "\t(No symbol) [0x00007FF6C765ACA2]\n",
      "\t(No symbol) [0x00007FF6C764F798]\n",
      "\t(No symbol) [0x00007FF6C767BC9A]\n",
      "\t(No symbol) [0x00007FF6C764F09A]\n",
      "\t(No symbol) [0x00007FF6C767BEB0]\n",
      "\t(No symbol) [0x00007FF6C76981E2]\n",
      "\t(No symbol) [0x00007FF6C767BA43]\n",
      "\t(No symbol) [0x00007FF6C764D438]\n",
      "\t(No symbol) [0x00007FF6C764E4D1]\n",
      "\tGetHandleVerifier [0x00007FF6C7B66AAD+3709933]\n",
      "\tGetHandleVerifier [0x00007FF6C7BBFFED+4075821]\n",
      "\tGetHandleVerifier [0x00007FF6C7BB817F+4043455]\n",
      "\tGetHandleVerifier [0x00007FF6C7889756+706710]\n",
      "\t(No symbol) [0x00007FF6C776B8FF]\n",
      "\t(No symbol) [0x00007FF6C7766AE4]\n",
      "\t(No symbol) [0x00007FF6C7766C3C]\n",
      "\t(No symbol) [0x00007FF6C77568F4]\n",
      "\tBaseThreadInitThunk [0x00007FFC4A7B257D+29]\n",
      "\tRtlUserThreadStart [0x00007FFC4B6EAA58+40]\n",
      "\n"
     ]
    },
    {
     "name": "stderr",
     "output_type": "stream",
     "text": [
      "1202it [11:27,  1.75it/s]\n"
     ]
    },
    {
     "name": "stdout",
     "output_type": "stream",
     "text": [
      "Message: element not interactable\n",
      "  (Session info: chrome=122.0.6261.112)\n",
      "Stacktrace:\n",
      "\tGetHandleVerifier [0x00007FF6C77EAD22+56930]\n",
      "\t(No symbol) [0x00007FF6C775F622]\n",
      "\t(No symbol) [0x00007FF6C761419D]\n",
      "\t(No symbol) [0x00007FF6C765ACA2]\n",
      "\t(No symbol) [0x00007FF6C764F798]\n",
      "\t(No symbol) [0x00007FF6C767BC9A]\n",
      "\t(No symbol) [0x00007FF6C764F09A]\n",
      "\t(No symbol) [0x00007FF6C767BEB0]\n",
      "\t(No symbol) [0x00007FF6C76981E2]\n",
      "\t(No symbol) [0x00007FF6C767BA43]\n",
      "\t(No symbol) [0x00007FF6C764D438]\n",
      "\t(No symbol) [0x00007FF6C764E4D1]\n",
      "\tGetHandleVerifier [0x00007FF6C7B66AAD+3709933]\n",
      "\tGetHandleVerifier [0x00007FF6C7BBFFED+4075821]\n",
      "\tGetHandleVerifier [0x00007FF6C7BB817F+4043455]\n",
      "\tGetHandleVerifier [0x00007FF6C7889756+706710]\n",
      "\t(No symbol) [0x00007FF6C776B8FF]\n",
      "\t(No symbol) [0x00007FF6C7766AE4]\n",
      "\t(No symbol) [0x00007FF6C7766C3C]\n",
      "\t(No symbol) [0x00007FF6C77568F4]\n",
      "\tBaseThreadInitThunk [0x00007FFC4A7B257D+29]\n",
      "\tRtlUserThreadStart [0x00007FFC4B6EAA58+40]\n",
      "\n"
     ]
    },
    {
     "name": "stderr",
     "output_type": "stream",
     "text": [
      "851it [08:18,  1.71it/s]\n"
     ]
    },
    {
     "name": "stdout",
     "output_type": "stream",
     "text": [
      "Message: element not interactable\n",
      "  (Session info: chrome=122.0.6261.112)\n",
      "Stacktrace:\n",
      "\tGetHandleVerifier [0x00007FF6C77EAD22+56930]\n",
      "\t(No symbol) [0x00007FF6C775F622]\n",
      "\t(No symbol) [0x00007FF6C761419D]\n",
      "\t(No symbol) [0x00007FF6C765ACA2]\n",
      "\t(No symbol) [0x00007FF6C764F798]\n",
      "\t(No symbol) [0x00007FF6C767BC9A]\n",
      "\t(No symbol) [0x00007FF6C764F09A]\n",
      "\t(No symbol) [0x00007FF6C767BEB0]\n",
      "\t(No symbol) [0x00007FF6C76981E2]\n",
      "\t(No symbol) [0x00007FF6C767BA43]\n",
      "\t(No symbol) [0x00007FF6C764D438]\n",
      "\t(No symbol) [0x00007FF6C764E4D1]\n",
      "\tGetHandleVerifier [0x00007FF6C7B66AAD+3709933]\n",
      "\tGetHandleVerifier [0x00007FF6C7BBFFED+4075821]\n",
      "\tGetHandleVerifier [0x00007FF6C7BB817F+4043455]\n",
      "\tGetHandleVerifier [0x00007FF6C7889756+706710]\n",
      "\t(No symbol) [0x00007FF6C776B8FF]\n",
      "\t(No symbol) [0x00007FF6C7766AE4]\n",
      "\t(No symbol) [0x00007FF6C7766C3C]\n",
      "\t(No symbol) [0x00007FF6C77568F4]\n",
      "\tBaseThreadInitThunk [0x00007FFC4A7B257D+29]\n",
      "\tRtlUserThreadStart [0x00007FFC4B6EAA58+40]\n",
      "\n"
     ]
    },
    {
     "name": "stderr",
     "output_type": "stream",
     "text": [
      "1007it [09:39,  1.74it/s]\n"
     ]
    },
    {
     "name": "stdout",
     "output_type": "stream",
     "text": [
      "Message: element not interactable\n",
      "  (Session info: chrome=122.0.6261.112)\n",
      "Stacktrace:\n",
      "\tGetHandleVerifier [0x00007FF6C77EAD22+56930]\n",
      "\t(No symbol) [0x00007FF6C775F622]\n",
      "\t(No symbol) [0x00007FF6C761419D]\n",
      "\t(No symbol) [0x00007FF6C765ACA2]\n",
      "\t(No symbol) [0x00007FF6C764F798]\n",
      "\t(No symbol) [0x00007FF6C767BC9A]\n",
      "\t(No symbol) [0x00007FF6C764F09A]\n",
      "\t(No symbol) [0x00007FF6C767BEB0]\n",
      "\t(No symbol) [0x00007FF6C76981E2]\n",
      "\t(No symbol) [0x00007FF6C767BA43]\n",
      "\t(No symbol) [0x00007FF6C764D438]\n",
      "\t(No symbol) [0x00007FF6C764E4D1]\n",
      "\tGetHandleVerifier [0x00007FF6C7B66AAD+3709933]\n",
      "\tGetHandleVerifier [0x00007FF6C7BBFFED+4075821]\n",
      "\tGetHandleVerifier [0x00007FF6C7BB817F+4043455]\n",
      "\tGetHandleVerifier [0x00007FF6C7889756+706710]\n",
      "\t(No symbol) [0x00007FF6C776B8FF]\n",
      "\t(No symbol) [0x00007FF6C7766AE4]\n",
      "\t(No symbol) [0x00007FF6C7766C3C]\n",
      "\t(No symbol) [0x00007FF6C77568F4]\n",
      "\tBaseThreadInitThunk [0x00007FFC4A7B257D+29]\n",
      "\tRtlUserThreadStart [0x00007FFC4B6EAA58+40]\n",
      "\n"
     ]
    },
    {
     "name": "stderr",
     "output_type": "stream",
     "text": [
      "169it [01:31,  1.85it/s]\n"
     ]
    },
    {
     "name": "stdout",
     "output_type": "stream",
     "text": [
      "Message: element not interactable\n",
      "  (Session info: chrome=122.0.6261.112)\n",
      "Stacktrace:\n",
      "\tGetHandleVerifier [0x00007FF6C77EAD22+56930]\n",
      "\t(No symbol) [0x00007FF6C775F622]\n",
      "\t(No symbol) [0x00007FF6C761419D]\n",
      "\t(No symbol) [0x00007FF6C765ACA2]\n",
      "\t(No symbol) [0x00007FF6C764F798]\n",
      "\t(No symbol) [0x00007FF6C767BC9A]\n",
      "\t(No symbol) [0x00007FF6C764F09A]\n",
      "\t(No symbol) [0x00007FF6C767BEB0]\n",
      "\t(No symbol) [0x00007FF6C76981E2]\n",
      "\t(No symbol) [0x00007FF6C767BA43]\n",
      "\t(No symbol) [0x00007FF6C764D438]\n",
      "\t(No symbol) [0x00007FF6C764E4D1]\n",
      "\tGetHandleVerifier [0x00007FF6C7B66AAD+3709933]\n",
      "\tGetHandleVerifier [0x00007FF6C7BBFFED+4075821]\n",
      "\tGetHandleVerifier [0x00007FF6C7BB817F+4043455]\n",
      "\tGetHandleVerifier [0x00007FF6C7889756+706710]\n",
      "\t(No symbol) [0x00007FF6C776B8FF]\n",
      "\t(No symbol) [0x00007FF6C7766AE4]\n",
      "\t(No symbol) [0x00007FF6C7766C3C]\n",
      "\t(No symbol) [0x00007FF6C77568F4]\n",
      "\tBaseThreadInitThunk [0x00007FFC4A7B257D+29]\n",
      "\tRtlUserThreadStart [0x00007FFC4B6EAA58+40]\n",
      "\n"
     ]
    },
    {
     "name": "stderr",
     "output_type": "stream",
     "text": [
      "457it [04:30,  1.69it/s]\n"
     ]
    },
    {
     "name": "stdout",
     "output_type": "stream",
     "text": [
      "Message: element not interactable\n",
      "  (Session info: chrome=122.0.6261.112)\n",
      "Stacktrace:\n",
      "\tGetHandleVerifier [0x00007FF6C77EAD22+56930]\n",
      "\t(No symbol) [0x00007FF6C775F622]\n",
      "\t(No symbol) [0x00007FF6C761419D]\n",
      "\t(No symbol) [0x00007FF6C765ACA2]\n",
      "\t(No symbol) [0x00007FF6C764F798]\n",
      "\t(No symbol) [0x00007FF6C767BC9A]\n",
      "\t(No symbol) [0x00007FF6C764F09A]\n",
      "\t(No symbol) [0x00007FF6C767BEB0]\n",
      "\t(No symbol) [0x00007FF6C76981E2]\n",
      "\t(No symbol) [0x00007FF6C767BA43]\n",
      "\t(No symbol) [0x00007FF6C764D438]\n",
      "\t(No symbol) [0x00007FF6C764E4D1]\n",
      "\tGetHandleVerifier [0x00007FF6C7B66AAD+3709933]\n",
      "\tGetHandleVerifier [0x00007FF6C7BBFFED+4075821]\n",
      "\tGetHandleVerifier [0x00007FF6C7BB817F+4043455]\n",
      "\tGetHandleVerifier [0x00007FF6C7889756+706710]\n",
      "\t(No symbol) [0x00007FF6C776B8FF]\n",
      "\t(No symbol) [0x00007FF6C7766AE4]\n",
      "\t(No symbol) [0x00007FF6C7766C3C]\n",
      "\t(No symbol) [0x00007FF6C77568F4]\n",
      "\tBaseThreadInitThunk [0x00007FFC4A7B257D+29]\n",
      "\tRtlUserThreadStart [0x00007FFC4B6EAA58+40]\n",
      "\n"
     ]
    },
    {
     "name": "stderr",
     "output_type": "stream",
     "text": [
      "1492it [14:42,  1.69it/s]\n"
     ]
    },
    {
     "name": "stdout",
     "output_type": "stream",
     "text": [
      "Message: element not interactable\n",
      "  (Session info: chrome=122.0.6261.112)\n",
      "Stacktrace:\n",
      "\tGetHandleVerifier [0x00007FF6C77EAD22+56930]\n",
      "\t(No symbol) [0x00007FF6C775F622]\n",
      "\t(No symbol) [0x00007FF6C761419D]\n",
      "\t(No symbol) [0x00007FF6C765ACA2]\n",
      "\t(No symbol) [0x00007FF6C764F798]\n",
      "\t(No symbol) [0x00007FF6C767BC9A]\n",
      "\t(No symbol) [0x00007FF6C764F09A]\n",
      "\t(No symbol) [0x00007FF6C767BEB0]\n",
      "\t(No symbol) [0x00007FF6C76981E2]\n",
      "\t(No symbol) [0x00007FF6C767BA43]\n",
      "\t(No symbol) [0x00007FF6C764D438]\n",
      "\t(No symbol) [0x00007FF6C764E4D1]\n",
      "\tGetHandleVerifier [0x00007FF6C7B66AAD+3709933]\n",
      "\tGetHandleVerifier [0x00007FF6C7BBFFED+4075821]\n",
      "\tGetHandleVerifier [0x00007FF6C7BB817F+4043455]\n",
      "\tGetHandleVerifier [0x00007FF6C7889756+706710]\n",
      "\t(No symbol) [0x00007FF6C776B8FF]\n",
      "\t(No symbol) [0x00007FF6C7766AE4]\n",
      "\t(No symbol) [0x00007FF6C7766C3C]\n",
      "\t(No symbol) [0x00007FF6C77568F4]\n",
      "\tBaseThreadInitThunk [0x00007FFC4A7B257D+29]\n",
      "\tRtlUserThreadStart [0x00007FFC4B6EAA58+40]\n",
      "\n"
     ]
    },
    {
     "name": "stderr",
     "output_type": "stream",
     "text": [
      "1138it [11:06,  1.71it/s]\n"
     ]
    },
    {
     "name": "stdout",
     "output_type": "stream",
     "text": [
      "Message: element not interactable\n",
      "  (Session info: chrome=122.0.6261.112)\n",
      "Stacktrace:\n",
      "\tGetHandleVerifier [0x00007FF6C77EAD22+56930]\n",
      "\t(No symbol) [0x00007FF6C775F622]\n",
      "\t(No symbol) [0x00007FF6C761419D]\n",
      "\t(No symbol) [0x00007FF6C765ACA2]\n",
      "\t(No symbol) [0x00007FF6C764F798]\n",
      "\t(No symbol) [0x00007FF6C767BC9A]\n",
      "\t(No symbol) [0x00007FF6C764F09A]\n",
      "\t(No symbol) [0x00007FF6C767BEB0]\n",
      "\t(No symbol) [0x00007FF6C76981E2]\n",
      "\t(No symbol) [0x00007FF6C767BA43]\n",
      "\t(No symbol) [0x00007FF6C764D438]\n",
      "\t(No symbol) [0x00007FF6C764E4D1]\n",
      "\tGetHandleVerifier [0x00007FF6C7B66AAD+3709933]\n",
      "\tGetHandleVerifier [0x00007FF6C7BBFFED+4075821]\n",
      "\tGetHandleVerifier [0x00007FF6C7BB817F+4043455]\n",
      "\tGetHandleVerifier [0x00007FF6C7889756+706710]\n",
      "\t(No symbol) [0x00007FF6C776B8FF]\n",
      "\t(No symbol) [0x00007FF6C7766AE4]\n",
      "\t(No symbol) [0x00007FF6C7766C3C]\n",
      "\t(No symbol) [0x00007FF6C77568F4]\n",
      "\tBaseThreadInitThunk [0x00007FFC4A7B257D+29]\n",
      "\tRtlUserThreadStart [0x00007FFC4B6EAA58+40]\n",
      "\n"
     ]
    },
    {
     "name": "stderr",
     "output_type": "stream",
     "text": [
      "1634it [16:05,  1.69it/s]\n"
     ]
    },
    {
     "name": "stdout",
     "output_type": "stream",
     "text": [
      "Message: element not interactable\n",
      "  (Session info: chrome=122.0.6261.112)\n",
      "Stacktrace:\n",
      "\tGetHandleVerifier [0x00007FF6C77EAD22+56930]\n",
      "\t(No symbol) [0x00007FF6C775F622]\n",
      "\t(No symbol) [0x00007FF6C761419D]\n",
      "\t(No symbol) [0x00007FF6C765ACA2]\n",
      "\t(No symbol) [0x00007FF6C764F798]\n",
      "\t(No symbol) [0x00007FF6C767BC9A]\n",
      "\t(No symbol) [0x00007FF6C764F09A]\n",
      "\t(No symbol) [0x00007FF6C767BEB0]\n",
      "\t(No symbol) [0x00007FF6C76981E2]\n",
      "\t(No symbol) [0x00007FF6C767BA43]\n",
      "\t(No symbol) [0x00007FF6C764D438]\n",
      "\t(No symbol) [0x00007FF6C764E4D1]\n",
      "\tGetHandleVerifier [0x00007FF6C7B66AAD+3709933]\n",
      "\tGetHandleVerifier [0x00007FF6C7BBFFED+4075821]\n",
      "\tGetHandleVerifier [0x00007FF6C7BB817F+4043455]\n",
      "\tGetHandleVerifier [0x00007FF6C7889756+706710]\n",
      "\t(No symbol) [0x00007FF6C776B8FF]\n",
      "\t(No symbol) [0x00007FF6C7766AE4]\n",
      "\t(No symbol) [0x00007FF6C7766C3C]\n",
      "\t(No symbol) [0x00007FF6C77568F4]\n",
      "\tBaseThreadInitThunk [0x00007FFC4A7B257D+29]\n",
      "\tRtlUserThreadStart [0x00007FFC4B6EAA58+40]\n",
      "\n"
     ]
    },
    {
     "name": "stderr",
     "output_type": "stream",
     "text": [
      "1337it [13:12,  1.69it/s]\n"
     ]
    },
    {
     "name": "stdout",
     "output_type": "stream",
     "text": [
      "Message: element not interactable\n",
      "  (Session info: chrome=122.0.6261.112)\n",
      "Stacktrace:\n",
      "\tGetHandleVerifier [0x00007FF6C77EAD22+56930]\n",
      "\t(No symbol) [0x00007FF6C775F622]\n",
      "\t(No symbol) [0x00007FF6C761419D]\n",
      "\t(No symbol) [0x00007FF6C765ACA2]\n",
      "\t(No symbol) [0x00007FF6C764F798]\n",
      "\t(No symbol) [0x00007FF6C767BC9A]\n",
      "\t(No symbol) [0x00007FF6C764F09A]\n",
      "\t(No symbol) [0x00007FF6C767BEB0]\n",
      "\t(No symbol) [0x00007FF6C76981E2]\n",
      "\t(No symbol) [0x00007FF6C767BA43]\n",
      "\t(No symbol) [0x00007FF6C764D438]\n",
      "\t(No symbol) [0x00007FF6C764E4D1]\n",
      "\tGetHandleVerifier [0x00007FF6C7B66AAD+3709933]\n",
      "\tGetHandleVerifier [0x00007FF6C7BBFFED+4075821]\n",
      "\tGetHandleVerifier [0x00007FF6C7BB817F+4043455]\n",
      "\tGetHandleVerifier [0x00007FF6C7889756+706710]\n",
      "\t(No symbol) [0x00007FF6C776B8FF]\n",
      "\t(No symbol) [0x00007FF6C7766AE4]\n",
      "\t(No symbol) [0x00007FF6C7766C3C]\n",
      "\t(No symbol) [0x00007FF6C77568F4]\n",
      "\tBaseThreadInitThunk [0x00007FFC4A7B257D+29]\n",
      "\tRtlUserThreadStart [0x00007FFC4B6EAA58+40]\n",
      "\n"
     ]
    },
    {
     "name": "stderr",
     "output_type": "stream",
     "text": [
      "911it [09:00,  1.68it/s]\n"
     ]
    },
    {
     "name": "stdout",
     "output_type": "stream",
     "text": [
      "Message: element not interactable\n",
      "  (Session info: chrome=122.0.6261.112)\n",
      "Stacktrace:\n",
      "\tGetHandleVerifier [0x00007FF6C77EAD22+56930]\n",
      "\t(No symbol) [0x00007FF6C775F622]\n",
      "\t(No symbol) [0x00007FF6C761419D]\n",
      "\t(No symbol) [0x00007FF6C765ACA2]\n",
      "\t(No symbol) [0x00007FF6C764F798]\n",
      "\t(No symbol) [0x00007FF6C767BC9A]\n",
      "\t(No symbol) [0x00007FF6C764F09A]\n",
      "\t(No symbol) [0x00007FF6C767BEB0]\n",
      "\t(No symbol) [0x00007FF6C76981E2]\n",
      "\t(No symbol) [0x00007FF6C767BA43]\n",
      "\t(No symbol) [0x00007FF6C764D438]\n",
      "\t(No symbol) [0x00007FF6C764E4D1]\n",
      "\tGetHandleVerifier [0x00007FF6C7B66AAD+3709933]\n",
      "\tGetHandleVerifier [0x00007FF6C7BBFFED+4075821]\n",
      "\tGetHandleVerifier [0x00007FF6C7BB817F+4043455]\n",
      "\tGetHandleVerifier [0x00007FF6C7889756+706710]\n",
      "\t(No symbol) [0x00007FF6C776B8FF]\n",
      "\t(No symbol) [0x00007FF6C7766AE4]\n",
      "\t(No symbol) [0x00007FF6C7766C3C]\n",
      "\t(No symbol) [0x00007FF6C77568F4]\n",
      "\tBaseThreadInitThunk [0x00007FFC4A7B257D+29]\n",
      "\tRtlUserThreadStart [0x00007FFC4B6EAA58+40]\n",
      "\n"
     ]
    },
    {
     "name": "stderr",
     "output_type": "stream",
     "text": [
      "274it [02:44,  1.67it/s]\n"
     ]
    },
    {
     "name": "stdout",
     "output_type": "stream",
     "text": [
      "Message: element not interactable\n",
      "  (Session info: chrome=122.0.6261.112)\n",
      "Stacktrace:\n",
      "\tGetHandleVerifier [0x00007FF6C77EAD22+56930]\n",
      "\t(No symbol) [0x00007FF6C775F622]\n",
      "\t(No symbol) [0x00007FF6C761419D]\n",
      "\t(No symbol) [0x00007FF6C765ACA2]\n",
      "\t(No symbol) [0x00007FF6C764F798]\n",
      "\t(No symbol) [0x00007FF6C767BC9A]\n",
      "\t(No symbol) [0x00007FF6C764F09A]\n",
      "\t(No symbol) [0x00007FF6C767BEB0]\n",
      "\t(No symbol) [0x00007FF6C76981E2]\n",
      "\t(No symbol) [0x00007FF6C767BA43]\n",
      "\t(No symbol) [0x00007FF6C764D438]\n",
      "\t(No symbol) [0x00007FF6C764E4D1]\n",
      "\tGetHandleVerifier [0x00007FF6C7B66AAD+3709933]\n",
      "\tGetHandleVerifier [0x00007FF6C7BBFFED+4075821]\n",
      "\tGetHandleVerifier [0x00007FF6C7BB817F+4043455]\n",
      "\tGetHandleVerifier [0x00007FF6C7889756+706710]\n",
      "\t(No symbol) [0x00007FF6C776B8FF]\n",
      "\t(No symbol) [0x00007FF6C7766AE4]\n",
      "\t(No symbol) [0x00007FF6C7766C3C]\n",
      "\t(No symbol) [0x00007FF6C77568F4]\n",
      "\tBaseThreadInitThunk [0x00007FFC4A7B257D+29]\n",
      "\tRtlUserThreadStart [0x00007FFC4B6EAA58+40]\n",
      "\n"
     ]
    },
    {
     "name": "stderr",
     "output_type": "stream",
     "text": [
      "633it [06:11,  1.70it/s]\n"
     ]
    },
    {
     "name": "stdout",
     "output_type": "stream",
     "text": [
      "Message: element not interactable\n",
      "  (Session info: chrome=122.0.6261.112)\n",
      "Stacktrace:\n",
      "\tGetHandleVerifier [0x00007FF6C77EAD22+56930]\n",
      "\t(No symbol) [0x00007FF6C775F622]\n",
      "\t(No symbol) [0x00007FF6C761419D]\n",
      "\t(No symbol) [0x00007FF6C765ACA2]\n",
      "\t(No symbol) [0x00007FF6C764F798]\n",
      "\t(No symbol) [0x00007FF6C767BC9A]\n",
      "\t(No symbol) [0x00007FF6C764F09A]\n",
      "\t(No symbol) [0x00007FF6C767BEB0]\n",
      "\t(No symbol) [0x00007FF6C76981E2]\n",
      "\t(No symbol) [0x00007FF6C767BA43]\n",
      "\t(No symbol) [0x00007FF6C764D438]\n",
      "\t(No symbol) [0x00007FF6C764E4D1]\n",
      "\tGetHandleVerifier [0x00007FF6C7B66AAD+3709933]\n",
      "\tGetHandleVerifier [0x00007FF6C7BBFFED+4075821]\n",
      "\tGetHandleVerifier [0x00007FF6C7BB817F+4043455]\n",
      "\tGetHandleVerifier [0x00007FF6C7889756+706710]\n",
      "\t(No symbol) [0x00007FF6C776B8FF]\n",
      "\t(No symbol) [0x00007FF6C7766AE4]\n",
      "\t(No symbol) [0x00007FF6C7766C3C]\n",
      "\t(No symbol) [0x00007FF6C77568F4]\n",
      "\tBaseThreadInitThunk [0x00007FFC4A7B257D+29]\n",
      "\tRtlUserThreadStart [0x00007FFC4B6EAA58+40]\n",
      "\n"
     ]
    },
    {
     "name": "stderr",
     "output_type": "stream",
     "text": [
      "941it [09:15,  1.70it/s]\n"
     ]
    },
    {
     "name": "stdout",
     "output_type": "stream",
     "text": [
      "Message: element not interactable\n",
      "  (Session info: chrome=122.0.6261.112)\n",
      "Stacktrace:\n",
      "\tGetHandleVerifier [0x00007FF6C77EAD22+56930]\n",
      "\t(No symbol) [0x00007FF6C775F622]\n",
      "\t(No symbol) [0x00007FF6C761419D]\n",
      "\t(No symbol) [0x00007FF6C765ACA2]\n",
      "\t(No symbol) [0x00007FF6C764F798]\n",
      "\t(No symbol) [0x00007FF6C767BC9A]\n",
      "\t(No symbol) [0x00007FF6C764F09A]\n",
      "\t(No symbol) [0x00007FF6C767BEB0]\n",
      "\t(No symbol) [0x00007FF6C76981E2]\n",
      "\t(No symbol) [0x00007FF6C767BA43]\n",
      "\t(No symbol) [0x00007FF6C764D438]\n",
      "\t(No symbol) [0x00007FF6C764E4D1]\n",
      "\tGetHandleVerifier [0x00007FF6C7B66AAD+3709933]\n",
      "\tGetHandleVerifier [0x00007FF6C7BBFFED+4075821]\n",
      "\tGetHandleVerifier [0x00007FF6C7BB817F+4043455]\n",
      "\tGetHandleVerifier [0x00007FF6C7889756+706710]\n",
      "\t(No symbol) [0x00007FF6C776B8FF]\n",
      "\t(No symbol) [0x00007FF6C7766AE4]\n",
      "\t(No symbol) [0x00007FF6C7766C3C]\n",
      "\t(No symbol) [0x00007FF6C77568F4]\n",
      "\tBaseThreadInitThunk [0x00007FFC4A7B257D+29]\n",
      "\tRtlUserThreadStart [0x00007FFC4B6EAA58+40]\n",
      "\n"
     ]
    },
    {
     "name": "stderr",
     "output_type": "stream",
     "text": [
      "1290it [13:00,  1.65it/s]\n"
     ]
    },
    {
     "name": "stdout",
     "output_type": "stream",
     "text": [
      "Message: element not interactable\n",
      "  (Session info: chrome=122.0.6261.112)\n",
      "Stacktrace:\n",
      "\tGetHandleVerifier [0x00007FF6C77EAD22+56930]\n",
      "\t(No symbol) [0x00007FF6C775F622]\n",
      "\t(No symbol) [0x00007FF6C761419D]\n",
      "\t(No symbol) [0x00007FF6C765ACA2]\n",
      "\t(No symbol) [0x00007FF6C764F798]\n",
      "\t(No symbol) [0x00007FF6C767BC9A]\n",
      "\t(No symbol) [0x00007FF6C764F09A]\n",
      "\t(No symbol) [0x00007FF6C767BEB0]\n",
      "\t(No symbol) [0x00007FF6C76981E2]\n",
      "\t(No symbol) [0x00007FF6C767BA43]\n",
      "\t(No symbol) [0x00007FF6C764D438]\n",
      "\t(No symbol) [0x00007FF6C764E4D1]\n",
      "\tGetHandleVerifier [0x00007FF6C7B66AAD+3709933]\n",
      "\tGetHandleVerifier [0x00007FF6C7BBFFED+4075821]\n",
      "\tGetHandleVerifier [0x00007FF6C7BB817F+4043455]\n",
      "\tGetHandleVerifier [0x00007FF6C7889756+706710]\n",
      "\t(No symbol) [0x00007FF6C776B8FF]\n",
      "\t(No symbol) [0x00007FF6C7766AE4]\n",
      "\t(No symbol) [0x00007FF6C7766C3C]\n",
      "\t(No symbol) [0x00007FF6C77568F4]\n",
      "\tBaseThreadInitThunk [0x00007FFC4A7B257D+29]\n",
      "\tRtlUserThreadStart [0x00007FFC4B6EAA58+40]\n",
      "\n"
     ]
    },
    {
     "name": "stderr",
     "output_type": "stream",
     "text": [
      "1294it [13:03,  1.65it/s]\n"
     ]
    },
    {
     "name": "stdout",
     "output_type": "stream",
     "text": [
      "Message: element not interactable\n",
      "  (Session info: chrome=122.0.6261.112)\n",
      "Stacktrace:\n",
      "\tGetHandleVerifier [0x00007FF6C77EAD22+56930]\n",
      "\t(No symbol) [0x00007FF6C775F622]\n",
      "\t(No symbol) [0x00007FF6C761419D]\n",
      "\t(No symbol) [0x00007FF6C765ACA2]\n",
      "\t(No symbol) [0x00007FF6C764F798]\n",
      "\t(No symbol) [0x00007FF6C767BC9A]\n",
      "\t(No symbol) [0x00007FF6C764F09A]\n",
      "\t(No symbol) [0x00007FF6C767BEB0]\n",
      "\t(No symbol) [0x00007FF6C76981E2]\n",
      "\t(No symbol) [0x00007FF6C767BA43]\n",
      "\t(No symbol) [0x00007FF6C764D438]\n",
      "\t(No symbol) [0x00007FF6C764E4D1]\n",
      "\tGetHandleVerifier [0x00007FF6C7B66AAD+3709933]\n",
      "\tGetHandleVerifier [0x00007FF6C7BBFFED+4075821]\n",
      "\tGetHandleVerifier [0x00007FF6C7BB817F+4043455]\n",
      "\tGetHandleVerifier [0x00007FF6C7889756+706710]\n",
      "\t(No symbol) [0x00007FF6C776B8FF]\n",
      "\t(No symbol) [0x00007FF6C7766AE4]\n",
      "\t(No symbol) [0x00007FF6C7766C3C]\n",
      "\t(No symbol) [0x00007FF6C77568F4]\n",
      "\tBaseThreadInitThunk [0x00007FFC4A7B257D+29]\n",
      "\tRtlUserThreadStart [0x00007FFC4B6EAA58+40]\n",
      "\n"
     ]
    },
    {
     "name": "stderr",
     "output_type": "stream",
     "text": [
      "1182it [11:31,  1.71it/s]\n"
     ]
    },
    {
     "name": "stdout",
     "output_type": "stream",
     "text": [
      "Message: element not interactable\n",
      "  (Session info: chrome=122.0.6261.112)\n",
      "Stacktrace:\n",
      "\tGetHandleVerifier [0x00007FF6C77EAD22+56930]\n",
      "\t(No symbol) [0x00007FF6C775F622]\n",
      "\t(No symbol) [0x00007FF6C761419D]\n",
      "\t(No symbol) [0x00007FF6C765ACA2]\n",
      "\t(No symbol) [0x00007FF6C764F798]\n",
      "\t(No symbol) [0x00007FF6C767BC9A]\n",
      "\t(No symbol) [0x00007FF6C764F09A]\n",
      "\t(No symbol) [0x00007FF6C767BEB0]\n",
      "\t(No symbol) [0x00007FF6C76981E2]\n",
      "\t(No symbol) [0x00007FF6C767BA43]\n",
      "\t(No symbol) [0x00007FF6C764D438]\n",
      "\t(No symbol) [0x00007FF6C764E4D1]\n",
      "\tGetHandleVerifier [0x00007FF6C7B66AAD+3709933]\n",
      "\tGetHandleVerifier [0x00007FF6C7BBFFED+4075821]\n",
      "\tGetHandleVerifier [0x00007FF6C7BB817F+4043455]\n",
      "\tGetHandleVerifier [0x00007FF6C7889756+706710]\n",
      "\t(No symbol) [0x00007FF6C776B8FF]\n",
      "\t(No symbol) [0x00007FF6C7766AE4]\n",
      "\t(No symbol) [0x00007FF6C7766C3C]\n",
      "\t(No symbol) [0x00007FF6C77568F4]\n",
      "\tBaseThreadInitThunk [0x00007FFC4A7B257D+29]\n",
      "\tRtlUserThreadStart [0x00007FFC4B6EAA58+40]\n",
      "\n"
     ]
    },
    {
     "name": "stderr",
     "output_type": "stream",
     "text": [
      "934it [09:17,  1.67it/s]\n"
     ]
    },
    {
     "name": "stdout",
     "output_type": "stream",
     "text": [
      "Message: element not interactable\n",
      "  (Session info: chrome=122.0.6261.112)\n",
      "Stacktrace:\n",
      "\tGetHandleVerifier [0x00007FF6C77EAD22+56930]\n",
      "\t(No symbol) [0x00007FF6C775F622]\n",
      "\t(No symbol) [0x00007FF6C761419D]\n",
      "\t(No symbol) [0x00007FF6C765ACA2]\n",
      "\t(No symbol) [0x00007FF6C764F798]\n",
      "\t(No symbol) [0x00007FF6C767BC9A]\n",
      "\t(No symbol) [0x00007FF6C764F09A]\n",
      "\t(No symbol) [0x00007FF6C767BEB0]\n",
      "\t(No symbol) [0x00007FF6C76981E2]\n",
      "\t(No symbol) [0x00007FF6C767BA43]\n",
      "\t(No symbol) [0x00007FF6C764D438]\n",
      "\t(No symbol) [0x00007FF6C764E4D1]\n",
      "\tGetHandleVerifier [0x00007FF6C7B66AAD+3709933]\n",
      "\tGetHandleVerifier [0x00007FF6C7BBFFED+4075821]\n",
      "\tGetHandleVerifier [0x00007FF6C7BB817F+4043455]\n",
      "\tGetHandleVerifier [0x00007FF6C7889756+706710]\n",
      "\t(No symbol) [0x00007FF6C776B8FF]\n",
      "\t(No symbol) [0x00007FF6C7766AE4]\n",
      "\t(No symbol) [0x00007FF6C7766C3C]\n",
      "\t(No symbol) [0x00007FF6C77568F4]\n",
      "\tBaseThreadInitThunk [0x00007FFC4A7B257D+29]\n",
      "\tRtlUserThreadStart [0x00007FFC4B6EAA58+40]\n",
      "\n"
     ]
    },
    {
     "name": "stderr",
     "output_type": "stream",
     "text": [
      "258it [02:41,  1.60it/s]\n"
     ]
    },
    {
     "name": "stdout",
     "output_type": "stream",
     "text": [
      "Message: element not interactable\n",
      "  (Session info: chrome=122.0.6261.112)\n",
      "Stacktrace:\n",
      "\tGetHandleVerifier [0x00007FF6C77EAD22+56930]\n",
      "\t(No symbol) [0x00007FF6C775F622]\n",
      "\t(No symbol) [0x00007FF6C761419D]\n",
      "\t(No symbol) [0x00007FF6C765ACA2]\n",
      "\t(No symbol) [0x00007FF6C764F798]\n",
      "\t(No symbol) [0x00007FF6C767BC9A]\n",
      "\t(No symbol) [0x00007FF6C764F09A]\n",
      "\t(No symbol) [0x00007FF6C767BEB0]\n",
      "\t(No symbol) [0x00007FF6C76981E2]\n",
      "\t(No symbol) [0x00007FF6C767BA43]\n",
      "\t(No symbol) [0x00007FF6C764D438]\n",
      "\t(No symbol) [0x00007FF6C764E4D1]\n",
      "\tGetHandleVerifier [0x00007FF6C7B66AAD+3709933]\n",
      "\tGetHandleVerifier [0x00007FF6C7BBFFED+4075821]\n",
      "\tGetHandleVerifier [0x00007FF6C7BB817F+4043455]\n",
      "\tGetHandleVerifier [0x00007FF6C7889756+706710]\n",
      "\t(No symbol) [0x00007FF6C776B8FF]\n",
      "\t(No symbol) [0x00007FF6C7766AE4]\n",
      "\t(No symbol) [0x00007FF6C7766C3C]\n",
      "\t(No symbol) [0x00007FF6C77568F4]\n",
      "\tBaseThreadInitThunk [0x00007FFC4A7B257D+29]\n",
      "\tRtlUserThreadStart [0x00007FFC4B6EAA58+40]\n",
      "\n"
     ]
    },
    {
     "name": "stderr",
     "output_type": "stream",
     "text": [
      "569it [05:37,  1.68it/s]\n"
     ]
    },
    {
     "name": "stdout",
     "output_type": "stream",
     "text": [
      "Message: element not interactable\n",
      "  (Session info: chrome=122.0.6261.112)\n",
      "Stacktrace:\n",
      "\tGetHandleVerifier [0x00007FF6C77EAD22+56930]\n",
      "\t(No symbol) [0x00007FF6C775F622]\n",
      "\t(No symbol) [0x00007FF6C761419D]\n",
      "\t(No symbol) [0x00007FF6C765ACA2]\n",
      "\t(No symbol) [0x00007FF6C764F798]\n",
      "\t(No symbol) [0x00007FF6C767BC9A]\n",
      "\t(No symbol) [0x00007FF6C764F09A]\n",
      "\t(No symbol) [0x00007FF6C767BEB0]\n",
      "\t(No symbol) [0x00007FF6C76981E2]\n",
      "\t(No symbol) [0x00007FF6C767BA43]\n",
      "\t(No symbol) [0x00007FF6C764D438]\n",
      "\t(No symbol) [0x00007FF6C764E4D1]\n",
      "\tGetHandleVerifier [0x00007FF6C7B66AAD+3709933]\n",
      "\tGetHandleVerifier [0x00007FF6C7BBFFED+4075821]\n",
      "\tGetHandleVerifier [0x00007FF6C7BB817F+4043455]\n",
      "\tGetHandleVerifier [0x00007FF6C7889756+706710]\n",
      "\t(No symbol) [0x00007FF6C776B8FF]\n",
      "\t(No symbol) [0x00007FF6C7766AE4]\n",
      "\t(No symbol) [0x00007FF6C7766C3C]\n",
      "\t(No symbol) [0x00007FF6C77568F4]\n",
      "\tBaseThreadInitThunk [0x00007FFC4A7B257D+29]\n",
      "\tRtlUserThreadStart [0x00007FFC4B6EAA58+40]\n",
      "\n"
     ]
    },
    {
     "name": "stderr",
     "output_type": "stream",
     "text": [
      "1251it [12:38,  1.65it/s]\n"
     ]
    },
    {
     "name": "stdout",
     "output_type": "stream",
     "text": [
      "Message: element not interactable\n",
      "  (Session info: chrome=122.0.6261.112)\n",
      "Stacktrace:\n",
      "\tGetHandleVerifier [0x00007FF6C77EAD22+56930]\n",
      "\t(No symbol) [0x00007FF6C775F622]\n",
      "\t(No symbol) [0x00007FF6C761419D]\n",
      "\t(No symbol) [0x00007FF6C765ACA2]\n",
      "\t(No symbol) [0x00007FF6C764F798]\n",
      "\t(No symbol) [0x00007FF6C767BC9A]\n",
      "\t(No symbol) [0x00007FF6C764F09A]\n",
      "\t(No symbol) [0x00007FF6C767BEB0]\n",
      "\t(No symbol) [0x00007FF6C76981E2]\n",
      "\t(No symbol) [0x00007FF6C767BA43]\n",
      "\t(No symbol) [0x00007FF6C764D438]\n",
      "\t(No symbol) [0x00007FF6C764E4D1]\n",
      "\tGetHandleVerifier [0x00007FF6C7B66AAD+3709933]\n",
      "\tGetHandleVerifier [0x00007FF6C7BBFFED+4075821]\n",
      "\tGetHandleVerifier [0x00007FF6C7BB817F+4043455]\n",
      "\tGetHandleVerifier [0x00007FF6C7889756+706710]\n",
      "\t(No symbol) [0x00007FF6C776B8FF]\n",
      "\t(No symbol) [0x00007FF6C7766AE4]\n",
      "\t(No symbol) [0x00007FF6C7766C3C]\n",
      "\t(No symbol) [0x00007FF6C77568F4]\n",
      "\tBaseThreadInitThunk [0x00007FFC4A7B257D+29]\n",
      "\tRtlUserThreadStart [0x00007FFC4B6EAA58+40]\n",
      "\n"
     ]
    },
    {
     "name": "stderr",
     "output_type": "stream",
     "text": [
      "1412it [14:28,  1.63it/s]\n"
     ]
    },
    {
     "name": "stdout",
     "output_type": "stream",
     "text": [
      "Message: element not interactable\n",
      "  (Session info: chrome=122.0.6261.112)\n",
      "Stacktrace:\n",
      "\tGetHandleVerifier [0x00007FF6C77EAD22+56930]\n",
      "\t(No symbol) [0x00007FF6C775F622]\n",
      "\t(No symbol) [0x00007FF6C761419D]\n",
      "\t(No symbol) [0x00007FF6C765ACA2]\n",
      "\t(No symbol) [0x00007FF6C764F798]\n",
      "\t(No symbol) [0x00007FF6C767BC9A]\n",
      "\t(No symbol) [0x00007FF6C764F09A]\n",
      "\t(No symbol) [0x00007FF6C767BEB0]\n",
      "\t(No symbol) [0x00007FF6C76981E2]\n",
      "\t(No symbol) [0x00007FF6C767BA43]\n",
      "\t(No symbol) [0x00007FF6C764D438]\n",
      "\t(No symbol) [0x00007FF6C764E4D1]\n",
      "\tGetHandleVerifier [0x00007FF6C7B66AAD+3709933]\n",
      "\tGetHandleVerifier [0x00007FF6C7BBFFED+4075821]\n",
      "\tGetHandleVerifier [0x00007FF6C7BB817F+4043455]\n",
      "\tGetHandleVerifier [0x00007FF6C7889756+706710]\n",
      "\t(No symbol) [0x00007FF6C776B8FF]\n",
      "\t(No symbol) [0x00007FF6C7766AE4]\n",
      "\t(No symbol) [0x00007FF6C7766C3C]\n",
      "\t(No symbol) [0x00007FF6C77568F4]\n",
      "\tBaseThreadInitThunk [0x00007FFC4A7B257D+29]\n",
      "\tRtlUserThreadStart [0x00007FFC4B6EAA58+40]\n",
      "\n"
     ]
    },
    {
     "name": "stderr",
     "output_type": "stream",
     "text": [
      "1089it [11:05,  1.64it/s]\n"
     ]
    },
    {
     "name": "stdout",
     "output_type": "stream",
     "text": [
      "Message: element not interactable\n",
      "  (Session info: chrome=122.0.6261.112)\n",
      "Stacktrace:\n",
      "\tGetHandleVerifier [0x00007FF6C77EAD22+56930]\n",
      "\t(No symbol) [0x00007FF6C775F622]\n",
      "\t(No symbol) [0x00007FF6C761419D]\n",
      "\t(No symbol) [0x00007FF6C765ACA2]\n",
      "\t(No symbol) [0x00007FF6C764F798]\n",
      "\t(No symbol) [0x00007FF6C767BC9A]\n",
      "\t(No symbol) [0x00007FF6C764F09A]\n",
      "\t(No symbol) [0x00007FF6C767BEB0]\n",
      "\t(No symbol) [0x00007FF6C76981E2]\n",
      "\t(No symbol) [0x00007FF6C767BA43]\n",
      "\t(No symbol) [0x00007FF6C764D438]\n",
      "\t(No symbol) [0x00007FF6C764E4D1]\n",
      "\tGetHandleVerifier [0x00007FF6C7B66AAD+3709933]\n",
      "\tGetHandleVerifier [0x00007FF6C7BBFFED+4075821]\n",
      "\tGetHandleVerifier [0x00007FF6C7BB817F+4043455]\n",
      "\tGetHandleVerifier [0x00007FF6C7889756+706710]\n",
      "\t(No symbol) [0x00007FF6C776B8FF]\n",
      "\t(No symbol) [0x00007FF6C7766AE4]\n",
      "\t(No symbol) [0x00007FF6C7766C3C]\n",
      "\t(No symbol) [0x00007FF6C77568F4]\n",
      "\tBaseThreadInitThunk [0x00007FFC4A7B257D+29]\n",
      "\tRtlUserThreadStart [0x00007FFC4B6EAA58+40]\n",
      "\n"
     ]
    },
    {
     "name": "stderr",
     "output_type": "stream",
     "text": [
      "1134it [11:55,  1.58it/s]\n"
     ]
    },
    {
     "name": "stdout",
     "output_type": "stream",
     "text": [
      "Message: element not interactable\n",
      "  (Session info: chrome=122.0.6261.112)\n",
      "Stacktrace:\n",
      "\tGetHandleVerifier [0x00007FF6C77EAD22+56930]\n",
      "\t(No symbol) [0x00007FF6C775F622]\n",
      "\t(No symbol) [0x00007FF6C761419D]\n",
      "\t(No symbol) [0x00007FF6C765ACA2]\n",
      "\t(No symbol) [0x00007FF6C764F798]\n",
      "\t(No symbol) [0x00007FF6C767BC9A]\n",
      "\t(No symbol) [0x00007FF6C764F09A]\n",
      "\t(No symbol) [0x00007FF6C767BEB0]\n",
      "\t(No symbol) [0x00007FF6C76981E2]\n",
      "\t(No symbol) [0x00007FF6C767BA43]\n",
      "\t(No symbol) [0x00007FF6C764D438]\n",
      "\t(No symbol) [0x00007FF6C764E4D1]\n",
      "\tGetHandleVerifier [0x00007FF6C7B66AAD+3709933]\n",
      "\tGetHandleVerifier [0x00007FF6C7BBFFED+4075821]\n",
      "\tGetHandleVerifier [0x00007FF6C7BB817F+4043455]\n",
      "\tGetHandleVerifier [0x00007FF6C7889756+706710]\n",
      "\t(No symbol) [0x00007FF6C776B8FF]\n",
      "\t(No symbol) [0x00007FF6C7766AE4]\n",
      "\t(No symbol) [0x00007FF6C7766C3C]\n",
      "\t(No symbol) [0x00007FF6C77568F4]\n",
      "\tBaseThreadInitThunk [0x00007FFC4A7B257D+29]\n",
      "\tRtlUserThreadStart [0x00007FFC4B6EAA58+40]\n",
      "\n"
     ]
    },
    {
     "name": "stderr",
     "output_type": "stream",
     "text": [
      "930it [09:35,  1.62it/s]\n"
     ]
    },
    {
     "name": "stdout",
     "output_type": "stream",
     "text": [
      "Message: element not interactable\n",
      "  (Session info: chrome=122.0.6261.112)\n",
      "Stacktrace:\n",
      "\tGetHandleVerifier [0x00007FF6C77EAD22+56930]\n",
      "\t(No symbol) [0x00007FF6C775F622]\n",
      "\t(No symbol) [0x00007FF6C761419D]\n",
      "\t(No symbol) [0x00007FF6C765ACA2]\n",
      "\t(No symbol) [0x00007FF6C764F798]\n",
      "\t(No symbol) [0x00007FF6C767BC9A]\n",
      "\t(No symbol) [0x00007FF6C764F09A]\n",
      "\t(No symbol) [0x00007FF6C767BEB0]\n",
      "\t(No symbol) [0x00007FF6C76981E2]\n",
      "\t(No symbol) [0x00007FF6C767BA43]\n",
      "\t(No symbol) [0x00007FF6C764D438]\n",
      "\t(No symbol) [0x00007FF6C764E4D1]\n",
      "\tGetHandleVerifier [0x00007FF6C7B66AAD+3709933]\n",
      "\tGetHandleVerifier [0x00007FF6C7BBFFED+4075821]\n",
      "\tGetHandleVerifier [0x00007FF6C7BB817F+4043455]\n",
      "\tGetHandleVerifier [0x00007FF6C7889756+706710]\n",
      "\t(No symbol) [0x00007FF6C776B8FF]\n",
      "\t(No symbol) [0x00007FF6C7766AE4]\n",
      "\t(No symbol) [0x00007FF6C7766C3C]\n",
      "\t(No symbol) [0x00007FF6C77568F4]\n",
      "\tBaseThreadInitThunk [0x00007FFC4A7B257D+29]\n",
      "\tRtlUserThreadStart [0x00007FFC4B6EAA58+40]\n",
      "\n"
     ]
    },
    {
     "name": "stderr",
     "output_type": "stream",
     "text": [
      "230it [02:17,  1.67it/s]\n"
     ]
    },
    {
     "name": "stdout",
     "output_type": "stream",
     "text": [
      "Message: element not interactable\n",
      "  (Session info: chrome=122.0.6261.112)\n",
      "Stacktrace:\n",
      "\tGetHandleVerifier [0x00007FF6C77EAD22+56930]\n",
      "\t(No symbol) [0x00007FF6C775F622]\n",
      "\t(No symbol) [0x00007FF6C761419D]\n",
      "\t(No symbol) [0x00007FF6C765ACA2]\n",
      "\t(No symbol) [0x00007FF6C764F798]\n",
      "\t(No symbol) [0x00007FF6C767BC9A]\n",
      "\t(No symbol) [0x00007FF6C764F09A]\n",
      "\t(No symbol) [0x00007FF6C767BEB0]\n",
      "\t(No symbol) [0x00007FF6C76981E2]\n",
      "\t(No symbol) [0x00007FF6C767BA43]\n",
      "\t(No symbol) [0x00007FF6C764D438]\n",
      "\t(No symbol) [0x00007FF6C764E4D1]\n",
      "\tGetHandleVerifier [0x00007FF6C7B66AAD+3709933]\n",
      "\tGetHandleVerifier [0x00007FF6C7BBFFED+4075821]\n",
      "\tGetHandleVerifier [0x00007FF6C7BB817F+4043455]\n",
      "\tGetHandleVerifier [0x00007FF6C7889756+706710]\n",
      "\t(No symbol) [0x00007FF6C776B8FF]\n",
      "\t(No symbol) [0x00007FF6C7766AE4]\n",
      "\t(No symbol) [0x00007FF6C7766C3C]\n",
      "\t(No symbol) [0x00007FF6C77568F4]\n",
      "\tBaseThreadInitThunk [0x00007FFC4A7B257D+29]\n",
      "\tRtlUserThreadStart [0x00007FFC4B6EAA58+40]\n",
      "\n"
     ]
    },
    {
     "name": "stderr",
     "output_type": "stream",
     "text": [
      "528it [05:32,  1.59it/s]\n"
     ]
    },
    {
     "name": "stdout",
     "output_type": "stream",
     "text": [
      "Message: element not interactable\n",
      "  (Session info: chrome=122.0.6261.112)\n",
      "Stacktrace:\n",
      "\tGetHandleVerifier [0x00007FF6C77EAD22+56930]\n",
      "\t(No symbol) [0x00007FF6C775F622]\n",
      "\t(No symbol) [0x00007FF6C761419D]\n",
      "\t(No symbol) [0x00007FF6C765ACA2]\n",
      "\t(No symbol) [0x00007FF6C764F798]\n",
      "\t(No symbol) [0x00007FF6C767BC9A]\n",
      "\t(No symbol) [0x00007FF6C764F09A]\n",
      "\t(No symbol) [0x00007FF6C767BEB0]\n",
      "\t(No symbol) [0x00007FF6C76981E2]\n",
      "\t(No symbol) [0x00007FF6C767BA43]\n",
      "\t(No symbol) [0x00007FF6C764D438]\n",
      "\t(No symbol) [0x00007FF6C764E4D1]\n",
      "\tGetHandleVerifier [0x00007FF6C7B66AAD+3709933]\n",
      "\tGetHandleVerifier [0x00007FF6C7BBFFED+4075821]\n",
      "\tGetHandleVerifier [0x00007FF6C7BB817F+4043455]\n",
      "\tGetHandleVerifier [0x00007FF6C7889756+706710]\n",
      "\t(No symbol) [0x00007FF6C776B8FF]\n",
      "\t(No symbol) [0x00007FF6C7766AE4]\n",
      "\t(No symbol) [0x00007FF6C7766C3C]\n",
      "\t(No symbol) [0x00007FF6C77568F4]\n",
      "\tBaseThreadInitThunk [0x00007FFC4A7B257D+29]\n",
      "\tRtlUserThreadStart [0x00007FFC4B6EAA58+40]\n",
      "\n"
     ]
    },
    {
     "name": "stderr",
     "output_type": "stream",
     "text": [
      "1313it [13:24,  1.63it/s]\n"
     ]
    },
    {
     "name": "stdout",
     "output_type": "stream",
     "text": [
      "Message: element not interactable\n",
      "  (Session info: chrome=122.0.6261.112)\n",
      "Stacktrace:\n",
      "\tGetHandleVerifier [0x00007FF6C77EAD22+56930]\n",
      "\t(No symbol) [0x00007FF6C775F622]\n",
      "\t(No symbol) [0x00007FF6C761419D]\n",
      "\t(No symbol) [0x00007FF6C765ACA2]\n",
      "\t(No symbol) [0x00007FF6C764F798]\n",
      "\t(No symbol) [0x00007FF6C767BC9A]\n",
      "\t(No symbol) [0x00007FF6C764F09A]\n",
      "\t(No symbol) [0x00007FF6C767BEB0]\n",
      "\t(No symbol) [0x00007FF6C76981E2]\n",
      "\t(No symbol) [0x00007FF6C767BA43]\n",
      "\t(No symbol) [0x00007FF6C764D438]\n",
      "\t(No symbol) [0x00007FF6C764E4D1]\n",
      "\tGetHandleVerifier [0x00007FF6C7B66AAD+3709933]\n",
      "\tGetHandleVerifier [0x00007FF6C7BBFFED+4075821]\n",
      "\tGetHandleVerifier [0x00007FF6C7BB817F+4043455]\n",
      "\tGetHandleVerifier [0x00007FF6C7889756+706710]\n",
      "\t(No symbol) [0x00007FF6C776B8FF]\n",
      "\t(No symbol) [0x00007FF6C7766AE4]\n",
      "\t(No symbol) [0x00007FF6C7766C3C]\n",
      "\t(No symbol) [0x00007FF6C77568F4]\n",
      "\tBaseThreadInitThunk [0x00007FFC4A7B257D+29]\n",
      "\tRtlUserThreadStart [0x00007FFC4B6EAA58+40]\n",
      "\n"
     ]
    },
    {
     "name": "stderr",
     "output_type": "stream",
     "text": [
      "1008it [10:16,  1.63it/s]\n"
     ]
    },
    {
     "name": "stdout",
     "output_type": "stream",
     "text": [
      "Message: element not interactable\n",
      "  (Session info: chrome=122.0.6261.112)\n",
      "Stacktrace:\n",
      "\tGetHandleVerifier [0x00007FF6C77EAD22+56930]\n",
      "\t(No symbol) [0x00007FF6C775F622]\n",
      "\t(No symbol) [0x00007FF6C761419D]\n",
      "\t(No symbol) [0x00007FF6C765ACA2]\n",
      "\t(No symbol) [0x00007FF6C764F798]\n",
      "\t(No symbol) [0x00007FF6C767BC9A]\n",
      "\t(No symbol) [0x00007FF6C764F09A]\n",
      "\t(No symbol) [0x00007FF6C767BEB0]\n",
      "\t(No symbol) [0x00007FF6C76981E2]\n",
      "\t(No symbol) [0x00007FF6C767BA43]\n",
      "\t(No symbol) [0x00007FF6C764D438]\n",
      "\t(No symbol) [0x00007FF6C764E4D1]\n",
      "\tGetHandleVerifier [0x00007FF6C7B66AAD+3709933]\n",
      "\tGetHandleVerifier [0x00007FF6C7BBFFED+4075821]\n",
      "\tGetHandleVerifier [0x00007FF6C7BB817F+4043455]\n",
      "\tGetHandleVerifier [0x00007FF6C7889756+706710]\n",
      "\t(No symbol) [0x00007FF6C776B8FF]\n",
      "\t(No symbol) [0x00007FF6C7766AE4]\n",
      "\t(No symbol) [0x00007FF6C7766C3C]\n",
      "\t(No symbol) [0x00007FF6C77568F4]\n",
      "\tBaseThreadInitThunk [0x00007FFC4A7B257D+29]\n",
      "\tRtlUserThreadStart [0x00007FFC4B6EAA58+40]\n",
      "\n"
     ]
    },
    {
     "name": "stderr",
     "output_type": "stream",
     "text": [
      "1289it [13:09,  1.63it/s]\n"
     ]
    },
    {
     "name": "stdout",
     "output_type": "stream",
     "text": [
      "Message: element not interactable\n",
      "  (Session info: chrome=122.0.6261.112)\n",
      "Stacktrace:\n",
      "\tGetHandleVerifier [0x00007FF6C77EAD22+56930]\n",
      "\t(No symbol) [0x00007FF6C775F622]\n",
      "\t(No symbol) [0x00007FF6C761419D]\n",
      "\t(No symbol) [0x00007FF6C765ACA2]\n",
      "\t(No symbol) [0x00007FF6C764F798]\n",
      "\t(No symbol) [0x00007FF6C767BC9A]\n",
      "\t(No symbol) [0x00007FF6C764F09A]\n",
      "\t(No symbol) [0x00007FF6C767BEB0]\n",
      "\t(No symbol) [0x00007FF6C76981E2]\n",
      "\t(No symbol) [0x00007FF6C767BA43]\n",
      "\t(No symbol) [0x00007FF6C764D438]\n",
      "\t(No symbol) [0x00007FF6C764E4D1]\n",
      "\tGetHandleVerifier [0x00007FF6C7B66AAD+3709933]\n",
      "\tGetHandleVerifier [0x00007FF6C7BBFFED+4075821]\n",
      "\tGetHandleVerifier [0x00007FF6C7BB817F+4043455]\n",
      "\tGetHandleVerifier [0x00007FF6C7889756+706710]\n",
      "\t(No symbol) [0x00007FF6C776B8FF]\n",
      "\t(No symbol) [0x00007FF6C7766AE4]\n",
      "\t(No symbol) [0x00007FF6C7766C3C]\n",
      "\t(No symbol) [0x00007FF6C77568F4]\n",
      "\tBaseThreadInitThunk [0x00007FFC4A7B257D+29]\n",
      "\tRtlUserThreadStart [0x00007FFC4B6EAA58+40]\n",
      "\n"
     ]
    },
    {
     "name": "stderr",
     "output_type": "stream",
     "text": [
      "1569it [15:53,  1.65it/s]\n"
     ]
    },
    {
     "name": "stdout",
     "output_type": "stream",
     "text": [
      "Message: element not interactable\n",
      "  (Session info: chrome=122.0.6261.112)\n",
      "Stacktrace:\n",
      "\tGetHandleVerifier [0x00007FF6C77EAD22+56930]\n",
      "\t(No symbol) [0x00007FF6C775F622]\n",
      "\t(No symbol) [0x00007FF6C761419D]\n",
      "\t(No symbol) [0x00007FF6C765ACA2]\n",
      "\t(No symbol) [0x00007FF6C764F798]\n",
      "\t(No symbol) [0x00007FF6C767BC9A]\n",
      "\t(No symbol) [0x00007FF6C764F09A]\n",
      "\t(No symbol) [0x00007FF6C767BEB0]\n",
      "\t(No symbol) [0x00007FF6C76981E2]\n",
      "\t(No symbol) [0x00007FF6C767BA43]\n",
      "\t(No symbol) [0x00007FF6C764D438]\n",
      "\t(No symbol) [0x00007FF6C764E4D1]\n",
      "\tGetHandleVerifier [0x00007FF6C7B66AAD+3709933]\n",
      "\tGetHandleVerifier [0x00007FF6C7BBFFED+4075821]\n",
      "\tGetHandleVerifier [0x00007FF6C7BB817F+4043455]\n",
      "\tGetHandleVerifier [0x00007FF6C7889756+706710]\n",
      "\t(No symbol) [0x00007FF6C776B8FF]\n",
      "\t(No symbol) [0x00007FF6C7766AE4]\n",
      "\t(No symbol) [0x00007FF6C7766C3C]\n",
      "\t(No symbol) [0x00007FF6C77568F4]\n",
      "\tBaseThreadInitThunk [0x00007FFC4A7B257D+29]\n",
      "\tRtlUserThreadStart [0x00007FFC4B6EAA58+40]\n",
      "\n"
     ]
    },
    {
     "name": "stderr",
     "output_type": "stream",
     "text": [
      "968it [09:53,  1.63it/s]\n"
     ]
    },
    {
     "name": "stdout",
     "output_type": "stream",
     "text": [
      "Message: element not interactable\n",
      "  (Session info: chrome=122.0.6261.112)\n",
      "Stacktrace:\n",
      "\tGetHandleVerifier [0x00007FF6C77EAD22+56930]\n",
      "\t(No symbol) [0x00007FF6C775F622]\n",
      "\t(No symbol) [0x00007FF6C761419D]\n",
      "\t(No symbol) [0x00007FF6C765ACA2]\n",
      "\t(No symbol) [0x00007FF6C764F798]\n",
      "\t(No symbol) [0x00007FF6C767BC9A]\n",
      "\t(No symbol) [0x00007FF6C764F09A]\n",
      "\t(No symbol) [0x00007FF6C767BEB0]\n",
      "\t(No symbol) [0x00007FF6C76981E2]\n",
      "\t(No symbol) [0x00007FF6C767BA43]\n",
      "\t(No symbol) [0x00007FF6C764D438]\n",
      "\t(No symbol) [0x00007FF6C764E4D1]\n",
      "\tGetHandleVerifier [0x00007FF6C7B66AAD+3709933]\n",
      "\tGetHandleVerifier [0x00007FF6C7BBFFED+4075821]\n",
      "\tGetHandleVerifier [0x00007FF6C7BB817F+4043455]\n",
      "\tGetHandleVerifier [0x00007FF6C7889756+706710]\n",
      "\t(No symbol) [0x00007FF6C776B8FF]\n",
      "\t(No symbol) [0x00007FF6C7766AE4]\n",
      "\t(No symbol) [0x00007FF6C7766C3C]\n",
      "\t(No symbol) [0x00007FF6C77568F4]\n",
      "\tBaseThreadInitThunk [0x00007FFC4A7B257D+29]\n",
      "\tRtlUserThreadStart [0x00007FFC4B6EAA58+40]\n",
      "\n"
     ]
    },
    {
     "name": "stderr",
     "output_type": "stream",
     "text": [
      "229it [02:19,  1.64it/s]\n"
     ]
    },
    {
     "name": "stdout",
     "output_type": "stream",
     "text": [
      "Message: element not interactable\n",
      "  (Session info: chrome=122.0.6261.112)\n",
      "Stacktrace:\n",
      "\tGetHandleVerifier [0x00007FF6C77EAD22+56930]\n",
      "\t(No symbol) [0x00007FF6C775F622]\n",
      "\t(No symbol) [0x00007FF6C761419D]\n",
      "\t(No symbol) [0x00007FF6C765ACA2]\n",
      "\t(No symbol) [0x00007FF6C764F798]\n",
      "\t(No symbol) [0x00007FF6C767BC9A]\n",
      "\t(No symbol) [0x00007FF6C764F09A]\n",
      "\t(No symbol) [0x00007FF6C767BEB0]\n",
      "\t(No symbol) [0x00007FF6C76981E2]\n",
      "\t(No symbol) [0x00007FF6C767BA43]\n",
      "\t(No symbol) [0x00007FF6C764D438]\n",
      "\t(No symbol) [0x00007FF6C764E4D1]\n",
      "\tGetHandleVerifier [0x00007FF6C7B66AAD+3709933]\n",
      "\tGetHandleVerifier [0x00007FF6C7BBFFED+4075821]\n",
      "\tGetHandleVerifier [0x00007FF6C7BB817F+4043455]\n",
      "\tGetHandleVerifier [0x00007FF6C7889756+706710]\n",
      "\t(No symbol) [0x00007FF6C776B8FF]\n",
      "\t(No symbol) [0x00007FF6C7766AE4]\n",
      "\t(No symbol) [0x00007FF6C7766C3C]\n",
      "\t(No symbol) [0x00007FF6C77568F4]\n",
      "\tBaseThreadInitThunk [0x00007FFC4A7B257D+29]\n",
      "\tRtlUserThreadStart [0x00007FFC4B6EAA58+40]\n",
      "\n"
     ]
    },
    {
     "name": "stderr",
     "output_type": "stream",
     "text": [
      "644it [06:40,  1.61it/s]\n"
     ]
    },
    {
     "name": "stdout",
     "output_type": "stream",
     "text": [
      "Message: element not interactable\n",
      "  (Session info: chrome=122.0.6261.112)\n",
      "Stacktrace:\n",
      "\tGetHandleVerifier [0x00007FF6C77EAD22+56930]\n",
      "\t(No symbol) [0x00007FF6C775F622]\n",
      "\t(No symbol) [0x00007FF6C761419D]\n",
      "\t(No symbol) [0x00007FF6C765ACA2]\n",
      "\t(No symbol) [0x00007FF6C764F798]\n",
      "\t(No symbol) [0x00007FF6C767BC9A]\n",
      "\t(No symbol) [0x00007FF6C764F09A]\n",
      "\t(No symbol) [0x00007FF6C767BEB0]\n",
      "\t(No symbol) [0x00007FF6C76981E2]\n",
      "\t(No symbol) [0x00007FF6C767BA43]\n",
      "\t(No symbol) [0x00007FF6C764D438]\n",
      "\t(No symbol) [0x00007FF6C764E4D1]\n",
      "\tGetHandleVerifier [0x00007FF6C7B66AAD+3709933]\n",
      "\tGetHandleVerifier [0x00007FF6C7BBFFED+4075821]\n",
      "\tGetHandleVerifier [0x00007FF6C7BB817F+4043455]\n",
      "\tGetHandleVerifier [0x00007FF6C7889756+706710]\n",
      "\t(No symbol) [0x00007FF6C776B8FF]\n",
      "\t(No symbol) [0x00007FF6C7766AE4]\n",
      "\t(No symbol) [0x00007FF6C7766C3C]\n",
      "\t(No symbol) [0x00007FF6C77568F4]\n",
      "\tBaseThreadInitThunk [0x00007FFC4A7B257D+29]\n",
      "\tRtlUserThreadStart [0x00007FFC4B6EAA58+40]\n",
      "\n"
     ]
    },
    {
     "name": "stderr",
     "output_type": "stream",
     "text": [
      "1264it [13:08,  1.60it/s]\n"
     ]
    },
    {
     "name": "stdout",
     "output_type": "stream",
     "text": [
      "Message: element not interactable\n",
      "  (Session info: chrome=122.0.6261.112)\n",
      "Stacktrace:\n",
      "\tGetHandleVerifier [0x00007FF6C77EAD22+56930]\n",
      "\t(No symbol) [0x00007FF6C775F622]\n",
      "\t(No symbol) [0x00007FF6C761419D]\n",
      "\t(No symbol) [0x00007FF6C765ACA2]\n",
      "\t(No symbol) [0x00007FF6C764F798]\n",
      "\t(No symbol) [0x00007FF6C767BC9A]\n",
      "\t(No symbol) [0x00007FF6C764F09A]\n",
      "\t(No symbol) [0x00007FF6C767BEB0]\n",
      "\t(No symbol) [0x00007FF6C76981E2]\n",
      "\t(No symbol) [0x00007FF6C767BA43]\n",
      "\t(No symbol) [0x00007FF6C764D438]\n",
      "\t(No symbol) [0x00007FF6C764E4D1]\n",
      "\tGetHandleVerifier [0x00007FF6C7B66AAD+3709933]\n",
      "\tGetHandleVerifier [0x00007FF6C7BBFFED+4075821]\n",
      "\tGetHandleVerifier [0x00007FF6C7BB817F+4043455]\n",
      "\tGetHandleVerifier [0x00007FF6C7889756+706710]\n",
      "\t(No symbol) [0x00007FF6C776B8FF]\n",
      "\t(No symbol) [0x00007FF6C7766AE4]\n",
      "\t(No symbol) [0x00007FF6C7766C3C]\n",
      "\t(No symbol) [0x00007FF6C77568F4]\n",
      "\tBaseThreadInitThunk [0x00007FFC4A7B257D+29]\n",
      "\tRtlUserThreadStart [0x00007FFC4B6EAA58+40]\n",
      "\n"
     ]
    },
    {
     "name": "stderr",
     "output_type": "stream",
     "text": [
      "1139it [11:48,  1.61it/s]\n"
     ]
    },
    {
     "name": "stdout",
     "output_type": "stream",
     "text": [
      "Message: element not interactable\n",
      "  (Session info: chrome=122.0.6261.112)\n",
      "Stacktrace:\n",
      "\tGetHandleVerifier [0x00007FF6C77EAD22+56930]\n",
      "\t(No symbol) [0x00007FF6C775F622]\n",
      "\t(No symbol) [0x00007FF6C761419D]\n",
      "\t(No symbol) [0x00007FF6C765ACA2]\n",
      "\t(No symbol) [0x00007FF6C764F798]\n",
      "\t(No symbol) [0x00007FF6C767BC9A]\n",
      "\t(No symbol) [0x00007FF6C764F09A]\n",
      "\t(No symbol) [0x00007FF6C767BEB0]\n",
      "\t(No symbol) [0x00007FF6C76981E2]\n",
      "\t(No symbol) [0x00007FF6C767BA43]\n",
      "\t(No symbol) [0x00007FF6C764D438]\n",
      "\t(No symbol) [0x00007FF6C764E4D1]\n",
      "\tGetHandleVerifier [0x00007FF6C7B66AAD+3709933]\n",
      "\tGetHandleVerifier [0x00007FF6C7BBFFED+4075821]\n",
      "\tGetHandleVerifier [0x00007FF6C7BB817F+4043455]\n",
      "\tGetHandleVerifier [0x00007FF6C7889756+706710]\n",
      "\t(No symbol) [0x00007FF6C776B8FF]\n",
      "\t(No symbol) [0x00007FF6C7766AE4]\n",
      "\t(No symbol) [0x00007FF6C7766C3C]\n",
      "\t(No symbol) [0x00007FF6C77568F4]\n",
      "\tBaseThreadInitThunk [0x00007FFC4A7B257D+29]\n",
      "\tRtlUserThreadStart [0x00007FFC4B6EAA58+40]\n",
      "\n"
     ]
    },
    {
     "name": "stderr",
     "output_type": "stream",
     "text": [
      "1496it [15:06,  1.65it/s]\n"
     ]
    },
    {
     "name": "stdout",
     "output_type": "stream",
     "text": [
      "Message: element not interactable\n",
      "  (Session info: chrome=122.0.6261.112)\n",
      "Stacktrace:\n",
      "\tGetHandleVerifier [0x00007FF6C77EAD22+56930]\n",
      "\t(No symbol) [0x00007FF6C775F622]\n",
      "\t(No symbol) [0x00007FF6C761419D]\n",
      "\t(No symbol) [0x00007FF6C765ACA2]\n",
      "\t(No symbol) [0x00007FF6C764F798]\n",
      "\t(No symbol) [0x00007FF6C767BC9A]\n",
      "\t(No symbol) [0x00007FF6C764F09A]\n",
      "\t(No symbol) [0x00007FF6C767BEB0]\n",
      "\t(No symbol) [0x00007FF6C76981E2]\n",
      "\t(No symbol) [0x00007FF6C767BA43]\n",
      "\t(No symbol) [0x00007FF6C764D438]\n",
      "\t(No symbol) [0x00007FF6C764E4D1]\n",
      "\tGetHandleVerifier [0x00007FF6C7B66AAD+3709933]\n",
      "\tGetHandleVerifier [0x00007FF6C7BBFFED+4075821]\n",
      "\tGetHandleVerifier [0x00007FF6C7BB817F+4043455]\n",
      "\tGetHandleVerifier [0x00007FF6C7889756+706710]\n",
      "\t(No symbol) [0x00007FF6C776B8FF]\n",
      "\t(No symbol) [0x00007FF6C7766AE4]\n",
      "\t(No symbol) [0x00007FF6C7766C3C]\n",
      "\t(No symbol) [0x00007FF6C77568F4]\n",
      "\tBaseThreadInitThunk [0x00007FFC4A7B257D+29]\n",
      "\tRtlUserThreadStart [0x00007FFC4B6EAA58+40]\n",
      "\n"
     ]
    },
    {
     "name": "stderr",
     "output_type": "stream",
     "text": [
      "1981it [20:10,  1.64it/s]\n"
     ]
    },
    {
     "name": "stdout",
     "output_type": "stream",
     "text": [
      "Message: element not interactable\n",
      "  (Session info: chrome=122.0.6261.112)\n",
      "Stacktrace:\n",
      "\tGetHandleVerifier [0x00007FF6C77EAD22+56930]\n",
      "\t(No symbol) [0x00007FF6C775F622]\n",
      "\t(No symbol) [0x00007FF6C761419D]\n",
      "\t(No symbol) [0x00007FF6C765ACA2]\n",
      "\t(No symbol) [0x00007FF6C764F798]\n",
      "\t(No symbol) [0x00007FF6C767BC9A]\n",
      "\t(No symbol) [0x00007FF6C764F09A]\n",
      "\t(No symbol) [0x00007FF6C767BEB0]\n",
      "\t(No symbol) [0x00007FF6C76981E2]\n",
      "\t(No symbol) [0x00007FF6C767BA43]\n",
      "\t(No symbol) [0x00007FF6C764D438]\n",
      "\t(No symbol) [0x00007FF6C764E4D1]\n",
      "\tGetHandleVerifier [0x00007FF6C7B66AAD+3709933]\n",
      "\tGetHandleVerifier [0x00007FF6C7BBFFED+4075821]\n",
      "\tGetHandleVerifier [0x00007FF6C7BB817F+4043455]\n",
      "\tGetHandleVerifier [0x00007FF6C7889756+706710]\n",
      "\t(No symbol) [0x00007FF6C776B8FF]\n",
      "\t(No symbol) [0x00007FF6C7766AE4]\n",
      "\t(No symbol) [0x00007FF6C7766C3C]\n",
      "\t(No symbol) [0x00007FF6C77568F4]\n",
      "\tBaseThreadInitThunk [0x00007FFC4A7B257D+29]\n",
      "\tRtlUserThreadStart [0x00007FFC4B6EAA58+40]\n",
      "\n"
     ]
    },
    {
     "name": "stderr",
     "output_type": "stream",
     "text": [
      "1131it [11:17,  1.67it/s]\n"
     ]
    },
    {
     "name": "stdout",
     "output_type": "stream",
     "text": [
      "Message: element not interactable\n",
      "  (Session info: chrome=122.0.6261.112)\n",
      "Stacktrace:\n",
      "\tGetHandleVerifier [0x00007FF6C77EAD22+56930]\n",
      "\t(No symbol) [0x00007FF6C775F622]\n",
      "\t(No symbol) [0x00007FF6C761419D]\n",
      "\t(No symbol) [0x00007FF6C765ACA2]\n",
      "\t(No symbol) [0x00007FF6C764F798]\n",
      "\t(No symbol) [0x00007FF6C767BC9A]\n",
      "\t(No symbol) [0x00007FF6C764F09A]\n",
      "\t(No symbol) [0x00007FF6C767BEB0]\n",
      "\t(No symbol) [0x00007FF6C76981E2]\n",
      "\t(No symbol) [0x00007FF6C767BA43]\n",
      "\t(No symbol) [0x00007FF6C764D438]\n",
      "\t(No symbol) [0x00007FF6C764E4D1]\n",
      "\tGetHandleVerifier [0x00007FF6C7B66AAD+3709933]\n",
      "\tGetHandleVerifier [0x00007FF6C7BBFFED+4075821]\n",
      "\tGetHandleVerifier [0x00007FF6C7BB817F+4043455]\n",
      "\tGetHandleVerifier [0x00007FF6C7889756+706710]\n",
      "\t(No symbol) [0x00007FF6C776B8FF]\n",
      "\t(No symbol) [0x00007FF6C7766AE4]\n",
      "\t(No symbol) [0x00007FF6C7766C3C]\n",
      "\t(No symbol) [0x00007FF6C77568F4]\n",
      "\tBaseThreadInitThunk [0x00007FFC4A7B257D+29]\n",
      "\tRtlUserThreadStart [0x00007FFC4B6EAA58+40]\n",
      "\n"
     ]
    },
    {
     "name": "stderr",
     "output_type": "stream",
     "text": [
      "589it [05:41,  1.73it/s]\n"
     ]
    },
    {
     "name": "stdout",
     "output_type": "stream",
     "text": [
      "Message: element not interactable\n",
      "  (Session info: chrome=122.0.6261.112)\n",
      "Stacktrace:\n",
      "\tGetHandleVerifier [0x00007FF6C77EAD22+56930]\n",
      "\t(No symbol) [0x00007FF6C775F622]\n",
      "\t(No symbol) [0x00007FF6C761419D]\n",
      "\t(No symbol) [0x00007FF6C765ACA2]\n",
      "\t(No symbol) [0x00007FF6C764F798]\n",
      "\t(No symbol) [0x00007FF6C767BC9A]\n",
      "\t(No symbol) [0x00007FF6C764F09A]\n",
      "\t(No symbol) [0x00007FF6C767BEB0]\n",
      "\t(No symbol) [0x00007FF6C76981E2]\n",
      "\t(No symbol) [0x00007FF6C767BA43]\n",
      "\t(No symbol) [0x00007FF6C764D438]\n",
      "\t(No symbol) [0x00007FF6C764E4D1]\n",
      "\tGetHandleVerifier [0x00007FF6C7B66AAD+3709933]\n",
      "\tGetHandleVerifier [0x00007FF6C7BBFFED+4075821]\n",
      "\tGetHandleVerifier [0x00007FF6C7BB817F+4043455]\n",
      "\tGetHandleVerifier [0x00007FF6C7889756+706710]\n",
      "\t(No symbol) [0x00007FF6C776B8FF]\n",
      "\t(No symbol) [0x00007FF6C7766AE4]\n",
      "\t(No symbol) [0x00007FF6C7766C3C]\n",
      "\t(No symbol) [0x00007FF6C77568F4]\n",
      "\tBaseThreadInitThunk [0x00007FFC4A7B257D+29]\n",
      "\tRtlUserThreadStart [0x00007FFC4B6EAA58+40]\n",
      "\n"
     ]
    },
    {
     "name": "stderr",
     "output_type": "stream",
     "text": [
      "1266it [12:50,  1.64it/s]\n"
     ]
    },
    {
     "name": "stdout",
     "output_type": "stream",
     "text": [
      "Message: element not interactable\n",
      "  (Session info: chrome=122.0.6261.112)\n",
      "Stacktrace:\n",
      "\tGetHandleVerifier [0x00007FF6C77EAD22+56930]\n",
      "\t(No symbol) [0x00007FF6C775F622]\n",
      "\t(No symbol) [0x00007FF6C761419D]\n",
      "\t(No symbol) [0x00007FF6C765ACA2]\n",
      "\t(No symbol) [0x00007FF6C764F798]\n",
      "\t(No symbol) [0x00007FF6C767BC9A]\n",
      "\t(No symbol) [0x00007FF6C764F09A]\n",
      "\t(No symbol) [0x00007FF6C767BEB0]\n",
      "\t(No symbol) [0x00007FF6C76981E2]\n",
      "\t(No symbol) [0x00007FF6C767BA43]\n",
      "\t(No symbol) [0x00007FF6C764D438]\n",
      "\t(No symbol) [0x00007FF6C764E4D1]\n",
      "\tGetHandleVerifier [0x00007FF6C7B66AAD+3709933]\n",
      "\tGetHandleVerifier [0x00007FF6C7BBFFED+4075821]\n",
      "\tGetHandleVerifier [0x00007FF6C7BB817F+4043455]\n",
      "\tGetHandleVerifier [0x00007FF6C7889756+706710]\n",
      "\t(No symbol) [0x00007FF6C776B8FF]\n",
      "\t(No symbol) [0x00007FF6C7766AE4]\n",
      "\t(No symbol) [0x00007FF6C7766C3C]\n",
      "\t(No symbol) [0x00007FF6C77568F4]\n",
      "\tBaseThreadInitThunk [0x00007FFC4A7B257D+29]\n",
      "\tRtlUserThreadStart [0x00007FFC4B6EAA58+40]\n",
      "\n"
     ]
    },
    {
     "name": "stderr",
     "output_type": "stream",
     "text": [
      "1625it [16:39,  1.63it/s]\n"
     ]
    },
    {
     "name": "stdout",
     "output_type": "stream",
     "text": [
      "Message: element not interactable\n",
      "  (Session info: chrome=122.0.6261.112)\n",
      "Stacktrace:\n",
      "\tGetHandleVerifier [0x00007FF6C77EAD22+56930]\n",
      "\t(No symbol) [0x00007FF6C775F622]\n",
      "\t(No symbol) [0x00007FF6C761419D]\n",
      "\t(No symbol) [0x00007FF6C765ACA2]\n",
      "\t(No symbol) [0x00007FF6C764F798]\n",
      "\t(No symbol) [0x00007FF6C767BC9A]\n",
      "\t(No symbol) [0x00007FF6C764F09A]\n",
      "\t(No symbol) [0x00007FF6C767BEB0]\n",
      "\t(No symbol) [0x00007FF6C76981E2]\n",
      "\t(No symbol) [0x00007FF6C767BA43]\n",
      "\t(No symbol) [0x00007FF6C764D438]\n",
      "\t(No symbol) [0x00007FF6C764E4D1]\n",
      "\tGetHandleVerifier [0x00007FF6C7B66AAD+3709933]\n",
      "\tGetHandleVerifier [0x00007FF6C7BBFFED+4075821]\n",
      "\tGetHandleVerifier [0x00007FF6C7BB817F+4043455]\n",
      "\tGetHandleVerifier [0x00007FF6C7889756+706710]\n",
      "\t(No symbol) [0x00007FF6C776B8FF]\n",
      "\t(No symbol) [0x00007FF6C7766AE4]\n",
      "\t(No symbol) [0x00007FF6C7766C3C]\n",
      "\t(No symbol) [0x00007FF6C77568F4]\n",
      "\tBaseThreadInitThunk [0x00007FFC4A7B257D+29]\n",
      "\tRtlUserThreadStart [0x00007FFC4B6EAA58+40]\n",
      "\n"
     ]
    },
    {
     "name": "stderr",
     "output_type": "stream",
     "text": [
      "1712it [17:33,  1.62it/s]\n"
     ]
    },
    {
     "name": "stdout",
     "output_type": "stream",
     "text": [
      "Message: element not interactable\n",
      "  (Session info: chrome=122.0.6261.112)\n",
      "Stacktrace:\n",
      "\tGetHandleVerifier [0x00007FF6C77EAD22+56930]\n",
      "\t(No symbol) [0x00007FF6C775F622]\n",
      "\t(No symbol) [0x00007FF6C761419D]\n",
      "\t(No symbol) [0x00007FF6C765ACA2]\n",
      "\t(No symbol) [0x00007FF6C764F798]\n",
      "\t(No symbol) [0x00007FF6C767BC9A]\n",
      "\t(No symbol) [0x00007FF6C764F09A]\n",
      "\t(No symbol) [0x00007FF6C767BEB0]\n",
      "\t(No symbol) [0x00007FF6C76981E2]\n",
      "\t(No symbol) [0x00007FF6C767BA43]\n",
      "\t(No symbol) [0x00007FF6C764D438]\n",
      "\t(No symbol) [0x00007FF6C764E4D1]\n",
      "\tGetHandleVerifier [0x00007FF6C7B66AAD+3709933]\n",
      "\tGetHandleVerifier [0x00007FF6C7BBFFED+4075821]\n",
      "\tGetHandleVerifier [0x00007FF6C7BB817F+4043455]\n",
      "\tGetHandleVerifier [0x00007FF6C7889756+706710]\n",
      "\t(No symbol) [0x00007FF6C776B8FF]\n",
      "\t(No symbol) [0x00007FF6C7766AE4]\n",
      "\t(No symbol) [0x00007FF6C7766C3C]\n",
      "\t(No symbol) [0x00007FF6C77568F4]\n",
      "\tBaseThreadInitThunk [0x00007FFC4A7B257D+29]\n",
      "\tRtlUserThreadStart [0x00007FFC4B6EAA58+40]\n",
      "\n"
     ]
    },
    {
     "name": "stderr",
     "output_type": "stream",
     "text": [
      "1476it [15:06,  1.63it/s]\n"
     ]
    },
    {
     "name": "stdout",
     "output_type": "stream",
     "text": [
      "Message: element not interactable\n",
      "  (Session info: chrome=122.0.6261.112)\n",
      "Stacktrace:\n",
      "\tGetHandleVerifier [0x00007FF6C77EAD22+56930]\n",
      "\t(No symbol) [0x00007FF6C775F622]\n",
      "\t(No symbol) [0x00007FF6C761419D]\n",
      "\t(No symbol) [0x00007FF6C765ACA2]\n",
      "\t(No symbol) [0x00007FF6C764F798]\n",
      "\t(No symbol) [0x00007FF6C767BC9A]\n",
      "\t(No symbol) [0x00007FF6C764F09A]\n",
      "\t(No symbol) [0x00007FF6C767BEB0]\n",
      "\t(No symbol) [0x00007FF6C76981E2]\n",
      "\t(No symbol) [0x00007FF6C767BA43]\n",
      "\t(No symbol) [0x00007FF6C764D438]\n",
      "\t(No symbol) [0x00007FF6C764E4D1]\n",
      "\tGetHandleVerifier [0x00007FF6C7B66AAD+3709933]\n",
      "\tGetHandleVerifier [0x00007FF6C7BBFFED+4075821]\n",
      "\tGetHandleVerifier [0x00007FF6C7BB817F+4043455]\n",
      "\tGetHandleVerifier [0x00007FF6C7889756+706710]\n",
      "\t(No symbol) [0x00007FF6C776B8FF]\n",
      "\t(No symbol) [0x00007FF6C7766AE4]\n",
      "\t(No symbol) [0x00007FF6C7766C3C]\n",
      "\t(No symbol) [0x00007FF6C77568F4]\n",
      "\tBaseThreadInitThunk [0x00007FFC4A7B257D+29]\n",
      "\tRtlUserThreadStart [0x00007FFC4B6EAA58+40]\n",
      "\n"
     ]
    },
    {
     "name": "stderr",
     "output_type": "stream",
     "text": [
      "1729it [17:34,  1.64it/s]\n"
     ]
    },
    {
     "name": "stdout",
     "output_type": "stream",
     "text": [
      "Message: element not interactable\n",
      "  (Session info: chrome=122.0.6261.112)\n",
      "Stacktrace:\n",
      "\tGetHandleVerifier [0x00007FF6C77EAD22+56930]\n",
      "\t(No symbol) [0x00007FF6C775F622]\n",
      "\t(No symbol) [0x00007FF6C761419D]\n",
      "\t(No symbol) [0x00007FF6C765ACA2]\n",
      "\t(No symbol) [0x00007FF6C764F798]\n",
      "\t(No symbol) [0x00007FF6C767BC9A]\n",
      "\t(No symbol) [0x00007FF6C764F09A]\n",
      "\t(No symbol) [0x00007FF6C767BEB0]\n",
      "\t(No symbol) [0x00007FF6C76981E2]\n",
      "\t(No symbol) [0x00007FF6C767BA43]\n",
      "\t(No symbol) [0x00007FF6C764D438]\n",
      "\t(No symbol) [0x00007FF6C764E4D1]\n",
      "\tGetHandleVerifier [0x00007FF6C7B66AAD+3709933]\n",
      "\tGetHandleVerifier [0x00007FF6C7BBFFED+4075821]\n",
      "\tGetHandleVerifier [0x00007FF6C7BB817F+4043455]\n",
      "\tGetHandleVerifier [0x00007FF6C7889756+706710]\n",
      "\t(No symbol) [0x00007FF6C776B8FF]\n",
      "\t(No symbol) [0x00007FF6C7766AE4]\n",
      "\t(No symbol) [0x00007FF6C7766C3C]\n",
      "\t(No symbol) [0x00007FF6C77568F4]\n",
      "\tBaseThreadInitThunk [0x00007FFC4A7B257D+29]\n",
      "\tRtlUserThreadStart [0x00007FFC4B6EAA58+40]\n",
      "\n"
     ]
    },
    {
     "name": "stderr",
     "output_type": "stream",
     "text": [
      "1368it [13:56,  1.64it/s]\n"
     ]
    },
    {
     "name": "stdout",
     "output_type": "stream",
     "text": [
      "Message: element not interactable\n",
      "  (Session info: chrome=122.0.6261.112)\n",
      "Stacktrace:\n",
      "\tGetHandleVerifier [0x00007FF6C77EAD22+56930]\n",
      "\t(No symbol) [0x00007FF6C775F622]\n",
      "\t(No symbol) [0x00007FF6C761419D]\n",
      "\t(No symbol) [0x00007FF6C765ACA2]\n",
      "\t(No symbol) [0x00007FF6C764F798]\n",
      "\t(No symbol) [0x00007FF6C767BC9A]\n",
      "\t(No symbol) [0x00007FF6C764F09A]\n",
      "\t(No symbol) [0x00007FF6C767BEB0]\n",
      "\t(No symbol) [0x00007FF6C76981E2]\n",
      "\t(No symbol) [0x00007FF6C767BA43]\n",
      "\t(No symbol) [0x00007FF6C764D438]\n",
      "\t(No symbol) [0x00007FF6C764E4D1]\n",
      "\tGetHandleVerifier [0x00007FF6C7B66AAD+3709933]\n",
      "\tGetHandleVerifier [0x00007FF6C7BBFFED+4075821]\n",
      "\tGetHandleVerifier [0x00007FF6C7BB817F+4043455]\n",
      "\tGetHandleVerifier [0x00007FF6C7889756+706710]\n",
      "\t(No symbol) [0x00007FF6C776B8FF]\n",
      "\t(No symbol) [0x00007FF6C7766AE4]\n",
      "\t(No symbol) [0x00007FF6C7766C3C]\n",
      "\t(No symbol) [0x00007FF6C77568F4]\n",
      "\tBaseThreadInitThunk [0x00007FFC4A7B257D+29]\n",
      "\tRtlUserThreadStart [0x00007FFC4B6EAA58+40]\n",
      "\n"
     ]
    },
    {
     "name": "stderr",
     "output_type": "stream",
     "text": [
      "743it [07:29,  1.65it/s]\n"
     ]
    },
    {
     "name": "stdout",
     "output_type": "stream",
     "text": [
      "Message: element not interactable\n",
      "  (Session info: chrome=122.0.6261.112)\n",
      "Stacktrace:\n",
      "\tGetHandleVerifier [0x00007FF6C77EAD22+56930]\n",
      "\t(No symbol) [0x00007FF6C775F622]\n",
      "\t(No symbol) [0x00007FF6C761419D]\n",
      "\t(No symbol) [0x00007FF6C765ACA2]\n",
      "\t(No symbol) [0x00007FF6C764F798]\n",
      "\t(No symbol) [0x00007FF6C767BC9A]\n",
      "\t(No symbol) [0x00007FF6C764F09A]\n",
      "\t(No symbol) [0x00007FF6C767BEB0]\n",
      "\t(No symbol) [0x00007FF6C76981E2]\n",
      "\t(No symbol) [0x00007FF6C767BA43]\n",
      "\t(No symbol) [0x00007FF6C764D438]\n",
      "\t(No symbol) [0x00007FF6C764E4D1]\n",
      "\tGetHandleVerifier [0x00007FF6C7B66AAD+3709933]\n",
      "\tGetHandleVerifier [0x00007FF6C7BBFFED+4075821]\n",
      "\tGetHandleVerifier [0x00007FF6C7BB817F+4043455]\n",
      "\tGetHandleVerifier [0x00007FF6C7889756+706710]\n",
      "\t(No symbol) [0x00007FF6C776B8FF]\n",
      "\t(No symbol) [0x00007FF6C7766AE4]\n",
      "\t(No symbol) [0x00007FF6C7766C3C]\n",
      "\t(No symbol) [0x00007FF6C77568F4]\n",
      "\tBaseThreadInitThunk [0x00007FFC4A7B257D+29]\n",
      "\tRtlUserThreadStart [0x00007FFC4B6EAA58+40]\n",
      "\n"
     ]
    },
    {
     "name": "stderr",
     "output_type": "stream",
     "text": [
      "1315it [13:34,  1.61it/s]\n"
     ]
    },
    {
     "name": "stdout",
     "output_type": "stream",
     "text": [
      "Message: element not interactable\n",
      "  (Session info: chrome=122.0.6261.112)\n",
      "Stacktrace:\n",
      "\tGetHandleVerifier [0x00007FF6C77EAD22+56930]\n",
      "\t(No symbol) [0x00007FF6C775F622]\n",
      "\t(No symbol) [0x00007FF6C761419D]\n",
      "\t(No symbol) [0x00007FF6C765ACA2]\n",
      "\t(No symbol) [0x00007FF6C764F798]\n",
      "\t(No symbol) [0x00007FF6C767BC9A]\n",
      "\t(No symbol) [0x00007FF6C764F09A]\n",
      "\t(No symbol) [0x00007FF6C767BEB0]\n",
      "\t(No symbol) [0x00007FF6C76981E2]\n",
      "\t(No symbol) [0x00007FF6C767BA43]\n",
      "\t(No symbol) [0x00007FF6C764D438]\n",
      "\t(No symbol) [0x00007FF6C764E4D1]\n",
      "\tGetHandleVerifier [0x00007FF6C7B66AAD+3709933]\n",
      "\tGetHandleVerifier [0x00007FF6C7BBFFED+4075821]\n",
      "\tGetHandleVerifier [0x00007FF6C7BB817F+4043455]\n",
      "\tGetHandleVerifier [0x00007FF6C7889756+706710]\n",
      "\t(No symbol) [0x00007FF6C776B8FF]\n",
      "\t(No symbol) [0x00007FF6C7766AE4]\n",
      "\t(No symbol) [0x00007FF6C7766C3C]\n",
      "\t(No symbol) [0x00007FF6C77568F4]\n",
      "\tBaseThreadInitThunk [0x00007FFC4A7B257D+29]\n",
      "\tRtlUserThreadStart [0x00007FFC4B6EAA58+40]\n",
      "\n"
     ]
    },
    {
     "name": "stderr",
     "output_type": "stream",
     "text": [
      "1598it [16:28,  1.62it/s]\n"
     ]
    },
    {
     "name": "stdout",
     "output_type": "stream",
     "text": [
      "Message: element not interactable\n",
      "  (Session info: chrome=122.0.6261.112)\n",
      "Stacktrace:\n",
      "\tGetHandleVerifier [0x00007FF6C77EAD22+56930]\n",
      "\t(No symbol) [0x00007FF6C775F622]\n",
      "\t(No symbol) [0x00007FF6C761419D]\n",
      "\t(No symbol) [0x00007FF6C765ACA2]\n",
      "\t(No symbol) [0x00007FF6C764F798]\n",
      "\t(No symbol) [0x00007FF6C767BC9A]\n",
      "\t(No symbol) [0x00007FF6C764F09A]\n",
      "\t(No symbol) [0x00007FF6C767BEB0]\n",
      "\t(No symbol) [0x00007FF6C76981E2]\n",
      "\t(No symbol) [0x00007FF6C767BA43]\n",
      "\t(No symbol) [0x00007FF6C764D438]\n",
      "\t(No symbol) [0x00007FF6C764E4D1]\n",
      "\tGetHandleVerifier [0x00007FF6C7B66AAD+3709933]\n",
      "\tGetHandleVerifier [0x00007FF6C7BBFFED+4075821]\n",
      "\tGetHandleVerifier [0x00007FF6C7BB817F+4043455]\n",
      "\tGetHandleVerifier [0x00007FF6C7889756+706710]\n",
      "\t(No symbol) [0x00007FF6C776B8FF]\n",
      "\t(No symbol) [0x00007FF6C7766AE4]\n",
      "\t(No symbol) [0x00007FF6C7766C3C]\n",
      "\t(No symbol) [0x00007FF6C77568F4]\n",
      "\tBaseThreadInitThunk [0x00007FFC4A7B257D+29]\n",
      "\tRtlUserThreadStart [0x00007FFC4B6EAA58+40]\n",
      "\n"
     ]
    },
    {
     "name": "stderr",
     "output_type": "stream",
     "text": [
      "1852it [19:11,  1.61it/s]\n"
     ]
    }
   ],
   "source": [
    "# # 웹 드라이버 시작\n",
    "# driver = webdriver.Chrome()\n",
    "# df_2020 = pd.DataFrame()\n",
    "\n",
    "# # 네이버 뉴스 페이지로 이동\n",
    "# current_date = start_date\n",
    "# while current_date <= end_date:\n",
    "#     formatted_date = current_date.strftime(\"%Y%m%d\")\n",
    "\n",
    "#     driver.get('https://news.naver.com/breakingnews/section/100/265?date={}'.format(formatted_date))\n",
    "\n",
    "#     # '기사 더보기'없을 때까지\n",
    "#     try:\n",
    "#         while True:\n",
    "#             elem1 = driver.find_element(By.CLASS_NAME, \"section_more_inner._CONTENT_LIST_LOAD_MORE_BUTTON\")\n",
    "#             elem1.click()\n",
    "#             time.sleep(1)  # 대기\n",
    "#     except Exception as e:\n",
    "#         print(e)\n",
    "\n",
    "\n",
    "\n",
    "#     # 페이지 소스 가져오기\n",
    "#     page_source = driver.page_source\n",
    "\n",
    "#     # BeautifulSoup을 사용하여 페이지 소스를 파싱\n",
    "#     soup = BeautifulSoup(page_source, 'html.parser')\n",
    "\n",
    "#     # 제목 가져오기\n",
    "#     titles = soup.select('div.section_latest > div > div.section_latest_article._CONTENT_LIST._PERSIST_META > \\\n",
    "#                               div > ul > li > div > div > div.sa_text > a > strong.sa_text_strong')\n",
    "\n",
    "#     # 링크 가져오기\n",
    "#     links = soup.select('div.section_latest > div > div.section_latest_article._CONTENT_LIST._PERSIST_META > \\\n",
    "#                               div > ul > li > div > div > div.sa_text > a')\n",
    "\n",
    "#     title_lst = []\n",
    "#     content_lst = []\n",
    "\n",
    "#     # 링크로 이동해서 내용 가져오기\n",
    "#     for title, link in tqdm(zip(titles, links)):\n",
    "#         article_link = link['href'] # 링크 가져오기\n",
    "#         driver.get(article_link) # 링크로 이동\n",
    "\n",
    "#         # 페이지 소스 가져오기\n",
    "#         article_page_source = driver.page_source\n",
    "#         article_soup = BeautifulSoup(article_page_source, 'lxml')\n",
    "\n",
    "#         # 내용 가져오기\n",
    "#         content = article_soup.select_one('div.ct_wrap > div.ct_scroll_wrapper > div#newsct > div#ct > div#contents > \\\n",
    "#                             div#newsct_article > article#dic_area')\n",
    "\n",
    "#         if content:\n",
    "#             content_lst.append(content.text.strip())\n",
    "#         else:\n",
    "#             content_lst.append('No content available') # 내용이 없는 경우 예외 처리\n",
    "\n",
    "#         title_lst.append(title.string)\n",
    "\n",
    "\n",
    "#     # 데이터 저장\n",
    "#     df = pd.DataFrame({'title' : title_lst, 'content' : content_lst})\n",
    "#     df_2020 = pd.concat([df_2020,df], ignore_index=True)\n",
    "    \n",
    "#     current_date += datetime.timedelta(days=1)\n",
    "\n",
    "# # 웹 드라이버 종료\n",
    "# driver.quit()\n",
    "\n",
    "# df_2020.to_csv('2020_234_news.csv', index = False)"
   ]
  },
  {
   "cell_type": "code",
   "execution_count": 9,
   "id": "8e690bcb",
   "metadata": {
    "ExecuteTime": {
     "end_time": "2024-03-07T23:57:59.545790Z",
     "start_time": "2024-03-07T23:57:57.374861Z"
    }
   },
   "outputs": [],
   "source": [
    "df_2020_1 = pd.read_csv('./2020_1_news.csv')\n",
    "df_2020_234 = pd.read_csv('./2020_234_news.csv')"
   ]
  },
  {
   "cell_type": "code",
   "execution_count": 10,
   "id": "f44c8204",
   "metadata": {
    "ExecuteTime": {
     "end_time": "2024-03-07T23:58:09.929461Z",
     "start_time": "2024-03-07T23:58:09.917041Z"
    }
   },
   "outputs": [
    {
     "data": {
      "text/html": [
       "<div>\n",
       "<style scoped>\n",
       "    .dataframe tbody tr th:only-of-type {\n",
       "        vertical-align: middle;\n",
       "    }\n",
       "\n",
       "    .dataframe tbody tr th {\n",
       "        vertical-align: top;\n",
       "    }\n",
       "\n",
       "    .dataframe thead th {\n",
       "        text-align: right;\n",
       "    }\n",
       "</style>\n",
       "<table border=\"1\" class=\"dataframe\">\n",
       "  <thead>\n",
       "    <tr style=\"text-align: right;\">\n",
       "      <th></th>\n",
       "      <th>title</th>\n",
       "      <th>content</th>\n",
       "    </tr>\n",
       "  </thead>\n",
       "  <tbody>\n",
       "    <tr>\n",
       "      <th>0</th>\n",
       "      <td>유시민 \"검찰도 사법도 썩었지\" vs 진중권 \"유시민 망상, 대중은 현실로 믿어\"</td>\n",
       "      <td>JTBC 신년토론서 격돌조국 전 장관 사태와 '유시민의 알릴레오' 두고 논쟁\\n\\n...</td>\n",
       "    </tr>\n",
       "    <tr>\n",
       "      <th>1</th>\n",
       "      <td>특정 정당 맹목적 지지 없어…진보진영 유리 장담 못해 [신년 기획 - 21대 총선 분석]</td>\n",
       "      <td>ㆍ사상 첫 18세 투표 영향은신규 유입 유권자 약 53만명여야, 청소년 전략 마련 ...</td>\n",
       "    </tr>\n",
       "    <tr>\n",
       "      <th>2</th>\n",
       "      <td>한국당 \"울산시장 선거 정황 의심\"…추미애 고발</td>\n",
       "      <td>[머니투데이 한고은 기자] \\n\\n\\n\\n(서울=뉴스1) 임세영 기자 = 곽상도 자...</td>\n",
       "    </tr>\n",
       "    <tr>\n",
       "      <th>3</th>\n",
       "      <td>한국당, 추미애 檢 고발..\"선거법 위반\"</td>\n",
       "      <td>곽상도 친문농단특위 위원장, 1일 고발\"지방선거 전 송철호에 靑행정관 소개\"\"공무상...</td>\n",
       "    </tr>\n",
       "    <tr>\n",
       "      <th>4</th>\n",
       "      <td>文의장 \"검찰·선거개혁 단초 열어 보람…소명 다할 것\"</td>\n",
       "      <td>\"공수처는 金·盧·文 세 대통령의 숙원이자 꿈\"  한국당 '아빠 찬스, 아들 공천'...</td>\n",
       "    </tr>\n",
       "    <tr>\n",
       "      <th>...</th>\n",
       "      <td>...</td>\n",
       "      <td>...</td>\n",
       "    </tr>\n",
       "    <tr>\n",
       "      <th>23605</th>\n",
       "      <td>'송철호 당선은 내 소망'이라던 文대통령, 野 \"文대통령 입 열어야\"</td>\n",
       "      <td>검찰, 靑 울산시장 선거개입 관련 참모들 줄줄이 기소·소환文대통령·宋 시장, 돈독…...</td>\n",
       "    </tr>\n",
       "    <tr>\n",
       "      <th>23606</th>\n",
       "      <td>'노무현의 오른팔' 이광재, 강원도 파랗게 물들일까</td>\n",
       "      <td>선대위원장직 수락, 지역구 출마는 '숙고'앞서 '험지 출마' 공언해 출마 가능성 높...</td>\n",
       "    </tr>\n",
       "    <tr>\n",
       "      <th>23607</th>\n",
       "      <td>안철수·유승민·태극기 동시 '품기' 나선 황교안</td>\n",
       "      <td>黃 \"중도세력 마음 얻어야 총선 승리안철수, 함께 뭉쳐 文정권 폭정 맞서야내가 왜 ...</td>\n",
       "    </tr>\n",
       "    <tr>\n",
       "      <th>23608</th>\n",
       "      <td>[TF확대경] '원종건'에 놀란 민주당, 조동인 '철새 청년' 논란</td>\n",
       "      <td>'데이트 폭력' 의혹으로 영입인재 자격을 반납한 원종건(오른쪽) 씨에 이어 또 다른...</td>\n",
       "    </tr>\n",
       "    <tr>\n",
       "      <th>23609</th>\n",
       "      <td>조국 전 장관, 재산 53억4천만원 신고…10달만에 1억2천만 감소</td>\n",
       "      <td>집값 상승에도 재산 줄어…부인 정경심 교수 펀드 팔아 변호사비 등 지출\\n\\n\\n\\...</td>\n",
       "    </tr>\n",
       "  </tbody>\n",
       "</table>\n",
       "<p>23610 rows × 2 columns</p>\n",
       "</div>"
      ],
      "text/plain": [
       "                                                   title  \\\n",
       "0          유시민 \"검찰도 사법도 썩었지\" vs 진중권 \"유시민 망상, 대중은 현실로 믿어\"   \n",
       "1      특정 정당 맹목적 지지 없어…진보진영 유리 장담 못해 [신년 기획 - 21대 총선 분석]   \n",
       "2                             한국당 \"울산시장 선거 정황 의심\"…추미애 고발   \n",
       "3                                한국당, 추미애 檢 고발..\"선거법 위반\"   \n",
       "4                         文의장 \"검찰·선거개혁 단초 열어 보람…소명 다할 것\"   \n",
       "...                                                  ...   \n",
       "23605             '송철호 당선은 내 소망'이라던 文대통령, 野 \"文대통령 입 열어야\"   \n",
       "23606                       '노무현의 오른팔' 이광재, 강원도 파랗게 물들일까   \n",
       "23607                         안철수·유승민·태극기 동시 '품기' 나선 황교안   \n",
       "23608              [TF확대경] '원종건'에 놀란 민주당, 조동인 '철새 청년' 논란   \n",
       "23609              조국 전 장관, 재산 53억4천만원 신고…10달만에 1억2천만 감소   \n",
       "\n",
       "                                                 content  \n",
       "0      JTBC 신년토론서 격돌조국 전 장관 사태와 '유시민의 알릴레오' 두고 논쟁\\n\\n...  \n",
       "1      ㆍ사상 첫 18세 투표 영향은신규 유입 유권자 약 53만명여야, 청소년 전략 마련 ...  \n",
       "2      [머니투데이 한고은 기자] \\n\\n\\n\\n(서울=뉴스1) 임세영 기자 = 곽상도 자...  \n",
       "3      곽상도 친문농단특위 위원장, 1일 고발\"지방선거 전 송철호에 靑행정관 소개\"\"공무상...  \n",
       "4      \"공수처는 金·盧·文 세 대통령의 숙원이자 꿈\"  한국당 '아빠 찬스, 아들 공천'...  \n",
       "...                                                  ...  \n",
       "23605  검찰, 靑 울산시장 선거개입 관련 참모들 줄줄이 기소·소환文대통령·宋 시장, 돈독…...  \n",
       "23606  선대위원장직 수락, 지역구 출마는 '숙고'앞서 '험지 출마' 공언해 출마 가능성 높...  \n",
       "23607  黃 \"중도세력 마음 얻어야 총선 승리안철수, 함께 뭉쳐 文정권 폭정 맞서야내가 왜 ...  \n",
       "23608  '데이트 폭력' 의혹으로 영입인재 자격을 반납한 원종건(오른쪽) 씨에 이어 또 다른...  \n",
       "23609  집값 상승에도 재산 줄어…부인 정경심 교수 펀드 팔아 변호사비 등 지출\\n\\n\\n\\...  \n",
       "\n",
       "[23610 rows x 2 columns]"
      ]
     },
     "execution_count": 10,
     "metadata": {},
     "output_type": "execute_result"
    },
    {
     "data": {
      "text/html": [
       "<div>\n",
       "<style scoped>\n",
       "    .dataframe tbody tr th:only-of-type {\n",
       "        vertical-align: middle;\n",
       "    }\n",
       "\n",
       "    .dataframe tbody tr th {\n",
       "        vertical-align: top;\n",
       "    }\n",
       "\n",
       "    .dataframe thead th {\n",
       "        text-align: right;\n",
       "    }\n",
       "</style>\n",
       "<table border=\"1\" class=\"dataframe\">\n",
       "  <thead>\n",
       "    <tr style=\"text-align: right;\">\n",
       "      <th></th>\n",
       "      <th>title</th>\n",
       "      <th>content</th>\n",
       "    </tr>\n",
       "  </thead>\n",
       "  <tbody>\n",
       "    <tr>\n",
       "      <th>0</th>\n",
       "      <td>김의겸 편지 호소에 野\"피해자 코스프레\", 진중권 \"너절하게 군다\"</td>\n",
       "      <td>김의겸, 이해찬 대표에 호소 편지 보내 또다른 논란 \\n\\n\\n\\n \\n\\n\\n\\n...</td>\n",
       "    </tr>\n",
       "    <tr>\n",
       "      <th>1</th>\n",
       "      <td>보수野 \"김의겸, 피해자 코스프레 하고 있어…뻔뻔함 극치\"</td>\n",
       "      <td>한국 \"대통령 덕 볼 요량 버리고 당당히 무소속 출마하길\"바른미래 \"기어이 출마하려...</td>\n",
       "    </tr>\n",
       "    <tr>\n",
       "      <th>2</th>\n",
       "      <td>고민정 2일 민주당 입당…출마 거론되는 지역은</td>\n",
       "      <td>[사진 = 연합뉴스] 더불어민주당은 1일 고민정 전 청와대 대변인이 오는 2일 입당...</td>\n",
       "    </tr>\n",
       "    <tr>\n",
       "      <th>3</th>\n",
       "      <td>고민정, 내일(2일) 민주당 입당…추미애 지역구 광진 출마로 오세훈과 맞붙나</td>\n",
       "      <td>고민정, 2일 민주당 입당광진 고양 등 수도권 출마 가능성\\n\\n\\n\\n사진=연합뉴...</td>\n",
       "    </tr>\n",
       "    <tr>\n",
       "      <th>4</th>\n",
       "      <td>김의겸, '이해찬 대표님께' 간곡한 호소글 \"군산 예비후보로 뛸 수만 있게\"</td>\n",
       "      <td>김의겸, 이번엔 이해찬에 공개 편지\"민주당 저에게만 가혹..기회 달라\"김의겸 \"군산...</td>\n",
       "    </tr>\n",
       "    <tr>\n",
       "      <th>...</th>\n",
       "      <td>...</td>\n",
       "      <td>...</td>\n",
       "    </tr>\n",
       "    <tr>\n",
       "      <th>74615</th>\n",
       "      <td>‘세월호 막말’ 닷새만에… 차명진 제명</td>\n",
       "      <td>통합당, 긴급 최고위서 직권 의결… 수도권 전체 판세에 악영향 판단강원선 김진태 선...</td>\n",
       "    </tr>\n",
       "    <tr>\n",
       "      <th>74616</th>\n",
       "      <td>정봉주 “나를 개쓰레기 취급” 與 막말 비난</td>\n",
       "      <td>논란 일자 “부적절한 표현” 사과\\n\\n\\n\\n열린민주당 정봉주 최고위원(사진)이 ...</td>\n",
       "    </tr>\n",
       "    <tr>\n",
       "      <th>74617</th>\n",
       "      <td>민주당 “아직 2% 부족” vs 통합당 “100석도 위태”</td>\n",
       "      <td>이해찬 “수도권 121석중 70곳 경합”박형준 “개헌 저지선도 무너질 위기” 김종인...</td>\n",
       "    </tr>\n",
       "    <tr>\n",
       "      <th>74618</th>\n",
       "      <td>[총선2020] 범여권, '오세훈만 떨어뜨리면 된다' 계산 섰나</td>\n",
       "      <td>민주당 핵심 당직자들, 한날 광진을 지원방문'촛불시민모임' '대진연' 등도 계속해 ...</td>\n",
       "    </tr>\n",
       "    <tr>\n",
       "      <th>74619</th>\n",
       "      <td>아일랜드 중도우파 양대정당, 사상 첫 연정 '사실상 합의'</td>\n",
       "      <td>\"양 정당 대표 합의안 검토…승인 후 제3당 참여 위해 공유\"녹색당·노동당·사회민주...</td>\n",
       "    </tr>\n",
       "  </tbody>\n",
       "</table>\n",
       "<p>74620 rows × 2 columns</p>\n",
       "</div>"
      ],
      "text/plain": [
       "                                            title  \\\n",
       "0           김의겸 편지 호소에 野\"피해자 코스프레\", 진중권 \"너절하게 군다\"   \n",
       "1                보수野 \"김의겸, 피해자 코스프레 하고 있어…뻔뻔함 극치\"   \n",
       "2                       고민정 2일 민주당 입당…출마 거론되는 지역은   \n",
       "3      고민정, 내일(2일) 민주당 입당…추미애 지역구 광진 출마로 오세훈과 맞붙나   \n",
       "4      김의겸, '이해찬 대표님께' 간곡한 호소글 \"군산 예비후보로 뛸 수만 있게\"   \n",
       "...                                           ...   \n",
       "74615                       ‘세월호 막말’ 닷새만에… 차명진 제명   \n",
       "74616                    정봉주 “나를 개쓰레기 취급” 與 막말 비난   \n",
       "74617            민주당 “아직 2% 부족” vs 통합당 “100석도 위태”   \n",
       "74618         [총선2020] 범여권, '오세훈만 떨어뜨리면 된다' 계산 섰나   \n",
       "74619            아일랜드 중도우파 양대정당, 사상 첫 연정 '사실상 합의'   \n",
       "\n",
       "                                                 content  \n",
       "0      김의겸, 이해찬 대표에 호소 편지 보내 또다른 논란 \\n\\n\\n\\n \\n\\n\\n\\n...  \n",
       "1      한국 \"대통령 덕 볼 요량 버리고 당당히 무소속 출마하길\"바른미래 \"기어이 출마하려...  \n",
       "2      [사진 = 연합뉴스] 더불어민주당은 1일 고민정 전 청와대 대변인이 오는 2일 입당...  \n",
       "3      고민정, 2일 민주당 입당광진 고양 등 수도권 출마 가능성\\n\\n\\n\\n사진=연합뉴...  \n",
       "4      김의겸, 이번엔 이해찬에 공개 편지\"민주당 저에게만 가혹..기회 달라\"김의겸 \"군산...  \n",
       "...                                                  ...  \n",
       "74615  통합당, 긴급 최고위서 직권 의결… 수도권 전체 판세에 악영향 판단강원선 김진태 선...  \n",
       "74616  논란 일자 “부적절한 표현” 사과\\n\\n\\n\\n열린민주당 정봉주 최고위원(사진)이 ...  \n",
       "74617  이해찬 “수도권 121석중 70곳 경합”박형준 “개헌 저지선도 무너질 위기” 김종인...  \n",
       "74618  민주당 핵심 당직자들, 한날 광진을 지원방문'촛불시민모임' '대진연' 등도 계속해 ...  \n",
       "74619  \"양 정당 대표 합의안 검토…승인 후 제3당 참여 위해 공유\"녹색당·노동당·사회민주...  \n",
       "\n",
       "[74620 rows x 2 columns]"
      ]
     },
     "execution_count": 10,
     "metadata": {},
     "output_type": "execute_result"
    }
   ],
   "source": [
    "df_2020_1\n",
    "df_2020_234"
   ]
  },
  {
   "cell_type": "code",
   "execution_count": 12,
   "id": "1b5b543b",
   "metadata": {
    "ExecuteTime": {
     "end_time": "2024-03-08T00:01:10.002332Z",
     "start_time": "2024-03-08T00:01:07.943660Z"
    }
   },
   "outputs": [],
   "source": [
    "df_news = pd.concat([df_2020_1, df_2020_234])\n",
    "df_news.to_csv('df_news.csv', index = False)"
   ]
  },
  {
   "cell_type": "markdown",
   "id": "37b5d91f",
   "metadata": {},
   "source": [
    "# 전처리"
   ]
  },
  {
   "cell_type": "code",
   "execution_count": 13,
   "id": "f8ae293c",
   "metadata": {
    "ExecuteTime": {
     "end_time": "2024-03-08T00:01:35.473291Z",
     "start_time": "2024-03-08T00:01:33.306293Z"
    }
   },
   "outputs": [
    {
     "data": {
      "text/html": [
       "<div>\n",
       "<style scoped>\n",
       "    .dataframe tbody tr th:only-of-type {\n",
       "        vertical-align: middle;\n",
       "    }\n",
       "\n",
       "    .dataframe tbody tr th {\n",
       "        vertical-align: top;\n",
       "    }\n",
       "\n",
       "    .dataframe thead th {\n",
       "        text-align: right;\n",
       "    }\n",
       "</style>\n",
       "<table border=\"1\" class=\"dataframe\">\n",
       "  <thead>\n",
       "    <tr style=\"text-align: right;\">\n",
       "      <th></th>\n",
       "      <th>title</th>\n",
       "      <th>content</th>\n",
       "    </tr>\n",
       "  </thead>\n",
       "  <tbody>\n",
       "    <tr>\n",
       "      <th>0</th>\n",
       "      <td>유시민 \"검찰도 사법도 썩었지\" vs 진중권 \"유시민 망상, 대중은 현실로 믿어\"</td>\n",
       "      <td>JTBC 신년토론서 격돌조국 전 장관 사태와 '유시민의 알릴레오' 두고 논쟁\\n\\n...</td>\n",
       "    </tr>\n",
       "    <tr>\n",
       "      <th>1</th>\n",
       "      <td>특정 정당 맹목적 지지 없어…진보진영 유리 장담 못해 [신년 기획 - 21대 총선 분석]</td>\n",
       "      <td>ㆍ사상 첫 18세 투표 영향은신규 유입 유권자 약 53만명여야, 청소년 전략 마련 ...</td>\n",
       "    </tr>\n",
       "    <tr>\n",
       "      <th>2</th>\n",
       "      <td>한국당 \"울산시장 선거 정황 의심\"…추미애 고발</td>\n",
       "      <td>[머니투데이 한고은 기자] \\n\\n\\n\\n(서울=뉴스1) 임세영 기자 = 곽상도 자...</td>\n",
       "    </tr>\n",
       "    <tr>\n",
       "      <th>3</th>\n",
       "      <td>한국당, 추미애 檢 고발..\"선거법 위반\"</td>\n",
       "      <td>곽상도 친문농단특위 위원장, 1일 고발\"지방선거 전 송철호에 靑행정관 소개\"\"공무상...</td>\n",
       "    </tr>\n",
       "    <tr>\n",
       "      <th>4</th>\n",
       "      <td>文의장 \"검찰·선거개혁 단초 열어 보람…소명 다할 것\"</td>\n",
       "      <td>\"공수처는 金·盧·文 세 대통령의 숙원이자 꿈\"  한국당 '아빠 찬스, 아들 공천'...</td>\n",
       "    </tr>\n",
       "    <tr>\n",
       "      <th>...</th>\n",
       "      <td>...</td>\n",
       "      <td>...</td>\n",
       "    </tr>\n",
       "    <tr>\n",
       "      <th>98225</th>\n",
       "      <td>‘세월호 막말’ 닷새만에… 차명진 제명</td>\n",
       "      <td>통합당, 긴급 최고위서 직권 의결… 수도권 전체 판세에 악영향 판단강원선 김진태 선...</td>\n",
       "    </tr>\n",
       "    <tr>\n",
       "      <th>98226</th>\n",
       "      <td>정봉주 “나를 개쓰레기 취급” 與 막말 비난</td>\n",
       "      <td>논란 일자 “부적절한 표현” 사과\\n\\n\\n\\n열린민주당 정봉주 최고위원(사진)이 ...</td>\n",
       "    </tr>\n",
       "    <tr>\n",
       "      <th>98227</th>\n",
       "      <td>민주당 “아직 2% 부족” vs 통합당 “100석도 위태”</td>\n",
       "      <td>이해찬 “수도권 121석중 70곳 경합”박형준 “개헌 저지선도 무너질 위기” 김종인...</td>\n",
       "    </tr>\n",
       "    <tr>\n",
       "      <th>98228</th>\n",
       "      <td>[총선2020] 범여권, '오세훈만 떨어뜨리면 된다' 계산 섰나</td>\n",
       "      <td>민주당 핵심 당직자들, 한날 광진을 지원방문'촛불시민모임' '대진연' 등도 계속해 ...</td>\n",
       "    </tr>\n",
       "    <tr>\n",
       "      <th>98229</th>\n",
       "      <td>아일랜드 중도우파 양대정당, 사상 첫 연정 '사실상 합의'</td>\n",
       "      <td>\"양 정당 대표 합의안 검토…승인 후 제3당 참여 위해 공유\"녹색당·노동당·사회민주...</td>\n",
       "    </tr>\n",
       "  </tbody>\n",
       "</table>\n",
       "<p>98230 rows × 2 columns</p>\n",
       "</div>"
      ],
      "text/plain": [
       "                                                   title  \\\n",
       "0          유시민 \"검찰도 사법도 썩었지\" vs 진중권 \"유시민 망상, 대중은 현실로 믿어\"   \n",
       "1      특정 정당 맹목적 지지 없어…진보진영 유리 장담 못해 [신년 기획 - 21대 총선 분석]   \n",
       "2                             한국당 \"울산시장 선거 정황 의심\"…추미애 고발   \n",
       "3                                한국당, 추미애 檢 고발..\"선거법 위반\"   \n",
       "4                         文의장 \"검찰·선거개혁 단초 열어 보람…소명 다할 것\"   \n",
       "...                                                  ...   \n",
       "98225                              ‘세월호 막말’ 닷새만에… 차명진 제명   \n",
       "98226                           정봉주 “나를 개쓰레기 취급” 與 막말 비난   \n",
       "98227                   민주당 “아직 2% 부족” vs 통합당 “100석도 위태”   \n",
       "98228                [총선2020] 범여권, '오세훈만 떨어뜨리면 된다' 계산 섰나   \n",
       "98229                   아일랜드 중도우파 양대정당, 사상 첫 연정 '사실상 합의'   \n",
       "\n",
       "                                                 content  \n",
       "0      JTBC 신년토론서 격돌조국 전 장관 사태와 '유시민의 알릴레오' 두고 논쟁\\n\\n...  \n",
       "1      ㆍ사상 첫 18세 투표 영향은신규 유입 유권자 약 53만명여야, 청소년 전략 마련 ...  \n",
       "2      [머니투데이 한고은 기자] \\n\\n\\n\\n(서울=뉴스1) 임세영 기자 = 곽상도 자...  \n",
       "3      곽상도 친문농단특위 위원장, 1일 고발\"지방선거 전 송철호에 靑행정관 소개\"\"공무상...  \n",
       "4      \"공수처는 金·盧·文 세 대통령의 숙원이자 꿈\"  한국당 '아빠 찬스, 아들 공천'...  \n",
       "...                                                  ...  \n",
       "98225  통합당, 긴급 최고위서 직권 의결… 수도권 전체 판세에 악영향 판단강원선 김진태 선...  \n",
       "98226  논란 일자 “부적절한 표현” 사과\\n\\n\\n\\n열린민주당 정봉주 최고위원(사진)이 ...  \n",
       "98227  이해찬 “수도권 121석중 70곳 경합”박형준 “개헌 저지선도 무너질 위기” 김종인...  \n",
       "98228  민주당 핵심 당직자들, 한날 광진을 지원방문'촛불시민모임' '대진연' 등도 계속해 ...  \n",
       "98229  \"양 정당 대표 합의안 검토…승인 후 제3당 참여 위해 공유\"녹색당·노동당·사회민주...  \n",
       "\n",
       "[98230 rows x 2 columns]"
      ]
     },
     "execution_count": 13,
     "metadata": {},
     "output_type": "execute_result"
    }
   ],
   "source": [
    "df_news = pd.read_csv('./df_news.csv')\n",
    "\n",
    "df_news"
   ]
  },
  {
   "cell_type": "code",
   "execution_count": null,
   "id": "d4762410",
   "metadata": {},
   "outputs": [],
   "source": []
  },
  {
   "cell_type": "code",
   "execution_count": null,
   "id": "690a83a8",
   "metadata": {},
   "outputs": [],
   "source": []
  },
  {
   "cell_type": "code",
   "execution_count": null,
   "id": "42503af1",
   "metadata": {},
   "outputs": [],
   "source": []
  },
  {
   "cell_type": "code",
   "execution_count": null,
   "id": "9ad780c1",
   "metadata": {},
   "outputs": [],
   "source": []
  },
  {
   "cell_type": "code",
   "execution_count": null,
   "id": "f382f27b",
   "metadata": {},
   "outputs": [],
   "source": []
  },
  {
   "cell_type": "code",
   "execution_count": null,
   "id": "3043506c",
   "metadata": {},
   "outputs": [],
   "source": []
  },
  {
   "cell_type": "code",
   "execution_count": null,
   "id": "f731b7f2",
   "metadata": {},
   "outputs": [],
   "source": []
  },
  {
   "cell_type": "code",
   "execution_count": null,
   "id": "3da94db5",
   "metadata": {},
   "outputs": [],
   "source": []
  },
  {
   "cell_type": "code",
   "execution_count": null,
   "id": "56072483",
   "metadata": {},
   "outputs": [],
   "source": []
  },
  {
   "cell_type": "code",
   "execution_count": null,
   "id": "fb406074",
   "metadata": {},
   "outputs": [],
   "source": []
  },
  {
   "cell_type": "code",
   "execution_count": null,
   "id": "b264429f",
   "metadata": {},
   "outputs": [],
   "source": []
  }
 ],
 "metadata": {
  "kernelspec": {
   "display_name": "Python 3 (ipykernel)",
   "language": "python",
   "name": "python3"
  },
  "language_info": {
   "codemirror_mode": {
    "name": "ipython",
    "version": 3
   },
   "file_extension": ".py",
   "mimetype": "text/x-python",
   "name": "python",
   "nbconvert_exporter": "python",
   "pygments_lexer": "ipython3",
   "version": "3.11.5"
  },
  "toc": {
   "base_numbering": 1,
   "nav_menu": {},
   "number_sections": true,
   "sideBar": true,
   "skip_h1_title": false,
   "title_cell": "Table of Contents",
   "title_sidebar": "Contents",
   "toc_cell": false,
   "toc_position": {
    "height": "calc(100% - 180px)",
    "left": "10px",
    "top": "150px",
    "width": "165px"
   },
   "toc_section_display": true,
   "toc_window_display": true
  }
 },
 "nbformat": 4,
 "nbformat_minor": 5
}
