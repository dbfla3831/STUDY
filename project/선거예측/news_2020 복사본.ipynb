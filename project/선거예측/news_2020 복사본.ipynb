{
 "cells": [
  {
   "cell_type": "markdown",
   "id": "fb5c81ea",
   "metadata": {
    "id": "fb5c81ea"
   },
   "source": [
    "# 네이버 뉴스 가져오기"
   ]
  },
  {
   "cell_type": "markdown",
   "id": "76911d9e",
   "metadata": {
    "id": "76911d9e"
   },
   "source": [
    "<br>\n",
    "\n",
    "2020년1월1일 ~ 2020년 4월 14일 데이터 가져오기"
   ]
  },
  {
   "cell_type": "markdown",
   "id": "732dc83a",
   "metadata": {
    "id": "732dc83a"
   },
   "source": [
    "'기사 더보기' 누르기 전 -> 기사가 몇개 없음\n",
    "\n",
    "=> 동적으로 변경"
   ]
  },
  {
   "cell_type": "markdown",
   "id": "8ce4254e",
   "metadata": {
    "id": "8ce4254e"
   },
   "source": [
    "<br>\n",
    "\n",
    "동적으로 변경"
   ]
  },
  {
   "cell_type": "code",
   "execution_count": 1,
   "id": "097fc273",
   "metadata": {
    "ExecuteTime": {
     "end_time": "2024-03-13T07:09:58.510167Z",
     "start_time": "2024-03-13T07:09:58.141892Z"
    },
    "executionInfo": {
     "elapsed": 1246,
     "status": "ok",
     "timestamp": 1709863883185,
     "user": {
      "displayName": "김유림",
      "userId": "09242611142827377637"
     },
     "user_tz": -540
    },
    "id": "097fc273"
   },
   "outputs": [],
   "source": [
    "import urllib.request\n",
    "from bs4 import BeautifulSoup # 특정 웹 페이지의 HTML을 스크랩하여 데이터를 수집할 때 사용\n",
    "import pandas as pd\n",
    "import numpy as np\n",
    "import re\n",
    "\n",
    "# from selenium import webdriver\n",
    "# from selenium.webdriver.common.by import By\n",
    "# from selenium.webdriver.support.ui import WebDriverWait\n",
    "# from selenium.webdriver.support import expected_conditions as EC\n",
    "# from bs4 import BeautifulSoup\n",
    "# import time\n",
    "from tqdm import tqdm\n",
    "\n",
    "from IPython.core.interactiveshell import InteractiveShell\n",
    "InteractiveShell.ast_node_interactivity = 'all'"
   ]
  },
  {
   "cell_type": "code",
   "execution_count": 2,
   "id": "09700b8d",
   "metadata": {
    "ExecuteTime": {
     "end_time": "2024-03-13T07:09:58.512383Z",
     "start_time": "2024-03-13T07:09:58.511067Z"
    },
    "id": "09700b8d"
   },
   "outputs": [],
   "source": [
    "# ! pip install lxml\n",
    "# ! pip install html5lib"
   ]
  },
  {
   "cell_type": "code",
   "execution_count": 3,
   "id": "b63f264d",
   "metadata": {
    "ExecuteTime": {
     "end_time": "2024-03-13T07:09:58.514213Z",
     "start_time": "2024-03-13T07:09:58.512912Z"
    },
    "id": "b63f264d"
   },
   "outputs": [],
   "source": [
    "# 날짜 가져오기\n",
    "# 시작 날짜와 끝 날짜 설정\n",
    "# import datetime\n",
    "# start_date = datetime.date(2020, 1, 1)\n",
    "# end_date = datetime.date(2020, 4, 14)"
   ]
  },
  {
   "cell_type": "code",
   "execution_count": 4,
   "id": "3241d506",
   "metadata": {
    "ExecuteTime": {
     "end_time": "2024-03-13T07:09:58.517044Z",
     "start_time": "2024-03-13T07:09:58.515345Z"
    },
    "id": "3241d506",
    "scrolled": true
   },
   "outputs": [],
   "source": [
    "# # 웹 드라이버 시작\n",
    "# driver = webdriver.Chrome()\n",
    "# df_2020 = pd.DataFrame()\n",
    "\n",
    "# # 네이버 뉴스 페이지로 이동\n",
    "# current_date = start_date\n",
    "# while current_date <= end_date:\n",
    "#     formatted_date = current_date.strftime(\"%Y%m%d\")\n",
    "\n",
    "#     driver.get('https://news.naver.com/breakingnews/section/100/265?date={}'.format(formatted_date))\n",
    "\n",
    "#     # '기사 더보기'없을 때까지\n",
    "#     try:\n",
    "#         while True:\n",
    "#             elem1 = driver.find_element(By.CLASS_NAME, \"section_more_inner._CONTENT_LIST_LOAD_MORE_BUTTON\")\n",
    "#             elem1.click()\n",
    "#             time.sleep(1)  # 대기\n",
    "#     except Exception as e:\n",
    "#         print(e)\n",
    "\n",
    "\n",
    "\n",
    "#     # 페이지 소스 가져오기\n",
    "#     page_source = driver.page_source\n",
    "\n",
    "#     # BeautifulSoup을 사용하여 페이지 소스를 파싱\n",
    "#     soup = BeautifulSoup(page_source, 'html.parser')\n",
    "\n",
    "#     # 제목 가져오기\n",
    "#     titles = soup.select('div.section_latest > div > div.section_latest_article._CONTENT_LIST._PERSIST_META > \\\n",
    "#                               div > ul > li > div > div > div.sa_text > a > strong.sa_text_strong')\n",
    "\n",
    "#     # 링크 가져오기\n",
    "#     links = soup.select('div.section_latest > div > div.section_latest_article._CONTENT_LIST._PERSIST_META > \\\n",
    "#                               div > ul > li > div > div > div.sa_text > a')\n",
    "\n",
    "#     title_lst = []\n",
    "#     content_lst = []\n",
    "\n",
    "#     # 링크로 이동해서 내용 가져오기\n",
    "#     for title, link in tqdm(zip(titles, links)):\n",
    "#         article_link = link['href'] # 링크 가져오기\n",
    "#         driver.get(article_link) # 링크로 이동\n",
    "\n",
    "#         # 페이지 소스 가져오기\n",
    "#         article_page_source = driver.page_source\n",
    "#         article_soup = BeautifulSoup(article_page_source, 'lxml')\n",
    "\n",
    "#         # 내용 가져오기\n",
    "#         content = article_soup.select_one('div.ct_wrap > div.ct_scroll_wrapper > div#newsct > div#ct > div#contents > \\\n",
    "#                             div#newsct_article > article#dic_area')\n",
    "\n",
    "#         if content:\n",
    "#             content_lst.append(content.text.strip())\n",
    "#         else:\n",
    "#             content_lst.append('No content available') # 내용이 없는 경우 예외 처리\n",
    "\n",
    "#         title_lst.append(title.string)\n",
    "\n",
    "\n",
    "#     # 데이터 저장\n",
    "#     df = pd.DataFrame({'title' : title_lst, 'content' : content_lst})\n",
    "#     df_2020 = pd.concat([df_2020,df], ignore_index=True)\n",
    "\n",
    "#     current_date += datetime.timedelta(days=1)\n",
    "\n",
    "# # 웹 드라이버 종료\n",
    "# driver.quit()\n",
    "\n",
    "# df_2020.to_csv('2020_234_news.csv', index = False)"
   ]
  },
  {
   "cell_type": "code",
   "execution_count": 5,
   "id": "8e690bcb",
   "metadata": {
    "ExecuteTime": {
     "end_time": "2024-03-13T07:09:58.518711Z",
     "start_time": "2024-03-13T07:09:58.517507Z"
    },
    "id": "8e690bcb"
   },
   "outputs": [],
   "source": [
    "# df_2020_1 = pd.read_csv('./2020_1_news.csv')\n",
    "# df_2020_234 = pd.read_csv('./2020_234_news.csv')"
   ]
  },
  {
   "cell_type": "code",
   "execution_count": 6,
   "id": "f44c8204",
   "metadata": {
    "ExecuteTime": {
     "end_time": "2024-03-13T07:09:58.520555Z",
     "start_time": "2024-03-13T07:09:58.519290Z"
    },
    "id": "f44c8204",
    "outputId": "8fc465d7-dda6-4deb-a7ce-f4042f45ff27"
   },
   "outputs": [],
   "source": [
    "# df_2020_1\n",
    "# df_2020_234"
   ]
  },
  {
   "cell_type": "code",
   "execution_count": 7,
   "id": "1b5b543b",
   "metadata": {
    "ExecuteTime": {
     "end_time": "2024-03-13T07:09:58.522260Z",
     "start_time": "2024-03-13T07:09:58.521007Z"
    },
    "id": "1b5b543b"
   },
   "outputs": [],
   "source": [
    "# df_news = pd.concat([df_2020_1, df_2020_234])\n",
    "# df_news.to_csv('df_news.csv', index = False)"
   ]
  },
  {
   "cell_type": "markdown",
   "id": "96108a31",
   "metadata": {
    "id": "96108a31"
   },
   "source": [
    "# 전처리"
   ]
  },
  {
   "cell_type": "code",
   "execution_count": 8,
   "id": "71f1ed31",
   "metadata": {
    "ExecuteTime": {
     "end_time": "2024-03-13T07:10:00.158017Z",
     "start_time": "2024-03-13T07:09:58.522730Z"
    },
    "colab": {
     "base_uri": "https://localhost:8080/",
     "height": 597
    },
    "executionInfo": {
     "elapsed": 14335,
     "status": "ok",
     "timestamp": 1709863899676,
     "user": {
      "displayName": "김유림",
      "userId": "09242611142827377637"
     },
     "user_tz": -540
    },
    "id": "71f1ed31",
    "outputId": "600a1e2f-c83d-4100-e340-c67b413651cb"
   },
   "outputs": [
    {
     "data": {
      "text/html": [
       "<div>\n",
       "<style scoped>\n",
       "    .dataframe tbody tr th:only-of-type {\n",
       "        vertical-align: middle;\n",
       "    }\n",
       "\n",
       "    .dataframe tbody tr th {\n",
       "        vertical-align: top;\n",
       "    }\n",
       "\n",
       "    .dataframe thead th {\n",
       "        text-align: right;\n",
       "    }\n",
       "</style>\n",
       "<table border=\"1\" class=\"dataframe\">\n",
       "  <thead>\n",
       "    <tr style=\"text-align: right;\">\n",
       "      <th></th>\n",
       "      <th>title</th>\n",
       "      <th>content</th>\n",
       "    </tr>\n",
       "  </thead>\n",
       "  <tbody>\n",
       "    <tr>\n",
       "      <th>0</th>\n",
       "      <td>유시민 \"검찰도 사법도 썩었지\" vs 진중권 \"유시민 망상, 대중은 현실로 믿어\"</td>\n",
       "      <td>JTBC 신년토론서 격돌조국 전 장관 사태와 '유시민의 알릴레오' 두고 논쟁\\n\\n...</td>\n",
       "    </tr>\n",
       "    <tr>\n",
       "      <th>1</th>\n",
       "      <td>특정 정당 맹목적 지지 없어…진보진영 유리 장담 못해 [신년 기획 - 21대 총선 분석]</td>\n",
       "      <td>ㆍ사상 첫 18세 투표 영향은신규 유입 유권자 약 53만명여야, 청소년 전략 마련 ...</td>\n",
       "    </tr>\n",
       "    <tr>\n",
       "      <th>2</th>\n",
       "      <td>한국당 \"울산시장 선거 정황 의심\"…추미애 고발</td>\n",
       "      <td>[머니투데이 한고은 기자] \\n\\n\\n\\n(서울=뉴스1) 임세영 기자 = 곽상도 자...</td>\n",
       "    </tr>\n",
       "    <tr>\n",
       "      <th>3</th>\n",
       "      <td>한국당, 추미애 檢 고발..\"선거법 위반\"</td>\n",
       "      <td>곽상도 친문농단특위 위원장, 1일 고발\"지방선거 전 송철호에 靑행정관 소개\"\"공무상...</td>\n",
       "    </tr>\n",
       "    <tr>\n",
       "      <th>4</th>\n",
       "      <td>文의장 \"검찰·선거개혁 단초 열어 보람…소명 다할 것\"</td>\n",
       "      <td>\"공수처는 金·盧·文 세 대통령의 숙원이자 꿈\"  한국당 '아빠 찬스, 아들 공천'...</td>\n",
       "    </tr>\n",
       "    <tr>\n",
       "      <th>...</th>\n",
       "      <td>...</td>\n",
       "      <td>...</td>\n",
       "    </tr>\n",
       "    <tr>\n",
       "      <th>98225</th>\n",
       "      <td>‘세월호 막말’ 닷새만에… 차명진 제명</td>\n",
       "      <td>통합당, 긴급 최고위서 직권 의결… 수도권 전체 판세에 악영향 판단강원선 김진태 선...</td>\n",
       "    </tr>\n",
       "    <tr>\n",
       "      <th>98226</th>\n",
       "      <td>정봉주 “나를 개쓰레기 취급” 與 막말 비난</td>\n",
       "      <td>논란 일자 “부적절한 표현” 사과\\n\\n\\n\\n열린민주당 정봉주 최고위원(사진)이 ...</td>\n",
       "    </tr>\n",
       "    <tr>\n",
       "      <th>98227</th>\n",
       "      <td>민주당 “아직 2% 부족” vs 통합당 “100석도 위태”</td>\n",
       "      <td>이해찬 “수도권 121석중 70곳 경합”박형준 “개헌 저지선도 무너질 위기” 김종인...</td>\n",
       "    </tr>\n",
       "    <tr>\n",
       "      <th>98228</th>\n",
       "      <td>[총선2020] 범여권, '오세훈만 떨어뜨리면 된다' 계산 섰나</td>\n",
       "      <td>민주당 핵심 당직자들, 한날 광진을 지원방문'촛불시민모임' '대진연' 등도 계속해 ...</td>\n",
       "    </tr>\n",
       "    <tr>\n",
       "      <th>98229</th>\n",
       "      <td>아일랜드 중도우파 양대정당, 사상 첫 연정 '사실상 합의'</td>\n",
       "      <td>\"양 정당 대표 합의안 검토…승인 후 제3당 참여 위해 공유\"녹색당·노동당·사회민주...</td>\n",
       "    </tr>\n",
       "  </tbody>\n",
       "</table>\n",
       "<p>98230 rows × 2 columns</p>\n",
       "</div>"
      ],
      "text/plain": [
       "                                                   title  \\\n",
       "0          유시민 \"검찰도 사법도 썩었지\" vs 진중권 \"유시민 망상, 대중은 현실로 믿어\"   \n",
       "1      특정 정당 맹목적 지지 없어…진보진영 유리 장담 못해 [신년 기획 - 21대 총선 분석]   \n",
       "2                             한국당 \"울산시장 선거 정황 의심\"…추미애 고발   \n",
       "3                                한국당, 추미애 檢 고발..\"선거법 위반\"   \n",
       "4                         文의장 \"검찰·선거개혁 단초 열어 보람…소명 다할 것\"   \n",
       "...                                                  ...   \n",
       "98225                              ‘세월호 막말’ 닷새만에… 차명진 제명   \n",
       "98226                           정봉주 “나를 개쓰레기 취급” 與 막말 비난   \n",
       "98227                   민주당 “아직 2% 부족” vs 통합당 “100석도 위태”   \n",
       "98228                [총선2020] 범여권, '오세훈만 떨어뜨리면 된다' 계산 섰나   \n",
       "98229                   아일랜드 중도우파 양대정당, 사상 첫 연정 '사실상 합의'   \n",
       "\n",
       "                                                 content  \n",
       "0      JTBC 신년토론서 격돌조국 전 장관 사태와 '유시민의 알릴레오' 두고 논쟁\\n\\n...  \n",
       "1      ㆍ사상 첫 18세 투표 영향은신규 유입 유권자 약 53만명여야, 청소년 전략 마련 ...  \n",
       "2      [머니투데이 한고은 기자] \\n\\n\\n\\n(서울=뉴스1) 임세영 기자 = 곽상도 자...  \n",
       "3      곽상도 친문농단특위 위원장, 1일 고발\"지방선거 전 송철호에 靑행정관 소개\"\"공무상...  \n",
       "4      \"공수처는 金·盧·文 세 대통령의 숙원이자 꿈\"  한국당 '아빠 찬스, 아들 공천'...  \n",
       "...                                                  ...  \n",
       "98225  통합당, 긴급 최고위서 직권 의결… 수도권 전체 판세에 악영향 판단강원선 김진태 선...  \n",
       "98226  논란 일자 “부적절한 표현” 사과\\n\\n\\n\\n열린민주당 정봉주 최고위원(사진)이 ...  \n",
       "98227  이해찬 “수도권 121석중 70곳 경합”박형준 “개헌 저지선도 무너질 위기” 김종인...  \n",
       "98228  민주당 핵심 당직자들, 한날 광진을 지원방문'촛불시민모임' '대진연' 등도 계속해 ...  \n",
       "98229  \"양 정당 대표 합의안 검토…승인 후 제3당 참여 위해 공유\"녹색당·노동당·사회민주...  \n",
       "\n",
       "[98230 rows x 2 columns]"
      ]
     },
     "execution_count": 8,
     "metadata": {},
     "output_type": "execute_result"
    }
   ],
   "source": [
    "df_news = pd.read_csv('./data/news_2020.csv')\n",
    "\n",
    "df_news"
   ]
  },
  {
   "cell_type": "code",
   "execution_count": 9,
   "id": "3c4a7b46",
   "metadata": {
    "ExecuteTime": {
     "end_time": "2024-03-13T07:10:00.165811Z",
     "start_time": "2024-03-13T07:10:00.158758Z"
    },
    "colab": {
     "base_uri": "https://localhost:8080/",
     "height": 424
    },
    "executionInfo": {
     "elapsed": 6,
     "status": "ok",
     "timestamp": 1709860696176,
     "user": {
      "displayName": "김유림",
      "userId": "09242611142827377637"
     },
     "user_tz": -540
    },
    "id": "3c4a7b46",
    "outputId": "a696b760-1172-41e2-b0e6-c7e7fab73790"
   },
   "outputs": [
    {
     "data": {
      "text/html": [
       "<div>\n",
       "<style scoped>\n",
       "    .dataframe tbody tr th:only-of-type {\n",
       "        vertical-align: middle;\n",
       "    }\n",
       "\n",
       "    .dataframe tbody tr th {\n",
       "        vertical-align: top;\n",
       "    }\n",
       "\n",
       "    .dataframe thead th {\n",
       "        text-align: right;\n",
       "    }\n",
       "</style>\n",
       "<table border=\"1\" class=\"dataframe\">\n",
       "  <thead>\n",
       "    <tr style=\"text-align: right;\">\n",
       "      <th></th>\n",
       "      <th>title</th>\n",
       "      <th>content</th>\n",
       "    </tr>\n",
       "  </thead>\n",
       "  <tbody>\n",
       "    <tr>\n",
       "      <th>4149</th>\n",
       "      <td>[21대 총선] 광주 동남갑, '3선 장병완' 민주당 도전 막아낼까</td>\n",
       "      <td>No content available</td>\n",
       "    </tr>\n",
       "    <tr>\n",
       "      <th>4296</th>\n",
       "      <td>'암벽여제' 김자인, 남편 민주당 입당에 \"믿고 응원\"</td>\n",
       "      <td>No content available</td>\n",
       "    </tr>\n",
       "    <tr>\n",
       "      <th>5594</th>\n",
       "      <td>'욱토크' 박지원 \"문재인 정부, 제일 못하는 건 청년실업 문제\"</td>\n",
       "      <td>No content available</td>\n",
       "    </tr>\n",
       "    <tr>\n",
       "      <th>5596</th>\n",
       "      <td>'욱토크' 박지원 \"홍준표, 친분 있지만 사이 나쁘다…나한테 못 당해\"</td>\n",
       "      <td>No content available</td>\n",
       "    </tr>\n",
       "    <tr>\n",
       "      <th>5677</th>\n",
       "      <td>정민당 \"'음원사재기' 송하예 소속사 고발\"...송하예 측 \"사실무근·법적대응\"</td>\n",
       "      <td>No content available</td>\n",
       "    </tr>\n",
       "    <tr>\n",
       "      <th>...</th>\n",
       "      <td>...</td>\n",
       "      <td>...</td>\n",
       "    </tr>\n",
       "    <tr>\n",
       "      <th>88799</th>\n",
       "      <td>'황교안을 향한 손짓'</td>\n",
       "      <td>No content available</td>\n",
       "    </tr>\n",
       "    <tr>\n",
       "      <th>88976</th>\n",
       "      <td>이낙연 위원장 '황기철 후보 믿어주세요'</td>\n",
       "      <td>No content available</td>\n",
       "    </tr>\n",
       "    <tr>\n",
       "      <th>92764</th>\n",
       "      <td>유세하는 이낙연</td>\n",
       "      <td>No content available</td>\n",
       "    </tr>\n",
       "    <tr>\n",
       "      <th>96636</th>\n",
       "      <td>연매협 \"김근태 후보, 연예인 이용 이슈몰이…직접 소명해야\"</td>\n",
       "      <td>No content available</td>\n",
       "    </tr>\n",
       "    <tr>\n",
       "      <th>97184</th>\n",
       "      <td>이해찬 \"과반 정당 만들어야 文대통령 남은 임기 안정적\"(종합)</td>\n",
       "      <td>No content available</td>\n",
       "    </tr>\n",
       "  </tbody>\n",
       "</table>\n",
       "<p>114 rows × 2 columns</p>\n",
       "</div>"
      ],
      "text/plain": [
       "                                              title               content\n",
       "4149          [21대 총선] 광주 동남갑, '3선 장병완' 민주당 도전 막아낼까  No content available\n",
       "4296                 '암벽여제' 김자인, 남편 민주당 입당에 \"믿고 응원\"  No content available\n",
       "5594           '욱토크' 박지원 \"문재인 정부, 제일 못하는 건 청년실업 문제\"  No content available\n",
       "5596        '욱토크' 박지원 \"홍준표, 친분 있지만 사이 나쁘다…나한테 못 당해\"  No content available\n",
       "5677   정민당 \"'음원사재기' 송하예 소속사 고발\"...송하예 측 \"사실무근·법적대응\"  No content available\n",
       "...                                             ...                   ...\n",
       "88799                                  '황교안을 향한 손짓'  No content available\n",
       "88976                        이낙연 위원장 '황기철 후보 믿어주세요'  No content available\n",
       "92764                                      유세하는 이낙연  No content available\n",
       "96636             연매협 \"김근태 후보, 연예인 이용 이슈몰이…직접 소명해야\"  No content available\n",
       "97184           이해찬 \"과반 정당 만들어야 文대통령 남은 임기 안정적\"(종합)  No content available\n",
       "\n",
       "[114 rows x 2 columns]"
      ]
     },
     "execution_count": 9,
     "metadata": {},
     "output_type": "execute_result"
    }
   ],
   "source": [
    "df_news[df_news['content'] == 'No content available']"
   ]
  },
  {
   "cell_type": "markdown",
   "id": "64fb9cad",
   "metadata": {
    "id": "64fb9cad"
   },
   "source": [
    "## 필요없는 문자 제거"
   ]
  },
  {
   "cell_type": "code",
   "execution_count": 10,
   "id": "c9c0a430",
   "metadata": {
    "ExecuteTime": {
     "end_time": "2024-03-13T07:10:00.191410Z",
     "start_time": "2024-03-13T07:10:00.167448Z"
    }
   },
   "outputs": [
    {
     "data": {
      "text/html": [
       "<div>\n",
       "<style scoped>\n",
       "    .dataframe tbody tr th:only-of-type {\n",
       "        vertical-align: middle;\n",
       "    }\n",
       "\n",
       "    .dataframe tbody tr th {\n",
       "        vertical-align: top;\n",
       "    }\n",
       "\n",
       "    .dataframe thead th {\n",
       "        text-align: right;\n",
       "    }\n",
       "</style>\n",
       "<table border=\"1\" class=\"dataframe\">\n",
       "  <thead>\n",
       "    <tr style=\"text-align: right;\">\n",
       "      <th></th>\n",
       "      <th>title</th>\n",
       "      <th>content</th>\n",
       "    </tr>\n",
       "  </thead>\n",
       "  <tbody>\n",
       "    <tr>\n",
       "      <th>0</th>\n",
       "      <td>유시민 \"검찰도 사법도 썩었지\" vs 진중권 \"유시민 망상, 대중은 현실로 믿어\"</td>\n",
       "      <td>JTBC 신년토론서 격돌조국 전 장관 사태와 '유시민의 알릴레오' 두고 논쟁\\n\\n...</td>\n",
       "    </tr>\n",
       "    <tr>\n",
       "      <th>1</th>\n",
       "      <td>특정 정당 맹목적 지지 없어…진보진영 유리 장담 못해 [신년 기획 - 21대 총선 분석]</td>\n",
       "      <td>ㆍ사상 첫 18세 투표 영향은신규 유입 유권자 약 53만명여야, 청소년 전략 마련 ...</td>\n",
       "    </tr>\n",
       "    <tr>\n",
       "      <th>2</th>\n",
       "      <td>한국당 \"울산시장 선거 정황 의심\"…추미애 고발</td>\n",
       "      <td>[머니투데이 한고은 기자] \\n\\n\\n\\n(서울=뉴스1) 임세영 기자 = 곽상도 자...</td>\n",
       "    </tr>\n",
       "    <tr>\n",
       "      <th>3</th>\n",
       "      <td>한국당, 추미애 檢 고발..\"선거법 위반\"</td>\n",
       "      <td>곽상도 친문농단특위 위원장, 1일 고발\"지방선거 전 송철호에 靑행정관 소개\"\"공무상...</td>\n",
       "    </tr>\n",
       "    <tr>\n",
       "      <th>4</th>\n",
       "      <td>文의장 \"검찰·선거개혁 단초 열어 보람…소명 다할 것\"</td>\n",
       "      <td>\"공수처는 金·盧·文 세 대통령의 숙원이자 꿈\"  한국당 '아빠 찬스, 아들 공천'...</td>\n",
       "    </tr>\n",
       "    <tr>\n",
       "      <th>...</th>\n",
       "      <td>...</td>\n",
       "      <td>...</td>\n",
       "    </tr>\n",
       "    <tr>\n",
       "      <th>98225</th>\n",
       "      <td>‘세월호 막말’ 닷새만에… 차명진 제명</td>\n",
       "      <td>통합당, 긴급 최고위서 직권 의결… 수도권 전체 판세에 악영향 판단강원선 김진태 선...</td>\n",
       "    </tr>\n",
       "    <tr>\n",
       "      <th>98226</th>\n",
       "      <td>정봉주 “나를 개쓰레기 취급” 與 막말 비난</td>\n",
       "      <td>논란 일자 “부적절한 표현” 사과\\n\\n\\n\\n열린민주당 정봉주 최고위원(사진)이 ...</td>\n",
       "    </tr>\n",
       "    <tr>\n",
       "      <th>98227</th>\n",
       "      <td>민주당 “아직 2% 부족” vs 통합당 “100석도 위태”</td>\n",
       "      <td>이해찬 “수도권 121석중 70곳 경합”박형준 “개헌 저지선도 무너질 위기” 김종인...</td>\n",
       "    </tr>\n",
       "    <tr>\n",
       "      <th>98228</th>\n",
       "      <td>[총선2020] 범여권, '오세훈만 떨어뜨리면 된다' 계산 섰나</td>\n",
       "      <td>민주당 핵심 당직자들, 한날 광진을 지원방문'촛불시민모임' '대진연' 등도 계속해 ...</td>\n",
       "    </tr>\n",
       "    <tr>\n",
       "      <th>98229</th>\n",
       "      <td>아일랜드 중도우파 양대정당, 사상 첫 연정 '사실상 합의'</td>\n",
       "      <td>\"양 정당 대표 합의안 검토…승인 후 제3당 참여 위해 공유\"녹색당·노동당·사회민주...</td>\n",
       "    </tr>\n",
       "  </tbody>\n",
       "</table>\n",
       "<p>79410 rows × 2 columns</p>\n",
       "</div>"
      ],
      "text/plain": [
       "                                                   title  \\\n",
       "0          유시민 \"검찰도 사법도 썩었지\" vs 진중권 \"유시민 망상, 대중은 현실로 믿어\"   \n",
       "1      특정 정당 맹목적 지지 없어…진보진영 유리 장담 못해 [신년 기획 - 21대 총선 분석]   \n",
       "2                             한국당 \"울산시장 선거 정황 의심\"…추미애 고발   \n",
       "3                                한국당, 추미애 檢 고발..\"선거법 위반\"   \n",
       "4                         文의장 \"검찰·선거개혁 단초 열어 보람…소명 다할 것\"   \n",
       "...                                                  ...   \n",
       "98225                              ‘세월호 막말’ 닷새만에… 차명진 제명   \n",
       "98226                           정봉주 “나를 개쓰레기 취급” 與 막말 비난   \n",
       "98227                   민주당 “아직 2% 부족” vs 통합당 “100석도 위태”   \n",
       "98228                [총선2020] 범여권, '오세훈만 떨어뜨리면 된다' 계산 섰나   \n",
       "98229                   아일랜드 중도우파 양대정당, 사상 첫 연정 '사실상 합의'   \n",
       "\n",
       "                                                 content  \n",
       "0      JTBC 신년토론서 격돌조국 전 장관 사태와 '유시민의 알릴레오' 두고 논쟁\\n\\n...  \n",
       "1      ㆍ사상 첫 18세 투표 영향은신규 유입 유권자 약 53만명여야, 청소년 전략 마련 ...  \n",
       "2      [머니투데이 한고은 기자] \\n\\n\\n\\n(서울=뉴스1) 임세영 기자 = 곽상도 자...  \n",
       "3      곽상도 친문농단특위 위원장, 1일 고발\"지방선거 전 송철호에 靑행정관 소개\"\"공무상...  \n",
       "4      \"공수처는 金·盧·文 세 대통령의 숙원이자 꿈\"  한국당 '아빠 찬스, 아들 공천'...  \n",
       "...                                                  ...  \n",
       "98225  통합당, 긴급 최고위서 직권 의결… 수도권 전체 판세에 악영향 판단강원선 김진태 선...  \n",
       "98226  논란 일자 “부적절한 표현” 사과\\n\\n\\n\\n열린민주당 정봉주 최고위원(사진)이 ...  \n",
       "98227  이해찬 “수도권 121석중 70곳 경합”박형준 “개헌 저지선도 무너질 위기” 김종인...  \n",
       "98228  민주당 핵심 당직자들, 한날 광진을 지원방문'촛불시민모임' '대진연' 등도 계속해 ...  \n",
       "98229  \"양 정당 대표 합의안 검토…승인 후 제3당 참여 위해 공유\"녹색당·노동당·사회민주...  \n",
       "\n",
       "[79410 rows x 2 columns]"
      ]
     },
     "execution_count": 10,
     "metadata": {},
     "output_type": "execute_result"
    }
   ],
   "source": [
    "df_news = df_news[df_news['content'] != 'No content available']\n",
    "df_news = df_news.drop_duplicates(subset = ['title'])\n",
    "df_news = df_news.copy()\n",
    "df_news"
   ]
  },
  {
   "cell_type": "code",
   "execution_count": 11,
   "id": "1db434d1",
   "metadata": {
    "ExecuteTime": {
     "end_time": "2024-03-13T07:10:00.253784Z",
     "start_time": "2024-03-13T07:10:00.192154Z"
    },
    "colab": {
     "base_uri": "https://localhost:8080/",
     "height": 597
    },
    "executionInfo": {
     "elapsed": 3516,
     "status": "ok",
     "timestamp": 1709863903189,
     "user": {
      "displayName": "김유림",
      "userId": "09242611142827377637"
     },
     "user_tz": -540
    },
    "id": "1db434d1",
    "outputId": "ac4cdc3d-e140-4a63-9952-01d83aabaab0"
   },
   "outputs": [
    {
     "data": {
      "text/html": [
       "<div>\n",
       "<style scoped>\n",
       "    .dataframe tbody tr th:only-of-type {\n",
       "        vertical-align: middle;\n",
       "    }\n",
       "\n",
       "    .dataframe tbody tr th {\n",
       "        vertical-align: top;\n",
       "    }\n",
       "\n",
       "    .dataframe thead th {\n",
       "        text-align: right;\n",
       "    }\n",
       "</style>\n",
       "<table border=\"1\" class=\"dataframe\">\n",
       "  <thead>\n",
       "    <tr style=\"text-align: right;\">\n",
       "      <th></th>\n",
       "      <th>title</th>\n",
       "      <th>content</th>\n",
       "    </tr>\n",
       "  </thead>\n",
       "  <tbody>\n",
       "    <tr>\n",
       "      <th>0</th>\n",
       "      <td>유시민 \"검찰도 사법도 썩었지\" vs 진중권 \"유시민 망상, 대중은 현실로 믿어\"</td>\n",
       "      <td>JTBC 신년토론서 격돌조국 전 장관 사태와 '유시민의 알릴레오' 두고 논쟁    ...</td>\n",
       "    </tr>\n",
       "    <tr>\n",
       "      <th>1</th>\n",
       "      <td>특정 정당 맹목적 지지 없어…진보진영 유리 장담 못해 [신년 기획 - 21대 총선 분석]</td>\n",
       "      <td>ㆍ사상 첫 18세 투표 영향은신규 유입 유권자 약 53만명여야, 청소년 전략 마련 ...</td>\n",
       "    </tr>\n",
       "    <tr>\n",
       "      <th>2</th>\n",
       "      <td>한국당 \"울산시장 선거 정황 의심\"…추미애 고발</td>\n",
       "      <td>[머니투데이 한고은 기자]     (서울=뉴스1) 임세영 기자 = 곽상도 자유한국당...</td>\n",
       "    </tr>\n",
       "    <tr>\n",
       "      <th>3</th>\n",
       "      <td>한국당, 추미애 檢 고발..\"선거법 위반\"</td>\n",
       "      <td>곽상도 친문농단특위 위원장, 1일 고발\"지방선거 전 송철호에 靑행정관 소개\"\"공무상...</td>\n",
       "    </tr>\n",
       "    <tr>\n",
       "      <th>4</th>\n",
       "      <td>文의장 \"검찰·선거개혁 단초 열어 보람…소명 다할 것\"</td>\n",
       "      <td>\"공수처는 金·盧·文 세 대통령의 숙원이자 꿈\"  한국당 '아빠 찬스, 아들 공천'...</td>\n",
       "    </tr>\n",
       "    <tr>\n",
       "      <th>...</th>\n",
       "      <td>...</td>\n",
       "      <td>...</td>\n",
       "    </tr>\n",
       "    <tr>\n",
       "      <th>98225</th>\n",
       "      <td>‘세월호 막말’ 닷새만에… 차명진 제명</td>\n",
       "      <td>통합당, 긴급 최고위서 직권 의결… 수도권 전체 판세에 악영향 판단강원선 김진태 선...</td>\n",
       "    </tr>\n",
       "    <tr>\n",
       "      <th>98226</th>\n",
       "      <td>정봉주 “나를 개쓰레기 취급” 與 막말 비난</td>\n",
       "      <td>논란 일자 “부적절한 표현” 사과    열린민주당 정봉주 최고위원(사진)이 12일 ...</td>\n",
       "    </tr>\n",
       "    <tr>\n",
       "      <th>98227</th>\n",
       "      <td>민주당 “아직 2% 부족” vs 통합당 “100석도 위태”</td>\n",
       "      <td>이해찬 “수도권 121석중 70곳 경합”박형준 “개헌 저지선도 무너질 위기” 김종인...</td>\n",
       "    </tr>\n",
       "    <tr>\n",
       "      <th>98228</th>\n",
       "      <td>[총선2020] 범여권, '오세훈만 떨어뜨리면 된다' 계산 섰나</td>\n",
       "      <td>민주당 핵심 당직자들, 한날 광진을 지원방문'촛불시민모임' '대진연' 등도 계속해 ...</td>\n",
       "    </tr>\n",
       "    <tr>\n",
       "      <th>98229</th>\n",
       "      <td>아일랜드 중도우파 양대정당, 사상 첫 연정 '사실상 합의'</td>\n",
       "      <td>\"양 정당 대표 합의안 검토…승인 후 제3당 참여 위해 공유\"녹색당·노동당·사회민주...</td>\n",
       "    </tr>\n",
       "  </tbody>\n",
       "</table>\n",
       "<p>79410 rows × 2 columns</p>\n",
       "</div>"
      ],
      "text/plain": [
       "                                                   title  \\\n",
       "0          유시민 \"검찰도 사법도 썩었지\" vs 진중권 \"유시민 망상, 대중은 현실로 믿어\"   \n",
       "1      특정 정당 맹목적 지지 없어…진보진영 유리 장담 못해 [신년 기획 - 21대 총선 분석]   \n",
       "2                             한국당 \"울산시장 선거 정황 의심\"…추미애 고발   \n",
       "3                                한국당, 추미애 檢 고발..\"선거법 위반\"   \n",
       "4                         文의장 \"검찰·선거개혁 단초 열어 보람…소명 다할 것\"   \n",
       "...                                                  ...   \n",
       "98225                              ‘세월호 막말’ 닷새만에… 차명진 제명   \n",
       "98226                           정봉주 “나를 개쓰레기 취급” 與 막말 비난   \n",
       "98227                   민주당 “아직 2% 부족” vs 통합당 “100석도 위태”   \n",
       "98228                [총선2020] 범여권, '오세훈만 떨어뜨리면 된다' 계산 섰나   \n",
       "98229                   아일랜드 중도우파 양대정당, 사상 첫 연정 '사실상 합의'   \n",
       "\n",
       "                                                 content  \n",
       "0      JTBC 신년토론서 격돌조국 전 장관 사태와 '유시민의 알릴레오' 두고 논쟁    ...  \n",
       "1      ㆍ사상 첫 18세 투표 영향은신규 유입 유권자 약 53만명여야, 청소년 전략 마련 ...  \n",
       "2      [머니투데이 한고은 기자]     (서울=뉴스1) 임세영 기자 = 곽상도 자유한국당...  \n",
       "3      곽상도 친문농단특위 위원장, 1일 고발\"지방선거 전 송철호에 靑행정관 소개\"\"공무상...  \n",
       "4      \"공수처는 金·盧·文 세 대통령의 숙원이자 꿈\"  한국당 '아빠 찬스, 아들 공천'...  \n",
       "...                                                  ...  \n",
       "98225  통합당, 긴급 최고위서 직권 의결… 수도권 전체 판세에 악영향 판단강원선 김진태 선...  \n",
       "98226  논란 일자 “부적절한 표현” 사과    열린민주당 정봉주 최고위원(사진)이 12일 ...  \n",
       "98227  이해찬 “수도권 121석중 70곳 경합”박형준 “개헌 저지선도 무너질 위기” 김종인...  \n",
       "98228  민주당 핵심 당직자들, 한날 광진을 지원방문'촛불시민모임' '대진연' 등도 계속해 ...  \n",
       "98229  \"양 정당 대표 합의안 검토…승인 후 제3당 참여 위해 공유\"녹색당·노동당·사회민주...  \n",
       "\n",
       "[79410 rows x 2 columns]"
      ]
     },
     "execution_count": 11,
     "metadata": {},
     "output_type": "execute_result"
    }
   ],
   "source": [
    "df_news['content'] = df_news['content'].str.replace('\\n', ' ')\n",
    "df_news['content'] = df_news['content'].str.replace('/', ' ')\n",
    "\n",
    "\n",
    "df_news"
   ]
  },
  {
   "cell_type": "markdown",
   "id": "a6f5c478",
   "metadata": {},
   "source": [
    "## 후보 이름을 당으로 변환"
   ]
  },
  {
   "cell_type": "code",
   "execution_count": 12,
   "id": "938fe8c1",
   "metadata": {
    "ExecuteTime": {
     "end_time": "2024-03-13T07:10:00.259440Z",
     "start_time": "2024-03-13T07:10:00.254571Z"
    }
   },
   "outputs": [
    {
     "data": {
      "text/html": [
       "<div>\n",
       "<style scoped>\n",
       "    .dataframe tbody tr th:only-of-type {\n",
       "        vertical-align: middle;\n",
       "    }\n",
       "\n",
       "    .dataframe tbody tr th {\n",
       "        vertical-align: top;\n",
       "    }\n",
       "\n",
       "    .dataframe thead th {\n",
       "        text-align: right;\n",
       "    }\n",
       "</style>\n",
       "<table border=\"1\" class=\"dataframe\">\n",
       "  <thead>\n",
       "    <tr style=\"text-align: right;\">\n",
       "      <th></th>\n",
       "      <th>후보</th>\n",
       "      <th>당선여부</th>\n",
       "      <th>소속 정당</th>\n",
       "    </tr>\n",
       "  </thead>\n",
       "  <tbody>\n",
       "    <tr>\n",
       "      <th>0</th>\n",
       "      <td>정혜선</td>\n",
       "      <td>0</td>\n",
       "      <td>민생당</td>\n",
       "    </tr>\n",
       "    <tr>\n",
       "      <th>1</th>\n",
       "      <td>이내훈</td>\n",
       "      <td>0</td>\n",
       "      <td>민생당</td>\n",
       "    </tr>\n",
       "    <tr>\n",
       "      <th>2</th>\n",
       "      <td>김정화</td>\n",
       "      <td>0</td>\n",
       "      <td>민생당</td>\n",
       "    </tr>\n",
       "    <tr>\n",
       "      <th>3</th>\n",
       "      <td>김종구</td>\n",
       "      <td>0</td>\n",
       "      <td>민생당</td>\n",
       "    </tr>\n",
       "    <tr>\n",
       "      <th>4</th>\n",
       "      <td>장정숙</td>\n",
       "      <td>0</td>\n",
       "      <td>민생당</td>\n",
       "    </tr>\n",
       "    <tr>\n",
       "      <th>...</th>\n",
       "      <td>...</td>\n",
       "      <td>...</td>\n",
       "      <td>...</td>\n",
       "    </tr>\n",
       "    <tr>\n",
       "      <th>307</th>\n",
       "      <td>김호일</td>\n",
       "      <td>0</td>\n",
       "      <td>한국복지당</td>\n",
       "    </tr>\n",
       "    <tr>\n",
       "      <th>308</th>\n",
       "      <td>정월자</td>\n",
       "      <td>0</td>\n",
       "      <td>한국복지당</td>\n",
       "    </tr>\n",
       "    <tr>\n",
       "      <th>309</th>\n",
       "      <td>이정복</td>\n",
       "      <td>0</td>\n",
       "      <td>한국복지당</td>\n",
       "    </tr>\n",
       "    <tr>\n",
       "      <th>310</th>\n",
       "      <td>장소영</td>\n",
       "      <td>0</td>\n",
       "      <td>홍익당</td>\n",
       "    </tr>\n",
       "    <tr>\n",
       "      <th>311</th>\n",
       "      <td>윤홍식</td>\n",
       "      <td>0</td>\n",
       "      <td>홍익당</td>\n",
       "    </tr>\n",
       "  </tbody>\n",
       "</table>\n",
       "<p>312 rows × 3 columns</p>\n",
       "</div>"
      ],
      "text/plain": [
       "      후보  당선여부  소속 정당\n",
       "0    정혜선     0    민생당\n",
       "1    이내훈     0    민생당\n",
       "2    김정화     0    민생당\n",
       "3    김종구     0    민생당\n",
       "4    장정숙     0    민생당\n",
       "..   ...   ...    ...\n",
       "307  김호일     0  한국복지당\n",
       "308  정월자     0  한국복지당\n",
       "309  이정복     0  한국복지당\n",
       "310  장소영     0    홍익당\n",
       "311  윤홍식     0    홍익당\n",
       "\n",
       "[312 rows x 3 columns]"
      ]
     },
     "execution_count": 12,
     "metadata": {},
     "output_type": "execute_result"
    }
   ],
   "source": [
    "name_df = pd.read_csv('./data/제21대_국회의원선거_후보자_명단.csv')\n",
    "\n",
    "name_df"
   ]
  },
  {
   "cell_type": "code",
   "execution_count": 13,
   "id": "31f71203",
   "metadata": {
    "ExecuteTime": {
     "end_time": "2024-03-13T07:10:00.263746Z",
     "start_time": "2024-03-13T07:10:00.260137Z"
    }
   },
   "outputs": [
    {
     "data": {
      "text/plain": [
       "{'정혜선': '민생당',\n",
       " '이내훈': '민생당',\n",
       " '김정화': '민생당',\n",
       " '김종구': '민생당',\n",
       " '장정숙': '민생당',\n",
       " '이관승': '민생당',\n",
       " '최도자': '민생당',\n",
       " '황한웅': '민생당',\n",
       " '서진희': '민생당',\n",
       " '한지호': '민생당',\n",
       " '고연호': '민생당',\n",
       " '김지환': '민생당',\n",
       " '문정선': '민생당',\n",
       " '손학규': '민생당',\n",
       " '한성숙': '민생당',\n",
       " '이봉원': '민생당',\n",
       " '이시은': '민생당',\n",
       " '김선미': '민생당',\n",
       " '이숙자': '민생당',\n",
       " '조환기': '민생당',\n",
       " '추민아': '민생당',\n",
       " '윤주경': '미래한국당',\n",
       " '윤창현': '미래한국당',\n",
       " '한무경': '미래한국당',\n",
       " '이종성': '미래한국당',\n",
       " '조수진': '미래한국당',\n",
       " '조태용': '미래한국당',\n",
       " '정경희': '미래한국당',\n",
       " '신원식': '미래한국당',\n",
       " '조명희': '미래한국당',\n",
       " '박대수': '미래한국당',\n",
       " '김예지': '미래한국당',\n",
       " '지성호': '미래한국당',\n",
       " '이영': '미래한국당',\n",
       " '최승재': '미래한국당',\n",
       " '전주혜': '미래한국당',\n",
       " '정운천': '미래한국당',\n",
       " '서정숙': '미래한국당',\n",
       " '이용': '미래한국당',\n",
       " '허은아': '미래한국당',\n",
       " '노용호': '미래한국당',\n",
       " '최영희': '미래한국당',\n",
       " '우신구': '미래한국당',\n",
       " '김은희': '미래한국당',\n",
       " '하재주': '미래한국당',\n",
       " '박현정': '미래한국당',\n",
       " '권신일': '미래한국당',\n",
       " '백현주': '미래한국당',\n",
       " '남영호': '미래한국당',\n",
       " '문혜정': '미래한국당',\n",
       " '박대성': '미래한국당',\n",
       " '정선미': '미래한국당',\n",
       " '김보람': '미래한국당',\n",
       " '권순영': '미래한국당',\n",
       " '이종헌': '미래한국당',\n",
       " '서안순': '미래한국당',\n",
       " '김영근': '미래한국당',\n",
       " '김경애': '미래한국당',\n",
       " '신민아': '미래한국당',\n",
       " '김란숙': '미래한국당',\n",
       " '신현영': '더불어시민당',\n",
       " '김경만': '더불어시민당',\n",
       " '권인숙': '더불어시민당',\n",
       " '이동주': '더불어시민당',\n",
       " '용혜인': '더불어시민당',\n",
       " '조정훈': '더불어시민당',\n",
       " '윤미향': '더불어시민당',\n",
       " '정필모': '더불어시민당',\n",
       " '양원영': '더불어시민당',\n",
       " '유정주': '더불어시민당',\n",
       " '최혜영': '더불어시민당',\n",
       " '김병주': '더불어시민당',\n",
       " '이수진': '더불어시민당',\n",
       " '김홍걸': '더불어시민당',\n",
       " '양정숙': '더불어시민당',\n",
       " '전용기': '더불어시민당',\n",
       " '양경숙': '더불어시민당',\n",
       " '이경수': '더불어시민당',\n",
       " '정종숙': '더불어시민당',\n",
       " '정지영': '더불어시민당',\n",
       " '이소현': '더불어시민당',\n",
       " '권지웅': '더불어시민당',\n",
       " '박명숙': '더불어시민당',\n",
       " '이상이': '더불어시민당',\n",
       " '강경숙': '더불어시민당',\n",
       " '정우식': '더불어시민당',\n",
       " '백혜숙': '더불어시민당',\n",
       " '김상민': '더불어시민당',\n",
       " '박은수': '더불어시민당',\n",
       " '최회용': '더불어시민당',\n",
       " '류호정': '정의당',\n",
       " '장혜영': '정의당',\n",
       " '강은미': '정의당',\n",
       " '배진교': '정의당',\n",
       " '이은주': '정의당',\n",
       " '박창진': '정의당',\n",
       " '배복주': '정의당',\n",
       " '양경규': '정의당',\n",
       " '이자스민': '정의당',\n",
       " '한창민': '정의당',\n",
       " '문정은': '정의당',\n",
       " '정민희': '정의당',\n",
       " '조성실': '정의당',\n",
       " '박웅두': '정의당',\n",
       " '김혜련': '정의당',\n",
       " '김종철': '정의당',\n",
       " '정호진': '정의당',\n",
       " '박종균': '정의당',\n",
       " '박인숙': '정의당',\n",
       " '강상구': '정의당',\n",
       " '이현정': '정의당',\n",
       " '김영훈': '정의당',\n",
       " '조혜민': '정의당',\n",
       " '임푸른': '정의당',\n",
       " '최영란': '정의당',\n",
       " '배수정': '정의당',\n",
       " '심지선': '정의당',\n",
       " '이영석': '정의당',\n",
       " '김가영': '정의당',\n",
       " '최혜림': '우리공화당',\n",
       " '서청원': '우리공화당',\n",
       " '인지연': '우리공화당',\n",
       " '박태우': '우리공화당',\n",
       " '진순정': '우리공화당',\n",
       " '김본수': '우리공화당',\n",
       " '안현정': '우리공화당',\n",
       " '구상모': '우리공화당',\n",
       " '최옥락': '우리공화당',\n",
       " '정영진': '우리공화당',\n",
       " '위성숙': '우리공화당',\n",
       " '이명호': '우리공화당',\n",
       " '윤정순': '우리공화당',\n",
       " '조시철': '우리공화당',\n",
       " '유연숙': '우리공화당',\n",
       " '김해정': '민중당',\n",
       " '김영호': '민중당',\n",
       " '손솔': '민중당',\n",
       " '이상규': '민중당',\n",
       " '윤희숙': '민중당',\n",
       " '김기완': '민중당',\n",
       " '김유진': '민중당',\n",
       " '김재용': '민중당',\n",
       " '이은재': '한국경제당',\n",
       " '방형린': '한국경제당',\n",
       " '천은미': '한국경제당',\n",
       " '최종호': '한국경제당',\n",
       " '전진영': '한국경제당',\n",
       " '박원희': '한국경제당',\n",
       " '최연숙': '국민의당',\n",
       " '이태규': '국민의당',\n",
       " '권은희': '국민의당',\n",
       " '김근태': '국민의당',\n",
       " '최단비': '국민의당',\n",
       " '김도식': '국민의당',\n",
       " '안혜진': '국민의당',\n",
       " '김윤': '국민의당',\n",
       " '김예림': '국민의당',\n",
       " '사공정규': '국민의당',\n",
       " '김현아': '국민의당',\n",
       " '김경환': '국민의당',\n",
       " '정수경': '국민의당',\n",
       " '진용우': '국민의당',\n",
       " '신경희': '국민의당',\n",
       " '정광호': '국민의당',\n",
       " '정주열': '국민의당',\n",
       " '이현웅': '국민의당',\n",
       " '박재영': '국민의당',\n",
       " '위성진': '국민의당',\n",
       " '신나리': '국민의당',\n",
       " '김도균': '국민의당',\n",
       " '채명희': '국민의당',\n",
       " '장윤섭': '국민의당',\n",
       " '박삼숙': '국민의당',\n",
       " '안종혁': '국민의당',\n",
       " '장정은': '친박신당',\n",
       " '홍문종': '친박신당',\n",
       " '이화용': '친박신당',\n",
       " '이세창': '친박신당',\n",
       " '김한나': '친박신당',\n",
       " '오경훈': '친박신당',\n",
       " '곽미숙': '친박신당',\n",
       " '유한진': '친박신당',\n",
       " '오선혜': '친박신당',\n",
       " '이규양': '친박신당',\n",
       " '김건하': '친박신당',\n",
       " '한형교': '친박신당',\n",
       " '김진애': '열린민주당',\n",
       " '최강욱': '열린민주당',\n",
       " '강민정': '열린민주당',\n",
       " '김의겸': '열린민주당',\n",
       " '허숙정': '열린민주당',\n",
       " '주진형': '열린민주당',\n",
       " '한지양': '열린민주당',\n",
       " '황희석': '열린민주당',\n",
       " '이지윤': '열린민주당',\n",
       " '김성회': '열린민주당',\n",
       " '변옥경': '열린민주당',\n",
       " '안원구': '열린민주당',\n",
       " '정윤희': '열린민주당',\n",
       " '황명필': '열린민주당',\n",
       " '국령애': '열린민주당',\n",
       " '조대진': '열린민주당',\n",
       " '김정선': '열린민주당',\n",
       " '유창경': '코리아',\n",
       " '류승구': '코리아',\n",
       " '김세연': '코리아',\n",
       " '석종현': '코리아',\n",
       " '박월순': '코리아',\n",
       " '황태영': '코리아',\n",
       " '민영희': '가자!평화인권당',\n",
       " '최용상': '가자!평화인권당',\n",
       " '김용희': '가자환경당',\n",
       " '박상길': '가자환경당',\n",
       " '이미현': '국가혁명배당금당',\n",
       " '허경영': '국가혁명배당금당',\n",
       " '안영신': '국가혁명배당금당',\n",
       " '김윤현': '국가혁명배당금당',\n",
       " '김의경': '국가혁명배당금당',\n",
       " '김승우': '국가혁명배당금당',\n",
       " '박경린': '국가혁명배당금당',\n",
       " '송순권': '국가혁명배당금당',\n",
       " '정재희': '국가혁명배당금당',\n",
       " '한평용': '국가혁명배당금당',\n",
       " '강령희': '국가혁명배당금당',\n",
       " '홍순철': '국가혁명배당금당',\n",
       " '임지영': '국가혁명배당금당',\n",
       " '이명섭': '국가혁명배당금당',\n",
       " '이영숙': '국가혁명배당금당',\n",
       " '이동섭': '국가혁명배당금당',\n",
       " '백선우': '국가혁명배당금당',\n",
       " '이관학': '국가혁명배당금당',\n",
       " '홍순복': '국가혁명배당금당',\n",
       " '남기수': '국가혁명배당금당',\n",
       " '장창순': '국가혁명배당금당',\n",
       " '김영수': '국가혁명배당금당',\n",
       " '최정욱': '국민새정당',\n",
       " '신재훈': '국민새정당',\n",
       " '권순자': '국민새정당',\n",
       " '김홍희': '국민새정당',\n",
       " '김계순': '국민참여신당',\n",
       " '이애란': '기독자유통일당',\n",
       " '김승규': '기독자유통일당',\n",
       " '주옥순': '기독자유통일당',\n",
       " '김석훈': '기독자유통일당',\n",
       " '송혜정': '기독자유통일당',\n",
       " '고영일': '기독자유통일당',\n",
       " '현숙경': '기독자유통일당',\n",
       " '권오형': '기독자유통일당',\n",
       " '오현민': '기독자유통일당',\n",
       " '윤재성': '기독자유통일당',\n",
       " '박연수': '기독자유통일당',\n",
       " '지영준': '기독자유통일당',\n",
       " '박은희': '기독자유통일당',\n",
       " '임성훈': '기독자유통일당',\n",
       " '이향': '기독자유통일당',\n",
       " '한효관': '기독자유통일당',\n",
       " '이현영': '기독자유통일당',\n",
       " '우종욱': '기독자유통일당',\n",
       " '정미라': '기독자유통일당',\n",
       " '최봉식': '기독자유통일당',\n",
       " '한정원': '기독자유통일당',\n",
       " '김민선': '깨어있는시민연대당',\n",
       " '문상필': '깨어있는시민연대당',\n",
       " '한미옥': '남북통일당',\n",
       " '장김주일': '남북통일당',\n",
       " '송미량': '노동당',\n",
       " '이갑용': '노동당',\n",
       " '고은영': '녹색당',\n",
       " '김혜미': '녹색당',\n",
       " '성지수': '녹색당',\n",
       " '김기홍': '녹색당',\n",
       " '최정분': '녹색당',\n",
       " '박진혜': '대한당',\n",
       " '이석인': '대한당',\n",
       " '신영숙': '대한민국당',\n",
       " '김현승': '대한민국당',\n",
       " '김소희': '미래당',\n",
       " '우인철': '미래당',\n",
       " '손주희': '미래당',\n",
       " '손상우': '미래당',\n",
       " '김경숙': '미래민주당',\n",
       " '이두원': '미래민주당',\n",
       " '성영애': '새누리당',\n",
       " '이지원': '여성의당',\n",
       " '이경옥': '여성의당',\n",
       " '박보람': '여성의당',\n",
       " '김주희': '여성의당',\n",
       " '이명녀': '우리당',\n",
       " '김종음': '우리당',\n",
       " '홍은설': '우리당',\n",
       " '이순임': '자유당',\n",
       " '손상윤': '자유당',\n",
       " '이미자': '자유당',\n",
       " '정원석': '자유당',\n",
       " '이선': '새벽당',\n",
       " '강기훈': '새벽당',\n",
       " '권나은': '새벽당',\n",
       " '김정민': '새벽당',\n",
       " '박차순': '자영업당',\n",
       " '장화철': '자영업당',\n",
       " '조연숙': '자영업당',\n",
       " '최원식': '자영업당',\n",
       " '박의정': '충청의미래당',\n",
       " '박석우': '충청의미래당',\n",
       " '채미란': '통일민주당',\n",
       " '김태식': '통일민주당',\n",
       " '오덕애': '한국복지당',\n",
       " '김호일': '한국복지당',\n",
       " '정월자': '한국복지당',\n",
       " '이정복': '한국복지당',\n",
       " '장소영': '홍익당',\n",
       " '윤홍식': '홍익당'}"
      ]
     },
     "execution_count": 13,
     "metadata": {},
     "output_type": "execute_result"
    }
   ],
   "source": [
    "name_party_dic = dict(zip(name_df['후보'], name_df['소속 정당']))\n",
    "\n",
    "name_party_dic"
   ]
  },
  {
   "cell_type": "code",
   "execution_count": 14,
   "id": "65ce9765",
   "metadata": {
    "ExecuteTime": {
     "end_time": "2024-03-13T07:10:47.276159Z",
     "start_time": "2024-03-13T07:10:00.264347Z"
    }
   },
   "outputs": [
    {
     "name": "stderr",
     "output_type": "stream",
     "text": [
      "79410it [00:46, 1690.11it/s]\n"
     ]
    }
   ],
   "source": [
    "# title 열의 각 값에 대해 사람 이름을 당의 이름으로 변경\n",
    "\n",
    "for idx, row in tqdm(df_news.iterrows()):\n",
    "    for name, party in name_party_dic.items():\n",
    "        if name in row['title']:\n",
    "            df_news.at[idx, 'title'] = df_news.at[idx, 'title'].replace(name, party)\n",
    "        elif name in row['content']:\n",
    "            df_news.at[idx, 'content'] = df_news.at[idx, 'content'].replace(name, party)"
   ]
  },
  {
   "cell_type": "code",
   "execution_count": 15,
   "id": "b1840e56",
   "metadata": {
    "ExecuteTime": {
     "end_time": "2024-03-13T07:10:47.280340Z",
     "start_time": "2024-03-13T07:10:47.276959Z"
    }
   },
   "outputs": [
    {
     "data": {
      "text/html": [
       "<div>\n",
       "<style scoped>\n",
       "    .dataframe tbody tr th:only-of-type {\n",
       "        vertical-align: middle;\n",
       "    }\n",
       "\n",
       "    .dataframe tbody tr th {\n",
       "        vertical-align: top;\n",
       "    }\n",
       "\n",
       "    .dataframe thead th {\n",
       "        text-align: right;\n",
       "    }\n",
       "</style>\n",
       "<table border=\"1\" class=\"dataframe\">\n",
       "  <thead>\n",
       "    <tr style=\"text-align: right;\">\n",
       "      <th></th>\n",
       "      <th>title</th>\n",
       "      <th>content</th>\n",
       "    </tr>\n",
       "  </thead>\n",
       "  <tbody>\n",
       "    <tr>\n",
       "      <th>0</th>\n",
       "      <td>유시민 \"검찰도 사법도 썩었지\" vs 진중권 \"유시민 망상, 대중은 현실로 믿어\"</td>\n",
       "      <td>JTBC 신년토론서 격돌조국 전 장관 사태와 '유시민의 알릴레오' 두고 논쟁    ...</td>\n",
       "    </tr>\n",
       "    <tr>\n",
       "      <th>1</th>\n",
       "      <td>특정 정당 맹목적 지지 없어…진보진영 유리 장담 못해 [신년 기획 - 21대 총선 분석]</td>\n",
       "      <td>ㆍ사상 첫 18세 투표 영향은신규 유입 유권자 약 53만명여야, 청소년 전략 마련 ...</td>\n",
       "    </tr>\n",
       "    <tr>\n",
       "      <th>2</th>\n",
       "      <td>한국당 \"울산시장 선거 정황 의심\"…추미애 고발</td>\n",
       "      <td>[머니투데이 한고은 기자]     (서울=뉴스1) 임세영 기자 = 곽상도 자유한국당...</td>\n",
       "    </tr>\n",
       "    <tr>\n",
       "      <th>3</th>\n",
       "      <td>한국당, 추미애 檢 고발..\"선거법 위반\"</td>\n",
       "      <td>곽상도 친문농단특위 위원장, 1일 고발\"지방선거 전 송철호에 靑행정관 소개\"\"공무상...</td>\n",
       "    </tr>\n",
       "    <tr>\n",
       "      <th>4</th>\n",
       "      <td>文의장 \"검찰·선거개혁 단초 열어 보람…소명 다할 것\"</td>\n",
       "      <td>\"공수처는 金·盧·文 세 대통령의 숙원이자 꿈\"  한국당 '아빠 찬스, 아들 공천'...</td>\n",
       "    </tr>\n",
       "    <tr>\n",
       "      <th>...</th>\n",
       "      <td>...</td>\n",
       "      <td>...</td>\n",
       "    </tr>\n",
       "    <tr>\n",
       "      <th>98225</th>\n",
       "      <td>‘세월호 막말’ 닷새만에… 차명진 제명</td>\n",
       "      <td>통합당, 긴급 최고위서 직권 의결… 수도권 전체 판세에 악영향 판단강원선 김진태 선...</td>\n",
       "    </tr>\n",
       "    <tr>\n",
       "      <th>98226</th>\n",
       "      <td>정봉주 “나를 개쓰레기 취급” 與 막말 비난</td>\n",
       "      <td>논란 일자 “부적절한 표현” 사과    열린민주당 정봉주 최고위원(사진)이 12일 ...</td>\n",
       "    </tr>\n",
       "    <tr>\n",
       "      <th>98227</th>\n",
       "      <td>민주당 “아직 2% 부족” vs 통합당 “100석도 위태”</td>\n",
       "      <td>이해찬 “수도권 121석중 70곳 경합”박형준 “개헌 저지선도 무너질 위기” 김종인...</td>\n",
       "    </tr>\n",
       "    <tr>\n",
       "      <th>98228</th>\n",
       "      <td>[총선2020] 범여권, '오세훈만 떨어뜨리면 된다' 계산 섰나</td>\n",
       "      <td>민주당 핵심 당직자들, 한날 광진을 지원방문'촛불시민모임' '대진연' 등도 계속해 ...</td>\n",
       "    </tr>\n",
       "    <tr>\n",
       "      <th>98229</th>\n",
       "      <td>아일랜드 중도우파 양대정당, 사상 첫 연정 '사실상 합의'</td>\n",
       "      <td>\"양 정당 대표 합의안 검토…승인 후 제3당 참여 위해 공유\"녹색당·노동당·사회민주...</td>\n",
       "    </tr>\n",
       "  </tbody>\n",
       "</table>\n",
       "<p>79410 rows × 2 columns</p>\n",
       "</div>"
      ],
      "text/plain": [
       "                                                   title  \\\n",
       "0          유시민 \"검찰도 사법도 썩었지\" vs 진중권 \"유시민 망상, 대중은 현실로 믿어\"   \n",
       "1      특정 정당 맹목적 지지 없어…진보진영 유리 장담 못해 [신년 기획 - 21대 총선 분석]   \n",
       "2                             한국당 \"울산시장 선거 정황 의심\"…추미애 고발   \n",
       "3                                한국당, 추미애 檢 고발..\"선거법 위반\"   \n",
       "4                         文의장 \"검찰·선거개혁 단초 열어 보람…소명 다할 것\"   \n",
       "...                                                  ...   \n",
       "98225                              ‘세월호 막말’ 닷새만에… 차명진 제명   \n",
       "98226                           정봉주 “나를 개쓰레기 취급” 與 막말 비난   \n",
       "98227                   민주당 “아직 2% 부족” vs 통합당 “100석도 위태”   \n",
       "98228                [총선2020] 범여권, '오세훈만 떨어뜨리면 된다' 계산 섰나   \n",
       "98229                   아일랜드 중도우파 양대정당, 사상 첫 연정 '사실상 합의'   \n",
       "\n",
       "                                                 content  \n",
       "0      JTBC 신년토론서 격돌조국 전 장관 사태와 '유시민의 알릴레오' 두고 논쟁    ...  \n",
       "1      ㆍ사상 첫 18세 투표 영향은신규 유입 유권자 약 53만명여야, 청소년 전략 마련 ...  \n",
       "2      [머니투데이 한고은 기자]     (서울=뉴스1) 임세영 기자 = 곽상도 자유한국당...  \n",
       "3      곽상도 친문농단특위 위원장, 1일 고발\"지방선거 전 송철호에 靑행정관 소개\"\"공무상...  \n",
       "4      \"공수처는 金·盧·文 세 대통령의 숙원이자 꿈\"  한국당 '아빠 찬스, 아들 공천'...  \n",
       "...                                                  ...  \n",
       "98225  통합당, 긴급 최고위서 직권 의결… 수도권 전체 판세에 악영향 판단강원선 김진태 선...  \n",
       "98226  논란 일자 “부적절한 표현” 사과    열린민주당 정봉주 최고위원(사진)이 12일 ...  \n",
       "98227  이해찬 “수도권 121석중 70곳 경합”박형준 “개헌 저지선도 무너질 위기” 김종인...  \n",
       "98228  민주당 핵심 당직자들, 한날 광진을 지원방문'촛불시민모임' '대진연' 등도 계속해 ...  \n",
       "98229  \"양 정당 대표 합의안 검토…승인 후 제3당 참여 위해 공유\"녹색당·노동당·사회민주...  \n",
       "\n",
       "[79410 rows x 2 columns]"
      ]
     },
     "execution_count": 15,
     "metadata": {},
     "output_type": "execute_result"
    }
   ],
   "source": [
    "df_news"
   ]
  },
  {
   "cell_type": "code",
   "execution_count": null,
   "id": "dac2abfb",
   "metadata": {},
   "outputs": [],
   "source": []
  },
  {
   "cell_type": "markdown",
   "id": "b35f6e18",
   "metadata": {
    "id": "b35f6e18"
   },
   "source": [
    "## 문장으로 나누기"
   ]
  },
  {
   "cell_type": "code",
   "execution_count": 16,
   "id": "d1fdf8ab",
   "metadata": {
    "ExecuteTime": {
     "end_time": "2024-03-13T07:10:47.432531Z",
     "start_time": "2024-03-13T07:10:47.281839Z"
    },
    "colab": {
     "base_uri": "https://localhost:8080/",
     "height": 597
    },
    "executionInfo": {
     "elapsed": 1728,
     "status": "ok",
     "timestamp": 1709863904914,
     "user": {
      "displayName": "김유림",
      "userId": "09242611142827377637"
     },
     "user_tz": -540
    },
    "id": "d1fdf8ab",
    "outputId": "8cf838ba-9a9d-473d-d8a3-afff5e358628"
   },
   "outputs": [
    {
     "data": {
      "text/html": [
       "<div>\n",
       "<style scoped>\n",
       "    .dataframe tbody tr th:only-of-type {\n",
       "        vertical-align: middle;\n",
       "    }\n",
       "\n",
       "    .dataframe tbody tr th {\n",
       "        vertical-align: top;\n",
       "    }\n",
       "\n",
       "    .dataframe thead th {\n",
       "        text-align: right;\n",
       "    }\n",
       "</style>\n",
       "<table border=\"1\" class=\"dataframe\">\n",
       "  <thead>\n",
       "    <tr style=\"text-align: right;\">\n",
       "      <th></th>\n",
       "      <th>title</th>\n",
       "      <th>content</th>\n",
       "    </tr>\n",
       "  </thead>\n",
       "  <tbody>\n",
       "    <tr>\n",
       "      <th>0</th>\n",
       "      <td>유시민 \"검찰도 사법도 썩었지\" vs 진중권 \"유시민 망상, 대중은 현실로 믿어\"</td>\n",
       "      <td>[JTBC 신년토론서 격돌조국 전 장관 사태와 '유시민의 알릴레오' 두고 논쟁   ...</td>\n",
       "    </tr>\n",
       "    <tr>\n",
       "      <th>1</th>\n",
       "      <td>특정 정당 맹목적 지지 없어…진보진영 유리 장담 못해 [신년 기획 - 21대 총선 분석]</td>\n",
       "      <td>[ㆍ사상 첫 18세 투표 영향은신규 유입 유권자 약 53만명여야, 청소년 전략 마련...</td>\n",
       "    </tr>\n",
       "    <tr>\n",
       "      <th>2</th>\n",
       "      <td>한국당 \"울산시장 선거 정황 의심\"…추미애 고발</td>\n",
       "      <td>[[머니투데이 한고은 기자]     (서울=뉴스1) 임세영 기자 = 곽상도 자유한국...</td>\n",
       "    </tr>\n",
       "    <tr>\n",
       "      <th>3</th>\n",
       "      <td>한국당, 추미애 檢 고발..\"선거법 위반\"</td>\n",
       "      <td>[곽상도 친문농단특위 위원장, 1일 고발\"지방선거 전 송철호에 靑행정관 소개\"\"공무...</td>\n",
       "    </tr>\n",
       "    <tr>\n",
       "      <th>4</th>\n",
       "      <td>文의장 \"검찰·선거개혁 단초 열어 보람…소명 다할 것\"</td>\n",
       "      <td>[\"공수처는 金·盧·文 세 대통령의 숙원이자 꿈\"  한국당 '아빠 찬스, 아들 공천...</td>\n",
       "    </tr>\n",
       "    <tr>\n",
       "      <th>...</th>\n",
       "      <td>...</td>\n",
       "      <td>...</td>\n",
       "    </tr>\n",
       "    <tr>\n",
       "      <th>98225</th>\n",
       "      <td>‘세월호 막말’ 닷새만에… 차명진 제명</td>\n",
       "      <td>[통합당, 긴급 최고위서 직권 의결… 수도권 전체 판세에 악영향 판단강원선 김진태 ...</td>\n",
       "    </tr>\n",
       "    <tr>\n",
       "      <th>98226</th>\n",
       "      <td>정봉주 “나를 개쓰레기 취급” 與 막말 비난</td>\n",
       "      <td>[논란 일자 “부적절한 표현” 사과    열린민주당 정봉주 최고위원(사진)이 12일...</td>\n",
       "    </tr>\n",
       "    <tr>\n",
       "      <th>98227</th>\n",
       "      <td>민주당 “아직 2% 부족” vs 통합당 “100석도 위태”</td>\n",
       "      <td>[이해찬 “수도권 121석중 70곳 경합”박형준 “개헌 저지선도 무너질 위기” 김종...</td>\n",
       "    </tr>\n",
       "    <tr>\n",
       "      <th>98228</th>\n",
       "      <td>[총선2020] 범여권, '오세훈만 떨어뜨리면 된다' 계산 섰나</td>\n",
       "      <td>[민주당 핵심 당직자들, 한날 광진을 지원방문'촛불시민모임' '대진연' 등도 계속해...</td>\n",
       "    </tr>\n",
       "    <tr>\n",
       "      <th>98229</th>\n",
       "      <td>아일랜드 중도우파 양대정당, 사상 첫 연정 '사실상 합의'</td>\n",
       "      <td>[\"양 정당 대표 합의안 검토…승인 후 제3당 참여 위해 공유\"녹색당·노동당·사회민...</td>\n",
       "    </tr>\n",
       "  </tbody>\n",
       "</table>\n",
       "<p>79410 rows × 2 columns</p>\n",
       "</div>"
      ],
      "text/plain": [
       "                                                   title  \\\n",
       "0          유시민 \"검찰도 사법도 썩었지\" vs 진중권 \"유시민 망상, 대중은 현실로 믿어\"   \n",
       "1      특정 정당 맹목적 지지 없어…진보진영 유리 장담 못해 [신년 기획 - 21대 총선 분석]   \n",
       "2                             한국당 \"울산시장 선거 정황 의심\"…추미애 고발   \n",
       "3                                한국당, 추미애 檢 고발..\"선거법 위반\"   \n",
       "4                         文의장 \"검찰·선거개혁 단초 열어 보람…소명 다할 것\"   \n",
       "...                                                  ...   \n",
       "98225                              ‘세월호 막말’ 닷새만에… 차명진 제명   \n",
       "98226                           정봉주 “나를 개쓰레기 취급” 與 막말 비난   \n",
       "98227                   민주당 “아직 2% 부족” vs 통합당 “100석도 위태”   \n",
       "98228                [총선2020] 범여권, '오세훈만 떨어뜨리면 된다' 계산 섰나   \n",
       "98229                   아일랜드 중도우파 양대정당, 사상 첫 연정 '사실상 합의'   \n",
       "\n",
       "                                                 content  \n",
       "0      [JTBC 신년토론서 격돌조국 전 장관 사태와 '유시민의 알릴레오' 두고 논쟁   ...  \n",
       "1      [ㆍ사상 첫 18세 투표 영향은신규 유입 유권자 약 53만명여야, 청소년 전략 마련...  \n",
       "2      [[머니투데이 한고은 기자]     (서울=뉴스1) 임세영 기자 = 곽상도 자유한국...  \n",
       "3      [곽상도 친문농단특위 위원장, 1일 고발\"지방선거 전 송철호에 靑행정관 소개\"\"공무...  \n",
       "4      [\"공수처는 金·盧·文 세 대통령의 숙원이자 꿈\"  한국당 '아빠 찬스, 아들 공천...  \n",
       "...                                                  ...  \n",
       "98225  [통합당, 긴급 최고위서 직권 의결… 수도권 전체 판세에 악영향 판단강원선 김진태 ...  \n",
       "98226  [논란 일자 “부적절한 표현” 사과    열린민주당 정봉주 최고위원(사진)이 12일...  \n",
       "98227  [이해찬 “수도권 121석중 70곳 경합”박형준 “개헌 저지선도 무너질 위기” 김종...  \n",
       "98228  [민주당 핵심 당직자들, 한날 광진을 지원방문'촛불시민모임' '대진연' 등도 계속해...  \n",
       "98229  [\"양 정당 대표 합의안 검토…승인 후 제3당 참여 위해 공유\"녹색당·노동당·사회민...  \n",
       "\n",
       "[79410 rows x 2 columns]"
      ]
     },
     "execution_count": 16,
     "metadata": {},
     "output_type": "execute_result"
    }
   ],
   "source": [
    "df_news['content'] = df_news['content'].str.split('.')\n",
    "\n",
    "df_news"
   ]
  },
  {
   "cell_type": "code",
   "execution_count": null,
   "id": "7a7165cb",
   "metadata": {
    "ExecuteTime": {
     "end_time": "2024-03-08T00:54:23.670215Z",
     "start_time": "2024-03-08T00:54:23.667483Z"
    },
    "id": "7a7165cb"
   },
   "outputs": [],
   "source": [
    "# # '@'가 포함된 값 이전까지 가져오기\n",
    "# from tqdm import tqdm\n",
    "\n",
    "# # 새로운 열을 생성하기 위해 빈 리스트 초기화\n",
    "# new_content = []\n",
    "\n",
    "# for i in tqdm(range(len(df_news))):\n",
    "#     res = []\n",
    "#     for j in range(len(df_news.iloc[i, 1])):\n",
    "#         if not (re.search(\"[a-zA-Z]\", df_news.iloc[i, 1][j]) or '@' in df_news.iloc[i, 1][j] or '<' in df_news.iloc[i, 1][j] or '>' in df_news.iloc[i, 1][j]):\n",
    "#             res.append(df_news.iloc[i, 1][j])\n",
    "#         else:\n",
    "#             continue\n",
    "#     # 각 행에 대한 결과를 빈 리스트에 추가\n",
    "#     new_content.append(res)\n",
    "\n",
    "# # 새로운 열로 할당\n",
    "# df_news['new_content'] = new_content"
   ]
  },
  {
   "cell_type": "markdown",
   "id": "e1add138",
   "metadata": {
    "id": "e1add138"
   },
   "source": [
    "'@'가 포함된 값 이전까지 가져오기"
   ]
  },
  {
   "cell_type": "code",
   "execution_count": null,
   "id": "e07388e3",
   "metadata": {
    "ExecuteTime": {
     "end_time": "2024-03-08T00:54:23.676182Z",
     "start_time": "2024-03-08T00:54:23.671215Z"
    },
    "id": "e07388e3"
   },
   "outputs": [],
   "source": [
    "# # 이메일이 먼저 나오는 경우 일단 넘어가서 가져오기\n",
    "\n",
    "# from tqdm import tqdm\n",
    "\n",
    "# # 새로운 열을 생성하기 위해 빈 리스트 초기화\n",
    "# new_content = []\n",
    "\n",
    "# for i in tqdm(range(len(df_news))):\n",
    "#     res = []\n",
    "#     for j in range(len(df_news.iloc[i, 1])):\n",
    "#         if '@' in df_news.iloc[i, 1][j]:\n",
    "#             if j <= (len(df_news.iloc[i, 1]) // 2):\n",
    "#                 # '@'가 전체 리스트의 절반보다 앞에 있는 경우\n",
    "#                 res.extend(df_news.iloc[i, 1][j:])\n",
    "#             else:\n",
    "#                 # '@'가 전체 리스트의 절반보다 뒤에 있는 경우\n",
    "#                 res.extend(df_news.iloc[i, 1][:j])\n",
    "#                 break  # 뒤에 있는 부분만 가져온 후 반복문 종료\n",
    "\n",
    "#     # 각 행에 대한 결과를 빈 리스트에 추가\n",
    "#     new_content.append(res)\n",
    "\n",
    "# # 새로운 열로 할당\n",
    "# df_news['new_content'] = new_content"
   ]
  },
  {
   "cell_type": "code",
   "execution_count": 46,
   "id": "0c8154d7",
   "metadata": {
    "ExecuteTime": {
     "end_time": "2024-03-13T05:51:25.590032Z",
     "start_time": "2024-03-13T05:51:11.442278Z"
    },
    "colab": {
     "base_uri": "https://localhost:8080/"
    },
    "executionInfo": {
     "elapsed": 96909,
     "status": "ok",
     "timestamp": 1709864001817,
     "user": {
      "displayName": "김유림",
      "userId": "09242611142827377637"
     },
     "user_tz": -540
    },
    "id": "0c8154d7",
    "outputId": "bab9ce81-8ab9-45dd-ac69-52362ea6f2d1"
   },
   "outputs": [
    {
     "name": "stderr",
     "output_type": "stream",
     "text": [
      "100%|███████████████████████████████████| 79410/79410 [00:14<00:00, 5617.86it/s]\n"
     ]
    }
   ],
   "source": [
    "# from tqdm import tqdm\n",
    "\n",
    "# # 새로운 열을 생성하기 위해 빈 리스트 초기화\n",
    "# new_content = []\n",
    "\n",
    "# for i in tqdm(range(len(df_news))):\n",
    "#     res = []\n",
    "#     for j in range(len(df_news.iloc[i, 1])):\n",
    "#         if '@' in df_news.iloc[i, 1][j]:\n",
    "#             continue  # '@'가 있는 리스트는 건너뜁니다.\n",
    "#         res.append(df_news.iloc[i, 1][j])\n",
    "\n",
    "#     # 각 행에 대한 결과를 빈 리스트에 추가\n",
    "#     new_content.append(res)\n",
    "\n",
    "# # 새로운 열로 할당\n",
    "# df_news['new_content'] = new_content\n"
   ]
  },
  {
   "cell_type": "code",
   "execution_count": null,
   "id": "79fc93e6",
   "metadata": {
    "ExecuteTime": {
     "end_time": "2024-03-08T00:55:15.895111Z",
     "start_time": "2024-03-08T00:55:15.890253Z"
    },
    "id": "79fc93e6",
    "outputId": "8896cffc-36bf-4511-e29e-68d13fe7d13d"
   },
   "outputs": [
    {
     "data": {
      "text/plain": [
       "['공무상 비밀누설죄 및 공직선거법 위반 혐의\"文 선거개입 수사 방해하려 임명 서두르는 듯\"\"철저한 검찰수사로 선거개입 진실 밝혀져야\"    [서울=뉴시스]김명원 기자 = 추미애 법무부장관 후보자가 30일 오후 서울 여의도 국회 법제사법위원회에서 열린 법무부장관 후보자 인사청문회에 참석해 의원들의 질의를 경청하며 가져온 음료를 마시고 있다',\n",
       " '  2019',\n",
       " '12',\n",
       " '30',\n",
       " 'com [서울=뉴시스] 이승주 기자 = 자유한국당이 1일 선거개입 의혹을 제기하며 추미애 법무부장관 후보자를 검찰에 고발했다',\n",
       " '친문농단진상조사특위 총괄본부장을 맡고 있는 곽상도 한국당 의원은 이날 보도자료를 통해 \"청와대에 이어 추미애 전 민주당 대표의 선거개입 정황이 의심된다\"며 \"추 전 대표를 공무상 비밀누설죄 및 공직선거법 위반 혐의로 고발했다\"고 밝혔다',\n",
       " '곽 의원은 \"지난 6·13선거와 관련 추 전 대표 측 관계자는 청와대 균형발전비서관실 소속 장환석 선임행정관을 송철호·송병기 등에게 소개했다고 한다\"며 \"이를 통해 송철호 측은 외부에 공개되지 않은 울산 관련 정보를 선거 공약으로 활용했다는 것이 언론에 밝혀졌다\"고 했다',\n",
       " '그러면서 \"문재인 대통령이 추 전 대표를 선거사범 등을 관장하는 주무부처인 법무부 장관으로 서둘러 임명하려는 것도, 장관도 아닌 후보자 신분으로 추 전 대표가 검사 인사 관련 보고를 받았다는 것도 청와대 선거 개입 관련 수사를 방해하려는 작업으로 볼 수밖에 없다\"고 주장했다',\n",
       " '이어 \"청와대의 법무부 장관 임명이 범죄 은폐 수단이 되어선 안 된다\"며 \"철저한 검찰 수사로 청와대의 선거 개입 의혹 진실이 낱낱이 밝혀져야 한다\"고 강조했다',\n",
       " 'com▶ K-Artprice 모바일 오픈! 미술작품 가격을 공개합니다▶ 뉴시스 채널 구독하고 에어팟 프로 받아가세요▶ 뉴시스 빅데이터 MSI 주가시세표 바로가기 <저작권자ⓒ 공감언론 뉴시스통신사',\n",
       " ' 무단전재-재배포 금지',\n",
       " '>']"
      ]
     },
     "execution_count": 84,
     "metadata": {},
     "output_type": "execute_result"
    }
   ],
   "source": [
    "# df_news['new_content'][10]"
   ]
  },
  {
   "cell_type": "markdown",
   "id": "b858294e",
   "metadata": {
    "id": "b858294e"
   },
   "source": [
    "# 긍정/부정 구분"
   ]
  },
  {
   "cell_type": "code",
   "execution_count": 19,
   "id": "b42da407",
   "metadata": {
    "ExecuteTime": {
     "end_time": "2024-03-13T07:12:27.164798Z",
     "start_time": "2024-03-13T07:12:27.160751Z"
    },
    "executionInfo": {
     "elapsed": 423,
     "status": "ok",
     "timestamp": 1709864002238,
     "user": {
      "displayName": "김유림",
      "userId": "09242611142827377637"
     },
     "user_tz": -540
    },
    "id": "b42da407"
   },
   "outputs": [],
   "source": [
    "party_names = [\n",
    "    '더불어민주당', '미래통합당', '민생당', '정의당', '우리공화당', '민중당', '한국경제당', '국민의당', '친박신당', '열린민주당',\n",
    "    '미래한국당', '더불어시민당', '가자코리아', '가자!평화인권당', '가자환경당', '공화당', '국가혁명배당금당', '국민새정당',\n",
    "    '국민참여신당', '기독자유통일당', '기본소득당', '깨어있는시민연대당', '남북통일당', '노동당', '녹색당', '대한당', '대한민국당',\n",
    "    '미래당', '미래민주당', '민중민주당', '새누리당', '시대전환', '여성의당', '우리당(2020년)', '자유당', '자유의새벽당',\n",
    "    '중소자영업당', '직능자영업당', '충청의미래당', '통일민주당', '한국복지당', '한나라당', '홍익당', '자유한국당', '무소속'\n",
    "]\n"
   ]
  },
  {
   "cell_type": "markdown",
   "id": "670a50d0",
   "metadata": {
    "id": "670a50d0"
   },
   "source": [
    "당에 관한 기사만"
   ]
  },
  {
   "cell_type": "code",
   "execution_count": 20,
   "id": "4e556942",
   "metadata": {
    "ExecuteTime": {
     "end_time": "2024-03-13T07:14:07.999146Z",
     "start_time": "2024-03-13T07:14:07.989332Z"
    }
   },
   "outputs": [
    {
     "data": {
      "text/html": [
       "<div>\n",
       "<style scoped>\n",
       "    .dataframe tbody tr th:only-of-type {\n",
       "        vertical-align: middle;\n",
       "    }\n",
       "\n",
       "    .dataframe tbody tr th {\n",
       "        vertical-align: top;\n",
       "    }\n",
       "\n",
       "    .dataframe thead th {\n",
       "        text-align: right;\n",
       "    }\n",
       "</style>\n",
       "<table border=\"1\" class=\"dataframe\">\n",
       "  <thead>\n",
       "    <tr style=\"text-align: right;\">\n",
       "      <th></th>\n",
       "      <th>title</th>\n",
       "      <th>content</th>\n",
       "    </tr>\n",
       "  </thead>\n",
       "  <tbody>\n",
       "    <tr>\n",
       "      <th>0</th>\n",
       "      <td>유시민 \"검찰도 사법도 썩었지\" vs 진중권 \"유시민 망상, 대중은 현실로 믿어\"</td>\n",
       "      <td>[JTBC 신년토론서 격돌조국 전 장관 사태와 '유시민의 알릴레오' 두고 논쟁   ...</td>\n",
       "    </tr>\n",
       "    <tr>\n",
       "      <th>1</th>\n",
       "      <td>특정 정당 맹목적 지지 없어…진보진영 유리 장담 못해 [신년 기획 - 21대 총선 분석]</td>\n",
       "      <td>[ㆍ사상 첫 18세 투표 영향은신규 유입 유권자 약 53만명여야, 청소년 전략 마련...</td>\n",
       "    </tr>\n",
       "    <tr>\n",
       "      <th>2</th>\n",
       "      <td>한국당 \"울산시장 선거 정황 의심\"…추미애 고발</td>\n",
       "      <td>[[머니투데이 한고은 기자]     (서울=뉴스1) 임세영 기자 = 곽상도 자유한국...</td>\n",
       "    </tr>\n",
       "    <tr>\n",
       "      <th>3</th>\n",
       "      <td>한국당, 추미애 檢 고발..\"선거법 위반\"</td>\n",
       "      <td>[곽상도 친문농단특위 위원장, 1일 고발\"지방선거 전 송철호에 靑행정관 소개\"\"공무...</td>\n",
       "    </tr>\n",
       "    <tr>\n",
       "      <th>4</th>\n",
       "      <td>文의장 \"검찰·선거개혁 단초 열어 보람…소명 다할 것\"</td>\n",
       "      <td>[\"공수처는 金·盧·文 세 대통령의 숙원이자 꿈\"  한국당 '아빠 찬스, 아들 공천...</td>\n",
       "    </tr>\n",
       "  </tbody>\n",
       "</table>\n",
       "</div>"
      ],
      "text/plain": [
       "                                               title  \\\n",
       "0      유시민 \"검찰도 사법도 썩었지\" vs 진중권 \"유시민 망상, 대중은 현실로 믿어\"   \n",
       "1  특정 정당 맹목적 지지 없어…진보진영 유리 장담 못해 [신년 기획 - 21대 총선 분석]   \n",
       "2                         한국당 \"울산시장 선거 정황 의심\"…추미애 고발   \n",
       "3                            한국당, 추미애 檢 고발..\"선거법 위반\"   \n",
       "4                     文의장 \"검찰·선거개혁 단초 열어 보람…소명 다할 것\"   \n",
       "\n",
       "                                             content  \n",
       "0  [JTBC 신년토론서 격돌조국 전 장관 사태와 '유시민의 알릴레오' 두고 논쟁   ...  \n",
       "1  [ㆍ사상 첫 18세 투표 영향은신규 유입 유권자 약 53만명여야, 청소년 전략 마련...  \n",
       "2  [[머니투데이 한고은 기자]     (서울=뉴스1) 임세영 기자 = 곽상도 자유한국...  \n",
       "3  [곽상도 친문농단특위 위원장, 1일 고발\"지방선거 전 송철호에 靑행정관 소개\"\"공무...  \n",
       "4  [\"공수처는 金·盧·文 세 대통령의 숙원이자 꿈\"  한국당 '아빠 찬스, 아들 공천...  "
      ]
     },
     "execution_count": 20,
     "metadata": {},
     "output_type": "execute_result"
    }
   ],
   "source": [
    "df_news.head()"
   ]
  },
  {
   "cell_type": "code",
   "execution_count": 29,
   "id": "b714cb90",
   "metadata": {
    "ExecuteTime": {
     "end_time": "2024-03-13T07:16:53.807687Z",
     "start_time": "2024-03-13T07:16:53.797993Z"
    },
    "colab": {
     "base_uri": "https://localhost:8080/"
    },
    "executionInfo": {
     "elapsed": 11252,
     "status": "ok",
     "timestamp": 1709864013486,
     "user": {
      "displayName": "김유림",
      "userId": "09242611142827377637"
     },
     "user_tz": -540
    },
    "id": "b714cb90",
    "outputId": "7e7ec803-aa76-4d89-d71c-04a91a7bbed0"
   },
   "outputs": [
    {
     "name": "stderr",
     "output_type": "stream",
     "text": [
      "100%|██████████████████████████████████████████| 5/5 [00:00<00:00, 32463.65it/s]"
     ]
    },
    {
     "name": "stdout",
     "output_type": "stream",
     "text": [
      "JTBC 신년토론서 격돌조국 전 장관 사태와 '유시민의 알릴레오' 두고 논쟁    유시민 사람사는세상 노무현재단 이사장과 진중권 전 동양대교수가 1일 오후 경기 고양시 일산 JTBC 스튜디오에서 열린 JTBC 신년특집 토론회에서 '한국 언론, 어디에 서있나'를 주제로 토론하고 있다\n",
      "ㆍ사상 첫 18세 투표 영향은신규 유입 유권자 약 53만명여야, 청소년 전략 마련 분주선거법 개정안은 만 18세 청소년도 투표나 선거운동이 가능하도록 규정했다\n",
      "[머니투데이 한고은 기자]     (서울=뉴스1) 임세영 기자 = 곽상도 자유한국당 文정권 국정농단 3대 게이트 진상조사 총괄본부장이 17일 오후 서울 여의도 국회 정론관에서 기자회견을 갖고 김기현 전 울산시장 측근 비위 의혹 첩보 전달 과정을 설명하고 있다\n",
      "곽상도 친문농단특위 위원장, 1일 고발\"지방선거 전 송철호에 靑행정관 소개\"\"공무상 비밀 누설죄·선거법 위반\"    추미애 법무부 장관 후보자\n",
      "\"공수처는 金·盧·文 세 대통령의 숙원이자 꿈\"  한국당 '아빠 찬스, 아들 공천' 공격에 \"떳떳하고 당당, 자랑스럽다\"    문희상<사진> 국회의장은 1일 공직선거법 개정안과 고위공직자범죄수사처(공수처) 법안이 국회 본회의를 통과한 것에 대해 \"검찰개혁, 선거개혁이라는 두 가지 중요한 측면에서 촛불혁명 정신이 발현되는 단초를 열었고, 보람으로 생각한다\"고 했다\n"
     ]
    },
    {
     "name": "stderr",
     "output_type": "stream",
     "text": [
      "\n"
     ]
    }
   ],
   "source": [
    "# 당에 관한 기사만\n",
    "\n",
    "party_sentences = []\n",
    "party_lst = []\n",
    "\n",
    "for data in tqdm(df_news['content'][:5]):\n",
    "    res = []\n",
    "    party_name = []\n",
    "    print(data[0])\n",
    "    \n",
    "    for j in range(len(data)):\n",
    "        for party in party_names:\n",
    "            if party in data[j]:\n",
    "                party_name.append(party)\n",
    "                res.append(data[j])\n",
    "                break  # 당 이름이 발견되면 해당 문장을 추가하고 내부 루프 종료\n",
    "    party_sentences.append(res)\n",
    "    party_lst.append(party_name)\n",
    "\n",
    "df_news['party_content'] = party_sentences\n",
    "df_news['party_name'] = party_lst"
   ]
  },
  {
   "cell_type": "code",
   "execution_count": 49,
   "id": "4da45fe2",
   "metadata": {
    "ExecuteTime": {
     "end_time": "2024-03-13T05:51:44.867822Z",
     "start_time": "2024-03-13T05:51:44.861746Z"
    },
    "id": "4da45fe2",
    "outputId": "349a6a6f-2672-4d53-f788-da37ada541da"
   },
   "outputs": [
    {
     "data": {
      "text/html": [
       "<div>\n",
       "<style scoped>\n",
       "    .dataframe tbody tr th:only-of-type {\n",
       "        vertical-align: middle;\n",
       "    }\n",
       "\n",
       "    .dataframe tbody tr th {\n",
       "        vertical-align: top;\n",
       "    }\n",
       "\n",
       "    .dataframe thead th {\n",
       "        text-align: right;\n",
       "    }\n",
       "</style>\n",
       "<table border=\"1\" class=\"dataframe\">\n",
       "  <thead>\n",
       "    <tr style=\"text-align: right;\">\n",
       "      <th></th>\n",
       "      <th>title</th>\n",
       "      <th>content</th>\n",
       "      <th>new_content</th>\n",
       "      <th>party_content</th>\n",
       "      <th>party_name</th>\n",
       "    </tr>\n",
       "  </thead>\n",
       "  <tbody>\n",
       "    <tr>\n",
       "      <th>0</th>\n",
       "      <td>유시민 \"검찰도 사법도 썩었지\" vs 진중권 \"유시민 망상, 대중은 현실로 믿어\"</td>\n",
       "      <td>[JTBC 신년토론서 격돌조국 전 장관 사태와 '유시민의 알릴레오' 두고 논쟁   ...</td>\n",
       "      <td>[JTBC 신년토론서 격돌조국 전 장관 사태와 '유시민의 알릴레오' 두고 논쟁   ...</td>\n",
       "      <td>[]</td>\n",
       "      <td>[]</td>\n",
       "    </tr>\n",
       "    <tr>\n",
       "      <th>1</th>\n",
       "      <td>특정 정당 맹목적 지지 없어…진보진영 유리 장담 못해 [신년 기획 - 21대 총선 분석]</td>\n",
       "      <td>[ㆍ사상 첫 18세 투표 영향은신규 유입 유권자 약 53만명여야, 청소년 전략 마련...</td>\n",
       "      <td>[ㆍ사상 첫 18세 투표 영향은신규 유입 유권자 약 53만명여야, 청소년 전략 마련...</td>\n",
       "      <td>[ 더불어민주당은 정책, 영입을 병행 추진하고 있다,   자유한국당은 선거연령 하향...</td>\n",
       "      <td>[더불어민주당, 자유한국당]</td>\n",
       "    </tr>\n",
       "    <tr>\n",
       "      <th>2</th>\n",
       "      <td>한국당 \"울산시장 선거 정황 의심\"…추미애 고발</td>\n",
       "      <td>[[머니투데이 한고은 기자]     (서울=뉴스1) 임세영 기자 = 곽상도 자유한국...</td>\n",
       "      <td>[[머니투데이 한고은 기자]     (서울=뉴스1) 임세영 기자 = 곽상도 자유한국...</td>\n",
       "      <td>[[머니투데이 한고은 기자]     (서울=뉴스1) 임세영 기자 = 곽상도 자유한국...</td>\n",
       "      <td>[자유한국당, 자유한국당]</td>\n",
       "    </tr>\n",
       "    <tr>\n",
       "      <th>3</th>\n",
       "      <td>한국당, 추미애 檢 고발..\"선거법 위반\"</td>\n",
       "      <td>[곽상도 친문농단특위 위원장, 1일 고발\"지방선거 전 송철호에 靑행정관 소개\"\"공무...</td>\n",
       "      <td>[곽상도 친문농단특위 위원장, 1일 고발\"지방선거 전 송철호에 靑행정관 소개\"\"공무...</td>\n",
       "      <td>[ (사진=노진환 기자)[이데일리 김겨레 기자]자유한국당이 1일 추미애 법무부 장관...</td>\n",
       "      <td>[더불어민주당]</td>\n",
       "    </tr>\n",
       "    <tr>\n",
       "      <th>4</th>\n",
       "      <td>文의장 \"검찰·선거개혁 단초 열어 보람…소명 다할 것\"</td>\n",
       "      <td>[\"공수처는 金·盧·文 세 대통령의 숙원이자 꿈\"  한국당 '아빠 찬스, 아들 공천...</td>\n",
       "      <td>[\"공수처는 金·盧·文 세 대통령의 숙원이자 꿈\"  한국당 '아빠 찬스, 아들 공천...</td>\n",
       "      <td>[ 그러면서 자유한국당이 자신을 향해 아들 공천 문제 때문에 여당 편을 든다고 반발...</td>\n",
       "      <td>[자유한국당]</td>\n",
       "    </tr>\n",
       "    <tr>\n",
       "      <th>...</th>\n",
       "      <td>...</td>\n",
       "      <td>...</td>\n",
       "      <td>...</td>\n",
       "      <td>...</td>\n",
       "      <td>...</td>\n",
       "    </tr>\n",
       "    <tr>\n",
       "      <th>98225</th>\n",
       "      <td>‘세월호 막말’ 닷새만에… 차명진 제명</td>\n",
       "      <td>[통합당, 긴급 최고위서 직권 의결… 수도권 전체 판세에 악영향 판단강원선 김진태 ...</td>\n",
       "      <td>[통합당, 긴급 최고위서 직권 의결… 수도권 전체 판세에 악영향 판단강원선 김진태 ...</td>\n",
       "      <td>[통합당, 긴급 최고위서 직권 의결… 수도권 전체 판세에 악영향 판단강원선 김진태 ...</td>\n",
       "      <td>[미래통합당]</td>\n",
       "    </tr>\n",
       "    <tr>\n",
       "      <th>98226</th>\n",
       "      <td>정봉주 “나를 개쓰레기 취급” 與 막말 비난</td>\n",
       "      <td>[논란 일자 “부적절한 표현” 사과    열린민주당 정봉주 최고위원(사진)이 12일...</td>\n",
       "      <td>[논란 일자 “부적절한 표현” 사과    열린민주당 정봉주 최고위원(사진)이 12일...</td>\n",
       "      <td>[논란 일자 “부적절한 표현” 사과    열린민주당 정봉주 최고위원(사진)이 12일...</td>\n",
       "      <td>[더불어민주당, 열린민주당, 열린민주당, 열린민주당, 더불어시민당, 열린민주당]</td>\n",
       "    </tr>\n",
       "    <tr>\n",
       "      <th>98227</th>\n",
       "      <td>민주당 “아직 2% 부족” vs 통합당 “100석도 위태”</td>\n",
       "      <td>[이해찬 “수도권 121석중 70곳 경합”박형준 “개헌 저지선도 무너질 위기” 김종...</td>\n",
       "      <td>[이해찬 “수도권 121석중 70곳 경합”박형준 “개헌 저지선도 무너질 위기” 김종...</td>\n",
       "      <td>[com     4·15총선을 이틀 남긴 13일 정치권은 미래통합당이 제기한 ‘여당...</td>\n",
       "      <td>[미래통합당, 더불어민주당, 더불어시민당]</td>\n",
       "    </tr>\n",
       "    <tr>\n",
       "      <th>98228</th>\n",
       "      <td>[총선2020] 범여권, '오세훈만 떨어뜨리면 된다' 계산 섰나</td>\n",
       "      <td>[민주당 핵심 당직자들, 한날 광진을 지원방문'촛불시민모임' '대진연' 등도 계속해...</td>\n",
       "      <td>[민주당 핵심 당직자들, 한날 광진을 지원방문'촛불시민모임' '대진연' 등도 계속해...</td>\n",
       "      <td>[ 더불어민주당 이낙연 상임선거대책위원장, 이인영 원내대표, 박광온 최고위원 등 핵...</td>\n",
       "      <td>[더불어민주당, 미래통합당, 미래통합당]</td>\n",
       "    </tr>\n",
       "    <tr>\n",
       "      <th>98229</th>\n",
       "      <td>아일랜드 중도우파 양대정당, 사상 첫 연정 '사실상 합의'</td>\n",
       "      <td>[\"양 정당 대표 합의안 검토…승인 후 제3당 참여 위해 공유\"녹색당·노동당·사회민...</td>\n",
       "      <td>[\"양 정당 대표 합의안 검토…승인 후 제3당 참여 위해 공유\"녹색당·노동당·사회민...</td>\n",
       "      <td>[\"양 정당 대표 합의안 검토…승인 후 제3당 참여 위해 공유\"녹색당·노동당·사회민...</td>\n",
       "      <td>[공화당, 공화당, 공화당, 공화당, 공화당, 공화당, 공화당, 공화당, 공화당, ...</td>\n",
       "    </tr>\n",
       "  </tbody>\n",
       "</table>\n",
       "<p>79410 rows × 5 columns</p>\n",
       "</div>"
      ],
      "text/plain": [
       "                                                   title  \\\n",
       "0          유시민 \"검찰도 사법도 썩었지\" vs 진중권 \"유시민 망상, 대중은 현실로 믿어\"   \n",
       "1      특정 정당 맹목적 지지 없어…진보진영 유리 장담 못해 [신년 기획 - 21대 총선 분석]   \n",
       "2                             한국당 \"울산시장 선거 정황 의심\"…추미애 고발   \n",
       "3                                한국당, 추미애 檢 고발..\"선거법 위반\"   \n",
       "4                         文의장 \"검찰·선거개혁 단초 열어 보람…소명 다할 것\"   \n",
       "...                                                  ...   \n",
       "98225                              ‘세월호 막말’ 닷새만에… 차명진 제명   \n",
       "98226                           정봉주 “나를 개쓰레기 취급” 與 막말 비난   \n",
       "98227                   민주당 “아직 2% 부족” vs 통합당 “100석도 위태”   \n",
       "98228                [총선2020] 범여권, '오세훈만 떨어뜨리면 된다' 계산 섰나   \n",
       "98229                   아일랜드 중도우파 양대정당, 사상 첫 연정 '사실상 합의'   \n",
       "\n",
       "                                                 content  \\\n",
       "0      [JTBC 신년토론서 격돌조국 전 장관 사태와 '유시민의 알릴레오' 두고 논쟁   ...   \n",
       "1      [ㆍ사상 첫 18세 투표 영향은신규 유입 유권자 약 53만명여야, 청소년 전략 마련...   \n",
       "2      [[머니투데이 한고은 기자]     (서울=뉴스1) 임세영 기자 = 곽상도 자유한국...   \n",
       "3      [곽상도 친문농단특위 위원장, 1일 고발\"지방선거 전 송철호에 靑행정관 소개\"\"공무...   \n",
       "4      [\"공수처는 金·盧·文 세 대통령의 숙원이자 꿈\"  한국당 '아빠 찬스, 아들 공천...   \n",
       "...                                                  ...   \n",
       "98225  [통합당, 긴급 최고위서 직권 의결… 수도권 전체 판세에 악영향 판단강원선 김진태 ...   \n",
       "98226  [논란 일자 “부적절한 표현” 사과    열린민주당 정봉주 최고위원(사진)이 12일...   \n",
       "98227  [이해찬 “수도권 121석중 70곳 경합”박형준 “개헌 저지선도 무너질 위기” 김종...   \n",
       "98228  [민주당 핵심 당직자들, 한날 광진을 지원방문'촛불시민모임' '대진연' 등도 계속해...   \n",
       "98229  [\"양 정당 대표 합의안 검토…승인 후 제3당 참여 위해 공유\"녹색당·노동당·사회민...   \n",
       "\n",
       "                                             new_content  \\\n",
       "0      [JTBC 신년토론서 격돌조국 전 장관 사태와 '유시민의 알릴레오' 두고 논쟁   ...   \n",
       "1      [ㆍ사상 첫 18세 투표 영향은신규 유입 유권자 약 53만명여야, 청소년 전략 마련...   \n",
       "2      [[머니투데이 한고은 기자]     (서울=뉴스1) 임세영 기자 = 곽상도 자유한국...   \n",
       "3      [곽상도 친문농단특위 위원장, 1일 고발\"지방선거 전 송철호에 靑행정관 소개\"\"공무...   \n",
       "4      [\"공수처는 金·盧·文 세 대통령의 숙원이자 꿈\"  한국당 '아빠 찬스, 아들 공천...   \n",
       "...                                                  ...   \n",
       "98225  [통합당, 긴급 최고위서 직권 의결… 수도권 전체 판세에 악영향 판단강원선 김진태 ...   \n",
       "98226  [논란 일자 “부적절한 표현” 사과    열린민주당 정봉주 최고위원(사진)이 12일...   \n",
       "98227  [이해찬 “수도권 121석중 70곳 경합”박형준 “개헌 저지선도 무너질 위기” 김종...   \n",
       "98228  [민주당 핵심 당직자들, 한날 광진을 지원방문'촛불시민모임' '대진연' 등도 계속해...   \n",
       "98229  [\"양 정당 대표 합의안 검토…승인 후 제3당 참여 위해 공유\"녹색당·노동당·사회민...   \n",
       "\n",
       "                                           party_content  \\\n",
       "0                                                     []   \n",
       "1      [ 더불어민주당은 정책, 영입을 병행 추진하고 있다,   자유한국당은 선거연령 하향...   \n",
       "2      [[머니투데이 한고은 기자]     (서울=뉴스1) 임세영 기자 = 곽상도 자유한국...   \n",
       "3      [ (사진=노진환 기자)[이데일리 김겨레 기자]자유한국당이 1일 추미애 법무부 장관...   \n",
       "4      [ 그러면서 자유한국당이 자신을 향해 아들 공천 문제 때문에 여당 편을 든다고 반발...   \n",
       "...                                                  ...   \n",
       "98225  [통합당, 긴급 최고위서 직권 의결… 수도권 전체 판세에 악영향 판단강원선 김진태 ...   \n",
       "98226  [논란 일자 “부적절한 표현” 사과    열린민주당 정봉주 최고위원(사진)이 12일...   \n",
       "98227  [com     4·15총선을 이틀 남긴 13일 정치권은 미래통합당이 제기한 ‘여당...   \n",
       "98228  [ 더불어민주당 이낙연 상임선거대책위원장, 이인영 원내대표, 박광온 최고위원 등 핵...   \n",
       "98229  [\"양 정당 대표 합의안 검토…승인 후 제3당 참여 위해 공유\"녹색당·노동당·사회민...   \n",
       "\n",
       "                                              party_name  \n",
       "0                                                     []  \n",
       "1                                        [더불어민주당, 자유한국당]  \n",
       "2                                         [자유한국당, 자유한국당]  \n",
       "3                                               [더불어민주당]  \n",
       "4                                                [자유한국당]  \n",
       "...                                                  ...  \n",
       "98225                                            [미래통합당]  \n",
       "98226       [더불어민주당, 열린민주당, 열린민주당, 열린민주당, 더불어시민당, 열린민주당]  \n",
       "98227                            [미래통합당, 더불어민주당, 더불어시민당]  \n",
       "98228                             [더불어민주당, 미래통합당, 미래통합당]  \n",
       "98229  [공화당, 공화당, 공화당, 공화당, 공화당, 공화당, 공화당, 공화당, 공화당, ...  \n",
       "\n",
       "[79410 rows x 5 columns]"
      ]
     },
     "execution_count": 49,
     "metadata": {},
     "output_type": "execute_result"
    }
   ],
   "source": [
    "df_news"
   ]
  },
  {
   "cell_type": "code",
   "execution_count": 50,
   "id": "91a931a7",
   "metadata": {
    "ExecuteTime": {
     "end_time": "2024-03-13T05:51:56.751801Z",
     "start_time": "2024-03-13T05:51:56.702690Z"
    },
    "id": "91a931a7",
    "outputId": "e2733e8d-b994-4c3c-84a8-51a12188153d"
   },
   "outputs": [
    {
     "name": "stdout",
     "output_type": "stream",
     "text": [
      "빈 리스트인 행의 개수: 11768\n"
     ]
    }
   ],
   "source": [
    "# 빈 리스트인 행의 개수를 세는 변수 초기화\n",
    "empty_list_count = 0\n",
    "\n",
    "# 데이터프레임 각 행에 대해 반복하여 빈 리스트인지 확인\n",
    "for row in df_news['party_content']:\n",
    "    if len(row) == 0:\n",
    "        empty_list_count += 1\n",
    "\n",
    "print(\"빈 리스트인 행의 개수:\", empty_list_count)"
   ]
  },
  {
   "cell_type": "markdown",
   "id": "24fc0579",
   "metadata": {
    "id": "24fc0579"
   },
   "source": [
    "=> 당에 속한 사람도 있을 것이니 이후 추가해서 다시 확인(사람 이름으로) 완료!!!!!"
   ]
  },
  {
   "cell_type": "code",
   "execution_count": null,
   "id": "ae956d1a",
   "metadata": {
    "ExecuteTime": {
     "end_time": "2024-03-08T00:55:22.916947Z",
     "start_time": "2024-03-08T00:55:22.914222Z"
    },
    "id": "ae956d1a"
   },
   "outputs": [],
   "source": [
    "! pip install transformers\n",
    "! pip install torch"
   ]
  },
  {
   "cell_type": "code",
   "execution_count": null,
   "id": "1300a011",
   "metadata": {},
   "outputs": [],
   "source": [
    "import torch\n",
    "from transformers import BertTokenizer, BertForSequenceClassification\n",
    "from transformers import pipeline\n",
    "\n",
    "# KoBERT 모델과 토크나이저 불러오기\n",
    "model_name = \"snunlp/KR-BERT-char16424\"\n",
    "tokenizer = BertTokenizer.from_pretrained(model_name, do_lower_case = False)\n",
    "model = BertForSequenceClassification.from_pretrained(model_name)"
   ]
  },
  {
   "cell_type": "code",
   "execution_count": 12,
   "id": "4826dea3",
   "metadata": {
    "ExecuteTime": {
     "end_time": "2024-03-08T02:31:50.382666Z",
     "start_time": "2024-03-08T02:30:44.003576Z"
    },
    "colab": {
     "base_uri": "https://localhost:8080/"
    },
    "executionInfo": {
     "elapsed": 1902,
     "status": "ok",
     "timestamp": 1709864184208,
     "user": {
      "displayName": "김유림",
      "userId": "09242611142827377637"
     },
     "user_tz": -540
    },
    "id": "4826dea3",
    "outputId": "47872c58-d5e8-4ef7-e80a-b1b767a47228",
    "scrolled": true
   },
   "outputs": [
    {
     "name": "stderr",
     "output_type": "stream",
     "text": [
      "C:\\Users\\mit005\\anaconda3\\Lib\\site-packages\\transformers\\utils\\generic.py:260: UserWarning: torch.utils._pytree._register_pytree_node is deprecated. Please use torch.utils._pytree.register_pytree_node instead.\n",
      "  torch.utils._pytree._register_pytree_node(\n"
     ]
    },
    {
     "data": {
      "application/vnd.jupyter.widget-view+json": {
       "model_id": "cb399499a6954f7e85e586bd3ee4bc58",
       "version_major": 2,
       "version_minor": 0
      },
      "text/plain": [
       "Downloading vocab.json:   0%|          | 0.00/899k [00:00<?, ?B/s]"
      ]
     },
     "metadata": {},
     "output_type": "display_data"
    },
    {
     "name": "stderr",
     "output_type": "stream",
     "text": [
      "C:\\Users\\mit005\\anaconda3\\Lib\\site-packages\\huggingface_hub\\file_download.py:133: UserWarning: `huggingface_hub` cache-system uses symlinks by default to efficiently store duplicated files but your machine does not support them in C:\\Users\\mit005\\.cache\\huggingface\\hub. Caching files will still work but in a degraded version that might require more space on your disk. This warning can be disabled by setting the `HF_HUB_DISABLE_SYMLINKS_WARNING` environment variable. For more details, see https://huggingface.co/docs/huggingface_hub/how-to-cache#limitations.\n",
      "To support symlinks on Windows, you either need to activate Developer Mode or to run Python as an administrator. In order to see activate developer mode, see this article: https://docs.microsoft.com/en-us/windows/apps/get-started/enable-your-device-for-development\n",
      "  warnings.warn(message)\n"
     ]
    },
    {
     "data": {
      "application/vnd.jupyter.widget-view+json": {
       "model_id": "09607d2dec4b43db9d3f2f5a00abdfb8",
       "version_major": 2,
       "version_minor": 0
      },
      "text/plain": [
       "Downloading merges.txt:   0%|          | 0.00/456k [00:00<?, ?B/s]"
      ]
     },
     "metadata": {},
     "output_type": "display_data"
    },
    {
     "data": {
      "application/vnd.jupyter.widget-view+json": {
       "model_id": "a1e605695c0443dd9dadf482baa96d4c",
       "version_major": 2,
       "version_minor": 0
      },
      "text/plain": [
       "Downloading config.json:   0%|          | 0.00/694 [00:00<?, ?B/s]"
      ]
     },
     "metadata": {},
     "output_type": "display_data"
    },
    {
     "data": {
      "application/vnd.jupyter.widget-view+json": {
       "model_id": "276272bb06e64f3fa9c45a7dfda6c69e",
       "version_major": 2,
       "version_minor": 0
      },
      "text/plain": [
       "Downloading pytorch_model.bin:   0%|          | 0.00/597M [00:00<?, ?B/s]"
      ]
     },
     "metadata": {},
     "output_type": "display_data"
    },
    {
     "name": "stderr",
     "output_type": "stream",
     "text": [
      "Some weights of LongformerForSequenceClassification were not initialized from the model checkpoint at allenai/longformer-base-4096 and are newly initialized: ['classifier.out_proj.bias', 'classifier.out_proj.weight', 'classifier.dense.bias', 'classifier.dense.weight']\n",
      "You should probably TRAIN this model on a down-stream task to be able to use it for predictions and inference.\n"
     ]
    }
   ],
   "source": [
    "# from transformers import LongformerTokenizer, LongformerForSequenceClassification\n",
    "# import torch\n",
    "# from tqdm import tqdm\n",
    "\n",
    "# # Longformer 모델과 토크나이저 불러오기\n",
    "# model_name = 'allenai/longformer-base-4096'\n",
    "# tokenizer = LongformerTokenizer.from_pretrained(model_name)\n",
    "# model = LongformerForSequenceClassification.from_pretrained(model_name)"
   ]
  },
  {
   "cell_type": "code",
   "execution_count": null,
   "id": "9a225e45",
   "metadata": {
    "ExecuteTime": {
     "end_time": "2024-03-08T00:55:25.561281Z",
     "start_time": "2024-03-08T00:55:25.513253Z"
    },
    "id": "9a225e45",
    "outputId": "2aa691b1-d5ae-4d83-978f-b3fe8c2a3dde"
   },
   "outputs": [
    {
     "name": "stderr",
     "output_type": "stream",
     "text": [
      "Asking to truncate to max_length but no maximum length is provided and the model has no predefined maximum length. Default to no truncation.\n"
     ]
    },
    {
     "name": "stdout",
     "output_type": "stream",
     "text": [
      "입력 문장 : 너가 싫어\n",
      "감정 분석 결과 : 긍정\n"
     ]
    }
   ],
   "source": [
    "# # 입력 문장\n",
    "# text = \"너가 싫어\"\n",
    "\n",
    "# # 토큰화 및 패딩\n",
    "# inputs = tokenizer(text, return_tensors=\"pt\", padding=True, truncation=True)\n",
    "\n",
    "# # 모델로 예측\n",
    "# outputs = model(**inputs)\n",
    "\n",
    "# # 로짓 출력\n",
    "# logits = outputs.logits\n",
    "\n",
    "# # 예측 결과\n",
    "# predictions = torch.argmax(logits, dim = 1)\n",
    "# sentiment = \"긍정\" if predictions == 1 else \"부정\"\n",
    "\n",
    "# print(f\"입력 문장 : {text}\")\n",
    "# print(f\"감정 분석 결과 : {sentiment}\")"
   ]
  },
  {
   "cell_type": "code",
   "execution_count": null,
   "id": "0505c385",
   "metadata": {
    "ExecuteTime": {
     "end_time": "2024-03-08T00:58:55.156855Z",
     "start_time": "2024-03-08T00:58:54.685717Z"
    },
    "id": "0505c385",
    "outputId": "8c838674-6692-486f-8197-c4efa7bbc19d"
   },
   "outputs": [
    {
     "name": "stdout",
     "output_type": "stream",
     "text": [
      "입력 문장 :  더불어민주당은 정책, 영입을 병행 추진하고 있다\n",
      "감정 분석 결과 : 긍정\n",
      "입력 문장 :   자유한국당은 선거연령 하향을 반대했지만 법안 통과 후 청소년 전략 마련을 촉구하는 목소리가 높아지고 있다\n",
      "감정 분석 결과 : 부정\n",
      "입력 문장 : [머니투데이 한고은 기자]     (서울=뉴스1) 임세영 기자 = 곽상도 자유한국당 文정권 국정농단 3대 게이트 진상조사 총괄본부장이 17일 오후 서울 여의도 국회 정론관에서 기자회견을 갖고 김기현 전 울산시장 측근 비위 의혹 첩보 전달 과정을 설명하고 있다\n",
      "감정 분석 결과 : 긍정\n",
      "입력 문장 : 17 뉴스1   <저작권자 © 뉴스1코리아, 무단전재 및 재배포 금지>자유한국당이 1일 추미애 법무부장관 후보자에 대한 선거개입 의혹을 제기하고, 추 후보자를 검찰에 고발했다\n",
      "감정 분석 결과 : 부정\n",
      "입력 문장 :  (사진=노진환 기자)[이데일리 김겨레 기자]자유한국당이 1일 추미애 법무부 장관 후보자가 더불어민주당 대표 시절 선거법을 위반했다며 검찰에 고발했다\n",
      "감정 분석 결과 : 부정\n",
      "입력 문장 :  그러면서 자유한국당이 자신을 향해 아들 공천 문제 때문에 여당 편을 든다고 반발한 것에 대해 \"역사에서 어떻게 평가를 받아도 좋다\n",
      "감정 분석 결과 : 긍정\n",
      "입력 문장 :  출마지역으로는 문 대통령 사저가 있고 서형수 현 더불어민주당 의원이 불출마를 선언한 경남 양산을, 박영선 중소벤처기업부 장관 지역구인 서울 구로구을이 거론됐던 가운데 최종적으로는 구로구을 출마로 가닥을 잡은 기류다\n",
      "감정 분석 결과 : 부정\n",
      "입력 문장 : 윤 실장과 함께 청와대 내 총선 출마 예상자 명단에 이름을 올려온 고민정 대변인은 더불어민주당의 출마 요청을 받긴 했으나 불출마로 입장을 정리한 것으로 전해진다\n",
      "감정 분석 결과 : 부정\n",
      "입력 문장 :  사진=뉴스1자유한국당의 극렬한 반발 속 고위공직자범죄수사처(공수처)법이 국회 본회의를 통과한 것과 관련, 문희상 국회의장이 \"내 소명이고 운명이었다\"고 소회를 밝혔다\n",
      "감정 분석 결과 : 부정\n"
     ]
    }
   ],
   "source": [
    "# # 데이터프레임의 열에 있는 리스트의 각 요소를 처리하고 감정 분석 수행\n",
    "# # 테스트\n",
    "# a = df_news.iloc[0:10]\n",
    "\n",
    "# for idx, row in a.iterrows():\n",
    "#     content_list = row['party_content']\n",
    "#     for content in content_list:\n",
    "#         # 토큰화 및 패딩\n",
    "#         inputs = tokenizer(content, return_tensors = \"pt\", padding = True, truncation = True)\n",
    "\n",
    "#         # 모델로 예측\n",
    "#         outputs = model(**inputs)\n",
    "\n",
    "#         # 로짓 출력\n",
    "#         logits = outputs.logits\n",
    "\n",
    "#         # 예측 결과\n",
    "#         predictions = torch.argmax(logits, dim  = 1)\n",
    "#         sentiment = \"긍정\" if predictions == 1 else \"부정\"\n",
    "\n",
    "#         print(f\"입력 문장 : {content}\")\n",
    "#         print(f\"감정 분석 결과 : {sentiment}\")"
   ]
  },
  {
   "cell_type": "code",
   "execution_count": null,
   "id": "5f3c3d20",
   "metadata": {},
   "outputs": [],
   "source": [
    "df_news = df_news.reset_index(drop = True)\n",
    "\n",
    "df_news"
   ]
  },
  {
   "cell_type": "code",
   "execution_count": null,
   "id": "8287ea45",
   "metadata": {
    "ExecuteTime": {
     "start_time": "2024-03-08T02:30:00.771Z"
    },
    "colab": {
     "base_uri": "https://localhost:8080/"
    },
    "id": "8287ea45",
    "outputId": "cb3a13c5-4d3d-4415-fe11-6a92800c7187"
   },
   "outputs": [
    {
     "name": "stderr",
     "output_type": "stream",
     "text": [
      "622it [24:07,  4.59s/it]"
     ]
    }
   ],
   "source": [
    "# 전체\n",
    "# 데이터프레임의 열에 있는 리스트의 각 요소를 처리하고 감정 분석 수행\n",
    "res = []\n",
    "for idx, row in tqdm(df_news.iterrows()):\n",
    "    label_res = []\n",
    "    content_list = row['party_content']\n",
    "    for content in content_list:\n",
    "        # 토큰화 및 패딩\n",
    "        # 최대 입력 길이 설정\n",
    "        max_length = 512\n",
    "\n",
    "        # 토크나이저를 사용하여 입력 토큰화 및 패딩\n",
    "        inputs = tokenizer(content, return_tensors=\"pt\", padding=True, truncation=True, max_length=max_length)\n",
    "\n",
    "        # 모델로 예측\n",
    "        outputs = model(**inputs)\n",
    "\n",
    "        # 로짓 출력\n",
    "        logits = outputs.logits\n",
    "\n",
    "        # 예측 결과\n",
    "        predictions = torch.argmax(logits, dim =1)\n",
    "        sentiment = \"긍정\" if predictions == 1 else \"부정\"\n",
    "\n",
    "        label_res.append(sentiment)\n",
    "    res.append(label_res)\n",
    "\n",
    "df_news['label'] = res"
   ]
  },
  {
   "cell_type": "code",
   "execution_count": null,
   "id": "83731d02",
   "metadata": {
    "id": "83731d02"
   },
   "outputs": [],
   "source": [
    "df_news.to_csv('긍정부정.csv', index = False)"
   ]
  },
  {
   "cell_type": "code",
   "execution_count": null,
   "id": "5d2a1cbd",
   "metadata": {
    "id": "5d2a1cbd"
   },
   "outputs": [],
   "source": []
  },
  {
   "cell_type": "code",
   "execution_count": null,
   "id": "fa262b95",
   "metadata": {
    "id": "fa262b95"
   },
   "outputs": [],
   "source": []
  },
  {
   "cell_type": "code",
   "execution_count": null,
   "id": "ea804c8e",
   "metadata": {
    "id": "ea804c8e"
   },
   "outputs": [],
   "source": []
  },
  {
   "cell_type": "code",
   "execution_count": null,
   "id": "36620c09",
   "metadata": {
    "id": "36620c09"
   },
   "outputs": [],
   "source": []
  },
  {
   "cell_type": "code",
   "execution_count": null,
   "id": "56072483",
   "metadata": {
    "id": "56072483"
   },
   "outputs": [],
   "source": []
  },
  {
   "cell_type": "code",
   "execution_count": null,
   "id": "fb406074",
   "metadata": {
    "id": "fb406074"
   },
   "outputs": [],
   "source": []
  },
  {
   "cell_type": "code",
   "execution_count": null,
   "id": "b264429f",
   "metadata": {
    "id": "b264429f"
   },
   "outputs": [],
   "source": []
  }
 ],
 "metadata": {
  "colab": {
   "provenance": []
  },
  "kernelspec": {
   "display_name": "Python 3 (ipykernel)",
   "language": "python",
   "name": "python3"
  },
  "language_info": {
   "codemirror_mode": {
    "name": "ipython",
    "version": 3
   },
   "file_extension": ".py",
   "mimetype": "text/x-python",
   "name": "python",
   "nbconvert_exporter": "python",
   "pygments_lexer": "ipython3",
   "version": "3.11.5"
  },
  "toc": {
   "base_numbering": 1,
   "nav_menu": {},
   "number_sections": true,
   "sideBar": true,
   "skip_h1_title": false,
   "title_cell": "Table of Contents",
   "title_sidebar": "Contents",
   "toc_cell": false,
   "toc_position": {
    "height": "calc(100% - 180px)",
    "left": "10px",
    "top": "150px",
    "width": "165px"
   },
   "toc_section_display": true,
   "toc_window_display": true
  }
 },
 "nbformat": 4,
 "nbformat_minor": 5
}
