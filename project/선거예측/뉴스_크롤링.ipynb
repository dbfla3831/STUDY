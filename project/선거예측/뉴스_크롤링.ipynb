{
 "cells": [
  {
   "cell_type": "markdown",
   "id": "6d490fa0",
   "metadata": {},
   "source": [
    "#  네이버 뉴스 가져오기\n",
    "\n",
    "2020년1월1일 ~ 2020년 4월 14일 데이터 가져오기\n",
    "\n",
    "'기사 더보기' 누르기 전 -> 기사가 몇개 없음\n",
    "\n",
    "=> 동적으로 변경"
   ]
  },
  {
   "cell_type": "code",
   "execution_count": 1,
   "id": "dc70b5e4",
   "metadata": {
    "ExecuteTime": {
     "end_time": "2024-03-14T00:15:42.218460Z",
     "start_time": "2024-03-14T00:15:41.561998Z"
    }
   },
   "outputs": [],
   "source": [
    "import urllib.request \n",
    "from bs4 import BeautifulSoup # 특정 웹 페이지의 HTML을 스크랩하여 데이터를 수집할 때 사용\n",
    "import pandas as pd\n",
    "import numpy as np\n",
    "import re\n",
    "\n",
    "from selenium import webdriver\n",
    "from selenium.webdriver.common.by import By\n",
    "from selenium.webdriver.support.ui import WebDriverWait\n",
    "from selenium.webdriver.support import expected_conditions as EC\n",
    "from bs4 import BeautifulSoup\n",
    "import time\n",
    "from tqdm import tqdm\n",
    "import datetime\n",
    "\n",
    "from IPython.core.interactiveshell import InteractiveShell\n",
    "InteractiveShell.ast_node_interactivity = 'all'"
   ]
  },
  {
   "cell_type": "code",
   "execution_count": null,
   "id": "173f092e",
   "metadata": {},
   "outputs": [],
   "source": [
    "# 날짜 가져오기\n",
    "# 시작 날짜와 끝 날짜 설정\n",
    "\n",
    "start_date = datetime.date(2020, 1, 1)\n",
    "end_date = datetime.date(2020, 4, 14)"
   ]
  },
  {
   "cell_type": "code",
   "execution_count": null,
   "id": "e4d7965a",
   "metadata": {},
   "outputs": [],
   "source": [
    "# 웹 드라이버 시작\n",
    "driver = webdriver.Chrome()\n",
    "df_2020 = pd.DataFrame()\n",
    "\n",
    "# 네이버 뉴스 페이지로 이동\n",
    "current_date = start_date\n",
    "while current_date <= end_date:\n",
    "    formatted_date = current_date.strftime(\"%Y%m%d\")\n",
    "\n",
    "    driver.get('https://news.naver.com/breakingnews/section/100/265?date={}'.format(formatted_date))\n",
    "\n",
    "    # '기사 더보기'없을 때까지\n",
    "    try:\n",
    "        while True:\n",
    "            elem1 = driver.find_element(By.CLASS_NAME, \"section_more_inner._CONTENT_LIST_LOAD_MORE_BUTTON\")\n",
    "            elem1.click()\n",
    "            time.sleep(1)  # 대기\n",
    "    except Exception as e:\n",
    "        print(e)\n",
    "\n",
    "\n",
    "    # 페이지 소스 가져오기\n",
    "    page_source = driver.page_source\n",
    "\n",
    "    # BeautifulSoup을 사용하여 페이지 소스를 파싱\n",
    "    soup = BeautifulSoup(page_source, 'html.parser')\n",
    "\n",
    "    # 제목 가져오기\n",
    "    titles = soup.select('div.section_latest > div > div.section_latest_article._CONTENT_LIST._PERSIST_META > \\\n",
    "                              div > ul > li > div > div > div.sa_text > a > strong.sa_text_strong')\n",
    "\n",
    "    # 링크 가져오기\n",
    "    links = soup.select('div.section_latest > div > div.section_latest_article._CONTENT_LIST._PERSIST_META > \\\n",
    "                              div > ul > li > div > div > div.sa_text > a')\n",
    "\n",
    "    title_lst = []\n",
    "    content_lst = []\n",
    "\n",
    "    # 링크로 이동해서 내용 가져오기\n",
    "    for title, link in tqdm(zip(titles, links)):\n",
    "        article_link = link['href'] # 링크 가져오기\n",
    "        driver.get(article_link) # 링크로 이동\n",
    "\n",
    "        # 페이지 소스 가져오기\n",
    "        article_page_source = driver.page_source\n",
    "        article_soup = BeautifulSoup(article_page_source, 'lxml')\n",
    "\n",
    "        # 내용 가져오기\n",
    "        content = article_soup.select_one('div.ct_wrap > div.ct_scroll_wrapper > div#newsct > div#ct > div#contents > \\\n",
    "                            div#newsct_article > article#dic_area')\n",
    "\n",
    "        if content:\n",
    "            content_lst.append(content.text.strip())\n",
    "        else:\n",
    "            content_lst.append('No content available') # 내용이 없는 경우 예외 처리\n",
    "\n",
    "        title_lst.append(title.string)\n",
    "\n",
    "\n",
    "    # 데이터 저장\n",
    "    df = pd.DataFrame({'title' : title_lst, 'content' : content_lst})\n",
    "    df_2020 = pd.concat([df_2020,df], ignore_index=True)\n",
    "    \n",
    "    current_date += datetime.timedelta(days=1)\n",
    "\n",
    "# 웹 드라이버 종료\n",
    "driver.quit()\n",
    "\n",
    "df_2020.to_csv('news_2020.csv', index = False)"
   ]
  },
  {
   "cell_type": "code",
   "execution_count": null,
   "id": "e161af8c",
   "metadata": {},
   "outputs": [],
   "source": [
    "df_news = pd.read_csv('./data/news_2020.csv')\n",
    "\n",
    "df_news"
   ]
  },
  {
   "cell_type": "code",
   "execution_count": null,
   "id": "8cf5a39a",
   "metadata": {},
   "outputs": [],
   "source": []
  }
 ],
 "metadata": {
  "kernelspec": {
   "display_name": "Python 3 (ipykernel)",
   "language": "python",
   "name": "python3"
  },
  "language_info": {
   "codemirror_mode": {
    "name": "ipython",
    "version": 3
   },
   "file_extension": ".py",
   "mimetype": "text/x-python",
   "name": "python",
   "nbconvert_exporter": "python",
   "pygments_lexer": "ipython3",
   "version": "3.11.5"
  },
  "toc": {
   "base_numbering": 1,
   "nav_menu": {},
   "number_sections": true,
   "sideBar": true,
   "skip_h1_title": false,
   "title_cell": "Table of Contents",
   "title_sidebar": "Contents",
   "toc_cell": false,
   "toc_position": {
    "height": "calc(100% - 180px)",
    "left": "10px",
    "top": "150px",
    "width": "250.469px"
   },
   "toc_section_display": true,
   "toc_window_display": true
  }
 },
 "nbformat": 4,
 "nbformat_minor": 5
}
