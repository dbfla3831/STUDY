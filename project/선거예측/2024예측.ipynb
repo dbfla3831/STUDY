{
 "cells": [
  {
   "cell_type": "code",
   "execution_count": 1,
   "id": "259e8266",
   "metadata": {
    "ExecuteTime": {
     "end_time": "2024-03-21T07:18:20.826603Z",
     "start_time": "2024-03-21T07:18:20.121609Z"
    }
   },
   "outputs": [],
   "source": [
    "import pandas as pd"
   ]
  },
  {
   "cell_type": "code",
   "execution_count": 10,
   "id": "f230c586",
   "metadata": {
    "ExecuteTime": {
     "end_time": "2024-03-21T07:22:37.872986Z",
     "start_time": "2024-03-21T07:22:36.245811Z"
    }
   },
   "outputs": [],
   "source": [
    "train_df = pd.read_csv('./data/res_df.csv')\n",
    "test_df = pd.read_csv('./data/news_2024_긍정부정.csv')"
   ]
  },
  {
   "cell_type": "code",
   "execution_count": 11,
   "id": "aae34dd4",
   "metadata": {
    "ExecuteTime": {
     "end_time": "2024-03-21T07:22:38.156171Z",
     "start_time": "2024-03-21T07:22:38.148714Z"
    }
   },
   "outputs": [
    {
     "name": "stdout",
     "output_type": "stream",
     "text": [
      "긍정 개수 : 41327\n",
      "부정 개수 : 202099\n"
     ]
    }
   ],
   "source": [
    "# 긍정, 부정 확인\n",
    "\n",
    "print('긍정 개수 : {}'.format(train_df['label'].value_counts()[1]))\n",
    "print('부정 개수 : {}'.format(train_df['label'].value_counts()[0]))"
   ]
  },
  {
   "cell_type": "code",
   "execution_count": 13,
   "id": "a759f8b3",
   "metadata": {
    "ExecuteTime": {
     "end_time": "2024-03-21T07:22:57.729498Z",
     "start_time": "2024-03-21T07:22:57.717017Z"
    }
   },
   "outputs": [
    {
     "data": {
      "text/html": [
       "<div>\n",
       "<style scoped>\n",
       "    .dataframe tbody tr th:only-of-type {\n",
       "        vertical-align: middle;\n",
       "    }\n",
       "\n",
       "    .dataframe tbody tr th {\n",
       "        vertical-align: top;\n",
       "    }\n",
       "\n",
       "    .dataframe thead th {\n",
       "        text-align: right;\n",
       "    }\n",
       "</style>\n",
       "<table border=\"1\" class=\"dataframe\">\n",
       "  <thead>\n",
       "    <tr style=\"text-align: right;\">\n",
       "      <th></th>\n",
       "      <th>party_content</th>\n",
       "      <th>party_name</th>\n",
       "    </tr>\n",
       "  </thead>\n",
       "  <tbody>\n",
       "    <tr>\n",
       "      <th>0</th>\n",
       "      <td>지상파·종편 여론조사서 접전 양상…오차 범위 내 동률도신당 포함시 민주 33% 국힘...</td>\n",
       "      <td>더불어민주당</td>\n",
       "    </tr>\n",
       "    <tr>\n",
       "      <th>1</th>\n",
       "      <td>지상파·종편 여론조사서 접전 양상…오차 범위 내 동률도신당 포함시 민주 33% 국힘...</td>\n",
       "      <td>국민의힘</td>\n",
       "    </tr>\n",
       "    <tr>\n",
       "      <th>2</th>\n",
       "      <td>지상파·종편 여론조사서 접전 양상…오차 범위 내 동률도신당 포함시 민주 33% 국힘...</td>\n",
       "      <td>새로운미래</td>\n",
       "    </tr>\n",
       "    <tr>\n",
       "      <th>3</th>\n",
       "      <td>1 뉴스1 ⓒ News1 민경석 기자(서울=뉴스1) 노선웅 기자 = 올해 4월10일...</td>\n",
       "      <td>더불어민주당</td>\n",
       "    </tr>\n",
       "    <tr>\n",
       "      <th>4</th>\n",
       "      <td>1 뉴스1 ⓒ News1 민경석 기자(서울=뉴스1) 노선웅 기자 = 올해 4월10일...</td>\n",
       "      <td>국민의힘</td>\n",
       "    </tr>\n",
       "    <tr>\n",
       "      <th>...</th>\n",
       "      <td>...</td>\n",
       "      <td>...</td>\n",
       "    </tr>\n",
       "    <tr>\n",
       "      <th>185259</th>\n",
       "      <td>이 의원은 이날 뉴스1 통화에서 \"(무소속 출마도) 충분히 자신 있다\"며 \"당선 후...</td>\n",
       "      <td>무소속</td>\n",
       "    </tr>\n",
       "    <tr>\n",
       "      <th>185260</th>\n",
       "      <td>앞서 국민의힘 공천관리위원회는 이날 이 의원 지역구인 울산 남갑을 비롯해 강남갑·을...</td>\n",
       "      <td>국민의힘</td>\n",
       "    </tr>\n",
       "    <tr>\n",
       "      <th>185261</th>\n",
       "      <td>대구 동갑은 류성걸 의원, 대구 북갑은 국민의힘 의원 지역구다</td>\n",
       "      <td>국민의힘</td>\n",
       "    </tr>\n",
       "    <tr>\n",
       "      <th>185262</th>\n",
       "      <td>이 의원은 이날 페이스북에도 \"오늘 국민의힘이 저를 버렸다\"며 \"잠시 떠나더라도 승...</td>\n",
       "      <td>국민의힘</td>\n",
       "    </tr>\n",
       "    <tr>\n",
       "      <th>185263</th>\n",
       "      <td>국민의힘은 오는 8~9일 이틀간 국민들로부터 5개 지역의 후보자를 추천받은 뒤 15...</td>\n",
       "      <td>국민의힘</td>\n",
       "    </tr>\n",
       "  </tbody>\n",
       "</table>\n",
       "<p>185264 rows × 2 columns</p>\n",
       "</div>"
      ],
      "text/plain": [
       "                                            party_content party_name\n",
       "0       지상파·종편 여론조사서 접전 양상…오차 범위 내 동률도신당 포함시 민주 33% 국힘...     더불어민주당\n",
       "1       지상파·종편 여론조사서 접전 양상…오차 범위 내 동률도신당 포함시 민주 33% 국힘...       국민의힘\n",
       "2       지상파·종편 여론조사서 접전 양상…오차 범위 내 동률도신당 포함시 민주 33% 국힘...      새로운미래\n",
       "3       1 뉴스1 ⓒ News1 민경석 기자(서울=뉴스1) 노선웅 기자 = 올해 4월10일...     더불어민주당\n",
       "4       1 뉴스1 ⓒ News1 민경석 기자(서울=뉴스1) 노선웅 기자 = 올해 4월10일...       국민의힘\n",
       "...                                                   ...        ...\n",
       "185259  이 의원은 이날 뉴스1 통화에서 \"(무소속 출마도) 충분히 자신 있다\"며 \"당선 후...        무소속\n",
       "185260  앞서 국민의힘 공천관리위원회는 이날 이 의원 지역구인 울산 남갑을 비롯해 강남갑·을...       국민의힘\n",
       "185261                 대구 동갑은 류성걸 의원, 대구 북갑은 국민의힘 의원 지역구다       국민의힘\n",
       "185262  이 의원은 이날 페이스북에도 \"오늘 국민의힘이 저를 버렸다\"며 \"잠시 떠나더라도 승...       국민의힘\n",
       "185263  국민의힘은 오는 8~9일 이틀간 국민들로부터 5개 지역의 후보자를 추천받은 뒤 15...       국민의힘\n",
       "\n",
       "[185264 rows x 2 columns]"
      ]
     },
     "execution_count": 13,
     "metadata": {},
     "output_type": "execute_result"
    }
   ],
   "source": [
    "test_df = test_df[['party_content', 'party_name']]\n",
    "\n",
    "test_df"
   ]
  },
  {
   "cell_type": "code",
   "execution_count": 14,
   "id": "eabf40d5",
   "metadata": {
    "ExecuteTime": {
     "end_time": "2024-03-21T07:23:00.599114Z",
     "start_time": "2024-03-21T07:23:00.595832Z"
    }
   },
   "outputs": [],
   "source": [
    "X_train = train_df['party_content']\n",
    "y_train = train_df['label']\n",
    "\n",
    "X_test = test_df['party_content']"
   ]
  },
  {
   "cell_type": "code",
   "execution_count": 17,
   "id": "fae4bd78",
   "metadata": {
    "ExecuteTime": {
     "end_time": "2024-03-21T07:23:27.101069Z",
     "start_time": "2024-03-21T07:23:18.370916Z"
    }
   },
   "outputs": [],
   "source": [
    "from sklearn.feature_extraction.text import TfidfVectorizer\n",
    "\n",
    "# TF-IDF 변환기 생성\n",
    "tfidf_vectorizer = TfidfVectorizer()\n",
    "\n",
    "# TF-IDF를 사용하여 텍스트 데이터를 벡터 형태로 변환\n",
    "X_train_tfidf = tfidf_vectorizer.fit_transform(X_train)\n",
    "X_test_tfidf = tfidf_vectorizer.transform(X_test) "
   ]
  },
  {
   "cell_type": "code",
   "execution_count": 18,
   "id": "75f82d1a",
   "metadata": {
    "ExecuteTime": {
     "end_time": "2024-03-21T07:23:27.210157Z",
     "start_time": "2024-03-21T07:23:27.102073Z"
    }
   },
   "outputs": [],
   "source": [
    "from sklearn.model_selection import train_test_split\n",
    "\n",
    "X_train, X_val, y_train, y_val = train_test_split(X_train_tfidf, y_train, test_size = 0.2, random_state = 42)"
   ]
  },
  {
   "cell_type": "code",
   "execution_count": 19,
   "id": "b4a68739",
   "metadata": {
    "ExecuteTime": {
     "end_time": "2024-03-21T07:23:50.313967Z",
     "start_time": "2024-03-21T07:23:29.415708Z"
    }
   },
   "outputs": [
    {
     "data": {
      "text/plain": [
       "label\n",
       "0    161648\n",
       "1    161648\n",
       "Name: count, dtype: int64"
      ]
     },
     "execution_count": 19,
     "metadata": {},
     "output_type": "execute_result"
    }
   ],
   "source": [
    "from imblearn.over_sampling import SMOTE\n",
    "\n",
    "smote = SMOTE()\n",
    "X_resampled, y_resampled = smote.fit_resample(X_train, y_train)\n",
    "\n",
    "y_resampled.value_counts()"
   ]
  },
  {
   "cell_type": "code",
   "execution_count": 20,
   "id": "fc053e59",
   "metadata": {
    "ExecuteTime": {
     "end_time": "2024-03-21T07:23:52.699263Z",
     "start_time": "2024-03-21T07:23:50.314971Z"
    }
   },
   "outputs": [],
   "source": [
    "from sklearn.feature_extraction.text import TfidfVectorizer\n",
    "from sklearn.linear_model import LogisticRegression\n",
    "from sklearn.pipeline import Pipeline\n",
    "\n",
    "pipeline = Pipeline([\n",
    "#     ('tfidf', TfidfVectorizer()),  # TF-IDF 변환\n",
    "    ('clf', LogisticRegression())  # 로지스틱 회귀 분류기\n",
    "])\n",
    "\n",
    "pipeline.fit(X_resampled, y_resampled)\n",
    "\n",
    "# validation 세트에 대한 예측 결과 가져오기\n",
    "y_pred_val = pipeline.predict(X_val)"
   ]
  },
  {
   "cell_type": "code",
   "execution_count": 21,
   "id": "484987f2",
   "metadata": {
    "ExecuteTime": {
     "end_time": "2024-03-21T07:23:57.214176Z",
     "start_time": "2024-03-21T07:23:52.700267Z"
    }
   },
   "outputs": [
    {
     "name": "stdout",
     "output_type": "stream",
     "text": [
      "Validation Accuracy: 0.9556340631803804\n",
      "Confusion Matrix:\n",
      "[[38719  1732]\n",
      " [  428  7807]]\n",
      "Classification Report:\n",
      "              precision    recall  f1-score   support\n",
      "\n",
      "           0       0.99      0.96      0.97     40451\n",
      "           1       0.82      0.95      0.88      8235\n",
      "\n",
      "    accuracy                           0.96     48686\n",
      "   macro avg       0.90      0.95      0.93     48686\n",
      "weighted avg       0.96      0.96      0.96     48686\n",
      "\n"
     ]
    },
    {
     "data": {
      "text/plain": [
       "<matplotlib.legend.Legend at 0x25895214910>"
      ]
     },
     "execution_count": 21,
     "metadata": {},
     "output_type": "execute_result"
    },
    {
     "data": {
      "image/png": "[encoded data removed]",
      "text/plain": [
       "<Figure size 800x600 with 1 Axes>"
      ]
     },
     "metadata": {},
     "output_type": "display_data"
    }
   ],
   "source": [
    "from sklearn.metrics import accuracy_score, classification_report, confusion_matrix, roc_curve, roc_auc_score\n",
    "import matplotlib.pyplot as plt\n",
    "\n",
    "# 정확도 계산\n",
    "accuracy_val = accuracy_score(y_val, y_pred_val)\n",
    "print(\"Validation Accuracy:\", accuracy_val)\n",
    "\n",
    "# 혼동 행렬(confusion matrix) 계산\n",
    "conf_matrix = confusion_matrix(y_val, y_pred_val)\n",
    "print(\"Confusion Matrix:\")\n",
    "print(conf_matrix)\n",
    "\n",
    "# 분류 보고서(classification report) 출력\n",
    "class_report = classification_report(y_val, y_pred_val)\n",
    "print(\"Classification Report:\")\n",
    "print(class_report)\n",
    "\n",
    "# ROC 곡선 및 AUC 계산\n",
    "y_pred_proba_val = pipeline.predict_proba(X_val)[:, 1]  # 양성 클래스에 대한 확률 추출\n",
    "fpr_val, tpr_val, thresholds_val = roc_curve(y_val, y_pred_proba_val)\n",
    "roc_auc_val = roc_auc_score(y_val, y_pred_proba_val)\n",
    "\n",
    "# ROC 곡선 그리기\n",
    "plt.figure(figsize=(8, 6))\n",
    "plt.plot(fpr_val, tpr_val, label='ROC curve (area = %0.2f)' % roc_auc_val)\n",
    "plt.plot([0, 1], [0, 1], 'k--')  # 랜덤 모델의 ROC 곡선\n",
    "plt.xlim([0.0, 1.0])\n",
    "plt.ylim([0.0, 1.05])\n",
    "plt.xlabel('False Positive Rate')\n",
    "plt.ylabel('True Positive Rate')\n",
    "plt.title('Receiver Operating Characteristic (ROC) Curve - Validation Set')\n",
    "plt.legend(loc=\"lower right\")"
   ]
  },
  {
   "cell_type": "code",
   "execution_count": 22,
   "id": "1a79e67f",
   "metadata": {
    "ExecuteTime": {
     "end_time": "2024-03-21T07:35:17.239905Z",
     "start_time": "2024-03-21T07:35:14.773579Z"
    }
   },
   "outputs": [
    {
     "data": {
      "text/plain": [
       "label\n",
       "0    148536\n",
       "1     36728\n",
       "Name: count, dtype: int64"
      ]
     },
     "execution_count": 22,
     "metadata": {},
     "output_type": "execute_result"
    }
   ],
   "source": [
    "pipeline.fit(X_resampled, y_resampled)\n",
    "\n",
    "predicted_label = pipeline.predict(X_test_tfidf)\n",
    "\n",
    "test_df['label'] = predicted_label\n",
    "\n",
    "test_df['label'].value_counts()"
   ]
  },
  {
   "cell_type": "code",
   "execution_count": 23,
   "id": "ced905b2",
   "metadata": {
    "ExecuteTime": {
     "end_time": "2024-03-21T07:35:46.292368Z",
     "start_time": "2024-03-21T07:35:45.599799Z"
    }
   },
   "outputs": [],
   "source": [
    "test_df.to_csv('./data/2024결과.csv', index = False)"
   ]
  },
  {
   "cell_type": "code",
   "execution_count": null,
   "id": "b7ddf1b5",
   "metadata": {},
   "outputs": [],
   "source": []
  },
  {
   "cell_type": "code",
   "execution_count": null,
   "id": "cf7f0cae",
   "metadata": {},
   "outputs": [],
   "source": []
  }
 ],
 "metadata": {
  "kernelspec": {
   "display_name": "Python 3 (ipykernel)",
   "language": "python",
   "name": "python3"
  },
  "language_info": {
   "codemirror_mode": {
    "name": "ipython",
    "version": 3
   },
   "file_extension": ".py",
   "mimetype": "text/x-python",
   "name": "python",
   "nbconvert_exporter": "python",
   "pygments_lexer": "ipython3",
   "version": "3.11.5"
  },
  "toc": {
   "base_numbering": 1,
   "nav_menu": {},
   "number_sections": true,
   "sideBar": true,
   "skip_h1_title": false,
   "title_cell": "Table of Contents",
   "title_sidebar": "Contents",
   "toc_cell": false,
   "toc_position": {
    "height": "calc(100% - 180px)",
    "left": "10px",
    "top": "150px",
    "width": "179.238px"
   },
   "toc_section_display": true,
   "toc_window_display": true
  }
 },
 "nbformat": 4,
 "nbformat_minor": 5
}
