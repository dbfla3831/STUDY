{
 "cells": [
  {
   "cell_type": "code",
   "execution_count": 32,
   "id": "f0a158f3",
   "metadata": {
    "ExecuteTime": {
     "end_time": "2024-03-14T05:10:16.133109Z",
     "start_time": "2024-03-14T05:10:16.128084Z"
    }
   },
   "outputs": [],
   "source": [
    "import urllib.request \n",
    "from bs4 import BeautifulSoup # 특정 웹 페이지의 HTML을 스크랩하여 데이터를 수집할 때 사용\n",
    "import pandas as pd\n",
    "import numpy as np\n",
    "import re\n",
    "\n",
    "from selenium import webdriver\n",
    "from selenium.webdriver.common.by import By\n",
    "from selenium.webdriver.support.ui import WebDriverWait\n",
    "from selenium.webdriver.support import expected_conditions as EC\n",
    "from bs4 import BeautifulSoup\n",
    "import time\n",
    "from tqdm import tqdm\n",
    "import datetime\n",
    "\n",
    "from IPython.core.interactiveshell import InteractiveShell\n",
    "InteractiveShell.ast_node_interactivity = 'all'"
   ]
  },
  {
   "cell_type": "markdown",
   "id": "d5d9db28",
   "metadata": {},
   "source": [
    "# 후보"
   ]
  },
  {
   "cell_type": "code",
   "execution_count": 33,
   "id": "f8d5d8a0",
   "metadata": {
    "ExecuteTime": {
     "end_time": "2024-03-14T05:10:28.394439Z",
     "start_time": "2024-03-14T05:10:22.365444Z"
    }
   },
   "outputs": [],
   "source": [
    "# 웹 드라이버 시작\n",
    "driver = webdriver.Chrome()\n",
    "\n",
    "# 결과를 저장할 빈 리스트 생성\n",
    "results = []\n",
    "\n",
    "driver.get('https://cpmadang.org/people/%EA%B5%AD%ED%9A%8C%EC%9D%98%EC%9B%90/21%EB%8C%80%20%EA%B5%AD%ED%9A%8C%EC%9D%98%EC%9B%90%20%ED%9B%84%EB%B3%B4%20%EB%AA%85%EB%8B%A8')\n",
    "\n",
    "\n",
    "# 페이지 소스 가져오기\n",
    "page_source = driver.page_source\n",
    "\n",
    "# BeautifulSoup을 사용하여 페이지 소스를 파싱\n",
    "soup = BeautifulSoup(page_source, 'html.parser')\n",
    "\n",
    "# 제목과 링크를 가져와서 리스트에 추가\n",
    "names = soup.select('#blazy-views-inmul-moglog-page-page-4-1 > li > div > div.views-field.views-field-title > span > a')\n",
    "partys = soup.select('#blazy-views-inmul-moglog-page-page-4-1 > li > div > div.views-field.views-field-field-party > div > a')\n",
    "\n",
    "for name, party in zip(names, partys):\n",
    "    results.append({'name': name.text, 'party': party.text})\n",
    "\n",
    "# 리스트를 DataFrame으로 변환\n",
    "res_df = pd.DataFrame(results)\n",
    "\n",
    "# 웹 드라이버 종료\n",
    "driver.quit()\n",
    "\n",
    "# 결과를 CSV 파일로 저장\n",
    "res_df.to_csv('./data/후보1.csv', index=False)\n"
   ]
  },
  {
   "cell_type": "code",
   "execution_count": 34,
   "id": "04cc10f9",
   "metadata": {
    "ExecuteTime": {
     "end_time": "2024-03-14T05:11:11.516729Z",
     "start_time": "2024-03-14T05:10:43.596784Z"
    }
   },
   "outputs": [
    {
     "name": "stderr",
     "output_type": "stream",
     "text": [
      "100%|██████████████████████████████████████████████████████████████████████████████████| 27/27 [00:20<00:00,  1.32it/s]\n"
     ]
    }
   ],
   "source": [
    "# 웹 드라이버 시작\n",
    "driver = webdriver.Chrome()\n",
    "\n",
    "# 결과를 저장할 빈 리스트 생성\n",
    "results = []\n",
    "\n",
    "for i in tqdm(range(1, 28)):\n",
    "    driver.get('https://cpmadang.org/people/%EA%B5%AD%ED%9A%8C%EC%9D%98%EC%9B%90/21%EB%8C%80%20%EA%B5%AD%ED%9A%8C%EC%9D%98%EC%9B%90%20%ED%9B%84%EB%B3%B4%20%EB%AA%85%EB%8B%A8?tid_1=All&term_node_tid_depth=All&tid=All&title=&field_cpmadang_issue_target_id_1=All&page={}'.format(i))\n",
    "\n",
    "\n",
    "    # 페이지 소스 가져오기\n",
    "    page_source = driver.page_source\n",
    "\n",
    "    # BeautifulSoup을 사용하여 페이지 소스를 파싱\n",
    "    soup = BeautifulSoup(page_source, 'html.parser')\n",
    "\n",
    "    # 제목과 링크를 가져와서 리스트에 추가\n",
    "    names = soup.select('#blazy-views-inmul-moglog-page-page-4-1 > li > div > div.views-field.views-field-title > span > a')\n",
    "    partys = soup.select('#blazy-views-inmul-moglog-page-page-4-1 > li > div > div.views-field.views-field-field-party > div > a')\n",
    "\n",
    "    for name, party in zip(names, partys):\n",
    "        results.append({'name': name.text, 'party': party.text})\n",
    "\n",
    "    # 리스트를 DataFrame으로 변환\n",
    "    res_df = pd.DataFrame(results)\n",
    "\n",
    "# 웹 드라이버 종료\n",
    "driver.quit()\n",
    "\n",
    "# 결과를 CSV 파일로 저장\n",
    "res_df.to_csv('./data/후보2.csv', index=False)\n"
   ]
  },
  {
   "cell_type": "code",
   "execution_count": 43,
   "id": "76f4f50b",
   "metadata": {
    "ExecuteTime": {
     "end_time": "2024-03-14T05:17:42.580268Z",
     "start_time": "2024-03-14T05:17:42.563069Z"
    }
   },
   "outputs": [],
   "source": [
    "res1 = pd.read_csv('./data/후보1.csv')\n",
    "res2 = pd.read_csv('./data/후보2.csv')\n",
    "\n",
    "res = pd.concat([res1, res2])\n",
    "res = res.reset_index(drop = True)\n",
    "res['name'] = res['name'].str.split('(').str[0]\n",
    "res.to_csv('./data/news_2020_후보.csv', index = False)"
   ]
  },
  {
   "cell_type": "markdown",
   "id": "c11a1ca0",
   "metadata": {},
   "source": [
    "# 당선 결과"
   ]
  },
  {
   "cell_type": "code",
   "execution_count": 36,
   "id": "7b1e3bce",
   "metadata": {
    "ExecuteTime": {
     "end_time": "2024-03-14T05:11:45.142736Z",
     "start_time": "2024-03-14T05:11:35.528084Z"
    }
   },
   "outputs": [],
   "source": [
    "# 웹 드라이버 시작\n",
    "driver = webdriver.Chrome()\n",
    "\n",
    "# 결과를 저장할 빈 리스트 생성\n",
    "results = []\n",
    "\n",
    "driver.get('https://cpmadang.org/people/%EA%B5%AD%ED%9A%8C%EC%9D%98%EC%9B%90/21_elects?tid_1=All&term_node_tid_depth=All&tid=All&title=')\n",
    "\n",
    "\n",
    "# 페이지 소스 가져오기\n",
    "page_source = driver.page_source\n",
    "\n",
    "# BeautifulSoup을 사용하여 페이지 소스를 파싱\n",
    "soup = BeautifulSoup(page_source, 'html.parser')\n",
    "\n",
    "# 제목과 링크를 가져와서 리스트에 추가\n",
    "names = soup.select('#blazy-views-inmul-moglog-page-page-5-1 > li > div > div.views-field.views-field-title > span > a')\n",
    "partys = soup.select('#blazy-views-inmul-moglog-page-page-5-1 > li > div > div.views-field.views-field-field-party > div > a')\n",
    "\n",
    "for name, party in zip(names, partys):\n",
    "    results.append({'name': name.text, 'party': party.text})\n",
    "\n",
    "# 리스트를 DataFrame으로 변환\n",
    "res_df = pd.DataFrame(results)\n",
    "\n",
    "# 웹 드라이버 종료\n",
    "driver.quit()\n",
    "\n",
    "# 결과를 CSV 파일로 저장\n",
    "res_df.to_csv('./data/당선결과1.csv', index=False)\n"
   ]
  },
  {
   "cell_type": "code",
   "execution_count": 38,
   "id": "a4f7d54a",
   "metadata": {
    "ExecuteTime": {
     "end_time": "2024-03-14T05:12:31.274606Z",
     "start_time": "2024-03-14T05:12:17.925655Z"
    },
    "scrolled": true
   },
   "outputs": [
    {
     "name": "stderr",
     "output_type": "stream",
     "text": [
      "100%|████████████████████████████████████████████████████████████████████████████████████| 5/5 [00:05<00:00,  1.18s/it]\n"
     ]
    }
   ],
   "source": [
    "# 웹 드라이버 시작\n",
    "driver = webdriver.Chrome()\n",
    "\n",
    "# 결과를 저장할 빈 리스트 생성\n",
    "results = []\n",
    "\n",
    "for i in tqdm(range(1, 6)):\n",
    "    # 네비게이터 페이지 로드\n",
    "    driver.get('https://cpmadang.org/people/%EA%B5%AD%ED%9A%8C%EC%9D%98%EC%9B%90/21_elects?tid_1=All&term_node_tid_depth=All&tid=All&title=&page={}'.format(i))\n",
    "\n",
    "\n",
    "    # 페이지 소스 가져오기\n",
    "    page_source = driver.page_source\n",
    "\n",
    "    # BeautifulSoup을 사용하여 페이지 소스를 파싱\n",
    "    soup = BeautifulSoup(page_source, 'html.parser')\n",
    "\n",
    "    # 제목과 링크를 가져와서 리스트에 추가\n",
    "    names = soup.select('#blazy-views-inmul-moglog-page-page-5-1 > li > div > div.views-field.views-field-title > span > a')\n",
    "    partys = soup.select('#blazy-views-inmul-moglog-page-page-5-1 > li > div > div.views-field.views-field-field-party > div > a')\n",
    "\n",
    "    for name, party in zip(names, partys):\n",
    "        results.append({'name': name.text, 'party': party.text})\n",
    "# 리스트를 DataFrame으로 변환\n",
    "res_df = pd.DataFrame(results)\n",
    "\n",
    "# 웹 드라이버 종료\n",
    "driver.quit()\n",
    "\n",
    "# 결과를 CSV 파일로 저장\n",
    "res_df.to_csv('./data/당선결과2.csv', index=False)\n"
   ]
  },
  {
   "cell_type": "code",
   "execution_count": 44,
   "id": "9853fd06",
   "metadata": {
    "ExecuteTime": {
     "end_time": "2024-03-14T05:17:46.300128Z",
     "start_time": "2024-03-14T05:17:46.289351Z"
    }
   },
   "outputs": [],
   "source": [
    "res1 = pd.read_csv('./data/당선결과1.csv')\n",
    "res2 = pd.read_csv('./data/당선결과2.csv')\n",
    "\n",
    "res = pd.concat([res1, res2])\n",
    "res = res.reset_index(drop = True)\n",
    "res['name'] = res['name'].str.split('(').str[0]\n",
    "res.to_csv('./data/news_2020_당선결과.csv', index = False)"
   ]
  },
  {
   "cell_type": "code",
   "execution_count": null,
   "id": "c8baa119",
   "metadata": {
    "ExecuteTime": {
     "end_time": "2024-03-14T05:12:48.160403Z",
     "start_time": "2024-03-14T05:12:48.150526Z"
    }
   },
   "outputs": [],
   "source": []
  }
 ],
 "metadata": {
  "kernelspec": {
   "display_name": "Python 3 (ipykernel)",
   "language": "python",
   "name": "python3"
  },
  "language_info": {
   "codemirror_mode": {
    "name": "ipython",
    "version": 3
   },
   "file_extension": ".py",
   "mimetype": "text/x-python",
   "name": "python",
   "nbconvert_exporter": "python",
   "pygments_lexer": "ipython3",
   "version": "3.11.5"
  },
  "toc": {
   "base_numbering": 1,
   "nav_menu": {},
   "number_sections": true,
   "sideBar": true,
   "skip_h1_title": false,
   "title_cell": "Table of Contents",
   "title_sidebar": "Contents",
   "toc_cell": false,
   "toc_position": {
    "height": "calc(100% - 180px)",
    "left": "10px",
    "top": "150px",
    "width": "165px"
   },
   "toc_section_display": true,
   "toc_window_display": true
  }
 },
 "nbformat": 4,
 "nbformat_minor": 5
}
