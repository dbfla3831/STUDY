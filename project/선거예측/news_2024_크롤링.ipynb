{
 "cells": [
  {
   "cell_type": "markdown",
   "id": "6d490fa0",
   "metadata": {},
   "source": [
    "#  네이버 뉴스 가져오기\n",
    "\n",
    "2020년1월1일 ~ 2020년 4월 14일 데이터 가져오기\n",
    "\n",
    "'기사 더보기' 누르기 전 -> 기사가 몇개 없음\n",
    "\n",
    "=> 동적으로 변경"
   ]
  },
  {
   "cell_type": "code",
   "execution_count": 1,
   "id": "dc70b5e4",
   "metadata": {
    "ExecuteTime": {
     "end_time": "2024-03-15T07:47:15.765910Z",
     "start_time": "2024-03-15T07:47:15.071393Z"
    }
   },
   "outputs": [],
   "source": [
    "import urllib.request \n",
    "from bs4 import BeautifulSoup # 특정 웹 페이지의 HTML을 스크랩하여 데이터를 수집할 때 사용\n",
    "import pandas as pd\n",
    "import numpy as np\n",
    "import re\n",
    "\n",
    "from selenium import webdriver\n",
    "from selenium.webdriver.common.by import By\n",
    "from selenium.webdriver.support.ui import WebDriverWait\n",
    "from selenium.webdriver.support import expected_conditions as EC\n",
    "from bs4 import BeautifulSoup\n",
    "import time\n",
    "from tqdm import tqdm\n",
    "import datetime\n",
    "\n",
    "from IPython.core.interactiveshell import InteractiveShell\n",
    "InteractiveShell.ast_node_interactivity = 'all'"
   ]
  },
  {
   "cell_type": "code",
   "execution_count": 3,
   "id": "173f092e",
   "metadata": {
    "ExecuteTime": {
     "end_time": "2024-03-15T07:48:13.406988Z",
     "start_time": "2024-03-15T07:48:13.403589Z"
    }
   },
   "outputs": [],
   "source": [
    "# 날짜 가져오기\n",
    "# 시작 날짜와 끝 날짜 설정\n",
    "\n",
    "start_date = datetime.date(2024, 2, 1)\n",
    "end_date = datetime.date(2024, 2, 29)"
   ]
  },
  {
   "cell_type": "code",
   "execution_count": 4,
   "id": "e4d7965a",
   "metadata": {
    "ExecuteTime": {
     "end_time": "2024-03-15T13:06:09.011670Z",
     "start_time": "2024-03-15T07:48:14.567329Z"
    }
   },
   "outputs": [
    {
     "name": "stdout",
     "output_type": "stream",
     "text": [
      "Message: element not interactable\n",
      "  (Session info: chrome=122.0.6261.129)\n",
      "Stacktrace:\n",
      "\tGetHandleVerifier [0x00007FF60594AD02+56930]\n",
      "\t(No symbol) [0x00007FF6058BF602]\n",
      "\t(No symbol) [0x00007FF60577419D]\n",
      "\t(No symbol) [0x00007FF6057BACA2]\n",
      "\t(No symbol) [0x00007FF6057AF798]\n",
      "\t(No symbol) [0x00007FF6057DBC9A]\n",
      "\t(No symbol) [0x00007FF6057AF09A]\n",
      "\t(No symbol) [0x00007FF6057DBEB0]\n",
      "\t(No symbol) [0x00007FF6057F81E2]\n",
      "\t(No symbol) [0x00007FF6057DBA43]\n",
      "\t(No symbol) [0x00007FF6057AD438]\n",
      "\t(No symbol) [0x00007FF6057AE4D1]\n",
      "\tGetHandleVerifier [0x00007FF605CC6F8D+3711213]\n",
      "\tGetHandleVerifier [0x00007FF605D204CD+4077101]\n",
      "\tGetHandleVerifier [0x00007FF605D1865F+4044735]\n",
      "\tGetHandleVerifier [0x00007FF6059E9736+706710]\n",
      "\t(No symbol) [0x00007FF6058CB8DF]\n",
      "\t(No symbol) [0x00007FF6058C6AC4]\n",
      "\t(No symbol) [0x00007FF6058C6C1C]\n",
      "\t(No symbol) [0x00007FF6058B68D4]\n",
      "\tBaseThreadInitThunk [0x00007FF9A3D3257D+29]\n",
      "\tRtlUserThreadStart [0x00007FF9A58EAA58+40]\n",
      "\n"
     ]
    },
    {
     "name": "stderr",
     "output_type": "stream",
     "text": [
      "1800it [16:30,  1.82it/s]\n"
     ]
    },
    {
     "name": "stdout",
     "output_type": "stream",
     "text": [
      "Message: element not interactable\n",
      "  (Session info: chrome=122.0.6261.129)\n",
      "Stacktrace:\n",
      "\tGetHandleVerifier [0x00007FF60594AD02+56930]\n",
      "\t(No symbol) [0x00007FF6058BF602]\n",
      "\t(No symbol) [0x00007FF60577419D]\n",
      "\t(No symbol) [0x00007FF6057BACA2]\n",
      "\t(No symbol) [0x00007FF6057AF798]\n",
      "\t(No symbol) [0x00007FF6057DBC9A]\n",
      "\t(No symbol) [0x00007FF6057AF09A]\n",
      "\t(No symbol) [0x00007FF6057DBEB0]\n",
      "\t(No symbol) [0x00007FF6057F81E2]\n",
      "\t(No symbol) [0x00007FF6057DBA43]\n",
      "\t(No symbol) [0x00007FF6057AD438]\n",
      "\t(No symbol) [0x00007FF6057AE4D1]\n",
      "\tGetHandleVerifier [0x00007FF605CC6F8D+3711213]\n",
      "\tGetHandleVerifier [0x00007FF605D204CD+4077101]\n",
      "\tGetHandleVerifier [0x00007FF605D1865F+4044735]\n",
      "\tGetHandleVerifier [0x00007FF6059E9736+706710]\n",
      "\t(No symbol) [0x00007FF6058CB8DF]\n",
      "\t(No symbol) [0x00007FF6058C6AC4]\n",
      "\t(No symbol) [0x00007FF6058C6C1C]\n",
      "\t(No symbol) [0x00007FF6058B68D4]\n",
      "\tBaseThreadInitThunk [0x00007FF9A3D3257D+29]\n",
      "\tRtlUserThreadStart [0x00007FF9A58EAA58+40]\n",
      "\n"
     ]
    },
    {
     "name": "stderr",
     "output_type": "stream",
     "text": [
      "1178it [11:29,  1.71it/s]\n"
     ]
    },
    {
     "name": "stdout",
     "output_type": "stream",
     "text": [
      "Message: element not interactable\n",
      "  (Session info: chrome=122.0.6261.129)\n",
      "Stacktrace:\n",
      "\tGetHandleVerifier [0x00007FF60594AD02+56930]\n",
      "\t(No symbol) [0x00007FF6058BF602]\n",
      "\t(No symbol) [0x00007FF60577419D]\n",
      "\t(No symbol) [0x00007FF6057BACA2]\n",
      "\t(No symbol) [0x00007FF6057AF798]\n",
      "\t(No symbol) [0x00007FF6057DBC9A]\n",
      "\t(No symbol) [0x00007FF6057AF09A]\n",
      "\t(No symbol) [0x00007FF6057DBEB0]\n",
      "\t(No symbol) [0x00007FF6057F81E2]\n",
      "\t(No symbol) [0x00007FF6057DBA43]\n",
      "\t(No symbol) [0x00007FF6057AD438]\n",
      "\t(No symbol) [0x00007FF6057AE4D1]\n",
      "\tGetHandleVerifier [0x00007FF605CC6F8D+3711213]\n",
      "\tGetHandleVerifier [0x00007FF605D204CD+4077101]\n",
      "\tGetHandleVerifier [0x00007FF605D1865F+4044735]\n",
      "\tGetHandleVerifier [0x00007FF6059E9736+706710]\n",
      "\t(No symbol) [0x00007FF6058CB8DF]\n",
      "\t(No symbol) [0x00007FF6058C6AC4]\n",
      "\t(No symbol) [0x00007FF6058C6C1C]\n",
      "\t(No symbol) [0x00007FF6058B68D4]\n",
      "\tBaseThreadInitThunk [0x00007FF9A3D3257D+29]\n",
      "\tRtlUserThreadStart [0x00007FF9A58EAA58+40]\n",
      "\n"
     ]
    },
    {
     "name": "stderr",
     "output_type": "stream",
     "text": [
      "295it [02:48,  1.75it/s]\n"
     ]
    },
    {
     "name": "stdout",
     "output_type": "stream",
     "text": [
      "Message: element not interactable\n",
      "  (Session info: chrome=122.0.6261.129)\n",
      "Stacktrace:\n",
      "\tGetHandleVerifier [0x00007FF60594AD02+56930]\n",
      "\t(No symbol) [0x00007FF6058BF602]\n",
      "\t(No symbol) [0x00007FF60577419D]\n",
      "\t(No symbol) [0x00007FF6057BACA2]\n",
      "\t(No symbol) [0x00007FF6057AF798]\n",
      "\t(No symbol) [0x00007FF6057DBC9A]\n",
      "\t(No symbol) [0x00007FF6057AF09A]\n",
      "\t(No symbol) [0x00007FF6057DBEB0]\n",
      "\t(No symbol) [0x00007FF6057F81E2]\n",
      "\t(No symbol) [0x00007FF6057DBA43]\n",
      "\t(No symbol) [0x00007FF6057AD438]\n",
      "\t(No symbol) [0x00007FF6057AE4D1]\n",
      "\tGetHandleVerifier [0x00007FF605CC6F8D+3711213]\n",
      "\tGetHandleVerifier [0x00007FF605D204CD+4077101]\n",
      "\tGetHandleVerifier [0x00007FF605D1865F+4044735]\n",
      "\tGetHandleVerifier [0x00007FF6059E9736+706710]\n",
      "\t(No symbol) [0x00007FF6058CB8DF]\n",
      "\t(No symbol) [0x00007FF6058C6AC4]\n",
      "\t(No symbol) [0x00007FF6058C6C1C]\n",
      "\t(No symbol) [0x00007FF6058B68D4]\n",
      "\tBaseThreadInitThunk [0x00007FF9A3D3257D+29]\n",
      "\tRtlUserThreadStart [0x00007FF9A58EAA58+40]\n",
      "\n"
     ]
    },
    {
     "name": "stderr",
     "output_type": "stream",
     "text": [
      "755it [07:36,  1.65it/s]\n"
     ]
    },
    {
     "name": "stdout",
     "output_type": "stream",
     "text": [
      "Message: element not interactable\n",
      "  (Session info: chrome=122.0.6261.129)\n",
      "Stacktrace:\n",
      "\tGetHandleVerifier [0x00007FF60594AD02+56930]\n",
      "\t(No symbol) [0x00007FF6058BF602]\n",
      "\t(No symbol) [0x00007FF60577419D]\n",
      "\t(No symbol) [0x00007FF6057BACA2]\n",
      "\t(No symbol) [0x00007FF6057AF798]\n",
      "\t(No symbol) [0x00007FF6057DBC9A]\n",
      "\t(No symbol) [0x00007FF6057AF09A]\n",
      "\t(No symbol) [0x00007FF6057DBEB0]\n",
      "\t(No symbol) [0x00007FF6057F81E2]\n",
      "\t(No symbol) [0x00007FF6057DBA43]\n",
      "\t(No symbol) [0x00007FF6057AD438]\n",
      "\t(No symbol) [0x00007FF6057AE4D1]\n",
      "\tGetHandleVerifier [0x00007FF605CC6F8D+3711213]\n",
      "\tGetHandleVerifier [0x00007FF605D204CD+4077101]\n",
      "\tGetHandleVerifier [0x00007FF605D1865F+4044735]\n",
      "\tGetHandleVerifier [0x00007FF6059E9736+706710]\n",
      "\t(No symbol) [0x00007FF6058CB8DF]\n",
      "\t(No symbol) [0x00007FF6058C6AC4]\n",
      "\t(No symbol) [0x00007FF6058C6C1C]\n",
      "\t(No symbol) [0x00007FF6058B68D4]\n",
      "\tBaseThreadInitThunk [0x00007FF9A3D3257D+29]\n",
      "\tRtlUserThreadStart [0x00007FF9A58EAA58+40]\n",
      "\n"
     ]
    },
    {
     "name": "stderr",
     "output_type": "stream",
     "text": [
      "1342it [12:16,  1.82it/s]\n"
     ]
    },
    {
     "name": "stdout",
     "output_type": "stream",
     "text": [
      "Message: element not interactable\n",
      "  (Session info: chrome=122.0.6261.129)\n",
      "Stacktrace:\n",
      "\tGetHandleVerifier [0x00007FF60594AD02+56930]\n",
      "\t(No symbol) [0x00007FF6058BF602]\n",
      "\t(No symbol) [0x00007FF60577419D]\n",
      "\t(No symbol) [0x00007FF6057BACA2]\n",
      "\t(No symbol) [0x00007FF6057AF798]\n",
      "\t(No symbol) [0x00007FF6057DBC9A]\n",
      "\t(No symbol) [0x00007FF6057AF09A]\n",
      "\t(No symbol) [0x00007FF6057DBEB0]\n",
      "\t(No symbol) [0x00007FF6057F81E2]\n",
      "\t(No symbol) [0x00007FF6057DBA43]\n",
      "\t(No symbol) [0x00007FF6057AD438]\n",
      "\t(No symbol) [0x00007FF6057AE4D1]\n",
      "\tGetHandleVerifier [0x00007FF605CC6F8D+3711213]\n",
      "\tGetHandleVerifier [0x00007FF605D204CD+4077101]\n",
      "\tGetHandleVerifier [0x00007FF605D1865F+4044735]\n",
      "\tGetHandleVerifier [0x00007FF6059E9736+706710]\n",
      "\t(No symbol) [0x00007FF6058CB8DF]\n",
      "\t(No symbol) [0x00007FF6058C6AC4]\n",
      "\t(No symbol) [0x00007FF6058C6C1C]\n",
      "\t(No symbol) [0x00007FF6058B68D4]\n",
      "\tBaseThreadInitThunk [0x00007FF9A3D3257D+29]\n",
      "\tRtlUserThreadStart [0x00007FF9A58EAA58+40]\n",
      "\n"
     ]
    },
    {
     "name": "stderr",
     "output_type": "stream",
     "text": [
      "1331it [12:02,  1.84it/s]\n"
     ]
    },
    {
     "name": "stdout",
     "output_type": "stream",
     "text": [
      "Message: element not interactable\n",
      "  (Session info: chrome=122.0.6261.129)\n",
      "Stacktrace:\n",
      "\tGetHandleVerifier [0x00007FF60594AD02+56930]\n",
      "\t(No symbol) [0x00007FF6058BF602]\n",
      "\t(No symbol) [0x00007FF60577419D]\n",
      "\t(No symbol) [0x00007FF6057BACA2]\n",
      "\t(No symbol) [0x00007FF6057AF798]\n",
      "\t(No symbol) [0x00007FF6057DBC9A]\n",
      "\t(No symbol) [0x00007FF6057AF09A]\n",
      "\t(No symbol) [0x00007FF6057DBEB0]\n",
      "\t(No symbol) [0x00007FF6057F81E2]\n",
      "\t(No symbol) [0x00007FF6057DBA43]\n",
      "\t(No symbol) [0x00007FF6057AD438]\n",
      "\t(No symbol) [0x00007FF6057AE4D1]\n",
      "\tGetHandleVerifier [0x00007FF605CC6F8D+3711213]\n",
      "\tGetHandleVerifier [0x00007FF605D204CD+4077101]\n",
      "\tGetHandleVerifier [0x00007FF605D1865F+4044735]\n",
      "\tGetHandleVerifier [0x00007FF6059E9736+706710]\n",
      "\t(No symbol) [0x00007FF6058CB8DF]\n",
      "\t(No symbol) [0x00007FF6058C6AC4]\n",
      "\t(No symbol) [0x00007FF6058C6C1C]\n",
      "\t(No symbol) [0x00007FF6058B68D4]\n",
      "\tBaseThreadInitThunk [0x00007FF9A3D3257D+29]\n",
      "\tRtlUserThreadStart [0x00007FF9A58EAA58+40]\n",
      "\n"
     ]
    },
    {
     "name": "stderr",
     "output_type": "stream",
     "text": [
      "1591it [14:04,  1.88it/s]\n"
     ]
    },
    {
     "name": "stdout",
     "output_type": "stream",
     "text": [
      "Message: element not interactable\n",
      "  (Session info: chrome=122.0.6261.129)\n",
      "Stacktrace:\n",
      "\tGetHandleVerifier [0x00007FF60594AD02+56930]\n",
      "\t(No symbol) [0x00007FF6058BF602]\n",
      "\t(No symbol) [0x00007FF60577419D]\n",
      "\t(No symbol) [0x00007FF6057BACA2]\n",
      "\t(No symbol) [0x00007FF6057AF798]\n",
      "\t(No symbol) [0x00007FF6057DBC9A]\n",
      "\t(No symbol) [0x00007FF6057AF09A]\n",
      "\t(No symbol) [0x00007FF6057DBEB0]\n",
      "\t(No symbol) [0x00007FF6057F81E2]\n",
      "\t(No symbol) [0x00007FF6057DBA43]\n",
      "\t(No symbol) [0x00007FF6057AD438]\n",
      "\t(No symbol) [0x00007FF6057AE4D1]\n",
      "\tGetHandleVerifier [0x00007FF605CC6F8D+3711213]\n",
      "\tGetHandleVerifier [0x00007FF605D204CD+4077101]\n",
      "\tGetHandleVerifier [0x00007FF605D1865F+4044735]\n",
      "\tGetHandleVerifier [0x00007FF6059E9736+706710]\n",
      "\t(No symbol) [0x00007FF6058CB8DF]\n",
      "\t(No symbol) [0x00007FF6058C6AC4]\n",
      "\t(No symbol) [0x00007FF6058C6C1C]\n",
      "\t(No symbol) [0x00007FF6058B68D4]\n",
      "\tBaseThreadInitThunk [0x00007FF9A3D3257D+29]\n",
      "\tRtlUserThreadStart [0x00007FF9A58EAA58+40]\n",
      "\n"
     ]
    },
    {
     "name": "stderr",
     "output_type": "stream",
     "text": [
      "1196it [10:47,  1.85it/s]\n"
     ]
    },
    {
     "name": "stdout",
     "output_type": "stream",
     "text": [
      "Message: element not interactable\n",
      "  (Session info: chrome=122.0.6261.129)\n",
      "Stacktrace:\n",
      "\tGetHandleVerifier [0x00007FF60594AD02+56930]\n",
      "\t(No symbol) [0x00007FF6058BF602]\n",
      "\t(No symbol) [0x00007FF60577419D]\n",
      "\t(No symbol) [0x00007FF6057BACA2]\n",
      "\t(No symbol) [0x00007FF6057AF798]\n",
      "\t(No symbol) [0x00007FF6057DBC9A]\n",
      "\t(No symbol) [0x00007FF6057AF09A]\n",
      "\t(No symbol) [0x00007FF6057DBEB0]\n",
      "\t(No symbol) [0x00007FF6057F81E2]\n",
      "\t(No symbol) [0x00007FF6057DBA43]\n",
      "\t(No symbol) [0x00007FF6057AD438]\n",
      "\t(No symbol) [0x00007FF6057AE4D1]\n",
      "\tGetHandleVerifier [0x00007FF605CC6F8D+3711213]\n",
      "\tGetHandleVerifier [0x00007FF605D204CD+4077101]\n",
      "\tGetHandleVerifier [0x00007FF605D1865F+4044735]\n",
      "\tGetHandleVerifier [0x00007FF6059E9736+706710]\n",
      "\t(No symbol) [0x00007FF6058CB8DF]\n",
      "\t(No symbol) [0x00007FF6058C6AC4]\n",
      "\t(No symbol) [0x00007FF6058C6C1C]\n",
      "\t(No symbol) [0x00007FF6058B68D4]\n",
      "\tBaseThreadInitThunk [0x00007FF9A3D3257D+29]\n",
      "\tRtlUserThreadStart [0x00007FF9A58EAA58+40]\n",
      "\n"
     ]
    },
    {
     "name": "stderr",
     "output_type": "stream",
     "text": [
      "312it [02:54,  1.79it/s]\n"
     ]
    },
    {
     "name": "stdout",
     "output_type": "stream",
     "text": [
      "Message: element not interactable\n",
      "  (Session info: chrome=122.0.6261.129)\n",
      "Stacktrace:\n",
      "\tGetHandleVerifier [0x00007FF60594AD02+56930]\n",
      "\t(No symbol) [0x00007FF6058BF602]\n",
      "\t(No symbol) [0x00007FF60577419D]\n",
      "\t(No symbol) [0x00007FF6057BACA2]\n",
      "\t(No symbol) [0x00007FF6057AF798]\n",
      "\t(No symbol) [0x00007FF6057DBC9A]\n",
      "\t(No symbol) [0x00007FF6057AF09A]\n",
      "\t(No symbol) [0x00007FF6057DBEB0]\n",
      "\t(No symbol) [0x00007FF6057F81E2]\n",
      "\t(No symbol) [0x00007FF6057DBA43]\n",
      "\t(No symbol) [0x00007FF6057AD438]\n",
      "\t(No symbol) [0x00007FF6057AE4D1]\n",
      "\tGetHandleVerifier [0x00007FF605CC6F8D+3711213]\n",
      "\tGetHandleVerifier [0x00007FF605D204CD+4077101]\n",
      "\tGetHandleVerifier [0x00007FF605D1865F+4044735]\n",
      "\tGetHandleVerifier [0x00007FF6059E9736+706710]\n",
      "\t(No symbol) [0x00007FF6058CB8DF]\n",
      "\t(No symbol) [0x00007FF6058C6AC4]\n",
      "\t(No symbol) [0x00007FF6058C6C1C]\n",
      "\t(No symbol) [0x00007FF6058B68D4]\n",
      "\tBaseThreadInitThunk [0x00007FF9A3D3257D+29]\n",
      "\tRtlUserThreadStart [0x00007FF9A58EAA58+40]\n",
      "\n"
     ]
    },
    {
     "name": "stderr",
     "output_type": "stream",
     "text": [
      "159it [01:24,  1.88it/s]\n"
     ]
    },
    {
     "name": "stdout",
     "output_type": "stream",
     "text": [
      "Message: element not interactable\n",
      "  (Session info: chrome=122.0.6261.129)\n",
      "Stacktrace:\n",
      "\tGetHandleVerifier [0x00007FF60594AD02+56930]\n",
      "\t(No symbol) [0x00007FF6058BF602]\n",
      "\t(No symbol) [0x00007FF60577419D]\n",
      "\t(No symbol) [0x00007FF6057BACA2]\n",
      "\t(No symbol) [0x00007FF6057AF798]\n",
      "\t(No symbol) [0x00007FF6057DBC9A]\n",
      "\t(No symbol) [0x00007FF6057AF09A]\n",
      "\t(No symbol) [0x00007FF6057DBEB0]\n",
      "\t(No symbol) [0x00007FF6057F81E2]\n",
      "\t(No symbol) [0x00007FF6057DBA43]\n",
      "\t(No symbol) [0x00007FF6057AD438]\n",
      "\t(No symbol) [0x00007FF6057AE4D1]\n",
      "\tGetHandleVerifier [0x00007FF605CC6F8D+3711213]\n",
      "\tGetHandleVerifier [0x00007FF605D204CD+4077101]\n",
      "\tGetHandleVerifier [0x00007FF605D1865F+4044735]\n",
      "\tGetHandleVerifier [0x00007FF6059E9736+706710]\n",
      "\t(No symbol) [0x00007FF6058CB8DF]\n",
      "\t(No symbol) [0x00007FF6058C6AC4]\n",
      "\t(No symbol) [0x00007FF6058C6C1C]\n",
      "\t(No symbol) [0x00007FF6058B68D4]\n",
      "\tBaseThreadInitThunk [0x00007FF9A3D3257D+29]\n",
      "\tRtlUserThreadStart [0x00007FF9A58EAA58+40]\n",
      "\n"
     ]
    },
    {
     "name": "stderr",
     "output_type": "stream",
     "text": [
      "215it [01:58,  1.81it/s]\n"
     ]
    },
    {
     "name": "stdout",
     "output_type": "stream",
     "text": [
      "Message: element not interactable\n",
      "  (Session info: chrome=122.0.6261.129)\n",
      "Stacktrace:\n",
      "\tGetHandleVerifier [0x00007FF60594AD02+56930]\n",
      "\t(No symbol) [0x00007FF6058BF602]\n",
      "\t(No symbol) [0x00007FF60577419D]\n",
      "\t(No symbol) [0x00007FF6057BACA2]\n",
      "\t(No symbol) [0x00007FF6057AF798]\n",
      "\t(No symbol) [0x00007FF6057DBC9A]\n",
      "\t(No symbol) [0x00007FF6057AF09A]\n",
      "\t(No symbol) [0x00007FF6057DBEB0]\n",
      "\t(No symbol) [0x00007FF6057F81E2]\n",
      "\t(No symbol) [0x00007FF6057DBA43]\n",
      "\t(No symbol) [0x00007FF6057AD438]\n",
      "\t(No symbol) [0x00007FF6057AE4D1]\n",
      "\tGetHandleVerifier [0x00007FF605CC6F8D+3711213]\n",
      "\tGetHandleVerifier [0x00007FF605D204CD+4077101]\n",
      "\tGetHandleVerifier [0x00007FF605D1865F+4044735]\n",
      "\tGetHandleVerifier [0x00007FF6059E9736+706710]\n",
      "\t(No symbol) [0x00007FF6058CB8DF]\n",
      "\t(No symbol) [0x00007FF6058C6AC4]\n",
      "\t(No symbol) [0x00007FF6058C6C1C]\n",
      "\t(No symbol) [0x00007FF6058B68D4]\n",
      "\tBaseThreadInitThunk [0x00007FF9A3D3257D+29]\n",
      "\tRtlUserThreadStart [0x00007FF9A58EAA58+40]\n",
      "\n"
     ]
    },
    {
     "name": "stderr",
     "output_type": "stream",
     "text": [
      "429it [04:00,  1.78it/s]\n"
     ]
    },
    {
     "name": "stdout",
     "output_type": "stream",
     "text": [
      "Message: element not interactable\n",
      "  (Session info: chrome=122.0.6261.129)\n",
      "Stacktrace:\n",
      "\tGetHandleVerifier [0x00007FF60594AD02+56930]\n",
      "\t(No symbol) [0x00007FF6058BF602]\n",
      "\t(No symbol) [0x00007FF60577419D]\n",
      "\t(No symbol) [0x00007FF6057BACA2]\n",
      "\t(No symbol) [0x00007FF6057AF798]\n",
      "\t(No symbol) [0x00007FF6057DBC9A]\n",
      "\t(No symbol) [0x00007FF6057AF09A]\n",
      "\t(No symbol) [0x00007FF6057DBEB0]\n",
      "\t(No symbol) [0x00007FF6057F81E2]\n",
      "\t(No symbol) [0x00007FF6057DBA43]\n",
      "\t(No symbol) [0x00007FF6057AD438]\n",
      "\t(No symbol) [0x00007FF6057AE4D1]\n",
      "\tGetHandleVerifier [0x00007FF605CC6F8D+3711213]\n",
      "\tGetHandleVerifier [0x00007FF605D204CD+4077101]\n",
      "\tGetHandleVerifier [0x00007FF605D1865F+4044735]\n",
      "\tGetHandleVerifier [0x00007FF6059E9736+706710]\n",
      "\t(No symbol) [0x00007FF6058CB8DF]\n",
      "\t(No symbol) [0x00007FF6058C6AC4]\n",
      "\t(No symbol) [0x00007FF6058C6C1C]\n",
      "\t(No symbol) [0x00007FF6058B68D4]\n",
      "\tBaseThreadInitThunk [0x00007FF9A3D3257D+29]\n",
      "\tRtlUserThreadStart [0x00007FF9A58EAA58+40]\n",
      "\n"
     ]
    },
    {
     "name": "stderr",
     "output_type": "stream",
     "text": [
      "1173it [10:52,  1.80it/s]\n"
     ]
    },
    {
     "name": "stdout",
     "output_type": "stream",
     "text": [
      "Message: element not interactable\n",
      "  (Session info: chrome=122.0.6261.129)\n",
      "Stacktrace:\n",
      "\tGetHandleVerifier [0x00007FF60594AD02+56930]\n",
      "\t(No symbol) [0x00007FF6058BF602]\n",
      "\t(No symbol) [0x00007FF60577419D]\n",
      "\t(No symbol) [0x00007FF6057BACA2]\n",
      "\t(No symbol) [0x00007FF6057AF798]\n",
      "\t(No symbol) [0x00007FF6057DBC9A]\n",
      "\t(No symbol) [0x00007FF6057AF09A]\n",
      "\t(No symbol) [0x00007FF6057DBEB0]\n",
      "\t(No symbol) [0x00007FF6057F81E2]\n",
      "\t(No symbol) [0x00007FF6057DBA43]\n",
      "\t(No symbol) [0x00007FF6057AD438]\n",
      "\t(No symbol) [0x00007FF6057AE4D1]\n",
      "\tGetHandleVerifier [0x00007FF605CC6F8D+3711213]\n",
      "\tGetHandleVerifier [0x00007FF605D204CD+4077101]\n",
      "\tGetHandleVerifier [0x00007FF605D1865F+4044735]\n",
      "\tGetHandleVerifier [0x00007FF6059E9736+706710]\n",
      "\t(No symbol) [0x00007FF6058CB8DF]\n",
      "\t(No symbol) [0x00007FF6058C6AC4]\n",
      "\t(No symbol) [0x00007FF6058C6C1C]\n",
      "\t(No symbol) [0x00007FF6058B68D4]\n",
      "\tBaseThreadInitThunk [0x00007FF9A3D3257D+29]\n",
      "\tRtlUserThreadStart [0x00007FF9A58EAA58+40]\n",
      "\n"
     ]
    },
    {
     "name": "stderr",
     "output_type": "stream",
     "text": [
      "1499it [13:55,  1.79it/s]\n"
     ]
    },
    {
     "name": "stdout",
     "output_type": "stream",
     "text": [
      "Message: element not interactable\n",
      "  (Session info: chrome=122.0.6261.129)\n",
      "Stacktrace:\n",
      "\tGetHandleVerifier [0x00007FF60594AD02+56930]\n",
      "\t(No symbol) [0x00007FF6058BF602]\n",
      "\t(No symbol) [0x00007FF60577419D]\n",
      "\t(No symbol) [0x00007FF6057BACA2]\n",
      "\t(No symbol) [0x00007FF6057AF798]\n",
      "\t(No symbol) [0x00007FF6057DBC9A]\n",
      "\t(No symbol) [0x00007FF6057AF09A]\n",
      "\t(No symbol) [0x00007FF6057DBEB0]\n",
      "\t(No symbol) [0x00007FF6057F81E2]\n",
      "\t(No symbol) [0x00007FF6057DBA43]\n",
      "\t(No symbol) [0x00007FF6057AD438]\n",
      "\t(No symbol) [0x00007FF6057AE4D1]\n",
      "\tGetHandleVerifier [0x00007FF605CC6F8D+3711213]\n",
      "\tGetHandleVerifier [0x00007FF605D204CD+4077101]\n",
      "\tGetHandleVerifier [0x00007FF605D1865F+4044735]\n",
      "\tGetHandleVerifier [0x00007FF6059E9736+706710]\n",
      "\t(No symbol) [0x00007FF6058CB8DF]\n",
      "\t(No symbol) [0x00007FF6058C6AC4]\n",
      "\t(No symbol) [0x00007FF6058C6C1C]\n",
      "\t(No symbol) [0x00007FF6058B68D4]\n",
      "\tBaseThreadInitThunk [0x00007FF9A3D3257D+29]\n",
      "\tRtlUserThreadStart [0x00007FF9A58EAA58+40]\n",
      "\n"
     ]
    },
    {
     "name": "stderr",
     "output_type": "stream",
     "text": [
      "1304it [12:10,  1.79it/s]\n"
     ]
    },
    {
     "name": "stdout",
     "output_type": "stream",
     "text": [
      "Message: element not interactable\n",
      "  (Session info: chrome=122.0.6261.129)\n",
      "Stacktrace:\n",
      "\tGetHandleVerifier [0x00007FF60594AD02+56930]\n",
      "\t(No symbol) [0x00007FF6058BF602]\n",
      "\t(No symbol) [0x00007FF60577419D]\n",
      "\t(No symbol) [0x00007FF6057BACA2]\n",
      "\t(No symbol) [0x00007FF6057AF798]\n",
      "\t(No symbol) [0x00007FF6057DBC9A]\n",
      "\t(No symbol) [0x00007FF6057AF09A]\n",
      "\t(No symbol) [0x00007FF6057DBEB0]\n",
      "\t(No symbol) [0x00007FF6057F81E2]\n",
      "\t(No symbol) [0x00007FF6057DBA43]\n",
      "\t(No symbol) [0x00007FF6057AD438]\n",
      "\t(No symbol) [0x00007FF6057AE4D1]\n",
      "\tGetHandleVerifier [0x00007FF605CC6F8D+3711213]\n",
      "\tGetHandleVerifier [0x00007FF605D204CD+4077101]\n",
      "\tGetHandleVerifier [0x00007FF605D1865F+4044735]\n",
      "\tGetHandleVerifier [0x00007FF6059E9736+706710]\n",
      "\t(No symbol) [0x00007FF6058CB8DF]\n",
      "\t(No symbol) [0x00007FF6058C6AC4]\n",
      "\t(No symbol) [0x00007FF6058C6C1C]\n",
      "\t(No symbol) [0x00007FF6058B68D4]\n",
      "\tBaseThreadInitThunk [0x00007FF9A3D3257D+29]\n",
      "\tRtlUserThreadStart [0x00007FF9A58EAA58+40]\n",
      "\n"
     ]
    },
    {
     "name": "stderr",
     "output_type": "stream",
     "text": [
      "1083it [10:08,  1.78it/s]\n"
     ]
    },
    {
     "name": "stdout",
     "output_type": "stream",
     "text": [
      "Message: element not interactable\n",
      "  (Session info: chrome=122.0.6261.129)\n",
      "Stacktrace:\n",
      "\tGetHandleVerifier [0x00007FF60594AD02+56930]\n",
      "\t(No symbol) [0x00007FF6058BF602]\n",
      "\t(No symbol) [0x00007FF60577419D]\n",
      "\t(No symbol) [0x00007FF6057BACA2]\n",
      "\t(No symbol) [0x00007FF6057AF798]\n",
      "\t(No symbol) [0x00007FF6057DBC9A]\n",
      "\t(No symbol) [0x00007FF6057AF09A]\n",
      "\t(No symbol) [0x00007FF6057DBEB0]\n",
      "\t(No symbol) [0x00007FF6057F81E2]\n",
      "\t(No symbol) [0x00007FF6057DBA43]\n",
      "\t(No symbol) [0x00007FF6057AD438]\n",
      "\t(No symbol) [0x00007FF6057AE4D1]\n",
      "\tGetHandleVerifier [0x00007FF605CC6F8D+3711213]\n",
      "\tGetHandleVerifier [0x00007FF605D204CD+4077101]\n",
      "\tGetHandleVerifier [0x00007FF605D1865F+4044735]\n",
      "\tGetHandleVerifier [0x00007FF6059E9736+706710]\n",
      "\t(No symbol) [0x00007FF6058CB8DF]\n",
      "\t(No symbol) [0x00007FF6058C6AC4]\n",
      "\t(No symbol) [0x00007FF6058C6C1C]\n",
      "\t(No symbol) [0x00007FF6058B68D4]\n",
      "\tBaseThreadInitThunk [0x00007FF9A3D3257D+29]\n",
      "\tRtlUserThreadStart [0x00007FF9A58EAA58+40]\n",
      "\n"
     ]
    },
    {
     "name": "stderr",
     "output_type": "stream",
     "text": [
      "286it [02:42,  1.77it/s]\n"
     ]
    },
    {
     "name": "stdout",
     "output_type": "stream",
     "text": [
      "Message: element not interactable\n",
      "  (Session info: chrome=122.0.6261.129)\n",
      "Stacktrace:\n",
      "\tGetHandleVerifier [0x00007FF60594AD02+56930]\n",
      "\t(No symbol) [0x00007FF6058BF602]\n",
      "\t(No symbol) [0x00007FF60577419D]\n",
      "\t(No symbol) [0x00007FF6057BACA2]\n",
      "\t(No symbol) [0x00007FF6057AF798]\n",
      "\t(No symbol) [0x00007FF6057DBC9A]\n",
      "\t(No symbol) [0x00007FF6057AF09A]\n",
      "\t(No symbol) [0x00007FF6057DBEB0]\n",
      "\t(No symbol) [0x00007FF6057F81E2]\n",
      "\t(No symbol) [0x00007FF6057DBA43]\n",
      "\t(No symbol) [0x00007FF6057AD438]\n",
      "\t(No symbol) [0x00007FF6057AE4D1]\n",
      "\tGetHandleVerifier [0x00007FF605CC6F8D+3711213]\n",
      "\tGetHandleVerifier [0x00007FF605D204CD+4077101]\n",
      "\tGetHandleVerifier [0x00007FF605D1865F+4044735]\n",
      "\tGetHandleVerifier [0x00007FF6059E9736+706710]\n",
      "\t(No symbol) [0x00007FF6058CB8DF]\n",
      "\t(No symbol) [0x00007FF6058C6AC4]\n",
      "\t(No symbol) [0x00007FF6058C6C1C]\n",
      "\t(No symbol) [0x00007FF6058B68D4]\n",
      "\tBaseThreadInitThunk [0x00007FF9A3D3257D+29]\n",
      "\tRtlUserThreadStart [0x00007FF9A58EAA58+40]\n",
      "\n"
     ]
    },
    {
     "name": "stderr",
     "output_type": "stream",
     "text": [
      "583it [05:32,  1.76it/s]\n"
     ]
    },
    {
     "name": "stdout",
     "output_type": "stream",
     "text": [
      "Message: element not interactable\n",
      "  (Session info: chrome=122.0.6261.129)\n",
      "Stacktrace:\n",
      "\tGetHandleVerifier [0x00007FF60594AD02+56930]\n",
      "\t(No symbol) [0x00007FF6058BF602]\n",
      "\t(No symbol) [0x00007FF60577419D]\n",
      "\t(No symbol) [0x00007FF6057BACA2]\n",
      "\t(No symbol) [0x00007FF6057AF798]\n",
      "\t(No symbol) [0x00007FF6057DBC9A]\n",
      "\t(No symbol) [0x00007FF6057AF09A]\n",
      "\t(No symbol) [0x00007FF6057DBEB0]\n",
      "\t(No symbol) [0x00007FF6057F81E2]\n",
      "\t(No symbol) [0x00007FF6057DBA43]\n",
      "\t(No symbol) [0x00007FF6057AD438]\n",
      "\t(No symbol) [0x00007FF6057AE4D1]\n",
      "\tGetHandleVerifier [0x00007FF605CC6F8D+3711213]\n",
      "\tGetHandleVerifier [0x00007FF605D204CD+4077101]\n",
      "\tGetHandleVerifier [0x00007FF605D1865F+4044735]\n",
      "\tGetHandleVerifier [0x00007FF6059E9736+706710]\n",
      "\t(No symbol) [0x00007FF6058CB8DF]\n",
      "\t(No symbol) [0x00007FF6058C6AC4]\n",
      "\t(No symbol) [0x00007FF6058C6C1C]\n",
      "\t(No symbol) [0x00007FF6058B68D4]\n",
      "\tBaseThreadInitThunk [0x00007FF9A3D3257D+29]\n",
      "\tRtlUserThreadStart [0x00007FF9A58EAA58+40]\n",
      "\n"
     ]
    },
    {
     "name": "stderr",
     "output_type": "stream",
     "text": [
      "1593it [15:16,  1.74it/s]\n"
     ]
    },
    {
     "name": "stdout",
     "output_type": "stream",
     "text": [
      "Message: element not interactable\n",
      "  (Session info: chrome=122.0.6261.129)\n",
      "Stacktrace:\n",
      "\tGetHandleVerifier [0x00007FF60594AD02+56930]\n",
      "\t(No symbol) [0x00007FF6058BF602]\n",
      "\t(No symbol) [0x00007FF60577419D]\n",
      "\t(No symbol) [0x00007FF6057BACA2]\n",
      "\t(No symbol) [0x00007FF6057AF798]\n",
      "\t(No symbol) [0x00007FF6057DBC9A]\n",
      "\t(No symbol) [0x00007FF6057AF09A]\n",
      "\t(No symbol) [0x00007FF6057DBEB0]\n",
      "\t(No symbol) [0x00007FF6057F81E2]\n",
      "\t(No symbol) [0x00007FF6057DBA43]\n",
      "\t(No symbol) [0x00007FF6057AD438]\n",
      "\t(No symbol) [0x00007FF6057AE4D1]\n",
      "\tGetHandleVerifier [0x00007FF605CC6F8D+3711213]\n",
      "\tGetHandleVerifier [0x00007FF605D204CD+4077101]\n",
      "\tGetHandleVerifier [0x00007FF605D1865F+4044735]\n",
      "\tGetHandleVerifier [0x00007FF6059E9736+706710]\n",
      "\t(No symbol) [0x00007FF6058CB8DF]\n",
      "\t(No symbol) [0x00007FF6058C6AC4]\n",
      "\t(No symbol) [0x00007FF6058C6C1C]\n",
      "\t(No symbol) [0x00007FF6058B68D4]\n",
      "\tBaseThreadInitThunk [0x00007FF9A3D3257D+29]\n",
      "\tRtlUserThreadStart [0x00007FF9A58EAA58+40]\n",
      "\n"
     ]
    },
    {
     "name": "stderr",
     "output_type": "stream",
     "text": [
      "1566it [15:10,  1.72it/s]\n"
     ]
    },
    {
     "name": "stdout",
     "output_type": "stream",
     "text": [
      "Message: element not interactable\n",
      "  (Session info: chrome=122.0.6261.129)\n",
      "Stacktrace:\n",
      "\tGetHandleVerifier [0x00007FF60594AD02+56930]\n",
      "\t(No symbol) [0x00007FF6058BF602]\n",
      "\t(No symbol) [0x00007FF60577419D]\n",
      "\t(No symbol) [0x00007FF6057BACA2]\n",
      "\t(No symbol) [0x00007FF6057AF798]\n",
      "\t(No symbol) [0x00007FF6057DBC9A]\n",
      "\t(No symbol) [0x00007FF6057AF09A]\n",
      "\t(No symbol) [0x00007FF6057DBEB0]\n",
      "\t(No symbol) [0x00007FF6057F81E2]\n",
      "\t(No symbol) [0x00007FF6057DBA43]\n",
      "\t(No symbol) [0x00007FF6057AD438]\n",
      "\t(No symbol) [0x00007FF6057AE4D1]\n",
      "\tGetHandleVerifier [0x00007FF605CC6F8D+3711213]\n",
      "\tGetHandleVerifier [0x00007FF605D204CD+4077101]\n",
      "\tGetHandleVerifier [0x00007FF605D1865F+4044735]\n",
      "\tGetHandleVerifier [0x00007FF6059E9736+706710]\n",
      "\t(No symbol) [0x00007FF6058CB8DF]\n",
      "\t(No symbol) [0x00007FF6058C6AC4]\n",
      "\t(No symbol) [0x00007FF6058C6C1C]\n",
      "\t(No symbol) [0x00007FF6058B68D4]\n",
      "\tBaseThreadInitThunk [0x00007FF9A3D3257D+29]\n",
      "\tRtlUserThreadStart [0x00007FF9A58EAA58+40]\n",
      "\n"
     ]
    },
    {
     "name": "stderr",
     "output_type": "stream",
     "text": [
      "1764it [17:29,  1.68it/s]\n"
     ]
    },
    {
     "name": "stdout",
     "output_type": "stream",
     "text": [
      "Message: element not interactable\n",
      "  (Session info: chrome=122.0.6261.129)\n",
      "Stacktrace:\n",
      "\tGetHandleVerifier [0x00007FF60594AD02+56930]\n",
      "\t(No symbol) [0x00007FF6058BF602]\n",
      "\t(No symbol) [0x00007FF60577419D]\n",
      "\t(No symbol) [0x00007FF6057BACA2]\n",
      "\t(No symbol) [0x00007FF6057AF798]\n",
      "\t(No symbol) [0x00007FF6057DBC9A]\n",
      "\t(No symbol) [0x00007FF6057AF09A]\n",
      "\t(No symbol) [0x00007FF6057DBEB0]\n",
      "\t(No symbol) [0x00007FF6057F81E2]\n",
      "\t(No symbol) [0x00007FF6057DBA43]\n",
      "\t(No symbol) [0x00007FF6057AD438]\n",
      "\t(No symbol) [0x00007FF6057AE4D1]\n",
      "\tGetHandleVerifier [0x00007FF605CC6F8D+3711213]\n",
      "\tGetHandleVerifier [0x00007FF605D204CD+4077101]\n",
      "\tGetHandleVerifier [0x00007FF605D1865F+4044735]\n",
      "\tGetHandleVerifier [0x00007FF6059E9736+706710]\n",
      "\t(No symbol) [0x00007FF6058CB8DF]\n",
      "\t(No symbol) [0x00007FF6058C6AC4]\n",
      "\t(No symbol) [0x00007FF6058C6C1C]\n",
      "\t(No symbol) [0x00007FF6058B68D4]\n",
      "\tBaseThreadInitThunk [0x00007FF9A3D3257D+29]\n",
      "\tRtlUserThreadStart [0x00007FF9A58EAA58+40]\n",
      "\n"
     ]
    },
    {
     "name": "stderr",
     "output_type": "stream",
     "text": [
      "1630it [16:25,  1.65it/s]\n"
     ]
    },
    {
     "name": "stdout",
     "output_type": "stream",
     "text": [
      "Message: element not interactable\n",
      "  (Session info: chrome=122.0.6261.129)\n",
      "Stacktrace:\n",
      "\tGetHandleVerifier [0x00007FF60594AD02+56930]\n",
      "\t(No symbol) [0x00007FF6058BF602]\n",
      "\t(No symbol) [0x00007FF60577419D]\n",
      "\t(No symbol) [0x00007FF6057BACA2]\n",
      "\t(No symbol) [0x00007FF6057AF798]\n",
      "\t(No symbol) [0x00007FF6057DBC9A]\n",
      "\t(No symbol) [0x00007FF6057AF09A]\n",
      "\t(No symbol) [0x00007FF6057DBEB0]\n",
      "\t(No symbol) [0x00007FF6057F81E2]\n",
      "\t(No symbol) [0x00007FF6057DBA43]\n",
      "\t(No symbol) [0x00007FF6057AD438]\n",
      "\t(No symbol) [0x00007FF6057AE4D1]\n",
      "\tGetHandleVerifier [0x00007FF605CC6F8D+3711213]\n",
      "\tGetHandleVerifier [0x00007FF605D204CD+4077101]\n",
      "\tGetHandleVerifier [0x00007FF605D1865F+4044735]\n",
      "\tGetHandleVerifier [0x00007FF6059E9736+706710]\n",
      "\t(No symbol) [0x00007FF6058CB8DF]\n",
      "\t(No symbol) [0x00007FF6058C6AC4]\n",
      "\t(No symbol) [0x00007FF6058C6C1C]\n",
      "\t(No symbol) [0x00007FF6058B68D4]\n",
      "\tBaseThreadInitThunk [0x00007FF9A3D3257D+29]\n",
      "\tRtlUserThreadStart [0x00007FF9A58EAA58+40]\n",
      "\n"
     ]
    },
    {
     "name": "stderr",
     "output_type": "stream",
     "text": [
      "1454it [14:34,  1.66it/s]\n"
     ]
    },
    {
     "name": "stdout",
     "output_type": "stream",
     "text": [
      "Message: element not interactable\n",
      "  (Session info: chrome=122.0.6261.129)\n",
      "Stacktrace:\n",
      "\tGetHandleVerifier [0x00007FF60594AD02+56930]\n",
      "\t(No symbol) [0x00007FF6058BF602]\n",
      "\t(No symbol) [0x00007FF60577419D]\n",
      "\t(No symbol) [0x00007FF6057BACA2]\n",
      "\t(No symbol) [0x00007FF6057AF798]\n",
      "\t(No symbol) [0x00007FF6057DBC9A]\n",
      "\t(No symbol) [0x00007FF6057AF09A]\n",
      "\t(No symbol) [0x00007FF6057DBEB0]\n",
      "\t(No symbol) [0x00007FF6057F81E2]\n",
      "\t(No symbol) [0x00007FF6057DBA43]\n",
      "\t(No symbol) [0x00007FF6057AD438]\n",
      "\t(No symbol) [0x00007FF6057AE4D1]\n",
      "\tGetHandleVerifier [0x00007FF605CC6F8D+3711213]\n",
      "\tGetHandleVerifier [0x00007FF605D204CD+4077101]\n",
      "\tGetHandleVerifier [0x00007FF605D1865F+4044735]\n",
      "\tGetHandleVerifier [0x00007FF6059E9736+706710]\n",
      "\t(No symbol) [0x00007FF6058CB8DF]\n",
      "\t(No symbol) [0x00007FF6058C6AC4]\n",
      "\t(No symbol) [0x00007FF6058C6C1C]\n",
      "\t(No symbol) [0x00007FF6058B68D4]\n",
      "\tBaseThreadInitThunk [0x00007FF9A3D3257D+29]\n",
      "\tRtlUserThreadStart [0x00007FF9A58EAA58+40]\n",
      "\n"
     ]
    },
    {
     "name": "stderr",
     "output_type": "stream",
     "text": [
      "184it [01:55,  1.60it/s]\n"
     ]
    },
    {
     "name": "stdout",
     "output_type": "stream",
     "text": [
      "Message: element not interactable\n",
      "  (Session info: chrome=122.0.6261.129)\n",
      "Stacktrace:\n",
      "\tGetHandleVerifier [0x00007FF60594AD02+56930]\n",
      "\t(No symbol) [0x00007FF6058BF602]\n",
      "\t(No symbol) [0x00007FF60577419D]\n",
      "\t(No symbol) [0x00007FF6057BACA2]\n",
      "\t(No symbol) [0x00007FF6057AF798]\n",
      "\t(No symbol) [0x00007FF6057DBC9A]\n",
      "\t(No symbol) [0x00007FF6057AF09A]\n",
      "\t(No symbol) [0x00007FF6057DBEB0]\n",
      "\t(No symbol) [0x00007FF6057F81E2]\n",
      "\t(No symbol) [0x00007FF6057DBA43]\n",
      "\t(No symbol) [0x00007FF6057AD438]\n",
      "\t(No symbol) [0x00007FF6057AE4D1]\n",
      "\tGetHandleVerifier [0x00007FF605CC6F8D+3711213]\n",
      "\tGetHandleVerifier [0x00007FF605D204CD+4077101]\n",
      "\tGetHandleVerifier [0x00007FF605D1865F+4044735]\n",
      "\tGetHandleVerifier [0x00007FF6059E9736+706710]\n",
      "\t(No symbol) [0x00007FF6058CB8DF]\n",
      "\t(No symbol) [0x00007FF6058C6AC4]\n",
      "\t(No symbol) [0x00007FF6058C6C1C]\n",
      "\t(No symbol) [0x00007FF6058B68D4]\n",
      "\tBaseThreadInitThunk [0x00007FF9A3D3257D+29]\n",
      "\tRtlUserThreadStart [0x00007FF9A58EAA58+40]\n",
      "\n"
     ]
    },
    {
     "name": "stderr",
     "output_type": "stream",
     "text": [
      "717it [07:16,  1.64it/s]\n"
     ]
    },
    {
     "name": "stdout",
     "output_type": "stream",
     "text": [
      "Message: element not interactable\n",
      "  (Session info: chrome=122.0.6261.129)\n",
      "Stacktrace:\n",
      "\tGetHandleVerifier [0x00007FF60594AD02+56930]\n",
      "\t(No symbol) [0x00007FF6058BF602]\n",
      "\t(No symbol) [0x00007FF60577419D]\n",
      "\t(No symbol) [0x00007FF6057BACA2]\n",
      "\t(No symbol) [0x00007FF6057AF798]\n",
      "\t(No symbol) [0x00007FF6057DBC9A]\n",
      "\t(No symbol) [0x00007FF6057AF09A]\n",
      "\t(No symbol) [0x00007FF6057DBEB0]\n",
      "\t(No symbol) [0x00007FF6057F81E2]\n",
      "\t(No symbol) [0x00007FF6057DBA43]\n",
      "\t(No symbol) [0x00007FF6057AD438]\n",
      "\t(No symbol) [0x00007FF6057AE4D1]\n",
      "\tGetHandleVerifier [0x00007FF605CC6F8D+3711213]\n",
      "\tGetHandleVerifier [0x00007FF605D204CD+4077101]\n",
      "\tGetHandleVerifier [0x00007FF605D1865F+4044735]\n",
      "\tGetHandleVerifier [0x00007FF6059E9736+706710]\n",
      "\t(No symbol) [0x00007FF6058CB8DF]\n",
      "\t(No symbol) [0x00007FF6058C6AC4]\n",
      "\t(No symbol) [0x00007FF6058C6C1C]\n",
      "\t(No symbol) [0x00007FF6058B68D4]\n",
      "\tBaseThreadInitThunk [0x00007FF9A3D3257D+29]\n",
      "\tRtlUserThreadStart [0x00007FF9A58EAA58+40]\n",
      "\n"
     ]
    },
    {
     "name": "stderr",
     "output_type": "stream",
     "text": [
      "504it [04:59,  1.68it/s]\n"
     ]
    },
    {
     "name": "stdout",
     "output_type": "stream",
     "text": [
      "Message: element not interactable\n",
      "  (Session info: chrome=122.0.6261.129)\n",
      "Stacktrace:\n",
      "\tGetHandleVerifier [0x00007FF60594AD02+56930]\n",
      "\t(No symbol) [0x00007FF6058BF602]\n",
      "\t(No symbol) [0x00007FF60577419D]\n",
      "\t(No symbol) [0x00007FF6057BACA2]\n",
      "\t(No symbol) [0x00007FF6057AF798]\n",
      "\t(No symbol) [0x00007FF6057DBC9A]\n",
      "\t(No symbol) [0x00007FF6057AF09A]\n",
      "\t(No symbol) [0x00007FF6057DBEB0]\n",
      "\t(No symbol) [0x00007FF6057F81E2]\n",
      "\t(No symbol) [0x00007FF6057DBA43]\n",
      "\t(No symbol) [0x00007FF6057AD438]\n",
      "\t(No symbol) [0x00007FF6057AE4D1]\n",
      "\tGetHandleVerifier [0x00007FF605CC6F8D+3711213]\n",
      "\tGetHandleVerifier [0x00007FF605D204CD+4077101]\n",
      "\tGetHandleVerifier [0x00007FF605D1865F+4044735]\n",
      "\tGetHandleVerifier [0x00007FF6059E9736+706710]\n",
      "\t(No symbol) [0x00007FF6058CB8DF]\n",
      "\t(No symbol) [0x00007FF6058C6AC4]\n",
      "\t(No symbol) [0x00007FF6058C6C1C]\n",
      "\t(No symbol) [0x00007FF6058B68D4]\n",
      "\tBaseThreadInitThunk [0x00007FF9A3D3257D+29]\n",
      "\tRtlUserThreadStart [0x00007FF9A58EAA58+40]\n",
      "\n"
     ]
    },
    {
     "name": "stderr",
     "output_type": "stream",
     "text": [
      "1607it [16:13,  1.65it/s]\n"
     ]
    },
    {
     "name": "stdout",
     "output_type": "stream",
     "text": [
      "Message: element not interactable\n",
      "  (Session info: chrome=122.0.6261.129)\n",
      "Stacktrace:\n",
      "\tGetHandleVerifier [0x00007FF60594AD02+56930]\n",
      "\t(No symbol) [0x00007FF6058BF602]\n",
      "\t(No symbol) [0x00007FF60577419D]\n",
      "\t(No symbol) [0x00007FF6057BACA2]\n",
      "\t(No symbol) [0x00007FF6057AF798]\n",
      "\t(No symbol) [0x00007FF6057DBC9A]\n",
      "\t(No symbol) [0x00007FF6057AF09A]\n",
      "\t(No symbol) [0x00007FF6057DBEB0]\n",
      "\t(No symbol) [0x00007FF6057F81E2]\n",
      "\t(No symbol) [0x00007FF6057DBA43]\n",
      "\t(No symbol) [0x00007FF6057AD438]\n",
      "\t(No symbol) [0x00007FF6057AE4D1]\n",
      "\tGetHandleVerifier [0x00007FF605CC6F8D+3711213]\n",
      "\tGetHandleVerifier [0x00007FF605D204CD+4077101]\n",
      "\tGetHandleVerifier [0x00007FF605D1865F+4044735]\n",
      "\tGetHandleVerifier [0x00007FF6059E9736+706710]\n",
      "\t(No symbol) [0x00007FF6058CB8DF]\n",
      "\t(No symbol) [0x00007FF6058C6AC4]\n",
      "\t(No symbol) [0x00007FF6058C6C1C]\n",
      "\t(No symbol) [0x00007FF6058B68D4]\n",
      "\tBaseThreadInitThunk [0x00007FF9A3D3257D+29]\n",
      "\tRtlUserThreadStart [0x00007FF9A58EAA58+40]\n",
      "\n"
     ]
    },
    {
     "name": "stderr",
     "output_type": "stream",
     "text": [
      "1814it [18:19,  1.65it/s]\n"
     ]
    },
    {
     "name": "stdout",
     "output_type": "stream",
     "text": [
      "Message: element not interactable\n",
      "  (Session info: chrome=122.0.6261.129)\n",
      "Stacktrace:\n",
      "\tGetHandleVerifier [0x00007FF60594AD02+56930]\n",
      "\t(No symbol) [0x00007FF6058BF602]\n",
      "\t(No symbol) [0x00007FF60577419D]\n",
      "\t(No symbol) [0x00007FF6057BACA2]\n",
      "\t(No symbol) [0x00007FF6057AF798]\n",
      "\t(No symbol) [0x00007FF6057DBC9A]\n",
      "\t(No symbol) [0x00007FF6057AF09A]\n",
      "\t(No symbol) [0x00007FF6057DBEB0]\n",
      "\t(No symbol) [0x00007FF6057F81E2]\n",
      "\t(No symbol) [0x00007FF6057DBA43]\n",
      "\t(No symbol) [0x00007FF6057AD438]\n",
      "\t(No symbol) [0x00007FF6057AE4D1]\n",
      "\tGetHandleVerifier [0x00007FF605CC6F8D+3711213]\n",
      "\tGetHandleVerifier [0x00007FF605D204CD+4077101]\n",
      "\tGetHandleVerifier [0x00007FF605D1865F+4044735]\n",
      "\tGetHandleVerifier [0x00007FF6059E9736+706710]\n",
      "\t(No symbol) [0x00007FF6058CB8DF]\n",
      "\t(No symbol) [0x00007FF6058C6AC4]\n",
      "\t(No symbol) [0x00007FF6058C6C1C]\n",
      "\t(No symbol) [0x00007FF6058B68D4]\n",
      "\tBaseThreadInitThunk [0x00007FF9A3D3257D+29]\n",
      "\tRtlUserThreadStart [0x00007FF9A58EAA58+40]\n",
      "\n"
     ]
    },
    {
     "name": "stderr",
     "output_type": "stream",
     "text": [
      "1876it [19:21,  1.62it/s]\n"
     ]
    }
   ],
   "source": [
    "# 웹 드라이버 시작\n",
    "driver = webdriver.Chrome()\n",
    "df_2024 = pd.DataFrame()\n",
    "\n",
    "# 네이버 뉴스 페이지로 이동\n",
    "current_date = start_date\n",
    "while current_date <= end_date:\n",
    "    formatted_date = current_date.strftime(\"%Y%m%d\")\n",
    "\n",
    "    driver.get('https://news.naver.com/breakingnews/section/100/265?date={}'.format(formatted_date))\n",
    "\n",
    "    # '기사 더보기'없을 때까지\n",
    "    try:\n",
    "        while True:\n",
    "            elem1 = driver.find_element(By.CLASS_NAME, \"section_more_inner._CONTENT_LIST_LOAD_MORE_BUTTON\")\n",
    "            elem1.click()\n",
    "            time.sleep(1)  # 대기\n",
    "    except Exception as e:\n",
    "        print(e)\n",
    "\n",
    "\n",
    "    # 페이지 소스 가져오기\n",
    "    page_source = driver.page_source\n",
    "\n",
    "    # BeautifulSoup을 사용하여 페이지 소스를 파싱\n",
    "    soup = BeautifulSoup(page_source, 'html.parser')\n",
    "\n",
    "    # 제목 가져오기\n",
    "    titles = soup.select('div.section_latest > div > div.section_latest_article._CONTENT_LIST._PERSIST_META > \\\n",
    "                              div > ul > li > div > div > div.sa_text > a > strong.sa_text_strong')\n",
    "\n",
    "    # 링크 가져오기\n",
    "    links = soup.select('div.section_latest > div > div.section_latest_article._CONTENT_LIST._PERSIST_META > \\\n",
    "                              div > ul > li > div > div > div.sa_text > a')\n",
    "\n",
    "    title_lst = []\n",
    "    content_lst = []\n",
    "\n",
    "    # 링크로 이동해서 내용 가져오기\n",
    "    for title, link in tqdm(zip(titles, links)):\n",
    "        article_link = link['href'] # 링크 가져오기\n",
    "        driver.get(article_link) # 링크로 이동\n",
    "\n",
    "        # 페이지 소스 가져오기\n",
    "        article_page_source = driver.page_source\n",
    "        article_soup = BeautifulSoup(article_page_source, 'lxml')\n",
    "\n",
    "        # 내용 가져오기\n",
    "        content = article_soup.select_one('div.ct_wrap > div.ct_scroll_wrapper > div#newsct > div#ct > div#contents > \\\n",
    "                            div#newsct_article > article#dic_area')\n",
    "\n",
    "        if content:\n",
    "            content_lst.append(content.text.strip())\n",
    "        else:\n",
    "            content_lst.append('No content available') # 내용이 없는 경우 예외 처리\n",
    "\n",
    "        title_lst.append(title.string)\n",
    "\n",
    "\n",
    "    # 데이터 저장\n",
    "    df = pd.DataFrame({'title' : title_lst, 'content' : content_lst})\n",
    "    df_2024 = pd.concat([df_2024,df], ignore_index=True)\n",
    "    \n",
    "    current_date += datetime.timedelta(days=1)\n",
    "\n",
    "# 웹 드라이버 종료\n",
    "driver.quit()\n",
    "\n",
    "df_2024.to_csv('./data/news_2024_2.csv', index = False)"
   ]
  },
  {
   "cell_type": "code",
   "execution_count": 5,
   "id": "e161af8c",
   "metadata": {
    "ExecuteTime": {
     "end_time": "2024-03-15T13:06:09.681561Z",
     "start_time": "2024-03-15T13:06:09.013668Z"
    }
   },
   "outputs": [
    {
     "data": {
      "text/html": [
       "<div>\n",
       "<style scoped>\n",
       "    .dataframe tbody tr th:only-of-type {\n",
       "        vertical-align: middle;\n",
       "    }\n",
       "\n",
       "    .dataframe tbody tr th {\n",
       "        vertical-align: top;\n",
       "    }\n",
       "\n",
       "    .dataframe thead th {\n",
       "        text-align: right;\n",
       "    }\n",
       "</style>\n",
       "<table border=\"1\" class=\"dataframe\">\n",
       "  <thead>\n",
       "    <tr style=\"text-align: right;\">\n",
       "      <th></th>\n",
       "      <th>title</th>\n",
       "      <th>content</th>\n",
       "    </tr>\n",
       "  </thead>\n",
       "  <tbody>\n",
       "    <tr>\n",
       "      <th>0</th>\n",
       "      <td>세계일보 창간 35주년 기념식</td>\n",
       "      <td>[서울=뉴시스] 정병혁 기자 = 1일 서울 중구 소공동 롯데호텔에서 열린 세계일보 ...</td>\n",
       "    </tr>\n",
       "    <tr>\n",
       "      <th>1</th>\n",
       "      <td>축사하는 홍익표 원내대표</td>\n",
       "      <td>[서울=뉴시스] 정병혁 기자 = 1일 서울 중구 소공동 롯데호텔에서 열린 세계일보 ...</td>\n",
       "    </tr>\n",
       "    <tr>\n",
       "      <th>2</th>\n",
       "      <td>악수하는 최상목 장관과 한동훈 비대위원장</td>\n",
       "      <td>[서울=뉴시스] 정병혁 기자 = 최상목 경제부총리 겸 기획재정부 장관, 국민의힘 한...</td>\n",
       "    </tr>\n",
       "    <tr>\n",
       "      <th>3</th>\n",
       "      <td>축사하는 한동훈 비대위원장</td>\n",
       "      <td>[서울=뉴시스] 정병혁 기자 = 1일 서울 중구 소공동 롯데호텔에서 열린 세계일보 ...</td>\n",
       "    </tr>\n",
       "    <tr>\n",
       "      <th>4</th>\n",
       "      <td>중대재해처벌법 개악 중단 촉구 기자회견</td>\n",
       "      <td>[서울=뉴시스] 조성봉 기자= 1일 오후 서울 여의도 국회 본청 계단에서 열린 중대...</td>\n",
       "    </tr>\n",
       "    <tr>\n",
       "      <th>...</th>\n",
       "      <td>...</td>\n",
       "      <td>...</td>\n",
       "    </tr>\n",
       "    <tr>\n",
       "      <th>31235</th>\n",
       "      <td>권성동 강릉선거구 예비후보 등록 '5선 도전' 공식화</td>\n",
       "      <td>국민의힘 강릉선거구 단수공천을 받은 권성동(사진) 국회의원이 28일 강릉시선거관리위...</td>\n",
       "    </tr>\n",
       "    <tr>\n",
       "      <th>31236</th>\n",
       "      <td>[4·10 총선프리즘] \"여당 재선의원 정치력 필요\" \"춘천 여성정치인 새길 개척\"</td>\n",
       "      <td>27년 정당생활 내공 '진짜 일꾼' 자신초심 잃지 않고 수도권 시대 실현 총력'전문...</td>\n",
       "    </tr>\n",
       "    <tr>\n",
       "      <th>31237</th>\n",
       "      <td>유상범 \"강원형 기업상속세 개편 경제성장 새모델 제시\"</td>\n",
       "      <td>강원연구원 정책토론회\\n\\n\\n\\n▲ 국민의힘 유상범 국회의원과 강원연구원은 28일...</td>\n",
       "    </tr>\n",
       "    <tr>\n",
       "      <th>31238</th>\n",
       "      <td>민주당, 공천 파열음 계속…이재명 \"탈당은 자유\"</td>\n",
       "      <td>공관위, 현역 의원 5곳 전략 지역 선정에 당내 반발 '컷오프' 기동민-'경선 이수...</td>\n",
       "    </tr>\n",
       "    <tr>\n",
       "      <th>31239</th>\n",
       "      <td>민주당, 공천 갈등 '이슈 블랙홀'…총선 공약 주목도 '뚝'</td>\n",
       "      <td>민주당 계파 갈등 극심…총선 공천 최대 관심사\"공천 작업 마무리되면 상황 달라질 것...</td>\n",
       "    </tr>\n",
       "  </tbody>\n",
       "</table>\n",
       "<p>31240 rows × 2 columns</p>\n",
       "</div>"
      ],
      "text/plain": [
       "                                                title  \\\n",
       "0                                    세계일보 창간 35주년 기념식   \n",
       "1                                       축사하는 홍익표 원내대표   \n",
       "2                              악수하는 최상목 장관과 한동훈 비대위원장   \n",
       "3                                      축사하는 한동훈 비대위원장   \n",
       "4                               중대재해처벌법 개악 중단 촉구 기자회견   \n",
       "...                                               ...   \n",
       "31235                   권성동 강릉선거구 예비후보 등록 '5선 도전' 공식화   \n",
       "31236  [4·10 총선프리즘] \"여당 재선의원 정치력 필요\" \"춘천 여성정치인 새길 개척\"   \n",
       "31237                  유상범 \"강원형 기업상속세 개편 경제성장 새모델 제시\"   \n",
       "31238                     민주당, 공천 파열음 계속…이재명 \"탈당은 자유\"   \n",
       "31239               민주당, 공천 갈등 '이슈 블랙홀'…총선 공약 주목도 '뚝'   \n",
       "\n",
       "                                                 content  \n",
       "0      [서울=뉴시스] 정병혁 기자 = 1일 서울 중구 소공동 롯데호텔에서 열린 세계일보 ...  \n",
       "1      [서울=뉴시스] 정병혁 기자 = 1일 서울 중구 소공동 롯데호텔에서 열린 세계일보 ...  \n",
       "2      [서울=뉴시스] 정병혁 기자 = 최상목 경제부총리 겸 기획재정부 장관, 국민의힘 한...  \n",
       "3      [서울=뉴시스] 정병혁 기자 = 1일 서울 중구 소공동 롯데호텔에서 열린 세계일보 ...  \n",
       "4      [서울=뉴시스] 조성봉 기자= 1일 오후 서울 여의도 국회 본청 계단에서 열린 중대...  \n",
       "...                                                  ...  \n",
       "31235  국민의힘 강릉선거구 단수공천을 받은 권성동(사진) 국회의원이 28일 강릉시선거관리위...  \n",
       "31236  27년 정당생활 내공 '진짜 일꾼' 자신초심 잃지 않고 수도권 시대 실현 총력'전문...  \n",
       "31237  강원연구원 정책토론회\\n\\n\\n\\n▲ 국민의힘 유상범 국회의원과 강원연구원은 28일...  \n",
       "31238  공관위, 현역 의원 5곳 전략 지역 선정에 당내 반발 '컷오프' 기동민-'경선 이수...  \n",
       "31239  민주당 계파 갈등 극심…총선 공천 최대 관심사\"공천 작업 마무리되면 상황 달라질 것...  \n",
       "\n",
       "[31240 rows x 2 columns]"
      ]
     },
     "execution_count": 5,
     "metadata": {},
     "output_type": "execute_result"
    }
   ],
   "source": [
    "df_news = pd.read_csv('./data/news_2024_2.csv')\n",
    "\n",
    "df_news"
   ]
  },
  {
   "cell_type": "code",
   "execution_count": null,
   "id": "8cf5a39a",
   "metadata": {},
   "outputs": [],
   "source": []
  }
 ],
 "metadata": {
  "kernelspec": {
   "display_name": "Python 3 (ipykernel)",
   "language": "python",
   "name": "python3"
  },
  "language_info": {
   "codemirror_mode": {
    "name": "ipython",
    "version": 3
   },
   "file_extension": ".py",
   "mimetype": "text/x-python",
   "name": "python",
   "nbconvert_exporter": "python",
   "pygments_lexer": "ipython3",
   "version": "3.11.5"
  },
  "toc": {
   "base_numbering": 1,
   "nav_menu": {},
   "number_sections": true,
   "sideBar": true,
   "skip_h1_title": false,
   "title_cell": "Table of Contents",
   "title_sidebar": "Contents",
   "toc_cell": false,
   "toc_position": {
    "height": "calc(100% - 180px)",
    "left": "10px",
    "top": "150px",
    "width": "165px"
   },
   "toc_section_display": true,
   "toc_window_display": true
  }
 },
 "nbformat": 4,
 "nbformat_minor": 5
}
