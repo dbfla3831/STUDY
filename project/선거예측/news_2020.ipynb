{
 "cells": [
  {
   "cell_type": "markdown",
   "id": "fb5c81ea",
   "metadata": {
    "id": "fb5c81ea"
   },
   "source": [
    "# 네이버 뉴스 가져오기"
   ]
  },
  {
   "cell_type": "markdown",
   "id": "76911d9e",
   "metadata": {
    "id": "76911d9e"
   },
   "source": [
    "<br>\n",
    "\n",
    "2020년1월1일 ~ 2020년 4월 14일 데이터 가져오기"
   ]
  },
  {
   "cell_type": "markdown",
   "id": "732dc83a",
   "metadata": {
    "id": "732dc83a"
   },
   "source": [
    "'기사 더보기' 누르기 전 -> 기사가 몇개 없음\n",
    "\n",
    "=> 동적으로 변경"
   ]
  },
  {
   "cell_type": "markdown",
   "id": "8ce4254e",
   "metadata": {
    "id": "8ce4254e"
   },
   "source": [
    "<br>\n",
    "\n",
    "동적으로 변경"
   ]
  },
  {
   "cell_type": "code",
   "execution_count": 1,
   "id": "097fc273",
   "metadata": {
    "ExecuteTime": {
     "end_time": "2024-03-08T02:27:58.296134Z",
     "start_time": "2024-03-08T02:27:57.605621Z"
    },
    "executionInfo": {
     "elapsed": 1246,
     "status": "ok",
     "timestamp": 1709863883185,
     "user": {
      "displayName": "김유림",
      "userId": "09242611142827377637"
     },
     "user_tz": -540
    },
    "id": "097fc273"
   },
   "outputs": [],
   "source": [
    "import urllib.request\n",
    "from bs4 import BeautifulSoup # 특정 웹 페이지의 HTML을 스크랩하여 데이터를 수집할 때 사용\n",
    "import pandas as pd\n",
    "import numpy as np\n",
    "import re\n",
    "\n",
    "# from selenium import webdriver\n",
    "# from selenium.webdriver.common.by import By\n",
    "# from selenium.webdriver.support.ui import WebDriverWait\n",
    "# from selenium.webdriver.support import expected_conditions as EC\n",
    "# from bs4 import BeautifulSoup\n",
    "# import time\n",
    "from tqdm import tqdm\n",
    "\n",
    "from IPython.core.interactiveshell import InteractiveShell\n",
    "InteractiveShell.ast_node_interactivity = 'all'"
   ]
  },
  {
   "cell_type": "code",
   "execution_count": null,
   "id": "09700b8d",
   "metadata": {
    "ExecuteTime": {
     "end_time": "2024-03-07T01:45:03.853522Z",
     "start_time": "2024-03-07T01:45:03.850589Z"
    },
    "id": "09700b8d"
   },
   "outputs": [],
   "source": [
    "# ! pip install lxml\n",
    "# ! pip install html5lib"
   ]
  },
  {
   "cell_type": "code",
   "execution_count": null,
   "id": "b63f264d",
   "metadata": {
    "ExecuteTime": {
     "end_time": "2024-03-07T06:39:43.347466Z",
     "start_time": "2024-03-07T06:39:43.344372Z"
    },
    "id": "b63f264d"
   },
   "outputs": [],
   "source": [
    "# 날짜 가져오기\n",
    "# 시작 날짜와 끝 날짜 설정\n",
    "# import datetime\n",
    "# start_date = datetime.date(2020, 1, 1)\n",
    "# end_date = datetime.date(2020, 4, 14)"
   ]
  },
  {
   "cell_type": "code",
   "execution_count": null,
   "id": "3241d506",
   "metadata": {
    "ExecuteTime": {
     "end_time": "2024-03-07T19:39:05.809183Z",
     "start_time": "2024-03-07T06:39:59.115525Z"
    },
    "id": "3241d506",
    "scrolled": true
   },
   "outputs": [],
   "source": [
    "# # 웹 드라이버 시작\n",
    "# driver = webdriver.Chrome()\n",
    "# df_2020 = pd.DataFrame()\n",
    "\n",
    "# # 네이버 뉴스 페이지로 이동\n",
    "# current_date = start_date\n",
    "# while current_date <= end_date:\n",
    "#     formatted_date = current_date.strftime(\"%Y%m%d\")\n",
    "\n",
    "#     driver.get('https://news.naver.com/breakingnews/section/100/265?date={}'.format(formatted_date))\n",
    "\n",
    "#     # '기사 더보기'없을 때까지\n",
    "#     try:\n",
    "#         while True:\n",
    "#             elem1 = driver.find_element(By.CLASS_NAME, \"section_more_inner._CONTENT_LIST_LOAD_MORE_BUTTON\")\n",
    "#             elem1.click()\n",
    "#             time.sleep(1)  # 대기\n",
    "#     except Exception as e:\n",
    "#         print(e)\n",
    "\n",
    "\n",
    "\n",
    "#     # 페이지 소스 가져오기\n",
    "#     page_source = driver.page_source\n",
    "\n",
    "#     # BeautifulSoup을 사용하여 페이지 소스를 파싱\n",
    "#     soup = BeautifulSoup(page_source, 'html.parser')\n",
    "\n",
    "#     # 제목 가져오기\n",
    "#     titles = soup.select('div.section_latest > div > div.section_latest_article._CONTENT_LIST._PERSIST_META > \\\n",
    "#                               div > ul > li > div > div > div.sa_text > a > strong.sa_text_strong')\n",
    "\n",
    "#     # 링크 가져오기\n",
    "#     links = soup.select('div.section_latest > div > div.section_latest_article._CONTENT_LIST._PERSIST_META > \\\n",
    "#                               div > ul > li > div > div > div.sa_text > a')\n",
    "\n",
    "#     title_lst = []\n",
    "#     content_lst = []\n",
    "\n",
    "#     # 링크로 이동해서 내용 가져오기\n",
    "#     for title, link in tqdm(zip(titles, links)):\n",
    "#         article_link = link['href'] # 링크 가져오기\n",
    "#         driver.get(article_link) # 링크로 이동\n",
    "\n",
    "#         # 페이지 소스 가져오기\n",
    "#         article_page_source = driver.page_source\n",
    "#         article_soup = BeautifulSoup(article_page_source, 'lxml')\n",
    "\n",
    "#         # 내용 가져오기\n",
    "#         content = article_soup.select_one('div.ct_wrap > div.ct_scroll_wrapper > div#newsct > div#ct > div#contents > \\\n",
    "#                             div#newsct_article > article#dic_area')\n",
    "\n",
    "#         if content:\n",
    "#             content_lst.append(content.text.strip())\n",
    "#         else:\n",
    "#             content_lst.append('No content available') # 내용이 없는 경우 예외 처리\n",
    "\n",
    "#         title_lst.append(title.string)\n",
    "\n",
    "\n",
    "#     # 데이터 저장\n",
    "#     df = pd.DataFrame({'title' : title_lst, 'content' : content_lst})\n",
    "#     df_2020 = pd.concat([df_2020,df], ignore_index=True)\n",
    "\n",
    "#     current_date += datetime.timedelta(days=1)\n",
    "\n",
    "# # 웹 드라이버 종료\n",
    "# driver.quit()\n",
    "\n",
    "# df_2020.to_csv('2020_234_news.csv', index = False)"
   ]
  },
  {
   "cell_type": "code",
   "execution_count": null,
   "id": "8e690bcb",
   "metadata": {
    "ExecuteTime": {
     "end_time": "2024-03-08T00:54:18.901015Z",
     "start_time": "2024-03-08T00:54:16.684734Z"
    },
    "id": "8e690bcb"
   },
   "outputs": [],
   "source": [
    "# df_2020_1 = pd.read_csv('./2020_1_news.csv')\n",
    "# df_2020_234 = pd.read_csv('./2020_234_news.csv')"
   ]
  },
  {
   "cell_type": "code",
   "execution_count": null,
   "id": "f44c8204",
   "metadata": {
    "ExecuteTime": {
     "end_time": "2024-03-08T00:54:18.915315Z",
     "start_time": "2024-03-08T00:54:18.902044Z"
    },
    "id": "f44c8204",
    "outputId": "8fc465d7-dda6-4deb-a7ce-f4042f45ff27"
   },
   "outputs": [
    {
     "data": {
      "text/html": [
       "<div>\n",
       "<style scoped>\n",
       "    .dataframe tbody tr th:only-of-type {\n",
       "        vertical-align: middle;\n",
       "    }\n",
       "\n",
       "    .dataframe tbody tr th {\n",
       "        vertical-align: top;\n",
       "    }\n",
       "\n",
       "    .dataframe thead th {\n",
       "        text-align: right;\n",
       "    }\n",
       "</style>\n",
       "<table border=\"1\" class=\"dataframe\">\n",
       "  <thead>\n",
       "    <tr style=\"text-align: right;\">\n",
       "      <th></th>\n",
       "      <th>title</th>\n",
       "      <th>content</th>\n",
       "    </tr>\n",
       "  </thead>\n",
       "  <tbody>\n",
       "    <tr>\n",
       "      <th>0</th>\n",
       "      <td>유시민 \"검찰도 사법도 썩었지\" vs 진중권 \"유시민 망상, 대중은 현실로 믿어\"</td>\n",
       "      <td>JTBC 신년토론서 격돌조국 전 장관 사태와 '유시민의 알릴레오' 두고 논쟁\\n\\n...</td>\n",
       "    </tr>\n",
       "    <tr>\n",
       "      <th>1</th>\n",
       "      <td>특정 정당 맹목적 지지 없어…진보진영 유리 장담 못해 [신년 기획 - 21대 총선 분석]</td>\n",
       "      <td>ㆍ사상 첫 18세 투표 영향은신규 유입 유권자 약 53만명여야, 청소년 전략 마련 ...</td>\n",
       "    </tr>\n",
       "    <tr>\n",
       "      <th>2</th>\n",
       "      <td>한국당 \"울산시장 선거 정황 의심\"…추미애 고발</td>\n",
       "      <td>[머니투데이 한고은 기자] \\n\\n\\n\\n(서울=뉴스1) 임세영 기자 = 곽상도 자...</td>\n",
       "    </tr>\n",
       "    <tr>\n",
       "      <th>3</th>\n",
       "      <td>한국당, 추미애 檢 고발..\"선거법 위반\"</td>\n",
       "      <td>곽상도 친문농단특위 위원장, 1일 고발\"지방선거 전 송철호에 靑행정관 소개\"\"공무상...</td>\n",
       "    </tr>\n",
       "    <tr>\n",
       "      <th>4</th>\n",
       "      <td>文의장 \"검찰·선거개혁 단초 열어 보람…소명 다할 것\"</td>\n",
       "      <td>\"공수처는 金·盧·文 세 대통령의 숙원이자 꿈\"  한국당 '아빠 찬스, 아들 공천'...</td>\n",
       "    </tr>\n",
       "    <tr>\n",
       "      <th>...</th>\n",
       "      <td>...</td>\n",
       "      <td>...</td>\n",
       "    </tr>\n",
       "    <tr>\n",
       "      <th>23605</th>\n",
       "      <td>'송철호 당선은 내 소망'이라던 文대통령, 野 \"文대통령 입 열어야\"</td>\n",
       "      <td>검찰, 靑 울산시장 선거개입 관련 참모들 줄줄이 기소·소환文대통령·宋 시장, 돈독…...</td>\n",
       "    </tr>\n",
       "    <tr>\n",
       "      <th>23606</th>\n",
       "      <td>'노무현의 오른팔' 이광재, 강원도 파랗게 물들일까</td>\n",
       "      <td>선대위원장직 수락, 지역구 출마는 '숙고'앞서 '험지 출마' 공언해 출마 가능성 높...</td>\n",
       "    </tr>\n",
       "    <tr>\n",
       "      <th>23607</th>\n",
       "      <td>안철수·유승민·태극기 동시 '품기' 나선 황교안</td>\n",
       "      <td>黃 \"중도세력 마음 얻어야 총선 승리안철수, 함께 뭉쳐 文정권 폭정 맞서야내가 왜 ...</td>\n",
       "    </tr>\n",
       "    <tr>\n",
       "      <th>23608</th>\n",
       "      <td>[TF확대경] '원종건'에 놀란 민주당, 조동인 '철새 청년' 논란</td>\n",
       "      <td>'데이트 폭력' 의혹으로 영입인재 자격을 반납한 원종건(오른쪽) 씨에 이어 또 다른...</td>\n",
       "    </tr>\n",
       "    <tr>\n",
       "      <th>23609</th>\n",
       "      <td>조국 전 장관, 재산 53억4천만원 신고…10달만에 1억2천만 감소</td>\n",
       "      <td>집값 상승에도 재산 줄어…부인 정경심 교수 펀드 팔아 변호사비 등 지출\\n\\n\\n\\...</td>\n",
       "    </tr>\n",
       "  </tbody>\n",
       "</table>\n",
       "<p>23610 rows × 2 columns</p>\n",
       "</div>"
      ],
      "text/plain": [
       "                                                   title  \\\n",
       "0          유시민 \"검찰도 사법도 썩었지\" vs 진중권 \"유시민 망상, 대중은 현실로 믿어\"   \n",
       "1      특정 정당 맹목적 지지 없어…진보진영 유리 장담 못해 [신년 기획 - 21대 총선 분석]   \n",
       "2                             한국당 \"울산시장 선거 정황 의심\"…추미애 고발   \n",
       "3                                한국당, 추미애 檢 고발..\"선거법 위반\"   \n",
       "4                         文의장 \"검찰·선거개혁 단초 열어 보람…소명 다할 것\"   \n",
       "...                                                  ...   \n",
       "23605             '송철호 당선은 내 소망'이라던 文대통령, 野 \"文대통령 입 열어야\"   \n",
       "23606                       '노무현의 오른팔' 이광재, 강원도 파랗게 물들일까   \n",
       "23607                         안철수·유승민·태극기 동시 '품기' 나선 황교안   \n",
       "23608              [TF확대경] '원종건'에 놀란 민주당, 조동인 '철새 청년' 논란   \n",
       "23609              조국 전 장관, 재산 53억4천만원 신고…10달만에 1억2천만 감소   \n",
       "\n",
       "                                                 content  \n",
       "0      JTBC 신년토론서 격돌조국 전 장관 사태와 '유시민의 알릴레오' 두고 논쟁\\n\\n...  \n",
       "1      ㆍ사상 첫 18세 투표 영향은신규 유입 유권자 약 53만명여야, 청소년 전략 마련 ...  \n",
       "2      [머니투데이 한고은 기자] \\n\\n\\n\\n(서울=뉴스1) 임세영 기자 = 곽상도 자...  \n",
       "3      곽상도 친문농단특위 위원장, 1일 고발\"지방선거 전 송철호에 靑행정관 소개\"\"공무상...  \n",
       "4      \"공수처는 金·盧·文 세 대통령의 숙원이자 꿈\"  한국당 '아빠 찬스, 아들 공천'...  \n",
       "...                                                  ...  \n",
       "23605  검찰, 靑 울산시장 선거개입 관련 참모들 줄줄이 기소·소환文대통령·宋 시장, 돈독…...  \n",
       "23606  선대위원장직 수락, 지역구 출마는 '숙고'앞서 '험지 출마' 공언해 출마 가능성 높...  \n",
       "23607  黃 \"중도세력 마음 얻어야 총선 승리안철수, 함께 뭉쳐 文정권 폭정 맞서야내가 왜 ...  \n",
       "23608  '데이트 폭력' 의혹으로 영입인재 자격을 반납한 원종건(오른쪽) 씨에 이어 또 다른...  \n",
       "23609  집값 상승에도 재산 줄어…부인 정경심 교수 펀드 팔아 변호사비 등 지출\\n\\n\\n\\...  \n",
       "\n",
       "[23610 rows x 2 columns]"
      ]
     },
     "execution_count": 75,
     "metadata": {},
     "output_type": "execute_result"
    },
    {
     "data": {
      "text/html": [
       "<div>\n",
       "<style scoped>\n",
       "    .dataframe tbody tr th:only-of-type {\n",
       "        vertical-align: middle;\n",
       "    }\n",
       "\n",
       "    .dataframe tbody tr th {\n",
       "        vertical-align: top;\n",
       "    }\n",
       "\n",
       "    .dataframe thead th {\n",
       "        text-align: right;\n",
       "    }\n",
       "</style>\n",
       "<table border=\"1\" class=\"dataframe\">\n",
       "  <thead>\n",
       "    <tr style=\"text-align: right;\">\n",
       "      <th></th>\n",
       "      <th>title</th>\n",
       "      <th>content</th>\n",
       "    </tr>\n",
       "  </thead>\n",
       "  <tbody>\n",
       "    <tr>\n",
       "      <th>0</th>\n",
       "      <td>김의겸 편지 호소에 野\"피해자 코스프레\", 진중권 \"너절하게 군다\"</td>\n",
       "      <td>김의겸, 이해찬 대표에 호소 편지 보내 또다른 논란 \\n\\n\\n\\n \\n\\n\\n\\n...</td>\n",
       "    </tr>\n",
       "    <tr>\n",
       "      <th>1</th>\n",
       "      <td>보수野 \"김의겸, 피해자 코스프레 하고 있어…뻔뻔함 극치\"</td>\n",
       "      <td>한국 \"대통령 덕 볼 요량 버리고 당당히 무소속 출마하길\"바른미래 \"기어이 출마하려...</td>\n",
       "    </tr>\n",
       "    <tr>\n",
       "      <th>2</th>\n",
       "      <td>고민정 2일 민주당 입당…출마 거론되는 지역은</td>\n",
       "      <td>[사진 = 연합뉴스] 더불어민주당은 1일 고민정 전 청와대 대변인이 오는 2일 입당...</td>\n",
       "    </tr>\n",
       "    <tr>\n",
       "      <th>3</th>\n",
       "      <td>고민정, 내일(2일) 민주당 입당…추미애 지역구 광진 출마로 오세훈과 맞붙나</td>\n",
       "      <td>고민정, 2일 민주당 입당광진 고양 등 수도권 출마 가능성\\n\\n\\n\\n사진=연합뉴...</td>\n",
       "    </tr>\n",
       "    <tr>\n",
       "      <th>4</th>\n",
       "      <td>김의겸, '이해찬 대표님께' 간곡한 호소글 \"군산 예비후보로 뛸 수만 있게\"</td>\n",
       "      <td>김의겸, 이번엔 이해찬에 공개 편지\"민주당 저에게만 가혹..기회 달라\"김의겸 \"군산...</td>\n",
       "    </tr>\n",
       "    <tr>\n",
       "      <th>...</th>\n",
       "      <td>...</td>\n",
       "      <td>...</td>\n",
       "    </tr>\n",
       "    <tr>\n",
       "      <th>74615</th>\n",
       "      <td>‘세월호 막말’ 닷새만에… 차명진 제명</td>\n",
       "      <td>통합당, 긴급 최고위서 직권 의결… 수도권 전체 판세에 악영향 판단강원선 김진태 선...</td>\n",
       "    </tr>\n",
       "    <tr>\n",
       "      <th>74616</th>\n",
       "      <td>정봉주 “나를 개쓰레기 취급” 與 막말 비난</td>\n",
       "      <td>논란 일자 “부적절한 표현” 사과\\n\\n\\n\\n열린민주당 정봉주 최고위원(사진)이 ...</td>\n",
       "    </tr>\n",
       "    <tr>\n",
       "      <th>74617</th>\n",
       "      <td>민주당 “아직 2% 부족” vs 통합당 “100석도 위태”</td>\n",
       "      <td>이해찬 “수도권 121석중 70곳 경합”박형준 “개헌 저지선도 무너질 위기” 김종인...</td>\n",
       "    </tr>\n",
       "    <tr>\n",
       "      <th>74618</th>\n",
       "      <td>[총선2020] 범여권, '오세훈만 떨어뜨리면 된다' 계산 섰나</td>\n",
       "      <td>민주당 핵심 당직자들, 한날 광진을 지원방문'촛불시민모임' '대진연' 등도 계속해 ...</td>\n",
       "    </tr>\n",
       "    <tr>\n",
       "      <th>74619</th>\n",
       "      <td>아일랜드 중도우파 양대정당, 사상 첫 연정 '사실상 합의'</td>\n",
       "      <td>\"양 정당 대표 합의안 검토…승인 후 제3당 참여 위해 공유\"녹색당·노동당·사회민주...</td>\n",
       "    </tr>\n",
       "  </tbody>\n",
       "</table>\n",
       "<p>74620 rows × 2 columns</p>\n",
       "</div>"
      ],
      "text/plain": [
       "                                            title  \\\n",
       "0           김의겸 편지 호소에 野\"피해자 코스프레\", 진중권 \"너절하게 군다\"   \n",
       "1                보수野 \"김의겸, 피해자 코스프레 하고 있어…뻔뻔함 극치\"   \n",
       "2                       고민정 2일 민주당 입당…출마 거론되는 지역은   \n",
       "3      고민정, 내일(2일) 민주당 입당…추미애 지역구 광진 출마로 오세훈과 맞붙나   \n",
       "4      김의겸, '이해찬 대표님께' 간곡한 호소글 \"군산 예비후보로 뛸 수만 있게\"   \n",
       "...                                           ...   \n",
       "74615                       ‘세월호 막말’ 닷새만에… 차명진 제명   \n",
       "74616                    정봉주 “나를 개쓰레기 취급” 與 막말 비난   \n",
       "74617            민주당 “아직 2% 부족” vs 통합당 “100석도 위태”   \n",
       "74618         [총선2020] 범여권, '오세훈만 떨어뜨리면 된다' 계산 섰나   \n",
       "74619            아일랜드 중도우파 양대정당, 사상 첫 연정 '사실상 합의'   \n",
       "\n",
       "                                                 content  \n",
       "0      김의겸, 이해찬 대표에 호소 편지 보내 또다른 논란 \\n\\n\\n\\n \\n\\n\\n\\n...  \n",
       "1      한국 \"대통령 덕 볼 요량 버리고 당당히 무소속 출마하길\"바른미래 \"기어이 출마하려...  \n",
       "2      [사진 = 연합뉴스] 더불어민주당은 1일 고민정 전 청와대 대변인이 오는 2일 입당...  \n",
       "3      고민정, 2일 민주당 입당광진 고양 등 수도권 출마 가능성\\n\\n\\n\\n사진=연합뉴...  \n",
       "4      김의겸, 이번엔 이해찬에 공개 편지\"민주당 저에게만 가혹..기회 달라\"김의겸 \"군산...  \n",
       "...                                                  ...  \n",
       "74615  통합당, 긴급 최고위서 직권 의결… 수도권 전체 판세에 악영향 판단강원선 김진태 선...  \n",
       "74616  논란 일자 “부적절한 표현” 사과\\n\\n\\n\\n열린민주당 정봉주 최고위원(사진)이 ...  \n",
       "74617  이해찬 “수도권 121석중 70곳 경합”박형준 “개헌 저지선도 무너질 위기” 김종인...  \n",
       "74618  민주당 핵심 당직자들, 한날 광진을 지원방문'촛불시민모임' '대진연' 등도 계속해 ...  \n",
       "74619  \"양 정당 대표 합의안 검토…승인 후 제3당 참여 위해 공유\"녹색당·노동당·사회민주...  \n",
       "\n",
       "[74620 rows x 2 columns]"
      ]
     },
     "execution_count": 75,
     "metadata": {},
     "output_type": "execute_result"
    }
   ],
   "source": [
    "# df_2020_1\n",
    "# df_2020_234"
   ]
  },
  {
   "cell_type": "code",
   "execution_count": null,
   "id": "1b5b543b",
   "metadata": {
    "ExecuteTime": {
     "end_time": "2024-03-08T00:54:21.019734Z",
     "start_time": "2024-03-08T00:54:18.916315Z"
    },
    "id": "1b5b543b"
   },
   "outputs": [],
   "source": [
    "# df_news = pd.concat([df_2020_1, df_2020_234])\n",
    "# df_news.to_csv('df_news.csv', index = False)"
   ]
  },
  {
   "cell_type": "markdown",
   "id": "96108a31",
   "metadata": {
    "id": "96108a31"
   },
   "source": [
    "# 전처리"
   ]
  },
  {
   "cell_type": "code",
   "execution_count": 5,
   "id": "71f1ed31",
   "metadata": {
    "ExecuteTime": {
     "end_time": "2024-03-08T02:29:17.396564Z",
     "start_time": "2024-03-08T02:29:14.892492Z"
    },
    "colab": {
     "base_uri": "https://localhost:8080/",
     "height": 597
    },
    "executionInfo": {
     "elapsed": 14335,
     "status": "ok",
     "timestamp": 1709863899676,
     "user": {
      "displayName": "김유림",
      "userId": "09242611142827377637"
     },
     "user_tz": -540
    },
    "id": "71f1ed31",
    "outputId": "600a1e2f-c83d-4100-e340-c67b413651cb"
   },
   "outputs": [
    {
     "data": {
      "text/html": [
       "<div>\n",
       "<style scoped>\n",
       "    .dataframe tbody tr th:only-of-type {\n",
       "        vertical-align: middle;\n",
       "    }\n",
       "\n",
       "    .dataframe tbody tr th {\n",
       "        vertical-align: top;\n",
       "    }\n",
       "\n",
       "    .dataframe thead th {\n",
       "        text-align: right;\n",
       "    }\n",
       "</style>\n",
       "<table border=\"1\" class=\"dataframe\">\n",
       "  <thead>\n",
       "    <tr style=\"text-align: right;\">\n",
       "      <th></th>\n",
       "      <th>title</th>\n",
       "      <th>content</th>\n",
       "    </tr>\n",
       "  </thead>\n",
       "  <tbody>\n",
       "    <tr>\n",
       "      <th>0</th>\n",
       "      <td>유시민 \"검찰도 사법도 썩었지\" vs 진중권 \"유시민 망상, 대중은 현실로 믿어\"</td>\n",
       "      <td>JTBC 신년토론서 격돌조국 전 장관 사태와 '유시민의 알릴레오' 두고 논쟁\\n\\n...</td>\n",
       "    </tr>\n",
       "    <tr>\n",
       "      <th>1</th>\n",
       "      <td>특정 정당 맹목적 지지 없어…진보진영 유리 장담 못해 [신년 기획 - 21대 총선 분석]</td>\n",
       "      <td>ㆍ사상 첫 18세 투표 영향은신규 유입 유권자 약 53만명여야, 청소년 전략 마련 ...</td>\n",
       "    </tr>\n",
       "    <tr>\n",
       "      <th>2</th>\n",
       "      <td>한국당 \"울산시장 선거 정황 의심\"…추미애 고발</td>\n",
       "      <td>[머니투데이 한고은 기자] \\n\\n\\n\\n(서울=뉴스1) 임세영 기자 = 곽상도 자...</td>\n",
       "    </tr>\n",
       "    <tr>\n",
       "      <th>3</th>\n",
       "      <td>한국당, 추미애 檢 고발..\"선거법 위반\"</td>\n",
       "      <td>곽상도 친문농단특위 위원장, 1일 고발\"지방선거 전 송철호에 靑행정관 소개\"\"공무상...</td>\n",
       "    </tr>\n",
       "    <tr>\n",
       "      <th>4</th>\n",
       "      <td>文의장 \"검찰·선거개혁 단초 열어 보람…소명 다할 것\"</td>\n",
       "      <td>\"공수처는 金·盧·文 세 대통령의 숙원이자 꿈\"  한국당 '아빠 찬스, 아들 공천'...</td>\n",
       "    </tr>\n",
       "    <tr>\n",
       "      <th>...</th>\n",
       "      <td>...</td>\n",
       "      <td>...</td>\n",
       "    </tr>\n",
       "    <tr>\n",
       "      <th>98225</th>\n",
       "      <td>‘세월호 막말’ 닷새만에… 차명진 제명</td>\n",
       "      <td>통합당, 긴급 최고위서 직권 의결… 수도권 전체 판세에 악영향 판단강원선 김진태 선...</td>\n",
       "    </tr>\n",
       "    <tr>\n",
       "      <th>98226</th>\n",
       "      <td>정봉주 “나를 개쓰레기 취급” 與 막말 비난</td>\n",
       "      <td>논란 일자 “부적절한 표현” 사과\\n\\n\\n\\n열린민주당 정봉주 최고위원(사진)이 ...</td>\n",
       "    </tr>\n",
       "    <tr>\n",
       "      <th>98227</th>\n",
       "      <td>민주당 “아직 2% 부족” vs 통합당 “100석도 위태”</td>\n",
       "      <td>이해찬 “수도권 121석중 70곳 경합”박형준 “개헌 저지선도 무너질 위기” 김종인...</td>\n",
       "    </tr>\n",
       "    <tr>\n",
       "      <th>98228</th>\n",
       "      <td>[총선2020] 범여권, '오세훈만 떨어뜨리면 된다' 계산 섰나</td>\n",
       "      <td>민주당 핵심 당직자들, 한날 광진을 지원방문'촛불시민모임' '대진연' 등도 계속해 ...</td>\n",
       "    </tr>\n",
       "    <tr>\n",
       "      <th>98229</th>\n",
       "      <td>아일랜드 중도우파 양대정당, 사상 첫 연정 '사실상 합의'</td>\n",
       "      <td>\"양 정당 대표 합의안 검토…승인 후 제3당 참여 위해 공유\"녹색당·노동당·사회민주...</td>\n",
       "    </tr>\n",
       "  </tbody>\n",
       "</table>\n",
       "<p>98230 rows × 2 columns</p>\n",
       "</div>"
      ],
      "text/plain": [
       "                                                   title  \\\n",
       "0          유시민 \"검찰도 사법도 썩었지\" vs 진중권 \"유시민 망상, 대중은 현실로 믿어\"   \n",
       "1      특정 정당 맹목적 지지 없어…진보진영 유리 장담 못해 [신년 기획 - 21대 총선 분석]   \n",
       "2                             한국당 \"울산시장 선거 정황 의심\"…추미애 고발   \n",
       "3                                한국당, 추미애 檢 고발..\"선거법 위반\"   \n",
       "4                         文의장 \"검찰·선거개혁 단초 열어 보람…소명 다할 것\"   \n",
       "...                                                  ...   \n",
       "98225                              ‘세월호 막말’ 닷새만에… 차명진 제명   \n",
       "98226                           정봉주 “나를 개쓰레기 취급” 與 막말 비난   \n",
       "98227                   민주당 “아직 2% 부족” vs 통합당 “100석도 위태”   \n",
       "98228                [총선2020] 범여권, '오세훈만 떨어뜨리면 된다' 계산 섰나   \n",
       "98229                   아일랜드 중도우파 양대정당, 사상 첫 연정 '사실상 합의'   \n",
       "\n",
       "                                                 content  \n",
       "0      JTBC 신년토론서 격돌조국 전 장관 사태와 '유시민의 알릴레오' 두고 논쟁\\n\\n...  \n",
       "1      ㆍ사상 첫 18세 투표 영향은신규 유입 유권자 약 53만명여야, 청소년 전략 마련 ...  \n",
       "2      [머니투데이 한고은 기자] \\n\\n\\n\\n(서울=뉴스1) 임세영 기자 = 곽상도 자...  \n",
       "3      곽상도 친문농단특위 위원장, 1일 고발\"지방선거 전 송철호에 靑행정관 소개\"\"공무상...  \n",
       "4      \"공수처는 金·盧·文 세 대통령의 숙원이자 꿈\"  한국당 '아빠 찬스, 아들 공천'...  \n",
       "...                                                  ...  \n",
       "98225  통합당, 긴급 최고위서 직권 의결… 수도권 전체 판세에 악영향 판단강원선 김진태 선...  \n",
       "98226  논란 일자 “부적절한 표현” 사과\\n\\n\\n\\n열린민주당 정봉주 최고위원(사진)이 ...  \n",
       "98227  이해찬 “수도권 121석중 70곳 경합”박형준 “개헌 저지선도 무너질 위기” 김종인...  \n",
       "98228  민주당 핵심 당직자들, 한날 광진을 지원방문'촛불시민모임' '대진연' 등도 계속해 ...  \n",
       "98229  \"양 정당 대표 합의안 검토…승인 후 제3당 참여 위해 공유\"녹색당·노동당·사회민주...  \n",
       "\n",
       "[98230 rows x 2 columns]"
      ]
     },
     "execution_count": 5,
     "metadata": {},
     "output_type": "execute_result"
    }
   ],
   "source": [
    "df_news = pd.read_csv('./df_news.csv')\n",
    "\n",
    "df_news"
   ]
  },
  {
   "cell_type": "code",
   "execution_count": null,
   "id": "3c4a7b46",
   "metadata": {
    "ExecuteTime": {
     "end_time": "2024-03-08T00:54:23.223083Z",
     "start_time": "2024-03-08T00:54:23.205386Z"
    },
    "colab": {
     "base_uri": "https://localhost:8080/",
     "height": 424
    },
    "executionInfo": {
     "elapsed": 6,
     "status": "ok",
     "timestamp": 1709860696176,
     "user": {
      "displayName": "김유림",
      "userId": "09242611142827377637"
     },
     "user_tz": -540
    },
    "id": "3c4a7b46",
    "outputId": "a696b760-1172-41e2-b0e6-c7e7fab73790"
   },
   "outputs": [
    {
     "data": {
      "application/vnd.google.colaboratory.intrinsic+json": {
       "summary": "{\n  \"name\": \"df_news[df_news['content'] == 'No content available']\",\n  \"rows\": 114,\n  \"fields\": [\n    {\n      \"column\": \"title\",\n      \"properties\": {\n        \"dtype\": \"string\",\n        \"num_unique_values\": 108,\n        \"samples\": [\n          \"[\\ud3ec\\ud1a0]\\ubc1c\\uc5b8\\ud558\\ub294 \\ud669\\uad50\\uc548 \\ub300\\ud45c\",\n          \"'2024 \\uac15\\uc6d0\\ub3d9\\uacc4\\uccad\\uc18c\\ub144\\uc62c\\ub9bc\\ud53d \\uc720\\uce58' \\ud55c\\uad6d \\ub300\\ud45c\\ub2e8 \\ubc15\\uc591\\uc6b0 \\uc7a5\\uad00 \\uadc0\\uad6d\",\n          \"\\uc815\\ubbfc\\ub2f9 \\\"'\\uc74c\\uc6d0\\uc0ac\\uc7ac\\uae30' \\uc1a1\\ud558\\uc608 \\uc18c\\uc18d\\uc0ac \\uace0\\ubc1c\\\"...\\uc1a1\\ud558\\uc608 \\uce21 \\\"\\uc0ac\\uc2e4\\ubb34\\uadfc\\u00b7\\ubc95\\uc801\\ub300\\uc751\\\"\"\n        ],\n        \"semantic_type\": \"\",\n        \"description\": \"\"\n      }\n    },\n    {\n      \"column\": \"content\",\n      \"properties\": {\n        \"dtype\": \"category\",\n        \"num_unique_values\": 1,\n        \"samples\": [\n          \"No content available\"\n        ],\n        \"semantic_type\": \"\",\n        \"description\": \"\"\n      }\n    }\n  ]\n}",
       "type": "dataframe"
      },
      "text/html": [
       "\n",
       "  <div id=\"df-77c02852-a0b7-4e72-9f43-c46c56fe4e28\" class=\"colab-df-container\">\n",
       "    <div>\n",
       "<style scoped>\n",
       "    .dataframe tbody tr th:only-of-type {\n",
       "        vertical-align: middle;\n",
       "    }\n",
       "\n",
       "    .dataframe tbody tr th {\n",
       "        vertical-align: top;\n",
       "    }\n",
       "\n",
       "    .dataframe thead th {\n",
       "        text-align: right;\n",
       "    }\n",
       "</style>\n",
       "<table border=\"1\" class=\"dataframe\">\n",
       "  <thead>\n",
       "    <tr style=\"text-align: right;\">\n",
       "      <th></th>\n",
       "      <th>title</th>\n",
       "      <th>content</th>\n",
       "    </tr>\n",
       "  </thead>\n",
       "  <tbody>\n",
       "    <tr>\n",
       "      <th>4149</th>\n",
       "      <td>[21대 총선] 광주 동남갑, '3선 장병완' 민주당 도전 막아낼까</td>\n",
       "      <td>No content available</td>\n",
       "    </tr>\n",
       "    <tr>\n",
       "      <th>4296</th>\n",
       "      <td>'암벽여제' 김자인, 남편 민주당 입당에 \"믿고 응원\"</td>\n",
       "      <td>No content available</td>\n",
       "    </tr>\n",
       "    <tr>\n",
       "      <th>5594</th>\n",
       "      <td>'욱토크' 박지원 \"문재인 정부, 제일 못하는 건 청년실업 문제\"</td>\n",
       "      <td>No content available</td>\n",
       "    </tr>\n",
       "    <tr>\n",
       "      <th>5596</th>\n",
       "      <td>'욱토크' 박지원 \"홍준표, 친분 있지만 사이 나쁘다…나한테 못 당해\"</td>\n",
       "      <td>No content available</td>\n",
       "    </tr>\n",
       "    <tr>\n",
       "      <th>5677</th>\n",
       "      <td>정민당 \"'음원사재기' 송하예 소속사 고발\"...송하예 측 \"사실무근·법적대응\"</td>\n",
       "      <td>No content available</td>\n",
       "    </tr>\n",
       "    <tr>\n",
       "      <th>...</th>\n",
       "      <td>...</td>\n",
       "      <td>...</td>\n",
       "    </tr>\n",
       "    <tr>\n",
       "      <th>88799</th>\n",
       "      <td>'황교안을 향한 손짓'</td>\n",
       "      <td>No content available</td>\n",
       "    </tr>\n",
       "    <tr>\n",
       "      <th>88976</th>\n",
       "      <td>이낙연 위원장 '황기철 후보 믿어주세요'</td>\n",
       "      <td>No content available</td>\n",
       "    </tr>\n",
       "    <tr>\n",
       "      <th>92764</th>\n",
       "      <td>유세하는 이낙연</td>\n",
       "      <td>No content available</td>\n",
       "    </tr>\n",
       "    <tr>\n",
       "      <th>96636</th>\n",
       "      <td>연매협 \"김근태 후보, 연예인 이용 이슈몰이…직접 소명해야\"</td>\n",
       "      <td>No content available</td>\n",
       "    </tr>\n",
       "    <tr>\n",
       "      <th>97184</th>\n",
       "      <td>이해찬 \"과반 정당 만들어야 文대통령 남은 임기 안정적\"(종합)</td>\n",
       "      <td>No content available</td>\n",
       "    </tr>\n",
       "  </tbody>\n",
       "</table>\n",
       "<p>114 rows × 2 columns</p>\n",
       "</div>\n",
       "    <div class=\"colab-df-buttons\">\n",
       "\n",
       "  <div class=\"colab-df-container\">\n",
       "    <button class=\"colab-df-convert\" onclick=\"convertToInteractive('df-77c02852-a0b7-4e72-9f43-c46c56fe4e28')\"\n",
       "            title=\"Convert this dataframe to an interactive table.\"\n",
       "            style=\"display:none;\">\n",
       "\n",
       "  <svg xmlns=\"http://www.w3.org/2000/svg\" height=\"24px\" viewBox=\"0 -960 960 960\">\n",
       "    <path d=\"M120-120v-720h720v720H120Zm60-500h600v-160H180v160Zm220 220h160v-160H400v160Zm0 220h160v-160H400v160ZM180-400h160v-160H180v160Zm440 0h160v-160H620v160ZM180-180h160v-160H180v160Zm440 0h160v-160H620v160Z\"/>\n",
       "  </svg>\n",
       "    </button>\n",
       "\n",
       "  <style>\n",
       "    .colab-df-container {\n",
       "      display:flex;\n",
       "      gap: 12px;\n",
       "    }\n",
       "\n",
       "    .colab-df-convert {\n",
       "      background-color: #E8F0FE;\n",
       "      border: none;\n",
       "      border-radius: 50%;\n",
       "      cursor: pointer;\n",
       "      display: none;\n",
       "      fill: #1967D2;\n",
       "      height: 32px;\n",
       "      padding: 0 0 0 0;\n",
       "      width: 32px;\n",
       "    }\n",
       "\n",
       "    .colab-df-convert:hover {\n",
       "      background-color: #E2EBFA;\n",
       "      box-shadow: 0px 1px 2px rgba(60, 64, 67, 0.3), 0px 1px 3px 1px rgba(60, 64, 67, 0.15);\n",
       "      fill: #174EA6;\n",
       "    }\n",
       "\n",
       "    .colab-df-buttons div {\n",
       "      margin-bottom: 4px;\n",
       "    }\n",
       "\n",
       "    [theme=dark] .colab-df-convert {\n",
       "      background-color: #3B4455;\n",
       "      fill: #D2E3FC;\n",
       "    }\n",
       "\n",
       "    [theme=dark] .colab-df-convert:hover {\n",
       "      background-color: #434B5C;\n",
       "      box-shadow: 0px 1px 3px 1px rgba(0, 0, 0, 0.15);\n",
       "      filter: drop-shadow(0px 1px 2px rgba(0, 0, 0, 0.3));\n",
       "      fill: #FFFFFF;\n",
       "    }\n",
       "  </style>\n",
       "\n",
       "    <script>\n",
       "      const buttonEl =\n",
       "        document.querySelector('#df-77c02852-a0b7-4e72-9f43-c46c56fe4e28 button.colab-df-convert');\n",
       "      buttonEl.style.display =\n",
       "        google.colab.kernel.accessAllowed ? 'block' : 'none';\n",
       "\n",
       "      async function convertToInteractive(key) {\n",
       "        const element = document.querySelector('#df-77c02852-a0b7-4e72-9f43-c46c56fe4e28');\n",
       "        const dataTable =\n",
       "          await google.colab.kernel.invokeFunction('convertToInteractive',\n",
       "                                                    [key], {});\n",
       "        if (!dataTable) return;\n",
       "\n",
       "        const docLinkHtml = 'Like what you see? Visit the ' +\n",
       "          '<a target=\"_blank\" href=https://colab.research.google.com/notebooks/data_table.ipynb>data table notebook</a>'\n",
       "          + ' to learn more about interactive tables.';\n",
       "        element.innerHTML = '';\n",
       "        dataTable['output_type'] = 'display_data';\n",
       "        await google.colab.output.renderOutput(dataTable, element);\n",
       "        const docLink = document.createElement('div');\n",
       "        docLink.innerHTML = docLinkHtml;\n",
       "        element.appendChild(docLink);\n",
       "      }\n",
       "    </script>\n",
       "  </div>\n",
       "\n",
       "\n",
       "<div id=\"df-e7eff40c-fbef-4a3b-8e80-5e5e12ff4abe\">\n",
       "  <button class=\"colab-df-quickchart\" onclick=\"quickchart('df-e7eff40c-fbef-4a3b-8e80-5e5e12ff4abe')\"\n",
       "            title=\"Suggest charts\"\n",
       "            style=\"display:none;\">\n",
       "\n",
       "<svg xmlns=\"http://www.w3.org/2000/svg\" height=\"24px\"viewBox=\"0 0 24 24\"\n",
       "     width=\"24px\">\n",
       "    <g>\n",
       "        <path d=\"M19 3H5c-1.1 0-2 .9-2 2v14c0 1.1.9 2 2 2h14c1.1 0 2-.9 2-2V5c0-1.1-.9-2-2-2zM9 17H7v-7h2v7zm4 0h-2V7h2v10zm4 0h-2v-4h2v4z\"/>\n",
       "    </g>\n",
       "</svg>\n",
       "  </button>\n",
       "\n",
       "<style>\n",
       "  .colab-df-quickchart {\n",
       "      --bg-color: #E8F0FE;\n",
       "      --fill-color: #1967D2;\n",
       "      --hover-bg-color: #E2EBFA;\n",
       "      --hover-fill-color: #174EA6;\n",
       "      --disabled-fill-color: #AAA;\n",
       "      --disabled-bg-color: #DDD;\n",
       "  }\n",
       "\n",
       "  [theme=dark] .colab-df-quickchart {\n",
       "      --bg-color: #3B4455;\n",
       "      --fill-color: #D2E3FC;\n",
       "      --hover-bg-color: #434B5C;\n",
       "      --hover-fill-color: #FFFFFF;\n",
       "      --disabled-bg-color: #3B4455;\n",
       "      --disabled-fill-color: #666;\n",
       "  }\n",
       "\n",
       "  .colab-df-quickchart {\n",
       "    background-color: var(--bg-color);\n",
       "    border: none;\n",
       "    border-radius: 50%;\n",
       "    cursor: pointer;\n",
       "    display: none;\n",
       "    fill: var(--fill-color);\n",
       "    height: 32px;\n",
       "    padding: 0;\n",
       "    width: 32px;\n",
       "  }\n",
       "\n",
       "  .colab-df-quickchart:hover {\n",
       "    background-color: var(--hover-bg-color);\n",
       "    box-shadow: 0 1px 2px rgba(60, 64, 67, 0.3), 0 1px 3px 1px rgba(60, 64, 67, 0.15);\n",
       "    fill: var(--button-hover-fill-color);\n",
       "  }\n",
       "\n",
       "  .colab-df-quickchart-complete:disabled,\n",
       "  .colab-df-quickchart-complete:disabled:hover {\n",
       "    background-color: var(--disabled-bg-color);\n",
       "    fill: var(--disabled-fill-color);\n",
       "    box-shadow: none;\n",
       "  }\n",
       "\n",
       "  .colab-df-spinner {\n",
       "    border: 2px solid var(--fill-color);\n",
       "    border-color: transparent;\n",
       "    border-bottom-color: var(--fill-color);\n",
       "    animation:\n",
       "      spin 1s steps(1) infinite;\n",
       "  }\n",
       "\n",
       "  @keyframes spin {\n",
       "    0% {\n",
       "      border-color: transparent;\n",
       "      border-bottom-color: var(--fill-color);\n",
       "      border-left-color: var(--fill-color);\n",
       "    }\n",
       "    20% {\n",
       "      border-color: transparent;\n",
       "      border-left-color: var(--fill-color);\n",
       "      border-top-color: var(--fill-color);\n",
       "    }\n",
       "    30% {\n",
       "      border-color: transparent;\n",
       "      border-left-color: var(--fill-color);\n",
       "      border-top-color: var(--fill-color);\n",
       "      border-right-color: var(--fill-color);\n",
       "    }\n",
       "    40% {\n",
       "      border-color: transparent;\n",
       "      border-right-color: var(--fill-color);\n",
       "      border-top-color: var(--fill-color);\n",
       "    }\n",
       "    60% {\n",
       "      border-color: transparent;\n",
       "      border-right-color: var(--fill-color);\n",
       "    }\n",
       "    80% {\n",
       "      border-color: transparent;\n",
       "      border-right-color: var(--fill-color);\n",
       "      border-bottom-color: var(--fill-color);\n",
       "    }\n",
       "    90% {\n",
       "      border-color: transparent;\n",
       "      border-bottom-color: var(--fill-color);\n",
       "    }\n",
       "  }\n",
       "</style>\n",
       "\n",
       "  <script>\n",
       "    async function quickchart(key) {\n",
       "      const quickchartButtonEl =\n",
       "        document.querySelector('#' + key + ' button');\n",
       "      quickchartButtonEl.disabled = true;  // To prevent multiple clicks.\n",
       "      quickchartButtonEl.classList.add('colab-df-spinner');\n",
       "      try {\n",
       "        const charts = await google.colab.kernel.invokeFunction(\n",
       "            'suggestCharts', [key], {});\n",
       "      } catch (error) {\n",
       "        console.error('Error during call to suggestCharts:', error);\n",
       "      }\n",
       "      quickchartButtonEl.classList.remove('colab-df-spinner');\n",
       "      quickchartButtonEl.classList.add('colab-df-quickchart-complete');\n",
       "    }\n",
       "    (() => {\n",
       "      let quickchartButtonEl =\n",
       "        document.querySelector('#df-e7eff40c-fbef-4a3b-8e80-5e5e12ff4abe button');\n",
       "      quickchartButtonEl.style.display =\n",
       "        google.colab.kernel.accessAllowed ? 'block' : 'none';\n",
       "    })();\n",
       "  </script>\n",
       "</div>\n",
       "\n",
       "    </div>\n",
       "  </div>\n"
      ],
      "text/plain": [
       "                                              title               content\n",
       "4149          [21대 총선] 광주 동남갑, '3선 장병완' 민주당 도전 막아낼까  No content available\n",
       "4296                 '암벽여제' 김자인, 남편 민주당 입당에 \"믿고 응원\"  No content available\n",
       "5594           '욱토크' 박지원 \"문재인 정부, 제일 못하는 건 청년실업 문제\"  No content available\n",
       "5596        '욱토크' 박지원 \"홍준표, 친분 있지만 사이 나쁘다…나한테 못 당해\"  No content available\n",
       "5677   정민당 \"'음원사재기' 송하예 소속사 고발\"...송하예 측 \"사실무근·법적대응\"  No content available\n",
       "...                                             ...                   ...\n",
       "88799                                  '황교안을 향한 손짓'  No content available\n",
       "88976                        이낙연 위원장 '황기철 후보 믿어주세요'  No content available\n",
       "92764                                      유세하는 이낙연  No content available\n",
       "96636             연매협 \"김근태 후보, 연예인 이용 이슈몰이…직접 소명해야\"  No content available\n",
       "97184           이해찬 \"과반 정당 만들어야 文대통령 남은 임기 안정적\"(종합)  No content available\n",
       "\n",
       "[114 rows x 2 columns]"
      ]
     },
     "execution_count": 5,
     "metadata": {},
     "output_type": "execute_result"
    }
   ],
   "source": [
    "df_news[df_news['content'] == 'No content available']"
   ]
  },
  {
   "cell_type": "markdown",
   "id": "64fb9cad",
   "metadata": {
    "id": "64fb9cad"
   },
   "source": [
    "## 필요없는 문자 제거"
   ]
  },
  {
   "cell_type": "code",
   "execution_count": 6,
   "id": "c9c0a430",
   "metadata": {
    "ExecuteTime": {
     "end_time": "2024-03-08T02:29:33.378084Z",
     "start_time": "2024-03-08T02:29:33.312002Z"
    }
   },
   "outputs": [
    {
     "data": {
      "text/html": [
       "<div>\n",
       "<style scoped>\n",
       "    .dataframe tbody tr th:only-of-type {\n",
       "        vertical-align: middle;\n",
       "    }\n",
       "\n",
       "    .dataframe tbody tr th {\n",
       "        vertical-align: top;\n",
       "    }\n",
       "\n",
       "    .dataframe thead th {\n",
       "        text-align: right;\n",
       "    }\n",
       "</style>\n",
       "<table border=\"1\" class=\"dataframe\">\n",
       "  <thead>\n",
       "    <tr style=\"text-align: right;\">\n",
       "      <th></th>\n",
       "      <th>title</th>\n",
       "      <th>content</th>\n",
       "    </tr>\n",
       "  </thead>\n",
       "  <tbody>\n",
       "    <tr>\n",
       "      <th>0</th>\n",
       "      <td>유시민 \"검찰도 사법도 썩었지\" vs 진중권 \"유시민 망상, 대중은 현실로 믿어\"</td>\n",
       "      <td>JTBC 신년토론서 격돌조국 전 장관 사태와 '유시민의 알릴레오' 두고 논쟁\\n\\n...</td>\n",
       "    </tr>\n",
       "    <tr>\n",
       "      <th>1</th>\n",
       "      <td>특정 정당 맹목적 지지 없어…진보진영 유리 장담 못해 [신년 기획 - 21대 총선 분석]</td>\n",
       "      <td>ㆍ사상 첫 18세 투표 영향은신규 유입 유권자 약 53만명여야, 청소년 전략 마련 ...</td>\n",
       "    </tr>\n",
       "    <tr>\n",
       "      <th>2</th>\n",
       "      <td>한국당 \"울산시장 선거 정황 의심\"…추미애 고발</td>\n",
       "      <td>[머니투데이 한고은 기자] \\n\\n\\n\\n(서울=뉴스1) 임세영 기자 = 곽상도 자...</td>\n",
       "    </tr>\n",
       "    <tr>\n",
       "      <th>3</th>\n",
       "      <td>한국당, 추미애 檢 고발..\"선거법 위반\"</td>\n",
       "      <td>곽상도 친문농단특위 위원장, 1일 고발\"지방선거 전 송철호에 靑행정관 소개\"\"공무상...</td>\n",
       "    </tr>\n",
       "    <tr>\n",
       "      <th>4</th>\n",
       "      <td>文의장 \"검찰·선거개혁 단초 열어 보람…소명 다할 것\"</td>\n",
       "      <td>\"공수처는 金·盧·文 세 대통령의 숙원이자 꿈\"  한국당 '아빠 찬스, 아들 공천'...</td>\n",
       "    </tr>\n",
       "    <tr>\n",
       "      <th>...</th>\n",
       "      <td>...</td>\n",
       "      <td>...</td>\n",
       "    </tr>\n",
       "    <tr>\n",
       "      <th>98225</th>\n",
       "      <td>‘세월호 막말’ 닷새만에… 차명진 제명</td>\n",
       "      <td>통합당, 긴급 최고위서 직권 의결… 수도권 전체 판세에 악영향 판단강원선 김진태 선...</td>\n",
       "    </tr>\n",
       "    <tr>\n",
       "      <th>98226</th>\n",
       "      <td>정봉주 “나를 개쓰레기 취급” 與 막말 비난</td>\n",
       "      <td>논란 일자 “부적절한 표현” 사과\\n\\n\\n\\n열린민주당 정봉주 최고위원(사진)이 ...</td>\n",
       "    </tr>\n",
       "    <tr>\n",
       "      <th>98227</th>\n",
       "      <td>민주당 “아직 2% 부족” vs 통합당 “100석도 위태”</td>\n",
       "      <td>이해찬 “수도권 121석중 70곳 경합”박형준 “개헌 저지선도 무너질 위기” 김종인...</td>\n",
       "    </tr>\n",
       "    <tr>\n",
       "      <th>98228</th>\n",
       "      <td>[총선2020] 범여권, '오세훈만 떨어뜨리면 된다' 계산 섰나</td>\n",
       "      <td>민주당 핵심 당직자들, 한날 광진을 지원방문'촛불시민모임' '대진연' 등도 계속해 ...</td>\n",
       "    </tr>\n",
       "    <tr>\n",
       "      <th>98229</th>\n",
       "      <td>아일랜드 중도우파 양대정당, 사상 첫 연정 '사실상 합의'</td>\n",
       "      <td>\"양 정당 대표 합의안 검토…승인 후 제3당 참여 위해 공유\"녹색당·노동당·사회민주...</td>\n",
       "    </tr>\n",
       "  </tbody>\n",
       "</table>\n",
       "<p>79410 rows × 2 columns</p>\n",
       "</div>"
      ],
      "text/plain": [
       "                                                   title  \\\n",
       "0          유시민 \"검찰도 사법도 썩었지\" vs 진중권 \"유시민 망상, 대중은 현실로 믿어\"   \n",
       "1      특정 정당 맹목적 지지 없어…진보진영 유리 장담 못해 [신년 기획 - 21대 총선 분석]   \n",
       "2                             한국당 \"울산시장 선거 정황 의심\"…추미애 고발   \n",
       "3                                한국당, 추미애 檢 고발..\"선거법 위반\"   \n",
       "4                         文의장 \"검찰·선거개혁 단초 열어 보람…소명 다할 것\"   \n",
       "...                                                  ...   \n",
       "98225                              ‘세월호 막말’ 닷새만에… 차명진 제명   \n",
       "98226                           정봉주 “나를 개쓰레기 취급” 與 막말 비난   \n",
       "98227                   민주당 “아직 2% 부족” vs 통합당 “100석도 위태”   \n",
       "98228                [총선2020] 범여권, '오세훈만 떨어뜨리면 된다' 계산 섰나   \n",
       "98229                   아일랜드 중도우파 양대정당, 사상 첫 연정 '사실상 합의'   \n",
       "\n",
       "                                                 content  \n",
       "0      JTBC 신년토론서 격돌조국 전 장관 사태와 '유시민의 알릴레오' 두고 논쟁\\n\\n...  \n",
       "1      ㆍ사상 첫 18세 투표 영향은신규 유입 유권자 약 53만명여야, 청소년 전략 마련 ...  \n",
       "2      [머니투데이 한고은 기자] \\n\\n\\n\\n(서울=뉴스1) 임세영 기자 = 곽상도 자...  \n",
       "3      곽상도 친문농단특위 위원장, 1일 고발\"지방선거 전 송철호에 靑행정관 소개\"\"공무상...  \n",
       "4      \"공수처는 金·盧·文 세 대통령의 숙원이자 꿈\"  한국당 '아빠 찬스, 아들 공천'...  \n",
       "...                                                  ...  \n",
       "98225  통합당, 긴급 최고위서 직권 의결… 수도권 전체 판세에 악영향 판단강원선 김진태 선...  \n",
       "98226  논란 일자 “부적절한 표현” 사과\\n\\n\\n\\n열린민주당 정봉주 최고위원(사진)이 ...  \n",
       "98227  이해찬 “수도권 121석중 70곳 경합”박형준 “개헌 저지선도 무너질 위기” 김종인...  \n",
       "98228  민주당 핵심 당직자들, 한날 광진을 지원방문'촛불시민모임' '대진연' 등도 계속해 ...  \n",
       "98229  \"양 정당 대표 합의안 검토…승인 후 제3당 참여 위해 공유\"녹색당·노동당·사회민주...  \n",
       "\n",
       "[79410 rows x 2 columns]"
      ]
     },
     "execution_count": 6,
     "metadata": {},
     "output_type": "execute_result"
    }
   ],
   "source": [
    "df_news = df_news[df_news['content'] != 'No content available']\n",
    "df_news = df_news.drop_duplicates(subset = ['title'])\n",
    "df_news = df_news.copy()\n",
    "df_news"
   ]
  },
  {
   "cell_type": "code",
   "execution_count": 7,
   "id": "1db434d1",
   "metadata": {
    "ExecuteTime": {
     "end_time": "2024-03-08T02:29:35.298757Z",
     "start_time": "2024-03-08T02:29:35.126416Z"
    },
    "colab": {
     "base_uri": "https://localhost:8080/",
     "height": 597
    },
    "executionInfo": {
     "elapsed": 3516,
     "status": "ok",
     "timestamp": 1709863903189,
     "user": {
      "displayName": "김유림",
      "userId": "09242611142827377637"
     },
     "user_tz": -540
    },
    "id": "1db434d1",
    "outputId": "ac4cdc3d-e140-4a63-9952-01d83aabaab0"
   },
   "outputs": [
    {
     "data": {
      "text/html": [
       "<div>\n",
       "<style scoped>\n",
       "    .dataframe tbody tr th:only-of-type {\n",
       "        vertical-align: middle;\n",
       "    }\n",
       "\n",
       "    .dataframe tbody tr th {\n",
       "        vertical-align: top;\n",
       "    }\n",
       "\n",
       "    .dataframe thead th {\n",
       "        text-align: right;\n",
       "    }\n",
       "</style>\n",
       "<table border=\"1\" class=\"dataframe\">\n",
       "  <thead>\n",
       "    <tr style=\"text-align: right;\">\n",
       "      <th></th>\n",
       "      <th>title</th>\n",
       "      <th>content</th>\n",
       "    </tr>\n",
       "  </thead>\n",
       "  <tbody>\n",
       "    <tr>\n",
       "      <th>0</th>\n",
       "      <td>유시민 \"검찰도 사법도 썩었지\" vs 진중권 \"유시민 망상, 대중은 현실로 믿어\"</td>\n",
       "      <td>JTBC 신년토론서 격돌조국 전 장관 사태와 '유시민의 알릴레오' 두고 논쟁    ...</td>\n",
       "    </tr>\n",
       "    <tr>\n",
       "      <th>1</th>\n",
       "      <td>특정 정당 맹목적 지지 없어…진보진영 유리 장담 못해 [신년 기획 - 21대 총선 분석]</td>\n",
       "      <td>ㆍ사상 첫 18세 투표 영향은신규 유입 유권자 약 53만명여야, 청소년 전략 마련 ...</td>\n",
       "    </tr>\n",
       "    <tr>\n",
       "      <th>2</th>\n",
       "      <td>한국당 \"울산시장 선거 정황 의심\"…추미애 고발</td>\n",
       "      <td>[머니투데이 한고은 기자]     (서울=뉴스1) 임세영 기자 = 곽상도 자유한국당...</td>\n",
       "    </tr>\n",
       "    <tr>\n",
       "      <th>3</th>\n",
       "      <td>한국당, 추미애 檢 고발..\"선거법 위반\"</td>\n",
       "      <td>곽상도 친문농단특위 위원장, 1일 고발\"지방선거 전 송철호에 靑행정관 소개\"\"공무상...</td>\n",
       "    </tr>\n",
       "    <tr>\n",
       "      <th>4</th>\n",
       "      <td>文의장 \"검찰·선거개혁 단초 열어 보람…소명 다할 것\"</td>\n",
       "      <td>\"공수처는 金·盧·文 세 대통령의 숙원이자 꿈\"  한국당 '아빠 찬스, 아들 공천'...</td>\n",
       "    </tr>\n",
       "    <tr>\n",
       "      <th>...</th>\n",
       "      <td>...</td>\n",
       "      <td>...</td>\n",
       "    </tr>\n",
       "    <tr>\n",
       "      <th>98225</th>\n",
       "      <td>‘세월호 막말’ 닷새만에… 차명진 제명</td>\n",
       "      <td>통합당, 긴급 최고위서 직권 의결… 수도권 전체 판세에 악영향 판단강원선 김진태 선...</td>\n",
       "    </tr>\n",
       "    <tr>\n",
       "      <th>98226</th>\n",
       "      <td>정봉주 “나를 개쓰레기 취급” 與 막말 비난</td>\n",
       "      <td>논란 일자 “부적절한 표현” 사과    열린민주당 정봉주 최고위원(사진)이 12일 ...</td>\n",
       "    </tr>\n",
       "    <tr>\n",
       "      <th>98227</th>\n",
       "      <td>민주당 “아직 2% 부족” vs 통합당 “100석도 위태”</td>\n",
       "      <td>이해찬 “수도권 121석중 70곳 경합”박형준 “개헌 저지선도 무너질 위기” 김종인...</td>\n",
       "    </tr>\n",
       "    <tr>\n",
       "      <th>98228</th>\n",
       "      <td>[총선2020] 범여권, '오세훈만 떨어뜨리면 된다' 계산 섰나</td>\n",
       "      <td>민주당 핵심 당직자들, 한날 광진을 지원방문'촛불시민모임' '대진연' 등도 계속해 ...</td>\n",
       "    </tr>\n",
       "    <tr>\n",
       "      <th>98229</th>\n",
       "      <td>아일랜드 중도우파 양대정당, 사상 첫 연정 '사실상 합의'</td>\n",
       "      <td>\"양 정당 대표 합의안 검토…승인 후 제3당 참여 위해 공유\"녹색당·노동당·사회민주...</td>\n",
       "    </tr>\n",
       "  </tbody>\n",
       "</table>\n",
       "<p>79410 rows × 2 columns</p>\n",
       "</div>"
      ],
      "text/plain": [
       "                                                   title  \\\n",
       "0          유시민 \"검찰도 사법도 썩었지\" vs 진중권 \"유시민 망상, 대중은 현실로 믿어\"   \n",
       "1      특정 정당 맹목적 지지 없어…진보진영 유리 장담 못해 [신년 기획 - 21대 총선 분석]   \n",
       "2                             한국당 \"울산시장 선거 정황 의심\"…추미애 고발   \n",
       "3                                한국당, 추미애 檢 고발..\"선거법 위반\"   \n",
       "4                         文의장 \"검찰·선거개혁 단초 열어 보람…소명 다할 것\"   \n",
       "...                                                  ...   \n",
       "98225                              ‘세월호 막말’ 닷새만에… 차명진 제명   \n",
       "98226                           정봉주 “나를 개쓰레기 취급” 與 막말 비난   \n",
       "98227                   민주당 “아직 2% 부족” vs 통합당 “100석도 위태”   \n",
       "98228                [총선2020] 범여권, '오세훈만 떨어뜨리면 된다' 계산 섰나   \n",
       "98229                   아일랜드 중도우파 양대정당, 사상 첫 연정 '사실상 합의'   \n",
       "\n",
       "                                                 content  \n",
       "0      JTBC 신년토론서 격돌조국 전 장관 사태와 '유시민의 알릴레오' 두고 논쟁    ...  \n",
       "1      ㆍ사상 첫 18세 투표 영향은신규 유입 유권자 약 53만명여야, 청소년 전략 마련 ...  \n",
       "2      [머니투데이 한고은 기자]     (서울=뉴스1) 임세영 기자 = 곽상도 자유한국당...  \n",
       "3      곽상도 친문농단특위 위원장, 1일 고발\"지방선거 전 송철호에 靑행정관 소개\"\"공무상...  \n",
       "4      \"공수처는 金·盧·文 세 대통령의 숙원이자 꿈\"  한국당 '아빠 찬스, 아들 공천'...  \n",
       "...                                                  ...  \n",
       "98225  통합당, 긴급 최고위서 직권 의결… 수도권 전체 판세에 악영향 판단강원선 김진태 선...  \n",
       "98226  논란 일자 “부적절한 표현” 사과    열린민주당 정봉주 최고위원(사진)이 12일 ...  \n",
       "98227  이해찬 “수도권 121석중 70곳 경합”박형준 “개헌 저지선도 무너질 위기” 김종인...  \n",
       "98228  민주당 핵심 당직자들, 한날 광진을 지원방문'촛불시민모임' '대진연' 등도 계속해 ...  \n",
       "98229  \"양 정당 대표 합의안 검토…승인 후 제3당 참여 위해 공유\"녹색당·노동당·사회민주...  \n",
       "\n",
       "[79410 rows x 2 columns]"
      ]
     },
     "execution_count": 7,
     "metadata": {},
     "output_type": "execute_result"
    }
   ],
   "source": [
    "df_news['content'] = df_news['content'].str.replace('\\n', ' ')\n",
    "df_news['content'] = df_news['content'].str.replace('/', ' ')\n",
    "\n",
    "\n",
    "df_news"
   ]
  },
  {
   "cell_type": "markdown",
   "id": "b35f6e18",
   "metadata": {
    "id": "b35f6e18"
   },
   "source": [
    "## 문장으로 나누기"
   ]
  },
  {
   "cell_type": "code",
   "execution_count": 8,
   "id": "d1fdf8ab",
   "metadata": {
    "ExecuteTime": {
     "end_time": "2024-03-08T02:29:37.374297Z",
     "start_time": "2024-03-08T02:29:37.016166Z"
    },
    "colab": {
     "base_uri": "https://localhost:8080/",
     "height": 597
    },
    "executionInfo": {
     "elapsed": 1728,
     "status": "ok",
     "timestamp": 1709863904914,
     "user": {
      "displayName": "김유림",
      "userId": "09242611142827377637"
     },
     "user_tz": -540
    },
    "id": "d1fdf8ab",
    "outputId": "8cf838ba-9a9d-473d-d8a3-afff5e358628"
   },
   "outputs": [
    {
     "data": {
      "text/html": [
       "<div>\n",
       "<style scoped>\n",
       "    .dataframe tbody tr th:only-of-type {\n",
       "        vertical-align: middle;\n",
       "    }\n",
       "\n",
       "    .dataframe tbody tr th {\n",
       "        vertical-align: top;\n",
       "    }\n",
       "\n",
       "    .dataframe thead th {\n",
       "        text-align: right;\n",
       "    }\n",
       "</style>\n",
       "<table border=\"1\" class=\"dataframe\">\n",
       "  <thead>\n",
       "    <tr style=\"text-align: right;\">\n",
       "      <th></th>\n",
       "      <th>title</th>\n",
       "      <th>content</th>\n",
       "    </tr>\n",
       "  </thead>\n",
       "  <tbody>\n",
       "    <tr>\n",
       "      <th>0</th>\n",
       "      <td>유시민 \"검찰도 사법도 썩었지\" vs 진중권 \"유시민 망상, 대중은 현실로 믿어\"</td>\n",
       "      <td>[JTBC 신년토론서 격돌조국 전 장관 사태와 '유시민의 알릴레오' 두고 논쟁   ...</td>\n",
       "    </tr>\n",
       "    <tr>\n",
       "      <th>1</th>\n",
       "      <td>특정 정당 맹목적 지지 없어…진보진영 유리 장담 못해 [신년 기획 - 21대 총선 분석]</td>\n",
       "      <td>[ㆍ사상 첫 18세 투표 영향은신규 유입 유권자 약 53만명여야, 청소년 전략 마련...</td>\n",
       "    </tr>\n",
       "    <tr>\n",
       "      <th>2</th>\n",
       "      <td>한국당 \"울산시장 선거 정황 의심\"…추미애 고발</td>\n",
       "      <td>[[머니투데이 한고은 기자]     (서울=뉴스1) 임세영 기자 = 곽상도 자유한국...</td>\n",
       "    </tr>\n",
       "    <tr>\n",
       "      <th>3</th>\n",
       "      <td>한국당, 추미애 檢 고발..\"선거법 위반\"</td>\n",
       "      <td>[곽상도 친문농단특위 위원장, 1일 고발\"지방선거 전 송철호에 靑행정관 소개\"\"공무...</td>\n",
       "    </tr>\n",
       "    <tr>\n",
       "      <th>4</th>\n",
       "      <td>文의장 \"검찰·선거개혁 단초 열어 보람…소명 다할 것\"</td>\n",
       "      <td>[\"공수처는 金·盧·文 세 대통령의 숙원이자 꿈\"  한국당 '아빠 찬스, 아들 공천...</td>\n",
       "    </tr>\n",
       "    <tr>\n",
       "      <th>...</th>\n",
       "      <td>...</td>\n",
       "      <td>...</td>\n",
       "    </tr>\n",
       "    <tr>\n",
       "      <th>98225</th>\n",
       "      <td>‘세월호 막말’ 닷새만에… 차명진 제명</td>\n",
       "      <td>[통합당, 긴급 최고위서 직권 의결… 수도권 전체 판세에 악영향 판단강원선 김진태 ...</td>\n",
       "    </tr>\n",
       "    <tr>\n",
       "      <th>98226</th>\n",
       "      <td>정봉주 “나를 개쓰레기 취급” 與 막말 비난</td>\n",
       "      <td>[논란 일자 “부적절한 표현” 사과    열린민주당 정봉주 최고위원(사진)이 12일...</td>\n",
       "    </tr>\n",
       "    <tr>\n",
       "      <th>98227</th>\n",
       "      <td>민주당 “아직 2% 부족” vs 통합당 “100석도 위태”</td>\n",
       "      <td>[이해찬 “수도권 121석중 70곳 경합”박형준 “개헌 저지선도 무너질 위기” 김종...</td>\n",
       "    </tr>\n",
       "    <tr>\n",
       "      <th>98228</th>\n",
       "      <td>[총선2020] 범여권, '오세훈만 떨어뜨리면 된다' 계산 섰나</td>\n",
       "      <td>[민주당 핵심 당직자들, 한날 광진을 지원방문'촛불시민모임' '대진연' 등도 계속해...</td>\n",
       "    </tr>\n",
       "    <tr>\n",
       "      <th>98229</th>\n",
       "      <td>아일랜드 중도우파 양대정당, 사상 첫 연정 '사실상 합의'</td>\n",
       "      <td>[\"양 정당 대표 합의안 검토…승인 후 제3당 참여 위해 공유\"녹색당·노동당·사회민...</td>\n",
       "    </tr>\n",
       "  </tbody>\n",
       "</table>\n",
       "<p>79410 rows × 2 columns</p>\n",
       "</div>"
      ],
      "text/plain": [
       "                                                   title  \\\n",
       "0          유시민 \"검찰도 사법도 썩었지\" vs 진중권 \"유시민 망상, 대중은 현실로 믿어\"   \n",
       "1      특정 정당 맹목적 지지 없어…진보진영 유리 장담 못해 [신년 기획 - 21대 총선 분석]   \n",
       "2                             한국당 \"울산시장 선거 정황 의심\"…추미애 고발   \n",
       "3                                한국당, 추미애 檢 고발..\"선거법 위반\"   \n",
       "4                         文의장 \"검찰·선거개혁 단초 열어 보람…소명 다할 것\"   \n",
       "...                                                  ...   \n",
       "98225                              ‘세월호 막말’ 닷새만에… 차명진 제명   \n",
       "98226                           정봉주 “나를 개쓰레기 취급” 與 막말 비난   \n",
       "98227                   민주당 “아직 2% 부족” vs 통합당 “100석도 위태”   \n",
       "98228                [총선2020] 범여권, '오세훈만 떨어뜨리면 된다' 계산 섰나   \n",
       "98229                   아일랜드 중도우파 양대정당, 사상 첫 연정 '사실상 합의'   \n",
       "\n",
       "                                                 content  \n",
       "0      [JTBC 신년토론서 격돌조국 전 장관 사태와 '유시민의 알릴레오' 두고 논쟁   ...  \n",
       "1      [ㆍ사상 첫 18세 투표 영향은신규 유입 유권자 약 53만명여야, 청소년 전략 마련...  \n",
       "2      [[머니투데이 한고은 기자]     (서울=뉴스1) 임세영 기자 = 곽상도 자유한국...  \n",
       "3      [곽상도 친문농단특위 위원장, 1일 고발\"지방선거 전 송철호에 靑행정관 소개\"\"공무...  \n",
       "4      [\"공수처는 金·盧·文 세 대통령의 숙원이자 꿈\"  한국당 '아빠 찬스, 아들 공천...  \n",
       "...                                                  ...  \n",
       "98225  [통합당, 긴급 최고위서 직권 의결… 수도권 전체 판세에 악영향 판단강원선 김진태 ...  \n",
       "98226  [논란 일자 “부적절한 표현” 사과    열린민주당 정봉주 최고위원(사진)이 12일...  \n",
       "98227  [이해찬 “수도권 121석중 70곳 경합”박형준 “개헌 저지선도 무너질 위기” 김종...  \n",
       "98228  [민주당 핵심 당직자들, 한날 광진을 지원방문'촛불시민모임' '대진연' 등도 계속해...  \n",
       "98229  [\"양 정당 대표 합의안 검토…승인 후 제3당 참여 위해 공유\"녹색당·노동당·사회민...  \n",
       "\n",
       "[79410 rows x 2 columns]"
      ]
     },
     "execution_count": 8,
     "metadata": {},
     "output_type": "execute_result"
    }
   ],
   "source": [
    "df_news['content'] = df_news['content'].str.split('.')\n",
    "\n",
    "df_news"
   ]
  },
  {
   "cell_type": "code",
   "execution_count": null,
   "id": "7a7165cb",
   "metadata": {
    "ExecuteTime": {
     "end_time": "2024-03-08T00:54:23.670215Z",
     "start_time": "2024-03-08T00:54:23.667483Z"
    },
    "id": "7a7165cb"
   },
   "outputs": [],
   "source": [
    "# # '@'가 포함된 값 이전까지 가져오기\n",
    "# from tqdm import tqdm\n",
    "\n",
    "# # 새로운 열을 생성하기 위해 빈 리스트 초기화\n",
    "# new_content = []\n",
    "\n",
    "# for i in tqdm(range(len(df_news))):\n",
    "#     res = []\n",
    "#     for j in range(len(df_news.iloc[i, 1])):\n",
    "#         if not (re.search(\"[a-zA-Z]\", df_news.iloc[i, 1][j]) or '@' in df_news.iloc[i, 1][j] or '<' in df_news.iloc[i, 1][j] or '>' in df_news.iloc[i, 1][j]):\n",
    "#             res.append(df_news.iloc[i, 1][j])\n",
    "#         else:\n",
    "#             continue\n",
    "#     # 각 행에 대한 결과를 빈 리스트에 추가\n",
    "#     new_content.append(res)\n",
    "\n",
    "# # 새로운 열로 할당\n",
    "# df_news['new_content'] = new_content"
   ]
  },
  {
   "cell_type": "markdown",
   "id": "e1add138",
   "metadata": {
    "id": "e1add138"
   },
   "source": [
    "'@'가 포함된 값 이전까지 가져오기"
   ]
  },
  {
   "cell_type": "code",
   "execution_count": null,
   "id": "e07388e3",
   "metadata": {
    "ExecuteTime": {
     "end_time": "2024-03-08T00:54:23.676182Z",
     "start_time": "2024-03-08T00:54:23.671215Z"
    },
    "id": "e07388e3"
   },
   "outputs": [],
   "source": [
    "# # 이메일이 먼저 나오는 경우 일단 넘어가서 가져오기\n",
    "\n",
    "# from tqdm import tqdm\n",
    "\n",
    "# # 새로운 열을 생성하기 위해 빈 리스트 초기화\n",
    "# new_content = []\n",
    "\n",
    "# for i in tqdm(range(len(df_news))):\n",
    "#     res = []\n",
    "#     for j in range(len(df_news.iloc[i, 1])):\n",
    "#         if '@' in df_news.iloc[i, 1][j]:\n",
    "#             if j <= (len(df_news.iloc[i, 1]) // 2):\n",
    "#                 # '@'가 전체 리스트의 절반보다 앞에 있는 경우\n",
    "#                 res.extend(df_news.iloc[i, 1][j:])\n",
    "#             else:\n",
    "#                 # '@'가 전체 리스트의 절반보다 뒤에 있는 경우\n",
    "#                 res.extend(df_news.iloc[i, 1][:j])\n",
    "#                 break  # 뒤에 있는 부분만 가져온 후 반복문 종료\n",
    "\n",
    "#     # 각 행에 대한 결과를 빈 리스트에 추가\n",
    "#     new_content.append(res)\n",
    "\n",
    "# # 새로운 열로 할당\n",
    "# df_news['new_content'] = new_content"
   ]
  },
  {
   "cell_type": "code",
   "execution_count": 9,
   "id": "0c8154d7",
   "metadata": {
    "ExecuteTime": {
     "end_time": "2024-03-08T02:30:36.774601Z",
     "start_time": "2024-03-08T02:29:39.691106Z"
    },
    "colab": {
     "base_uri": "https://localhost:8080/"
    },
    "executionInfo": {
     "elapsed": 96909,
     "status": "ok",
     "timestamp": 1709864001817,
     "user": {
      "displayName": "김유림",
      "userId": "09242611142827377637"
     },
     "user_tz": -540
    },
    "id": "0c8154d7",
    "outputId": "bab9ce81-8ab9-45dd-ac69-52362ea6f2d1"
   },
   "outputs": [
    {
     "name": "stderr",
     "output_type": "stream",
     "text": [
      "100%|██████████████████████████████████████████████████████████████████████████| 79410/79410 [00:57<00:00, 1391.80it/s]\n"
     ]
    }
   ],
   "source": [
    "from tqdm import tqdm\n",
    "\n",
    "# 새로운 열을 생성하기 위해 빈 리스트 초기화\n",
    "new_content = []\n",
    "\n",
    "for i in tqdm(range(len(df_news))):\n",
    "    res = []\n",
    "    for j in range(len(df_news.iloc[i, 1])):\n",
    "        if '@' in df_news.iloc[i, 1][j]:\n",
    "            continue  # '@'가 있는 리스트는 건너뜁니다.\n",
    "        res.append(df_news.iloc[i, 1][j])\n",
    "\n",
    "    # 각 행에 대한 결과를 빈 리스트에 추가\n",
    "    new_content.append(res)\n",
    "\n",
    "# 새로운 열로 할당\n",
    "df_news['new_content'] = new_content\n"
   ]
  },
  {
   "cell_type": "code",
   "execution_count": null,
   "id": "79fc93e6",
   "metadata": {
    "ExecuteTime": {
     "end_time": "2024-03-08T00:55:15.895111Z",
     "start_time": "2024-03-08T00:55:15.890253Z"
    },
    "id": "79fc93e6",
    "outputId": "8896cffc-36bf-4511-e29e-68d13fe7d13d"
   },
   "outputs": [
    {
     "data": {
      "text/plain": [
       "['공무상 비밀누설죄 및 공직선거법 위반 혐의\"文 선거개입 수사 방해하려 임명 서두르는 듯\"\"철저한 검찰수사로 선거개입 진실 밝혀져야\"    [서울=뉴시스]김명원 기자 = 추미애 법무부장관 후보자가 30일 오후 서울 여의도 국회 법제사법위원회에서 열린 법무부장관 후보자 인사청문회에 참석해 의원들의 질의를 경청하며 가져온 음료를 마시고 있다',\n",
       " '  2019',\n",
       " '12',\n",
       " '30',\n",
       " 'com [서울=뉴시스] 이승주 기자 = 자유한국당이 1일 선거개입 의혹을 제기하며 추미애 법무부장관 후보자를 검찰에 고발했다',\n",
       " '친문농단진상조사특위 총괄본부장을 맡고 있는 곽상도 한국당 의원은 이날 보도자료를 통해 \"청와대에 이어 추미애 전 민주당 대표의 선거개입 정황이 의심된다\"며 \"추 전 대표를 공무상 비밀누설죄 및 공직선거법 위반 혐의로 고발했다\"고 밝혔다',\n",
       " '곽 의원은 \"지난 6·13선거와 관련 추 전 대표 측 관계자는 청와대 균형발전비서관실 소속 장환석 선임행정관을 송철호·송병기 등에게 소개했다고 한다\"며 \"이를 통해 송철호 측은 외부에 공개되지 않은 울산 관련 정보를 선거 공약으로 활용했다는 것이 언론에 밝혀졌다\"고 했다',\n",
       " '그러면서 \"문재인 대통령이 추 전 대표를 선거사범 등을 관장하는 주무부처인 법무부 장관으로 서둘러 임명하려는 것도, 장관도 아닌 후보자 신분으로 추 전 대표가 검사 인사 관련 보고를 받았다는 것도 청와대 선거 개입 관련 수사를 방해하려는 작업으로 볼 수밖에 없다\"고 주장했다',\n",
       " '이어 \"청와대의 법무부 장관 임명이 범죄 은폐 수단이 되어선 안 된다\"며 \"철저한 검찰 수사로 청와대의 선거 개입 의혹 진실이 낱낱이 밝혀져야 한다\"고 강조했다',\n",
       " 'com▶ K-Artprice 모바일 오픈! 미술작품 가격을 공개합니다▶ 뉴시스 채널 구독하고 에어팟 프로 받아가세요▶ 뉴시스 빅데이터 MSI 주가시세표 바로가기 <저작권자ⓒ 공감언론 뉴시스통신사',\n",
       " ' 무단전재-재배포 금지',\n",
       " '>']"
      ]
     },
     "execution_count": 84,
     "metadata": {},
     "output_type": "execute_result"
    }
   ],
   "source": [
    "df_news['new_content'][10]"
   ]
  },
  {
   "cell_type": "markdown",
   "id": "b858294e",
   "metadata": {
    "id": "b858294e"
   },
   "source": [
    "# 긍정/부정 구분"
   ]
  },
  {
   "cell_type": "code",
   "execution_count": 10,
   "id": "b42da407",
   "metadata": {
    "ExecuteTime": {
     "end_time": "2024-03-08T02:30:36.781158Z",
     "start_time": "2024-03-08T02:30:36.775600Z"
    },
    "executionInfo": {
     "elapsed": 423,
     "status": "ok",
     "timestamp": 1709864002238,
     "user": {
      "displayName": "김유림",
      "userId": "09242611142827377637"
     },
     "user_tz": -540
    },
    "id": "b42da407"
   },
   "outputs": [],
   "source": [
    "party_names = [\n",
    "    '더불어민주당', '미래통합당', '민생당', '정의당', '우리공화당', '민중당', '한국경제당', '국민의당', '친박신당', '열린민주당',\n",
    "    '미래한국당', '더불어시민당', '가자코리아', '가자!평화인권당', '가자환경당', '공화당', '국가혁명배당금당', '국민새정당',\n",
    "    '국민참여신당', '기독자유통일당', '기본소득당', '깨어있는시민연대당', '남북통일당', '노동당', '녹색당', '대한당', '대한민국당',\n",
    "    '미래당', '미래민주당', '민중민주당', '새누리당', '시대전환', '여성의당', '우리당(2020년)', '자유당', '자유의새벽당',\n",
    "    '중소자영업당', '직능자영업당', '충청의미래당', '통일민주당', '한국복지당', '한나라당', '홍익당', '자유한국당', '무소속'\n",
    "]\n"
   ]
  },
  {
   "cell_type": "markdown",
   "id": "670a50d0",
   "metadata": {
    "id": "670a50d0"
   },
   "source": [
    "당에 관한 기사만"
   ]
  },
  {
   "cell_type": "code",
   "execution_count": 11,
   "id": "b714cb90",
   "metadata": {
    "ExecuteTime": {
     "end_time": "2024-03-08T02:30:44.001578Z",
     "start_time": "2024-03-08T02:30:36.783155Z"
    },
    "colab": {
     "base_uri": "https://localhost:8080/"
    },
    "executionInfo": {
     "elapsed": 11252,
     "status": "ok",
     "timestamp": 1709864013486,
     "user": {
      "displayName": "김유림",
      "userId": "09242611142827377637"
     },
     "user_tz": -540
    },
    "id": "b714cb90",
    "outputId": "7e7ec803-aa76-4d89-d71c-04a91a7bbed0"
   },
   "outputs": [
    {
     "name": "stderr",
     "output_type": "stream",
     "text": [
      "100%|█████████████████████████████████████████████████████████████████████████| 79410/79410 [00:07<00:00, 11049.46it/s]\n"
     ]
    }
   ],
   "source": [
    "# 당에 관한 기사만\n",
    "\n",
    "party_sentences = []\n",
    "party_lst = []\n",
    "\n",
    "for data in tqdm(df_news.iloc[:, 2]):\n",
    "    res = []\n",
    "    party_name = []\n",
    "    for j in range(len(data)):\n",
    "        for party in party_names:\n",
    "            if party in data[j]:\n",
    "                party_name.append(party)\n",
    "                res.append(data[j])\n",
    "                break  # 당 이름이 발견되면 해당 문장을 추가하고 내부 루프 종료\n",
    "    party_sentences.append(res)\n",
    "    party_lst.append(party_name)\n",
    "\n",
    "df_news['party_content'] = party_sentences\n",
    "df_news['party_name'] = party_lst"
   ]
  },
  {
   "cell_type": "code",
   "execution_count": null,
   "id": "4da45fe2",
   "metadata": {
    "ExecuteTime": {
     "end_time": "2024-03-08T00:55:22.890655Z",
     "start_time": "2024-03-08T00:55:22.874861Z"
    },
    "id": "4da45fe2",
    "outputId": "349a6a6f-2672-4d53-f788-da37ada541da"
   },
   "outputs": [
    {
     "data": {
      "text/html": [
       "<div>\n",
       "<style scoped>\n",
       "    .dataframe tbody tr th:only-of-type {\n",
       "        vertical-align: middle;\n",
       "    }\n",
       "\n",
       "    .dataframe tbody tr th {\n",
       "        vertical-align: top;\n",
       "    }\n",
       "\n",
       "    .dataframe thead th {\n",
       "        text-align: right;\n",
       "    }\n",
       "</style>\n",
       "<table border=\"1\" class=\"dataframe\">\n",
       "  <thead>\n",
       "    <tr style=\"text-align: right;\">\n",
       "      <th></th>\n",
       "      <th>title</th>\n",
       "      <th>content</th>\n",
       "      <th>new_content</th>\n",
       "      <th>party_content</th>\n",
       "      <th>party_name</th>\n",
       "    </tr>\n",
       "  </thead>\n",
       "  <tbody>\n",
       "    <tr>\n",
       "      <th>0</th>\n",
       "      <td>유시민 \"검찰도 사법도 썩었지\" vs 진중권 \"유시민 망상, 대중은 현실로 믿어\"</td>\n",
       "      <td>[JTBC 신년토론서 격돌조국 전 장관 사태와 '유시민의 알릴레오' 두고 논쟁   ...</td>\n",
       "      <td>[JTBC 신년토론서 격돌조국 전 장관 사태와 '유시민의 알릴레오' 두고 논쟁   ...</td>\n",
       "      <td>[]</td>\n",
       "      <td>[]</td>\n",
       "    </tr>\n",
       "    <tr>\n",
       "      <th>1</th>\n",
       "      <td>특정 정당 맹목적 지지 없어…진보진영 유리 장담 못해 [신년 기획 - 21대 총선 분석]</td>\n",
       "      <td>[ㆍ사상 첫 18세 투표 영향은신규 유입 유권자 약 53만명여야, 청소년 전략 마련...</td>\n",
       "      <td>[ㆍ사상 첫 18세 투표 영향은신규 유입 유권자 약 53만명여야, 청소년 전략 마련...</td>\n",
       "      <td>[ 더불어민주당은 정책, 영입을 병행 추진하고 있다]</td>\n",
       "      <td>[더불어민주당]</td>\n",
       "    </tr>\n",
       "    <tr>\n",
       "      <th>2</th>\n",
       "      <td>한국당 \"울산시장 선거 정황 의심\"…추미애 고발</td>\n",
       "      <td>[[머니투데이 한고은 기자]     (서울=뉴스1) 임세영 기자 = 곽상도 자유한국...</td>\n",
       "      <td>[[머니투데이 한고은 기자]     (서울=뉴스1) 임세영 기자 = 곽상도 자유한국...</td>\n",
       "      <td>[]</td>\n",
       "      <td>[]</td>\n",
       "    </tr>\n",
       "    <tr>\n",
       "      <th>3</th>\n",
       "      <td>한국당, 추미애 檢 고발..\"선거법 위반\"</td>\n",
       "      <td>[곽상도 친문농단특위 위원장, 1일 고발\"지방선거 전 송철호에 靑행정관 소개\"\"공무...</td>\n",
       "      <td>[곽상도 친문농단특위 위원장, 1일 고발\"지방선거 전 송철호에 靑행정관 소개\"\"공무...</td>\n",
       "      <td>[ (사진=노진환 기자)[이데일리 김겨레 기자]자유한국당이 1일 추미애 법무부 장관...</td>\n",
       "      <td>[더불어민주당]</td>\n",
       "    </tr>\n",
       "    <tr>\n",
       "      <th>4</th>\n",
       "      <td>文의장 \"검찰·선거개혁 단초 열어 보람…소명 다할 것\"</td>\n",
       "      <td>[\"공수처는 金·盧·文 세 대통령의 숙원이자 꿈\"  한국당 '아빠 찬스, 아들 공천...</td>\n",
       "      <td>[\"공수처는 金·盧·文 세 대통령의 숙원이자 꿈\"  한국당 '아빠 찬스, 아들 공천...</td>\n",
       "      <td>[]</td>\n",
       "      <td>[]</td>\n",
       "    </tr>\n",
       "    <tr>\n",
       "      <th>...</th>\n",
       "      <td>...</td>\n",
       "      <td>...</td>\n",
       "      <td>...</td>\n",
       "      <td>...</td>\n",
       "      <td>...</td>\n",
       "    </tr>\n",
       "    <tr>\n",
       "      <th>98225</th>\n",
       "      <td>‘세월호 막말’ 닷새만에… 차명진 제명</td>\n",
       "      <td>[통합당, 긴급 최고위서 직권 의결… 수도권 전체 판세에 악영향 판단강원선 김진태 ...</td>\n",
       "      <td>[통합당, 긴급 최고위서 직권 의결… 수도권 전체 판세에 악영향 판단강원선 김진태 ...</td>\n",
       "      <td>[통합당, 긴급 최고위서 직권 의결… 수도권 전체 판세에 악영향 판단강원선 김진태 ...</td>\n",
       "      <td>[미래통합당]</td>\n",
       "    </tr>\n",
       "    <tr>\n",
       "      <th>98226</th>\n",
       "      <td>정봉주 “나를 개쓰레기 취급” 與 막말 비난</td>\n",
       "      <td>[논란 일자 “부적절한 표현” 사과    열린민주당 정봉주 최고위원(사진)이 12일...</td>\n",
       "      <td>[논란 일자 “부적절한 표현” 사과    열린민주당 정봉주 최고위원(사진)이 12일...</td>\n",
       "      <td>[논란 일자 “부적절한 표현” 사과    열린민주당 정봉주 최고위원(사진)이 12일...</td>\n",
       "      <td>[더불어민주당, 열린민주당, 열린민주당, 열린민주당, 더불어시민당, 열린민주당]</td>\n",
       "    </tr>\n",
       "    <tr>\n",
       "      <th>98227</th>\n",
       "      <td>민주당 “아직 2% 부족” vs 통합당 “100석도 위태”</td>\n",
       "      <td>[이해찬 “수도권 121석중 70곳 경합”박형준 “개헌 저지선도 무너질 위기” 김종...</td>\n",
       "      <td>[이해찬 “수도권 121석중 70곳 경합”박형준 “개헌 저지선도 무너질 위기” 김종...</td>\n",
       "      <td>[com     4·15총선을 이틀 남긴 13일 정치권은 미래통합당이 제기한 ‘여당...</td>\n",
       "      <td>[미래통합당, 더불어민주당, 더불어시민당]</td>\n",
       "    </tr>\n",
       "    <tr>\n",
       "      <th>98228</th>\n",
       "      <td>[총선2020] 범여권, '오세훈만 떨어뜨리면 된다' 계산 섰나</td>\n",
       "      <td>[민주당 핵심 당직자들, 한날 광진을 지원방문'촛불시민모임' '대진연' 등도 계속해...</td>\n",
       "      <td>[민주당 핵심 당직자들, 한날 광진을 지원방문'촛불시민모임' '대진연' 등도 계속해...</td>\n",
       "      <td>[ 더불어민주당 이낙연 상임선거대책위원장, 이인영 원내대표, 박광온 최고위원 등 핵...</td>\n",
       "      <td>[더불어민주당, 미래통합당, 미래통합당]</td>\n",
       "    </tr>\n",
       "    <tr>\n",
       "      <th>98229</th>\n",
       "      <td>아일랜드 중도우파 양대정당, 사상 첫 연정 '사실상 합의'</td>\n",
       "      <td>[\"양 정당 대표 합의안 검토…승인 후 제3당 참여 위해 공유\"녹색당·노동당·사회민...</td>\n",
       "      <td>[\"양 정당 대표 합의안 검토…승인 후 제3당 참여 위해 공유\"녹색당·노동당·사회민...</td>\n",
       "      <td>[\"양 정당 대표 합의안 검토…승인 후 제3당 참여 위해 공유\"녹색당·노동당·사회민...</td>\n",
       "      <td>[공화당, 공화당, 공화당, 공화당, 공화당, 공화당, 공화당, 공화당, 공화당, ...</td>\n",
       "    </tr>\n",
       "  </tbody>\n",
       "</table>\n",
       "<p>98230 rows × 5 columns</p>\n",
       "</div>"
      ],
      "text/plain": [
       "                                                   title  \\\n",
       "0          유시민 \"검찰도 사법도 썩었지\" vs 진중권 \"유시민 망상, 대중은 현실로 믿어\"   \n",
       "1      특정 정당 맹목적 지지 없어…진보진영 유리 장담 못해 [신년 기획 - 21대 총선 분석]   \n",
       "2                             한국당 \"울산시장 선거 정황 의심\"…추미애 고발   \n",
       "3                                한국당, 추미애 檢 고발..\"선거법 위반\"   \n",
       "4                         文의장 \"검찰·선거개혁 단초 열어 보람…소명 다할 것\"   \n",
       "...                                                  ...   \n",
       "98225                              ‘세월호 막말’ 닷새만에… 차명진 제명   \n",
       "98226                           정봉주 “나를 개쓰레기 취급” 與 막말 비난   \n",
       "98227                   민주당 “아직 2% 부족” vs 통합당 “100석도 위태”   \n",
       "98228                [총선2020] 범여권, '오세훈만 떨어뜨리면 된다' 계산 섰나   \n",
       "98229                   아일랜드 중도우파 양대정당, 사상 첫 연정 '사실상 합의'   \n",
       "\n",
       "                                                 content  \\\n",
       "0      [JTBC 신년토론서 격돌조국 전 장관 사태와 '유시민의 알릴레오' 두고 논쟁   ...   \n",
       "1      [ㆍ사상 첫 18세 투표 영향은신규 유입 유권자 약 53만명여야, 청소년 전략 마련...   \n",
       "2      [[머니투데이 한고은 기자]     (서울=뉴스1) 임세영 기자 = 곽상도 자유한국...   \n",
       "3      [곽상도 친문농단특위 위원장, 1일 고발\"지방선거 전 송철호에 靑행정관 소개\"\"공무...   \n",
       "4      [\"공수처는 金·盧·文 세 대통령의 숙원이자 꿈\"  한국당 '아빠 찬스, 아들 공천...   \n",
       "...                                                  ...   \n",
       "98225  [통합당, 긴급 최고위서 직권 의결… 수도권 전체 판세에 악영향 판단강원선 김진태 ...   \n",
       "98226  [논란 일자 “부적절한 표현” 사과    열린민주당 정봉주 최고위원(사진)이 12일...   \n",
       "98227  [이해찬 “수도권 121석중 70곳 경합”박형준 “개헌 저지선도 무너질 위기” 김종...   \n",
       "98228  [민주당 핵심 당직자들, 한날 광진을 지원방문'촛불시민모임' '대진연' 등도 계속해...   \n",
       "98229  [\"양 정당 대표 합의안 검토…승인 후 제3당 참여 위해 공유\"녹색당·노동당·사회민...   \n",
       "\n",
       "                                             new_content  \\\n",
       "0      [JTBC 신년토론서 격돌조국 전 장관 사태와 '유시민의 알릴레오' 두고 논쟁   ...   \n",
       "1      [ㆍ사상 첫 18세 투표 영향은신규 유입 유권자 약 53만명여야, 청소년 전략 마련...   \n",
       "2      [[머니투데이 한고은 기자]     (서울=뉴스1) 임세영 기자 = 곽상도 자유한국...   \n",
       "3      [곽상도 친문농단특위 위원장, 1일 고발\"지방선거 전 송철호에 靑행정관 소개\"\"공무...   \n",
       "4      [\"공수처는 金·盧·文 세 대통령의 숙원이자 꿈\"  한국당 '아빠 찬스, 아들 공천...   \n",
       "...                                                  ...   \n",
       "98225  [통합당, 긴급 최고위서 직권 의결… 수도권 전체 판세에 악영향 판단강원선 김진태 ...   \n",
       "98226  [논란 일자 “부적절한 표현” 사과    열린민주당 정봉주 최고위원(사진)이 12일...   \n",
       "98227  [이해찬 “수도권 121석중 70곳 경합”박형준 “개헌 저지선도 무너질 위기” 김종...   \n",
       "98228  [민주당 핵심 당직자들, 한날 광진을 지원방문'촛불시민모임' '대진연' 등도 계속해...   \n",
       "98229  [\"양 정당 대표 합의안 검토…승인 후 제3당 참여 위해 공유\"녹색당·노동당·사회민...   \n",
       "\n",
       "                                           party_content  \\\n",
       "0                                                     []   \n",
       "1                          [ 더불어민주당은 정책, 영입을 병행 추진하고 있다]   \n",
       "2                                                     []   \n",
       "3      [ (사진=노진환 기자)[이데일리 김겨레 기자]자유한국당이 1일 추미애 법무부 장관...   \n",
       "4                                                     []   \n",
       "...                                                  ...   \n",
       "98225  [통합당, 긴급 최고위서 직권 의결… 수도권 전체 판세에 악영향 판단강원선 김진태 ...   \n",
       "98226  [논란 일자 “부적절한 표현” 사과    열린민주당 정봉주 최고위원(사진)이 12일...   \n",
       "98227  [com     4·15총선을 이틀 남긴 13일 정치권은 미래통합당이 제기한 ‘여당...   \n",
       "98228  [ 더불어민주당 이낙연 상임선거대책위원장, 이인영 원내대표, 박광온 최고위원 등 핵...   \n",
       "98229  [\"양 정당 대표 합의안 검토…승인 후 제3당 참여 위해 공유\"녹색당·노동당·사회민...   \n",
       "\n",
       "                                              party_name  \n",
       "0                                                     []  \n",
       "1                                               [더불어민주당]  \n",
       "2                                                     []  \n",
       "3                                               [더불어민주당]  \n",
       "4                                                     []  \n",
       "...                                                  ...  \n",
       "98225                                            [미래통합당]  \n",
       "98226       [더불어민주당, 열린민주당, 열린민주당, 열린민주당, 더불어시민당, 열린민주당]  \n",
       "98227                            [미래통합당, 더불어민주당, 더불어시민당]  \n",
       "98228                             [더불어민주당, 미래통합당, 미래통합당]  \n",
       "98229  [공화당, 공화당, 공화당, 공화당, 공화당, 공화당, 공화당, 공화당, 공화당, ...  \n",
       "\n",
       "[98230 rows x 5 columns]"
      ]
     },
     "execution_count": 87,
     "metadata": {},
     "output_type": "execute_result"
    }
   ],
   "source": [
    "df_news"
   ]
  },
  {
   "cell_type": "code",
   "execution_count": null,
   "id": "91a931a7",
   "metadata": {
    "ExecuteTime": {
     "end_time": "2024-03-08T00:55:22.913223Z",
     "start_time": "2024-03-08T00:55:22.891654Z"
    },
    "id": "91a931a7",
    "outputId": "e2733e8d-b994-4c3c-84a8-51a12188153d"
   },
   "outputs": [
    {
     "name": "stdout",
     "output_type": "stream",
     "text": [
      "빈 리스트인 행의 개수: 25454\n"
     ]
    }
   ],
   "source": [
    "# 빈 리스트인 행의 개수를 세는 변수 초기화\n",
    "empty_list_count = 0\n",
    "\n",
    "# 데이터프레임 각 행에 대해 반복하여 빈 리스트인지 확인\n",
    "for row in df_news['party_content']:\n",
    "    if len(row) == 0:\n",
    "        empty_list_count += 1\n",
    "\n",
    "print(\"빈 리스트인 행의 개수:\", empty_list_count)"
   ]
  },
  {
   "cell_type": "markdown",
   "id": "24fc0579",
   "metadata": {
    "id": "24fc0579"
   },
   "source": [
    "=> 당에 속한 사람도 있을 것이니 이후 추가해서 다시 확인(사람 이름으로)"
   ]
  },
  {
   "cell_type": "code",
   "execution_count": null,
   "id": "ae956d1a",
   "metadata": {
    "ExecuteTime": {
     "end_time": "2024-03-08T00:55:22.916947Z",
     "start_time": "2024-03-08T00:55:22.914222Z"
    },
    "id": "ae956d1a"
   },
   "outputs": [],
   "source": [
    "# !pip install transformers\n",
    "# ! pip install torch"
   ]
  },
  {
   "cell_type": "code",
   "execution_count": 12,
   "id": "4826dea3",
   "metadata": {
    "ExecuteTime": {
     "end_time": "2024-03-08T02:31:50.382666Z",
     "start_time": "2024-03-08T02:30:44.003576Z"
    },
    "colab": {
     "base_uri": "https://localhost:8080/"
    },
    "executionInfo": {
     "elapsed": 1902,
     "status": "ok",
     "timestamp": 1709864184208,
     "user": {
      "displayName": "김유림",
      "userId": "09242611142827377637"
     },
     "user_tz": -540
    },
    "id": "4826dea3",
    "outputId": "47872c58-d5e8-4ef7-e80a-b1b767a47228",
    "scrolled": true
   },
   "outputs": [
    {
     "name": "stderr",
     "output_type": "stream",
     "text": [
      "C:\\Users\\mit005\\anaconda3\\Lib\\site-packages\\transformers\\utils\\generic.py:260: UserWarning: torch.utils._pytree._register_pytree_node is deprecated. Please use torch.utils._pytree.register_pytree_node instead.\n",
      "  torch.utils._pytree._register_pytree_node(\n"
     ]
    },
    {
     "data": {
      "application/vnd.jupyter.widget-view+json": {
       "model_id": "cb399499a6954f7e85e586bd3ee4bc58",
       "version_major": 2,
       "version_minor": 0
      },
      "text/plain": [
       "Downloading vocab.json:   0%|          | 0.00/899k [00:00<?, ?B/s]"
      ]
     },
     "metadata": {},
     "output_type": "display_data"
    },
    {
     "name": "stderr",
     "output_type": "stream",
     "text": [
      "C:\\Users\\mit005\\anaconda3\\Lib\\site-packages\\huggingface_hub\\file_download.py:133: UserWarning: `huggingface_hub` cache-system uses symlinks by default to efficiently store duplicated files but your machine does not support them in C:\\Users\\mit005\\.cache\\huggingface\\hub. Caching files will still work but in a degraded version that might require more space on your disk. This warning can be disabled by setting the `HF_HUB_DISABLE_SYMLINKS_WARNING` environment variable. For more details, see https://huggingface.co/docs/huggingface_hub/how-to-cache#limitations.\n",
      "To support symlinks on Windows, you either need to activate Developer Mode or to run Python as an administrator. In order to see activate developer mode, see this article: https://docs.microsoft.com/en-us/windows/apps/get-started/enable-your-device-for-development\n",
      "  warnings.warn(message)\n"
     ]
    },
    {
     "data": {
      "application/vnd.jupyter.widget-view+json": {
       "model_id": "09607d2dec4b43db9d3f2f5a00abdfb8",
       "version_major": 2,
       "version_minor": 0
      },
      "text/plain": [
       "Downloading merges.txt:   0%|          | 0.00/456k [00:00<?, ?B/s]"
      ]
     },
     "metadata": {},
     "output_type": "display_data"
    },
    {
     "data": {
      "application/vnd.jupyter.widget-view+json": {
       "model_id": "a1e605695c0443dd9dadf482baa96d4c",
       "version_major": 2,
       "version_minor": 0
      },
      "text/plain": [
       "Downloading config.json:   0%|          | 0.00/694 [00:00<?, ?B/s]"
      ]
     },
     "metadata": {},
     "output_type": "display_data"
    },
    {
     "data": {
      "application/vnd.jupyter.widget-view+json": {
       "model_id": "276272bb06e64f3fa9c45a7dfda6c69e",
       "version_major": 2,
       "version_minor": 0
      },
      "text/plain": [
       "Downloading pytorch_model.bin:   0%|          | 0.00/597M [00:00<?, ?B/s]"
      ]
     },
     "metadata": {},
     "output_type": "display_data"
    },
    {
     "name": "stderr",
     "output_type": "stream",
     "text": [
      "Some weights of LongformerForSequenceClassification were not initialized from the model checkpoint at allenai/longformer-base-4096 and are newly initialized: ['classifier.out_proj.bias', 'classifier.out_proj.weight', 'classifier.dense.bias', 'classifier.dense.weight']\n",
      "You should probably TRAIN this model on a down-stream task to be able to use it for predictions and inference.\n"
     ]
    }
   ],
   "source": [
    "from transformers import LongformerTokenizer, LongformerForSequenceClassification\n",
    "import torch\n",
    "from tqdm import tqdm\n",
    "\n",
    "# Longformer 모델과 토크나이저 불러오기\n",
    "model_name = 'allenai/longformer-base-4096'\n",
    "tokenizer = LongformerTokenizer.from_pretrained(model_name)\n",
    "model = LongformerForSequenceClassification.from_pretrained(model_name)"
   ]
  },
  {
   "cell_type": "code",
   "execution_count": null,
   "id": "9a225e45",
   "metadata": {
    "ExecuteTime": {
     "end_time": "2024-03-08T00:55:25.561281Z",
     "start_time": "2024-03-08T00:55:25.513253Z"
    },
    "id": "9a225e45",
    "outputId": "2aa691b1-d5ae-4d83-978f-b3fe8c2a3dde"
   },
   "outputs": [
    {
     "name": "stderr",
     "output_type": "stream",
     "text": [
      "Asking to truncate to max_length but no maximum length is provided and the model has no predefined maximum length. Default to no truncation.\n"
     ]
    },
    {
     "name": "stdout",
     "output_type": "stream",
     "text": [
      "입력 문장 : 너가 싫어\n",
      "감정 분석 결과 : 긍정\n"
     ]
    }
   ],
   "source": [
    "# 입력 문장\n",
    "text = \"너가 싫어\"\n",
    "\n",
    "# 토큰화 및 패딩\n",
    "inputs = tokenizer(text, return_tensors=\"pt\", padding=True, truncation=True)\n",
    "\n",
    "# 모델로 예측\n",
    "outputs = model(**inputs)\n",
    "\n",
    "# 로짓 출력\n",
    "logits = outputs.logits\n",
    "\n",
    "# 예측 결과\n",
    "predictions = torch.argmax(logits, dim = 1)\n",
    "sentiment = \"긍정\" if predictions == 1 else \"부정\"\n",
    "\n",
    "print(f\"입력 문장 : {text}\")\n",
    "print(f\"감정 분석 결과 : {sentiment}\")"
   ]
  },
  {
   "cell_type": "code",
   "execution_count": null,
   "id": "0505c385",
   "metadata": {
    "ExecuteTime": {
     "end_time": "2024-03-08T00:58:55.156855Z",
     "start_time": "2024-03-08T00:58:54.685717Z"
    },
    "id": "0505c385",
    "outputId": "8c838674-6692-486f-8197-c4efa7bbc19d"
   },
   "outputs": [
    {
     "name": "stdout",
     "output_type": "stream",
     "text": [
      "입력 문장 :  더불어민주당은 정책, 영입을 병행 추진하고 있다\n",
      "감정 분석 결과 : 긍정\n",
      "입력 문장 :   자유한국당은 선거연령 하향을 반대했지만 법안 통과 후 청소년 전략 마련을 촉구하는 목소리가 높아지고 있다\n",
      "감정 분석 결과 : 부정\n",
      "입력 문장 : [머니투데이 한고은 기자]     (서울=뉴스1) 임세영 기자 = 곽상도 자유한국당 文정권 국정농단 3대 게이트 진상조사 총괄본부장이 17일 오후 서울 여의도 국회 정론관에서 기자회견을 갖고 김기현 전 울산시장 측근 비위 의혹 첩보 전달 과정을 설명하고 있다\n",
      "감정 분석 결과 : 긍정\n",
      "입력 문장 : 17 뉴스1   <저작권자 © 뉴스1코리아, 무단전재 및 재배포 금지>자유한국당이 1일 추미애 법무부장관 후보자에 대한 선거개입 의혹을 제기하고, 추 후보자를 검찰에 고발했다\n",
      "감정 분석 결과 : 부정\n",
      "입력 문장 :  (사진=노진환 기자)[이데일리 김겨레 기자]자유한국당이 1일 추미애 법무부 장관 후보자가 더불어민주당 대표 시절 선거법을 위반했다며 검찰에 고발했다\n",
      "감정 분석 결과 : 부정\n",
      "입력 문장 :  그러면서 자유한국당이 자신을 향해 아들 공천 문제 때문에 여당 편을 든다고 반발한 것에 대해 \"역사에서 어떻게 평가를 받아도 좋다\n",
      "감정 분석 결과 : 긍정\n",
      "입력 문장 :  출마지역으로는 문 대통령 사저가 있고 서형수 현 더불어민주당 의원이 불출마를 선언한 경남 양산을, 박영선 중소벤처기업부 장관 지역구인 서울 구로구을이 거론됐던 가운데 최종적으로는 구로구을 출마로 가닥을 잡은 기류다\n",
      "감정 분석 결과 : 부정\n",
      "입력 문장 : 윤 실장과 함께 청와대 내 총선 출마 예상자 명단에 이름을 올려온 고민정 대변인은 더불어민주당의 출마 요청을 받긴 했으나 불출마로 입장을 정리한 것으로 전해진다\n",
      "감정 분석 결과 : 부정\n",
      "입력 문장 :  사진=뉴스1자유한국당의 극렬한 반발 속 고위공직자범죄수사처(공수처)법이 국회 본회의를 통과한 것과 관련, 문희상 국회의장이 \"내 소명이고 운명이었다\"고 소회를 밝혔다\n",
      "감정 분석 결과 : 부정\n"
     ]
    }
   ],
   "source": [
    "# 데이터프레임의 열에 있는 리스트의 각 요소를 처리하고 감정 분석 수행\n",
    "# 테스트\n",
    "a = df_news.iloc[0:10]\n",
    "\n",
    "for idx, row in a.iterrows():\n",
    "    content_list = row['party_content']\n",
    "    for content in content_list:\n",
    "        # 토큰화 및 패딩\n",
    "        inputs = tokenizer(content, return_tensors = \"pt\", padding = True, truncation = True)\n",
    "\n",
    "        # 모델로 예측\n",
    "        outputs = model(**inputs)\n",
    "\n",
    "        # 로짓 출력\n",
    "        logits = outputs.logits\n",
    "\n",
    "        # 예측 결과\n",
    "        predictions = torch.argmax(logits, dim  = 1)\n",
    "        sentiment = \"긍정\" if predictions == 1 else \"부정\"\n",
    "\n",
    "        print(f\"입력 문장 : {content}\")\n",
    "        print(f\"감정 분석 결과 : {sentiment}\")"
   ]
  },
  {
   "cell_type": "code",
   "execution_count": null,
   "id": "8287ea45",
   "metadata": {
    "ExecuteTime": {
     "start_time": "2024-03-08T02:30:00.771Z"
    },
    "colab": {
     "base_uri": "https://localhost:8080/"
    },
    "id": "8287ea45",
    "outputId": "cb3a13c5-4d3d-4415-fe11-6a92800c7187"
   },
   "outputs": [
    {
     "name": "stderr",
     "output_type": "stream",
     "text": [
      "622it [24:07,  4.59s/it]"
     ]
    }
   ],
   "source": [
    "res = []\n",
    "for idx, row in tqdm(df_news.iterrows()):\n",
    "    label_res = []\n",
    "    content_list = row['party_content']\n",
    "    for content in content_list:\n",
    "        # 토큰화 및 패딩\n",
    "        inputs = tokenizer(content, return_tensors=\"pt\", max_length=4096, truncation=True)\n",
    "\n",
    "        # 모델로 예측\n",
    "        outputs = model(**inputs)\n",
    "\n",
    "        # 풀러 아웃풋에서 logit을 얻음\n",
    "        logits = outputs.logits\n",
    "\n",
    "        # 예측 결과\n",
    "        predictions = torch.argmax(logits, dim=1)\n",
    "        sentiment = \"긍정\" if predictions == 1 else \"부정\"\n",
    "\n",
    "        label_res.append(sentiment)\n",
    "    res.append(label_res)\n",
    "\n",
    "df_news['label'] = res"
   ]
  },
  {
   "cell_type": "code",
   "execution_count": null,
   "id": "83731d02",
   "metadata": {
    "id": "83731d02"
   },
   "outputs": [],
   "source": []
  },
  {
   "cell_type": "code",
   "execution_count": null,
   "id": "00d9f72a",
   "metadata": {
    "id": "00d9f72a"
   },
   "outputs": [],
   "source": []
  },
  {
   "cell_type": "code",
   "execution_count": null,
   "id": "5d2a1cbd",
   "metadata": {
    "id": "5d2a1cbd"
   },
   "outputs": [],
   "source": []
  },
  {
   "cell_type": "code",
   "execution_count": null,
   "id": "fa262b95",
   "metadata": {
    "id": "fa262b95"
   },
   "outputs": [],
   "source": []
  },
  {
   "cell_type": "code",
   "execution_count": null,
   "id": "ea804c8e",
   "metadata": {
    "id": "ea804c8e"
   },
   "outputs": [],
   "source": []
  },
  {
   "cell_type": "code",
   "execution_count": null,
   "id": "36620c09",
   "metadata": {
    "id": "36620c09"
   },
   "outputs": [],
   "source": []
  },
  {
   "cell_type": "code",
   "execution_count": null,
   "id": "56072483",
   "metadata": {
    "id": "56072483"
   },
   "outputs": [],
   "source": []
  },
  {
   "cell_type": "code",
   "execution_count": null,
   "id": "fb406074",
   "metadata": {
    "id": "fb406074"
   },
   "outputs": [],
   "source": []
  },
  {
   "cell_type": "code",
   "execution_count": null,
   "id": "b264429f",
   "metadata": {
    "id": "b264429f"
   },
   "outputs": [],
   "source": []
  }
 ],
 "metadata": {
  "colab": {
   "provenance": []
  },
  "kernelspec": {
   "display_name": "Python 3 (ipykernel)",
   "language": "python",
   "name": "python3"
  },
  "language_info": {
   "codemirror_mode": {
    "name": "ipython",
    "version": 3
   },
   "file_extension": ".py",
   "mimetype": "text/x-python",
   "name": "python",
   "nbconvert_exporter": "python",
   "pygments_lexer": "ipython3",
   "version": "3.11.5"
  },
  "toc": {
   "base_numbering": 1,
   "nav_menu": {},
   "number_sections": true,
   "sideBar": true,
   "skip_h1_title": false,
   "title_cell": "Table of Contents",
   "title_sidebar": "Contents",
   "toc_cell": false,
   "toc_position": {
    "height": "calc(100% - 180px)",
    "left": "10px",
    "top": "150px",
    "width": "165px"
   },
   "toc_section_display": true,
   "toc_window_display": true
  }
 },
 "nbformat": 4,
 "nbformat_minor": 5
}
