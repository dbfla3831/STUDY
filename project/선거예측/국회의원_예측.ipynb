{
 "cells": [
  {
   "cell_type": "markdown",
   "id": "02a5d954",
   "metadata": {},
   "source": [
    "네이버 뉴스 가져오기"
   ]
  },
  {
   "cell_type": "code",
   "execution_count": 1,
   "id": "7efd37d5",
   "metadata": {
    "ExecuteTime": {
     "end_time": "2024-02-29T08:12:24.020962Z",
     "start_time": "2024-02-29T08:12:23.610468Z"
    }
   },
   "outputs": [],
   "source": [
    "import requests # url을 가져오기 위해\n",
    "import json # 입력 받을 때 json으로 받기 위해\n",
    "import pandas as pd\n",
    "\n",
    "from IPython.core.interactiveshell import InteractiveShell\n",
    "InteractiveShell.ast_node_interactivity = 'all'"
   ]
  },
  {
   "cell_type": "code",
   "execution_count": 9,
   "id": "28f3573e",
   "metadata": {
    "ExecuteTime": {
     "end_time": "2024-02-29T08:22:30.400125Z",
     "start_time": "2024-02-29T08:22:30.131064Z"
    }
   },
   "outputs": [
    {
     "name": "stdout",
     "output_type": "stream",
     "text": [
      "Error: 400\n"
     ]
    }
   ],
   "source": [
    "import requests\n",
    "import urllib.parse\n",
    "import json\n",
    "\n",
    "# 자신의 api 등록 정보\n",
    "client_id = '2nrYBuhn0i7KZUK8WVGg' \n",
    "client_secret = 'ywHF6R3eZW'\n",
    "\n",
    "# 검색할 키워드\n",
    "word = '국회의원'\n",
    "keyword = urllib.parse.quote(word) # 단어를 utf로 변경\n",
    "\n",
    "# 검색할 시작일과 종료일 지정\n",
    "start_date = '20200101'\n",
    "end_date = '20200414'\n",
    "\n",
    "url = 'https://openapi.naver.com/v1/search/news.json?query={}&start={}&end={}'.format(keyword, start_date, end_date)\n",
    "\n",
    "# 네이버 검색 API 호출\n",
    "headers = {\n",
    "    'X-Naver-Client-Id': client_id,\n",
    "    'X-Naver-Client-Secret': client_secret\n",
    "}\n",
    "response = requests.get(url, headers=headers)\n",
    "\n",
    "# API 호출 결과 확인\n",
    "if response.status_code == 200:\n",
    "    data = response.json()\n",
    "    # 데이터 처리 및 원하는 형태로 출력\n",
    "    print(data)\n",
    "else:\n",
    "    print(\"Error:\", response.status_code)"
   ]
  },
  {
   "cell_type": "code",
   "execution_count": 10,
   "id": "1b8a1837",
   "metadata": {
    "ExecuteTime": {
     "end_time": "2024-02-29T08:26:00.262890Z",
     "start_time": "2024-02-29T08:25:59.873059Z"
    }
   },
   "outputs": [
    {
     "name": "stdout",
     "output_type": "stream",
     "text": [
      "{'lastBuildDate': 'Thu, 29 Feb 2024 17:25:59 +0900', 'total': 4341736, 'start': 1, 'display': 10, 'items': [{'title': '민주당 김상우 예비후보 안동예천 출마', 'originallink': 'http://news.lghellovision.net/news/articleView.html?idxno=457771', 'link': 'http://news.lghellovision.net/news/articleView.html?idxno=457771', 'description': '김 예비후보는 29일, 안동시청 브리핑실에서 기자회견을 열고 &quot;윤석열 친일 정권 앞에 제2의 독립운동을 하는 심정으로 <b>국회의원</b> 선거에 출마한다&quot;고 밝혔습니다. 김 예비후보는 지방소멸대응정책전문가로... ', 'pubDate': 'Thu, 29 Feb 2024 17:24:00 +0900'}, {'title': '우성진 대구 군위군·동구을 예비후보, “부자 농촌 군위 완성하겠다”', 'originallink': 'http://www.sentv.co.kr/news/view/680706', 'link': 'http://www.sentv.co.kr/news/view/680706', 'description': '우성진 대구 군위군·동구을 국민의힘 <b>국회의원</b> 예비후보는 28일 군위군 군위시장에서 ‘군위 발전 공약’을 발표했다.   우 후보의 이날 현장 공약 발표는 현장의 목소리를 중시하는 우 후보의 소신을 담았고, 군위... ', 'pubDate': 'Thu, 29 Feb 2024 17:24:00 +0900'}, {'title': '부산 남구 (공립)대연푸르지오클라센트어린이집 개원식 개최', 'originallink': 'https://www.busan.com/view/busan/view.php?code=2024022917121110575', 'link': 'https://n.news.naver.com/mnews/article/082/0001258089?sid=102', 'description': '이날 개원식에는 오은택 남구청장을 비롯해 <b>국회의원</b>, 재개발조합장, 어린이집 관계자, 주민 등 50여명이 참석해 어린이집 개원을 축하하였다. 오은택 남구청장은 “저출산이 심각한 요즘 우리 구에서는 아이 기르기 좋은... ', 'pubDate': 'Thu, 29 Feb 2024 17:23:00 +0900'}, {'title': '[총선 릴레이 인터뷰] 유제홍 &quot;18년간 주민접촉 생활편의 개선...텃밭 자신&quot;', 'originallink': 'https://news.ifm.kr/news/articleView.html?idxno=381854', 'link': 'https://news.ifm.kr/news/articleView.html?idxno=381854', 'description': '거기에 또 그런 아쉬움 때문에 이번에 총선에 꼭 나가야 된다라는 그 지역의 열망, 이런 것들이 제가  총선에 출마하게 된 배경이고 또, 또 하나의 생각은 평소에 갖고 있던 생각인데, <b>국회의원</b>이 되는 게 목적일 수 없다.... ', 'pubDate': 'Thu, 29 Feb 2024 17:22:00 +0900'}, {'title': '22대 총선 비례대표 1석 줄어 46명…지역구 254명', 'originallink': 'https://view.asiae.co.kr/article/2024022917220356596', 'link': 'https://n.news.naver.com/mnews/article/277/0005386593?sid=165', 'description': '시·도별 <b>국회의원</b> 정수는 △서울 48석 △부산 18석 △대구 12석 △인천 14석 △광주 8석 △대전 7석 △울산 6석 △세종 2석 △경기 60석 △강원 8석 △충북 8석 △충남 11석 △전북 10석 △전남 10석 △경북 13석 △경남 16석... ', 'pubDate': 'Thu, 29 Feb 2024 17:22:00 +0900'}, {'title': '김병욱-김은혜 맞붙는 분당을, 수도권 최대 격전지되나', 'originallink': 'https://www.ohmynews.com/NWS_Web/View/at_pg.aspx?CNTN_CD=A0003006428&CMPT_CD=P0010&utm_source=naver&utm_medium=newsearch&utm_campaign=naver_news', 'link': 'https://n.news.naver.com/mnews/article/047/0002423998?sid=165', 'description': '이 지역 현역으로 이미 단수공천을 받은 김병욱 더불어민주당 <b>의원</b>은 29일 <b>국회</b>에서 기자회견을 열고 출마 선언을 하며 &quot;국민을 무시하고 정책에 무능한 정부는 국민 삶을 개선시키기 위한 파트너가 아닌 극복해야 할... ', 'pubDate': 'Thu, 29 Feb 2024 17:21:00 +0900'}, {'title': \"'돈봉투 수수' 기소에 허종식 &quot;누군가 도와주기 위한 기소&quot;\", 'originallink': 'https://www.news1.kr/articles/5336833', 'link': 'https://n.news.naver.com/mnews/article/421/0007384025?sid=165', 'description': '허 <b>의원</b>과 임 전 <b>의원</b>은 2021년 4월 송영길 전 민주당 대표 지지 <b>국회의원</b> 모임에서 윤관석 무소속(전 민주당) <b>의원</b>으로부터 300만 원이 든 돈봉투를 1개씩 받은 혐의를 받는다.', 'pubDate': 'Thu, 29 Feb 2024 17:21:00 +0900'}, {'title': '전남 선거구 ‘현행 유지’…농산어촌 선거구 ‘사수’', 'originallink': 'https://view.asiae.co.kr/article/2024022917201041166', 'link': 'https://n.news.naver.com/mnews/article/277/0005386589?sid=165', 'description': '전남·전북 <b>국회의원</b> 공동기자회견과 농성을 주도하며, 전북 선거구 1석을 지켜냈고 지역 간 불균형을 초래하는 전남 선거구를 바로잡았다. 선거구 재협상에 관여한 <b>국회</b> 관계자는 “전남 선거구가 현행대로 유지된 데에... ', 'pubDate': 'Thu, 29 Feb 2024 17:20:00 +0900'}, {'title': '대전 유성구갑 총선 주자 간 때 이른 신경전', 'originallink': 'http://www.goodmorningcc.com/news/articleView.html?idxno=305567', 'link': 'http://www.goodmorningcc.com/news/articleView.html?idxno=305567', 'description': '대전 유성구갑 22대 총선 주자인 더불어민주당 조승래 <b>국회의원</b>(대전유성구갑)과 국민의힘 윤소식 예비후보 간 신경전이 벌써부터 거세지고 있는 모양새다. (자료사진 합성: 왼쪽부터 조승래 <b>국회의원</b>, 윤소식 예비후보... ', 'pubDate': 'Thu, 29 Feb 2024 17:20:00 +0900'}, {'title': \"'부평갑 전략공천' 노종면 후보 &quot;이성만식 단일화는 받아들이기 어려워… 새 ...\", 'originallink': 'http://www.joongboo.com/news/articleView.html?idxno=363638660', 'link': 'http://www.joongboo.com/news/articleView.html?idxno=363638660', 'description': '이는 현역 이성만(무소속·부평구갑) <b>국회의원</b>이 지난 16일 기자회견을 열고 노종면 후보에게 경선 방식의 단일화를 제안한 것에 대한 응답으로 풀이된다. 노 후보는 &quot;이 <b>의원</b>이 제안한 방식은 전통적 방식, 즉 여론조사를... ', 'pubDate': 'Thu, 29 Feb 2024 17:20:00 +0900'}]}\n"
     ]
    }
   ],
   "source": [
    "import requests\n",
    "import urllib.parse\n",
    "import json\n",
    "\n",
    "# 자신의 api 등록 정보\n",
    "client_id = '2nrYBuhn0i7KZUK8WVGg' \n",
    "client_secret = 'ywHF6R3eZW'\n",
    "\n",
    "# 검색할 키워드\n",
    "word = '국회의원'\n",
    "keyword = urllib.parse.quote(word) # 단어를 utf로 변경\n",
    "\n",
    "\n",
    "url = 'https://openapi.naver.com/v1/search/news.json?query={}'.format(keyword)\n",
    "\n",
    "# 네이버 검색 API 호출\n",
    "headers = {\n",
    "    'X-Naver-Client-Id': client_id,\n",
    "    'X-Naver-Client-Secret': client_secret\n",
    "}\n",
    "response = requests.get(url, headers=headers)\n",
    "\n",
    "# API 호출 결과 확인\n",
    "if response.status_code == 200:\n",
    "    data = response.json()\n",
    "    # 데이터 처리 및 원하는 형태로 출력\n",
    "    print(data)\n",
    "else:\n",
    "    print(\"Error:\", response.status_code)"
   ]
  },
  {
   "cell_type": "code",
   "execution_count": null,
   "id": "98e712d7",
   "metadata": {},
   "outputs": [],
   "source": []
  },
  {
   "cell_type": "code",
   "execution_count": null,
   "id": "32e2da69",
   "metadata": {},
   "outputs": [],
   "source": []
  },
  {
   "cell_type": "code",
   "execution_count": null,
   "id": "188f8803",
   "metadata": {},
   "outputs": [],
   "source": []
  },
  {
   "cell_type": "code",
   "execution_count": null,
   "id": "4a57d77b",
   "metadata": {},
   "outputs": [],
   "source": []
  },
  {
   "cell_type": "code",
   "execution_count": null,
   "id": "5aa6bfbf",
   "metadata": {},
   "outputs": [],
   "source": []
  },
  {
   "cell_type": "code",
   "execution_count": null,
   "id": "f87001f2",
   "metadata": {},
   "outputs": [],
   "source": []
  },
  {
   "cell_type": "code",
   "execution_count": null,
   "id": "27b538ce",
   "metadata": {},
   "outputs": [],
   "source": []
  },
  {
   "cell_type": "code",
   "execution_count": null,
   "id": "b167621a",
   "metadata": {},
   "outputs": [],
   "source": []
  },
  {
   "cell_type": "code",
   "execution_count": null,
   "id": "569f68c2",
   "metadata": {},
   "outputs": [],
   "source": []
  },
  {
   "cell_type": "code",
   "execution_count": null,
   "id": "0e942407",
   "metadata": {},
   "outputs": [],
   "source": []
  },
  {
   "cell_type": "code",
   "execution_count": null,
   "id": "41b53765",
   "metadata": {},
   "outputs": [],
   "source": []
  }
 ],
 "metadata": {
  "kernelspec": {
   "display_name": "Python 3 (ipykernel)",
   "language": "python",
   "name": "python3"
  },
  "language_info": {
   "codemirror_mode": {
    "name": "ipython",
    "version": 3
   },
   "file_extension": ".py",
   "mimetype": "text/x-python",
   "name": "python",
   "nbconvert_exporter": "python",
   "pygments_lexer": "ipython3",
   "version": "3.11.5"
  },
  "toc": {
   "base_numbering": 1,
   "nav_menu": {},
   "number_sections": true,
   "sideBar": true,
   "skip_h1_title": false,
   "title_cell": "Table of Contents",
   "title_sidebar": "Contents",
   "toc_cell": false,
   "toc_position": {
    "height": "calc(100% - 180px)",
    "left": "10px",
    "top": "150px",
    "width": "165px"
   },
   "toc_section_display": true,
   "toc_window_display": true
  }
 },
 "nbformat": 4,
 "nbformat_minor": 5
}
