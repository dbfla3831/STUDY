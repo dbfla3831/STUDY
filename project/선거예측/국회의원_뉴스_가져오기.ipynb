{
 "cells": [
  {
   "cell_type": "markdown",
   "id": "fb5c81ea",
   "metadata": {},
   "source": [
    "# 네이버 뉴스 가져오기"
   ]
  },
  {
   "cell_type": "markdown",
   "id": "76911d9e",
   "metadata": {},
   "source": [
    "<br>\n",
    "\n",
    "2020년1월1일 ~ 2020년 4월 14일 데이터 가져오기"
   ]
  },
  {
   "cell_type": "markdown",
   "id": "732dc83a",
   "metadata": {},
   "source": [
    "'기사 더보기' 누르기 전 -> 기사가 몇개 없음\n",
    "\n",
    "=> 동적으로 변경"
   ]
  },
  {
   "cell_type": "markdown",
   "id": "8ce4254e",
   "metadata": {},
   "source": [
    "<br>\n",
    "\n",
    "동적으로 변경"
   ]
  },
  {
   "cell_type": "code",
   "execution_count": 14,
   "id": "097fc273",
   "metadata": {
    "ExecuteTime": {
     "end_time": "2024-03-08T00:04:35.727783Z",
     "start_time": "2024-03-08T00:04:35.722949Z"
    }
   },
   "outputs": [],
   "source": [
    "import urllib.request \n",
    "from bs4 import BeautifulSoup # 특정 웹 페이지의 HTML을 스크랩하여 데이터를 수집할 때 사용\n",
    "import pandas as pd\n",
    "import numpy as np\n",
    "import re\n",
    "\n",
    "from selenium import webdriver\n",
    "from selenium.webdriver.common.by import By\n",
    "from selenium.webdriver.support.ui import WebDriverWait\n",
    "from selenium.webdriver.support import expected_conditions as EC\n",
    "from bs4 import BeautifulSoup\n",
    "import time\n",
    "from tqdm import tqdm\n",
    "\n",
    "from IPython.core.interactiveshell import InteractiveShell\n",
    "InteractiveShell.ast_node_interactivity = 'all'"
   ]
  },
  {
   "cell_type": "code",
   "execution_count": 12,
   "id": "09700b8d",
   "metadata": {
    "ExecuteTime": {
     "end_time": "2024-03-07T01:45:03.853522Z",
     "start_time": "2024-03-07T01:45:03.850589Z"
    }
   },
   "outputs": [],
   "source": [
    "# ! pip install lxml\n",
    "# ! pip install html5lib"
   ]
  },
  {
   "cell_type": "code",
   "execution_count": 5,
   "id": "b63f264d",
   "metadata": {
    "ExecuteTime": {
     "end_time": "2024-03-07T06:39:43.347466Z",
     "start_time": "2024-03-07T06:39:43.344372Z"
    }
   },
   "outputs": [],
   "source": [
    "# 날짜 가져오기\n",
    "# 시작 날짜와 끝 날짜 설정\n",
    "# import datetime\n",
    "# start_date = datetime.date(2020, 1, 1)\n",
    "# end_date = datetime.date(2020, 4, 14)"
   ]
  },
  {
   "cell_type": "code",
   "execution_count": 6,
   "id": "3241d506",
   "metadata": {
    "ExecuteTime": {
     "end_time": "2024-03-07T19:39:05.809183Z",
     "start_time": "2024-03-07T06:39:59.115525Z"
    },
    "scrolled": true
   },
   "outputs": [
    {
     "name": "stdout",
     "output_type": "stream",
     "text": [
      "Message: element not interactable\n",
      "  (Session info: chrome=122.0.6261.112)\n",
      "Stacktrace:\n",
      "\tGetHandleVerifier [0x00007FF6C77EAD22+56930]\n",
      "\t(No symbol) [0x00007FF6C775F622]\n",
      "\t(No symbol) [0x00007FF6C761419D]\n",
      "\t(No symbol) [0x00007FF6C765ACA2]\n",
      "\t(No symbol) [0x00007FF6C764F798]\n",
      "\t(No symbol) [0x00007FF6C767BC9A]\n",
      "\t(No symbol) [0x00007FF6C764F09A]\n",
      "\t(No symbol) [0x00007FF6C767BEB0]\n",
      "\t(No symbol) [0x00007FF6C76981E2]\n",
      "\t(No symbol) [0x00007FF6C767BA43]\n",
      "\t(No symbol) [0x00007FF6C764D438]\n",
      "\t(No symbol) [0x00007FF6C764E4D1]\n",
      "\tGetHandleVerifier [0x00007FF6C7B66AAD+3709933]\n",
      "\tGetHandleVerifier [0x00007FF6C7BBFFED+4075821]\n",
      "\tGetHandleVerifier [0x00007FF6C7BB817F+4043455]\n",
      "\tGetHandleVerifier [0x00007FF6C7889756+706710]\n",
      "\t(No symbol) [0x00007FF6C776B8FF]\n",
      "\t(No symbol) [0x00007FF6C7766AE4]\n",
      "\t(No symbol) [0x00007FF6C7766C3C]\n",
      "\t(No symbol) [0x00007FF6C77568F4]\n",
      "\tBaseThreadInitThunk [0x00007FFC4A7B257D+29]\n",
      "\tRtlUserThreadStart [0x00007FFC4B6EAA58+40]\n",
      "\n"
     ]
    },
    {
     "name": "stderr",
     "output_type": "stream",
     "text": [
      "107it [01:05,  1.62it/s]\n"
     ]
    },
    {
     "name": "stdout",
     "output_type": "stream",
     "text": [
      "Message: element not interactable\n",
      "  (Session info: chrome=122.0.6261.112)\n",
      "Stacktrace:\n",
      "\tGetHandleVerifier [0x00007FF6C77EAD22+56930]\n",
      "\t(No symbol) [0x00007FF6C775F622]\n",
      "\t(No symbol) [0x00007FF6C761419D]\n",
      "\t(No symbol) [0x00007FF6C765ACA2]\n",
      "\t(No symbol) [0x00007FF6C764F798]\n",
      "\t(No symbol) [0x00007FF6C767BC9A]\n",
      "\t(No symbol) [0x00007FF6C764F09A]\n",
      "\t(No symbol) [0x00007FF6C767BEB0]\n",
      "\t(No symbol) [0x00007FF6C76981E2]\n",
      "\t(No symbol) [0x00007FF6C767BA43]\n",
      "\t(No symbol) [0x00007FF6C764D438]\n",
      "\t(No symbol) [0x00007FF6C764E4D1]\n",
      "\tGetHandleVerifier [0x00007FF6C7B66AAD+3709933]\n",
      "\tGetHandleVerifier [0x00007FF6C7BBFFED+4075821]\n",
      "\tGetHandleVerifier [0x00007FF6C7BB817F+4043455]\n",
      "\tGetHandleVerifier [0x00007FF6C7889756+706710]\n",
      "\t(No symbol) [0x00007FF6C776B8FF]\n",
      "\t(No symbol) [0x00007FF6C7766AE4]\n",
      "\t(No symbol) [0x00007FF6C7766C3C]\n",
      "\t(No symbol) [0x00007FF6C77568F4]\n",
      "\tBaseThreadInitThunk [0x00007FFC4A7B257D+29]\n",
      "\tRtlUserThreadStart [0x00007FFC4B6EAA58+40]\n",
      "\n"
     ]
    },
    {
     "name": "stderr",
     "output_type": "stream",
     "text": [
      "475it [05:04,  1.56it/s]\n"
     ]
    },
    {
     "name": "stdout",
     "output_type": "stream",
     "text": [
      "Message: element not interactable\n",
      "  (Session info: chrome=122.0.6261.112)\n",
      "Stacktrace:\n",
      "\tGetHandleVerifier [0x00007FF6C77EAD22+56930]\n",
      "\t(No symbol) [0x00007FF6C775F622]\n",
      "\t(No symbol) [0x00007FF6C761419D]\n",
      "\t(No symbol) [0x00007FF6C765ACA2]\n",
      "\t(No symbol) [0x00007FF6C764F798]\n",
      "\t(No symbol) [0x00007FF6C767BC9A]\n",
      "\t(No symbol) [0x00007FF6C764F09A]\n",
      "\t(No symbol) [0x00007FF6C767BEB0]\n",
      "\t(No symbol) [0x00007FF6C76981E2]\n",
      "\t(No symbol) [0x00007FF6C767BA43]\n",
      "\t(No symbol) [0x00007FF6C764D438]\n",
      "\t(No symbol) [0x00007FF6C764E4D1]\n",
      "\tGetHandleVerifier [0x00007FF6C7B66AAD+3709933]\n",
      "\tGetHandleVerifier [0x00007FF6C7BBFFED+4075821]\n",
      "\tGetHandleVerifier [0x00007FF6C7BB817F+4043455]\n",
      "\tGetHandleVerifier [0x00007FF6C7889756+706710]\n",
      "\t(No symbol) [0x00007FF6C776B8FF]\n",
      "\t(No symbol) [0x00007FF6C7766AE4]\n",
      "\t(No symbol) [0x00007FF6C7766C3C]\n",
      "\t(No symbol) [0x00007FF6C77568F4]\n",
      "\tBaseThreadInitThunk [0x00007FFC4A7B257D+29]\n",
      "\tRtlUserThreadStart [0x00007FFC4B6EAA58+40]\n",
      "\n"
     ]
    },
    {
     "name": "stderr",
     "output_type": "stream",
     "text": [
      "876it [08:09,  1.79it/s]\n"
     ]
    },
    {
     "name": "stdout",
     "output_type": "stream",
     "text": [
      "Message: element not interactable\n",
      "  (Session info: chrome=122.0.6261.112)\n",
      "Stacktrace:\n",
      "\tGetHandleVerifier [0x00007FF6C77EAD22+56930]\n",
      "\t(No symbol) [0x00007FF6C775F622]\n",
      "\t(No symbol) [0x00007FF6C761419D]\n",
      "\t(No symbol) [0x00007FF6C765ACA2]\n",
      "\t(No symbol) [0x00007FF6C764F798]\n",
      "\t(No symbol) [0x00007FF6C767BC9A]\n",
      "\t(No symbol) [0x00007FF6C764F09A]\n",
      "\t(No symbol) [0x00007FF6C767BEB0]\n",
      "\t(No symbol) [0x00007FF6C76981E2]\n",
      "\t(No symbol) [0x00007FF6C767BA43]\n",
      "\t(No symbol) [0x00007FF6C764D438]\n",
      "\t(No symbol) [0x00007FF6C764E4D1]\n",
      "\tGetHandleVerifier [0x00007FF6C7B66AAD+3709933]\n",
      "\tGetHandleVerifier [0x00007FF6C7BBFFED+4075821]\n",
      "\tGetHandleVerifier [0x00007FF6C7BB817F+4043455]\n",
      "\tGetHandleVerifier [0x00007FF6C7889756+706710]\n",
      "\t(No symbol) [0x00007FF6C776B8FF]\n",
      "\t(No symbol) [0x00007FF6C7766AE4]\n",
      "\t(No symbol) [0x00007FF6C7766C3C]\n",
      "\t(No symbol) [0x00007FF6C77568F4]\n",
      "\tBaseThreadInitThunk [0x00007FFC4A7B257D+29]\n",
      "\tRtlUserThreadStart [0x00007FFC4B6EAA58+40]\n",
      "\n"
     ]
    },
    {
     "name": "stderr",
     "output_type": "stream",
     "text": [
      "1067it [09:48,  1.81it/s]\n"
     ]
    },
    {
     "name": "stdout",
     "output_type": "stream",
     "text": [
      "Message: element not interactable\n",
      "  (Session info: chrome=122.0.6261.112)\n",
      "Stacktrace:\n",
      "\tGetHandleVerifier [0x00007FF6C77EAD22+56930]\n",
      "\t(No symbol) [0x00007FF6C775F622]\n",
      "\t(No symbol) [0x00007FF6C761419D]\n",
      "\t(No symbol) [0x00007FF6C765ACA2]\n",
      "\t(No symbol) [0x00007FF6C764F798]\n",
      "\t(No symbol) [0x00007FF6C767BC9A]\n",
      "\t(No symbol) [0x00007FF6C764F09A]\n",
      "\t(No symbol) [0x00007FF6C767BEB0]\n",
      "\t(No symbol) [0x00007FF6C76981E2]\n",
      "\t(No symbol) [0x00007FF6C767BA43]\n",
      "\t(No symbol) [0x00007FF6C764D438]\n",
      "\t(No symbol) [0x00007FF6C764E4D1]\n",
      "\tGetHandleVerifier [0x00007FF6C7B66AAD+3709933]\n",
      "\tGetHandleVerifier [0x00007FF6C7BBFFED+4075821]\n",
      "\tGetHandleVerifier [0x00007FF6C7BB817F+4043455]\n",
      "\tGetHandleVerifier [0x00007FF6C7889756+706710]\n",
      "\t(No symbol) [0x00007FF6C776B8FF]\n",
      "\t(No symbol) [0x00007FF6C7766AE4]\n",
      "\t(No symbol) [0x00007FF6C7766C3C]\n",
      "\t(No symbol) [0x00007FF6C77568F4]\n",
      "\tBaseThreadInitThunk [0x00007FFC4A7B257D+29]\n",
      "\tRtlUserThreadStart [0x00007FFC4B6EAA58+40]\n",
      "\n"
     ]
    },
    {
     "name": "stderr",
     "output_type": "stream",
     "text": [
      "1086it [09:55,  1.83it/s]\n"
     ]
    },
    {
     "name": "stdout",
     "output_type": "stream",
     "text": [
      "Message: element not interactable\n",
      "  (Session info: chrome=122.0.6261.112)\n",
      "Stacktrace:\n",
      "\tGetHandleVerifier [0x00007FF6C77EAD22+56930]\n",
      "\t(No symbol) [0x00007FF6C775F622]\n",
      "\t(No symbol) [0x00007FF6C761419D]\n",
      "\t(No symbol) [0x00007FF6C765ACA2]\n",
      "\t(No symbol) [0x00007FF6C764F798]\n",
      "\t(No symbol) [0x00007FF6C767BC9A]\n",
      "\t(No symbol) [0x00007FF6C764F09A]\n",
      "\t(No symbol) [0x00007FF6C767BEB0]\n",
      "\t(No symbol) [0x00007FF6C76981E2]\n",
      "\t(No symbol) [0x00007FF6C767BA43]\n",
      "\t(No symbol) [0x00007FF6C764D438]\n",
      "\t(No symbol) [0x00007FF6C764E4D1]\n",
      "\tGetHandleVerifier [0x00007FF6C7B66AAD+3709933]\n",
      "\tGetHandleVerifier [0x00007FF6C7BBFFED+4075821]\n",
      "\tGetHandleVerifier [0x00007FF6C7BB817F+4043455]\n",
      "\tGetHandleVerifier [0x00007FF6C7889756+706710]\n",
      "\t(No symbol) [0x00007FF6C776B8FF]\n",
      "\t(No symbol) [0x00007FF6C7766AE4]\n",
      "\t(No symbol) [0x00007FF6C7766C3C]\n",
      "\t(No symbol) [0x00007FF6C77568F4]\n",
      "\tBaseThreadInitThunk [0x00007FFC4A7B257D+29]\n",
      "\tRtlUserThreadStart [0x00007FFC4B6EAA58+40]\n",
      "\n"
     ]
    },
    {
     "name": "stderr",
     "output_type": "stream",
     "text": [
      "1117it [10:21,  1.80it/s]\n"
     ]
    },
    {
     "name": "stdout",
     "output_type": "stream",
     "text": [
      "Message: element not interactable\n",
      "  (Session info: chrome=122.0.6261.112)\n",
      "Stacktrace:\n",
      "\tGetHandleVerifier [0x00007FF6C77EAD22+56930]\n",
      "\t(No symbol) [0x00007FF6C775F622]\n",
      "\t(No symbol) [0x00007FF6C761419D]\n",
      "\t(No symbol) [0x00007FF6C765ACA2]\n",
      "\t(No symbol) [0x00007FF6C764F798]\n",
      "\t(No symbol) [0x00007FF6C767BC9A]\n",
      "\t(No symbol) [0x00007FF6C764F09A]\n",
      "\t(No symbol) [0x00007FF6C767BEB0]\n",
      "\t(No symbol) [0x00007FF6C76981E2]\n",
      "\t(No symbol) [0x00007FF6C767BA43]\n",
      "\t(No symbol) [0x00007FF6C764D438]\n",
      "\t(No symbol) [0x00007FF6C764E4D1]\n",
      "\tGetHandleVerifier [0x00007FF6C7B66AAD+3709933]\n",
      "\tGetHandleVerifier [0x00007FF6C7BBFFED+4075821]\n",
      "\tGetHandleVerifier [0x00007FF6C7BB817F+4043455]\n",
      "\tGetHandleVerifier [0x00007FF6C7889756+706710]\n",
      "\t(No symbol) [0x00007FF6C776B8FF]\n",
      "\t(No symbol) [0x00007FF6C7766AE4]\n",
      "\t(No symbol) [0x00007FF6C7766C3C]\n",
      "\t(No symbol) [0x00007FF6C77568F4]\n",
      "\tBaseThreadInitThunk [0x00007FFC4A7B257D+29]\n",
      "\tRtlUserThreadStart [0x00007FFC4B6EAA58+40]\n",
      "\n"
     ]
    },
    {
     "name": "stderr",
     "output_type": "stream",
     "text": [
      "745it [06:40,  1.86it/s]\n"
     ]
    },
    {
     "name": "stdout",
     "output_type": "stream",
     "text": [
      "Message: element not interactable\n",
      "  (Session info: chrome=122.0.6261.112)\n",
      "Stacktrace:\n",
      "\tGetHandleVerifier [0x00007FF6C77EAD22+56930]\n",
      "\t(No symbol) [0x00007FF6C775F622]\n",
      "\t(No symbol) [0x00007FF6C761419D]\n",
      "\t(No symbol) [0x00007FF6C765ACA2]\n",
      "\t(No symbol) [0x00007FF6C764F798]\n",
      "\t(No symbol) [0x00007FF6C767BC9A]\n",
      "\t(No symbol) [0x00007FF6C764F09A]\n",
      "\t(No symbol) [0x00007FF6C767BEB0]\n",
      "\t(No symbol) [0x00007FF6C76981E2]\n",
      "\t(No symbol) [0x00007FF6C767BA43]\n",
      "\t(No symbol) [0x00007FF6C764D438]\n",
      "\t(No symbol) [0x00007FF6C764E4D1]\n",
      "\tGetHandleVerifier [0x00007FF6C7B66AAD+3709933]\n",
      "\tGetHandleVerifier [0x00007FF6C7BBFFED+4075821]\n",
      "\tGetHandleVerifier [0x00007FF6C7BB817F+4043455]\n",
      "\tGetHandleVerifier [0x00007FF6C7889756+706710]\n",
      "\t(No symbol) [0x00007FF6C776B8FF]\n",
      "\t(No symbol) [0x00007FF6C7766AE4]\n",
      "\t(No symbol) [0x00007FF6C7766C3C]\n",
      "\t(No symbol) [0x00007FF6C77568F4]\n",
      "\tBaseThreadInitThunk [0x00007FFC4A7B257D+29]\n",
      "\tRtlUserThreadStart [0x00007FFC4B6EAA58+40]\n",
      "\n"
     ]
    },
    {
     "name": "stderr",
     "output_type": "stream",
     "text": [
      "105it [00:54,  1.93it/s]\n"
     ]
    },
    {
     "name": "stdout",
     "output_type": "stream",
     "text": [
      "Message: element not interactable\n",
      "  (Session info: chrome=122.0.6261.112)\n",
      "Stacktrace:\n",
      "\tGetHandleVerifier [0x00007FF6C77EAD22+56930]\n",
      "\t(No symbol) [0x00007FF6C775F622]\n",
      "\t(No symbol) [0x00007FF6C761419D]\n",
      "\t(No symbol) [0x00007FF6C765ACA2]\n",
      "\t(No symbol) [0x00007FF6C764F798]\n",
      "\t(No symbol) [0x00007FF6C767BC9A]\n",
      "\t(No symbol) [0x00007FF6C764F09A]\n",
      "\t(No symbol) [0x00007FF6C767BEB0]\n",
      "\t(No symbol) [0x00007FF6C76981E2]\n",
      "\t(No symbol) [0x00007FF6C767BA43]\n",
      "\t(No symbol) [0x00007FF6C764D438]\n",
      "\t(No symbol) [0x00007FF6C764E4D1]\n",
      "\tGetHandleVerifier [0x00007FF6C7B66AAD+3709933]\n",
      "\tGetHandleVerifier [0x00007FF6C7BBFFED+4075821]\n",
      "\tGetHandleVerifier [0x00007FF6C7BB817F+4043455]\n",
      "\tGetHandleVerifier [0x00007FF6C7889756+706710]\n",
      "\t(No symbol) [0x00007FF6C776B8FF]\n",
      "\t(No symbol) [0x00007FF6C7766AE4]\n",
      "\t(No symbol) [0x00007FF6C7766C3C]\n",
      "\t(No symbol) [0x00007FF6C77568F4]\n",
      "\tBaseThreadInitThunk [0x00007FFC4A7B257D+29]\n",
      "\tRtlUserThreadStart [0x00007FFC4B6EAA58+40]\n",
      "\n"
     ]
    },
    {
     "name": "stderr",
     "output_type": "stream",
     "text": [
      "756it [07:09,  1.76it/s]\n"
     ]
    },
    {
     "name": "stdout",
     "output_type": "stream",
     "text": [
      "Message: element not interactable\n",
      "  (Session info: chrome=122.0.6261.112)\n",
      "Stacktrace:\n",
      "\tGetHandleVerifier [0x00007FF6C77EAD22+56930]\n",
      "\t(No symbol) [0x00007FF6C775F622]\n",
      "\t(No symbol) [0x00007FF6C761419D]\n",
      "\t(No symbol) [0x00007FF6C765ACA2]\n",
      "\t(No symbol) [0x00007FF6C764F798]\n",
      "\t(No symbol) [0x00007FF6C767BC9A]\n",
      "\t(No symbol) [0x00007FF6C764F09A]\n",
      "\t(No symbol) [0x00007FF6C767BEB0]\n",
      "\t(No symbol) [0x00007FF6C76981E2]\n",
      "\t(No symbol) [0x00007FF6C767BA43]\n",
      "\t(No symbol) [0x00007FF6C764D438]\n",
      "\t(No symbol) [0x00007FF6C764E4D1]\n",
      "\tGetHandleVerifier [0x00007FF6C7B66AAD+3709933]\n",
      "\tGetHandleVerifier [0x00007FF6C7BBFFED+4075821]\n",
      "\tGetHandleVerifier [0x00007FF6C7BB817F+4043455]\n",
      "\tGetHandleVerifier [0x00007FF6C7889756+706710]\n",
      "\t(No symbol) [0x00007FF6C776B8FF]\n",
      "\t(No symbol) [0x00007FF6C7766AE4]\n",
      "\t(No symbol) [0x00007FF6C7766C3C]\n",
      "\t(No symbol) [0x00007FF6C77568F4]\n",
      "\tBaseThreadInitThunk [0x00007FFC4A7B257D+29]\n",
      "\tRtlUserThreadStart [0x00007FFC4B6EAA58+40]\n",
      "\n"
     ]
    },
    {
     "name": "stderr",
     "output_type": "stream",
     "text": [
      "1050it [09:58,  1.75it/s]\n"
     ]
    },
    {
     "name": "stdout",
     "output_type": "stream",
     "text": [
      "Message: element not interactable\n",
      "  (Session info: chrome=122.0.6261.112)\n",
      "Stacktrace:\n",
      "\tGetHandleVerifier [0x00007FF6C77EAD22+56930]\n",
      "\t(No symbol) [0x00007FF6C775F622]\n",
      "\t(No symbol) [0x00007FF6C761419D]\n",
      "\t(No symbol) [0x00007FF6C765ACA2]\n",
      "\t(No symbol) [0x00007FF6C764F798]\n",
      "\t(No symbol) [0x00007FF6C767BC9A]\n",
      "\t(No symbol) [0x00007FF6C764F09A]\n",
      "\t(No symbol) [0x00007FF6C767BEB0]\n",
      "\t(No symbol) [0x00007FF6C76981E2]\n",
      "\t(No symbol) [0x00007FF6C767BA43]\n",
      "\t(No symbol) [0x00007FF6C764D438]\n",
      "\t(No symbol) [0x00007FF6C764E4D1]\n",
      "\tGetHandleVerifier [0x00007FF6C7B66AAD+3709933]\n",
      "\tGetHandleVerifier [0x00007FF6C7BBFFED+4075821]\n",
      "\tGetHandleVerifier [0x00007FF6C7BB817F+4043455]\n",
      "\tGetHandleVerifier [0x00007FF6C7889756+706710]\n",
      "\t(No symbol) [0x00007FF6C776B8FF]\n",
      "\t(No symbol) [0x00007FF6C7766AE4]\n",
      "\t(No symbol) [0x00007FF6C7766C3C]\n",
      "\t(No symbol) [0x00007FF6C77568F4]\n",
      "\tBaseThreadInitThunk [0x00007FFC4A7B257D+29]\n",
      "\tRtlUserThreadStart [0x00007FFC4B6EAA58+40]\n",
      "\n"
     ]
    },
    {
     "name": "stderr",
     "output_type": "stream",
     "text": [
      "1118it [10:35,  1.76it/s]\n"
     ]
    },
    {
     "name": "stdout",
     "output_type": "stream",
     "text": [
      "Message: element not interactable\n",
      "  (Session info: chrome=122.0.6261.112)\n",
      "Stacktrace:\n",
      "\tGetHandleVerifier [0x00007FF6C77EAD22+56930]\n",
      "\t(No symbol) [0x00007FF6C775F622]\n",
      "\t(No symbol) [0x00007FF6C761419D]\n",
      "\t(No symbol) [0x00007FF6C765ACA2]\n",
      "\t(No symbol) [0x00007FF6C764F798]\n",
      "\t(No symbol) [0x00007FF6C767BC9A]\n",
      "\t(No symbol) [0x00007FF6C764F09A]\n",
      "\t(No symbol) [0x00007FF6C767BEB0]\n",
      "\t(No symbol) [0x00007FF6C76981E2]\n",
      "\t(No symbol) [0x00007FF6C767BA43]\n",
      "\t(No symbol) [0x00007FF6C764D438]\n",
      "\t(No symbol) [0x00007FF6C764E4D1]\n",
      "\tGetHandleVerifier [0x00007FF6C7B66AAD+3709933]\n",
      "\tGetHandleVerifier [0x00007FF6C7BBFFED+4075821]\n",
      "\tGetHandleVerifier [0x00007FF6C7BB817F+4043455]\n",
      "\tGetHandleVerifier [0x00007FF6C7889756+706710]\n",
      "\t(No symbol) [0x00007FF6C776B8FF]\n",
      "\t(No symbol) [0x00007FF6C7766AE4]\n",
      "\t(No symbol) [0x00007FF6C7766C3C]\n",
      "\t(No symbol) [0x00007FF6C77568F4]\n",
      "\tBaseThreadInitThunk [0x00007FFC4A7B257D+29]\n",
      "\tRtlUserThreadStart [0x00007FFC4B6EAA58+40]\n",
      "\n"
     ]
    },
    {
     "name": "stderr",
     "output_type": "stream",
     "text": [
      "945it [08:58,  1.75it/s]\n"
     ]
    },
    {
     "name": "stdout",
     "output_type": "stream",
     "text": [
      "Message: element not interactable\n",
      "  (Session info: chrome=122.0.6261.112)\n",
      "Stacktrace:\n",
      "\tGetHandleVerifier [0x00007FF6C77EAD22+56930]\n",
      "\t(No symbol) [0x00007FF6C775F622]\n",
      "\t(No symbol) [0x00007FF6C761419D]\n",
      "\t(No symbol) [0x00007FF6C765ACA2]\n",
      "\t(No symbol) [0x00007FF6C764F798]\n",
      "\t(No symbol) [0x00007FF6C767BC9A]\n",
      "\t(No symbol) [0x00007FF6C764F09A]\n",
      "\t(No symbol) [0x00007FF6C767BEB0]\n",
      "\t(No symbol) [0x00007FF6C76981E2]\n",
      "\t(No symbol) [0x00007FF6C767BA43]\n",
      "\t(No symbol) [0x00007FF6C764D438]\n",
      "\t(No symbol) [0x00007FF6C764E4D1]\n",
      "\tGetHandleVerifier [0x00007FF6C7B66AAD+3709933]\n",
      "\tGetHandleVerifier [0x00007FF6C7BBFFED+4075821]\n",
      "\tGetHandleVerifier [0x00007FF6C7BB817F+4043455]\n",
      "\tGetHandleVerifier [0x00007FF6C7889756+706710]\n",
      "\t(No symbol) [0x00007FF6C776B8FF]\n",
      "\t(No symbol) [0x00007FF6C7766AE4]\n",
      "\t(No symbol) [0x00007FF6C7766C3C]\n",
      "\t(No symbol) [0x00007FF6C77568F4]\n",
      "\tBaseThreadInitThunk [0x00007FFC4A7B257D+29]\n",
      "\tRtlUserThreadStart [0x00007FFC4B6EAA58+40]\n",
      "\n"
     ]
    },
    {
     "name": "stderr",
     "output_type": "stream",
     "text": [
      "1302it [12:28,  1.74it/s]\n"
     ]
    },
    {
     "name": "stdout",
     "output_type": "stream",
     "text": [
      "Message: element not interactable\n",
      "  (Session info: chrome=122.0.6261.112)\n",
      "Stacktrace:\n",
      "\tGetHandleVerifier [0x00007FF6C77EAD22+56930]\n",
      "\t(No symbol) [0x00007FF6C775F622]\n",
      "\t(No symbol) [0x00007FF6C761419D]\n",
      "\t(No symbol) [0x00007FF6C765ACA2]\n",
      "\t(No symbol) [0x00007FF6C764F798]\n",
      "\t(No symbol) [0x00007FF6C767BC9A]\n",
      "\t(No symbol) [0x00007FF6C764F09A]\n",
      "\t(No symbol) [0x00007FF6C767BEB0]\n",
      "\t(No symbol) [0x00007FF6C76981E2]\n",
      "\t(No symbol) [0x00007FF6C767BA43]\n",
      "\t(No symbol) [0x00007FF6C764D438]\n",
      "\t(No symbol) [0x00007FF6C764E4D1]\n",
      "\tGetHandleVerifier [0x00007FF6C7B66AAD+3709933]\n",
      "\tGetHandleVerifier [0x00007FF6C7BBFFED+4075821]\n",
      "\tGetHandleVerifier [0x00007FF6C7BB817F+4043455]\n",
      "\tGetHandleVerifier [0x00007FF6C7889756+706710]\n",
      "\t(No symbol) [0x00007FF6C776B8FF]\n",
      "\t(No symbol) [0x00007FF6C7766AE4]\n",
      "\t(No symbol) [0x00007FF6C7766C3C]\n",
      "\t(No symbol) [0x00007FF6C77568F4]\n",
      "\tBaseThreadInitThunk [0x00007FFC4A7B257D+29]\n",
      "\tRtlUserThreadStart [0x00007FFC4B6EAA58+40]\n",
      "\n"
     ]
    },
    {
     "name": "stderr",
     "output_type": "stream",
     "text": [
      "726it [07:09,  1.69it/s]\n"
     ]
    },
    {
     "name": "stdout",
     "output_type": "stream",
     "text": [
      "Message: element not interactable\n",
      "  (Session info: chrome=122.0.6261.112)\n",
      "Stacktrace:\n",
      "\tGetHandleVerifier [0x00007FF6C77EAD22+56930]\n",
      "\t(No symbol) [0x00007FF6C775F622]\n",
      "\t(No symbol) [0x00007FF6C761419D]\n",
      "\t(No symbol) [0x00007FF6C765ACA2]\n",
      "\t(No symbol) [0x00007FF6C764F798]\n",
      "\t(No symbol) [0x00007FF6C767BC9A]\n",
      "\t(No symbol) [0x00007FF6C764F09A]\n",
      "\t(No symbol) [0x00007FF6C767BEB0]\n",
      "\t(No symbol) [0x00007FF6C76981E2]\n",
      "\t(No symbol) [0x00007FF6C767BA43]\n",
      "\t(No symbol) [0x00007FF6C764D438]\n",
      "\t(No symbol) [0x00007FF6C764E4D1]\n",
      "\tGetHandleVerifier [0x00007FF6C7B66AAD+3709933]\n",
      "\tGetHandleVerifier [0x00007FF6C7BBFFED+4075821]\n",
      "\tGetHandleVerifier [0x00007FF6C7BB817F+4043455]\n",
      "\tGetHandleVerifier [0x00007FF6C7889756+706710]\n",
      "\t(No symbol) [0x00007FF6C776B8FF]\n",
      "\t(No symbol) [0x00007FF6C7766AE4]\n",
      "\t(No symbol) [0x00007FF6C7766C3C]\n",
      "\t(No symbol) [0x00007FF6C77568F4]\n",
      "\tBaseThreadInitThunk [0x00007FFC4A7B257D+29]\n",
      "\tRtlUserThreadStart [0x00007FFC4B6EAA58+40]\n",
      "\n"
     ]
    },
    {
     "name": "stderr",
     "output_type": "stream",
     "text": [
      "214it [02:03,  1.74it/s]\n"
     ]
    },
    {
     "name": "stdout",
     "output_type": "stream",
     "text": [
      "Message: element not interactable\n",
      "  (Session info: chrome=122.0.6261.112)\n",
      "Stacktrace:\n",
      "\tGetHandleVerifier [0x00007FF6C77EAD22+56930]\n",
      "\t(No symbol) [0x00007FF6C775F622]\n",
      "\t(No symbol) [0x00007FF6C761419D]\n",
      "\t(No symbol) [0x00007FF6C765ACA2]\n",
      "\t(No symbol) [0x00007FF6C764F798]\n",
      "\t(No symbol) [0x00007FF6C767BC9A]\n",
      "\t(No symbol) [0x00007FF6C764F09A]\n",
      "\t(No symbol) [0x00007FF6C767BEB0]\n",
      "\t(No symbol) [0x00007FF6C76981E2]\n",
      "\t(No symbol) [0x00007FF6C767BA43]\n",
      "\t(No symbol) [0x00007FF6C764D438]\n",
      "\t(No symbol) [0x00007FF6C764E4D1]\n",
      "\tGetHandleVerifier [0x00007FF6C7B66AAD+3709933]\n",
      "\tGetHandleVerifier [0x00007FF6C7BBFFED+4075821]\n",
      "\tGetHandleVerifier [0x00007FF6C7BB817F+4043455]\n",
      "\tGetHandleVerifier [0x00007FF6C7889756+706710]\n",
      "\t(No symbol) [0x00007FF6C776B8FF]\n",
      "\t(No symbol) [0x00007FF6C7766AE4]\n",
      "\t(No symbol) [0x00007FF6C7766C3C]\n",
      "\t(No symbol) [0x00007FF6C77568F4]\n",
      "\tBaseThreadInitThunk [0x00007FFC4A7B257D+29]\n",
      "\tRtlUserThreadStart [0x00007FFC4B6EAA58+40]\n",
      "\n"
     ]
    },
    {
     "name": "stderr",
     "output_type": "stream",
     "text": [
      "504it [04:42,  1.78it/s]\n"
     ]
    },
    {
     "name": "stdout",
     "output_type": "stream",
     "text": [
      "Message: element not interactable\n",
      "  (Session info: chrome=122.0.6261.112)\n",
      "Stacktrace:\n",
      "\tGetHandleVerifier [0x00007FF6C77EAD22+56930]\n",
      "\t(No symbol) [0x00007FF6C775F622]\n",
      "\t(No symbol) [0x00007FF6C761419D]\n",
      "\t(No symbol) [0x00007FF6C765ACA2]\n",
      "\t(No symbol) [0x00007FF6C764F798]\n",
      "\t(No symbol) [0x00007FF6C767BC9A]\n",
      "\t(No symbol) [0x00007FF6C764F09A]\n",
      "\t(No symbol) [0x00007FF6C767BEB0]\n",
      "\t(No symbol) [0x00007FF6C76981E2]\n",
      "\t(No symbol) [0x00007FF6C767BA43]\n",
      "\t(No symbol) [0x00007FF6C764D438]\n",
      "\t(No symbol) [0x00007FF6C764E4D1]\n",
      "\tGetHandleVerifier [0x00007FF6C7B66AAD+3709933]\n",
      "\tGetHandleVerifier [0x00007FF6C7BBFFED+4075821]\n",
      "\tGetHandleVerifier [0x00007FF6C7BB817F+4043455]\n",
      "\tGetHandleVerifier [0x00007FF6C7889756+706710]\n",
      "\t(No symbol) [0x00007FF6C776B8FF]\n",
      "\t(No symbol) [0x00007FF6C7766AE4]\n",
      "\t(No symbol) [0x00007FF6C7766C3C]\n",
      "\t(No symbol) [0x00007FF6C77568F4]\n",
      "\tBaseThreadInitThunk [0x00007FFC4A7B257D+29]\n",
      "\tRtlUserThreadStart [0x00007FFC4B6EAA58+40]\n",
      "\n"
     ]
    },
    {
     "name": "stderr",
     "output_type": "stream",
     "text": [
      "1325it [12:23,  1.78it/s]\n"
     ]
    },
    {
     "name": "stdout",
     "output_type": "stream",
     "text": [
      "Message: element not interactable\n",
      "  (Session info: chrome=122.0.6261.112)\n",
      "Stacktrace:\n",
      "\tGetHandleVerifier [0x00007FF6C77EAD22+56930]\n",
      "\t(No symbol) [0x00007FF6C775F622]\n",
      "\t(No symbol) [0x00007FF6C761419D]\n",
      "\t(No symbol) [0x00007FF6C765ACA2]\n",
      "\t(No symbol) [0x00007FF6C764F798]\n",
      "\t(No symbol) [0x00007FF6C767BC9A]\n",
      "\t(No symbol) [0x00007FF6C764F09A]\n",
      "\t(No symbol) [0x00007FF6C767BEB0]\n",
      "\t(No symbol) [0x00007FF6C76981E2]\n",
      "\t(No symbol) [0x00007FF6C767BA43]\n",
      "\t(No symbol) [0x00007FF6C764D438]\n",
      "\t(No symbol) [0x00007FF6C764E4D1]\n",
      "\tGetHandleVerifier [0x00007FF6C7B66AAD+3709933]\n",
      "\tGetHandleVerifier [0x00007FF6C7BBFFED+4075821]\n",
      "\tGetHandleVerifier [0x00007FF6C7BB817F+4043455]\n",
      "\tGetHandleVerifier [0x00007FF6C7889756+706710]\n",
      "\t(No symbol) [0x00007FF6C776B8FF]\n",
      "\t(No symbol) [0x00007FF6C7766AE4]\n",
      "\t(No symbol) [0x00007FF6C7766C3C]\n",
      "\t(No symbol) [0x00007FF6C77568F4]\n",
      "\tBaseThreadInitThunk [0x00007FFC4A7B257D+29]\n",
      "\tRtlUserThreadStart [0x00007FFC4B6EAA58+40]\n",
      "\n"
     ]
    },
    {
     "name": "stderr",
     "output_type": "stream",
     "text": [
      "1373it [13:01,  1.76it/s]\n"
     ]
    },
    {
     "name": "stdout",
     "output_type": "stream",
     "text": [
      "Message: element not interactable\n",
      "  (Session info: chrome=122.0.6261.112)\n",
      "Stacktrace:\n",
      "\tGetHandleVerifier [0x00007FF6C77EAD22+56930]\n",
      "\t(No symbol) [0x00007FF6C775F622]\n",
      "\t(No symbol) [0x00007FF6C761419D]\n",
      "\t(No symbol) [0x00007FF6C765ACA2]\n",
      "\t(No symbol) [0x00007FF6C764F798]\n",
      "\t(No symbol) [0x00007FF6C767BC9A]\n",
      "\t(No symbol) [0x00007FF6C764F09A]\n",
      "\t(No symbol) [0x00007FF6C767BEB0]\n",
      "\t(No symbol) [0x00007FF6C76981E2]\n",
      "\t(No symbol) [0x00007FF6C767BA43]\n",
      "\t(No symbol) [0x00007FF6C764D438]\n",
      "\t(No symbol) [0x00007FF6C764E4D1]\n",
      "\tGetHandleVerifier [0x00007FF6C7B66AAD+3709933]\n",
      "\tGetHandleVerifier [0x00007FF6C7BBFFED+4075821]\n",
      "\tGetHandleVerifier [0x00007FF6C7BB817F+4043455]\n",
      "\tGetHandleVerifier [0x00007FF6C7889756+706710]\n",
      "\t(No symbol) [0x00007FF6C776B8FF]\n",
      "\t(No symbol) [0x00007FF6C7766AE4]\n",
      "\t(No symbol) [0x00007FF6C7766C3C]\n",
      "\t(No symbol) [0x00007FF6C77568F4]\n",
      "\tBaseThreadInitThunk [0x00007FFC4A7B257D+29]\n",
      "\tRtlUserThreadStart [0x00007FFC4B6EAA58+40]\n",
      "\n"
     ]
    },
    {
     "name": "stderr",
     "output_type": "stream",
     "text": [
      "1314it [12:20,  1.77it/s]\n"
     ]
    },
    {
     "name": "stdout",
     "output_type": "stream",
     "text": [
      "Message: element not interactable\n",
      "  (Session info: chrome=122.0.6261.112)\n",
      "Stacktrace:\n",
      "\tGetHandleVerifier [0x00007FF6C77EAD22+56930]\n",
      "\t(No symbol) [0x00007FF6C775F622]\n",
      "\t(No symbol) [0x00007FF6C761419D]\n",
      "\t(No symbol) [0x00007FF6C765ACA2]\n",
      "\t(No symbol) [0x00007FF6C764F798]\n",
      "\t(No symbol) [0x00007FF6C767BC9A]\n",
      "\t(No symbol) [0x00007FF6C764F09A]\n",
      "\t(No symbol) [0x00007FF6C767BEB0]\n",
      "\t(No symbol) [0x00007FF6C76981E2]\n",
      "\t(No symbol) [0x00007FF6C767BA43]\n",
      "\t(No symbol) [0x00007FF6C764D438]\n",
      "\t(No symbol) [0x00007FF6C764E4D1]\n",
      "\tGetHandleVerifier [0x00007FF6C7B66AAD+3709933]\n",
      "\tGetHandleVerifier [0x00007FF6C7BBFFED+4075821]\n",
      "\tGetHandleVerifier [0x00007FF6C7BB817F+4043455]\n",
      "\tGetHandleVerifier [0x00007FF6C7889756+706710]\n",
      "\t(No symbol) [0x00007FF6C776B8FF]\n",
      "\t(No symbol) [0x00007FF6C7766AE4]\n",
      "\t(No symbol) [0x00007FF6C7766C3C]\n",
      "\t(No symbol) [0x00007FF6C77568F4]\n",
      "\tBaseThreadInitThunk [0x00007FFC4A7B257D+29]\n",
      "\tRtlUserThreadStart [0x00007FFC4B6EAA58+40]\n",
      "\n"
     ]
    },
    {
     "name": "stderr",
     "output_type": "stream",
     "text": [
      "1434it [13:25,  1.78it/s]\n"
     ]
    },
    {
     "name": "stdout",
     "output_type": "stream",
     "text": [
      "Message: element not interactable\n",
      "  (Session info: chrome=122.0.6261.112)\n",
      "Stacktrace:\n",
      "\tGetHandleVerifier [0x00007FF6C77EAD22+56930]\n",
      "\t(No symbol) [0x00007FF6C775F622]\n",
      "\t(No symbol) [0x00007FF6C761419D]\n",
      "\t(No symbol) [0x00007FF6C765ACA2]\n",
      "\t(No symbol) [0x00007FF6C764F798]\n",
      "\t(No symbol) [0x00007FF6C767BC9A]\n",
      "\t(No symbol) [0x00007FF6C764F09A]\n",
      "\t(No symbol) [0x00007FF6C767BEB0]\n",
      "\t(No symbol) [0x00007FF6C76981E2]\n",
      "\t(No symbol) [0x00007FF6C767BA43]\n",
      "\t(No symbol) [0x00007FF6C764D438]\n",
      "\t(No symbol) [0x00007FF6C764E4D1]\n",
      "\tGetHandleVerifier [0x00007FF6C7B66AAD+3709933]\n",
      "\tGetHandleVerifier [0x00007FF6C7BBFFED+4075821]\n",
      "\tGetHandleVerifier [0x00007FF6C7BB817F+4043455]\n",
      "\tGetHandleVerifier [0x00007FF6C7889756+706710]\n",
      "\t(No symbol) [0x00007FF6C776B8FF]\n",
      "\t(No symbol) [0x00007FF6C7766AE4]\n",
      "\t(No symbol) [0x00007FF6C7766C3C]\n",
      "\t(No symbol) [0x00007FF6C77568F4]\n",
      "\tBaseThreadInitThunk [0x00007FFC4A7B257D+29]\n",
      "\tRtlUserThreadStart [0x00007FFC4B6EAA58+40]\n",
      "\n"
     ]
    },
    {
     "name": "stderr",
     "output_type": "stream",
     "text": [
      "808it [07:34,  1.78it/s]\n"
     ]
    },
    {
     "name": "stdout",
     "output_type": "stream",
     "text": [
      "Message: element not interactable\n",
      "  (Session info: chrome=122.0.6261.112)\n",
      "Stacktrace:\n",
      "\tGetHandleVerifier [0x00007FF6C77EAD22+56930]\n",
      "\t(No symbol) [0x00007FF6C775F622]\n",
      "\t(No symbol) [0x00007FF6C761419D]\n",
      "\t(No symbol) [0x00007FF6C765ACA2]\n",
      "\t(No symbol) [0x00007FF6C764F798]\n",
      "\t(No symbol) [0x00007FF6C767BC9A]\n",
      "\t(No symbol) [0x00007FF6C764F09A]\n",
      "\t(No symbol) [0x00007FF6C767BEB0]\n",
      "\t(No symbol) [0x00007FF6C76981E2]\n",
      "\t(No symbol) [0x00007FF6C767BA43]\n",
      "\t(No symbol) [0x00007FF6C764D438]\n",
      "\t(No symbol) [0x00007FF6C764E4D1]\n",
      "\tGetHandleVerifier [0x00007FF6C7B66AAD+3709933]\n",
      "\tGetHandleVerifier [0x00007FF6C7BBFFED+4075821]\n",
      "\tGetHandleVerifier [0x00007FF6C7BB817F+4043455]\n",
      "\tGetHandleVerifier [0x00007FF6C7889756+706710]\n",
      "\t(No symbol) [0x00007FF6C776B8FF]\n",
      "\t(No symbol) [0x00007FF6C7766AE4]\n",
      "\t(No symbol) [0x00007FF6C7766C3C]\n",
      "\t(No symbol) [0x00007FF6C77568F4]\n",
      "\tBaseThreadInitThunk [0x00007FFC4A7B257D+29]\n",
      "\tRtlUserThreadStart [0x00007FFC4B6EAA58+40]\n",
      "\n"
     ]
    },
    {
     "name": "stderr",
     "output_type": "stream",
     "text": [
      "167it [01:30,  1.84it/s]\n"
     ]
    },
    {
     "name": "stdout",
     "output_type": "stream",
     "text": [
      "Message: element not interactable\n",
      "  (Session info: chrome=122.0.6261.112)\n",
      "Stacktrace:\n",
      "\tGetHandleVerifier [0x00007FF6C77EAD22+56930]\n",
      "\t(No symbol) [0x00007FF6C775F622]\n",
      "\t(No symbol) [0x00007FF6C761419D]\n",
      "\t(No symbol) [0x00007FF6C765ACA2]\n",
      "\t(No symbol) [0x00007FF6C764F798]\n",
      "\t(No symbol) [0x00007FF6C767BC9A]\n",
      "\t(No symbol) [0x00007FF6C764F09A]\n",
      "\t(No symbol) [0x00007FF6C767BEB0]\n",
      "\t(No symbol) [0x00007FF6C76981E2]\n",
      "\t(No symbol) [0x00007FF6C767BA43]\n",
      "\t(No symbol) [0x00007FF6C764D438]\n",
      "\t(No symbol) [0x00007FF6C764E4D1]\n",
      "\tGetHandleVerifier [0x00007FF6C7B66AAD+3709933]\n",
      "\tGetHandleVerifier [0x00007FF6C7BBFFED+4075821]\n",
      "\tGetHandleVerifier [0x00007FF6C7BB817F+4043455]\n",
      "\tGetHandleVerifier [0x00007FF6C7889756+706710]\n",
      "\t(No symbol) [0x00007FF6C776B8FF]\n",
      "\t(No symbol) [0x00007FF6C7766AE4]\n",
      "\t(No symbol) [0x00007FF6C7766C3C]\n",
      "\t(No symbol) [0x00007FF6C77568F4]\n",
      "\tBaseThreadInitThunk [0x00007FFC4A7B257D+29]\n",
      "\tRtlUserThreadStart [0x00007FFC4B6EAA58+40]\n",
      "\n"
     ]
    },
    {
     "name": "stderr",
     "output_type": "stream",
     "text": [
      "426it [04:08,  1.71it/s]\n"
     ]
    },
    {
     "name": "stdout",
     "output_type": "stream",
     "text": [
      "Message: element not interactable\n",
      "  (Session info: chrome=122.0.6261.112)\n",
      "Stacktrace:\n",
      "\tGetHandleVerifier [0x00007FF6C77EAD22+56930]\n",
      "\t(No symbol) [0x00007FF6C775F622]\n",
      "\t(No symbol) [0x00007FF6C761419D]\n",
      "\t(No symbol) [0x00007FF6C765ACA2]\n",
      "\t(No symbol) [0x00007FF6C764F798]\n",
      "\t(No symbol) [0x00007FF6C767BC9A]\n",
      "\t(No symbol) [0x00007FF6C764F09A]\n",
      "\t(No symbol) [0x00007FF6C767BEB0]\n",
      "\t(No symbol) [0x00007FF6C76981E2]\n",
      "\t(No symbol) [0x00007FF6C767BA43]\n",
      "\t(No symbol) [0x00007FF6C764D438]\n",
      "\t(No symbol) [0x00007FF6C764E4D1]\n",
      "\tGetHandleVerifier [0x00007FF6C7B66AAD+3709933]\n",
      "\tGetHandleVerifier [0x00007FF6C7BBFFED+4075821]\n",
      "\tGetHandleVerifier [0x00007FF6C7BB817F+4043455]\n",
      "\tGetHandleVerifier [0x00007FF6C7889756+706710]\n",
      "\t(No symbol) [0x00007FF6C776B8FF]\n",
      "\t(No symbol) [0x00007FF6C7766AE4]\n",
      "\t(No symbol) [0x00007FF6C7766C3C]\n",
      "\t(No symbol) [0x00007FF6C77568F4]\n",
      "\tBaseThreadInitThunk [0x00007FFC4A7B257D+29]\n",
      "\tRtlUserThreadStart [0x00007FFC4B6EAA58+40]\n",
      "\n"
     ]
    },
    {
     "name": "stderr",
     "output_type": "stream",
     "text": [
      "1351it [13:12,  1.70it/s]\n"
     ]
    },
    {
     "name": "stdout",
     "output_type": "stream",
     "text": [
      "Message: element not interactable\n",
      "  (Session info: chrome=122.0.6261.112)\n",
      "Stacktrace:\n",
      "\tGetHandleVerifier [0x00007FF6C77EAD22+56930]\n",
      "\t(No symbol) [0x00007FF6C775F622]\n",
      "\t(No symbol) [0x00007FF6C761419D]\n",
      "\t(No symbol) [0x00007FF6C765ACA2]\n",
      "\t(No symbol) [0x00007FF6C764F798]\n",
      "\t(No symbol) [0x00007FF6C767BC9A]\n",
      "\t(No symbol) [0x00007FF6C764F09A]\n",
      "\t(No symbol) [0x00007FF6C767BEB0]\n",
      "\t(No symbol) [0x00007FF6C76981E2]\n",
      "\t(No symbol) [0x00007FF6C767BA43]\n",
      "\t(No symbol) [0x00007FF6C764D438]\n",
      "\t(No symbol) [0x00007FF6C764E4D1]\n",
      "\tGetHandleVerifier [0x00007FF6C7B66AAD+3709933]\n",
      "\tGetHandleVerifier [0x00007FF6C7BBFFED+4075821]\n",
      "\tGetHandleVerifier [0x00007FF6C7BB817F+4043455]\n",
      "\tGetHandleVerifier [0x00007FF6C7889756+706710]\n",
      "\t(No symbol) [0x00007FF6C776B8FF]\n",
      "\t(No symbol) [0x00007FF6C7766AE4]\n",
      "\t(No symbol) [0x00007FF6C7766C3C]\n",
      "\t(No symbol) [0x00007FF6C77568F4]\n",
      "\tBaseThreadInitThunk [0x00007FFC4A7B257D+29]\n",
      "\tRtlUserThreadStart [0x00007FFC4B6EAA58+40]\n",
      "\n"
     ]
    },
    {
     "name": "stderr",
     "output_type": "stream",
     "text": [
      "778it [07:21,  1.76it/s]\n"
     ]
    },
    {
     "name": "stdout",
     "output_type": "stream",
     "text": [
      "Message: element not interactable\n",
      "  (Session info: chrome=122.0.6261.112)\n",
      "Stacktrace:\n",
      "\tGetHandleVerifier [0x00007FF6C77EAD22+56930]\n",
      "\t(No symbol) [0x00007FF6C775F622]\n",
      "\t(No symbol) [0x00007FF6C761419D]\n",
      "\t(No symbol) [0x00007FF6C765ACA2]\n",
      "\t(No symbol) [0x00007FF6C764F798]\n",
      "\t(No symbol) [0x00007FF6C767BC9A]\n",
      "\t(No symbol) [0x00007FF6C764F09A]\n",
      "\t(No symbol) [0x00007FF6C767BEB0]\n",
      "\t(No symbol) [0x00007FF6C76981E2]\n",
      "\t(No symbol) [0x00007FF6C767BA43]\n",
      "\t(No symbol) [0x00007FF6C764D438]\n",
      "\t(No symbol) [0x00007FF6C764E4D1]\n",
      "\tGetHandleVerifier [0x00007FF6C7B66AAD+3709933]\n",
      "\tGetHandleVerifier [0x00007FF6C7BBFFED+4075821]\n",
      "\tGetHandleVerifier [0x00007FF6C7BB817F+4043455]\n",
      "\tGetHandleVerifier [0x00007FF6C7889756+706710]\n",
      "\t(No symbol) [0x00007FF6C776B8FF]\n",
      "\t(No symbol) [0x00007FF6C7766AE4]\n",
      "\t(No symbol) [0x00007FF6C7766C3C]\n",
      "\t(No symbol) [0x00007FF6C77568F4]\n",
      "\tBaseThreadInitThunk [0x00007FFC4A7B257D+29]\n",
      "\tRtlUserThreadStart [0x00007FFC4B6EAA58+40]\n",
      "\n"
     ]
    },
    {
     "name": "stderr",
     "output_type": "stream",
     "text": [
      "1202it [11:27,  1.75it/s]\n"
     ]
    },
    {
     "name": "stdout",
     "output_type": "stream",
     "text": [
      "Message: element not interactable\n",
      "  (Session info: chrome=122.0.6261.112)\n",
      "Stacktrace:\n",
      "\tGetHandleVerifier [0x00007FF6C77EAD22+56930]\n",
      "\t(No symbol) [0x00007FF6C775F622]\n",
      "\t(No symbol) [0x00007FF6C761419D]\n",
      "\t(No symbol) [0x00007FF6C765ACA2]\n",
      "\t(No symbol) [0x00007FF6C764F798]\n",
      "\t(No symbol) [0x00007FF6C767BC9A]\n",
      "\t(No symbol) [0x00007FF6C764F09A]\n",
      "\t(No symbol) [0x00007FF6C767BEB0]\n",
      "\t(No symbol) [0x00007FF6C76981E2]\n",
      "\t(No symbol) [0x00007FF6C767BA43]\n",
      "\t(No symbol) [0x00007FF6C764D438]\n",
      "\t(No symbol) [0x00007FF6C764E4D1]\n",
      "\tGetHandleVerifier [0x00007FF6C7B66AAD+3709933]\n",
      "\tGetHandleVerifier [0x00007FF6C7BBFFED+4075821]\n",
      "\tGetHandleVerifier [0x00007FF6C7BB817F+4043455]\n",
      "\tGetHandleVerifier [0x00007FF6C7889756+706710]\n",
      "\t(No symbol) [0x00007FF6C776B8FF]\n",
      "\t(No symbol) [0x00007FF6C7766AE4]\n",
      "\t(No symbol) [0x00007FF6C7766C3C]\n",
      "\t(No symbol) [0x00007FF6C77568F4]\n",
      "\tBaseThreadInitThunk [0x00007FFC4A7B257D+29]\n",
      "\tRtlUserThreadStart [0x00007FFC4B6EAA58+40]\n",
      "\n"
     ]
    },
    {
     "name": "stderr",
     "output_type": "stream",
     "text": [
      "851it [08:18,  1.71it/s]\n"
     ]
    },
    {
     "name": "stdout",
     "output_type": "stream",
     "text": [
      "Message: element not interactable\n",
      "  (Session info: chrome=122.0.6261.112)\n",
      "Stacktrace:\n",
      "\tGetHandleVerifier [0x00007FF6C77EAD22+56930]\n",
      "\t(No symbol) [0x00007FF6C775F622]\n",
      "\t(No symbol) [0x00007FF6C761419D]\n",
      "\t(No symbol) [0x00007FF6C765ACA2]\n",
      "\t(No symbol) [0x00007FF6C764F798]\n",
      "\t(No symbol) [0x00007FF6C767BC9A]\n",
      "\t(No symbol) [0x00007FF6C764F09A]\n",
      "\t(No symbol) [0x00007FF6C767BEB0]\n",
      "\t(No symbol) [0x00007FF6C76981E2]\n",
      "\t(No symbol) [0x00007FF6C767BA43]\n",
      "\t(No symbol) [0x00007FF6C764D438]\n",
      "\t(No symbol) [0x00007FF6C764E4D1]\n",
      "\tGetHandleVerifier [0x00007FF6C7B66AAD+3709933]\n",
      "\tGetHandleVerifier [0x00007FF6C7BBFFED+4075821]\n",
      "\tGetHandleVerifier [0x00007FF6C7BB817F+4043455]\n",
      "\tGetHandleVerifier [0x00007FF6C7889756+706710]\n",
      "\t(No symbol) [0x00007FF6C776B8FF]\n",
      "\t(No symbol) [0x00007FF6C7766AE4]\n",
      "\t(No symbol) [0x00007FF6C7766C3C]\n",
      "\t(No symbol) [0x00007FF6C77568F4]\n",
      "\tBaseThreadInitThunk [0x00007FFC4A7B257D+29]\n",
      "\tRtlUserThreadStart [0x00007FFC4B6EAA58+40]\n",
      "\n"
     ]
    },
    {
     "name": "stderr",
     "output_type": "stream",
     "text": [
      "1007it [09:39,  1.74it/s]\n"
     ]
    },
    {
     "name": "stdout",
     "output_type": "stream",
     "text": [
      "Message: element not interactable\n",
      "  (Session info: chrome=122.0.6261.112)\n",
      "Stacktrace:\n",
      "\tGetHandleVerifier [0x00007FF6C77EAD22+56930]\n",
      "\t(No symbol) [0x00007FF6C775F622]\n",
      "\t(No symbol) [0x00007FF6C761419D]\n",
      "\t(No symbol) [0x00007FF6C765ACA2]\n",
      "\t(No symbol) [0x00007FF6C764F798]\n",
      "\t(No symbol) [0x00007FF6C767BC9A]\n",
      "\t(No symbol) [0x00007FF6C764F09A]\n",
      "\t(No symbol) [0x00007FF6C767BEB0]\n",
      "\t(No symbol) [0x00007FF6C76981E2]\n",
      "\t(No symbol) [0x00007FF6C767BA43]\n",
      "\t(No symbol) [0x00007FF6C764D438]\n",
      "\t(No symbol) [0x00007FF6C764E4D1]\n",
      "\tGetHandleVerifier [0x00007FF6C7B66AAD+3709933]\n",
      "\tGetHandleVerifier [0x00007FF6C7BBFFED+4075821]\n",
      "\tGetHandleVerifier [0x00007FF6C7BB817F+4043455]\n",
      "\tGetHandleVerifier [0x00007FF6C7889756+706710]\n",
      "\t(No symbol) [0x00007FF6C776B8FF]\n",
      "\t(No symbol) [0x00007FF6C7766AE4]\n",
      "\t(No symbol) [0x00007FF6C7766C3C]\n",
      "\t(No symbol) [0x00007FF6C77568F4]\n",
      "\tBaseThreadInitThunk [0x00007FFC4A7B257D+29]\n",
      "\tRtlUserThreadStart [0x00007FFC4B6EAA58+40]\n",
      "\n"
     ]
    },
    {
     "name": "stderr",
     "output_type": "stream",
     "text": [
      "169it [01:31,  1.85it/s]\n"
     ]
    },
    {
     "name": "stdout",
     "output_type": "stream",
     "text": [
      "Message: element not interactable\n",
      "  (Session info: chrome=122.0.6261.112)\n",
      "Stacktrace:\n",
      "\tGetHandleVerifier [0x00007FF6C77EAD22+56930]\n",
      "\t(No symbol) [0x00007FF6C775F622]\n",
      "\t(No symbol) [0x00007FF6C761419D]\n",
      "\t(No symbol) [0x00007FF6C765ACA2]\n",
      "\t(No symbol) [0x00007FF6C764F798]\n",
      "\t(No symbol) [0x00007FF6C767BC9A]\n",
      "\t(No symbol) [0x00007FF6C764F09A]\n",
      "\t(No symbol) [0x00007FF6C767BEB0]\n",
      "\t(No symbol) [0x00007FF6C76981E2]\n",
      "\t(No symbol) [0x00007FF6C767BA43]\n",
      "\t(No symbol) [0x00007FF6C764D438]\n",
      "\t(No symbol) [0x00007FF6C764E4D1]\n",
      "\tGetHandleVerifier [0x00007FF6C7B66AAD+3709933]\n",
      "\tGetHandleVerifier [0x00007FF6C7BBFFED+4075821]\n",
      "\tGetHandleVerifier [0x00007FF6C7BB817F+4043455]\n",
      "\tGetHandleVerifier [0x00007FF6C7889756+706710]\n",
      "\t(No symbol) [0x00007FF6C776B8FF]\n",
      "\t(No symbol) [0x00007FF6C7766AE4]\n",
      "\t(No symbol) [0x00007FF6C7766C3C]\n",
      "\t(No symbol) [0x00007FF6C77568F4]\n",
      "\tBaseThreadInitThunk [0x00007FFC4A7B257D+29]\n",
      "\tRtlUserThreadStart [0x00007FFC4B6EAA58+40]\n",
      "\n"
     ]
    },
    {
     "name": "stderr",
     "output_type": "stream",
     "text": [
      "457it [04:30,  1.69it/s]\n"
     ]
    },
    {
     "name": "stdout",
     "output_type": "stream",
     "text": [
      "Message: element not interactable\n",
      "  (Session info: chrome=122.0.6261.112)\n",
      "Stacktrace:\n",
      "\tGetHandleVerifier [0x00007FF6C77EAD22+56930]\n",
      "\t(No symbol) [0x00007FF6C775F622]\n",
      "\t(No symbol) [0x00007FF6C761419D]\n",
      "\t(No symbol) [0x00007FF6C765ACA2]\n",
      "\t(No symbol) [0x00007FF6C764F798]\n",
      "\t(No symbol) [0x00007FF6C767BC9A]\n",
      "\t(No symbol) [0x00007FF6C764F09A]\n",
      "\t(No symbol) [0x00007FF6C767BEB0]\n",
      "\t(No symbol) [0x00007FF6C76981E2]\n",
      "\t(No symbol) [0x00007FF6C767BA43]\n",
      "\t(No symbol) [0x00007FF6C764D438]\n",
      "\t(No symbol) [0x00007FF6C764E4D1]\n",
      "\tGetHandleVerifier [0x00007FF6C7B66AAD+3709933]\n",
      "\tGetHandleVerifier [0x00007FF6C7BBFFED+4075821]\n",
      "\tGetHandleVerifier [0x00007FF6C7BB817F+4043455]\n",
      "\tGetHandleVerifier [0x00007FF6C7889756+706710]\n",
      "\t(No symbol) [0x00007FF6C776B8FF]\n",
      "\t(No symbol) [0x00007FF6C7766AE4]\n",
      "\t(No symbol) [0x00007FF6C7766C3C]\n",
      "\t(No symbol) [0x00007FF6C77568F4]\n",
      "\tBaseThreadInitThunk [0x00007FFC4A7B257D+29]\n",
      "\tRtlUserThreadStart [0x00007FFC4B6EAA58+40]\n",
      "\n"
     ]
    },
    {
     "name": "stderr",
     "output_type": "stream",
     "text": [
      "1492it [14:42,  1.69it/s]\n"
     ]
    },
    {
     "name": "stdout",
     "output_type": "stream",
     "text": [
      "Message: element not interactable\n",
      "  (Session info: chrome=122.0.6261.112)\n",
      "Stacktrace:\n",
      "\tGetHandleVerifier [0x00007FF6C77EAD22+56930]\n",
      "\t(No symbol) [0x00007FF6C775F622]\n",
      "\t(No symbol) [0x00007FF6C761419D]\n",
      "\t(No symbol) [0x00007FF6C765ACA2]\n",
      "\t(No symbol) [0x00007FF6C764F798]\n",
      "\t(No symbol) [0x00007FF6C767BC9A]\n",
      "\t(No symbol) [0x00007FF6C764F09A]\n",
      "\t(No symbol) [0x00007FF6C767BEB0]\n",
      "\t(No symbol) [0x00007FF6C76981E2]\n",
      "\t(No symbol) [0x00007FF6C767BA43]\n",
      "\t(No symbol) [0x00007FF6C764D438]\n",
      "\t(No symbol) [0x00007FF6C764E4D1]\n",
      "\tGetHandleVerifier [0x00007FF6C7B66AAD+3709933]\n",
      "\tGetHandleVerifier [0x00007FF6C7BBFFED+4075821]\n",
      "\tGetHandleVerifier [0x00007FF6C7BB817F+4043455]\n",
      "\tGetHandleVerifier [0x00007FF6C7889756+706710]\n",
      "\t(No symbol) [0x00007FF6C776B8FF]\n",
      "\t(No symbol) [0x00007FF6C7766AE4]\n",
      "\t(No symbol) [0x00007FF6C7766C3C]\n",
      "\t(No symbol) [0x00007FF6C77568F4]\n",
      "\tBaseThreadInitThunk [0x00007FFC4A7B257D+29]\n",
      "\tRtlUserThreadStart [0x00007FFC4B6EAA58+40]\n",
      "\n"
     ]
    },
    {
     "name": "stderr",
     "output_type": "stream",
     "text": [
      "1138it [11:06,  1.71it/s]\n"
     ]
    },
    {
     "name": "stdout",
     "output_type": "stream",
     "text": [
      "Message: element not interactable\n",
      "  (Session info: chrome=122.0.6261.112)\n",
      "Stacktrace:\n",
      "\tGetHandleVerifier [0x00007FF6C77EAD22+56930]\n",
      "\t(No symbol) [0x00007FF6C775F622]\n",
      "\t(No symbol) [0x00007FF6C761419D]\n",
      "\t(No symbol) [0x00007FF6C765ACA2]\n",
      "\t(No symbol) [0x00007FF6C764F798]\n",
      "\t(No symbol) [0x00007FF6C767BC9A]\n",
      "\t(No symbol) [0x00007FF6C764F09A]\n",
      "\t(No symbol) [0x00007FF6C767BEB0]\n",
      "\t(No symbol) [0x00007FF6C76981E2]\n",
      "\t(No symbol) [0x00007FF6C767BA43]\n",
      "\t(No symbol) [0x00007FF6C764D438]\n",
      "\t(No symbol) [0x00007FF6C764E4D1]\n",
      "\tGetHandleVerifier [0x00007FF6C7B66AAD+3709933]\n",
      "\tGetHandleVerifier [0x00007FF6C7BBFFED+4075821]\n",
      "\tGetHandleVerifier [0x00007FF6C7BB817F+4043455]\n",
      "\tGetHandleVerifier [0x00007FF6C7889756+706710]\n",
      "\t(No symbol) [0x00007FF6C776B8FF]\n",
      "\t(No symbol) [0x00007FF6C7766AE4]\n",
      "\t(No symbol) [0x00007FF6C7766C3C]\n",
      "\t(No symbol) [0x00007FF6C77568F4]\n",
      "\tBaseThreadInitThunk [0x00007FFC4A7B257D+29]\n",
      "\tRtlUserThreadStart [0x00007FFC4B6EAA58+40]\n",
      "\n"
     ]
    },
    {
     "name": "stderr",
     "output_type": "stream",
     "text": [
      "1634it [16:05,  1.69it/s]\n"
     ]
    },
    {
     "name": "stdout",
     "output_type": "stream",
     "text": [
      "Message: element not interactable\n",
      "  (Session info: chrome=122.0.6261.112)\n",
      "Stacktrace:\n",
      "\tGetHandleVerifier [0x00007FF6C77EAD22+56930]\n",
      "\t(No symbol) [0x00007FF6C775F622]\n",
      "\t(No symbol) [0x00007FF6C761419D]\n",
      "\t(No symbol) [0x00007FF6C765ACA2]\n",
      "\t(No symbol) [0x00007FF6C764F798]\n",
      "\t(No symbol) [0x00007FF6C767BC9A]\n",
      "\t(No symbol) [0x00007FF6C764F09A]\n",
      "\t(No symbol) [0x00007FF6C767BEB0]\n",
      "\t(No symbol) [0x00007FF6C76981E2]\n",
      "\t(No symbol) [0x00007FF6C767BA43]\n",
      "\t(No symbol) [0x00007FF6C764D438]\n",
      "\t(No symbol) [0x00007FF6C764E4D1]\n",
      "\tGetHandleVerifier [0x00007FF6C7B66AAD+3709933]\n",
      "\tGetHandleVerifier [0x00007FF6C7BBFFED+4075821]\n",
      "\tGetHandleVerifier [0x00007FF6C7BB817F+4043455]\n",
      "\tGetHandleVerifier [0x00007FF6C7889756+706710]\n",
      "\t(No symbol) [0x00007FF6C776B8FF]\n",
      "\t(No symbol) [0x00007FF6C7766AE4]\n",
      "\t(No symbol) [0x00007FF6C7766C3C]\n",
      "\t(No symbol) [0x00007FF6C77568F4]\n",
      "\tBaseThreadInitThunk [0x00007FFC4A7B257D+29]\n",
      "\tRtlUserThreadStart [0x00007FFC4B6EAA58+40]\n",
      "\n"
     ]
    },
    {
     "name": "stderr",
     "output_type": "stream",
     "text": [
      "1337it [13:12,  1.69it/s]\n"
     ]
    },
    {
     "name": "stdout",
     "output_type": "stream",
     "text": [
      "Message: element not interactable\n",
      "  (Session info: chrome=122.0.6261.112)\n",
      "Stacktrace:\n",
      "\tGetHandleVerifier [0x00007FF6C77EAD22+56930]\n",
      "\t(No symbol) [0x00007FF6C775F622]\n",
      "\t(No symbol) [0x00007FF6C761419D]\n",
      "\t(No symbol) [0x00007FF6C765ACA2]\n",
      "\t(No symbol) [0x00007FF6C764F798]\n",
      "\t(No symbol) [0x00007FF6C767BC9A]\n",
      "\t(No symbol) [0x00007FF6C764F09A]\n",
      "\t(No symbol) [0x00007FF6C767BEB0]\n",
      "\t(No symbol) [0x00007FF6C76981E2]\n",
      "\t(No symbol) [0x00007FF6C767BA43]\n",
      "\t(No symbol) [0x00007FF6C764D438]\n",
      "\t(No symbol) [0x00007FF6C764E4D1]\n",
      "\tGetHandleVerifier [0x00007FF6C7B66AAD+3709933]\n",
      "\tGetHandleVerifier [0x00007FF6C7BBFFED+4075821]\n",
      "\tGetHandleVerifier [0x00007FF6C7BB817F+4043455]\n",
      "\tGetHandleVerifier [0x00007FF6C7889756+706710]\n",
      "\t(No symbol) [0x00007FF6C776B8FF]\n",
      "\t(No symbol) [0x00007FF6C7766AE4]\n",
      "\t(No symbol) [0x00007FF6C7766C3C]\n",
      "\t(No symbol) [0x00007FF6C77568F4]\n",
      "\tBaseThreadInitThunk [0x00007FFC4A7B257D+29]\n",
      "\tRtlUserThreadStart [0x00007FFC4B6EAA58+40]\n",
      "\n"
     ]
    },
    {
     "name": "stderr",
     "output_type": "stream",
     "text": [
      "911it [09:00,  1.68it/s]\n"
     ]
    },
    {
     "name": "stdout",
     "output_type": "stream",
     "text": [
      "Message: element not interactable\n",
      "  (Session info: chrome=122.0.6261.112)\n",
      "Stacktrace:\n",
      "\tGetHandleVerifier [0x00007FF6C77EAD22+56930]\n",
      "\t(No symbol) [0x00007FF6C775F622]\n",
      "\t(No symbol) [0x00007FF6C761419D]\n",
      "\t(No symbol) [0x00007FF6C765ACA2]\n",
      "\t(No symbol) [0x00007FF6C764F798]\n",
      "\t(No symbol) [0x00007FF6C767BC9A]\n",
      "\t(No symbol) [0x00007FF6C764F09A]\n",
      "\t(No symbol) [0x00007FF6C767BEB0]\n",
      "\t(No symbol) [0x00007FF6C76981E2]\n",
      "\t(No symbol) [0x00007FF6C767BA43]\n",
      "\t(No symbol) [0x00007FF6C764D438]\n",
      "\t(No symbol) [0x00007FF6C764E4D1]\n",
      "\tGetHandleVerifier [0x00007FF6C7B66AAD+3709933]\n",
      "\tGetHandleVerifier [0x00007FF6C7BBFFED+4075821]\n",
      "\tGetHandleVerifier [0x00007FF6C7BB817F+4043455]\n",
      "\tGetHandleVerifier [0x00007FF6C7889756+706710]\n",
      "\t(No symbol) [0x00007FF6C776B8FF]\n",
      "\t(No symbol) [0x00007FF6C7766AE4]\n",
      "\t(No symbol) [0x00007FF6C7766C3C]\n",
      "\t(No symbol) [0x00007FF6C77568F4]\n",
      "\tBaseThreadInitThunk [0x00007FFC4A7B257D+29]\n",
      "\tRtlUserThreadStart [0x00007FFC4B6EAA58+40]\n",
      "\n"
     ]
    },
    {
     "name": "stderr",
     "output_type": "stream",
     "text": [
      "274it [02:44,  1.67it/s]\n"
     ]
    },
    {
     "name": "stdout",
     "output_type": "stream",
     "text": [
      "Message: element not interactable\n",
      "  (Session info: chrome=122.0.6261.112)\n",
      "Stacktrace:\n",
      "\tGetHandleVerifier [0x00007FF6C77EAD22+56930]\n",
      "\t(No symbol) [0x00007FF6C775F622]\n",
      "\t(No symbol) [0x00007FF6C761419D]\n",
      "\t(No symbol) [0x00007FF6C765ACA2]\n",
      "\t(No symbol) [0x00007FF6C764F798]\n",
      "\t(No symbol) [0x00007FF6C767BC9A]\n",
      "\t(No symbol) [0x00007FF6C764F09A]\n",
      "\t(No symbol) [0x00007FF6C767BEB0]\n",
      "\t(No symbol) [0x00007FF6C76981E2]\n",
      "\t(No symbol) [0x00007FF6C767BA43]\n",
      "\t(No symbol) [0x00007FF6C764D438]\n",
      "\t(No symbol) [0x00007FF6C764E4D1]\n",
      "\tGetHandleVerifier [0x00007FF6C7B66AAD+3709933]\n",
      "\tGetHandleVerifier [0x00007FF6C7BBFFED+4075821]\n",
      "\tGetHandleVerifier [0x00007FF6C7BB817F+4043455]\n",
      "\tGetHandleVerifier [0x00007FF6C7889756+706710]\n",
      "\t(No symbol) [0x00007FF6C776B8FF]\n",
      "\t(No symbol) [0x00007FF6C7766AE4]\n",
      "\t(No symbol) [0x00007FF6C7766C3C]\n",
      "\t(No symbol) [0x00007FF6C77568F4]\n",
      "\tBaseThreadInitThunk [0x00007FFC4A7B257D+29]\n",
      "\tRtlUserThreadStart [0x00007FFC4B6EAA58+40]\n",
      "\n"
     ]
    },
    {
     "name": "stderr",
     "output_type": "stream",
     "text": [
      "633it [06:11,  1.70it/s]\n"
     ]
    },
    {
     "name": "stdout",
     "output_type": "stream",
     "text": [
      "Message: element not interactable\n",
      "  (Session info: chrome=122.0.6261.112)\n",
      "Stacktrace:\n",
      "\tGetHandleVerifier [0x00007FF6C77EAD22+56930]\n",
      "\t(No symbol) [0x00007FF6C775F622]\n",
      "\t(No symbol) [0x00007FF6C761419D]\n",
      "\t(No symbol) [0x00007FF6C765ACA2]\n",
      "\t(No symbol) [0x00007FF6C764F798]\n",
      "\t(No symbol) [0x00007FF6C767BC9A]\n",
      "\t(No symbol) [0x00007FF6C764F09A]\n",
      "\t(No symbol) [0x00007FF6C767BEB0]\n",
      "\t(No symbol) [0x00007FF6C76981E2]\n",
      "\t(No symbol) [0x00007FF6C767BA43]\n",
      "\t(No symbol) [0x00007FF6C764D438]\n",
      "\t(No symbol) [0x00007FF6C764E4D1]\n",
      "\tGetHandleVerifier [0x00007FF6C7B66AAD+3709933]\n",
      "\tGetHandleVerifier [0x00007FF6C7BBFFED+4075821]\n",
      "\tGetHandleVerifier [0x00007FF6C7BB817F+4043455]\n",
      "\tGetHandleVerifier [0x00007FF6C7889756+706710]\n",
      "\t(No symbol) [0x00007FF6C776B8FF]\n",
      "\t(No symbol) [0x00007FF6C7766AE4]\n",
      "\t(No symbol) [0x00007FF6C7766C3C]\n",
      "\t(No symbol) [0x00007FF6C77568F4]\n",
      "\tBaseThreadInitThunk [0x00007FFC4A7B257D+29]\n",
      "\tRtlUserThreadStart [0x00007FFC4B6EAA58+40]\n",
      "\n"
     ]
    },
    {
     "name": "stderr",
     "output_type": "stream",
     "text": [
      "941it [09:15,  1.70it/s]\n"
     ]
    },
    {
     "name": "stdout",
     "output_type": "stream",
     "text": [
      "Message: element not interactable\n",
      "  (Session info: chrome=122.0.6261.112)\n",
      "Stacktrace:\n",
      "\tGetHandleVerifier [0x00007FF6C77EAD22+56930]\n",
      "\t(No symbol) [0x00007FF6C775F622]\n",
      "\t(No symbol) [0x00007FF6C761419D]\n",
      "\t(No symbol) [0x00007FF6C765ACA2]\n",
      "\t(No symbol) [0x00007FF6C764F798]\n",
      "\t(No symbol) [0x00007FF6C767BC9A]\n",
      "\t(No symbol) [0x00007FF6C764F09A]\n",
      "\t(No symbol) [0x00007FF6C767BEB0]\n",
      "\t(No symbol) [0x00007FF6C76981E2]\n",
      "\t(No symbol) [0x00007FF6C767BA43]\n",
      "\t(No symbol) [0x00007FF6C764D438]\n",
      "\t(No symbol) [0x00007FF6C764E4D1]\n",
      "\tGetHandleVerifier [0x00007FF6C7B66AAD+3709933]\n",
      "\tGetHandleVerifier [0x00007FF6C7BBFFED+4075821]\n",
      "\tGetHandleVerifier [0x00007FF6C7BB817F+4043455]\n",
      "\tGetHandleVerifier [0x00007FF6C7889756+706710]\n",
      "\t(No symbol) [0x00007FF6C776B8FF]\n",
      "\t(No symbol) [0x00007FF6C7766AE4]\n",
      "\t(No symbol) [0x00007FF6C7766C3C]\n",
      "\t(No symbol) [0x00007FF6C77568F4]\n",
      "\tBaseThreadInitThunk [0x00007FFC4A7B257D+29]\n",
      "\tRtlUserThreadStart [0x00007FFC4B6EAA58+40]\n",
      "\n"
     ]
    },
    {
     "name": "stderr",
     "output_type": "stream",
     "text": [
      "1290it [13:00,  1.65it/s]\n"
     ]
    },
    {
     "name": "stdout",
     "output_type": "stream",
     "text": [
      "Message: element not interactable\n",
      "  (Session info: chrome=122.0.6261.112)\n",
      "Stacktrace:\n",
      "\tGetHandleVerifier [0x00007FF6C77EAD22+56930]\n",
      "\t(No symbol) [0x00007FF6C775F622]\n",
      "\t(No symbol) [0x00007FF6C761419D]\n",
      "\t(No symbol) [0x00007FF6C765ACA2]\n",
      "\t(No symbol) [0x00007FF6C764F798]\n",
      "\t(No symbol) [0x00007FF6C767BC9A]\n",
      "\t(No symbol) [0x00007FF6C764F09A]\n",
      "\t(No symbol) [0x00007FF6C767BEB0]\n",
      "\t(No symbol) [0x00007FF6C76981E2]\n",
      "\t(No symbol) [0x00007FF6C767BA43]\n",
      "\t(No symbol) [0x00007FF6C764D438]\n",
      "\t(No symbol) [0x00007FF6C764E4D1]\n",
      "\tGetHandleVerifier [0x00007FF6C7B66AAD+3709933]\n",
      "\tGetHandleVerifier [0x00007FF6C7BBFFED+4075821]\n",
      "\tGetHandleVerifier [0x00007FF6C7BB817F+4043455]\n",
      "\tGetHandleVerifier [0x00007FF6C7889756+706710]\n",
      "\t(No symbol) [0x00007FF6C776B8FF]\n",
      "\t(No symbol) [0x00007FF6C7766AE4]\n",
      "\t(No symbol) [0x00007FF6C7766C3C]\n",
      "\t(No symbol) [0x00007FF6C77568F4]\n",
      "\tBaseThreadInitThunk [0x00007FFC4A7B257D+29]\n",
      "\tRtlUserThreadStart [0x00007FFC4B6EAA58+40]\n",
      "\n"
     ]
    },
    {
     "name": "stderr",
     "output_type": "stream",
     "text": [
      "1294it [13:03,  1.65it/s]\n"
     ]
    },
    {
     "name": "stdout",
     "output_type": "stream",
     "text": [
      "Message: element not interactable\n",
      "  (Session info: chrome=122.0.6261.112)\n",
      "Stacktrace:\n",
      "\tGetHandleVerifier [0x00007FF6C77EAD22+56930]\n",
      "\t(No symbol) [0x00007FF6C775F622]\n",
      "\t(No symbol) [0x00007FF6C761419D]\n",
      "\t(No symbol) [0x00007FF6C765ACA2]\n",
      "\t(No symbol) [0x00007FF6C764F798]\n",
      "\t(No symbol) [0x00007FF6C767BC9A]\n",
      "\t(No symbol) [0x00007FF6C764F09A]\n",
      "\t(No symbol) [0x00007FF6C767BEB0]\n",
      "\t(No symbol) [0x00007FF6C76981E2]\n",
      "\t(No symbol) [0x00007FF6C767BA43]\n",
      "\t(No symbol) [0x00007FF6C764D438]\n",
      "\t(No symbol) [0x00007FF6C764E4D1]\n",
      "\tGetHandleVerifier [0x00007FF6C7B66AAD+3709933]\n",
      "\tGetHandleVerifier [0x00007FF6C7BBFFED+4075821]\n",
      "\tGetHandleVerifier [0x00007FF6C7BB817F+4043455]\n",
      "\tGetHandleVerifier [0x00007FF6C7889756+706710]\n",
      "\t(No symbol) [0x00007FF6C776B8FF]\n",
      "\t(No symbol) [0x00007FF6C7766AE4]\n",
      "\t(No symbol) [0x00007FF6C7766C3C]\n",
      "\t(No symbol) [0x00007FF6C77568F4]\n",
      "\tBaseThreadInitThunk [0x00007FFC4A7B257D+29]\n",
      "\tRtlUserThreadStart [0x00007FFC4B6EAA58+40]\n",
      "\n"
     ]
    },
    {
     "name": "stderr",
     "output_type": "stream",
     "text": [
      "1182it [11:31,  1.71it/s]\n"
     ]
    },
    {
     "name": "stdout",
     "output_type": "stream",
     "text": [
      "Message: element not interactable\n",
      "  (Session info: chrome=122.0.6261.112)\n",
      "Stacktrace:\n",
      "\tGetHandleVerifier [0x00007FF6C77EAD22+56930]\n",
      "\t(No symbol) [0x00007FF6C775F622]\n",
      "\t(No symbol) [0x00007FF6C761419D]\n",
      "\t(No symbol) [0x00007FF6C765ACA2]\n",
      "\t(No symbol) [0x00007FF6C764F798]\n",
      "\t(No symbol) [0x00007FF6C767BC9A]\n",
      "\t(No symbol) [0x00007FF6C764F09A]\n",
      "\t(No symbol) [0x00007FF6C767BEB0]\n",
      "\t(No symbol) [0x00007FF6C76981E2]\n",
      "\t(No symbol) [0x00007FF6C767BA43]\n",
      "\t(No symbol) [0x00007FF6C764D438]\n",
      "\t(No symbol) [0x00007FF6C764E4D1]\n",
      "\tGetHandleVerifier [0x00007FF6C7B66AAD+3709933]\n",
      "\tGetHandleVerifier [0x00007FF6C7BBFFED+4075821]\n",
      "\tGetHandleVerifier [0x00007FF6C7BB817F+4043455]\n",
      "\tGetHandleVerifier [0x00007FF6C7889756+706710]\n",
      "\t(No symbol) [0x00007FF6C776B8FF]\n",
      "\t(No symbol) [0x00007FF6C7766AE4]\n",
      "\t(No symbol) [0x00007FF6C7766C3C]\n",
      "\t(No symbol) [0x00007FF6C77568F4]\n",
      "\tBaseThreadInitThunk [0x00007FFC4A7B257D+29]\n",
      "\tRtlUserThreadStart [0x00007FFC4B6EAA58+40]\n",
      "\n"
     ]
    },
    {
     "name": "stderr",
     "output_type": "stream",
     "text": [
      "934it [09:17,  1.67it/s]\n"
     ]
    },
    {
     "name": "stdout",
     "output_type": "stream",
     "text": [
      "Message: element not interactable\n",
      "  (Session info: chrome=122.0.6261.112)\n",
      "Stacktrace:\n",
      "\tGetHandleVerifier [0x00007FF6C77EAD22+56930]\n",
      "\t(No symbol) [0x00007FF6C775F622]\n",
      "\t(No symbol) [0x00007FF6C761419D]\n",
      "\t(No symbol) [0x00007FF6C765ACA2]\n",
      "\t(No symbol) [0x00007FF6C764F798]\n",
      "\t(No symbol) [0x00007FF6C767BC9A]\n",
      "\t(No symbol) [0x00007FF6C764F09A]\n",
      "\t(No symbol) [0x00007FF6C767BEB0]\n",
      "\t(No symbol) [0x00007FF6C76981E2]\n",
      "\t(No symbol) [0x00007FF6C767BA43]\n",
      "\t(No symbol) [0x00007FF6C764D438]\n",
      "\t(No symbol) [0x00007FF6C764E4D1]\n",
      "\tGetHandleVerifier [0x00007FF6C7B66AAD+3709933]\n",
      "\tGetHandleVerifier [0x00007FF6C7BBFFED+4075821]\n",
      "\tGetHandleVerifier [0x00007FF6C7BB817F+4043455]\n",
      "\tGetHandleVerifier [0x00007FF6C7889756+706710]\n",
      "\t(No symbol) [0x00007FF6C776B8FF]\n",
      "\t(No symbol) [0x00007FF6C7766AE4]\n",
      "\t(No symbol) [0x00007FF6C7766C3C]\n",
      "\t(No symbol) [0x00007FF6C77568F4]\n",
      "\tBaseThreadInitThunk [0x00007FFC4A7B257D+29]\n",
      "\tRtlUserThreadStart [0x00007FFC4B6EAA58+40]\n",
      "\n"
     ]
    },
    {
     "name": "stderr",
     "output_type": "stream",
     "text": [
      "258it [02:41,  1.60it/s]\n"
     ]
    },
    {
     "name": "stdout",
     "output_type": "stream",
     "text": [
      "Message: element not interactable\n",
      "  (Session info: chrome=122.0.6261.112)\n",
      "Stacktrace:\n",
      "\tGetHandleVerifier [0x00007FF6C77EAD22+56930]\n",
      "\t(No symbol) [0x00007FF6C775F622]\n",
      "\t(No symbol) [0x00007FF6C761419D]\n",
      "\t(No symbol) [0x00007FF6C765ACA2]\n",
      "\t(No symbol) [0x00007FF6C764F798]\n",
      "\t(No symbol) [0x00007FF6C767BC9A]\n",
      "\t(No symbol) [0x00007FF6C764F09A]\n",
      "\t(No symbol) [0x00007FF6C767BEB0]\n",
      "\t(No symbol) [0x00007FF6C76981E2]\n",
      "\t(No symbol) [0x00007FF6C767BA43]\n",
      "\t(No symbol) [0x00007FF6C764D438]\n",
      "\t(No symbol) [0x00007FF6C764E4D1]\n",
      "\tGetHandleVerifier [0x00007FF6C7B66AAD+3709933]\n",
      "\tGetHandleVerifier [0x00007FF6C7BBFFED+4075821]\n",
      "\tGetHandleVerifier [0x00007FF6C7BB817F+4043455]\n",
      "\tGetHandleVerifier [0x00007FF6C7889756+706710]\n",
      "\t(No symbol) [0x00007FF6C776B8FF]\n",
      "\t(No symbol) [0x00007FF6C7766AE4]\n",
      "\t(No symbol) [0x00007FF6C7766C3C]\n",
      "\t(No symbol) [0x00007FF6C77568F4]\n",
      "\tBaseThreadInitThunk [0x00007FFC4A7B257D+29]\n",
      "\tRtlUserThreadStart [0x00007FFC4B6EAA58+40]\n",
      "\n"
     ]
    },
    {
     "name": "stderr",
     "output_type": "stream",
     "text": [
      "569it [05:37,  1.68it/s]\n"
     ]
    },
    {
     "name": "stdout",
     "output_type": "stream",
     "text": [
      "Message: element not interactable\n",
      "  (Session info: chrome=122.0.6261.112)\n",
      "Stacktrace:\n",
      "\tGetHandleVerifier [0x00007FF6C77EAD22+56930]\n",
      "\t(No symbol) [0x00007FF6C775F622]\n",
      "\t(No symbol) [0x00007FF6C761419D]\n",
      "\t(No symbol) [0x00007FF6C765ACA2]\n",
      "\t(No symbol) [0x00007FF6C764F798]\n",
      "\t(No symbol) [0x00007FF6C767BC9A]\n",
      "\t(No symbol) [0x00007FF6C764F09A]\n",
      "\t(No symbol) [0x00007FF6C767BEB0]\n",
      "\t(No symbol) [0x00007FF6C76981E2]\n",
      "\t(No symbol) [0x00007FF6C767BA43]\n",
      "\t(No symbol) [0x00007FF6C764D438]\n",
      "\t(No symbol) [0x00007FF6C764E4D1]\n",
      "\tGetHandleVerifier [0x00007FF6C7B66AAD+3709933]\n",
      "\tGetHandleVerifier [0x00007FF6C7BBFFED+4075821]\n",
      "\tGetHandleVerifier [0x00007FF6C7BB817F+4043455]\n",
      "\tGetHandleVerifier [0x00007FF6C7889756+706710]\n",
      "\t(No symbol) [0x00007FF6C776B8FF]\n",
      "\t(No symbol) [0x00007FF6C7766AE4]\n",
      "\t(No symbol) [0x00007FF6C7766C3C]\n",
      "\t(No symbol) [0x00007FF6C77568F4]\n",
      "\tBaseThreadInitThunk [0x00007FFC4A7B257D+29]\n",
      "\tRtlUserThreadStart [0x00007FFC4B6EAA58+40]\n",
      "\n"
     ]
    },
    {
     "name": "stderr",
     "output_type": "stream",
     "text": [
      "1251it [12:38,  1.65it/s]\n"
     ]
    },
    {
     "name": "stdout",
     "output_type": "stream",
     "text": [
      "Message: element not interactable\n",
      "  (Session info: chrome=122.0.6261.112)\n",
      "Stacktrace:\n",
      "\tGetHandleVerifier [0x00007FF6C77EAD22+56930]\n",
      "\t(No symbol) [0x00007FF6C775F622]\n",
      "\t(No symbol) [0x00007FF6C761419D]\n",
      "\t(No symbol) [0x00007FF6C765ACA2]\n",
      "\t(No symbol) [0x00007FF6C764F798]\n",
      "\t(No symbol) [0x00007FF6C767BC9A]\n",
      "\t(No symbol) [0x00007FF6C764F09A]\n",
      "\t(No symbol) [0x00007FF6C767BEB0]\n",
      "\t(No symbol) [0x00007FF6C76981E2]\n",
      "\t(No symbol) [0x00007FF6C767BA43]\n",
      "\t(No symbol) [0x00007FF6C764D438]\n",
      "\t(No symbol) [0x00007FF6C764E4D1]\n",
      "\tGetHandleVerifier [0x00007FF6C7B66AAD+3709933]\n",
      "\tGetHandleVerifier [0x00007FF6C7BBFFED+4075821]\n",
      "\tGetHandleVerifier [0x00007FF6C7BB817F+4043455]\n",
      "\tGetHandleVerifier [0x00007FF6C7889756+706710]\n",
      "\t(No symbol) [0x00007FF6C776B8FF]\n",
      "\t(No symbol) [0x00007FF6C7766AE4]\n",
      "\t(No symbol) [0x00007FF6C7766C3C]\n",
      "\t(No symbol) [0x00007FF6C77568F4]\n",
      "\tBaseThreadInitThunk [0x00007FFC4A7B257D+29]\n",
      "\tRtlUserThreadStart [0x00007FFC4B6EAA58+40]\n",
      "\n"
     ]
    },
    {
     "name": "stderr",
     "output_type": "stream",
     "text": [
      "1412it [14:28,  1.63it/s]\n"
     ]
    },
    {
     "name": "stdout",
     "output_type": "stream",
     "text": [
      "Message: element not interactable\n",
      "  (Session info: chrome=122.0.6261.112)\n",
      "Stacktrace:\n",
      "\tGetHandleVerifier [0x00007FF6C77EAD22+56930]\n",
      "\t(No symbol) [0x00007FF6C775F622]\n",
      "\t(No symbol) [0x00007FF6C761419D]\n",
      "\t(No symbol) [0x00007FF6C765ACA2]\n",
      "\t(No symbol) [0x00007FF6C764F798]\n",
      "\t(No symbol) [0x00007FF6C767BC9A]\n",
      "\t(No symbol) [0x00007FF6C764F09A]\n",
      "\t(No symbol) [0x00007FF6C767BEB0]\n",
      "\t(No symbol) [0x00007FF6C76981E2]\n",
      "\t(No symbol) [0x00007FF6C767BA43]\n",
      "\t(No symbol) [0x00007FF6C764D438]\n",
      "\t(No symbol) [0x00007FF6C764E4D1]\n",
      "\tGetHandleVerifier [0x00007FF6C7B66AAD+3709933]\n",
      "\tGetHandleVerifier [0x00007FF6C7BBFFED+4075821]\n",
      "\tGetHandleVerifier [0x00007FF6C7BB817F+4043455]\n",
      "\tGetHandleVerifier [0x00007FF6C7889756+706710]\n",
      "\t(No symbol) [0x00007FF6C776B8FF]\n",
      "\t(No symbol) [0x00007FF6C7766AE4]\n",
      "\t(No symbol) [0x00007FF6C7766C3C]\n",
      "\t(No symbol) [0x00007FF6C77568F4]\n",
      "\tBaseThreadInitThunk [0x00007FFC4A7B257D+29]\n",
      "\tRtlUserThreadStart [0x00007FFC4B6EAA58+40]\n",
      "\n"
     ]
    },
    {
     "name": "stderr",
     "output_type": "stream",
     "text": [
      "1089it [11:05,  1.64it/s]\n"
     ]
    },
    {
     "name": "stdout",
     "output_type": "stream",
     "text": [
      "Message: element not interactable\n",
      "  (Session info: chrome=122.0.6261.112)\n",
      "Stacktrace:\n",
      "\tGetHandleVerifier [0x00007FF6C77EAD22+56930]\n",
      "\t(No symbol) [0x00007FF6C775F622]\n",
      "\t(No symbol) [0x00007FF6C761419D]\n",
      "\t(No symbol) [0x00007FF6C765ACA2]\n",
      "\t(No symbol) [0x00007FF6C764F798]\n",
      "\t(No symbol) [0x00007FF6C767BC9A]\n",
      "\t(No symbol) [0x00007FF6C764F09A]\n",
      "\t(No symbol) [0x00007FF6C767BEB0]\n",
      "\t(No symbol) [0x00007FF6C76981E2]\n",
      "\t(No symbol) [0x00007FF6C767BA43]\n",
      "\t(No symbol) [0x00007FF6C764D438]\n",
      "\t(No symbol) [0x00007FF6C764E4D1]\n",
      "\tGetHandleVerifier [0x00007FF6C7B66AAD+3709933]\n",
      "\tGetHandleVerifier [0x00007FF6C7BBFFED+4075821]\n",
      "\tGetHandleVerifier [0x00007FF6C7BB817F+4043455]\n",
      "\tGetHandleVerifier [0x00007FF6C7889756+706710]\n",
      "\t(No symbol) [0x00007FF6C776B8FF]\n",
      "\t(No symbol) [0x00007FF6C7766AE4]\n",
      "\t(No symbol) [0x00007FF6C7766C3C]\n",
      "\t(No symbol) [0x00007FF6C77568F4]\n",
      "\tBaseThreadInitThunk [0x00007FFC4A7B257D+29]\n",
      "\tRtlUserThreadStart [0x00007FFC4B6EAA58+40]\n",
      "\n"
     ]
    },
    {
     "name": "stderr",
     "output_type": "stream",
     "text": [
      "1134it [11:55,  1.58it/s]\n"
     ]
    },
    {
     "name": "stdout",
     "output_type": "stream",
     "text": [
      "Message: element not interactable\n",
      "  (Session info: chrome=122.0.6261.112)\n",
      "Stacktrace:\n",
      "\tGetHandleVerifier [0x00007FF6C77EAD22+56930]\n",
      "\t(No symbol) [0x00007FF6C775F622]\n",
      "\t(No symbol) [0x00007FF6C761419D]\n",
      "\t(No symbol) [0x00007FF6C765ACA2]\n",
      "\t(No symbol) [0x00007FF6C764F798]\n",
      "\t(No symbol) [0x00007FF6C767BC9A]\n",
      "\t(No symbol) [0x00007FF6C764F09A]\n",
      "\t(No symbol) [0x00007FF6C767BEB0]\n",
      "\t(No symbol) [0x00007FF6C76981E2]\n",
      "\t(No symbol) [0x00007FF6C767BA43]\n",
      "\t(No symbol) [0x00007FF6C764D438]\n",
      "\t(No symbol) [0x00007FF6C764E4D1]\n",
      "\tGetHandleVerifier [0x00007FF6C7B66AAD+3709933]\n",
      "\tGetHandleVerifier [0x00007FF6C7BBFFED+4075821]\n",
      "\tGetHandleVerifier [0x00007FF6C7BB817F+4043455]\n",
      "\tGetHandleVerifier [0x00007FF6C7889756+706710]\n",
      "\t(No symbol) [0x00007FF6C776B8FF]\n",
      "\t(No symbol) [0x00007FF6C7766AE4]\n",
      "\t(No symbol) [0x00007FF6C7766C3C]\n",
      "\t(No symbol) [0x00007FF6C77568F4]\n",
      "\tBaseThreadInitThunk [0x00007FFC4A7B257D+29]\n",
      "\tRtlUserThreadStart [0x00007FFC4B6EAA58+40]\n",
      "\n"
     ]
    },
    {
     "name": "stderr",
     "output_type": "stream",
     "text": [
      "930it [09:35,  1.62it/s]\n"
     ]
    },
    {
     "name": "stdout",
     "output_type": "stream",
     "text": [
      "Message: element not interactable\n",
      "  (Session info: chrome=122.0.6261.112)\n",
      "Stacktrace:\n",
      "\tGetHandleVerifier [0x00007FF6C77EAD22+56930]\n",
      "\t(No symbol) [0x00007FF6C775F622]\n",
      "\t(No symbol) [0x00007FF6C761419D]\n",
      "\t(No symbol) [0x00007FF6C765ACA2]\n",
      "\t(No symbol) [0x00007FF6C764F798]\n",
      "\t(No symbol) [0x00007FF6C767BC9A]\n",
      "\t(No symbol) [0x00007FF6C764F09A]\n",
      "\t(No symbol) [0x00007FF6C767BEB0]\n",
      "\t(No symbol) [0x00007FF6C76981E2]\n",
      "\t(No symbol) [0x00007FF6C767BA43]\n",
      "\t(No symbol) [0x00007FF6C764D438]\n",
      "\t(No symbol) [0x00007FF6C764E4D1]\n",
      "\tGetHandleVerifier [0x00007FF6C7B66AAD+3709933]\n",
      "\tGetHandleVerifier [0x00007FF6C7BBFFED+4075821]\n",
      "\tGetHandleVerifier [0x00007FF6C7BB817F+4043455]\n",
      "\tGetHandleVerifier [0x00007FF6C7889756+706710]\n",
      "\t(No symbol) [0x00007FF6C776B8FF]\n",
      "\t(No symbol) [0x00007FF6C7766AE4]\n",
      "\t(No symbol) [0x00007FF6C7766C3C]\n",
      "\t(No symbol) [0x00007FF6C77568F4]\n",
      "\tBaseThreadInitThunk [0x00007FFC4A7B257D+29]\n",
      "\tRtlUserThreadStart [0x00007FFC4B6EAA58+40]\n",
      "\n"
     ]
    },
    {
     "name": "stderr",
     "output_type": "stream",
     "text": [
      "230it [02:17,  1.67it/s]\n"
     ]
    },
    {
     "name": "stdout",
     "output_type": "stream",
     "text": [
      "Message: element not interactable\n",
      "  (Session info: chrome=122.0.6261.112)\n",
      "Stacktrace:\n",
      "\tGetHandleVerifier [0x00007FF6C77EAD22+56930]\n",
      "\t(No symbol) [0x00007FF6C775F622]\n",
      "\t(No symbol) [0x00007FF6C761419D]\n",
      "\t(No symbol) [0x00007FF6C765ACA2]\n",
      "\t(No symbol) [0x00007FF6C764F798]\n",
      "\t(No symbol) [0x00007FF6C767BC9A]\n",
      "\t(No symbol) [0x00007FF6C764F09A]\n",
      "\t(No symbol) [0x00007FF6C767BEB0]\n",
      "\t(No symbol) [0x00007FF6C76981E2]\n",
      "\t(No symbol) [0x00007FF6C767BA43]\n",
      "\t(No symbol) [0x00007FF6C764D438]\n",
      "\t(No symbol) [0x00007FF6C764E4D1]\n",
      "\tGetHandleVerifier [0x00007FF6C7B66AAD+3709933]\n",
      "\tGetHandleVerifier [0x00007FF6C7BBFFED+4075821]\n",
      "\tGetHandleVerifier [0x00007FF6C7BB817F+4043455]\n",
      "\tGetHandleVerifier [0x00007FF6C7889756+706710]\n",
      "\t(No symbol) [0x00007FF6C776B8FF]\n",
      "\t(No symbol) [0x00007FF6C7766AE4]\n",
      "\t(No symbol) [0x00007FF6C7766C3C]\n",
      "\t(No symbol) [0x00007FF6C77568F4]\n",
      "\tBaseThreadInitThunk [0x00007FFC4A7B257D+29]\n",
      "\tRtlUserThreadStart [0x00007FFC4B6EAA58+40]\n",
      "\n"
     ]
    },
    {
     "name": "stderr",
     "output_type": "stream",
     "text": [
      "528it [05:32,  1.59it/s]\n"
     ]
    },
    {
     "name": "stdout",
     "output_type": "stream",
     "text": [
      "Message: element not interactable\n",
      "  (Session info: chrome=122.0.6261.112)\n",
      "Stacktrace:\n",
      "\tGetHandleVerifier [0x00007FF6C77EAD22+56930]\n",
      "\t(No symbol) [0x00007FF6C775F622]\n",
      "\t(No symbol) [0x00007FF6C761419D]\n",
      "\t(No symbol) [0x00007FF6C765ACA2]\n",
      "\t(No symbol) [0x00007FF6C764F798]\n",
      "\t(No symbol) [0x00007FF6C767BC9A]\n",
      "\t(No symbol) [0x00007FF6C764F09A]\n",
      "\t(No symbol) [0x00007FF6C767BEB0]\n",
      "\t(No symbol) [0x00007FF6C76981E2]\n",
      "\t(No symbol) [0x00007FF6C767BA43]\n",
      "\t(No symbol) [0x00007FF6C764D438]\n",
      "\t(No symbol) [0x00007FF6C764E4D1]\n",
      "\tGetHandleVerifier [0x00007FF6C7B66AAD+3709933]\n",
      "\tGetHandleVerifier [0x00007FF6C7BBFFED+4075821]\n",
      "\tGetHandleVerifier [0x00007FF6C7BB817F+4043455]\n",
      "\tGetHandleVerifier [0x00007FF6C7889756+706710]\n",
      "\t(No symbol) [0x00007FF6C776B8FF]\n",
      "\t(No symbol) [0x00007FF6C7766AE4]\n",
      "\t(No symbol) [0x00007FF6C7766C3C]\n",
      "\t(No symbol) [0x00007FF6C77568F4]\n",
      "\tBaseThreadInitThunk [0x00007FFC4A7B257D+29]\n",
      "\tRtlUserThreadStart [0x00007FFC4B6EAA58+40]\n",
      "\n"
     ]
    },
    {
     "name": "stderr",
     "output_type": "stream",
     "text": [
      "1313it [13:24,  1.63it/s]\n"
     ]
    },
    {
     "name": "stdout",
     "output_type": "stream",
     "text": [
      "Message: element not interactable\n",
      "  (Session info: chrome=122.0.6261.112)\n",
      "Stacktrace:\n",
      "\tGetHandleVerifier [0x00007FF6C77EAD22+56930]\n",
      "\t(No symbol) [0x00007FF6C775F622]\n",
      "\t(No symbol) [0x00007FF6C761419D]\n",
      "\t(No symbol) [0x00007FF6C765ACA2]\n",
      "\t(No symbol) [0x00007FF6C764F798]\n",
      "\t(No symbol) [0x00007FF6C767BC9A]\n",
      "\t(No symbol) [0x00007FF6C764F09A]\n",
      "\t(No symbol) [0x00007FF6C767BEB0]\n",
      "\t(No symbol) [0x00007FF6C76981E2]\n",
      "\t(No symbol) [0x00007FF6C767BA43]\n",
      "\t(No symbol) [0x00007FF6C764D438]\n",
      "\t(No symbol) [0x00007FF6C764E4D1]\n",
      "\tGetHandleVerifier [0x00007FF6C7B66AAD+3709933]\n",
      "\tGetHandleVerifier [0x00007FF6C7BBFFED+4075821]\n",
      "\tGetHandleVerifier [0x00007FF6C7BB817F+4043455]\n",
      "\tGetHandleVerifier [0x00007FF6C7889756+706710]\n",
      "\t(No symbol) [0x00007FF6C776B8FF]\n",
      "\t(No symbol) [0x00007FF6C7766AE4]\n",
      "\t(No symbol) [0x00007FF6C7766C3C]\n",
      "\t(No symbol) [0x00007FF6C77568F4]\n",
      "\tBaseThreadInitThunk [0x00007FFC4A7B257D+29]\n",
      "\tRtlUserThreadStart [0x00007FFC4B6EAA58+40]\n",
      "\n"
     ]
    },
    {
     "name": "stderr",
     "output_type": "stream",
     "text": [
      "1008it [10:16,  1.63it/s]\n"
     ]
    },
    {
     "name": "stdout",
     "output_type": "stream",
     "text": [
      "Message: element not interactable\n",
      "  (Session info: chrome=122.0.6261.112)\n",
      "Stacktrace:\n",
      "\tGetHandleVerifier [0x00007FF6C77EAD22+56930]\n",
      "\t(No symbol) [0x00007FF6C775F622]\n",
      "\t(No symbol) [0x00007FF6C761419D]\n",
      "\t(No symbol) [0x00007FF6C765ACA2]\n",
      "\t(No symbol) [0x00007FF6C764F798]\n",
      "\t(No symbol) [0x00007FF6C767BC9A]\n",
      "\t(No symbol) [0x00007FF6C764F09A]\n",
      "\t(No symbol) [0x00007FF6C767BEB0]\n",
      "\t(No symbol) [0x00007FF6C76981E2]\n",
      "\t(No symbol) [0x00007FF6C767BA43]\n",
      "\t(No symbol) [0x00007FF6C764D438]\n",
      "\t(No symbol) [0x00007FF6C764E4D1]\n",
      "\tGetHandleVerifier [0x00007FF6C7B66AAD+3709933]\n",
      "\tGetHandleVerifier [0x00007FF6C7BBFFED+4075821]\n",
      "\tGetHandleVerifier [0x00007FF6C7BB817F+4043455]\n",
      "\tGetHandleVerifier [0x00007FF6C7889756+706710]\n",
      "\t(No symbol) [0x00007FF6C776B8FF]\n",
      "\t(No symbol) [0x00007FF6C7766AE4]\n",
      "\t(No symbol) [0x00007FF6C7766C3C]\n",
      "\t(No symbol) [0x00007FF6C77568F4]\n",
      "\tBaseThreadInitThunk [0x00007FFC4A7B257D+29]\n",
      "\tRtlUserThreadStart [0x00007FFC4B6EAA58+40]\n",
      "\n"
     ]
    },
    {
     "name": "stderr",
     "output_type": "stream",
     "text": [
      "1289it [13:09,  1.63it/s]\n"
     ]
    },
    {
     "name": "stdout",
     "output_type": "stream",
     "text": [
      "Message: element not interactable\n",
      "  (Session info: chrome=122.0.6261.112)\n",
      "Stacktrace:\n",
      "\tGetHandleVerifier [0x00007FF6C77EAD22+56930]\n",
      "\t(No symbol) [0x00007FF6C775F622]\n",
      "\t(No symbol) [0x00007FF6C761419D]\n",
      "\t(No symbol) [0x00007FF6C765ACA2]\n",
      "\t(No symbol) [0x00007FF6C764F798]\n",
      "\t(No symbol) [0x00007FF6C767BC9A]\n",
      "\t(No symbol) [0x00007FF6C764F09A]\n",
      "\t(No symbol) [0x00007FF6C767BEB0]\n",
      "\t(No symbol) [0x00007FF6C76981E2]\n",
      "\t(No symbol) [0x00007FF6C767BA43]\n",
      "\t(No symbol) [0x00007FF6C764D438]\n",
      "\t(No symbol) [0x00007FF6C764E4D1]\n",
      "\tGetHandleVerifier [0x00007FF6C7B66AAD+3709933]\n",
      "\tGetHandleVerifier [0x00007FF6C7BBFFED+4075821]\n",
      "\tGetHandleVerifier [0x00007FF6C7BB817F+4043455]\n",
      "\tGetHandleVerifier [0x00007FF6C7889756+706710]\n",
      "\t(No symbol) [0x00007FF6C776B8FF]\n",
      "\t(No symbol) [0x00007FF6C7766AE4]\n",
      "\t(No symbol) [0x00007FF6C7766C3C]\n",
      "\t(No symbol) [0x00007FF6C77568F4]\n",
      "\tBaseThreadInitThunk [0x00007FFC4A7B257D+29]\n",
      "\tRtlUserThreadStart [0x00007FFC4B6EAA58+40]\n",
      "\n"
     ]
    },
    {
     "name": "stderr",
     "output_type": "stream",
     "text": [
      "1569it [15:53,  1.65it/s]\n"
     ]
    },
    {
     "name": "stdout",
     "output_type": "stream",
     "text": [
      "Message: element not interactable\n",
      "  (Session info: chrome=122.0.6261.112)\n",
      "Stacktrace:\n",
      "\tGetHandleVerifier [0x00007FF6C77EAD22+56930]\n",
      "\t(No symbol) [0x00007FF6C775F622]\n",
      "\t(No symbol) [0x00007FF6C761419D]\n",
      "\t(No symbol) [0x00007FF6C765ACA2]\n",
      "\t(No symbol) [0x00007FF6C764F798]\n",
      "\t(No symbol) [0x00007FF6C767BC9A]\n",
      "\t(No symbol) [0x00007FF6C764F09A]\n",
      "\t(No symbol) [0x00007FF6C767BEB0]\n",
      "\t(No symbol) [0x00007FF6C76981E2]\n",
      "\t(No symbol) [0x00007FF6C767BA43]\n",
      "\t(No symbol) [0x00007FF6C764D438]\n",
      "\t(No symbol) [0x00007FF6C764E4D1]\n",
      "\tGetHandleVerifier [0x00007FF6C7B66AAD+3709933]\n",
      "\tGetHandleVerifier [0x00007FF6C7BBFFED+4075821]\n",
      "\tGetHandleVerifier [0x00007FF6C7BB817F+4043455]\n",
      "\tGetHandleVerifier [0x00007FF6C7889756+706710]\n",
      "\t(No symbol) [0x00007FF6C776B8FF]\n",
      "\t(No symbol) [0x00007FF6C7766AE4]\n",
      "\t(No symbol) [0x00007FF6C7766C3C]\n",
      "\t(No symbol) [0x00007FF6C77568F4]\n",
      "\tBaseThreadInitThunk [0x00007FFC4A7B257D+29]\n",
      "\tRtlUserThreadStart [0x00007FFC4B6EAA58+40]\n",
      "\n"
     ]
    },
    {
     "name": "stderr",
     "output_type": "stream",
     "text": [
      "968it [09:53,  1.63it/s]\n"
     ]
    },
    {
     "name": "stdout",
     "output_type": "stream",
     "text": [
      "Message: element not interactable\n",
      "  (Session info: chrome=122.0.6261.112)\n",
      "Stacktrace:\n",
      "\tGetHandleVerifier [0x00007FF6C77EAD22+56930]\n",
      "\t(No symbol) [0x00007FF6C775F622]\n",
      "\t(No symbol) [0x00007FF6C761419D]\n",
      "\t(No symbol) [0x00007FF6C765ACA2]\n",
      "\t(No symbol) [0x00007FF6C764F798]\n",
      "\t(No symbol) [0x00007FF6C767BC9A]\n",
      "\t(No symbol) [0x00007FF6C764F09A]\n",
      "\t(No symbol) [0x00007FF6C767BEB0]\n",
      "\t(No symbol) [0x00007FF6C76981E2]\n",
      "\t(No symbol) [0x00007FF6C767BA43]\n",
      "\t(No symbol) [0x00007FF6C764D438]\n",
      "\t(No symbol) [0x00007FF6C764E4D1]\n",
      "\tGetHandleVerifier [0x00007FF6C7B66AAD+3709933]\n",
      "\tGetHandleVerifier [0x00007FF6C7BBFFED+4075821]\n",
      "\tGetHandleVerifier [0x00007FF6C7BB817F+4043455]\n",
      "\tGetHandleVerifier [0x00007FF6C7889756+706710]\n",
      "\t(No symbol) [0x00007FF6C776B8FF]\n",
      "\t(No symbol) [0x00007FF6C7766AE4]\n",
      "\t(No symbol) [0x00007FF6C7766C3C]\n",
      "\t(No symbol) [0x00007FF6C77568F4]\n",
      "\tBaseThreadInitThunk [0x00007FFC4A7B257D+29]\n",
      "\tRtlUserThreadStart [0x00007FFC4B6EAA58+40]\n",
      "\n"
     ]
    },
    {
     "name": "stderr",
     "output_type": "stream",
     "text": [
      "229it [02:19,  1.64it/s]\n"
     ]
    },
    {
     "name": "stdout",
     "output_type": "stream",
     "text": [
      "Message: element not interactable\n",
      "  (Session info: chrome=122.0.6261.112)\n",
      "Stacktrace:\n",
      "\tGetHandleVerifier [0x00007FF6C77EAD22+56930]\n",
      "\t(No symbol) [0x00007FF6C775F622]\n",
      "\t(No symbol) [0x00007FF6C761419D]\n",
      "\t(No symbol) [0x00007FF6C765ACA2]\n",
      "\t(No symbol) [0x00007FF6C764F798]\n",
      "\t(No symbol) [0x00007FF6C767BC9A]\n",
      "\t(No symbol) [0x00007FF6C764F09A]\n",
      "\t(No symbol) [0x00007FF6C767BEB0]\n",
      "\t(No symbol) [0x00007FF6C76981E2]\n",
      "\t(No symbol) [0x00007FF6C767BA43]\n",
      "\t(No symbol) [0x00007FF6C764D438]\n",
      "\t(No symbol) [0x00007FF6C764E4D1]\n",
      "\tGetHandleVerifier [0x00007FF6C7B66AAD+3709933]\n",
      "\tGetHandleVerifier [0x00007FF6C7BBFFED+4075821]\n",
      "\tGetHandleVerifier [0x00007FF6C7BB817F+4043455]\n",
      "\tGetHandleVerifier [0x00007FF6C7889756+706710]\n",
      "\t(No symbol) [0x00007FF6C776B8FF]\n",
      "\t(No symbol) [0x00007FF6C7766AE4]\n",
      "\t(No symbol) [0x00007FF6C7766C3C]\n",
      "\t(No symbol) [0x00007FF6C77568F4]\n",
      "\tBaseThreadInitThunk [0x00007FFC4A7B257D+29]\n",
      "\tRtlUserThreadStart [0x00007FFC4B6EAA58+40]\n",
      "\n"
     ]
    },
    {
     "name": "stderr",
     "output_type": "stream",
     "text": [
      "644it [06:40,  1.61it/s]\n"
     ]
    },
    {
     "name": "stdout",
     "output_type": "stream",
     "text": [
      "Message: element not interactable\n",
      "  (Session info: chrome=122.0.6261.112)\n",
      "Stacktrace:\n",
      "\tGetHandleVerifier [0x00007FF6C77EAD22+56930]\n",
      "\t(No symbol) [0x00007FF6C775F622]\n",
      "\t(No symbol) [0x00007FF6C761419D]\n",
      "\t(No symbol) [0x00007FF6C765ACA2]\n",
      "\t(No symbol) [0x00007FF6C764F798]\n",
      "\t(No symbol) [0x00007FF6C767BC9A]\n",
      "\t(No symbol) [0x00007FF6C764F09A]\n",
      "\t(No symbol) [0x00007FF6C767BEB0]\n",
      "\t(No symbol) [0x00007FF6C76981E2]\n",
      "\t(No symbol) [0x00007FF6C767BA43]\n",
      "\t(No symbol) [0x00007FF6C764D438]\n",
      "\t(No symbol) [0x00007FF6C764E4D1]\n",
      "\tGetHandleVerifier [0x00007FF6C7B66AAD+3709933]\n",
      "\tGetHandleVerifier [0x00007FF6C7BBFFED+4075821]\n",
      "\tGetHandleVerifier [0x00007FF6C7BB817F+4043455]\n",
      "\tGetHandleVerifier [0x00007FF6C7889756+706710]\n",
      "\t(No symbol) [0x00007FF6C776B8FF]\n",
      "\t(No symbol) [0x00007FF6C7766AE4]\n",
      "\t(No symbol) [0x00007FF6C7766C3C]\n",
      "\t(No symbol) [0x00007FF6C77568F4]\n",
      "\tBaseThreadInitThunk [0x00007FFC4A7B257D+29]\n",
      "\tRtlUserThreadStart [0x00007FFC4B6EAA58+40]\n",
      "\n"
     ]
    },
    {
     "name": "stderr",
     "output_type": "stream",
     "text": [
      "1264it [13:08,  1.60it/s]\n"
     ]
    },
    {
     "name": "stdout",
     "output_type": "stream",
     "text": [
      "Message: element not interactable\n",
      "  (Session info: chrome=122.0.6261.112)\n",
      "Stacktrace:\n",
      "\tGetHandleVerifier [0x00007FF6C77EAD22+56930]\n",
      "\t(No symbol) [0x00007FF6C775F622]\n",
      "\t(No symbol) [0x00007FF6C761419D]\n",
      "\t(No symbol) [0x00007FF6C765ACA2]\n",
      "\t(No symbol) [0x00007FF6C764F798]\n",
      "\t(No symbol) [0x00007FF6C767BC9A]\n",
      "\t(No symbol) [0x00007FF6C764F09A]\n",
      "\t(No symbol) [0x00007FF6C767BEB0]\n",
      "\t(No symbol) [0x00007FF6C76981E2]\n",
      "\t(No symbol) [0x00007FF6C767BA43]\n",
      "\t(No symbol) [0x00007FF6C764D438]\n",
      "\t(No symbol) [0x00007FF6C764E4D1]\n",
      "\tGetHandleVerifier [0x00007FF6C7B66AAD+3709933]\n",
      "\tGetHandleVerifier [0x00007FF6C7BBFFED+4075821]\n",
      "\tGetHandleVerifier [0x00007FF6C7BB817F+4043455]\n",
      "\tGetHandleVerifier [0x00007FF6C7889756+706710]\n",
      "\t(No symbol) [0x00007FF6C776B8FF]\n",
      "\t(No symbol) [0x00007FF6C7766AE4]\n",
      "\t(No symbol) [0x00007FF6C7766C3C]\n",
      "\t(No symbol) [0x00007FF6C77568F4]\n",
      "\tBaseThreadInitThunk [0x00007FFC4A7B257D+29]\n",
      "\tRtlUserThreadStart [0x00007FFC4B6EAA58+40]\n",
      "\n"
     ]
    },
    {
     "name": "stderr",
     "output_type": "stream",
     "text": [
      "1139it [11:48,  1.61it/s]\n"
     ]
    },
    {
     "name": "stdout",
     "output_type": "stream",
     "text": [
      "Message: element not interactable\n",
      "  (Session info: chrome=122.0.6261.112)\n",
      "Stacktrace:\n",
      "\tGetHandleVerifier [0x00007FF6C77EAD22+56930]\n",
      "\t(No symbol) [0x00007FF6C775F622]\n",
      "\t(No symbol) [0x00007FF6C761419D]\n",
      "\t(No symbol) [0x00007FF6C765ACA2]\n",
      "\t(No symbol) [0x00007FF6C764F798]\n",
      "\t(No symbol) [0x00007FF6C767BC9A]\n",
      "\t(No symbol) [0x00007FF6C764F09A]\n",
      "\t(No symbol) [0x00007FF6C767BEB0]\n",
      "\t(No symbol) [0x00007FF6C76981E2]\n",
      "\t(No symbol) [0x00007FF6C767BA43]\n",
      "\t(No symbol) [0x00007FF6C764D438]\n",
      "\t(No symbol) [0x00007FF6C764E4D1]\n",
      "\tGetHandleVerifier [0x00007FF6C7B66AAD+3709933]\n",
      "\tGetHandleVerifier [0x00007FF6C7BBFFED+4075821]\n",
      "\tGetHandleVerifier [0x00007FF6C7BB817F+4043455]\n",
      "\tGetHandleVerifier [0x00007FF6C7889756+706710]\n",
      "\t(No symbol) [0x00007FF6C776B8FF]\n",
      "\t(No symbol) [0x00007FF6C7766AE4]\n",
      "\t(No symbol) [0x00007FF6C7766C3C]\n",
      "\t(No symbol) [0x00007FF6C77568F4]\n",
      "\tBaseThreadInitThunk [0x00007FFC4A7B257D+29]\n",
      "\tRtlUserThreadStart [0x00007FFC4B6EAA58+40]\n",
      "\n"
     ]
    },
    {
     "name": "stderr",
     "output_type": "stream",
     "text": [
      "1496it [15:06,  1.65it/s]\n"
     ]
    },
    {
     "name": "stdout",
     "output_type": "stream",
     "text": [
      "Message: element not interactable\n",
      "  (Session info: chrome=122.0.6261.112)\n",
      "Stacktrace:\n",
      "\tGetHandleVerifier [0x00007FF6C77EAD22+56930]\n",
      "\t(No symbol) [0x00007FF6C775F622]\n",
      "\t(No symbol) [0x00007FF6C761419D]\n",
      "\t(No symbol) [0x00007FF6C765ACA2]\n",
      "\t(No symbol) [0x00007FF6C764F798]\n",
      "\t(No symbol) [0x00007FF6C767BC9A]\n",
      "\t(No symbol) [0x00007FF6C764F09A]\n",
      "\t(No symbol) [0x00007FF6C767BEB0]\n",
      "\t(No symbol) [0x00007FF6C76981E2]\n",
      "\t(No symbol) [0x00007FF6C767BA43]\n",
      "\t(No symbol) [0x00007FF6C764D438]\n",
      "\t(No symbol) [0x00007FF6C764E4D1]\n",
      "\tGetHandleVerifier [0x00007FF6C7B66AAD+3709933]\n",
      "\tGetHandleVerifier [0x00007FF6C7BBFFED+4075821]\n",
      "\tGetHandleVerifier [0x00007FF6C7BB817F+4043455]\n",
      "\tGetHandleVerifier [0x00007FF6C7889756+706710]\n",
      "\t(No symbol) [0x00007FF6C776B8FF]\n",
      "\t(No symbol) [0x00007FF6C7766AE4]\n",
      "\t(No symbol) [0x00007FF6C7766C3C]\n",
      "\t(No symbol) [0x00007FF6C77568F4]\n",
      "\tBaseThreadInitThunk [0x00007FFC4A7B257D+29]\n",
      "\tRtlUserThreadStart [0x00007FFC4B6EAA58+40]\n",
      "\n"
     ]
    },
    {
     "name": "stderr",
     "output_type": "stream",
     "text": [
      "1981it [20:10,  1.64it/s]\n"
     ]
    },
    {
     "name": "stdout",
     "output_type": "stream",
     "text": [
      "Message: element not interactable\n",
      "  (Session info: chrome=122.0.6261.112)\n",
      "Stacktrace:\n",
      "\tGetHandleVerifier [0x00007FF6C77EAD22+56930]\n",
      "\t(No symbol) [0x00007FF6C775F622]\n",
      "\t(No symbol) [0x00007FF6C761419D]\n",
      "\t(No symbol) [0x00007FF6C765ACA2]\n",
      "\t(No symbol) [0x00007FF6C764F798]\n",
      "\t(No symbol) [0x00007FF6C767BC9A]\n",
      "\t(No symbol) [0x00007FF6C764F09A]\n",
      "\t(No symbol) [0x00007FF6C767BEB0]\n",
      "\t(No symbol) [0x00007FF6C76981E2]\n",
      "\t(No symbol) [0x00007FF6C767BA43]\n",
      "\t(No symbol) [0x00007FF6C764D438]\n",
      "\t(No symbol) [0x00007FF6C764E4D1]\n",
      "\tGetHandleVerifier [0x00007FF6C7B66AAD+3709933]\n",
      "\tGetHandleVerifier [0x00007FF6C7BBFFED+4075821]\n",
      "\tGetHandleVerifier [0x00007FF6C7BB817F+4043455]\n",
      "\tGetHandleVerifier [0x00007FF6C7889756+706710]\n",
      "\t(No symbol) [0x00007FF6C776B8FF]\n",
      "\t(No symbol) [0x00007FF6C7766AE4]\n",
      "\t(No symbol) [0x00007FF6C7766C3C]\n",
      "\t(No symbol) [0x00007FF6C77568F4]\n",
      "\tBaseThreadInitThunk [0x00007FFC4A7B257D+29]\n",
      "\tRtlUserThreadStart [0x00007FFC4B6EAA58+40]\n",
      "\n"
     ]
    },
    {
     "name": "stderr",
     "output_type": "stream",
     "text": [
      "1131it [11:17,  1.67it/s]\n"
     ]
    },
    {
     "name": "stdout",
     "output_type": "stream",
     "text": [
      "Message: element not interactable\n",
      "  (Session info: chrome=122.0.6261.112)\n",
      "Stacktrace:\n",
      "\tGetHandleVerifier [0x00007FF6C77EAD22+56930]\n",
      "\t(No symbol) [0x00007FF6C775F622]\n",
      "\t(No symbol) [0x00007FF6C761419D]\n",
      "\t(No symbol) [0x00007FF6C765ACA2]\n",
      "\t(No symbol) [0x00007FF6C764F798]\n",
      "\t(No symbol) [0x00007FF6C767BC9A]\n",
      "\t(No symbol) [0x00007FF6C764F09A]\n",
      "\t(No symbol) [0x00007FF6C767BEB0]\n",
      "\t(No symbol) [0x00007FF6C76981E2]\n",
      "\t(No symbol) [0x00007FF6C767BA43]\n",
      "\t(No symbol) [0x00007FF6C764D438]\n",
      "\t(No symbol) [0x00007FF6C764E4D1]\n",
      "\tGetHandleVerifier [0x00007FF6C7B66AAD+3709933]\n",
      "\tGetHandleVerifier [0x00007FF6C7BBFFED+4075821]\n",
      "\tGetHandleVerifier [0x00007FF6C7BB817F+4043455]\n",
      "\tGetHandleVerifier [0x00007FF6C7889756+706710]\n",
      "\t(No symbol) [0x00007FF6C776B8FF]\n",
      "\t(No symbol) [0x00007FF6C7766AE4]\n",
      "\t(No symbol) [0x00007FF6C7766C3C]\n",
      "\t(No symbol) [0x00007FF6C77568F4]\n",
      "\tBaseThreadInitThunk [0x00007FFC4A7B257D+29]\n",
      "\tRtlUserThreadStart [0x00007FFC4B6EAA58+40]\n",
      "\n"
     ]
    },
    {
     "name": "stderr",
     "output_type": "stream",
     "text": [
      "589it [05:41,  1.73it/s]\n"
     ]
    },
    {
     "name": "stdout",
     "output_type": "stream",
     "text": [
      "Message: element not interactable\n",
      "  (Session info: chrome=122.0.6261.112)\n",
      "Stacktrace:\n",
      "\tGetHandleVerifier [0x00007FF6C77EAD22+56930]\n",
      "\t(No symbol) [0x00007FF6C775F622]\n",
      "\t(No symbol) [0x00007FF6C761419D]\n",
      "\t(No symbol) [0x00007FF6C765ACA2]\n",
      "\t(No symbol) [0x00007FF6C764F798]\n",
      "\t(No symbol) [0x00007FF6C767BC9A]\n",
      "\t(No symbol) [0x00007FF6C764F09A]\n",
      "\t(No symbol) [0x00007FF6C767BEB0]\n",
      "\t(No symbol) [0x00007FF6C76981E2]\n",
      "\t(No symbol) [0x00007FF6C767BA43]\n",
      "\t(No symbol) [0x00007FF6C764D438]\n",
      "\t(No symbol) [0x00007FF6C764E4D1]\n",
      "\tGetHandleVerifier [0x00007FF6C7B66AAD+3709933]\n",
      "\tGetHandleVerifier [0x00007FF6C7BBFFED+4075821]\n",
      "\tGetHandleVerifier [0x00007FF6C7BB817F+4043455]\n",
      "\tGetHandleVerifier [0x00007FF6C7889756+706710]\n",
      "\t(No symbol) [0x00007FF6C776B8FF]\n",
      "\t(No symbol) [0x00007FF6C7766AE4]\n",
      "\t(No symbol) [0x00007FF6C7766C3C]\n",
      "\t(No symbol) [0x00007FF6C77568F4]\n",
      "\tBaseThreadInitThunk [0x00007FFC4A7B257D+29]\n",
      "\tRtlUserThreadStart [0x00007FFC4B6EAA58+40]\n",
      "\n"
     ]
    },
    {
     "name": "stderr",
     "output_type": "stream",
     "text": [
      "1266it [12:50,  1.64it/s]\n"
     ]
    },
    {
     "name": "stdout",
     "output_type": "stream",
     "text": [
      "Message: element not interactable\n",
      "  (Session info: chrome=122.0.6261.112)\n",
      "Stacktrace:\n",
      "\tGetHandleVerifier [0x00007FF6C77EAD22+56930]\n",
      "\t(No symbol) [0x00007FF6C775F622]\n",
      "\t(No symbol) [0x00007FF6C761419D]\n",
      "\t(No symbol) [0x00007FF6C765ACA2]\n",
      "\t(No symbol) [0x00007FF6C764F798]\n",
      "\t(No symbol) [0x00007FF6C767BC9A]\n",
      "\t(No symbol) [0x00007FF6C764F09A]\n",
      "\t(No symbol) [0x00007FF6C767BEB0]\n",
      "\t(No symbol) [0x00007FF6C76981E2]\n",
      "\t(No symbol) [0x00007FF6C767BA43]\n",
      "\t(No symbol) [0x00007FF6C764D438]\n",
      "\t(No symbol) [0x00007FF6C764E4D1]\n",
      "\tGetHandleVerifier [0x00007FF6C7B66AAD+3709933]\n",
      "\tGetHandleVerifier [0x00007FF6C7BBFFED+4075821]\n",
      "\tGetHandleVerifier [0x00007FF6C7BB817F+4043455]\n",
      "\tGetHandleVerifier [0x00007FF6C7889756+706710]\n",
      "\t(No symbol) [0x00007FF6C776B8FF]\n",
      "\t(No symbol) [0x00007FF6C7766AE4]\n",
      "\t(No symbol) [0x00007FF6C7766C3C]\n",
      "\t(No symbol) [0x00007FF6C77568F4]\n",
      "\tBaseThreadInitThunk [0x00007FFC4A7B257D+29]\n",
      "\tRtlUserThreadStart [0x00007FFC4B6EAA58+40]\n",
      "\n"
     ]
    },
    {
     "name": "stderr",
     "output_type": "stream",
     "text": [
      "1625it [16:39,  1.63it/s]\n"
     ]
    },
    {
     "name": "stdout",
     "output_type": "stream",
     "text": [
      "Message: element not interactable\n",
      "  (Session info: chrome=122.0.6261.112)\n",
      "Stacktrace:\n",
      "\tGetHandleVerifier [0x00007FF6C77EAD22+56930]\n",
      "\t(No symbol) [0x00007FF6C775F622]\n",
      "\t(No symbol) [0x00007FF6C761419D]\n",
      "\t(No symbol) [0x00007FF6C765ACA2]\n",
      "\t(No symbol) [0x00007FF6C764F798]\n",
      "\t(No symbol) [0x00007FF6C767BC9A]\n",
      "\t(No symbol) [0x00007FF6C764F09A]\n",
      "\t(No symbol) [0x00007FF6C767BEB0]\n",
      "\t(No symbol) [0x00007FF6C76981E2]\n",
      "\t(No symbol) [0x00007FF6C767BA43]\n",
      "\t(No symbol) [0x00007FF6C764D438]\n",
      "\t(No symbol) [0x00007FF6C764E4D1]\n",
      "\tGetHandleVerifier [0x00007FF6C7B66AAD+3709933]\n",
      "\tGetHandleVerifier [0x00007FF6C7BBFFED+4075821]\n",
      "\tGetHandleVerifier [0x00007FF6C7BB817F+4043455]\n",
      "\tGetHandleVerifier [0x00007FF6C7889756+706710]\n",
      "\t(No symbol) [0x00007FF6C776B8FF]\n",
      "\t(No symbol) [0x00007FF6C7766AE4]\n",
      "\t(No symbol) [0x00007FF6C7766C3C]\n",
      "\t(No symbol) [0x00007FF6C77568F4]\n",
      "\tBaseThreadInitThunk [0x00007FFC4A7B257D+29]\n",
      "\tRtlUserThreadStart [0x00007FFC4B6EAA58+40]\n",
      "\n"
     ]
    },
    {
     "name": "stderr",
     "output_type": "stream",
     "text": [
      "1712it [17:33,  1.62it/s]\n"
     ]
    },
    {
     "name": "stdout",
     "output_type": "stream",
     "text": [
      "Message: element not interactable\n",
      "  (Session info: chrome=122.0.6261.112)\n",
      "Stacktrace:\n",
      "\tGetHandleVerifier [0x00007FF6C77EAD22+56930]\n",
      "\t(No symbol) [0x00007FF6C775F622]\n",
      "\t(No symbol) [0x00007FF6C761419D]\n",
      "\t(No symbol) [0x00007FF6C765ACA2]\n",
      "\t(No symbol) [0x00007FF6C764F798]\n",
      "\t(No symbol) [0x00007FF6C767BC9A]\n",
      "\t(No symbol) [0x00007FF6C764F09A]\n",
      "\t(No symbol) [0x00007FF6C767BEB0]\n",
      "\t(No symbol) [0x00007FF6C76981E2]\n",
      "\t(No symbol) [0x00007FF6C767BA43]\n",
      "\t(No symbol) [0x00007FF6C764D438]\n",
      "\t(No symbol) [0x00007FF6C764E4D1]\n",
      "\tGetHandleVerifier [0x00007FF6C7B66AAD+3709933]\n",
      "\tGetHandleVerifier [0x00007FF6C7BBFFED+4075821]\n",
      "\tGetHandleVerifier [0x00007FF6C7BB817F+4043455]\n",
      "\tGetHandleVerifier [0x00007FF6C7889756+706710]\n",
      "\t(No symbol) [0x00007FF6C776B8FF]\n",
      "\t(No symbol) [0x00007FF6C7766AE4]\n",
      "\t(No symbol) [0x00007FF6C7766C3C]\n",
      "\t(No symbol) [0x00007FF6C77568F4]\n",
      "\tBaseThreadInitThunk [0x00007FFC4A7B257D+29]\n",
      "\tRtlUserThreadStart [0x00007FFC4B6EAA58+40]\n",
      "\n"
     ]
    },
    {
     "name": "stderr",
     "output_type": "stream",
     "text": [
      "1476it [15:06,  1.63it/s]\n"
     ]
    },
    {
     "name": "stdout",
     "output_type": "stream",
     "text": [
      "Message: element not interactable\n",
      "  (Session info: chrome=122.0.6261.112)\n",
      "Stacktrace:\n",
      "\tGetHandleVerifier [0x00007FF6C77EAD22+56930]\n",
      "\t(No symbol) [0x00007FF6C775F622]\n",
      "\t(No symbol) [0x00007FF6C761419D]\n",
      "\t(No symbol) [0x00007FF6C765ACA2]\n",
      "\t(No symbol) [0x00007FF6C764F798]\n",
      "\t(No symbol) [0x00007FF6C767BC9A]\n",
      "\t(No symbol) [0x00007FF6C764F09A]\n",
      "\t(No symbol) [0x00007FF6C767BEB0]\n",
      "\t(No symbol) [0x00007FF6C76981E2]\n",
      "\t(No symbol) [0x00007FF6C767BA43]\n",
      "\t(No symbol) [0x00007FF6C764D438]\n",
      "\t(No symbol) [0x00007FF6C764E4D1]\n",
      "\tGetHandleVerifier [0x00007FF6C7B66AAD+3709933]\n",
      "\tGetHandleVerifier [0x00007FF6C7BBFFED+4075821]\n",
      "\tGetHandleVerifier [0x00007FF6C7BB817F+4043455]\n",
      "\tGetHandleVerifier [0x00007FF6C7889756+706710]\n",
      "\t(No symbol) [0x00007FF6C776B8FF]\n",
      "\t(No symbol) [0x00007FF6C7766AE4]\n",
      "\t(No symbol) [0x00007FF6C7766C3C]\n",
      "\t(No symbol) [0x00007FF6C77568F4]\n",
      "\tBaseThreadInitThunk [0x00007FFC4A7B257D+29]\n",
      "\tRtlUserThreadStart [0x00007FFC4B6EAA58+40]\n",
      "\n"
     ]
    },
    {
     "name": "stderr",
     "output_type": "stream",
     "text": [
      "1729it [17:34,  1.64it/s]\n"
     ]
    },
    {
     "name": "stdout",
     "output_type": "stream",
     "text": [
      "Message: element not interactable\n",
      "  (Session info: chrome=122.0.6261.112)\n",
      "Stacktrace:\n",
      "\tGetHandleVerifier [0x00007FF6C77EAD22+56930]\n",
      "\t(No symbol) [0x00007FF6C775F622]\n",
      "\t(No symbol) [0x00007FF6C761419D]\n",
      "\t(No symbol) [0x00007FF6C765ACA2]\n",
      "\t(No symbol) [0x00007FF6C764F798]\n",
      "\t(No symbol) [0x00007FF6C767BC9A]\n",
      "\t(No symbol) [0x00007FF6C764F09A]\n",
      "\t(No symbol) [0x00007FF6C767BEB0]\n",
      "\t(No symbol) [0x00007FF6C76981E2]\n",
      "\t(No symbol) [0x00007FF6C767BA43]\n",
      "\t(No symbol) [0x00007FF6C764D438]\n",
      "\t(No symbol) [0x00007FF6C764E4D1]\n",
      "\tGetHandleVerifier [0x00007FF6C7B66AAD+3709933]\n",
      "\tGetHandleVerifier [0x00007FF6C7BBFFED+4075821]\n",
      "\tGetHandleVerifier [0x00007FF6C7BB817F+4043455]\n",
      "\tGetHandleVerifier [0x00007FF6C7889756+706710]\n",
      "\t(No symbol) [0x00007FF6C776B8FF]\n",
      "\t(No symbol) [0x00007FF6C7766AE4]\n",
      "\t(No symbol) [0x00007FF6C7766C3C]\n",
      "\t(No symbol) [0x00007FF6C77568F4]\n",
      "\tBaseThreadInitThunk [0x00007FFC4A7B257D+29]\n",
      "\tRtlUserThreadStart [0x00007FFC4B6EAA58+40]\n",
      "\n"
     ]
    },
    {
     "name": "stderr",
     "output_type": "stream",
     "text": [
      "1368it [13:56,  1.64it/s]\n"
     ]
    },
    {
     "name": "stdout",
     "output_type": "stream",
     "text": [
      "Message: element not interactable\n",
      "  (Session info: chrome=122.0.6261.112)\n",
      "Stacktrace:\n",
      "\tGetHandleVerifier [0x00007FF6C77EAD22+56930]\n",
      "\t(No symbol) [0x00007FF6C775F622]\n",
      "\t(No symbol) [0x00007FF6C761419D]\n",
      "\t(No symbol) [0x00007FF6C765ACA2]\n",
      "\t(No symbol) [0x00007FF6C764F798]\n",
      "\t(No symbol) [0x00007FF6C767BC9A]\n",
      "\t(No symbol) [0x00007FF6C764F09A]\n",
      "\t(No symbol) [0x00007FF6C767BEB0]\n",
      "\t(No symbol) [0x00007FF6C76981E2]\n",
      "\t(No symbol) [0x00007FF6C767BA43]\n",
      "\t(No symbol) [0x00007FF6C764D438]\n",
      "\t(No symbol) [0x00007FF6C764E4D1]\n",
      "\tGetHandleVerifier [0x00007FF6C7B66AAD+3709933]\n",
      "\tGetHandleVerifier [0x00007FF6C7BBFFED+4075821]\n",
      "\tGetHandleVerifier [0x00007FF6C7BB817F+4043455]\n",
      "\tGetHandleVerifier [0x00007FF6C7889756+706710]\n",
      "\t(No symbol) [0x00007FF6C776B8FF]\n",
      "\t(No symbol) [0x00007FF6C7766AE4]\n",
      "\t(No symbol) [0x00007FF6C7766C3C]\n",
      "\t(No symbol) [0x00007FF6C77568F4]\n",
      "\tBaseThreadInitThunk [0x00007FFC4A7B257D+29]\n",
      "\tRtlUserThreadStart [0x00007FFC4B6EAA58+40]\n",
      "\n"
     ]
    },
    {
     "name": "stderr",
     "output_type": "stream",
     "text": [
      "743it [07:29,  1.65it/s]\n"
     ]
    },
    {
     "name": "stdout",
     "output_type": "stream",
     "text": [
      "Message: element not interactable\n",
      "  (Session info: chrome=122.0.6261.112)\n",
      "Stacktrace:\n",
      "\tGetHandleVerifier [0x00007FF6C77EAD22+56930]\n",
      "\t(No symbol) [0x00007FF6C775F622]\n",
      "\t(No symbol) [0x00007FF6C761419D]\n",
      "\t(No symbol) [0x00007FF6C765ACA2]\n",
      "\t(No symbol) [0x00007FF6C764F798]\n",
      "\t(No symbol) [0x00007FF6C767BC9A]\n",
      "\t(No symbol) [0x00007FF6C764F09A]\n",
      "\t(No symbol) [0x00007FF6C767BEB0]\n",
      "\t(No symbol) [0x00007FF6C76981E2]\n",
      "\t(No symbol) [0x00007FF6C767BA43]\n",
      "\t(No symbol) [0x00007FF6C764D438]\n",
      "\t(No symbol) [0x00007FF6C764E4D1]\n",
      "\tGetHandleVerifier [0x00007FF6C7B66AAD+3709933]\n",
      "\tGetHandleVerifier [0x00007FF6C7BBFFED+4075821]\n",
      "\tGetHandleVerifier [0x00007FF6C7BB817F+4043455]\n",
      "\tGetHandleVerifier [0x00007FF6C7889756+706710]\n",
      "\t(No symbol) [0x00007FF6C776B8FF]\n",
      "\t(No symbol) [0x00007FF6C7766AE4]\n",
      "\t(No symbol) [0x00007FF6C7766C3C]\n",
      "\t(No symbol) [0x00007FF6C77568F4]\n",
      "\tBaseThreadInitThunk [0x00007FFC4A7B257D+29]\n",
      "\tRtlUserThreadStart [0x00007FFC4B6EAA58+40]\n",
      "\n"
     ]
    },
    {
     "name": "stderr",
     "output_type": "stream",
     "text": [
      "1315it [13:34,  1.61it/s]\n"
     ]
    },
    {
     "name": "stdout",
     "output_type": "stream",
     "text": [
      "Message: element not interactable\n",
      "  (Session info: chrome=122.0.6261.112)\n",
      "Stacktrace:\n",
      "\tGetHandleVerifier [0x00007FF6C77EAD22+56930]\n",
      "\t(No symbol) [0x00007FF6C775F622]\n",
      "\t(No symbol) [0x00007FF6C761419D]\n",
      "\t(No symbol) [0x00007FF6C765ACA2]\n",
      "\t(No symbol) [0x00007FF6C764F798]\n",
      "\t(No symbol) [0x00007FF6C767BC9A]\n",
      "\t(No symbol) [0x00007FF6C764F09A]\n",
      "\t(No symbol) [0x00007FF6C767BEB0]\n",
      "\t(No symbol) [0x00007FF6C76981E2]\n",
      "\t(No symbol) [0x00007FF6C767BA43]\n",
      "\t(No symbol) [0x00007FF6C764D438]\n",
      "\t(No symbol) [0x00007FF6C764E4D1]\n",
      "\tGetHandleVerifier [0x00007FF6C7B66AAD+3709933]\n",
      "\tGetHandleVerifier [0x00007FF6C7BBFFED+4075821]\n",
      "\tGetHandleVerifier [0x00007FF6C7BB817F+4043455]\n",
      "\tGetHandleVerifier [0x00007FF6C7889756+706710]\n",
      "\t(No symbol) [0x00007FF6C776B8FF]\n",
      "\t(No symbol) [0x00007FF6C7766AE4]\n",
      "\t(No symbol) [0x00007FF6C7766C3C]\n",
      "\t(No symbol) [0x00007FF6C77568F4]\n",
      "\tBaseThreadInitThunk [0x00007FFC4A7B257D+29]\n",
      "\tRtlUserThreadStart [0x00007FFC4B6EAA58+40]\n",
      "\n"
     ]
    },
    {
     "name": "stderr",
     "output_type": "stream",
     "text": [
      "1598it [16:28,  1.62it/s]\n"
     ]
    },
    {
     "name": "stdout",
     "output_type": "stream",
     "text": [
      "Message: element not interactable\n",
      "  (Session info: chrome=122.0.6261.112)\n",
      "Stacktrace:\n",
      "\tGetHandleVerifier [0x00007FF6C77EAD22+56930]\n",
      "\t(No symbol) [0x00007FF6C775F622]\n",
      "\t(No symbol) [0x00007FF6C761419D]\n",
      "\t(No symbol) [0x00007FF6C765ACA2]\n",
      "\t(No symbol) [0x00007FF6C764F798]\n",
      "\t(No symbol) [0x00007FF6C767BC9A]\n",
      "\t(No symbol) [0x00007FF6C764F09A]\n",
      "\t(No symbol) [0x00007FF6C767BEB0]\n",
      "\t(No symbol) [0x00007FF6C76981E2]\n",
      "\t(No symbol) [0x00007FF6C767BA43]\n",
      "\t(No symbol) [0x00007FF6C764D438]\n",
      "\t(No symbol) [0x00007FF6C764E4D1]\n",
      "\tGetHandleVerifier [0x00007FF6C7B66AAD+3709933]\n",
      "\tGetHandleVerifier [0x00007FF6C7BBFFED+4075821]\n",
      "\tGetHandleVerifier [0x00007FF6C7BB817F+4043455]\n",
      "\tGetHandleVerifier [0x00007FF6C7889756+706710]\n",
      "\t(No symbol) [0x00007FF6C776B8FF]\n",
      "\t(No symbol) [0x00007FF6C7766AE4]\n",
      "\t(No symbol) [0x00007FF6C7766C3C]\n",
      "\t(No symbol) [0x00007FF6C77568F4]\n",
      "\tBaseThreadInitThunk [0x00007FFC4A7B257D+29]\n",
      "\tRtlUserThreadStart [0x00007FFC4B6EAA58+40]\n",
      "\n"
     ]
    },
    {
     "name": "stderr",
     "output_type": "stream",
     "text": [
      "1852it [19:11,  1.61it/s]\n"
     ]
    }
   ],
   "source": [
    "# # 웹 드라이버 시작\n",
    "# driver = webdriver.Chrome()\n",
    "# df_2020 = pd.DataFrame()\n",
    "\n",
    "# # 네이버 뉴스 페이지로 이동\n",
    "# current_date = start_date\n",
    "# while current_date <= end_date:\n",
    "#     formatted_date = current_date.strftime(\"%Y%m%d\")\n",
    "\n",
    "#     driver.get('https://news.naver.com/breakingnews/section/100/265?date={}'.format(formatted_date))\n",
    "\n",
    "#     # '기사 더보기'없을 때까지\n",
    "#     try:\n",
    "#         while True:\n",
    "#             elem1 = driver.find_element(By.CLASS_NAME, \"section_more_inner._CONTENT_LIST_LOAD_MORE_BUTTON\")\n",
    "#             elem1.click()\n",
    "#             time.sleep(1)  # 대기\n",
    "#     except Exception as e:\n",
    "#         print(e)\n",
    "\n",
    "\n",
    "\n",
    "#     # 페이지 소스 가져오기\n",
    "#     page_source = driver.page_source\n",
    "\n",
    "#     # BeautifulSoup을 사용하여 페이지 소스를 파싱\n",
    "#     soup = BeautifulSoup(page_source, 'html.parser')\n",
    "\n",
    "#     # 제목 가져오기\n",
    "#     titles = soup.select('div.section_latest > div > div.section_latest_article._CONTENT_LIST._PERSIST_META > \\\n",
    "#                               div > ul > li > div > div > div.sa_text > a > strong.sa_text_strong')\n",
    "\n",
    "#     # 링크 가져오기\n",
    "#     links = soup.select('div.section_latest > div > div.section_latest_article._CONTENT_LIST._PERSIST_META > \\\n",
    "#                               div > ul > li > div > div > div.sa_text > a')\n",
    "\n",
    "#     title_lst = []\n",
    "#     content_lst = []\n",
    "\n",
    "#     # 링크로 이동해서 내용 가져오기\n",
    "#     for title, link in tqdm(zip(titles, links)):\n",
    "#         article_link = link['href'] # 링크 가져오기\n",
    "#         driver.get(article_link) # 링크로 이동\n",
    "\n",
    "#         # 페이지 소스 가져오기\n",
    "#         article_page_source = driver.page_source\n",
    "#         article_soup = BeautifulSoup(article_page_source, 'lxml')\n",
    "\n",
    "#         # 내용 가져오기\n",
    "#         content = article_soup.select_one('div.ct_wrap > div.ct_scroll_wrapper > div#newsct > div#ct > div#contents > \\\n",
    "#                             div#newsct_article > article#dic_area')\n",
    "\n",
    "#         if content:\n",
    "#             content_lst.append(content.text.strip())\n",
    "#         else:\n",
    "#             content_lst.append('No content available') # 내용이 없는 경우 예외 처리\n",
    "\n",
    "#         title_lst.append(title.string)\n",
    "\n",
    "\n",
    "#     # 데이터 저장\n",
    "#     df = pd.DataFrame({'title' : title_lst, 'content' : content_lst})\n",
    "#     df_2020 = pd.concat([df_2020,df], ignore_index=True)\n",
    "    \n",
    "#     current_date += datetime.timedelta(days=1)\n",
    "\n",
    "# # 웹 드라이버 종료\n",
    "# driver.quit()\n",
    "\n",
    "# df_2020.to_csv('2020_234_news.csv', index = False)"
   ]
  },
  {
   "cell_type": "code",
   "execution_count": 74,
   "id": "8e690bcb",
   "metadata": {
    "ExecuteTime": {
     "end_time": "2024-03-08T00:54:18.901015Z",
     "start_time": "2024-03-08T00:54:16.684734Z"
    }
   },
   "outputs": [],
   "source": [
    "df_2020_1 = pd.read_csv('./2020_1_news.csv')\n",
    "df_2020_234 = pd.read_csv('./2020_234_news.csv')"
   ]
  },
  {
   "cell_type": "code",
   "execution_count": 75,
   "id": "f44c8204",
   "metadata": {
    "ExecuteTime": {
     "end_time": "2024-03-08T00:54:18.915315Z",
     "start_time": "2024-03-08T00:54:18.902044Z"
    }
   },
   "outputs": [
    {
     "data": {
      "text/html": [
       "<div>\n",
       "<style scoped>\n",
       "    .dataframe tbody tr th:only-of-type {\n",
       "        vertical-align: middle;\n",
       "    }\n",
       "\n",
       "    .dataframe tbody tr th {\n",
       "        vertical-align: top;\n",
       "    }\n",
       "\n",
       "    .dataframe thead th {\n",
       "        text-align: right;\n",
       "    }\n",
       "</style>\n",
       "<table border=\"1\" class=\"dataframe\">\n",
       "  <thead>\n",
       "    <tr style=\"text-align: right;\">\n",
       "      <th></th>\n",
       "      <th>title</th>\n",
       "      <th>content</th>\n",
       "    </tr>\n",
       "  </thead>\n",
       "  <tbody>\n",
       "    <tr>\n",
       "      <th>0</th>\n",
       "      <td>유시민 \"검찰도 사법도 썩었지\" vs 진중권 \"유시민 망상, 대중은 현실로 믿어\"</td>\n",
       "      <td>JTBC 신년토론서 격돌조국 전 장관 사태와 '유시민의 알릴레오' 두고 논쟁\\n\\n...</td>\n",
       "    </tr>\n",
       "    <tr>\n",
       "      <th>1</th>\n",
       "      <td>특정 정당 맹목적 지지 없어…진보진영 유리 장담 못해 [신년 기획 - 21대 총선 분석]</td>\n",
       "      <td>ㆍ사상 첫 18세 투표 영향은신규 유입 유권자 약 53만명여야, 청소년 전략 마련 ...</td>\n",
       "    </tr>\n",
       "    <tr>\n",
       "      <th>2</th>\n",
       "      <td>한국당 \"울산시장 선거 정황 의심\"…추미애 고발</td>\n",
       "      <td>[머니투데이 한고은 기자] \\n\\n\\n\\n(서울=뉴스1) 임세영 기자 = 곽상도 자...</td>\n",
       "    </tr>\n",
       "    <tr>\n",
       "      <th>3</th>\n",
       "      <td>한국당, 추미애 檢 고발..\"선거법 위반\"</td>\n",
       "      <td>곽상도 친문농단특위 위원장, 1일 고발\"지방선거 전 송철호에 靑행정관 소개\"\"공무상...</td>\n",
       "    </tr>\n",
       "    <tr>\n",
       "      <th>4</th>\n",
       "      <td>文의장 \"검찰·선거개혁 단초 열어 보람…소명 다할 것\"</td>\n",
       "      <td>\"공수처는 金·盧·文 세 대통령의 숙원이자 꿈\"  한국당 '아빠 찬스, 아들 공천'...</td>\n",
       "    </tr>\n",
       "    <tr>\n",
       "      <th>...</th>\n",
       "      <td>...</td>\n",
       "      <td>...</td>\n",
       "    </tr>\n",
       "    <tr>\n",
       "      <th>23605</th>\n",
       "      <td>'송철호 당선은 내 소망'이라던 文대통령, 野 \"文대통령 입 열어야\"</td>\n",
       "      <td>검찰, 靑 울산시장 선거개입 관련 참모들 줄줄이 기소·소환文대통령·宋 시장, 돈독…...</td>\n",
       "    </tr>\n",
       "    <tr>\n",
       "      <th>23606</th>\n",
       "      <td>'노무현의 오른팔' 이광재, 강원도 파랗게 물들일까</td>\n",
       "      <td>선대위원장직 수락, 지역구 출마는 '숙고'앞서 '험지 출마' 공언해 출마 가능성 높...</td>\n",
       "    </tr>\n",
       "    <tr>\n",
       "      <th>23607</th>\n",
       "      <td>안철수·유승민·태극기 동시 '품기' 나선 황교안</td>\n",
       "      <td>黃 \"중도세력 마음 얻어야 총선 승리안철수, 함께 뭉쳐 文정권 폭정 맞서야내가 왜 ...</td>\n",
       "    </tr>\n",
       "    <tr>\n",
       "      <th>23608</th>\n",
       "      <td>[TF확대경] '원종건'에 놀란 민주당, 조동인 '철새 청년' 논란</td>\n",
       "      <td>'데이트 폭력' 의혹으로 영입인재 자격을 반납한 원종건(오른쪽) 씨에 이어 또 다른...</td>\n",
       "    </tr>\n",
       "    <tr>\n",
       "      <th>23609</th>\n",
       "      <td>조국 전 장관, 재산 53억4천만원 신고…10달만에 1억2천만 감소</td>\n",
       "      <td>집값 상승에도 재산 줄어…부인 정경심 교수 펀드 팔아 변호사비 등 지출\\n\\n\\n\\...</td>\n",
       "    </tr>\n",
       "  </tbody>\n",
       "</table>\n",
       "<p>23610 rows × 2 columns</p>\n",
       "</div>"
      ],
      "text/plain": [
       "                                                   title  \\\n",
       "0          유시민 \"검찰도 사법도 썩었지\" vs 진중권 \"유시민 망상, 대중은 현실로 믿어\"   \n",
       "1      특정 정당 맹목적 지지 없어…진보진영 유리 장담 못해 [신년 기획 - 21대 총선 분석]   \n",
       "2                             한국당 \"울산시장 선거 정황 의심\"…추미애 고발   \n",
       "3                                한국당, 추미애 檢 고발..\"선거법 위반\"   \n",
       "4                         文의장 \"검찰·선거개혁 단초 열어 보람…소명 다할 것\"   \n",
       "...                                                  ...   \n",
       "23605             '송철호 당선은 내 소망'이라던 文대통령, 野 \"文대통령 입 열어야\"   \n",
       "23606                       '노무현의 오른팔' 이광재, 강원도 파랗게 물들일까   \n",
       "23607                         안철수·유승민·태극기 동시 '품기' 나선 황교안   \n",
       "23608              [TF확대경] '원종건'에 놀란 민주당, 조동인 '철새 청년' 논란   \n",
       "23609              조국 전 장관, 재산 53억4천만원 신고…10달만에 1억2천만 감소   \n",
       "\n",
       "                                                 content  \n",
       "0      JTBC 신년토론서 격돌조국 전 장관 사태와 '유시민의 알릴레오' 두고 논쟁\\n\\n...  \n",
       "1      ㆍ사상 첫 18세 투표 영향은신규 유입 유권자 약 53만명여야, 청소년 전략 마련 ...  \n",
       "2      [머니투데이 한고은 기자] \\n\\n\\n\\n(서울=뉴스1) 임세영 기자 = 곽상도 자...  \n",
       "3      곽상도 친문농단특위 위원장, 1일 고발\"지방선거 전 송철호에 靑행정관 소개\"\"공무상...  \n",
       "4      \"공수처는 金·盧·文 세 대통령의 숙원이자 꿈\"  한국당 '아빠 찬스, 아들 공천'...  \n",
       "...                                                  ...  \n",
       "23605  검찰, 靑 울산시장 선거개입 관련 참모들 줄줄이 기소·소환文대통령·宋 시장, 돈독…...  \n",
       "23606  선대위원장직 수락, 지역구 출마는 '숙고'앞서 '험지 출마' 공언해 출마 가능성 높...  \n",
       "23607  黃 \"중도세력 마음 얻어야 총선 승리안철수, 함께 뭉쳐 文정권 폭정 맞서야내가 왜 ...  \n",
       "23608  '데이트 폭력' 의혹으로 영입인재 자격을 반납한 원종건(오른쪽) 씨에 이어 또 다른...  \n",
       "23609  집값 상승에도 재산 줄어…부인 정경심 교수 펀드 팔아 변호사비 등 지출\\n\\n\\n\\...  \n",
       "\n",
       "[23610 rows x 2 columns]"
      ]
     },
     "execution_count": 75,
     "metadata": {},
     "output_type": "execute_result"
    },
    {
     "data": {
      "text/html": [
       "<div>\n",
       "<style scoped>\n",
       "    .dataframe tbody tr th:only-of-type {\n",
       "        vertical-align: middle;\n",
       "    }\n",
       "\n",
       "    .dataframe tbody tr th {\n",
       "        vertical-align: top;\n",
       "    }\n",
       "\n",
       "    .dataframe thead th {\n",
       "        text-align: right;\n",
       "    }\n",
       "</style>\n",
       "<table border=\"1\" class=\"dataframe\">\n",
       "  <thead>\n",
       "    <tr style=\"text-align: right;\">\n",
       "      <th></th>\n",
       "      <th>title</th>\n",
       "      <th>content</th>\n",
       "    </tr>\n",
       "  </thead>\n",
       "  <tbody>\n",
       "    <tr>\n",
       "      <th>0</th>\n",
       "      <td>김의겸 편지 호소에 野\"피해자 코스프레\", 진중권 \"너절하게 군다\"</td>\n",
       "      <td>김의겸, 이해찬 대표에 호소 편지 보내 또다른 논란 \\n\\n\\n\\n \\n\\n\\n\\n...</td>\n",
       "    </tr>\n",
       "    <tr>\n",
       "      <th>1</th>\n",
       "      <td>보수野 \"김의겸, 피해자 코스프레 하고 있어…뻔뻔함 극치\"</td>\n",
       "      <td>한국 \"대통령 덕 볼 요량 버리고 당당히 무소속 출마하길\"바른미래 \"기어이 출마하려...</td>\n",
       "    </tr>\n",
       "    <tr>\n",
       "      <th>2</th>\n",
       "      <td>고민정 2일 민주당 입당…출마 거론되는 지역은</td>\n",
       "      <td>[사진 = 연합뉴스] 더불어민주당은 1일 고민정 전 청와대 대변인이 오는 2일 입당...</td>\n",
       "    </tr>\n",
       "    <tr>\n",
       "      <th>3</th>\n",
       "      <td>고민정, 내일(2일) 민주당 입당…추미애 지역구 광진 출마로 오세훈과 맞붙나</td>\n",
       "      <td>고민정, 2일 민주당 입당광진 고양 등 수도권 출마 가능성\\n\\n\\n\\n사진=연합뉴...</td>\n",
       "    </tr>\n",
       "    <tr>\n",
       "      <th>4</th>\n",
       "      <td>김의겸, '이해찬 대표님께' 간곡한 호소글 \"군산 예비후보로 뛸 수만 있게\"</td>\n",
       "      <td>김의겸, 이번엔 이해찬에 공개 편지\"민주당 저에게만 가혹..기회 달라\"김의겸 \"군산...</td>\n",
       "    </tr>\n",
       "    <tr>\n",
       "      <th>...</th>\n",
       "      <td>...</td>\n",
       "      <td>...</td>\n",
       "    </tr>\n",
       "    <tr>\n",
       "      <th>74615</th>\n",
       "      <td>‘세월호 막말’ 닷새만에… 차명진 제명</td>\n",
       "      <td>통합당, 긴급 최고위서 직권 의결… 수도권 전체 판세에 악영향 판단강원선 김진태 선...</td>\n",
       "    </tr>\n",
       "    <tr>\n",
       "      <th>74616</th>\n",
       "      <td>정봉주 “나를 개쓰레기 취급” 與 막말 비난</td>\n",
       "      <td>논란 일자 “부적절한 표현” 사과\\n\\n\\n\\n열린민주당 정봉주 최고위원(사진)이 ...</td>\n",
       "    </tr>\n",
       "    <tr>\n",
       "      <th>74617</th>\n",
       "      <td>민주당 “아직 2% 부족” vs 통합당 “100석도 위태”</td>\n",
       "      <td>이해찬 “수도권 121석중 70곳 경합”박형준 “개헌 저지선도 무너질 위기” 김종인...</td>\n",
       "    </tr>\n",
       "    <tr>\n",
       "      <th>74618</th>\n",
       "      <td>[총선2020] 범여권, '오세훈만 떨어뜨리면 된다' 계산 섰나</td>\n",
       "      <td>민주당 핵심 당직자들, 한날 광진을 지원방문'촛불시민모임' '대진연' 등도 계속해 ...</td>\n",
       "    </tr>\n",
       "    <tr>\n",
       "      <th>74619</th>\n",
       "      <td>아일랜드 중도우파 양대정당, 사상 첫 연정 '사실상 합의'</td>\n",
       "      <td>\"양 정당 대표 합의안 검토…승인 후 제3당 참여 위해 공유\"녹색당·노동당·사회민주...</td>\n",
       "    </tr>\n",
       "  </tbody>\n",
       "</table>\n",
       "<p>74620 rows × 2 columns</p>\n",
       "</div>"
      ],
      "text/plain": [
       "                                            title  \\\n",
       "0           김의겸 편지 호소에 野\"피해자 코스프레\", 진중권 \"너절하게 군다\"   \n",
       "1                보수野 \"김의겸, 피해자 코스프레 하고 있어…뻔뻔함 극치\"   \n",
       "2                       고민정 2일 민주당 입당…출마 거론되는 지역은   \n",
       "3      고민정, 내일(2일) 민주당 입당…추미애 지역구 광진 출마로 오세훈과 맞붙나   \n",
       "4      김의겸, '이해찬 대표님께' 간곡한 호소글 \"군산 예비후보로 뛸 수만 있게\"   \n",
       "...                                           ...   \n",
       "74615                       ‘세월호 막말’ 닷새만에… 차명진 제명   \n",
       "74616                    정봉주 “나를 개쓰레기 취급” 與 막말 비난   \n",
       "74617            민주당 “아직 2% 부족” vs 통합당 “100석도 위태”   \n",
       "74618         [총선2020] 범여권, '오세훈만 떨어뜨리면 된다' 계산 섰나   \n",
       "74619            아일랜드 중도우파 양대정당, 사상 첫 연정 '사실상 합의'   \n",
       "\n",
       "                                                 content  \n",
       "0      김의겸, 이해찬 대표에 호소 편지 보내 또다른 논란 \\n\\n\\n\\n \\n\\n\\n\\n...  \n",
       "1      한국 \"대통령 덕 볼 요량 버리고 당당히 무소속 출마하길\"바른미래 \"기어이 출마하려...  \n",
       "2      [사진 = 연합뉴스] 더불어민주당은 1일 고민정 전 청와대 대변인이 오는 2일 입당...  \n",
       "3      고민정, 2일 민주당 입당광진 고양 등 수도권 출마 가능성\\n\\n\\n\\n사진=연합뉴...  \n",
       "4      김의겸, 이번엔 이해찬에 공개 편지\"민주당 저에게만 가혹..기회 달라\"김의겸 \"군산...  \n",
       "...                                                  ...  \n",
       "74615  통합당, 긴급 최고위서 직권 의결… 수도권 전체 판세에 악영향 판단강원선 김진태 선...  \n",
       "74616  논란 일자 “부적절한 표현” 사과\\n\\n\\n\\n열린민주당 정봉주 최고위원(사진)이 ...  \n",
       "74617  이해찬 “수도권 121석중 70곳 경합”박형준 “개헌 저지선도 무너질 위기” 김종인...  \n",
       "74618  민주당 핵심 당직자들, 한날 광진을 지원방문'촛불시민모임' '대진연' 등도 계속해 ...  \n",
       "74619  \"양 정당 대표 합의안 검토…승인 후 제3당 참여 위해 공유\"녹색당·노동당·사회민주...  \n",
       "\n",
       "[74620 rows x 2 columns]"
      ]
     },
     "execution_count": 75,
     "metadata": {},
     "output_type": "execute_result"
    }
   ],
   "source": [
    "df_2020_1\n",
    "df_2020_234"
   ]
  },
  {
   "cell_type": "code",
   "execution_count": 76,
   "id": "1b5b543b",
   "metadata": {
    "ExecuteTime": {
     "end_time": "2024-03-08T00:54:21.019734Z",
     "start_time": "2024-03-08T00:54:18.916315Z"
    }
   },
   "outputs": [],
   "source": [
    "df_news = pd.concat([df_2020_1, df_2020_234])\n",
    "df_news.to_csv('df_news.csv', index = False)"
   ]
  },
  {
   "cell_type": "markdown",
   "id": "328e2559",
   "metadata": {},
   "source": [
    "# 전처리"
   ]
  },
  {
   "cell_type": "code",
   "execution_count": 133,
   "id": "f89cc632",
   "metadata": {
    "ExecuteTime": {
     "end_time": "2024-03-08T01:30:06.555570Z",
     "start_time": "2024-03-08T01:30:04.386482Z"
    }
   },
   "outputs": [
    {
     "data": {
      "text/html": [
       "<div>\n",
       "<style scoped>\n",
       "    .dataframe tbody tr th:only-of-type {\n",
       "        vertical-align: middle;\n",
       "    }\n",
       "\n",
       "    .dataframe tbody tr th {\n",
       "        vertical-align: top;\n",
       "    }\n",
       "\n",
       "    .dataframe thead th {\n",
       "        text-align: right;\n",
       "    }\n",
       "</style>\n",
       "<table border=\"1\" class=\"dataframe\">\n",
       "  <thead>\n",
       "    <tr style=\"text-align: right;\">\n",
       "      <th></th>\n",
       "      <th>title</th>\n",
       "      <th>content</th>\n",
       "    </tr>\n",
       "  </thead>\n",
       "  <tbody>\n",
       "    <tr>\n",
       "      <th>0</th>\n",
       "      <td>유시민 \"검찰도 사법도 썩었지\" vs 진중권 \"유시민 망상, 대중은 현실로 믿어\"</td>\n",
       "      <td>JTBC 신년토론서 격돌조국 전 장관 사태와 '유시민의 알릴레오' 두고 논쟁\\n\\n...</td>\n",
       "    </tr>\n",
       "    <tr>\n",
       "      <th>1</th>\n",
       "      <td>특정 정당 맹목적 지지 없어…진보진영 유리 장담 못해 [신년 기획 - 21대 총선 분석]</td>\n",
       "      <td>ㆍ사상 첫 18세 투표 영향은신규 유입 유권자 약 53만명여야, 청소년 전략 마련 ...</td>\n",
       "    </tr>\n",
       "    <tr>\n",
       "      <th>2</th>\n",
       "      <td>한국당 \"울산시장 선거 정황 의심\"…추미애 고발</td>\n",
       "      <td>[머니투데이 한고은 기자] \\n\\n\\n\\n(서울=뉴스1) 임세영 기자 = 곽상도 자...</td>\n",
       "    </tr>\n",
       "    <tr>\n",
       "      <th>3</th>\n",
       "      <td>한국당, 추미애 檢 고발..\"선거법 위반\"</td>\n",
       "      <td>곽상도 친문농단특위 위원장, 1일 고발\"지방선거 전 송철호에 靑행정관 소개\"\"공무상...</td>\n",
       "    </tr>\n",
       "    <tr>\n",
       "      <th>4</th>\n",
       "      <td>文의장 \"검찰·선거개혁 단초 열어 보람…소명 다할 것\"</td>\n",
       "      <td>\"공수처는 金·盧·文 세 대통령의 숙원이자 꿈\"  한국당 '아빠 찬스, 아들 공천'...</td>\n",
       "    </tr>\n",
       "    <tr>\n",
       "      <th>...</th>\n",
       "      <td>...</td>\n",
       "      <td>...</td>\n",
       "    </tr>\n",
       "    <tr>\n",
       "      <th>98225</th>\n",
       "      <td>‘세월호 막말’ 닷새만에… 차명진 제명</td>\n",
       "      <td>통합당, 긴급 최고위서 직권 의결… 수도권 전체 판세에 악영향 판단강원선 김진태 선...</td>\n",
       "    </tr>\n",
       "    <tr>\n",
       "      <th>98226</th>\n",
       "      <td>정봉주 “나를 개쓰레기 취급” 與 막말 비난</td>\n",
       "      <td>논란 일자 “부적절한 표현” 사과\\n\\n\\n\\n열린민주당 정봉주 최고위원(사진)이 ...</td>\n",
       "    </tr>\n",
       "    <tr>\n",
       "      <th>98227</th>\n",
       "      <td>민주당 “아직 2% 부족” vs 통합당 “100석도 위태”</td>\n",
       "      <td>이해찬 “수도권 121석중 70곳 경합”박형준 “개헌 저지선도 무너질 위기” 김종인...</td>\n",
       "    </tr>\n",
       "    <tr>\n",
       "      <th>98228</th>\n",
       "      <td>[총선2020] 범여권, '오세훈만 떨어뜨리면 된다' 계산 섰나</td>\n",
       "      <td>민주당 핵심 당직자들, 한날 광진을 지원방문'촛불시민모임' '대진연' 등도 계속해 ...</td>\n",
       "    </tr>\n",
       "    <tr>\n",
       "      <th>98229</th>\n",
       "      <td>아일랜드 중도우파 양대정당, 사상 첫 연정 '사실상 합의'</td>\n",
       "      <td>\"양 정당 대표 합의안 검토…승인 후 제3당 참여 위해 공유\"녹색당·노동당·사회민주...</td>\n",
       "    </tr>\n",
       "  </tbody>\n",
       "</table>\n",
       "<p>98230 rows × 2 columns</p>\n",
       "</div>"
      ],
      "text/plain": [
       "                                                   title  \\\n",
       "0          유시민 \"검찰도 사법도 썩었지\" vs 진중권 \"유시민 망상, 대중은 현실로 믿어\"   \n",
       "1      특정 정당 맹목적 지지 없어…진보진영 유리 장담 못해 [신년 기획 - 21대 총선 분석]   \n",
       "2                             한국당 \"울산시장 선거 정황 의심\"…추미애 고발   \n",
       "3                                한국당, 추미애 檢 고발..\"선거법 위반\"   \n",
       "4                         文의장 \"검찰·선거개혁 단초 열어 보람…소명 다할 것\"   \n",
       "...                                                  ...   \n",
       "98225                              ‘세월호 막말’ 닷새만에… 차명진 제명   \n",
       "98226                           정봉주 “나를 개쓰레기 취급” 與 막말 비난   \n",
       "98227                   민주당 “아직 2% 부족” vs 통합당 “100석도 위태”   \n",
       "98228                [총선2020] 범여권, '오세훈만 떨어뜨리면 된다' 계산 섰나   \n",
       "98229                   아일랜드 중도우파 양대정당, 사상 첫 연정 '사실상 합의'   \n",
       "\n",
       "                                                 content  \n",
       "0      JTBC 신년토론서 격돌조국 전 장관 사태와 '유시민의 알릴레오' 두고 논쟁\\n\\n...  \n",
       "1      ㆍ사상 첫 18세 투표 영향은신규 유입 유권자 약 53만명여야, 청소년 전략 마련 ...  \n",
       "2      [머니투데이 한고은 기자] \\n\\n\\n\\n(서울=뉴스1) 임세영 기자 = 곽상도 자...  \n",
       "3      곽상도 친문농단특위 위원장, 1일 고발\"지방선거 전 송철호에 靑행정관 소개\"\"공무상...  \n",
       "4      \"공수처는 金·盧·文 세 대통령의 숙원이자 꿈\"  한국당 '아빠 찬스, 아들 공천'...  \n",
       "...                                                  ...  \n",
       "98225  통합당, 긴급 최고위서 직권 의결… 수도권 전체 판세에 악영향 판단강원선 김진태 선...  \n",
       "98226  논란 일자 “부적절한 표현” 사과\\n\\n\\n\\n열린민주당 정봉주 최고위원(사진)이 ...  \n",
       "98227  이해찬 “수도권 121석중 70곳 경합”박형준 “개헌 저지선도 무너질 위기” 김종인...  \n",
       "98228  민주당 핵심 당직자들, 한날 광진을 지원방문'촛불시민모임' '대진연' 등도 계속해 ...  \n",
       "98229  \"양 정당 대표 합의안 검토…승인 후 제3당 참여 위해 공유\"녹색당·노동당·사회민주...  \n",
       "\n",
       "[98230 rows x 2 columns]"
      ]
     },
     "execution_count": 133,
     "metadata": {},
     "output_type": "execute_result"
    }
   ],
   "source": [
    "df_news = pd.read_csv('./df_news.csv')\n",
    "\n",
    "df_news"
   ]
  },
  {
   "cell_type": "code",
   "execution_count": 134,
   "id": "dde0a273",
   "metadata": {
    "ExecuteTime": {
     "end_time": "2024-03-08T01:30:06.572727Z",
     "start_time": "2024-03-08T01:30:06.556569Z"
    }
   },
   "outputs": [
    {
     "data": {
      "text/html": [
       "<div>\n",
       "<style scoped>\n",
       "    .dataframe tbody tr th:only-of-type {\n",
       "        vertical-align: middle;\n",
       "    }\n",
       "\n",
       "    .dataframe tbody tr th {\n",
       "        vertical-align: top;\n",
       "    }\n",
       "\n",
       "    .dataframe thead th {\n",
       "        text-align: right;\n",
       "    }\n",
       "</style>\n",
       "<table border=\"1\" class=\"dataframe\">\n",
       "  <thead>\n",
       "    <tr style=\"text-align: right;\">\n",
       "      <th></th>\n",
       "      <th>title</th>\n",
       "      <th>content</th>\n",
       "    </tr>\n",
       "  </thead>\n",
       "  <tbody>\n",
       "    <tr>\n",
       "      <th>4149</th>\n",
       "      <td>[21대 총선] 광주 동남갑, '3선 장병완' 민주당 도전 막아낼까</td>\n",
       "      <td>No content available</td>\n",
       "    </tr>\n",
       "    <tr>\n",
       "      <th>4296</th>\n",
       "      <td>'암벽여제' 김자인, 남편 민주당 입당에 \"믿고 응원\"</td>\n",
       "      <td>No content available</td>\n",
       "    </tr>\n",
       "    <tr>\n",
       "      <th>5594</th>\n",
       "      <td>'욱토크' 박지원 \"문재인 정부, 제일 못하는 건 청년실업 문제\"</td>\n",
       "      <td>No content available</td>\n",
       "    </tr>\n",
       "    <tr>\n",
       "      <th>5596</th>\n",
       "      <td>'욱토크' 박지원 \"홍준표, 친분 있지만 사이 나쁘다…나한테 못 당해\"</td>\n",
       "      <td>No content available</td>\n",
       "    </tr>\n",
       "    <tr>\n",
       "      <th>5677</th>\n",
       "      <td>정민당 \"'음원사재기' 송하예 소속사 고발\"...송하예 측 \"사실무근·법적대응\"</td>\n",
       "      <td>No content available</td>\n",
       "    </tr>\n",
       "    <tr>\n",
       "      <th>...</th>\n",
       "      <td>...</td>\n",
       "      <td>...</td>\n",
       "    </tr>\n",
       "    <tr>\n",
       "      <th>88799</th>\n",
       "      <td>'황교안을 향한 손짓'</td>\n",
       "      <td>No content available</td>\n",
       "    </tr>\n",
       "    <tr>\n",
       "      <th>88976</th>\n",
       "      <td>이낙연 위원장 '황기철 후보 믿어주세요'</td>\n",
       "      <td>No content available</td>\n",
       "    </tr>\n",
       "    <tr>\n",
       "      <th>92764</th>\n",
       "      <td>유세하는 이낙연</td>\n",
       "      <td>No content available</td>\n",
       "    </tr>\n",
       "    <tr>\n",
       "      <th>96636</th>\n",
       "      <td>연매협 \"김근태 후보, 연예인 이용 이슈몰이…직접 소명해야\"</td>\n",
       "      <td>No content available</td>\n",
       "    </tr>\n",
       "    <tr>\n",
       "      <th>97184</th>\n",
       "      <td>이해찬 \"과반 정당 만들어야 文대통령 남은 임기 안정적\"(종합)</td>\n",
       "      <td>No content available</td>\n",
       "    </tr>\n",
       "  </tbody>\n",
       "</table>\n",
       "<p>114 rows × 2 columns</p>\n",
       "</div>"
      ],
      "text/plain": [
       "                                              title               content\n",
       "4149          [21대 총선] 광주 동남갑, '3선 장병완' 민주당 도전 막아낼까  No content available\n",
       "4296                 '암벽여제' 김자인, 남편 민주당 입당에 \"믿고 응원\"  No content available\n",
       "5594           '욱토크' 박지원 \"문재인 정부, 제일 못하는 건 청년실업 문제\"  No content available\n",
       "5596        '욱토크' 박지원 \"홍준표, 친분 있지만 사이 나쁘다…나한테 못 당해\"  No content available\n",
       "5677   정민당 \"'음원사재기' 송하예 소속사 고발\"...송하예 측 \"사실무근·법적대응\"  No content available\n",
       "...                                             ...                   ...\n",
       "88799                                  '황교안을 향한 손짓'  No content available\n",
       "88976                        이낙연 위원장 '황기철 후보 믿어주세요'  No content available\n",
       "92764                                      유세하는 이낙연  No content available\n",
       "96636             연매협 \"김근태 후보, 연예인 이용 이슈몰이…직접 소명해야\"  No content available\n",
       "97184           이해찬 \"과반 정당 만들어야 文대통령 남은 임기 안정적\"(종합)  No content available\n",
       "\n",
       "[114 rows x 2 columns]"
      ]
     },
     "execution_count": 134,
     "metadata": {},
     "output_type": "execute_result"
    }
   ],
   "source": [
    "df_news[df_news['content'] == 'No content available']"
   ]
  },
  {
   "cell_type": "code",
   "execution_count": 135,
   "id": "235dc54a",
   "metadata": {
    "ExecuteTime": {
     "end_time": "2024-03-08T01:30:06.594975Z",
     "start_time": "2024-03-08T01:30:06.573727Z"
    }
   },
   "outputs": [
    {
     "data": {
      "text/html": [
       "<div>\n",
       "<style scoped>\n",
       "    .dataframe tbody tr th:only-of-type {\n",
       "        vertical-align: middle;\n",
       "    }\n",
       "\n",
       "    .dataframe tbody tr th {\n",
       "        vertical-align: top;\n",
       "    }\n",
       "\n",
       "    .dataframe thead th {\n",
       "        text-align: right;\n",
       "    }\n",
       "</style>\n",
       "<table border=\"1\" class=\"dataframe\">\n",
       "  <thead>\n",
       "    <tr style=\"text-align: right;\">\n",
       "      <th></th>\n",
       "      <th>title</th>\n",
       "      <th>content</th>\n",
       "    </tr>\n",
       "  </thead>\n",
       "  <tbody>\n",
       "    <tr>\n",
       "      <th>0</th>\n",
       "      <td>유시민 \"검찰도 사법도 썩었지\" vs 진중권 \"유시민 망상, 대중은 현실로 믿어\"</td>\n",
       "      <td>JTBC 신년토론서 격돌조국 전 장관 사태와 '유시민의 알릴레오' 두고 논쟁\\n\\n...</td>\n",
       "    </tr>\n",
       "    <tr>\n",
       "      <th>1</th>\n",
       "      <td>특정 정당 맹목적 지지 없어…진보진영 유리 장담 못해 [신년 기획 - 21대 총선 분석]</td>\n",
       "      <td>ㆍ사상 첫 18세 투표 영향은신규 유입 유권자 약 53만명여야, 청소년 전략 마련 ...</td>\n",
       "    </tr>\n",
       "    <tr>\n",
       "      <th>2</th>\n",
       "      <td>한국당 \"울산시장 선거 정황 의심\"…추미애 고발</td>\n",
       "      <td>[머니투데이 한고은 기자] \\n\\n\\n\\n(서울=뉴스1) 임세영 기자 = 곽상도 자...</td>\n",
       "    </tr>\n",
       "    <tr>\n",
       "      <th>3</th>\n",
       "      <td>한국당, 추미애 檢 고발..\"선거법 위반\"</td>\n",
       "      <td>곽상도 친문농단특위 위원장, 1일 고발\"지방선거 전 송철호에 靑행정관 소개\"\"공무상...</td>\n",
       "    </tr>\n",
       "    <tr>\n",
       "      <th>4</th>\n",
       "      <td>文의장 \"검찰·선거개혁 단초 열어 보람…소명 다할 것\"</td>\n",
       "      <td>\"공수처는 金·盧·文 세 대통령의 숙원이자 꿈\"  한국당 '아빠 찬스, 아들 공천'...</td>\n",
       "    </tr>\n",
       "    <tr>\n",
       "      <th>...</th>\n",
       "      <td>...</td>\n",
       "      <td>...</td>\n",
       "    </tr>\n",
       "    <tr>\n",
       "      <th>98225</th>\n",
       "      <td>‘세월호 막말’ 닷새만에… 차명진 제명</td>\n",
       "      <td>통합당, 긴급 최고위서 직권 의결… 수도권 전체 판세에 악영향 판단강원선 김진태 선...</td>\n",
       "    </tr>\n",
       "    <tr>\n",
       "      <th>98226</th>\n",
       "      <td>정봉주 “나를 개쓰레기 취급” 與 막말 비난</td>\n",
       "      <td>논란 일자 “부적절한 표현” 사과\\n\\n\\n\\n열린민주당 정봉주 최고위원(사진)이 ...</td>\n",
       "    </tr>\n",
       "    <tr>\n",
       "      <th>98227</th>\n",
       "      <td>민주당 “아직 2% 부족” vs 통합당 “100석도 위태”</td>\n",
       "      <td>이해찬 “수도권 121석중 70곳 경합”박형준 “개헌 저지선도 무너질 위기” 김종인...</td>\n",
       "    </tr>\n",
       "    <tr>\n",
       "      <th>98228</th>\n",
       "      <td>[총선2020] 범여권, '오세훈만 떨어뜨리면 된다' 계산 섰나</td>\n",
       "      <td>민주당 핵심 당직자들, 한날 광진을 지원방문'촛불시민모임' '대진연' 등도 계속해 ...</td>\n",
       "    </tr>\n",
       "    <tr>\n",
       "      <th>98229</th>\n",
       "      <td>아일랜드 중도우파 양대정당, 사상 첫 연정 '사실상 합의'</td>\n",
       "      <td>\"양 정당 대표 합의안 검토…승인 후 제3당 참여 위해 공유\"녹색당·노동당·사회민주...</td>\n",
       "    </tr>\n",
       "  </tbody>\n",
       "</table>\n",
       "<p>98116 rows × 2 columns</p>\n",
       "</div>"
      ],
      "text/plain": [
       "                                                   title  \\\n",
       "0          유시민 \"검찰도 사법도 썩었지\" vs 진중권 \"유시민 망상, 대중은 현실로 믿어\"   \n",
       "1      특정 정당 맹목적 지지 없어…진보진영 유리 장담 못해 [신년 기획 - 21대 총선 분석]   \n",
       "2                             한국당 \"울산시장 선거 정황 의심\"…추미애 고발   \n",
       "3                                한국당, 추미애 檢 고발..\"선거법 위반\"   \n",
       "4                         文의장 \"검찰·선거개혁 단초 열어 보람…소명 다할 것\"   \n",
       "...                                                  ...   \n",
       "98225                              ‘세월호 막말’ 닷새만에… 차명진 제명   \n",
       "98226                           정봉주 “나를 개쓰레기 취급” 與 막말 비난   \n",
       "98227                   민주당 “아직 2% 부족” vs 통합당 “100석도 위태”   \n",
       "98228                [총선2020] 범여권, '오세훈만 떨어뜨리면 된다' 계산 섰나   \n",
       "98229                   아일랜드 중도우파 양대정당, 사상 첫 연정 '사실상 합의'   \n",
       "\n",
       "                                                 content  \n",
       "0      JTBC 신년토론서 격돌조국 전 장관 사태와 '유시민의 알릴레오' 두고 논쟁\\n\\n...  \n",
       "1      ㆍ사상 첫 18세 투표 영향은신규 유입 유권자 약 53만명여야, 청소년 전략 마련 ...  \n",
       "2      [머니투데이 한고은 기자] \\n\\n\\n\\n(서울=뉴스1) 임세영 기자 = 곽상도 자...  \n",
       "3      곽상도 친문농단특위 위원장, 1일 고발\"지방선거 전 송철호에 靑행정관 소개\"\"공무상...  \n",
       "4      \"공수처는 金·盧·文 세 대통령의 숙원이자 꿈\"  한국당 '아빠 찬스, 아들 공천'...  \n",
       "...                                                  ...  \n",
       "98225  통합당, 긴급 최고위서 직권 의결… 수도권 전체 판세에 악영향 판단강원선 김진태 선...  \n",
       "98226  논란 일자 “부적절한 표현” 사과\\n\\n\\n\\n열린민주당 정봉주 최고위원(사진)이 ...  \n",
       "98227  이해찬 “수도권 121석중 70곳 경합”박형준 “개헌 저지선도 무너질 위기” 김종인...  \n",
       "98228  민주당 핵심 당직자들, 한날 광진을 지원방문'촛불시민모임' '대진연' 등도 계속해 ...  \n",
       "98229  \"양 정당 대표 합의안 검토…승인 후 제3당 참여 위해 공유\"녹색당·노동당·사회민주...  \n",
       "\n",
       "[98116 rows x 2 columns]"
      ]
     },
     "execution_count": 135,
     "metadata": {},
     "output_type": "execute_result"
    }
   ],
   "source": [
    "df_news = df_news[df_news['content'] != 'No content available']\n",
    "\n",
    "df_news"
   ]
  },
  {
   "cell_type": "markdown",
   "id": "3ca2f780",
   "metadata": {},
   "source": [
    "## 필요없는 문자 제거"
   ]
  },
  {
   "cell_type": "code",
   "execution_count": 136,
   "id": "aa79aac3",
   "metadata": {
    "ExecuteTime": {
     "end_time": "2024-03-08T01:30:06.610302Z",
     "start_time": "2024-03-08T01:30:06.595974Z"
    }
   },
   "outputs": [],
   "source": [
    "df_news = df_news.drop_duplicates(subset = ['title'])"
   ]
  },
  {
   "cell_type": "code",
   "execution_count": 137,
   "id": "f1df560c",
   "metadata": {
    "ExecuteTime": {
     "end_time": "2024-03-08T01:30:06.616958Z",
     "start_time": "2024-03-08T01:30:06.611301Z"
    }
   },
   "outputs": [],
   "source": [
    "df_news = df_news.copy()"
   ]
  },
  {
   "cell_type": "code",
   "execution_count": 138,
   "id": "f79ae5c7",
   "metadata": {
    "ExecuteTime": {
     "end_time": "2024-03-08T01:30:06.773273Z",
     "start_time": "2024-03-08T01:30:06.617957Z"
    }
   },
   "outputs": [
    {
     "data": {
      "text/html": [
       "<div>\n",
       "<style scoped>\n",
       "    .dataframe tbody tr th:only-of-type {\n",
       "        vertical-align: middle;\n",
       "    }\n",
       "\n",
       "    .dataframe tbody tr th {\n",
       "        vertical-align: top;\n",
       "    }\n",
       "\n",
       "    .dataframe thead th {\n",
       "        text-align: right;\n",
       "    }\n",
       "</style>\n",
       "<table border=\"1\" class=\"dataframe\">\n",
       "  <thead>\n",
       "    <tr style=\"text-align: right;\">\n",
       "      <th></th>\n",
       "      <th>title</th>\n",
       "      <th>content</th>\n",
       "    </tr>\n",
       "  </thead>\n",
       "  <tbody>\n",
       "    <tr>\n",
       "      <th>0</th>\n",
       "      <td>유시민 \"검찰도 사법도 썩었지\" vs 진중권 \"유시민 망상, 대중은 현실로 믿어\"</td>\n",
       "      <td>JTBC 신년토론서 격돌조국 전 장관 사태와 '유시민의 알릴레오' 두고 논쟁    ...</td>\n",
       "    </tr>\n",
       "    <tr>\n",
       "      <th>1</th>\n",
       "      <td>특정 정당 맹목적 지지 없어…진보진영 유리 장담 못해 [신년 기획 - 21대 총선 분석]</td>\n",
       "      <td>ㆍ사상 첫 18세 투표 영향은신규 유입 유권자 약 53만명여야, 청소년 전략 마련 ...</td>\n",
       "    </tr>\n",
       "    <tr>\n",
       "      <th>2</th>\n",
       "      <td>한국당 \"울산시장 선거 정황 의심\"…추미애 고발</td>\n",
       "      <td>[머니투데이 한고은 기자]     (서울=뉴스1) 임세영 기자 = 곽상도 자유한국당...</td>\n",
       "    </tr>\n",
       "    <tr>\n",
       "      <th>3</th>\n",
       "      <td>한국당, 추미애 檢 고발..\"선거법 위반\"</td>\n",
       "      <td>곽상도 친문농단특위 위원장, 1일 고발\"지방선거 전 송철호에 靑행정관 소개\"\"공무상...</td>\n",
       "    </tr>\n",
       "    <tr>\n",
       "      <th>4</th>\n",
       "      <td>文의장 \"검찰·선거개혁 단초 열어 보람…소명 다할 것\"</td>\n",
       "      <td>\"공수처는 金·盧·文 세 대통령의 숙원이자 꿈\"  한국당 '아빠 찬스, 아들 공천'...</td>\n",
       "    </tr>\n",
       "    <tr>\n",
       "      <th>...</th>\n",
       "      <td>...</td>\n",
       "      <td>...</td>\n",
       "    </tr>\n",
       "    <tr>\n",
       "      <th>98225</th>\n",
       "      <td>‘세월호 막말’ 닷새만에… 차명진 제명</td>\n",
       "      <td>통합당, 긴급 최고위서 직권 의결… 수도권 전체 판세에 악영향 판단강원선 김진태 선...</td>\n",
       "    </tr>\n",
       "    <tr>\n",
       "      <th>98226</th>\n",
       "      <td>정봉주 “나를 개쓰레기 취급” 與 막말 비난</td>\n",
       "      <td>논란 일자 “부적절한 표현” 사과    열린민주당 정봉주 최고위원(사진)이 12일 ...</td>\n",
       "    </tr>\n",
       "    <tr>\n",
       "      <th>98227</th>\n",
       "      <td>민주당 “아직 2% 부족” vs 통합당 “100석도 위태”</td>\n",
       "      <td>이해찬 “수도권 121석중 70곳 경합”박형준 “개헌 저지선도 무너질 위기” 김종인...</td>\n",
       "    </tr>\n",
       "    <tr>\n",
       "      <th>98228</th>\n",
       "      <td>[총선2020] 범여권, '오세훈만 떨어뜨리면 된다' 계산 섰나</td>\n",
       "      <td>민주당 핵심 당직자들, 한날 광진을 지원방문'촛불시민모임' '대진연' 등도 계속해 ...</td>\n",
       "    </tr>\n",
       "    <tr>\n",
       "      <th>98229</th>\n",
       "      <td>아일랜드 중도우파 양대정당, 사상 첫 연정 '사실상 합의'</td>\n",
       "      <td>\"양 정당 대표 합의안 검토…승인 후 제3당 참여 위해 공유\"녹색당·노동당·사회민주...</td>\n",
       "    </tr>\n",
       "  </tbody>\n",
       "</table>\n",
       "<p>79410 rows × 2 columns</p>\n",
       "</div>"
      ],
      "text/plain": [
       "                                                   title  \\\n",
       "0          유시민 \"검찰도 사법도 썩었지\" vs 진중권 \"유시민 망상, 대중은 현실로 믿어\"   \n",
       "1      특정 정당 맹목적 지지 없어…진보진영 유리 장담 못해 [신년 기획 - 21대 총선 분석]   \n",
       "2                             한국당 \"울산시장 선거 정황 의심\"…추미애 고발   \n",
       "3                                한국당, 추미애 檢 고발..\"선거법 위반\"   \n",
       "4                         文의장 \"검찰·선거개혁 단초 열어 보람…소명 다할 것\"   \n",
       "...                                                  ...   \n",
       "98225                              ‘세월호 막말’ 닷새만에… 차명진 제명   \n",
       "98226                           정봉주 “나를 개쓰레기 취급” 與 막말 비난   \n",
       "98227                   민주당 “아직 2% 부족” vs 통합당 “100석도 위태”   \n",
       "98228                [총선2020] 범여권, '오세훈만 떨어뜨리면 된다' 계산 섰나   \n",
       "98229                   아일랜드 중도우파 양대정당, 사상 첫 연정 '사실상 합의'   \n",
       "\n",
       "                                                 content  \n",
       "0      JTBC 신년토론서 격돌조국 전 장관 사태와 '유시민의 알릴레오' 두고 논쟁    ...  \n",
       "1      ㆍ사상 첫 18세 투표 영향은신규 유입 유권자 약 53만명여야, 청소년 전략 마련 ...  \n",
       "2      [머니투데이 한고은 기자]     (서울=뉴스1) 임세영 기자 = 곽상도 자유한국당...  \n",
       "3      곽상도 친문농단특위 위원장, 1일 고발\"지방선거 전 송철호에 靑행정관 소개\"\"공무상...  \n",
       "4      \"공수처는 金·盧·文 세 대통령의 숙원이자 꿈\"  한국당 '아빠 찬스, 아들 공천'...  \n",
       "...                                                  ...  \n",
       "98225  통합당, 긴급 최고위서 직권 의결… 수도권 전체 판세에 악영향 판단강원선 김진태 선...  \n",
       "98226  논란 일자 “부적절한 표현” 사과    열린민주당 정봉주 최고위원(사진)이 12일 ...  \n",
       "98227  이해찬 “수도권 121석중 70곳 경합”박형준 “개헌 저지선도 무너질 위기” 김종인...  \n",
       "98228  민주당 핵심 당직자들, 한날 광진을 지원방문'촛불시민모임' '대진연' 등도 계속해 ...  \n",
       "98229  \"양 정당 대표 합의안 검토…승인 후 제3당 참여 위해 공유\"녹색당·노동당·사회민주...  \n",
       "\n",
       "[79410 rows x 2 columns]"
      ]
     },
     "execution_count": 138,
     "metadata": {},
     "output_type": "execute_result"
    }
   ],
   "source": [
    "df_news['content'] = df_news['content'].str.replace('\\n', ' ')\n",
    "df_news['content'] = df_news['content'].str.replace('/', ' ')\n",
    "\n",
    "\n",
    "df_news"
   ]
  },
  {
   "cell_type": "markdown",
   "id": "842a8be0",
   "metadata": {},
   "source": [
    "## 문장으로 나누기"
   ]
  },
  {
   "cell_type": "code",
   "execution_count": 139,
   "id": "57f51efc",
   "metadata": {
    "ExecuteTime": {
     "end_time": "2024-03-08T01:30:14.227105Z",
     "start_time": "2024-03-08T01:30:13.983376Z"
    }
   },
   "outputs": [
    {
     "data": {
      "text/html": [
       "<div>\n",
       "<style scoped>\n",
       "    .dataframe tbody tr th:only-of-type {\n",
       "        vertical-align: middle;\n",
       "    }\n",
       "\n",
       "    .dataframe tbody tr th {\n",
       "        vertical-align: top;\n",
       "    }\n",
       "\n",
       "    .dataframe thead th {\n",
       "        text-align: right;\n",
       "    }\n",
       "</style>\n",
       "<table border=\"1\" class=\"dataframe\">\n",
       "  <thead>\n",
       "    <tr style=\"text-align: right;\">\n",
       "      <th></th>\n",
       "      <th>title</th>\n",
       "      <th>content</th>\n",
       "    </tr>\n",
       "  </thead>\n",
       "  <tbody>\n",
       "    <tr>\n",
       "      <th>0</th>\n",
       "      <td>유시민 \"검찰도 사법도 썩었지\" vs 진중권 \"유시민 망상, 대중은 현실로 믿어\"</td>\n",
       "      <td>[JTBC 신년토론서 격돌조국 전 장관 사태와 '유시민의 알릴레오' 두고 논쟁   ...</td>\n",
       "    </tr>\n",
       "    <tr>\n",
       "      <th>1</th>\n",
       "      <td>특정 정당 맹목적 지지 없어…진보진영 유리 장담 못해 [신년 기획 - 21대 총선 분석]</td>\n",
       "      <td>[ㆍ사상 첫 18세 투표 영향은신규 유입 유권자 약 53만명여야, 청소년 전략 마련...</td>\n",
       "    </tr>\n",
       "    <tr>\n",
       "      <th>2</th>\n",
       "      <td>한국당 \"울산시장 선거 정황 의심\"…추미애 고발</td>\n",
       "      <td>[[머니투데이 한고은 기자]     (서울=뉴스1) 임세영 기자 = 곽상도 자유한국...</td>\n",
       "    </tr>\n",
       "    <tr>\n",
       "      <th>3</th>\n",
       "      <td>한국당, 추미애 檢 고발..\"선거법 위반\"</td>\n",
       "      <td>[곽상도 친문농단특위 위원장, 1일 고발\"지방선거 전 송철호에 靑행정관 소개\"\"공무...</td>\n",
       "    </tr>\n",
       "    <tr>\n",
       "      <th>4</th>\n",
       "      <td>文의장 \"검찰·선거개혁 단초 열어 보람…소명 다할 것\"</td>\n",
       "      <td>[\"공수처는 金·盧·文 세 대통령의 숙원이자 꿈\"  한국당 '아빠 찬스, 아들 공천...</td>\n",
       "    </tr>\n",
       "    <tr>\n",
       "      <th>...</th>\n",
       "      <td>...</td>\n",
       "      <td>...</td>\n",
       "    </tr>\n",
       "    <tr>\n",
       "      <th>98225</th>\n",
       "      <td>‘세월호 막말’ 닷새만에… 차명진 제명</td>\n",
       "      <td>[통합당, 긴급 최고위서 직권 의결… 수도권 전체 판세에 악영향 판단강원선 김진태 ...</td>\n",
       "    </tr>\n",
       "    <tr>\n",
       "      <th>98226</th>\n",
       "      <td>정봉주 “나를 개쓰레기 취급” 與 막말 비난</td>\n",
       "      <td>[논란 일자 “부적절한 표현” 사과    열린민주당 정봉주 최고위원(사진)이 12일...</td>\n",
       "    </tr>\n",
       "    <tr>\n",
       "      <th>98227</th>\n",
       "      <td>민주당 “아직 2% 부족” vs 통합당 “100석도 위태”</td>\n",
       "      <td>[이해찬 “수도권 121석중 70곳 경합”박형준 “개헌 저지선도 무너질 위기” 김종...</td>\n",
       "    </tr>\n",
       "    <tr>\n",
       "      <th>98228</th>\n",
       "      <td>[총선2020] 범여권, '오세훈만 떨어뜨리면 된다' 계산 섰나</td>\n",
       "      <td>[민주당 핵심 당직자들, 한날 광진을 지원방문'촛불시민모임' '대진연' 등도 계속해...</td>\n",
       "    </tr>\n",
       "    <tr>\n",
       "      <th>98229</th>\n",
       "      <td>아일랜드 중도우파 양대정당, 사상 첫 연정 '사실상 합의'</td>\n",
       "      <td>[\"양 정당 대표 합의안 검토…승인 후 제3당 참여 위해 공유\"녹색당·노동당·사회민...</td>\n",
       "    </tr>\n",
       "  </tbody>\n",
       "</table>\n",
       "<p>79410 rows × 2 columns</p>\n",
       "</div>"
      ],
      "text/plain": [
       "                                                   title  \\\n",
       "0          유시민 \"검찰도 사법도 썩었지\" vs 진중권 \"유시민 망상, 대중은 현실로 믿어\"   \n",
       "1      특정 정당 맹목적 지지 없어…진보진영 유리 장담 못해 [신년 기획 - 21대 총선 분석]   \n",
       "2                             한국당 \"울산시장 선거 정황 의심\"…추미애 고발   \n",
       "3                                한국당, 추미애 檢 고발..\"선거법 위반\"   \n",
       "4                         文의장 \"검찰·선거개혁 단초 열어 보람…소명 다할 것\"   \n",
       "...                                                  ...   \n",
       "98225                              ‘세월호 막말’ 닷새만에… 차명진 제명   \n",
       "98226                           정봉주 “나를 개쓰레기 취급” 與 막말 비난   \n",
       "98227                   민주당 “아직 2% 부족” vs 통합당 “100석도 위태”   \n",
       "98228                [총선2020] 범여권, '오세훈만 떨어뜨리면 된다' 계산 섰나   \n",
       "98229                   아일랜드 중도우파 양대정당, 사상 첫 연정 '사실상 합의'   \n",
       "\n",
       "                                                 content  \n",
       "0      [JTBC 신년토론서 격돌조국 전 장관 사태와 '유시민의 알릴레오' 두고 논쟁   ...  \n",
       "1      [ㆍ사상 첫 18세 투표 영향은신규 유입 유권자 약 53만명여야, 청소년 전략 마련...  \n",
       "2      [[머니투데이 한고은 기자]     (서울=뉴스1) 임세영 기자 = 곽상도 자유한국...  \n",
       "3      [곽상도 친문농단특위 위원장, 1일 고발\"지방선거 전 송철호에 靑행정관 소개\"\"공무...  \n",
       "4      [\"공수처는 金·盧·文 세 대통령의 숙원이자 꿈\"  한국당 '아빠 찬스, 아들 공천...  \n",
       "...                                                  ...  \n",
       "98225  [통합당, 긴급 최고위서 직권 의결… 수도권 전체 판세에 악영향 판단강원선 김진태 ...  \n",
       "98226  [논란 일자 “부적절한 표현” 사과    열린민주당 정봉주 최고위원(사진)이 12일...  \n",
       "98227  [이해찬 “수도권 121석중 70곳 경합”박형준 “개헌 저지선도 무너질 위기” 김종...  \n",
       "98228  [민주당 핵심 당직자들, 한날 광진을 지원방문'촛불시민모임' '대진연' 등도 계속해...  \n",
       "98229  [\"양 정당 대표 합의안 검토…승인 후 제3당 참여 위해 공유\"녹색당·노동당·사회민...  \n",
       "\n",
       "[79410 rows x 2 columns]"
      ]
     },
     "execution_count": 139,
     "metadata": {},
     "output_type": "execute_result"
    }
   ],
   "source": [
    "df_news['content'] = df_news['content'].str.split('.')\n",
    "\n",
    "df_news"
   ]
  },
  {
   "cell_type": "code",
   "execution_count": 81,
   "id": "f835a2be",
   "metadata": {
    "ExecuteTime": {
     "end_time": "2024-03-08T00:54:23.670215Z",
     "start_time": "2024-03-08T00:54:23.667483Z"
    }
   },
   "outputs": [],
   "source": [
    "# # '@'가 포함된 값 이전까지 가져오기\n",
    "# from tqdm import tqdm\n",
    "\n",
    "# # 새로운 열을 생성하기 위해 빈 리스트 초기화\n",
    "# new_content = []\n",
    "\n",
    "# for i in tqdm(range(len(df_news))):\n",
    "#     res = []\n",
    "#     for j in range(len(df_news.iloc[i, 1])):\n",
    "#         if not (re.search(\"[a-zA-Z]\", df_news.iloc[i, 1][j]) or '@' in df_news.iloc[i, 1][j] or '<' in df_news.iloc[i, 1][j] or '>' in df_news.iloc[i, 1][j]):\n",
    "#             res.append(df_news.iloc[i, 1][j])\n",
    "#         else:\n",
    "#             continue\n",
    "#     # 각 행에 대한 결과를 빈 리스트에 추가\n",
    "#     new_content.append(res)\n",
    "\n",
    "# # 새로운 열로 할당\n",
    "# df_news['new_content'] = new_content"
   ]
  },
  {
   "cell_type": "markdown",
   "id": "112e64f0",
   "metadata": {},
   "source": [
    "'@'가 포함된 값 이전까지 가져오기"
   ]
  },
  {
   "cell_type": "code",
   "execution_count": 82,
   "id": "bceb5489",
   "metadata": {
    "ExecuteTime": {
     "end_time": "2024-03-08T00:54:23.676182Z",
     "start_time": "2024-03-08T00:54:23.671215Z"
    }
   },
   "outputs": [],
   "source": [
    "# # 이메일이 먼저 나오는 경우 일단 넘어가서 가져오기\n",
    "\n",
    "# from tqdm import tqdm\n",
    "\n",
    "# # 새로운 열을 생성하기 위해 빈 리스트 초기화\n",
    "# new_content = []\n",
    "\n",
    "# for i in tqdm(range(len(df_news))):\n",
    "#     res = []\n",
    "#     for j in range(len(df_news.iloc[i, 1])):\n",
    "#         if '@' in df_news.iloc[i, 1][j]:\n",
    "#             if j <= (len(df_news.iloc[i, 1]) // 2):\n",
    "#                 # '@'가 전체 리스트의 절반보다 앞에 있는 경우\n",
    "#                 res.extend(df_news.iloc[i, 1][j:])\n",
    "#             else:\n",
    "#                 # '@'가 전체 리스트의 절반보다 뒤에 있는 경우\n",
    "#                 res.extend(df_news.iloc[i, 1][:j])\n",
    "#                 break  # 뒤에 있는 부분만 가져온 후 반복문 종료\n",
    "            \n",
    "#     # 각 행에 대한 결과를 빈 리스트에 추가\n",
    "#     new_content.append(res)\n",
    "\n",
    "# # 새로운 열로 할당\n",
    "# df_news['new_content'] = new_content"
   ]
  },
  {
   "cell_type": "code",
   "execution_count": 140,
   "id": "038dad8b",
   "metadata": {
    "ExecuteTime": {
     "end_time": "2024-03-08T01:31:02.928995Z",
     "start_time": "2024-03-08T01:30:17.199237Z"
    }
   },
   "outputs": [
    {
     "name": "stderr",
     "output_type": "stream",
     "text": [
      "100%|██████████████████████████████████████████████████████████████████████████| 79410/79410 [00:45<00:00, 1737.12it/s]\n"
     ]
    }
   ],
   "source": [
    "from tqdm import tqdm\n",
    "\n",
    "# 새로운 열을 생성하기 위해 빈 리스트 초기화\n",
    "new_content = []\n",
    "\n",
    "for i in tqdm(range(len(df_news))):\n",
    "    res = []\n",
    "    for j in range(len(df_news.iloc[i, 1])):\n",
    "        if '@' in df_news.iloc[i, 1][j]:\n",
    "            continue  # '@'가 있는 리스트는 건너뜁니다.\n",
    "        res.append(df_news.iloc[i, 1][j])\n",
    "            \n",
    "    # 각 행에 대한 결과를 빈 리스트에 추가\n",
    "    new_content.append(res)\n",
    "\n",
    "# 새로운 열로 할당\n",
    "df_news['new_content'] = new_content\n"
   ]
  },
  {
   "cell_type": "code",
   "execution_count": 84,
   "id": "8329911e",
   "metadata": {
    "ExecuteTime": {
     "end_time": "2024-03-08T00:55:15.895111Z",
     "start_time": "2024-03-08T00:55:15.890253Z"
    }
   },
   "outputs": [
    {
     "data": {
      "text/plain": [
       "['공무상 비밀누설죄 및 공직선거법 위반 혐의\"文 선거개입 수사 방해하려 임명 서두르는 듯\"\"철저한 검찰수사로 선거개입 진실 밝혀져야\"    [서울=뉴시스]김명원 기자 = 추미애 법무부장관 후보자가 30일 오후 서울 여의도 국회 법제사법위원회에서 열린 법무부장관 후보자 인사청문회에 참석해 의원들의 질의를 경청하며 가져온 음료를 마시고 있다',\n",
       " '  2019',\n",
       " '12',\n",
       " '30',\n",
       " 'com [서울=뉴시스] 이승주 기자 = 자유한국당이 1일 선거개입 의혹을 제기하며 추미애 법무부장관 후보자를 검찰에 고발했다',\n",
       " '친문농단진상조사특위 총괄본부장을 맡고 있는 곽상도 한국당 의원은 이날 보도자료를 통해 \"청와대에 이어 추미애 전 민주당 대표의 선거개입 정황이 의심된다\"며 \"추 전 대표를 공무상 비밀누설죄 및 공직선거법 위반 혐의로 고발했다\"고 밝혔다',\n",
       " '곽 의원은 \"지난 6·13선거와 관련 추 전 대표 측 관계자는 청와대 균형발전비서관실 소속 장환석 선임행정관을 송철호·송병기 등에게 소개했다고 한다\"며 \"이를 통해 송철호 측은 외부에 공개되지 않은 울산 관련 정보를 선거 공약으로 활용했다는 것이 언론에 밝혀졌다\"고 했다',\n",
       " '그러면서 \"문재인 대통령이 추 전 대표를 선거사범 등을 관장하는 주무부처인 법무부 장관으로 서둘러 임명하려는 것도, 장관도 아닌 후보자 신분으로 추 전 대표가 검사 인사 관련 보고를 받았다는 것도 청와대 선거 개입 관련 수사를 방해하려는 작업으로 볼 수밖에 없다\"고 주장했다',\n",
       " '이어 \"청와대의 법무부 장관 임명이 범죄 은폐 수단이 되어선 안 된다\"며 \"철저한 검찰 수사로 청와대의 선거 개입 의혹 진실이 낱낱이 밝혀져야 한다\"고 강조했다',\n",
       " 'com▶ K-Artprice 모바일 오픈! 미술작품 가격을 공개합니다▶ 뉴시스 채널 구독하고 에어팟 프로 받아가세요▶ 뉴시스 빅데이터 MSI 주가시세표 바로가기 <저작권자ⓒ 공감언론 뉴시스통신사',\n",
       " ' 무단전재-재배포 금지',\n",
       " '>']"
      ]
     },
     "execution_count": 84,
     "metadata": {},
     "output_type": "execute_result"
    }
   ],
   "source": [
    "df_news['new_content'][10]"
   ]
  },
  {
   "cell_type": "markdown",
   "id": "f9e64023",
   "metadata": {},
   "source": [
    "# 긍정/부정 구분"
   ]
  },
  {
   "cell_type": "code",
   "execution_count": 141,
   "id": "795b7003",
   "metadata": {
    "ExecuteTime": {
     "end_time": "2024-03-08T01:31:02.934010Z",
     "start_time": "2024-03-08T01:31:02.929995Z"
    }
   },
   "outputs": [],
   "source": [
    "party_names = [\n",
    "    '더불어민주당', '미래통합당', '민생당', '정의당', '우리공화당', '민중당', '한국경제당', '국민의당', '친박신당', '열린민주당',\n",
    "    '미래한국당', '더불어시민당', '가자코리아', '가자!평화인권당', '가자환경당', '공화당', '국가혁명배당금당', '국민새정당',\n",
    "    '국민참여신당', '기독자유통일당', '기본소득당', '깨어있는시민연대당', '남북통일당', '노동당', '녹색당', '대한당', '대한민국당',\n",
    "    '미래당', '미래민주당', '민중민주당', '새누리당', '시대전환', '여성의당', '우리당(2020년)', '자유당', '자유의새벽당',\n",
    "    '중소자영업당', '직능자영업당', '충청의미래당', '통일민주당', '한국복지당', '한나라당', '홍익당', '자유한국당', '무소속'\n",
    "]\n"
   ]
  },
  {
   "cell_type": "markdown",
   "id": "2726b417",
   "metadata": {},
   "source": [
    "당에 관한 기사만"
   ]
  },
  {
   "cell_type": "code",
   "execution_count": 142,
   "id": "32ba301c",
   "metadata": {
    "ExecuteTime": {
     "end_time": "2024-03-08T01:31:09.386770Z",
     "start_time": "2024-03-08T01:31:02.935009Z"
    }
   },
   "outputs": [
    {
     "name": "stderr",
     "output_type": "stream",
     "text": [
      "100%|█████████████████████████████████████████████████████████████████████████| 79410/79410 [00:06<00:00, 12353.34it/s]\n"
     ]
    }
   ],
   "source": [
    "# 당에 관한 기사만\n",
    "\n",
    "party_sentences = []\n",
    "party_lst = []\n",
    "\n",
    "for data in tqdm(df_news.iloc[:, 2]):\n",
    "    res = []\n",
    "    party_name = []\n",
    "    for j in range(len(data)):\n",
    "        for party in party_names:\n",
    "            if party in data[j]:\n",
    "                party_name.append(party)\n",
    "                res.append(data[j])\n",
    "                break  # 당 이름이 발견되면 해당 문장을 추가하고 내부 루프 종료\n",
    "    party_sentences.append(res)\n",
    "    party_lst.append(party_name)\n",
    "\n",
    "df_news['party_content'] = party_sentences\n",
    "df_news['party_name'] = party_lst"
   ]
  },
  {
   "cell_type": "code",
   "execution_count": 87,
   "id": "420f748d",
   "metadata": {
    "ExecuteTime": {
     "end_time": "2024-03-08T00:55:22.890655Z",
     "start_time": "2024-03-08T00:55:22.874861Z"
    }
   },
   "outputs": [
    {
     "data": {
      "text/html": [
       "<div>\n",
       "<style scoped>\n",
       "    .dataframe tbody tr th:only-of-type {\n",
       "        vertical-align: middle;\n",
       "    }\n",
       "\n",
       "    .dataframe tbody tr th {\n",
       "        vertical-align: top;\n",
       "    }\n",
       "\n",
       "    .dataframe thead th {\n",
       "        text-align: right;\n",
       "    }\n",
       "</style>\n",
       "<table border=\"1\" class=\"dataframe\">\n",
       "  <thead>\n",
       "    <tr style=\"text-align: right;\">\n",
       "      <th></th>\n",
       "      <th>title</th>\n",
       "      <th>content</th>\n",
       "      <th>new_content</th>\n",
       "      <th>party_content</th>\n",
       "      <th>party_name</th>\n",
       "    </tr>\n",
       "  </thead>\n",
       "  <tbody>\n",
       "    <tr>\n",
       "      <th>0</th>\n",
       "      <td>유시민 \"검찰도 사법도 썩었지\" vs 진중권 \"유시민 망상, 대중은 현실로 믿어\"</td>\n",
       "      <td>[JTBC 신년토론서 격돌조국 전 장관 사태와 '유시민의 알릴레오' 두고 논쟁   ...</td>\n",
       "      <td>[JTBC 신년토론서 격돌조국 전 장관 사태와 '유시민의 알릴레오' 두고 논쟁   ...</td>\n",
       "      <td>[]</td>\n",
       "      <td>[]</td>\n",
       "    </tr>\n",
       "    <tr>\n",
       "      <th>1</th>\n",
       "      <td>특정 정당 맹목적 지지 없어…진보진영 유리 장담 못해 [신년 기획 - 21대 총선 분석]</td>\n",
       "      <td>[ㆍ사상 첫 18세 투표 영향은신규 유입 유권자 약 53만명여야, 청소년 전략 마련...</td>\n",
       "      <td>[ㆍ사상 첫 18세 투표 영향은신규 유입 유권자 약 53만명여야, 청소년 전략 마련...</td>\n",
       "      <td>[ 더불어민주당은 정책, 영입을 병행 추진하고 있다]</td>\n",
       "      <td>[더불어민주당]</td>\n",
       "    </tr>\n",
       "    <tr>\n",
       "      <th>2</th>\n",
       "      <td>한국당 \"울산시장 선거 정황 의심\"…추미애 고발</td>\n",
       "      <td>[[머니투데이 한고은 기자]     (서울=뉴스1) 임세영 기자 = 곽상도 자유한국...</td>\n",
       "      <td>[[머니투데이 한고은 기자]     (서울=뉴스1) 임세영 기자 = 곽상도 자유한국...</td>\n",
       "      <td>[]</td>\n",
       "      <td>[]</td>\n",
       "    </tr>\n",
       "    <tr>\n",
       "      <th>3</th>\n",
       "      <td>한국당, 추미애 檢 고발..\"선거법 위반\"</td>\n",
       "      <td>[곽상도 친문농단특위 위원장, 1일 고발\"지방선거 전 송철호에 靑행정관 소개\"\"공무...</td>\n",
       "      <td>[곽상도 친문농단특위 위원장, 1일 고발\"지방선거 전 송철호에 靑행정관 소개\"\"공무...</td>\n",
       "      <td>[ (사진=노진환 기자)[이데일리 김겨레 기자]자유한국당이 1일 추미애 법무부 장관...</td>\n",
       "      <td>[더불어민주당]</td>\n",
       "    </tr>\n",
       "    <tr>\n",
       "      <th>4</th>\n",
       "      <td>文의장 \"검찰·선거개혁 단초 열어 보람…소명 다할 것\"</td>\n",
       "      <td>[\"공수처는 金·盧·文 세 대통령의 숙원이자 꿈\"  한국당 '아빠 찬스, 아들 공천...</td>\n",
       "      <td>[\"공수처는 金·盧·文 세 대통령의 숙원이자 꿈\"  한국당 '아빠 찬스, 아들 공천...</td>\n",
       "      <td>[]</td>\n",
       "      <td>[]</td>\n",
       "    </tr>\n",
       "    <tr>\n",
       "      <th>...</th>\n",
       "      <td>...</td>\n",
       "      <td>...</td>\n",
       "      <td>...</td>\n",
       "      <td>...</td>\n",
       "      <td>...</td>\n",
       "    </tr>\n",
       "    <tr>\n",
       "      <th>98225</th>\n",
       "      <td>‘세월호 막말’ 닷새만에… 차명진 제명</td>\n",
       "      <td>[통합당, 긴급 최고위서 직권 의결… 수도권 전체 판세에 악영향 판단강원선 김진태 ...</td>\n",
       "      <td>[통합당, 긴급 최고위서 직권 의결… 수도권 전체 판세에 악영향 판단강원선 김진태 ...</td>\n",
       "      <td>[통합당, 긴급 최고위서 직권 의결… 수도권 전체 판세에 악영향 판단강원선 김진태 ...</td>\n",
       "      <td>[미래통합당]</td>\n",
       "    </tr>\n",
       "    <tr>\n",
       "      <th>98226</th>\n",
       "      <td>정봉주 “나를 개쓰레기 취급” 與 막말 비난</td>\n",
       "      <td>[논란 일자 “부적절한 표현” 사과    열린민주당 정봉주 최고위원(사진)이 12일...</td>\n",
       "      <td>[논란 일자 “부적절한 표현” 사과    열린민주당 정봉주 최고위원(사진)이 12일...</td>\n",
       "      <td>[논란 일자 “부적절한 표현” 사과    열린민주당 정봉주 최고위원(사진)이 12일...</td>\n",
       "      <td>[더불어민주당, 열린민주당, 열린민주당, 열린민주당, 더불어시민당, 열린민주당]</td>\n",
       "    </tr>\n",
       "    <tr>\n",
       "      <th>98227</th>\n",
       "      <td>민주당 “아직 2% 부족” vs 통합당 “100석도 위태”</td>\n",
       "      <td>[이해찬 “수도권 121석중 70곳 경합”박형준 “개헌 저지선도 무너질 위기” 김종...</td>\n",
       "      <td>[이해찬 “수도권 121석중 70곳 경합”박형준 “개헌 저지선도 무너질 위기” 김종...</td>\n",
       "      <td>[com     4·15총선을 이틀 남긴 13일 정치권은 미래통합당이 제기한 ‘여당...</td>\n",
       "      <td>[미래통합당, 더불어민주당, 더불어시민당]</td>\n",
       "    </tr>\n",
       "    <tr>\n",
       "      <th>98228</th>\n",
       "      <td>[총선2020] 범여권, '오세훈만 떨어뜨리면 된다' 계산 섰나</td>\n",
       "      <td>[민주당 핵심 당직자들, 한날 광진을 지원방문'촛불시민모임' '대진연' 등도 계속해...</td>\n",
       "      <td>[민주당 핵심 당직자들, 한날 광진을 지원방문'촛불시민모임' '대진연' 등도 계속해...</td>\n",
       "      <td>[ 더불어민주당 이낙연 상임선거대책위원장, 이인영 원내대표, 박광온 최고위원 등 핵...</td>\n",
       "      <td>[더불어민주당, 미래통합당, 미래통합당]</td>\n",
       "    </tr>\n",
       "    <tr>\n",
       "      <th>98229</th>\n",
       "      <td>아일랜드 중도우파 양대정당, 사상 첫 연정 '사실상 합의'</td>\n",
       "      <td>[\"양 정당 대표 합의안 검토…승인 후 제3당 참여 위해 공유\"녹색당·노동당·사회민...</td>\n",
       "      <td>[\"양 정당 대표 합의안 검토…승인 후 제3당 참여 위해 공유\"녹색당·노동당·사회민...</td>\n",
       "      <td>[\"양 정당 대표 합의안 검토…승인 후 제3당 참여 위해 공유\"녹색당·노동당·사회민...</td>\n",
       "      <td>[공화당, 공화당, 공화당, 공화당, 공화당, 공화당, 공화당, 공화당, 공화당, ...</td>\n",
       "    </tr>\n",
       "  </tbody>\n",
       "</table>\n",
       "<p>98230 rows × 5 columns</p>\n",
       "</div>"
      ],
      "text/plain": [
       "                                                   title  \\\n",
       "0          유시민 \"검찰도 사법도 썩었지\" vs 진중권 \"유시민 망상, 대중은 현실로 믿어\"   \n",
       "1      특정 정당 맹목적 지지 없어…진보진영 유리 장담 못해 [신년 기획 - 21대 총선 분석]   \n",
       "2                             한국당 \"울산시장 선거 정황 의심\"…추미애 고발   \n",
       "3                                한국당, 추미애 檢 고발..\"선거법 위반\"   \n",
       "4                         文의장 \"검찰·선거개혁 단초 열어 보람…소명 다할 것\"   \n",
       "...                                                  ...   \n",
       "98225                              ‘세월호 막말’ 닷새만에… 차명진 제명   \n",
       "98226                           정봉주 “나를 개쓰레기 취급” 與 막말 비난   \n",
       "98227                   민주당 “아직 2% 부족” vs 통합당 “100석도 위태”   \n",
       "98228                [총선2020] 범여권, '오세훈만 떨어뜨리면 된다' 계산 섰나   \n",
       "98229                   아일랜드 중도우파 양대정당, 사상 첫 연정 '사실상 합의'   \n",
       "\n",
       "                                                 content  \\\n",
       "0      [JTBC 신년토론서 격돌조국 전 장관 사태와 '유시민의 알릴레오' 두고 논쟁   ...   \n",
       "1      [ㆍ사상 첫 18세 투표 영향은신규 유입 유권자 약 53만명여야, 청소년 전략 마련...   \n",
       "2      [[머니투데이 한고은 기자]     (서울=뉴스1) 임세영 기자 = 곽상도 자유한국...   \n",
       "3      [곽상도 친문농단특위 위원장, 1일 고발\"지방선거 전 송철호에 靑행정관 소개\"\"공무...   \n",
       "4      [\"공수처는 金·盧·文 세 대통령의 숙원이자 꿈\"  한국당 '아빠 찬스, 아들 공천...   \n",
       "...                                                  ...   \n",
       "98225  [통합당, 긴급 최고위서 직권 의결… 수도권 전체 판세에 악영향 판단강원선 김진태 ...   \n",
       "98226  [논란 일자 “부적절한 표현” 사과    열린민주당 정봉주 최고위원(사진)이 12일...   \n",
       "98227  [이해찬 “수도권 121석중 70곳 경합”박형준 “개헌 저지선도 무너질 위기” 김종...   \n",
       "98228  [민주당 핵심 당직자들, 한날 광진을 지원방문'촛불시민모임' '대진연' 등도 계속해...   \n",
       "98229  [\"양 정당 대표 합의안 검토…승인 후 제3당 참여 위해 공유\"녹색당·노동당·사회민...   \n",
       "\n",
       "                                             new_content  \\\n",
       "0      [JTBC 신년토론서 격돌조국 전 장관 사태와 '유시민의 알릴레오' 두고 논쟁   ...   \n",
       "1      [ㆍ사상 첫 18세 투표 영향은신규 유입 유권자 약 53만명여야, 청소년 전략 마련...   \n",
       "2      [[머니투데이 한고은 기자]     (서울=뉴스1) 임세영 기자 = 곽상도 자유한국...   \n",
       "3      [곽상도 친문농단특위 위원장, 1일 고발\"지방선거 전 송철호에 靑행정관 소개\"\"공무...   \n",
       "4      [\"공수처는 金·盧·文 세 대통령의 숙원이자 꿈\"  한국당 '아빠 찬스, 아들 공천...   \n",
       "...                                                  ...   \n",
       "98225  [통합당, 긴급 최고위서 직권 의결… 수도권 전체 판세에 악영향 판단강원선 김진태 ...   \n",
       "98226  [논란 일자 “부적절한 표현” 사과    열린민주당 정봉주 최고위원(사진)이 12일...   \n",
       "98227  [이해찬 “수도권 121석중 70곳 경합”박형준 “개헌 저지선도 무너질 위기” 김종...   \n",
       "98228  [민주당 핵심 당직자들, 한날 광진을 지원방문'촛불시민모임' '대진연' 등도 계속해...   \n",
       "98229  [\"양 정당 대표 합의안 검토…승인 후 제3당 참여 위해 공유\"녹색당·노동당·사회민...   \n",
       "\n",
       "                                           party_content  \\\n",
       "0                                                     []   \n",
       "1                          [ 더불어민주당은 정책, 영입을 병행 추진하고 있다]   \n",
       "2                                                     []   \n",
       "3      [ (사진=노진환 기자)[이데일리 김겨레 기자]자유한국당이 1일 추미애 법무부 장관...   \n",
       "4                                                     []   \n",
       "...                                                  ...   \n",
       "98225  [통합당, 긴급 최고위서 직권 의결… 수도권 전체 판세에 악영향 판단강원선 김진태 ...   \n",
       "98226  [논란 일자 “부적절한 표현” 사과    열린민주당 정봉주 최고위원(사진)이 12일...   \n",
       "98227  [com     4·15총선을 이틀 남긴 13일 정치권은 미래통합당이 제기한 ‘여당...   \n",
       "98228  [ 더불어민주당 이낙연 상임선거대책위원장, 이인영 원내대표, 박광온 최고위원 등 핵...   \n",
       "98229  [\"양 정당 대표 합의안 검토…승인 후 제3당 참여 위해 공유\"녹색당·노동당·사회민...   \n",
       "\n",
       "                                              party_name  \n",
       "0                                                     []  \n",
       "1                                               [더불어민주당]  \n",
       "2                                                     []  \n",
       "3                                               [더불어민주당]  \n",
       "4                                                     []  \n",
       "...                                                  ...  \n",
       "98225                                            [미래통합당]  \n",
       "98226       [더불어민주당, 열린민주당, 열린민주당, 열린민주당, 더불어시민당, 열린민주당]  \n",
       "98227                            [미래통합당, 더불어민주당, 더불어시민당]  \n",
       "98228                             [더불어민주당, 미래통합당, 미래통합당]  \n",
       "98229  [공화당, 공화당, 공화당, 공화당, 공화당, 공화당, 공화당, 공화당, 공화당, ...  \n",
       "\n",
       "[98230 rows x 5 columns]"
      ]
     },
     "execution_count": 87,
     "metadata": {},
     "output_type": "execute_result"
    }
   ],
   "source": [
    "df_news"
   ]
  },
  {
   "cell_type": "code",
   "execution_count": 88,
   "id": "31ab91eb",
   "metadata": {
    "ExecuteTime": {
     "end_time": "2024-03-08T00:55:22.913223Z",
     "start_time": "2024-03-08T00:55:22.891654Z"
    }
   },
   "outputs": [
    {
     "name": "stdout",
     "output_type": "stream",
     "text": [
      "빈 리스트인 행의 개수: 25454\n"
     ]
    }
   ],
   "source": [
    "# 빈 리스트인 행의 개수를 세는 변수 초기화\n",
    "empty_list_count = 0\n",
    "\n",
    "# 데이터프레임 각 행에 대해 반복하여 빈 리스트인지 확인\n",
    "for row in df_news['party_content']:\n",
    "    if len(row) == 0:\n",
    "        empty_list_count += 1\n",
    "\n",
    "print(\"빈 리스트인 행의 개수:\", empty_list_count)"
   ]
  },
  {
   "cell_type": "markdown",
   "id": "de0c0783",
   "metadata": {},
   "source": [
    "=> 당에 속한 사람도 있을 것이니 이후 추가해서 다시 확인(사람 이름으로)"
   ]
  },
  {
   "cell_type": "code",
   "execution_count": 89,
   "id": "3061aba6",
   "metadata": {
    "ExecuteTime": {
     "end_time": "2024-03-08T00:55:22.916947Z",
     "start_time": "2024-03-08T00:55:22.914222Z"
    }
   },
   "outputs": [],
   "source": [
    "# !pip install transformers\n",
    "# ! pip install torch"
   ]
  },
  {
   "cell_type": "code",
   "execution_count": 178,
   "id": "d8e61404",
   "metadata": {
    "ExecuteTime": {
     "end_time": "2024-03-08T02:00:17.691294Z",
     "start_time": "2024-03-08T02:00:15.287894Z"
    },
    "scrolled": true
   },
   "outputs": [
    {
     "name": "stderr",
     "output_type": "stream",
     "text": [
      "Some weights of BertForSequenceClassification were not initialized from the model checkpoint at snunlp/KR-BERT-char16424 and are newly initialized: ['classifier.bias', 'classifier.weight']\n",
      "You should probably TRAIN this model on a down-stream task to be able to use it for predictions and inference.\n"
     ]
    }
   ],
   "source": [
    "import torch\n",
    "from transformers import BertTokenizer, BertForSequenceClassification\n",
    "from transformers import pipeline\n",
    "\n",
    "# KoBERT 모델과 토크나이저 불러오기\n",
    "model_name = \"snunlp/KR-BERT-char16424\"\n",
    "tokenizer = BertTokenizer.from_pretrained(model_name, do_lower_case = False)\n",
    "model = BertForSequenceClassification.from_pretrained(model_name)"
   ]
  },
  {
   "cell_type": "code",
   "execution_count": 91,
   "id": "85ad3579",
   "metadata": {
    "ExecuteTime": {
     "end_time": "2024-03-08T00:55:25.561281Z",
     "start_time": "2024-03-08T00:55:25.513253Z"
    }
   },
   "outputs": [
    {
     "name": "stderr",
     "output_type": "stream",
     "text": [
      "Asking to truncate to max_length but no maximum length is provided and the model has no predefined maximum length. Default to no truncation.\n"
     ]
    },
    {
     "name": "stdout",
     "output_type": "stream",
     "text": [
      "입력 문장 : 너가 싫어\n",
      "감정 분석 결과 : 긍정\n"
     ]
    }
   ],
   "source": [
    "# 입력 문장\n",
    "text = \"너가 싫어\"\n",
    "\n",
    "# 토큰화 및 패딩\n",
    "inputs = tokenizer(text, return_tensors=\"pt\", padding=True, truncation=True)\n",
    "\n",
    "# 모델로 예측\n",
    "outputs = model(**inputs)\n",
    "\n",
    "# 로짓 출력\n",
    "logits = outputs.logits\n",
    "\n",
    "# 예측 결과\n",
    "predictions = torch.argmax(logits, dim = 1)\n",
    "sentiment = \"긍정\" if predictions == 1 else \"부정\"\n",
    "\n",
    "print(f\"입력 문장 : {text}\")\n",
    "print(f\"감정 분석 결과 : {sentiment}\")"
   ]
  },
  {
   "cell_type": "code",
   "execution_count": 100,
   "id": "a507b7e1",
   "metadata": {
    "ExecuteTime": {
     "end_time": "2024-03-08T00:58:55.156855Z",
     "start_time": "2024-03-08T00:58:54.685717Z"
    }
   },
   "outputs": [
    {
     "name": "stdout",
     "output_type": "stream",
     "text": [
      "입력 문장 :  더불어민주당은 정책, 영입을 병행 추진하고 있다\n",
      "감정 분석 결과 : 긍정\n",
      "입력 문장 :   자유한국당은 선거연령 하향을 반대했지만 법안 통과 후 청소년 전략 마련을 촉구하는 목소리가 높아지고 있다\n",
      "감정 분석 결과 : 부정\n",
      "입력 문장 : [머니투데이 한고은 기자]     (서울=뉴스1) 임세영 기자 = 곽상도 자유한국당 文정권 국정농단 3대 게이트 진상조사 총괄본부장이 17일 오후 서울 여의도 국회 정론관에서 기자회견을 갖고 김기현 전 울산시장 측근 비위 의혹 첩보 전달 과정을 설명하고 있다\n",
      "감정 분석 결과 : 긍정\n",
      "입력 문장 : 17 뉴스1   <저작권자 © 뉴스1코리아, 무단전재 및 재배포 금지>자유한국당이 1일 추미애 법무부장관 후보자에 대한 선거개입 의혹을 제기하고, 추 후보자를 검찰에 고발했다\n",
      "감정 분석 결과 : 부정\n",
      "입력 문장 :  (사진=노진환 기자)[이데일리 김겨레 기자]자유한국당이 1일 추미애 법무부 장관 후보자가 더불어민주당 대표 시절 선거법을 위반했다며 검찰에 고발했다\n",
      "감정 분석 결과 : 부정\n",
      "입력 문장 :  그러면서 자유한국당이 자신을 향해 아들 공천 문제 때문에 여당 편을 든다고 반발한 것에 대해 \"역사에서 어떻게 평가를 받아도 좋다\n",
      "감정 분석 결과 : 긍정\n",
      "입력 문장 :  출마지역으로는 문 대통령 사저가 있고 서형수 현 더불어민주당 의원이 불출마를 선언한 경남 양산을, 박영선 중소벤처기업부 장관 지역구인 서울 구로구을이 거론됐던 가운데 최종적으로는 구로구을 출마로 가닥을 잡은 기류다\n",
      "감정 분석 결과 : 부정\n",
      "입력 문장 : 윤 실장과 함께 청와대 내 총선 출마 예상자 명단에 이름을 올려온 고민정 대변인은 더불어민주당의 출마 요청을 받긴 했으나 불출마로 입장을 정리한 것으로 전해진다\n",
      "감정 분석 결과 : 부정\n",
      "입력 문장 :  사진=뉴스1자유한국당의 극렬한 반발 속 고위공직자범죄수사처(공수처)법이 국회 본회의를 통과한 것과 관련, 문희상 국회의장이 \"내 소명이고 운명이었다\"고 소회를 밝혔다\n",
      "감정 분석 결과 : 부정\n"
     ]
    }
   ],
   "source": [
    "# 데이터프레임의 열에 있는 리스트의 각 요소를 처리하고 감정 분석 수행\n",
    "# 테스트\n",
    "a = df_news.iloc[0:10]\n",
    "\n",
    "for idx, row in a.iterrows():\n",
    "    content_list = row['party_content']\n",
    "    for content in content_list:\n",
    "        # 토큰화 및 패딩\n",
    "        inputs = tokenizer(content, return_tensors = \"pt\", padding = True, truncation = True)\n",
    "\n",
    "        # 모델로 예측\n",
    "        outputs = model(**inputs)\n",
    "\n",
    "        # 로짓 출력\n",
    "        logits = outputs.logits\n",
    "\n",
    "        # 예측 결과\n",
    "        predictions = torch.argmax(logits, dim  = 1)\n",
    "        sentiment = \"긍정\" if predictions == 1 else \"부정\"\n",
    "\n",
    "        print(f\"입력 문장 : {content}\")\n",
    "        print(f\"감정 분석 결과 : {sentiment}\")"
   ]
  },
  {
   "cell_type": "code",
   "execution_count": 149,
   "id": "b590ca92",
   "metadata": {
    "ExecuteTime": {
     "end_time": "2024-03-08T01:36:53.736110Z",
     "start_time": "2024-03-08T01:36:53.697344Z"
    },
    "scrolled": true
   },
   "outputs": [
    {
     "data": {
      "text/html": [
       "<div>\n",
       "<style scoped>\n",
       "    .dataframe tbody tr th:only-of-type {\n",
       "        vertical-align: middle;\n",
       "    }\n",
       "\n",
       "    .dataframe tbody tr th {\n",
       "        vertical-align: top;\n",
       "    }\n",
       "\n",
       "    .dataframe thead th {\n",
       "        text-align: right;\n",
       "    }\n",
       "</style>\n",
       "<table border=\"1\" class=\"dataframe\">\n",
       "  <thead>\n",
       "    <tr style=\"text-align: right;\">\n",
       "      <th></th>\n",
       "      <th>title</th>\n",
       "      <th>content</th>\n",
       "      <th>new_content</th>\n",
       "      <th>party_content</th>\n",
       "      <th>party_name</th>\n",
       "    </tr>\n",
       "  </thead>\n",
       "  <tbody>\n",
       "    <tr>\n",
       "      <th>0</th>\n",
       "      <td>유시민 \"검찰도 사법도 썩었지\" vs 진중권 \"유시민 망상, 대중은 현실로 믿어\"</td>\n",
       "      <td>[JTBC 신년토론서 격돌조국 전 장관 사태와 '유시민의 알릴레오' 두고 논쟁   ...</td>\n",
       "      <td>[JTBC 신년토론서 격돌조국 전 장관 사태와 '유시민의 알릴레오' 두고 논쟁   ...</td>\n",
       "      <td>[]</td>\n",
       "      <td>[]</td>\n",
       "    </tr>\n",
       "    <tr>\n",
       "      <th>1</th>\n",
       "      <td>특정 정당 맹목적 지지 없어…진보진영 유리 장담 못해 [신년 기획 - 21대 총선 분석]</td>\n",
       "      <td>[ㆍ사상 첫 18세 투표 영향은신규 유입 유권자 약 53만명여야, 청소년 전략 마련...</td>\n",
       "      <td>[ㆍ사상 첫 18세 투표 영향은신규 유입 유권자 약 53만명여야, 청소년 전략 마련...</td>\n",
       "      <td>[ 더불어민주당은 정책, 영입을 병행 추진하고 있다,   자유한국당은 선거연령 하향...</td>\n",
       "      <td>[더불어민주당, 자유한국당]</td>\n",
       "    </tr>\n",
       "    <tr>\n",
       "      <th>2</th>\n",
       "      <td>한국당 \"울산시장 선거 정황 의심\"…추미애 고발</td>\n",
       "      <td>[[머니투데이 한고은 기자]     (서울=뉴스1) 임세영 기자 = 곽상도 자유한국...</td>\n",
       "      <td>[[머니투데이 한고은 기자]     (서울=뉴스1) 임세영 기자 = 곽상도 자유한국...</td>\n",
       "      <td>[[머니투데이 한고은 기자]     (서울=뉴스1) 임세영 기자 = 곽상도 자유한국...</td>\n",
       "      <td>[자유한국당, 자유한국당]</td>\n",
       "    </tr>\n",
       "    <tr>\n",
       "      <th>3</th>\n",
       "      <td>한국당, 추미애 檢 고발..\"선거법 위반\"</td>\n",
       "      <td>[곽상도 친문농단특위 위원장, 1일 고발\"지방선거 전 송철호에 靑행정관 소개\"\"공무...</td>\n",
       "      <td>[곽상도 친문농단특위 위원장, 1일 고발\"지방선거 전 송철호에 靑행정관 소개\"\"공무...</td>\n",
       "      <td>[ (사진=노진환 기자)[이데일리 김겨레 기자]자유한국당이 1일 추미애 법무부 장관...</td>\n",
       "      <td>[더불어민주당]</td>\n",
       "    </tr>\n",
       "    <tr>\n",
       "      <th>4</th>\n",
       "      <td>文의장 \"검찰·선거개혁 단초 열어 보람…소명 다할 것\"</td>\n",
       "      <td>[\"공수처는 金·盧·文 세 대통령의 숙원이자 꿈\"  한국당 '아빠 찬스, 아들 공천...</td>\n",
       "      <td>[\"공수처는 金·盧·文 세 대통령의 숙원이자 꿈\"  한국당 '아빠 찬스, 아들 공천...</td>\n",
       "      <td>[ 그러면서 자유한국당이 자신을 향해 아들 공천 문제 때문에 여당 편을 든다고 반발...</td>\n",
       "      <td>[자유한국당]</td>\n",
       "    </tr>\n",
       "    <tr>\n",
       "      <th>...</th>\n",
       "      <td>...</td>\n",
       "      <td>...</td>\n",
       "      <td>...</td>\n",
       "      <td>...</td>\n",
       "      <td>...</td>\n",
       "    </tr>\n",
       "    <tr>\n",
       "      <th>79405</th>\n",
       "      <td>‘세월호 막말’ 닷새만에… 차명진 제명</td>\n",
       "      <td>[통합당, 긴급 최고위서 직권 의결… 수도권 전체 판세에 악영향 판단강원선 김진태 ...</td>\n",
       "      <td>[통합당, 긴급 최고위서 직권 의결… 수도권 전체 판세에 악영향 판단강원선 김진태 ...</td>\n",
       "      <td>[통합당, 긴급 최고위서 직권 의결… 수도권 전체 판세에 악영향 판단강원선 김진태 ...</td>\n",
       "      <td>[미래통합당]</td>\n",
       "    </tr>\n",
       "    <tr>\n",
       "      <th>79406</th>\n",
       "      <td>정봉주 “나를 개쓰레기 취급” 與 막말 비난</td>\n",
       "      <td>[논란 일자 “부적절한 표현” 사과    열린민주당 정봉주 최고위원(사진)이 12일...</td>\n",
       "      <td>[논란 일자 “부적절한 표현” 사과    열린민주당 정봉주 최고위원(사진)이 12일...</td>\n",
       "      <td>[논란 일자 “부적절한 표현” 사과    열린민주당 정봉주 최고위원(사진)이 12일...</td>\n",
       "      <td>[더불어민주당, 열린민주당, 열린민주당, 열린민주당, 더불어시민당, 열린민주당]</td>\n",
       "    </tr>\n",
       "    <tr>\n",
       "      <th>79407</th>\n",
       "      <td>민주당 “아직 2% 부족” vs 통합당 “100석도 위태”</td>\n",
       "      <td>[이해찬 “수도권 121석중 70곳 경합”박형준 “개헌 저지선도 무너질 위기” 김종...</td>\n",
       "      <td>[이해찬 “수도권 121석중 70곳 경합”박형준 “개헌 저지선도 무너질 위기” 김종...</td>\n",
       "      <td>[com     4·15총선을 이틀 남긴 13일 정치권은 미래통합당이 제기한 ‘여당...</td>\n",
       "      <td>[미래통합당, 더불어민주당, 더불어시민당]</td>\n",
       "    </tr>\n",
       "    <tr>\n",
       "      <th>79408</th>\n",
       "      <td>[총선2020] 범여권, '오세훈만 떨어뜨리면 된다' 계산 섰나</td>\n",
       "      <td>[민주당 핵심 당직자들, 한날 광진을 지원방문'촛불시민모임' '대진연' 등도 계속해...</td>\n",
       "      <td>[민주당 핵심 당직자들, 한날 광진을 지원방문'촛불시민모임' '대진연' 등도 계속해...</td>\n",
       "      <td>[ 더불어민주당 이낙연 상임선거대책위원장, 이인영 원내대표, 박광온 최고위원 등 핵...</td>\n",
       "      <td>[더불어민주당, 미래통합당, 미래통합당]</td>\n",
       "    </tr>\n",
       "    <tr>\n",
       "      <th>79409</th>\n",
       "      <td>아일랜드 중도우파 양대정당, 사상 첫 연정 '사실상 합의'</td>\n",
       "      <td>[\"양 정당 대표 합의안 검토…승인 후 제3당 참여 위해 공유\"녹색당·노동당·사회민...</td>\n",
       "      <td>[\"양 정당 대표 합의안 검토…승인 후 제3당 참여 위해 공유\"녹색당·노동당·사회민...</td>\n",
       "      <td>[\"양 정당 대표 합의안 검토…승인 후 제3당 참여 위해 공유\"녹색당·노동당·사회민...</td>\n",
       "      <td>[공화당, 공화당, 공화당, 공화당, 공화당, 공화당, 공화당, 공화당, 공화당, ...</td>\n",
       "    </tr>\n",
       "  </tbody>\n",
       "</table>\n",
       "<p>79410 rows × 5 columns</p>\n",
       "</div>"
      ],
      "text/plain": [
       "                                                   title  \\\n",
       "0          유시민 \"검찰도 사법도 썩었지\" vs 진중권 \"유시민 망상, 대중은 현실로 믿어\"   \n",
       "1      특정 정당 맹목적 지지 없어…진보진영 유리 장담 못해 [신년 기획 - 21대 총선 분석]   \n",
       "2                             한국당 \"울산시장 선거 정황 의심\"…추미애 고발   \n",
       "3                                한국당, 추미애 檢 고발..\"선거법 위반\"   \n",
       "4                         文의장 \"검찰·선거개혁 단초 열어 보람…소명 다할 것\"   \n",
       "...                                                  ...   \n",
       "79405                              ‘세월호 막말’ 닷새만에… 차명진 제명   \n",
       "79406                           정봉주 “나를 개쓰레기 취급” 與 막말 비난   \n",
       "79407                   민주당 “아직 2% 부족” vs 통합당 “100석도 위태”   \n",
       "79408                [총선2020] 범여권, '오세훈만 떨어뜨리면 된다' 계산 섰나   \n",
       "79409                   아일랜드 중도우파 양대정당, 사상 첫 연정 '사실상 합의'   \n",
       "\n",
       "                                                 content  \\\n",
       "0      [JTBC 신년토론서 격돌조국 전 장관 사태와 '유시민의 알릴레오' 두고 논쟁   ...   \n",
       "1      [ㆍ사상 첫 18세 투표 영향은신규 유입 유권자 약 53만명여야, 청소년 전략 마련...   \n",
       "2      [[머니투데이 한고은 기자]     (서울=뉴스1) 임세영 기자 = 곽상도 자유한국...   \n",
       "3      [곽상도 친문농단특위 위원장, 1일 고발\"지방선거 전 송철호에 靑행정관 소개\"\"공무...   \n",
       "4      [\"공수처는 金·盧·文 세 대통령의 숙원이자 꿈\"  한국당 '아빠 찬스, 아들 공천...   \n",
       "...                                                  ...   \n",
       "79405  [통합당, 긴급 최고위서 직권 의결… 수도권 전체 판세에 악영향 판단강원선 김진태 ...   \n",
       "79406  [논란 일자 “부적절한 표현” 사과    열린민주당 정봉주 최고위원(사진)이 12일...   \n",
       "79407  [이해찬 “수도권 121석중 70곳 경합”박형준 “개헌 저지선도 무너질 위기” 김종...   \n",
       "79408  [민주당 핵심 당직자들, 한날 광진을 지원방문'촛불시민모임' '대진연' 등도 계속해...   \n",
       "79409  [\"양 정당 대표 합의안 검토…승인 후 제3당 참여 위해 공유\"녹색당·노동당·사회민...   \n",
       "\n",
       "                                             new_content  \\\n",
       "0      [JTBC 신년토론서 격돌조국 전 장관 사태와 '유시민의 알릴레오' 두고 논쟁   ...   \n",
       "1      [ㆍ사상 첫 18세 투표 영향은신규 유입 유권자 약 53만명여야, 청소년 전략 마련...   \n",
       "2      [[머니투데이 한고은 기자]     (서울=뉴스1) 임세영 기자 = 곽상도 자유한국...   \n",
       "3      [곽상도 친문농단특위 위원장, 1일 고발\"지방선거 전 송철호에 靑행정관 소개\"\"공무...   \n",
       "4      [\"공수처는 金·盧·文 세 대통령의 숙원이자 꿈\"  한국당 '아빠 찬스, 아들 공천...   \n",
       "...                                                  ...   \n",
       "79405  [통합당, 긴급 최고위서 직권 의결… 수도권 전체 판세에 악영향 판단강원선 김진태 ...   \n",
       "79406  [논란 일자 “부적절한 표현” 사과    열린민주당 정봉주 최고위원(사진)이 12일...   \n",
       "79407  [이해찬 “수도권 121석중 70곳 경합”박형준 “개헌 저지선도 무너질 위기” 김종...   \n",
       "79408  [민주당 핵심 당직자들, 한날 광진을 지원방문'촛불시민모임' '대진연' 등도 계속해...   \n",
       "79409  [\"양 정당 대표 합의안 검토…승인 후 제3당 참여 위해 공유\"녹색당·노동당·사회민...   \n",
       "\n",
       "                                           party_content  \\\n",
       "0                                                     []   \n",
       "1      [ 더불어민주당은 정책, 영입을 병행 추진하고 있다,   자유한국당은 선거연령 하향...   \n",
       "2      [[머니투데이 한고은 기자]     (서울=뉴스1) 임세영 기자 = 곽상도 자유한국...   \n",
       "3      [ (사진=노진환 기자)[이데일리 김겨레 기자]자유한국당이 1일 추미애 법무부 장관...   \n",
       "4      [ 그러면서 자유한국당이 자신을 향해 아들 공천 문제 때문에 여당 편을 든다고 반발...   \n",
       "...                                                  ...   \n",
       "79405  [통합당, 긴급 최고위서 직권 의결… 수도권 전체 판세에 악영향 판단강원선 김진태 ...   \n",
       "79406  [논란 일자 “부적절한 표현” 사과    열린민주당 정봉주 최고위원(사진)이 12일...   \n",
       "79407  [com     4·15총선을 이틀 남긴 13일 정치권은 미래통합당이 제기한 ‘여당...   \n",
       "79408  [ 더불어민주당 이낙연 상임선거대책위원장, 이인영 원내대표, 박광온 최고위원 등 핵...   \n",
       "79409  [\"양 정당 대표 합의안 검토…승인 후 제3당 참여 위해 공유\"녹색당·노동당·사회민...   \n",
       "\n",
       "                                              party_name  \n",
       "0                                                     []  \n",
       "1                                        [더불어민주당, 자유한국당]  \n",
       "2                                         [자유한국당, 자유한국당]  \n",
       "3                                               [더불어민주당]  \n",
       "4                                                [자유한국당]  \n",
       "...                                                  ...  \n",
       "79405                                            [미래통합당]  \n",
       "79406       [더불어민주당, 열린민주당, 열린민주당, 열린민주당, 더불어시민당, 열린민주당]  \n",
       "79407                            [미래통합당, 더불어민주당, 더불어시민당]  \n",
       "79408                             [더불어민주당, 미래통합당, 미래통합당]  \n",
       "79409  [공화당, 공화당, 공화당, 공화당, 공화당, 공화당, 공화당, 공화당, 공화당, ...  \n",
       "\n",
       "[79410 rows x 5 columns]"
      ]
     },
     "execution_count": 149,
     "metadata": {},
     "output_type": "execute_result"
    }
   ],
   "source": [
    "df_news = df_news.reset_index(drop = True)\n",
    "\n",
    "df_news"
   ]
  },
  {
   "cell_type": "code",
   "execution_count": 155,
   "id": "369ce309",
   "metadata": {
    "ExecuteTime": {
     "end_time": "2024-03-08T01:38:54.409180Z",
     "start_time": "2024-03-08T01:38:54.405647Z"
    },
    "scrolled": true
   },
   "outputs": [],
   "source": [
    "df_20000 = df_news.iloc[:20000]\n",
    "df_40000 = df_news.iloc[20000:40000]\n",
    "df_60000 = df_news.iloc[40000:60000]\n",
    "df_80000 = df_news.iloc[60000:]"
   ]
  },
  {
   "cell_type": "code",
   "execution_count": null,
   "id": "783c8aef",
   "metadata": {
    "ExecuteTime": {
     "start_time": "2024-03-08T02:07:32.696Z"
    },
    "scrolled": true
   },
   "outputs": [
    {
     "name": "stderr",
     "output_type": "stream",
     "text": [
      "24621it [48:22,  8.22it/s]"
     ]
    }
   ],
   "source": [
    "# 전체\n",
    "# 데이터프레임의 열에 있는 리스트의 각 요소를 처리하고 감정 분석 수행\n",
    "res = []\n",
    "for idx, row in tqdm(df_news.iterrows()):\n",
    "    label_res = []\n",
    "    content_list = row['party_content']\n",
    "    for content in content_list:\n",
    "        # 토큰화 및 패딩\n",
    "        # 최대 입력 길이 설정\n",
    "        max_length = 512\n",
    "\n",
    "        # 토크나이저를 사용하여 입력 토큰화 및 패딩\n",
    "        inputs = tokenizer(content, return_tensors=\"pt\", padding=True, truncation=True, max_length=max_length)\n",
    "\n",
    "        # 모델로 예측\n",
    "        outputs = model(**inputs)\n",
    "\n",
    "        # 로짓 출력\n",
    "        logits = outputs.logits\n",
    "\n",
    "        # 예측 결과\n",
    "        predictions = torch.argmax(logits, dim =1)\n",
    "        sentiment = \"긍정\" if predictions == 1 else \"부정\"\n",
    "\n",
    "        label_res.append(sentiment)\n",
    "    res.append(label_res)\n",
    "\n",
    "df_news['label'] = res"
   ]
  },
  {
   "cell_type": "markdown",
   "id": "c5a0dbec",
   "metadata": {},
   "source": [
    "다른 방법"
   ]
  },
  {
   "cell_type": "code",
   "execution_count": null,
   "id": "a8408f0f",
   "metadata": {},
   "outputs": [],
   "source": [
    "from transformers import LongformerTokenizer, LongformerForSequenceClassification\n",
    "import torch\n",
    "from tqdm import tqdm\n",
    "\n",
    "# Longformer 모델과 토크나이저 불러오기\n",
    "model_name = 'allenai/longformer-base-4096'\n",
    "tokenizer = LongformerTokenizer.from_pretrained(model_name)\n",
    "model = LongformerForSequenceClassification.from_pretrained(model_name)\n",
    "\n",
    "res = []\n",
    "for idx, row in tqdm(df_news.iterrows()):\n",
    "    label_res = []\n",
    "    content_list = row['party_content']\n",
    "    for content in content_list:\n",
    "        # 토큰화 및 패딩\n",
    "        inputs = tokenizer(content, return_tensors=\"pt\", max_length=512, truncation=True)\n",
    "\n",
    "        # 모델로 예측\n",
    "        outputs = model(**inputs)\n",
    "\n",
    "        # 풀러 아웃풋에서 logit을 얻음\n",
    "        logits = outputs.logits\n",
    "\n",
    "        # 예측 결과\n",
    "        predictions = torch.argmax(logits, dim=1)\n",
    "        sentiment = \"긍정\" if predictions == 1 else \"부정\"\n",
    "\n",
    "        label_res.append(sentiment)\n",
    "    res.append(label_res)\n",
    "\n",
    "df_news['label'] = res"
   ]
  },
  {
   "cell_type": "code",
   "execution_count": null,
   "id": "a0401634",
   "metadata": {},
   "outputs": [],
   "source": []
  },
  {
   "cell_type": "code",
   "execution_count": null,
   "id": "d638f874",
   "metadata": {},
   "outputs": [],
   "source": []
  },
  {
   "cell_type": "code",
   "execution_count": null,
   "id": "356745d8",
   "metadata": {},
   "outputs": [],
   "source": []
  },
  {
   "cell_type": "code",
   "execution_count": null,
   "id": "c256d79d",
   "metadata": {},
   "outputs": [],
   "source": []
  },
  {
   "cell_type": "code",
   "execution_count": null,
   "id": "faff874f",
   "metadata": {},
   "outputs": [],
   "source": []
  },
  {
   "cell_type": "code",
   "execution_count": null,
   "id": "92f9e2b2",
   "metadata": {},
   "outputs": [],
   "source": []
  },
  {
   "cell_type": "markdown",
   "id": "67ce2d08",
   "metadata": {},
   "source": [
    "# 다른 방법"
   ]
  },
  {
   "cell_type": "markdown",
   "id": "dc6ab349",
   "metadata": {},
   "source": [
    "모델 생성"
   ]
  },
  {
   "cell_type": "code",
   "execution_count": 169,
   "id": "c5c4c9a7",
   "metadata": {
    "ExecuteTime": {
     "end_time": "2024-03-08T01:54:05.002180Z",
     "start_time": "2024-03-08T01:54:04.998826Z"
    }
   },
   "outputs": [],
   "source": [
    "import tensorflow as tf"
   ]
  },
  {
   "cell_type": "code",
   "execution_count": 172,
   "id": "0e5f88cb",
   "metadata": {
    "ExecuteTime": {
     "end_time": "2024-03-08T01:55:00.382775Z",
     "start_time": "2024-03-08T01:55:00.378746Z"
    }
   },
   "outputs": [],
   "source": [
    "device_name = tf.test.gpu_device_name()\n",
    "\n",
    "if device_name == '/device:GPU:0':\n",
    "    pritn('Found GPU at : {}'.format(device_name))\n",
    "    \n",
    "if torch.cuda.is_available():\n",
    "    device = torch.device('cuda')\n",
    "else:\n",
    "    device = torch.device('cpu')"
   ]
  },
  {
   "cell_type": "code",
   "execution_count": 160,
   "id": "d0d63144",
   "metadata": {
    "ExecuteTime": {
     "end_time": "2024-03-08T01:46:57.978426Z",
     "start_time": "2024-03-08T01:46:56.402504Z"
    },
    "scrolled": true
   },
   "outputs": [
    {
     "name": "stderr",
     "output_type": "stream",
     "text": [
      "Some weights of BertForSequenceClassification were not initialized from the model checkpoint at bert-base-multilingual-cased and are newly initialized: ['classifier.bias', 'classifier.weight']\n",
      "You should probably TRAIN this model on a down-stream task to be able to use it for predictions and inference.\n"
     ]
    }
   ],
   "source": [
    "model = BertForSequenceClassification.from_pretrained('bert-base-multilingual-cased')"
   ]
  },
  {
   "cell_type": "markdown",
   "id": "f6945784",
   "metadata": {},
   "source": [
    "옵티마이저 설정"
   ]
  },
  {
   "cell_type": "code",
   "execution_count": 164,
   "id": "cd33a717",
   "metadata": {
    "ExecuteTime": {
     "end_time": "2024-03-08T01:48:26.080196Z",
     "start_time": "2024-03-08T01:48:26.077286Z"
    }
   },
   "outputs": [],
   "source": [
    "from transformers import AdamW\n",
    "from transformers import get_linear_schedule_with_warmup"
   ]
  },
  {
   "cell_type": "code",
   "execution_count": 165,
   "id": "a443664a",
   "metadata": {
    "ExecuteTime": {
     "end_time": "2024-03-08T01:48:27.621836Z",
     "start_time": "2024-03-08T01:48:27.612942Z"
    }
   },
   "outputs": [
    {
     "name": "stderr",
     "output_type": "stream",
     "text": [
      "C:\\Users\\mit005\\anaconda3\\Lib\\site-packages\\transformers\\optimization.py:411: FutureWarning: This implementation of AdamW is deprecated and will be removed in a future version. Use the PyTorch implementation torch.optim.AdamW instead, or set `no_deprecation_warning=True` to disable this warning\n",
      "  warnings.warn(\n"
     ]
    }
   ],
   "source": [
    "optimizer = AdamW(model.parameters(), lr = 2e-5, eps = 1e-8)\n",
    "epochs = 10\n",
    "total_steps = len(df_news) * epochs\n",
    "scheduler = get_linear_schedule_with_warmup(optimizer, num_warmup_steps = 0,\n",
    "                                           num_training_steps = total_steps)"
   ]
  },
  {
   "cell_type": "code",
   "execution_count": 166,
   "id": "129d5a81",
   "metadata": {
    "ExecuteTime": {
     "end_time": "2024-03-08T01:51:10.233836Z",
     "start_time": "2024-03-08T01:51:10.230767Z"
    }
   },
   "outputs": [],
   "source": [
    "def get_accuracy(preds, labels):\n",
    "    pred_flat = np.argmax(preds, axis = 1).flatten()\n",
    "    labels_flat = labels.flatten()\n",
    "    return np.sum(pred_flat == labels_flat) / len(labels_flat)\n",
    "\n",
    "def format_time(elapsed):\n",
    "    elapsed_rounded = int(round(elapsed))\n",
    "    return str(datetime.timedelta(seconds = elapsed_rounded))"
   ]
  },
  {
   "cell_type": "markdown",
   "id": "a9c6ecf4",
   "metadata": {},
   "source": [
    "학습"
   ]
  },
  {
   "cell_type": "code",
   "execution_count": 176,
   "id": "3450c913",
   "metadata": {
    "ExecuteTime": {
     "end_time": "2024-03-08T01:57:11.523866Z",
     "start_time": "2024-03-08T01:57:11.477495Z"
    }
   },
   "outputs": [
    {
     "data": {
      "text/plain": [
       "BertForSequenceClassification(\n",
       "  (bert): BertModel(\n",
       "    (embeddings): BertEmbeddings(\n",
       "      (word_embeddings): Embedding(119547, 768, padding_idx=0)\n",
       "      (position_embeddings): Embedding(512, 768)\n",
       "      (token_type_embeddings): Embedding(2, 768)\n",
       "      (LayerNorm): LayerNorm((768,), eps=1e-12, elementwise_affine=True)\n",
       "      (dropout): Dropout(p=0.1, inplace=False)\n",
       "    )\n",
       "    (encoder): BertEncoder(\n",
       "      (layer): ModuleList(\n",
       "        (0-11): 12 x BertLayer(\n",
       "          (attention): BertAttention(\n",
       "            (self): BertSelfAttention(\n",
       "              (query): Linear(in_features=768, out_features=768, bias=True)\n",
       "              (key): Linear(in_features=768, out_features=768, bias=True)\n",
       "              (value): Linear(in_features=768, out_features=768, bias=True)\n",
       "              (dropout): Dropout(p=0.1, inplace=False)\n",
       "            )\n",
       "            (output): BertSelfOutput(\n",
       "              (dense): Linear(in_features=768, out_features=768, bias=True)\n",
       "              (LayerNorm): LayerNorm((768,), eps=1e-12, elementwise_affine=True)\n",
       "              (dropout): Dropout(p=0.1, inplace=False)\n",
       "            )\n",
       "          )\n",
       "          (intermediate): BertIntermediate(\n",
       "            (dense): Linear(in_features=768, out_features=3072, bias=True)\n",
       "            (intermediate_act_fn): GELUActivation()\n",
       "          )\n",
       "          (output): BertOutput(\n",
       "            (dense): Linear(in_features=3072, out_features=768, bias=True)\n",
       "            (LayerNorm): LayerNorm((768,), eps=1e-12, elementwise_affine=True)\n",
       "            (dropout): Dropout(p=0.1, inplace=False)\n",
       "          )\n",
       "        )\n",
       "      )\n",
       "    )\n",
       "    (pooler): BertPooler(\n",
       "      (dense): Linear(in_features=768, out_features=768, bias=True)\n",
       "      (activation): Tanh()\n",
       "    )\n",
       "  )\n",
       "  (dropout): Dropout(p=0.1, inplace=False)\n",
       "  (classifier): Linear(in_features=768, out_features=2, bias=True)\n",
       ")"
      ]
     },
     "execution_count": 176,
     "metadata": {},
     "output_type": "execute_result"
    },
    {
     "ename": "AttributeError",
     "evalue": "'str' object has no attribute 'to'",
     "output_type": "error",
     "traceback": [
      "\u001b[1;31m---------------------------------------------------------------------------\u001b[0m",
      "\u001b[1;31mAttributeError\u001b[0m                            Traceback (most recent call last)",
      "Cell \u001b[1;32mIn[176], line 8\u001b[0m\n\u001b[0;32m      5\u001b[0m model\u001b[38;5;241m.\u001b[39mtrain()\n\u001b[0;32m      7\u001b[0m \u001b[38;5;28;01mfor\u001b[39;00m stop, batch \u001b[38;5;129;01min\u001b[39;00m \u001b[38;5;28menumerate\u001b[39m(df_news):\n\u001b[1;32m----> 8\u001b[0m     batch \u001b[38;5;241m=\u001b[39m \u001b[38;5;28mtuple\u001b[39m(t\u001b[38;5;241m.\u001b[39mto(device) \u001b[38;5;28;01mfor\u001b[39;00m t \u001b[38;5;129;01min\u001b[39;00m batch)\n\u001b[0;32m      9\u001b[0m     b_input_ids, b_input_mask, b_labels \u001b[38;5;241m=\u001b[39m batch\n\u001b[0;32m     11\u001b[0m     outputs \u001b[38;5;241m=\u001b[39m model(b_input_ids, token_type_ids \u001b[38;5;241m=\u001b[39m \u001b[38;5;28;01mNone\u001b[39;00m, attention_mask \u001b[38;5;241m=\u001b[39m b_input_mask,\n\u001b[0;32m     12\u001b[0m                    labels \u001b[38;5;241m=\u001b[39m b_labels)\n",
      "Cell \u001b[1;32mIn[176], line 8\u001b[0m, in \u001b[0;36m<genexpr>\u001b[1;34m(.0)\u001b[0m\n\u001b[0;32m      5\u001b[0m model\u001b[38;5;241m.\u001b[39mtrain()\n\u001b[0;32m      7\u001b[0m \u001b[38;5;28;01mfor\u001b[39;00m stop, batch \u001b[38;5;129;01min\u001b[39;00m \u001b[38;5;28menumerate\u001b[39m(df_news):\n\u001b[1;32m----> 8\u001b[0m     batch \u001b[38;5;241m=\u001b[39m \u001b[38;5;28mtuple\u001b[39m(t\u001b[38;5;241m.\u001b[39mto(device) \u001b[38;5;28;01mfor\u001b[39;00m t \u001b[38;5;129;01min\u001b[39;00m batch)\n\u001b[0;32m      9\u001b[0m     b_input_ids, b_input_mask, b_labels \u001b[38;5;241m=\u001b[39m batch\n\u001b[0;32m     11\u001b[0m     outputs \u001b[38;5;241m=\u001b[39m model(b_input_ids, token_type_ids \u001b[38;5;241m=\u001b[39m \u001b[38;5;28;01mNone\u001b[39;00m, attention_mask \u001b[38;5;241m=\u001b[39m b_input_mask,\n\u001b[0;32m     12\u001b[0m                    labels \u001b[38;5;241m=\u001b[39m b_labels)\n",
      "\u001b[1;31mAttributeError\u001b[0m: 'str' object has no attribute 'to'"
     ]
    }
   ],
   "source": [
    "model.zero_grad()\n",
    "\n",
    "for epoch_i in range(0, epochs):\n",
    "    total_loss = 0\n",
    "    model.train()\n",
    "    \n",
    "    for stop, batch in enumerate(df_news):\n",
    "        batch = tuple(t.to(device) for t in batch)\n",
    "        b_input_ids, b_input_mask, b_labels = batch\n",
    "        \n",
    "        outputs = model(b_input_ids, token_type_ids = None, attention_mask = b_input_mask,\n",
    "                       labels = b_labels)\n",
    "        \n",
    "        loss = outputs[0]\n",
    "        total_loss += loss\n",
    "        \n",
    "        loss.backword()\n",
    "        \n",
    "        torch.nn.utils.clip_grad_norm_(model.parameters(), 1.0)"
   ]
  },
  {
   "cell_type": "code",
   "execution_count": null,
   "id": "65d1515c",
   "metadata": {},
   "outputs": [],
   "source": []
  },
  {
   "cell_type": "code",
   "execution_count": null,
   "id": "db831422",
   "metadata": {},
   "outputs": [],
   "source": []
  },
  {
   "cell_type": "code",
   "execution_count": null,
   "id": "a7a14c87",
   "metadata": {},
   "outputs": [],
   "source": []
  },
  {
   "cell_type": "code",
   "execution_count": null,
   "id": "deb22d15",
   "metadata": {},
   "outputs": [],
   "source": []
  },
  {
   "cell_type": "code",
   "execution_count": null,
   "id": "7e74b48f",
   "metadata": {},
   "outputs": [],
   "source": []
  },
  {
   "cell_type": "code",
   "execution_count": null,
   "id": "56072483",
   "metadata": {},
   "outputs": [],
   "source": []
  },
  {
   "cell_type": "code",
   "execution_count": null,
   "id": "fb406074",
   "metadata": {},
   "outputs": [],
   "source": []
  },
  {
   "cell_type": "code",
   "execution_count": null,
   "id": "b264429f",
   "metadata": {},
   "outputs": [],
   "source": []
  }
 ],
 "metadata": {
  "kernelspec": {
   "display_name": "Python 3 (ipykernel)",
   "language": "python",
   "name": "python3"
  },
  "language_info": {
   "codemirror_mode": {
    "name": "ipython",
    "version": 3
   },
   "file_extension": ".py",
   "mimetype": "text/x-python",
   "name": "python",
   "nbconvert_exporter": "python",
   "pygments_lexer": "ipython3",
   "version": "3.11.5"
  },
  "toc": {
   "base_numbering": 1,
   "nav_menu": {},
   "number_sections": true,
   "sideBar": true,
   "skip_h1_title": false,
   "title_cell": "Table of Contents",
   "title_sidebar": "Contents",
   "toc_cell": false,
   "toc_position": {
    "height": "calc(100% - 180px)",
    "left": "10px",
    "top": "150px",
    "width": "165px"
   },
   "toc_section_display": true,
   "toc_window_display": true
  }
 },
 "nbformat": 4,
 "nbformat_minor": 5
}
