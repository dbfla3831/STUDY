{
 "cells": [
  {
   "cell_type": "code",
   "execution_count": 1,
   "id": "74e6c083",
   "metadata": {
    "ExecuteTime": {
     "end_time": "2024-03-14T07:34:31.984309Z",
     "start_time": "2024-03-14T07:34:30.959951Z"
    },
    "executionInfo": {
     "elapsed": 5,
     "status": "ok",
     "timestamp": 1710396895505,
     "user": {
      "displayName": "김유림",
      "userId": "09242611142827377637"
     },
     "user_tz": -540
    },
    "id": "74e6c083"
   },
   "outputs": [],
   "source": [
    "import pandas as pd\n",
    "import numpy as np\n",
    "import matplotlib.pyplot as plt\n",
    "from tqdm import tqdm\n",
    "\n",
    "# plt.rc('font', family='NanumBarunGothic')\n",
    "# plt.rcParams['axes.unicode_minus'] =False\n",
    "\n",
    "plt.rcParams['font.family'] ='Malgun Gothic'\n",
    "plt.rcParams['axes.unicode_minus'] = False\n",
    "\n",
    "\n",
    "# from matplotlib import rc\n",
    "# rc('font', family='AppleGothic')\n",
    "# plt.rcParams['axes.unicode_minus'] = False"
   ]
  },
  {
   "cell_type": "code",
   "execution_count": 44,
   "id": "VcEJw3jobNj6",
   "metadata": {
    "colab": {
     "base_uri": "https://localhost:8080/"
    },
    "executionInfo": {
     "elapsed": 1850,
     "status": "ok",
     "timestamp": 1710396897351,
     "user": {
      "displayName": "김유림",
      "userId": "09242611142827377637"
     },
     "user_tz": -540
    },
    "id": "VcEJw3jobNj6",
    "outputId": "1f13fb8e-1012-45e3-dd55-096030d654cc"
   },
   "outputs": [
    {
     "name": "stdout",
     "output_type": "stream",
     "text": [
      "Drive already mounted at /content/drive; to attempt to forcibly remount, call drive.mount(\"/content/drive\", force_remount=True).\n"
     ]
    }
   ],
   "source": [
    "# from google.colab import drive\n",
    "# drive.mount('/content/drive')"
   ]
  },
  {
   "cell_type": "markdown",
   "id": "7ab53eec",
   "metadata": {
    "id": "7ab53eec"
   },
   "source": [
    "# 긍정부정"
   ]
  },
  {
   "cell_type": "code",
   "execution_count": 3,
   "id": "cPXhVNbDmE6u",
   "metadata": {
    "ExecuteTime": {
     "end_time": "2024-03-14T07:34:53.382846Z",
     "start_time": "2024-03-14T07:34:53.331087Z"
    },
    "colab": {
     "base_uri": "https://localhost:8080/",
     "height": 423
    },
    "executionInfo": {
     "elapsed": 1612,
     "status": "ok",
     "timestamp": 1710396924423,
     "user": {
      "displayName": "김유림",
      "userId": "09242611142827377637"
     },
     "user_tz": -540
    },
    "id": "cPXhVNbDmE6u",
    "outputId": "431e2a6c-6146-47a8-9a55-783c685cbdd1"
   },
   "outputs": [
    {
     "data": {
      "text/html": [
       "<div>\n",
       "<style scoped>\n",
       "    .dataframe tbody tr th:only-of-type {\n",
       "        vertical-align: middle;\n",
       "    }\n",
       "\n",
       "    .dataframe tbody tr th {\n",
       "        vertical-align: top;\n",
       "    }\n",
       "\n",
       "    .dataframe thead th {\n",
       "        text-align: right;\n",
       "    }\n",
       "</style>\n",
       "<table border=\"1\" class=\"dataframe\">\n",
       "  <thead>\n",
       "    <tr style=\"text-align: right;\">\n",
       "      <th></th>\n",
       "      <th>word</th>\n",
       "      <th>word_root</th>\n",
       "      <th>polarity</th>\n",
       "    </tr>\n",
       "  </thead>\n",
       "  <tbody>\n",
       "    <tr>\n",
       "      <th>0</th>\n",
       "      <td>(-;</td>\n",
       "      <td>(</td>\n",
       "      <td>1</td>\n",
       "    </tr>\n",
       "    <tr>\n",
       "      <th>1</th>\n",
       "      <td>(;_;)</td>\n",
       "      <td>(;_;)</td>\n",
       "      <td>-1</td>\n",
       "    </tr>\n",
       "    <tr>\n",
       "      <th>2</th>\n",
       "      <td>(^^)</td>\n",
       "      <td>(^^)</td>\n",
       "      <td>1</td>\n",
       "    </tr>\n",
       "    <tr>\n",
       "      <th>3</th>\n",
       "      <td>(^-^)</td>\n",
       "      <td>(^-^)</td>\n",
       "      <td>1</td>\n",
       "    </tr>\n",
       "    <tr>\n",
       "      <th>4</th>\n",
       "      <td>(^^*</td>\n",
       "      <td>(</td>\n",
       "      <td>1</td>\n",
       "    </tr>\n",
       "    <tr>\n",
       "      <th>...</th>\n",
       "      <td>...</td>\n",
       "      <td>...</td>\n",
       "      <td>...</td>\n",
       "    </tr>\n",
       "    <tr>\n",
       "      <th>14838</th>\n",
       "      <td>반신반의하다</td>\n",
       "      <td>반신반의</td>\n",
       "      <td>0</td>\n",
       "    </tr>\n",
       "    <tr>\n",
       "      <th>14839</th>\n",
       "      <td>신비롭다</td>\n",
       "      <td>신비</td>\n",
       "      <td>1</td>\n",
       "    </tr>\n",
       "    <tr>\n",
       "      <th>14840</th>\n",
       "      <td>아리송하다</td>\n",
       "      <td>아리송</td>\n",
       "      <td>-1</td>\n",
       "    </tr>\n",
       "    <tr>\n",
       "      <th>14841</th>\n",
       "      <td>알쏭하다</td>\n",
       "      <td>알쏭하</td>\n",
       "      <td>-1</td>\n",
       "    </tr>\n",
       "    <tr>\n",
       "      <th>14842</th>\n",
       "      <td>알쏭달쏭하다</td>\n",
       "      <td>알쏭달쏭</td>\n",
       "      <td>-1</td>\n",
       "    </tr>\n",
       "  </tbody>\n",
       "</table>\n",
       "<p>14843 rows × 3 columns</p>\n",
       "</div>"
      ],
      "text/plain": [
       "         word word_root polarity\n",
       "0         (-;         (        1\n",
       "1       (;_;)     (;_;)       -1\n",
       "2        (^^)      (^^)        1\n",
       "3       (^-^)     (^-^)        1\n",
       "4        (^^*         (        1\n",
       "...       ...       ...      ...\n",
       "14838  반신반의하다      반신반의        0\n",
       "14839    신비롭다        신비        1\n",
       "14840   아리송하다       아리송       -1\n",
       "14841    알쏭하다       알쏭하       -1\n",
       "14842  알쏭달쏭하다      알쏭달쏭       -1\n",
       "\n",
       "[14843 rows x 3 columns]"
      ]
     },
     "execution_count": 3,
     "metadata": {},
     "output_type": "execute_result"
    }
   ],
   "source": [
    "import json\n",
    "\n",
    "with open('./data/SentiWord_info.json', encoding='utf-8-sig', mode='r') as f:\n",
    "    SentiWord_info = json.load(f)\n",
    "\n",
    "sentiword_dic = pd.DataFrame(SentiWord_info)\n",
    "sentiword_dic"
   ]
  },
  {
   "cell_type": "code",
   "execution_count": 4,
   "id": "PcvbF6FMmlgK",
   "metadata": {
    "ExecuteTime": {
     "end_time": "2024-03-14T07:35:13.199985Z",
     "start_time": "2024-03-14T07:35:10.086088Z"
    },
    "executionInfo": {
     "elapsed": 14569,
     "status": "ok",
     "timestamp": 1710397046363,
     "user": {
      "displayName": "김유림",
      "userId": "09242611142827377637"
     },
     "user_tz": -540
    },
    "id": "PcvbF6FMmlgK"
   },
   "outputs": [],
   "source": [
    "df = pd.read_csv('./data/긍정부정3.csv')\n",
    "df = df[['party_content', 'party_name']]"
   ]
  },
  {
   "cell_type": "code",
   "execution_count": 5,
   "id": "lWdtincjm5tX",
   "metadata": {
    "ExecuteTime": {
     "end_time": "2024-03-14T07:35:14.272121Z",
     "start_time": "2024-03-14T07:35:14.231230Z"
    },
    "colab": {
     "base_uri": "https://localhost:8080/",
     "height": 423
    },
    "executionInfo": {
     "elapsed": 407,
     "status": "ok",
     "timestamp": 1710397092476,
     "user": {
      "displayName": "김유림",
      "userId": "09242611142827377637"
     },
     "user_tz": -540
    },
    "id": "lWdtincjm5tX",
    "outputId": "1f29331c-1dde-48b2-ea97-35e752d99c49"
   },
   "outputs": [
    {
     "data": {
      "text/html": [
       "<div>\n",
       "<style scoped>\n",
       "    .dataframe tbody tr th:only-of-type {\n",
       "        vertical-align: middle;\n",
       "    }\n",
       "\n",
       "    .dataframe tbody tr th {\n",
       "        vertical-align: top;\n",
       "    }\n",
       "\n",
       "    .dataframe thead th {\n",
       "        text-align: right;\n",
       "    }\n",
       "</style>\n",
       "<table border=\"1\" class=\"dataframe\">\n",
       "  <thead>\n",
       "    <tr style=\"text-align: right;\">\n",
       "      <th></th>\n",
       "      <th>party_content</th>\n",
       "      <th>party_name</th>\n",
       "    </tr>\n",
       "  </thead>\n",
       "  <tbody>\n",
       "    <tr>\n",
       "      <th>0</th>\n",
       "      <td>['kr▶ [ 크립토허브 ]  ▶ [신년특집] 관련 기사 보기! ▶ 네이버 메인에서...</td>\n",
       "      <td>['코리아']</td>\n",
       "    </tr>\n",
       "    <tr>\n",
       "      <th>1</th>\n",
       "      <td>[' 더불어민주당은 정책, 영입을 병행 추진하고 있다', ' 한국당 미래통합당 의원...</td>\n",
       "      <td>['더불어민주당', '미래통합당']</td>\n",
       "    </tr>\n",
       "    <tr>\n",
       "      <th>2</th>\n",
       "      <td>['[머니투데이 한고은 기자]     (서울=뉴스1) 임세영 기자 = 곽상도 자유한...</td>\n",
       "      <td>['미래통합당', '코리아']</td>\n",
       "    </tr>\n",
       "    <tr>\n",
       "      <th>3</th>\n",
       "      <td>['미래통합당 친문농단특위 위원장, 1일 고발\"지방선거 전 송철호에 靑행정관 소개\"...</td>\n",
       "      <td>['미래통합당', '더불어민주당', '미래통합당']</td>\n",
       "    </tr>\n",
       "    <tr>\n",
       "      <th>5</th>\n",
       "      <td>[' 출마지역으로는 문 대통령 사저가 있고 서형수 현 더불어민주당 의원이 불출마를 ...</td>\n",
       "      <td>['더불어민주당', '더불어민주당', '더불어민주당', '코리아']</td>\n",
       "    </tr>\n",
       "    <tr>\n",
       "      <th>...</th>\n",
       "      <td>...</td>\n",
       "      <td>...</td>\n",
       "    </tr>\n",
       "    <tr>\n",
       "      <th>79405</th>\n",
       "      <td>['통합당, 긴급 최고위서 직권 의결… 수도권 전체 판세에 악영향 판단강원선 미래통...</td>\n",
       "      <td>['미래통합당', '미래통합당']</td>\n",
       "    </tr>\n",
       "    <tr>\n",
       "      <th>79406</th>\n",
       "      <td>['논란 일자 “부적절한 표현” 사과    열린민주당 정봉주 최고위원(사진)이 12...</td>\n",
       "      <td>['더불어민주당', '더불어시민당', '열린민주당', '더불어민주당', '열린민주당...</td>\n",
       "    </tr>\n",
       "    <tr>\n",
       "      <th>79407</th>\n",
       "      <td>['com     4·15총선을 이틀 남긴 13일 정치권은 미래통합당이 제기한 ‘여...</td>\n",
       "      <td>['미래통합당', '더불어민주당', '더불어시민당', '더불어민주당']</td>\n",
       "    </tr>\n",
       "    <tr>\n",
       "      <th>79408</th>\n",
       "      <td>[' 더불어민주당 이낙연 상임선거대책위원장, 이인영 원내대표, 박광온 최고위원 등 ...</td>\n",
       "      <td>['더불어민주당', '미래통합당', '미래통합당', '우리공화당', '우리공화당']</td>\n",
       "    </tr>\n",
       "    <tr>\n",
       "      <th>79409</th>\n",
       "      <td>['\"양 정당 대표 합의안 검토…승인 후 제3당 참여 위해 공유\"녹색당·노동당·사회...</td>\n",
       "      <td>['노동당', '공화당', '공화당', '공화당', '공화당', '공화당', '공화...</td>\n",
       "    </tr>\n",
       "  </tbody>\n",
       "</table>\n",
       "<p>71993 rows × 2 columns</p>\n",
       "</div>"
      ],
      "text/plain": [
       "                                           party_content  \\\n",
       "0      ['kr▶ [ 크립토허브 ]  ▶ [신년특집] 관련 기사 보기! ▶ 네이버 메인에서...   \n",
       "1      [' 더불어민주당은 정책, 영입을 병행 추진하고 있다', ' 한국당 미래통합당 의원...   \n",
       "2      ['[머니투데이 한고은 기자]     (서울=뉴스1) 임세영 기자 = 곽상도 자유한...   \n",
       "3      ['미래통합당 친문농단특위 위원장, 1일 고발\"지방선거 전 송철호에 靑행정관 소개\"...   \n",
       "5      [' 출마지역으로는 문 대통령 사저가 있고 서형수 현 더불어민주당 의원이 불출마를 ...   \n",
       "...                                                  ...   \n",
       "79405  ['통합당, 긴급 최고위서 직권 의결… 수도권 전체 판세에 악영향 판단강원선 미래통...   \n",
       "79406  ['논란 일자 “부적절한 표현” 사과    열린민주당 정봉주 최고위원(사진)이 12...   \n",
       "79407  ['com     4·15총선을 이틀 남긴 13일 정치권은 미래통합당이 제기한 ‘여...   \n",
       "79408  [' 더불어민주당 이낙연 상임선거대책위원장, 이인영 원내대표, 박광온 최고위원 등 ...   \n",
       "79409  ['\"양 정당 대표 합의안 검토…승인 후 제3당 참여 위해 공유\"녹색당·노동당·사회...   \n",
       "\n",
       "                                              party_name  \n",
       "0                                                ['코리아']  \n",
       "1                                    ['더불어민주당', '미래통합당']  \n",
       "2                                       ['미래통합당', '코리아']  \n",
       "3                           ['미래통합당', '더불어민주당', '미래통합당']  \n",
       "5                  ['더불어민주당', '더불어민주당', '더불어민주당', '코리아']  \n",
       "...                                                  ...  \n",
       "79405                                 ['미래통합당', '미래통합당']  \n",
       "79406  ['더불어민주당', '더불어시민당', '열린민주당', '더불어민주당', '열린민주당...  \n",
       "79407            ['미래통합당', '더불어민주당', '더불어시민당', '더불어민주당']  \n",
       "79408     ['더불어민주당', '미래통합당', '미래통합당', '우리공화당', '우리공화당']  \n",
       "79409  ['노동당', '공화당', '공화당', '공화당', '공화당', '공화당', '공화...  \n",
       "\n",
       "[71993 rows x 2 columns]"
      ]
     },
     "execution_count": 5,
     "metadata": {},
     "output_type": "execute_result"
    }
   ],
   "source": [
    "df_2020 = df.copy()\n",
    "df_2020 = df_2020[df_2020['party_content'].apply(lambda x : len(x) > 2)]\n",
    "\n",
    "df_2020"
   ]
  },
  {
   "cell_type": "code",
   "execution_count": 6,
   "id": "HWaGeZWemiQ1",
   "metadata": {
    "ExecuteTime": {
     "end_time": "2024-03-14T14:39:15.114664Z",
     "start_time": "2024-03-14T07:50:44.339165Z"
    },
    "colab": {
     "base_uri": "https://localhost:8080/",
     "height": 393
    },
    "executionInfo": {
     "elapsed": 2139707,
     "status": "error",
     "timestamp": 1710401144931,
     "user": {
      "displayName": "김유림",
      "userId": "09242611142827377637"
     },
     "user_tz": -540
    },
    "id": "HWaGeZWemiQ1",
    "outputId": "645cc760-2df8-4b5a-eb5c-178278b53505"
   },
   "outputs": [
    {
     "name": "stderr",
     "output_type": "stream",
     "text": [
      "71993it [6:48:30,  2.94it/s]\n"
     ]
    }
   ],
   "source": [
    "res = []\n",
    "for idx, row in tqdm(df_2020.iterrows()):\n",
    "    num = []\n",
    "    sentiment = 0\n",
    "    for content in eval(row['party_content']):\n",
    "        for i in range(0, len(sentiword_dic)):\n",
    "            if sentiword_dic.word[i] in content:\n",
    "                sentiment += int(sentiword_dic.polarity[i])\n",
    "        num.append(sentiment)\n",
    "    res.append(num)\n",
    "\n",
    "df_2020['sentiment'] = res"
   ]
  },
  {
   "cell_type": "code",
   "execution_count": 59,
   "id": "drqbuL9qlAU4",
   "metadata": {
    "colab": {
     "base_uri": "https://localhost:8080/",
     "height": 423
    },
    "executionInfo": {
     "elapsed": 449,
     "status": "ok",
     "timestamp": 1710398208911,
     "user": {
      "displayName": "김유림",
      "userId": "09242611142827377637"
     },
     "user_tz": -540
    },
    "id": "drqbuL9qlAU4",
    "outputId": "2b0d5e3e-2244-4758-f259-a1407b258a34"
   },
   "outputs": [
    {
     "data": {
      "application/vnd.google.colaboratory.intrinsic+json": {
       "summary": "{\n  \"name\": \"df_2020\",\n  \"rows\": 68122,\n  \"fields\": [\n    {\n      \"column\": \"party_content\",\n      \"properties\": {\n        \"dtype\": \"string\",\n        \"num_unique_values\": 56080,\n        \"samples\": [\n          \"['[\\uc774\\ubbf8\\uc9c0\\ucd9c\\ucc98=\\uc5f0\\ud569\\ub274\\uc2a4][\\uc544\\uc2dc\\uc544\\uacbd\\uc81c \\uc774\\uc9c0\\uc740 \\uae30\\uc790] \\ud64d\\uc900\\ud45c \\uc804 \\uc790\\uc720\\ud55c\\uad6d\\ub2f9 \\ub300\\ud45c\\uac00 17\\uc77c \\\"\\ub300\\uad6c\\ub97c \\ub2e4\\uc2dc \\ud48d\\ud328\\uc9c0\\ud5a5\\uc73c\\ub85c \\ub9cc\\ub4e4\\uaca0\\ub2e4\\\"\\uba70 \\ub300\\uad6c \\uc218\\uc131\\uc744\\uc5d0\\uc11c \\uacf5\\uc2dd \\ucd9c\\ub9c8\\uc120\\uc5b8\\uc744 \\ud588\\ub2e4', \\\" \\uadf8\\ub294 \\ubbf8\\ub798\\ud1b5\\ud569\\ub2f9\\uc758 \\uacf5\\ucc9c\\uc744 '\\ud611\\uc7a1\\uacf5\\ucc9c\\uc758 \\ubd88\\uacf5\\uc815\\uacfc \\ubd88\\uc758'\\ub77c\\uace0 \\uaddc\\uc815\\ud558\\uace0 \\ud0c8\\ub2f9 \\ud6c4 \\ucd1d\\uc120\\uc5d0\\uc11c \\uc2b9\\ub9ac\\ud574 \\ubcf5\\ub2f9\\ud558\\uaca0\\ub2e4\\uace0 \\uac15\\uc870\\ud588\\ub2e4\\\", '\\ubb34\\uc18c\\uc18d\\uc774 \\uc544\\ub2c8\\ub77c\\uc2dc\\ubbfc \\uc5ec\\ub7ec\\ubd84\\uc774 \\ucd94\\ucc9c\\ud55c \\u2018\\uc2dc\\ubbfc\\uacf5\\ucc9c \\ud6c4\\ubcf4\\u2019\\ub85c\\uc11c\\ub2f9\\ub2f9\\ud788 \\uc5ec\\ub7ec\\ubd84\\ub4e4 \\uc55e\\uc5d0 \\uc11c\\uaca0\\uc2b5\\ub2c8\\ub2e4', '\\uc790\\uc720\\ud55c\\uad6d\\ub2f9 \\ub2f9 \\ub300\\ud45c\\ub97c \\ud558\\uba74\\uc11c\\uc548\\ud30e\\uc758 \\ube44\\ub09c\\uc744 \\ubb34\\ub985\\uc4f0\\uace0\\ub300\\uad6c \\ubd81\\uc744 \\ub2f9\\ud611\\uc704\\uc6d0\\uc7a5\\uc9c1\\uc744 \\ub9e1\\uc558\\uc2b5\\ub2c8\\ub2e4', '\\uc9c0\\uae08\\uc758 \\ubbf8\\ub798\\ud1b5\\ud569\\ub2f9\\uc740\\uc120\\uac70\\uc6a9\\uc73c\\ub85c \\uae09\\uc870\\ub41c \\u2018\\uc7a1\\ud0d5 \\uc815\\ub2f9\\u2019\\uc5d0 \\ubd88\\uacfc\\ud569\\ub2c8\\ub2e4', '\\ub300\\uad6c \\uc2e0\\uacf5\\ud56d\\uc744 \\ubbf8\\ub798\\ud55c\\uad6d\\ub2f9\\ud558\\uc5ec \\uc218\\ucd9c\\ud560 \\uc218 \\uc788\\ub294\\ubc18\\ub3c4\\uccb4\\uc640 \\uac19\\uc740 \\uace0\\ubd80\\uac00\\uac00\\uce58 \\uc0b0\\uc5c5\\uc744 \\uc720\\uce58\\ud558\\uaca0\\uc2b5\\ub2c8\\ub2e4']\",\n          \"['(\\uc11c\\uc6b8=\\ub274\\uc2a41) \\ubc15\\uc138\\uc5f0 \\uae30\\uc790 = \\ubbf8\\ub798\\ud1b5\\ud569\\ub2f9\\uc5d0 \\uc785\\ub2f9\\ud55c \\uae40\\uc0bc\\ud654(\\uc624\\ub978\\ucabd\\ubd80\\ud130), \\uae40\\uc218\\ubbfc, \\uc2e0\\uc6a9\\ud604 \\uc758\\uc6d0\\uc774 2\\uc77c \\uc624\\ud6c4 \\uc11c\\uc6b8 \\uc5ec\\uc758\\ub3c4 \\uad6d\\ud68c\\uc5d0\\uc11c \\uc5f4\\ub9b0 \\uc758\\uc6d0\\ucd1d\\ud68c\\uc5d0\\uc11c \\uc785\\ub2f9 \\uc778\\uc0ac\\ub97c \\ud558\\uace0 \\uc788\\ub2e4']\",\n          \"['15\\ucd1d\\uc120 \\uacbd\\uae30 \\uc758\\uc815\\ubd80\\uac11 \\ubb34\\uc18c\\uc18d \\ucd9c\\ub9c8\\ub97c \\uc120\\uc5b8\\ud558\\uace0 \\uc788\\ub2e4', ' \\ubb38 \\uc528\\ub294 \\ub354\\ubd88\\uc5b4\\ubbfc\\uc8fc\\ub2f9 \\uc608\\ube44\\ud6c4\\ubcf4\\ub85c \\ub4f1\\ub85d\\ud558\\uace0 \\uc544\\ubc84\\uc9c0 \\ubb38 \\uc758\\uc7a5\\uc774 6\\uc120 \\uc758\\uc6d0\\uc744 \\uc9c0\\ub0b8 \\uacbd\\uae30 \\uc758\\uc815\\ubd80\\uac11 \\uc9c0\\uc5ed\\uad6c \\ucd9c\\ub9c8\\ub97c \\uc900\\ube44\\ud588\\uc73c\\ub098, \\uc9c0\\uc5ed\\uad6c \\uc138\\uc2b5 \\ub17c\\ub780\\uc774 \\uc77c\\uc790 \\ucd9c\\ub9c8\\ub97c \\ud3ec\\uae30\\ud588\\uc5c8\\ub2e4', '17 \\u00a9 News1 \\uc774\\uad11\\ud638 \\uae30\\uc790(\\uc758\\uc815\\ubd80=\\ub274\\uc2a41) \\uc774\\uc0c1\\ud73c \\uae30\\uc790 = \\\"\\ub2f9\\uc120 \\uac00\\ub2a5\\uc131? \\ub0b4\\uac00 100% \\ub2f9\\uc120\\ud55c\\ub2e4\\\", \\\"\\uc774\\uc820 \\uc120\\ub2f9\\ud6c4\\uc0ac(\\u5148\\u9ee8\\u5f8c\\u79c1)\\uac00 \\uc544\\ub2c8\\ub77c \\uc120\\uacf5\\ud6c4\\uc0ac(\\u5148\\u516c\\u5f8c\\u79c1)\\ub2e4\\\", \\\"\\uc544\\ubc84\\uc9c0\\uc640 \\ubb34\\uc18c\\uc18d \\ucd9c\\ub9c8 \\ubb38\\uc81c\\ub97c \\uc0c1\\uc758\\ud588\\ub2e4', '\\\"\\ubb38\\ud76c\\uc0c1 \\uad6d\\ud68c\\uc758\\uc7a5\\uc758 \\uc544\\ub4e4 \\ubb38\\uc11d\\uade0(50) \\uc22d\\ubb38\\ub2f9 \\ub300\\ud45c\\uac00 17\\uc77c \\ubb34\\uc18c\\uc18d\\uc73c\\ub85c \\uacbd\\uae30 \\uc758\\uc815\\ubd80\\uac11 \\ucd9c\\ub9c8\\ub97c \\uc120\\uc5b8\\ud558\\uba74\\uc11c \\ub2f9\\uc120 \\uac00\\ub2a5\\uc131\\uc744 \\uc790\\uc2e0\\ud588\\ub2e4', ' \\uc774\\ubc88 \\ubb34\\uc18c\\uc18d \\ucd9c\\ub9c8 \\uacb0\\uc815\\uc5d0\\ub294 \\uc544\\ubc84\\uc9c0\\uc778 \\ubb38\\ud76c\\uc0c1 \\uad6d\\ud68c\\uc758\\uc7a5\\uc758 \\uc554\\ubb35\\uc801 \\uc751\\uc6d0\\uc774 \\uc788\\uc5c8\\ub2e4\\uace0 \\ubc1d\\ud614\\ub2e4', '\\ub2f9\\uc120\\ud558\\uba74 \\ub354\\ubd88\\uc5b4\\ubbfc\\uc8fc\\ub2f9\\uc5d0 \\uc5b4\\ub5bb\\uac8c\\ub4e0 \\ubcf5\\ub2f9\\ud558\\ub294 \\ubc29\\uc548\\uc744 \\uac15\\uad6c\\ud560 \\uac83\\uc774\\ub77c\\ub294 \\uacc4\\ud68d\\ub3c4 \\ubc1d\\ud614\\ub2e4', ' \\ucd9c\\ub9c8\\uc120\\uc5b8\\uc7a5\\uc5d0\\ub294 \\uc804\\ub0a0 \\ubb38 \\uc608\\ube44\\ud6c4\\ubcf4\\uc640 \\ud568\\uaed8 \\ub354\\ubd88\\uc5b4\\ubbfc\\uc8fc\\ub2f9\\uc744 \\ud0c8\\ub2f9\\ud55c \\uae40\\uc815\\uacb8, \\uae40\\uc601\\uc219, \\uc624\\ubc94\\uad6c \\ub4f1 3\\uba85\\uc758 \\uc758\\uc815\\ubd80\\uc2dc\\uc758\\uc6d0\\ub4e4\\uc774 \\ud568\\uaed8 \\uc790\\ub9ac\\ud588\\ub2e4', ' \\ubb34\\uc18c\\uc18d\\uc740 \\ud798\\ub4e0 \\uae38\\uc774\\ub2e4', ' \\uc2e4\\ub9ac\\ub97c \\uc6d0\\ud588\\ub2e4\\uba74 2\\ub144 \\ub4a4 \\uc758\\uc815\\ubd80\\uc2dc\\uc7a5 \\uc120\\uac70, 4\\ub144 \\ub4a4 \\ucd1d\\uc120\\uc744 \\uc0dd\\uac01\\ud588\\uc744 \\uac83\\uc774\\uc9c0\\ub9cc \\uac00\\uc7a5 \\uc5b4\\ub824\\uc6b4 \\ubb34\\uc18c\\uc18d\\uc758 \\uae38\\uc744 \\uc120\\ud0dd\\ud588\\ub2e4\\\"\\uace0 \\ub9d0\\ud588\\ub2e4']\"\n        ],\n        \"semantic_type\": \"\",\n        \"description\": \"\"\n      }\n    },\n    {\n      \"column\": \"party_name\",\n      \"properties\": {\n        \"dtype\": \"category\",\n        \"num_unique_values\": 11809,\n        \"samples\": [\n          \"['\\ubbf8\\ub798\\ud55c\\uad6d\\ub2f9', '\\ubbf8\\ub798\\ud55c\\uad6d\\ub2f9', '\\ubbf8\\ub798\\ud55c\\uad6d\\ub2f9', '\\ubbf8\\ub798\\ud1b5\\ud569\\ub2f9', '\\ubbf8\\ub798\\ud1b5\\ud569\\ub2f9', '\\ubbf8\\ub798\\ud55c\\uad6d\\ub2f9']\",\n          \"['\\ub354\\ubd88\\uc5b4\\ubbfc\\uc8fc\\ub2f9', '\\uc815\\uc758\\ub2f9', '\\uc815\\uc758\\ub2f9', '\\uc790\\uc720\\ud55c\\uad6d\\ub2f9', '\\ubbf8\\ub798\\ud1b5\\ud569\\ub2f9', '\\uc815\\uc758\\ub2f9', '\\ubbf8\\ub798\\ud1b5\\ud569\\ub2f9', '\\ubbf8\\ub798\\ud1b5\\ud569\\ub2f9', '\\ubbf8\\ub798\\ud1b5\\ud569\\ub2f9', '\\uc815\\uc758\\ub2f9', '\\ub354\\ubd88\\uc5b4\\uc2dc\\ubbfc\\ub2f9', '\\uc5f4\\ub9b0\\ubbfc\\uc8fc\\ub2f9', '\\uc815\\uc758\\ub2f9', '\\uc815\\uc758\\ub2f9', '\\uc815\\uc758\\ub2f9']\",\n          \"['\\ubbfc\\uc911\\ubbfc\\uc8fc\\ub2f9', '\\uc815\\uc758\\ub2f9', '\\uc790\\uc720\\ud55c\\uad6d\\ub2f9']\"\n        ],\n        \"semantic_type\": \"\",\n        \"description\": \"\"\n      }\n    }\n  ]\n}",
       "type": "dataframe",
       "variable_name": "df_2020"
      },
      "text/html": [
       "\n",
       "  <div id=\"df-d50c1e79-b682-44b7-8e32-873309a28787\" class=\"colab-df-container\">\n",
       "    <div>\n",
       "<style scoped>\n",
       "    .dataframe tbody tr th:only-of-type {\n",
       "        vertical-align: middle;\n",
       "    }\n",
       "\n",
       "    .dataframe tbody tr th {\n",
       "        vertical-align: top;\n",
       "    }\n",
       "\n",
       "    .dataframe thead th {\n",
       "        text-align: right;\n",
       "    }\n",
       "</style>\n",
       "<table border=\"1\" class=\"dataframe\">\n",
       "  <thead>\n",
       "    <tr style=\"text-align: right;\">\n",
       "      <th></th>\n",
       "      <th>party_content</th>\n",
       "      <th>party_name</th>\n",
       "    </tr>\n",
       "  </thead>\n",
       "  <tbody>\n",
       "    <tr>\n",
       "      <th>1</th>\n",
       "      <td>[' 더불어민주당은 정책, 영입을 병행 추진하고 있다', '  자유한국당은 선거연령...</td>\n",
       "      <td>['더불어민주당', '자유한국당']</td>\n",
       "    </tr>\n",
       "    <tr>\n",
       "      <th>2</th>\n",
       "      <td>['[머니투데이 한고은 기자]     (서울=뉴스1) 임세영 기자 = 곽상도 자유한...</td>\n",
       "      <td>['자유한국당', '자유한국당']</td>\n",
       "    </tr>\n",
       "    <tr>\n",
       "      <th>3</th>\n",
       "      <td>[' (사진=노진환 기자)[이데일리 김겨레 기자]자유한국당이 1일 추미애 법무부 장...</td>\n",
       "      <td>['더불어민주당']</td>\n",
       "    </tr>\n",
       "    <tr>\n",
       "      <th>4</th>\n",
       "      <td>[' 그러면서 자유한국당이 자신을 향해 아들 공천 문제 때문에 여당 편을 든다고 반...</td>\n",
       "      <td>['자유한국당']</td>\n",
       "    </tr>\n",
       "    <tr>\n",
       "      <th>5</th>\n",
       "      <td>[' 출마지역으로는 문 대통령 사저가 있고 서형수 현 더불어민주당 의원이 불출마를 ...</td>\n",
       "      <td>['더불어민주당', '더불어민주당']</td>\n",
       "    </tr>\n",
       "    <tr>\n",
       "      <th>...</th>\n",
       "      <td>...</td>\n",
       "      <td>...</td>\n",
       "    </tr>\n",
       "    <tr>\n",
       "      <th>80035</th>\n",
       "      <td>['통합당, 긴급 최고위서 직권 의결… 수도권 전체 판세에 악영향 판단강원선 김진태...</td>\n",
       "      <td>['미래통합당']</td>\n",
       "    </tr>\n",
       "    <tr>\n",
       "      <th>80036</th>\n",
       "      <td>['논란 일자 “부적절한 표현” 사과    열린민주당 정봉주 최고위원(사진)이 12...</td>\n",
       "      <td>['더불어민주당', '열린민주당', '열린민주당', '열린민주당', '더불어시민당'...</td>\n",
       "    </tr>\n",
       "    <tr>\n",
       "      <th>80037</th>\n",
       "      <td>['com     4·15총선을 이틀 남긴 13일 정치권은 미래통합당이 제기한 ‘여...</td>\n",
       "      <td>['미래통합당', '더불어민주당', '더불어시민당']</td>\n",
       "    </tr>\n",
       "    <tr>\n",
       "      <th>80038</th>\n",
       "      <td>[' 더불어민주당 이낙연 상임선거대책위원장, 이인영 원내대표, 박광온 최고위원 등 ...</td>\n",
       "      <td>['더불어민주당', '미래통합당', '미래통합당']</td>\n",
       "    </tr>\n",
       "    <tr>\n",
       "      <th>80039</th>\n",
       "      <td>['\"양 정당 대표 합의안 검토…승인 후 제3당 참여 위해 공유\"녹색당·노동당·사회...</td>\n",
       "      <td>['공화당', '공화당', '공화당', '공화당', '공화당', '공화당', '공화...</td>\n",
       "    </tr>\n",
       "  </tbody>\n",
       "</table>\n",
       "<p>68122 rows × 2 columns</p>\n",
       "</div>\n",
       "    <div class=\"colab-df-buttons\">\n",
       "\n",
       "  <div class=\"colab-df-container\">\n",
       "    <button class=\"colab-df-convert\" onclick=\"convertToInteractive('df-d50c1e79-b682-44b7-8e32-873309a28787')\"\n",
       "            title=\"Convert this dataframe to an interactive table.\"\n",
       "            style=\"display:none;\">\n",
       "\n",
       "  <svg xmlns=\"http://www.w3.org/2000/svg\" height=\"24px\" viewBox=\"0 -960 960 960\">\n",
       "    <path d=\"M120-120v-720h720v720H120Zm60-500h600v-160H180v160Zm220 220h160v-160H400v160Zm0 220h160v-160H400v160ZM180-400h160v-160H180v160Zm440 0h160v-160H620v160ZM180-180h160v-160H180v160Zm440 0h160v-160H620v160Z\"/>\n",
       "  </svg>\n",
       "    </button>\n",
       "\n",
       "  <style>\n",
       "    .colab-df-container {\n",
       "      display:flex;\n",
       "      gap: 12px;\n",
       "    }\n",
       "\n",
       "    .colab-df-convert {\n",
       "      background-color: #E8F0FE;\n",
       "      border: none;\n",
       "      border-radius: 50%;\n",
       "      cursor: pointer;\n",
       "      display: none;\n",
       "      fill: #1967D2;\n",
       "      height: 32px;\n",
       "      padding: 0 0 0 0;\n",
       "      width: 32px;\n",
       "    }\n",
       "\n",
       "    .colab-df-convert:hover {\n",
       "      background-color: #E2EBFA;\n",
       "      box-shadow: 0px 1px 2px rgba(60, 64, 67, 0.3), 0px 1px 3px 1px rgba(60, 64, 67, 0.15);\n",
       "      fill: #174EA6;\n",
       "    }\n",
       "\n",
       "    .colab-df-buttons div {\n",
       "      margin-bottom: 4px;\n",
       "    }\n",
       "\n",
       "    [theme=dark] .colab-df-convert {\n",
       "      background-color: #3B4455;\n",
       "      fill: #D2E3FC;\n",
       "    }\n",
       "\n",
       "    [theme=dark] .colab-df-convert:hover {\n",
       "      background-color: #434B5C;\n",
       "      box-shadow: 0px 1px 3px 1px rgba(0, 0, 0, 0.15);\n",
       "      filter: drop-shadow(0px 1px 2px rgba(0, 0, 0, 0.3));\n",
       "      fill: #FFFFFF;\n",
       "    }\n",
       "  </style>\n",
       "\n",
       "    <script>\n",
       "      const buttonEl =\n",
       "        document.querySelector('#df-d50c1e79-b682-44b7-8e32-873309a28787 button.colab-df-convert');\n",
       "      buttonEl.style.display =\n",
       "        google.colab.kernel.accessAllowed ? 'block' : 'none';\n",
       "\n",
       "      async function convertToInteractive(key) {\n",
       "        const element = document.querySelector('#df-d50c1e79-b682-44b7-8e32-873309a28787');\n",
       "        const dataTable =\n",
       "          await google.colab.kernel.invokeFunction('convertToInteractive',\n",
       "                                                    [key], {});\n",
       "        if (!dataTable) return;\n",
       "\n",
       "        const docLinkHtml = 'Like what you see? Visit the ' +\n",
       "          '<a target=\"_blank\" href=https://colab.research.google.com/notebooks/data_table.ipynb>data table notebook</a>'\n",
       "          + ' to learn more about interactive tables.';\n",
       "        element.innerHTML = '';\n",
       "        dataTable['output_type'] = 'display_data';\n",
       "        await google.colab.output.renderOutput(dataTable, element);\n",
       "        const docLink = document.createElement('div');\n",
       "        docLink.innerHTML = docLinkHtml;\n",
       "        element.appendChild(docLink);\n",
       "      }\n",
       "    </script>\n",
       "  </div>\n",
       "\n",
       "\n",
       "<div id=\"df-fe2f81f2-2104-4086-a2e8-d23f21a5fe2b\">\n",
       "  <button class=\"colab-df-quickchart\" onclick=\"quickchart('df-fe2f81f2-2104-4086-a2e8-d23f21a5fe2b')\"\n",
       "            title=\"Suggest charts\"\n",
       "            style=\"display:none;\">\n",
       "\n",
       "<svg xmlns=\"http://www.w3.org/2000/svg\" height=\"24px\"viewBox=\"0 0 24 24\"\n",
       "     width=\"24px\">\n",
       "    <g>\n",
       "        <path d=\"M19 3H5c-1.1 0-2 .9-2 2v14c0 1.1.9 2 2 2h14c1.1 0 2-.9 2-2V5c0-1.1-.9-2-2-2zM9 17H7v-7h2v7zm4 0h-2V7h2v10zm4 0h-2v-4h2v4z\"/>\n",
       "    </g>\n",
       "</svg>\n",
       "  </button>\n",
       "\n",
       "<style>\n",
       "  .colab-df-quickchart {\n",
       "      --bg-color: #E8F0FE;\n",
       "      --fill-color: #1967D2;\n",
       "      --hover-bg-color: #E2EBFA;\n",
       "      --hover-fill-color: #174EA6;\n",
       "      --disabled-fill-color: #AAA;\n",
       "      --disabled-bg-color: #DDD;\n",
       "  }\n",
       "\n",
       "  [theme=dark] .colab-df-quickchart {\n",
       "      --bg-color: #3B4455;\n",
       "      --fill-color: #D2E3FC;\n",
       "      --hover-bg-color: #434B5C;\n",
       "      --hover-fill-color: #FFFFFF;\n",
       "      --disabled-bg-color: #3B4455;\n",
       "      --disabled-fill-color: #666;\n",
       "  }\n",
       "\n",
       "  .colab-df-quickchart {\n",
       "    background-color: var(--bg-color);\n",
       "    border: none;\n",
       "    border-radius: 50%;\n",
       "    cursor: pointer;\n",
       "    display: none;\n",
       "    fill: var(--fill-color);\n",
       "    height: 32px;\n",
       "    padding: 0;\n",
       "    width: 32px;\n",
       "  }\n",
       "\n",
       "  .colab-df-quickchart:hover {\n",
       "    background-color: var(--hover-bg-color);\n",
       "    box-shadow: 0 1px 2px rgba(60, 64, 67, 0.3), 0 1px 3px 1px rgba(60, 64, 67, 0.15);\n",
       "    fill: var(--button-hover-fill-color);\n",
       "  }\n",
       "\n",
       "  .colab-df-quickchart-complete:disabled,\n",
       "  .colab-df-quickchart-complete:disabled:hover {\n",
       "    background-color: var(--disabled-bg-color);\n",
       "    fill: var(--disabled-fill-color);\n",
       "    box-shadow: none;\n",
       "  }\n",
       "\n",
       "  .colab-df-spinner {\n",
       "    border: 2px solid var(--fill-color);\n",
       "    border-color: transparent;\n",
       "    border-bottom-color: var(--fill-color);\n",
       "    animation:\n",
       "      spin 1s steps(1) infinite;\n",
       "  }\n",
       "\n",
       "  @keyframes spin {\n",
       "    0% {\n",
       "      border-color: transparent;\n",
       "      border-bottom-color: var(--fill-color);\n",
       "      border-left-color: var(--fill-color);\n",
       "    }\n",
       "    20% {\n",
       "      border-color: transparent;\n",
       "      border-left-color: var(--fill-color);\n",
       "      border-top-color: var(--fill-color);\n",
       "    }\n",
       "    30% {\n",
       "      border-color: transparent;\n",
       "      border-left-color: var(--fill-color);\n",
       "      border-top-color: var(--fill-color);\n",
       "      border-right-color: var(--fill-color);\n",
       "    }\n",
       "    40% {\n",
       "      border-color: transparent;\n",
       "      border-right-color: var(--fill-color);\n",
       "      border-top-color: var(--fill-color);\n",
       "    }\n",
       "    60% {\n",
       "      border-color: transparent;\n",
       "      border-right-color: var(--fill-color);\n",
       "    }\n",
       "    80% {\n",
       "      border-color: transparent;\n",
       "      border-right-color: var(--fill-color);\n",
       "      border-bottom-color: var(--fill-color);\n",
       "    }\n",
       "    90% {\n",
       "      border-color: transparent;\n",
       "      border-bottom-color: var(--fill-color);\n",
       "    }\n",
       "  }\n",
       "</style>\n",
       "\n",
       "  <script>\n",
       "    async function quickchart(key) {\n",
       "      const quickchartButtonEl =\n",
       "        document.querySelector('#' + key + ' button');\n",
       "      quickchartButtonEl.disabled = true;  // To prevent multiple clicks.\n",
       "      quickchartButtonEl.classList.add('colab-df-spinner');\n",
       "      try {\n",
       "        const charts = await google.colab.kernel.invokeFunction(\n",
       "            'suggestCharts', [key], {});\n",
       "      } catch (error) {\n",
       "        console.error('Error during call to suggestCharts:', error);\n",
       "      }\n",
       "      quickchartButtonEl.classList.remove('colab-df-spinner');\n",
       "      quickchartButtonEl.classList.add('colab-df-quickchart-complete');\n",
       "    }\n",
       "    (() => {\n",
       "      let quickchartButtonEl =\n",
       "        document.querySelector('#df-fe2f81f2-2104-4086-a2e8-d23f21a5fe2b button');\n",
       "      quickchartButtonEl.style.display =\n",
       "        google.colab.kernel.accessAllowed ? 'block' : 'none';\n",
       "    })();\n",
       "  </script>\n",
       "</div>\n",
       "\n",
       "  <div id=\"id_bf819f82-3b87-4791-b2d8-72fee2d0e096\">\n",
       "    <style>\n",
       "      .colab-df-generate {\n",
       "        background-color: #E8F0FE;\n",
       "        border: none;\n",
       "        border-radius: 50%;\n",
       "        cursor: pointer;\n",
       "        display: none;\n",
       "        fill: #1967D2;\n",
       "        height: 32px;\n",
       "        padding: 0 0 0 0;\n",
       "        width: 32px;\n",
       "      }\n",
       "\n",
       "      .colab-df-generate:hover {\n",
       "        background-color: #E2EBFA;\n",
       "        box-shadow: 0px 1px 2px rgba(60, 64, 67, 0.3), 0px 1px 3px 1px rgba(60, 64, 67, 0.15);\n",
       "        fill: #174EA6;\n",
       "      }\n",
       "\n",
       "      [theme=dark] .colab-df-generate {\n",
       "        background-color: #3B4455;\n",
       "        fill: #D2E3FC;\n",
       "      }\n",
       "\n",
       "      [theme=dark] .colab-df-generate:hover {\n",
       "        background-color: #434B5C;\n",
       "        box-shadow: 0px 1px 3px 1px rgba(0, 0, 0, 0.15);\n",
       "        filter: drop-shadow(0px 1px 2px rgba(0, 0, 0, 0.3));\n",
       "        fill: #FFFFFF;\n",
       "      }\n",
       "    </style>\n",
       "    <button class=\"colab-df-generate\" onclick=\"generateWithVariable('df_2020')\"\n",
       "            title=\"Generate code using this dataframe.\"\n",
       "            style=\"display:none;\">\n",
       "\n",
       "  <svg xmlns=\"http://www.w3.org/2000/svg\" height=\"24px\"viewBox=\"0 0 24 24\"\n",
       "       width=\"24px\">\n",
       "    <path d=\"M7,19H8.4L18.45,9,17,7.55,7,17.6ZM5,21V16.75L18.45,3.32a2,2,0,0,1,2.83,0l1.4,1.43a1.91,1.91,0,0,1,.58,1.4,1.91,1.91,0,0,1-.58,1.4L9.25,21ZM18.45,9,17,7.55Zm-12,3A5.31,5.31,0,0,0,4.9,8.1,5.31,5.31,0,0,0,1,6.5,5.31,5.31,0,0,0,4.9,4.9,5.31,5.31,0,0,0,6.5,1,5.31,5.31,0,0,0,8.1,4.9,5.31,5.31,0,0,0,12,6.5,5.46,5.46,0,0,0,6.5,12Z\"/>\n",
       "  </svg>\n",
       "    </button>\n",
       "    <script>\n",
       "      (() => {\n",
       "      const buttonEl =\n",
       "        document.querySelector('#id_bf819f82-3b87-4791-b2d8-72fee2d0e096 button.colab-df-generate');\n",
       "      buttonEl.style.display =\n",
       "        google.colab.kernel.accessAllowed ? 'block' : 'none';\n",
       "\n",
       "      buttonEl.onclick = () => {\n",
       "        google.colab.notebook.generateWithVariable('df_2020');\n",
       "      }\n",
       "      })();\n",
       "    </script>\n",
       "  </div>\n",
       "\n",
       "    </div>\n",
       "  </div>\n"
      ],
      "text/plain": [
       "                                           party_content  \\\n",
       "1      [' 더불어민주당은 정책, 영입을 병행 추진하고 있다', '  자유한국당은 선거연령...   \n",
       "2      ['[머니투데이 한고은 기자]     (서울=뉴스1) 임세영 기자 = 곽상도 자유한...   \n",
       "3      [' (사진=노진환 기자)[이데일리 김겨레 기자]자유한국당이 1일 추미애 법무부 장...   \n",
       "4      [' 그러면서 자유한국당이 자신을 향해 아들 공천 문제 때문에 여당 편을 든다고 반...   \n",
       "5      [' 출마지역으로는 문 대통령 사저가 있고 서형수 현 더불어민주당 의원이 불출마를 ...   \n",
       "...                                                  ...   \n",
       "80035  ['통합당, 긴급 최고위서 직권 의결… 수도권 전체 판세에 악영향 판단강원선 김진태...   \n",
       "80036  ['논란 일자 “부적절한 표현” 사과    열린민주당 정봉주 최고위원(사진)이 12...   \n",
       "80037  ['com     4·15총선을 이틀 남긴 13일 정치권은 미래통합당이 제기한 ‘여...   \n",
       "80038  [' 더불어민주당 이낙연 상임선거대책위원장, 이인영 원내대표, 박광온 최고위원 등 ...   \n",
       "80039  ['\"양 정당 대표 합의안 검토…승인 후 제3당 참여 위해 공유\"녹색당·노동당·사회...   \n",
       "\n",
       "                                              party_name  \n",
       "1                                    ['더불어민주당', '자유한국당']  \n",
       "2                                     ['자유한국당', '자유한국당']  \n",
       "3                                             ['더불어민주당']  \n",
       "4                                              ['자유한국당']  \n",
       "5                                   ['더불어민주당', '더불어민주당']  \n",
       "...                                                  ...  \n",
       "80035                                          ['미래통합당']  \n",
       "80036  ['더불어민주당', '열린민주당', '열린민주당', '열린민주당', '더불어시민당'...  \n",
       "80037                      ['미래통합당', '더불어민주당', '더불어시민당']  \n",
       "80038                       ['더불어민주당', '미래통합당', '미래통합당']  \n",
       "80039  ['공화당', '공화당', '공화당', '공화당', '공화당', '공화당', '공화...  \n",
       "\n",
       "[68122 rows x 2 columns]"
      ]
     },
     "execution_count": 59,
     "metadata": {},
     "output_type": "execute_result"
    }
   ],
   "source": [
    "df_2020"
   ]
  },
  {
   "cell_type": "code",
   "execution_count": null,
   "id": "K8z9n_OqlASn",
   "metadata": {
    "id": "K8z9n_OqlASn"
   },
   "outputs": [],
   "source": []
  },
  {
   "cell_type": "code",
   "execution_count": null,
   "id": "bscSn952lAQe",
   "metadata": {
    "id": "bscSn952lAQe"
   },
   "outputs": [],
   "source": []
  },
  {
   "cell_type": "code",
   "execution_count": null,
   "id": "qiPuXxcqlAOI",
   "metadata": {
    "id": "qiPuXxcqlAOI"
   },
   "outputs": [],
   "source": []
  },
  {
   "cell_type": "code",
   "execution_count": null,
   "id": "vimCmf_4lAL1",
   "metadata": {
    "id": "vimCmf_4lAL1"
   },
   "outputs": [],
   "source": []
  },
  {
   "cell_type": "code",
   "execution_count": null,
   "id": "aYowo0cNlAJf",
   "metadata": {
    "id": "aYowo0cNlAJf"
   },
   "outputs": [],
   "source": []
  },
  {
   "cell_type": "code",
   "execution_count": null,
   "id": "18sEzkYelAHG",
   "metadata": {
    "id": "18sEzkYelAHG"
   },
   "outputs": [],
   "source": []
  },
  {
   "cell_type": "code",
   "execution_count": null,
   "id": "b0CCRIUhlAEl",
   "metadata": {
    "id": "b0CCRIUhlAEl"
   },
   "outputs": [],
   "source": []
  },
  {
   "cell_type": "code",
   "execution_count": null,
   "id": "5PWKBd12lACW",
   "metadata": {
    "id": "5PWKBd12lACW"
   },
   "outputs": [],
   "source": []
  },
  {
   "cell_type": "code",
   "execution_count": null,
   "id": "bJ1VKz3Mk__t",
   "metadata": {
    "id": "bJ1VKz3Mk__t"
   },
   "outputs": [],
   "source": []
  },
  {
   "cell_type": "code",
   "execution_count": null,
   "id": "qprceIPcjOD5",
   "metadata": {
    "id": "qprceIPcjOD5"
   },
   "outputs": [],
   "source": []
  },
  {
   "cell_type": "code",
   "execution_count": 41,
   "id": "12643524",
   "metadata": {
    "ExecuteTime": {
     "end_time": "2024-03-13T07:33:30.178763Z",
     "start_time": "2024-03-13T07:33:30.154991Z"
    },
    "colab": {
     "base_uri": "https://localhost:8080/"
    },
    "executionInfo": {
     "elapsed": 2390,
     "status": "ok",
     "timestamp": 1710396054337,
     "user": {
      "displayName": "김유림",
      "userId": "09242611142827377637"
     },
     "user_tz": -540
    },
    "id": "12643524",
    "outputId": "0dd3ba09-13e8-4cf9-ccee-8225c351f111"
   },
   "outputs": [
    {
     "name": "stdout",
     "output_type": "stream",
     "text": [
      "[[{'neg': 0.0, 'neu': 1.0, 'pos': 0.0, 'compound': 0.0}, {'neg': 0.0, 'neu': 1.0, 'pos': 0.0, 'compound': 0.0}], [{'neg': 0.0, 'neu': 1.0, 'pos': 0.0, 'compound': 0.0}, {'neg': 0.0, 'neu': 1.0, 'pos': 0.0, 'compound': 0.0}], [{'neg': 0.0, 'neu': 1.0, 'pos': 0.0, 'compound': 0.0}], [{'neg': 0.0, 'neu': 1.0, 'pos': 0.0, 'compound': 0.0}], [{'neg': 0.0, 'neu': 1.0, 'pos': 0.0, 'compound': 0.0}, {'neg': 0.0, 'neu': 1.0, 'pos': 0.0, 'compound': 0.0}]]\n"
     ]
    },
    {
     "name": "stderr",
     "output_type": "stream",
     "text": [
      "[nltk_data] Downloading package vader_lexicon to /root/nltk_data...\n"
     ]
    }
   ],
   "source": [
    "from nltk.sentiment.vader import SentimentIntensityAnalyzer\n",
    "import nltk\n",
    "nltk.download('vader_lexicon')\n",
    "\n",
    "senti_analyzer = SentimentIntensityAnalyzer()\n",
    "scores_lst = []\n",
    "\n",
    "for idx, row in senti_analyzer_df[:5].iterrows():\n",
    "    scores = []\n",
    "    content_str = row['party_content']\n",
    "    content_str = eval(content_str)\n",
    "    for i in range(len(content_str)):\n",
    "        senti_scores = senti_analyzer.polarity_scores(content_str[i])\n",
    "        scores.append(senti_scores)\n",
    "    scores_lst.append(scores)\n",
    "\n",
    "print(scores_lst)"
   ]
  },
  {
   "cell_type": "code",
   "execution_count": null,
   "id": "d404d3f3",
   "metadata": {
    "ExecuteTime": {
     "end_time": "2024-03-13T07:32:19.875354Z",
     "start_time": "2024-03-13T07:32:19.868486Z"
    },
    "id": "d404d3f3",
    "outputId": "d9217dfb-d666-4afd-a7dc-b50bb0a9a065"
   },
   "outputs": [
    {
     "data": {
      "text/html": [
       "<div>\n",
       "<style scoped>\n",
       "    .dataframe tbody tr th:only-of-type {\n",
       "        vertical-align: middle;\n",
       "    }\n",
       "\n",
       "    .dataframe tbody tr th {\n",
       "        vertical-align: top;\n",
       "    }\n",
       "\n",
       "    .dataframe thead th {\n",
       "        text-align: right;\n",
       "    }\n",
       "</style>\n",
       "<table border=\"1\" class=\"dataframe\">\n",
       "  <thead>\n",
       "    <tr style=\"text-align: right;\">\n",
       "      <th></th>\n",
       "      <th>party_content</th>\n",
       "    </tr>\n",
       "  </thead>\n",
       "  <tbody>\n",
       "    <tr>\n",
       "      <th>0</th>\n",
       "      <td>[' 더불어민주당은 정책, 영입을 병행 추진하고 있다', '  자유한국당은 선거연령...</td>\n",
       "    </tr>\n",
       "    <tr>\n",
       "      <th>1</th>\n",
       "      <td>['[머니투데이 한고은 기자]     (서울=뉴스1) 임세영 기자 = 곽상도 자유한...</td>\n",
       "    </tr>\n",
       "    <tr>\n",
       "      <th>2</th>\n",
       "      <td>[' (사진=노진환 기자)[이데일리 김겨레 기자]자유한국당이 1일 추미애 법무부 장...</td>\n",
       "    </tr>\n",
       "    <tr>\n",
       "      <th>3</th>\n",
       "      <td>[' 그러면서 자유한국당이 자신을 향해 아들 공천 문제 때문에 여당 편을 든다고 반...</td>\n",
       "    </tr>\n",
       "    <tr>\n",
       "      <th>4</th>\n",
       "      <td>[' 출마지역으로는 문 대통령 사저가 있고 서형수 현 더불어민주당 의원이 불출마를 ...</td>\n",
       "    </tr>\n",
       "  </tbody>\n",
       "</table>\n",
       "</div>"
      ],
      "text/plain": [
       "                                       party_content\n",
       "0  [' 더불어민주당은 정책, 영입을 병행 추진하고 있다', '  자유한국당은 선거연령...\n",
       "1  ['[머니투데이 한고은 기자]     (서울=뉴스1) 임세영 기자 = 곽상도 자유한...\n",
       "2  [' (사진=노진환 기자)[이데일리 김겨레 기자]자유한국당이 1일 추미애 법무부 장...\n",
       "3  [' 그러면서 자유한국당이 자신을 향해 아들 공천 문제 때문에 여당 편을 든다고 반...\n",
       "4  [' 출마지역으로는 문 대통령 사저가 있고 서형수 현 더불어민주당 의원이 불출마를 ..."
      ]
     },
     "execution_count": 133,
     "metadata": {},
     "output_type": "execute_result"
    }
   ],
   "source": [
    "senti_analyzer_df[:5]"
   ]
  },
  {
   "cell_type": "code",
   "execution_count": null,
   "id": "6c519c53",
   "metadata": {
    "id": "6c519c53"
   },
   "outputs": [],
   "source": []
  },
  {
   "cell_type": "code",
   "execution_count": null,
   "id": "96478981",
   "metadata": {
    "id": "96478981"
   },
   "outputs": [],
   "source": []
  },
  {
   "cell_type": "code",
   "execution_count": null,
   "id": "6b0f93bb",
   "metadata": {
    "id": "6b0f93bb"
   },
   "outputs": [],
   "source": []
  },
  {
   "cell_type": "code",
   "execution_count": null,
   "id": "9713a373",
   "metadata": {
    "id": "9713a373"
   },
   "outputs": [],
   "source": []
  }
 ],
 "metadata": {
  "colab": {
   "provenance": []
  },
  "kernelspec": {
   "display_name": "Python 3 (ipykernel)",
   "language": "python",
   "name": "python3"
  },
  "language_info": {
   "codemirror_mode": {
    "name": "ipython",
    "version": 3
   },
   "file_extension": ".py",
   "mimetype": "text/x-python",
   "name": "python",
   "nbconvert_exporter": "python",
   "pygments_lexer": "ipython3",
   "version": "3.11.5"
  },
  "toc": {
   "base_numbering": 1,
   "nav_menu": {},
   "number_sections": true,
   "sideBar": true,
   "skip_h1_title": false,
   "title_cell": "Table of Contents",
   "title_sidebar": "Contents",
   "toc_cell": false,
   "toc_position": {
    "height": "calc(100% - 180px)",
    "left": "10px",
    "top": "150px",
    "width": "200.234px"
   },
   "toc_section_display": true,
   "toc_window_display": true
  }
 },
 "nbformat": 4,
 "nbformat_minor": 5
}
