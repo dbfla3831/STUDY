{
 "cells": [
  {
   "cell_type": "markdown",
   "id": "61134e07",
   "metadata": {},
   "source": [
    "# 분석  목적"
   ]
  },
  {
   "cell_type": "markdown",
   "id": "b38655c2",
   "metadata": {},
   "source": [
    " - 현장 이슈 : 콘택트렌즈의 도수에 영향을 주는 요인이 다양하고 작업자의 숙련도에 따라 금형조합별 도수 적중률이 크게 변화하는 문제가 있다\n",
    " \n",
    " - 목적 : 콘텐츠렌즈의 도수와 금형조합 간의 상관관계를 분석을 통해 콘택트렌즈의 도수를 예측하고 최적화 알고리즘을 이용해 최적의 금형조합을 구한다\n",
    " \n",
    " => 작업자의 기술 수준이 콘택트렌즈의 도수를 결정하는 금형의 선택과 연관되어 있다\n",
    " \n",
    " => 즉, 같은 금형이라도 작업자의 숙련도에 따라 도수의 적중률이 다르게 나타날 수 있다 \n",
    " \n",
    " => 이는 생산 일관성과 품질 관리에 영향을 미칠 수 있는 중요한 문제이다\n",
    " \n",
    " * 금형조합 : 제품의 형상, 크기, 속성 등을 결정하는데 사용되는 금형의 다양한 조합"
   ]
  },
  {
   "cell_type": "markdown",
   "id": "c966b7e3",
   "metadata": {},
   "source": [
    "# 분석 적용 알고리즘"
   ]
  },
  {
   "cell_type": "markdown",
   "id": "24ea468d",
   "metadata": {},
   "source": [
    "- 연관 규칙 : 자료에 있는 항목들 간의 어떤 관계가 있는지 찾기 위한 알고리즘\n",
    "\n",
    "    => 금형군(유사한 기능이나 형태를 가진 여러 금형들의 집합), 설비번호, 시퀀스, 목표도수를 기준으로 과거 생산이력에서 도수가 일치하는 데이터의 연관규칙을 분석하여 연관성이 가장 높은 금형조합을 탐색\n",
    "    \n",
    "- XGBoost : 의사결정나무 기반의 앙상블기법 중 하나"
   ]
  },
  {
   "cell_type": "markdown",
   "id": "57ef4a70",
   "metadata": {},
   "source": [
    "# 분석 개요"
   ]
  },
  {
   "cell_type": "markdown",
   "id": "e58ba590",
   "metadata": {},
   "source": [
    "## 분석 배경"
   ]
  },
  {
   "cell_type": "markdown",
   "id": "507c62cf",
   "metadata": {},
   "source": [
    "### 공정 개요"
   ]
  },
  {
   "cell_type": "markdown",
   "id": "fb6fd7ee",
   "metadata": {},
   "source": [
    "- 사출 성형 : 플라스틱 제품의 성형법 중 가장 보편적으로 쓰이는 방식, 열가소성 원료를 가열하여 매우 높은 소성 상태로 만들고 금형의 캐비티에 가압 주입 후 냉각시켜 성형품을 만드는 방법\n",
    "\n",
    "- 사출성형 과정에서 온도, 시간, 위치, 속도 압력 등 공정 조건에 따라 성형품의 품질이 좌우될 수 있다"
   ]
  },
  {
   "cell_type": "markdown",
   "id": "32689952",
   "metadata": {},
   "source": [
    "### 콘탠트렌즈 생산과정"
   ]
  },
  {
   "cell_type": "markdown",
   "id": "4ae7dfa5",
   "metadata": {},
   "source": [
    "- 몰드캐스팅 방식으로 생산하는 콘탠트렌즈 생산과정의 플라스틱 몰드의 사출공정에서의 최적 생산조건을 탐색하기 위한 분석을 수행\n",
    "\n",
    "- 렌즈의 양면 형태를 가진 렌즈의 상형, 하형 몰드를 만들고, 원재료를 하형 몰드에 주입한 후 상형 몰드를 올려 렌즈를 성형하는 방법\n",
    "\n",
    "<br>\n",
    "\n",
    "- 몰드캐스팅 방식 : 플라스틱, 고무, 수지 등의 유동성을 가진 재료를 사용하여 부품이나 제품을 만드는 공정 방법 중 하나"
   ]
  },
  {
   "cell_type": "markdown",
   "id": "9000a206",
   "metadata": {},
   "source": [
    "### 공정상의 문제 현황, 해결 방안"
   ]
  },
  {
   "cell_type": "markdown",
   "id": "4c86c177",
   "metadata": {},
   "source": [
    "작업자 숙련도에 따라 지시한 제품 규격과 생산된 제품의 규격 차이는 매우 크게 나타난다\n",
    "\n",
    "=> 금형 조합 탐색 후 설비, 금형 위치를 고려하여 도수를 예측하고, 생산하고자 하는 목표 도수와 비교하여 차이가 작은 순으로 5개의 금형 조합을 추천한다"
   ]
  },
  {
   "cell_type": "markdown",
   "id": "d421b929",
   "metadata": {},
   "source": [
    "# 분석 목표"
   ]
  },
  {
   "cell_type": "markdown",
   "id": "6c8b0602",
   "metadata": {},
   "source": [
    "지시한 규격에 맞는 렌즈를 생산하기 위한 최적의 금형 조합의 추천을 목표로 한다\n",
    "\n",
    "step1 : EDA 및 도수 예측 모델 학습\n",
    "    \n",
    "    => 데이터 취득, 데이터 전처리, XGBoost 모델 학습\n",
    "\n",
    "step2 : 최적 금형 조합 탐색\n",
    "\n",
    "    => 조건 입력, 금형조합 탐색(연관규칙분석), 도수 예측(XGBoost), 금형조합추천"
   ]
  },
  {
   "cell_type": "markdown",
   "id": "a85f4d9f",
   "metadata": {},
   "source": [
    "## 데이터 정의"
   ]
  },
  {
   "cell_type": "markdown",
   "id": "879f2f64",
   "metadata": {},
   "source": [
    "- 분석에 활용한 원천 제조 데이터는 콘택트렌즈 생산에 필요한 플라스틱 몰드사출공정 관한 요인을 EPR과 MES DB에서 수집한 것으로 폼목, 설비정보, 금형정보, 제품정보, 도수, 샘플링 결과 등으로 이루어져 있다\n",
    "\n",
    "<br>\n",
    "\n",
    "- 데이터셋 주요 변수\n",
    "\n",
    "- EQUIP_ID : 설비번호\n",
    "\n",
    "- MFG_DT : 작업시간\n",
    "\n",
    "- SALE_CD : 판매코드\n",
    "\n",
    "- MOLD_POS : 금형 위치\n",
    "\n",
    "- REAL_POWER : 도수 \n",
    "\n",
    "- CP : 난시 강도\n",
    "\n",
    "- AX : 난시 각도\n",
    "\n",
    "- MOLD_IN_TOP : 상형몰드 생산을 위한 바깥쪽 금형\n",
    "\n",
    "- MOLD_IN_BOT : 상형몰드 생산을 위한 안쪽 금형\n",
    "\n",
    "- MOLD_OUT_TOP : 하형몰드 생산을 위한 안쪽 금형\n",
    "\n",
    "- MOLD_OUT_BOT : 하형모들 생산을 위한 바깥쪽 금형\n",
    "\n",
    "- IN_RADIUS : 내측 곡률\n",
    "\n",
    "- OUT_RADIUS : 외측 곡률\n",
    "\n",
    "- POWER : 결정 도수\n",
    "\n",
    "- POWER1 : 첫 번째 도수 측정 결과\n",
    "\n",
    "- POWER2 : 두 번째 도수 측정 결과\n",
    "\n",
    "- POWER3 : 새 번째 도수 측정 결과\n",
    "\n",
    "- POWER4 : 네 번째 도수 측정 결과\n",
    "\n",
    "- POWER5 : 다섯 번째 도수 측정 결과"
   ]
  },
  {
   "cell_type": "markdown",
   "id": "613b3d7b",
   "metadata": {},
   "source": [
    "# 라이브러리, 데이터 불러오기"
   ]
  },
  {
   "cell_type": "code",
   "execution_count": 1,
   "id": "9f923554",
   "metadata": {
    "ExecuteTime": {
     "end_time": "2024-02-28T15:43:08.775867Z",
     "start_time": "2024-02-28T15:43:08.774692Z"
    }
   },
   "outputs": [],
   "source": [
    "# !pip install parse\n",
    "# !pip install mlxtend --upgrade --no-deps\n",
    "# !pip install pyswarm\n",
    "# !pip install GPUtil"
   ]
  },
  {
   "cell_type": "code",
   "execution_count": 2,
   "id": "d48ff7e2",
   "metadata": {
    "ExecuteTime": {
     "end_time": "2024-02-28T15:43:09.600861Z",
     "start_time": "2024-02-28T15:43:08.776876Z"
    }
   },
   "outputs": [],
   "source": [
    "# 데이터 처리 및 분석\n",
    "import numpy as np\n",
    "import pandas as pd\n",
    "\n",
    "# 시각화\n",
    "import matplotlib.pyplot as plt\n",
    "import seaborn as sns\n",
    "\n",
    "# 모델링 및 머신러닝\n",
    "from sklearn.ensemble import IsolationForest # 이상치 탐지를 위한 앙상블 기반의 머신러닝 모델\n",
    "from sklearn.model_selection import train_test_split\n",
    "from sklearn.preprocessing import OneHotEncoder\n",
    "from mlxtend.frequent_patterns import fpgrowth # 데이터에서 빈발 패턴을 발견하는 FP-Growth 알고리즘\n",
    "import xgboost\n",
    "from xgboost import plot_importance\n",
    "\n",
    "# 경고 제어\n",
    "import warnings\n",
    "warnings.filterwarnings('ignore')\n",
    "\n",
    "# 기타\n",
    "import argparse # 명령행 인터페이스를 파싱하기 위한 라이브러리\n",
    "from parse import compile # 문자열을 구문 분석하기 위한 라이브러리\n",
    "from pathlib import Path\n",
    "from datetime import date, datetime\n",
    "from pyswarm import pso # 파이썬을 위한 파티클 스웜 최적화 알고리즘\n",
    "import GPUtil  # GPU 사용량을 검색하는 데 사용되는 유틸리티 라이브러리"
   ]
  },
  {
   "cell_type": "code",
   "execution_count": 3,
   "id": "9ff4a3d9",
   "metadata": {
    "ExecuteTime": {
     "end_time": "2024-02-28T15:43:09.771962Z",
     "start_time": "2024-02-28T15:43:09.601967Z"
    }
   },
   "outputs": [
    {
     "name": "stdout",
     "output_type": "stream",
     "text": [
      "(175102, 19)\n"
     ]
    },
    {
     "data": {
      "text/html": [
       "<div>\n",
       "<style scoped>\n",
       "    .dataframe tbody tr th:only-of-type {\n",
       "        vertical-align: middle;\n",
       "    }\n",
       "\n",
       "    .dataframe tbody tr th {\n",
       "        vertical-align: top;\n",
       "    }\n",
       "\n",
       "    .dataframe thead th {\n",
       "        text-align: right;\n",
       "    }\n",
       "</style>\n",
       "<table border=\"1\" class=\"dataframe\">\n",
       "  <thead>\n",
       "    <tr style=\"text-align: right;\">\n",
       "      <th></th>\n",
       "      <th>EQUIP_ID</th>\n",
       "      <th>MFG_DT</th>\n",
       "      <th>SALE_CD</th>\n",
       "      <th>MOLD_POS</th>\n",
       "      <th>REAL_POWER</th>\n",
       "      <th>CP</th>\n",
       "      <th>AX</th>\n",
       "      <th>MOLD_IN_TOP</th>\n",
       "      <th>MOLD_IN_BOT</th>\n",
       "      <th>MOLD_OUT_TOP</th>\n",
       "      <th>MOLD_OUT_BOT</th>\n",
       "      <th>IN_RADIUS</th>\n",
       "      <th>OUT_RADIUS</th>\n",
       "      <th>POWER</th>\n",
       "      <th>POWER1</th>\n",
       "      <th>POWER2</th>\n",
       "      <th>POWER3</th>\n",
       "      <th>POWER4</th>\n",
       "      <th>POWER5</th>\n",
       "    </tr>\n",
       "  </thead>\n",
       "  <tbody>\n",
       "    <tr>\n",
       "      <th>0</th>\n",
       "      <td>EQUIP1</td>\n",
       "      <td>2021-03-23</td>\n",
       "      <td>SALES 0</td>\n",
       "      <td>8</td>\n",
       "      <td>0.0</td>\n",
       "      <td>NaN</td>\n",
       "      <td>NaN</td>\n",
       "      <td>CORE1 A 02. 0570</td>\n",
       "      <td>CORE1 A 01. P3+3</td>\n",
       "      <td>CORE1 A 05. M0075</td>\n",
       "      <td>CORE1 A 8A. D-00</td>\n",
       "      <td>-6.4889</td>\n",
       "      <td>6.5811</td>\n",
       "      <td>0.0</td>\n",
       "      <td>0.12</td>\n",
       "      <td>0.12</td>\n",
       "      <td>0.12</td>\n",
       "      <td>0.25</td>\n",
       "      <td>0.25</td>\n",
       "    </tr>\n",
       "    <tr>\n",
       "      <th>1</th>\n",
       "      <td>EQUIP2</td>\n",
       "      <td>2021-03-23</td>\n",
       "      <td>SALES 1</td>\n",
       "      <td>1</td>\n",
       "      <td>-6.5</td>\n",
       "      <td>NaN</td>\n",
       "      <td>NaN</td>\n",
       "      <td>CORE1 B 02. 0550</td>\n",
       "      <td>CORE1 B 01. P2+1</td>\n",
       "      <td>CORE1 B 02. M1050</td>\n",
       "      <td>CORE1 B 02. C-10</td>\n",
       "      <td>-6.3564</td>\n",
       "      <td>7.4551</td>\n",
       "      <td>-6.5</td>\n",
       "      <td>-6.25</td>\n",
       "      <td>-6.25</td>\n",
       "      <td>-6.37</td>\n",
       "      <td>-6.50</td>\n",
       "      <td>-6.50</td>\n",
       "    </tr>\n",
       "    <tr>\n",
       "      <th>2</th>\n",
       "      <td>EQUIP1</td>\n",
       "      <td>2021-03-25</td>\n",
       "      <td>SALES 2</td>\n",
       "      <td>2</td>\n",
       "      <td>0.0</td>\n",
       "      <td>NaN</td>\n",
       "      <td>NaN</td>\n",
       "      <td>CORE2 C 03. 0660</td>\n",
       "      <td>CORE2 C 03. P1+0</td>\n",
       "      <td>CORE2 C 04. M0000</td>\n",
       "      <td>CORE2 C 04. A-00</td>\n",
       "      <td>-7.3246</td>\n",
       "      <td>7.3802</td>\n",
       "      <td>0.0</td>\n",
       "      <td>0.12</td>\n",
       "      <td>0.12</td>\n",
       "      <td>0.25</td>\n",
       "      <td>0.25</td>\n",
       "      <td>0.25</td>\n",
       "    </tr>\n",
       "  </tbody>\n",
       "</table>\n",
       "</div>"
      ],
      "text/plain": [
       "  EQUIP_ID      MFG_DT  SALE_CD  MOLD_POS  REAL_POWER  CP  AX  \\\n",
       "0   EQUIP1  2021-03-23  SALES 0         8         0.0 NaN NaN   \n",
       "1   EQUIP2  2021-03-23  SALES 1         1        -6.5 NaN NaN   \n",
       "2   EQUIP1  2021-03-25  SALES 2         2         0.0 NaN NaN   \n",
       "\n",
       "        MOLD_IN_TOP       MOLD_IN_BOT       MOLD_OUT_TOP      MOLD_OUT_BOT  \\\n",
       "0  CORE1 A 02. 0570  CORE1 A 01. P3+3  CORE1 A 05. M0075  CORE1 A 8A. D-00   \n",
       "1  CORE1 B 02. 0550  CORE1 B 01. P2+1  CORE1 B 02. M1050  CORE1 B 02. C-10   \n",
       "2  CORE2 C 03. 0660  CORE2 C 03. P1+0  CORE2 C 04. M0000  CORE2 C 04. A-00   \n",
       "\n",
       "   IN_RADIUS  OUT_RADIUS  POWER  POWER1  POWER2  POWER3  POWER4  POWER5  \n",
       "0    -6.4889      6.5811    0.0    0.12    0.12    0.12    0.25    0.25  \n",
       "1    -6.3564      7.4551   -6.5   -6.25   -6.25   -6.37   -6.50   -6.50  \n",
       "2    -7.3246      7.3802    0.0    0.12    0.12    0.25    0.25    0.25  "
      ]
     },
     "execution_count": 3,
     "metadata": {},
     "output_type": "execute_result"
    }
   ],
   "source": [
    "path = './data/raw_data.csv' # 해당 데이터 경로\n",
    "df_raw = pd.read_csv(path)\n",
    "\n",
    "print(df_raw.shape)\n",
    "df_raw.head(3)"
   ]
  },
  {
   "cell_type": "markdown",
   "id": "f17fccca",
   "metadata": {},
   "source": [
    "# 데이터 탐색 및 정제"
   ]
  },
  {
   "cell_type": "markdown",
   "id": "ee47d673",
   "metadata": {},
   "source": [
    "데이터 구성 확인"
   ]
  },
  {
   "cell_type": "code",
   "execution_count": 4,
   "id": "202165f8",
   "metadata": {
    "ExecuteTime": {
     "end_time": "2024-02-28T15:43:09.797330Z",
     "start_time": "2024-02-28T15:43:09.772620Z"
    }
   },
   "outputs": [
    {
     "name": "stdout",
     "output_type": "stream",
     "text": [
      "<class 'pandas.core.frame.DataFrame'>\n",
      "RangeIndex: 175102 entries, 0 to 175101\n",
      "Data columns (total 19 columns):\n",
      " #   Column        Non-Null Count   Dtype  \n",
      "---  ------        --------------   -----  \n",
      " 0   EQUIP_ID      175102 non-null  object \n",
      " 1   MFG_DT        175102 non-null  object \n",
      " 2   SALE_CD       175102 non-null  object \n",
      " 3   MOLD_POS      175102 non-null  int64  \n",
      " 4   REAL_POWER    175089 non-null  float64\n",
      " 5   CP            0 non-null       float64\n",
      " 6   AX            0 non-null       float64\n",
      " 7   MOLD_IN_TOP   175102 non-null  object \n",
      " 8   MOLD_IN_BOT   175102 non-null  object \n",
      " 9   MOLD_OUT_TOP  175102 non-null  object \n",
      " 10  MOLD_OUT_BOT  175102 non-null  object \n",
      " 11  IN_RADIUS     175102 non-null  float64\n",
      " 12  OUT_RADIUS    175102 non-null  float64\n",
      " 13  POWER         174522 non-null  float64\n",
      " 14  POWER1        174572 non-null  float64\n",
      " 15  POWER2        174570 non-null  float64\n",
      " 16  POWER3        174565 non-null  float64\n",
      " 17  POWER4        174562 non-null  float64\n",
      " 18  POWER5        174551 non-null  float64\n",
      "dtypes: float64(11), int64(1), object(7)\n",
      "memory usage: 25.4+ MB\n"
     ]
    }
   ],
   "source": [
    "df_raw.info()"
   ]
  },
  {
   "cell_type": "markdown",
   "id": "b601eb23",
   "metadata": {},
   "source": [
    "=> 'CP', 'AX', 'POWER', 'POWER1', 'POWER2', 'POWER3', 'POWER4', 'POWER5' 컬럼에 Null값이 있다\n",
    "\n",
    "<br>\n",
    "\n",
    "요약 통계량 확인"
   ]
  },
  {
   "cell_type": "code",
   "execution_count": 5,
   "id": "a9111988",
   "metadata": {
    "ExecuteTime": {
     "end_time": "2024-02-28T15:43:09.853505Z",
     "start_time": "2024-02-28T15:43:09.798621Z"
    }
   },
   "outputs": [
    {
     "data": {
      "text/html": [
       "<div>\n",
       "<style scoped>\n",
       "    .dataframe tbody tr th:only-of-type {\n",
       "        vertical-align: middle;\n",
       "    }\n",
       "\n",
       "    .dataframe tbody tr th {\n",
       "        vertical-align: top;\n",
       "    }\n",
       "\n",
       "    .dataframe thead th {\n",
       "        text-align: right;\n",
       "    }\n",
       "</style>\n",
       "<table border=\"1\" class=\"dataframe\">\n",
       "  <thead>\n",
       "    <tr style=\"text-align: right;\">\n",
       "      <th></th>\n",
       "      <th>MOLD_POS</th>\n",
       "      <th>REAL_POWER</th>\n",
       "      <th>CP</th>\n",
       "      <th>AX</th>\n",
       "      <th>IN_RADIUS</th>\n",
       "      <th>OUT_RADIUS</th>\n",
       "      <th>POWER</th>\n",
       "      <th>POWER1</th>\n",
       "      <th>POWER2</th>\n",
       "      <th>POWER3</th>\n",
       "      <th>POWER4</th>\n",
       "      <th>POWER5</th>\n",
       "    </tr>\n",
       "  </thead>\n",
       "  <tbody>\n",
       "    <tr>\n",
       "      <th>count</th>\n",
       "      <td>175102.000000</td>\n",
       "      <td>175089.000000</td>\n",
       "      <td>0.0</td>\n",
       "      <td>0.0</td>\n",
       "      <td>175102.000000</td>\n",
       "      <td>175102.000000</td>\n",
       "      <td>174522.000000</td>\n",
       "      <td>174572.000000</td>\n",
       "      <td>174570.000000</td>\n",
       "      <td>174565.000000</td>\n",
       "      <td>174562.000000</td>\n",
       "      <td>174551.000000</td>\n",
       "    </tr>\n",
       "    <tr>\n",
       "      <th>mean</th>\n",
       "      <td>4.667639</td>\n",
       "      <td>-3.351588</td>\n",
       "      <td>NaN</td>\n",
       "      <td>NaN</td>\n",
       "      <td>-1.405773</td>\n",
       "      <td>2.002773</td>\n",
       "      <td>-3.354983</td>\n",
       "      <td>-3.353921</td>\n",
       "      <td>-3.362280</td>\n",
       "      <td>-3.368980</td>\n",
       "      <td>-3.376297</td>\n",
       "      <td>-3.383163</td>\n",
       "    </tr>\n",
       "    <tr>\n",
       "      <th>std</th>\n",
       "      <td>2.550721</td>\n",
       "      <td>2.401494</td>\n",
       "      <td>NaN</td>\n",
       "      <td>NaN</td>\n",
       "      <td>6.718276</td>\n",
       "      <td>6.720985</td>\n",
       "      <td>2.442768</td>\n",
       "      <td>2.404919</td>\n",
       "      <td>2.402462</td>\n",
       "      <td>2.403499</td>\n",
       "      <td>2.405053</td>\n",
       "      <td>2.407265</td>\n",
       "    </tr>\n",
       "    <tr>\n",
       "      <th>min</th>\n",
       "      <td>1.000000</td>\n",
       "      <td>-12.000000</td>\n",
       "      <td>NaN</td>\n",
       "      <td>NaN</td>\n",
       "      <td>-11.019500</td>\n",
       "      <td>-9.244400</td>\n",
       "      <td>-175.000000</td>\n",
       "      <td>-74.500000</td>\n",
       "      <td>-74.500000</td>\n",
       "      <td>-74.500000</td>\n",
       "      <td>-74.500000</td>\n",
       "      <td>-74.500000</td>\n",
       "    </tr>\n",
       "    <tr>\n",
       "      <th>25%</th>\n",
       "      <td>3.000000</td>\n",
       "      <td>-5.000000</td>\n",
       "      <td>NaN</td>\n",
       "      <td>NaN</td>\n",
       "      <td>-6.494700</td>\n",
       "      <td>-6.372300</td>\n",
       "      <td>-5.000000</td>\n",
       "      <td>-5.000000</td>\n",
       "      <td>-5.000000</td>\n",
       "      <td>-5.000000</td>\n",
       "      <td>-5.000000</td>\n",
       "      <td>-5.000000</td>\n",
       "    </tr>\n",
       "    <tr>\n",
       "      <th>50%</th>\n",
       "      <td>5.000000</td>\n",
       "      <td>-3.250000</td>\n",
       "      <td>NaN</td>\n",
       "      <td>NaN</td>\n",
       "      <td>-6.365000</td>\n",
       "      <td>6.804900</td>\n",
       "      <td>-3.250000</td>\n",
       "      <td>-3.250000</td>\n",
       "      <td>-3.250000</td>\n",
       "      <td>-3.250000</td>\n",
       "      <td>-3.250000</td>\n",
       "      <td>-3.370000</td>\n",
       "    </tr>\n",
       "    <tr>\n",
       "      <th>75%</th>\n",
       "      <td>7.000000</td>\n",
       "      <td>-1.500000</td>\n",
       "      <td>NaN</td>\n",
       "      <td>NaN</td>\n",
       "      <td>6.946300</td>\n",
       "      <td>7.349775</td>\n",
       "      <td>-1.500000</td>\n",
       "      <td>-1.500000</td>\n",
       "      <td>-1.500000</td>\n",
       "      <td>-1.500000</td>\n",
       "      <td>-1.500000</td>\n",
       "      <td>-1.500000</td>\n",
       "    </tr>\n",
       "    <tr>\n",
       "      <th>max</th>\n",
       "      <td>16.000000</td>\n",
       "      <td>6.000000</td>\n",
       "      <td>NaN</td>\n",
       "      <td>NaN</td>\n",
       "      <td>9.569400</td>\n",
       "      <td>10.687200</td>\n",
       "      <td>20.000000</td>\n",
       "      <td>6.500000</td>\n",
       "      <td>6.500000</td>\n",
       "      <td>6.500000</td>\n",
       "      <td>12.000000</td>\n",
       "      <td>25.000000</td>\n",
       "    </tr>\n",
       "  </tbody>\n",
       "</table>\n",
       "</div>"
      ],
      "text/plain": [
       "            MOLD_POS     REAL_POWER   CP   AX      IN_RADIUS     OUT_RADIUS  \\\n",
       "count  175102.000000  175089.000000  0.0  0.0  175102.000000  175102.000000   \n",
       "mean        4.667639      -3.351588  NaN  NaN      -1.405773       2.002773   \n",
       "std         2.550721       2.401494  NaN  NaN       6.718276       6.720985   \n",
       "min         1.000000     -12.000000  NaN  NaN     -11.019500      -9.244400   \n",
       "25%         3.000000      -5.000000  NaN  NaN      -6.494700      -6.372300   \n",
       "50%         5.000000      -3.250000  NaN  NaN      -6.365000       6.804900   \n",
       "75%         7.000000      -1.500000  NaN  NaN       6.946300       7.349775   \n",
       "max        16.000000       6.000000  NaN  NaN       9.569400      10.687200   \n",
       "\n",
       "               POWER         POWER1         POWER2         POWER3  \\\n",
       "count  174522.000000  174572.000000  174570.000000  174565.000000   \n",
       "mean       -3.354983      -3.353921      -3.362280      -3.368980   \n",
       "std         2.442768       2.404919       2.402462       2.403499   \n",
       "min      -175.000000     -74.500000     -74.500000     -74.500000   \n",
       "25%        -5.000000      -5.000000      -5.000000      -5.000000   \n",
       "50%        -3.250000      -3.250000      -3.250000      -3.250000   \n",
       "75%        -1.500000      -1.500000      -1.500000      -1.500000   \n",
       "max        20.000000       6.500000       6.500000       6.500000   \n",
       "\n",
       "              POWER4         POWER5  \n",
       "count  174562.000000  174551.000000  \n",
       "mean       -3.376297      -3.383163  \n",
       "std         2.405053       2.407265  \n",
       "min       -74.500000     -74.500000  \n",
       "25%        -5.000000      -5.000000  \n",
       "50%        -3.250000      -3.370000  \n",
       "75%        -1.500000      -1.500000  \n",
       "max        12.000000      25.000000  "
      ]
     },
     "execution_count": 5,
     "metadata": {},
     "output_type": "execute_result"
    }
   ],
   "source": [
    "df_raw.describe()"
   ]
  },
  {
   "cell_type": "markdown",
   "id": "971a7aa0",
   "metadata": {},
   "source": [
    "# 데이터 전처리"
   ]
  },
  {
   "cell_type": "markdown",
   "id": "2c2545ac",
   "metadata": {},
   "source": [
    "자주 사용하는 변수 정의\n",
    "\n",
    "'MOLD_IN_TOP', 'MOLD_IN_BOT', 'MOLD_OUT_TOP', 'MOLD_OUT_BOT같은 금형값 컬럼이나 'IN_RADIUS', 'OUT_RADIUS'같은 곡률값 컬럼처럼 코드 내 반복하여 사용될 값을 변수로 지정"
   ]
  },
  {
   "cell_type": "code",
   "execution_count": 6,
   "id": "0ae6bb66",
   "metadata": {
    "ExecuteTime": {
     "end_time": "2024-02-28T15:43:09.855606Z",
     "start_time": "2024-02-28T15:43:09.854144Z"
    }
   },
   "outputs": [],
   "source": [
    "# 금형조합과 곡률\n",
    "CORES = ['MOLD_IN_TOP', 'MOLD_IN_BOT', 'MOLD_OUT_TOP', 'MOLD_OUT_BOT']\n",
    "RADIUS = ['IN_RADIUS', 'OUT_RADIUS']\n",
    "EQUIP_INFO = ['EQUIP_ID', 'MOLD_POS']\n",
    "POWERS = ['POWER1', 'POWER2', 'POWER3', 'POWER4', 'POWER5']"
   ]
  },
  {
   "cell_type": "markdown",
   "id": "53f37c9d",
   "metadata": {},
   "source": [
    "렌즈 분류 및 카테고리 열 추가\n",
    "\n",
    "렌즈의 도수(REAL_POWER)를 기준으로 렌즈의 종류를 근시, 무도수(미용), 원시로 나눈다\n",
    "\n",
    "- 근시(MYOPIA) : 도수가 0보다 작을 때\n",
    "\n",
    "- 무도수(BEAUTY) : 도수가 0일 때\n",
    "\n",
    "- 원시(HYPER) : 도수가 0보다 클 때"
   ]
  },
  {
   "cell_type": "code",
   "execution_count": 7,
   "id": "62c176b8",
   "metadata": {
    "ExecuteTime": {
     "end_time": "2024-02-28T15:43:09.885413Z",
     "start_time": "2024-02-28T15:43:09.856156Z"
    }
   },
   "outputs": [
    {
     "name": "stdout",
     "output_type": "stream",
     "text": [
      "<class 'pandas.core.frame.DataFrame'>\n",
      "RangeIndex: 175102 entries, 0 to 175101\n",
      "Data columns (total 20 columns):\n",
      " #   Column        Non-Null Count   Dtype  \n",
      "---  ------        --------------   -----  \n",
      " 0   EQUIP_ID      175102 non-null  object \n",
      " 1   MFG_DT        175102 non-null  object \n",
      " 2   SALE_CD       175102 non-null  object \n",
      " 3   MOLD_POS      175102 non-null  int64  \n",
      " 4   REAL_POWER    175089 non-null  float64\n",
      " 5   CP            0 non-null       float64\n",
      " 6   AX            0 non-null       float64\n",
      " 7   MOLD_IN_TOP   175102 non-null  object \n",
      " 8   MOLD_IN_BOT   175102 non-null  object \n",
      " 9   MOLD_OUT_TOP  175102 non-null  object \n",
      " 10  MOLD_OUT_BOT  175102 non-null  object \n",
      " 11  IN_RADIUS     175102 non-null  float64\n",
      " 12  OUT_RADIUS    175102 non-null  float64\n",
      " 13  POWER         174522 non-null  float64\n",
      " 14  POWER1        174572 non-null  float64\n",
      " 15  POWER2        174570 non-null  float64\n",
      " 16  POWER3        174565 non-null  float64\n",
      " 17  POWER4        174562 non-null  float64\n",
      " 18  POWER5        174551 non-null  float64\n",
      " 19  CATEGORY      175102 non-null  object \n",
      "dtypes: float64(11), int64(1), object(8)\n",
      "memory usage: 26.7+ MB\n"
     ]
    }
   ],
   "source": [
    "df_raw['CATEGORY'] = 'MYOPIA' # 근시\n",
    "df_raw.loc[df_raw['REAL_POWER'] == 0, 'CATEGORY'] = 'BEAUTY' # 무도수\n",
    "df_raw.loc[df_raw['REAL_POWER'] > 0, 'CATEGORY'] = 'HYPER' # 원시\n",
    "\n",
    "df_raw.info()"
   ]
  },
  {
   "cell_type": "code",
   "execution_count": 8,
   "id": "f9e1b896",
   "metadata": {
    "ExecuteTime": {
     "end_time": "2024-02-28T15:43:09.892464Z",
     "start_time": "2024-02-28T15:43:09.886154Z"
    }
   },
   "outputs": [
    {
     "data": {
      "text/plain": [
       "CATEGORY\n",
       "MYOPIA    149367\n",
       "BEAUTY     25404\n",
       "HYPER        331\n",
       "Name: count, dtype: int64"
      ]
     },
     "execution_count": 8,
     "metadata": {},
     "output_type": "execute_result"
    }
   ],
   "source": [
    "df_raw['CATEGORY'].value_counts()"
   ]
  },
  {
   "cell_type": "markdown",
   "id": "ba5fe954",
   "metadata": {},
   "source": [
    "결측치 데이터 처리\n",
    "\n",
    "=> 결측지 데이터를 삭제한다"
   ]
  },
  {
   "cell_type": "code",
   "execution_count": 9,
   "id": "9f123f5d",
   "metadata": {
    "ExecuteTime": {
     "end_time": "2024-02-28T15:43:09.895148Z",
     "start_time": "2024-02-28T15:43:09.893202Z"
    }
   },
   "outputs": [],
   "source": [
    "# 결측치 데이터 삭제하는 함수 생성\n",
    "\n",
    "def preprocessing_missing(df_before):\n",
    "    type = 'Missing Value'\n",
    "    print('TYPE of preprocessing : ', type)\n",
    "    print('The shape of data before preprocessing : ', df_before.shape)\n",
    "    \n",
    "    # 'NULL' 또는 빈 문자열을 NaN으로 대체\n",
    "    tmp = np.where((df_before.values == 'NULL') | (df_before.values == ''), np.NaN, df_before.values)\n",
    "    df_after = pd.DataFrame(data=tmp, columns=df_before.columns)\n",
    "\n",
    "    # 결측치가 있는 행 제거\n",
    "    df_after = df_after.dropna(how='any', subset=CORES + RADIUS) # CORES와 RADIUS 변수에 해당하는 열을 모두 포함\n",
    "\n",
    "    print('The shape of data after preprocessing : ', df_after.shape)\n",
    "    \n",
    "    return df_after"
   ]
  },
  {
   "cell_type": "markdown",
   "id": "69a55446",
   "metadata": {},
   "source": [
    "데이터 형변환\n",
    "\n",
    "- 열의 이름을 모두 대문자로 변환\n",
    "\n",
    "- 'IN_RADIUS', 'OUT_RADIUS'의 양수/음수 부호를 없애고 절대값으로 수정\n",
    "\n",
    "    => 부호 기입 실수로 인한 에러를 줄일 수 있다"
   ]
  },
  {
   "cell_type": "code",
   "execution_count": 10,
   "id": "df354d6f",
   "metadata": {
    "ExecuteTime": {
     "end_time": "2024-02-28T15:43:09.897994Z",
     "start_time": "2024-02-28T15:43:09.895720Z"
    }
   },
   "outputs": [],
   "source": [
    "# 열의 이름을 대문자로 변환, 컬럼의 데이터형을 통일, 부호 삭제하는 함수 생성\n",
    "\n",
    "def preprocessing_conversion(df_before):\n",
    "    type = 'Data Type Conversion'\n",
    "    print('Type of preprocessing : ', type)\n",
    "    print('The shape of data befote preprocessing : ', df_before.shape)\n",
    "    \n",
    "    # 컬럼명을 모두 대문자로 변환\n",
    "    df_before.columns = [col.upper() for col in df_before.columns]\n",
    "    print(df_before.columns)\n",
    "    \n",
    "    # 컬럼의 데이터형 통일\n",
    "    col_type = {'MOLD_POS':'int',\n",
    "                'REAL_POWER':'float32',\n",
    "                'OUT_RADIUS':'float32',\n",
    "                'IN_RADIUS':'float32', \n",
    "                'POWER':'float32',\n",
    "                'POWER1':'float32',\n",
    "                'POWER2':'float32',\n",
    "                'POWER3':'float32',\n",
    "                'POWER4':'float32',\n",
    "                'POWER5':'float32'}\n",
    "    \n",
    "    df_after = df_before.astype(col_type) \n",
    "    \n",
    "    # 'MFG_DT' 시간을 datetime형으로 변환\n",
    "    df_after['MFG_DT'] = pd.to_datetime(df_after['MFG_DT'])\n",
    "    \n",
    "    # 부호 삭제\n",
    "    df_after['IN_RADIUS'] = abs(df_after['IN_RADIUS'])\n",
    "    df_after['OUT_RADIUS'] = abs(df_after['OUT_RADIUS'])    \n",
    "    \n",
    "    # 'CORES' 값을 대문자로 변환\n",
    "    df_after[CORES] = df_after[CORES].applymap(lambda x : x.upper())\n",
    "    \n",
    "    print('The shape of data after preprocessing : ', df_after.shape)\n",
    "    \n",
    "    return df_after"
   ]
  },
  {
   "cell_type": "markdown",
   "id": "50ea4d0f",
   "metadata": {},
   "source": [
    "- apply()\n",
    "    \n",
    "    - 이 메서드는 데이터프레임의 열(axis=0) 또는 행(axis=1)에 함수를 적용\n",
    "\n",
    "    - 함수는 시리즈(열 또는 행)에 적용되며, 이를 통해 행 또는 열 단위로 복잡한 연산을 수행할 수 있다\n",
    "           \n",
    "- applymap()\n",
    "\n",
    "    - 이 메서드는 데이터프레임의 각 원소에 함수를 적용\n",
    "\n",
    "    - 즉, 데이터프레임의 모든 셀에 함수를 적용하여 각 원소를 개별적으로 변환"
   ]
  },
  {
   "cell_type": "markdown",
   "id": "3e232575",
   "metadata": {},
   "source": [
    "<br>\n",
    "\n",
    "지정 날짜 기준 데이터 추출\n",
    "\n",
    "너무 오래된 공정 데이터는 최근의 경향성을 반영하지 못하기 때문에 모델의 정확성을 높이기 위해 2020년 1월 1일 이후 데이터만 분석에 활용"
   ]
  },
  {
   "cell_type": "code",
   "execution_count": 11,
   "id": "dcd2779f",
   "metadata": {
    "ExecuteTime": {
     "end_time": "2024-02-28T15:43:09.900992Z",
     "start_time": "2024-02-28T15:43:09.899441Z"
    }
   },
   "outputs": [],
   "source": [
    "# 지정 날짜 기준 데이터 추출 함수 정의\n",
    "\n",
    "def preprocessing_date(df_before):\n",
    "    type = 'Removing Irrelevant Data in terms of Date'\n",
    "    print('Type of preprocessing : ', type)\n",
    "    print('The shape of data before preprocessing : ', df_before.shape)\n",
    "    \n",
    "    start_date = datetime(2020, 1, 1)\n",
    "    df_after = df_before[df_before['MFG_DT'] >= start_date]\n",
    "    print('The shape of data after preprocessing : ', df_after.shape)\n",
    "    \n",
    "    return df_after"
   ]
  },
  {
   "cell_type": "markdown",
   "id": "97682da5",
   "metadata": {},
   "source": [
    "이상치 처리\n",
    "\n",
    "'WP_VALUE'컬럼은 'POWER1' ~ 'POWER5'의 평균을 도수기준표에 넣어 결정하는 값으로 최종적으로 결정된 도수인 'REAL_POWER'와 일치해야 한다\n",
    "\n",
    "    => 위 조건을 만족하지 않는 데이터 삭제\n",
    "    \n",
    "'IN_RADIUS'와 'OUT_RADIUS'를 기준으로 Isolation Forest알고리즘을 사용해 이상치 제거"
   ]
  },
  {
   "cell_type": "markdown",
   "id": "dd309c76",
   "metadata": {},
   "source": [
    "<br>\n",
    "\n",
    "\n",
    "Isolation Forest는 이상치 탐지(Outlier Detection)를 위한 머신러닝 알고리즘 중 하나입니다. 이 알고리즘은 적은 수의 이상치가 있는 데이터셋에서도 효율적으로 작동하며, 데이터의 차원이 매우 높은 경우에도 잘 작동합니다.\n",
    "\n",
    "Isolation Forest 알고리즘은 다음과 같은 원리로 동작합니다:\n",
    "\n",
    "1. 랜덤 분할: 먼저, Isolation Forest는 데이터를 분할하기 위한 랜덤한 임계값을 선택합니다. 이 임계값은 데이터의 특정 특성에 대한 값 범위를 나누는 역할을 합니다.\n",
    "\n",
    "2. 이상치 탐지: 데이터 포인트가 분할된 후, 이상치는 일반적으로 평균적인 데이터보다 더 적은 분할 단계를 거치게 됩니다. 이는 Isolation Forest가 이상치를 탐지하기 위해 더 적은 분할 단계가 필요하다는 원리에 기반합니다.\n",
    "\n",
    "3. 트리 구성: Isolation Forest는 여러 개의 의사 결정 트리로 구성됩니다. 각 트리는 랜덤하게 선택된 데이터 포인트를 기준으로 데이터를 분할합니다. 이렇게 구성된 트리는 데이터의 분할 패턴을 학습하고, 이상치를 식별하는 데 사용됩니다.\n",
    "\n",
    "4. 이상치 스코어 계산: 각 데이터 포인트에 대해 Isolation Forest는 이를 분할하는 데 필요한 평균적인 분할 단계를 계산합니다. 이 값은 이상치일 가능성을 나타내는 스코어로 사용됩니다. 일반적으로 이 값이 낮을수록 이상치로 간주됩니다.\n",
    "\n",
    "Isolation Forest는 데이터가 고차원이고, 이상치가 적을 때 특히 효과적입니다"
   ]
  },
  {
   "cell_type": "markdown",
   "id": "0dab7dfe",
   "metadata": {},
   "source": [
    "<br>\n",
    "\n",
    "fit_predict() 메서드를 사용\n",
    "\n",
    "fit_predict() 메서드는 데이터를 학습하고 학습된 모델을 사용하여 각 데이터 포인트를 이상치로 분류\n",
    "\n",
    "이상치로 분류된 데이터 포인트는 -1로, 정상적인 데이터 포인트는 1로 레이블\n"
   ]
  },
  {
   "cell_type": "code",
   "execution_count": 13,
   "id": "763b8d43",
   "metadata": {
    "ExecuteTime": {
     "end_time": "2024-02-28T15:43:35.085546Z",
     "start_time": "2024-02-28T15:43:35.075532Z"
    }
   },
   "outputs": [],
   "source": [
    "def preprocessing_outlier(df_before):\n",
    "    type = 'Removing Outlirts'\n",
    "    print('Type of preprocessing : ', type)\n",
    "    print('The shape of data before preprocessing : ', df_before.shape)\n",
    "    \n",
    "    # 조건1 : 'REAL_POWER'값과 'POWER'값이 같은 경우\n",
    "    mask1 = (df_before['REAL_POWER'] == df_before['POWER'])\n",
    "    # 조건2 : 'POWER1' ~ 'POWER5'의 평균과 'POWER'의 오차가 0.5보다 큰 경우\n",
    "    mask2 = abs(np.mean(df_before[POWERS], axis=1) - df_before['POWER']) < 0.5\n",
    "    # 조건1, 조건2를 모두 만족\n",
    "    df_after = df_before[mask1 & mask2]\n",
    "    \n",
    "    # Isolation Forest적용 전의 데이터 시각화\n",
    "    fig = plt.figure(figsize = (16, 16))\n",
    "    ax_before = fig.add_subplot(1, 1, 1)\n",
    "    df_before.plot.scatter(x = 'IN_RADIUS', y = 'OUT_RADIUS', ax = ax_before)\n",
    "    \n",
    "    # Isolation Forest적용 후의 데이터 시각화\n",
    "    res = IsolationForest(random_state = 0).fit_predict(df_after[RADIUS])\n",
    "    df_after = df_after[res == 1]\n",
    "    df_after.plot.scatter(x = 'IN_RADIUS', y = 'OUT_RADIUS', ax = ax_before, color = 'black')\n",
    "    \n",
    "    plt.show()\n",
    "    print('The shape of data after preprocessing : ', df_after.shape)\n",
    "    \n",
    "    return df_after"
   ]
  },
  {
   "cell_type": "markdown",
   "id": "839c8688",
   "metadata": {},
   "source": [
    "데이터 전처리 실행\n",
    "\n",
    "근시(MYOPIA) 데이터만 사용"
   ]
  },
  {
   "cell_type": "code",
   "execution_count": 14,
   "id": "af440dc4",
   "metadata": {
    "ExecuteTime": {
     "end_time": "2024-02-28T15:43:39.707838Z",
     "start_time": "2024-02-28T15:43:39.673722Z"
    }
   },
   "outputs": [],
   "source": [
    "df_raw = df_raw[df_raw['CATEGORY'] == 'MYOPIA']"
   ]
  },
  {
   "cell_type": "code",
   "execution_count": 15,
   "id": "df0a0c69",
   "metadata": {
    "ExecuteTime": {
     "end_time": "2024-02-28T15:43:39.935176Z",
     "start_time": "2024-02-28T15:43:39.709671Z"
    },
    "scrolled": false
   },
   "outputs": [
    {
     "name": "stdout",
     "output_type": "stream",
     "text": [
      "TYPE of preprocessing :  Missing Value\n",
      "The shape of data before preprocessing :  (149367, 20)\n",
      "The shape of data after preprocessing :  (149367, 20)\n"
     ]
    }
   ],
   "source": [
    "# 결측치 처리\n",
    "\n",
    "df_after = preprocessing_missing(df_raw)\n",
    "df_after = df_after.drop(['CP', 'AX'], axis = 1)"
   ]
  },
  {
   "cell_type": "code",
   "execution_count": 16,
   "id": "fcc2cd7b",
   "metadata": {
    "ExecuteTime": {
     "end_time": "2024-02-28T15:43:40.022239Z",
     "start_time": "2024-02-28T15:43:39.935832Z"
    }
   },
   "outputs": [
    {
     "name": "stdout",
     "output_type": "stream",
     "text": [
      "Type of preprocessing :  Data Type Conversion\n",
      "The shape of data befote preprocessing :  (149367, 18)\n",
      "Index(['EQUIP_ID', 'MFG_DT', 'SALE_CD', 'MOLD_POS', 'REAL_POWER',\n",
      "       'MOLD_IN_TOP', 'MOLD_IN_BOT', 'MOLD_OUT_TOP', 'MOLD_OUT_BOT',\n",
      "       'IN_RADIUS', 'OUT_RADIUS', 'POWER', 'POWER1', 'POWER2', 'POWER3',\n",
      "       'POWER4', 'POWER5', 'CATEGORY'],\n",
      "      dtype='object')\n",
      "The shape of data after preprocessing :  (149367, 18)\n"
     ]
    }
   ],
   "source": [
    "# 행변환 처리\n",
    "\n",
    "df_after = preprocessing_conversion(df_after)"
   ]
  },
  {
   "cell_type": "code",
   "execution_count": 17,
   "id": "e252025b",
   "metadata": {
    "ExecuteTime": {
     "end_time": "2024-02-28T15:43:40.032648Z",
     "start_time": "2024-02-28T15:43:40.023395Z"
    }
   },
   "outputs": [
    {
     "name": "stdout",
     "output_type": "stream",
     "text": [
      "Type of preprocessing :  Removing Irrelevant Data in terms of Date\n",
      "The shape of data before preprocessing :  (149367, 18)\n",
      "The shape of data after preprocessing :  (28798, 18)\n"
     ]
    }
   ],
   "source": [
    "# 2020년 이후 데이터 추출\n",
    "\n",
    "df_after = preprocessing_date(df_after)"
   ]
  },
  {
   "cell_type": "code",
   "execution_count": 18,
   "id": "429f2518",
   "metadata": {
    "ExecuteTime": {
     "end_time": "2024-02-28T15:43:40.326754Z",
     "start_time": "2024-02-28T15:43:40.033297Z"
    }
   },
   "outputs": [
    {
     "name": "stdout",
     "output_type": "stream",
     "text": [
      "Type of preprocessing :  Removing Outlirts\n",
      "The shape of data before preprocessing :  (28798, 18)\n"
     ]
    },
    {
     "data": {
      "image/png": "[encoded data removed]",
      "text/plain": [
       "<Figure size 1600x1600 with 1 Axes>"
      ]
     },
     "metadata": {},
     "output_type": "display_data"
    },
    {
     "name": "stdout",
     "output_type": "stream",
     "text": [
      "The shape of data after preprocessing :  (26245, 18)\n"
     ]
    }
   ],
   "source": [
    "# 이상치 처리\n",
    "\n",
    "df_after = preprocessing_outlier(df_after)"
   ]
  },
  {
   "cell_type": "markdown",
   "id": "4566a0a7",
   "metadata": {},
   "source": [
    "전처리 후 데이터셋의 정보 확인"
   ]
  },
  {
   "cell_type": "code",
   "execution_count": 19,
   "id": "9d8e0ad7",
   "metadata": {
    "ExecuteTime": {
     "end_time": "2024-02-28T15:44:09.343836Z",
     "start_time": "2024-02-28T15:44:09.313545Z"
    }
   },
   "outputs": [
    {
     "name": "stdout",
     "output_type": "stream",
     "text": [
      "<class 'pandas.core.frame.DataFrame'>\n",
      "Index: 26245 entries, 0 to 149363\n",
      "Data columns (total 18 columns):\n",
      " #   Column        Non-Null Count  Dtype         \n",
      "---  ------        --------------  -----         \n",
      " 0   EQUIP_ID      26245 non-null  object        \n",
      " 1   MFG_DT        26245 non-null  datetime64[ns]\n",
      " 2   SALE_CD       26245 non-null  object        \n",
      " 3   MOLD_POS      26245 non-null  int64         \n",
      " 4   REAL_POWER    26245 non-null  float32       \n",
      " 5   MOLD_IN_TOP   26245 non-null  object        \n",
      " 6   MOLD_IN_BOT   26245 non-null  object        \n",
      " 7   MOLD_OUT_TOP  26245 non-null  object        \n",
      " 8   MOLD_OUT_BOT  26245 non-null  object        \n",
      " 9   IN_RADIUS     26245 non-null  float32       \n",
      " 10  OUT_RADIUS    26245 non-null  float32       \n",
      " 11  POWER         26245 non-null  float32       \n",
      " 12  POWER1        26245 non-null  float32       \n",
      " 13  POWER2        26245 non-null  float32       \n",
      " 14  POWER3        26245 non-null  float32       \n",
      " 15  POWER4        26245 non-null  float32       \n",
      " 16  POWER5        26245 non-null  float32       \n",
      " 17  CATEGORY      26245 non-null  object        \n",
      "dtypes: datetime64[ns](1), float32(9), int64(1), object(7)\n",
      "memory usage: 2.9+ MB\n"
     ]
    }
   ],
   "source": [
    "df_after.info()"
   ]
  },
  {
   "cell_type": "markdown",
   "id": "fa32bf92",
   "metadata": {},
   "source": [
    "# 데이터 특성 파악"
   ]
  },
  {
   "cell_type": "markdown",
   "id": "812d2913",
   "metadata": {},
   "source": [
    "요약 통계량 확인"
   ]
  },
  {
   "cell_type": "code",
   "execution_count": 20,
   "id": "891fbcaa",
   "metadata": {
    "ExecuteTime": {
     "end_time": "2024-02-28T15:45:07.759322Z",
     "start_time": "2024-02-28T15:45:07.719631Z"
    }
   },
   "outputs": [
    {
     "data": {
      "text/html": [
       "<div>\n",
       "<style scoped>\n",
       "    .dataframe tbody tr th:only-of-type {\n",
       "        vertical-align: middle;\n",
       "    }\n",
       "\n",
       "    .dataframe tbody tr th {\n",
       "        vertical-align: top;\n",
       "    }\n",
       "\n",
       "    .dataframe thead th {\n",
       "        text-align: right;\n",
       "    }\n",
       "</style>\n",
       "<table border=\"1\" class=\"dataframe\">\n",
       "  <thead>\n",
       "    <tr style=\"text-align: right;\">\n",
       "      <th></th>\n",
       "      <th>MFG_DT</th>\n",
       "      <th>MOLD_POS</th>\n",
       "      <th>REAL_POWER</th>\n",
       "      <th>IN_RADIUS</th>\n",
       "      <th>OUT_RADIUS</th>\n",
       "      <th>POWER</th>\n",
       "      <th>POWER1</th>\n",
       "      <th>POWER2</th>\n",
       "      <th>POWER3</th>\n",
       "      <th>POWER4</th>\n",
       "      <th>POWER5</th>\n",
       "    </tr>\n",
       "  </thead>\n",
       "  <tbody>\n",
       "    <tr>\n",
       "      <th>count</th>\n",
       "      <td>26245</td>\n",
       "      <td>26245.000000</td>\n",
       "      <td>26245.000000</td>\n",
       "      <td>26245.000000</td>\n",
       "      <td>26245.000000</td>\n",
       "      <td>26245.000000</td>\n",
       "      <td>26245.000000</td>\n",
       "      <td>26245.000000</td>\n",
       "      <td>26245.000000</td>\n",
       "      <td>26245.000000</td>\n",
       "      <td>26245.000000</td>\n",
       "    </tr>\n",
       "    <tr>\n",
       "      <th>mean</th>\n",
       "      <td>2020-08-19 19:29:56.502191104</td>\n",
       "      <td>4.498457</td>\n",
       "      <td>-3.955049</td>\n",
       "      <td>6.772677</td>\n",
       "      <td>7.485355</td>\n",
       "      <td>-3.955049</td>\n",
       "      <td>-3.949706</td>\n",
       "      <td>-3.957456</td>\n",
       "      <td>-3.965494</td>\n",
       "      <td>-3.975407</td>\n",
       "      <td>-3.988863</td>\n",
       "    </tr>\n",
       "    <tr>\n",
       "      <th>min</th>\n",
       "      <td>2020-01-02 00:00:00</td>\n",
       "      <td>1.000000</td>\n",
       "      <td>-10.000000</td>\n",
       "      <td>6.248300</td>\n",
       "      <td>6.503600</td>\n",
       "      <td>-10.000000</td>\n",
       "      <td>-10.250000</td>\n",
       "      <td>-10.250000</td>\n",
       "      <td>-10.250000</td>\n",
       "      <td>-10.250000</td>\n",
       "      <td>-10.250000</td>\n",
       "    </tr>\n",
       "    <tr>\n",
       "      <th>25%</th>\n",
       "      <td>2020-08-10 00:00:00</td>\n",
       "      <td>2.000000</td>\n",
       "      <td>-5.250000</td>\n",
       "      <td>6.460600</td>\n",
       "      <td>7.068100</td>\n",
       "      <td>-5.250000</td>\n",
       "      <td>-5.250000</td>\n",
       "      <td>-5.250000</td>\n",
       "      <td>-5.250000</td>\n",
       "      <td>-5.370000</td>\n",
       "      <td>-5.370000</td>\n",
       "    </tr>\n",
       "    <tr>\n",
       "      <th>50%</th>\n",
       "      <td>2020-09-19 00:00:00</td>\n",
       "      <td>4.000000</td>\n",
       "      <td>-3.750000</td>\n",
       "      <td>6.490600</td>\n",
       "      <td>7.423000</td>\n",
       "      <td>-3.750000</td>\n",
       "      <td>-3.870000</td>\n",
       "      <td>-3.870000</td>\n",
       "      <td>-3.870000</td>\n",
       "      <td>-3.870000</td>\n",
       "      <td>-3.870000</td>\n",
       "    </tr>\n",
       "    <tr>\n",
       "      <th>75%</th>\n",
       "      <td>2020-10-30 00:00:00</td>\n",
       "      <td>7.000000</td>\n",
       "      <td>-2.500000</td>\n",
       "      <td>7.328500</td>\n",
       "      <td>7.880700</td>\n",
       "      <td>-2.500000</td>\n",
       "      <td>-2.500000</td>\n",
       "      <td>-2.500000</td>\n",
       "      <td>-2.500000</td>\n",
       "      <td>-2.370000</td>\n",
       "      <td>-2.500000</td>\n",
       "    </tr>\n",
       "    <tr>\n",
       "      <th>max</th>\n",
       "      <td>2021-04-25 00:00:00</td>\n",
       "      <td>8.000000</td>\n",
       "      <td>-0.250000</td>\n",
       "      <td>7.405600</td>\n",
       "      <td>8.858800</td>\n",
       "      <td>-0.250000</td>\n",
       "      <td>0.000000</td>\n",
       "      <td>0.000000</td>\n",
       "      <td>0.000000</td>\n",
       "      <td>-0.040000</td>\n",
       "      <td>-0.040000</td>\n",
       "    </tr>\n",
       "    <tr>\n",
       "      <th>std</th>\n",
       "      <td>NaN</td>\n",
       "      <td>2.293268</td>\n",
       "      <td>1.973040</td>\n",
       "      <td>0.436783</td>\n",
       "      <td>0.514336</td>\n",
       "      <td>1.973040</td>\n",
       "      <td>1.978329</td>\n",
       "      <td>1.979559</td>\n",
       "      <td>1.982146</td>\n",
       "      <td>1.985281</td>\n",
       "      <td>1.985402</td>\n",
       "    </tr>\n",
       "  </tbody>\n",
       "</table>\n",
       "</div>"
      ],
      "text/plain": [
       "                              MFG_DT      MOLD_POS    REAL_POWER  \\\n",
       "count                          26245  26245.000000  26245.000000   \n",
       "mean   2020-08-19 19:29:56.502191104      4.498457     -3.955049   \n",
       "min              2020-01-02 00:00:00      1.000000    -10.000000   \n",
       "25%              2020-08-10 00:00:00      2.000000     -5.250000   \n",
       "50%              2020-09-19 00:00:00      4.000000     -3.750000   \n",
       "75%              2020-10-30 00:00:00      7.000000     -2.500000   \n",
       "max              2021-04-25 00:00:00      8.000000     -0.250000   \n",
       "std                              NaN      2.293268      1.973040   \n",
       "\n",
       "          IN_RADIUS    OUT_RADIUS         POWER        POWER1        POWER2  \\\n",
       "count  26245.000000  26245.000000  26245.000000  26245.000000  26245.000000   \n",
       "mean       6.772677      7.485355     -3.955049     -3.949706     -3.957456   \n",
       "min        6.248300      6.503600    -10.000000    -10.250000    -10.250000   \n",
       "25%        6.460600      7.068100     -5.250000     -5.250000     -5.250000   \n",
       "50%        6.490600      7.423000     -3.750000     -3.870000     -3.870000   \n",
       "75%        7.328500      7.880700     -2.500000     -2.500000     -2.500000   \n",
       "max        7.405600      8.858800     -0.250000      0.000000      0.000000   \n",
       "std        0.436783      0.514336      1.973040      1.978329      1.979559   \n",
       "\n",
       "             POWER3        POWER4        POWER5  \n",
       "count  26245.000000  26245.000000  26245.000000  \n",
       "mean      -3.965494     -3.975407     -3.988863  \n",
       "min      -10.250000    -10.250000    -10.250000  \n",
       "25%       -5.250000     -5.370000     -5.370000  \n",
       "50%       -3.870000     -3.870000     -3.870000  \n",
       "75%       -2.500000     -2.370000     -2.500000  \n",
       "max        0.000000     -0.040000     -0.040000  \n",
       "std        1.982146      1.985281      1.985402  "
      ]
     },
     "execution_count": 20,
     "metadata": {},
     "output_type": "execute_result"
    }
   ],
   "source": [
    "df_after.describe()"
   ]
  },
  {
   "cell_type": "markdown",
   "id": "401679dd",
   "metadata": {},
   "source": [
    "상관관계 파악\n",
    "\n",
    "피어슨 상관 계수를 사용\n",
    "\n",
    "피어슨 상관 계수는 -1과 1사이의 값을 가진다\n",
    "\n",
    "절대값이 1에 가까울수록 변수 간의 선형관계가 강하다"
   ]
  },
  {
   "cell_type": "code",
   "execution_count": 33,
   "id": "5d9650f6",
   "metadata": {
    "ExecuteTime": {
     "end_time": "2024-02-28T15:50:17.004906Z",
     "start_time": "2024-02-28T15:50:16.715481Z"
    }
   },
   "outputs": [
    {
     "data": {
      "text/plain": [
       "<Axes: >"
      ]
     },
     "execution_count": 33,
     "metadata": {},
     "output_type": "execute_result"
    },
    {
     "data": {
      "image/png": "[encoded data removed]",
      "text/plain": [
       "<Figure size 2500x2500 with 2 Axes>"
      ]
     },
     "metadata": {},
     "output_type": "display_data"
    }
   ],
   "source": [
    "cols = df_after.describe().columns[1:]\n",
    "\n",
    "plt.subplots(figsize = (25, 25))\n",
    "sns.heatmap(df_after[cols].corr(), annot = True, fmt = '.4f')"
   ]
  },
  {
   "cell_type": "markdown",
   "id": "28c75dbe",
   "metadata": {},
   "source": [
    "# XGBoost 모델 학습"
   ]
  },
  {
   "cell_type": "markdown",
   "id": "7b5c166c",
   "metadata": {},
   "source": [
    "ENCODER는 XGBoost 학습과 예측에 동일한 컬럼을 가진 X 데이터를 생성하기 위해 사용\n",
    "\n",
    "N_ESTIMATORS와 같이 상수를 사용하는 XGBoost 모델 파라미터도 변수로 정의\n",
    "\n",
    "prepare_data는 모델 학습에 필요한 학습 데이터셋과 검증 데이터셋을 생성"
   ]
  },
  {
   "cell_type": "code",
   "execution_count": null,
   "id": "379385ad",
   "metadata": {},
   "outputs": [],
   "source": []
  },
  {
   "cell_type": "code",
   "execution_count": null,
   "id": "e09ca625",
   "metadata": {},
   "outputs": [],
   "source": []
  },
  {
   "cell_type": "code",
   "execution_count": null,
   "id": "770930da",
   "metadata": {},
   "outputs": [],
   "source": []
  },
  {
   "cell_type": "code",
   "execution_count": null,
   "id": "5d645a65",
   "metadata": {},
   "outputs": [],
   "source": []
  },
  {
   "cell_type": "code",
   "execution_count": null,
   "id": "39f1ebbe",
   "metadata": {},
   "outputs": [],
   "source": []
  },
  {
   "cell_type": "code",
   "execution_count": null,
   "id": "cbfa93e8",
   "metadata": {},
   "outputs": [],
   "source": []
  },
  {
   "cell_type": "code",
   "execution_count": null,
   "id": "0b48a53c",
   "metadata": {},
   "outputs": [],
   "source": []
  },
  {
   "cell_type": "code",
   "execution_count": null,
   "id": "72661b61",
   "metadata": {},
   "outputs": [],
   "source": []
  },
  {
   "cell_type": "code",
   "execution_count": null,
   "id": "65db9c12",
   "metadata": {},
   "outputs": [],
   "source": []
  }
 ],
 "metadata": {
  "kernelspec": {
   "display_name": "Python 3 (ipykernel)",
   "language": "python",
   "name": "python3"
  },
  "language_info": {
   "codemirror_mode": {
    "name": "ipython",
    "version": 3
   },
   "file_extension": ".py",
   "mimetype": "text/x-python",
   "name": "python",
   "nbconvert_exporter": "python",
   "pygments_lexer": "ipython3",
   "version": "3.11.5"
  },
  "toc": {
   "base_numbering": 1,
   "nav_menu": {},
   "number_sections": true,
   "sideBar": true,
   "skip_h1_title": false,
   "title_cell": "Table of Contents",
   "title_sidebar": "Contents",
   "toc_cell": false,
   "toc_position": {
    "height": "calc(100% - 180px)",
    "left": "10px",
    "top": "150px",
    "width": "165px"
   },
   "toc_section_display": true,
   "toc_window_display": false
  }
 },
 "nbformat": 4,
 "nbformat_minor": 5
}
