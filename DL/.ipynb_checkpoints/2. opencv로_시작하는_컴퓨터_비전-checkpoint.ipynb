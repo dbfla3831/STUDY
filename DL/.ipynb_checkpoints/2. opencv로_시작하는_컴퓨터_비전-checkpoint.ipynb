{
 "cells": [
  {
   "cell_type": "markdown",
   "id": "25060371",
   "metadata": {},
   "source": [
    "# 영상을 읽고 표시하기"
   ]
  },
  {
   "cell_type": "markdown",
   "id": "28f106f7",
   "metadata": {},
   "source": [
    "## 영상 파일을 읽고 윈도우에 디스플레이하기"
   ]
  },
  {
   "cell_type": "code",
   "execution_count": 1,
   "id": "5a0cb8f3",
   "metadata": {
    "ExecuteTime": {
     "end_time": "2024-01-29T08:06:44.580093Z",
     "start_time": "2024-01-29T08:06:44.577181Z"
    }
   },
   "outputs": [],
   "source": [
    "# !pip install opencv-python"
   ]
  },
  {
   "cell_type": "code",
   "execution_count": 4,
   "id": "8e2297da",
   "metadata": {
    "ExecuteTime": {
     "end_time": "2024-01-30T06:58:15.274839Z",
     "start_time": "2024-01-30T06:58:05.006219Z"
    }
   },
   "outputs": [],
   "source": [
    "import cv2 as cv\n",
    "import sys\n",
    "\n",
    "img = cv.imread('./data/ch2/soccer.jpg') # 사진 읽기\n",
    "\n",
    "if img is None:\n",
    "    sys.exit('파일을 찾을 수 없습니다') # exit : 오류 메시지를 출력하고 프로그램 종료\n",
    "\n",
    "cv.imshow('Image Display', img) # 처음은 윈도우의 이름, 윈도우에 사진 표시\n",
    "cv.waitKey() # 키보드의 키가 눌릴 때까지 기다리다, 키가 눌리면 해당 키의 유니코드 값을 반환\n",
    "cv.destroyAllWindows() # 모든 윈도우 닫기"
   ]
  },
  {
   "cell_type": "markdown",
   "id": "158206df",
   "metadata": {},
   "source": [
    "## OpenCV에서 영상은 numpy.ndarray 클래스 형의 객체"
   ]
  },
  {
   "cell_type": "markdown",
   "id": "16aed58d",
   "metadata": {},
   "source": [
    "3개의 채널을 앞쪽부터 blue, green, red에 해당"
   ]
  },
  {
   "cell_type": "code",
   "execution_count": 2,
   "id": "c24621e9",
   "metadata": {
    "ExecuteTime": {
     "end_time": "2024-01-30T06:52:38.191933Z",
     "start_time": "2024-01-30T06:52:38.185112Z"
    }
   },
   "outputs": [
    {
     "data": {
      "text/plain": [
       "(948, 1434, 3)"
      ]
     },
     "execution_count": 2,
     "metadata": {},
     "output_type": "execute_result"
    }
   ],
   "source": [
    "type(img)\n",
    "img.shape # 3차원 배열 -> 948행과 1434열을 가진 채널 3개로 구성"
   ]
  },
  {
   "cell_type": "markdown",
   "id": "44783df2",
   "metadata": {},
   "source": [
    "화소값을 조사"
   ]
  },
  {
   "cell_type": "code",
   "execution_count": 3,
   "id": "9f242056",
   "metadata": {
    "ExecuteTime": {
     "end_time": "2024-01-30T06:52:52.898539Z",
     "start_time": "2024-01-30T06:52:52.894540Z"
    }
   },
   "outputs": [
    {
     "name": "stdout",
     "output_type": "stream",
     "text": [
      "B :  162 G :  104 R :  98\n",
      "B :  163 G :  105 R :  99\n"
     ]
    }
   ],
   "source": [
    "print('B : ', img[0, 0, 0], 'G : ', img[0, 0, 1], 'R : ', img[0, 0, 2]) # (0, 0)화소 조사\n",
    "print('B : ', img[0, 1, 0], 'G : ', img[0, 1, 1], 'R : ', img[0, 1, 2]) # (0, 1)화소 조사"
   ]
  },
  {
   "cell_type": "markdown",
   "id": "2deb93e1",
   "metadata": {},
   "source": [
    "# 영상 형태 변환하고 크기 축소하기"
   ]
  },
  {
   "cell_type": "markdown",
   "id": "a0707fb4",
   "metadata": {},
   "source": [
    "## 영상을 명암 영상으로 변환하고 반으로 축소하기"
   ]
  },
  {
   "cell_type": "code",
   "execution_count": 10,
   "id": "fd37498a",
   "metadata": {
    "ExecuteTime": {
     "end_time": "2024-01-30T07:14:47.641875Z",
     "start_time": "2024-01-30T07:14:44.215920Z"
    }
   },
   "outputs": [],
   "source": [
    "import cv2 as cv\n",
    "import sys\n",
    "\n",
    "img = cv.imread('./data/ch2/soccer.jpg')\n",
    "\n",
    "if img is None:\n",
    "    sys.exit('파일을 찾을 수 없습니다')\n",
    "    \n",
    "gray = cv.cvtColor(img, cv.COLOR_BGR2GRAY) # BGR 컬러 영상을 명암 영상으로 변환\n",
    "gray_small = cv.resize(gray, dsize = (0, 0), fx = 0.5, fy = 0.5) # 반으로 축소\n",
    "# dsize는 결과 영상 크키, 0일 경우 fx와 fy로 지정한다(fx, fy는 비율)\n",
    "\n",
    "# cv.imwrite('soccer_gray.jpg', gray) # 이미지를 현재 폴더에 저장('이름', 사진)\n",
    "\n",
    "cv.imshow('Color image', img)\n",
    "cv.imshow('Gray image', gray)\n",
    "cv.imshow('Gray image small', gray_small)\n",
    "\n",
    "cv.waitKey()\n",
    "cv.destroyAllWindows() # 한 번에 모든 윈도우 창을 닫아라"
   ]
  },
  {
   "cell_type": "markdown",
   "id": "341b2568",
   "metadata": {},
   "source": [
    "# 그래픽 기능과 사용자 인터페이스 만들기"
   ]
  },
  {
   "cell_type": "markdown",
   "id": "c3e3a52c",
   "metadata": {},
   "source": [
    "## 영상에 도형을 그리고 글씨 쓰기"
   ]
  },
  {
   "cell_type": "code",
   "execution_count": 4,
   "id": "9bf887a6",
   "metadata": {
    "ExecuteTime": {
     "end_time": "2024-01-30T07:27:03.977603Z",
     "start_time": "2024-01-30T07:27:00.482524Z"
    }
   },
   "outputs": [],
   "source": [
    "import cv2 as cv\n",
    "import sys\n",
    "\n",
    "img = cv.imread('./data/ch2/girl_laughing.jpg')\n",
    "\n",
    "if img is None:\n",
    "    sys.exit('파일을 찾을 수 없습니다')\n",
    "    \n",
    "cv.rectangle(img, (830, 30), (1000, 200), (0, 0, 255), 2) # 직사각형 그리기(이미지, (왼쪽 위), (오른쪽 아래), (색), 선의 두께)\n",
    "cv.putText(img, 'laugh', (830, 24), cv.FONT_HERSHEY_SIMPLEX, 1, (255, 0, 0), 2) # 글씨 쓰기(영상, 문자열, (문자열 왼쪽 아래 구석점 위치), 폰트 종류, 글자 크기, (색), 글자 두께)\n",
    "\n",
    "cv.imshow('Draw', img)\n",
    "\n",
    "cv.waitKey()\n",
    "cv.destroyAllWindows()"
   ]
  },
  {
   "cell_type": "markdown",
   "id": "52ae7a5a",
   "metadata": {},
   "source": [
    "## 마우스를 통한 상호작용"
   ]
  },
  {
   "cell_type": "markdown",
   "id": "3975f54d",
   "metadata": {},
   "source": [
    "왼쪽 버튼을 클릭하면 크기가 200 X 200인 빨간색 직사각형을 그리고, 오른쪽 버튼을 클릭하면 크기가 100 X 100인 파란색 직사각형을 그린다"
   ]
  },
  {
   "cell_type": "code",
   "execution_count": 8,
   "id": "9350d822",
   "metadata": {
    "ExecuteTime": {
     "end_time": "2024-01-30T07:52:49.158782Z",
     "start_time": "2024-01-30T07:52:45.662314Z"
    }
   },
   "outputs": [],
   "source": [
    "import cv2 as cv\n",
    "import sys\n",
    "\n",
    "img = cv.imread('./data/ch2/girl_laughing.jpg')\n",
    "\n",
    "if img is None:\n",
    "    sys.exit('파일을 찾을 수 없습니다')\n",
    "    \n",
    "def draw(event, x, y, flags, param): # 콜백함수\n",
    "    if event == cv.EVENT_LBUTTONDOWN: # 마우스 왼쪽 버튼 클릭했을 때\n",
    "        cv.rectangle(img, (x, y), (x + 200, y + 200), (0, 0, 255), 2)\n",
    "\n",
    "    elif event == cv.EVENT_RBUTTONDOWN: # 마우스 오른쪽 버튼 클릭했을 때\n",
    "        cv.rectangle(img, (x, y), (x + 100, y + 100), (255, 0, 0), 2)\n",
    "    \n",
    "    cv.imshow('Drawing', img)\n",
    "    \n",
    "    \n",
    "cv.namedWindow('Drawing') # 윈도우 생성\n",
    "cv.imshow('Drawing', img)\n",
    "\n",
    "cv.setMouseCallback('Drawing', draw) # Drawing 윈도우에 draw 콜백 함수 지정\n",
    "\n",
    "while(True): # 마우스 이벤트가 언제 발생할지 모르므로 무한 반복\n",
    "    if cv.waitKey(1) == ord('q'):\n",
    "        cv.destroyAllWindows()\n",
    "        break"
   ]
  },
  {
   "cell_type": "markdown",
   "id": "82306673",
   "metadata": {},
   "source": [
    "=> 이 코드는 이미지 윈도우가 열리고, 사용자가 마우스를 클릭하면 콜백 함수인 draw가 호출되어 이미지에 사각형을 그린다\n",
    "\n",
    "=> 이벤트 루프(while(True))는 마우스 이벤트를 기다리며, 사용자가 'q' 키를 누르면 윈도우를 닫고 프로그램을 종료"
   ]
  },
  {
   "cell_type": "markdown",
   "id": "6a4e18fd",
   "metadata": {},
   "source": [
    "## 마우스 드래그로 도형 크기 조절하기"
   ]
  },
  {
   "cell_type": "code",
   "execution_count": 10,
   "id": "cae5f0ea",
   "metadata": {
    "ExecuteTime": {
     "end_time": "2024-01-30T07:57:11.456549Z",
     "start_time": "2024-01-30T07:57:07.260246Z"
    }
   },
   "outputs": [],
   "source": [
    "import cv2 as cv\n",
    "import sys\n",
    "\n",
    "img = cv.imread('./data/ch2/girl_laughing.jpg')\n",
    "\n",
    "if img is None:\n",
    "    sys.exit('파일을 찾을 수 없습니다')\n",
    "    \n",
    "def draw(event, x, y, flags, param): # 콜백함수\n",
    "    global ix, iy\n",
    "    \n",
    "    if event == cv.EVENT_LBUTTONDOWN: # 마우스 왼쪽 버튼 클릭했을 때 초기 위치 저장\n",
    "        ix, iy = x, y\n",
    "\n",
    "    elif event == cv.EVENT_RBUTTONDOWN: # 마우스 오른쪽 버튼 클릭했을 때 직사각형 그리기\n",
    "        cv.rectangle(img, (ix, iy), (x, y), (0, 0, 255), 2)\n",
    "    \n",
    "    cv.imshow('Drawing', img)\n",
    "    \n",
    "    \n",
    "cv.namedWindow('Drawing') # 윈도우 생성\n",
    "cv.imshow('Drawing', img)\n",
    "\n",
    "cv.setMouseCallback('Drawing', draw) # Drawing 윈도우에 draw 콜백 함수 지정\n",
    "\n",
    "while(True): # 마우스 이벤트가 언제 발생할지 모르므로 무한 반복\n",
    "    if cv.waitKey(1) == ord('q'):\n",
    "        cv.destroyAllWindows()\n",
    "        break"
   ]
  },
  {
   "cell_type": "code",
   "execution_count": null,
   "id": "6f5c04f3",
   "metadata": {},
   "outputs": [],
   "source": []
  },
  {
   "cell_type": "code",
   "execution_count": null,
   "id": "79a8647d",
   "metadata": {},
   "outputs": [],
   "source": []
  },
  {
   "cell_type": "code",
   "execution_count": null,
   "id": "04008867",
   "metadata": {},
   "outputs": [],
   "source": []
  }
 ],
 "metadata": {
  "kernelspec": {
   "display_name": "Python 3 (ipykernel)",
   "language": "python",
   "name": "python3"
  },
  "language_info": {
   "codemirror_mode": {
    "name": "ipython",
    "version": 3
   },
   "file_extension": ".py",
   "mimetype": "text/x-python",
   "name": "python",
   "nbconvert_exporter": "python",
   "pygments_lexer": "ipython3",
   "version": "3.11.5"
  },
  "toc": {
   "base_numbering": 1,
   "nav_menu": {},
   "number_sections": true,
   "sideBar": true,
   "skip_h1_title": false,
   "title_cell": "Table of Contents",
   "title_sidebar": "Contents",
   "toc_cell": false,
   "toc_position": {
    "height": "calc(100% - 180px)",
    "left": "10px",
    "top": "150px",
    "width": "262.951px"
   },
   "toc_section_display": true,
   "toc_window_display": true
  }
 },
 "nbformat": 4,
 "nbformat_minor": 5
}
